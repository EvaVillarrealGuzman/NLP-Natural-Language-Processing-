{
 "cells": [
  {
   "cell_type": "markdown",
   "metadata": {
    "colab_type": "text",
    "id": "Qp6Jzx49W_ta"
   },
   "source": [
    "# Descriptive analysis\n",
    "\n",
    "- Combining whole dataset\n",
    "- Delete any null\n",
    "- Make labeling for companies + sentiments\n",
    "- Define BR, RR and make their analysis"
   ]
  },
  {
   "cell_type": "code",
   "execution_count": 1,
   "metadata": {
    "colab": {},
    "colab_type": "code",
    "id": "4V11g1goXDyF"
   },
   "outputs": [],
   "source": [
    "import warnings\n",
    "warnings.filterwarnings('ignore')\n",
    "import pandas as pd"
   ]
  },
  {
   "cell_type": "code",
   "execution_count": 2,
   "metadata": {
    "colab": {
     "base_uri": "https://localhost:8080/",
     "height": 34
    },
    "colab_type": "code",
    "id": "8VXLUoaCXPlB",
    "outputId": "ec4e244f-ab98-4699-dd13-1f542624bb3a"
   },
   "outputs": [
    {
     "name": "stdout",
     "output_type": "stream",
     "text": [
      "Populating the interactive namespace from numpy and matplotlib\n"
     ]
    }
   ],
   "source": [
    "# Visualization \n",
    "import matplotlib.pyplot as plt\n",
    "import seaborn as sns\n",
    "from pprint import pprint\n",
    "%matplotlib inline\n",
    "%pylab inline"
   ]
  },
  {
   "cell_type": "code",
   "execution_count": 4,
   "metadata": {
    "colab": {
     "base_uri": "https://localhost:8080/",
     "height": 34
    },
    "colab_type": "code",
    "id": "lo6xgI9uXZxj",
    "outputId": "7537abf1-93a6-4314-a157-5e7b2ed89c20"
   },
   "outputs": [],
   "source": [
    "import pickle\n",
    "#Loading from firm cleaned file\n",
    "df = pd.read_pickle('descript.pkl')\n",
    "df=df.drop(index=0,axis=0)"
   ]
  },
  {
   "cell_type": "code",
   "execution_count": 5,
   "metadata": {
    "colab": {
     "base_uri": "https://localhost:8080/",
     "height": 195
    },
    "colab_type": "code",
    "id": "FTOu9B8UY5Ns",
    "outputId": "0cb60cfc-4a38-4a39-a390-cfd2aa5a13ab"
   },
   "outputs": [
    {
     "data": {
      "text/html": [
       "<div>\n",
       "<style scoped>\n",
       "    .dataframe tbody tr th:only-of-type {\n",
       "        vertical-align: middle;\n",
       "    }\n",
       "\n",
       "    .dataframe tbody tr th {\n",
       "        vertical-align: top;\n",
       "    }\n",
       "\n",
       "    .dataframe thead th {\n",
       "        text-align: right;\n",
       "    }\n",
       "</style>\n",
       "<table border=\"1\" class=\"dataframe\">\n",
       "  <thead>\n",
       "    <tr style=\"text-align: right;\">\n",
       "      <th></th>\n",
       "      <th>TEXT</th>\n",
       "      <th>Sentiments</th>\n",
       "      <th>sentiment_labels</th>\n",
       "    </tr>\n",
       "  </thead>\n",
       "  <tbody>\n",
       "    <tr>\n",
       "      <th>1</th>\n",
       "      <td>Another reason I failed in love is I'm poor,I ...</td>\n",
       "      <td>1</td>\n",
       "      <td>Beneficial</td>\n",
       "    </tr>\n",
       "    <tr>\n",
       "      <th>2</th>\n",
       "      <td>2019 Mercedes-Benz C 300 and AMG C 43 First Dr...</td>\n",
       "      <td>2</td>\n",
       "      <td>Neutral</td>\n",
       "    </tr>\n",
       "    <tr>\n",
       "      <th>3</th>\n",
       "      <td>Happy birthday to the Audi chasing maniac, hop...</td>\n",
       "      <td>1</td>\n",
       "      <td>Beneficial</td>\n",
       "    </tr>\n",
       "    <tr>\n",
       "      <th>4</th>\n",
       "      <td>Come see Mercedes Benz stadium in Atlanta...</td>\n",
       "      <td>2</td>\n",
       "      <td>Neutral</td>\n",
       "    </tr>\n",
       "    <tr>\n",
       "      <th>5</th>\n",
       "      <td>Italy took Cristiano and ever since then they’...</td>\n",
       "      <td>2</td>\n",
       "      <td>Neutral</td>\n",
       "    </tr>\n",
       "  </tbody>\n",
       "</table>\n",
       "</div>"
      ],
      "text/plain": [
       "                                                TEXT  Sentiments  \\\n",
       "1  Another reason I failed in love is I'm poor,I ...           1   \n",
       "2  2019 Mercedes-Benz C 300 and AMG C 43 First Dr...           2   \n",
       "3  Happy birthday to the Audi chasing maniac, hop...           1   \n",
       "4       Come see Mercedes Benz stadium in Atlanta...           2   \n",
       "5  Italy took Cristiano and ever since then they’...           2   \n",
       "\n",
       "  sentiment_labels  \n",
       "1       Beneficial  \n",
       "2          Neutral  \n",
       "3       Beneficial  \n",
       "4          Neutral  \n",
       "5          Neutral  "
      ]
     },
     "execution_count": 5,
     "metadata": {},
     "output_type": "execute_result"
    }
   ],
   "source": [
    "df.head()"
   ]
  },
  {
   "cell_type": "code",
   "execution_count": 6,
   "metadata": {},
   "outputs": [
    {
     "data": {
      "text/plain": [
       "(455727, 8)"
      ]
     },
     "execution_count": 6,
     "metadata": {},
     "output_type": "execute_result"
    }
   ],
   "source": [
    "df2 = pd.read_csv('tweets.csv', delimiter='\\t', header=None,names=['TWEET ID','TIMESTAMP','UTC DATE','USER ID','SCREEN NAME','NAME','Q','TEXT'])\n",
    "df2=df2.drop(index=0,axis=0)\n",
    "df2.shape"
   ]
  },
  {
   "cell_type": "code",
   "execution_count": 7,
   "metadata": {},
   "outputs": [
    {
     "data": {
      "text/html": [
       "<div>\n",
       "<style scoped>\n",
       "    .dataframe tbody tr th:only-of-type {\n",
       "        vertical-align: middle;\n",
       "    }\n",
       "\n",
       "    .dataframe tbody tr th {\n",
       "        vertical-align: top;\n",
       "    }\n",
       "\n",
       "    .dataframe thead th {\n",
       "        text-align: right;\n",
       "    }\n",
       "</style>\n",
       "<table border=\"1\" class=\"dataframe\">\n",
       "  <thead>\n",
       "    <tr style=\"text-align: right;\">\n",
       "      <th></th>\n",
       "      <th>TWEET ID</th>\n",
       "      <th>TIMESTAMP</th>\n",
       "      <th>UTC DATE</th>\n",
       "      <th>USER ID</th>\n",
       "      <th>SCREEN NAME</th>\n",
       "      <th>NAME</th>\n",
       "      <th>Q</th>\n",
       "      <th>TEXT</th>\n",
       "    </tr>\n",
       "  </thead>\n",
       "  <tbody>\n",
       "    <tr>\n",
       "      <th>1</th>\n",
       "      <td>1024432968759214081</td>\n",
       "      <td>1533078827</td>\n",
       "      <td>2018-07-31 23:13:47</td>\n",
       "      <td>449700739</td>\n",
       "      <td>JamesCageWhite</td>\n",
       "      <td>jameswhite</td>\n",
       "      <td>Q3</td>\n",
       "      <td>Another reason I failed in love is I'm poor,I ...</td>\n",
       "    </tr>\n",
       "    <tr>\n",
       "      <th>2</th>\n",
       "      <td>1024437049666031616</td>\n",
       "      <td>1533079800</td>\n",
       "      <td>2018-07-31 23:30:00</td>\n",
       "      <td>16665516</td>\n",
       "      <td>therealautoblog</td>\n",
       "      <td>Autoblog</td>\n",
       "      <td>Q3</td>\n",
       "      <td>2019 Mercedes-Benz C 300 and AMG C 43 First Dr...</td>\n",
       "    </tr>\n",
       "    <tr>\n",
       "      <th>3</th>\n",
       "      <td>1024427674301865985</td>\n",
       "      <td>1533077565</td>\n",
       "      <td>2018-07-31 22:52:45</td>\n",
       "      <td>505065987</td>\n",
       "      <td>Outridge__84</td>\n",
       "      <td>Outridge</td>\n",
       "      <td>Q3</td>\n",
       "      <td>Happy birthday to the Audi chasing maniac, hop...</td>\n",
       "    </tr>\n",
       "    <tr>\n",
       "      <th>4</th>\n",
       "      <td>1024430109552508929</td>\n",
       "      <td>1533078145</td>\n",
       "      <td>2018-07-31 23:02:25</td>\n",
       "      <td>14785774</td>\n",
       "      <td>madkins1868</td>\n",
       "      <td>madkins1868</td>\n",
       "      <td>Q3</td>\n",
       "      <td>Come see Mercedes Benz stadium in Atlanta...</td>\n",
       "    </tr>\n",
       "    <tr>\n",
       "      <th>5</th>\n",
       "      <td>1024427799724130305</td>\n",
       "      <td>1533077595</td>\n",
       "      <td>2018-07-31 22:53:15</td>\n",
       "      <td>2406773050</td>\n",
       "      <td>Asensiazo</td>\n",
       "      <td>Rez</td>\n",
       "      <td>Q3</td>\n",
       "      <td>Italy took Cristiano and ever since then they’...</td>\n",
       "    </tr>\n",
       "  </tbody>\n",
       "</table>\n",
       "</div>"
      ],
      "text/plain": [
       "              TWEET ID   TIMESTAMP             UTC DATE     USER ID  \\\n",
       "1  1024432968759214081  1533078827  2018-07-31 23:13:47   449700739   \n",
       "2  1024437049666031616  1533079800  2018-07-31 23:30:00    16665516   \n",
       "3  1024427674301865985  1533077565  2018-07-31 22:52:45   505065987   \n",
       "4  1024430109552508929  1533078145  2018-07-31 23:02:25    14785774   \n",
       "5  1024427799724130305  1533077595  2018-07-31 22:53:15  2406773050   \n",
       "\n",
       "       SCREEN NAME         NAME   Q  \\\n",
       "1   JamesCageWhite   jameswhite  Q3   \n",
       "2  therealautoblog     Autoblog  Q3   \n",
       "3     Outridge__84     Outridge  Q3   \n",
       "4      madkins1868  madkins1868  Q3   \n",
       "5        Asensiazo          Rez  Q3   \n",
       "\n",
       "                                                TEXT  \n",
       "1  Another reason I failed in love is I'm poor,I ...  \n",
       "2  2019 Mercedes-Benz C 300 and AMG C 43 First Dr...  \n",
       "3  Happy birthday to the Audi chasing maniac, hop...  \n",
       "4       Come see Mercedes Benz stadium in Atlanta...  \n",
       "5  Italy took Cristiano and ever since then they’...  "
      ]
     },
     "execution_count": 7,
     "metadata": {},
     "output_type": "execute_result"
    }
   ],
   "source": [
    "df2.head()"
   ]
  },
  {
   "cell_type": "code",
   "execution_count": 9,
   "metadata": {},
   "outputs": [
    {
     "data": {
      "text/html": [
       "<div>\n",
       "<style scoped>\n",
       "    .dataframe tbody tr th:only-of-type {\n",
       "        vertical-align: middle;\n",
       "    }\n",
       "\n",
       "    .dataframe tbody tr th {\n",
       "        vertical-align: top;\n",
       "    }\n",
       "\n",
       "    .dataframe thead th {\n",
       "        text-align: right;\n",
       "    }\n",
       "</style>\n",
       "<table border=\"1\" class=\"dataframe\">\n",
       "  <thead>\n",
       "    <tr style=\"text-align: right;\">\n",
       "      <th></th>\n",
       "      <th>TWEET ID</th>\n",
       "      <th>TIMESTAMP</th>\n",
       "      <th>UTC DATE</th>\n",
       "      <th>USER ID</th>\n",
       "      <th>SCREEN NAME</th>\n",
       "      <th>NAME</th>\n",
       "      <th>Q</th>\n",
       "      <th>TEXT</th>\n",
       "    </tr>\n",
       "  </thead>\n",
       "  <tbody>\n",
       "    <tr>\n",
       "      <th>1</th>\n",
       "      <td>1024432968759214081</td>\n",
       "      <td>1533078827</td>\n",
       "      <td>2018-07-31 23:13:47</td>\n",
       "      <td>449700739</td>\n",
       "      <td>JamesCageWhite</td>\n",
       "      <td>jameswhite</td>\n",
       "      <td>Q3</td>\n",
       "      <td>Another reason I failed in love is I'm poor,I ...</td>\n",
       "    </tr>\n",
       "    <tr>\n",
       "      <th>2</th>\n",
       "      <td>1024437049666031616</td>\n",
       "      <td>1533079800</td>\n",
       "      <td>2018-07-31 23:30:00</td>\n",
       "      <td>16665516</td>\n",
       "      <td>therealautoblog</td>\n",
       "      <td>Autoblog</td>\n",
       "      <td>Q3</td>\n",
       "      <td>2019 Mercedes-Benz C 300 and AMG C 43 First Dr...</td>\n",
       "    </tr>\n",
       "    <tr>\n",
       "      <th>3</th>\n",
       "      <td>1024427674301865985</td>\n",
       "      <td>1533077565</td>\n",
       "      <td>2018-07-31 22:52:45</td>\n",
       "      <td>505065987</td>\n",
       "      <td>Outridge__84</td>\n",
       "      <td>Outridge</td>\n",
       "      <td>Q3</td>\n",
       "      <td>Happy birthday to the Audi chasing maniac, hop...</td>\n",
       "    </tr>\n",
       "    <tr>\n",
       "      <th>4</th>\n",
       "      <td>1024430109552508929</td>\n",
       "      <td>1533078145</td>\n",
       "      <td>2018-07-31 23:02:25</td>\n",
       "      <td>14785774</td>\n",
       "      <td>madkins1868</td>\n",
       "      <td>madkins1868</td>\n",
       "      <td>Q3</td>\n",
       "      <td>Come see Mercedes Benz stadium in Atlanta...</td>\n",
       "    </tr>\n",
       "    <tr>\n",
       "      <th>5</th>\n",
       "      <td>1024427799724130305</td>\n",
       "      <td>1533077595</td>\n",
       "      <td>2018-07-31 22:53:15</td>\n",
       "      <td>2406773050</td>\n",
       "      <td>Asensiazo</td>\n",
       "      <td>Rez</td>\n",
       "      <td>Q3</td>\n",
       "      <td>Italy took Cristiano and ever since then they’...</td>\n",
       "    </tr>\n",
       "  </tbody>\n",
       "</table>\n",
       "</div>"
      ],
      "text/plain": [
       "              TWEET ID   TIMESTAMP             UTC DATE     USER ID  \\\n",
       "1  1024432968759214081  1533078827  2018-07-31 23:13:47   449700739   \n",
       "2  1024437049666031616  1533079800  2018-07-31 23:30:00    16665516   \n",
       "3  1024427674301865985  1533077565  2018-07-31 22:52:45   505065987   \n",
       "4  1024430109552508929  1533078145  2018-07-31 23:02:25    14785774   \n",
       "5  1024427799724130305  1533077595  2018-07-31 22:53:15  2406773050   \n",
       "\n",
       "       SCREEN NAME         NAME   Q  \\\n",
       "1   JamesCageWhite   jameswhite  Q3   \n",
       "2  therealautoblog     Autoblog  Q3   \n",
       "3     Outridge__84     Outridge  Q3   \n",
       "4      madkins1868  madkins1868  Q3   \n",
       "5        Asensiazo          Rez  Q3   \n",
       "\n",
       "                                                TEXT  \n",
       "1  Another reason I failed in love is I'm poor,I ...  \n",
       "2  2019 Mercedes-Benz C 300 and AMG C 43 First Dr...  \n",
       "3  Happy birthday to the Audi chasing maniac, hop...  \n",
       "4       Come see Mercedes Benz stadium in Atlanta...  \n",
       "5  Italy took Cristiano and ever since then they’...  "
      ]
     },
     "execution_count": 9,
     "metadata": {},
     "output_type": "execute_result"
    }
   ],
   "source": [
    "df2.head()"
   ]
  },
  {
   "cell_type": "code",
   "execution_count": 10,
   "metadata": {},
   "outputs": [
    {
     "data": {
      "text/plain": [
       "(455727, 8)"
      ]
     },
     "execution_count": 10,
     "metadata": {},
     "output_type": "execute_result"
    }
   ],
   "source": [
    "df2.shape"
   ]
  },
  {
   "cell_type": "code",
   "execution_count": 11,
   "metadata": {},
   "outputs": [],
   "source": [
    "df[['ID','timestamp','User_ID','Date','Q']]=df2[['TWEET ID','TIMESTAMP','USER ID','UTC DATE','Q']]"
   ]
  },
  {
   "cell_type": "markdown",
   "metadata": {},
   "source": [
    "**Code for encoding**"
   ]
  },
  {
   "cell_type": "code",
   "execution_count": null,
   "metadata": {},
   "outputs": [],
   "source": [
    "# df['labels'] = df.sent_numeric.map({'Risky':0, 'Beneficial':1, 'Neutral':2})"
   ]
  },
  {
   "cell_type": "code",
   "execution_count": 12,
   "metadata": {},
   "outputs": [
    {
     "data": {
      "text/plain": [
       "(455727, 8)"
      ]
     },
     "execution_count": 12,
     "metadata": {},
     "output_type": "execute_result"
    }
   ],
   "source": [
    "df.shape"
   ]
  },
  {
   "cell_type": "code",
   "execution_count": 13,
   "metadata": {},
   "outputs": [
    {
     "data": {
      "text/html": [
       "<div>\n",
       "<style scoped>\n",
       "    .dataframe tbody tr th:only-of-type {\n",
       "        vertical-align: middle;\n",
       "    }\n",
       "\n",
       "    .dataframe tbody tr th {\n",
       "        vertical-align: top;\n",
       "    }\n",
       "\n",
       "    .dataframe thead th {\n",
       "        text-align: right;\n",
       "    }\n",
       "</style>\n",
       "<table border=\"1\" class=\"dataframe\">\n",
       "  <thead>\n",
       "    <tr style=\"text-align: right;\">\n",
       "      <th></th>\n",
       "      <th>TEXT</th>\n",
       "      <th>Sentiments</th>\n",
       "      <th>sentiment_labels</th>\n",
       "      <th>ID</th>\n",
       "      <th>timestamp</th>\n",
       "      <th>User_ID</th>\n",
       "      <th>Date</th>\n",
       "      <th>Q</th>\n",
       "    </tr>\n",
       "  </thead>\n",
       "  <tbody>\n",
       "    <tr>\n",
       "      <th>1</th>\n",
       "      <td>Another reason I failed in love is I'm poor,I ...</td>\n",
       "      <td>1</td>\n",
       "      <td>Beneficial</td>\n",
       "      <td>1024432968759214081</td>\n",
       "      <td>1533078827</td>\n",
       "      <td>449700739</td>\n",
       "      <td>2018-07-31 23:13:47</td>\n",
       "      <td>Q3</td>\n",
       "    </tr>\n",
       "    <tr>\n",
       "      <th>2</th>\n",
       "      <td>2019 Mercedes-Benz C 300 and AMG C 43 First Dr...</td>\n",
       "      <td>2</td>\n",
       "      <td>Neutral</td>\n",
       "      <td>1024437049666031616</td>\n",
       "      <td>1533079800</td>\n",
       "      <td>16665516</td>\n",
       "      <td>2018-07-31 23:30:00</td>\n",
       "      <td>Q3</td>\n",
       "    </tr>\n",
       "    <tr>\n",
       "      <th>3</th>\n",
       "      <td>Happy birthday to the Audi chasing maniac, hop...</td>\n",
       "      <td>1</td>\n",
       "      <td>Beneficial</td>\n",
       "      <td>1024427674301865985</td>\n",
       "      <td>1533077565</td>\n",
       "      <td>505065987</td>\n",
       "      <td>2018-07-31 22:52:45</td>\n",
       "      <td>Q3</td>\n",
       "    </tr>\n",
       "    <tr>\n",
       "      <th>4</th>\n",
       "      <td>Come see Mercedes Benz stadium in Atlanta...</td>\n",
       "      <td>2</td>\n",
       "      <td>Neutral</td>\n",
       "      <td>1024430109552508929</td>\n",
       "      <td>1533078145</td>\n",
       "      <td>14785774</td>\n",
       "      <td>2018-07-31 23:02:25</td>\n",
       "      <td>Q3</td>\n",
       "    </tr>\n",
       "    <tr>\n",
       "      <th>5</th>\n",
       "      <td>Italy took Cristiano and ever since then they’...</td>\n",
       "      <td>2</td>\n",
       "      <td>Neutral</td>\n",
       "      <td>1024427799724130305</td>\n",
       "      <td>1533077595</td>\n",
       "      <td>2406773050</td>\n",
       "      <td>2018-07-31 22:53:15</td>\n",
       "      <td>Q3</td>\n",
       "    </tr>\n",
       "  </tbody>\n",
       "</table>\n",
       "</div>"
      ],
      "text/plain": [
       "                                                TEXT  Sentiments  \\\n",
       "1  Another reason I failed in love is I'm poor,I ...           1   \n",
       "2  2019 Mercedes-Benz C 300 and AMG C 43 First Dr...           2   \n",
       "3  Happy birthday to the Audi chasing maniac, hop...           1   \n",
       "4       Come see Mercedes Benz stadium in Atlanta...           2   \n",
       "5  Italy took Cristiano and ever since then they’...           2   \n",
       "\n",
       "  sentiment_labels                   ID   timestamp     User_ID  \\\n",
       "1       Beneficial  1024432968759214081  1533078827   449700739   \n",
       "2          Neutral  1024437049666031616  1533079800    16665516   \n",
       "3       Beneficial  1024427674301865985  1533077565   505065987   \n",
       "4          Neutral  1024430109552508929  1533078145    14785774   \n",
       "5          Neutral  1024427799724130305  1533077595  2406773050   \n",
       "\n",
       "                  Date   Q  \n",
       "1  2018-07-31 23:13:47  Q3  \n",
       "2  2018-07-31 23:30:00  Q3  \n",
       "3  2018-07-31 22:52:45  Q3  \n",
       "4  2018-07-31 23:02:25  Q3  \n",
       "5  2018-07-31 22:53:15  Q3  "
      ]
     },
     "execution_count": 13,
     "metadata": {},
     "output_type": "execute_result"
    }
   ],
   "source": [
    "df.head()"
   ]
  },
  {
   "cell_type": "code",
   "execution_count": 14,
   "metadata": {},
   "outputs": [
    {
     "data": {
      "text/plain": [
       "TEXT                0\n",
       "Sentiments          0\n",
       "sentiment_labels    0\n",
       "ID                  0\n",
       "timestamp           0\n",
       "User_ID             0\n",
       "Date                0\n",
       "Q                   0\n",
       "dtype: int64"
      ]
     },
     "execution_count": 14,
     "metadata": {},
     "output_type": "execute_result"
    }
   ],
   "source": [
    "# check if any missing\n",
    "\n",
    "df.isnull().sum()"
   ]
  },
  {
   "cell_type": "markdown",
   "metadata": {},
   "source": [
    "# END of Notebook"
   ]
  }
 ],
 "metadata": {
  "colab": {
   "collapsed_sections": [],
   "name": "Paper3.ipynb",
   "provenance": [],
   "version": "0.3.2"
  },
  "kernelspec": {
   "display_name": "Python 3",
   "language": "python",
   "name": "python3"
  },
  "language_info": {
   "codemirror_mode": {
    "name": "ipython",
    "version": 3
   },
   "file_extension": ".py",
   "mimetype": "text/x-python",
   "name": "python",
   "nbconvert_exporter": "python",
   "pygments_lexer": "ipython3",
   "version": "3.7.5"
  }
 },
 "nbformat": 4,
 "nbformat_minor": 1
}
