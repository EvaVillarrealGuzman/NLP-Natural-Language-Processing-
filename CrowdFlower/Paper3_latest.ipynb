{
 "cells": [
  {
   "cell_type": "markdown",
   "metadata": {
    "colab_type": "text",
    "id": "Qp6Jzx49W_ta"
   },
   "source": [
    "# Working on self-drive car sentiments"
   ]
  },
  {
   "cell_type": "code",
   "execution_count": 0,
   "metadata": {
    "colab": {},
    "colab_type": "code",
    "id": "4V11g1goXDyF"
   },
   "outputs": [],
   "source": [
    "import warnings\n",
    "warnings.filterwarnings('ignore')\n",
    "import pandas as pd"
   ]
  },
  {
   "cell_type": "code",
   "execution_count": 2,
   "metadata": {
    "colab": {
     "base_uri": "https://localhost:8080/",
     "height": 67
    },
    "colab_type": "code",
    "id": "6NA0sfPXXLCL",
    "outputId": "00773d00-fc99-41d0-fe36-89c6bd5f511a"
   },
   "outputs": [
    {
     "name": "stdout",
     "output_type": "stream",
     "text": [
      "[nltk_data] Downloading package stopwords to /root/nltk_data...\n",
      "[nltk_data]   Package stopwords is already up-to-date!\n"
     ]
    },
    {
     "name": "stderr",
     "output_type": "stream",
     "text": [
      "Using TensorFlow backend.\n"
     ]
    }
   ],
   "source": [
    "import nltk\n",
    "nltk.download('stopwords')\n",
    "from nltk.corpus import stopwords\n",
    "from sklearn.feature_extraction.text import CountVectorizer\n",
    "from keras.preprocessing.text import Tokenizer\n",
    "from keras.preprocessing.sequence import pad_sequences\n",
    "from keras.models import Sequential\n",
    "from keras.layers import Dense, Embedding, LSTM, SpatialDropout1D\n",
    "from keras.utils.np_utils import to_categorical"
   ]
  },
  {
   "cell_type": "code",
   "execution_count": 3,
   "metadata": {
    "colab": {
     "base_uri": "https://localhost:8080/",
     "height": 34
    },
    "colab_type": "code",
    "id": "8VXLUoaCXPlB",
    "outputId": "63dffe60-2f5c-4233-8465-6f3b8d899179"
   },
   "outputs": [
    {
     "name": "stdout",
     "output_type": "stream",
     "text": [
      "Populating the interactive namespace from numpy and matplotlib\n"
     ]
    }
   ],
   "source": [
    "# Visualization \n",
    "import matplotlib.pyplot as plt\n",
    "import seaborn as sns\n",
    "from pprint import pprint\n",
    "%matplotlib inline\n",
    "%pylab inline"
   ]
  },
  {
   "cell_type": "code",
   "execution_count": 0,
   "metadata": {
    "colab": {},
    "colab_type": "code",
    "id": "VJMBZ7l0XSh3"
   },
   "outputs": [],
   "source": [
    "# For ML algorithm\n",
    "from sklearn.model_selection import train_test_split, cross_val_score\n",
    "from sklearn.linear_model import LogisticRegression\n",
    "from sklearn.svm import LinearSVC\n",
    "from sklearn.multiclass import OneVsRestClassifier\n",
    "from sklearn.linear_model import RidgeClassifier"
   ]
  },
  {
   "cell_type": "code",
   "execution_count": 5,
   "metadata": {
    "colab": {
     "base_uri": "https://localhost:8080/",
     "height": 34
    },
    "colab_type": "code",
    "id": "lo6xgI9uXZxj",
    "outputId": "677e9467-c1b6-4353-897c-abb52d788a40"
   },
   "outputs": [
    {
     "data": {
      "text/plain": [
       "(6943, 2)"
      ]
     },
     "execution_count": 5,
     "metadata": {
      "tags": []
     },
     "output_type": "execute_result"
    }
   ],
   "source": [
    "import pickle\n",
    "#Loading from firm cleaned file\n",
    "df = pd.read_pickle('sentiment_self_drive.pkl')\n",
    "df.shape"
   ]
  },
  {
   "cell_type": "code",
   "execution_count": 6,
   "metadata": {
    "colab": {
     "base_uri": "https://localhost:8080/",
     "height": 195
    },
    "colab_type": "code",
    "id": "FTOu9B8UY5Ns",
    "outputId": "30e1d485-0d1d-4956-df0c-12ba1ce3a875"
   },
   "outputs": [
    {
     "data": {
      "text/html": [
       "<div>\n",
       "<style scoped>\n",
       "    .dataframe tbody tr th:only-of-type {\n",
       "        vertical-align: middle;\n",
       "    }\n",
       "\n",
       "    .dataframe tbody tr th {\n",
       "        vertical-align: top;\n",
       "    }\n",
       "\n",
       "    .dataframe thead th {\n",
       "        text-align: right;\n",
       "    }\n",
       "</style>\n",
       "<table border=\"1\" class=\"dataframe\">\n",
       "  <thead>\n",
       "    <tr style=\"text-align: right;\">\n",
       "      <th></th>\n",
       "      <th>text</th>\n",
       "      <th>sent_numeric</th>\n",
       "    </tr>\n",
       "  </thead>\n",
       "  <tbody>\n",
       "    <tr>\n",
       "      <th>0</th>\n",
       "      <td>Two places I'd invest all my money if I could:...</td>\n",
       "      <td>Beneficial</td>\n",
       "    </tr>\n",
       "    <tr>\n",
       "      <th>1</th>\n",
       "      <td>Awesome! Google driverless cars will help the ...</td>\n",
       "      <td>Beneficial</td>\n",
       "    </tr>\n",
       "    <tr>\n",
       "      <th>2</th>\n",
       "      <td>If Google maps can't keep up with road constru...</td>\n",
       "      <td>Risky</td>\n",
       "    </tr>\n",
       "    <tr>\n",
       "      <th>3</th>\n",
       "      <td>Autonomous cars seem way overhyped given the t...</td>\n",
       "      <td>Risky</td>\n",
       "    </tr>\n",
       "    <tr>\n",
       "      <th>4</th>\n",
       "      <td>Just saw Google self-driving car on I-34. It w...</td>\n",
       "      <td>Neutral</td>\n",
       "    </tr>\n",
       "  </tbody>\n",
       "</table>\n",
       "</div>"
      ],
      "text/plain": [
       "                                                text sent_numeric\n",
       "0  Two places I'd invest all my money if I could:...   Beneficial\n",
       "1  Awesome! Google driverless cars will help the ...   Beneficial\n",
       "2  If Google maps can't keep up with road constru...        Risky\n",
       "3  Autonomous cars seem way overhyped given the t...        Risky\n",
       "4  Just saw Google self-driving car on I-34. It w...      Neutral"
      ]
     },
     "execution_count": 6,
     "metadata": {
      "tags": []
     },
     "output_type": "execute_result"
    }
   ],
   "source": [
    "df.head()"
   ]
  },
  {
   "cell_type": "code",
   "execution_count": 7,
   "metadata": {
    "colab": {
     "base_uri": "https://localhost:8080/",
     "height": 325
    },
    "colab_type": "code",
    "id": "4bt8yJT3YqeM",
    "outputId": "101819b2-9d47-497f-fca1-5507547a1f07"
   },
   "outputs": [
    {
     "data": {
      "text/plain": [
       "<matplotlib.axes._subplots.AxesSubplot at 0x7f69a80642b0>"
      ]
     },
     "execution_count": 7,
     "metadata": {
      "tags": []
     },
     "output_type": "execute_result"
    },
    {
     "data": {
      "image/png": "[encoded data removed]",
      "text/plain": [
       "<Figure size 432x288 with 1 Axes>"
      ]
     },
     "metadata": {
      "tags": []
     },
     "output_type": "display_data"
    }
   ],
   "source": [
    "df.sent_numeric.value_counts().plot(kind='bar')"
   ]
  },
  {
   "cell_type": "markdown",
   "metadata": {
    "colab_type": "text",
    "id": "Uh9kNbgDZEPr"
   },
   "source": [
    "## Label the categorical values"
   ]
  },
  {
   "cell_type": "code",
   "execution_count": 0,
   "metadata": {
    "colab": {},
    "colab_type": "code",
    "id": "vwjiTr4sY3EH"
   },
   "outputs": [],
   "source": [
    "df['labels'] = df.sent_numeric.map({'Risky':0, 'Beneficial':1, 'Neutral':2})"
   ]
  },
  {
   "cell_type": "code",
   "execution_count": 9,
   "metadata": {
    "colab": {
     "base_uri": "https://localhost:8080/",
     "height": 195
    },
    "colab_type": "code",
    "id": "J4SJ9gQYZM5o",
    "outputId": "c930a9cf-eca6-4347-ec1c-1c28482409fe"
   },
   "outputs": [
    {
     "data": {
      "text/html": [
       "<div>\n",
       "<style scoped>\n",
       "    .dataframe tbody tr th:only-of-type {\n",
       "        vertical-align: middle;\n",
       "    }\n",
       "\n",
       "    .dataframe tbody tr th {\n",
       "        vertical-align: top;\n",
       "    }\n",
       "\n",
       "    .dataframe thead th {\n",
       "        text-align: right;\n",
       "    }\n",
       "</style>\n",
       "<table border=\"1\" class=\"dataframe\">\n",
       "  <thead>\n",
       "    <tr style=\"text-align: right;\">\n",
       "      <th></th>\n",
       "      <th>text</th>\n",
       "      <th>sent_numeric</th>\n",
       "      <th>labels</th>\n",
       "    </tr>\n",
       "  </thead>\n",
       "  <tbody>\n",
       "    <tr>\n",
       "      <th>0</th>\n",
       "      <td>Two places I'd invest all my money if I could:...</td>\n",
       "      <td>Beneficial</td>\n",
       "      <td>1</td>\n",
       "    </tr>\n",
       "    <tr>\n",
       "      <th>1</th>\n",
       "      <td>Awesome! Google driverless cars will help the ...</td>\n",
       "      <td>Beneficial</td>\n",
       "      <td>1</td>\n",
       "    </tr>\n",
       "    <tr>\n",
       "      <th>2</th>\n",
       "      <td>If Google maps can't keep up with road constru...</td>\n",
       "      <td>Risky</td>\n",
       "      <td>0</td>\n",
       "    </tr>\n",
       "    <tr>\n",
       "      <th>3</th>\n",
       "      <td>Autonomous cars seem way overhyped given the t...</td>\n",
       "      <td>Risky</td>\n",
       "      <td>0</td>\n",
       "    </tr>\n",
       "    <tr>\n",
       "      <th>4</th>\n",
       "      <td>Just saw Google self-driving car on I-34. It w...</td>\n",
       "      <td>Neutral</td>\n",
       "      <td>2</td>\n",
       "    </tr>\n",
       "  </tbody>\n",
       "</table>\n",
       "</div>"
      ],
      "text/plain": [
       "                                                text sent_numeric  labels\n",
       "0  Two places I'd invest all my money if I could:...   Beneficial       1\n",
       "1  Awesome! Google driverless cars will help the ...   Beneficial       1\n",
       "2  If Google maps can't keep up with road constru...        Risky       0\n",
       "3  Autonomous cars seem way overhyped given the t...        Risky       0\n",
       "4  Just saw Google self-driving car on I-34. It w...      Neutral       2"
      ]
     },
     "execution_count": 9,
     "metadata": {
      "tags": []
     },
     "output_type": "execute_result"
    }
   ],
   "source": [
    "df.head()"
   ]
  },
  {
   "cell_type": "code",
   "execution_count": 10,
   "metadata": {
    "colab": {
     "base_uri": "https://localhost:8080/",
     "height": 118
    },
    "colab_type": "code",
    "id": "cGOMrxqCZORm",
    "outputId": "12f034bb-0579-4126-8080-69b1b8bee5e0"
   },
   "outputs": [
    {
     "name": "stdout",
     "output_type": "stream",
     "text": [
      "Beneficial 1\n",
      "Beneficial 1\n",
      "Risky 0\n",
      "Risky 0\n",
      "Neutral 2\n"
     ]
    },
    {
     "data": {
      "text/plain": [
       "[None, None, None, None, None]"
      ]
     },
     "execution_count": 10,
     "metadata": {
      "tags": []
     },
     "output_type": "execute_result"
    }
   ],
   "source": [
    "# alternative way of seeing \n",
    "[print(df['sent_numeric'][i], df['labels'][i]) for i in range(0,5)]"
   ]
  },
  {
   "cell_type": "code",
   "execution_count": 11,
   "metadata": {
    "colab": {
     "base_uri": "https://localhost:8080/",
     "height": 286
    },
    "colab_type": "code",
    "id": "3ftvm3S8ZaC6",
    "outputId": "ddbbec5e-6d66-4f3c-ebf4-49596f935d12"
   },
   "outputs": [
    {
     "data": {
      "text/plain": [
       "<matplotlib.axes._subplots.AxesSubplot at 0x7f69a80086d8>"
      ]
     },
     "execution_count": 11,
     "metadata": {
      "tags": []
     },
     "output_type": "execute_result"
    },
    {
     "data": {
      "image/png": "[encoded data removed]",
      "text/plain": [
       "<Figure size 432x288 with 1 Axes>"
      ]
     },
     "metadata": {
      "tags": []
     },
     "output_type": "display_data"
    }
   ],
   "source": [
    "df['text'].str.len().plot.hist()"
   ]
  },
  {
   "cell_type": "markdown",
   "metadata": {
    "colab_type": "text",
    "id": "D8l9q_6IZrCH"
   },
   "source": [
    "# 1)- Cleaning"
   ]
  },
  {
   "cell_type": "code",
   "execution_count": 0,
   "metadata": {
    "colab": {},
    "colab_type": "code",
    "id": "fY-fpNnMZoe0"
   },
   "outputs": [],
   "source": [
    "REPLACE_BY_SPACE_RE = re.compile('[/(){}\\[\\]\\|@,;#]')\n",
    "BAD_SYMBOLS_RE = re.compile('[^0-9a-z +_]')\n",
    "STOPWORDS = stopwords.words('english')\n",
    "STOPWORDS.extend(['rt', 'http']) # extend stopwords; rt means re-tweet\n",
    "STOPWORDS = set(STOPWORDS)\n",
    "\n",
    "def text_prepare(text):\n",
    "    \"\"\"\n",
    "        text: a string\n",
    "        \n",
    "        return: modified initial string\n",
    "    \"\"\"\n",
    "    text = text.lower() # lowercase text\n",
    "    text = REPLACE_BY_SPACE_RE.sub(' ', text) # replace REPLACE_BY_SPACE_RE symbols by space in text\n",
    "    text = BAD_SYMBOLS_RE.sub('', text) # delete symbols which are in BAD_SYMBOLS_RE from text\n",
    "    text = ' '.join([word for word in text.split() if word not in STOPWORDS]) # delete stopwords from text\n",
    "    text = text.strip()\n",
    "    return text"
   ]
  },
  {
   "cell_type": "code",
   "execution_count": 0,
   "metadata": {
    "colab": {},
    "colab_type": "code",
    "id": "J2Bc40sPZv3N"
   },
   "outputs": [],
   "source": [
    "df['cleaned']=[text_prepare(x) for x in df['text']]"
   ]
  },
  {
   "cell_type": "code",
   "execution_count": 14,
   "metadata": {
    "colab": {
     "base_uri": "https://localhost:8080/",
     "height": 118
    },
    "colab_type": "code",
    "id": "imVwFpEBZykV",
    "outputId": "fb4feb55-1eba-4bf3-d7dd-95daa17eaa46"
   },
   "outputs": [
    {
     "name": "stdout",
     "output_type": "stream",
     "text": [
      "0    Two places I'd invest all my money if I could:...\n",
      "1    Awesome! Google driverless cars will help the ...\n",
      "2    If Google maps can't keep up with road constru...\n",
      "3    Autonomous cars seem way overhyped given the t...\n",
      "4    Just saw Google self-driving car on I-34. It w...\n",
      "Name: text, dtype: object\n"
     ]
    }
   ],
   "source": [
    "print(df.text[:5])"
   ]
  },
  {
   "cell_type": "code",
   "execution_count": 15,
   "metadata": {
    "colab": {
     "base_uri": "https://localhost:8080/",
     "height": 118
    },
    "colab_type": "code",
    "id": "n4E2CYMYZzja",
    "outputId": "0231b6fb-1a87-4320-c1fb-4c426aaddaa3"
   },
   "outputs": [
    {
     "data": {
      "text/plain": [
       "0    two places id invest money could 3d printing s...\n",
       "1    awesome google driverless cars help blind trav...\n",
       "2    google maps cant keep road construction suppos...\n",
       "3    autonomous cars seem way overhyped given techn...\n",
       "4    saw google selfdriving car i34 painted green blue\n",
       "Name: cleaned, dtype: object"
      ]
     },
     "execution_count": 15,
     "metadata": {
      "tags": []
     },
     "output_type": "execute_result"
    }
   ],
   "source": [
    "df.cleaned[:5]"
   ]
  },
  {
   "cell_type": "code",
   "execution_count": 16,
   "metadata": {
    "colab": {
     "base_uri": "https://localhost:8080/",
     "height": 34
    },
    "colab_type": "code",
    "id": "LpEPLzlNkGWK",
    "outputId": "f443561e-6833-4de1-f174-5d982932999e"
   },
   "outputs": [
    {
     "data": {
      "text/plain": [
       "'saw google selfdriving car i34 painted green blue'"
      ]
     },
     "execution_count": 16,
     "metadata": {
      "tags": []
     },
     "output_type": "execute_result"
    }
   ],
   "source": [
    "df.cleaned[4]"
   ]
  },
  {
   "cell_type": "markdown",
   "metadata": {
    "colab_type": "text",
    "id": "6te5QqOdZ9jR"
   },
   "source": [
    "### most common words"
   ]
  },
  {
   "cell_type": "code",
   "execution_count": 17,
   "metadata": {
    "colab": {
     "base_uri": "https://localhost:8080/",
     "height": 185
    },
    "colab_type": "code",
    "id": "-M9M5zA8Zzf_",
    "outputId": "b8893310-4d66-498e-d042-0365280778c1"
   },
   "outputs": [
    {
     "data": {
      "text/plain": [
       "[('tco', 3702),\n",
       " ('car', 3600),\n",
       " ('cars', 3217),\n",
       " ('google', 2582),\n",
       " ('selfdriving', 2543),\n",
       " ('driverless', 1945),\n",
       " ('driving', 1712),\n",
       " ('self', 1462),\n",
       " ('googles', 620),\n",
       " ('autonomous', 385)]"
      ]
     },
     "execution_count": 17,
     "metadata": {
      "tags": []
     },
     "output_type": "execute_result"
    }
   ],
   "source": [
    "# Dictionary of all words from train corpus with their counts.\n",
    "words_counts = {}\n",
    "\n",
    "from collections import Counter\n",
    "words_counts = Counter([word for line in df['cleaned'] for word in line.split(' ')])\n",
    "\n",
    "# Sorting \n",
    "most_common_words = sorted(words_counts.items(), key=lambda x: x[1], reverse=True)[:10]\n",
    "\n",
    "# Top 10\n",
    "most_common_words[:10]"
   ]
  },
  {
   "cell_type": "markdown",
   "metadata": {
    "colab_type": "text",
    "id": "weoD-1v9aFUk"
   },
   "source": [
    "### Splitting data\n",
    "Split X and y into training and testing sets"
   ]
  },
  {
   "cell_type": "code",
   "execution_count": 0,
   "metadata": {
    "colab": {},
    "colab_type": "code",
    "id": "aZBFSHzUZzcZ"
   },
   "outputs": [],
   "source": [
    "X=df['cleaned']\n",
    "y=df['labels']"
   ]
  },
  {
   "cell_type": "code",
   "execution_count": 19,
   "metadata": {
    "colab": {
     "base_uri": "https://localhost:8080/",
     "height": 118
    },
    "colab_type": "code",
    "id": "lOypaqpSZzY5",
    "outputId": "a7f4d184-74c2-4c2b-fd45-ee4fcdc0cc8a"
   },
   "outputs": [
    {
     "data": {
      "text/plain": [
       "0    two places id invest money could 3d printing s...\n",
       "1    awesome google driverless cars help blind trav...\n",
       "2    google maps cant keep road construction suppos...\n",
       "3    autonomous cars seem way overhyped given techn...\n",
       "4    saw google selfdriving car i34 painted green blue\n",
       "Name: cleaned, dtype: object"
      ]
     },
     "execution_count": 19,
     "metadata": {
      "tags": []
     },
     "output_type": "execute_result"
    }
   ],
   "source": [
    "X.head()"
   ]
  },
  {
   "cell_type": "code",
   "execution_count": 20,
   "metadata": {
    "colab": {
     "base_uri": "https://localhost:8080/",
     "height": 118
    },
    "colab_type": "code",
    "id": "KVr7yDqhZzVl",
    "outputId": "b1f3ea4c-9817-4c7f-bd8b-b4d61b6ea4fe"
   },
   "outputs": [
    {
     "data": {
      "text/plain": [
       "0    1\n",
       "1    1\n",
       "2    0\n",
       "3    0\n",
       "4    2\n",
       "Name: labels, dtype: int64"
      ]
     },
     "execution_count": 20,
     "metadata": {
      "tags": []
     },
     "output_type": "execute_result"
    }
   ],
   "source": [
    "y[:5]"
   ]
  },
  {
   "cell_type": "code",
   "execution_count": 21,
   "metadata": {
    "colab": {
     "base_uri": "https://localhost:8080/",
     "height": 84
    },
    "colab_type": "code",
    "id": "9jpjq2_bmyu_",
    "outputId": "433605e3-ae9d-4ad4-910b-ea2da414e789"
   },
   "outputs": [
    {
     "name": "stdout",
     "output_type": "stream",
     "text": [
      "(5207,)\n",
      "(1736,)\n",
      "(5207,)\n",
      "(1736,)\n"
     ]
    }
   ],
   "source": [
    "from sklearn.model_selection import train_test_split\n",
    "X_train, X_test, y_train, y_test = train_test_split(X, y, random_state=1)\n",
    "print(X_train.shape)\n",
    "print(X_test.shape)\n",
    "print(y_train.shape)\n",
    "print(y_test.shape)"
   ]
  },
  {
   "cell_type": "code",
   "execution_count": 0,
   "metadata": {
    "colab": {},
    "colab_type": "code",
    "id": "jtMMLo_fm1-_"
   },
   "outputs": [],
   "source": [
    "from sklearn.feature_extraction.text import TfidfVectorizer\n",
    "\n",
    "def tfidf_features(X_train, X_test):\n",
    "    \"\"\"\n",
    "        X_train, X_val, X_test - input text       \n",
    "        return TF-IDF vectorizer for each dataset\n",
    "    \"\"\"\n",
    "    \n",
    "    # filter out too rare words (occur less than in 5 titles) and too frequent words (occur more than in 90% of the tweets)\n",
    "    # ngram!!! -->  ngram_range=(1,2)\n",
    "    tfidf_vectorizer = TfidfVectorizer(ngram_range=(1,2), max_df=0.9, min_df=5, token_pattern='(\\S+)')\n",
    "    \n",
    "    # Fit and transform the vectorizer on the train set\n",
    "    X_train_tfidf = tfidf_vectorizer.fit_transform(X_train)\n",
    "    \n",
    "    # Only Transform the test sets \n",
    "    X_test_tfidf = tfidf_vectorizer.transform(X_test)\n",
    "    \n",
    "    return X_train_tfidf, X_test_tfidf, tfidf_vectorizer.vocabulary_\n",
    "    \n",
    "    \n",
    "X_train_tfidf, X_test_tfidf, tfidf_vocab = tfidf_features(X_train, X_test)"
   ]
  },
  {
   "cell_type": "code",
   "execution_count": 0,
   "metadata": {
    "colab": {},
    "colab_type": "code",
    "id": "sMqBEYU1m5oh"
   },
   "outputs": [],
   "source": [
    "# convert to dense array\n",
    "X_train_tfidf=X_train_tfidf.toarray()"
   ]
  },
  {
   "cell_type": "code",
   "execution_count": 24,
   "metadata": {
    "colab": {
     "base_uri": "https://localhost:8080/",
     "height": 34
    },
    "colab_type": "code",
    "id": "HDLUFwP2m8b5",
    "outputId": "677ac11d-41a8-450d-c434-ec156f2b0e99"
   },
   "outputs": [
    {
     "data": {
      "text/plain": [
       "numpy.ndarray"
      ]
     },
     "execution_count": 24,
     "metadata": {
      "tags": []
     },
     "output_type": "execute_result"
    }
   ],
   "source": [
    "type(X_train_tfidf)"
   ]
  },
  {
   "cell_type": "code",
   "execution_count": 0,
   "metadata": {
    "colab": {},
    "colab_type": "code",
    "id": "lpJgJoBhm9i9"
   },
   "outputs": [],
   "source": [
    "X_test_tfidf=X_test_tfidf.toarray()"
   ]
  },
  {
   "cell_type": "code",
   "execution_count": 26,
   "metadata": {
    "colab": {
     "base_uri": "https://localhost:8080/",
     "height": 118
    },
    "colab_type": "code",
    "id": "QNOZHzvIm9bB",
    "outputId": "f9344968-402e-4bfc-b67f-83bf4d3904b3"
   },
   "outputs": [
    {
     "data": {
      "text/plain": [
       "1779    2\n",
       "6239    2\n",
       "4434    2\n",
       "4023    1\n",
       "2945    2\n",
       "Name: labels, dtype: int64"
      ]
     },
     "execution_count": 26,
     "metadata": {
      "tags": []
     },
     "output_type": "execute_result"
    }
   ],
   "source": [
    "y_train[:5]"
   ]
  },
  {
   "cell_type": "markdown",
   "metadata": {
    "colab_type": "text",
    "id": "z-BRf5KpnaVm"
   },
   "source": [
    "# Part 1-Naive Bayes Model"
   ]
  },
  {
   "cell_type": "code",
   "execution_count": 0,
   "metadata": {
    "colab": {},
    "colab_type": "code",
    "id": "FwmHtmpYm9Wm"
   },
   "outputs": [],
   "source": [
    "from sklearn.naive_bayes import MultinomialNB\n",
    "mnb = MultinomialNB()\n",
    "mnb.fit(X_train_tfidf,y_train)\n",
    "predmnb = mnb.predict(X_test_tfidf)"
   ]
  },
  {
   "cell_type": "code",
   "execution_count": 28,
   "metadata": {
    "colab": {
     "base_uri": "https://localhost:8080/",
     "height": 34
    },
    "colab_type": "code",
    "id": "GFQvsvZsnd4t",
    "outputId": "d520b89a-73b4-4a77-b6ea-21350c90ca26"
   },
   "outputs": [
    {
     "data": {
      "text/plain": [
       "array([2, 2, 2, ..., 2, 2, 1])"
      ]
     },
     "execution_count": 28,
     "metadata": {
      "tags": []
     },
     "output_type": "execute_result"
    }
   ],
   "source": [
    "predmnb"
   ]
  },
  {
   "cell_type": "code",
   "execution_count": 29,
   "metadata": {
    "colab": {
     "base_uri": "https://localhost:8080/",
     "height": 286
    },
    "colab_type": "code",
    "id": "18kwvHFnngKY",
    "outputId": "5eed2884-2659-412a-8f5f-af321f3dda4c"
   },
   "outputs": [
    {
     "data": {
      "text/plain": [
       "[<matplotlib.lines.Line2D at 0x7f69a55b00f0>]"
      ]
     },
     "execution_count": 29,
     "metadata": {
      "tags": []
     },
     "output_type": "execute_result"
    },
    {
     "data": {
      "image/png": "[encoded data removed]",
      "text/plain": [
       "<Figure size 432x288 with 1 Axes>"
      ]
     },
     "metadata": {
      "tags": []
     },
     "output_type": "display_data"
    }
   ],
   "source": [
    "import matplotlib.pyplot as plt\n",
    "plt.plot(predmnb, \"p\")"
   ]
  },
  {
   "cell_type": "code",
   "execution_count": 30,
   "metadata": {
    "colab": {
     "base_uri": "https://localhost:8080/",
     "height": 286
    },
    "colab_type": "code",
    "id": "0ACXsb2tni3w",
    "outputId": "a40c0517-3b67-4e70-dbda-ae16e68fbbfe"
   },
   "outputs": [
    {
     "data": {
      "text/plain": [
       "[<matplotlib.lines.Line2D at 0x7f69a5623da0>]"
      ]
     },
     "execution_count": 30,
     "metadata": {
      "tags": []
     },
     "output_type": "execute_result"
    },
    {
     "data": {
      "image/png": "[encoded data removed]",
      "text/plain": [
       "<Figure size 432x288 with 1 Axes>"
      ]
     },
     "metadata": {
      "tags": []
     },
     "output_type": "display_data"
    }
   ],
   "source": [
    "plt.plot(y_test, \"p\")"
   ]
  },
  {
   "cell_type": "markdown",
   "metadata": {
    "colab_type": "text",
    "id": "9cHIV5EYnpgh"
   },
   "source": [
    "# Making the confusion Matrix"
   ]
  },
  {
   "cell_type": "code",
   "execution_count": 31,
   "metadata": {
    "colab": {
     "base_uri": "https://localhost:8080/",
     "height": 67
    },
    "colab_type": "code",
    "id": "pBkuIQNSnlut",
    "outputId": "7a260725-1d8c-4726-d176-ff4873108e45"
   },
   "outputs": [
    {
     "data": {
      "text/plain": [
       "array([[   7,   32,  168],\n",
       "       [   1,  152,  312],\n",
       "       [   3,   38, 1023]])"
      ]
     },
     "execution_count": 31,
     "metadata": {
      "tags": []
     },
     "output_type": "execute_result"
    }
   ],
   "source": [
    "from sklearn.metrics import confusion_matrix\n",
    "cm = confusion_matrix(y_test, predmnb)\n",
    "cm"
   ]
  },
  {
   "cell_type": "markdown",
   "metadata": {
    "colab_type": "text",
    "id": "QA4HOSmZnzl9"
   },
   "source": [
    "### Checking accuracy score"
   ]
  },
  {
   "cell_type": "code",
   "execution_count": 32,
   "metadata": {
    "colab": {
     "base_uri": "https://localhost:8080/",
     "height": 34
    },
    "colab_type": "code",
    "id": "AanWdmO_ntur",
    "outputId": "14770516-adb1-442d-cdc8-ecb28cd562c5"
   },
   "outputs": [
    {
     "data": {
      "text/plain": [
       "0.6808755760368663"
      ]
     },
     "execution_count": 32,
     "metadata": {
      "tags": []
     },
     "output_type": "execute_result"
    }
   ],
   "source": [
    "from sklearn.metrics import accuracy_score\n",
    "accuracy_score(y_test, predmnb)"
   ]
  },
  {
   "cell_type": "code",
   "execution_count": 33,
   "metadata": {
    "colab": {
     "base_uri": "https://localhost:8080/",
     "height": 185
    },
    "colab_type": "code",
    "id": "DpNAJRS2ntrM",
    "outputId": "c7e54fd8-2906-4031-b1e3-5977bccfaa9a"
   },
   "outputs": [
    {
     "name": "stdout",
     "output_type": "stream",
     "text": [
      "              precision    recall  f1-score   support\n",
      "\n",
      "           0       0.64      0.03      0.06       207\n",
      "           1       0.68      0.33      0.44       465\n",
      "           2       0.68      0.96      0.80      1064\n",
      "\n",
      "    accuracy                           0.68      1736\n",
      "   macro avg       0.67      0.44      0.43      1736\n",
      "weighted avg       0.68      0.68      0.61      1736\n",
      "\n"
     ]
    }
   ],
   "source": [
    "from sklearn.metrics import classification_report\n",
    "print (classification_report(y_test, predmnb))"
   ]
  },
  {
   "cell_type": "markdown",
   "metadata": {
    "colab_type": "text",
    "id": "zsd387xCoIKC"
   },
   "source": [
    "# Part2-  LSTM"
   ]
  },
  {
   "cell_type": "code",
   "execution_count": 0,
   "metadata": {
    "colab": {},
    "colab_type": "code",
    "id": "diMXCZiKntnV"
   },
   "outputs": [],
   "source": [
    "from sklearn.feature_extraction.text import CountVectorizer\n",
    "from keras.preprocessing.text import Tokenizer\n",
    "from keras.preprocessing.sequence import pad_sequences\n",
    "from keras.models import Sequential\n",
    "from keras.layers import Dense, Embedding, LSTM, SpatialDropout1D\n",
    "from keras.utils.np_utils import to_categorical\n",
    "from keras.utils import np_utils"
   ]
  },
  {
   "cell_type": "code",
   "execution_count": 35,
   "metadata": {
    "colab": {
     "base_uri": "https://localhost:8080/",
     "height": 195
    },
    "colab_type": "code",
    "id": "_QCnBDvaoLGn",
    "outputId": "e6f1e37a-2696-4b97-a764-19819ce128ca"
   },
   "outputs": [
    {
     "data": {
      "text/html": [
       "<div>\n",
       "<style scoped>\n",
       "    .dataframe tbody tr th:only-of-type {\n",
       "        vertical-align: middle;\n",
       "    }\n",
       "\n",
       "    .dataframe tbody tr th {\n",
       "        vertical-align: top;\n",
       "    }\n",
       "\n",
       "    .dataframe thead th {\n",
       "        text-align: right;\n",
       "    }\n",
       "</style>\n",
       "<table border=\"1\" class=\"dataframe\">\n",
       "  <thead>\n",
       "    <tr style=\"text-align: right;\">\n",
       "      <th></th>\n",
       "      <th>text</th>\n",
       "      <th>sent_numeric</th>\n",
       "      <th>labels</th>\n",
       "      <th>cleaned</th>\n",
       "    </tr>\n",
       "  </thead>\n",
       "  <tbody>\n",
       "    <tr>\n",
       "      <th>0</th>\n",
       "      <td>Two places I'd invest all my money if I could:...</td>\n",
       "      <td>Beneficial</td>\n",
       "      <td>1</td>\n",
       "      <td>two places id invest money could 3d printing s...</td>\n",
       "    </tr>\n",
       "    <tr>\n",
       "      <th>1</th>\n",
       "      <td>Awesome! Google driverless cars will help the ...</td>\n",
       "      <td>Beneficial</td>\n",
       "      <td>1</td>\n",
       "      <td>awesome google driverless cars help blind trav...</td>\n",
       "    </tr>\n",
       "    <tr>\n",
       "      <th>2</th>\n",
       "      <td>If Google maps can't keep up with road constru...</td>\n",
       "      <td>Risky</td>\n",
       "      <td>0</td>\n",
       "      <td>google maps cant keep road construction suppos...</td>\n",
       "    </tr>\n",
       "    <tr>\n",
       "      <th>3</th>\n",
       "      <td>Autonomous cars seem way overhyped given the t...</td>\n",
       "      <td>Risky</td>\n",
       "      <td>0</td>\n",
       "      <td>autonomous cars seem way overhyped given techn...</td>\n",
       "    </tr>\n",
       "    <tr>\n",
       "      <th>4</th>\n",
       "      <td>Just saw Google self-driving car on I-34. It w...</td>\n",
       "      <td>Neutral</td>\n",
       "      <td>2</td>\n",
       "      <td>saw google selfdriving car i34 painted green blue</td>\n",
       "    </tr>\n",
       "  </tbody>\n",
       "</table>\n",
       "</div>"
      ],
      "text/plain": [
       "                                                text  ...                                            cleaned\n",
       "0  Two places I'd invest all my money if I could:...  ...  two places id invest money could 3d printing s...\n",
       "1  Awesome! Google driverless cars will help the ...  ...  awesome google driverless cars help blind trav...\n",
       "2  If Google maps can't keep up with road constru...  ...  google maps cant keep road construction suppos...\n",
       "3  Autonomous cars seem way overhyped given the t...  ...  autonomous cars seem way overhyped given techn...\n",
       "4  Just saw Google self-driving car on I-34. It w...  ...  saw google selfdriving car i34 painted green blue\n",
       "\n",
       "[5 rows x 4 columns]"
      ]
     },
     "execution_count": 35,
     "metadata": {
      "tags": []
     },
     "output_type": "execute_result"
    }
   ],
   "source": [
    "df.head()"
   ]
  },
  {
   "cell_type": "code",
   "execution_count": 0,
   "metadata": {
    "colab": {},
    "colab_type": "code",
    "id": "hw8_2HH5oLCU"
   },
   "outputs": [],
   "source": [
    "Y=df['sent_numeric']"
   ]
  },
  {
   "cell_type": "code",
   "execution_count": 37,
   "metadata": {
    "colab": {
     "base_uri": "https://localhost:8080/",
     "height": 34
    },
    "colab_type": "code",
    "id": "8vFuAleapE5d",
    "outputId": "dab305ae-1a13-4c73-f151-a4dd97dabb22"
   },
   "outputs": [
    {
     "data": {
      "text/plain": [
       "(6943,)"
      ]
     },
     "execution_count": 37,
     "metadata": {
      "tags": []
     },
     "output_type": "execute_result"
    }
   ],
   "source": [
    "df['cleaned'].shape"
   ]
  },
  {
   "cell_type": "code",
   "execution_count": 0,
   "metadata": {
    "colab": {},
    "colab_type": "code",
    "id": "pODw9T1wpPJk"
   },
   "outputs": [],
   "source": [
    "X=df['cleaned']"
   ]
  },
  {
   "cell_type": "markdown",
   "metadata": {
    "colab_type": "text",
    "id": "o3zcu8d3uLKk"
   },
   "source": [
    "## Step1- Convert words to matrix\n",
    "\n",
    "We need to convert words into matrices. One way is shown through sklearn. Other way is given. We can always match the two"
   ]
  },
  {
   "cell_type": "markdown",
   "metadata": {
    "colab_type": "text",
    "id": "O7cqQhvQ6UBE"
   },
   "source": [
    "### i-I started by fitting a tokenizer on my document as in here:"
   ]
  },
  {
   "cell_type": "code",
   "execution_count": 0,
   "metadata": {
    "colab": {},
    "colab_type": "code",
    "id": "8cZL1Ultz2sp"
   },
   "outputs": [],
   "source": [
    "# Fitting\n",
    "max_fatures = 2000\n",
    "tokenizer = Tokenizer(num_words=max_fatures, split=' ')\n",
    "tokenizer.fit_on_texts(X)"
   ]
  },
  {
   "cell_type": "markdown",
   "metadata": {
    "colab_type": "text",
    "id": "0VBD7Zq06zll"
   },
   "source": [
    "### ii- I wanted to check if my data is fitted correctly so I converted into sequence"
   ]
  },
  {
   "cell_type": "code",
   "execution_count": 0,
   "metadata": {
    "colab": {},
    "colab_type": "code",
    "id": "KQLS74VW0pI1"
   },
   "outputs": [],
   "source": [
    "# convert to sequence\n",
    "X_token = tokenizer.texts_to_sequences(X)"
   ]
  },
  {
   "cell_type": "code",
   "execution_count": 41,
   "metadata": {
    "colab": {
     "base_uri": "https://localhost:8080/",
     "height": 195
    },
    "colab_type": "code",
    "id": "1vnv-xwo0pGh",
    "outputId": "fd3d169d-8c24-4702-daf2-ad32656b2d39"
   },
   "outputs": [
    {
     "data": {
      "text/html": [
       "<div>\n",
       "<style scoped>\n",
       "    .dataframe tbody tr th:only-of-type {\n",
       "        vertical-align: middle;\n",
       "    }\n",
       "\n",
       "    .dataframe tbody tr th {\n",
       "        vertical-align: top;\n",
       "    }\n",
       "\n",
       "    .dataframe thead th {\n",
       "        text-align: right;\n",
       "    }\n",
       "</style>\n",
       "<table border=\"1\" class=\"dataframe\">\n",
       "  <thead>\n",
       "    <tr style=\"text-align: right;\">\n",
       "      <th></th>\n",
       "      <th>0</th>\n",
       "      <th>1</th>\n",
       "      <th>2</th>\n",
       "      <th>3</th>\n",
       "      <th>4</th>\n",
       "      <th>5</th>\n",
       "      <th>6</th>\n",
       "      <th>7</th>\n",
       "      <th>8</th>\n",
       "      <th>9</th>\n",
       "      <th>10</th>\n",
       "      <th>11</th>\n",
       "      <th>12</th>\n",
       "      <th>13</th>\n",
       "      <th>14</th>\n",
       "      <th>15</th>\n",
       "      <th>16</th>\n",
       "      <th>17</th>\n",
       "      <th>18</th>\n",
       "      <th>19</th>\n",
       "      <th>20</th>\n",
       "      <th>21</th>\n",
       "      <th>22</th>\n",
       "    </tr>\n",
       "  </thead>\n",
       "  <tbody>\n",
       "    <tr>\n",
       "      <th>0</th>\n",
       "      <td>153.0</td>\n",
       "      <td>944.0</td>\n",
       "      <td>190.0</td>\n",
       "      <td>945.0</td>\n",
       "      <td>328.0</td>\n",
       "      <td>20.0</td>\n",
       "      <td>428.0</td>\n",
       "      <td>946.0</td>\n",
       "      <td>5.0</td>\n",
       "      <td>3.0</td>\n",
       "      <td>NaN</td>\n",
       "      <td>NaN</td>\n",
       "      <td>NaN</td>\n",
       "      <td>NaN</td>\n",
       "      <td>NaN</td>\n",
       "      <td>NaN</td>\n",
       "      <td>NaN</td>\n",
       "      <td>NaN</td>\n",
       "      <td>NaN</td>\n",
       "      <td>NaN</td>\n",
       "      <td>NaN</td>\n",
       "      <td>NaN</td>\n",
       "      <td>NaN</td>\n",
       "    </tr>\n",
       "    <tr>\n",
       "      <th>1</th>\n",
       "      <td>104.0</td>\n",
       "      <td>4.0</td>\n",
       "      <td>6.0</td>\n",
       "      <td>3.0</td>\n",
       "      <td>206.0</td>\n",
       "      <td>451.0</td>\n",
       "      <td>630.0</td>\n",
       "      <td>69.0</td>\n",
       "      <td>1.0</td>\n",
       "      <td>NaN</td>\n",
       "      <td>NaN</td>\n",
       "      <td>NaN</td>\n",
       "      <td>NaN</td>\n",
       "      <td>NaN</td>\n",
       "      <td>NaN</td>\n",
       "      <td>NaN</td>\n",
       "      <td>NaN</td>\n",
       "      <td>NaN</td>\n",
       "      <td>NaN</td>\n",
       "      <td>NaN</td>\n",
       "      <td>NaN</td>\n",
       "      <td>NaN</td>\n",
       "      <td>NaN</td>\n",
       "    </tr>\n",
       "    <tr>\n",
       "      <th>2</th>\n",
       "      <td>4.0</td>\n",
       "      <td>139.0</td>\n",
       "      <td>27.0</td>\n",
       "      <td>329.0</td>\n",
       "      <td>32.0</td>\n",
       "      <td>1059.0</td>\n",
       "      <td>1060.0</td>\n",
       "      <td>201.0</td>\n",
       "      <td>6.0</td>\n",
       "      <td>2.0</td>\n",
       "      <td>18.0</td>\n",
       "      <td>65.0</td>\n",
       "      <td>NaN</td>\n",
       "      <td>NaN</td>\n",
       "      <td>NaN</td>\n",
       "      <td>NaN</td>\n",
       "      <td>NaN</td>\n",
       "      <td>NaN</td>\n",
       "      <td>NaN</td>\n",
       "      <td>NaN</td>\n",
       "      <td>NaN</td>\n",
       "      <td>NaN</td>\n",
       "      <td>NaN</td>\n",
       "    </tr>\n",
       "    <tr>\n",
       "      <th>3</th>\n",
       "      <td>10.0</td>\n",
       "      <td>3.0</td>\n",
       "      <td>781.0</td>\n",
       "      <td>44.0</td>\n",
       "      <td>586.0</td>\n",
       "      <td>38.0</td>\n",
       "      <td>782.0</td>\n",
       "      <td>1182.0</td>\n",
       "      <td>783.0</td>\n",
       "      <td>781.0</td>\n",
       "      <td>81.0</td>\n",
       "      <td>412.0</td>\n",
       "      <td>NaN</td>\n",
       "      <td>NaN</td>\n",
       "      <td>NaN</td>\n",
       "      <td>NaN</td>\n",
       "      <td>NaN</td>\n",
       "      <td>NaN</td>\n",
       "      <td>NaN</td>\n",
       "      <td>NaN</td>\n",
       "      <td>NaN</td>\n",
       "      <td>NaN</td>\n",
       "      <td>NaN</td>\n",
       "    </tr>\n",
       "    <tr>\n",
       "      <th>4</th>\n",
       "      <td>12.0</td>\n",
       "      <td>4.0</td>\n",
       "      <td>5.0</td>\n",
       "      <td>2.0</td>\n",
       "      <td>631.0</td>\n",
       "      <td>NaN</td>\n",
       "      <td>NaN</td>\n",
       "      <td>NaN</td>\n",
       "      <td>NaN</td>\n",
       "      <td>NaN</td>\n",
       "      <td>NaN</td>\n",
       "      <td>NaN</td>\n",
       "      <td>NaN</td>\n",
       "      <td>NaN</td>\n",
       "      <td>NaN</td>\n",
       "      <td>NaN</td>\n",
       "      <td>NaN</td>\n",
       "      <td>NaN</td>\n",
       "      <td>NaN</td>\n",
       "      <td>NaN</td>\n",
       "      <td>NaN</td>\n",
       "      <td>NaN</td>\n",
       "      <td>NaN</td>\n",
       "    </tr>\n",
       "  </tbody>\n",
       "</table>\n",
       "</div>"
      ],
      "text/plain": [
       "      0      1      2      3      4       5   ...  17  18  19  20  21  22\n",
       "0  153.0  944.0  190.0  945.0  328.0    20.0  ... NaN NaN NaN NaN NaN NaN\n",
       "1  104.0    4.0    6.0    3.0  206.0   451.0  ... NaN NaN NaN NaN NaN NaN\n",
       "2    4.0  139.0   27.0  329.0   32.0  1059.0  ... NaN NaN NaN NaN NaN NaN\n",
       "3   10.0    3.0  781.0   44.0  586.0    38.0  ... NaN NaN NaN NaN NaN NaN\n",
       "4   12.0    4.0    5.0    2.0  631.0     NaN  ... NaN NaN NaN NaN NaN NaN\n",
       "\n",
       "[5 rows x 23 columns]"
      ]
     },
     "execution_count": 41,
     "metadata": {
      "tags": []
     },
     "output_type": "execute_result"
    }
   ],
   "source": [
    "pd.DataFrame(X_token).head()"
   ]
  },
  {
   "cell_type": "markdown",
   "metadata": {
    "colab_type": "text",
    "id": "21rZlL519zcR"
   },
   "source": [
    "It means that \"two\" is encoded as 153, \"places\" as 944 and so on...... \"selfdriving\" as 5 and finally \"cars\" as 3"
   ]
  },
  {
   "cell_type": "code",
   "execution_count": 42,
   "metadata": {
    "colab": {
     "base_uri": "https://localhost:8080/",
     "height": 34
    },
    "colab_type": "code",
    "id": "qrOvsAIO8a4S",
    "outputId": "fb7a0065-d2f3-43ff-d06a-3c83079f4ad8"
   },
   "outputs": [
    {
     "data": {
      "text/plain": [
       "'two places id invest money could 3d printing selfdriving cars'"
      ]
     },
     "execution_count": 42,
     "metadata": {
      "tags": []
     },
     "output_type": "execute_result"
    }
   ],
   "source": [
    "df['cleaned'][0]"
   ]
  },
  {
   "cell_type": "code",
   "execution_count": 43,
   "metadata": {
    "colab": {
     "base_uri": "https://localhost:8080/",
     "height": 34
    },
    "colab_type": "code",
    "id": "6WoFLOQf-Szl",
    "outputId": "bad3a9fe-4426-4b09-80c2-e238e0874a32"
   },
   "outputs": [
    {
     "data": {
      "text/plain": [
       "'saw google selfdriving car i34 painted green blue'"
      ]
     },
     "execution_count": 43,
     "metadata": {
      "tags": []
     },
     "output_type": "execute_result"
    }
   ],
   "source": [
    "df['cleaned'][4]"
   ]
  },
  {
   "cell_type": "markdown",
   "metadata": {
    "colab_type": "text",
    "id": "8MhVFubL-mNc"
   },
   "source": [
    "**google is encoded as 4. And cars as 3 . car as 2. Let's confirm our encoding scheme with one more**"
   ]
  },
  {
   "cell_type": "code",
   "execution_count": 44,
   "metadata": {
    "colab": {
     "base_uri": "https://localhost:8080/",
     "height": 34
    },
    "colab_type": "code",
    "id": "tQvHM15Q-juk",
    "outputId": "962e7dd5-5458-40f7-ccb5-026c036fd727"
   },
   "outputs": [
    {
     "data": {
      "text/plain": [
       "'awesome google driverless cars help blind travel often https tco qwuxr0frbpv'"
      ]
     },
     "execution_count": 44,
     "metadata": {
      "tags": []
     },
     "output_type": "execute_result"
    }
   ],
   "source": [
    "df['cleaned'][1]"
   ]
  },
  {
   "cell_type": "markdown",
   "metadata": {
    "colab_type": "text",
    "id": "-6cjKbKN-0Dk"
   },
   "source": [
    "Perfect google is 4 and cars is 3"
   ]
  },
  {
   "cell_type": "markdown",
   "metadata": {
    "colab_type": "text",
    "id": "9TnwL79O09Rd"
   },
   "source": [
    "###  pad_sequence:To keep all vectors of same length, I will use pad_sequence"
   ]
  },
  {
   "cell_type": "code",
   "execution_count": 0,
   "metadata": {
    "colab": {},
    "colab_type": "code",
    "id": "0PtZoGfB0pDT"
   },
   "outputs": [],
   "source": [
    "X_pd_sq = pad_sequences(X_token)"
   ]
  },
  {
   "cell_type": "markdown",
   "metadata": {
    "colab_type": "text",
    "id": "khuQ3S_X1VUF"
   },
   "source": [
    "To avoid AttributeError: 'numpy.ndarray' object has no attribute 'head', we will check in dataframe. Still input to neural network will be numpy array not dataframe"
   ]
  },
  {
   "cell_type": "code",
   "execution_count": 46,
   "metadata": {
    "colab": {
     "base_uri": "https://localhost:8080/",
     "height": 195
    },
    "colab_type": "code",
    "id": "3bsluvli0pAi",
    "outputId": "c1440e51-e5b1-493c-b540-4d9e4f7d41ff"
   },
   "outputs": [
    {
     "data": {
      "text/html": [
       "<div>\n",
       "<style scoped>\n",
       "    .dataframe tbody tr th:only-of-type {\n",
       "        vertical-align: middle;\n",
       "    }\n",
       "\n",
       "    .dataframe tbody tr th {\n",
       "        vertical-align: top;\n",
       "    }\n",
       "\n",
       "    .dataframe thead th {\n",
       "        text-align: right;\n",
       "    }\n",
       "</style>\n",
       "<table border=\"1\" class=\"dataframe\">\n",
       "  <thead>\n",
       "    <tr style=\"text-align: right;\">\n",
       "      <th></th>\n",
       "      <th>0</th>\n",
       "      <th>1</th>\n",
       "      <th>2</th>\n",
       "      <th>3</th>\n",
       "      <th>4</th>\n",
       "      <th>5</th>\n",
       "      <th>6</th>\n",
       "      <th>7</th>\n",
       "      <th>8</th>\n",
       "      <th>9</th>\n",
       "      <th>10</th>\n",
       "      <th>11</th>\n",
       "      <th>12</th>\n",
       "      <th>13</th>\n",
       "      <th>14</th>\n",
       "      <th>15</th>\n",
       "      <th>16</th>\n",
       "      <th>17</th>\n",
       "      <th>18</th>\n",
       "      <th>19</th>\n",
       "      <th>20</th>\n",
       "      <th>21</th>\n",
       "      <th>22</th>\n",
       "    </tr>\n",
       "  </thead>\n",
       "  <tbody>\n",
       "    <tr>\n",
       "      <th>0</th>\n",
       "      <td>0</td>\n",
       "      <td>0</td>\n",
       "      <td>0</td>\n",
       "      <td>0</td>\n",
       "      <td>0</td>\n",
       "      <td>0</td>\n",
       "      <td>0</td>\n",
       "      <td>0</td>\n",
       "      <td>0</td>\n",
       "      <td>0</td>\n",
       "      <td>0</td>\n",
       "      <td>0</td>\n",
       "      <td>0</td>\n",
       "      <td>153</td>\n",
       "      <td>944</td>\n",
       "      <td>190</td>\n",
       "      <td>945</td>\n",
       "      <td>328</td>\n",
       "      <td>20</td>\n",
       "      <td>428</td>\n",
       "      <td>946</td>\n",
       "      <td>5</td>\n",
       "      <td>3</td>\n",
       "    </tr>\n",
       "    <tr>\n",
       "      <th>1</th>\n",
       "      <td>0</td>\n",
       "      <td>0</td>\n",
       "      <td>0</td>\n",
       "      <td>0</td>\n",
       "      <td>0</td>\n",
       "      <td>0</td>\n",
       "      <td>0</td>\n",
       "      <td>0</td>\n",
       "      <td>0</td>\n",
       "      <td>0</td>\n",
       "      <td>0</td>\n",
       "      <td>0</td>\n",
       "      <td>0</td>\n",
       "      <td>0</td>\n",
       "      <td>104</td>\n",
       "      <td>4</td>\n",
       "      <td>6</td>\n",
       "      <td>3</td>\n",
       "      <td>206</td>\n",
       "      <td>451</td>\n",
       "      <td>630</td>\n",
       "      <td>69</td>\n",
       "      <td>1</td>\n",
       "    </tr>\n",
       "    <tr>\n",
       "      <th>2</th>\n",
       "      <td>0</td>\n",
       "      <td>0</td>\n",
       "      <td>0</td>\n",
       "      <td>0</td>\n",
       "      <td>0</td>\n",
       "      <td>0</td>\n",
       "      <td>0</td>\n",
       "      <td>0</td>\n",
       "      <td>0</td>\n",
       "      <td>0</td>\n",
       "      <td>0</td>\n",
       "      <td>4</td>\n",
       "      <td>139</td>\n",
       "      <td>27</td>\n",
       "      <td>329</td>\n",
       "      <td>32</td>\n",
       "      <td>1059</td>\n",
       "      <td>1060</td>\n",
       "      <td>201</td>\n",
       "      <td>6</td>\n",
       "      <td>2</td>\n",
       "      <td>18</td>\n",
       "      <td>65</td>\n",
       "    </tr>\n",
       "    <tr>\n",
       "      <th>3</th>\n",
       "      <td>0</td>\n",
       "      <td>0</td>\n",
       "      <td>0</td>\n",
       "      <td>0</td>\n",
       "      <td>0</td>\n",
       "      <td>0</td>\n",
       "      <td>0</td>\n",
       "      <td>0</td>\n",
       "      <td>0</td>\n",
       "      <td>0</td>\n",
       "      <td>0</td>\n",
       "      <td>10</td>\n",
       "      <td>3</td>\n",
       "      <td>781</td>\n",
       "      <td>44</td>\n",
       "      <td>586</td>\n",
       "      <td>38</td>\n",
       "      <td>782</td>\n",
       "      <td>1182</td>\n",
       "      <td>783</td>\n",
       "      <td>781</td>\n",
       "      <td>81</td>\n",
       "      <td>412</td>\n",
       "    </tr>\n",
       "    <tr>\n",
       "      <th>4</th>\n",
       "      <td>0</td>\n",
       "      <td>0</td>\n",
       "      <td>0</td>\n",
       "      <td>0</td>\n",
       "      <td>0</td>\n",
       "      <td>0</td>\n",
       "      <td>0</td>\n",
       "      <td>0</td>\n",
       "      <td>0</td>\n",
       "      <td>0</td>\n",
       "      <td>0</td>\n",
       "      <td>0</td>\n",
       "      <td>0</td>\n",
       "      <td>0</td>\n",
       "      <td>0</td>\n",
       "      <td>0</td>\n",
       "      <td>0</td>\n",
       "      <td>0</td>\n",
       "      <td>12</td>\n",
       "      <td>4</td>\n",
       "      <td>5</td>\n",
       "      <td>2</td>\n",
       "      <td>631</td>\n",
       "    </tr>\n",
       "  </tbody>\n",
       "</table>\n",
       "</div>"
      ],
      "text/plain": [
       "   0   1   2   3   4   5   6   7   ...   15    16    17    18   19   20  21   22\n",
       "0   0   0   0   0   0   0   0   0  ...  190   945   328    20  428  946   5    3\n",
       "1   0   0   0   0   0   0   0   0  ...    4     6     3   206  451  630  69    1\n",
       "2   0   0   0   0   0   0   0   0  ...   32  1059  1060   201    6    2  18   65\n",
       "3   0   0   0   0   0   0   0   0  ...  586    38   782  1182  783  781  81  412\n",
       "4   0   0   0   0   0   0   0   0  ...    0     0     0    12    4    5   2  631\n",
       "\n",
       "[5 rows x 23 columns]"
      ]
     },
     "execution_count": 46,
     "metadata": {
      "tags": []
     },
     "output_type": "execute_result"
    }
   ],
   "source": [
    "pd.DataFrame(X_pd_sq).head()"
   ]
  },
  {
   "cell_type": "markdown",
   "metadata": {
    "colab_type": "text",
    "id": "maVt0zGJAAHz"
   },
   "source": [
    "**All in one step**"
   ]
  },
  {
   "cell_type": "code",
   "execution_count": 0,
   "metadata": {
    "colab": {},
    "colab_type": "code",
    "id": "lKtbpsvMpZpQ"
   },
   "outputs": [],
   "source": [
    "#max_fatures = 2000\n",
    "#tokenizer = Tokenizer(num_words=max_fatures, split=' ')\n",
    "#tokenizer.fit_on_texts(X)\n",
    "#X = tokenizer.texts_to_sequences(X)\n",
    "#X = pad_sequences(X)"
   ]
  },
  {
   "cell_type": "code",
   "execution_count": 47,
   "metadata": {
    "colab": {
     "base_uri": "https://localhost:8080/",
     "height": 34
    },
    "colab_type": "code",
    "id": "8VOZvWUb0mg8",
    "outputId": "10a212ed-38a6-4e46-9de6-978430c8bbbd"
   },
   "outputs": [
    {
     "data": {
      "text/plain": [
       "(6943, 23)"
      ]
     },
     "execution_count": 47,
     "metadata": {
      "tags": []
     },
     "output_type": "execute_result"
    }
   ],
   "source": [
    "X_pd_sq.shape"
   ]
  },
  {
   "cell_type": "markdown",
   "metadata": {
    "colab_type": "text",
    "id": "We8N3ZKvAvRg"
   },
   "source": [
    "## Step 2- Train-test split"
   ]
  },
  {
   "cell_type": "code",
   "execution_count": 0,
   "metadata": {
    "colab": {},
    "colab_type": "code",
    "id": "W0XeBVBWp35U"
   },
   "outputs": [],
   "source": [
    "from sklearn.model_selection import train_test_split\n",
    "X_train, X_test, y_train, y_test = train_test_split(X_pd_sq, Y, random_state=2019)"
   ]
  },
  {
   "cell_type": "code",
   "execution_count": 49,
   "metadata": {
    "colab": {
     "base_uri": "https://localhost:8080/",
     "height": 34
    },
    "colab_type": "code",
    "id": "OZUX4PUPqAEz",
    "outputId": "8068906a-574c-4fb3-be66-42cec4ab5088"
   },
   "outputs": [
    {
     "data": {
      "text/plain": [
       "((5207, 23), (1736, 23))"
      ]
     },
     "execution_count": 49,
     "metadata": {
      "tags": []
     },
     "output_type": "execute_result"
    }
   ],
   "source": [
    "X_train.shape, X_test.shape"
   ]
  },
  {
   "cell_type": "code",
   "execution_count": 50,
   "metadata": {
    "colab": {
     "base_uri": "https://localhost:8080/",
     "height": 50
    },
    "colab_type": "code",
    "id": "YSVXeern-HWJ",
    "outputId": "963ac015-09dd-4e7f-b8ad-9bb684b36e4a"
   },
   "outputs": [
    {
     "name": "stdout",
     "output_type": "stream",
     "text": [
      "(5207,)\n",
      "(1736,)\n"
     ]
    }
   ],
   "source": [
    "print(y_train.shape)\n",
    "print(y_test.shape)"
   ]
  },
  {
   "cell_type": "markdown",
   "metadata": {
    "colab_type": "text",
    "id": "bwQ9d-jeA1A4"
   },
   "source": [
    "## Step 3- Encoding y-labeled feature"
   ]
  },
  {
   "cell_type": "code",
   "execution_count": 0,
   "metadata": {
    "colab": {},
    "colab_type": "code",
    "id": "Fnesdam6-Rs9"
   },
   "outputs": [],
   "source": [
    "# keras needs inputs to be vectors , so one hot encoding values\n",
    "from keras.utils import np_utils\n",
    "def one_hot_encode_object_array(arr):\n",
    "    '''One hot encode a numpy array of objects (e.g. strings)'''\n",
    "    uniques, ids = np.unique(arr, return_inverse=True)\n",
    "    return np_utils.to_categorical(ids, len(uniques))\n",
    "\n",
    "y_train_ohe=one_hot_encode_object_array(y_train)\n",
    "y_test_ohe=one_hot_encode_object_array(y_test)"
   ]
  },
  {
   "cell_type": "markdown",
   "metadata": {
    "colab_type": "text",
    "id": "D-CNjemi-8Wh"
   },
   "source": [
    "**this step is very important as we need to decode categorical variables into dummy**"
   ]
  },
  {
   "cell_type": "code",
   "execution_count": 52,
   "metadata": {
    "colab": {
     "base_uri": "https://localhost:8080/",
     "height": 118
    },
    "colab_type": "code",
    "id": "Nke5DcC9-n8a",
    "outputId": "84cbcecb-2b1e-4d55-9fd9-8ba6006d5b99"
   },
   "outputs": [
    {
     "data": {
      "text/plain": [
       "2915    Beneficial\n",
       "3020       Neutral\n",
       "2044       Neutral\n",
       "2768    Beneficial\n",
       "6586         Risky\n",
       "Name: sent_numeric, dtype: object"
      ]
     },
     "execution_count": 52,
     "metadata": {
      "tags": []
     },
     "output_type": "execute_result"
    }
   ],
   "source": [
    "y_train[:5]"
   ]
  },
  {
   "cell_type": "code",
   "execution_count": 53,
   "metadata": {
    "colab": {
     "base_uri": "https://localhost:8080/",
     "height": 101
    },
    "colab_type": "code",
    "id": "Q0oVHJha-n_N",
    "outputId": "e344acf6-2a69-4a14-d219-2e224e74489c"
   },
   "outputs": [
    {
     "data": {
      "text/plain": [
       "array([[1., 0., 0.],\n",
       "       [0., 1., 0.],\n",
       "       [0., 1., 0.],\n",
       "       [1., 0., 0.],\n",
       "       [0., 0., 1.]], dtype=float32)"
      ]
     },
     "execution_count": 53,
     "metadata": {
      "tags": []
     },
     "output_type": "execute_result"
    }
   ],
   "source": [
    "y_train_ohe[:5]"
   ]
  },
  {
   "cell_type": "code",
   "execution_count": 54,
   "metadata": {
    "colab": {
     "base_uri": "https://localhost:8080/",
     "height": 118
    },
    "colab_type": "code",
    "id": "KRCvrfmh-oCL",
    "outputId": "a970eaa1-541b-4686-a1fc-6a3d5f083cc7"
   },
   "outputs": [
    {
     "data": {
      "text/plain": [
       "5682       Neutral\n",
       "6394       Neutral\n",
       "2506         Risky\n",
       "2165    Beneficial\n",
       "1224    Beneficial\n",
       "Name: sent_numeric, dtype: object"
      ]
     },
     "execution_count": 54,
     "metadata": {
      "tags": []
     },
     "output_type": "execute_result"
    }
   ],
   "source": [
    "y_test[:5]"
   ]
  },
  {
   "cell_type": "code",
   "execution_count": 55,
   "metadata": {
    "colab": {
     "base_uri": "https://localhost:8080/",
     "height": 101
    },
    "colab_type": "code",
    "id": "sKEWG3Ty-srY",
    "outputId": "5530962f-f5cd-4026-e3ed-8dcddf47bb53"
   },
   "outputs": [
    {
     "data": {
      "text/plain": [
       "array([[0., 1., 0.],\n",
       "       [0., 1., 0.],\n",
       "       [0., 0., 1.],\n",
       "       [1., 0., 0.],\n",
       "       [1., 0., 0.]], dtype=float32)"
      ]
     },
     "execution_count": 55,
     "metadata": {
      "tags": []
     },
     "output_type": "execute_result"
    }
   ],
   "source": [
    "y_test_ohe[:5]"
   ]
  },
  {
   "cell_type": "code",
   "execution_count": 56,
   "metadata": {
    "colab": {
     "base_uri": "https://localhost:8080/",
     "height": 34
    },
    "colab_type": "code",
    "id": "9_f8rG_fEAdm",
    "outputId": "05322e95-4f51-429a-be54-3dfe38c1e28f"
   },
   "outputs": [
    {
     "data": {
      "text/plain": [
       "['Neutral', 'Beneficial', 'Risky']"
      ]
     },
     "execution_count": 56,
     "metadata": {
      "tags": []
     },
     "output_type": "execute_result"
    }
   ],
   "source": [
    "unique_y_labels = list(y_train.value_counts().index)\n",
    "unique_y_labels"
   ]
  },
  {
   "cell_type": "code",
   "execution_count": 57,
   "metadata": {
    "colab": {
     "base_uri": "https://localhost:8080/",
     "height": 34
    },
    "colab_type": "code",
    "id": "9BgCYy2hEIJo",
    "outputId": "cabd71c8-f025-48c0-c37b-0339db892d6d"
   },
   "outputs": [
    {
     "data": {
      "text/plain": [
       "3"
      ]
     },
     "execution_count": 57,
     "metadata": {
      "tags": []
     },
     "output_type": "execute_result"
    }
   ],
   "source": [
    "len(unique_y_labels)"
   ]
  },
  {
   "cell_type": "markdown",
   "metadata": {
    "colab_type": "text",
    "id": "KUyRRaOvEJny"
   },
   "source": [
    "**Hence , our last dense layer will be of size 3"
   ]
  },
  {
   "cell_type": "markdown",
   "metadata": {
    "colab_type": "text",
    "id": "1M2CP7UpqFrm"
   },
   "source": [
    "## Step 4- Build LSTM model"
   ]
  },
  {
   "cell_type": "code",
   "execution_count": 0,
   "metadata": {
    "colab": {},
    "colab_type": "code",
    "id": "RJXMqFciqCOm"
   },
   "outputs": [],
   "source": [
    "embed_dim = 128\n",
    "lstm_out = 196\n",
    "max_fatures = 2000\n",
    "size_of_each_vect=X_train.shape[1]\n",
    "uniq_y_label=len(unique_y_labels)\n"
   ]
  },
  {
   "cell_type": "code",
   "execution_count": 60,
   "metadata": {
    "colab": {
     "base_uri": "https://localhost:8080/",
     "height": 406
    },
    "colab_type": "code",
    "id": "nXNQYzJxqK6q",
    "outputId": "265bbec8-1223-4595-fa16-eef8f7f1aa5c"
   },
   "outputs": [
    {
     "name": "stdout",
     "output_type": "stream",
     "text": [
      "WARNING:tensorflow:From /usr/local/lib/python3.6/dist-packages/tensorflow/python/framework/op_def_library.py:263: colocate_with (from tensorflow.python.framework.ops) is deprecated and will be removed in a future version.\n",
      "Instructions for updating:\n",
      "Colocations handled automatically by placer.\n",
      "WARNING:tensorflow:From /usr/local/lib/python3.6/dist-packages/keras/backend/tensorflow_backend.py:3445: calling dropout (from tensorflow.python.ops.nn_ops) with keep_prob is deprecated and will be removed in a future version.\n",
      "Instructions for updating:\n",
      "Please use `rate` instead of `keep_prob`. Rate should be set to `rate = 1 - keep_prob`.\n",
      "_________________________________________________________________\n",
      "Layer (type)                 Output Shape              Param #   \n",
      "=================================================================\n",
      "embedding_1 (Embedding)      (None, 23, 128)           256000    \n",
      "_________________________________________________________________\n",
      "spatial_dropout1d_1 (Spatial (None, 23, 128)           0         \n",
      "_________________________________________________________________\n",
      "lstm_1 (LSTM)                (None, 196)               254800    \n",
      "_________________________________________________________________\n",
      "dense_1 (Dense)              (None, 3)                 591       \n",
      "=================================================================\n",
      "Total params: 511,391\n",
      "Trainable params: 511,391\n",
      "Non-trainable params: 0\n",
      "_________________________________________________________________\n",
      "None\n"
     ]
    }
   ],
   "source": [
    "model = Sequential()\n",
    "model.add(Embedding(max_fatures, embed_dim,input_length = size_of_each_vect))\n",
    "# X.shape[1] refers to 23 columns \n",
    "model.add(SpatialDropout1D(0.4))\n",
    "model.add(LSTM(lstm_out, dropout=0.2, recurrent_dropout=0.2))\n",
    "model.add(Dense(uniq_y_label,activation='softmax'))\n",
    "model.compile(loss = 'categorical_crossentropy', optimizer='adam',metrics = ['accuracy'])\n",
    "print(model.summary())"
   ]
  },
  {
   "cell_type": "markdown",
   "metadata": {
    "colab_type": "text",
    "id": "qmRIVDZMrSUj"
   },
   "source": [
    "## Step 5- Train model"
   ]
  },
  {
   "cell_type": "code",
   "execution_count": 0,
   "metadata": {
    "colab": {},
    "colab_type": "code",
    "id": "s6YRmq7yqrOk"
   },
   "outputs": [],
   "source": [
    "batch_size = 32\n",
    "epochs = 20"
   ]
  },
  {
   "cell_type": "code",
   "execution_count": 0,
   "metadata": {
    "colab": {},
    "colab_type": "code",
    "id": "mWXmVkpyqryT"
   },
   "outputs": [],
   "source": [
    "from keras.callbacks import EarlyStopping"
   ]
  },
  {
   "cell_type": "code",
   "execution_count": 63,
   "metadata": {
    "colab": {
     "base_uri": "https://localhost:8080/",
     "height": 272
    },
    "colab_type": "code",
    "id": "c-u4WAVnqrrs",
    "outputId": "a7e2c3dc-5572-4725-bcd6-b3367b63de03"
   },
   "outputs": [
    {
     "name": "stdout",
     "output_type": "stream",
     "text": [
      "WARNING:tensorflow:From /usr/local/lib/python3.6/dist-packages/tensorflow/python/ops/math_ops.py:3066: to_int32 (from tensorflow.python.ops.math_ops) is deprecated and will be removed in a future version.\n",
      "Instructions for updating:\n",
      "Use tf.cast instead.\n",
      "Train on 4686 samples, validate on 521 samples\n",
      "Epoch 1/20\n",
      "4686/4686 [==============================] - 11s 2ms/step - loss: 0.8815 - acc: 0.6131 - val_loss: 0.8004 - val_acc: 0.6583\n",
      "Epoch 2/20\n",
      "4686/4686 [==============================] - 7s 1ms/step - loss: 0.7393 - acc: 0.6897 - val_loss: 0.7726 - val_acc: 0.6871\n",
      "Epoch 3/20\n",
      "4686/4686 [==============================] - 7s 2ms/step - loss: 0.6112 - acc: 0.7589 - val_loss: 0.8003 - val_acc: 0.6718\n",
      "Epoch 4/20\n",
      "4686/4686 [==============================] - 7s 1ms/step - loss: 0.5216 - acc: 0.8020 - val_loss: 0.8668 - val_acc: 0.6756\n",
      "Epoch 5/20\n",
      "4686/4686 [==============================] - 7s 2ms/step - loss: 0.4605 - acc: 0.8246 - val_loss: 0.8879 - val_acc: 0.6891\n"
     ]
    }
   ],
   "source": [
    "history = model.fit(X_train, y_train_ohe, epochs=epochs, batch_size=batch_size,validation_split=0.1,callbacks=[EarlyStopping(monitor='val_loss', patience=3, min_delta=0.0001)])"
   ]
  },
  {
   "cell_type": "markdown",
   "metadata": {
    "colab_type": "text",
    "id": "S1rZxDs4ZCwW"
   },
   "source": [
    "## Step 6- Evaluate"
   ]
  },
  {
   "cell_type": "code",
   "execution_count": 0,
   "metadata": {
    "colab": {},
    "colab_type": "code",
    "id": "aYMY7ur9qrl0"
   },
   "outputs": [],
   "source": [
    "y_pred = model.predict(X_test)"
   ]
  },
  {
   "cell_type": "code",
   "execution_count": 65,
   "metadata": {
    "colab": {
     "base_uri": "https://localhost:8080/",
     "height": 101
    },
    "colab_type": "code",
    "id": "2g4fdnm2qrdk",
    "outputId": "380d968f-0abd-4915-faea-79c242571d61"
   },
   "outputs": [
    {
     "data": {
      "text/plain": [
       "array([[0.10793811, 0.83899426, 0.05306767],\n",
       "       [0.1139795 , 0.87932414, 0.00669639],\n",
       "       [0.63438123, 0.35093048, 0.01468828],\n",
       "       [0.04851866, 0.9488807 , 0.00260069],\n",
       "       [0.5560761 , 0.37930068, 0.06462316]], dtype=float32)"
      ]
     },
     "execution_count": 65,
     "metadata": {
      "tags": []
     },
     "output_type": "execute_result"
    }
   ],
   "source": [
    "y_pred[:5]"
   ]
  },
  {
   "cell_type": "markdown",
   "metadata": {
    "colab_type": "text",
    "id": "00jPyc_LDR0D"
   },
   "source": [
    "**These are probabilities of output**"
   ]
  },
  {
   "cell_type": "code",
   "execution_count": 66,
   "metadata": {
    "colab": {
     "base_uri": "https://localhost:8080/",
     "height": 101
    },
    "colab_type": "code",
    "id": "HQNopGbOrjXi",
    "outputId": "27386d9e-ed8a-4662-9bd0-d6ceaaf6298d"
   },
   "outputs": [
    {
     "data": {
      "text/plain": [
       "array([[0., 1., 0.],\n",
       "       [0., 1., 0.],\n",
       "       [0., 0., 1.],\n",
       "       [1., 0., 0.],\n",
       "       [1., 0., 0.]], dtype=float32)"
      ]
     },
     "execution_count": 66,
     "metadata": {
      "tags": []
     },
     "output_type": "execute_result"
    }
   ],
   "source": [
    "y_test_ohe[:5]"
   ]
  },
  {
   "cell_type": "code",
   "execution_count": 0,
   "metadata": {
    "colab": {},
    "colab_type": "code",
    "id": "AZjjnbGtrjRG"
   },
   "outputs": [],
   "source": [
    "## predict crisp classes for test set. Output will be 1-D\n",
    "y_test_class = np.argmax(y_test_ohe,axis=1)\n",
    "y_pred_class = np.argmax(y_pred,axis=1)"
   ]
  },
  {
   "cell_type": "markdown",
   "metadata": {
    "colab_type": "text",
    "id": "veRdZ9m7DVuO"
   },
   "source": [
    "**Converting prob. into crisp classes i.e in 1D.**"
   ]
  },
  {
   "cell_type": "code",
   "execution_count": 68,
   "metadata": {
    "colab": {
     "base_uri": "https://localhost:8080/",
     "height": 34
    },
    "colab_type": "code",
    "id": "gI67MM26TxfH",
    "outputId": "8119854e-fb53-48e2-efe8-337f20ac9347"
   },
   "outputs": [
    {
     "data": {
      "text/plain": [
       "array([1, 1, 2, 0, 0])"
      ]
     },
     "execution_count": 68,
     "metadata": {
      "tags": []
     },
     "output_type": "execute_result"
    }
   ],
   "source": [
    "y_test_class[:5]"
   ]
  },
  {
   "cell_type": "markdown",
   "metadata": {
    "colab_type": "text",
    "id": "tcmbdxGDGr-j"
   },
   "source": [
    "**By comparing from y_test_ohe, we can see that '1' in y_test_class means neutral. <br>\n",
    "2 means [0,0,1] of y_test_ohe .It means we have Risky component<br>\n",
    "0 means [1,0,0] which means beneficial**"
   ]
  },
  {
   "cell_type": "code",
   "execution_count": 69,
   "metadata": {
    "colab": {
     "base_uri": "https://localhost:8080/",
     "height": 34
    },
    "colab_type": "code",
    "id": "kQIT8KqqTyGS",
    "outputId": "556bc9f3-0fc3-40dd-9afc-876de1850b91"
   },
   "outputs": [
    {
     "data": {
      "text/plain": [
       "array([1, 1, 0, 1, 0])"
      ]
     },
     "execution_count": 69,
     "metadata": {
      "tags": []
     },
     "output_type": "execute_result"
    }
   ],
   "source": [
    "y_pred_class[:5]"
   ]
  },
  {
   "cell_type": "markdown",
   "metadata": {
    "colab_type": "text",
    "id": "Akw3mqLsrtHh"
   },
   "source": [
    "### a)- Classification Report"
   ]
  },
  {
   "cell_type": "code",
   "execution_count": 70,
   "metadata": {
    "colab": {
     "base_uri": "https://localhost:8080/",
     "height": 185
    },
    "colab_type": "code",
    "id": "zHQBRRLxrjLE",
    "outputId": "aede526b-e19f-4893-c0a3-63f2e779977f"
   },
   "outputs": [
    {
     "name": "stdout",
     "output_type": "stream",
     "text": [
      "              precision    recall  f1-score   support\n",
      "\n",
      "           0       0.57      0.52      0.55       444\n",
      "           1       0.74      0.86      0.79      1077\n",
      "           2       0.55      0.20      0.29       215\n",
      "\n",
      "    accuracy                           0.69      1736\n",
      "   macro avg       0.62      0.53      0.54      1736\n",
      "weighted avg       0.67      0.69      0.67      1736\n",
      "\n"
     ]
    }
   ],
   "source": [
    "from sklearn.metrics import classification_report,confusion_matrix\n",
    "print(classification_report(y_test_class,y_pred_class))"
   ]
  },
  {
   "cell_type": "markdown",
   "metadata": {
    "colab_type": "text",
    "id": "_VnnJLT7HLcp"
   },
   "source": [
    "0 is Beneficial<br>\n",
    "1 is Neutral <br>\n",
    "2 is Risky<br>"
   ]
  },
  {
   "cell_type": "markdown",
   "metadata": {
    "colab_type": "text",
    "id": "EojRVan0BS8U"
   },
   "source": [
    "### b)-Confusion Matrix"
   ]
  },
  {
   "cell_type": "code",
   "execution_count": 71,
   "metadata": {
    "colab": {
     "base_uri": "https://localhost:8080/",
     "height": 67
    },
    "colab_type": "code",
    "id": "6f5ENqqtrq8Q",
    "outputId": "748229ee-1bd8-4bc6-f2d6-2f156d19feb9"
   },
   "outputs": [
    {
     "name": "stdout",
     "output_type": "stream",
     "text": [
      "[[233 204   7]\n",
      " [126 924  27]\n",
      " [ 51 122  42]]\n"
     ]
    }
   ],
   "source": [
    "print(confusion_matrix(y_test_class,y_pred_class))"
   ]
  },
  {
   "cell_type": "markdown",
   "metadata": {
    "colab_type": "text",
    "id": "UTsW3c8NBWk2"
   },
   "source": [
    "### c)- Loss and Accuracy"
   ]
  },
  {
   "cell_type": "code",
   "execution_count": 72,
   "metadata": {
    "colab": {
     "base_uri": "https://localhost:8080/",
     "height": 50
    },
    "colab_type": "code",
    "id": "dbfUWH3_sG7c",
    "outputId": "09980e0c-885c-4b92-90a7-5c1d9a87294d"
   },
   "outputs": [
    {
     "name": "stdout",
     "output_type": "stream",
     "text": [
      "Training Accuracy: 0.8414\n",
      "Training Loss: 0.4313\n"
     ]
    }
   ],
   "source": [
    "loss, accuracy = model.evaluate(X_train, y_train_ohe, verbose=False)\n",
    "print(\"Training Accuracy: {:.4f}\".format(accuracy))\n",
    "print(\"Training Loss: {:.4f}\".format(loss))"
   ]
  },
  {
   "cell_type": "code",
   "execution_count": 73,
   "metadata": {
    "colab": {
     "base_uri": "https://localhost:8080/",
     "height": 50
    },
    "colab_type": "code",
    "id": "1YLV6NumsKM4",
    "outputId": "4b6121ac-50af-4498-86cf-d7c1569491b8"
   },
   "outputs": [
    {
     "name": "stdout",
     "output_type": "stream",
     "text": [
      "Testing Accuracy:  0.6907\n",
      "Testing Loss:  0.8831\n"
     ]
    }
   ],
   "source": [
    "loss, accuracy = model.evaluate(X_test, y_test_ohe, verbose=False)\n",
    "print(\"Testing Accuracy:  {:.4f}\".format(accuracy))\n",
    "print(\"Testing Loss:  {:.4f}\".format(loss))"
   ]
  },
  {
   "cell_type": "code",
   "execution_count": 0,
   "metadata": {
    "colab": {},
    "colab_type": "code",
    "id": "wDIaUe-WsP28"
   },
   "outputs": [],
   "source": [
    "import matplotlib.pyplot as plt\n",
    "plt.style.use('ggplot')\n",
    "\n",
    "def plot_history(history):\n",
    "    acc = history.history['acc']\n",
    "    val_acc = history.history['val_acc']\n",
    "    loss = history.history['loss']\n",
    "    val_loss = history.history['val_loss']\n",
    "    x = range(1, len(acc) + 1)\n",
    "\n",
    "    plt.figure(figsize=(12, 5))\n",
    "    plt.subplot(1, 2, 1)\n",
    "    plt.plot(x, acc, 'b', label='Training acc')\n",
    "    plt.plot(x, val_acc, 'r', label='Validation acc')\n",
    "    plt.title('Training and validation accuracy')\n",
    "    plt.legend()\n",
    "    plt.subplot(1, 2, 2)\n",
    "    plt.plot(x, loss, 'b', label='Training loss')\n",
    "    plt.plot(x, val_loss, 'r', label='Validation loss')\n",
    "    plt.title('Training and validation loss')\n",
    "    plt.legend()"
   ]
  },
  {
   "cell_type": "code",
   "execution_count": 75,
   "metadata": {
    "colab": {
     "base_uri": "https://localhost:8080/",
     "height": 337
    },
    "colab_type": "code",
    "id": "LWn7459_sZnd",
    "outputId": "8849dd76-d276-4c23-d920-a35573ece4be"
   },
   "outputs": [
    {
     "data": {
      "image/png": "[encoded data removed]",
      "text/plain": [
       "<Figure size 864x360 with 2 Axes>"
      ]
     },
     "metadata": {
      "tags": []
     },
     "output_type": "display_data"
    }
   ],
   "source": [
    "plot_history(history)"
   ]
  },
  {
   "cell_type": "markdown",
   "metadata": {
    "colab_type": "text",
    "id": "WRj6yQszV3YJ"
   },
   "source": [
    "### d)- Checking results test set"
   ]
  },
  {
   "cell_type": "code",
   "execution_count": 76,
   "metadata": {
    "colab": {
     "base_uri": "https://localhost:8080/",
     "height": 118
    },
    "colab_type": "code",
    "id": "Tyffe1_8LcFq",
    "outputId": "fc5bf4a2-7a24-408d-fe2c-40454920b971"
   },
   "outputs": [
    {
     "data": {
      "text/plain": [
       "5682       Neutral\n",
       "6394       Neutral\n",
       "2506         Risky\n",
       "2165    Beneficial\n",
       "1224    Beneficial\n",
       "Name: sent_numeric, dtype: object"
      ]
     },
     "execution_count": 76,
     "metadata": {
      "tags": []
     },
     "output_type": "execute_result"
    }
   ],
   "source": [
    "y_test[:5]"
   ]
  },
  {
   "cell_type": "code",
   "execution_count": 77,
   "metadata": {
    "colab": {
     "base_uri": "https://localhost:8080/",
     "height": 101
    },
    "colab_type": "code",
    "id": "by6CJzIDOrp_",
    "outputId": "65c7a4af-822b-4ccb-e3e2-6a89b40506b7"
   },
   "outputs": [
    {
     "data": {
      "text/plain": [
       "array([[0., 1., 0.],\n",
       "       [0., 1., 0.],\n",
       "       [0., 0., 1.],\n",
       "       [1., 0., 0.],\n",
       "       [1., 0., 0.]], dtype=float32)"
      ]
     },
     "execution_count": 77,
     "metadata": {
      "tags": []
     },
     "output_type": "execute_result"
    }
   ],
   "source": [
    "y_test_ohe[:5]"
   ]
  },
  {
   "cell_type": "code",
   "execution_count": 78,
   "metadata": {
    "colab": {
     "base_uri": "https://localhost:8080/",
     "height": 101
    },
    "colab_type": "code",
    "id": "-QOsVe_vO7lX",
    "outputId": "a3d3756a-76d6-4d34-f856-84c30afe56b9"
   },
   "outputs": [
    {
     "data": {
      "text/plain": [
       "array([[0.10793811, 0.83899426, 0.05306767],\n",
       "       [0.1139795 , 0.87932414, 0.00669639],\n",
       "       [0.63438123, 0.35093048, 0.01468828],\n",
       "       [0.04851866, 0.9488807 , 0.00260069],\n",
       "       [0.5560761 , 0.37930068, 0.06462316]], dtype=float32)"
      ]
     },
     "execution_count": 78,
     "metadata": {
      "tags": []
     },
     "output_type": "execute_result"
    }
   ],
   "source": [
    "prediction=model.predict(X_test)\n",
    "prediction[:5]"
   ]
  },
  {
   "cell_type": "code",
   "execution_count": 79,
   "metadata": {
    "colab": {
     "base_uri": "https://localhost:8080/",
     "height": 34
    },
    "colab_type": "code",
    "id": "GdnFa3KKPWCq",
    "outputId": "cfa221e0-86ff-426f-d8c9-21eb2ce3b52a"
   },
   "outputs": [
    {
     "data": {
      "text/plain": [
       "'The future right there! \"New Google Self-Driving Car Ditches the Steering Wheel\" http://t.co/0uBbqVhASM'"
      ]
     },
     "execution_count": 79,
     "metadata": {
      "tags": []
     },
     "output_type": "execute_result"
    }
   ],
   "source": [
    "# checking with original text at index 5682\n",
    "df.text.loc[2165]"
   ]
  },
  {
   "cell_type": "code",
   "execution_count": 80,
   "metadata": {
    "colab": {
     "base_uri": "https://localhost:8080/",
     "height": 101
    },
    "colab_type": "code",
    "id": "BMux1cghQSF8",
    "outputId": "c596d395-45cf-49fd-9022-2e6597ff674b"
   },
   "outputs": [
    {
     "data": {
      "text/plain": [
       "text            The future right there! \"New Google Self-Drivi...\n",
       "sent_numeric                                           Beneficial\n",
       "labels                                                          1\n",
       "cleaned         future right new google selfdriving car ditche...\n",
       "Name: 2165, dtype: object"
      ]
     },
     "execution_count": 80,
     "metadata": {
      "tags": []
     },
     "output_type": "execute_result"
    }
   ],
   "source": [
    "df.loc[2165]"
   ]
  },
  {
   "cell_type": "code",
   "execution_count": 0,
   "metadata": {
    "colab": {},
    "colab_type": "code",
    "id": "l2SUeNDUscwD"
   },
   "outputs": [],
   "source": [
    "#[print(df['text'][i], y_pred[i], y_test_ohe[i]) for i in range(0, 5)]\n",
    "\n"
   ]
  },
  {
   "cell_type": "markdown",
   "metadata": {
    "colab_type": "text",
    "id": "dkcA0Fl3V8r5"
   },
   "source": [
    "**Interpret**\n",
    "\n",
    "- We have checked 1st five sentiment from 'text' feature. So, 1st column is text<br>\n",
    "- 2nd column is predicted results. These are probability values of each sentiment. 0 ,1,2 as they were encoded. 'Risky':0, 'Beneficial':1, 'Neutral':2. So, 0 is risky, 1 is beneficial and 2 is neut. Probability of risky is 0.15, beneficial is 0.819 and neut is 0.119. Clearly, this text has tendency to be beneficial having highest probability<br>\n",
    "- Third column shows real values of sentiment. Sequence is same as we encoded. And we can see that actual text was of beneficial sentiment. So, our prediction is correct in this case"
   ]
  },
  {
   "cell_type": "code",
   "execution_count": 81,
   "metadata": {
    "colab": {
     "base_uri": "https://localhost:8080/",
     "height": 118
    },
    "colab_type": "code",
    "id": "itwBZsUzsfOo",
    "outputId": "7b5d033b-5620-4a09-c977-87caedfeebb0"
   },
   "outputs": [
    {
     "name": "stdout",
     "output_type": "stream",
     "text": [
      "Benefit predictions: 410\n",
      "Neutral predictions: 1250\n",
      "Risk predictions: 76\n",
      "Real Benefit values: 444\n",
      "Real neutral values: 1077\n",
      "Real Risk values: 215\n"
     ]
    }
   ],
   "source": [
    "pos_count, neu_count, neg_count = 0, 0, 0\n",
    "real_pos, real_neu, real_neg = 0, 0, 0\n",
    "for i, y_pred in enumerate(y_pred):\n",
    "    if np.argmax(y_pred)==2:\n",
    "        neg_count += 1\n",
    "    elif np.argmax(y_pred)==1:\n",
    "        neu_count += 1\n",
    "    else:\n",
    "        pos_count += 1\n",
    "    \n",
    "    if np.argmax(y_test_ohe[i])==2:\n",
    "        real_neg += 1\n",
    "    elif np.argmax(y_test_ohe[i])==1:    \n",
    "        real_neu += 1\n",
    "    else:\n",
    "        real_pos +=1\n",
    "\n",
    "print('Benefit predictions:', pos_count)\n",
    "print('Neutral predictions:', neu_count)\n",
    "print('Risk predictions:', neg_count)\n",
    "print('Real Benefit values:', real_pos)\n",
    "print('Real neutral values:', real_neu)\n",
    "print('Real Risk values:', real_neg)"
   ]
  },
  {
   "cell_type": "markdown",
   "metadata": {
    "colab_type": "text",
    "id": "1ixneqGbU61n"
   },
   "source": [
    "test set has 1736.<br>\n",
    "Real values are +ve as 444, neut 1077, neg 215<br>\n",
    "We predicted +ve as 468, neut,1142, neg 126<br>"
   ]
  },
  {
   "cell_type": "code",
   "execution_count": 82,
   "metadata": {
    "colab": {
     "base_uri": "https://localhost:8080/",
     "height": 84
    },
    "colab_type": "code",
    "id": "guIDzmPLgCOU",
    "outputId": "817da0be-b266-461e-df99-3e7b95575fe2"
   },
   "outputs": [
    {
     "data": {
      "text/plain": [
       "Risky          215\n",
       "Beneficial     444\n",
       "Neutral       1077\n",
       "Name: sent_numeric, dtype: int64"
      ]
     },
     "execution_count": 82,
     "metadata": {
      "tags": []
     },
     "output_type": "execute_result"
    }
   ],
   "source": [
    "y_test.value_counts(ascending=True)"
   ]
  }
 ],
 "metadata": {
  "accelerator": "GPU",
  "colab": {
   "collapsed_sections": [],
   "name": "Paper3.ipynb",
   "provenance": [],
   "version": "0.3.2"
  },
  "kernelspec": {
   "display_name": "Python 3",
   "language": "python",
   "name": "python3"
  },
  "language_info": {
   "codemirror_mode": {
    "name": "ipython",
    "version": 3
   },
   "file_extension": ".py",
   "mimetype": "text/x-python",
   "name": "python",
   "nbconvert_exporter": "python",
   "pygments_lexer": "ipython3",
   "version": "3.6.5"
  }
 },
 "nbformat": 4,
 "nbformat_minor": 1
}
