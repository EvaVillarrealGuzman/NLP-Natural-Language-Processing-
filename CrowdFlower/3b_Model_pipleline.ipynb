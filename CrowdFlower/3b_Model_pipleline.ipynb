{
  "nbformat": 4,
  "nbformat_minor": 0,
  "metadata": {
    "colab": {
      "name": "3b.Model_pipleline.ipynb",
      "provenance": [],
      "collapsed_sections": []
    },
    "kernelspec": {
      "name": "python3",
      "display_name": "Python 3"
    },
    "accelerator": "GPU"
  },
  "cells": [
    {
      "cell_type": "markdown",
      "metadata": {
        "id": "QJxJLfT6m4zo",
        "colab_type": "text"
      },
      "source": [
        "# Automatic tagging \n",
        "\n",
        "- Applying deep learning concepts"
      ]
    },
    {
      "cell_type": "markdown",
      "metadata": {
        "id": "YvFSu3KOnCQI",
        "colab_type": "text"
      },
      "source": [
        "# 1)- Importing key modules"
      ]
    },
    {
      "cell_type": "code",
      "metadata": {
        "id": "FF2nsUJ9qkBg",
        "colab_type": "code",
        "colab": {}
      },
      "source": [
        "#support both Python 2 and Python 3 with minimal overhead.\n",
        "from __future__ import absolute_import, division, print_function\n",
        "#ignore warnings\n",
        "import warnings\n",
        "warnings.filterwarnings('ignore')"
      ],
      "execution_count": 0,
      "outputs": []
    },
    {
      "cell_type": "code",
      "metadata": {
        "id": "yA0JOEBGUiJC",
        "colab_type": "code",
        "colab": {}
      },
      "source": [
        "import os\n",
        "import pickle as pkl\n",
        "import re\n",
        "import string"
      ],
      "execution_count": 0,
      "outputs": []
    },
    {
      "cell_type": "code",
      "metadata": {
        "id": "30NKdvP1qnqf",
        "colab_type": "code",
        "colab": {}
      },
      "source": [
        "# for data processing\n",
        "\n",
        "import numpy as np\n",
        "import itertools\n",
        "import pandas as pd \n",
        "from sklearn.model_selection import train_test_split\n",
        "import tqdm"
      ],
      "execution_count": 0,
      "outputs": []
    },
    {
      "cell_type": "code",
      "metadata": {
        "id": "zVMu2aVwUpas",
        "colab_type": "code",
        "outputId": "c141e43b-4cd7-4077-abc2-9d58c5efc12c",
        "colab": {
          "base_uri": "https://localhost:8080/",
          "height": 119
        }
      },
      "source": [
        "# for text \n",
        "\n",
        "import nltk\n",
        "import re \n",
        "from nltk import tokenize\n",
        "import nltk\n",
        "from nltk.stem import WordNetLemmatizer\n",
        "\n",
        "nltk.download('stopwords')\n",
        "nltk.download('punkt')\n",
        "nltk.download('wordnet')\n",
        "lemm = WordNetLemmatizer()"
      ],
      "execution_count": 87,
      "outputs": [
        {
          "output_type": "stream",
          "text": [
            "[nltk_data] Downloading package stopwords to /root/nltk_data...\n",
            "[nltk_data]   Package stopwords is already up-to-date!\n",
            "[nltk_data] Downloading package punkt to /root/nltk_data...\n",
            "[nltk_data]   Package punkt is already up-to-date!\n",
            "[nltk_data] Downloading package wordnet to /root/nltk_data...\n",
            "[nltk_data]   Package wordnet is already up-to-date!\n"
          ],
          "name": "stdout"
        }
      ]
    },
    {
      "cell_type": "code",
      "metadata": {
        "id": "a77ZQvmVUmB8",
        "colab_type": "code",
        "colab": {}
      },
      "source": [
        "# for deep learning\n",
        "\n",
        "from keras.preprocessing import sequence\n",
        "from keras.models import Sequential\n",
        "from keras.layers import Dense, Dropout, Activation\n",
        "from keras.layers import Input\n",
        "from keras.layers import Conv1D, MaxPooling1D, Embedding\n",
        "from keras.models import Model\n",
        "\n",
        "from keras.layers import Embedding\n",
        "from keras.layers import LSTM\n",
        "from keras.layers import Conv1D, MaxPooling1D\n",
        "from keras.preprocessing.text import Tokenizer\n",
        "from keras.callbacks import EarlyStopping\n",
        "\n",
        "from keras.utils import to_categorical\n",
        "\n",
        "# For evaluation\n",
        "\n",
        "from sklearn.metrics import classification_report\n",
        "from sklearn.metrics import confusion_matrix\n",
        "from sklearn.metrics import accuracy_score\n",
        "from sklearn.model_selection import cross_val_score"
      ],
      "execution_count": 0,
      "outputs": []
    },
    {
      "cell_type": "code",
      "metadata": {
        "id": "Splms9mwUvHa",
        "colab_type": "code",
        "colab": {}
      },
      "source": [
        "# For visuals\n",
        "\n",
        "import matplotlib.pyplot as plt \n",
        "import matplotlib.patches as mpatches\n",
        "import matplotlib.cm as cm\n",
        "from matplotlib.colors import ListedColormap, BoundaryNorm\n",
        "% matplotlib inline \n",
        "pd.set_option('display.max_colwidth', 200)"
      ],
      "execution_count": 0,
      "outputs": []
    },
    {
      "cell_type": "code",
      "metadata": {
        "id": "70c9RUauAGXQ",
        "colab_type": "code",
        "outputId": "87104c15-cd44-49fa-b50e-d5b4f5e3cf47",
        "colab": {
          "base_uri": "https://localhost:8080/",
          "height": 34
        }
      },
      "source": [
        "! pip install version_information"
      ],
      "execution_count": 90,
      "outputs": [
        {
          "output_type": "stream",
          "text": [
            "Requirement already satisfied: version_information in /usr/local/lib/python3.6/dist-packages (1.0.3)\n"
          ],
          "name": "stdout"
        }
      ]
    },
    {
      "cell_type": "code",
      "metadata": {
        "id": "tVbECQoDAG4V",
        "colab_type": "code",
        "outputId": "126714a9-6000-448a-ac29-319887139048",
        "colab": {
          "base_uri": "https://localhost:8080/",
          "height": 271
        }
      },
      "source": [
        "# first install: pip install version_information\n",
        "%reload_ext version_information\n",
        "%version_information pandas,numpy,keras, sklearn,nltk, seaborn, matplotlib"
      ],
      "execution_count": 91,
      "outputs": [
        {
          "output_type": "execute_result",
          "data": {
            "text/latex": "\\begin{tabular}{|l|l|}\\hline\n{\\bf Software} & {\\bf Version} \\\\ \\hline\\hline\nPython & 3.6.9 64bit [GCC 8.3.0] \\\\ \\hline\nIPython & 5.5.0 \\\\ \\hline\nOS & Linux 4.19.80+ x86\\_64 with Ubuntu 18.04 bionic \\\\ \\hline\npandas & 0.25.3 \\\\ \\hline\nnumpy & 1.17.5 \\\\ \\hline\nkeras & 2.2.5 \\\\ \\hline\nsklearn & 0.22.1 \\\\ \\hline\nnltk & 3.2.5 \\\\ \\hline\nseaborn & 0.9.0 \\\\ \\hline\nmatplotlib & 3.1.2 \\\\ \\hline\n\\hline \\multicolumn{2}{|l|}{Fri Jan 17 15:02:00 2020 UTC} \\\\ \\hline\n\\end{tabular}\n",
            "application/json": {
              "Software versions": [
                {
                  "version": "3.6.9 64bit [GCC 8.3.0]",
                  "module": "Python"
                },
                {
                  "version": "5.5.0",
                  "module": "IPython"
                },
                {
                  "version": "Linux 4.19.80+ x86_64 with Ubuntu 18.04 bionic",
                  "module": "OS"
                },
                {
                  "version": "0.25.3",
                  "module": "pandas"
                },
                {
                  "version": "1.17.5",
                  "module": "numpy"
                },
                {
                  "version": "2.2.5",
                  "module": "keras"
                },
                {
                  "version": "0.22.1",
                  "module": "sklearn"
                },
                {
                  "version": "3.2.5",
                  "module": "nltk"
                },
                {
                  "version": "0.9.0",
                  "module": "seaborn"
                },
                {
                  "version": "3.1.2",
                  "module": "matplotlib"
                }
              ]
            },
            "text/html": [
              "<table><tr><th>Software</th><th>Version</th></tr><tr><td>Python</td><td>3.6.9 64bit [GCC 8.3.0]</td></tr><tr><td>IPython</td><td>5.5.0</td></tr><tr><td>OS</td><td>Linux 4.19.80+ x86_64 with Ubuntu 18.04 bionic</td></tr><tr><td>pandas</td><td>0.25.3</td></tr><tr><td>numpy</td><td>1.17.5</td></tr><tr><td>keras</td><td>2.2.5</td></tr><tr><td>sklearn</td><td>0.22.1</td></tr><tr><td>nltk</td><td>3.2.5</td></tr><tr><td>seaborn</td><td>0.9.0</td></tr><tr><td>matplotlib</td><td>3.1.2</td></tr><tr><td colspan='2'>Fri Jan 17 15:02:00 2020 UTC</td></tr></table>"
            ],
            "text/plain": [
              "Software versions\n",
              "Python 3.6.9 64bit [GCC 8.3.0]\n",
              "IPython 5.5.0\n",
              "OS Linux 4.19.80+ x86_64 with Ubuntu 18.04 bionic\n",
              "pandas 0.25.3\n",
              "numpy 1.17.5\n",
              "keras 2.2.5\n",
              "sklearn 0.22.1\n",
              "nltk 3.2.5\n",
              "seaborn 0.9.0\n",
              "matplotlib 3.1.2\n",
              "Fri Jan 17 15:02:00 2020 UTC"
            ]
          },
          "metadata": {
            "tags": []
          },
          "execution_count": 91
        }
      ]
    },
    {
      "cell_type": "markdown",
      "metadata": {
        "id": "XN_b91atnHye",
        "colab_type": "text"
      },
      "source": [
        "# 2)- Reading Dataset\n",
        "\n",
        "Thanks to PyData 2018: Gilbert Francois Talk"
      ]
    },
    {
      "cell_type": "code",
      "metadata": {
        "id": "r1tTmUvsV-7h",
        "colab_type": "code",
        "outputId": "82f4af3c-fdbe-4c7a-a917-93f34566b526",
        "colab": {
          "base_uri": "https://localhost:8080/",
          "height": 34
        }
      },
      "source": [
        "data=pd.read_pickle('sentiment_self_drive.pkl')\n",
        "data.shape"
      ],
      "execution_count": 92,
      "outputs": [
        {
          "output_type": "execute_result",
          "data": {
            "text/plain": [
              "(6943, 2)"
            ]
          },
          "metadata": {
            "tags": []
          },
          "execution_count": 92
        }
      ]
    },
    {
      "cell_type": "code",
      "metadata": {
        "id": "vvLhSVTNWKuH",
        "colab_type": "code",
        "outputId": "2d35f11f-e17c-4a2c-e3b0-1c162526c296",
        "colab": {
          "base_uri": "https://localhost:8080/",
          "height": 204
        }
      },
      "source": [
        "data.head()"
      ],
      "execution_count": 93,
      "outputs": [
        {
          "output_type": "execute_result",
          "data": {
            "text/html": [
              "<div>\n",
              "<style scoped>\n",
              "    .dataframe tbody tr th:only-of-type {\n",
              "        vertical-align: middle;\n",
              "    }\n",
              "\n",
              "    .dataframe tbody tr th {\n",
              "        vertical-align: top;\n",
              "    }\n",
              "\n",
              "    .dataframe thead th {\n",
              "        text-align: right;\n",
              "    }\n",
              "</style>\n",
              "<table border=\"1\" class=\"dataframe\">\n",
              "  <thead>\n",
              "    <tr style=\"text-align: right;\">\n",
              "      <th></th>\n",
              "      <th>text</th>\n",
              "      <th>sent_numeric</th>\n",
              "    </tr>\n",
              "  </thead>\n",
              "  <tbody>\n",
              "    <tr>\n",
              "      <th>0</th>\n",
              "      <td>Two places I'd invest all my money if I could: 3D printing and Self-driving cars!!!</td>\n",
              "      <td>Beneficial</td>\n",
              "    </tr>\n",
              "    <tr>\n",
              "      <th>1</th>\n",
              "      <td>Awesome! Google driverless cars will help the blind travel more often; https://t.co/QWuXR0FrBpv</td>\n",
              "      <td>Beneficial</td>\n",
              "    </tr>\n",
              "    <tr>\n",
              "      <th>2</th>\n",
              "      <td>If Google maps can't keep up with road construction, how am I supposed to trust a driverless car to get around here?</td>\n",
              "      <td>Risky</td>\n",
              "    </tr>\n",
              "    <tr>\n",
              "      <th>3</th>\n",
              "      <td>Autonomous cars seem way overhyped given the technology challenges; pilotless planes seem much more doable and needed.</td>\n",
              "      <td>Risky</td>\n",
              "    </tr>\n",
              "    <tr>\n",
              "      <th>4</th>\n",
              "      <td>Just saw Google self-driving car on I-34. It was painted green and blue.</td>\n",
              "      <td>Neutral</td>\n",
              "    </tr>\n",
              "  </tbody>\n",
              "</table>\n",
              "</div>"
            ],
            "text/plain": [
              "                                                                                                                     text sent_numeric\n",
              "0                                     Two places I'd invest all my money if I could: 3D printing and Self-driving cars!!!   Beneficial\n",
              "1                         Awesome! Google driverless cars will help the blind travel more often; https://t.co/QWuXR0FrBpv   Beneficial\n",
              "2    If Google maps can't keep up with road construction, how am I supposed to trust a driverless car to get around here?        Risky\n",
              "3  Autonomous cars seem way overhyped given the technology challenges; pilotless planes seem much more doable and needed.        Risky\n",
              "4                                                Just saw Google self-driving car on I-34. It was painted green and blue.      Neutral"
            ]
          },
          "metadata": {
            "tags": []
          },
          "execution_count": 93
        }
      ]
    },
    {
      "cell_type": "code",
      "metadata": {
        "id": "Goy-74Z7WgKP",
        "colab_type": "code",
        "outputId": "87836cb6-46c6-45b9-fb89-b65dbfcc3735",
        "colab": {
          "base_uri": "https://localhost:8080/",
          "height": 204
        }
      },
      "source": [
        "data.tail()"
      ],
      "execution_count": 94,
      "outputs": [
        {
          "output_type": "execute_result",
          "data": {
            "text/html": [
              "<div>\n",
              "<style scoped>\n",
              "    .dataframe tbody tr th:only-of-type {\n",
              "        vertical-align: middle;\n",
              "    }\n",
              "\n",
              "    .dataframe tbody tr th {\n",
              "        vertical-align: top;\n",
              "    }\n",
              "\n",
              "    .dataframe thead th {\n",
              "        text-align: right;\n",
              "    }\n",
              "</style>\n",
              "<table border=\"1\" class=\"dataframe\">\n",
              "  <thead>\n",
              "    <tr style=\"text-align: right;\">\n",
              "      <th></th>\n",
              "      <th>text</th>\n",
              "      <th>sent_numeric</th>\n",
              "    </tr>\n",
              "  </thead>\n",
              "  <tbody>\n",
              "    <tr>\n",
              "      <th>7141</th>\n",
              "      <td>Florida is one of a few states that allows testing of autonomous vehicles #sayfie</td>\n",
              "      <td>Neutral</td>\n",
              "    </tr>\n",
              "    <tr>\n",
              "      <th>7142</th>\n",
              "      <td>Many states still considering allowing self-driving car testing</td>\n",
              "      <td>Neutral</td>\n",
              "    </tr>\n",
              "    <tr>\n",
              "      <th>7143</th>\n",
              "      <td>Heading to a tech conference which will focus on transportation and driverless cars #AV #Innovation</td>\n",
              "      <td>Neutral</td>\n",
              "    </tr>\n",
              "    <tr>\n",
              "      <th>7144</th>\n",
              "      <td>Fully autonomous vehicles are one of many automation technologies</td>\n",
              "      <td>Neutral</td>\n",
              "    </tr>\n",
              "    <tr>\n",
              "      <th>7145</th>\n",
              "      <td>A new study just commissioned to study the costs of self-driving cars</td>\n",
              "      <td>Neutral</td>\n",
              "    </tr>\n",
              "  </tbody>\n",
              "</table>\n",
              "</div>"
            ],
            "text/plain": [
              "                                                                                                     text sent_numeric\n",
              "7141                    Florida is one of a few states that allows testing of autonomous vehicles #sayfie      Neutral\n",
              "7142                                      Many states still considering allowing self-driving car testing      Neutral\n",
              "7143  Heading to a tech conference which will focus on transportation and driverless cars #AV #Innovation      Neutral\n",
              "7144                                    Fully autonomous vehicles are one of many automation technologies      Neutral\n",
              "7145                                A new study just commissioned to study the costs of self-driving cars      Neutral"
            ]
          },
          "metadata": {
            "tags": []
          },
          "execution_count": 94
        }
      ]
    },
    {
      "cell_type": "code",
      "metadata": {
        "id": "W-ri1bp8_Z9g",
        "colab_type": "code",
        "outputId": "2abd1df0-76db-4383-8a02-887a3c339b27",
        "colab": {
          "base_uri": "https://localhost:8080/",
          "height": 34
        }
      },
      "source": [
        "data['sent_numeric'].unique()"
      ],
      "execution_count": 95,
      "outputs": [
        {
          "output_type": "execute_result",
          "data": {
            "text/plain": [
              "array(['Beneficial', 'Risky', 'Neutral'], dtype=object)"
            ]
          },
          "metadata": {
            "tags": []
          },
          "execution_count": 95
        }
      ]
    },
    {
      "cell_type": "markdown",
      "metadata": {
        "id": "zpES5c2A_2zz",
        "colab_type": "text"
      },
      "source": [
        "# Class\tDescription\n",
        "- 1\tToo late, away during office hours or early leave\n",
        "- 2\tHolidays or scheduled free days\n",
        "- 3\tHome Office\n",
        " -4\tMedical appointment\n",
        "- 5\tIll, without consulting a medical\n",
        "- 6\tWork related absence (at client, conference)\n",
        "- 7\tIn office announcement\n",
        "- 8\tMiscellanious"
      ]
    },
    {
      "cell_type": "code",
      "metadata": {
        "id": "JLIildKxV3nW",
        "colab_type": "code",
        "colab": {}
      },
      "source": [
        "dict_classes = {\n",
        "    1: 'Benefit',\n",
        "    2: 'Risky',\n",
        "    3: 'miscellanious'\n",
        "}"
      ],
      "execution_count": 0,
      "outputs": []
    },
    {
      "cell_type": "code",
      "metadata": {
        "id": "JRp5GL7x_WY4",
        "colab_type": "code",
        "outputId": "13db3fa1-8a62-4341-9491-85cf666c30bd",
        "colab": {
          "base_uri": "https://localhost:8080/",
          "height": 85
        }
      },
      "source": [
        "data['sent_numeric'].value_counts()"
      ],
      "execution_count": 97,
      "outputs": [
        {
          "output_type": "execute_result",
          "data": {
            "text/plain": [
              "Neutral       4245\n",
              "Beneficial    1903\n",
              "Risky          795\n",
              "Name: sent_numeric, dtype: int64"
            ]
          },
          "metadata": {
            "tags": []
          },
          "execution_count": 97
        }
      ]
    },
    {
      "cell_type": "code",
      "metadata": {
        "id": "Tjp4hEwV04oI",
        "colab_type": "code",
        "colab": {}
      },
      "source": [
        "df=data[['text','sent_numeric']]"
      ],
      "execution_count": 0,
      "outputs": []
    },
    {
      "cell_type": "code",
      "metadata": {
        "id": "7FXfSgzwdj7f",
        "colab_type": "code",
        "outputId": "241d2392-a163-4738-9dae-04f15f85b011",
        "colab": {
          "base_uri": "https://localhost:8080/",
          "height": 34
        }
      },
      "source": [
        "type(df)"
      ],
      "execution_count": 99,
      "outputs": [
        {
          "output_type": "execute_result",
          "data": {
            "text/plain": [
              "pandas.core.frame.DataFrame"
            ]
          },
          "metadata": {
            "tags": []
          },
          "execution_count": 99
        }
      ]
    },
    {
      "cell_type": "code",
      "metadata": {
        "id": "e2qaEvuzdlsK",
        "colab_type": "code",
        "outputId": "41829c33-b62f-4dd7-ef6f-14521c1d4954",
        "colab": {
          "base_uri": "https://localhost:8080/",
          "height": 204
        }
      },
      "source": [
        "df.head()"
      ],
      "execution_count": 100,
      "outputs": [
        {
          "output_type": "execute_result",
          "data": {
            "text/html": [
              "<div>\n",
              "<style scoped>\n",
              "    .dataframe tbody tr th:only-of-type {\n",
              "        vertical-align: middle;\n",
              "    }\n",
              "\n",
              "    .dataframe tbody tr th {\n",
              "        vertical-align: top;\n",
              "    }\n",
              "\n",
              "    .dataframe thead th {\n",
              "        text-align: right;\n",
              "    }\n",
              "</style>\n",
              "<table border=\"1\" class=\"dataframe\">\n",
              "  <thead>\n",
              "    <tr style=\"text-align: right;\">\n",
              "      <th></th>\n",
              "      <th>text</th>\n",
              "      <th>sent_numeric</th>\n",
              "    </tr>\n",
              "  </thead>\n",
              "  <tbody>\n",
              "    <tr>\n",
              "      <th>0</th>\n",
              "      <td>Two places I'd invest all my money if I could: 3D printing and Self-driving cars!!!</td>\n",
              "      <td>Beneficial</td>\n",
              "    </tr>\n",
              "    <tr>\n",
              "      <th>1</th>\n",
              "      <td>Awesome! Google driverless cars will help the blind travel more often; https://t.co/QWuXR0FrBpv</td>\n",
              "      <td>Beneficial</td>\n",
              "    </tr>\n",
              "    <tr>\n",
              "      <th>2</th>\n",
              "      <td>If Google maps can't keep up with road construction, how am I supposed to trust a driverless car to get around here?</td>\n",
              "      <td>Risky</td>\n",
              "    </tr>\n",
              "    <tr>\n",
              "      <th>3</th>\n",
              "      <td>Autonomous cars seem way overhyped given the technology challenges; pilotless planes seem much more doable and needed.</td>\n",
              "      <td>Risky</td>\n",
              "    </tr>\n",
              "    <tr>\n",
              "      <th>4</th>\n",
              "      <td>Just saw Google self-driving car on I-34. It was painted green and blue.</td>\n",
              "      <td>Neutral</td>\n",
              "    </tr>\n",
              "  </tbody>\n",
              "</table>\n",
              "</div>"
            ],
            "text/plain": [
              "                                                                                                                     text sent_numeric\n",
              "0                                     Two places I'd invest all my money if I could: 3D printing and Self-driving cars!!!   Beneficial\n",
              "1                         Awesome! Google driverless cars will help the blind travel more often; https://t.co/QWuXR0FrBpv   Beneficial\n",
              "2    If Google maps can't keep up with road construction, how am I supposed to trust a driverless car to get around here?        Risky\n",
              "3  Autonomous cars seem way overhyped given the technology challenges; pilotless planes seem much more doable and needed.        Risky\n",
              "4                                                Just saw Google self-driving car on I-34. It was painted green and blue.      Neutral"
            ]
          },
          "metadata": {
            "tags": []
          },
          "execution_count": 100
        }
      ]
    },
    {
      "cell_type": "markdown",
      "metadata": {
        "id": "uxwnl2hHcwfD",
        "colab_type": "text"
      },
      "source": [
        "### checking missing value if any"
      ]
    },
    {
      "cell_type": "code",
      "metadata": {
        "id": "8G3Xmy6hWVtY",
        "colab_type": "code",
        "outputId": "233bc0a8-3527-47a1-a60d-536910b33962",
        "colab": {
          "base_uri": "https://localhost:8080/",
          "height": 68
        }
      },
      "source": [
        "df.isnull().sum()"
      ],
      "execution_count": 101,
      "outputs": [
        {
          "output_type": "execute_result",
          "data": {
            "text/plain": [
              "text            0\n",
              "sent_numeric    0\n",
              "dtype: int64"
            ]
          },
          "metadata": {
            "tags": []
          },
          "execution_count": 101
        }
      ]
    },
    {
      "cell_type": "markdown",
      "metadata": {
        "id": "gUhzzjTrx6FY",
        "colab_type": "text"
      },
      "source": [
        "## Label categorical values"
      ]
    },
    {
      "cell_type": "code",
      "metadata": {
        "id": "lIV8vbg61ENn",
        "colab_type": "code",
        "colab": {}
      },
      "source": [
        "# further check\n",
        "df['labels'] = df.sent_numeric.map({'Risky':0, 'Beneficial':1, 'Neutral':2})"
      ],
      "execution_count": 0,
      "outputs": []
    },
    {
      "cell_type": "markdown",
      "metadata": {
        "id": "UVAd10j5evrt",
        "colab_type": "text"
      },
      "source": [
        "### Separating X and y"
      ]
    },
    {
      "cell_type": "code",
      "metadata": {
        "id": "3eiPCizLezTT",
        "colab_type": "code",
        "colab": {}
      },
      "source": [
        "X = df['text']\n",
        "y = df['labels']"
      ],
      "execution_count": 0,
      "outputs": []
    },
    {
      "cell_type": "code",
      "metadata": {
        "id": "Vn3rYus61Wez",
        "colab_type": "code",
        "outputId": "f9e55b0a-e370-4ca9-ace5-acad53ee94c6",
        "colab": {
          "base_uri": "https://localhost:8080/",
          "height": 119
        }
      },
      "source": [
        "X[:5]"
      ],
      "execution_count": 104,
      "outputs": [
        {
          "output_type": "execute_result",
          "data": {
            "text/plain": [
              "0                                       Two places I'd invest all my money if I could: 3D printing and Self-driving cars!!!\n",
              "1                           Awesome! Google driverless cars will help the blind travel more often; https://t.co/QWuXR0FrBpv\n",
              "2      If Google maps can't keep up with road construction, how am I supposed to trust a driverless car to get around here?\n",
              "3    Autonomous cars seem way overhyped given the technology challenges; pilotless planes seem much more doable and needed.\n",
              "4                                                  Just saw Google self-driving car on I-34. It was painted green and blue.\n",
              "Name: text, dtype: object"
            ]
          },
          "metadata": {
            "tags": []
          },
          "execution_count": 104
        }
      ]
    },
    {
      "cell_type": "code",
      "metadata": {
        "id": "uWSFUMck1Wb2",
        "colab_type": "code",
        "outputId": "1e89aeb6-21d9-420f-a6c7-859f2b076eba",
        "colab": {
          "base_uri": "https://localhost:8080/",
          "height": 119
        }
      },
      "source": [
        "y[:5]"
      ],
      "execution_count": 105,
      "outputs": [
        {
          "output_type": "execute_result",
          "data": {
            "text/plain": [
              "0    1\n",
              "1    1\n",
              "2    0\n",
              "3    0\n",
              "4    2\n",
              "Name: labels, dtype: int64"
            ]
          },
          "metadata": {
            "tags": []
          },
          "execution_count": 105
        }
      ]
    },
    {
      "cell_type": "markdown",
      "metadata": {
        "id": "0zshMpTQ1bFV",
        "colab_type": "text"
      },
      "source": [
        "# 3)- Pre-model process"
      ]
    },
    {
      "cell_type": "code",
      "metadata": {
        "id": "WTX6ZQXo1fRt",
        "colab_type": "code",
        "colab": {}
      },
      "source": [
        "# Embedding\n",
        "max_features = 3000\n",
        "maxlen = 50\n",
        "embedding_size = 100\n",
        "\n",
        "# Convolution\n",
        "kernel_size = 5\n",
        "filters = 64\n",
        "pool_size = 4\n",
        "\n",
        "# LSTM\n",
        "lstm_output_size = 70\n",
        "\n",
        "# Training\n",
        "batch_size = 20\n",
        "epochs = 12"
      ],
      "execution_count": 0,
      "outputs": []
    },
    {
      "cell_type": "markdown",
      "metadata": {
        "id": "WYHnohG31qwV",
        "colab_type": "text"
      },
      "source": [
        "### 3a)-Tokenizing"
      ]
    },
    {
      "cell_type": "code",
      "metadata": {
        "id": "scVJJz2515sN",
        "colab_type": "code",
        "colab": {}
      },
      "source": [
        "\n",
        "tokenizer = Tokenizer(num_words=None, filters='!\"#$%&()*+,-./:;<=>?@[\\]^_`{|}~', lower=True, split=' ', char_level=False)\n",
        "tokenizer.fit_on_texts(X)\n",
        "Xt = tokenizer.texts_to_sequences(X)"
      ],
      "execution_count": 0,
      "outputs": []
    },
    {
      "cell_type": "code",
      "metadata": {
        "id": "K3ELCw2g15vX",
        "colab_type": "code",
        "outputId": "513aeea0-ef4b-47da-f9f0-bce5a206e756",
        "colab": {
          "base_uri": "https://localhost:8080/",
          "height": 34
        }
      },
      "source": [
        "print(X.iloc[2])"
      ],
      "execution_count": 108,
      "outputs": [
        {
          "output_type": "stream",
          "text": [
            "If Google maps can't keep up with road construction, how am I supposed to trust a driverless car to get around here?\n"
          ],
          "name": "stdout"
        }
      ]
    },
    {
      "cell_type": "code",
      "metadata": {
        "id": "ewxVIW_C15x4",
        "colab_type": "code",
        "outputId": "4b7f1d17-4062-4790-e454-9772e03b3273",
        "colab": {
          "base_uri": "https://localhost:8080/",
          "height": 34
        }
      },
      "source": [
        "print(Xt[2])"
      ],
      "execution_count": 109,
      "outputs": [
        {
          "output_type": "stream",
          "text": [
            "[42, 9, 242, 93, 446, 76, 27, 84, 1211, 41, 200, 15, 1212, 11, 291, 10, 12, 5, 11, 59, 132, 113]\n"
          ],
          "name": "stdout"
        }
      ]
    },
    {
      "cell_type": "code",
      "metadata": {
        "id": "a5hiN4k_150h",
        "colab_type": "code",
        "outputId": "d850fc65-6213-4950-eabe-b2600e2ed5f9",
        "colab": {
          "base_uri": "https://localhost:8080/",
          "height": 34
        }
      },
      "source": [
        "# word to index\n",
        "word_index = tokenizer.word_index\n",
        "num_words = len(word_index)\n",
        "print('Number of words in the corpus: {}'.format(num_words))"
      ],
      "execution_count": 110,
      "outputs": [
        {
          "output_type": "stream",
          "text": [
            "Number of words in the corpus: 15670\n"
          ],
          "name": "stdout"
        }
      ]
    },
    {
      "cell_type": "code",
      "metadata": {
        "id": "8AbD_ily153O",
        "colab_type": "code",
        "outputId": "a7ab3687-4ebd-4097-be10-52aa784a4cae",
        "colab": {
          "base_uri": "https://localhost:8080/",
          "height": 34
        }
      },
      "source": [
        "len_list = np.array([len(x) for x in Xt])\n",
        "mean_len = np.mean(len_list)\n",
        "std_len = np.std(len_list)\n",
        "print(mean_len, std_len)"
      ],
      "execution_count": 111,
      "outputs": [
        {
          "output_type": "stream",
          "text": [
            "17.529742186374765 5.54335053584562\n"
          ],
          "name": "stdout"
        }
      ]
    },
    {
      "cell_type": "markdown",
      "metadata": {
        "id": "ugFLKEot20MW",
        "colab_type": "text"
      },
      "source": [
        "### 3b)-Multi Label Binarizer"
      ]
    },
    {
      "cell_type": "code",
      "metadata": {
        "id": "wZST6VpRz2xV",
        "colab_type": "code",
        "colab": {}
      },
      "source": [
        "# keras needs inputs to be vectors , so one hot encoding values\n",
        "from keras.utils import np_utils\n",
        "def one_hot_encode_object_array(arr):\n",
        "    '''One hot encode a numpy array of objects (e.g. strings)'''\n",
        "    uniques, ids = np.unique(arr, return_inverse=True)\n",
        "    return np_utils.to_categorical(ids, len(uniques))\n",
        "\n",
        "yc=one_hot_encode_object_array(y)"
      ],
      "execution_count": 0,
      "outputs": []
    },
    {
      "cell_type": "code",
      "metadata": {
        "id": "QFAMEvv_158h",
        "colab_type": "code",
        "outputId": "293855d8-527b-44bc-81fb-7638c2d042f8",
        "colab": {
          "base_uri": "https://localhost:8080/",
          "height": 187
        }
      },
      "source": [
        "#yc = to_categorical(y-1)\n",
        "yc[:10]"
      ],
      "execution_count": 113,
      "outputs": [
        {
          "output_type": "execute_result",
          "data": {
            "text/plain": [
              "array([[0., 1., 0.],\n",
              "       [0., 1., 0.],\n",
              "       [1., 0., 0.],\n",
              "       [1., 0., 0.],\n",
              "       [0., 0., 1.],\n",
              "       [0., 0., 1.],\n",
              "       [0., 1., 0.],\n",
              "       [1., 0., 0.],\n",
              "       [0., 0., 1.],\n",
              "       [0., 0., 1.]], dtype=float32)"
            ]
          },
          "metadata": {
            "tags": []
          },
          "execution_count": 113
        }
      ]
    },
    {
      "cell_type": "markdown",
      "metadata": {
        "id": "jfMHKIHv27g3",
        "colab_type": "text"
      },
      "source": [
        "### 3c)-Sequence padding\n",
        "Make all input vectors the same size by truncating or adding zeros."
      ]
    },
    {
      "cell_type": "code",
      "metadata": {
        "id": "Shd9dmZV15_V",
        "colab_type": "code",
        "colab": {}
      },
      "source": [
        "Xts = sequence.pad_sequences(Xt, maxlen=maxlen, padding='post')"
      ],
      "execution_count": 0,
      "outputs": []
    },
    {
      "cell_type": "code",
      "metadata": {
        "id": "WM7v6XBh157g",
        "colab_type": "code",
        "outputId": "30ff3450-0f32-4f28-b7d0-bc79920f5971",
        "colab": {
          "base_uri": "https://localhost:8080/",
          "height": 34
        }
      },
      "source": [
        "print(X[1])"
      ],
      "execution_count": 115,
      "outputs": [
        {
          "output_type": "stream",
          "text": [
            "Awesome! Google driverless cars will help the blind travel more often; https://t.co/QWuXR0FrBpv\n"
          ],
          "name": "stdout"
        }
      ]
    },
    {
      "cell_type": "code",
      "metadata": {
        "id": "fM2-taSr3IyZ",
        "colab_type": "code",
        "outputId": "62f394ba-33d6-4f1a-c7aa-2a2aa6b43adb",
        "colab": {
          "base_uri": "https://localhost:8080/",
          "height": 34
        }
      },
      "source": [
        "print(Xt[1])"
      ],
      "execution_count": 116,
      "outputs": [
        {
          "output_type": "stream",
          "text": [
            "[180, 9, 12, 8, 20, 304, 7, 570, 713, 79, 2483, 139, 3, 4, 4758]\n"
          ],
          "name": "stdout"
        }
      ]
    },
    {
      "cell_type": "code",
      "metadata": {
        "id": "s6l1-l5k3RMl",
        "colab_type": "code",
        "outputId": "ee0f4b69-31eb-4358-aa63-82cbb9206e60",
        "colab": {
          "base_uri": "https://localhost:8080/",
          "height": 85
        }
      },
      "source": [
        "print(Xts[1])"
      ],
      "execution_count": 117,
      "outputs": [
        {
          "output_type": "stream",
          "text": [
            "[ 180    9   12    8   20  304    7  570  713   79 2483  139    3    4\n",
            " 4758    0    0    0    0    0    0    0    0    0    0    0    0    0\n",
            "    0    0    0    0    0    0    0    0    0    0    0    0    0    0\n",
            "    0    0    0    0    0    0    0    0]\n"
          ],
          "name": "stdout"
        }
      ]
    },
    {
      "cell_type": "markdown",
      "metadata": {
        "id": "gKS8L8-F3pKG",
        "colab_type": "text"
      },
      "source": [
        "### 3d)- Split dataset"
      ]
    },
    {
      "cell_type": "code",
      "metadata": {
        "id": "Vhb8vhpH3R77",
        "colab_type": "code",
        "colab": {}
      },
      "source": [
        "X_train, X_test, y_train, y_test = train_test_split(Xts, yc, test_size=0.10, random_state=1)"
      ],
      "execution_count": 0,
      "outputs": []
    },
    {
      "cell_type": "code",
      "metadata": {
        "id": "P8BzXsjh3uXz",
        "colab_type": "code",
        "outputId": "17d283cf-9a0e-442c-db3f-cd0fd53b1367",
        "colab": {
          "base_uri": "https://localhost:8080/",
          "height": 85
        }
      },
      "source": [
        "\n",
        "print('X_train shape: {}'.format(X_train.shape))\n",
        "print('X_test shape : {}'.format(X_test.shape))\n",
        "\n",
        "print('y_train shape: {}'.format(y_train.shape))\n",
        "print('y_test shape : {}'.format(y_test.shape))"
      ],
      "execution_count": 119,
      "outputs": [
        {
          "output_type": "stream",
          "text": [
            "X_train shape: (6248, 50)\n",
            "X_test shape : (695, 50)\n",
            "y_train shape: (6248, 3)\n",
            "y_test shape : (695, 3)\n"
          ],
          "name": "stdout"
        }
      ]
    },
    {
      "cell_type": "markdown",
      "metadata": {
        "id": "oU8-OjWF4IC6",
        "colab_type": "text"
      },
      "source": [
        "# 4)- Model Building"
      ]
    },
    {
      "cell_type": "code",
      "metadata": {
        "id": "vk-iFg8M3y-x",
        "colab_type": "code",
        "colab": {}
      },
      "source": [
        "def build_and_train_model(X_train, X_test, y_train, y_test, verbose=1):\n",
        "    print('Build model...')\n",
        "    model = Sequential()\n",
        "    model.add(Embedding(max_features, embedding_size, input_length=maxlen))\n",
        "    model.add(Dropout(0.25))\n",
        "    model.add(Conv1D(filters,\n",
        "                     kernel_size,\n",
        "                     padding='valid',\n",
        "                     activation='relu',\n",
        "                     strides=1))\n",
        "    model.add(MaxPooling1D(pool_size=pool_size))\n",
        "    model.add(LSTM(lstm_output_size))\n",
        "    model.add(Dense(3))\n",
        "    model.add(Activation('softmax'))\n",
        "\n",
        "    callback = EarlyStopping(monitor='val_acc', patience=2) # avoid over-fitting\n",
        "\n",
        "    model.compile(loss='categorical_crossentropy', optimizer='adam', metrics=['accuracy'])\n",
        "\n",
        "    print('Training the model...')\n",
        "    H = model.fit(X_train, y_train,\n",
        "              batch_size=batch_size,\n",
        "              epochs=epochs,\n",
        "              validation_data=(X_test, y_test), callbacks=[callback], verbose=verbose)\n",
        "  \n",
        "    score, acc = model.evaluate(X_test, y_test, batch_size=batch_size)\n",
        "    print('Test accuracy:', acc)\n",
        "    return model, H, acc"
      ],
      "execution_count": 0,
      "outputs": []
    },
    {
      "cell_type": "markdown",
      "metadata": {
        "id": "x9SeFGMm4u2U",
        "colab_type": "text"
      },
      "source": [
        "### training the model"
      ]
    },
    {
      "cell_type": "code",
      "metadata": {
        "id": "lFXoCWAc4nKJ",
        "colab_type": "code",
        "outputId": "5dee97a9-0833-49a4-ef2a-d7c8059e8c59",
        "colab": {
          "base_uri": "https://localhost:8080/",
          "height": 272
        }
      },
      "source": [
        "model, H, acc = build_and_train_model(X_train, X_test, y_train, y_test)"
      ],
      "execution_count": 121,
      "outputs": [
        {
          "output_type": "stream",
          "text": [
            "Build model...\n",
            "Training the model...\n",
            "Train on 6248 samples, validate on 695 samples\n",
            "Epoch 1/12\n",
            "6248/6248 [==============================] - 10s 2ms/step - loss: 0.8537 - acc: 0.6316 - val_loss: 0.8043 - val_acc: 0.6849\n",
            "Epoch 2/12\n",
            "6248/6248 [==============================] - 7s 1ms/step - loss: 0.6949 - acc: 0.7214 - val_loss: 0.8203 - val_acc: 0.6935\n",
            "Epoch 3/12\n",
            "6248/6248 [==============================] - 7s 1ms/step - loss: 0.5696 - acc: 0.7737 - val_loss: 0.7874 - val_acc: 0.7209\n",
            "Epoch 4/12\n",
            "6248/6248 [==============================] - 7s 1ms/step - loss: 0.4101 - acc: 0.8449 - val_loss: 0.9081 - val_acc: 0.6230\n",
            "Epoch 5/12\n",
            "6248/6248 [==============================] - 7s 1ms/step - loss: 0.2909 - acc: 0.8969 - val_loss: 0.9731 - val_acc: 0.6806\n",
            "695/695 [==============================] - 0s 389us/step\n",
            "Test accuracy: 0.6805755431703526\n"
          ],
          "name": "stdout"
        }
      ]
    },
    {
      "cell_type": "markdown",
      "metadata": {
        "id": "hlnPHMRl40S0",
        "colab_type": "text"
      },
      "source": [
        "### Visualization"
      ]
    },
    {
      "cell_type": "code",
      "metadata": {
        "id": "SoFCcsaJ4tCB",
        "colab_type": "code",
        "outputId": "5c32f2c4-0aee-42c2-e1a3-fffbae516a7c",
        "colab": {
          "base_uri": "https://localhost:8080/",
          "height": 338
        }
      },
      "source": [
        "fig, axs = plt.subplots(1, 2, figsize=(10, 5))\n",
        "axs[0].plot(H.history['acc'], label='acc')\n",
        "axs[0].plot(H.history['val_acc'], label='val_acc')\n",
        "axs[1].plot(H.history['loss'], label='loss')\n",
        "axs[1].plot(H.history['val_loss'], label='val_loss')"
      ],
      "execution_count": 122,
      "outputs": [
        {
          "output_type": "execute_result",
          "data": {
            "text/plain": [
              "[<matplotlib.lines.Line2D at 0x7f20d63c8f98>]"
            ]
          },
          "metadata": {
            "tags": []
          },
          "execution_count": 122
        },
        {
          "output_type": "display_data",
          "data": {
            "image/png": "[encoded data removed]",
            "text/plain": [
              "<Figure size 720x360 with 2 Axes>"
            ]
          },
          "metadata": {
            "tags": []
          }
        }
      ]
    },
    {
      "cell_type": "markdown",
      "metadata": {
        "id": "-CAkVTii44Rd",
        "colab_type": "text"
      },
      "source": [
        "### Prediction"
      ]
    },
    {
      "cell_type": "code",
      "metadata": {
        "id": "b1k7vYGS42ru",
        "colab_type": "code",
        "colab": {}
      },
      "source": [
        "y_pred = model.predict(X_test)"
      ],
      "execution_count": 0,
      "outputs": []
    },
    {
      "cell_type": "code",
      "metadata": {
        "id": "vj1UNq4z6QJK",
        "colab_type": "code",
        "outputId": "b84ada6a-973e-4f2e-d8ca-6e36fc176a70",
        "colab": {
          "base_uri": "https://localhost:8080/",
          "height": 102
        }
      },
      "source": [
        "y_pred[:5]"
      ],
      "execution_count": 124,
      "outputs": [
        {
          "output_type": "execute_result",
          "data": {
            "text/plain": [
              "array([[2.3988366e-02, 1.8139932e-02, 9.5787168e-01],\n",
              "       [8.0569589e-04, 3.9950106e-03, 9.9519926e-01],\n",
              "       [7.6213598e-01, 1.1701136e-01, 1.2085271e-01],\n",
              "       [1.1067881e-03, 2.9516413e-03, 9.9594158e-01],\n",
              "       [1.6259765e-02, 1.3190781e-01, 8.5183239e-01]], dtype=float32)"
            ]
          },
          "metadata": {
            "tags": []
          },
          "execution_count": 124
        }
      ]
    },
    {
      "cell_type": "code",
      "metadata": {
        "id": "MmXWBf6d6QUQ",
        "colab_type": "code",
        "colab": {}
      },
      "source": [
        "y_pred_class=np.argmax(y_pred, axis=1)"
      ],
      "execution_count": 0,
      "outputs": []
    },
    {
      "cell_type": "code",
      "metadata": {
        "id": "VCNmWVUz6bGD",
        "colab_type": "code",
        "outputId": "b5e252d6-499b-4004-83cb-ed873abcbd79",
        "colab": {
          "base_uri": "https://localhost:8080/",
          "height": 34
        }
      },
      "source": [
        "y_pred_class[:5]"
      ],
      "execution_count": 126,
      "outputs": [
        {
          "output_type": "execute_result",
          "data": {
            "text/plain": [
              "array([2, 2, 0, 2, 2])"
            ]
          },
          "metadata": {
            "tags": []
          },
          "execution_count": 126
        }
      ]
    },
    {
      "cell_type": "code",
      "metadata": {
        "id": "EjR22wcV6gzK",
        "colab_type": "code",
        "outputId": "b966cbc6-e226-4c28-9dea-9caede0ed316",
        "colab": {
          "base_uri": "https://localhost:8080/",
          "height": 102
        }
      },
      "source": [
        "# true values\n",
        "y_test[:5]"
      ],
      "execution_count": 127,
      "outputs": [
        {
          "output_type": "execute_result",
          "data": {
            "text/plain": [
              "array([[0., 0., 1.],\n",
              "       [0., 0., 1.],\n",
              "       [0., 1., 0.],\n",
              "       [0., 0., 1.],\n",
              "       [0., 0., 1.]], dtype=float32)"
            ]
          },
          "metadata": {
            "tags": []
          },
          "execution_count": 127
        }
      ]
    },
    {
      "cell_type": "code",
      "metadata": {
        "id": "qfNtO-DE6lda",
        "colab_type": "code",
        "colab": {}
      },
      "source": [
        "y_test_class=np.argmax(y_test, axis=1)"
      ],
      "execution_count": 0,
      "outputs": []
    },
    {
      "cell_type": "code",
      "metadata": {
        "id": "hTQcx8IP458H",
        "colab_type": "code",
        "outputId": "aaaa6850-decd-4942-9e55-084b726fb660",
        "colab": {
          "base_uri": "https://localhost:8080/",
          "height": 187
        }
      },
      "source": [
        "print(classification_report(y_pred=y_pred_class, y_true=y_test_class))"
      ],
      "execution_count": 129,
      "outputs": [
        {
          "output_type": "stream",
          "text": [
            "              precision    recall  f1-score   support\n",
            "\n",
            "           0       0.35      0.20      0.25        80\n",
            "           1       0.58      0.55      0.56       191\n",
            "           2       0.75      0.83      0.79       424\n",
            "\n",
            "    accuracy                           0.68       695\n",
            "   macro avg       0.56      0.53      0.54       695\n",
            "weighted avg       0.66      0.68      0.67       695\n",
            "\n"
          ],
          "name": "stdout"
        }
      ]
    },
    {
      "cell_type": "markdown",
      "metadata": {
        "id": "yoxMRuqW08ha",
        "colab_type": "text"
      },
      "source": [
        "- 0 is Beneficial\n",
        "- 1 is Neutral \n",
        "- 2 is Risky"
      ]
    },
    {
      "cell_type": "markdown",
      "metadata": {
        "id": "3XaLCZIs5ALe",
        "colab_type": "text"
      },
      "source": [
        "### confusion matrix"
      ]
    },
    {
      "cell_type": "code",
      "metadata": {
        "id": "YJ3QNe6v69G1",
        "colab_type": "code",
        "outputId": "a0393f7b-aaa7-49de-cd49-a0fe81d43284",
        "colab": {
          "base_uri": "https://localhost:8080/",
          "height": 221
        }
      },
      "source": [
        "! pip install scikit-plot"
      ],
      "execution_count": 130,
      "outputs": [
        {
          "output_type": "stream",
          "text": [
            "Requirement already satisfied: scikit-plot in /usr/local/lib/python3.6/dist-packages (0.3.7)\n",
            "Requirement already satisfied: scipy>=0.9 in /usr/local/lib/python3.6/dist-packages (from scikit-plot) (1.4.1)\n",
            "Requirement already satisfied: joblib>=0.10 in /usr/local/lib/python3.6/dist-packages (from scikit-plot) (0.14.1)\n",
            "Requirement already satisfied: matplotlib>=1.4.0 in /usr/local/lib/python3.6/dist-packages (from scikit-plot) (3.1.2)\n",
            "Requirement already satisfied: scikit-learn>=0.18 in /usr/local/lib/python3.6/dist-packages (from scikit-plot) (0.22.1)\n",
            "Requirement already satisfied: numpy>=1.13.3 in /usr/local/lib/python3.6/dist-packages (from scipy>=0.9->scikit-plot) (1.17.5)\n",
            "Requirement already satisfied: cycler>=0.10 in /usr/local/lib/python3.6/dist-packages (from matplotlib>=1.4.0->scikit-plot) (0.10.0)\n",
            "Requirement already satisfied: pyparsing!=2.0.4,!=2.1.2,!=2.1.6,>=2.0.1 in /usr/local/lib/python3.6/dist-packages (from matplotlib>=1.4.0->scikit-plot) (2.4.6)\n",
            "Requirement already satisfied: python-dateutil>=2.1 in /usr/local/lib/python3.6/dist-packages (from matplotlib>=1.4.0->scikit-plot) (2.6.1)\n",
            "Requirement already satisfied: kiwisolver>=1.0.1 in /usr/local/lib/python3.6/dist-packages (from matplotlib>=1.4.0->scikit-plot) (1.1.0)\n",
            "Requirement already satisfied: six in /usr/local/lib/python3.6/dist-packages (from cycler>=0.10->matplotlib>=1.4.0->scikit-plot) (1.12.0)\n",
            "Requirement already satisfied: setuptools in /usr/local/lib/python3.6/dist-packages (from kiwisolver>=1.0.1->matplotlib>=1.4.0->scikit-plot) (42.0.2)\n"
          ],
          "name": "stdout"
        }
      ]
    },
    {
      "cell_type": "code",
      "metadata": {
        "id": "XrJjKexj5BnI",
        "colab_type": "code",
        "outputId": "eb25f8eb-c02c-47d0-936c-cba1960e7609",
        "colab": {
          "base_uri": "https://localhost:8080/",
          "height": 68
        }
      },
      "source": [
        "cm = confusion_matrix(y_pred_class, y_test_class)\n",
        "cm"
      ],
      "execution_count": 131,
      "outputs": [
        {
          "output_type": "execute_result",
          "data": {
            "text/plain": [
              "array([[ 16,  10,  20],\n",
              "       [ 24, 105,  52],\n",
              "       [ 40,  76, 352]])"
            ]
          },
          "metadata": {
            "tags": []
          },
          "execution_count": 131
        }
      ]
    },
    {
      "cell_type": "code",
      "metadata": {
        "id": "4lW0_o7H7AN7",
        "colab_type": "code",
        "outputId": "8d33b829-5bb7-4c80-d619-723dceec2348",
        "colab": {
          "base_uri": "https://localhost:8080/",
          "height": 312
        }
      },
      "source": [
        "import scikitplot as skplt\n",
        "plt.figure()\n",
        "skplt.metrics.plot_confusion_matrix(y_pred=y_pred_class, y_true=y_test_class)\n",
        "plt.show()"
      ],
      "execution_count": 132,
      "outputs": [
        {
          "output_type": "display_data",
          "data": {
            "text/plain": [
              "<Figure size 432x288 with 0 Axes>"
            ]
          },
          "metadata": {
            "tags": []
          }
        },
        {
          "output_type": "display_data",
          "data": {
            "image/png": "[encoded data removed]",
            "text/plain": [
              "<Figure size 432x288 with 2 Axes>"
            ]
          },
          "metadata": {
            "tags": []
          }
        }
      ]
    },
    {
      "cell_type": "code",
      "metadata": {
        "id": "97MTaYNL7FjF",
        "colab_type": "code",
        "outputId": "a7a209eb-97d9-4beb-d21a-3e5547ca47ed",
        "colab": {
          "base_uri": "https://localhost:8080/",
          "height": 312
        }
      },
      "source": [
        "skplt.metrics.plot_confusion_matrix(y_pred=y_pred_class, y_true=y_test_class, normalize=True)"
      ],
      "execution_count": 133,
      "outputs": [
        {
          "output_type": "execute_result",
          "data": {
            "text/plain": [
              "<matplotlib.axes._subplots.AxesSubplot at 0x7f20d64698d0>"
            ]
          },
          "metadata": {
            "tags": []
          },
          "execution_count": 133
        },
        {
          "output_type": "display_data",
          "data": {
            "image/png": "[encoded data removed]",
            "text/plain": [
              "<Figure size 432x288 with 2 Axes>"
            ]
          },
          "metadata": {
            "tags": []
          }
        }
      ]
    },
    {
      "cell_type": "markdown",
      "metadata": {
        "id": "rnz604Oi5Jip",
        "colab_type": "text"
      },
      "source": [
        "# 5)- Training an ensemble model\n",
        "\n",
        "Since we do early stopping, to minimise overfitting, the model is not fully trained yet. The effect of random initialisation is noticable. Hence, when training e.g. 10 times from scratch, you end up with 10 models with different performance. An idea to smooth this effect is to train multiple times and use all models for the prediction. Add all resulting output vectors and take the $argmax$. This will be your final prediction."
      ]
    },
    {
      "cell_type": "code",
      "metadata": {
        "id": "vW5o8y1m5RLY",
        "colab_type": "code",
        "outputId": "6eb7cf67-a38b-487b-a135-9a947cfed7ee",
        "colab": {
          "base_uri": "https://localhost:8080/",
          "height": 867
        }
      },
      "source": [
        "n_models = 10\n",
        "\n",
        "model_list = []\n",
        "H_list = []\n",
        "acc_list = []\n",
        "for i in range(n_models):\n",
        "    print('Training model {}'.format(i+1))\n",
        "    _model, _H, _acc = build_and_train_model(X_train, X_test, y_train, y_test, verbose=0)\n",
        "    model_list.append(_model)\n",
        "    H_list.append(_H)\n",
        "    acc_list.append(_acc)"
      ],
      "execution_count": 134,
      "outputs": [
        {
          "output_type": "stream",
          "text": [
            "Training model 1\n",
            "Build model...\n",
            "Training the model...\n",
            "695/695 [==============================] - 0s 397us/step\n",
            "Test accuracy: 0.656115105683855\n",
            "Training model 2\n",
            "Build model...\n",
            "Training the model...\n",
            "695/695 [==============================] - 0s 401us/step\n",
            "Test accuracy: 0.6460431616940945\n",
            "Training model 3\n",
            "Build model...\n",
            "Training the model...\n",
            "695/695 [==============================] - 0s 381us/step\n",
            "Test accuracy: 0.6647481999808936\n",
            "Training model 4\n",
            "Build model...\n",
            "Training the model...\n",
            "695/695 [==============================] - 0s 386us/step\n",
            "Test accuracy: 0.6791366870454747\n",
            "Training model 5\n",
            "Build model...\n",
            "Training the model...\n",
            "695/695 [==============================] - 0s 397us/step\n",
            "Test accuracy: 0.6949640328077962\n",
            "Training model 6\n",
            "Build model...\n",
            "Training the model...\n",
            "695/695 [==============================] - 0s 383us/step\n",
            "Test accuracy: 0.6719424424411582\n",
            "Training model 7\n",
            "Build model...\n",
            "Training the model...\n",
            "695/695 [==============================] - 0s 387us/step\n",
            "Test accuracy: 0.6748201431130334\n",
            "Training model 8\n",
            "Build model...\n",
            "Training the model...\n",
            "695/695 [==============================] - 0s 384us/step\n",
            "Test accuracy: 0.6791366904759578\n",
            "Training model 9\n",
            "Build model...\n",
            "Training the model...\n",
            "695/695 [==============================] - 0s 364us/step\n",
            "Test accuracy: 0.6402877672113103\n",
            "Training model 10\n",
            "Build model...\n",
            "Training the model...\n",
            "695/695 [==============================] - 0s 391us/step\n",
            "Test accuracy: 0.683453233121968\n"
          ],
          "name": "stdout"
        }
      ]
    },
    {
      "cell_type": "code",
      "metadata": {
        "id": "mNcANu-t7OyD",
        "colab_type": "code",
        "outputId": "d9d80577-6530-4fc9-de27-9477b375448f",
        "colab": {
          "base_uri": "https://localhost:8080/",
          "height": 34
        }
      },
      "source": [
        "print('Mean test accuracy: {:.3f}'.format(np.mean(np.array(acc_list))))"
      ],
      "execution_count": 135,
      "outputs": [
        {
          "output_type": "stream",
          "text": [
            "Mean test accuracy: 0.669\n"
          ],
          "name": "stdout"
        }
      ]
    },
    {
      "cell_type": "code",
      "metadata": {
        "id": "EF5PDJpH7U3w",
        "colab_type": "code",
        "outputId": "60551ba3-6f24-4062-ea77-ce639b775f0b",
        "colab": {
          "base_uri": "https://localhost:8080/",
          "height": 320
        }
      },
      "source": [
        "fig, axs = plt.subplots(1, 2, figsize=(10, 5))\n",
        "for H in H_list:\n",
        "    axs[0].plot(H.history['acc'], label='acc')\n",
        "    axs[0].plot(H.history['val_acc'], label='val_acc')\n",
        "    axs[1].plot(H.history['loss'], label='loss')\n",
        "    axs[1].plot(H.history['val_loss'], label='val_loss')"
      ],
      "execution_count": 136,
      "outputs": [
        {
          "output_type": "display_data",
          "data": {
            "image/png": "[encoded data removed]",
            "text/plain": [
              "<Figure size 720x360 with 2 Axes>"
            ]
          },
          "metadata": {
            "tags": []
          }
        }
      ]
    },
    {
      "cell_type": "code",
      "metadata": {
        "id": "-mj9KfGZ7YAl",
        "colab_type": "code",
        "colab": {}
      },
      "source": [
        "y_pred_list = []\n",
        "for index in range(len(X_test)):\n",
        "    y_pred = np.zeros(3)\n",
        "    for model in model_list:\n",
        "        y_pred += model.predict(X_test[index][np.newaxis])[0]\n",
        "    y_pred_list.append(y_pred)\n",
        "    \n",
        "y_pred = np.array(y_pred_list)"
      ],
      "execution_count": 0,
      "outputs": []
    },
    {
      "cell_type": "code",
      "metadata": {
        "id": "LP6ENuds7jbE",
        "colab_type": "code",
        "outputId": "d6a53a9a-3229-4cb4-962b-4606a5ef9980",
        "colab": {
          "base_uri": "https://localhost:8080/",
          "height": 102
        }
      },
      "source": [
        "y_pred[:5]"
      ],
      "execution_count": 138,
      "outputs": [
        {
          "output_type": "execute_result",
          "data": {
            "text/plain": [
              "array([[0.45943071, 0.37436493, 9.16620445],\n",
              "       [0.01756018, 0.06378194, 9.91865778],\n",
              "       [5.85241933, 1.38007518, 2.76750538],\n",
              "       [0.03771679, 0.07314094, 9.88914233],\n",
              "       [0.72820715, 5.52399271, 3.74780009]])"
            ]
          },
          "metadata": {
            "tags": []
          },
          "execution_count": 138
        }
      ]
    },
    {
      "cell_type": "code",
      "metadata": {
        "id": "OAMbumz-7liN",
        "colab_type": "code",
        "colab": {}
      },
      "source": [
        "y_pred_class=np.argmax(y_pred, axis=1)"
      ],
      "execution_count": 0,
      "outputs": []
    },
    {
      "cell_type": "code",
      "metadata": {
        "id": "CkKFhBvH9LSW",
        "colab_type": "code",
        "outputId": "52d5028c-a2f0-4ea7-c62b-6903a5e76956",
        "colab": {
          "base_uri": "https://localhost:8080/",
          "height": 34
        }
      },
      "source": [
        "y_pred_class[:5]"
      ],
      "execution_count": 140,
      "outputs": [
        {
          "output_type": "execute_result",
          "data": {
            "text/plain": [
              "array([2, 2, 0, 2, 1])"
            ]
          },
          "metadata": {
            "tags": []
          },
          "execution_count": 140
        }
      ]
    },
    {
      "cell_type": "code",
      "metadata": {
        "id": "W9CEWyL-7ltt",
        "colab_type": "code",
        "outputId": "fdc44b61-1db6-4827-887b-8e19d0ae3206",
        "colab": {
          "base_uri": "https://localhost:8080/",
          "height": 102
        }
      },
      "source": [
        "# true values\n",
        "y_test[:5]"
      ],
      "execution_count": 141,
      "outputs": [
        {
          "output_type": "execute_result",
          "data": {
            "text/plain": [
              "array([[0., 0., 1.],\n",
              "       [0., 0., 1.],\n",
              "       [0., 1., 0.],\n",
              "       [0., 0., 1.],\n",
              "       [0., 0., 1.]], dtype=float32)"
            ]
          },
          "metadata": {
            "tags": []
          },
          "execution_count": 141
        }
      ]
    },
    {
      "cell_type": "code",
      "metadata": {
        "id": "ICgxD8ew7rDA",
        "colab_type": "code",
        "colab": {}
      },
      "source": [
        "y_test_class=np.argmax(y_test, axis=1)"
      ],
      "execution_count": 0,
      "outputs": []
    },
    {
      "cell_type": "code",
      "metadata": {
        "id": "xDtFqCHY9Oqv",
        "colab_type": "code",
        "outputId": "b2f4a379-c1c4-4b70-ce33-e4c4133c2d24",
        "colab": {
          "base_uri": "https://localhost:8080/",
          "height": 34
        }
      },
      "source": [
        "y_test_class[:5]"
      ],
      "execution_count": 143,
      "outputs": [
        {
          "output_type": "execute_result",
          "data": {
            "text/plain": [
              "array([2, 2, 1, 2, 2])"
            ]
          },
          "metadata": {
            "tags": []
          },
          "execution_count": 143
        }
      ]
    },
    {
      "cell_type": "code",
      "metadata": {
        "id": "iVUxfUOD7aid",
        "colab_type": "code",
        "outputId": "ce7ca4b8-1223-499f-f1cd-c3eb3db52564",
        "colab": {
          "base_uri": "https://localhost:8080/",
          "height": 34
        }
      },
      "source": [
        "accuracy_score(y_pred_class, y_test_class)"
      ],
      "execution_count": 144,
      "outputs": [
        {
          "output_type": "execute_result",
          "data": {
            "text/plain": [
              "0.697841726618705"
            ]
          },
          "metadata": {
            "tags": []
          },
          "execution_count": 144
        }
      ]
    },
    {
      "cell_type": "code",
      "metadata": {
        "id": "xkuhXhoT7alx",
        "colab_type": "code",
        "outputId": "e2a26b42-c83c-45c3-9a08-67e78dd79c8d",
        "colab": {
          "base_uri": "https://localhost:8080/",
          "height": 187
        }
      },
      "source": [
        "print(classification_report(y_pred_class, y_test_class))"
      ],
      "execution_count": 145,
      "outputs": [
        {
          "output_type": "stream",
          "text": [
            "              precision    recall  f1-score   support\n",
            "\n",
            "           0       0.26      0.44      0.33        48\n",
            "           1       0.60      0.60      0.60       190\n",
            "           2       0.83      0.77      0.79       457\n",
            "\n",
            "    accuracy                           0.70       695\n",
            "   macro avg       0.56      0.60      0.57       695\n",
            "weighted avg       0.72      0.70      0.71       695\n",
            "\n"
          ],
          "name": "stdout"
        }
      ]
    },
    {
      "cell_type": "code",
      "metadata": {
        "id": "m62OG4DG7aq3",
        "colab_type": "code",
        "outputId": "329d4c62-f4fb-4798-fa85-5a5499f9fba4",
        "colab": {
          "base_uri": "https://localhost:8080/",
          "height": 312
        }
      },
      "source": [
        "import scikitplot as skplt\n",
        "plt.figure()\n",
        "skplt.metrics.plot_confusion_matrix(y_pred=y_pred_class, y_true=y_test_class)\n",
        "plt.show()"
      ],
      "execution_count": 146,
      "outputs": [
        {
          "output_type": "display_data",
          "data": {
            "text/plain": [
              "<Figure size 432x288 with 0 Axes>"
            ]
          },
          "metadata": {
            "tags": []
          }
        },
        {
          "output_type": "display_data",
          "data": {
            "image/png": "[encoded data removed]",
            "text/plain": [
              "<Figure size 432x288 with 2 Axes>"
            ]
          },
          "metadata": {
            "tags": []
          }
        }
      ]
    },
    {
      "cell_type": "code",
      "metadata": {
        "id": "q7k2-SCe9gVN",
        "colab_type": "code",
        "outputId": "7ed36b77-ed07-4f83-b1d6-2fb6cf0e88d0",
        "colab": {
          "base_uri": "https://localhost:8080/",
          "height": 312
        }
      },
      "source": [
        "skplt.metrics.plot_confusion_matrix(y_pred=y_pred_class, y_true=y_test_class, normalize=True)"
      ],
      "execution_count": 147,
      "outputs": [
        {
          "output_type": "execute_result",
          "data": {
            "text/plain": [
              "<matplotlib.axes._subplots.AxesSubplot at 0x7f20d37c5828>"
            ]
          },
          "metadata": {
            "tags": []
          },
          "execution_count": 147
        },
        {
          "output_type": "display_data",
          "data": {
            "image/png": "[encoded data removed]",
            "text/plain": [
              "<Figure size 432x288 with 2 Axes>"
            ]
          },
          "metadata": {
            "tags": []
          }
        }
      ]
    },
    {
      "cell_type": "markdown",
      "metadata": {
        "id": "-nA9QSNF8Kh6",
        "colab_type": "text"
      },
      "source": [
        "# 6)- Checking out of sample data"
      ]
    },
    {
      "cell_type": "code",
      "metadata": {
        "id": "i6U44mVT7aoa",
        "colab_type": "code",
        "colab": {}
      },
      "source": [
        "def tag_message(message):\n",
        "    X_new = tokenizer.texts_to_sequences([message])\n",
        "    x1_new = sequence.pad_sequences(X_new, maxlen=maxlen, padding='post')\n",
        "    y_pred_list = []\n",
        "    for model in model_list:\n",
        "        y_pred_list.append(model.predict(x1_new))\n",
        "    y_pred = np.argmax(np.sum(np.array(y_pred_list), axis=0) / 10.0)\n",
        "    print('{:>20} | {}'.format(dict_classes[y_pred], message))"
      ],
      "execution_count": 0,
      "outputs": []
    },
    {
      "cell_type": "code",
      "metadata": {
        "id": "2N1qW0Nn8Jns",
        "colab_type": "code",
        "colab": {
          "base_uri": "https://localhost:8080/",
          "height": 187
        },
        "outputId": "f0449ba8-fad2-4366-b623-3970d100b80f"
      },
      "source": [
        "tag_message('My alarm clock was not set properly. I come to the office asap.')\n",
        "tag_message('It is my scheduled day off.')\n",
        "tag_message('See you on Wednesday.')\n",
        "tag_message('Not feeling well today, I had to vomit.')\n",
        "tag_message('I work at home on Tuesday.')\n",
        "tag_message('This morning I have a meeting at ACME.')\n",
        "tag_message('The roads are super slippery, will miss the daily')\n",
        "tag_message('get well soon!')\n",
        "tag_message('I\\'m away for a long lunch between 12:00 and 15:30')\n",
        "tag_message('I have an appointment at the physio.')"
      ],
      "execution_count": 149,
      "outputs": [
        {
          "output_type": "stream",
          "text": [
            "               Risky | My alarm clock was not set properly. I come to the office asap.\n",
            "               Risky | It is my scheduled day off.\n",
            "               Risky | See you on Wednesday.\n",
            "               Risky | Not feeling well today, I had to vomit.\n",
            "               Risky | I work at home on Tuesday.\n",
            "               Risky | This morning I have a meeting at ACME.\n",
            "             Benefit | The roads are super slippery, will miss the daily\n",
            "               Risky | get well soon!\n",
            "             Benefit | I'm away for a long lunch between 12:00 and 15:30\n",
            "               Risky | I have an appointment at the physio.\n"
          ],
          "name": "stdout"
        }
      ]
    },
    {
      "cell_type": "markdown",
      "metadata": {
        "id": "aj8mHuqL_OAF",
        "colab_type": "text"
      },
      "source": [
        "# 7)-Transfer learning with pretrained embeddings"
      ]
    },
    {
      "cell_type": "markdown",
      "metadata": {
        "id": "uo_ILhfpAen_",
        "colab_type": "text"
      },
      "source": [
        "### 7.1)- USe GloVe Word - Embedding "
      ]
    },
    {
      "cell_type": "code",
      "metadata": {
        "id": "ydVb2ZxB9mdI",
        "colab_type": "code",
        "outputId": "b56fbd7d-7c09-40b7-b65b-f2308204a26e",
        "colab": {
          "base_uri": "https://localhost:8080/",
          "height": 357
        }
      },
      "source": [
        "# download the file\n",
        "!wget http://nlp.stanford.edu/data/glove.6B.zip"
      ],
      "execution_count": 150,
      "outputs": [
        {
          "output_type": "stream",
          "text": [
            "--2020-01-17 15:09:52--  http://nlp.stanford.edu/data/glove.6B.zip\n",
            "Resolving nlp.stanford.edu (nlp.stanford.edu)... 171.64.67.140\n",
            "Connecting to nlp.stanford.edu (nlp.stanford.edu)|171.64.67.140|:80... connected.\n",
            "HTTP request sent, awaiting response... 302 Found\n",
            "Location: https://nlp.stanford.edu/data/glove.6B.zip [following]\n",
            "--2020-01-17 15:09:52--  https://nlp.stanford.edu/data/glove.6B.zip\n",
            "Connecting to nlp.stanford.edu (nlp.stanford.edu)|171.64.67.140|:443... connected.\n",
            "HTTP request sent, awaiting response... 301 Moved Permanently\n",
            "Location: http://downloads.cs.stanford.edu/nlp/data/glove.6B.zip [following]\n",
            "--2020-01-17 15:09:52--  http://downloads.cs.stanford.edu/nlp/data/glove.6B.zip\n",
            "Resolving downloads.cs.stanford.edu (downloads.cs.stanford.edu)... 171.64.64.22\n",
            "Connecting to downloads.cs.stanford.edu (downloads.cs.stanford.edu)|171.64.64.22|:80... connected.\n",
            "HTTP request sent, awaiting response... 200 OK\n",
            "Length: 862182613 (822M) [application/zip]\n",
            "Saving to: ‘glove.6B.zip.1’\n",
            "\n",
            "glove.6B.zip.1      100%[===================>] 822.24M  2.02MB/s    in 6m 29s  \n",
            "\n",
            "2020-01-17 15:16:21 (2.12 MB/s) - ‘glove.6B.zip.1’ saved [862182613/862182613]\n",
            "\n"
          ],
          "name": "stdout"
        }
      ]
    },
    {
      "cell_type": "code",
      "metadata": {
        "id": "zwAudAo4Ah7k",
        "colab_type": "code",
        "outputId": "3d70f4da-2ca5-463a-c18e-643b91c2d685",
        "colab": {
          "base_uri": "https://localhost:8080/",
          "height": 51
        }
      },
      "source": [
        "# unzip it\n",
        "\n",
        "!unzip glove*.zip"
      ],
      "execution_count": 151,
      "outputs": [
        {
          "output_type": "stream",
          "text": [
            "Archive:  glove.6B.zip\n",
            "replace glove.6B.50d.txt? [y]es, [n]o, [A]ll, [N]one, [r]ename: N\n"
          ],
          "name": "stdout"
        }
      ]
    },
    {
      "cell_type": "code",
      "metadata": {
        "id": "KZWSpBj-Da9D",
        "colab_type": "code",
        "outputId": "1a216c05-10ae-40ce-d2c8-3193fb1f0aa4",
        "colab": {
          "base_uri": "https://localhost:8080/",
          "height": 85
        }
      },
      "source": [
        "# Get the exact path of where the embedding vectors are extracted using\n",
        "!ls\n",
        "!pwd"
      ],
      "execution_count": 152,
      "outputs": [
        {
          "output_type": "stream",
          "text": [
            "glove.6B.100d.txt  glove.6B.50d.txt  Out_of_sample.pkl\n",
            "glove.6B.200d.txt  glove.6B.zip      sample_data\n",
            "glove.6B.300d.txt  glove.6B.zip.1    sentiment_self_drive.pkl\n",
            "/content\n"
          ],
          "name": "stdout"
        }
      ]
    },
    {
      "cell_type": "code",
      "metadata": {
        "id": "sSZ1znadGGnq",
        "colab_type": "code",
        "outputId": "1c15d464-679d-410c-be82-b6f13394b604",
        "colab": {
          "base_uri": "https://localhost:8080/",
          "height": 51
        }
      },
      "source": [
        "# Index the vectors\n",
        "\n",
        "print('Indexing word vectors.')\n",
        "\n",
        "embeddings_index = {}\n",
        "f = open('glove.6B.100d.txt', encoding='utf-8')\n",
        "for line in f:\n",
        "    values = line.split()\n",
        "    word = values[0]\n",
        "    coefs = np.asarray(values[1:], dtype='float32')\n",
        "    embeddings_index[word] = coefs\n",
        "f.close()\n",
        "\n",
        "print('Found %s word vectors.' % len(embeddings_index))"
      ],
      "execution_count": 153,
      "outputs": [
        {
          "output_type": "stream",
          "text": [
            "Indexing word vectors.\n",
            "Found 400000 word vectors.\n"
          ],
          "name": "stdout"
        }
      ]
    },
    {
      "cell_type": "markdown",
      "metadata": {
        "id": "YTgPIf2GHC3q",
        "colab_type": "text"
      },
      "source": [
        "### 7.2)- loading file for pretrained embeddings"
      ]
    },
    {
      "cell_type": "code",
      "metadata": {
        "id": "QGfxvEsdGxpA",
        "colab_type": "code",
        "outputId": "4ba18831-265e-4735-9f98-f6108063c6cc",
        "colab": {
          "base_uri": "https://localhost:8080/",
          "height": 34
        }
      },
      "source": [
        "embeddings_index = {}\n",
        "with open('glove.6B.100d.txt', 'r') as f:\n",
        "    for line in f:\n",
        "        values = line.split()\n",
        "        word = values[0]\n",
        "        coefs = np.asarray(values[1:], dtype='float32')\n",
        "        embeddings_index[word] = coefs\n",
        "\n",
        "print('Found %s word vectors.' % len(embeddings_index))"
      ],
      "execution_count": 154,
      "outputs": [
        {
          "output_type": "stream",
          "text": [
            "Found 400000 word vectors.\n"
          ],
          "name": "stdout"
        }
      ]
    },
    {
      "cell_type": "code",
      "metadata": {
        "id": "LlkAAY5CGefI",
        "colab_type": "code",
        "outputId": "7bf416a0-60c1-448c-cc78-80e5991d09eb",
        "colab": {
          "base_uri": "https://localhost:8080/",
          "height": 34
        }
      },
      "source": [
        "embeddings_index['home'].shape"
      ],
      "execution_count": 155,
      "outputs": [
        {
          "output_type": "execute_result",
          "data": {
            "text/plain": [
              "(100,)"
            ]
          },
          "metadata": {
            "tags": []
          },
          "execution_count": 155
        }
      ]
    },
    {
      "cell_type": "code",
      "metadata": {
        "id": "GKCynoAAHPAp",
        "colab_type": "code",
        "outputId": "5f0be4af-856e-4d6b-996c-7d8e0532db52",
        "colab": {
          "base_uri": "https://localhost:8080/",
          "height": 34
        }
      },
      "source": [
        "embedding_matrix = np.zeros((len(word_index) + 1, 100))\n",
        "for word, i in word_index.items():\n",
        "    embedding_vector = embeddings_index.get(word)\n",
        "    if embedding_vector is not None:\n",
        "        # words not found in embedding index will be all-zeros.\n",
        "        embedding_matrix[i] = embedding_vector\n",
        "        \n",
        "print(embedding_matrix.shape)"
      ],
      "execution_count": 156,
      "outputs": [
        {
          "output_type": "stream",
          "text": [
            "(15671, 100)\n"
          ],
          "name": "stdout"
        }
      ]
    },
    {
      "cell_type": "markdown",
      "metadata": {
        "id": "rMzf44GCHVV4",
        "colab_type": "text"
      },
      "source": [
        "### 7.3)-Model Building"
      ]
    },
    {
      "cell_type": "code",
      "metadata": {
        "id": "EunEYQsgHRj0",
        "colab_type": "code",
        "outputId": "d3d21492-c0e7-40f0-a4b3-73503cbeb5aa",
        "colab": {
          "base_uri": "https://localhost:8080/",
          "height": 323
        }
      },
      "source": [
        "print('Build model...')\n",
        "\n",
        "model = Sequential()\n",
        "# model.add(Input(shape=(maxlen,), dtype='int32'))\n",
        "model.add(Embedding(embedding_matrix.shape[0], embedding_matrix.shape[1], weights=[embedding_matrix], input_length=maxlen, trainable=False))\n",
        "model.add(Dropout(0.25))\n",
        "model.add(Conv1D(filters,\n",
        "                 kernel_size,\n",
        "                 padding='valid',\n",
        "                 activation='relu',\n",
        "                 strides=1))\n",
        "model.add(MaxPooling1D(pool_size=pool_size))\n",
        "model.add(LSTM(lstm_output_size))\n",
        "model.add(Dense(3))\n",
        "model.add(Activation('softmax'))\n",
        "\n",
        "callback = EarlyStopping(monitor='val_acc', patience=1)\n",
        "\n",
        "model.compile(loss='categorical_crossentropy',\n",
        "              optimizer='adam',\n",
        "              metrics=['accuracy'])\n",
        "\n",
        "print('Train...')\n",
        "H = model.fit(X_train, y_train,\n",
        "          batch_size=batch_size,\n",
        "          epochs=epochs,\n",
        "          validation_data=(X_test, y_test), callbacks=[callback])\n",
        "score, acc = model.evaluate(X_test, y_test, batch_size=batch_size)\n",
        "print('Test score:', score)\n",
        "print('Test accuracy:', acc)"
      ],
      "execution_count": 158,
      "outputs": [
        {
          "output_type": "stream",
          "text": [
            "Build model...\n",
            "Train...\n",
            "Train on 6248 samples, validate on 695 samples\n",
            "Epoch 1/12\n",
            "6248/6248 [==============================] - 13s 2ms/step - loss: 0.8717 - acc: 0.6136 - val_loss: 0.8576 - val_acc: 0.5971\n",
            "Epoch 2/12\n",
            "6248/6248 [==============================] - 7s 1ms/step - loss: 0.8215 - acc: 0.6288 - val_loss: 0.8095 - val_acc: 0.6302\n",
            "Epoch 3/12\n",
            "6248/6248 [==============================] - 7s 1ms/step - loss: 0.7851 - acc: 0.6570 - val_loss: 0.7920 - val_acc: 0.6705\n",
            "Epoch 4/12\n",
            "6248/6248 [==============================] - 7s 1ms/step - loss: 0.7278 - acc: 0.6817 - val_loss: 0.7666 - val_acc: 0.6748\n",
            "Epoch 5/12\n",
            "6248/6248 [==============================] - 7s 1ms/step - loss: 0.6929 - acc: 0.7093 - val_loss: 0.7785 - val_acc: 0.6777\n",
            "Epoch 6/12\n",
            "6248/6248 [==============================] - 7s 1ms/step - loss: 0.6541 - acc: 0.7249 - val_loss: 0.8139 - val_acc: 0.6619\n",
            "695/695 [==============================] - 0s 418us/step\n",
            "Test score: 0.8139248807653249\n",
            "Test accuracy: 0.6618705048835535\n"
          ],
          "name": "stdout"
        }
      ]
    },
    {
      "cell_type": "code",
      "metadata": {
        "id": "yYKsdSZ0HW_5",
        "colab_type": "code",
        "colab": {}
      },
      "source": [
        "y_pred = model.predict(X_test)"
      ],
      "execution_count": 0,
      "outputs": []
    },
    {
      "cell_type": "markdown",
      "metadata": {
        "id": "2oZh75vwIaF8",
        "colab_type": "text"
      },
      "source": [
        "### 7.4)- Results"
      ]
    },
    {
      "cell_type": "code",
      "metadata": {
        "id": "3mJqJmdbOOf-",
        "colab_type": "code",
        "outputId": "2c710505-2fd7-4462-cfe3-a25d98db001a",
        "colab": {
          "base_uri": "https://localhost:8080/",
          "height": 34
        }
      },
      "source": [
        "accuracy_score(y_pred=np.argmax(y_pred, axis=1), y_true=np.argmax(y_test, axis=1))"
      ],
      "execution_count": 160,
      "outputs": [
        {
          "output_type": "execute_result",
          "data": {
            "text/plain": [
              "0.6618705035971223"
            ]
          },
          "metadata": {
            "tags": []
          },
          "execution_count": 160
        }
      ]
    },
    {
      "cell_type": "code",
      "metadata": {
        "id": "j67Q-VjkHbNQ",
        "colab_type": "code",
        "outputId": "0b9656e3-7bb7-498a-e34a-b8ddd272ea03",
        "colab": {
          "base_uri": "https://localhost:8080/",
          "height": 187
        }
      },
      "source": [
        "print(classification_report(y_pred=np.argmax(y_pred, axis=1), y_true=np.argmax(y_test, axis=1)))"
      ],
      "execution_count": 161,
      "outputs": [
        {
          "output_type": "stream",
          "text": [
            "              precision    recall  f1-score   support\n",
            "\n",
            "           0       0.44      0.09      0.15        80\n",
            "           1       0.52      0.48      0.50       191\n",
            "           2       0.72      0.85      0.78       424\n",
            "\n",
            "    accuracy                           0.66       695\n",
            "   macro avg       0.56      0.47      0.48       695\n",
            "weighted avg       0.63      0.66      0.63       695\n",
            "\n"
          ],
          "name": "stdout"
        }
      ]
    },
    {
      "cell_type": "code",
      "metadata": {
        "id": "Uz1evcwXHbkY",
        "colab_type": "code",
        "outputId": "9b70e3bd-b3b7-4dcb-a5b5-56f8037c1cd1",
        "colab": {
          "base_uri": "https://localhost:8080/",
          "height": 68
        }
      },
      "source": [
        "cm = confusion_matrix(y_pred=np.argmax(y_pred, axis=1), y_true=np.argmax(y_test, axis=1))\n",
        "cm"
      ],
      "execution_count": 162,
      "outputs": [
        {
          "output_type": "execute_result",
          "data": {
            "text/plain": [
              "array([[  7,  27,  46],\n",
              "       [  5,  92,  94],\n",
              "       [  4,  59, 361]])"
            ]
          },
          "metadata": {
            "tags": []
          },
          "execution_count": 162
        }
      ]
    },
    {
      "cell_type": "code",
      "metadata": {
        "id": "kJQVxR9pHo-L",
        "colab_type": "code",
        "outputId": "288b432e-93eb-4723-cbfa-d2c48fecd8ad",
        "colab": {
          "base_uri": "https://localhost:8080/",
          "height": 295
        }
      },
      "source": [
        "skplt.metrics.plot_confusion_matrix(y_pred=np.argmax(y_pred, axis=1), y_true=np.argmax(y_test, axis=1))\n",
        "plt.show()"
      ],
      "execution_count": 163,
      "outputs": [
        {
          "output_type": "display_data",
          "data": {
            "image/png": "[encoded data removed]",
            "text/plain": [
              "<Figure size 432x288 with 2 Axes>"
            ]
          },
          "metadata": {
            "tags": []
          }
        }
      ]
    },
    {
      "cell_type": "code",
      "metadata": {
        "id": "RqnHDwvJIKVq",
        "colab_type": "code",
        "outputId": "037244ff-b3ea-4487-b315-271925b17f3c",
        "colab": {
          "base_uri": "https://localhost:8080/",
          "height": 295
        }
      },
      "source": [
        "skplt.metrics.plot_confusion_matrix(y_pred=np.argmax(y_pred, axis=1), y_true=np.argmax(y_test, axis=1), normalize=True)\n",
        "plt.show()"
      ],
      "execution_count": 164,
      "outputs": [
        {
          "output_type": "display_data",
          "data": {
            "image/png": "[encoded data removed]",
            "text/plain": [
              "<Figure size 432x288 with 2 Axes>"
            ]
          },
          "metadata": {
            "tags": []
          }
        }
      ]
    },
    {
      "cell_type": "markdown",
      "metadata": {
        "id": "6JNjRwCOHV9g",
        "colab_type": "text"
      },
      "source": [
        "**END of NOTEBOOK**"
      ]
    }
  ]
}