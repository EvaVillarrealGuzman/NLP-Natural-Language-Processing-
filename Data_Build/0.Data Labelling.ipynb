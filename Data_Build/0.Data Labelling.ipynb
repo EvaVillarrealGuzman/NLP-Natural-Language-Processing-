{
 "cells": [
  {
   "cell_type": "markdown",
   "metadata": {},
   "source": [
    "# Self-Drive Cars' Sentiment Analysis\n",
    "\n",
    "- Labelling data\n",
    "\n"
   ]
  },
  {
   "cell_type": "markdown",
   "metadata": {},
   "source": [
    "# 1)-Importing key modules"
   ]
  },
  {
   "cell_type": "code",
   "execution_count": 1,
   "metadata": {},
   "outputs": [],
   "source": [
    "import warnings\n",
    "warnings.filterwarnings('ignore')\n",
    "import pandas as pd\n",
    "import datetime as dt\n",
    "import numpy as np\n",
    "import requests\n",
    "import pickle"
   ]
  },
  {
   "cell_type": "code",
   "execution_count": 2,
   "metadata": {},
   "outputs": [
    {
     "name": "stderr",
     "output_type": "stream",
     "text": [
      "[nltk_data] Downloading package stopwords to\n",
      "[nltk_data]     C:\\Users\\hassan.sherwani\\AppData\\Roaming\\nltk_data...\n",
      "[nltk_data]   Package stopwords is already up-to-date!\n"
     ]
    }
   ],
   "source": [
    "import nltk\n",
    "from nltk.corpus import stopwords\n",
    "from sklearn.feature_extraction.text import CountVectorizer\n",
    "\n",
    "from nltk.stem.porter import PorterStemmer\n",
    "\n",
    "from nltk.corpus import stopwords\n",
    "nltk.download('stopwords')\n",
    "import re\n",
    "from nltk.sentiment.vader import SentimentIntensityAnalyzer\n",
    "from nltk.sentiment.util import *\n",
    "from nltk import tokenize"
   ]
  },
  {
   "cell_type": "code",
   "execution_count": 3,
   "metadata": {},
   "outputs": [],
   "source": [
    "import spacy \n",
    "\n",
    "nlp = spacy.load(\"en_core_web_sm\") # preload model"
   ]
  },
  {
   "cell_type": "code",
   "execution_count": 4,
   "metadata": {},
   "outputs": [
    {
     "name": "stdout",
     "output_type": "stream",
     "text": [
      "Populating the interactive namespace from numpy and matplotlib\n"
     ]
    }
   ],
   "source": [
    "# Visualization \n",
    "import matplotlib.pyplot as plt\n",
    "import seaborn as sns\n",
    "from pprint import pprint\n",
    "%matplotlib inline\n",
    "%pylab inline"
   ]
  },
  {
   "cell_type": "markdown",
   "metadata": {},
   "source": [
    "# 2)-Loading data"
   ]
  },
  {
   "cell_type": "code",
   "execution_count": 5,
   "metadata": {},
   "outputs": [],
   "source": [
    "filename='train.pkl'"
   ]
  },
  {
   "cell_type": "code",
   "execution_count": 6,
   "metadata": {},
   "outputs": [
    {
     "data": {
      "text/plain": [
       "(15000, 1)"
      ]
     },
     "execution_count": 6,
     "metadata": {},
     "output_type": "execute_result"
    }
   ],
   "source": [
    "train=pd.read_pickle(filename)\n",
    "train.shape"
   ]
  },
  {
   "cell_type": "code",
   "execution_count": 7,
   "metadata": {},
   "outputs": [
    {
     "data": {
      "text/html": [
       "<div>\n",
       "<style scoped>\n",
       "    .dataframe tbody tr th:only-of-type {\n",
       "        vertical-align: middle;\n",
       "    }\n",
       "\n",
       "    .dataframe tbody tr th {\n",
       "        vertical-align: top;\n",
       "    }\n",
       "\n",
       "    .dataframe thead th {\n",
       "        text-align: right;\n",
       "    }\n",
       "</style>\n",
       "<table border=\"1\" class=\"dataframe\">\n",
       "  <thead>\n",
       "    <tr style=\"text-align: right;\">\n",
       "      <th></th>\n",
       "      <th>TEXT</th>\n",
       "    </tr>\n",
       "  </thead>\n",
       "  <tbody>\n",
       "    <tr>\n",
       "      <th>143880</th>\n",
       "      <td>\"Over the years, the MLK estate has also licen...</td>\n",
       "    </tr>\n",
       "    <tr>\n",
       "      <th>87455</th>\n",
       "      <td>Porsche celebrates its racing history with the...</td>\n",
       "    </tr>\n",
       "  </tbody>\n",
       "</table>\n",
       "</div>"
      ],
      "text/plain": [
       "                                                     TEXT\n",
       "143880  \"Over the years, the MLK estate has also licen...\n",
       "87455   Porsche celebrates its racing history with the..."
      ]
     },
     "execution_count": 7,
     "metadata": {},
     "output_type": "execute_result"
    }
   ],
   "source": [
    "train.head(2)"
   ]
  },
  {
   "cell_type": "markdown",
   "metadata": {},
   "source": [
    "# 4)- Clean data"
   ]
  },
  {
   "cell_type": "code",
   "execution_count": 11,
   "metadata": {},
   "outputs": [
    {
     "name": "stderr",
     "output_type": "stream",
     "text": [
      "[nltk_data] Downloading package stopwords to\n",
      "[nltk_data]     C:\\Users\\hassan.sherwani\\AppData\\Roaming\\nltk_data...\n",
      "[nltk_data]   Package stopwords is already up-to-date!\n"
     ]
    },
    {
     "data": {
      "text/plain": [
       "True"
      ]
     },
     "execution_count": 11,
     "metadata": {},
     "output_type": "execute_result"
    }
   ],
   "source": [
    "from nltk.corpus import stopwords\n",
    "nltk.download('stopwords')"
   ]
  },
  {
   "cell_type": "code",
   "execution_count": 12,
   "metadata": {},
   "outputs": [],
   "source": [
    "REPLACE_BY_SPACE_RE = re.compile('[/(){}\\[\\]\\|@,;#]')\n",
    "BAD_SYMBOLS_RE = re.compile('[^0-9a-z +_]')\n",
    "STOPWORDS = stopwords.words('english')\n",
    "STOPWORDS.extend(['rt', 'http']) # extend stopwords; rt means re-tweet\n",
    "STOPWORDS = set(STOPWORDS)\n",
    "\n",
    "def text_prepare(text):\n",
    "    \"\"\"\n",
    "        text: a string\n",
    "        \n",
    "        return: modified initial string\n",
    "    \"\"\"\n",
    "    text = text.lower() # lowercase text\n",
    "    text = REPLACE_BY_SPACE_RE.sub(' ', text) # replace REPLACE_BY_SPACE_RE symbols by space in text\n",
    "    text = BAD_SYMBOLS_RE.sub('', text) # delete symbols which are in BAD_SYMBOLS_RE from text\n",
    "    text = ' '.join([word for word in text.split() if word not in STOPWORDS]) # delete stopwords from text\n",
    "    text = text.strip()\n",
    "    return text"
   ]
  },
  {
   "cell_type": "code",
   "execution_count": 13,
   "metadata": {},
   "outputs": [],
   "source": [
    "train['cleaned']=[text_prepare(x) for x in train['TEXT']]"
   ]
  },
  {
   "cell_type": "markdown",
   "metadata": {},
   "source": [
    "# 5)-Sentiments extraction"
   ]
  },
  {
   "cell_type": "code",
   "execution_count": 16,
   "metadata": {},
   "outputs": [
    {
     "name": "stderr",
     "output_type": "stream",
     "text": [
      "[nltk_data] Downloading package vader_lexicon to\n",
      "[nltk_data]     C:\\Users\\hassan.sherwani\\AppData\\Roaming\\nltk_data...\n",
      "[nltk_data]   Package vader_lexicon is already up-to-date!\n"
     ]
    },
    {
     "data": {
      "text/plain": [
       "True"
      ]
     },
     "execution_count": 16,
     "metadata": {},
     "output_type": "execute_result"
    }
   ],
   "source": [
    "nltk.download('vader_lexicon')"
   ]
  },
  {
   "cell_type": "code",
   "execution_count": 17,
   "metadata": {},
   "outputs": [],
   "source": [
    "plt.rcParams['figure.figsize'] = (6.0, 6.0)\n",
    "sid= SentimentIntensityAnalyzer()"
   ]
  },
  {
   "cell_type": "code",
   "execution_count": 18,
   "metadata": {},
   "outputs": [],
   "source": [
    "train['Sent_compound_Polarity'] = train.TEXT.apply(lambda x:sid.polarity_scores(x)['compound'])\n",
    "train['neutral']= train.TEXT.apply(lambda x:sid.polarity_scores(x)['neu'])\n",
    "train['risk']= train.TEXT.apply (lambda x:sid.polarity_scores(x)['neg'])\n",
    "train['benefit']= train.TEXT.apply(lambda x:sid.polarity_scores(x)['pos'])\n",
    "train['Sent_type']=''"
   ]
  },
  {
   "cell_type": "code",
   "execution_count": 19,
   "metadata": {},
   "outputs": [
    {
     "data": {
      "text/html": [
       "<div>\n",
       "<style scoped>\n",
       "    .dataframe tbody tr th:only-of-type {\n",
       "        vertical-align: middle;\n",
       "    }\n",
       "\n",
       "    .dataframe tbody tr th {\n",
       "        vertical-align: top;\n",
       "    }\n",
       "\n",
       "    .dataframe thead th {\n",
       "        text-align: right;\n",
       "    }\n",
       "</style>\n",
       "<table border=\"1\" class=\"dataframe\">\n",
       "  <thead>\n",
       "    <tr style=\"text-align: right;\">\n",
       "      <th></th>\n",
       "      <th>TEXT</th>\n",
       "      <th>cleaned</th>\n",
       "      <th>Sent_compound_Polarity</th>\n",
       "      <th>neutral</th>\n",
       "      <th>risk</th>\n",
       "      <th>benefit</th>\n",
       "      <th>Sent_type</th>\n",
       "    </tr>\n",
       "  </thead>\n",
       "  <tbody>\n",
       "    <tr>\n",
       "      <th>143880</th>\n",
       "      <td>\"Over the years, the MLK estate has also licen...</td>\n",
       "      <td>years mlk estate also licensed king speeches u...</td>\n",
       "      <td>0.6166</td>\n",
       "      <td>0.910</td>\n",
       "      <td>0.000</td>\n",
       "      <td>0.090</td>\n",
       "      <td></td>\n",
       "    </tr>\n",
       "    <tr>\n",
       "      <th>87455</th>\n",
       "      <td>Porsche celebrates its racing history with the...</td>\n",
       "      <td>porsche celebrates racing history 911 carrera ...</td>\n",
       "      <td>0.5719</td>\n",
       "      <td>0.778</td>\n",
       "      <td>0.000</td>\n",
       "      <td>0.222</td>\n",
       "      <td></td>\n",
       "    </tr>\n",
       "    <tr>\n",
       "      <th>103986</th>\n",
       "      <td>Hmm, could that be the Mercedes? It made a ver...</td>\n",
       "      <td>hmm could mercedes made strange noise hamilton...</td>\n",
       "      <td>-0.2716</td>\n",
       "      <td>0.884</td>\n",
       "      <td>0.116</td>\n",
       "      <td>0.000</td>\n",
       "      <td></td>\n",
       "    </tr>\n",
       "    <tr>\n",
       "      <th>261437</th>\n",
       "      <td>The Full Carbon Audi RS6 is simply Amazing  pi...</td>\n",
       "      <td>full carbon audi rs6 simply amazing pictwitter...</td>\n",
       "      <td>0.5859</td>\n",
       "      <td>0.678</td>\n",
       "      <td>0.000</td>\n",
       "      <td>0.322</td>\n",
       "      <td></td>\n",
       "    </tr>\n",
       "    <tr>\n",
       "      <th>205444</th>\n",
       "      <td>Vijay Mayadas explores #blockchain potential i...</td>\n",
       "      <td>vijay mayadas explores blockchain potential ch...</td>\n",
       "      <td>0.3612</td>\n",
       "      <td>0.884</td>\n",
       "      <td>0.000</td>\n",
       "      <td>0.116</td>\n",
       "      <td></td>\n",
       "    </tr>\n",
       "  </tbody>\n",
       "</table>\n",
       "</div>"
      ],
      "text/plain": [
       "                                                     TEXT  \\\n",
       "143880  \"Over the years, the MLK estate has also licen...   \n",
       "87455   Porsche celebrates its racing history with the...   \n",
       "103986  Hmm, could that be the Mercedes? It made a ver...   \n",
       "261437  The Full Carbon Audi RS6 is simply Amazing  pi...   \n",
       "205444  Vijay Mayadas explores #blockchain potential i...   \n",
       "\n",
       "                                                  cleaned  \\\n",
       "143880  years mlk estate also licensed king speeches u...   \n",
       "87455   porsche celebrates racing history 911 carrera ...   \n",
       "103986  hmm could mercedes made strange noise hamilton...   \n",
       "261437  full carbon audi rs6 simply amazing pictwitter...   \n",
       "205444  vijay mayadas explores blockchain potential ch...   \n",
       "\n",
       "        Sent_compound_Polarity  neutral   risk  benefit Sent_type  \n",
       "143880                  0.6166    0.910  0.000    0.090            \n",
       "87455                   0.5719    0.778  0.000    0.222            \n",
       "103986                 -0.2716    0.884  0.116    0.000            \n",
       "261437                  0.5859    0.678  0.000    0.322            \n",
       "205444                  0.3612    0.884  0.000    0.116            "
      ]
     },
     "execution_count": 19,
     "metadata": {},
     "output_type": "execute_result"
    }
   ],
   "source": [
    "train.head()"
   ]
  },
  {
   "cell_type": "code",
   "execution_count": 20,
   "metadata": {},
   "outputs": [],
   "source": [
    "train.loc[train.Sent_compound_Polarity > 0, 'Sent_type']= 'Benefit'\n",
    "\n",
    "train.loc[train.Sent_compound_Polarity == 0, 'Sent_type']= 'Neutral'\n",
    "\n",
    "train.loc[train.Sent_compound_Polarity < 0, 'Sent_type']= 'Risky'"
   ]
  },
  {
   "cell_type": "code",
   "execution_count": 21,
   "metadata": {},
   "outputs": [
    {
     "data": {
      "text/html": [
       "<div>\n",
       "<style scoped>\n",
       "    .dataframe tbody tr th:only-of-type {\n",
       "        vertical-align: middle;\n",
       "    }\n",
       "\n",
       "    .dataframe tbody tr th {\n",
       "        vertical-align: top;\n",
       "    }\n",
       "\n",
       "    .dataframe thead th {\n",
       "        text-align: right;\n",
       "    }\n",
       "</style>\n",
       "<table border=\"1\" class=\"dataframe\">\n",
       "  <thead>\n",
       "    <tr style=\"text-align: right;\">\n",
       "      <th></th>\n",
       "      <th>TEXT</th>\n",
       "      <th>cleaned</th>\n",
       "      <th>Sent_compound_Polarity</th>\n",
       "      <th>neutral</th>\n",
       "      <th>risk</th>\n",
       "      <th>benefit</th>\n",
       "      <th>Sent_type</th>\n",
       "    </tr>\n",
       "  </thead>\n",
       "  <tbody>\n",
       "    <tr>\n",
       "      <th>143880</th>\n",
       "      <td>\"Over the years, the MLK estate has also licen...</td>\n",
       "      <td>years mlk estate also licensed king speeches u...</td>\n",
       "      <td>0.6166</td>\n",
       "      <td>0.910</td>\n",
       "      <td>0.000</td>\n",
       "      <td>0.090</td>\n",
       "      <td>Benefit</td>\n",
       "    </tr>\n",
       "    <tr>\n",
       "      <th>87455</th>\n",
       "      <td>Porsche celebrates its racing history with the...</td>\n",
       "      <td>porsche celebrates racing history 911 carrera ...</td>\n",
       "      <td>0.5719</td>\n",
       "      <td>0.778</td>\n",
       "      <td>0.000</td>\n",
       "      <td>0.222</td>\n",
       "      <td>Benefit</td>\n",
       "    </tr>\n",
       "    <tr>\n",
       "      <th>103986</th>\n",
       "      <td>Hmm, could that be the Mercedes? It made a ver...</td>\n",
       "      <td>hmm could mercedes made strange noise hamilton...</td>\n",
       "      <td>-0.2716</td>\n",
       "      <td>0.884</td>\n",
       "      <td>0.116</td>\n",
       "      <td>0.000</td>\n",
       "      <td>Risky</td>\n",
       "    </tr>\n",
       "    <tr>\n",
       "      <th>261437</th>\n",
       "      <td>The Full Carbon Audi RS6 is simply Amazing  pi...</td>\n",
       "      <td>full carbon audi rs6 simply amazing pictwitter...</td>\n",
       "      <td>0.5859</td>\n",
       "      <td>0.678</td>\n",
       "      <td>0.000</td>\n",
       "      <td>0.322</td>\n",
       "      <td>Benefit</td>\n",
       "    </tr>\n",
       "    <tr>\n",
       "      <th>205444</th>\n",
       "      <td>Vijay Mayadas explores #blockchain potential i...</td>\n",
       "      <td>vijay mayadas explores blockchain potential ch...</td>\n",
       "      <td>0.3612</td>\n",
       "      <td>0.884</td>\n",
       "      <td>0.000</td>\n",
       "      <td>0.116</td>\n",
       "      <td>Benefit</td>\n",
       "    </tr>\n",
       "  </tbody>\n",
       "</table>\n",
       "</div>"
      ],
      "text/plain": [
       "                                                     TEXT  \\\n",
       "143880  \"Over the years, the MLK estate has also licen...   \n",
       "87455   Porsche celebrates its racing history with the...   \n",
       "103986  Hmm, could that be the Mercedes? It made a ver...   \n",
       "261437  The Full Carbon Audi RS6 is simply Amazing  pi...   \n",
       "205444  Vijay Mayadas explores #blockchain potential i...   \n",
       "\n",
       "                                                  cleaned  \\\n",
       "143880  years mlk estate also licensed king speeches u...   \n",
       "87455   porsche celebrates racing history 911 carrera ...   \n",
       "103986  hmm could mercedes made strange noise hamilton...   \n",
       "261437  full carbon audi rs6 simply amazing pictwitter...   \n",
       "205444  vijay mayadas explores blockchain potential ch...   \n",
       "\n",
       "        Sent_compound_Polarity  neutral   risk  benefit Sent_type  \n",
       "143880                  0.6166    0.910  0.000    0.090   Benefit  \n",
       "87455                   0.5719    0.778  0.000    0.222   Benefit  \n",
       "103986                 -0.2716    0.884  0.116    0.000     Risky  \n",
       "261437                  0.5859    0.678  0.000    0.322   Benefit  \n",
       "205444                  0.3612    0.884  0.000    0.116   Benefit  "
      ]
     },
     "execution_count": 21,
     "metadata": {},
     "output_type": "execute_result"
    }
   ],
   "source": [
    "train.head()"
   ]
  },
  {
   "cell_type": "code",
   "execution_count": 22,
   "metadata": {},
   "outputs": [
    {
     "data": {
      "text/plain": [
       "Neutral    6513\n",
       "Benefit    5912\n",
       "Risky      2575\n",
       "Name: Sent_type, dtype: int64"
      ]
     },
     "execution_count": 22,
     "metadata": {},
     "output_type": "execute_result"
    }
   ],
   "source": [
    "train.Sent_type.value_counts()"
   ]
  },
  {
   "cell_type": "code",
   "execution_count": 23,
   "metadata": {},
   "outputs": [
    {
     "data": {
      "text/html": [
       "<div>\n",
       "<style scoped>\n",
       "    .dataframe tbody tr th:only-of-type {\n",
       "        vertical-align: middle;\n",
       "    }\n",
       "\n",
       "    .dataframe tbody tr th {\n",
       "        vertical-align: top;\n",
       "    }\n",
       "\n",
       "    .dataframe thead th {\n",
       "        text-align: right;\n",
       "    }\n",
       "</style>\n",
       "<table border=\"1\" class=\"dataframe\">\n",
       "  <thead>\n",
       "    <tr style=\"text-align: right;\">\n",
       "      <th></th>\n",
       "      <th>TEXT</th>\n",
       "      <th>Sent_type</th>\n",
       "    </tr>\n",
       "  </thead>\n",
       "  <tbody>\n",
       "    <tr>\n",
       "      <th>143880</th>\n",
       "      <td>\"Over the years, the MLK estate has also licen...</td>\n",
       "      <td>Benefit</td>\n",
       "    </tr>\n",
       "    <tr>\n",
       "      <th>87455</th>\n",
       "      <td>Porsche celebrates its racing history with the...</td>\n",
       "      <td>Benefit</td>\n",
       "    </tr>\n",
       "  </tbody>\n",
       "</table>\n",
       "</div>"
      ],
      "text/plain": [
       "                                                     TEXT Sent_type\n",
       "143880  \"Over the years, the MLK estate has also licen...   Benefit\n",
       "87455   Porsche celebrates its racing history with the...   Benefit"
      ]
     },
     "execution_count": 23,
     "metadata": {},
     "output_type": "execute_result"
    }
   ],
   "source": [
    "train_df=train.drop(['cleaned','Sent_compound_Polarity','neutral','risk','benefit'], axis=1)\n",
    "train_df.head(2)"
   ]
  },
  {
   "cell_type": "code",
   "execution_count": 24,
   "metadata": {},
   "outputs": [],
   "source": [
    "#train_df.to_pickle('model.pkl')\n",
    "#train_df.to_csv('model.csv')"
   ]
  },
  {
   "cell_type": "markdown",
   "metadata": {},
   "source": [
    "# For Full data "
   ]
  },
  {
   "cell_type": "code",
   "execution_count": 25,
   "metadata": {},
   "outputs": [],
   "source": [
    "filename='tweets.csv'"
   ]
  },
  {
   "cell_type": "code",
   "execution_count": 26,
   "metadata": {},
   "outputs": [
    {
     "data": {
      "text/plain": [
       "(455728, 8)"
      ]
     },
     "execution_count": 26,
     "metadata": {},
     "output_type": "execute_result"
    }
   ],
   "source": [
    "df = pd.read_csv(filename, delimiter='\\t', header=None,names=['TWEET ID','TIMESTAMP','UTC DATE','USER ID','SCREEN NAME','NAME','Q','TEXT'])\n",
    "df.shape"
   ]
  },
  {
   "cell_type": "code",
   "execution_count": 27,
   "metadata": {},
   "outputs": [],
   "source": [
    "df_label=df[['TEXT','UTC DATE']]\n",
    "df_label=df_label.drop(df_label.index[0])"
   ]
  },
  {
   "cell_type": "code",
   "execution_count": 28,
   "metadata": {},
   "outputs": [
    {
     "data": {
      "text/plain": [
       "(455727, 2)"
      ]
     },
     "execution_count": 28,
     "metadata": {},
     "output_type": "execute_result"
    }
   ],
   "source": [
    "df_label.shape"
   ]
  },
  {
   "cell_type": "code",
   "execution_count": 29,
   "metadata": {},
   "outputs": [
    {
     "data": {
      "text/html": [
       "<div>\n",
       "<style scoped>\n",
       "    .dataframe tbody tr th:only-of-type {\n",
       "        vertical-align: middle;\n",
       "    }\n",
       "\n",
       "    .dataframe tbody tr th {\n",
       "        vertical-align: top;\n",
       "    }\n",
       "\n",
       "    .dataframe thead th {\n",
       "        text-align: right;\n",
       "    }\n",
       "</style>\n",
       "<table border=\"1\" class=\"dataframe\">\n",
       "  <thead>\n",
       "    <tr style=\"text-align: right;\">\n",
       "      <th></th>\n",
       "      <th>TEXT</th>\n",
       "      <th>UTC DATE</th>\n",
       "    </tr>\n",
       "  </thead>\n",
       "  <tbody>\n",
       "    <tr>\n",
       "      <th>1</th>\n",
       "      <td>Another reason I failed in love is I'm poor,I ...</td>\n",
       "      <td>2018-07-31 23:13:47</td>\n",
       "    </tr>\n",
       "    <tr>\n",
       "      <th>2</th>\n",
       "      <td>2019 Mercedes-Benz C 300 and AMG C 43 First Dr...</td>\n",
       "      <td>2018-07-31 23:30:00</td>\n",
       "    </tr>\n",
       "    <tr>\n",
       "      <th>3</th>\n",
       "      <td>Happy birthday to the Audi chasing maniac, hop...</td>\n",
       "      <td>2018-07-31 22:52:45</td>\n",
       "    </tr>\n",
       "    <tr>\n",
       "      <th>4</th>\n",
       "      <td>Come see Mercedes Benz stadium in Atlanta...</td>\n",
       "      <td>2018-07-31 23:02:25</td>\n",
       "    </tr>\n",
       "    <tr>\n",
       "      <th>5</th>\n",
       "      <td>Italy took Cristiano and ever since then they’...</td>\n",
       "      <td>2018-07-31 22:53:15</td>\n",
       "    </tr>\n",
       "  </tbody>\n",
       "</table>\n",
       "</div>"
      ],
      "text/plain": [
       "                                                TEXT             UTC DATE\n",
       "1  Another reason I failed in love is I'm poor,I ...  2018-07-31 23:13:47\n",
       "2  2019 Mercedes-Benz C 300 and AMG C 43 First Dr...  2018-07-31 23:30:00\n",
       "3  Happy birthday to the Audi chasing maniac, hop...  2018-07-31 22:52:45\n",
       "4       Come see Mercedes Benz stadium in Atlanta...  2018-07-31 23:02:25\n",
       "5  Italy took Cristiano and ever since then they’...  2018-07-31 22:53:15"
      ]
     },
     "execution_count": 29,
     "metadata": {},
     "output_type": "execute_result"
    }
   ],
   "source": [
    "df_label.head()"
   ]
  },
  {
   "cell_type": "markdown",
   "metadata": {},
   "source": [
    "### for descriptive analysis"
   ]
  },
  {
   "cell_type": "code",
   "execution_count": 30,
   "metadata": {},
   "outputs": [],
   "source": [
    "df_label['Sent_compound_Polarity'] = df_label.TEXT.apply(lambda x:sid.polarity_scores(x)['compound'])\n",
    "df_label['neutral']= df_label.TEXT.apply(lambda x:sid.polarity_scores(x)['neu'])\n",
    "df_label['risk']= df_label.TEXT.apply (lambda x:sid.polarity_scores(x)['neg'])\n",
    "df_label['benefit']= df_label.TEXT.apply(lambda x:sid.polarity_scores(x)['pos'])\n",
    "df_label['Sent_type']=''"
   ]
  },
  {
   "cell_type": "code",
   "execution_count": 31,
   "metadata": {},
   "outputs": [
    {
     "data": {
      "text/html": [
       "<div>\n",
       "<style scoped>\n",
       "    .dataframe tbody tr th:only-of-type {\n",
       "        vertical-align: middle;\n",
       "    }\n",
       "\n",
       "    .dataframe tbody tr th {\n",
       "        vertical-align: top;\n",
       "    }\n",
       "\n",
       "    .dataframe thead th {\n",
       "        text-align: right;\n",
       "    }\n",
       "</style>\n",
       "<table border=\"1\" class=\"dataframe\">\n",
       "  <thead>\n",
       "    <tr style=\"text-align: right;\">\n",
       "      <th></th>\n",
       "      <th>TEXT</th>\n",
       "      <th>UTC DATE</th>\n",
       "      <th>Sent_compound_Polarity</th>\n",
       "      <th>neutral</th>\n",
       "      <th>risk</th>\n",
       "      <th>benefit</th>\n",
       "      <th>Sent_type</th>\n",
       "    </tr>\n",
       "  </thead>\n",
       "  <tbody>\n",
       "    <tr>\n",
       "      <th>1</th>\n",
       "      <td>Another reason I failed in love is I'm poor,I ...</td>\n",
       "      <td>2018-07-31 23:13:47</td>\n",
       "      <td>0.9246</td>\n",
       "      <td>0.638</td>\n",
       "      <td>0.057</td>\n",
       "      <td>0.305</td>\n",
       "      <td></td>\n",
       "    </tr>\n",
       "    <tr>\n",
       "      <th>2</th>\n",
       "      <td>2019 Mercedes-Benz C 300 and AMG C 43 First Dr...</td>\n",
       "      <td>2018-07-31 23:30:00</td>\n",
       "      <td>0.0000</td>\n",
       "      <td>1.000</td>\n",
       "      <td>0.000</td>\n",
       "      <td>0.000</td>\n",
       "      <td></td>\n",
       "    </tr>\n",
       "    <tr>\n",
       "      <th>3</th>\n",
       "      <td>Happy birthday to the Audi chasing maniac, hop...</td>\n",
       "      <td>2018-07-31 22:52:45</td>\n",
       "      <td>0.9100</td>\n",
       "      <td>0.448</td>\n",
       "      <td>0.087</td>\n",
       "      <td>0.465</td>\n",
       "      <td></td>\n",
       "    </tr>\n",
       "    <tr>\n",
       "      <th>4</th>\n",
       "      <td>Come see Mercedes Benz stadium in Atlanta...</td>\n",
       "      <td>2018-07-31 23:02:25</td>\n",
       "      <td>0.0000</td>\n",
       "      <td>1.000</td>\n",
       "      <td>0.000</td>\n",
       "      <td>0.000</td>\n",
       "      <td></td>\n",
       "    </tr>\n",
       "    <tr>\n",
       "      <th>5</th>\n",
       "      <td>Italy took Cristiano and ever since then they’...</td>\n",
       "      <td>2018-07-31 22:53:15</td>\n",
       "      <td>0.0000</td>\n",
       "      <td>1.000</td>\n",
       "      <td>0.000</td>\n",
       "      <td>0.000</td>\n",
       "      <td></td>\n",
       "    </tr>\n",
       "  </tbody>\n",
       "</table>\n",
       "</div>"
      ],
      "text/plain": [
       "                                                TEXT             UTC DATE  \\\n",
       "1  Another reason I failed in love is I'm poor,I ...  2018-07-31 23:13:47   \n",
       "2  2019 Mercedes-Benz C 300 and AMG C 43 First Dr...  2018-07-31 23:30:00   \n",
       "3  Happy birthday to the Audi chasing maniac, hop...  2018-07-31 22:52:45   \n",
       "4       Come see Mercedes Benz stadium in Atlanta...  2018-07-31 23:02:25   \n",
       "5  Italy took Cristiano and ever since then they’...  2018-07-31 22:53:15   \n",
       "\n",
       "   Sent_compound_Polarity  neutral   risk  benefit Sent_type  \n",
       "1                  0.9246    0.638  0.057    0.305            \n",
       "2                  0.0000    1.000  0.000    0.000            \n",
       "3                  0.9100    0.448  0.087    0.465            \n",
       "4                  0.0000    1.000  0.000    0.000            \n",
       "5                  0.0000    1.000  0.000    0.000            "
      ]
     },
     "execution_count": 31,
     "metadata": {},
     "output_type": "execute_result"
    }
   ],
   "source": [
    "df_label.head()"
   ]
  },
  {
   "cell_type": "code",
   "execution_count": 32,
   "metadata": {},
   "outputs": [],
   "source": [
    "df_label.loc[df_label.Sent_compound_Polarity > 0, 'Sent_type']= 'Benefit'\n",
    "\n",
    "df_label.loc[df_label.Sent_compound_Polarity == 0, 'Sent_type']= 'Neutral'\n",
    "\n",
    "df_label.loc[df_label.Sent_compound_Polarity < 0, 'Sent_type']= 'Risky'"
   ]
  },
  {
   "cell_type": "code",
   "execution_count": 33,
   "metadata": {},
   "outputs": [
    {
     "data": {
      "text/html": [
       "<div>\n",
       "<style scoped>\n",
       "    .dataframe tbody tr th:only-of-type {\n",
       "        vertical-align: middle;\n",
       "    }\n",
       "\n",
       "    .dataframe tbody tr th {\n",
       "        vertical-align: top;\n",
       "    }\n",
       "\n",
       "    .dataframe thead th {\n",
       "        text-align: right;\n",
       "    }\n",
       "</style>\n",
       "<table border=\"1\" class=\"dataframe\">\n",
       "  <thead>\n",
       "    <tr style=\"text-align: right;\">\n",
       "      <th></th>\n",
       "      <th>TEXT</th>\n",
       "      <th>UTC DATE</th>\n",
       "      <th>Sent_compound_Polarity</th>\n",
       "      <th>neutral</th>\n",
       "      <th>risk</th>\n",
       "      <th>benefit</th>\n",
       "      <th>Sent_type</th>\n",
       "    </tr>\n",
       "  </thead>\n",
       "  <tbody>\n",
       "    <tr>\n",
       "      <th>1</th>\n",
       "      <td>Another reason I failed in love is I'm poor,I ...</td>\n",
       "      <td>2018-07-31 23:13:47</td>\n",
       "      <td>0.9246</td>\n",
       "      <td>0.638</td>\n",
       "      <td>0.057</td>\n",
       "      <td>0.305</td>\n",
       "      <td>Benefit</td>\n",
       "    </tr>\n",
       "    <tr>\n",
       "      <th>2</th>\n",
       "      <td>2019 Mercedes-Benz C 300 and AMG C 43 First Dr...</td>\n",
       "      <td>2018-07-31 23:30:00</td>\n",
       "      <td>0.0000</td>\n",
       "      <td>1.000</td>\n",
       "      <td>0.000</td>\n",
       "      <td>0.000</td>\n",
       "      <td>Neutral</td>\n",
       "    </tr>\n",
       "    <tr>\n",
       "      <th>3</th>\n",
       "      <td>Happy birthday to the Audi chasing maniac, hop...</td>\n",
       "      <td>2018-07-31 22:52:45</td>\n",
       "      <td>0.9100</td>\n",
       "      <td>0.448</td>\n",
       "      <td>0.087</td>\n",
       "      <td>0.465</td>\n",
       "      <td>Benefit</td>\n",
       "    </tr>\n",
       "    <tr>\n",
       "      <th>4</th>\n",
       "      <td>Come see Mercedes Benz stadium in Atlanta...</td>\n",
       "      <td>2018-07-31 23:02:25</td>\n",
       "      <td>0.0000</td>\n",
       "      <td>1.000</td>\n",
       "      <td>0.000</td>\n",
       "      <td>0.000</td>\n",
       "      <td>Neutral</td>\n",
       "    </tr>\n",
       "    <tr>\n",
       "      <th>5</th>\n",
       "      <td>Italy took Cristiano and ever since then they’...</td>\n",
       "      <td>2018-07-31 22:53:15</td>\n",
       "      <td>0.0000</td>\n",
       "      <td>1.000</td>\n",
       "      <td>0.000</td>\n",
       "      <td>0.000</td>\n",
       "      <td>Neutral</td>\n",
       "    </tr>\n",
       "  </tbody>\n",
       "</table>\n",
       "</div>"
      ],
      "text/plain": [
       "                                                TEXT             UTC DATE  \\\n",
       "1  Another reason I failed in love is I'm poor,I ...  2018-07-31 23:13:47   \n",
       "2  2019 Mercedes-Benz C 300 and AMG C 43 First Dr...  2018-07-31 23:30:00   \n",
       "3  Happy birthday to the Audi chasing maniac, hop...  2018-07-31 22:52:45   \n",
       "4       Come see Mercedes Benz stadium in Atlanta...  2018-07-31 23:02:25   \n",
       "5  Italy took Cristiano and ever since then they’...  2018-07-31 22:53:15   \n",
       "\n",
       "   Sent_compound_Polarity  neutral   risk  benefit Sent_type  \n",
       "1                  0.9246    0.638  0.057    0.305   Benefit  \n",
       "2                  0.0000    1.000  0.000    0.000   Neutral  \n",
       "3                  0.9100    0.448  0.087    0.465   Benefit  \n",
       "4                  0.0000    1.000  0.000    0.000   Neutral  \n",
       "5                  0.0000    1.000  0.000    0.000   Neutral  "
      ]
     },
     "execution_count": 33,
     "metadata": {},
     "output_type": "execute_result"
    }
   ],
   "source": [
    "df_label.head()"
   ]
  },
  {
   "cell_type": "code",
   "execution_count": 34,
   "metadata": {},
   "outputs": [
    {
     "data": {
      "text/plain": [
       "(455727, 7)"
      ]
     },
     "execution_count": 34,
     "metadata": {},
     "output_type": "execute_result"
    }
   ],
   "source": [
    "df_label.shape"
   ]
  },
  {
   "cell_type": "code",
   "execution_count": 35,
   "metadata": {},
   "outputs": [
    {
     "data": {
      "text/html": [
       "<div>\n",
       "<style scoped>\n",
       "    .dataframe tbody tr th:only-of-type {\n",
       "        vertical-align: middle;\n",
       "    }\n",
       "\n",
       "    .dataframe tbody tr th {\n",
       "        vertical-align: top;\n",
       "    }\n",
       "\n",
       "    .dataframe thead th {\n",
       "        text-align: right;\n",
       "    }\n",
       "</style>\n",
       "<table border=\"1\" class=\"dataframe\">\n",
       "  <thead>\n",
       "    <tr style=\"text-align: right;\">\n",
       "      <th></th>\n",
       "      <th>TEXT</th>\n",
       "      <th>UTC DATE</th>\n",
       "      <th>Sent_type</th>\n",
       "    </tr>\n",
       "  </thead>\n",
       "  <tbody>\n",
       "    <tr>\n",
       "      <th>1</th>\n",
       "      <td>Another reason I failed in love is I'm poor,I ...</td>\n",
       "      <td>2018-07-31 23:13:47</td>\n",
       "      <td>Benefit</td>\n",
       "    </tr>\n",
       "    <tr>\n",
       "      <th>2</th>\n",
       "      <td>2019 Mercedes-Benz C 300 and AMG C 43 First Dr...</td>\n",
       "      <td>2018-07-31 23:30:00</td>\n",
       "      <td>Neutral</td>\n",
       "    </tr>\n",
       "  </tbody>\n",
       "</table>\n",
       "</div>"
      ],
      "text/plain": [
       "                                                TEXT             UTC DATE  \\\n",
       "1  Another reason I failed in love is I'm poor,I ...  2018-07-31 23:13:47   \n",
       "2  2019 Mercedes-Benz C 300 and AMG C 43 First Dr...  2018-07-31 23:30:00   \n",
       "\n",
       "  Sent_type  \n",
       "1   Benefit  \n",
       "2   Neutral  "
      ]
     },
     "execution_count": 35,
     "metadata": {},
     "output_type": "execute_result"
    }
   ],
   "source": [
    "df_label=df_label.drop(['Sent_compound_Polarity','neutral','risk','benefit'], axis=1)\n",
    "df_label.head(2)"
   ]
  },
  {
   "cell_type": "code",
   "execution_count": 36,
   "metadata": {},
   "outputs": [
    {
     "data": {
      "text/plain": [
       "Neutral    195719\n",
       "Benefit    182533\n",
       "Risky       77475\n",
       "Name: Sent_type, dtype: int64"
      ]
     },
     "execution_count": 36,
     "metadata": {},
     "output_type": "execute_result"
    }
   ],
   "source": [
    "df_label.Sent_type.value_counts()"
   ]
  },
  {
   "cell_type": "markdown",
   "metadata": {},
   "source": [
    "**save as descriptive**"
   ]
  },
  {
   "cell_type": "code",
   "execution_count": 37,
   "metadata": {},
   "outputs": [],
   "source": [
    "df_label.to_pickle('descript.pkl')"
   ]
  },
  {
   "cell_type": "code",
   "execution_count": 39,
   "metadata": {},
   "outputs": [],
   "source": [
    "df_label.to_excel('descript.xlsx')"
   ]
  },
  {
   "cell_type": "markdown",
   "metadata": {},
   "source": [
    "# END OF NOTEBOOK"
   ]
  }
 ],
 "metadata": {
  "kernelspec": {
   "display_name": "Python 3.7 (tensorflow)",
   "language": "python",
   "name": "tensorflow"
  },
  "language_info": {
   "codemirror_mode": {
    "name": "ipython",
    "version": 3
   },
   "file_extension": ".py",
   "mimetype": "text/x-python",
   "name": "python",
   "nbconvert_exporter": "python",
   "pygments_lexer": "ipython3",
   "version": "3.7.7"
  }
 },
 "nbformat": 4,
 "nbformat_minor": 2
}
