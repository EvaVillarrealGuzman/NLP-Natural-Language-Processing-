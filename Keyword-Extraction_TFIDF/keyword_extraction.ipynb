{
 "cells": [
  {
   "cell_type": "markdown",
   "metadata": {},
   "source": [
    "# Extracting keywords in a document"
   ]
  },
  {
   "cell_type": "markdown",
   "metadata": {},
   "source": [
    "# 1)- Importing key modules"
   ]
  },
  {
   "cell_type": "code",
   "execution_count": 1,
   "metadata": {},
   "outputs": [],
   "source": [
    "#support both Python 2 and Python 3 with minimal overhead.\n",
    "from __future__ import absolute_import, division, print_function\n",
    "import warnings\n",
    "warnings.filterwarnings('ignore')"
   ]
  },
  {
   "cell_type": "code",
   "execution_count": 2,
   "metadata": {},
   "outputs": [],
   "source": [
    "import re    # for regular expressions \n",
    "import nltk  # for text manipulation \n",
    "import string \n",
    "import numpy as np \n",
    "import pickle\n",
    "import pandas as pd \n",
    "\n",
    "#For Visuals\n",
    "import matplotlib.pyplot as plt\n",
    "%matplotlib inline\n",
    "import seaborn as sns\n",
    "sns.set(rc={'figure.figsize':(15,9)})\n",
    "#from matplotlib import rcParams\n",
    "#rcParams['figure.figsize'] = 11, 8\n",
    "#%config InlineBackend.figure_format = 'svg'"
   ]
  },
  {
   "cell_type": "code",
   "execution_count": 3,
   "metadata": {},
   "outputs": [
    {
     "data": {
      "application/json": {
       "Software versions": [
        {
         "module": "Python",
         "version": "3.7.4 64bit [Clang 4.0.1 (tags/RELEASE_401/final)]"
        },
        {
         "module": "IPython",
         "version": "7.8.0"
        },
        {
         "module": "OS",
         "version": "Darwin 19.0.0 x86_64 i386 64bit"
        },
        {
         "module": "pandas",
         "version": "0.25.1"
        },
        {
         "module": "numpy",
         "version": "1.17.2"
        },
        {
         "module": "nltk",
         "version": "3.4.5"
        },
        {
         "module": "seaborn",
         "version": "0.9.0"
        },
        {
         "module": "matplotlib",
         "version": "3.1.1"
        },
        {
         "module": "re",
         "version": "2.2.1"
        }
       ]
      },
      "text/html": [
       "<table><tr><th>Software</th><th>Version</th></tr><tr><td>Python</td><td>3.7.4 64bit [Clang 4.0.1 (tags/RELEASE_401/final)]</td></tr><tr><td>IPython</td><td>7.8.0</td></tr><tr><td>OS</td><td>Darwin 19.0.0 x86_64 i386 64bit</td></tr><tr><td>pandas</td><td>0.25.1</td></tr><tr><td>numpy</td><td>1.17.2</td></tr><tr><td>nltk</td><td>3.4.5</td></tr><tr><td>seaborn</td><td>0.9.0</td></tr><tr><td>matplotlib</td><td>3.1.1</td></tr><tr><td>re</td><td>2.2.1</td></tr><tr><td colspan='2'>Mon Dec 16 14:22:36 2019 CET</td></tr></table>"
      ],
      "text/latex": [
       "\\begin{tabular}{|l|l|}\\hline\n",
       "{\\bf Software} & {\\bf Version} \\\\ \\hline\\hline\n",
       "Python & 3.7.4 64bit [Clang 4.0.1 (tags/RELEASE\\_401/final)] \\\\ \\hline\n",
       "IPython & 7.8.0 \\\\ \\hline\n",
       "OS & Darwin 19.0.0 x86\\_64 i386 64bit \\\\ \\hline\n",
       "pandas & 0.25.1 \\\\ \\hline\n",
       "numpy & 1.17.2 \\\\ \\hline\n",
       "nltk & 3.4.5 \\\\ \\hline\n",
       "seaborn & 0.9.0 \\\\ \\hline\n",
       "matplotlib & 3.1.1 \\\\ \\hline\n",
       "re & 2.2.1 \\\\ \\hline\n",
       "\\hline \\multicolumn{2}{|l|}{Mon Dec 16 14:22:36 2019 CET} \\\\ \\hline\n",
       "\\end{tabular}\n"
      ],
      "text/plain": [
       "Software versions\n",
       "Python 3.7.4 64bit [Clang 4.0.1 (tags/RELEASE_401/final)]\n",
       "IPython 7.8.0\n",
       "OS Darwin 19.0.0 x86_64 i386 64bit\n",
       "pandas 0.25.1\n",
       "numpy 1.17.2\n",
       "nltk 3.4.5\n",
       "seaborn 0.9.0\n",
       "matplotlib 3.1.1\n",
       "re 2.2.1\n",
       "Mon Dec 16 14:22:36 2019 CET"
      ]
     },
     "execution_count": 3,
     "metadata": {},
     "output_type": "execute_result"
    }
   ],
   "source": [
    "%reload_ext version_information\n",
    "%version_information pandas,numpy, nltk, seaborn, matplotlib, re"
   ]
  },
  {
   "cell_type": "markdown",
   "metadata": {},
   "source": [
    "# 2)- Loading Dataset"
   ]
  },
  {
   "cell_type": "code",
   "execution_count": 4,
   "metadata": {},
   "outputs": [
    {
     "data": {
      "text/html": [
       "<div>\n",
       "<style scoped>\n",
       "    .dataframe tbody tr th:only-of-type {\n",
       "        vertical-align: middle;\n",
       "    }\n",
       "\n",
       "    .dataframe tbody tr th {\n",
       "        vertical-align: top;\n",
       "    }\n",
       "\n",
       "    .dataframe thead th {\n",
       "        text-align: right;\n",
       "    }\n",
       "</style>\n",
       "<table border=\"1\" class=\"dataframe\">\n",
       "  <thead>\n",
       "    <tr style=\"text-align: right;\">\n",
       "      <th></th>\n",
       "      <th>id</th>\n",
       "      <th>year</th>\n",
       "      <th>title</th>\n",
       "      <th>event_type</th>\n",
       "      <th>pdf_name</th>\n",
       "      <th>abstract</th>\n",
       "      <th>paper_text</th>\n",
       "    </tr>\n",
       "  </thead>\n",
       "  <tbody>\n",
       "    <tr>\n",
       "      <td>0</td>\n",
       "      <td>1</td>\n",
       "      <td>1987</td>\n",
       "      <td>Self-Organization of Associative Database and ...</td>\n",
       "      <td>NaN</td>\n",
       "      <td>1-self-organization-of-associative-database-an...</td>\n",
       "      <td>Abstract Missing</td>\n",
       "      <td>767\\n\\nSELF-ORGANIZATION OF ASSOCIATIVE DATABA...</td>\n",
       "    </tr>\n",
       "    <tr>\n",
       "      <td>1</td>\n",
       "      <td>10</td>\n",
       "      <td>1987</td>\n",
       "      <td>A Mean Field Theory of Layer IV of Visual Cort...</td>\n",
       "      <td>NaN</td>\n",
       "      <td>10-a-mean-field-theory-of-layer-iv-of-visual-c...</td>\n",
       "      <td>Abstract Missing</td>\n",
       "      <td>683\\n\\nA MEAN FIELD THEORY OF LAYER IV OF VISU...</td>\n",
       "    </tr>\n",
       "    <tr>\n",
       "      <td>2</td>\n",
       "      <td>100</td>\n",
       "      <td>1988</td>\n",
       "      <td>Storing Covariance by the Associative Long-Ter...</td>\n",
       "      <td>NaN</td>\n",
       "      <td>100-storing-covariance-by-the-associative-long...</td>\n",
       "      <td>Abstract Missing</td>\n",
       "      <td>394\\n\\nSTORING COVARIANCE BY THE ASSOCIATIVE\\n...</td>\n",
       "    </tr>\n",
       "    <tr>\n",
       "      <td>3</td>\n",
       "      <td>1000</td>\n",
       "      <td>1994</td>\n",
       "      <td>Bayesian Query Construction for Neural Network...</td>\n",
       "      <td>NaN</td>\n",
       "      <td>1000-bayesian-query-construction-for-neural-ne...</td>\n",
       "      <td>Abstract Missing</td>\n",
       "      <td>Bayesian Query Construction for Neural\\nNetwor...</td>\n",
       "    </tr>\n",
       "    <tr>\n",
       "      <td>4</td>\n",
       "      <td>1001</td>\n",
       "      <td>1994</td>\n",
       "      <td>Neural Network Ensembles, Cross Validation, an...</td>\n",
       "      <td>NaN</td>\n",
       "      <td>1001-neural-network-ensembles-cross-validation...</td>\n",
       "      <td>Abstract Missing</td>\n",
       "      <td>Neural Network Ensembles, Cross\\nValidation, a...</td>\n",
       "    </tr>\n",
       "  </tbody>\n",
       "</table>\n",
       "</div>"
      ],
      "text/plain": [
       "     id  year                                              title event_type  \\\n",
       "0     1  1987  Self-Organization of Associative Database and ...        NaN   \n",
       "1    10  1987  A Mean Field Theory of Layer IV of Visual Cort...        NaN   \n",
       "2   100  1988  Storing Covariance by the Associative Long-Ter...        NaN   \n",
       "3  1000  1994  Bayesian Query Construction for Neural Network...        NaN   \n",
       "4  1001  1994  Neural Network Ensembles, Cross Validation, an...        NaN   \n",
       "\n",
       "                                            pdf_name          abstract  \\\n",
       "0  1-self-organization-of-associative-database-an...  Abstract Missing   \n",
       "1  10-a-mean-field-theory-of-layer-iv-of-visual-c...  Abstract Missing   \n",
       "2  100-storing-covariance-by-the-associative-long...  Abstract Missing   \n",
       "3  1000-bayesian-query-construction-for-neural-ne...  Abstract Missing   \n",
       "4  1001-neural-network-ensembles-cross-validation...  Abstract Missing   \n",
       "\n",
       "                                          paper_text  \n",
       "0  767\\n\\nSELF-ORGANIZATION OF ASSOCIATIVE DATABA...  \n",
       "1  683\\n\\nA MEAN FIELD THEORY OF LAYER IV OF VISU...  \n",
       "2  394\\n\\nSTORING COVARIANCE BY THE ASSOCIATIVE\\n...  \n",
       "3  Bayesian Query Construction for Neural\\nNetwor...  \n",
       "4  Neural Network Ensembles, Cross\\nValidation, a...  "
      ]
     },
     "execution_count": 4,
     "metadata": {},
     "output_type": "execute_result"
    }
   ],
   "source": [
    "data=pd.read_csv('papers.csv')\n",
    "data.head()"
   ]
  },
  {
   "cell_type": "code",
   "execution_count": 5,
   "metadata": {},
   "outputs": [
    {
     "name": "stdout",
     "output_type": "stream",
     "text": [
      "<class 'pandas.core.frame.DataFrame'>\n",
      "RangeIndex: 7241 entries, 0 to 7240\n",
      "Data columns (total 7 columns):\n",
      "id            7241 non-null int64\n",
      "year          7241 non-null int64\n",
      "title         7241 non-null object\n",
      "event_type    2422 non-null object\n",
      "pdf_name      7241 non-null object\n",
      "abstract      7241 non-null object\n",
      "paper_text    7241 non-null object\n",
      "dtypes: int64(2), object(5)\n",
      "memory usage: 396.1+ KB\n"
     ]
    }
   ],
   "source": [
    "data.info()"
   ]
  },
  {
   "cell_type": "code",
   "execution_count": 6,
   "metadata": {},
   "outputs": [
    {
     "data": {
      "text/plain": [
       "(7241, 7)"
      ]
     },
     "execution_count": 6,
     "metadata": {},
     "output_type": "execute_result"
    }
   ],
   "source": [
    "data.shape"
   ]
  },
  {
   "cell_type": "code",
   "execution_count": 7,
   "metadata": {},
   "outputs": [],
   "source": [
    "# combining title and papertext to get a complete version of text. This will be our main text data\n",
    "data['text']=data['title'] + data['paper_text']"
   ]
  },
  {
   "cell_type": "code",
   "execution_count": 8,
   "metadata": {},
   "outputs": [
    {
     "data": {
      "text/plain": [
       "'A Mean Field Theory of Layer IV of Visual Cortex and Its Application to Artificial Neural Networks683\\n\\nA MEAN FIELD THEORY OF LAYER IV OF VISUAL CORTEX\\nAND ITS APPLICATION TO ARTIFICIAL NEURAL NETWORKS*\\nChristopher L. Scofield\\nCenter for Neural Science and Physics Department\\nBrown University\\nProvidence, Rhode Island 02912\\nand\\nNestor, Inc., 1 Richmond Square, Providence, Rhode Island,\\n02906.\\nABSTRACT\\nA single cell theory for the development of selectivity and\\nocular dominance in visual cortex has been presented previously\\nby Bienenstock, Cooper and Munrol. This has been extended to a\\nnetwork applicable to layer IV of visual cortex 2 . In this paper\\nwe present a mean field approximation that captures in a fairly\\ntransparent manner the qualitative, and many of the\\nquantitative, results of the network theory. Finally, we consider\\nthe application of this theory to artificial neural networks and\\nshow that a significant reduction in architectural complexity is\\npossible.\\nA SINGLE LAYER NETWORK AND THE MEAN FIELD\\nAPPROXIMATION\\nWe consider a single layer network of ideal neurons which\\nreceive signals from outside of the layer and from cells within\\nthe layer (Figure 1). The activity of the ith cell in the network is\\nc\\'1 -- m\\'1 d + \"\"\\'\\n~ T .. c\\'\\n~J J\\'\\n\\nJ\\n\\n(1)\\n\\nEach cell\\nd is a vector of afferent signals to the network.\\nreceives input from n fibers outside of the cortical network\\nthrough the matrix of synapses mi\\' Intra-layer input to each cell\\nis then transmitted through the matrix of cortico-cortical\\nsynapses L.\\n? American Institute of Physics 1988\\n\\n\\x0c684\\n\\nAfferent\\nSignals\\n\\n>\\n\\n... ..\\n\\nm2\\n\\nm1\\n\\nmn\\n\\n~\\n\\nr;.\\n\\n\",...-\\n\\nd\\n\\n.L\\n:\\n\\n1\\n\\n,~\\n\\n2\\n\\n... ..\\n\\n, ...c.. ,\\n\\n~\\n\\n~\\n\\nFigure 1: The general single layer recurrent\\nnetwork.\\nLight circles are the LGN -cortical\\nsynapses.\\nDark circles are the (nonmodifiable) cortico-cortical synapses.\\nWe now expand the response of the i th cell into individual\\nterms describing the number of cortical synapses traversed by\\nthe signal d before arriving through synapses Lij at cell i.\\nExpanding Cj in (1), the response of cell i becomes\\nci\\n\\n=mi d + l: ~j mj d + l: ~jL Ljk mk d + 2: ~j 2Ljk L Lkn mn d +... (2)\\nJ\\n\\nJ\\n\\nK\\n\\nJ\\n\\nK\\' n\\n\\nNote that each term contains a factor of the form\\n\\nThis factor describes the first order effect, on cell q, of the\\ncortical transformation of the signal d.\\nThe mean field\\napproximation consists of estimating this factor to be a constant,\\nindependant of cell location\\n(3)\\n\\n\\x0c685\\n\\nThis assumption does not imply that each cell in the network is\\nselective to the same pattern, (and thus that mi = mj). Rather,\\nthe assumption is that the vector sum is a constant\\n\\nThis amounts to assuming that each cell in the network is\\nsurrounded by a population of cells which represent, on average,\\nall possible pattern preferences.\\nThus the vector sum of the\\nafferent synaptic states describing these pattern preferences is a\\nconstant independent of location.\\nFinally, if we assume that the lateral connection strengths are\\na function only of i-j then Lij becomes a circular matrix so that\\n\\nr. Lij ::: ~J Lji = Lo = constan t.\\n1\\n\\nThen the response of the cell i becomes\\n(4)\\n\\nfor I\\n\\n~\\n\\nI <1\\n\\nwhere we define the spatial average of cortical cell activity C = in\\nd, and N is the average number of intracortical synapses.\\nHere, in a manner similar to that in the theory of magnetism,\\nwe have replaced the effect of individual cortical cells by their\\naverage effect (as though all other cortical cells can be replaced\\nby an \\'effective\\' cell, figure 2). Note that we have retained all\\norders of synaptic traversal of the signal d.\\nThus, we now focus on the activity of the layer after\\n\\'relaxation\\' to equilibrium. In the mean field approximation we\\ncan therefore write\\n(5)\\n\\nwhere the mean field\\n\\na\\nwith\\n\\n=am\\n\\n\\x0c686\\n\\nand we asume that\\ninhibitory).\\n\\nAfferent\\nSignals\\nd\\n\\nLo < 0 (the network is,\\n\\non\\n\\naverage,\\n\\n>\\n\\nFigure 2: The single layer mean field network.\\nDetailed connectivity between all cells of the\\nnetwork is replaced with a single (nonmodifiable) synapse from an \\'effective\\' cell.\\nLEARNING IN THE CORTICAL NETWORK\\n\\nWe will first consider evolution of the network according to a\\nsynaptic modification rule that has been studied in detail, for\\nsingle cells, elsewhere!? 3.\\nWe consider the LGN - cortical\\nsynapses to be the site of plasticity and assume for maximum\\nsimplicity that there is no modification of cortico-cortical\\nsynapses. Then\\n(6)\\n\\n.\\n\\nLij = O.\\nIn what follows c denotes the spatial average over cortical cells,\\nwhile Cj denotes the time averaged activity of the i th cortical cell.\\nThe function cj> has been discussed extensively elsewhere.\\nHere\\nwe note that cj> describes a function of the cell response that has\\nboth hebbian and anti-hebbian regions.\\n\\n\\x0c687\\n\\nThis leads to a very complex set of non-linear stochastic\\nequations that have been analyzed partially elsewhere 2 . In\\ngeneral, the afferent synaptic state has fixed points that are\\nstable and selective and unstable fixed points that are nonselective!, 2. These arguments may now be generalized for the\\nnetwork. In the mean field approximation\\n(7)\\n\\nThe mean field, a has a time dependent component m. This\\nvaries as the average over all of the network modifiable\\nsynapses and, in most environmental situations, should change\\nslowly compared to the change of the modifiable synapses to a\\nsingle cell. Then in this approximation we can write\\n\\n?\\n\\n(mi(a)-a) = cj>[mi(a) - a] d.\\n\\n(8)\\n\\nWe see that there is a mapping\\nmi\\' <-> mica) - a\\n\\n(9)\\n\\nsuch that for every mj(a) there exists a corresponding (mapped)\\npoint mj\\' which satisfies\\n\\nthe original equation for the mean field zero theory. It can be\\nshown 2, 4 that for every fixed point of mj( a = 0), there exists a\\ncorresponding fixed point mj( a) with the same selectivity and\\nstability properties.\\nThe fixed points are available to the\\nneurons if there is sufficient inhibition in the network (ILo I is\\nsufficiently large).\\nAPPLICATION OF THE MEAN FIELD NETWORK TO\\nLAYER IV OF VISUAL CORTEX\\nNeurons in the primary visual cortex of normal adult cats are\\nsharply tuned for the orientation of an elongated slit of light and\\nmost are activated by stimulation of either eye. Both of these\\nproperties--orientation selectivity and binocularity--depend on\\nthe type of visual environment experienced during a critical\\n\\n\\x0c688\\n\\nperiod of early postnatal development. For example, deprivation\\nof patterned input during this critical period leads to loss of\\norientation selectivity while monocular deprivation (MD) results\\nin a dramatic shift in the ocular dominance of cortical neurons\\nsuch that most will be responsive exclusively to the open eye.\\nThe ocular dominance shift after MD is the best known and most\\nintensively studied type of visual cortical plasticity.\\nThe behavior of visual cortical cells in various rearing\\nconditions suggests that some cells respond more rapidly to\\nenvironmental changes than others.\\nIn monocular deprivation,\\nfor example, some cells remain responsive to the closed eye in\\nspite of the very large shift of most cells to the open eye- Singer\\net. al. 5 found, using intracellular recording, that geniculo-cortical\\nsynapses on inhibitory interneurons are more resistant to\\nmonocular deprivation than are synapses on pyramidal cell\\ndendrites. Recent work suggests that the density of inhibitory\\nGABAergic synapses in kitten striate cortex is also unaffected by\\nMD during the cortical period 6, 7.\\nThese results suggest that some LGN -cortical synapses modify\\nrapidly, while others modify relatively slowly, with slow\\nmodification of some cortico-cortical synapses. Excitatory LGNcortical synapses into excitatory cells may be those that modify\\nprimarily.\\nTo embody these facts we introduce two types of\\nLGN -cortical synapses:\\nthose (mj) that modify and those (Zk)\\nthat remain relatively constant. In a simple limit we have\\n\\nand\\n\\n(10)\\n\\nWe assume for simplicity and consistent with the above\\nphysiological interpretation that these two types of synapses are\\nconfined to two different classes of cells and that both left and\\nright eye have similar synapses (both m i or both Zk) on a given\\ncell. Then, for binocular cells, in the mean field approximation\\n(where binocular terms are in italics)\\n\\n\\x0c689\\n\\nwhere dl(r) are the explicit left (right) eye time averaged signals\\narriving form the LGN.\\nNote that a1(r) contain terms from\\nmodifiable and non-modifiable synapses:\\nal(r) =\\n\\na (ml(r) + zl(r?).\\n\\nUnder conditions of monocular deprivation, the animal is reared\\nwith one eye closed. For the sake of analysis assume that the\\nright eye is closed and that only noise-like signals arrive at\\ncortex from the right eye. Then the environment of the cortical\\ncells is:\\nd = (di, n)\\n\\n(12)\\n\\nFurther, assume that the left eye synapses have reached their\\n1\\n\\nr\\n\\nselective fixed point, selective to pattern d 1 ? Then (mi\\' m i )\\n(m:*, xi) with IXil ?lm!*1.\\nlinear analysis of the\\nthe closed eye\\n\\n<I> -\\n\\n=\\n\\nFollowing the methods of BCM, a local\\nfunction is employed to show that for\\n\\nXi =\\n\\na (1 - }..a)-li.r.\\n\\n(13)\\n\\nwhere A. = NmIN is the ratio of the number modifiable cells to the\\ntotal number of cells in the network. That is, the asymptotic\\nstate of the closed eye synapses is a scaled function of the meanfield due to non-modifiable (inhibitory) cortical cells. The scale\\nof this state is set not only by the proportion of non-modifiable\\ncells, but in addition, by the averaged intracortical synaptic\\nstrength Lo.\\nThus contrasted with the mean field zero theory the deprived\\neye LGN-cortical synapses do not go to zero.\\nRather they\\napproach the constant value dependent on the average inhibition\\nproduced by the non-modifiable cells in such a way that the\\nasymptotic output of the cortical cell is zero (it cannot be driven\\nby the deprived eye). However lessening the effect of inhibitory\\nsynapses (e.g. by application of an inhibitory blocking agent such\\nas bicuculine) reduces the magnitude of a so that one could once\\nmore obtain a response from the deprived eye.\\n\\n\\x0c690\\n\\nWe find, consistent with previous theory and experiment,\\nthat most learning can occur in the LGN-cortical synapse, for\\ninhibitory (cortico-cortical) synapses need not modify.\\nSome\\nnon-modifiable LGN-cortical synapses are required.\\nTHE MEAN FIELD APPROXIMATION AND\\nARTIFICIAL NEURAL NETWORKS\\nThe mean field approximation may be applied to networks in\\nwhich the cortico-cortical feedback is a general function of cell\\nactivity. In particular, the feedback may measure the difference\\nbetween the network activity and memories of network activity.\\nIn this way, a network may be used as a content addressable\\nmemory.\\nWe have been discussing the properties of a mean\\nfield network after equilibrium has been reached. We now focus\\non the detailed time dependence of the relaxation of the cell\\nactivity to a state of equilibrium.\\nHopfield8 introduced a simple formalism for the analysis of\\nthe time dependence of network activity.\\nIn this model,\\nnetwork activity is mapped onto a physical system in which the\\nstate of neuron activity is considered as a \\'particle\\' on a potential\\nenergy surface.\\nIdentification of the pattern occurs when the\\nactivity \\'relaxes\\' to a nearby minima of the energy.\\nThus\\nmlmma are employed as the sites of memories. For a Hopfield\\nnetwork of N neurons, the intra-layer connectivity required is of\\norder N2. This connectivity is a significant constraint on the\\npractical implementation of such systems for large scale\\nproblems. Further, the Hopfield model allows a storage capacity\\nwhich is limited to m < N memories 8, 9. This is a result of the\\nproliferation of unwanted local minima in the \\'energy\\' surface.\\nRecently, Bachmann et al. l 0, have proposed a model for the\\nrelaxation of network activity in which memories of activity\\npatterns are the sites of negative \\'charges\\', and the activity\\ncaused by a test pattern is a positive test \\'charge\\'. Then in this\\nmodel, the energy function is the electrostatic energy of the\\n(unit) test charge with the collection of charges at the memory\\nsites\\n\\nE = -IlL ~ Qj I J-l- Xj I - L,\\nJ\\n\\n(14)\\n\\n\\x0c691\\n\\nwhere Jl (0) is a vector describing the initial network activity\\ncaused by a test pattern, and Xj\\' the site of the jth memory. L is\\na parameter related to the network size.\\nThis model has the advantage that storage density is not\\nrestricted by the the network size as it is in the Hopfield model,\\nand in addition, the architecture employs a connectivity of order\\nm x N.\\nNote that at each stage in the settling of Jl (t) to a memory\\n(of network activity) Xj\\' the only feedback from the network to\\neach cell is the scalar\\n~\\n\\nJ\\n\\nQ. I Jl- X? I - L\\nJ\\n\\nJ\\n\\n(15)\\n\\nThis quantity is an integrated measure of the distance of the\\ncurrent network state from stored memories.\\nImportantly, this\\nmeasure is the same for all cells; it is as if a single virtual cell\\nwas computing the distance in activity space between the\\ncurrent state and stored states. The result of the computation is\\nThis is a\\nthen broadcast to all of the cells in the network.\\ngeneralization of the idea that the detailed activity of each cell in\\nthe network need not be fed back to each cell.\\nRather some\\nglobal measure, performed by a single \\'effective\\' cell is all that is\\nsufficient in the feedback.\\nDISCUSSION\\n\\nWe have been discussing a formalism for the analysis of\\nnetworks of ideal neurons based on a mean field approximation\\nof the detailed activity of the cells in the network. We find that\\na simple assumption concerning the spatial distribution of the\\npattern preferences of the cells allows a great simplification of\\nthe analysis. In particular, the detailed activity of the cells of\\nthe network may be replaced with a mean field that in effect is\\ncomputed by a single \\'effective\\' cell.\\nFurther, the application of this formalism to the cortical layer\\nIV of visual cortex allows the prediction that much of learning in\\ncortex may be localized to the LGN-cortical synaptic states, and\\nthat cortico-cortical plasticity is relatively unimportant. We find,\\nin agreement with experiment, that monocular deprivation of\\nthe cortical cells will drive closed-eye responses to zero, but\\nchemical blockage of the cortical inhibitory pathways would\\nreveal non-zero closed-eye synaptic states.\\n\\n\\x0c692\\n\\nFinally, the mean field approximation allows the development\\nof single layer models of memory storage that are unrestricted\\nin storage density, but require a connectivity of order mxN. This\\nis significant for the fabrication of practical content addressable\\nmemories.\\nACKNOWLEOOEMENTS\\nI would like to thank Leon Cooper for many helpful discussions\\nand the contributions he made to this work.\\n\\n*This work was supported by the Office of Naval Research and\\nthe Army Research Office under contracts #NOOOI4-86-K-0041\\nand #DAAG-29-84-K-0202.\\n\\nREFERENCES\\n[1] Bienenstock, E. L., Cooper, L. N & Munro, P. W. (1982) 1.\\nNeuroscience 2, 32-48.\\n[2] Scofield, C. L. (I984) Unpublished Dissertation.\\n[3] Cooper, L. N, Munro, P. W. & Scofield, C. L. (1985) in Synaptic\\nModification, Neuron Selectivity and Nervous System\\nOrganization, ed. C. Levy, J. A. Anderson & S. Lehmkuhle,\\n(Erlbaum Assoc., N. J.).\\n[4] Cooper, L. N & Scofield, C. L. (to be published) Proc. Natl. Acad.\\nSci. USA ..\\n[5] Singer, W. (1977) Brain Res. 134, 508-000.\\n[6] Bear, M. F., Schmechel D. M., & Ebner, F. F. (1985) 1. Neurosci.\\n5, 1262-0000.\\n[7] Mower, G. D., White, W. F., & Rustad, R. (1986) Brain Res. 380,\\n253-000.\\n[8] Hopfield, J. J. (1982) Proc. Natl. A cad. Sci. USA 79, 2554-2558.\\n[9] Hopfield, J. J., Feinstein, D. 1., & Palmer, R. O. (1983) Nature\\n304, 158-159.\\n[10] Bachmann, C. M., Cooper, L. N, Dembo, A. & Zeitouni, O. (to be\\npublished) Proc. Natl. Acad. Sci. USA.\\n\\n\\x0c'"
      ]
     },
     "execution_count": 8,
     "metadata": {},
     "output_type": "execute_result"
    }
   ],
   "source": [
    "data['text'][1]"
   ]
  },
  {
   "cell_type": "code",
   "execution_count": 9,
   "metadata": {},
   "outputs": [],
   "source": [
    "# we shall create a smaller dataset with our features of interest\n",
    "\n",
    "dataset= data[['id','year','text']]"
   ]
  },
  {
   "cell_type": "code",
   "execution_count": 10,
   "metadata": {},
   "outputs": [
    {
     "data": {
      "text/plain": [
       "(7241, 3)"
      ]
     },
     "execution_count": 10,
     "metadata": {},
     "output_type": "execute_result"
    }
   ],
   "source": [
    "dataset.shape"
   ]
  },
  {
   "cell_type": "code",
   "execution_count": 11,
   "metadata": {},
   "outputs": [
    {
     "data": {
      "text/html": [
       "<div>\n",
       "<style scoped>\n",
       "    .dataframe tbody tr th:only-of-type {\n",
       "        vertical-align: middle;\n",
       "    }\n",
       "\n",
       "    .dataframe tbody tr th {\n",
       "        vertical-align: top;\n",
       "    }\n",
       "\n",
       "    .dataframe thead th {\n",
       "        text-align: right;\n",
       "    }\n",
       "</style>\n",
       "<table border=\"1\" class=\"dataframe\">\n",
       "  <thead>\n",
       "    <tr style=\"text-align: right;\">\n",
       "      <th></th>\n",
       "      <th>id</th>\n",
       "      <th>year</th>\n",
       "      <th>text</th>\n",
       "    </tr>\n",
       "  </thead>\n",
       "  <tbody>\n",
       "    <tr>\n",
       "      <td>0</td>\n",
       "      <td>1</td>\n",
       "      <td>1987</td>\n",
       "      <td>Self-Organization of Associative Database and ...</td>\n",
       "    </tr>\n",
       "    <tr>\n",
       "      <td>1</td>\n",
       "      <td>10</td>\n",
       "      <td>1987</td>\n",
       "      <td>A Mean Field Theory of Layer IV of Visual Cort...</td>\n",
       "    </tr>\n",
       "    <tr>\n",
       "      <td>2</td>\n",
       "      <td>100</td>\n",
       "      <td>1988</td>\n",
       "      <td>Storing Covariance by the Associative Long-Ter...</td>\n",
       "    </tr>\n",
       "    <tr>\n",
       "      <td>3</td>\n",
       "      <td>1000</td>\n",
       "      <td>1994</td>\n",
       "      <td>Bayesian Query Construction for Neural Network...</td>\n",
       "    </tr>\n",
       "    <tr>\n",
       "      <td>4</td>\n",
       "      <td>1001</td>\n",
       "      <td>1994</td>\n",
       "      <td>Neural Network Ensembles, Cross Validation, an...</td>\n",
       "    </tr>\n",
       "  </tbody>\n",
       "</table>\n",
       "</div>"
      ],
      "text/plain": [
       "     id  year                                               text\n",
       "0     1  1987  Self-Organization of Associative Database and ...\n",
       "1    10  1987  A Mean Field Theory of Layer IV of Visual Cort...\n",
       "2   100  1988  Storing Covariance by the Associative Long-Ter...\n",
       "3  1000  1994  Bayesian Query Construction for Neural Network...\n",
       "4  1001  1994  Neural Network Ensembles, Cross Validation, an..."
      ]
     },
     "execution_count": 11,
     "metadata": {},
     "output_type": "execute_result"
    }
   ],
   "source": [
    "dataset.head()"
   ]
  },
  {
   "cell_type": "code",
   "execution_count": 12,
   "metadata": {},
   "outputs": [
    {
     "data": {
      "text/html": [
       "<div>\n",
       "<style scoped>\n",
       "    .dataframe tbody tr th:only-of-type {\n",
       "        vertical-align: middle;\n",
       "    }\n",
       "\n",
       "    .dataframe tbody tr th {\n",
       "        vertical-align: top;\n",
       "    }\n",
       "\n",
       "    .dataframe thead th {\n",
       "        text-align: right;\n",
       "    }\n",
       "</style>\n",
       "<table border=\"1\" class=\"dataframe\">\n",
       "  <thead>\n",
       "    <tr style=\"text-align: right;\">\n",
       "      <th></th>\n",
       "      <th>id</th>\n",
       "      <th>year</th>\n",
       "      <th>text</th>\n",
       "    </tr>\n",
       "  </thead>\n",
       "  <tbody>\n",
       "    <tr>\n",
       "      <td>7236</td>\n",
       "      <td>994</td>\n",
       "      <td>1994</td>\n",
       "      <td>Single Transistor Learning SynapsesSingle Tran...</td>\n",
       "    </tr>\n",
       "    <tr>\n",
       "      <td>7237</td>\n",
       "      <td>996</td>\n",
       "      <td>1994</td>\n",
       "      <td>Bias, Variance and the Combination of Least Sq...</td>\n",
       "    </tr>\n",
       "    <tr>\n",
       "      <td>7238</td>\n",
       "      <td>997</td>\n",
       "      <td>1994</td>\n",
       "      <td>A Real Time Clustering CMOS Neural EngineA Rea...</td>\n",
       "    </tr>\n",
       "    <tr>\n",
       "      <td>7239</td>\n",
       "      <td>998</td>\n",
       "      <td>1994</td>\n",
       "      <td>Learning direction in global motion: two class...</td>\n",
       "    </tr>\n",
       "    <tr>\n",
       "      <td>7240</td>\n",
       "      <td>999</td>\n",
       "      <td>1994</td>\n",
       "      <td>Correlation and Interpolation Networks for Rea...</td>\n",
       "    </tr>\n",
       "  </tbody>\n",
       "</table>\n",
       "</div>"
      ],
      "text/plain": [
       "       id  year                                               text\n",
       "7236  994  1994  Single Transistor Learning SynapsesSingle Tran...\n",
       "7237  996  1994  Bias, Variance and the Combination of Least Sq...\n",
       "7238  997  1994  A Real Time Clustering CMOS Neural EngineA Rea...\n",
       "7239  998  1994  Learning direction in global motion: two class...\n",
       "7240  999  1994  Correlation and Interpolation Networks for Rea..."
      ]
     },
     "execution_count": 12,
     "metadata": {},
     "output_type": "execute_result"
    }
   ],
   "source": [
    "dataset.tail()"
   ]
  },
  {
   "cell_type": "markdown",
   "metadata": {},
   "source": [
    "# 3)- data exploration"
   ]
  },
  {
   "cell_type": "markdown",
   "metadata": {},
   "source": [
    "### 3.1)- Word count for text"
   ]
  },
  {
   "cell_type": "code",
   "execution_count": 13,
   "metadata": {},
   "outputs": [
    {
     "data": {
      "text/html": [
       "<div>\n",
       "<style scoped>\n",
       "    .dataframe tbody tr th:only-of-type {\n",
       "        vertical-align: middle;\n",
       "    }\n",
       "\n",
       "    .dataframe tbody tr th {\n",
       "        vertical-align: top;\n",
       "    }\n",
       "\n",
       "    .dataframe thead th {\n",
       "        text-align: right;\n",
       "    }\n",
       "</style>\n",
       "<table border=\"1\" class=\"dataframe\">\n",
       "  <thead>\n",
       "    <tr style=\"text-align: right;\">\n",
       "      <th></th>\n",
       "      <th>text</th>\n",
       "      <th>w_count</th>\n",
       "    </tr>\n",
       "  </thead>\n",
       "  <tbody>\n",
       "    <tr>\n",
       "      <td>0</td>\n",
       "      <td>Self-Organization of Associative Database and ...</td>\n",
       "      <td>3321</td>\n",
       "    </tr>\n",
       "    <tr>\n",
       "      <td>1</td>\n",
       "      <td>A Mean Field Theory of Layer IV of Visual Cort...</td>\n",
       "      <td>2249</td>\n",
       "    </tr>\n",
       "    <tr>\n",
       "      <td>2</td>\n",
       "      <td>Storing Covariance by the Associative Long-Ter...</td>\n",
       "      <td>2741</td>\n",
       "    </tr>\n",
       "    <tr>\n",
       "      <td>3</td>\n",
       "      <td>Bayesian Query Construction for Neural Network...</td>\n",
       "      <td>2929</td>\n",
       "    </tr>\n",
       "    <tr>\n",
       "      <td>4</td>\n",
       "      <td>Neural Network Ensembles, Cross Validation, an...</td>\n",
       "      <td>3016</td>\n",
       "    </tr>\n",
       "    <tr>\n",
       "      <td>5</td>\n",
       "      <td>Using a neural net to instantiate a deformable...</td>\n",
       "      <td>3343</td>\n",
       "    </tr>\n",
       "    <tr>\n",
       "      <td>6</td>\n",
       "      <td>Plasticity-Mediated Competitive LearningPlasti...</td>\n",
       "      <td>1661</td>\n",
       "    </tr>\n",
       "    <tr>\n",
       "      <td>7</td>\n",
       "      <td>ICEG Morphology Classification using an Analog...</td>\n",
       "      <td>2478</td>\n",
       "    </tr>\n",
       "    <tr>\n",
       "      <td>8</td>\n",
       "      <td>Real-Time Control of a Tokamak Plasma Using Ne...</td>\n",
       "      <td>2405</td>\n",
       "    </tr>\n",
       "    <tr>\n",
       "      <td>9</td>\n",
       "      <td>Pulsestream Synapses with Non-Volatile Analogu...</td>\n",
       "      <td>4289</td>\n",
       "    </tr>\n",
       "  </tbody>\n",
       "</table>\n",
       "</div>"
      ],
      "text/plain": [
       "                                                text  w_count\n",
       "0  Self-Organization of Associative Database and ...     3321\n",
       "1  A Mean Field Theory of Layer IV of Visual Cort...     2249\n",
       "2  Storing Covariance by the Associative Long-Ter...     2741\n",
       "3  Bayesian Query Construction for Neural Network...     2929\n",
       "4  Neural Network Ensembles, Cross Validation, an...     3016\n",
       "5  Using a neural net to instantiate a deformable...     3343\n",
       "6  Plasticity-Mediated Competitive LearningPlasti...     1661\n",
       "7  ICEG Morphology Classification using an Analog...     2478\n",
       "8  Real-Time Control of a Tokamak Plasma Using Ne...     2405\n",
       "9  Pulsestream Synapses with Non-Volatile Analogu...     4289"
      ]
     },
     "execution_count": 13,
     "metadata": {},
     "output_type": "execute_result"
    }
   ],
   "source": [
    "#Fetch wordcount for each text document\n",
    "dataset['w_count'] = dataset['text'].apply(lambda x: len(str(x).split(\" \")))\n",
    "dataset[['text','w_count']].head(10)"
   ]
  },
  {
   "cell_type": "code",
   "execution_count": 14,
   "metadata": {},
   "outputs": [
    {
     "data": {
      "text/html": [
       "<div>\n",
       "<style scoped>\n",
       "    .dataframe tbody tr th:only-of-type {\n",
       "        vertical-align: middle;\n",
       "    }\n",
       "\n",
       "    .dataframe tbody tr th {\n",
       "        vertical-align: top;\n",
       "    }\n",
       "\n",
       "    .dataframe thead th {\n",
       "        text-align: right;\n",
       "    }\n",
       "</style>\n",
       "<table border=\"1\" class=\"dataframe\">\n",
       "  <thead>\n",
       "    <tr style=\"text-align: right;\">\n",
       "      <th></th>\n",
       "      <th>text</th>\n",
       "      <th>w_count</th>\n",
       "    </tr>\n",
       "  </thead>\n",
       "  <tbody>\n",
       "    <tr>\n",
       "      <td>7231</td>\n",
       "      <td>Analog Implementation of Shunting Neural Netwo...</td>\n",
       "      <td>1754</td>\n",
       "    </tr>\n",
       "    <tr>\n",
       "      <td>7232</td>\n",
       "      <td>Learning with Product UnitsComparing the predi...</td>\n",
       "      <td>4564</td>\n",
       "    </tr>\n",
       "    <tr>\n",
       "      <td>7233</td>\n",
       "      <td>Stochastic Dynamics of Three-State Neural Netw...</td>\n",
       "      <td>1678</td>\n",
       "    </tr>\n",
       "    <tr>\n",
       "      <td>7234</td>\n",
       "      <td>Grouping Components of Three-Dimensional Movin...</td>\n",
       "      <td>1224</td>\n",
       "    </tr>\n",
       "    <tr>\n",
       "      <td>7235</td>\n",
       "      <td>Visual Speech Recognition with Stochastic Netw...</td>\n",
       "      <td>2396</td>\n",
       "    </tr>\n",
       "    <tr>\n",
       "      <td>7236</td>\n",
       "      <td>Single Transistor Learning SynapsesSingle Tran...</td>\n",
       "      <td>2642</td>\n",
       "    </tr>\n",
       "    <tr>\n",
       "      <td>7237</td>\n",
       "      <td>Bias, Variance and the Combination of Least Sq...</td>\n",
       "      <td>3619</td>\n",
       "    </tr>\n",
       "    <tr>\n",
       "      <td>7238</td>\n",
       "      <td>A Real Time Clustering CMOS Neural EngineA Rea...</td>\n",
       "      <td>2022</td>\n",
       "    </tr>\n",
       "    <tr>\n",
       "      <td>7239</td>\n",
       "      <td>Learning direction in global motion: two class...</td>\n",
       "      <td>2827</td>\n",
       "    </tr>\n",
       "    <tr>\n",
       "      <td>7240</td>\n",
       "      <td>Correlation and Interpolation Networks for Rea...</td>\n",
       "      <td>3082</td>\n",
       "    </tr>\n",
       "  </tbody>\n",
       "</table>\n",
       "</div>"
      ],
      "text/plain": [
       "                                                   text  w_count\n",
       "7231  Analog Implementation of Shunting Neural Netwo...     1754\n",
       "7232  Learning with Product UnitsComparing the predi...     4564\n",
       "7233  Stochastic Dynamics of Three-State Neural Netw...     1678\n",
       "7234  Grouping Components of Three-Dimensional Movin...     1224\n",
       "7235  Visual Speech Recognition with Stochastic Netw...     2396\n",
       "7236  Single Transistor Learning SynapsesSingle Tran...     2642\n",
       "7237  Bias, Variance and the Combination of Least Sq...     3619\n",
       "7238  A Real Time Clustering CMOS Neural EngineA Rea...     2022\n",
       "7239  Learning direction in global motion: two class...     2827\n",
       "7240  Correlation and Interpolation Networks for Rea...     3082"
      ]
     },
     "execution_count": 14,
     "metadata": {},
     "output_type": "execute_result"
    }
   ],
   "source": [
    "dataset[['text','w_count']].tail(10)"
   ]
  },
  {
   "cell_type": "code",
   "execution_count": 15,
   "metadata": {},
   "outputs": [
    {
     "data": {
      "text/plain": [
       "count     7241.000000\n",
       "mean      4265.871427\n",
       "std       1237.636598\n",
       "min          7.000000\n",
       "25%       3218.000000\n",
       "50%       4480.000000\n",
       "75%       5201.000000\n",
       "max      11526.000000\n",
       "Name: w_count, dtype: float64"
      ]
     },
     "execution_count": 15,
     "metadata": {},
     "output_type": "execute_result"
    }
   ],
   "source": [
    "##Descriptive statistics of word counts\n",
    "\n",
    "dataset.w_count.describe()"
   ]
  },
  {
   "cell_type": "markdown",
   "metadata": {},
   "source": [
    "**Some insight from above:**\n",
    "\n",
    "- Average word count in our text document is 4265 words per document. The word count ranges from a minimum of 7 word to maximum of 11526 words. This is useful information in a sense that it indicates size of dataset and also variation in word count across the rows\n",
    "    \n",
    "    \n",
    "    "
   ]
  },
  {
   "cell_type": "markdown",
   "metadata": {},
   "source": [
    "### 3.2)- Most common and uncommon words\n",
    "\n",
    "A peek into the most common words gives insights not only on the frequently used words but also words that could also be potential data specific stop words. A comparison of the most common words and the default English stop words will give us a list of words that need to be added to a custom stop word list."
   ]
  },
  {
   "cell_type": "code",
   "execution_count": 16,
   "metadata": {},
   "outputs": [
    {
     "data": {
      "text/plain": [
       "the     1742074\n",
       "of       994278\n",
       "and      739119\n",
       "?        643829\n",
       "a        585594\n",
       "to       565931\n",
       "is       496200\n",
       "in       473232\n",
       "for      352845\n",
       "that     291218\n",
       "=        282147\n",
       ",        226448\n",
       "we       226390\n",
       "with     224729\n",
       "The      208146\n",
       "on       193863\n",
       ".        190765\n",
       "by       185167\n",
       "are      182559\n",
       "as       181199\n",
       "dtype: int64"
      ]
     },
     "execution_count": 16,
     "metadata": {},
     "output_type": "execute_result"
    }
   ],
   "source": [
    "#Identify top 20 most common/frequently occuring words\n",
    "common = pd.Series(' '.join(dataset['text']).split()).value_counts()[:20]\n",
    "common"
   ]
  },
  {
   "cell_type": "markdown",
   "metadata": {},
   "source": [
    "Most of them are stop words and if we remove them then our data will be lighter. Also they are not contributing towards meaning of document so, removing them won't take away any useful information"
   ]
  },
  {
   "cell_type": "code",
   "execution_count": 17,
   "metadata": {},
   "outputs": [
    {
     "data": {
      "text/plain": [
       "achieve?                      1\n",
       "2007-02-08).                  1\n",
       "),$                           1\n",
       "Element/Adaptive              1\n",
       "0.041(1)),                    1\n",
       "{davidb,wimw}@mbfys,kun,nl    1\n",
       "[12][13],                     1\n",
       "Aapo.                         1\n",
       "F(W(k))                       1\n",
       "7:79?83,                      1\n",
       "(P-red)                       1\n",
       "(Ideally,                     1\n",
       "MAXIM.                        1\n",
       ".d;                           1\n",
       "REC.                          1\n",
       "?k/n,1/?k                     1\n",
       "|D|=Ntr                       1\n",
       "Feuerverger                   1\n",
       "log-scaled).                  1\n",
       ".Ol/N                         1\n",
       "dtype: int64"
      ]
     },
     "execution_count": 17,
     "metadata": {},
     "output_type": "execute_result"
    }
   ],
   "source": [
    "#Identify top 20 uncommon words\n",
    "uncommon=pd.Series(' '.join(dataset['text']).split()).value_counts()[-20:]\n",
    "uncommon"
   ]
  },
  {
   "cell_type": "markdown",
   "metadata": {},
   "source": [
    "Some of these words are non-sense strings and we can drop them as well and there won't be any change in meaning of document."
   ]
  },
  {
   "cell_type": "markdown",
   "metadata": {},
   "source": [
    "# 4)- Text Preprocessing\n",
    "\n",
    "- clean-up\n",
    "- shrink vocab\n",
    "- reduce sparsity"
   ]
  },
  {
   "cell_type": "markdown",
   "metadata": {},
   "source": [
    "### 4.1)- Text cleaning\n",
    "\n",
    "This is due to irrelevant words as we observed above. These additional and non-useful words contribute to noise in data and also data size is bigger.\n",
    "\n",
    "So, we need to \n",
    "\n",
    "a)- Remove noise in text data(includes removal of stopwords, punctuation, tags,URLs, etc.) <br>\n",
    "b)- Normalize text data(includes lemmatization or stemming)"
   ]
  },
  {
   "cell_type": "code",
   "execution_count": 18,
   "metadata": {},
   "outputs": [],
   "source": [
    "# we shall use lemmatization for word normalization \n",
    "\n",
    "from nltk.stem.wordnet import WordNetLemmatizer\n",
    "lem = WordNetLemmatizer()"
   ]
  },
  {
   "cell_type": "code",
   "execution_count": 19,
   "metadata": {},
   "outputs": [
    {
     "name": "stderr",
     "output_type": "stream",
     "text": [
      "[nltk_data] Downloading package wordnet to\n",
      "[nltk_data]     /Users/hassansherwani/nltk_data...\n",
      "[nltk_data]   Package wordnet is already up-to-date!\n"
     ]
    }
   ],
   "source": [
    "# for noise removal\n",
    "\n",
    "import re\n",
    "import nltk\n",
    "#nltk.download('stopwords')\n",
    "from nltk.corpus import stopwords\n",
    "from nltk.tokenize import RegexpTokenizer\n",
    "nltk.download('wordnet') \n",
    "from nltk.stem.wordnet import WordNetLemmatizer"
   ]
  },
  {
   "cell_type": "code",
   "execution_count": 20,
   "metadata": {},
   "outputs": [],
   "source": [
    "# for cleaning stopwords, we can use nltk default stopword list. Or we can add also more to this list\n",
    "\n",
    "##Creating a list of stop words and adding custom stopwords\n",
    "stop_words = set(stopwords.words(\"english\"))\n",
    "##Creating a list of custom stopwords\n",
    "new_words = [\"using\", \"show\", \"result\", \"large\", \"also\", \"iv\", \"one\", \"two\", \"new\", \"previously\", \"shown\"]\n",
    "stop_words = stop_words.union(new_words)"
   ]
  },
  {
   "cell_type": "code",
   "execution_count": 21,
   "metadata": {},
   "outputs": [],
   "source": [
    "# in previous excercise of spam/ham, I have worked over step by step cleaning process. Here, I'd do all in one \n",
    "#swift step for all documents in dataset. By the way, these documents collected are called \"Corpus\"\n",
    "\n",
    "corpus = []\n",
    "for i in range(0, 7241): # size of total documents within our dataset\n",
    "    #Remove punctuations\n",
    "    text = re.sub('[^a-zA-Z]', ' ', dataset['text'][i])\n",
    "    \n",
    "    #Convert to lowercase\n",
    "    text = text.lower()\n",
    "    \n",
    "    #remove tags\n",
    "    text=re.sub(\"&lt;/?.*?&gt;\",\" &lt;&gt; \",text)\n",
    "    \n",
    "    # remove special characters and digits\n",
    "    text=re.sub(\"(\\\\d|\\\\W)+\",\" \",text)\n",
    "    \n",
    "    ##Convert to list from string\n",
    "    text = text.split()\n",
    "    \n",
    "    #Lemmatisation\n",
    "    lem = WordNetLemmatizer()\n",
    "    text = [lem.lemmatize(word) for word in text if not word in  \n",
    "            stop_words] \n",
    "    text = \" \".join(text)\n",
    "    corpus.append(text)"
   ]
  },
  {
   "cell_type": "markdown",
   "metadata": {},
   "source": [
    "**For comparison between cleaned and uncleaned data**"
   ]
  },
  {
   "cell_type": "code",
   "execution_count": 22,
   "metadata": {},
   "outputs": [],
   "source": [
    "# for original text data\n",
    "\n",
    "unclean=dataset['text']"
   ]
  },
  {
   "cell_type": "code",
   "execution_count": 23,
   "metadata": {},
   "outputs": [
    {
     "data": {
      "text/plain": [
       "'Connectionist Speaker Normalization with Generalized Resource Allocating NetworksConnectionist Speaker Normalization\\nwith Generalized\\nResource Allocating Networks\\n\\nCesare Furlanello\\nIstituto per La Ricerca\\nScientifica e Tecnologica\\nPovo (Trento), Italy\\nfurlan?lirst. it\\n\\nDiego Giuliani\\nIstituto per La Ricerca\\nScientifica e Tecnologica\\nPovo (Trento), Italy\\ngiuliani?lirst.it\\n\\nEdmondo Trentin\\nIstituto per La Ricerca\\nScientifica e Tecnologica\\nPovo (Trento), Italy\\ntrentin?lirst.it\\n\\nAbstract\\nThe paper presents a rapid speaker-normalization technique based\\non neural network spectral mapping. The neural network is used\\nas a front-end of a continuous speech recognition system (speakerdependent, HMM-based) to normalize the input acoustic data from\\na new speaker. The spectral difference between speakers can be\\nreduced using a limited amount of new acoustic data (40 phonetically rich sentences). Recognition error of phone units from the\\nacoustic-phonetic continuous speech corpus APASCI is decreased\\nwith an adaptability ratio of 25%. We used local basis networks of\\nelliptical Gaussian kernels, with recursive allocation of units and\\non-line optimization of parameters (GRAN model). For this application, the model included a linear term. The results compare\\nfavorably with multivariate linear mapping based on constrained\\northonormal transformations.\\n\\n1\\n\\nINTRODUCTION\\n\\nSpeaker normalization methods are designed to minimize inter-speaker variations,\\none of the principal error sources in automatic speech recognition. Training a speech\\nrecognition system on a particular speaker (speaker-dependent or SD mode) generally gives better performance than using a speaker-independent system, which is\\n\\n\\x0c868\\n\\nCesare Furlanello. Diego Giuliani. Edmondo Trentin\\n\\ntrained to recognize speech from a generic user by averaging over individual differences. On the other hand, performance may be dramatically worse when a SD\\nsystem \"tailored\" on the acoustic characteristics of a speaker (the reference speaker)\\nis used by another one (the new or target speaker). Training a SD system for any\\nnew speaker may be unfeasible: collecting a large amount of new training data\\nis time consuming for the speaker and unacceptable in some applications. Given\\na pre-trained SD speech recognition system, the goal of normalization methods is\\nthen to reduce to a few sentences the amount of training data required from a new\\nspeaker to achieve acceptable recognition performance. The inter-speaker variation\\nof the acoustic data is reduced by estimating a feature vector transformation between the acoustic parameter space of the new speaker and that of the reference\\nspeaker (Montacie et al., 1989; Class et al., 1990; Nakamura and Shikano, 1990;\\nHuang, 1992; Matsukoto and Inoue, 1992). This multivariate transformation, also\\ncalled spectral mapping given the type of features considered in the parameterization of speech data, provides an acoustic front-end to the recognition system.\\nSupervised speaker normalization methods require that the text of the training utterances required from the new speaker is known, while arbitrary utterances can\\nbe used by unsupervised methods (Furui and Sondhi, 1991). Good performance\\nhave been achieved with spectral mapping techniques based on MSE optimization\\n(Class et al., 1990; Matsukoto and Inoue, 1992). Alternative approaches presented\\nestimation of the spectral normalization mapping with Multi-Layer Perceptron neural networks (Montacie et al., 1989; Nakamura and Shikano, 1990; Huang, 1992;\\nWatrous, 1994).\\nThis paper introduces a supervised speaker normalization method based on neural\\nnetwork regression with a generalized local basis model of elliptical kernels (Generalized Resource Allocating Network: GRAN model). Kernels are recursively allocated\\nby introducing the heuristic procedure of (Platt, 1991) within the generalized RBF\\nschema proposed in (Poggio and Girosi, 1989). The model includes a linear term\\nand efficient on-line optimization of parameters is achieved by an automatic differentiation technique. Our results compare favorably with normalization by affine\\nlinear transformations based on orthonormal constrained pseudoinverse. In this paper, the normalization module was integrated and tested as an acoustic front-end for\\nspeaker-dependent continuous speech recognition systems. Experiments regarded\\nphone units recognition with Hidden Markov Model (HMM) recognition systems.\\nThe diagram in Figure 1 outlines the general structure of the experiment with\\nGRAN normalization modules. The architecture is independent from the specific\\nspeech recognition system and allows comparisons between different normalization\\ntechniques. The GRAN model and a general procedure for data standardization are\\ndescribed in Section 2 and 3. After a discussion of the spectral mapping problem\\nin Section 4, the APASCI corpus used in the experiments and the characteristics\\nof the acoustic data are described in Section 5. The recognition system and the\\nexperiment set-up are detailed in Sections 6-8. Results are presented and discussed\\nin Section 9.\\n\\n\\x0cConnectionist Speaker Normalization with Generalized Resource Allocating Networks\\n\\nDataBase:\\nreference phrase\\n\\n869\\n\\nphraseS\\n\\n(Yj } j - I ? ...? ]\\n\\nDynamic Time Warping\\nTraining\\n\\nfx)\\n\\nI(Xi(t), Yj(t}}\\n-\\'\\n\\nTest\\n\\ni-I ?...? I\\n\\n\\'-------------------\"1\\n\\nNeural Network\\nsupervised training\\n\\n:\\n\\nGRAN normalizati\\n\\nFeature Extraction\\n\\nSpeech Signal\\ncorresponding to phrase S\\nuttered by a new speaker\\n\\nOutput\\n\\nFigure 1: System overview\\n\\n2\\n\\nTHE GRAN MODEL\\n\\nFeedforward artificial neural networks can be regarded as a convenient realization\\nof general functional superpositions in terms of simpler kernel functions (Barron\\nand Barron, 1988). With one hidden layer we can implement a multivariate superposition f(z) = Ef=o cxjKj(z,wj) where Kj is a function depending on an\\ninput vector z and a parameter vector Wj, a general structure which allows to realize flexible models for multivariate regression. We are interested in the schema:\\ny = H K(x) + Ax + b with input vector x E Rd 1 and estimated output vector y E R 2 . K = (Kj) is a n-dimensional vector of local kernels, H is the\\nd2 x n real matrix of kernel coefficients, b E R d 2 is an offset term and A is a\\nd2 x d1 linear term. Implemented kernels are Gaussian, Hardy multiquadrics, inverse of Hardy multiquadrics and Epanenchnikov kernels, also in the NadarayaWatson normalized form (HardIe, 1990). The kernel allocation is based on a\\nrecursive procedure: if appropriate novelty conditions are satisfied for the example (x\\', y/), a new kernel Kn+1 is allocated and the new estimate Yn+l becomes\\nYn+l (x) = Yn(X) + Kn+1 (llx - x\\'llw)(y\\' - Yn(X)) (HardIe, 1990). Global properties and rates of convergence for recursive kernel regression estimates are given in\\n(Krzyzak, 1992). The heuristic mechanism suggested by (Platt, 1991) has been\\nextended to include the optimization of the weighted metrics as requested in the\\ngeneralized versions of RBF networks of (Poggio and Girosi, 1989). Optimization\\nregards kernel coefficients, locations and bandwidths, the offset term, the coefficient matrix A if considered, and the W matrix defining the weighted metrics in\\nthe input space: IIxll~ = xtwtWx. Automatic differentiation is used for efficient\\non-line gradient-descent procedure w.r. t. different error functions (L2, L1, entropy\\nfit), with different learning rates for each type of parameters.\\n\\n\\x0c870\\n\\nCesare FurLanello, Diego GiuLiani, Edmondo Trentin\\n\\nIj;-::=<p\\nX -----------+\" Y\\n\\nTJx\\n\\nTJy\\n\\n-1\\n\\nTJy\\n\\nx -----------\" Y\\nFigure 2: Commutative diagram for the speaker normalization problem. The spectral mapping <p between original spaces X and Y is estimated by Ij; = TJy 1 . ip . TJx,\\nobtained by composition of the neural GRAN mapping ip between PCA spaces X\\nand Y with the two invertible PCA transformations TJx and TJy.\\n\\n3\\n\\nNETWORKS AND PCA TRANSFORMATIONS\\n\\nThe normalization module is designed to estimate a spectral mapping between the\\nacoustic spaces of two different speakers. Inter-speaker variability is reflected by\\nsignificant differences in data distribution in these multidimensional spaces (we considered 8 dimensions); in particular it is important to take into account global data\\nanisotropy. More generally, it is also crucial to decorrelate the features describing\\nthe data. A general recipe is to apply the well-known Principal Component Analysis (PCA) to the data, in this case implemented from standard numerical routines\\nbased on Singular Value Decomposition of the data covariance matrices. The network was applied to perform a mapping between the new feature spaces obtained\\nfrom the PCA transformations, mean translation included (Figure 2).\\n\\n4\\n\\nTHE SPECTRAL MAPPING PROBLEM\\n\\nA sound uttered by a speaker is generally described by a sequence offeature vectors\\nobtained from the speech signal via short-time spectral analysis (Sec. 5). The spectral representations of the same sequence of sounds uttered by two speakers are subject to significant variations (e.g. differences between male and female speakers, regional accents, ... ). To deal with acoustic differences, a suitable transformation (the\\nspectral mapping) is seeked which performs the \"best\" mapping between the corresponding spectra oftwo speakers. Let Y = (Yl, Y2, ... , YJ) and X = (x 1, X2, ... , XI) be\\nthe spectral feature vector sequences of the same sentence uttered by two speakers,\\ncalled respectively the reference and the new speaker. The desired mapping is performed by a function <pC Xi) such that the transformed vector sequence obtained from\\nX = (Xi) approximates as close as possible the spectral vector sequence Y = (Yi).\\nTo eliminate time differences between the two acoustic realizations, a time warping\\nfunction has to be determined yielding pairs C(k) = (i(k),j(k))k=1.. .K of corresponding indexes of feature vectors in X and Y, respectively. The desired spectral\\n\\n\\x0cConnectionist Speaker Normalization with Generalized Resource Allocating Networks\\n\\n87 J\\n\\nmapping r,o(Xi) is the one which minimizes Ef=l d(Yj(k)\\' r,o(Xi(k?)) where d(?,?) is a\\ndistorsion measure in the acoustic feature space. To estImate the transformation, a\\nset of supervised pairs (Xi(k), Yj(k?) is considered. In summary, the training material\\nconsidered in the experiments consisted of a set of vector pairs obtained by applying\\nthe Dynamic Time Warping (DTW) algorithm (Sakoe and Chiba, 1978) to a set\\nof phrases uttered by the reference and the new speaker.\\n\\n5\\n\\nTHE APASCI CORPUS\\n\\nThe experiments reported in this paper were performed on a portion of APASCI,\\nan italian acoustic-phonetic continuous speech corpus. For each utterance, text\\nand phonetic transcriptions were automatically generated (Angelini et al., 1994).\\nThe corpus consists of two portions. The first part, for the training and validation of speaker independent recognition systems, consists of a training set (2140\\nutterances), a development set (900 utterances) and a test set (860 utterances).\\nThe sets contain, respectively, speech material from 100 speakers (50 males and 50\\nfemales), 36 speakers (18 males and 18 females) and 40 speakers (20 males and 20\\nfemales). The second portion of the corpus is for training and validation of speaker\\ndependent recognition systems. It consists of speech material from 6 speakers (3\\nmales and 3 females). Each speaker uttered 520 phrases, 400 for training and 120\\nfor test. Speech material in the test set was acquired in different days with respect\\nto the training set. A subset of 40 utterances from the training material forms the\\nadaptation training set, to be used for speaker adaptation/normalization purposes.\\nFor this application, each signal in the corpus was processed to obtain its parametric\\nrepresentation. The signal was preemphasized using a filter with transfer function\\nH(z)\\n1 - 0.95 X z-l, and a 20 ms Hamming window is then applied every 10\\nms. For each frame, the normalized log-energy as well as 8 Mel Scaled Cepstral\\nCoefficients (MSCC) based on a 24-channel filter-bank were computed. Normalization of log-energy was performed by subtracting the maximum log-energy value in\\nthe sentence; for each Mel coefficient, normalization was performed by subtracting\\nthe mean value of the whole utterance. For both MSCC and the log-energy, the\\nfirst order derivatives as well as the second order derivatives were computed. For\\neach frame, all the computed acoustic parameters were combined in a single feature\\nvector with 27 components.\\n\\n=\\n\\n6\\n\\nTHE RECOGNITION SYSTEM\\n\\nFor each of the 6 speakers, a SD HMM recognition system was trained with the 400\\nutterances available in the APASCI corpus; the systems were bootstrapped with\\ngender dependent models trained on the gender dependent speech material (1000\\nutterances for male and 1140 utterances for female). A set of 38 context independent\\nacoustic-phonetic units was considered. Left-to-right HMMs with three and four\\nstates were adopted for short (i.e. p,t,k,b,d,g) and long (e.g. a,i,u,Q,e) sounds\\nrespectively. Silence, pause and breath were modeled with a single state ergodic\\nmodel. The output distribution probabilities were modeled with mixtures of 16\\ngaussian probability densities, diagonal covariance matrixes. Transitions leaving\\nthe same state shared the same output distribution probabilities.\\n\\n\\x0c872\\n\\nCesare Furlanello, Diego Giuliani, Edmondo Trentin\\n\\nTable 1: Phone Recognition Rate (Unit Accuracy %) without normalization\\n\\n7\\n\\nTRAINING THE NORMALIZATION MODULES\\n\\nA set of 40 phrases was considered for each pair (new, re f erence) of speakers to train\\nthe normalization modules. In order to take into account alternative pronunciation,\\ninsertion or deletion of phonemes, pauses between words and other phenomena, the\\nautomatic phonetic transcription and segmentation available in APASCI was used\\nfor each utterance. Given two utterances corresponding to the same phrase, we considered only their segments having the same phonetic transcription. To determine\\nthese segments the DTW algorithm was applied to the phonetic transcription of the\\ntwo utterances. The DTW algorithm was applied a second time to the obtained\\nsegments and the resulting optimal alignment paths gave the desired set of vector\\npairs. The DTW algorithm was applied only to the 8 MSCC and the other acoustic\\nparameters were left unmodified.\\nWe trained networks with 8 inputs and 8 outputs. The model included a linear\\nterm: first the linear term was fit to the data, and then the rest of the expansion\\nwas estimated by fitting the residuals of the linear regression. The networks grew\\nup to 50 elliptical gaussian kernels using dynamic allocation. Kernel coefficients,\\nlocations and bandwidths were optimized using different learning rates for 10 epochs\\nw.r.t the Ll norm, which proved to be more efficient than the usual L2 norm.\\n\\n8\\n\\nTHE RECOGNITION EXPERIMENTS\\n\\nExperiments concerned continuous phone recognition without any lexical and\\nphonetical constraint (no phone statistic was used).\\nFor all the couples\\n(new, reference) of speakers in the database, a recognition experiment was performed using 90 (of the 120 available) test utterances from the new speaker with\\nthe SD recognition system previously trained for the reference speaker. On average the test sets consisted of 4770 phone units. The experiments were repeated\\ntransforming the test data with different normalization modules and performance\\ncompared. Results are expressed in terms of insertions (Ins), deletions (Del) and\\nsubstitutions (Sub) of phone units made by the recognizer. Unit Accuracy (U A)\\nand Percent Correct (PC) performance indicators are respectively defined w.r.t.\\nthe total number of units nunih as U A = 100 (1 - (Ins + Del + Sub)/nunit.) and\\nPC = 100 (1 - (Del + Sub)/nunit.). In Table 1 the baseline speaker dependent\\nperformance for the 6 speaker dependent systems is reported. Row labels indicate the speaker reference model while column labels identify whose target acous-\\n\\n\\x0cConnectionist Speaker Normalization with Generalized Resource Allocating Networks\\n\\n873\\n\\nTable 2: Phone Recognition Rate (Unit Accuracy %) with NN normalization\\n\\ntic data are used. Thus U A and PC entries in the main diagonal are for the\\nsame speaker who trained the system while the remaining entries relate to performance obtained with new speakers. We also considered the adaptability ratios for\\na U A and P PC (Montacie et al., 1989): Pa (aRT - aRT )/(aRR - aRT) and\\nPp = (PRT - PRT )/(PRR - PRT) where aRT indicate accuracy for reference speaker\\nR and target T without normalization, aRR is the speaker dependent baseline accuracy and apex n indicates normalization. The same notation applies to the percent\\ncorrect adaptability ratio pp.\\n\\n=\\n\\n9\\n\\n=\\n\\n=\\n\\nRESULTS AND CONCLUSIONS\\n\\nNormalization experiments have been performed with the set-up described in the\\nprevious Section. The phone recognition rates obtained with normalization modules\\nbased on the GRAN model are reported in Table 2 in terms of Unit Accuracy (dee\\nTable 1 for the baseline performance). In Table 3 the performance of the GRAN\\nmodel (NN) and constrained orthonormal linear mapping (LIN) are compared with\\nthe baseline performance (SD: no adaptation) in terms of both Unit Accuracy and\\nPercent Correct. The network shows an improvement, as evidenced by the variation\\nin the Pa and Pp values. Results are reported averaging performance over all the\\npairs (new,reference) of speakers (Total column), and considering pairs of speakers\\nof the same gender and of different genders (Female: only female subjects, Male:\\nonly males, Dill: different genders). An analysis of the adaptability ratios shows\\nthat the effect of the network normalization is higher than with the linear network\\nfor all the 3 subgroups of pairs: p~N = 0.20 vs p~IN = 0.16 for the Female\\ncouples and liN = 0.16 vs p~IN = 0.15 for the Male couples. The improvement is\\nhigher (p~N = 0.28, p~IN = 0.24) for speaker of different genders. Although these\\npreliminary experiments show only a minor improvement of performance achieved\\nby the network with respect to linear mappings, we expect that the selectivity of\\nthe network could be exploited using acoustic contexts and code dependent neural\\nnetworks.\\nAcknowledgements\\nThis work has been developed within a grant of the \"Programma Nazionale di\\nRicerca per la Bioelettronica\" assigned by the Italian Ministry of University and\\nTechnologic Research to Elsag Bailey. The authors would like to thank B. Angelini,\\nF. Brugnara, B. Caprile, R. De Mori, D. Falavigna, G. Lazzari and P. Svaizer.\\n\\n\\x0c874\\n\\nCesare Furlanello, Diego Giuliani, Edmondo Trentin\\n\\nTable 3: Phone Recognition Rate (%) in terms of both Unit Accuracy, Percent\\nCorrect, and adaptability ratio p.\\n\\nReferences\\n\\nAngelini, B., Brugnara, F., Falavigna, D., Giuliani, D., Gretter, R., and Omologo,\\nM. (September 1994). Speaker Independent Continuous Speech Recognition Using\\nan Acoustic-Phonetic Italian Corpus. In Proc. of ICSLP, pages 1391-1394.\\nBarron, A. R. and Barron, R. L. (1988). Statistical learning networks: a unifying\\nview. In Symp. on the Interface: Statistics and Computing Science, Reston, VI.\\nClass, F., Kaltenmeier, A., Regel, P., and Troller, K. (1990). Fast speaker adaptation for speech recognition system. In Proc. of ICASSP 90, pages 1-133-136.\\nFurui, S. and Sondhi, M. M., editors (1991). Advances in Speech Signal Processing.\\nMarcel Dekker and Inc.\\nHardIe, W. (1990). Applied nonparametric regression, volume 19 of Econometric\\nSociety Monographs. Cambridge University Press, New York.\\nHuang, X. D. (1992). Speaker normalization for speech recognition. In Proc. of\\nICASSP 92, pages 1-465-468.\\nKrzyzak, A. (1992). Global convergence of the recursive kernel regression estimates\\nwith applications in classification and nonlinear system estimation. IEEE Transactions on Information Theory, 38(4):1323-1338.\\nMatsukoto, H. and Inoue, H. (1992). A piecewise linear spectral mapping for supervised speaker adaptation. In Proc. of ICASSP 92, pages 1-449-452.\\nMontacie, C., Choukri, K., and Chollet, G. (1989). Speech recognition using temporal decomposition and multi-layer feed-forward automata. In Proc. of ICASSP\\n89, pages 1-409-412.\\nNakamura, S. and Shikano, K. (1990). A comparative study of spectral mapping\\nfor speaker adaptation. In Proc. of ICASSP 90, pages 1-157-160.\\nPlatt, J. (1991). A resource-allocating network for function interpolation. Neural\\nComputation, 3(2):213-225.\\nPoggio, T. and Girosi, F. (1989). A theory of networks for approximation and\\nlearning. A.1. Memo No. 1140, MIT.\\nSakoe, H. and Chiba, S. (1978). Dynamic programming algorithm optimization for\\nspoken word recognition. IEEE-A SSP, 26(1):43-49.\\nWatrous, R. (1994). Speaker normalization and adaptation using second-order connectionist networks. IEEE Trans. on Neural Networks, 4(1):21-30.\\n\\n\\x0c'"
      ]
     },
     "execution_count": 23,
     "metadata": {},
     "output_type": "execute_result"
    }
   ],
   "source": [
    "unclean[20]"
   ]
  },
  {
   "cell_type": "code",
   "execution_count": 24,
   "metadata": {},
   "outputs": [
    {
     "data": {
      "text/plain": [
       "'connectionist speaker normalization generalized resource allocating networksconnectionist speaker normalization generalized resource allocating network cesare furlanello istituto per la ricerca scientifica e tecnologica povo trento italy furlan lirst diego giuliani istituto per la ricerca scientifica e tecnologica povo trento italy giuliani lirst edmondo trentin istituto per la ricerca scientifica e tecnologica povo trento italy trentin lirst abstract paper present rapid speaker normalization technique based neural network spectral mapping neural network used front end continuous speech recognition system speakerdependent hmm based normalize input acoustic data speaker spectral difference speaker reduced limited amount acoustic data phonetically rich sentence recognition error phone unit acoustic phonetic continuous speech corpus apasci decreased adaptability ratio used local basis network elliptical gaussian kernel recursive allocation unit line optimization parameter gran model application model included linear term result compare favorably multivariate linear mapping based constrained orthonormal transformation introduction speaker normalization method designed minimize inter speaker variation principal error source automatic speech recognition training speech recognition system particular speaker speaker dependent sd mode generally give better performance speaker independent system cesare furlanello diego giuliani edmondo trentin trained recognize speech generic user averaging individual difference hand performance may dramatically worse sd system tailored acoustic characteristic speaker reference speaker used another target speaker training sd system speaker may unfeasible collecting amount training data time consuming speaker unacceptable application given pre trained sd speech recognition system goal normalization method reduce sentence amount training data required speaker achieve acceptable recognition performance inter speaker variation acoustic data reduced estimating feature vector transformation acoustic parameter space speaker reference speaker montacie et al class et al nakamura shikano huang matsukoto inoue multivariate transformation called spectral mapping given type feature considered parameterization speech data provides acoustic front end recognition system supervised speaker normalization method require text training utterance required speaker known arbitrary utterance used unsupervised method furui sondhi good performance achieved spectral mapping technique based mse optimization class et al matsukoto inoue alternative approach presented estimation spectral normalization mapping multi layer perceptron neural network montacie et al nakamura shikano huang watrous paper introduces supervised speaker normalization method based neural network regression generalized local basis model elliptical kernel generalized resource allocating network gran model kernel recursively allocated introducing heuristic procedure platt within generalized rbf schema proposed poggio girosi model includes linear term efficient line optimization parameter achieved automatic differentiation technique result compare favorably normalization affine linear transformation based orthonormal constrained pseudoinverse paper normalization module integrated tested acoustic front end speaker dependent continuous speech recognition system experiment regarded phone unit recognition hidden markov model hmm recognition system diagram figure outline general structure experiment gran normalization module architecture independent specific speech recognition system allows comparison different normalization technique gran model general procedure data standardization described section discussion spectral mapping problem section apasci corpus used experiment characteristic acoustic data described section recognition system experiment set detailed section result presented discussed section connectionist speaker normalization generalized resource allocating network database reference phrase phrase yj j dynamic time warping training fx xi yj test neural network supervised training gran normalizati feature extraction speech signal corresponding phrase uttered speaker output figure system overview gran model feedforward artificial neural network regarded convenient realization general functional superposition term simpler kernel function barron barron hidden layer implement multivariate superposition f z ef cxjkj z wj kj function depending input vector z parameter vector wj general structure allows realize flexible model multivariate regression interested schema h k x ax b input vector x e rd estimated output vector e r k kj n dimensional vector local kernel h x n real matrix kernel coefficient b e r offset term x linear term implemented kernel gaussian hardy multiquadrics inverse hardy multiquadrics epanenchnikov kernel nadarayawatson normalized form hardie kernel allocation based recursive procedure appropriate novelty condition satisfied example x kernel kn allocated estimate yn l becomes yn l x yn x kn llx x llw yn x hardie global property rate convergence recursive kernel regression estimate given krzyzak heuristic mechanism suggested platt extended include optimization weighted metric requested generalized version rbf network poggio girosi optimization regard kernel coefficient location bandwidth offset term coefficient matrix considered w matrix defining weighted metric input space iixll xtwtwx automatic differentiation used efficient line gradient descent procedure w r different error function l l entropy fit different learning rate type parameter cesare furlanello diego giuliani edmondo trentin ij p x tjx tjy tjy x figure commutative diagram speaker normalization problem spectral mapping p original space x estimated ij tjy ip tjx obtained composition neural gran mapping ip pca space x invertible pca transformation tjx tjy network pca transformation normalization module designed estimate spectral mapping acoustic space different speaker inter speaker variability reflected significant difference data distribution multidimensional space considered dimension particular important take account global data anisotropy generally crucial decorrelate feature describing data general recipe apply well known principal component analysis pca data case implemented standard numerical routine based singular value decomposition data covariance matrix network applied perform mapping feature space obtained pca transformation mean translation included figure spectral mapping problem sound uttered speaker generally described sequence offeature vector obtained speech signal via short time spectral analysis sec spectral representation sequence sound uttered speaker subject significant variation e g difference male female speaker regional accent deal acoustic difference suitable transformation spectral mapping seeked performs best mapping corresponding spectrum oftwo speaker let yl yj x x x xi spectral feature vector sequence sentence uttered speaker called respectively reference speaker desired mapping performed function pc xi transformed vector sequence obtained x xi approximates close possible spectral vector sequence yi eliminate time difference acoustic realization time warping function determined yielding pair c k k j k k k corresponding index feature vector x respectively desired spectral connectionist speaker normalization generalized resource allocating network j mapping r xi minimizes ef l yj k r xi k distorsion measure acoustic feature space estimate transformation set supervised pair xi k yj k considered summary training material considered experiment consisted set vector pair obtained applying dynamic time warping dtw algorithm sakoe chiba set phrase uttered reference speaker apasci corpus experiment reported paper performed portion apasci italian acoustic phonetic continuous speech corpus utterance text phonetic transcription automatically generated angelini et al corpus consists portion first part training validation speaker independent recognition system consists training set utterance development set utterance test set utterance set contain respectively speech material speaker male female speaker male female speaker male female second portion corpus training validation speaker dependent recognition system consists speech material speaker male female speaker uttered phrase training test speech material test set acquired different day respect training set subset utterance training material form adaptation training set used speaker adaptation normalization purpose application signal corpus processed obtain parametric representation signal preemphasized filter transfer function h z x z l m hamming window applied every m frame normalized log energy well mel scaled cepstral coefficient mscc based channel filter bank computed normalization log energy performed subtracting maximum log energy value sentence mel coefficient normalization performed subtracting mean value whole utterance mscc log energy first order derivative well second order derivative computed frame computed acoustic parameter combined single feature vector component recognition system speaker sd hmm recognition system trained utterance available apasci corpus system bootstrapped gender dependent model trained gender dependent speech material utterance male utterance female set context independent acoustic phonetic unit considered left right hmms three four state adopted short e p k b g long e g u q e sound respectively silence pause breath modeled single state ergodic model output distribution probability modeled mixture gaussian probability density diagonal covariance matrix transition leaving state shared output distribution probability cesare furlanello diego giuliani edmondo trentin table phone recognition rate unit accuracy without normalization training normalization module set phrase considered pair f erence speaker train normalization module order take account alternative pronunciation insertion deletion phoneme pause word phenomenon automatic phonetic transcription segmentation available apasci used utterance given utterance corresponding phrase considered segment phonetic transcription determine segment dtw algorithm applied phonetic transcription utterance dtw algorithm applied second time obtained segment resulting optimal alignment path gave desired set vector pair dtw algorithm applied mscc acoustic parameter left unmodified trained network input output model included linear term first linear term fit data rest expansion estimated fitting residual linear regression network grew elliptical gaussian kernel dynamic allocation kernel coefficient location bandwidth optimized different learning rate epoch w r norm proved efficient usual l norm recognition experiment experiment concerned continuous phone recognition without lexical phonetical constraint phone statistic used couple reference speaker database recognition experiment performed available test utterance speaker sd recognition system trained reference speaker average test set consisted phone unit experiment repeated transforming test data different normalization module performance compared result expressed term insertion in deletion del substitution sub phone unit made recognizer unit accuracy u percent correct pc performance indicator respectively defined w r total number unit nunih u in del sub nunit pc del sub nunit table baseline speaker dependent performance speaker dependent system reported row label indicate speaker reference model column label identify whose target acous connectionist speaker normalization generalized resource allocating network table phone recognition rate unit accuracy nn normalization tic data used thus u pc entry main diagonal speaker trained system remaining entry relate performance obtained speaker considered adaptability ratio u p pc montacie et al pa art art arr art pp prt prt prr prt art indicate accuracy reference speaker r target without normalization arr speaker dependent baseline accuracy apex n indicates normalization notation applies percent correct adaptability ratio pp result conclusion normalization experiment performed set described previous section phone recognition rate obtained normalization module based gran model reported table term unit accuracy dee table baseline performance table performance gran model nn constrained orthonormal linear mapping lin compared baseline performance sd adaptation term unit accuracy percent correct network show improvement evidenced variation pa pp value result reported averaging performance pair reference speaker total column considering pair speaker gender different gender female female subject male male dill different gender analysis adaptability ratio show effect network normalization higher linear network subgroup pair p n v p female couple lin v p male couple improvement higher p n p speaker different gender although preliminary experiment minor improvement performance achieved network respect linear mapping expect selectivity network could exploited acoustic context code dependent neural network acknowledgement work developed within grant programma nazionale di ricerca per la bioelettronica assigned italian ministry university technologic research elsag bailey author would like thank b angelini f brugnara b caprile r de mori falavigna g lazzari p svaizer cesare furlanello diego giuliani edmondo trentin table phone recognition rate term unit accuracy percent correct adaptability ratio p reference angelini b brugnara f falavigna giuliani gretter r omologo september speaker independent continuous speech recognition acoustic phonetic italian corpus proc icslp page barron r barron r l statistical learning network unifying view symp interface statistic computing science reston vi class f kaltenmeier regel p troller k fast speaker adaptation speech recognition system proc icassp page furui sondhi editor advance speech signal processing marcel dekker inc hardie w applied nonparametric regression volume econometric society monograph cambridge university press york huang x speaker normalization speech recognition proc icassp page krzyzak global convergence recursive kernel regression estimate application classification nonlinear system estimation ieee transaction information theory matsukoto h inoue h piecewise linear spectral mapping supervised speaker adaptation proc icassp page montacie c choukri k chollet g speech recognition temporal decomposition multi layer feed forward automaton proc icassp page nakamura shikano k comparative study spectral mapping speaker adaptation proc icassp page platt j resource allocating network function interpolation neural computation poggio girosi f theory network approximation learning memo mit sakoe h chiba dynamic programming algorithm optimization spoken word recognition ieee ssp watrous r speaker normalization adaptation second order connectionist network ieee trans neural network'"
      ]
     },
     "execution_count": 24,
     "metadata": {},
     "output_type": "execute_result"
    }
   ],
   "source": [
    "corpus[20]"
   ]
  },
  {
   "cell_type": "markdown",
   "metadata": {},
   "source": [
    "### 4.2)- Word Cloud Visualization"
   ]
  },
  {
   "cell_type": "code",
   "execution_count": 25,
   "metadata": {},
   "outputs": [],
   "source": [
    "from os import path\n",
    "from PIL import Image\n",
    "from wordcloud import WordCloud, STOPWORDS, ImageColorGenerator"
   ]
  },
  {
   "cell_type": "code",
   "execution_count": 26,
   "metadata": {},
   "outputs": [
    {
     "name": "stdout",
     "output_type": "stream",
     "text": [
      "<wordcloud.wordcloud.WordCloud object at 0x1aa21f1f50>\n"
     ]
    },
    {
     "data": {
      "image/png": "[encoded data removed]",
      "text/plain": [
       "<Figure size 432x288 with 1 Axes>"
      ]
     },
     "metadata": {
      "needs_background": "light"
     },
     "output_type": "display_data"
    }
   ],
   "source": [
    "wordcloud = WordCloud(\n",
    "                          background_color='white',\n",
    "                          stopwords=stop_words,\n",
    "                          max_words=100,\n",
    "                          max_font_size=50, \n",
    "                          random_state=42\n",
    "                         ).generate(str(corpus))\n",
    "print(wordcloud)\n",
    "fig = plt.figure(1)\n",
    "plt.imshow(wordcloud)\n",
    "plt.axis('off')\n",
    "plt.show()\n",
    "fig.savefig(\"word1.png\", dpi=900)"
   ]
  },
  {
   "cell_type": "markdown",
   "metadata": {},
   "source": [
    "# 5)- Vectorization"
   ]
  },
  {
   "cell_type": "code",
   "execution_count": 27,
   "metadata": {},
   "outputs": [],
   "source": [
    "from sklearn.feature_extraction.text import CountVectorizer\n",
    "import re"
   ]
  },
  {
   "cell_type": "markdown",
   "metadata": {},
   "source": [
    "### 5.1)- Count Vectorizer"
   ]
  },
  {
   "cell_type": "code",
   "execution_count": 28,
   "metadata": {},
   "outputs": [],
   "source": [
    "cv=CountVectorizer(max_df=0.8,stop_words=stop_words, max_features=10000, ngram_range=(1,3))\n",
    "X=cv.fit_transform(corpus) # we do fit and transform in one instant"
   ]
  },
  {
   "cell_type": "markdown",
   "metadata": {},
   "source": [
    "- **cv=CountVectorizer(max_df=0.8,stop_words=stop_words, max_features=10000, ngram_range=(1,3))**\n",
    "\n",
    "- max_df — When building the vocabulary ignore terms that have a document frequency strictly higher than the given threshold (corpus-specific stop words). This is to ensure that we only have words relevant to the context and not commonly used words.\n",
    "\n",
    "- max_features — determines the number of columns in the matrix.\n",
    "\n",
    "- n-gram range — we would want to look at a list of single words, two words (bi-grams) and three words (tri-gram) combinations."
   ]
  },
  {
   "cell_type": "code",
   "execution_count": 29,
   "metadata": {},
   "outputs": [
    {
     "data": {
      "text/plain": [
       "(7241, 10000)"
      ]
     },
     "execution_count": 29,
     "metadata": {},
     "output_type": "execute_result"
    }
   ],
   "source": [
    "X.shape"
   ]
  },
  {
   "cell_type": "code",
   "execution_count": 30,
   "metadata": {},
   "outputs": [
    {
     "data": {
      "text/plain": [
       "['self',\n",
       " 'organization',\n",
       " 'associative',\n",
       " 'database',\n",
       " 'application',\n",
       " 'japan',\n",
       " 'efficient',\n",
       " 'organizing',\n",
       " 'proposed',\n",
       " 'together']"
      ]
     },
     "execution_count": 30,
     "metadata": {},
     "output_type": "execute_result"
    }
   ],
   "source": [
    "# An encoded vector is returned with a length of the entire vocabulary.\n",
    "\n",
    "list(cv.vocabulary_.keys())[:10]"
   ]
  },
  {
   "cell_type": "markdown",
   "metadata": {},
   "source": [
    "### 5.2)- Visualization \n",
    "\n",
    "\n",
    "using uni-gram, bi-gram, and tri-gram"
   ]
  },
  {
   "cell_type": "markdown",
   "metadata": {},
   "source": [
    "#### 5.2.1)-Uni-gram"
   ]
  },
  {
   "cell_type": "code",
   "execution_count": 31,
   "metadata": {},
   "outputs": [
    {
     "data": {
      "text/plain": [
       "[Text(0, 0, 'model'),\n",
       " Text(0, 0, 'algorithm'),\n",
       " Text(0, 0, 'learning'),\n",
       " Text(0, 0, 'function'),\n",
       " Text(0, 0, 'data'),\n",
       " Text(0, 0, 'set'),\n",
       " Text(0, 0, 'network'),\n",
       " Text(0, 0, 'method'),\n",
       " Text(0, 0, 'problem'),\n",
       " Text(0, 0, 'time'),\n",
       " Text(0, 0, 'distribution'),\n",
       " Text(0, 0, 'number'),\n",
       " Text(0, 0, 'figure'),\n",
       " Text(0, 0, 'matrix'),\n",
       " Text(0, 0, 'value'),\n",
       " Text(0, 0, 'parameter'),\n",
       " Text(0, 0, 'feature'),\n",
       " Text(0, 0, 'image'),\n",
       " Text(0, 0, 'training'),\n",
       " Text(0, 0, 'state')]"
      ]
     },
     "execution_count": 31,
     "metadata": {},
     "output_type": "execute_result"
    },
    {
     "data": {
      "image/png": "[encoded data removed]",
      "text/plain": [
       "<Figure size 432x288 with 1 Axes>"
      ]
     },
     "metadata": {
      "needs_background": "light"
     },
     "output_type": "display_data"
    }
   ],
   "source": [
    "#Most frequently occuring words\n",
    "def get_top_n_words(corpus, n=None):\n",
    "    vec = CountVectorizer().fit(corpus)\n",
    "    bag_of_words = vec.transform(corpus)\n",
    "    sum_words = bag_of_words.sum(axis=0) \n",
    "    words_freq = [(word, sum_words[0, idx]) for word, idx in      \n",
    "                   vec.vocabulary_.items()]\n",
    "    words_freq =sorted(words_freq, key = lambda x: x[1], \n",
    "                       reverse=True)\n",
    "    return words_freq[:n]\n",
    "#Convert most freq words to dataframe for plotting bar plot\n",
    "top_words = get_top_n_words(corpus, n=20)\n",
    "top_df = pd.DataFrame(top_words)\n",
    "top_df.columns=[\"Word\", \"Freq\"]\n",
    "#Barplot of most freq words\n",
    "g = sns.barplot(x=\"Word\", y=\"Freq\", data=top_df)\n",
    "g.set_xticklabels(g.get_xticklabels(), rotation=40)"
   ]
  },
  {
   "cell_type": "markdown",
   "metadata": {},
   "source": [
    "#### 5.2.2)-Bi-gram"
   ]
  },
  {
   "cell_type": "code",
   "execution_count": 32,
   "metadata": {},
   "outputs": [
    {
     "name": "stdout",
     "output_type": "stream",
     "text": [
      "                     Bi-gram   Freq\n",
      "0                      et al  20583\n",
      "1             neural network  20322\n",
      "2           machine learning  15781\n",
      "3                   data set   9594\n",
      "4     information processing   9590\n",
      "5         neural information   9101\n",
      "6          processing system   9045\n",
      "7               training set   7647\n",
      "8         learning algorithm   7232\n",
      "9                lower bound   7119\n",
      "10  international conference   6900\n",
      "11            advance neural   6816\n",
      "12               figure show   5958\n",
      "13             training data   5870\n",
      "14             loss function   5744\n",
      "15                   log log   5692\n",
      "16      optimization problem   5590\n",
      "17               upper bound   5554\n",
      "18                data point   5444\n",
      "19    reinforcement learning   5227\n"
     ]
    },
    {
     "data": {
      "text/plain": [
       "[Text(0, 0, 'et al'),\n",
       " Text(0, 0, 'neural network'),\n",
       " Text(0, 0, 'machine learning'),\n",
       " Text(0, 0, 'data set'),\n",
       " Text(0, 0, 'information processing'),\n",
       " Text(0, 0, 'neural information'),\n",
       " Text(0, 0, 'processing system'),\n",
       " Text(0, 0, 'training set'),\n",
       " Text(0, 0, 'learning algorithm'),\n",
       " Text(0, 0, 'lower bound'),\n",
       " Text(0, 0, 'international conference'),\n",
       " Text(0, 0, 'advance neural'),\n",
       " Text(0, 0, 'figure show'),\n",
       " Text(0, 0, 'training data'),\n",
       " Text(0, 0, 'loss function'),\n",
       " Text(0, 0, 'log log'),\n",
       " Text(0, 0, 'optimization problem'),\n",
       " Text(0, 0, 'upper bound'),\n",
       " Text(0, 0, 'data point'),\n",
       " Text(0, 0, 'reinforcement learning')]"
      ]
     },
     "execution_count": 32,
     "metadata": {},
     "output_type": "execute_result"
    },
    {
     "data": {
      "image/png": "[encoded data removed]",
      "text/plain": [
       "<Figure size 432x288 with 1 Axes>"
      ]
     },
     "metadata": {
      "needs_background": "light"
     },
     "output_type": "display_data"
    }
   ],
   "source": [
    "def get_top_n2_words(corpus, n=None):\n",
    "    vec1 = CountVectorizer(ngram_range=(2,2),  \n",
    "            max_features=2000).fit(corpus)\n",
    "    bag_of_words = vec1.transform(corpus)\n",
    "    sum_words = bag_of_words.sum(axis=0) \n",
    "    words_freq = [(word, sum_words[0, idx]) for word, idx in     \n",
    "                  vec1.vocabulary_.items()]\n",
    "    words_freq =sorted(words_freq, key = lambda x: x[1], \n",
    "                reverse=True)\n",
    "    return words_freq[:n]\n",
    "\n",
    "# for bi-gram\n",
    "\n",
    "top2_words = get_top_n2_words(corpus, n=20)\n",
    "top2_df = pd.DataFrame(top2_words)\n",
    "top2_df.columns=[\"Bi-gram\", \"Freq\"]\n",
    "print(top2_df)\n",
    "#Barplot of most freq Bi-grams\n",
    "\n",
    "h=sns.barplot(x=\"Bi-gram\", y=\"Freq\", data=top2_df)\n",
    "h.set_xticklabels(h.get_xticklabels(), rotation=45)"
   ]
  },
  {
   "cell_type": "markdown",
   "metadata": {},
   "source": [
    "#### 5.2.3)-Tri-gram"
   ]
  },
  {
   "cell_type": "code",
   "execution_count": 33,
   "metadata": {},
   "outputs": [
    {
     "name": "stdout",
     "output_type": "stream",
     "text": [
      "                            Tri-gram  Freq\n",
      "0      neural information processing  8999\n",
      "1      information processing system  8851\n",
      "2         advance neural information  6687\n",
      "3               arxiv preprint arxiv  3621\n",
      "4        conference machine learning  3544\n",
      "5   international conference machine  3368\n",
      "6          machine learning research  3220\n",
      "7           journal machine learning  3077\n",
      "8             processing system page  2644\n",
      "9              processing system nip  2441\n",
      "10            support vector machine  2377\n",
      "11       th international conference  1615\n",
      "12       department computer science  1535\n",
      "13                       log log log  1519\n",
      "14          recurrent neural network  1515\n",
      "15               hidden markov model  1512\n",
      "16       proceeding th international  1464\n",
      "17          semi supervised learning  1457\n",
      "18     conference neural information  1452\n",
      "19       stochastic gradient descent  1387\n"
     ]
    },
    {
     "data": {
      "text/plain": [
       "[Text(0, 0, 'neural information processing'),\n",
       " Text(0, 0, 'information processing system'),\n",
       " Text(0, 0, 'advance neural information'),\n",
       " Text(0, 0, 'arxiv preprint arxiv'),\n",
       " Text(0, 0, 'conference machine learning'),\n",
       " Text(0, 0, 'international conference machine'),\n",
       " Text(0, 0, 'machine learning research'),\n",
       " Text(0, 0, 'journal machine learning'),\n",
       " Text(0, 0, 'processing system page'),\n",
       " Text(0, 0, 'processing system nip'),\n",
       " Text(0, 0, 'support vector machine'),\n",
       " Text(0, 0, 'th international conference'),\n",
       " Text(0, 0, 'department computer science'),\n",
       " Text(0, 0, 'log log log'),\n",
       " Text(0, 0, 'recurrent neural network'),\n",
       " Text(0, 0, 'hidden markov model'),\n",
       " Text(0, 0, 'proceeding th international'),\n",
       " Text(0, 0, 'semi supervised learning'),\n",
       " Text(0, 0, 'conference neural information'),\n",
       " Text(0, 0, 'stochastic gradient descent')]"
      ]
     },
     "execution_count": 33,
     "metadata": {},
     "output_type": "execute_result"
    },
    {
     "data": {
      "image/png": "[encoded data removed]",
      "text/plain": [
       "<Figure size 432x288 with 1 Axes>"
      ]
     },
     "metadata": {
      "needs_background": "light"
     },
     "output_type": "display_data"
    }
   ],
   "source": [
    "def get_top_n3_words(corpus, n=None):\n",
    "    vec1 = CountVectorizer(ngram_range=(3,3), \n",
    "           max_features=2000).fit(corpus)\n",
    "    bag_of_words = vec1.transform(corpus)\n",
    "    sum_words = bag_of_words.sum(axis=0) \n",
    "    words_freq = [(word, sum_words[0, idx]) for word, idx in     \n",
    "                  vec1.vocabulary_.items()]\n",
    "    words_freq =sorted(words_freq, key = lambda x: x[1], \n",
    "                reverse=True)\n",
    "    return words_freq[:n]\n",
    "# for tri-gram\n",
    "top3_words = get_top_n3_words(corpus, n=20)\n",
    "top3_df = pd.DataFrame(top3_words)\n",
    "top3_df.columns=[\"Tri-gram\", \"Freq\"]\n",
    "print(top3_df)\n",
    "#Barplot of most freq Tri-grams\n",
    "\n",
    "j=sns.barplot(x=\"Tri-gram\", y=\"Freq\", data=top3_df)\n",
    "j.set_xticklabels(j.get_xticklabels(), rotation=45)"
   ]
  },
  {
   "cell_type": "markdown",
   "metadata": {},
   "source": [
    "# 6)- TF-IDF\n",
    "\n",
    "Converting corpus to a matrix of integer"
   ]
  },
  {
   "cell_type": "code",
   "execution_count": 34,
   "metadata": {},
   "outputs": [],
   "source": [
    "from sklearn.feature_extraction.text import TfidfTransformer\n",
    " \n",
    "tfidf_transformer=TfidfTransformer(smooth_idf=True,use_idf=True)\n",
    "tfidf_transformer.fit(X)\n",
    "# get feature names\n",
    "feature_names=cv.get_feature_names()"
   ]
  },
  {
   "cell_type": "code",
   "execution_count": 35,
   "metadata": {},
   "outputs": [],
   "source": [
    "# fetch document for which keywords needs to be extracted\n",
    "doc=corpus[20]"
   ]
  },
  {
   "cell_type": "code",
   "execution_count": 36,
   "metadata": {},
   "outputs": [],
   "source": [
    "#generate tf-idf for the given document\n",
    "tf_idf_vector=tfidf_transformer.transform(cv.transform([doc]))"
   ]
  },
  {
   "cell_type": "code",
   "execution_count": 37,
   "metadata": {},
   "outputs": [
    {
     "name": "stdout",
     "output_type": "stream",
     "text": [
      "\n",
      "Abstract:\n",
      "connectionist speaker normalization generalized resource allocating networksconnectionist speaker normalization generalized resource allocating network cesare furlanello istituto per la ricerca scientifica e tecnologica povo trento italy furlan lirst diego giuliani istituto per la ricerca scientifica e tecnologica povo trento italy giuliani lirst edmondo trentin istituto per la ricerca scientifica e tecnologica povo trento italy trentin lirst abstract paper present rapid speaker normalization technique based neural network spectral mapping neural network used front end continuous speech recognition system speakerdependent hmm based normalize input acoustic data speaker spectral difference speaker reduced limited amount acoustic data phonetically rich sentence recognition error phone unit acoustic phonetic continuous speech corpus apasci decreased adaptability ratio used local basis network elliptical gaussian kernel recursive allocation unit line optimization parameter gran model application model included linear term result compare favorably multivariate linear mapping based constrained orthonormal transformation introduction speaker normalization method designed minimize inter speaker variation principal error source automatic speech recognition training speech recognition system particular speaker speaker dependent sd mode generally give better performance speaker independent system cesare furlanello diego giuliani edmondo trentin trained recognize speech generic user averaging individual difference hand performance may dramatically worse sd system tailored acoustic characteristic speaker reference speaker used another target speaker training sd system speaker may unfeasible collecting amount training data time consuming speaker unacceptable application given pre trained sd speech recognition system goal normalization method reduce sentence amount training data required speaker achieve acceptable recognition performance inter speaker variation acoustic data reduced estimating feature vector transformation acoustic parameter space speaker reference speaker montacie et al class et al nakamura shikano huang matsukoto inoue multivariate transformation called spectral mapping given type feature considered parameterization speech data provides acoustic front end recognition system supervised speaker normalization method require text training utterance required speaker known arbitrary utterance used unsupervised method furui sondhi good performance achieved spectral mapping technique based mse optimization class et al matsukoto inoue alternative approach presented estimation spectral normalization mapping multi layer perceptron neural network montacie et al nakamura shikano huang watrous paper introduces supervised speaker normalization method based neural network regression generalized local basis model elliptical kernel generalized resource allocating network gran model kernel recursively allocated introducing heuristic procedure platt within generalized rbf schema proposed poggio girosi model includes linear term efficient line optimization parameter achieved automatic differentiation technique result compare favorably normalization affine linear transformation based orthonormal constrained pseudoinverse paper normalization module integrated tested acoustic front end speaker dependent continuous speech recognition system experiment regarded phone unit recognition hidden markov model hmm recognition system diagram figure outline general structure experiment gran normalization module architecture independent specific speech recognition system allows comparison different normalization technique gran model general procedure data standardization described section discussion spectral mapping problem section apasci corpus used experiment characteristic acoustic data described section recognition system experiment set detailed section result presented discussed section connectionist speaker normalization generalized resource allocating network database reference phrase phrase yj j dynamic time warping training fx xi yj test neural network supervised training gran normalizati feature extraction speech signal corresponding phrase uttered speaker output figure system overview gran model feedforward artificial neural network regarded convenient realization general functional superposition term simpler kernel function barron barron hidden layer implement multivariate superposition f z ef cxjkj z wj kj function depending input vector z parameter vector wj general structure allows realize flexible model multivariate regression interested schema h k x ax b input vector x e rd estimated output vector e r k kj n dimensional vector local kernel h x n real matrix kernel coefficient b e r offset term x linear term implemented kernel gaussian hardy multiquadrics inverse hardy multiquadrics epanenchnikov kernel nadarayawatson normalized form hardie kernel allocation based recursive procedure appropriate novelty condition satisfied example x kernel kn allocated estimate yn l becomes yn l x yn x kn llx x llw yn x hardie global property rate convergence recursive kernel regression estimate given krzyzak heuristic mechanism suggested platt extended include optimization weighted metric requested generalized version rbf network poggio girosi optimization regard kernel coefficient location bandwidth offset term coefficient matrix considered w matrix defining weighted metric input space iixll xtwtwx automatic differentiation used efficient line gradient descent procedure w r different error function l l entropy fit different learning rate type parameter cesare furlanello diego giuliani edmondo trentin ij p x tjx tjy tjy x figure commutative diagram speaker normalization problem spectral mapping p original space x estimated ij tjy ip tjx obtained composition neural gran mapping ip pca space x invertible pca transformation tjx tjy network pca transformation normalization module designed estimate spectral mapping acoustic space different speaker inter speaker variability reflected significant difference data distribution multidimensional space considered dimension particular important take account global data anisotropy generally crucial decorrelate feature describing data general recipe apply well known principal component analysis pca data case implemented standard numerical routine based singular value decomposition data covariance matrix network applied perform mapping feature space obtained pca transformation mean translation included figure spectral mapping problem sound uttered speaker generally described sequence offeature vector obtained speech signal via short time spectral analysis sec spectral representation sequence sound uttered speaker subject significant variation e g difference male female speaker regional accent deal acoustic difference suitable transformation spectral mapping seeked performs best mapping corresponding spectrum oftwo speaker let yl yj x x x xi spectral feature vector sequence sentence uttered speaker called respectively reference speaker desired mapping performed function pc xi transformed vector sequence obtained x xi approximates close possible spectral vector sequence yi eliminate time difference acoustic realization time warping function determined yielding pair c k k j k k k corresponding index feature vector x respectively desired spectral connectionist speaker normalization generalized resource allocating network j mapping r xi minimizes ef l yj k r xi k distorsion measure acoustic feature space estimate transformation set supervised pair xi k yj k considered summary training material considered experiment consisted set vector pair obtained applying dynamic time warping dtw algorithm sakoe chiba set phrase uttered reference speaker apasci corpus experiment reported paper performed portion apasci italian acoustic phonetic continuous speech corpus utterance text phonetic transcription automatically generated angelini et al corpus consists portion first part training validation speaker independent recognition system consists training set utterance development set utterance test set utterance set contain respectively speech material speaker male female speaker male female speaker male female second portion corpus training validation speaker dependent recognition system consists speech material speaker male female speaker uttered phrase training test speech material test set acquired different day respect training set subset utterance training material form adaptation training set used speaker adaptation normalization purpose application signal corpus processed obtain parametric representation signal preemphasized filter transfer function h z x z l m hamming window applied every m frame normalized log energy well mel scaled cepstral coefficient mscc based channel filter bank computed normalization log energy performed subtracting maximum log energy value sentence mel coefficient normalization performed subtracting mean value whole utterance mscc log energy first order derivative well second order derivative computed frame computed acoustic parameter combined single feature vector component recognition system speaker sd hmm recognition system trained utterance available apasci corpus system bootstrapped gender dependent model trained gender dependent speech material utterance male utterance female set context independent acoustic phonetic unit considered left right hmms three four state adopted short e p k b g long e g u q e sound respectively silence pause breath modeled single state ergodic model output distribution probability modeled mixture gaussian probability density diagonal covariance matrix transition leaving state shared output distribution probability cesare furlanello diego giuliani edmondo trentin table phone recognition rate unit accuracy without normalization training normalization module set phrase considered pair f erence speaker train normalization module order take account alternative pronunciation insertion deletion phoneme pause word phenomenon automatic phonetic transcription segmentation available apasci used utterance given utterance corresponding phrase considered segment phonetic transcription determine segment dtw algorithm applied phonetic transcription utterance dtw algorithm applied second time obtained segment resulting optimal alignment path gave desired set vector pair dtw algorithm applied mscc acoustic parameter left unmodified trained network input output model included linear term first linear term fit data rest expansion estimated fitting residual linear regression network grew elliptical gaussian kernel dynamic allocation kernel coefficient location bandwidth optimized different learning rate epoch w r norm proved efficient usual l norm recognition experiment experiment concerned continuous phone recognition without lexical phonetical constraint phone statistic used couple reference speaker database recognition experiment performed available test utterance speaker sd recognition system trained reference speaker average test set consisted phone unit experiment repeated transforming test data different normalization module performance compared result expressed term insertion in deletion del substitution sub phone unit made recognizer unit accuracy u percent correct pc performance indicator respectively defined w r total number unit nunih u in del sub nunit pc del sub nunit table baseline speaker dependent performance speaker dependent system reported row label indicate speaker reference model column label identify whose target acous connectionist speaker normalization generalized resource allocating network table phone recognition rate unit accuracy nn normalization tic data used thus u pc entry main diagonal speaker trained system remaining entry relate performance obtained speaker considered adaptability ratio u p pc montacie et al pa art art arr art pp prt prt prr prt art indicate accuracy reference speaker r target without normalization arr speaker dependent baseline accuracy apex n indicates normalization notation applies percent correct adaptability ratio pp result conclusion normalization experiment performed set described previous section phone recognition rate obtained normalization module based gran model reported table term unit accuracy dee table baseline performance table performance gran model nn constrained orthonormal linear mapping lin compared baseline performance sd adaptation term unit accuracy percent correct network show improvement evidenced variation pa pp value result reported averaging performance pair reference speaker total column considering pair speaker gender different gender female female subject male male dill different gender analysis adaptability ratio show effect network normalization higher linear network subgroup pair p n v p female couple lin v p male couple improvement higher p n p speaker different gender although preliminary experiment minor improvement performance achieved network respect linear mapping expect selectivity network could exploited acoustic context code dependent neural network acknowledgement work developed within grant programma nazionale di ricerca per la bioelettronica assigned italian ministry university technologic research elsag bailey author would like thank b angelini f brugnara b caprile r de mori falavigna g lazzari p svaizer cesare furlanello diego giuliani edmondo trentin table phone recognition rate term unit accuracy percent correct adaptability ratio p reference angelini b brugnara f falavigna giuliani gretter r omologo september speaker independent continuous speech recognition acoustic phonetic italian corpus proc icslp page barron r barron r l statistical learning network unifying view symp interface statistic computing science reston vi class f kaltenmeier regel p troller k fast speaker adaptation speech recognition system proc icassp page furui sondhi editor advance speech signal processing marcel dekker inc hardie w applied nonparametric regression volume econometric society monograph cambridge university press york huang x speaker normalization speech recognition proc icassp page krzyzak global convergence recursive kernel regression estimate application classification nonlinear system estimation ieee transaction information theory matsukoto h inoue h piecewise linear spectral mapping supervised speaker adaptation proc icassp page montacie c choukri k chollet g speech recognition temporal decomposition multi layer feed forward automaton proc icassp page nakamura shikano k comparative study spectral mapping speaker adaptation proc icassp page platt j resource allocating network function interpolation neural computation poggio girosi f theory network approximation learning memo mit sakoe h chiba dynamic programming algorithm optimization spoken word recognition ieee ssp watrous r speaker normalization adaptation second order connectionist network ieee trans neural network\n",
      "\n",
      "Keywords:\n",
      "speaker 0.712\n",
      "normalization 0.225\n",
      "utterance 0.184\n",
      "acoustic 0.182\n",
      "recognition system 0.159\n",
      "speech 0.156\n",
      "recognition 0.147\n",
      "phone 0.125\n",
      "spectral 0.125\n",
      "female 0.112\n"
     ]
    }
   ],
   "source": [
    "#Function for sorting tf_idf in descending order\n",
    "from scipy.sparse import coo_matrix\n",
    "def sort_coo(coo_matrix):\n",
    "    tuples = zip(coo_matrix.col, coo_matrix.data)\n",
    "    return sorted(tuples, key=lambda x: (x[1], x[0]), reverse=True)\n",
    " \n",
    "def extract_topn_from_vector(feature_names, sorted_items, topn=10):\n",
    "    \"\"\"get the feature names and tf-idf score of top n items\"\"\"\n",
    "    \n",
    "    #use only topn items from vector\n",
    "    sorted_items = sorted_items[:topn]\n",
    " \n",
    "    score_vals = []\n",
    "    feature_vals = []\n",
    "    \n",
    "    # word index and corresponding tf-idf score\n",
    "    for idx, score in sorted_items:\n",
    "        \n",
    "        #keep track of feature name and its corresponding score\n",
    "        score_vals.append(round(score, 3))\n",
    "        feature_vals.append(feature_names[idx])\n",
    " \n",
    "    #create a tuples of feature,score\n",
    "    #results = zip(feature_vals,score_vals)\n",
    "    results= {}\n",
    "    for idx in range(len(feature_vals)):\n",
    "        results[feature_vals[idx]]=score_vals[idx]\n",
    "    \n",
    "    return results\n",
    "\n",
    "#sort the tf-idf vectors by descending order of scores\n",
    "sorted_items=sort_coo(tf_idf_vector.tocoo())\n",
    "#extract only the top n; n here is 10\n",
    "keywords=extract_topn_from_vector(feature_names,sorted_items,10)\n",
    " \n",
    "# now print the results\n",
    "print(\"\\nAbstract:\")\n",
    "print(doc)\n",
    "print(\"\\nKeywords:\")\n",
    "for k in keywords:\n",
    "    print(k,keywords[k])"
   ]
  },
  {
   "cell_type": "markdown",
   "metadata": {},
   "source": [
    "So while researchers or scientists do invest so much for reading a document, it is wise to create an automated method which could identify keywords of that document like most of scientific journals do."
   ]
  }
 ],
 "metadata": {
  "kernelspec": {
   "display_name": "Python 3",
   "language": "python",
   "name": "python3"
  },
  "language_info": {
   "codemirror_mode": {
    "name": "ipython",
    "version": 3
   },
   "file_extension": ".py",
   "mimetype": "text/x-python",
   "name": "python",
   "nbconvert_exporter": "python",
   "pygments_lexer": "ipython3",
   "version": "3.7.4"
  }
 },
 "nbformat": 4,
 "nbformat_minor": 2
}
