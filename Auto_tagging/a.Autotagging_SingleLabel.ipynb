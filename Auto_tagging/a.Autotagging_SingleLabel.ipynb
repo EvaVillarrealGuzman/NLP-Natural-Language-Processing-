{
  "nbformat": 4,
  "nbformat_minor": 0,
  "metadata": {
    "colab": {
      "name": "Autotagging_SingleLabel.ipynb",
      "provenance": [],
      "collapsed_sections": []
    },
    "kernelspec": {
      "name": "python3",
      "display_name": "Python 3"
    },
    "accelerator": "GPU"
  },
  "cells": [
    {
      "cell_type": "markdown",
      "metadata": {
        "id": "QJxJLfT6m4zo",
        "colab_type": "text"
      },
      "source": [
        "# Automatic tagging "
      ]
    },
    {
      "cell_type": "markdown",
      "metadata": {
        "id": "YvFSu3KOnCQI",
        "colab_type": "text"
      },
      "source": [
        "# 1)- Importing key modules"
      ]
    },
    {
      "cell_type": "code",
      "metadata": {
        "id": "FF2nsUJ9qkBg",
        "colab_type": "code",
        "colab": {}
      },
      "source": [
        "#support both Python 2 and Python 3 with minimal overhead.\n",
        "from __future__ import absolute_import, division, print_function\n",
        "#ignore warnings\n",
        "import warnings\n",
        "warnings.filterwarnings('ignore')"
      ],
      "execution_count": 0,
      "outputs": []
    },
    {
      "cell_type": "code",
      "metadata": {
        "id": "yA0JOEBGUiJC",
        "colab_type": "code",
        "colab": {}
      },
      "source": [
        "import os\n",
        "import pickle as pkl\n",
        "import re\n",
        "import string"
      ],
      "execution_count": 0,
      "outputs": []
    },
    {
      "cell_type": "code",
      "metadata": {
        "id": "30NKdvP1qnqf",
        "colab_type": "code",
        "colab": {}
      },
      "source": [
        "# for data processing\n",
        "\n",
        "import numpy as np\n",
        "import pandas as pd \n",
        "import tqdm"
      ],
      "execution_count": 0,
      "outputs": []
    },
    {
      "cell_type": "code",
      "metadata": {
        "id": "zVMu2aVwUpas",
        "colab_type": "code",
        "colab": {
          "base_uri": "https://localhost:8080/",
          "height": 118
        },
        "outputId": "f1560a5b-9fe7-48e2-9deb-da96b9d0e896"
      },
      "source": [
        "# for text \n",
        "\n",
        "import nltk\n",
        "import re \n",
        "from nltk import tokenize\n",
        "import nltk\n",
        "from nltk.stem import WordNetLemmatizer\n",
        "\n",
        "nltk.download('stopwords')\n",
        "nltk.download('punkt')\n",
        "nltk.download('wordnet')\n",
        "lemm = WordNetLemmatizer()"
      ],
      "execution_count": 4,
      "outputs": [
        {
          "output_type": "stream",
          "text": [
            "[nltk_data] Downloading package stopwords to /root/nltk_data...\n",
            "[nltk_data]   Package stopwords is already up-to-date!\n",
            "[nltk_data] Downloading package punkt to /root/nltk_data...\n",
            "[nltk_data]   Package punkt is already up-to-date!\n",
            "[nltk_data] Downloading package wordnet to /root/nltk_data...\n",
            "[nltk_data]   Package wordnet is already up-to-date!\n"
          ],
          "name": "stdout"
        }
      ]
    },
    {
      "cell_type": "code",
      "metadata": {
        "id": "a77ZQvmVUmB8",
        "colab_type": "code",
        "colab": {}
      },
      "source": [
        "# for analysis\n",
        "\n",
        "from sklearn.feature_extraction.text import CountVectorizer\n",
        "from sklearn.feature_extraction.text import TfidfTransformer\n",
        "from sklearn.metrics import classification_report\n",
        "from sklearn.metrics import confusion_matrix\n",
        "from sklearn.metrics import precision_recall_curve\n",
        "\n",
        "from sklearn.model_selection import GridSearchCV\n",
        "from sklearn.model_selection import cross_val_score\n",
        "from sklearn.model_selection import train_test_split\n",
        "\n",
        "# For modeling\n",
        "\n",
        "from sklearn import neighbors\n",
        "from sklearn.multiclass import OneVsRestClassifier\n",
        "from sklearn.multiclass import OneVsOneClassifier\n",
        "from sklearn.pipeline import Pipeline\n",
        "from sklearn.preprocessing import MultiLabelBinarizer\n",
        "from sklearn.preprocessing import OneHotEncoder\n",
        "from sklearn.svm import LinearSVC\n",
        "from sklearn.svm import SVC\n",
        "from sklearn.ensemble import RandomForestClassifier\n",
        "from sklearn.metrics import confusion_matrix"
      ],
      "execution_count": 0,
      "outputs": []
    },
    {
      "cell_type": "code",
      "metadata": {
        "id": "Splms9mwUvHa",
        "colab_type": "code",
        "colab": {}
      },
      "source": [
        "# For visuals\n",
        "\n",
        "import matplotlib.pyplot as plt \n",
        "import matplotlib.patches as mpatches\n",
        "import matplotlib.cm as cm\n",
        "from matplotlib.colors import ListedColormap, BoundaryNorm\n",
        "% matplotlib inline \n",
        "pd.set_option('display.max_colwidth', 200)"
      ],
      "execution_count": 0,
      "outputs": []
    },
    {
      "cell_type": "code",
      "metadata": {
        "id": "70c9RUauAGXQ",
        "colab_type": "code",
        "colab": {
          "base_uri": "https://localhost:8080/",
          "height": 34
        },
        "outputId": "d27cf00d-0e16-4213-d935-88fc1f7c9ea1"
      },
      "source": [
        "! pip install version_information"
      ],
      "execution_count": 7,
      "outputs": [
        {
          "output_type": "stream",
          "text": [
            "Requirement already satisfied: version_information in /usr/local/lib/python3.6/dist-packages (1.0.3)\n"
          ],
          "name": "stdout"
        }
      ]
    },
    {
      "cell_type": "code",
      "metadata": {
        "id": "tVbECQoDAG4V",
        "colab_type": "code",
        "colab": {
          "base_uri": "https://localhost:8080/",
          "height": 238
        },
        "outputId": "8e3fdfe9-ce73-4ac3-80a1-aa3ccc9b45ba"
      },
      "source": [
        "# first install: pip install version_information\n",
        "%reload_ext version_information\n",
        "%version_information pandas,numpy,sklearn,nltk, seaborn, matplotlib"
      ],
      "execution_count": 8,
      "outputs": [
        {
          "output_type": "execute_result",
          "data": {
            "text/latex": "\\begin{tabular}{|l|l|}\\hline\n{\\bf Software} & {\\bf Version} \\\\ \\hline\\hline\nPython & 3.6.8 64bit [GCC 8.3.0] \\\\ \\hline\nIPython & 5.5.0 \\\\ \\hline\nOS & Linux 4.14.137+ x86\\_64 with Ubuntu 18.04 bionic \\\\ \\hline\npandas & 0.25.3 \\\\ \\hline\nnumpy & 1.17.4 \\\\ \\hline\nsklearn & 0.21.3 \\\\ \\hline\nnltk & 3.2.5 \\\\ \\hline\nseaborn & 0.9.0 \\\\ \\hline\nmatplotlib & 3.1.1 \\\\ \\hline\n\\hline \\multicolumn{2}{|l|}{Wed Nov 27 15:20:38 2019 UTC} \\\\ \\hline\n\\end{tabular}\n",
            "application/json": {
              "Software versions": [
                {
                  "version": "3.6.8 64bit [GCC 8.3.0]",
                  "module": "Python"
                },
                {
                  "version": "5.5.0",
                  "module": "IPython"
                },
                {
                  "version": "Linux 4.14.137+ x86_64 with Ubuntu 18.04 bionic",
                  "module": "OS"
                },
                {
                  "version": "0.25.3",
                  "module": "pandas"
                },
                {
                  "version": "1.17.4",
                  "module": "numpy"
                },
                {
                  "version": "0.21.3",
                  "module": "sklearn"
                },
                {
                  "version": "3.2.5",
                  "module": "nltk"
                },
                {
                  "version": "0.9.0",
                  "module": "seaborn"
                },
                {
                  "version": "3.1.1",
                  "module": "matplotlib"
                }
              ]
            },
            "text/html": [
              "<table><tr><th>Software</th><th>Version</th></tr><tr><td>Python</td><td>3.6.8 64bit [GCC 8.3.0]</td></tr><tr><td>IPython</td><td>5.5.0</td></tr><tr><td>OS</td><td>Linux 4.14.137+ x86_64 with Ubuntu 18.04 bionic</td></tr><tr><td>pandas</td><td>0.25.3</td></tr><tr><td>numpy</td><td>1.17.4</td></tr><tr><td>sklearn</td><td>0.21.3</td></tr><tr><td>nltk</td><td>3.2.5</td></tr><tr><td>seaborn</td><td>0.9.0</td></tr><tr><td>matplotlib</td><td>3.1.1</td></tr><tr><td colspan='2'>Wed Nov 27 15:20:38 2019 UTC</td></tr></table>"
            ],
            "text/plain": [
              "Software versions\n",
              "Python 3.6.8 64bit [GCC 8.3.0]\n",
              "IPython 5.5.0\n",
              "OS Linux 4.14.137+ x86_64 with Ubuntu 18.04 bionic\n",
              "pandas 0.25.3\n",
              "numpy 1.17.4\n",
              "sklearn 0.21.3\n",
              "nltk 3.2.5\n",
              "seaborn 0.9.0\n",
              "matplotlib 3.1.1\n",
              "Wed Nov 27 15:20:38 2019 UTC"
            ]
          },
          "metadata": {
            "tags": []
          },
          "execution_count": 8
        }
      ]
    },
    {
      "cell_type": "markdown",
      "metadata": {
        "id": "XN_b91atnHye",
        "colab_type": "text"
      },
      "source": [
        "# 2)- Reading Dataset\n",
        "\n",
        "Thanks to PyData 2018: Gilbert Francois Talk"
      ]
    },
    {
      "cell_type": "code",
      "metadata": {
        "id": "r1tTmUvsV-7h",
        "colab_type": "code",
        "colab": {
          "base_uri": "https://localhost:8080/",
          "height": 34
        },
        "outputId": "1fadd0e7-691b-4971-d424-862e64e1d56d"
      },
      "source": [
        "df= pd.read_pickle('messages-cls.pkl')\n",
        "df.shape"
      ],
      "execution_count": 9,
      "outputs": [
        {
          "output_type": "execute_result",
          "data": {
            "text/plain": [
              "(1719, 5)"
            ]
          },
          "metadata": {
            "tags": []
          },
          "execution_count": 9
        }
      ]
    },
    {
      "cell_type": "code",
      "metadata": {
        "id": "vvLhSVTNWKuH",
        "colab_type": "code",
        "colab": {
          "base_uri": "https://localhost:8080/",
          "height": 195
        },
        "outputId": "d4e8e06f-972f-4632-a435-36c8c7d5af49"
      },
      "source": [
        "df.head()"
      ],
      "execution_count": 10,
      "outputs": [
        {
          "output_type": "execute_result",
          "data": {
            "text/html": [
              "<div>\n",
              "<style scoped>\n",
              "    .dataframe tbody tr th:only-of-type {\n",
              "        vertical-align: middle;\n",
              "    }\n",
              "\n",
              "    .dataframe tbody tr th {\n",
              "        vertical-align: top;\n",
              "    }\n",
              "\n",
              "    .dataframe thead th {\n",
              "        text-align: right;\n",
              "    }\n",
              "</style>\n",
              "<table border=\"1\" class=\"dataframe\">\n",
              "  <thead>\n",
              "    <tr style=\"text-align: right;\">\n",
              "      <th></th>\n",
              "      <th>ts</th>\n",
              "      <th>user</th>\n",
              "      <th>text</th>\n",
              "      <th>class</th>\n",
              "      <th>key</th>\n",
              "    </tr>\n",
              "  </thead>\n",
              "  <tbody>\n",
              "    <tr>\n",
              "      <th>0</th>\n",
              "      <td>1.503303e+09</td>\n",
              "      <td>Balaemar</td>\n",
              "      <td>I have to pick up my car from the garage tomorrow. I have to leave at 15:45 on Thursday.</td>\n",
              "      <td>1</td>\n",
              "      <td>1503303350U035FRUCY</td>\n",
              "    </tr>\n",
              "    <tr>\n",
              "      <th>1</th>\n",
              "      <td>1.503302e+09</td>\n",
              "      <td>Ragaenys</td>\n",
              "      <td>I won’t be here tomorrow, one day vacation</td>\n",
              "      <td>2</td>\n",
              "      <td>1503301710U4A2FRAQ4</td>\n",
              "    </tr>\n",
              "    <tr>\n",
              "      <th>2</th>\n",
              "      <td>1.503296e+09</td>\n",
              "      <td>Myke</td>\n",
              "      <td>Missed connection in Zurich. Will be about 5-10 mins late in the office, so will miss the weekly today.</td>\n",
              "      <td>1</td>\n",
              "      <td>1503296123U0MGNKETU</td>\n",
              "    </tr>\n",
              "    <tr>\n",
              "      <th>3</th>\n",
              "      <td>1.503260e+09</td>\n",
              "      <td>Drevyn</td>\n",
              "      <td>Enjoy!</td>\n",
              "      <td>8</td>\n",
              "      <td>1503259722U035B8PRU</td>\n",
              "    </tr>\n",
              "    <tr>\n",
              "      <th>4</th>\n",
              "      <td>1.503258e+09</td>\n",
              "      <td>Gaelralis</td>\n",
              "      <td>I am away for 2 weeks in iceland :flag-is:</td>\n",
              "      <td>2</td>\n",
              "      <td>1503258060U0HLAK1T6</td>\n",
              "    </tr>\n",
              "  </tbody>\n",
              "</table>\n",
              "</div>"
            ],
            "text/plain": [
              "             ts       user  ... class                  key\n",
              "0  1.503303e+09   Balaemar  ...     1  1503303350U035FRUCY\n",
              "1  1.503302e+09   Ragaenys  ...     2  1503301710U4A2FRAQ4\n",
              "2  1.503296e+09       Myke  ...     1  1503296123U0MGNKETU\n",
              "3  1.503260e+09     Drevyn  ...     8  1503259722U035B8PRU\n",
              "4  1.503258e+09  Gaelralis  ...     2  1503258060U0HLAK1T6\n",
              "\n",
              "[5 rows x 5 columns]"
            ]
          },
          "metadata": {
            "tags": []
          },
          "execution_count": 10
        }
      ]
    },
    {
      "cell_type": "code",
      "metadata": {
        "id": "Goy-74Z7WgKP",
        "colab_type": "code",
        "colab": {
          "base_uri": "https://localhost:8080/",
          "height": 195
        },
        "outputId": "29cdb9cc-22de-42ba-dc0b-09f31ecfc151"
      },
      "source": [
        "df.tail()"
      ],
      "execution_count": 11,
      "outputs": [
        {
          "output_type": "execute_result",
          "data": {
            "text/html": [
              "<div>\n",
              "<style scoped>\n",
              "    .dataframe tbody tr th:only-of-type {\n",
              "        vertical-align: middle;\n",
              "    }\n",
              "\n",
              "    .dataframe tbody tr th {\n",
              "        vertical-align: top;\n",
              "    }\n",
              "\n",
              "    .dataframe thead th {\n",
              "        text-align: right;\n",
              "    }\n",
              "</style>\n",
              "<table border=\"1\" class=\"dataframe\">\n",
              "  <thead>\n",
              "    <tr style=\"text-align: right;\">\n",
              "      <th></th>\n",
              "      <th>ts</th>\n",
              "      <th>user</th>\n",
              "      <th>text</th>\n",
              "      <th>class</th>\n",
              "      <th>key</th>\n",
              "    </tr>\n",
              "  </thead>\n",
              "  <tbody>\n",
              "    <tr>\n",
              "      <th>1717</th>\n",
              "      <td>1.462269e+09</td>\n",
              "      <td>Overton</td>\n",
              "      <td>&lt;@U0PSDKXHR|jabbah&gt; has joined the channel</td>\n",
              "      <td>8</td>\n",
              "      <td>1462269461U0PSDKXHR</td>\n",
              "    </tr>\n",
              "    <tr>\n",
              "      <th>1718</th>\n",
              "      <td>1.462269e+09</td>\n",
              "      <td>Balaemar</td>\n",
              "      <td>&lt;@U035FRUCY|miamia&gt; has joined the channel</td>\n",
              "      <td>8</td>\n",
              "      <td>1462269461U035FRUCY</td>\n",
              "    </tr>\n",
              "    <tr>\n",
              "      <th>1719</th>\n",
              "      <td>1.462269e+09</td>\n",
              "      <td>Eliar</td>\n",
              "      <td>&lt;@U0A8NPHRD|joe&gt; has joined the channel</td>\n",
              "      <td>8</td>\n",
              "      <td>1462269366U0A8NPHRD</td>\n",
              "    </tr>\n",
              "    <tr>\n",
              "      <th>1720</th>\n",
              "      <td>1.462268e+09</td>\n",
              "      <td>Caenraenos</td>\n",
              "      <td>&lt;@U035AASB8|Fisher&gt; set the channel topic: home office, lateness, general absence updates</td>\n",
              "      <td>8</td>\n",
              "      <td>1462267520U035AASB8</td>\n",
              "    </tr>\n",
              "    <tr>\n",
              "      <th>1721</th>\n",
              "      <td>1.462267e+09</td>\n",
              "      <td>Caenraenos</td>\n",
              "      <td>&lt;@U035AASB8|Fisher&gt; has joined the channel</td>\n",
              "      <td>8</td>\n",
              "      <td>1462267404U035AASB8</td>\n",
              "    </tr>\n",
              "  </tbody>\n",
              "</table>\n",
              "</div>"
            ],
            "text/plain": [
              "                ts        user  ... class                  key\n",
              "1717  1.462269e+09     Overton  ...     8  1462269461U0PSDKXHR\n",
              "1718  1.462269e+09    Balaemar  ...     8  1462269461U035FRUCY\n",
              "1719  1.462269e+09       Eliar  ...     8  1462269366U0A8NPHRD\n",
              "1720  1.462268e+09  Caenraenos  ...     8  1462267520U035AASB8\n",
              "1721  1.462267e+09  Caenraenos  ...     8  1462267404U035AASB8\n",
              "\n",
              "[5 rows x 5 columns]"
            ]
          },
          "metadata": {
            "tags": []
          },
          "execution_count": 11
        }
      ]
    },
    {
      "cell_type": "code",
      "metadata": {
        "id": "W-ri1bp8_Z9g",
        "colab_type": "code",
        "colab": {
          "base_uri": "https://localhost:8080/",
          "height": 34
        },
        "outputId": "81f7fae4-1b12-4415-afe8-6bc6179784c9"
      },
      "source": [
        "df['class'].unique()"
      ],
      "execution_count": 12,
      "outputs": [
        {
          "output_type": "execute_result",
          "data": {
            "text/plain": [
              "array([1, 2, 8, 3, 6, 4, 5, 7])"
            ]
          },
          "metadata": {
            "tags": []
          },
          "execution_count": 12
        }
      ]
    },
    {
      "cell_type": "markdown",
      "metadata": {
        "id": "zpES5c2A_2zz",
        "colab_type": "text"
      },
      "source": [
        "# Class\tDescription\n",
        "- 1\tToo late, away during office hours or early leave\n",
        "- 2\tHolidays or scheduled free days\n",
        "- 3\tHome Office\n",
        " -4\tMedical appointment\n",
        "- 5\tIll, without consulting a medical\n",
        "- 6\tWork related absence (at client, conference)\n",
        "- 7\tIn office announcement\n",
        "- 8\tMiscellanious"
      ]
    },
    {
      "cell_type": "code",
      "metadata": {
        "id": "JLIildKxV3nW",
        "colab_type": "code",
        "colab": {}
      },
      "source": [
        "dict_classes = {\n",
        "    1: 'late/early',\n",
        "    2: 'holidays',\n",
        "    3: 'home office',\n",
        "    4: 'med app',\n",
        "    5: 'ill',\n",
        "    6: 'business',\n",
        "    7: 'in office',\n",
        "    8: 'miscellanious'\n",
        "}"
      ],
      "execution_count": 0,
      "outputs": []
    },
    {
      "cell_type": "code",
      "metadata": {
        "id": "JRp5GL7x_WY4",
        "colab_type": "code",
        "colab": {
          "base_uri": "https://localhost:8080/",
          "height": 168
        },
        "outputId": "baedbac9-6f4b-45d9-a9ab-8fbe481672b4"
      },
      "source": [
        "df['class'].value_counts()"
      ],
      "execution_count": 14,
      "outputs": [
        {
          "output_type": "execute_result",
          "data": {
            "text/plain": [
              "1    517\n",
              "3    423\n",
              "8    223\n",
              "2    173\n",
              "6    142\n",
              "4    134\n",
              "5     74\n",
              "7     33\n",
              "Name: class, dtype: int64"
            ]
          },
          "metadata": {
            "tags": []
          },
          "execution_count": 14
        }
      ]
    },
    {
      "cell_type": "code",
      "metadata": {
        "id": "8G3Xmy6hWVtY",
        "colab_type": "code",
        "colab": {
          "base_uri": "https://localhost:8080/",
          "height": 118
        },
        "outputId": "0e04cd0e-ad7d-4c71-e30b-508f9b5736d6"
      },
      "source": [
        "df.isnull().sum()"
      ],
      "execution_count": 15,
      "outputs": [
        {
          "output_type": "execute_result",
          "data": {
            "text/plain": [
              "ts       0\n",
              "user     0\n",
              "text     0\n",
              "class    0\n",
              "key      0\n",
              "dtype: int64"
            ]
          },
          "metadata": {
            "tags": []
          },
          "execution_count": 15
        }
      ]
    },
    {
      "cell_type": "markdown",
      "metadata": {
        "id": "lgfioWuX8Ucb",
        "colab_type": "text"
      },
      "source": [
        "# 3)- Making Helper Functions"
      ]
    },
    {
      "cell_type": "code",
      "metadata": {
        "id": "oVwCVUjl8YKy",
        "colab_type": "code",
        "colab": {}
      },
      "source": [
        "stemmer = nltk.PorterStemmer()\n",
        "analyzer = CountVectorizer().build_analyzer()\n",
        "\n",
        "def lemma(doc):\n",
        "    return [lemm.lemmatize(w) for w in analyzer(doc)]\n",
        "\n",
        "\n",
        "def no_lemma(doc):\n",
        "    return [w for w in analyzer(doc)]\n",
        "\n",
        "\n",
        "def stemmed(doc):\n",
        "    return [stemmer.stem(w) for w in analyzer(doc)]\n",
        "\n",
        "\n",
        "def no_stemmed(doc):\n",
        "    return [w for w in analyzer(doc)]\n",
        "\n",
        "\n",
        "def mask_integers(s):\n",
        "    return re.sub(r'\\d+', '_INT', s)\n",
        "\n",
        "\n",
        "def mask_times(text):\n",
        "    \"\"\"\n",
        "    Replaces times written like 12:50, 1PM, 4:15am, etc to _time token.\n",
        "    :param    text    Input text\n",
        "    :return           Output text with replaced times.\n",
        "    \"\"\"\n",
        "    re_time1 = '\\d{1,2}[:.]\\d{2}(?:am|pm|AM|PM)'\n",
        "    re_time2 = '\\d{1,2}[:.]\\d{2}'\n",
        "    re_time3 = '\\d{1,2}(?:am|pm|AM|PM)'\n",
        "    rec_time = re.compile(re_time1 + '|' + re_time2 + '|' + re_time3)\n",
        "    return re.sub(rec_time, '_TIME', text)\n",
        "\n",
        "\n",
        "def mask_emojis(text):\n",
        "    \"\"\"\n",
        "    Replaces all different emojis to _emoji token.\n",
        "    :param    text    Input text\n",
        "    :return           Output text with replaced emojis.    \n",
        "    \"\"\"\n",
        "    re_icons = ':[a-z-_]*:'\n",
        "    re_ldsd = '\\<(.*?)\\>'\n",
        "    rec_icons = re.compile(re_icons + \"|\" + re_ldsd)\n",
        "    return re.sub(rec_icons, '_EMOJI', text)\n",
        "\n",
        "\n",
        "def mask_all(text):\n",
        "    text = mask_times(text)\n",
        "    text = mask_emojis(text)\n",
        "    text = mask_integers(text)\n",
        "    return text\n",
        "\n",
        "\n",
        "def train_and_test(steps, X_train, X_test, y_train, y_test):\n",
        "    \"\"\"\n",
        "    Trains and tests the pipeline with the given steps. \n",
        "    :param steps:       List of operations inside the pipeline.\n",
        "    :param X_train:     Training data\n",
        "    :param X_test:      Training labels\n",
        "    :param y_train:     Testing data\n",
        "    :param y_test:      Testing labels\n",
        "    :return:            Trained model\n",
        "    \"\"\"\n",
        "    pipeline = Pipeline(steps)\n",
        "    folds = 5\n",
        "    xval_score = cross_val_score(pipeline, X_train, y_train, cv=folds, n_jobs=-1)\n",
        "    \n",
        "    xv_min = np.min(xval_score)\n",
        "    xv_max = np.max(xval_score)\n",
        "    xv_mean = np.mean(xval_score)\n",
        "    xv_std = np.std(xval_score)\n",
        "    print('{} fold Cross Validation Score: <{:.2f}, {:.2f}>; µ={:.2f}'.format(folds, xv_min, xv_max, xv_mean))\n",
        "    pipeline = pipeline.fit(X_train, y_train)\n",
        "    print('Score on test set: {:.2f}'.format(pipeline.score(X_test, y_test)))\n",
        "    return pipeline\n",
        "\n",
        "\n",
        "def tag_message(pipeline, message):\n",
        "    y_pred = pipeline.predict([message])[0]\n",
        "    print('{:>20} | {}'.format(dict_classes[y_pred], message))"
      ],
      "execution_count": 0,
      "outputs": []
    },
    {
      "cell_type": "markdown",
      "metadata": {
        "id": "_wAe8DCzAYQv",
        "colab_type": "text"
      },
      "source": [
        "# 4)- Data Preprocessing"
      ]
    },
    {
      "cell_type": "code",
      "metadata": {
        "id": "dR3Lh6HGXLan",
        "colab_type": "code",
        "colab": {
          "base_uri": "https://localhost:8080/",
          "height": 34
        },
        "outputId": "6c4e65e1-f71e-45f7-9e43-1daeea1fde82"
      },
      "source": [
        "# Remove all rows which have no annotation\n",
        "samples = df.dropna()\n",
        "\n",
        "# Convert the classification column to unsigned int, in case it is stored as string\n",
        "samples['class'] = samples.loc[:, 'class'].astype(np.uint8).values\n",
        "\n",
        "X = samples['text']\n",
        "y = samples['class']\n",
        "\n",
        "print('[.] Number of training samples: {}'.format(len(X)))"
      ],
      "execution_count": 17,
      "outputs": [
        {
          "output_type": "stream",
          "text": [
            "[.] Number of training samples: 1719\n"
          ],
          "name": "stdout"
        }
      ]
    },
    {
      "cell_type": "code",
      "metadata": {
        "id": "W2AFgSg9AeCH",
        "colab_type": "code",
        "colab": {
          "base_uri": "https://localhost:8080/",
          "height": 34
        },
        "outputId": "a3a49035-e298-40a2-d25b-07c3181d6905"
      },
      "source": [
        "samples.shape"
      ],
      "execution_count": 18,
      "outputs": [
        {
          "output_type": "execute_result",
          "data": {
            "text/plain": [
              "(1719, 5)"
            ]
          },
          "metadata": {
            "tags": []
          },
          "execution_count": 18
        }
      ]
    },
    {
      "cell_type": "markdown",
      "metadata": {
        "id": "P7C3UPFdAnvp",
        "colab_type": "text"
      },
      "source": [
        "### 4a)- Train-Test Split"
      ]
    },
    {
      "cell_type": "code",
      "metadata": {
        "id": "wxaXSteWYnd8",
        "colab_type": "code",
        "colab": {}
      },
      "source": [
        "X_train, X_test, y_train, y_test = train_test_split(X, y, test_size=0.20, random_state=1)"
      ],
      "execution_count": 0,
      "outputs": []
    },
    {
      "cell_type": "code",
      "metadata": {
        "id": "xqBcIolHAsY3",
        "colab_type": "code",
        "colab": {
          "base_uri": "https://localhost:8080/",
          "height": 84
        },
        "outputId": "ee455f03-33a4-48ab-b235-0b96917d0d86"
      },
      "source": [
        "print(X_train.shape)\n",
        "print(X_test.shape)\n",
        "print(y_train.shape)\n",
        "print(y_test.shape)"
      ],
      "execution_count": 20,
      "outputs": [
        {
          "output_type": "stream",
          "text": [
            "(1375,)\n",
            "(344,)\n",
            "(1375,)\n",
            "(344,)\n"
          ],
          "name": "stdout"
        }
      ]
    },
    {
      "cell_type": "markdown",
      "metadata": {
        "id": "GFncF0AKA1eX",
        "colab_type": "text"
      },
      "source": [
        "# 5)- Buidling NLP pipeline\n",
        "\n",
        "https://buhrmann.github.io/sklearn-pipelines.html"
      ]
    },
    {
      "cell_type": "code",
      "metadata": {
        "id": "QjbM7AiOYqxc",
        "colab_type": "code",
        "colab": {
          "base_uri": "https://localhost:8080/",
          "height": 50
        },
        "outputId": "d7bdaa00-1289-4f0d-9d79-1a6a80128de3"
      },
      "source": [
        "steps = [('vectorizer', CountVectorizer()),\n",
        "         ('classifier', LinearSVC(random_state=1))]\n",
        "pipeline1 = train_and_test(steps, X_train, X_test, y_train, y_test) # steps we defined as 5 for saving computing"
      ],
      "execution_count": 21,
      "outputs": [
        {
          "output_type": "stream",
          "text": [
            "5 fold Cross Validation Score: <0.78, 0.83>; µ=0.81\n",
            "Score on test set: 0.82\n"
          ],
          "name": "stdout"
        }
      ]
    },
    {
      "cell_type": "markdown",
      "metadata": {
        "id": "FKAINnalBOZH",
        "colab_type": "text"
      },
      "source": [
        "A very basic NLP Pipeline with model SVC and count vectorizer gives pretty good results. Let's see if we could get any better of it. "
      ]
    },
    {
      "cell_type": "markdown",
      "metadata": {
        "id": "-BluvvtiBqL2",
        "colab_type": "text"
      },
      "source": [
        "### 5a)- predict results"
      ]
    },
    {
      "cell_type": "code",
      "metadata": {
        "id": "Xp3SwtsmYs-K",
        "colab_type": "code",
        "colab": {
          "base_uri": "https://localhost:8080/",
          "height": 34
        },
        "outputId": "9329d878-7d9e-456f-ecc6-1f4bd4007808"
      },
      "source": [
        "y_pred = pipeline1.predict(X_test)\n",
        "y_pred[:5]"
      ],
      "execution_count": 22,
      "outputs": [
        {
          "output_type": "execute_result",
          "data": {
            "text/plain": [
              "array([3, 3, 1, 1, 2], dtype=uint8)"
            ]
          },
          "metadata": {
            "tags": []
          },
          "execution_count": 22
        }
      ]
    },
    {
      "cell_type": "code",
      "metadata": {
        "id": "aBvo3_L4FdGH",
        "colab_type": "code",
        "colab": {
          "base_uri": "https://localhost:8080/",
          "height": 34
        },
        "outputId": "1b53ffe3-76ca-4571-bb2e-6992bd131af2"
      },
      "source": [
        "# check accuracy\n",
        "from sklearn.metrics import accuracy_score\n",
        "accuracy=accuracy_score(y_pred=y_pred, y_true=y_test)\n",
        "accuracy"
      ],
      "execution_count": 23,
      "outputs": [
        {
          "output_type": "execute_result",
          "data": {
            "text/plain": [
              "0.8197674418604651"
            ]
          },
          "metadata": {
            "tags": []
          },
          "execution_count": 23
        }
      ]
    },
    {
      "cell_type": "markdown",
      "metadata": {
        "id": "syQwe2BfB2_n",
        "colab_type": "text"
      },
      "source": [
        "### 5b)- Confusion Matrix"
      ]
    },
    {
      "cell_type": "code",
      "metadata": {
        "id": "FC3sK3M7Bxhf",
        "colab_type": "code",
        "colab": {
          "base_uri": "https://localhost:8080/",
          "height": 151
        },
        "outputId": "ea669121-9857-4673-be7b-ef32b507c6bb"
      },
      "source": [
        "cm = confusion_matrix(y_pred=y_pred, y_true=y_test)\n",
        "cm"
      ],
      "execution_count": 24,
      "outputs": [
        {
          "output_type": "execute_result",
          "data": {
            "text/plain": [
              "array([[89,  0,  4,  3,  0,  1,  1,  2],\n",
              "       [ 5, 28,  1,  0,  0,  0,  1,  0],\n",
              "       [ 6,  3, 79,  2,  1,  1,  2,  1],\n",
              "       [ 3,  0,  3, 18,  1,  1,  0,  0],\n",
              "       [ 1,  2,  2,  0,  6,  0,  0,  0],\n",
              "       [ 1,  2,  1,  0,  0, 25,  1,  0],\n",
              "       [ 4,  0,  0,  0,  0,  0,  1,  1],\n",
              "       [ 2,  0,  2,  0,  0,  0,  1, 36]])"
            ]
          },
          "metadata": {
            "tags": []
          },
          "execution_count": 24
        }
      ]
    },
    {
      "cell_type": "code",
      "metadata": {
        "id": "xCiwD-u3CPru",
        "colab_type": "code",
        "colab": {
          "base_uri": "https://localhost:8080/",
          "height": 218
        },
        "outputId": "d9549b0c-3cc3-4f36-d349-3ad39c6f872c"
      },
      "source": [
        "! pip install scikit-plot"
      ],
      "execution_count": 25,
      "outputs": [
        {
          "output_type": "stream",
          "text": [
            "Requirement already satisfied: scikit-plot in /usr/local/lib/python3.6/dist-packages (0.3.7)\n",
            "Requirement already satisfied: scipy>=0.9 in /usr/local/lib/python3.6/dist-packages (from scikit-plot) (1.3.2)\n",
            "Requirement already satisfied: scikit-learn>=0.18 in /usr/local/lib/python3.6/dist-packages (from scikit-plot) (0.21.3)\n",
            "Requirement already satisfied: matplotlib>=1.4.0 in /usr/local/lib/python3.6/dist-packages (from scikit-plot) (3.1.1)\n",
            "Requirement already satisfied: joblib>=0.10 in /usr/local/lib/python3.6/dist-packages (from scikit-plot) (0.14.0)\n",
            "Requirement already satisfied: numpy>=1.13.3 in /usr/local/lib/python3.6/dist-packages (from scipy>=0.9->scikit-plot) (1.17.4)\n",
            "Requirement already satisfied: python-dateutil>=2.1 in /usr/local/lib/python3.6/dist-packages (from matplotlib>=1.4.0->scikit-plot) (2.6.1)\n",
            "Requirement already satisfied: cycler>=0.10 in /usr/local/lib/python3.6/dist-packages (from matplotlib>=1.4.0->scikit-plot) (0.10.0)\n",
            "Requirement already satisfied: pyparsing!=2.0.4,!=2.1.2,!=2.1.6,>=2.0.1 in /usr/local/lib/python3.6/dist-packages (from matplotlib>=1.4.0->scikit-plot) (2.4.5)\n",
            "Requirement already satisfied: kiwisolver>=1.0.1 in /usr/local/lib/python3.6/dist-packages (from matplotlib>=1.4.0->scikit-plot) (1.1.0)\n",
            "Requirement already satisfied: six>=1.5 in /usr/local/lib/python3.6/dist-packages (from python-dateutil>=2.1->matplotlib>=1.4.0->scikit-plot) (1.12.0)\n",
            "Requirement already satisfied: setuptools in /usr/local/lib/python3.6/dist-packages (from kiwisolver>=1.0.1->matplotlib>=1.4.0->scikit-plot) (41.6.0)\n"
          ],
          "name": "stdout"
        }
      ]
    },
    {
      "cell_type": "code",
      "metadata": {
        "id": "kiwBuEoKCIaf",
        "colab_type": "code",
        "colab": {
          "base_uri": "https://localhost:8080/",
          "height": 312
        },
        "outputId": "9871955b-c53f-4bc6-a8cb-c0952f3930cb"
      },
      "source": [
        "import scikitplot as skplt\n",
        "plt.figure()\n",
        "skplt.metrics.plot_confusion_matrix(y_pred=y_pred, y_true=y_test)\n",
        "plt.show()"
      ],
      "execution_count": 26,
      "outputs": [
        {
          "output_type": "display_data",
          "data": {
            "text/plain": [
              "<Figure size 432x288 with 0 Axes>"
            ]
          },
          "metadata": {
            "tags": []
          }
        },
        {
          "output_type": "display_data",
          "data": {
            "image/png": "[encoded data removed]",
            "text/plain": [
              "<Figure size 432x288 with 2 Axes>"
            ]
          },
          "metadata": {
            "tags": []
          }
        }
      ]
    },
    {
      "cell_type": "code",
      "metadata": {
        "id": "xoworEVNCCB4",
        "colab_type": "code",
        "colab": {
          "base_uri": "https://localhost:8080/",
          "height": 312
        },
        "outputId": "fc8e6c92-f2bb-4b82-d998-e9a14b6c390a"
      },
      "source": [
        "skplt.metrics.plot_confusion_matrix(y_pred=y_pred, y_true=y_test, normalize=True)"
      ],
      "execution_count": 27,
      "outputs": [
        {
          "output_type": "execute_result",
          "data": {
            "text/plain": [
              "<matplotlib.axes._subplots.AxesSubplot at 0x7fa63b7e6e80>"
            ]
          },
          "metadata": {
            "tags": []
          },
          "execution_count": 27
        },
        {
          "output_type": "display_data",
          "data": {
            "image/png": "[encoded data removed]",
            "text/plain": [
              "<Figure size 432x288 with 2 Axes>"
            ]
          },
          "metadata": {
            "tags": []
          }
        }
      ]
    },
    {
      "cell_type": "markdown",
      "metadata": {
        "id": "yZ3p8e4dD2S9",
        "colab_type": "text"
      },
      "source": [
        "### 5c)- Classification Report"
      ]
    },
    {
      "cell_type": "code",
      "metadata": {
        "id": "kdNCTiCyDkDM",
        "colab_type": "code",
        "colab": {
          "base_uri": "https://localhost:8080/",
          "height": 269
        },
        "outputId": "7b00907e-15ca-49f4-d0d7-9ce438161d39"
      },
      "source": [
        "from sklearn.metrics import classification_report\n",
        "report = classification_report(y_pred=y_pred, y_true=y_test)\n",
        "print(report)"
      ],
      "execution_count": 28,
      "outputs": [
        {
          "output_type": "stream",
          "text": [
            "              precision    recall  f1-score   support\n",
            "\n",
            "           1       0.80      0.89      0.84       100\n",
            "           2       0.80      0.80      0.80        35\n",
            "           3       0.86      0.83      0.84        95\n",
            "           4       0.78      0.69      0.73        26\n",
            "           5       0.75      0.55      0.63        11\n",
            "           6       0.89      0.83      0.86        30\n",
            "           7       0.14      0.17      0.15         6\n",
            "           8       0.90      0.88      0.89        41\n",
            "\n",
            "    accuracy                           0.82       344\n",
            "   macro avg       0.74      0.70      0.72       344\n",
            "weighted avg       0.82      0.82      0.82       344\n",
            "\n"
          ],
          "name": "stdout"
        }
      ]
    },
    {
      "cell_type": "markdown",
      "metadata": {
        "id": "r3mn4rIeD45O",
        "colab_type": "text"
      },
      "source": [
        "### 5d)- Checking params"
      ]
    },
    {
      "cell_type": "code",
      "metadata": {
        "id": "PpSHv4gHD-I8",
        "colab_type": "code",
        "colab": {
          "base_uri": "https://localhost:8080/",
          "height": 907
        },
        "outputId": "df1454b7-fae8-439a-e314-a047cf48a4cd"
      },
      "source": [
        "pipeline1.get_params()"
      ],
      "execution_count": 29,
      "outputs": [
        {
          "output_type": "execute_result",
          "data": {
            "text/plain": [
              "{'classifier': LinearSVC(C=1.0, class_weight=None, dual=True, fit_intercept=True,\n",
              "           intercept_scaling=1, loss='squared_hinge', max_iter=1000,\n",
              "           multi_class='ovr', penalty='l2', random_state=1, tol=0.0001,\n",
              "           verbose=0),\n",
              " 'classifier__C': 1.0,\n",
              " 'classifier__class_weight': None,\n",
              " 'classifier__dual': True,\n",
              " 'classifier__fit_intercept': True,\n",
              " 'classifier__intercept_scaling': 1,\n",
              " 'classifier__loss': 'squared_hinge',\n",
              " 'classifier__max_iter': 1000,\n",
              " 'classifier__multi_class': 'ovr',\n",
              " 'classifier__penalty': 'l2',\n",
              " 'classifier__random_state': 1,\n",
              " 'classifier__tol': 0.0001,\n",
              " 'classifier__verbose': 0,\n",
              " 'memory': None,\n",
              " 'steps': [('vectorizer',\n",
              "   CountVectorizer(analyzer='word', binary=False, decode_error='strict',\n",
              "                   dtype=<class 'numpy.int64'>, encoding='utf-8', input='content',\n",
              "                   lowercase=True, max_df=1.0, max_features=None, min_df=1,\n",
              "                   ngram_range=(1, 1), preprocessor=None, stop_words=None,\n",
              "                   strip_accents=None, token_pattern='(?u)\\\\b\\\\w\\\\w+\\\\b',\n",
              "                   tokenizer=None, vocabulary=None)),\n",
              "  ('classifier',\n",
              "   LinearSVC(C=1.0, class_weight=None, dual=True, fit_intercept=True,\n",
              "             intercept_scaling=1, loss='squared_hinge', max_iter=1000,\n",
              "             multi_class='ovr', penalty='l2', random_state=1, tol=0.0001,\n",
              "             verbose=0))],\n",
              " 'vectorizer': CountVectorizer(analyzer='word', binary=False, decode_error='strict',\n",
              "                 dtype=<class 'numpy.int64'>, encoding='utf-8', input='content',\n",
              "                 lowercase=True, max_df=1.0, max_features=None, min_df=1,\n",
              "                 ngram_range=(1, 1), preprocessor=None, stop_words=None,\n",
              "                 strip_accents=None, token_pattern='(?u)\\\\b\\\\w\\\\w+\\\\b',\n",
              "                 tokenizer=None, vocabulary=None),\n",
              " 'vectorizer__analyzer': 'word',\n",
              " 'vectorizer__binary': False,\n",
              " 'vectorizer__decode_error': 'strict',\n",
              " 'vectorizer__dtype': numpy.int64,\n",
              " 'vectorizer__encoding': 'utf-8',\n",
              " 'vectorizer__input': 'content',\n",
              " 'vectorizer__lowercase': True,\n",
              " 'vectorizer__max_df': 1.0,\n",
              " 'vectorizer__max_features': None,\n",
              " 'vectorizer__min_df': 1,\n",
              " 'vectorizer__ngram_range': (1, 1),\n",
              " 'vectorizer__preprocessor': None,\n",
              " 'vectorizer__stop_words': None,\n",
              " 'vectorizer__strip_accents': None,\n",
              " 'vectorizer__token_pattern': '(?u)\\\\b\\\\w\\\\w+\\\\b',\n",
              " 'vectorizer__tokenizer': None,\n",
              " 'vectorizer__vocabulary': None,\n",
              " 'verbose': False}"
            ]
          },
          "metadata": {
            "tags": []
          },
          "execution_count": 29
        }
      ]
    },
    {
      "cell_type": "markdown",
      "metadata": {
        "id": "EaodgpQvEFYM",
        "colab_type": "text"
      },
      "source": [
        "All objects in the pipeline are stored in a dictonary"
      ]
    },
    {
      "cell_type": "code",
      "metadata": {
        "id": "ywTaWhxREAGA",
        "colab_type": "code",
        "colab": {
          "base_uri": "https://localhost:8080/",
          "height": 34
        },
        "outputId": "2437c107-b5b7-4c19-fb26-0ecfd8928244"
      },
      "source": [
        "# suppose if we want to transform only a document to a vector\n",
        "vectorizer = pipeline1.get_params()['vectorizer']\n",
        "vectorizer.transform(['A new document']).toarray()"
      ],
      "execution_count": 30,
      "outputs": [
        {
          "output_type": "execute_result",
          "data": {
            "text/plain": [
              "array([[0, 0, 0, ..., 0, 0, 0]])"
            ]
          },
          "metadata": {
            "tags": []
          },
          "execution_count": 30
        }
      ]
    },
    {
      "cell_type": "markdown",
      "metadata": {
        "id": "3PiKnENyMQTR",
        "colab_type": "text"
      },
      "source": [
        "### 5e)- Check out of sample data"
      ]
    },
    {
      "cell_type": "code",
      "metadata": {
        "id": "EiFjrktRMRfz",
        "colab_type": "code",
        "colab": {
          "base_uri": "https://localhost:8080/",
          "height": 168
        },
        "outputId": "3b59acee-94b0-4d62-d31a-04c1caf50bcd"
      },
      "source": [
        "pipeline = pipeline1\n",
        "\n",
        "tag_message(pipeline, 'My alarm clock was not set properly. I come to the office asap.')\n",
        "tag_message(pipeline, 'It is my scheduled day off, see you on Tuesday.')\n",
        "tag_message(pipeline, 'Not feeling well today, I stay home and work from here.')\n",
        "tag_message(pipeline, 'I work at home on Tuesday.')\n",
        "tag_message(pipeline, 'This morning I have a meeting at SPS.')\n",
        "tag_message(pipeline, 'I\\'m off, see you tomorrow.')\n",
        "tag_message(pipeline, 'get well soon!')\n",
        "tag_message(pipeline, 'I\\'m away for a long lunch between 12:00 and 15:30')\n",
        "tag_message(pipeline, 'I\\'ve an appointment at 12:00 at the physiotherapy.')"
      ],
      "execution_count": 31,
      "outputs": [
        {
          "output_type": "stream",
          "text": [
            "          late/early | My alarm clock was not set properly. I come to the office asap.\n",
            "            holidays | It is my scheduled day off, see you on Tuesday.\n",
            "                 ill | Not feeling well today, I stay home and work from here.\n",
            "         home office | I work at home on Tuesday.\n",
            "            business | This morning I have a meeting at SPS.\n",
            "            holidays | I'm off, see you tomorrow.\n",
            "       miscellanious | get well soon!\n",
            "          late/early | I'm away for a long lunch between 12:00 and 15:30\n",
            "             med app | I've an appointment at 12:00 at the physiotherapy.\n"
          ],
          "name": "stdout"
        }
      ]
    },
    {
      "cell_type": "markdown",
      "metadata": {
        "id": "RQvLKxHoE2L0",
        "colab_type": "text"
      },
      "source": [
        "# 6)- Building more pipelines\n",
        "\n",
        "To improve results"
      ]
    },
    {
      "cell_type": "markdown",
      "metadata": {
        "id": "ZI5rEnCuE8Pc",
        "colab_type": "text"
      },
      "source": [
        "### Add TF-IDF transformer "
      ]
    },
    {
      "cell_type": "code",
      "metadata": {
        "id": "7lp8J9PJF6XD",
        "colab_type": "code",
        "colab": {
          "base_uri": "https://localhost:8080/",
          "height": 50
        },
        "outputId": "15098335-719a-4d9d-ee86-ccd2a03b0645"
      },
      "source": [
        "steps = [('vectorizer', CountVectorizer()),\n",
        "         ('tfidf', TfidfTransformer()),\n",
        "         ('classifier', LinearSVC(random_state=1))]\n",
        "pipeline2 = train_and_test(steps, X_train, X_test, y_train, y_test)"
      ],
      "execution_count": 32,
      "outputs": [
        {
          "output_type": "stream",
          "text": [
            "5 fold Cross Validation Score: <0.83, 0.85>; µ=0.83\n",
            "Score on test set: 0.84\n"
          ],
          "name": "stdout"
        }
      ]
    },
    {
      "cell_type": "markdown",
      "metadata": {
        "id": "DRZNu4XAGIK1",
        "colab_type": "text"
      },
      "source": [
        "### Add lemmatization"
      ]
    },
    {
      "cell_type": "code",
      "metadata": {
        "id": "n3ye1S1RF6aB",
        "colab_type": "code",
        "colab": {
          "base_uri": "https://localhost:8080/",
          "height": 50
        },
        "outputId": "d13b1b89-69b6-41a0-fcb6-f580da4e69f2"
      },
      "source": [
        "steps = [('vectorizer', CountVectorizer(analyzer=lemma)),\n",
        "         ('tfidf', TfidfTransformer()),\n",
        "         ('classifier', LinearSVC(random_state=1))]\n",
        "pipeline3 = train_and_test(steps, X_train, X_test, y_train, y_test)"
      ],
      "execution_count": 33,
      "outputs": [
        {
          "output_type": "stream",
          "text": [
            "5 fold Cross Validation Score: <0.82, 0.84>; µ=0.83\n",
            "Score on test set: 0.84\n"
          ],
          "name": "stdout"
        }
      ]
    },
    {
      "cell_type": "markdown",
      "metadata": {
        "id": "jq58DciMGrS1",
        "colab_type": "text"
      },
      "source": [
        "### Check lemmatization vs stemming"
      ]
    },
    {
      "cell_type": "code",
      "metadata": {
        "id": "-xZdLTGEGquM",
        "colab_type": "code",
        "colab": {
          "base_uri": "https://localhost:8080/",
          "height": 50
        },
        "outputId": "82a55173-653a-4128-825b-621355edbf0e"
      },
      "source": [
        "steps = [('vectorizer', CountVectorizer(analyzer=stemmed)),\n",
        "         ('tfidf', TfidfTransformer()),\n",
        "         ('classifier', LinearSVC(random_state=1))]\n",
        "pipeline3 = train_and_test(steps, X_train, X_test, y_train, y_test)"
      ],
      "execution_count": 34,
      "outputs": [
        {
          "output_type": "stream",
          "text": [
            "5 fold Cross Validation Score: <0.82, 0.86>; µ=0.84\n",
            "Score on test set: 0.85\n"
          ],
          "name": "stdout"
        }
      ]
    },
    {
      "cell_type": "markdown",
      "metadata": {
        "id": "-B01-v0wG7p7",
        "colab_type": "text"
      },
      "source": [
        "Though I prefer lemmatization more but, stemming is actually giving improved results. For that only reason, we shall use \"stemmed\""
      ]
    },
    {
      "cell_type": "markdown",
      "metadata": {
        "id": "j4OZye8MGlTs",
        "colab_type": "text"
      },
      "source": [
        "### Add stop-words"
      ]
    },
    {
      "cell_type": "code",
      "metadata": {
        "id": "NELtfb0JF6da",
        "colab_type": "code",
        "colab": {
          "base_uri": "https://localhost:8080/",
          "height": 50
        },
        "outputId": "1e2537e8-822e-4c81-f5cc-84f63cf8a27f"
      },
      "source": [
        "steps = [('vectorizer', CountVectorizer(analyzer=stemmed, \n",
        "                                        stop_words='english')),\n",
        "        ('tfidf', TfidfTransformer()),\n",
        "        ('classifier', LinearSVC(random_state=1))]\n",
        "pipeline4 = train_and_test(steps, X_train, X_test, y_train, y_test)"
      ],
      "execution_count": 35,
      "outputs": [
        {
          "output_type": "stream",
          "text": [
            "5 fold Cross Validation Score: <0.82, 0.86>; µ=0.84\n",
            "Score on test set: 0.85\n"
          ],
          "name": "stdout"
        }
      ]
    },
    {
      "cell_type": "markdown",
      "metadata": {
        "id": "KppZMUNAHRVb",
        "colab_type": "text"
      },
      "source": [
        "### Add n-gram with one token but, two words combination"
      ]
    },
    {
      "cell_type": "code",
      "metadata": {
        "id": "jQpCE77GF6im",
        "colab_type": "code",
        "colab": {
          "base_uri": "https://localhost:8080/",
          "height": 50
        },
        "outputId": "3d47c4c6-854b-49c2-9195-a1bed2c96b7a"
      },
      "source": [
        "steps = [('vectorizer', CountVectorizer(ngram_range=(1, 2))),\n",
        "         ('tfidf', TfidfTransformer()),\n",
        "         ('classifier', LinearSVC(random_state=1))]\n",
        "pipeline5 = train_and_test(steps, X_train, X_test, y_train, y_test)"
      ],
      "execution_count": 36,
      "outputs": [
        {
          "output_type": "stream",
          "text": [
            "5 fold Cross Validation Score: <0.79, 0.84>; µ=0.82\n",
            "Score on test set: 0.85\n"
          ],
          "name": "stdout"
        }
      ]
    },
    {
      "cell_type": "markdown",
      "metadata": {
        "id": "-rLKDRMXHl0N",
        "colab_type": "text"
      },
      "source": [
        "### Add n-gram with one token but, three words combination"
      ]
    },
    {
      "cell_type": "code",
      "metadata": {
        "id": "gi-sqlXWF6lf",
        "colab_type": "code",
        "colab": {
          "base_uri": "https://localhost:8080/",
          "height": 50
        },
        "outputId": "b26c3ac8-c0a8-4777-cc8d-cc17e718d071"
      },
      "source": [
        "steps = [('vectorizer', CountVectorizer(ngram_range=(1, 3))),\n",
        "         ('tfidf', TfidfTransformer()),\n",
        "         ('classifier', LinearSVC(random_state=1))]\n",
        "pipeline6 = train_and_test(steps, X_train, X_test, y_train, y_test)"
      ],
      "execution_count": 37,
      "outputs": [
        {
          "output_type": "stream",
          "text": [
            "5 fold Cross Validation Score: <0.78, 0.83>; µ=0.81\n",
            "Score on test set: 0.86\n"
          ],
          "name": "stdout"
        }
      ]
    },
    {
      "cell_type": "markdown",
      "metadata": {
        "id": "6RIL4X_7Hxpm",
        "colab_type": "text"
      },
      "source": [
        "### Finally, sum up all good parameters of NLP pipeline"
      ]
    },
    {
      "cell_type": "code",
      "metadata": {
        "id": "GZ3MzZ9mHqC_",
        "colab_type": "code",
        "colab": {
          "base_uri": "https://localhost:8080/",
          "height": 50
        },
        "outputId": "54e2aabb-2319-4bf5-a3f5-917e4379027a"
      },
      "source": [
        "steps = [('vectorizer', CountVectorizer(preprocessor=mask_all,  # it contains times, emoji,integers\n",
        "                                        analyzer=stemmed, \n",
        "                                        stop_words='english', \n",
        "                                        ngram_range=(1, 3))),\n",
        "         ('tfidf', TfidfTransformer()),\n",
        "         ('classifier', LinearSVC(random_state=1))]\n",
        "pipeline7 = train_and_test(steps, X_train, X_test, y_train, y_test)"
      ],
      "execution_count": 38,
      "outputs": [
        {
          "output_type": "stream",
          "text": [
            "5 fold Cross Validation Score: <0.82, 0.86>; µ=0.84\n",
            "Score on test set: 0.85\n"
          ],
          "name": "stdout"
        }
      ]
    },
    {
      "cell_type": "markdown",
      "metadata": {
        "id": "1l1R_i26IhCr",
        "colab_type": "text"
      },
      "source": [
        "# 7)- One vs Rest Classifiers"
      ]
    },
    {
      "cell_type": "code",
      "metadata": {
        "id": "mYsd4uR2HqGq",
        "colab_type": "code",
        "colab": {
          "base_uri": "https://localhost:8080/",
          "height": 50
        },
        "outputId": "1f6f500f-9908-4176-d607-ce7734a29ea0"
      },
      "source": [
        "#Let's train 8 classifiers: One vs Rest\n",
        "\n",
        "enc = OneHotEncoder()\n",
        "ym_train = enc.fit_transform(np.array(y_train.tolist()).reshape(-1,1))\n",
        "ym_test = enc.transform(np.array(y_test.tolist()).reshape(-1,1))\n",
        "\n",
        "steps = [('vectorizer', CountVectorizer(analyzer=stemmed, \n",
        "                                        stop_words='english', \n",
        "                                        preprocessor=mask_all)),\n",
        "         ('transformer', TfidfTransformer()),\n",
        "         ('classifier', OneVsRestClassifier(LinearSVC(random_state=1, multi_class='ovr')))]\n",
        "pipeline8 = train_and_test(steps, X_train, X_test, ym_train, ym_test)"
      ],
      "execution_count": 39,
      "outputs": [
        {
          "output_type": "stream",
          "text": [
            "5 fold Cross Validation Score: <0.68, 0.76>; µ=0.72\n",
            "Score on test set: 0.74\n"
          ],
          "name": "stdout"
        }
      ]
    },
    {
      "cell_type": "markdown",
      "metadata": {
        "id": "9eY9Y45FI3qW",
        "colab_type": "text"
      },
      "source": [
        "Lower than previous all."
      ]
    },
    {
      "cell_type": "code",
      "metadata": {
        "id": "w7OyKJQ7HqLr",
        "colab_type": "code",
        "colab": {
          "base_uri": "https://localhost:8080/",
          "height": 50
        },
        "outputId": "64a5b6e0-93c9-4d80-bb15-8c20813d2866"
      },
      "source": [
        "steps = [('vectorizer', CountVectorizer(ngram_range=(1,3), \n",
        "                                        analyzer=stemmed, \n",
        "                                        stop_words='english', \n",
        "                                        preprocessor=mask_all)),\n",
        "         ('transformer', TfidfTransformer()),\n",
        "         ('classifier', OneVsOneClassifier(LinearSVC(random_state=1, multi_class='ovr')))]\n",
        "pipeline9 = train_and_test(steps, X_train, X_test, y_train, y_test)"
      ],
      "execution_count": 40,
      "outputs": [
        {
          "output_type": "stream",
          "text": [
            "5 fold Cross Validation Score: <0.83, 0.84>; µ=0.83\n",
            "Score on test set: 0.82\n"
          ],
          "name": "stdout"
        }
      ]
    },
    {
      "cell_type": "markdown",
      "metadata": {
        "id": "5WHAB67ZJAsi",
        "colab_type": "text"
      },
      "source": [
        "Better yet we have pipeline 6 giving better results. We still check results with pipeline 9."
      ]
    },
    {
      "cell_type": "code",
      "metadata": {
        "id": "MVQaALEGHqQC",
        "colab_type": "code",
        "colab": {
          "base_uri": "https://localhost:8080/",
          "height": 34
        },
        "outputId": "128a3153-bdb6-497f-b43c-d6e2894fab5c"
      },
      "source": [
        "y_pred = pipeline9.predict(X_test)\n",
        "\n",
        "print(accuracy_score(y_pred=y_pred, y_true=y_test))"
      ],
      "execution_count": 41,
      "outputs": [
        {
          "output_type": "stream",
          "text": [
            "0.8226744186046512\n"
          ],
          "name": "stdout"
        }
      ]
    },
    {
      "cell_type": "code",
      "metadata": {
        "id": "_sa2dcKyHqJ6",
        "colab_type": "code",
        "colab": {
          "base_uri": "https://localhost:8080/",
          "height": 269
        },
        "outputId": "4d0a9dea-5f0d-4fca-ead5-d1d217a4e778"
      },
      "source": [
        "print(classification_report(y_pred=y_pred, y_true=y_test))"
      ],
      "execution_count": 42,
      "outputs": [
        {
          "output_type": "stream",
          "text": [
            "              precision    recall  f1-score   support\n",
            "\n",
            "           1       0.76      0.91      0.83       100\n",
            "           2       0.80      0.80      0.80        35\n",
            "           3       0.87      0.82      0.84        95\n",
            "           4       0.89      0.65      0.76        26\n",
            "           5       0.71      0.45      0.56        11\n",
            "           6       0.92      0.77      0.84        30\n",
            "           7       0.50      0.33      0.40         6\n",
            "           8       0.89      0.95      0.92        41\n",
            "\n",
            "    accuracy                           0.82       344\n",
            "   macro avg       0.79      0.71      0.74       344\n",
            "weighted avg       0.83      0.82      0.82       344\n",
            "\n"
          ],
          "name": "stdout"
        }
      ]
    },
    {
      "cell_type": "code",
      "metadata": {
        "id": "iW9UVddTF6gj",
        "colab_type": "code",
        "colab": {
          "base_uri": "https://localhost:8080/",
          "height": 312
        },
        "outputId": "0cf1a5b8-ab75-4cd1-b5ba-e287316b8521"
      },
      "source": [
        "skplt.metrics.plot_confusion_matrix(y_pred=y_pred, y_true=y_test, normalize=True)"
      ],
      "execution_count": 43,
      "outputs": [
        {
          "output_type": "execute_result",
          "data": {
            "text/plain": [
              "<matplotlib.axes._subplots.AxesSubplot at 0x7fa6375b0908>"
            ]
          },
          "metadata": {
            "tags": []
          },
          "execution_count": 43
        },
        {
          "output_type": "display_data",
          "data": {
            "image/png": "[encoded data removed]",
            "text/plain": [
              "<Figure size 432x288 with 2 Axes>"
            ]
          },
          "metadata": {
            "tags": []
          }
        }
      ]
    },
    {
      "cell_type": "markdown",
      "metadata": {
        "id": "zchPGdWqJwt9",
        "colab_type": "text"
      },
      "source": [
        "# 8)- Grid Search"
      ]
    },
    {
      "cell_type": "code",
      "metadata": {
        "id": "n-Kvo1DWEbte",
        "colab_type": "code",
        "colab": {
          "base_uri": "https://localhost:8080/",
          "height": 958
        },
        "outputId": "1dfe804f-2e80-4075-fcc2-3cb8444a8505"
      },
      "source": [
        "%%time\n",
        "\n",
        "steps = [('vectorizer', CountVectorizer()),\n",
        "         ('transformer', TfidfTransformer()),\n",
        "         ('classifier', SVC(kernel='linear', random_state=1))]\n",
        "pipeline10 = Pipeline(steps)\n",
        "\n",
        "params = {\n",
        "    'vectorizer__tokenizer': [None, nltk.tokenize.word_tokenize],\n",
        "    'vectorizer__analyzer': ['word', stemmed, lemma],\n",
        "    'vectorizer__stop_words': [None, nltk.corpus.stopwords.words('english'), 'english'],\n",
        "    'vectorizer__ngram_range': [(1, 1), (1, 2), (2, 2), (1, 3)],\n",
        "    'vectorizer__preprocessor': [None, mask_all, mask_integers, mask_times, mask_emojis],\n",
        "    'classifier__C': np.logspace(-2, 2, 5),\n",
        "    'classifier__gamma': np.logspace(-5, 3, 9)\n",
        "}\n",
        "\n",
        "gs = GridSearchCV(pipeline10, params, n_jobs=-1,verbose=5)\n",
        "gs.fit(X_train, y_train)"
      ],
      "execution_count": 44,
      "outputs": [
        {
          "output_type": "stream",
          "text": [
            "Fitting 3 folds for each of 16200 candidates, totalling 48600 fits\n"
          ],
          "name": "stdout"
        },
        {
          "output_type": "stream",
          "text": [
            "[Parallel(n_jobs=-1)]: Using backend LokyBackend with 2 concurrent workers.\n",
            "[Parallel(n_jobs=-1)]: Done  14 tasks      | elapsed:    4.7s\n",
            "[Parallel(n_jobs=-1)]: Done  68 tasks      | elapsed:   17.2s\n",
            "[Parallel(n_jobs=-1)]: Done 158 tasks      | elapsed:   42.5s\n",
            "[Parallel(n_jobs=-1)]: Done 284 tasks      | elapsed:  1.3min\n",
            "[Parallel(n_jobs=-1)]: Done 446 tasks      | elapsed:  2.3min\n",
            "[Parallel(n_jobs=-1)]: Done 644 tasks      | elapsed:  3.6min\n",
            "[Parallel(n_jobs=-1)]: Done 878 tasks      | elapsed:  4.8min\n",
            "[Parallel(n_jobs=-1)]: Done 1148 tasks      | elapsed:  5.8min\n",
            "[Parallel(n_jobs=-1)]: Done 1454 tasks      | elapsed:  7.3min\n",
            "[Parallel(n_jobs=-1)]: Done 1796 tasks      | elapsed:  9.5min\n",
            "[Parallel(n_jobs=-1)]: Done 2174 tasks      | elapsed: 11.0min\n",
            "[Parallel(n_jobs=-1)]: Done 2588 tasks      | elapsed: 13.1min\n",
            "[Parallel(n_jobs=-1)]: Done 3038 tasks      | elapsed: 15.5min\n",
            "[Parallel(n_jobs=-1)]: Done 3524 tasks      | elapsed: 17.5min\n",
            "[Parallel(n_jobs=-1)]: Done 4046 tasks      | elapsed: 20.5min\n",
            "[Parallel(n_jobs=-1)]: Done 4604 tasks      | elapsed: 22.8min\n",
            "[Parallel(n_jobs=-1)]: Done 5198 tasks      | elapsed: 26.1min\n",
            "[Parallel(n_jobs=-1)]: Done 5828 tasks      | elapsed: 29.1min\n",
            "[Parallel(n_jobs=-1)]: Done 6494 tasks      | elapsed: 32.3min\n",
            "[Parallel(n_jobs=-1)]: Done 7196 tasks      | elapsed: 36.3min\n",
            "[Parallel(n_jobs=-1)]: Done 7934 tasks      | elapsed: 39.4min\n",
            "[Parallel(n_jobs=-1)]: Done 8708 tasks      | elapsed: 43.2min\n",
            "[Parallel(n_jobs=-1)]: Done 9518 tasks      | elapsed: 47.6min\n",
            "[Parallel(n_jobs=-1)]: Done 10364 tasks      | elapsed: 52.0min\n",
            "[Parallel(n_jobs=-1)]: Done 11246 tasks      | elapsed: 56.1min\n",
            "[Parallel(n_jobs=-1)]: Done 12164 tasks      | elapsed: 60.5min\n",
            "[Parallel(n_jobs=-1)]: Done 13118 tasks      | elapsed: 65.4min\n",
            "[Parallel(n_jobs=-1)]: Done 14108 tasks      | elapsed: 70.4min\n",
            "[Parallel(n_jobs=-1)]: Done 15134 tasks      | elapsed: 75.7min\n",
            "[Parallel(n_jobs=-1)]: Done 16196 tasks      | elapsed: 81.2min\n",
            "[Parallel(n_jobs=-1)]: Done 17294 tasks      | elapsed: 86.7min\n",
            "[Parallel(n_jobs=-1)]: Done 18428 tasks      | elapsed: 92.4min\n",
            "[Parallel(n_jobs=-1)]: Done 19598 tasks      | elapsed: 98.4min\n",
            "[Parallel(n_jobs=-1)]: Done 20804 tasks      | elapsed: 104.5min\n",
            "[Parallel(n_jobs=-1)]: Done 22046 tasks      | elapsed: 110.9min\n",
            "[Parallel(n_jobs=-1)]: Done 23324 tasks      | elapsed: 117.6min\n",
            "[Parallel(n_jobs=-1)]: Done 24638 tasks      | elapsed: 124.1min\n",
            "[Parallel(n_jobs=-1)]: Done 25988 tasks      | elapsed: 130.6min\n",
            "[Parallel(n_jobs=-1)]: Done 27374 tasks      | elapsed: 137.8min\n",
            "[Parallel(n_jobs=-1)]: Done 28796 tasks      | elapsed: 145.3min\n",
            "[Parallel(n_jobs=-1)]: Done 30254 tasks      | elapsed: 152.1min\n",
            "[Parallel(n_jobs=-1)]: Done 31748 tasks      | elapsed: 159.9min\n",
            "[Parallel(n_jobs=-1)]: Done 33278 tasks      | elapsed: 167.6min\n",
            "[Parallel(n_jobs=-1)]: Done 34844 tasks      | elapsed: 174.8min\n",
            "[Parallel(n_jobs=-1)]: Done 36446 tasks      | elapsed: 183.0min\n",
            "[Parallel(n_jobs=-1)]: Done 38084 tasks      | elapsed: 190.4min\n",
            "[Parallel(n_jobs=-1)]: Done 39758 tasks      | elapsed: 198.7min\n",
            "[Parallel(n_jobs=-1)]: Done 41468 tasks      | elapsed: 206.7min\n",
            "[Parallel(n_jobs=-1)]: Done 43214 tasks      | elapsed: 214.8min\n",
            "[Parallel(n_jobs=-1)]: Done 44996 tasks      | elapsed: 223.9min\n",
            "[Parallel(n_jobs=-1)]: Done 46814 tasks      | elapsed: 232.1min\n",
            "[Parallel(n_jobs=-1)]: Done 48600 out of 48600 | elapsed: 240.4min finished\n"
          ],
          "name": "stderr"
        },
        {
          "output_type": "stream",
          "text": [
            "CPU times: user 6min 12s, sys: 6.76 s, total: 6min 19s\n",
            "Wall time: 4h 26s\n"
          ],
          "name": "stdout"
        }
      ]
    },
    {
      "cell_type": "code",
      "metadata": {
        "id": "WGNsIIDvKXvX",
        "colab_type": "code",
        "colab": {
          "base_uri": "https://localhost:8080/",
          "height": 54
        },
        "outputId": "7851beeb-e15b-4d80-cd05-2262a317c879"
      },
      "source": [
        "print(gs.best_params_)"
      ],
      "execution_count": 45,
      "outputs": [
        {
          "output_type": "stream",
          "text": [
            "{'classifier__C': 1.0, 'classifier__gamma': 1e-05, 'vectorizer__analyzer': <function stemmed at 0x7fa63c8a5bf8>, 'vectorizer__ngram_range': (1, 1), 'vectorizer__preprocessor': None, 'vectorizer__stop_words': None, 'vectorizer__tokenizer': None}\n"
          ],
          "name": "stdout"
        }
      ]
    },
    {
      "cell_type": "code",
      "metadata": {
        "id": "Iujw2cYaKfAk",
        "colab_type": "code",
        "colab": {}
      },
      "source": [
        "y_pred = gs.predict(X_test)"
      ],
      "execution_count": 0,
      "outputs": []
    },
    {
      "cell_type": "code",
      "metadata": {
        "id": "BTqUrQOTKjgT",
        "colab_type": "code",
        "colab": {
          "base_uri": "https://localhost:8080/",
          "height": 34
        },
        "outputId": "d78736f0-6afb-4f7c-d542-ebb110c3efd4"
      },
      "source": [
        "print('Score on the test set: {:.2f}'.format(gs.score(X_test, y_test)))"
      ],
      "execution_count": 47,
      "outputs": [
        {
          "output_type": "stream",
          "text": [
            "Score on the test set: 0.82\n"
          ],
          "name": "stdout"
        }
      ]
    },
    {
      "cell_type": "code",
      "metadata": {
        "id": "AmqxQquLKjjn",
        "colab_type": "code",
        "colab": {
          "base_uri": "https://localhost:8080/",
          "height": 34
        },
        "outputId": "3e0409a5-71a7-48d8-e314-d416421490bb"
      },
      "source": [
        "print('Score on the test set: {:.2f}'.format(accuracy_score(y_pred=y_pred, y_true=y_test)))"
      ],
      "execution_count": 48,
      "outputs": [
        {
          "output_type": "stream",
          "text": [
            "Score on the test set: 0.82\n"
          ],
          "name": "stdout"
        }
      ]
    },
    {
      "cell_type": "code",
      "metadata": {
        "id": "7o6B6l_tKjme",
        "colab_type": "code",
        "colab": {
          "base_uri": "https://localhost:8080/",
          "height": 269
        },
        "outputId": "4c1f8ee0-a271-41b3-ceaa-641acc757894"
      },
      "source": [
        "print(classification_report(y_pred=y_pred, y_true=y_test))"
      ],
      "execution_count": 49,
      "outputs": [
        {
          "output_type": "stream",
          "text": [
            "              precision    recall  f1-score   support\n",
            "\n",
            "           1       0.76      0.89      0.82       100\n",
            "           2       0.80      0.80      0.80        35\n",
            "           3       0.86      0.83      0.84        95\n",
            "           4       0.89      0.65      0.76        26\n",
            "           5       0.71      0.45      0.56        11\n",
            "           6       0.89      0.80      0.84        30\n",
            "           7       0.67      0.33      0.44         6\n",
            "           8       0.89      0.95      0.92        41\n",
            "\n",
            "    accuracy                           0.82       344\n",
            "   macro avg       0.81      0.71      0.75       344\n",
            "weighted avg       0.82      0.82      0.82       344\n",
            "\n"
          ],
          "name": "stdout"
        }
      ]
    },
    {
      "cell_type": "code",
      "metadata": {
        "id": "4uFwB9P9Lt38",
        "colab_type": "code",
        "colab": {
          "base_uri": "https://localhost:8080/",
          "height": 312
        },
        "outputId": "33f6e368-6bb2-414a-bea8-c3139cf2e9e0"
      },
      "source": [
        "skplt.metrics.plot_confusion_matrix(y_pred=y_pred, y_true=y_test, normalize=True)"
      ],
      "execution_count": 50,
      "outputs": [
        {
          "output_type": "execute_result",
          "data": {
            "text/plain": [
              "<matplotlib.axes._subplots.AxesSubplot at 0x7fa6372b7b00>"
            ]
          },
          "metadata": {
            "tags": []
          },
          "execution_count": 50
        },
        {
          "output_type": "display_data",
          "data": {
            "image/png": "[encoded data removed]",
            "text/plain": [
              "<Figure size 432x288 with 2 Axes>"
            ]
          },
          "metadata": {
            "tags": []
          }
        }
      ]
    },
    {
      "cell_type": "code",
      "metadata": {
        "id": "WedCnN43wJfO",
        "colab_type": "code",
        "colab": {
          "base_uri": "https://localhost:8080/",
          "height": 168
        },
        "outputId": "005b61b6-2004-41f1-a191-4860526f4298"
      },
      "source": [
        "pipeline = gs\n",
        "\n",
        "tag_message(pipeline, 'My alarm clock was not set properly. I come to the office asap.')\n",
        "tag_message(pipeline, 'It is my scheduled day off, see you on Tuesday.')\n",
        "tag_message(pipeline, 'Not feeling well today, I stay home and work from here.')\n",
        "tag_message(pipeline, 'I work at home on Tuesday.')\n",
        "tag_message(pipeline, 'This morning I have a meeting at SPS.')\n",
        "tag_message(pipeline, 'I\\'m off, see you tomorrow.')\n",
        "tag_message(pipeline, 'get well soon!')\n",
        "tag_message(pipeline, 'I\\'m away for a long lunch between 12:00 and 15:30')\n",
        "tag_message(pipeline, 'I\\'ve an appointment at 12:00 at the physiotherapy.')"
      ],
      "execution_count": 51,
      "outputs": [
        {
          "output_type": "stream",
          "text": [
            "          late/early | My alarm clock was not set properly. I come to the office asap.\n",
            "            holidays | It is my scheduled day off, see you on Tuesday.\n",
            "                 ill | Not feeling well today, I stay home and work from here.\n",
            "         home office | I work at home on Tuesday.\n",
            "            business | This morning I have a meeting at SPS.\n",
            "            holidays | I'm off, see you tomorrow.\n",
            "       miscellanious | get well soon!\n",
            "          late/early | I'm away for a long lunch between 12:00 and 15:30\n",
            "             med app | I've an appointment at 12:00 at the physiotherapy.\n"
          ],
          "name": "stdout"
        }
      ]
    },
    {
      "cell_type": "markdown",
      "metadata": {
        "id": "M34Qfom-LJoR",
        "colab_type": "text"
      },
      "source": [
        "# 9)- GridSearch with Random Forest"
      ]
    },
    {
      "cell_type": "code",
      "metadata": {
        "id": "HolFfMY4LN4g",
        "colab_type": "code",
        "colab": {}
      },
      "source": [
        "%%time\n",
        "\n",
        "steps = [('vectorizer', CountVectorizer()),\n",
        "         ('transformer', TfidfTransformer()),\n",
        "         ('classifier', RandomForestClassifier())]\n",
        "pipeline11 = Pipeline(steps)\n",
        "\n",
        "params = {\n",
        "    'vectorizer__tokenizer': [None, nltk.tokenize.word_tokenize],\n",
        "    'vectorizer__analyzer': ['word', stemmed, lemma],\n",
        "    'vectorizer__stop_words': [None, nltk.corpus.stopwords.words('english'), 'english'],\n",
        "    'vectorizer__ngram_range': [(1, 1), (1, 2), (2, 2), (1, 3)],\n",
        "    'vectorizer__preprocessor': [None, mask_all, mask_integers, mask_times, mask_emojis]\n",
        "    'classifier__n_estimators': [128, 512, 2048],\n",
        "    'classifier__bootstrap': [True, False],\n",
        "    'classifier__criterion': ['gini', 'entropy'], \n",
        "    'classifier__max_depth': [2, 4, 8, None],\n",
        "    'classifier__min_samples_leaf': [1, 3, 10], \n",
        "    'classifier__min_samples_split': [2, 8, 16]\n",
        "}\n",
        "\n",
        "gs_rf = GridSearchCV(pipeline11, params, n_jobs=-1,verbose=5)\n",
        "gs_rf.fit(X_train, y_train)"
      ],
      "execution_count": 0,
      "outputs": []
    },
    {
      "cell_type": "code",
      "metadata": {
        "id": "kkChAREZLVzt",
        "colab_type": "code",
        "colab": {}
      },
      "source": [
        "print(gs_rf.best_params_)"
      ],
      "execution_count": 0,
      "outputs": []
    },
    {
      "cell_type": "code",
      "metadata": {
        "id": "tTqd4AylLbky",
        "colab_type": "code",
        "colab": {}
      },
      "source": [
        "y_pred = gs_rf.predict(X_test)"
      ],
      "execution_count": 0,
      "outputs": []
    },
    {
      "cell_type": "code",
      "metadata": {
        "id": "IP2fRRmYLeyb",
        "colab_type": "code",
        "colab": {}
      },
      "source": [
        "print('Score on the test set: {:.2f}'.format(gs_rf.score(X_test, y_test)))"
      ],
      "execution_count": 0,
      "outputs": []
    },
    {
      "cell_type": "code",
      "metadata": {
        "id": "FdkSPuoxLe2i",
        "colab_type": "code",
        "colab": {}
      },
      "source": [
        "print(classification_report(y_pred=y_pred, y_true=y_test))"
      ],
      "execution_count": 0,
      "outputs": []
    },
    {
      "cell_type": "code",
      "metadata": {
        "id": "EWbXikcZLe5a",
        "colab_type": "code",
        "colab": {}
      },
      "source": [
        "skplt.metrics.plot_confusion_matrix(y_pred=y_pred, y_true=y_test, normalize=True)"
      ],
      "execution_count": 0,
      "outputs": []
    },
    {
      "cell_type": "markdown",
      "metadata": {
        "id": "CtITYwIDLz3M",
        "colab_type": "text"
      },
      "source": [
        "# 10)- Test on Out of Sample data"
      ]
    },
    {
      "cell_type": "code",
      "metadata": {
        "id": "roFHSd-EL3nP",
        "colab_type": "code",
        "colab": {}
      },
      "source": [
        "pipeline = gs\n",
        "\n",
        "tag_message(pipeline, 'My alarm clock was not set properly. I come to the office asap.')\n",
        "tag_message(pipeline, 'It is my scheduled day off, see you on Tuesday.')\n",
        "tag_message(pipeline, 'Not feeling well today, I stay home and work from here.')\n",
        "tag_message(pipeline, 'I work at home on Tuesday.')\n",
        "tag_message(pipeline, 'This morning I have a meeting at SPS.')\n",
        "tag_message(pipeline, 'I\\'m off, see you tomorrow.')\n",
        "tag_message(pipeline, 'get well soon!')\n",
        "tag_message(pipeline, 'I\\'m away for a long lunch between 12:00 and 15:30')\n",
        "tag_message(pipeline, 'I\\'ve an appointment at 12:00 at the physiotherapy.')"
      ],
      "execution_count": 0,
      "outputs": []
    }
  ]
}