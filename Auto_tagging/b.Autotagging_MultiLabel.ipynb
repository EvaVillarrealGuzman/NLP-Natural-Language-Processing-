{
  "nbformat": 4,
  "nbformat_minor": 0,
  "metadata": {
    "colab": {
      "name": "Autotagging_MultiLabel.ipynb",
      "provenance": [],
      "collapsed_sections": []
    },
    "kernelspec": {
      "name": "python3",
      "display_name": "Python 3"
    },
    "accelerator": "GPU"
  },
  "cells": [
    {
      "cell_type": "markdown",
      "metadata": {
        "id": "QJxJLfT6m4zo",
        "colab_type": "text"
      },
      "source": [
        "# Automatic tagging \n",
        "\n",
        "- Multi-label classification\n",
        "\n",
        "challenge is how to set the value of the threshold. Possibilities are:\n",
        "\n",
        "Fixed threshold, e.g. Label is true if $y_{pred}^i &gt; 0.2$ <br>\n",
        "Dynamic threshold, e.g. Label is true if $y_{pred}^i &gt; \\frac{1}{4}\\max(y_{pred})$"
      ]
    },
    {
      "cell_type": "markdown",
      "metadata": {
        "id": "YvFSu3KOnCQI",
        "colab_type": "text"
      },
      "source": [
        "# 1)- Importing key modules"
      ]
    },
    {
      "cell_type": "code",
      "metadata": {
        "id": "FF2nsUJ9qkBg",
        "colab_type": "code",
        "colab": {}
      },
      "source": [
        "#support both Python 2 and Python 3 with minimal overhead.\n",
        "from __future__ import absolute_import, division, print_function\n",
        "#ignore warnings\n",
        "import warnings\n",
        "warnings.filterwarnings('ignore')"
      ],
      "execution_count": 0,
      "outputs": []
    },
    {
      "cell_type": "code",
      "metadata": {
        "id": "yA0JOEBGUiJC",
        "colab_type": "code",
        "colab": {}
      },
      "source": [
        "import os\n",
        "import pickle as pkl\n",
        "import re\n",
        "import string"
      ],
      "execution_count": 0,
      "outputs": []
    },
    {
      "cell_type": "code",
      "metadata": {
        "id": "30NKdvP1qnqf",
        "colab_type": "code",
        "colab": {}
      },
      "source": [
        "# for data processing\n",
        "\n",
        "import numpy as np\n",
        "import pandas as pd \n",
        "import tqdm"
      ],
      "execution_count": 0,
      "outputs": []
    },
    {
      "cell_type": "code",
      "metadata": {
        "id": "zVMu2aVwUpas",
        "colab_type": "code",
        "outputId": "11a00e13-82d4-47ce-bfa2-cc2e44164c4b",
        "colab": {
          "base_uri": "https://localhost:8080/",
          "height": 118
        }
      },
      "source": [
        "# for text \n",
        "\n",
        "import nltk\n",
        "import re \n",
        "from nltk import tokenize\n",
        "import nltk\n",
        "from nltk.stem import WordNetLemmatizer\n",
        "\n",
        "nltk.download('stopwords')\n",
        "nltk.download('punkt')\n",
        "nltk.download('wordnet')\n",
        "lemm = WordNetLemmatizer()"
      ],
      "execution_count": 4,
      "outputs": [
        {
          "output_type": "stream",
          "text": [
            "[nltk_data] Downloading package stopwords to /root/nltk_data...\n",
            "[nltk_data]   Package stopwords is already up-to-date!\n",
            "[nltk_data] Downloading package punkt to /root/nltk_data...\n",
            "[nltk_data]   Package punkt is already up-to-date!\n",
            "[nltk_data] Downloading package wordnet to /root/nltk_data...\n",
            "[nltk_data]   Package wordnet is already up-to-date!\n"
          ],
          "name": "stdout"
        }
      ]
    },
    {
      "cell_type": "code",
      "metadata": {
        "id": "a77ZQvmVUmB8",
        "colab_type": "code",
        "colab": {}
      },
      "source": [
        "# for analysis\n",
        "\n",
        "from sklearn.feature_extraction.text import CountVectorizer\n",
        "from sklearn.feature_extraction.text import TfidfTransformer\n",
        "from sklearn.metrics import classification_report\n",
        "from sklearn.metrics import confusion_matrix\n",
        "from sklearn.metrics import precision_recall_curve\n",
        "\n",
        "from sklearn.model_selection import GridSearchCV\n",
        "from sklearn.model_selection import cross_val_score\n",
        "from sklearn.model_selection import train_test_split\n",
        "\n",
        "# For modeling\n",
        "\n",
        "from sklearn import neighbors\n",
        "from sklearn.multiclass import OneVsRestClassifier\n",
        "from sklearn.multiclass import OneVsOneClassifier\n",
        "from sklearn.pipeline import Pipeline\n",
        "from sklearn.preprocessing import MultiLabelBinarizer\n",
        "from sklearn.preprocessing import OneHotEncoder\n",
        "from sklearn.svm import LinearSVC\n",
        "from sklearn.svm import SVC\n",
        "from sklearn.ensemble import RandomForestClassifier\n",
        "from sklearn.metrics import confusion_matrix"
      ],
      "execution_count": 0,
      "outputs": []
    },
    {
      "cell_type": "code",
      "metadata": {
        "id": "Splms9mwUvHa",
        "colab_type": "code",
        "colab": {}
      },
      "source": [
        "# For visuals\n",
        "\n",
        "import matplotlib.pyplot as plt \n",
        "import matplotlib.patches as mpatches\n",
        "import matplotlib.cm as cm\n",
        "from matplotlib.colors import ListedColormap, BoundaryNorm\n",
        "% matplotlib inline \n",
        "pd.set_option('display.max_colwidth', 200)"
      ],
      "execution_count": 0,
      "outputs": []
    },
    {
      "cell_type": "code",
      "metadata": {
        "id": "70c9RUauAGXQ",
        "colab_type": "code",
        "outputId": "03497061-2731-4aa2-d87e-4bf456e902da",
        "colab": {
          "base_uri": "https://localhost:8080/",
          "height": 34
        }
      },
      "source": [
        "! pip install version_information"
      ],
      "execution_count": 7,
      "outputs": [
        {
          "output_type": "stream",
          "text": [
            "Requirement already satisfied: version_information in /usr/local/lib/python3.6/dist-packages (1.0.3)\n"
          ],
          "name": "stdout"
        }
      ]
    },
    {
      "cell_type": "code",
      "metadata": {
        "id": "tVbECQoDAG4V",
        "colab_type": "code",
        "outputId": "389f3192-5cd3-46f0-e1c2-de809a1edd7b",
        "colab": {
          "base_uri": "https://localhost:8080/",
          "height": 238
        }
      },
      "source": [
        "# first install: pip install version_information\n",
        "%reload_ext version_information\n",
        "%version_information pandas,numpy,sklearn,nltk, seaborn, matplotlib"
      ],
      "execution_count": 8,
      "outputs": [
        {
          "output_type": "execute_result",
          "data": {
            "text/latex": "\\begin{tabular}{|l|l|}\\hline\n{\\bf Software} & {\\bf Version} \\\\ \\hline\\hline\nPython & 3.6.8 64bit [GCC 8.3.0] \\\\ \\hline\nIPython & 5.5.0 \\\\ \\hline\nOS & Linux 4.14.137+ x86\\_64 with Ubuntu 18.04 bionic \\\\ \\hline\npandas & 0.25.3 \\\\ \\hline\nnumpy & 1.17.4 \\\\ \\hline\nsklearn & 0.21.3 \\\\ \\hline\nnltk & 3.2.5 \\\\ \\hline\nseaborn & 0.9.0 \\\\ \\hline\nmatplotlib & 3.1.1 \\\\ \\hline\n\\hline \\multicolumn{2}{|l|}{Thu Nov 28 16:05:33 2019 UTC} \\\\ \\hline\n\\end{tabular}\n",
            "application/json": {
              "Software versions": [
                {
                  "version": "3.6.8 64bit [GCC 8.3.0]",
                  "module": "Python"
                },
                {
                  "version": "5.5.0",
                  "module": "IPython"
                },
                {
                  "version": "Linux 4.14.137+ x86_64 with Ubuntu 18.04 bionic",
                  "module": "OS"
                },
                {
                  "version": "0.25.3",
                  "module": "pandas"
                },
                {
                  "version": "1.17.4",
                  "module": "numpy"
                },
                {
                  "version": "0.21.3",
                  "module": "sklearn"
                },
                {
                  "version": "3.2.5",
                  "module": "nltk"
                },
                {
                  "version": "0.9.0",
                  "module": "seaborn"
                },
                {
                  "version": "3.1.1",
                  "module": "matplotlib"
                }
              ]
            },
            "text/html": [
              "<table><tr><th>Software</th><th>Version</th></tr><tr><td>Python</td><td>3.6.8 64bit [GCC 8.3.0]</td></tr><tr><td>IPython</td><td>5.5.0</td></tr><tr><td>OS</td><td>Linux 4.14.137+ x86_64 with Ubuntu 18.04 bionic</td></tr><tr><td>pandas</td><td>0.25.3</td></tr><tr><td>numpy</td><td>1.17.4</td></tr><tr><td>sklearn</td><td>0.21.3</td></tr><tr><td>nltk</td><td>3.2.5</td></tr><tr><td>seaborn</td><td>0.9.0</td></tr><tr><td>matplotlib</td><td>3.1.1</td></tr><tr><td colspan='2'>Thu Nov 28 16:05:33 2019 UTC</td></tr></table>"
            ],
            "text/plain": [
              "Software versions\n",
              "Python 3.6.8 64bit [GCC 8.3.0]\n",
              "IPython 5.5.0\n",
              "OS Linux 4.14.137+ x86_64 with Ubuntu 18.04 bionic\n",
              "pandas 0.25.3\n",
              "numpy 1.17.4\n",
              "sklearn 0.21.3\n",
              "nltk 3.2.5\n",
              "seaborn 0.9.0\n",
              "matplotlib 3.1.1\n",
              "Thu Nov 28 16:05:33 2019 UTC"
            ]
          },
          "metadata": {
            "tags": []
          },
          "execution_count": 8
        }
      ]
    },
    {
      "cell_type": "markdown",
      "metadata": {
        "id": "XN_b91atnHye",
        "colab_type": "text"
      },
      "source": [
        "# 2)- Reading Dataset\n",
        "\n",
        "Thanks to PyData 2018: Gilbert Francois Talk"
      ]
    },
    {
      "cell_type": "code",
      "metadata": {
        "id": "r1tTmUvsV-7h",
        "colab_type": "code",
        "outputId": "5c967724-5145-4f59-8ed8-557063b18a1e",
        "colab": {
          "base_uri": "https://localhost:8080/",
          "height": 34
        }
      },
      "source": [
        "data= pd.read_pickle('messages-cls-mc.pkl')\n",
        "data.shape"
      ],
      "execution_count": 9,
      "outputs": [
        {
          "output_type": "execute_result",
          "data": {
            "text/plain": [
              "(1719, 6)"
            ]
          },
          "metadata": {
            "tags": []
          },
          "execution_count": 9
        }
      ]
    },
    {
      "cell_type": "code",
      "metadata": {
        "id": "vvLhSVTNWKuH",
        "colab_type": "code",
        "outputId": "f426075a-aace-4c56-d446-9df36d75486b",
        "colab": {
          "base_uri": "https://localhost:8080/",
          "height": 195
        }
      },
      "source": [
        "data.head()"
      ],
      "execution_count": 10,
      "outputs": [
        {
          "output_type": "execute_result",
          "data": {
            "text/html": [
              "<div>\n",
              "<style scoped>\n",
              "    .dataframe tbody tr th:only-of-type {\n",
              "        vertical-align: middle;\n",
              "    }\n",
              "\n",
              "    .dataframe tbody tr th {\n",
              "        vertical-align: top;\n",
              "    }\n",
              "\n",
              "    .dataframe thead th {\n",
              "        text-align: right;\n",
              "    }\n",
              "</style>\n",
              "<table border=\"1\" class=\"dataframe\">\n",
              "  <thead>\n",
              "    <tr style=\"text-align: right;\">\n",
              "      <th></th>\n",
              "      <th>ts</th>\n",
              "      <th>user</th>\n",
              "      <th>text</th>\n",
              "      <th>class</th>\n",
              "      <th>key</th>\n",
              "      <th>multiclass</th>\n",
              "    </tr>\n",
              "  </thead>\n",
              "  <tbody>\n",
              "    <tr>\n",
              "      <th>0</th>\n",
              "      <td>1.503303e+09</td>\n",
              "      <td>Balaemar</td>\n",
              "      <td>I have to pick up my car from the garage tomorrow. I have to leave at 15:45 on Thursday.</td>\n",
              "      <td>1</td>\n",
              "      <td>1503303350U035FRUCY</td>\n",
              "      <td>[1, 8]</td>\n",
              "    </tr>\n",
              "    <tr>\n",
              "      <th>1</th>\n",
              "      <td>1.503302e+09</td>\n",
              "      <td>Ragaenys</td>\n",
              "      <td>I won’t be here tomorrow, one day vacation</td>\n",
              "      <td>2</td>\n",
              "      <td>1503301710U4A2FRAQ4</td>\n",
              "      <td>[2]</td>\n",
              "    </tr>\n",
              "    <tr>\n",
              "      <th>2</th>\n",
              "      <td>1.503296e+09</td>\n",
              "      <td>Myke</td>\n",
              "      <td>Missed connection in Zurich. Will be about 5-10 mins late in the office, so will miss the weekly today.</td>\n",
              "      <td>1</td>\n",
              "      <td>1503296123U0MGNKETU</td>\n",
              "      <td>[1]</td>\n",
              "    </tr>\n",
              "    <tr>\n",
              "      <th>3</th>\n",
              "      <td>1.503260e+09</td>\n",
              "      <td>Drevyn</td>\n",
              "      <td>Enjoy!</td>\n",
              "      <td>8</td>\n",
              "      <td>1503259722U035B8PRU</td>\n",
              "      <td>[8]</td>\n",
              "    </tr>\n",
              "    <tr>\n",
              "      <th>4</th>\n",
              "      <td>1.503258e+09</td>\n",
              "      <td>Gaelralis</td>\n",
              "      <td>I am away for 2 weeks in iceland :flag-is:</td>\n",
              "      <td>2</td>\n",
              "      <td>1503258060U0HLAK1T6</td>\n",
              "      <td>[2]</td>\n",
              "    </tr>\n",
              "  </tbody>\n",
              "</table>\n",
              "</div>"
            ],
            "text/plain": [
              "             ts       user  ...                  key  multiclass\n",
              "0  1.503303e+09   Balaemar  ...  1503303350U035FRUCY      [1, 8]\n",
              "1  1.503302e+09   Ragaenys  ...  1503301710U4A2FRAQ4         [2]\n",
              "2  1.503296e+09       Myke  ...  1503296123U0MGNKETU         [1]\n",
              "3  1.503260e+09     Drevyn  ...  1503259722U035B8PRU         [8]\n",
              "4  1.503258e+09  Gaelralis  ...  1503258060U0HLAK1T6         [2]\n",
              "\n",
              "[5 rows x 6 columns]"
            ]
          },
          "metadata": {
            "tags": []
          },
          "execution_count": 10
        }
      ]
    },
    {
      "cell_type": "code",
      "metadata": {
        "id": "Goy-74Z7WgKP",
        "colab_type": "code",
        "outputId": "ec08f3d7-f2b3-48cd-d766-6ea30ad9fc30",
        "colab": {
          "base_uri": "https://localhost:8080/",
          "height": 195
        }
      },
      "source": [
        "data.tail()"
      ],
      "execution_count": 11,
      "outputs": [
        {
          "output_type": "execute_result",
          "data": {
            "text/html": [
              "<div>\n",
              "<style scoped>\n",
              "    .dataframe tbody tr th:only-of-type {\n",
              "        vertical-align: middle;\n",
              "    }\n",
              "\n",
              "    .dataframe tbody tr th {\n",
              "        vertical-align: top;\n",
              "    }\n",
              "\n",
              "    .dataframe thead th {\n",
              "        text-align: right;\n",
              "    }\n",
              "</style>\n",
              "<table border=\"1\" class=\"dataframe\">\n",
              "  <thead>\n",
              "    <tr style=\"text-align: right;\">\n",
              "      <th></th>\n",
              "      <th>ts</th>\n",
              "      <th>user</th>\n",
              "      <th>text</th>\n",
              "      <th>class</th>\n",
              "      <th>key</th>\n",
              "      <th>multiclass</th>\n",
              "    </tr>\n",
              "  </thead>\n",
              "  <tbody>\n",
              "    <tr>\n",
              "      <th>1714</th>\n",
              "      <td>1.462269e+09</td>\n",
              "      <td>Overton</td>\n",
              "      <td>&lt;@U0PSDKXHR|jabbah&gt; has joined the channel</td>\n",
              "      <td>8</td>\n",
              "      <td>1462269461U0PSDKXHR</td>\n",
              "      <td>[8]</td>\n",
              "    </tr>\n",
              "    <tr>\n",
              "      <th>1715</th>\n",
              "      <td>1.462269e+09</td>\n",
              "      <td>Balaemar</td>\n",
              "      <td>&lt;@U035FRUCY|miamia&gt; has joined the channel</td>\n",
              "      <td>8</td>\n",
              "      <td>1462269461U035FRUCY</td>\n",
              "      <td>[8]</td>\n",
              "    </tr>\n",
              "    <tr>\n",
              "      <th>1716</th>\n",
              "      <td>1.462269e+09</td>\n",
              "      <td>Eliar</td>\n",
              "      <td>&lt;@U0A8NPHRD|joe&gt; has joined the channel</td>\n",
              "      <td>8</td>\n",
              "      <td>1462269366U0A8NPHRD</td>\n",
              "      <td>[8]</td>\n",
              "    </tr>\n",
              "    <tr>\n",
              "      <th>1717</th>\n",
              "      <td>1.462268e+09</td>\n",
              "      <td>Caenraenos</td>\n",
              "      <td>&lt;@U035AASB8|Fisher&gt; set the channel topic: home office, lateness, general absence updates</td>\n",
              "      <td>8</td>\n",
              "      <td>1462267520U035AASB8</td>\n",
              "      <td>[8]</td>\n",
              "    </tr>\n",
              "    <tr>\n",
              "      <th>1718</th>\n",
              "      <td>1.462267e+09</td>\n",
              "      <td>Caenraenos</td>\n",
              "      <td>&lt;@U035AASB8|Fisher&gt; has joined the channel</td>\n",
              "      <td>8</td>\n",
              "      <td>1462267404U035AASB8</td>\n",
              "      <td>[8]</td>\n",
              "    </tr>\n",
              "  </tbody>\n",
              "</table>\n",
              "</div>"
            ],
            "text/plain": [
              "                ts        user  ...                  key  multiclass\n",
              "1714  1.462269e+09     Overton  ...  1462269461U0PSDKXHR         [8]\n",
              "1715  1.462269e+09    Balaemar  ...  1462269461U035FRUCY         [8]\n",
              "1716  1.462269e+09       Eliar  ...  1462269366U0A8NPHRD         [8]\n",
              "1717  1.462268e+09  Caenraenos  ...  1462267520U035AASB8         [8]\n",
              "1718  1.462267e+09  Caenraenos  ...  1462267404U035AASB8         [8]\n",
              "\n",
              "[5 rows x 6 columns]"
            ]
          },
          "metadata": {
            "tags": []
          },
          "execution_count": 11
        }
      ]
    },
    {
      "cell_type": "code",
      "metadata": {
        "id": "W-ri1bp8_Z9g",
        "colab_type": "code",
        "outputId": "a1e25aa0-9c77-43a5-98c9-9ecc13ff66e1",
        "colab": {
          "base_uri": "https://localhost:8080/",
          "height": 34
        }
      },
      "source": [
        "data['class'].unique()"
      ],
      "execution_count": 12,
      "outputs": [
        {
          "output_type": "execute_result",
          "data": {
            "text/plain": [
              "array([1, 2, 8, 3, 6, 4, 5, 7])"
            ]
          },
          "metadata": {
            "tags": []
          },
          "execution_count": 12
        }
      ]
    },
    {
      "cell_type": "markdown",
      "metadata": {
        "id": "zpES5c2A_2zz",
        "colab_type": "text"
      },
      "source": [
        "# Class\tDescription\n",
        "- 1\tToo late, away during office hours or early leave\n",
        "- 2\tHolidays or scheduled free days\n",
        "- 3\tHome Office\n",
        " -4\tMedical appointment\n",
        "- 5\tIll, without consulting a medical\n",
        "- 6\tWork related absence (at client, conference)\n",
        "- 7\tIn office announcement\n",
        "- 8\tMiscellanious"
      ]
    },
    {
      "cell_type": "code",
      "metadata": {
        "id": "JLIildKxV3nW",
        "colab_type": "code",
        "colab": {}
      },
      "source": [
        "dict_classes = {\n",
        "    1: 'late/early',\n",
        "    2: 'holidays',\n",
        "    3: 'home office',\n",
        "    4: 'med app',\n",
        "    5: 'ill',\n",
        "    6: 'business',\n",
        "    7: 'in office',\n",
        "    8: 'miscellanious'\n",
        "}"
      ],
      "execution_count": 0,
      "outputs": []
    },
    {
      "cell_type": "code",
      "metadata": {
        "id": "JRp5GL7x_WY4",
        "colab_type": "code",
        "outputId": "dd819116-c3e9-4f14-9568-9cc58e9cf51b",
        "colab": {
          "base_uri": "https://localhost:8080/",
          "height": 168
        }
      },
      "source": [
        "data['class'].value_counts()"
      ],
      "execution_count": 14,
      "outputs": [
        {
          "output_type": "execute_result",
          "data": {
            "text/plain": [
              "1    517\n",
              "3    423\n",
              "8    223\n",
              "2    173\n",
              "6    142\n",
              "4    134\n",
              "5     74\n",
              "7     33\n",
              "Name: class, dtype: int64"
            ]
          },
          "metadata": {
            "tags": []
          },
          "execution_count": 14
        }
      ]
    },
    {
      "cell_type": "markdown",
      "metadata": {
        "id": "XPkmlEAKcnrE",
        "colab_type": "text"
      },
      "source": [
        "But, our dependant variable is not class anymore. We are interested in exploring multi-label class."
      ]
    },
    {
      "cell_type": "code",
      "metadata": {
        "id": "iTTiioYyda0M",
        "colab_type": "code",
        "colab": {}
      },
      "source": [
        "df=data[['text','multiclass']]"
      ],
      "execution_count": 0,
      "outputs": []
    },
    {
      "cell_type": "code",
      "metadata": {
        "id": "7FXfSgzwdj7f",
        "colab_type": "code",
        "colab": {
          "base_uri": "https://localhost:8080/",
          "height": 34
        },
        "outputId": "23ab3daf-2f7e-4ff3-a3b3-bbb03cc261d0"
      },
      "source": [
        "type(df)"
      ],
      "execution_count": 16,
      "outputs": [
        {
          "output_type": "execute_result",
          "data": {
            "text/plain": [
              "pandas.core.frame.DataFrame"
            ]
          },
          "metadata": {
            "tags": []
          },
          "execution_count": 16
        }
      ]
    },
    {
      "cell_type": "code",
      "metadata": {
        "id": "e2qaEvuzdlsK",
        "colab_type": "code",
        "colab": {
          "base_uri": "https://localhost:8080/",
          "height": 195
        },
        "outputId": "5c0948b0-ba52-47bf-81ca-73abdc0db992"
      },
      "source": [
        "df.head()"
      ],
      "execution_count": 17,
      "outputs": [
        {
          "output_type": "execute_result",
          "data": {
            "text/html": [
              "<div>\n",
              "<style scoped>\n",
              "    .dataframe tbody tr th:only-of-type {\n",
              "        vertical-align: middle;\n",
              "    }\n",
              "\n",
              "    .dataframe tbody tr th {\n",
              "        vertical-align: top;\n",
              "    }\n",
              "\n",
              "    .dataframe thead th {\n",
              "        text-align: right;\n",
              "    }\n",
              "</style>\n",
              "<table border=\"1\" class=\"dataframe\">\n",
              "  <thead>\n",
              "    <tr style=\"text-align: right;\">\n",
              "      <th></th>\n",
              "      <th>text</th>\n",
              "      <th>multiclass</th>\n",
              "    </tr>\n",
              "  </thead>\n",
              "  <tbody>\n",
              "    <tr>\n",
              "      <th>0</th>\n",
              "      <td>I have to pick up my car from the garage tomorrow. I have to leave at 15:45 on Thursday.</td>\n",
              "      <td>[1, 8]</td>\n",
              "    </tr>\n",
              "    <tr>\n",
              "      <th>1</th>\n",
              "      <td>I won’t be here tomorrow, one day vacation</td>\n",
              "      <td>[2]</td>\n",
              "    </tr>\n",
              "    <tr>\n",
              "      <th>2</th>\n",
              "      <td>Missed connection in Zurich. Will be about 5-10 mins late in the office, so will miss the weekly today.</td>\n",
              "      <td>[1]</td>\n",
              "    </tr>\n",
              "    <tr>\n",
              "      <th>3</th>\n",
              "      <td>Enjoy!</td>\n",
              "      <td>[8]</td>\n",
              "    </tr>\n",
              "    <tr>\n",
              "      <th>4</th>\n",
              "      <td>I am away for 2 weeks in iceland :flag-is:</td>\n",
              "      <td>[2]</td>\n",
              "    </tr>\n",
              "  </tbody>\n",
              "</table>\n",
              "</div>"
            ],
            "text/plain": [
              "                                                                                                      text multiclass\n",
              "0                 I have to pick up my car from the garage tomorrow. I have to leave at 15:45 on Thursday.     [1, 8]\n",
              "1                                                               I won’t be here tomorrow, one day vacation        [2]\n",
              "2  Missed connection in Zurich. Will be about 5-10 mins late in the office, so will miss the weekly today.        [1]\n",
              "3                                                                                                   Enjoy!        [8]\n",
              "4                                                               I am away for 2 weeks in iceland :flag-is:        [2]"
            ]
          },
          "metadata": {
            "tags": []
          },
          "execution_count": 17
        }
      ]
    },
    {
      "cell_type": "code",
      "metadata": {
        "id": "2dbBGL-MeFlF",
        "colab_type": "code",
        "colab": {}
      },
      "source": [
        "# Remove all rows which have no annotation\n",
        "df = df.dropna()"
      ],
      "execution_count": 0,
      "outputs": []
    },
    {
      "cell_type": "code",
      "metadata": {
        "id": "5M_DTpKgeFiw",
        "colab_type": "code",
        "colab": {
          "base_uri": "https://localhost:8080/",
          "height": 34
        },
        "outputId": "63f0efd2-e21c-41bd-c1be-000ed610475c"
      },
      "source": [
        "df.shape"
      ],
      "execution_count": 19,
      "outputs": [
        {
          "output_type": "execute_result",
          "data": {
            "text/plain": [
              "(1719, 2)"
            ]
          },
          "metadata": {
            "tags": []
          },
          "execution_count": 19
        }
      ]
    },
    {
      "cell_type": "markdown",
      "metadata": {
        "id": "uxwnl2hHcwfD",
        "colab_type": "text"
      },
      "source": [
        "### checking missing value if any"
      ]
    },
    {
      "cell_type": "code",
      "metadata": {
        "id": "8G3Xmy6hWVtY",
        "colab_type": "code",
        "outputId": "e0621e9d-5573-4c31-c556-588feff4c2f8",
        "colab": {
          "base_uri": "https://localhost:8080/",
          "height": 67
        }
      },
      "source": [
        "df.isnull().sum()"
      ],
      "execution_count": 20,
      "outputs": [
        {
          "output_type": "execute_result",
          "data": {
            "text/plain": [
              "text          0\n",
              "multiclass    0\n",
              "dtype: int64"
            ]
          },
          "metadata": {
            "tags": []
          },
          "execution_count": 20
        }
      ]
    },
    {
      "cell_type": "markdown",
      "metadata": {
        "id": "UVAd10j5evrt",
        "colab_type": "text"
      },
      "source": [
        "### Separating X and y"
      ]
    },
    {
      "cell_type": "code",
      "metadata": {
        "id": "3eiPCizLezTT",
        "colab_type": "code",
        "colab": {}
      },
      "source": [
        "X = df['text']\n",
        "y = df['multiclass']"
      ],
      "execution_count": 0,
      "outputs": []
    },
    {
      "cell_type": "markdown",
      "metadata": {
        "id": "lgfioWuX8Ucb",
        "colab_type": "text"
      },
      "source": [
        "# 3)- Making Helper Functions"
      ]
    },
    {
      "cell_type": "code",
      "metadata": {
        "id": "oVwCVUjl8YKy",
        "colab_type": "code",
        "colab": {}
      },
      "source": [
        "lemm = WordNetLemmatizer()\n",
        "stemmer = nltk.PorterStemmer()\n",
        "analyzer = CountVectorizer().build_analyzer()\n",
        "\n",
        "def lemma(doc):\n",
        "    return [lemm.lemmatize(w) for w in analyzer(doc)]\n",
        "\n",
        "\n",
        "def no_lemma(doc):\n",
        "    return [w for w in analyzer(doc)]\n",
        "\n",
        "\n",
        "def stemmed(doc):\n",
        "    return [stemmer.stem(w) for w in analyzer(doc)]\n",
        "\n",
        "\n",
        "def no_stemmed(doc):\n",
        "    return [w for w in analyzer(doc)]\n",
        "\n",
        "\n",
        "def mask_integers(text):\n",
        "    return re.sub(r'\\d+', '_NUMBER', text)\n",
        "\n",
        "\n",
        "def mask_times(text):\n",
        "    \"\"\"\n",
        "    Replaces times written like 12:50, 1PM, 4:15am, etc to _time token.\n",
        "    :param    text    Input text\n",
        "    :return           Output text with replaced times.\n",
        "    \"\"\"\n",
        "    re_time1 = '\\d{1,2}[:.]\\d{2}(?:am|pm|AM|PM)'\n",
        "    re_time2 = '\\d{1,2}[:.]\\d{2}'\n",
        "    re_time3 = '\\d{1,2}(?:am|pm|AM|PM)'\n",
        "    rec_time = re.compile(re_time1 + '|' + re_time2 + '|' + re_time3)\n",
        "    return re.sub(rec_time, '_TIME', text)\n",
        "\n",
        "\n",
        "def mask_emojis(text):\n",
        "    \"\"\"\n",
        "    Replaces all different emojis to _emoji token.\n",
        "    :param    text    Input text\n",
        "    :return           Output text with replaced emojis.    \n",
        "    \"\"\"\n",
        "    re_icons = ':[a-z-_]*:'\n",
        "    re_ldsd = '\\<(.*?)\\>'\n",
        "    rec_icons = re.compile(re_icons + \"|\" + re_ldsd)\n",
        "    return re.sub(rec_icons, '_EMOJI', text)\n",
        "\n",
        "\n",
        "def mask_all(text):\n",
        "    text = mask_times(text)\n",
        "    text = mask_emojis(text)\n",
        "    text = mask_integers(text)\n",
        "    return text\n",
        "\n",
        "\n",
        "def train_and_test(steps, X_train, X_test, y_train, y_test):\n",
        "    \"\"\"\n",
        "    Trains and tests the pipeline with the given steps. \n",
        "    :param steps:       List of operations inside the pipeline.\n",
        "    :param X_train:     Training data\n",
        "    :param X_test:      Training labels\n",
        "    :param y_train:     Testing data\n",
        "    :param y_test:      Testing labels\n",
        "    :return:            Trained model\n",
        "    \"\"\"\n",
        "    pipeline = Pipeline(steps)\n",
        "    folds = 10\n",
        "    xval_score = cross_val_score(pipeline, X_train, y_train, cv=folds, n_jobs=-1)\n",
        "    \n",
        "    xv_min = np.min(xval_score)\n",
        "    xv_max = np.max(xval_score)\n",
        "    xv_mean = np.mean(xval_score)\n",
        "    xv_std = np.std(xval_score)\n",
        "    print('{} fold Cross Validation Score: <{:.2f}, {:.2f}>; µ={:.2f}'.format(folds, xv_min, xv_max, xv_mean))\n",
        "    pipeline = pipeline.fit(X_train, y_train)\n",
        "    print('Score on test set: {:.2f}'.format(pipeline.score(X_test, y_test)))\n",
        "    return pipeline\n",
        "\n",
        "\n",
        "def tag_message(pipeline, message):\n",
        "    y_pred = pipeline.predict([message])[0]\n",
        "    print('{:>20} | {}'.format(dict_classes[y_pred], message))\n",
        "    \n",
        "\n",
        "def multitag_message(pipeline, message):\n",
        "    y_pred = pipeline.predict([message])[0]\n",
        "    tags = [dict_classes[i+1] for i, yi in enumerate(y_pred) if yi == 1]\n",
        "    # Remove `misc` tag if the list contains other tags as well.\n",
        "    if len(tags) > 1 and dict_classes[8] in tags:\n",
        "        del tags[tags.index(dict_classes[8])]\n",
        "    print('{:>30} | {}'.format('['+'] ['.join(tags)+']', message))\n",
        "\n",
        "\n",
        "  "
      ],
      "execution_count": 0,
      "outputs": []
    },
    {
      "cell_type": "markdown",
      "metadata": {
        "id": "_wAe8DCzAYQv",
        "colab_type": "text"
      },
      "source": [
        "# 4)- Data Preprocessing"
      ]
    },
    {
      "cell_type": "code",
      "metadata": {
        "id": "4SbRPWvAfCZF",
        "colab_type": "code",
        "colab": {
          "base_uri": "https://localhost:8080/",
          "height": 118
        },
        "outputId": "b415d31d-1264-44cf-b1b5-92d05b405f4b"
      },
      "source": [
        "X[:5]"
      ],
      "execution_count": 23,
      "outputs": [
        {
          "output_type": "execute_result",
          "data": {
            "text/plain": [
              "0                   I have to pick up my car from the garage tomorrow. I have to leave at 15:45 on Thursday.\n",
              "1                                                                 I won’t be here tomorrow, one day vacation\n",
              "2    Missed connection in Zurich. Will be about 5-10 mins late in the office, so will miss the weekly today.\n",
              "3                                                                                                     Enjoy!\n",
              "4                                                                 I am away for 2 weeks in iceland :flag-is:\n",
              "Name: text, dtype: object"
            ]
          },
          "metadata": {
            "tags": []
          },
          "execution_count": 23
        }
      ]
    },
    {
      "cell_type": "code",
      "metadata": {
        "id": "cUgqkIVcfEXa",
        "colab_type": "code",
        "colab": {
          "base_uri": "https://localhost:8080/",
          "height": 118
        },
        "outputId": "ea1fb6e9-c340-40c3-a5c0-807d8ff4eab1"
      },
      "source": [
        "y[:5]"
      ],
      "execution_count": 24,
      "outputs": [
        {
          "output_type": "execute_result",
          "data": {
            "text/plain": [
              "0    [1, 8]\n",
              "1       [2]\n",
              "2       [1]\n",
              "3       [8]\n",
              "4       [2]\n",
              "Name: multiclass, dtype: object"
            ]
          },
          "metadata": {
            "tags": []
          },
          "execution_count": 24
        }
      ]
    },
    {
      "cell_type": "code",
      "metadata": {
        "id": "jtknxmDEfGK4",
        "colab_type": "code",
        "colab": {
          "base_uri": "https://localhost:8080/",
          "height": 118
        },
        "outputId": "2c1a57e8-9ddc-40d5-eb84-9425af74a2a2"
      },
      "source": [
        "# Convert the categorical class vectors to binary vectors with MultiLabelBinarizer\n",
        "ym = MultiLabelBinarizer().fit_transform(y)\n",
        "print(ym.shape)\n",
        "ym[:5]"
      ],
      "execution_count": 25,
      "outputs": [
        {
          "output_type": "stream",
          "text": [
            "(1719, 8)\n"
          ],
          "name": "stdout"
        },
        {
          "output_type": "execute_result",
          "data": {
            "text/plain": [
              "array([[1, 0, 0, 0, 0, 0, 0, 1],\n",
              "       [0, 1, 0, 0, 0, 0, 0, 0],\n",
              "       [1, 0, 0, 0, 0, 0, 0, 0],\n",
              "       [0, 0, 0, 0, 0, 0, 0, 1],\n",
              "       [0, 1, 0, 0, 0, 0, 0, 0]])"
            ]
          },
          "metadata": {
            "tags": []
          },
          "execution_count": 25
        }
      ]
    },
    {
      "cell_type": "markdown",
      "metadata": {
        "id": "P7C3UPFdAnvp",
        "colab_type": "text"
      },
      "source": [
        "### 4a)- Train-Test Split"
      ]
    },
    {
      "cell_type": "code",
      "metadata": {
        "id": "wxaXSteWYnd8",
        "colab_type": "code",
        "colab": {}
      },
      "source": [
        "X_train, X_test, y_train, y_test = train_test_split(X, ym, test_size=0.20, random_state=1)"
      ],
      "execution_count": 0,
      "outputs": []
    },
    {
      "cell_type": "code",
      "metadata": {
        "id": "xqBcIolHAsY3",
        "colab_type": "code",
        "outputId": "4302c1ce-6946-43b6-8bcf-fd585b7b2c95",
        "colab": {
          "base_uri": "https://localhost:8080/",
          "height": 84
        }
      },
      "source": [
        "print(X_train.shape)\n",
        "print(X_test.shape)\n",
        "print(y_train.shape)\n",
        "print(y_test.shape)"
      ],
      "execution_count": 27,
      "outputs": [
        {
          "output_type": "stream",
          "text": [
            "(1375,)\n",
            "(344,)\n",
            "(1375, 8)\n",
            "(344, 8)\n"
          ],
          "name": "stdout"
        }
      ]
    },
    {
      "cell_type": "markdown",
      "metadata": {
        "id": "GFncF0AKA1eX",
        "colab_type": "text"
      },
      "source": [
        "# 5)- Buidling NLP pipeline\n",
        "\n",
        "https://buhrmann.github.io/sklearn-pipelines.html"
      ]
    },
    {
      "cell_type": "code",
      "metadata": {
        "id": "acGcCPM8g7lN",
        "colab_type": "code",
        "colab": {
          "base_uri": "https://localhost:8080/",
          "height": 50
        },
        "outputId": "9ae0345f-5034-42a4-e89b-32fe0ad5f868"
      },
      "source": [
        "steps = [('vectorizer', CountVectorizer(ngram_range=(1,2), \n",
        "                                        preprocessor=mask_all, \n",
        "                                        analyzer=stemmed, \n",
        "                                        stop_words='english')),\n",
        "         ('transformer', TfidfTransformer()),\n",
        "         ('classifier', OneVsRestClassifier(SVC(kernel='linear')))]\n",
        "pipeline1 = train_and_test(steps, X_train, X_test, y_train, y_test)"
      ],
      "execution_count": 28,
      "outputs": [
        {
          "output_type": "stream",
          "text": [
            "10 fold Cross Validation Score: <0.51, 0.69>; µ=0.59\n",
            "Score on test set: 0.62\n"
          ],
          "name": "stdout"
        }
      ]
    },
    {
      "cell_type": "code",
      "metadata": {
        "id": "QjbM7AiOYqxc",
        "colab_type": "code",
        "colab": {}
      },
      "source": [
        "# predicted value\n",
        "y_pred_list = pipeline1.predict(X_test).tolist()"
      ],
      "execution_count": 0,
      "outputs": []
    },
    {
      "cell_type": "code",
      "metadata": {
        "id": "CS7bHWY4hrGg",
        "colab_type": "code",
        "colab": {}
      },
      "source": [
        "# true value\n",
        "y_test_list = y_test.tolist()"
      ],
      "execution_count": 0,
      "outputs": []
    },
    {
      "cell_type": "code",
      "metadata": {
        "id": "gXBTZ6BuhpjE",
        "colab_type": "code",
        "colab": {
          "base_uri": "https://localhost:8080/",
          "height": 353
        },
        "outputId": "3e52516a-e3bc-42e3-9514-87a8b8fe52b2"
      },
      "source": [
        "for index in range(len(y_pred_list))[:10]:\n",
        "    if y_pred_list[index] != y_test_list[index]:\n",
        "        print('[pred]: ', y_pred_list[index])\n",
        "        print('[true]: ', y_test_list[index])\n",
        "        print('[doc ]: ', X_test.iloc[index])\n",
        "        print()"
      ],
      "execution_count": 31,
      "outputs": [
        {
          "output_type": "stream",
          "text": [
            "[pred]:  [0, 0, 1, 0, 0, 0, 0, 0]\n",
            "[true]:  [0, 0, 1, 0, 0, 0, 0, 1]\n",
            "[doc ]:  I just get the confirmation for my appointment on monday. I will be off in the morning and in HO after lunch time.\n",
            "\n",
            "[pred]:  [1, 0, 0, 0, 0, 0, 0, 0]\n",
            "[true]:  [0, 1, 0, 0, 0, 0, 0, 0]\n",
            "[doc ]:  I will be away from the 25th to the 3rd of December.\n",
            "\n",
            "[pred]:  [1, 0, 1, 0, 0, 0, 0, 1]\n",
            "[true]:  [0, 0, 1, 0, 0, 0, 1, 1]\n",
            "[doc ]:  I do HO in the morning. We are expecting a phone call from the real estate agent around 12:00-13:00. I come to the office after the call. Sorry for the late announcement.\n",
            "\n",
            "[pred]:  [1, 0, 0, 0, 0, 0, 0, 0]\n",
            "[true]:  [1, 0, 0, 0, 0, 0, 0, 1]\n",
            "[doc ]:  Tomorrow I’ll have to head out for a while, our stuff will arrive from Hungary. Don’t know exactly when, the transporter will call. They estimated it around noon.\n",
            "\n",
            "[pred]:  [0, 0, 1, 1, 0, 0, 0, 0]\n",
            "[true]:  [0, 0, 0, 1, 0, 0, 0, 0]\n",
            "[doc ]:  My wife has a doctors appointment today afternoon so i will be in home office after lunch\n",
            "\n"
          ],
          "name": "stdout"
        }
      ]
    },
    {
      "cell_type": "markdown",
      "metadata": {
        "id": "M1Sj4S-Mh4av",
        "colab_type": "text"
      },
      "source": [
        "### testing on out of sample data"
      ]
    },
    {
      "cell_type": "code",
      "metadata": {
        "id": "mlcvqvKAh2-e",
        "colab_type": "code",
        "colab": {
          "base_uri": "https://localhost:8080/",
          "height": 202
        },
        "outputId": "c154600d-f2c2-4165-ad32-446e050645b1"
      },
      "source": [
        "multitag_message(pipeline1, 'I don\\'t feel well, stay home and don\\'t come to the office.')\n",
        "multitag_message(pipeline1, 'My alarm clock was not set properly. I come to the office asap.')\n",
        "multitag_message(pipeline1, 'It is my scheduled day off, see you on Tuesday.')\n",
        "multitag_message(pipeline1, 'I\\'m having a terrible headache, I stay home and work from here.')\n",
        "multitag_message(pipeline1, 'I work at home on Tuesday.')\n",
        "multitag_message(pipeline1, 'In the morning I\\'ve a meeting with IBM, I\\'ll be back at 1pm.')\n",
        "multitag_message(pipeline1, 'I\\'m off, see you tomorrow.')\n",
        "multitag_message(pipeline1, 'get well soon!')\n",
        "multitag_message(pipeline1, 'I\\'m away for a long lunch between 12:00 and 15:30')\n",
        "multitag_message(pipeline1, 'I\\'ve an appointment at 12:00 at the physiotherapy.')\n",
        "multitag_message(pipeline1, 'I go to the doctor and will be online again after 18:00.')"
      ],
      "execution_count": 32,
      "outputs": [
        {
          "output_type": "stream",
          "text": [
            "                         [ill] | I don't feel well, stay home and don't come to the office.\n",
            "                  [late/early] | My alarm clock was not set properly. I come to the office asap.\n",
            "        [holidays] [in office] | It is my scheduled day off, see you on Tuesday.\n",
            "           [home office] [ill] | I'm having a terrible headache, I stay home and work from here.\n",
            "                 [home office] | I work at home on Tuesday.\n",
            "        [business] [in office] | In the morning I've a meeting with IBM, I'll be back at 1pm.\n",
            "        [holidays] [in office] | I'm off, see you tomorrow.\n",
            "               [miscellanious] | get well soon!\n",
            "                  [late/early] | I'm away for a long lunch between 12:00 and 15:30\n",
            "                     [med app] | I've an appointment at 12:00 at the physiotherapy.\n",
            "       [home office] [med app] | I go to the doctor and will be online again after 18:00.\n"
          ],
          "name": "stdout"
        }
      ]
    },
    {
      "cell_type": "markdown",
      "metadata": {
        "id": "wZN4uFRLi_Lz",
        "colab_type": "text"
      },
      "source": [
        "# 6)-Multi label predictions with sentence tokenization\n",
        "\n",
        "We will use part of speech (POS) tagging to analyse the sentence and see if it can be splitted or not.\n",
        "\n",
        "-Key assumption:\n",
        "\n",
        "- A document has only multiple class labels when it has multiple sentences.\n",
        "- Every sentence contains only one class label."
      ]
    },
    {
      "cell_type": "markdown",
      "metadata": {
        "id": "kAkwALywk3KA",
        "colab_type": "text"
      },
      "source": [
        "### a)-Helper Function"
      ]
    },
    {
      "cell_type": "code",
      "metadata": {
        "id": "JsvO_EtHi7yr",
        "colab_type": "code",
        "colab": {}
      },
      "source": [
        "def sentence_tokenizer(text, verbose=False):\n",
        "    # Some input checking.\n",
        "    if not isinstance(text, str):\n",
        "        print('[!] Input type should be a string, not a {}'.format(type(text)))\n",
        "        exit(1)\n",
        "        \n",
        "    # Split sentences with NLTK\n",
        "    text_list_1 = nltk.sent_tokenize(text)\n",
        "    \n",
        "    # Split sentences with our POS tagging method\n",
        "    text_list_2 = []\n",
        "    for text in text_list_1:\n",
        "        text_list_2 += custom_sentence_tokenizer(text, verbose)\n",
        "    \n",
        "    return text_list_2\n",
        "\n",
        "\n",
        "def custom_sentence_tokenizer(text, verbose=False):\n",
        "    # container for final result\n",
        "    new_split = []\n",
        "    \n",
        "    # Split sentences by a comma, 'and' and 'or'.\n",
        "    text_list = re.split(',| and | or | but | \\(', text)\n",
        "    \n",
        "    # Remove white spaces and empty string elements from the list\n",
        "    text_list = [x.strip() for x in text_list]\n",
        "    text_list = list(filter(None, text_list))\n",
        "        \n",
        "    # Append first list element to the new list.\n",
        "    new_split.append(text_list[0])\n",
        "    \n",
        "    # Check if the splits are valid sentences. If not, glue the parts together again.\n",
        "    for index in range(1, len(text_list)):\n",
        "        \n",
        "        # Keep the split if both parts of the sentences contain a verb.\n",
        "        if has_verb(text_list[index-1], verbose) and has_verb(text_list[index], verbose):\n",
        "            new_split.append(text_list[index])\n",
        "        # Glue the parts together again, since POS requirements are not met.\n",
        "        else:\n",
        "            new_split[-1] += ' ' + text_list[index]\n",
        "    \n",
        "    if verbose:\n",
        "        print('[.] Input sentence:')\n",
        "        print('    ', text)\n",
        "        print('[.] Output sentence(s):')\n",
        "        print('    ', new_split)\n",
        "    return new_split\n",
        "    \n",
        "\n",
        "def has_verb(sentence, verbose=False):\n",
        "    pos_tagged = nltk.pos_tag(nltk.word_tokenize(sentence))\n",
        "    if verbose:\n",
        "        print(pos_tagged)\n",
        "    if 'VB' in [tag[1][:2] for tag in pos_tagged]:\n",
        "        return True\n",
        "    return False\n",
        "\n",
        "\n",
        "def split_sentences_in_dataframe(df, verbose=False):\n",
        "    new_df = pd.DataFrame()\n",
        "    for index, row in df.iterrows():\n",
        "        text = row['text']\n",
        "        text_list = sentence_tokenizer(text, verbose)\n",
        "        for text_part in text_list:\n",
        "            new_row = row.copy()\n",
        "            new_row['text'] = text_part\n",
        "            new_df = new_df.append(new_row)\n",
        "    return new_df"
      ],
      "execution_count": 0,
      "outputs": []
    },
    {
      "cell_type": "markdown",
      "metadata": {
        "id": "gOv6UGe-k7RY",
        "colab_type": "text"
      },
      "source": [
        "### b)- Example"
      ]
    },
    {
      "cell_type": "code",
      "metadata": {
        "id": "ukwWgdrVlGoa",
        "colab_type": "code",
        "colab": {
          "base_uri": "https://localhost:8080/",
          "height": 101
        },
        "outputId": "97c9f4b9-43a5-428a-cf23-a736bdf8c976"
      },
      "source": [
        "nltk.download('averaged_perceptron_tagger')"
      ],
      "execution_count": 34,
      "outputs": [
        {
          "output_type": "stream",
          "text": [
            "[nltk_data] Downloading package averaged_perceptron_tagger to\n",
            "[nltk_data]     /root/nltk_data...\n",
            "[nltk_data]   Package averaged_perceptron_tagger is already up-to-\n",
            "[nltk_data]       date!\n"
          ],
          "name": "stdout"
        },
        {
          "output_type": "execute_result",
          "data": {
            "text/plain": [
              "True"
            ]
          },
          "metadata": {
            "tags": []
          },
          "execution_count": 34
        }
      ]
    },
    {
      "cell_type": "code",
      "metadata": {
        "id": "KG8UCTY7i710",
        "colab_type": "code",
        "colab": {}
      },
      "source": [
        "doc1 = \"I'm afraid I can't explain myself, sir. Because I am not myself, you see?\"\n",
        "doc2 = \"I have to leave around 11am, having a meeting with alice and will be back after 15:00.\""
      ],
      "execution_count": 0,
      "outputs": []
    },
    {
      "cell_type": "code",
      "metadata": {
        "id": "hgieSieKi74W",
        "colab_type": "code",
        "colab": {
          "base_uri": "https://localhost:8080/",
          "height": 50
        },
        "outputId": "3cf0fc32-be68-495c-9241-c2e99a9697f4"
      },
      "source": [
        "nltk.sent_tokenize(doc1)"
      ],
      "execution_count": 36,
      "outputs": [
        {
          "output_type": "execute_result",
          "data": {
            "text/plain": [
              "[\"I'm afraid I can't explain myself, sir.\",\n",
              " 'Because I am not myself, you see?']"
            ]
          },
          "metadata": {
            "tags": []
          },
          "execution_count": 36
        }
      ]
    },
    {
      "cell_type": "code",
      "metadata": {
        "id": "ZwjWI6oKi76_",
        "colab_type": "code",
        "colab": {
          "base_uri": "https://localhost:8080/",
          "height": 269
        },
        "outputId": "b6256468-e61b-4eab-907d-83ee2936455f"
      },
      "source": [
        "sentence_tokenizer(doc1, True)"
      ],
      "execution_count": 37,
      "outputs": [
        {
          "output_type": "stream",
          "text": [
            "[('I', 'PRP'), (\"'m\", 'VBP'), ('afraid', 'JJ'), ('I', 'PRP'), ('ca', 'MD'), (\"n't\", 'RB'), ('explain', 'VB'), ('myself', 'PRP')]\n",
            "[('sir', 'NN'), ('.', '.')]\n",
            "[.] Input sentence:\n",
            "     I'm afraid I can't explain myself, sir.\n",
            "[.] Output sentence(s):\n",
            "     [\"I'm afraid I can't explain myself sir.\"]\n",
            "[('Because', 'IN'), ('I', 'PRP'), ('am', 'VBP'), ('not', 'RB'), ('myself', 'PRP')]\n",
            "[('you', 'PRP'), ('see', 'VBP'), ('?', '.')]\n",
            "[.] Input sentence:\n",
            "     Because I am not myself, you see?\n",
            "[.] Output sentence(s):\n",
            "     ['Because I am not myself', 'you see?']\n"
          ],
          "name": "stdout"
        },
        {
          "output_type": "execute_result",
          "data": {
            "text/plain": [
              "[\"I'm afraid I can't explain myself sir.\",\n",
              " 'Because I am not myself',\n",
              " 'you see?']"
            ]
          },
          "metadata": {
            "tags": []
          },
          "execution_count": 37
        }
      ]
    },
    {
      "cell_type": "code",
      "metadata": {
        "id": "1fPd0qVolTSC",
        "colab_type": "code",
        "colab": {
          "base_uri": "https://localhost:8080/",
          "height": 34
        },
        "outputId": "2062e28b-ab74-4502-fdcb-b0c1a70b6f93"
      },
      "source": [
        "nltk.sent_tokenize(doc2)"
      ],
      "execution_count": 38,
      "outputs": [
        {
          "output_type": "execute_result",
          "data": {
            "text/plain": [
              "['I have to leave around 11am, having a meeting with alice and will be back after 15:00.']"
            ]
          },
          "metadata": {
            "tags": []
          },
          "execution_count": 38
        }
      ]
    },
    {
      "cell_type": "code",
      "metadata": {
        "id": "R1Kf-igIi8BB",
        "colab_type": "code",
        "colab": {
          "base_uri": "https://localhost:8080/",
          "height": 202
        },
        "outputId": "15b235bd-fc05-49b7-fffe-2a84b5804360"
      },
      "source": [
        "sentence_tokenizer(doc2, True)"
      ],
      "execution_count": 39,
      "outputs": [
        {
          "output_type": "stream",
          "text": [
            "[('I', 'PRP'), ('have', 'VBP'), ('to', 'TO'), ('leave', 'VB'), ('around', 'RP'), ('11am', 'CD')]\n",
            "[('having', 'VBG'), ('a', 'DT'), ('meeting', 'NN'), ('with', 'IN'), ('alice', 'NN')]\n",
            "[('having', 'VBG'), ('a', 'DT'), ('meeting', 'NN'), ('with', 'IN'), ('alice', 'NN')]\n",
            "[('will', 'MD'), ('be', 'VB'), ('back', 'RB'), ('after', 'IN'), ('15:00', 'CD'), ('.', '.')]\n",
            "[.] Input sentence:\n",
            "     I have to leave around 11am, having a meeting with alice and will be back after 15:00.\n",
            "[.] Output sentence(s):\n",
            "     ['I have to leave around 11am', 'having a meeting with alice', 'will be back after 15:00.']\n"
          ],
          "name": "stdout"
        },
        {
          "output_type": "execute_result",
          "data": {
            "text/plain": [
              "['I have to leave around 11am',\n",
              " 'having a meeting with alice',\n",
              " 'will be back after 15:00.']"
            ]
          },
          "metadata": {
            "tags": []
          },
          "execution_count": 39
        }
      ]
    },
    {
      "cell_type": "markdown",
      "metadata": {
        "id": "xGbqmW1QleJl",
        "colab_type": "text"
      },
      "source": [
        "### c)- Back to dataset"
      ]
    },
    {
      "cell_type": "code",
      "metadata": {
        "id": "4n2xTOhBi7-E",
        "colab_type": "code",
        "colab": {
          "base_uri": "https://localhost:8080/",
          "height": 343
        },
        "outputId": "353f5a25-a1eb-4d46-f3f4-e8d41facf542"
      },
      "source": [
        "df_messages = pd.read_pickle('messages-cls-ms.pkl')\n",
        "df_messages.head(10)"
      ],
      "execution_count": 40,
      "outputs": [
        {
          "output_type": "execute_result",
          "data": {
            "text/html": [
              "<div>\n",
              "<style scoped>\n",
              "    .dataframe tbody tr th:only-of-type {\n",
              "        vertical-align: middle;\n",
              "    }\n",
              "\n",
              "    .dataframe tbody tr th {\n",
              "        vertical-align: top;\n",
              "    }\n",
              "\n",
              "    .dataframe thead th {\n",
              "        text-align: right;\n",
              "    }\n",
              "</style>\n",
              "<table border=\"1\" class=\"dataframe\">\n",
              "  <thead>\n",
              "    <tr style=\"text-align: right;\">\n",
              "      <th></th>\n",
              "      <th>user</th>\n",
              "      <th>class</th>\n",
              "      <th>text</th>\n",
              "      <th>ts</th>\n",
              "      <th>key</th>\n",
              "    </tr>\n",
              "  </thead>\n",
              "  <tbody>\n",
              "    <tr>\n",
              "      <th>0</th>\n",
              "      <td>Balaemar</td>\n",
              "      <td>8</td>\n",
              "      <td>I have to pick up my car from the garage tomorrow.</td>\n",
              "      <td>1.503303e+09</td>\n",
              "      <td>1503303350U035FRUCY</td>\n",
              "    </tr>\n",
              "    <tr>\n",
              "      <th>0</th>\n",
              "      <td>Balaemar</td>\n",
              "      <td>1</td>\n",
              "      <td>I have to leave at 15:45 on Thursday.</td>\n",
              "      <td>1.503303e+09</td>\n",
              "      <td>1503303350U035FRUCY</td>\n",
              "    </tr>\n",
              "    <tr>\n",
              "      <th>1</th>\n",
              "      <td>Ragaenys</td>\n",
              "      <td>2</td>\n",
              "      <td>I won’t be here tomorrow one day vacation</td>\n",
              "      <td>1.503302e+09</td>\n",
              "      <td>1503301710U4A2FRAQ4</td>\n",
              "    </tr>\n",
              "    <tr>\n",
              "      <th>2</th>\n",
              "      <td>Myke</td>\n",
              "      <td>1</td>\n",
              "      <td>Missed connection in Zurich.</td>\n",
              "      <td>1.503296e+09</td>\n",
              "      <td>1503296123U0MGNKETU</td>\n",
              "    </tr>\n",
              "    <tr>\n",
              "      <th>2</th>\n",
              "      <td>Myke</td>\n",
              "      <td>1</td>\n",
              "      <td>Will be about 5-10 mins late in the office</td>\n",
              "      <td>1.503296e+09</td>\n",
              "      <td>1503296123U0MGNKETU</td>\n",
              "    </tr>\n",
              "    <tr>\n",
              "      <th>2</th>\n",
              "      <td>Myke</td>\n",
              "      <td>1</td>\n",
              "      <td>so will miss the weekly today.</td>\n",
              "      <td>1.503296e+09</td>\n",
              "      <td>1503296123U0MGNKETU</td>\n",
              "    </tr>\n",
              "    <tr>\n",
              "      <th>3</th>\n",
              "      <td>Drevyn</td>\n",
              "      <td>8</td>\n",
              "      <td>Enjoy!</td>\n",
              "      <td>1.503260e+09</td>\n",
              "      <td>1503259722U035B8PRU</td>\n",
              "    </tr>\n",
              "    <tr>\n",
              "      <th>4</th>\n",
              "      <td>Gaelralis</td>\n",
              "      <td>2</td>\n",
              "      <td>I am away for 2 weeks in iceland :flag-is:</td>\n",
              "      <td>1.503258e+09</td>\n",
              "      <td>1503258060U0HLAK1T6</td>\n",
              "    </tr>\n",
              "    <tr>\n",
              "      <th>5</th>\n",
              "      <td>Gonaleos</td>\n",
              "      <td>8</td>\n",
              "      <td>Monday is the first day in school for my son</td>\n",
              "      <td>1.503223e+09</td>\n",
              "      <td>1503222795U3W886EF4</td>\n",
              "    </tr>\n",
              "    <tr>\n",
              "      <th>5</th>\n",
              "      <td>Gonaleos</td>\n",
              "      <td>8</td>\n",
              "      <td>I am going to go there with him</td>\n",
              "      <td>1.503223e+09</td>\n",
              "      <td>1503222795U3W886EF4</td>\n",
              "    </tr>\n",
              "  </tbody>\n",
              "</table>\n",
              "</div>"
            ],
            "text/plain": [
              "        user  class  ...            ts                  key\n",
              "0   Balaemar      8  ...  1.503303e+09  1503303350U035FRUCY\n",
              "0   Balaemar      1  ...  1.503303e+09  1503303350U035FRUCY\n",
              "1   Ragaenys      2  ...  1.503302e+09  1503301710U4A2FRAQ4\n",
              "2       Myke      1  ...  1.503296e+09  1503296123U0MGNKETU\n",
              "2       Myke      1  ...  1.503296e+09  1503296123U0MGNKETU\n",
              "2       Myke      1  ...  1.503296e+09  1503296123U0MGNKETU\n",
              "3     Drevyn      8  ...  1.503260e+09  1503259722U035B8PRU\n",
              "4  Gaelralis      2  ...  1.503258e+09  1503258060U0HLAK1T6\n",
              "5   Gonaleos      8  ...  1.503223e+09  1503222795U3W886EF4\n",
              "5   Gonaleos      8  ...  1.503223e+09  1503222795U3W886EF4\n",
              "\n",
              "[10 rows x 5 columns]"
            ]
          },
          "metadata": {
            "tags": []
          },
          "execution_count": 40
        }
      ]
    },
    {
      "cell_type": "markdown",
      "metadata": {
        "id": "evLZEUAhnid3",
        "colab_type": "text"
      },
      "source": [
        "So , first data has been tagged and tokenized into separated sentences with one class representing each sentence. Then annotation is done. And hence, data is ready to be analysed ."
      ]
    },
    {
      "cell_type": "code",
      "metadata": {
        "id": "Cu5wDs-6lonm",
        "colab_type": "code",
        "colab": {
          "base_uri": "https://localhost:8080/",
          "height": 34
        },
        "outputId": "bda59193-166f-4036-8bb4-fe9672a4d0b2"
      },
      "source": [
        "# Convert the class column to int, it might be stored as a string\n",
        "df_messages['class'] = df_messages.loc[:, 'class'].astype(np.uint8).values\n",
        "print('Number of documents: {}'.format(len(df_messages)))"
      ],
      "execution_count": 41,
      "outputs": [
        {
          "output_type": "stream",
          "text": [
            "Number of documents: 3105\n"
          ],
          "name": "stdout"
        }
      ]
    },
    {
      "cell_type": "code",
      "metadata": {
        "id": "S4448XBKl32I",
        "colab_type": "code",
        "colab": {}
      },
      "source": [
        "X=df_messages['text']\n",
        "y=df_messages['class']"
      ],
      "execution_count": 0,
      "outputs": []
    },
    {
      "cell_type": "code",
      "metadata": {
        "id": "DXrte4J6l0xx",
        "colab_type": "code",
        "colab": {}
      },
      "source": [
        "X_train, X_test, y_train, y_test = train_test_split(X, y,test_size=0.20, random_state=1)"
      ],
      "execution_count": 0,
      "outputs": []
    },
    {
      "cell_type": "code",
      "metadata": {
        "id": "pzgiXW77mET_",
        "colab_type": "code",
        "colab": {
          "base_uri": "https://localhost:8080/",
          "height": 84
        },
        "outputId": "3bf614e3-9dc2-463e-aa1b-66b6ed96609f"
      },
      "source": [
        "print(X_train.shape)\n",
        "print(X_test.shape)\n",
        "print(y_train.shape)\n",
        "print(y_test.shape)"
      ],
      "execution_count": 44,
      "outputs": [
        {
          "output_type": "stream",
          "text": [
            "(2484,)\n",
            "(621,)\n",
            "(2484,)\n",
            "(621,)\n"
          ],
          "name": "stdout"
        }
      ]
    },
    {
      "cell_type": "markdown",
      "metadata": {
        "id": "ufn2b09mnz8I",
        "colab_type": "text"
      },
      "source": [
        "# 7)- Building Pipelines"
      ]
    },
    {
      "cell_type": "code",
      "metadata": {
        "id": "zQfcPZOVn_lP",
        "colab_type": "code",
        "colab": {
          "base_uri": "https://localhost:8080/",
          "height": 50
        },
        "outputId": "ed528cf0-4528-4221-b2a6-1ef296276d03"
      },
      "source": [
        "teps = [('vectorizer', CountVectorizer(analyzer=stemmed,\n",
        "                                        ngram_range=(1,2),\n",
        "                                        stop_words='english',\n",
        "                                        preprocessor=mask_all)),\n",
        "         ('transformer', TfidfTransformer()),\n",
        "         ('classifier', LinearSVC(C=1))]\n",
        "pipeline2 = train_and_test(steps, X_train, X_test, y_train, y_test)"
      ],
      "execution_count": 45,
      "outputs": [
        {
          "output_type": "stream",
          "text": [
            "10 fold Cross Validation Score: <0.80, 0.91>; µ=0.86\n",
            "Score on test set: 0.87\n"
          ],
          "name": "stdout"
        }
      ]
    },
    {
      "cell_type": "code",
      "metadata": {
        "id": "M6IExFAgn_oW",
        "colab_type": "code",
        "colab": {}
      },
      "source": [
        "# predicted values\n",
        "y_pred = pipeline2.predict(X_test)"
      ],
      "execution_count": 0,
      "outputs": []
    },
    {
      "cell_type": "markdown",
      "metadata": {
        "id": "n5fbZNbYo94p",
        "colab_type": "text"
      },
      "source": [
        "### 7a)-Accuracy"
      ]
    },
    {
      "cell_type": "code",
      "metadata": {
        "id": "FYkYS2-BonQa",
        "colab_type": "code",
        "colab": {
          "base_uri": "https://localhost:8080/",
          "height": 34
        },
        "outputId": "dfa85fe2-d900-4276-c4ab-ba61f722adf2"
      },
      "source": [
        "from sklearn.metrics import accuracy_score\n",
        "print(accuracy_score(y_pred=y_pred, y_true=y_test))"
      ],
      "execution_count": 47,
      "outputs": [
        {
          "output_type": "stream",
          "text": [
            "0.8743961352657005\n"
          ],
          "name": "stdout"
        }
      ]
    },
    {
      "cell_type": "markdown",
      "metadata": {
        "id": "IxtR5VUYpB7N",
        "colab_type": "text"
      },
      "source": [
        "### 7b)-Classification Report"
      ]
    },
    {
      "cell_type": "code",
      "metadata": {
        "id": "_8NdIPoan_tW",
        "colab_type": "code",
        "colab": {
          "base_uri": "https://localhost:8080/",
          "height": 269
        },
        "outputId": "ef1e7f71-4ea5-4a96-c3e2-d4c323cc3023"
      },
      "source": [
        "print(classification_report(y_pred=y_pred, y_true=y_test))"
      ],
      "execution_count": 48,
      "outputs": [
        {
          "output_type": "stream",
          "text": [
            "              precision    recall  f1-score   support\n",
            "\n",
            "           1       0.84      0.87      0.86       166\n",
            "           2       0.97      0.91      0.94        32\n",
            "           3       0.93      0.91      0.92       114\n",
            "           4       0.93      0.74      0.83        35\n",
            "           5       0.86      0.75      0.80        32\n",
            "           6       0.89      0.96      0.92        25\n",
            "           7       0.88      0.83      0.85        46\n",
            "           8       0.85      0.89      0.87       171\n",
            "\n",
            "    accuracy                           0.87       621\n",
            "   macro avg       0.89      0.86      0.87       621\n",
            "weighted avg       0.88      0.87      0.87       621\n",
            "\n"
          ],
          "name": "stdout"
        }
      ]
    },
    {
      "cell_type": "markdown",
      "metadata": {
        "id": "srebUMAgpGR0",
        "colab_type": "text"
      },
      "source": [
        "### 7c)-Confusion Matrix"
      ]
    },
    {
      "cell_type": "code",
      "metadata": {
        "id": "6darFi_vpKJJ",
        "colab_type": "code",
        "colab": {
          "base_uri": "https://localhost:8080/",
          "height": 218
        },
        "outputId": "812a702a-239c-4ef4-c6db-ed1874fe86ab"
      },
      "source": [
        "! pip install scikit-plot"
      ],
      "execution_count": 49,
      "outputs": [
        {
          "output_type": "stream",
          "text": [
            "Requirement already satisfied: scikit-plot in /usr/local/lib/python3.6/dist-packages (0.3.7)\n",
            "Requirement already satisfied: joblib>=0.10 in /usr/local/lib/python3.6/dist-packages (from scikit-plot) (0.14.0)\n",
            "Requirement already satisfied: scikit-learn>=0.18 in /usr/local/lib/python3.6/dist-packages (from scikit-plot) (0.21.3)\n",
            "Requirement already satisfied: scipy>=0.9 in /usr/local/lib/python3.6/dist-packages (from scikit-plot) (1.3.2)\n",
            "Requirement already satisfied: matplotlib>=1.4.0 in /usr/local/lib/python3.6/dist-packages (from scikit-plot) (3.1.1)\n",
            "Requirement already satisfied: numpy>=1.11.0 in /usr/local/lib/python3.6/dist-packages (from scikit-learn>=0.18->scikit-plot) (1.17.4)\n",
            "Requirement already satisfied: cycler>=0.10 in /usr/local/lib/python3.6/dist-packages (from matplotlib>=1.4.0->scikit-plot) (0.10.0)\n",
            "Requirement already satisfied: kiwisolver>=1.0.1 in /usr/local/lib/python3.6/dist-packages (from matplotlib>=1.4.0->scikit-plot) (1.1.0)\n",
            "Requirement already satisfied: python-dateutil>=2.1 in /usr/local/lib/python3.6/dist-packages (from matplotlib>=1.4.0->scikit-plot) (2.6.1)\n",
            "Requirement already satisfied: pyparsing!=2.0.4,!=2.1.2,!=2.1.6,>=2.0.1 in /usr/local/lib/python3.6/dist-packages (from matplotlib>=1.4.0->scikit-plot) (2.4.5)\n",
            "Requirement already satisfied: six in /usr/local/lib/python3.6/dist-packages (from cycler>=0.10->matplotlib>=1.4.0->scikit-plot) (1.12.0)\n",
            "Requirement already satisfied: setuptools in /usr/local/lib/python3.6/dist-packages (from kiwisolver>=1.0.1->matplotlib>=1.4.0->scikit-plot) (41.6.0)\n"
          ],
          "name": "stdout"
        }
      ]
    },
    {
      "cell_type": "code",
      "metadata": {
        "id": "S5Fj5ympn_1f",
        "colab_type": "code",
        "colab": {
          "base_uri": "https://localhost:8080/",
          "height": 151
        },
        "outputId": "9b079600-892c-4f46-9cf9-aa23da5d328d"
      },
      "source": [
        "cm = confusion_matrix(y_pred=y_pred, y_true=y_test)\n",
        "cm"
      ],
      "execution_count": 50,
      "outputs": [
        {
          "output_type": "execute_result",
          "data": {
            "text/plain": [
              "array([[145,   1,   1,   1,   1,   1,   1,  15],\n",
              "       [  2,  29,   0,   0,   0,   0,   1,   0],\n",
              "       [  3,   0, 104,   1,   2,   0,   0,   4],\n",
              "       [  6,   0,   0,  26,   0,   0,   1,   2],\n",
              "       [  1,   0,   1,   0,  24,   0,   0,   6],\n",
              "       [  0,   0,   0,   0,   0,  24,   0,   1],\n",
              "       [  5,   0,   3,   0,   0,   0,  38,   0],\n",
              "       [ 10,   0,   3,   0,   1,   2,   2, 153]])"
            ]
          },
          "metadata": {
            "tags": []
          },
          "execution_count": 50
        }
      ]
    },
    {
      "cell_type": "code",
      "metadata": {
        "id": "iJWpweMon_yp",
        "colab_type": "code",
        "colab": {
          "base_uri": "https://localhost:8080/",
          "height": 312
        },
        "outputId": "961f9a4e-ecfe-40c8-fe19-cc9918079f10"
      },
      "source": [
        "import scikitplot as skplt\n",
        "plt.figure()\n",
        "skplt.metrics.plot_confusion_matrix(y_pred=y_pred, y_true=y_test)\n",
        "plt.show()"
      ],
      "execution_count": 51,
      "outputs": [
        {
          "output_type": "display_data",
          "data": {
            "text/plain": [
              "<Figure size 432x288 with 0 Axes>"
            ]
          },
          "metadata": {
            "tags": []
          }
        },
        {
          "output_type": "display_data",
          "data": {
            "image/png": "[encoded data removed]",
            "text/plain": [
              "<Figure size 432x288 with 2 Axes>"
            ]
          },
          "metadata": {
            "tags": []
          }
        }
      ]
    },
    {
      "cell_type": "code",
      "metadata": {
        "id": "YlEBB-cmn_wU",
        "colab_type": "code",
        "colab": {
          "base_uri": "https://localhost:8080/",
          "height": 312
        },
        "outputId": "6da1e71c-c2ec-4570-a547-7d6baff1f5da"
      },
      "source": [
        "skplt.metrics.plot_confusion_matrix(y_pred=y_pred, y_true=y_test, normalize=True)"
      ],
      "execution_count": 52,
      "outputs": [
        {
          "output_type": "execute_result",
          "data": {
            "text/plain": [
              "<matplotlib.axes._subplots.AxesSubplot at 0x7f7f40f0abe0>"
            ]
          },
          "metadata": {
            "tags": []
          },
          "execution_count": 52
        },
        {
          "output_type": "display_data",
          "data": {
            "image/png": "[encoded data removed]",
            "text/plain": [
              "<Figure size 432x288 with 2 Axes>"
            ]
          },
          "metadata": {
            "tags": []
          }
        }
      ]
    },
    {
      "cell_type": "markdown",
      "metadata": {
        "id": "zWy_IVCwpZb5",
        "colab_type": "text"
      },
      "source": [
        "### 7d)- For multi-label data"
      ]
    },
    {
      "cell_type": "code",
      "metadata": {
        "id": "M-jxqId2n_q3",
        "colab_type": "code",
        "colab": {}
      },
      "source": [
        "def multilabel_message2(model, doc):\n",
        "    doc_list = sentence_tokenizer(doc)\n",
        "    y_pred = pipeline2.predict(doc_list)\n",
        "    # Remove double class predictions\n",
        "    y_pred = list(set(y_pred))\n",
        "    tags = [dict_classes[i] for i in y_pred]\n",
        "    # Remove `misc` tag if the list contains other tags as well.\n",
        "    if len(tags) > 1 and dict_classes[8] in tags:\n",
        "        del tags[tags.index(dict_classes[8])]\n",
        "    print('{:>30} | {}'.format('['+'] ['.join(tags)+']', doc))"
      ],
      "execution_count": 0,
      "outputs": []
    },
    {
      "cell_type": "markdown",
      "metadata": {
        "id": "b7iv88Ydpyzy",
        "colab_type": "text"
      },
      "source": [
        "### 7e)- Out of Sample Data checking"
      ]
    },
    {
      "cell_type": "code",
      "metadata": {
        "id": "mteNMVbgpmgy",
        "colab_type": "code",
        "colab": {
          "base_uri": "https://localhost:8080/",
          "height": 168
        },
        "outputId": "1973c64b-f9a6-42fe-b565-ae7419d56503"
      },
      "source": [
        "multilabel_message2(pipeline2, 'My alarm clock was not set properly. I come to the office asap.')\n",
        "multilabel_message2(pipeline2, 'It is my scheduled day off, see you on Tuesday.')\n",
        "multilabel_message2(pipeline2, 'Not feeling well today, I stay home and work from here.')\n",
        "multilabel_message2(pipeline2, 'I work at home on Tuesday.')\n",
        "multilabel_message2(pipeline2, 'This morning I have a meeting at ACME.')\n",
        "multilabel_message2(pipeline2, 'I\\'m off, see you tomorrow.')\n",
        "multilabel_message2(pipeline2, 'Get well soon!')\n",
        "multilabel_message2(pipeline2, 'I\\'m away for a long lunch between 12:00 and 15:30')\n",
        "multilabel_message2(pipeline2, 'I\\'ve an appointment at 12:00 at the physiotherapy.')"
      ],
      "execution_count": 54,
      "outputs": [
        {
          "output_type": "stream",
          "text": [
            "                  [late/early] | My alarm clock was not set properly. I come to the office asap.\n",
            "        [holidays] [in office] | It is my scheduled day off, see you on Tuesday.\n",
            "           [home office] [ill] | Not feeling well today, I stay home and work from here.\n",
            "                 [home office] | I work at home on Tuesday.\n",
            "                    [business] | This morning I have a meeting at ACME.\n",
            "        [holidays] [in office] | I'm off, see you tomorrow.\n",
            "               [miscellanious] | Get well soon!\n",
            "                  [late/early] | I'm away for a long lunch between 12:00 and 15:30\n",
            "                     [med app] | I've an appointment at 12:00 at the physiotherapy.\n"
          ],
          "name": "stdout"
        }
      ]
    },
    {
      "cell_type": "markdown",
      "metadata": {
        "id": "bzkLo8V4oAXa",
        "colab_type": "text"
      },
      "source": [
        "# 8)- GridSearchCV\n",
        "\n",
        "Long computing time !"
      ]
    },
    {
      "cell_type": "code",
      "metadata": {
        "id": "6BCp4JcEsBpZ",
        "colab_type": "code",
        "colab": {}
      },
      "source": [
        "steps = [('vectorizer', CountVectorizer()),\n",
        "         ('transformer', TfidfTransformer()),\n",
        "         ('classifier', SVC(kernel='linear', random_state=1))]\n",
        "pipeline3 = Pipeline(steps)"
      ],
      "execution_count": 0,
      "outputs": []
    },
    {
      "cell_type": "code",
      "metadata": {
        "id": "SDvnBEsHsEGk",
        "colab_type": "code",
        "colab": {}
      },
      "source": [
        "params = {\n",
        "    'vectorizer__tokenizer': [None, nltk.tokenize.word_tokenize],\n",
        "    'vectorizer__analyzer': ['word', stemmed, lemma],\n",
        "    'vectorizer__stop_words': [None, nltk.corpus.stopwords.words('english'), 'english'],\n",
        "    'vectorizer__ngram_range': [(1, 1), (1, 2), (2, 2), (1, 3)],\n",
        "    'vectorizer__preprocessor': [None, mask_all, mask_integers, mask_times, mask_emojis],\n",
        "    'classifier__C': np.logspace(-2, 2, 5),\n",
        "    'classifier__gamma': np.logspace(-5, 3, 9)\n",
        "}"
      ],
      "execution_count": 0,
      "outputs": []
    },
    {
      "cell_type": "code",
      "metadata": {
        "id": "bWxEgM5KmHx-",
        "colab_type": "code",
        "colab": {}
      },
      "source": [
        "%%time\n",
        "gs = GridSearchCV(pipeline3, params, n_jobs=-1,verbose=5)\n",
        "gs.fit(X_train, y_train)"
      ],
      "execution_count": 0,
      "outputs": []
    },
    {
      "cell_type": "code",
      "metadata": {
        "id": "mh9bAlE4sH6Y",
        "colab_type": "code",
        "colab": {}
      },
      "source": [
        "print(gs.best_params_)\n",
        "y_pred = gs.predict(X_test)\n",
        "print(classification_report(y_pred=y_pred, y_true=y_test))\n",
        "print('Score on the test set: {:.2f}'.format(gs.score(X_test, y_test)))"
      ],
      "execution_count": 0,
      "outputs": []
    },
    {
      "cell_type": "markdown",
      "metadata": {
        "id": "SZRRDRi1p6s4",
        "colab_type": "text"
      },
      "source": [
        "# 9)-Multi label predictions with sentence tokenization and ensembles\n",
        "\n",
        "- Creating multiple pipeline and then choose best out of them all. \n",
        "\n",
        "- Concept of ensemble learning means using multiple learning algorithms to obtain better predictive performance than could be obtained from any of the constituent learning algorithms alone."
      ]
    },
    {
      "cell_type": "markdown",
      "metadata": {
        "id": "bsgGpUs0q9gB",
        "colab_type": "text"
      },
      "source": [
        "### 9.1)- Creating Pipelines"
      ]
    },
    {
      "cell_type": "code",
      "metadata": {
        "id": "MBV5mydon4Za",
        "colab_type": "code",
        "colab": {
          "base_uri": "https://localhost:8080/",
          "height": 218
        },
        "outputId": "c1a3b733-6bef-4b3e-e045-fbf47346c296"
      },
      "source": [
        "steps = [('vectorizer', CountVectorizer()),\n",
        "         ('classifier', SVC(kernel='linear', C=1, probability=True, random_state=1))]\n",
        "pipeline4 = train_and_test(steps, X_train, X_test, y_train, y_test)\n",
        "          \n",
        "steps = [('vectorizer', CountVectorizer()),\n",
        "         ('transformer', TfidfTransformer()),\n",
        "         ('classifier', SVC(kernel='linear', C=1, probability=True, random_state=1))]\n",
        "pipeline5 = train_and_test(steps, X_train, X_test, y_train, y_test)\n",
        "\n",
        "steps = [('vectorizer', CountVectorizer(analyzer=stemmed)),\n",
        "         ('transformer', TfidfTransformer()),\n",
        "         ('classifier', SVC(kernel='linear', C=1, probability=True, random_state=1))]\n",
        "pipeline6 = train_and_test(steps, X_train, X_test, y_train, y_test)\n",
        "\n",
        "steps = [('vectorizer', CountVectorizer(analyzer=stemmed, preprocessor=mask_all, ngram_range=(1,3), stop_words='english')),\n",
        "         ('transformer', TfidfTransformer()),\n",
        "         ('classifier', SVC(kernel='linear', C=1, probability=True, random_state=1))]\n",
        "pipeline7 = train_and_test(steps, X_train, X_test, y_train, y_test)\n",
        "\n",
        "steps = [('vectorizer', CountVectorizer(analyzer=stemmed, preprocessor=mask_all, ngram_range=(1,2))),\n",
        "         ('transformer', TfidfTransformer()),\n",
        "         ('classifier', SVC(kernel='linear', C=1, probability=True, random_state=1))]\n",
        "pipeline8 = train_and_test(steps, X_train, X_test, y_train, y_test)\n",
        "\n",
        "steps = [('vectorizer', CountVectorizer(preprocessor=mask_all, stop_words='english')),\n",
        "         ('transformer', TfidfTransformer()),\n",
        "         ('classifier', SVC(kernel='linear', C=1, probability=True, random_state=1))]\n",
        "pipeline9 = train_and_test(steps, X_train, X_test, y_train, y_test)"
      ],
      "execution_count": 57,
      "outputs": [
        {
          "output_type": "stream",
          "text": [
            "10 fold Cross Validation Score: <0.81, 0.87>; µ=0.85\n",
            "Score on test set: 0.84\n",
            "10 fold Cross Validation Score: <0.83, 0.88>; µ=0.86\n",
            "Score on test set: 0.86\n",
            "10 fold Cross Validation Score: <0.83, 0.89>; µ=0.86\n",
            "Score on test set: 0.87\n",
            "10 fold Cross Validation Score: <0.83, 0.89>; µ=0.86\n",
            "Score on test set: 0.87\n",
            "10 fold Cross Validation Score: <0.83, 0.89>; µ=0.86\n",
            "Score on test set: 0.87\n",
            "10 fold Cross Validation Score: <0.80, 0.89>; µ=0.83\n",
            "Score on test set: 0.83\n"
          ],
          "name": "stdout"
        }
      ]
    },
    {
      "cell_type": "code",
      "metadata": {
        "id": "81QpWT0fmRPK",
        "colab_type": "code",
        "colab": {}
      },
      "source": [
        "models = [pipeline4, pipeline5, pipeline6, pipeline7, pipeline8, pipeline9]"
      ],
      "execution_count": 0,
      "outputs": []
    },
    {
      "cell_type": "markdown",
      "metadata": {
        "id": "GL7KDMfZrBGf",
        "colab_type": "text"
      },
      "source": [
        "### 9.2)- Helper Functions for ensemble learning"
      ]
    },
    {
      "cell_type": "code",
      "metadata": {
        "id": "XvK92K7KmRR8",
        "colab_type": "code",
        "colab": {}
      },
      "source": [
        "def ensemble_predict(models, doc):\n",
        "    y_pred_list = []\n",
        "    for model in models:\n",
        "        # Computes a probability vector for every model\n",
        "        y_pred_list.append(model.predict_proba([doc]))\n",
        "    # Stack all vectors to a 2D matrix\n",
        "    y_pred_mat = np.vstack(y_pred_list)\n",
        "    # Sum all predictions and take the argmax as your final prediction\n",
        "    y_pred = np.sum(y_pred_mat, axis=0)\n",
        "    y_pred = np.argmax(y_pred) + 1\n",
        "    return y_pred\n",
        "\n",
        "def multilabel4_tag(models, doc):\n",
        "    doc_list = sentence_tokenizer(doc)\n",
        "    y_pred = [ensemble_predict(models, token) for token in doc_list]\n",
        "    # Remove double class predictions\n",
        "    y_pred = list(set(y_pred))\n",
        "    tags = [dict_classes[i] for i in y_pred]\n",
        "    # Remove `misc` tag if the list contains other tags as well.\n",
        "    if len(tags) > 1 and dict_classes[8] in tags:\n",
        "        del tags[tags.index(dict_classes[8])]\n",
        "    print('{:>30} | {}'.format('['+'] ['.join(tags)+']', doc))"
      ],
      "execution_count": 0,
      "outputs": []
    },
    {
      "cell_type": "markdown",
      "metadata": {
        "id": "N-fq82IlrHzo",
        "colab_type": "text"
      },
      "source": [
        "### 9.3)- results"
      ]
    },
    {
      "cell_type": "code",
      "metadata": {
        "id": "c83kpXQQmRVI",
        "colab_type": "code",
        "colab": {}
      },
      "source": [
        "y_pred_m = np.vstack(y_pred_list)"
      ],
      "execution_count": 0,
      "outputs": []
    },
    {
      "cell_type": "code",
      "metadata": {
        "id": "1xtVGSAvrP_Y",
        "colab_type": "code",
        "colab": {
          "base_uri": "https://localhost:8080/",
          "height": 134
        },
        "outputId": "dd26c554-67b8-45ca-b222-b532d1522d3d"
      },
      "source": [
        "y_pred_m"
      ],
      "execution_count": 61,
      "outputs": [
        {
          "output_type": "execute_result",
          "data": {
            "text/plain": [
              "array([[0, 0, 1, ..., 0, 0, 0],\n",
              "       [0, 0, 1, ..., 0, 0, 0],\n",
              "       [1, 0, 0, ..., 0, 0, 0],\n",
              "       ...,\n",
              "       [0, 1, 0, ..., 0, 0, 0],\n",
              "       [1, 0, 1, ..., 0, 0, 0],\n",
              "       [0, 0, 0, ..., 0, 0, 1]])"
            ]
          },
          "metadata": {
            "tags": []
          },
          "execution_count": 61
        }
      ]
    },
    {
      "cell_type": "code",
      "metadata": {
        "id": "7ugp6b_BrRu5",
        "colab_type": "code",
        "colab": {
          "base_uri": "https://localhost:8080/",
          "height": 34
        },
        "outputId": "0de44de6-553d-45f6-833e-fe3e1b57297a"
      },
      "source": [
        "np.sum(y_pred_m, axis=0)"
      ],
      "execution_count": 62,
      "outputs": [
        {
          "output_type": "execute_result",
          "data": {
            "text/plain": [
              "array([122,  31, 115,  19,   7,  22,  25,  88])"
            ]
          },
          "metadata": {
            "tags": []
          },
          "execution_count": 62
        }
      ]
    },
    {
      "cell_type": "code",
      "metadata": {
        "id": "eGfg8c1rrUSf",
        "colab_type": "code",
        "colab": {
          "base_uri": "https://localhost:8080/",
          "height": 168
        },
        "outputId": "8cfebb06-1386-4dfb-e84f-5f4621c31d29"
      },
      "source": [
        "multilabel4_tag(models, 'My alarm clock was not set properly. I come to the office asap.')\n",
        "multilabel4_tag(models, 'It is my scheduled day off, see you on Tuesday.')\n",
        "multilabel4_tag(models, 'Not feeling well today, I stay home and work from here.')\n",
        "multilabel4_tag(models, 'I work at home on Tuesday.')\n",
        "multilabel4_tag(models, 'This morning I have a meeting at ACME.')\n",
        "multilabel4_tag(models, 'I\\'m off, see you tomorrow.')\n",
        "multilabel4_tag(models, 'Get well soon!')\n",
        "multilabel4_tag(models, 'I\\'m away for a long lunch between 12:00 and 15:30')\n",
        "multilabel4_tag(models, 'I\\'ve an appointment at 12:00 at the physiotherapy.')"
      ],
      "execution_count": 63,
      "outputs": [
        {
          "output_type": "stream",
          "text": [
            "                  [late/early] | My alarm clock was not set properly. I come to the office asap.\n",
            "        [holidays] [in office] | It is my scheduled day off, see you on Tuesday.\n",
            "           [home office] [ill] | Not feeling well today, I stay home and work from here.\n",
            "                 [home office] | I work at home on Tuesday.\n",
            "                    [business] | This morning I have a meeting at ACME.\n",
            "        [holidays] [in office] | I'm off, see you tomorrow.\n",
            "               [miscellanious] | Get well soon!\n",
            "                  [late/early] | I'm away for a long lunch between 12:00 and 15:30\n",
            "                     [med app] | I've an appointment at 12:00 at the physiotherapy.\n"
          ],
          "name": "stdout"
        }
      ]
    },
    {
      "cell_type": "code",
      "metadata": {
        "id": "zqeLPTlYrYm2",
        "colab_type": "code",
        "colab": {}
      },
      "source": [
        "# for prediction\n",
        "\n",
        "y_pred = [ensemble_predict(models, X_test.iloc[i]) for i in range(len(X_test))]"
      ],
      "execution_count": 0,
      "outputs": []
    },
    {
      "cell_type": "code",
      "metadata": {
        "id": "DbYDzkbgrfXJ",
        "colab_type": "code",
        "colab": {
          "base_uri": "https://localhost:8080/",
          "height": 34
        },
        "outputId": "ab499892-32f1-4749-cde6-b2e46bea035b"
      },
      "source": [
        "y_pred[:5]"
      ],
      "execution_count": 65,
      "outputs": [
        {
          "output_type": "execute_result",
          "data": {
            "text/plain": [
              "[7, 1, 3, 7, 2]"
            ]
          },
          "metadata": {
            "tags": []
          },
          "execution_count": 65
        }
      ]
    },
    {
      "cell_type": "code",
      "metadata": {
        "id": "eSJp529NrhDi",
        "colab_type": "code",
        "colab": {
          "base_uri": "https://localhost:8080/",
          "height": 118
        },
        "outputId": "ded70e7b-96bb-415f-e6fc-9b7b7bd81e7b"
      },
      "source": [
        "y_test[:5]"
      ],
      "execution_count": 66,
      "outputs": [
        {
          "output_type": "execute_result",
          "data": {
            "text/plain": [
              "298     7\n",
              "977     1\n",
              "1308    3\n",
              "571     7\n",
              "77      2\n",
              "Name: class, dtype: uint8"
            ]
          },
          "metadata": {
            "tags": []
          },
          "execution_count": 66
        }
      ]
    },
    {
      "cell_type": "code",
      "metadata": {
        "id": "sz_bi3UCrkZa",
        "colab_type": "code",
        "colab": {
          "base_uri": "https://localhost:8080/",
          "height": 34
        },
        "outputId": "f2956c9c-5133-4bd3-ff4c-3967d60ab98a"
      },
      "source": [
        "accuracy=accuracy_score(y_pred=y_pred, y_true=y_test)\n",
        "accuracy"
      ],
      "execution_count": 67,
      "outputs": [
        {
          "output_type": "execute_result",
          "data": {
            "text/plain": [
              "0.8792270531400966"
            ]
          },
          "metadata": {
            "tags": []
          },
          "execution_count": 67
        }
      ]
    },
    {
      "cell_type": "code",
      "metadata": {
        "id": "SmO7hMyArnNy",
        "colab_type": "code",
        "colab": {
          "base_uri": "https://localhost:8080/",
          "height": 269
        },
        "outputId": "22991583-4dc1-4147-e56b-8ceff06a62d3"
      },
      "source": [
        "print(classification_report(y_pred=y_pred, y_true=y_test))"
      ],
      "execution_count": 68,
      "outputs": [
        {
          "output_type": "stream",
          "text": [
            "              precision    recall  f1-score   support\n",
            "\n",
            "           1       0.87      0.84      0.86       166\n",
            "           2       0.85      0.91      0.88        32\n",
            "           3       0.94      0.89      0.91       114\n",
            "           4       0.83      0.86      0.85        35\n",
            "           5       0.84      0.84      0.84        32\n",
            "           6       0.96      0.92      0.94        25\n",
            "           7       0.83      0.83      0.83        46\n",
            "           8       0.88      0.92      0.90       171\n",
            "\n",
            "    accuracy                           0.88       621\n",
            "   macro avg       0.87      0.88      0.88       621\n",
            "weighted avg       0.88      0.88      0.88       621\n",
            "\n"
          ],
          "name": "stdout"
        }
      ]
    },
    {
      "cell_type": "code",
      "metadata": {
        "id": "zqUvbxutrnRM",
        "colab_type": "code",
        "colab": {
          "base_uri": "https://localhost:8080/",
          "height": 151
        },
        "outputId": "ba65263f-2404-422c-b656-6eb42ddeb933"
      },
      "source": [
        "cm = confusion_matrix(y_pred=y_pred, y_true=y_test)\n",
        "cm"
      ],
      "execution_count": 69,
      "outputs": [
        {
          "output_type": "execute_result",
          "data": {
            "text/plain": [
              "array([[140,   1,   2,   4,   1,   0,   2,  16],\n",
              "       [  2,  29,   0,   0,   0,   0,   1,   0],\n",
              "       [  3,   0, 102,   2,   3,   1,   1,   2],\n",
              "       [  2,   2,   0,  30,   0,   0,   1,   0],\n",
              "       [  1,   1,   1,   0,  27,   0,   0,   2],\n",
              "       [  0,   0,   0,   0,   0,  23,   1,   1],\n",
              "       [  4,   1,   2,   0,   0,   0,  38,   1],\n",
              "       [  9,   0,   2,   0,   1,   0,   2, 157]])"
            ]
          },
          "metadata": {
            "tags": []
          },
          "execution_count": 69
        }
      ]
    },
    {
      "cell_type": "code",
      "metadata": {
        "id": "y7br3aM6ruqU",
        "colab_type": "code",
        "colab": {
          "base_uri": "https://localhost:8080/",
          "height": 312
        },
        "outputId": "047f6f20-70c3-425b-da78-f0ca4b8916de"
      },
      "source": [
        "plt.figure()\n",
        "skplt.metrics.plot_confusion_matrix(y_pred=y_pred, y_true=y_test)\n",
        "plt.show()"
      ],
      "execution_count": 70,
      "outputs": [
        {
          "output_type": "display_data",
          "data": {
            "text/plain": [
              "<Figure size 432x288 with 0 Axes>"
            ]
          },
          "metadata": {
            "tags": []
          }
        },
        {
          "output_type": "display_data",
          "data": {
            "image/png": "[encoded data removed]",
            "text/plain": [
              "<Figure size 432x288 with 2 Axes>"
            ]
          },
          "metadata": {
            "tags": []
          }
        }
      ]
    },
    {
      "cell_type": "code",
      "metadata": {
        "id": "H-hd6gVRrxIe",
        "colab_type": "code",
        "colab": {
          "base_uri": "https://localhost:8080/",
          "height": 312
        },
        "outputId": "69f84ea1-bfb6-4584-ee53-f7458738b678"
      },
      "source": [
        "skplt.metrics.plot_confusion_matrix(y_pred=y_pred, y_true=y_test, normalize=True)"
      ],
      "execution_count": 71,
      "outputs": [
        {
          "output_type": "execute_result",
          "data": {
            "text/plain": [
              "<matplotlib.axes._subplots.AxesSubplot at 0x7f7f40b66c88>"
            ]
          },
          "metadata": {
            "tags": []
          },
          "execution_count": 71
        },
        {
          "output_type": "display_data",
          "data": {
            "image/png": "[encoded data removed]",
            "text/plain": [
              "<Figure size 432x288 with 2 Axes>"
            ]
          },
          "metadata": {
            "tags": []
          }
        }
      ]
    }
  ]
}