{
  "nbformat": 4,
  "nbformat_minor": 0,
  "metadata": {
    "colab": {
      "name": "Autotagging_keras.ipynb",
      "provenance": [],
      "collapsed_sections": []
    },
    "kernelspec": {
      "name": "python3",
      "display_name": "Python 3"
    },
    "accelerator": "GPU"
  },
  "cells": [
    {
      "cell_type": "markdown",
      "metadata": {
        "id": "QJxJLfT6m4zo",
        "colab_type": "text"
      },
      "source": [
        "# Automatic tagging \n",
        "\n",
        "- Applying deep learning concepts"
      ]
    },
    {
      "cell_type": "markdown",
      "metadata": {
        "id": "YvFSu3KOnCQI",
        "colab_type": "text"
      },
      "source": [
        "# 1)- Importing key modules"
      ]
    },
    {
      "cell_type": "code",
      "metadata": {
        "id": "FF2nsUJ9qkBg",
        "colab_type": "code",
        "colab": {}
      },
      "source": [
        "#support both Python 2 and Python 3 with minimal overhead.\n",
        "from __future__ import absolute_import, division, print_function\n",
        "#ignore warnings\n",
        "import warnings\n",
        "warnings.filterwarnings('ignore')"
      ],
      "execution_count": 0,
      "outputs": []
    },
    {
      "cell_type": "code",
      "metadata": {
        "id": "yA0JOEBGUiJC",
        "colab_type": "code",
        "colab": {}
      },
      "source": [
        "import os\n",
        "import pickle as pkl\n",
        "import re\n",
        "import string"
      ],
      "execution_count": 0,
      "outputs": []
    },
    {
      "cell_type": "code",
      "metadata": {
        "id": "30NKdvP1qnqf",
        "colab_type": "code",
        "colab": {}
      },
      "source": [
        "# for data processing\n",
        "\n",
        "import numpy as np\n",
        "import itertools\n",
        "import pandas as pd \n",
        "from sklearn.model_selection import train_test_split\n",
        "import tqdm"
      ],
      "execution_count": 0,
      "outputs": []
    },
    {
      "cell_type": "code",
      "metadata": {
        "id": "zVMu2aVwUpas",
        "colab_type": "code",
        "outputId": "1b53a584-8c62-4c2a-ca96-b49b4968327b",
        "colab": {
          "base_uri": "https://localhost:8080/",
          "height": 118
        }
      },
      "source": [
        "# for text \n",
        "\n",
        "import nltk\n",
        "import re \n",
        "from nltk import tokenize\n",
        "import nltk\n",
        "from nltk.stem import WordNetLemmatizer\n",
        "\n",
        "nltk.download('stopwords')\n",
        "nltk.download('punkt')\n",
        "nltk.download('wordnet')\n",
        "lemm = WordNetLemmatizer()"
      ],
      "execution_count": 4,
      "outputs": [
        {
          "output_type": "stream",
          "text": [
            "[nltk_data] Downloading package stopwords to /root/nltk_data...\n",
            "[nltk_data]   Package stopwords is already up-to-date!\n",
            "[nltk_data] Downloading package punkt to /root/nltk_data...\n",
            "[nltk_data]   Package punkt is already up-to-date!\n",
            "[nltk_data] Downloading package wordnet to /root/nltk_data...\n",
            "[nltk_data]   Package wordnet is already up-to-date!\n"
          ],
          "name": "stdout"
        }
      ]
    },
    {
      "cell_type": "code",
      "metadata": {
        "id": "a77ZQvmVUmB8",
        "colab_type": "code",
        "colab": {
          "base_uri": "https://localhost:8080/",
          "height": 79
        },
        "outputId": "af9e8313-70d5-42d2-abf9-f2187a91149f"
      },
      "source": [
        "# for deep learning\n",
        "\n",
        "from keras.preprocessing import sequence\n",
        "from keras.models import Sequential\n",
        "from keras.layers import Dense, Dropout, Activation\n",
        "from keras.layers import Input\n",
        "from keras.layers import Conv1D, MaxPooling1D, Embedding\n",
        "from keras.models import Model\n",
        "\n",
        "from keras.layers import Embedding\n",
        "from keras.layers import LSTM\n",
        "from keras.layers import Conv1D, MaxPooling1D\n",
        "from keras.preprocessing.text import Tokenizer\n",
        "from keras.callbacks import EarlyStopping\n",
        "\n",
        "from keras.utils import to_categorical\n",
        "\n",
        "# For evaluation\n",
        "\n",
        "from sklearn.metrics import classification_report\n",
        "from sklearn.metrics import confusion_matrix\n",
        "from sklearn.metrics import accuracy_score\n",
        "from sklearn.model_selection import cross_val_score"
      ],
      "execution_count": 5,
      "outputs": [
        {
          "output_type": "stream",
          "text": [
            "Using TensorFlow backend.\n"
          ],
          "name": "stderr"
        },
        {
          "output_type": "display_data",
          "data": {
            "text/html": [
              "<p style=\"color: red;\">\n",
              "The default version of TensorFlow in Colab will soon switch to TensorFlow 2.x.<br>\n",
              "We recommend you <a href=\"https://www.tensorflow.org/guide/migrate\" target=\"_blank\">upgrade</a> now \n",
              "or ensure your notebook will continue to use TensorFlow 1.x via the <code>%tensorflow_version 1.x</code> magic:\n",
              "<a href=\"https://colab.research.google.com/notebooks/tensorflow_version.ipynb\" target=\"_blank\">more info</a>.</p>\n"
            ],
            "text/plain": [
              "<IPython.core.display.HTML object>"
            ]
          },
          "metadata": {
            "tags": []
          }
        }
      ]
    },
    {
      "cell_type": "code",
      "metadata": {
        "id": "Splms9mwUvHa",
        "colab_type": "code",
        "colab": {}
      },
      "source": [
        "# For visuals\n",
        "\n",
        "import matplotlib.pyplot as plt \n",
        "import matplotlib.patches as mpatches\n",
        "import matplotlib.cm as cm\n",
        "from matplotlib.colors import ListedColormap, BoundaryNorm\n",
        "% matplotlib inline \n",
        "pd.set_option('display.max_colwidth', 200)"
      ],
      "execution_count": 0,
      "outputs": []
    },
    {
      "cell_type": "code",
      "metadata": {
        "id": "70c9RUauAGXQ",
        "colab_type": "code",
        "outputId": "c6803b48-59b3-4bb5-c6cd-fa6e6e1e5355",
        "colab": {
          "base_uri": "https://localhost:8080/",
          "height": 34
        }
      },
      "source": [
        "! pip install version_information"
      ],
      "execution_count": 7,
      "outputs": [
        {
          "output_type": "stream",
          "text": [
            "Requirement already satisfied: version_information in /usr/local/lib/python3.6/dist-packages (1.0.3)\n"
          ],
          "name": "stdout"
        }
      ]
    },
    {
      "cell_type": "code",
      "metadata": {
        "id": "tVbECQoDAG4V",
        "colab_type": "code",
        "outputId": "6d73e61d-8a03-4451-b4b8-f897ca9f6bfa",
        "colab": {
          "base_uri": "https://localhost:8080/",
          "height": 258
        }
      },
      "source": [
        "# first install: pip install version_information\n",
        "%reload_ext version_information\n",
        "%version_information pandas,numpy,keras, sklearn,nltk, seaborn, matplotlib"
      ],
      "execution_count": 8,
      "outputs": [
        {
          "output_type": "execute_result",
          "data": {
            "text/latex": "\\begin{tabular}{|l|l|}\\hline\n{\\bf Software} & {\\bf Version} \\\\ \\hline\\hline\nPython & 3.6.8 64bit [GCC 8.3.0] \\\\ \\hline\nIPython & 5.5.0 \\\\ \\hline\nOS & Linux 4.14.137+ x86\\_64 with Ubuntu 18.04 bionic \\\\ \\hline\npandas & 0.25.3 \\\\ \\hline\nnumpy & 1.17.4 \\\\ \\hline\nkeras & 2.2.5 \\\\ \\hline\nsklearn & 0.21.3 \\\\ \\hline\nnltk & 3.2.5 \\\\ \\hline\nseaborn & 0.9.0 \\\\ \\hline\nmatplotlib & 3.1.1 \\\\ \\hline\n\\hline \\multicolumn{2}{|l|}{Thu Nov 28 17:50:03 2019 UTC} \\\\ \\hline\n\\end{tabular}\n",
            "application/json": {
              "Software versions": [
                {
                  "version": "3.6.8 64bit [GCC 8.3.0]",
                  "module": "Python"
                },
                {
                  "version": "5.5.0",
                  "module": "IPython"
                },
                {
                  "version": "Linux 4.14.137+ x86_64 with Ubuntu 18.04 bionic",
                  "module": "OS"
                },
                {
                  "version": "0.25.3",
                  "module": "pandas"
                },
                {
                  "version": "1.17.4",
                  "module": "numpy"
                },
                {
                  "version": "2.2.5",
                  "module": "keras"
                },
                {
                  "version": "0.21.3",
                  "module": "sklearn"
                },
                {
                  "version": "3.2.5",
                  "module": "nltk"
                },
                {
                  "version": "0.9.0",
                  "module": "seaborn"
                },
                {
                  "version": "3.1.1",
                  "module": "matplotlib"
                }
              ]
            },
            "text/html": [
              "<table><tr><th>Software</th><th>Version</th></tr><tr><td>Python</td><td>3.6.8 64bit [GCC 8.3.0]</td></tr><tr><td>IPython</td><td>5.5.0</td></tr><tr><td>OS</td><td>Linux 4.14.137+ x86_64 with Ubuntu 18.04 bionic</td></tr><tr><td>pandas</td><td>0.25.3</td></tr><tr><td>numpy</td><td>1.17.4</td></tr><tr><td>keras</td><td>2.2.5</td></tr><tr><td>sklearn</td><td>0.21.3</td></tr><tr><td>nltk</td><td>3.2.5</td></tr><tr><td>seaborn</td><td>0.9.0</td></tr><tr><td>matplotlib</td><td>3.1.1</td></tr><tr><td colspan='2'>Thu Nov 28 17:50:03 2019 UTC</td></tr></table>"
            ],
            "text/plain": [
              "Software versions\n",
              "Python 3.6.8 64bit [GCC 8.3.0]\n",
              "IPython 5.5.0\n",
              "OS Linux 4.14.137+ x86_64 with Ubuntu 18.04 bionic\n",
              "pandas 0.25.3\n",
              "numpy 1.17.4\n",
              "keras 2.2.5\n",
              "sklearn 0.21.3\n",
              "nltk 3.2.5\n",
              "seaborn 0.9.0\n",
              "matplotlib 3.1.1\n",
              "Thu Nov 28 17:50:03 2019 UTC"
            ]
          },
          "metadata": {
            "tags": []
          },
          "execution_count": 8
        }
      ]
    },
    {
      "cell_type": "markdown",
      "metadata": {
        "id": "XN_b91atnHye",
        "colab_type": "text"
      },
      "source": [
        "# 2)- Reading Dataset\n",
        "\n",
        "Thanks to PyData 2018: Gilbert Francois Talk"
      ]
    },
    {
      "cell_type": "code",
      "metadata": {
        "id": "r1tTmUvsV-7h",
        "colab_type": "code",
        "outputId": "e9ebc415-86f1-4740-de0a-deefdca8144b",
        "colab": {
          "base_uri": "https://localhost:8080/",
          "height": 34
        }
      },
      "source": [
        "data=pd.read_pickle('messages-cls-ms.pkl')\n",
        "data.shape"
      ],
      "execution_count": 9,
      "outputs": [
        {
          "output_type": "execute_result",
          "data": {
            "text/plain": [
              "(3105, 5)"
            ]
          },
          "metadata": {
            "tags": []
          },
          "execution_count": 9
        }
      ]
    },
    {
      "cell_type": "code",
      "metadata": {
        "id": "vvLhSVTNWKuH",
        "colab_type": "code",
        "outputId": "0ae7b197-5cfe-4c80-e363-dd390fedcec9",
        "colab": {
          "base_uri": "https://localhost:8080/",
          "height": 195
        }
      },
      "source": [
        "data.head()"
      ],
      "execution_count": 10,
      "outputs": [
        {
          "output_type": "execute_result",
          "data": {
            "text/html": [
              "<div>\n",
              "<style scoped>\n",
              "    .dataframe tbody tr th:only-of-type {\n",
              "        vertical-align: middle;\n",
              "    }\n",
              "\n",
              "    .dataframe tbody tr th {\n",
              "        vertical-align: top;\n",
              "    }\n",
              "\n",
              "    .dataframe thead th {\n",
              "        text-align: right;\n",
              "    }\n",
              "</style>\n",
              "<table border=\"1\" class=\"dataframe\">\n",
              "  <thead>\n",
              "    <tr style=\"text-align: right;\">\n",
              "      <th></th>\n",
              "      <th>user</th>\n",
              "      <th>class</th>\n",
              "      <th>text</th>\n",
              "      <th>ts</th>\n",
              "      <th>key</th>\n",
              "    </tr>\n",
              "  </thead>\n",
              "  <tbody>\n",
              "    <tr>\n",
              "      <th>0</th>\n",
              "      <td>Balaemar</td>\n",
              "      <td>8</td>\n",
              "      <td>I have to pick up my car from the garage tomorrow.</td>\n",
              "      <td>1.503303e+09</td>\n",
              "      <td>1503303350U035FRUCY</td>\n",
              "    </tr>\n",
              "    <tr>\n",
              "      <th>0</th>\n",
              "      <td>Balaemar</td>\n",
              "      <td>1</td>\n",
              "      <td>I have to leave at 15:45 on Thursday.</td>\n",
              "      <td>1.503303e+09</td>\n",
              "      <td>1503303350U035FRUCY</td>\n",
              "    </tr>\n",
              "    <tr>\n",
              "      <th>1</th>\n",
              "      <td>Ragaenys</td>\n",
              "      <td>2</td>\n",
              "      <td>I won’t be here tomorrow one day vacation</td>\n",
              "      <td>1.503302e+09</td>\n",
              "      <td>1503301710U4A2FRAQ4</td>\n",
              "    </tr>\n",
              "    <tr>\n",
              "      <th>2</th>\n",
              "      <td>Myke</td>\n",
              "      <td>1</td>\n",
              "      <td>Missed connection in Zurich.</td>\n",
              "      <td>1.503296e+09</td>\n",
              "      <td>1503296123U0MGNKETU</td>\n",
              "    </tr>\n",
              "    <tr>\n",
              "      <th>2</th>\n",
              "      <td>Myke</td>\n",
              "      <td>1</td>\n",
              "      <td>Will be about 5-10 mins late in the office</td>\n",
              "      <td>1.503296e+09</td>\n",
              "      <td>1503296123U0MGNKETU</td>\n",
              "    </tr>\n",
              "  </tbody>\n",
              "</table>\n",
              "</div>"
            ],
            "text/plain": [
              "       user  class  ...            ts                  key\n",
              "0  Balaemar      8  ...  1.503303e+09  1503303350U035FRUCY\n",
              "0  Balaemar      1  ...  1.503303e+09  1503303350U035FRUCY\n",
              "1  Ragaenys      2  ...  1.503302e+09  1503301710U4A2FRAQ4\n",
              "2      Myke      1  ...  1.503296e+09  1503296123U0MGNKETU\n",
              "2      Myke      1  ...  1.503296e+09  1503296123U0MGNKETU\n",
              "\n",
              "[5 rows x 5 columns]"
            ]
          },
          "metadata": {
            "tags": []
          },
          "execution_count": 10
        }
      ]
    },
    {
      "cell_type": "code",
      "metadata": {
        "id": "Goy-74Z7WgKP",
        "colab_type": "code",
        "outputId": "b24c40e8-0363-49b1-f0c0-383272025b6d",
        "colab": {
          "base_uri": "https://localhost:8080/",
          "height": 195
        }
      },
      "source": [
        "data.tail()"
      ],
      "execution_count": 11,
      "outputs": [
        {
          "output_type": "execute_result",
          "data": {
            "text/html": [
              "<div>\n",
              "<style scoped>\n",
              "    .dataframe tbody tr th:only-of-type {\n",
              "        vertical-align: middle;\n",
              "    }\n",
              "\n",
              "    .dataframe tbody tr th {\n",
              "        vertical-align: top;\n",
              "    }\n",
              "\n",
              "    .dataframe thead th {\n",
              "        text-align: right;\n",
              "    }\n",
              "</style>\n",
              "<table border=\"1\" class=\"dataframe\">\n",
              "  <thead>\n",
              "    <tr style=\"text-align: right;\">\n",
              "      <th></th>\n",
              "      <th>user</th>\n",
              "      <th>class</th>\n",
              "      <th>text</th>\n",
              "      <th>ts</th>\n",
              "      <th>key</th>\n",
              "    </tr>\n",
              "  </thead>\n",
              "  <tbody>\n",
              "    <tr>\n",
              "      <th>1717</th>\n",
              "      <td>Overton</td>\n",
              "      <td>8</td>\n",
              "      <td>&lt;@U0PSDKXHR|Overton&gt; has joined the channel</td>\n",
              "      <td>1.462269e+09</td>\n",
              "      <td>1462269461U0PSDKXHR</td>\n",
              "    </tr>\n",
              "    <tr>\n",
              "      <th>1718</th>\n",
              "      <td>Balaemar</td>\n",
              "      <td>8</td>\n",
              "      <td>&lt;@U035FRUCY|Balaemar&gt; has joined the channel</td>\n",
              "      <td>1.462269e+09</td>\n",
              "      <td>1462269461U035FRUCY</td>\n",
              "    </tr>\n",
              "    <tr>\n",
              "      <th>1719</th>\n",
              "      <td>Eliar</td>\n",
              "      <td>8</td>\n",
              "      <td>&lt;@U0A8NPHRD|Eliar&gt; has joined the channel</td>\n",
              "      <td>1.462269e+09</td>\n",
              "      <td>1462269366U0A8NPHRD</td>\n",
              "    </tr>\n",
              "    <tr>\n",
              "      <th>1720</th>\n",
              "      <td>Caenraenos</td>\n",
              "      <td>8</td>\n",
              "      <td>&lt;@U035AASB8|Caenraenos&gt; set the channel topic: home office lateness general absence updates</td>\n",
              "      <td>1.462268e+09</td>\n",
              "      <td>1462267520U035AASB8</td>\n",
              "    </tr>\n",
              "    <tr>\n",
              "      <th>1721</th>\n",
              "      <td>Caenraenos</td>\n",
              "      <td>8</td>\n",
              "      <td>&lt;@U035AASB8|Caenraenos&gt; has joined the channel</td>\n",
              "      <td>1.462267e+09</td>\n",
              "      <td>1462267404U035AASB8</td>\n",
              "    </tr>\n",
              "  </tbody>\n",
              "</table>\n",
              "</div>"
            ],
            "text/plain": [
              "            user  class  ...            ts                  key\n",
              "1717     Overton      8  ...  1.462269e+09  1462269461U0PSDKXHR\n",
              "1718    Balaemar      8  ...  1.462269e+09  1462269461U035FRUCY\n",
              "1719       Eliar      8  ...  1.462269e+09  1462269366U0A8NPHRD\n",
              "1720  Caenraenos      8  ...  1.462268e+09  1462267520U035AASB8\n",
              "1721  Caenraenos      8  ...  1.462267e+09  1462267404U035AASB8\n",
              "\n",
              "[5 rows x 5 columns]"
            ]
          },
          "metadata": {
            "tags": []
          },
          "execution_count": 11
        }
      ]
    },
    {
      "cell_type": "code",
      "metadata": {
        "id": "W-ri1bp8_Z9g",
        "colab_type": "code",
        "outputId": "6e32d12b-c27c-4325-9640-497cca1fb860",
        "colab": {
          "base_uri": "https://localhost:8080/",
          "height": 34
        }
      },
      "source": [
        "data['class'].unique()"
      ],
      "execution_count": 12,
      "outputs": [
        {
          "output_type": "execute_result",
          "data": {
            "text/plain": [
              "array([8, 1, 2, 3, 6, 4, 7, 5])"
            ]
          },
          "metadata": {
            "tags": []
          },
          "execution_count": 12
        }
      ]
    },
    {
      "cell_type": "markdown",
      "metadata": {
        "id": "zpES5c2A_2zz",
        "colab_type": "text"
      },
      "source": [
        "# Class\tDescription\n",
        "- 1\tToo late, away during office hours or early leave\n",
        "- 2\tHolidays or scheduled free days\n",
        "- 3\tHome Office\n",
        " -4\tMedical appointment\n",
        "- 5\tIll, without consulting a medical\n",
        "- 6\tWork related absence (at client, conference)\n",
        "- 7\tIn office announcement\n",
        "- 8\tMiscellanious"
      ]
    },
    {
      "cell_type": "code",
      "metadata": {
        "id": "JLIildKxV3nW",
        "colab_type": "code",
        "colab": {}
      },
      "source": [
        "dict_classes = {\n",
        "    1: 'late/early',\n",
        "    2: 'holidays',\n",
        "    3: 'home office',\n",
        "    4: 'med app',\n",
        "    5: 'ill',\n",
        "    6: 'business',\n",
        "    7: 'in office',\n",
        "    8: 'miscellanious'\n",
        "}"
      ],
      "execution_count": 0,
      "outputs": []
    },
    {
      "cell_type": "code",
      "metadata": {
        "id": "JRp5GL7x_WY4",
        "colab_type": "code",
        "outputId": "cbfb6091-08b5-4a7a-e5ee-1c377f5062c0",
        "colab": {
          "base_uri": "https://localhost:8080/",
          "height": 168
        }
      },
      "source": [
        "data['class'].value_counts()"
      ],
      "execution_count": 14,
      "outputs": [
        {
          "output_type": "execute_result",
          "data": {
            "text/plain": [
              "8    874\n",
              "1    793\n",
              "3    593\n",
              "2    200\n",
              "7    192\n",
              "6    163\n",
              "5    147\n",
              "4    143\n",
              "Name: class, dtype: int64"
            ]
          },
          "metadata": {
            "tags": []
          },
          "execution_count": 14
        }
      ]
    },
    {
      "cell_type": "code",
      "metadata": {
        "id": "Tjp4hEwV04oI",
        "colab_type": "code",
        "colab": {}
      },
      "source": [
        "df=data[['text','class']]"
      ],
      "execution_count": 0,
      "outputs": []
    },
    {
      "cell_type": "code",
      "metadata": {
        "id": "7FXfSgzwdj7f",
        "colab_type": "code",
        "colab": {
          "base_uri": "https://localhost:8080/",
          "height": 34
        },
        "outputId": "a56510ce-2b39-4a2d-becd-93b795ac572c"
      },
      "source": [
        "type(df)"
      ],
      "execution_count": 16,
      "outputs": [
        {
          "output_type": "execute_result",
          "data": {
            "text/plain": [
              "pandas.core.frame.DataFrame"
            ]
          },
          "metadata": {
            "tags": []
          },
          "execution_count": 16
        }
      ]
    },
    {
      "cell_type": "code",
      "metadata": {
        "id": "e2qaEvuzdlsK",
        "colab_type": "code",
        "colab": {
          "base_uri": "https://localhost:8080/",
          "height": 195
        },
        "outputId": "81648fab-7175-4660-dadc-f317af62fa16"
      },
      "source": [
        "df.head()"
      ],
      "execution_count": 17,
      "outputs": [
        {
          "output_type": "execute_result",
          "data": {
            "text/html": [
              "<div>\n",
              "<style scoped>\n",
              "    .dataframe tbody tr th:only-of-type {\n",
              "        vertical-align: middle;\n",
              "    }\n",
              "\n",
              "    .dataframe tbody tr th {\n",
              "        vertical-align: top;\n",
              "    }\n",
              "\n",
              "    .dataframe thead th {\n",
              "        text-align: right;\n",
              "    }\n",
              "</style>\n",
              "<table border=\"1\" class=\"dataframe\">\n",
              "  <thead>\n",
              "    <tr style=\"text-align: right;\">\n",
              "      <th></th>\n",
              "      <th>text</th>\n",
              "      <th>class</th>\n",
              "    </tr>\n",
              "  </thead>\n",
              "  <tbody>\n",
              "    <tr>\n",
              "      <th>0</th>\n",
              "      <td>I have to pick up my car from the garage tomorrow.</td>\n",
              "      <td>8</td>\n",
              "    </tr>\n",
              "    <tr>\n",
              "      <th>0</th>\n",
              "      <td>I have to leave at 15:45 on Thursday.</td>\n",
              "      <td>1</td>\n",
              "    </tr>\n",
              "    <tr>\n",
              "      <th>1</th>\n",
              "      <td>I won’t be here tomorrow one day vacation</td>\n",
              "      <td>2</td>\n",
              "    </tr>\n",
              "    <tr>\n",
              "      <th>2</th>\n",
              "      <td>Missed connection in Zurich.</td>\n",
              "      <td>1</td>\n",
              "    </tr>\n",
              "    <tr>\n",
              "      <th>2</th>\n",
              "      <td>Will be about 5-10 mins late in the office</td>\n",
              "      <td>1</td>\n",
              "    </tr>\n",
              "  </tbody>\n",
              "</table>\n",
              "</div>"
            ],
            "text/plain": [
              "                                                 text  class\n",
              "0  I have to pick up my car from the garage tomorrow.      8\n",
              "0               I have to leave at 15:45 on Thursday.      1\n",
              "1           I won’t be here tomorrow one day vacation      2\n",
              "2                        Missed connection in Zurich.      1\n",
              "2          Will be about 5-10 mins late in the office      1"
            ]
          },
          "metadata": {
            "tags": []
          },
          "execution_count": 17
        }
      ]
    },
    {
      "cell_type": "code",
      "metadata": {
        "id": "2dbBGL-MeFlF",
        "colab_type": "code",
        "colab": {}
      },
      "source": [
        "# Remove all rows which have no annotation\n",
        "df = df.dropna()"
      ],
      "execution_count": 0,
      "outputs": []
    },
    {
      "cell_type": "code",
      "metadata": {
        "id": "5M_DTpKgeFiw",
        "colab_type": "code",
        "colab": {
          "base_uri": "https://localhost:8080/",
          "height": 34
        },
        "outputId": "7109c33d-7596-4bf9-d352-e8a69149ce97"
      },
      "source": [
        "df.shape"
      ],
      "execution_count": 19,
      "outputs": [
        {
          "output_type": "execute_result",
          "data": {
            "text/plain": [
              "(3105, 2)"
            ]
          },
          "metadata": {
            "tags": []
          },
          "execution_count": 19
        }
      ]
    },
    {
      "cell_type": "markdown",
      "metadata": {
        "id": "uxwnl2hHcwfD",
        "colab_type": "text"
      },
      "source": [
        "### checking missing value if any"
      ]
    },
    {
      "cell_type": "code",
      "metadata": {
        "id": "8G3Xmy6hWVtY",
        "colab_type": "code",
        "outputId": "541e5135-799e-47d9-ec1a-1457c9f53311",
        "colab": {
          "base_uri": "https://localhost:8080/",
          "height": 67
        }
      },
      "source": [
        "df.isnull().sum()"
      ],
      "execution_count": 20,
      "outputs": [
        {
          "output_type": "execute_result",
          "data": {
            "text/plain": [
              "text     0\n",
              "class    0\n",
              "dtype: int64"
            ]
          },
          "metadata": {
            "tags": []
          },
          "execution_count": 20
        }
      ]
    },
    {
      "cell_type": "code",
      "metadata": {
        "id": "lIV8vbg61ENn",
        "colab_type": "code",
        "colab": {}
      },
      "source": [
        "# further check\n",
        "df['class'] = df.loc[:, 'class'].astype(np.uint8).values"
      ],
      "execution_count": 0,
      "outputs": []
    },
    {
      "cell_type": "markdown",
      "metadata": {
        "id": "UVAd10j5evrt",
        "colab_type": "text"
      },
      "source": [
        "### Separating X and y"
      ]
    },
    {
      "cell_type": "code",
      "metadata": {
        "id": "3eiPCizLezTT",
        "colab_type": "code",
        "colab": {}
      },
      "source": [
        "X = df['text']\n",
        "y = df['class']"
      ],
      "execution_count": 0,
      "outputs": []
    },
    {
      "cell_type": "code",
      "metadata": {
        "id": "Vn3rYus61Wez",
        "colab_type": "code",
        "colab": {
          "base_uri": "https://localhost:8080/",
          "height": 118
        },
        "outputId": "2b1902e2-be10-4b40-e732-3d33965c104c"
      },
      "source": [
        "X[:5]"
      ],
      "execution_count": 23,
      "outputs": [
        {
          "output_type": "execute_result",
          "data": {
            "text/plain": [
              "0    I have to pick up my car from the garage tomorrow.\n",
              "0                 I have to leave at 15:45 on Thursday.\n",
              "1             I won’t be here tomorrow one day vacation\n",
              "2                          Missed connection in Zurich.\n",
              "2            Will be about 5-10 mins late in the office\n",
              "Name: text, dtype: object"
            ]
          },
          "metadata": {
            "tags": []
          },
          "execution_count": 23
        }
      ]
    },
    {
      "cell_type": "code",
      "metadata": {
        "id": "uWSFUMck1Wb2",
        "colab_type": "code",
        "colab": {
          "base_uri": "https://localhost:8080/",
          "height": 118
        },
        "outputId": "23e1835f-6eb2-48d2-c801-db2f0057dff3"
      },
      "source": [
        "y[:5]"
      ],
      "execution_count": 24,
      "outputs": [
        {
          "output_type": "execute_result",
          "data": {
            "text/plain": [
              "0    8\n",
              "0    1\n",
              "1    2\n",
              "2    1\n",
              "2    1\n",
              "Name: class, dtype: uint8"
            ]
          },
          "metadata": {
            "tags": []
          },
          "execution_count": 24
        }
      ]
    },
    {
      "cell_type": "markdown",
      "metadata": {
        "id": "0zshMpTQ1bFV",
        "colab_type": "text"
      },
      "source": [
        "# 3)- Pre-model process"
      ]
    },
    {
      "cell_type": "code",
      "metadata": {
        "id": "WTX6ZQXo1fRt",
        "colab_type": "code",
        "colab": {}
      },
      "source": [
        "# Embedding\n",
        "max_features = 3000\n",
        "maxlen = 50\n",
        "embedding_size = 100\n",
        "\n",
        "# Convolution\n",
        "kernel_size = 5\n",
        "filters = 64\n",
        "pool_size = 4\n",
        "\n",
        "# LSTM\n",
        "lstm_output_size = 70\n",
        "\n",
        "# Training\n",
        "batch_size = 20\n",
        "epochs = 12"
      ],
      "execution_count": 0,
      "outputs": []
    },
    {
      "cell_type": "markdown",
      "metadata": {
        "id": "WYHnohG31qwV",
        "colab_type": "text"
      },
      "source": [
        "### 3a)-Tokenizing"
      ]
    },
    {
      "cell_type": "code",
      "metadata": {
        "id": "scVJJz2515sN",
        "colab_type": "code",
        "colab": {}
      },
      "source": [
        "\n",
        "tokenizer = Tokenizer(num_words=None, filters='!\"#$%&()*+,-./:;<=>?@[\\]^_`{|}~', lower=True, split=' ', char_level=False)\n",
        "tokenizer.fit_on_texts(X)\n",
        "Xt = tokenizer.texts_to_sequences(X)"
      ],
      "execution_count": 0,
      "outputs": []
    },
    {
      "cell_type": "code",
      "metadata": {
        "id": "K3ELCw2g15vX",
        "colab_type": "code",
        "colab": {
          "base_uri": "https://localhost:8080/",
          "height": 34
        },
        "outputId": "57f8ab4b-c414-42b6-e6b7-739c909b0ff0"
      },
      "source": [
        "print(X.iloc[2])"
      ],
      "execution_count": 27,
      "outputs": [
        {
          "output_type": "stream",
          "text": [
            "I won’t be here tomorrow one day vacation\n"
          ],
          "name": "stdout"
        }
      ]
    },
    {
      "cell_type": "code",
      "metadata": {
        "id": "ewxVIW_C15x4",
        "colab_type": "code",
        "colab": {
          "base_uri": "https://localhost:8080/",
          "height": 34
        },
        "outputId": "082b44ca-a536-4a12-a032-2d30bb462155"
      },
      "source": [
        "print(Xt[2])"
      ],
      "execution_count": 28,
      "outputs": [
        {
          "output_type": "stream",
          "text": [
            "[1, 352, 4, 127, 10, 187, 26, 258]\n"
          ],
          "name": "stdout"
        }
      ]
    },
    {
      "cell_type": "code",
      "metadata": {
        "id": "a5hiN4k_150h",
        "colab_type": "code",
        "colab": {
          "base_uri": "https://localhost:8080/",
          "height": 34
        },
        "outputId": "6878e790-4eed-44d3-9b54-d96205b3ef11"
      },
      "source": [
        "# word to index\n",
        "word_index = tokenizer.word_index\n",
        "num_words = len(word_index)\n",
        "print('Number of words in the corpus: {}'.format(num_words))"
      ],
      "execution_count": 29,
      "outputs": [
        {
          "output_type": "stream",
          "text": [
            "Number of words in the corpus: 2480\n"
          ],
          "name": "stdout"
        }
      ]
    },
    {
      "cell_type": "code",
      "metadata": {
        "id": "8AbD_ily153O",
        "colab_type": "code",
        "colab": {
          "base_uri": "https://localhost:8080/",
          "height": 34
        },
        "outputId": "5f9e7a73-4053-4211-9ed1-831bf46c9809"
      },
      "source": [
        "len_list = np.array([len(x) for x in Xt])\n",
        "mean_len = np.mean(len_list)\n",
        "std_len = np.std(len_list)\n",
        "print(mean_len, std_len)"
      ],
      "execution_count": 30,
      "outputs": [
        {
          "output_type": "stream",
          "text": [
            "8.438003220611916 5.3164683718103545\n"
          ],
          "name": "stdout"
        }
      ]
    },
    {
      "cell_type": "markdown",
      "metadata": {
        "id": "ugFLKEot20MW",
        "colab_type": "text"
      },
      "source": [
        "### 3b)-Multi Label Binarizer"
      ]
    },
    {
      "cell_type": "code",
      "metadata": {
        "id": "QFAMEvv_158h",
        "colab_type": "code",
        "colab": {
          "base_uri": "https://localhost:8080/",
          "height": 185
        },
        "outputId": "b8b93f5f-ecc8-4581-ab22-8ee12e15d387"
      },
      "source": [
        "yc = to_categorical(y-1)\n",
        "yc[:10]"
      ],
      "execution_count": 31,
      "outputs": [
        {
          "output_type": "execute_result",
          "data": {
            "text/plain": [
              "array([[0., 0., 0., 0., 0., 0., 0., 1.],\n",
              "       [1., 0., 0., 0., 0., 0., 0., 0.],\n",
              "       [0., 1., 0., 0., 0., 0., 0., 0.],\n",
              "       [1., 0., 0., 0., 0., 0., 0., 0.],\n",
              "       [1., 0., 0., 0., 0., 0., 0., 0.],\n",
              "       [1., 0., 0., 0., 0., 0., 0., 0.],\n",
              "       [0., 0., 0., 0., 0., 0., 0., 1.],\n",
              "       [0., 1., 0., 0., 0., 0., 0., 0.],\n",
              "       [0., 0., 0., 0., 0., 0., 0., 1.],\n",
              "       [0., 0., 0., 0., 0., 0., 0., 1.]], dtype=float32)"
            ]
          },
          "metadata": {
            "tags": []
          },
          "execution_count": 31
        }
      ]
    },
    {
      "cell_type": "markdown",
      "metadata": {
        "id": "jfMHKIHv27g3",
        "colab_type": "text"
      },
      "source": [
        "### 3c)-Sequence padding\n",
        "Make all input vectors the same size by truncating or adding zeros."
      ]
    },
    {
      "cell_type": "code",
      "metadata": {
        "id": "Shd9dmZV15_V",
        "colab_type": "code",
        "colab": {}
      },
      "source": [
        "Xts = sequence.pad_sequences(Xt, maxlen=maxlen, padding='post')"
      ],
      "execution_count": 0,
      "outputs": []
    },
    {
      "cell_type": "code",
      "metadata": {
        "id": "WM7v6XBh157g",
        "colab_type": "code",
        "colab": {
          "base_uri": "https://localhost:8080/",
          "height": 34
        },
        "outputId": "c777fe31-d4ea-405d-9f55-91d7af4e76e7"
      },
      "source": [
        "print(X[1])"
      ],
      "execution_count": 33,
      "outputs": [
        {
          "output_type": "stream",
          "text": [
            "I won’t be here tomorrow one day vacation\n"
          ],
          "name": "stdout"
        }
      ]
    },
    {
      "cell_type": "code",
      "metadata": {
        "id": "fM2-taSr3IyZ",
        "colab_type": "code",
        "colab": {
          "base_uri": "https://localhost:8080/",
          "height": 34
        },
        "outputId": "c4e15caf-2764-4d06-c1f5-f58ad27d4d97"
      },
      "source": [
        "print(Xt[1])"
      ],
      "execution_count": 34,
      "outputs": [
        {
          "output_type": "stream",
          "text": [
            "[1, 14, 3, 20, 7, 45, 92, 11, 47]\n"
          ],
          "name": "stdout"
        }
      ]
    },
    {
      "cell_type": "code",
      "metadata": {
        "id": "s6l1-l5k3RMl",
        "colab_type": "code",
        "colab": {
          "base_uri": "https://localhost:8080/",
          "height": 67
        },
        "outputId": "80369ffb-1024-4a40-862f-9d87be2c1a13"
      },
      "source": [
        "print(Xts[1])"
      ],
      "execution_count": 35,
      "outputs": [
        {
          "output_type": "stream",
          "text": [
            "[ 1 14  3 20  7 45 92 11 47  0  0  0  0  0  0  0  0  0  0  0  0  0  0  0\n",
            "  0  0  0  0  0  0  0  0  0  0  0  0  0  0  0  0  0  0  0  0  0  0  0  0\n",
            "  0  0]\n"
          ],
          "name": "stdout"
        }
      ]
    },
    {
      "cell_type": "markdown",
      "metadata": {
        "id": "gKS8L8-F3pKG",
        "colab_type": "text"
      },
      "source": [
        "### 3d)- Split dataset"
      ]
    },
    {
      "cell_type": "code",
      "metadata": {
        "id": "Vhb8vhpH3R77",
        "colab_type": "code",
        "colab": {}
      },
      "source": [
        "X_train, X_test, y_train, y_test = train_test_split(Xts, yc, test_size=0.10, random_state=1)"
      ],
      "execution_count": 0,
      "outputs": []
    },
    {
      "cell_type": "code",
      "metadata": {
        "id": "P8BzXsjh3uXz",
        "colab_type": "code",
        "colab": {
          "base_uri": "https://localhost:8080/",
          "height": 84
        },
        "outputId": "b151b109-81e5-4545-c903-87b3c47e3dec"
      },
      "source": [
        "\n",
        "print('X_train shape: {}'.format(X_train.shape))\n",
        "print('X_test shape : {}'.format(X_test.shape))\n",
        "\n",
        "print('y_train shape: {}'.format(y_train.shape))\n",
        "print('y_test shape : {}'.format(y_test.shape))"
      ],
      "execution_count": 37,
      "outputs": [
        {
          "output_type": "stream",
          "text": [
            "X_train shape: (2794, 50)\n",
            "X_test shape : (311, 50)\n",
            "y_train shape: (2794, 8)\n",
            "y_test shape : (311, 8)\n"
          ],
          "name": "stdout"
        }
      ]
    },
    {
      "cell_type": "markdown",
      "metadata": {
        "id": "oU8-OjWF4IC6",
        "colab_type": "text"
      },
      "source": [
        "# 4)- Model Building"
      ]
    },
    {
      "cell_type": "code",
      "metadata": {
        "id": "vk-iFg8M3y-x",
        "colab_type": "code",
        "colab": {}
      },
      "source": [
        "def build_and_train_model(X_train, X_test, y_train, y_test, verbose=1):\n",
        "    print('Build model...')\n",
        "    model = Sequential()\n",
        "    model.add(Embedding(max_features, embedding_size, input_length=maxlen))\n",
        "    model.add(Dropout(0.25))\n",
        "    model.add(Conv1D(filters,\n",
        "                     kernel_size,\n",
        "                     padding='valid',\n",
        "                     activation='relu',\n",
        "                     strides=1))\n",
        "    model.add(MaxPooling1D(pool_size=pool_size))\n",
        "    model.add(LSTM(lstm_output_size))\n",
        "    model.add(Dense(8))\n",
        "    model.add(Activation('softmax'))\n",
        "\n",
        "    callback = EarlyStopping(monitor='val_acc', patience=2) # avoid over-fitting\n",
        "\n",
        "    model.compile(loss='categorical_crossentropy', optimizer='adam', metrics=['accuracy'])\n",
        "\n",
        "    print('Training the model...')\n",
        "    H = model.fit(X_train, y_train,\n",
        "              batch_size=batch_size,\n",
        "              epochs=epochs,\n",
        "              validation_data=(X_test, y_test), callbacks=[callback], verbose=verbose)\n",
        "  \n",
        "    score, acc = model.evaluate(X_test, y_test, batch_size=batch_size)\n",
        "    print('Test accuracy:', acc)\n",
        "    return model, H, acc"
      ],
      "execution_count": 0,
      "outputs": []
    },
    {
      "cell_type": "markdown",
      "metadata": {
        "id": "x9SeFGMm4u2U",
        "colab_type": "text"
      },
      "source": [
        "### training the model"
      ]
    },
    {
      "cell_type": "code",
      "metadata": {
        "id": "lFXoCWAc4nKJ",
        "colab_type": "code",
        "colab": {
          "base_uri": "https://localhost:8080/",
          "height": 1000
        },
        "outputId": "203c7ebf-fe8e-4efd-ef83-ea7b9796dbdf"
      },
      "source": [
        "model, H, acc = build_and_train_model(X_train, X_test, y_train, y_test)"
      ],
      "execution_count": 39,
      "outputs": [
        {
          "output_type": "stream",
          "text": [
            "Build model...\n",
            "WARNING:tensorflow:From /usr/local/lib/python3.6/dist-packages/keras/backend/tensorflow_backend.py:66: The name tf.get_default_graph is deprecated. Please use tf.compat.v1.get_default_graph instead.\n",
            "\n",
            "WARNING:tensorflow:From /usr/local/lib/python3.6/dist-packages/keras/backend/tensorflow_backend.py:541: The name tf.placeholder is deprecated. Please use tf.compat.v1.placeholder instead.\n",
            "\n",
            "WARNING:tensorflow:From /usr/local/lib/python3.6/dist-packages/keras/backend/tensorflow_backend.py:4432: The name tf.random_uniform is deprecated. Please use tf.random.uniform instead.\n",
            "\n",
            "WARNING:tensorflow:From /usr/local/lib/python3.6/dist-packages/keras/backend/tensorflow_backend.py:148: The name tf.placeholder_with_default is deprecated. Please use tf.compat.v1.placeholder_with_default instead.\n",
            "\n",
            "WARNING:tensorflow:From /usr/local/lib/python3.6/dist-packages/keras/backend/tensorflow_backend.py:3733: calling dropout (from tensorflow.python.ops.nn_ops) with keep_prob is deprecated and will be removed in a future version.\n",
            "Instructions for updating:\n",
            "Please use `rate` instead of `keep_prob`. Rate should be set to `rate = 1 - keep_prob`.\n",
            "WARNING:tensorflow:From /usr/local/lib/python3.6/dist-packages/keras/backend/tensorflow_backend.py:4267: The name tf.nn.max_pool is deprecated. Please use tf.nn.max_pool2d instead.\n",
            "\n",
            "WARNING:tensorflow:From /usr/local/lib/python3.6/dist-packages/keras/optimizers.py:793: The name tf.train.Optimizer is deprecated. Please use tf.compat.v1.train.Optimizer instead.\n",
            "\n",
            "WARNING:tensorflow:From /usr/local/lib/python3.6/dist-packages/keras/backend/tensorflow_backend.py:3576: The name tf.log is deprecated. Please use tf.math.log instead.\n",
            "\n",
            "Training the model...\n",
            "WARNING:tensorflow:From /usr/local/lib/python3.6/dist-packages/tensorflow_core/python/ops/math_grad.py:1424: where (from tensorflow.python.ops.array_ops) is deprecated and will be removed in a future version.\n",
            "Instructions for updating:\n",
            "Use tf.where in 2.0, which has the same broadcast rule as np.where\n",
            "WARNING:tensorflow:From /usr/local/lib/python3.6/dist-packages/keras/backend/tensorflow_backend.py:1033: The name tf.assign_add is deprecated. Please use tf.compat.v1.assign_add instead.\n",
            "\n",
            "WARNING:tensorflow:From /usr/local/lib/python3.6/dist-packages/keras/backend/tensorflow_backend.py:1020: The name tf.assign is deprecated. Please use tf.compat.v1.assign instead.\n",
            "\n",
            "WARNING:tensorflow:From /usr/local/lib/python3.6/dist-packages/keras/backend/tensorflow_backend.py:3005: The name tf.Session is deprecated. Please use tf.compat.v1.Session instead.\n",
            "\n",
            "Train on 2794 samples, validate on 311 samples\n",
            "Epoch 1/12\n",
            "WARNING:tensorflow:From /usr/local/lib/python3.6/dist-packages/keras/backend/tensorflow_backend.py:190: The name tf.get_default_session is deprecated. Please use tf.compat.v1.get_default_session instead.\n",
            "\n",
            "WARNING:tensorflow:From /usr/local/lib/python3.6/dist-packages/keras/backend/tensorflow_backend.py:197: The name tf.ConfigProto is deprecated. Please use tf.compat.v1.ConfigProto instead.\n",
            "\n",
            "WARNING:tensorflow:From /usr/local/lib/python3.6/dist-packages/keras/backend/tensorflow_backend.py:207: The name tf.global_variables is deprecated. Please use tf.compat.v1.global_variables instead.\n",
            "\n",
            "WARNING:tensorflow:From /usr/local/lib/python3.6/dist-packages/keras/backend/tensorflow_backend.py:216: The name tf.is_variable_initialized is deprecated. Please use tf.compat.v1.is_variable_initialized instead.\n",
            "\n",
            "WARNING:tensorflow:From /usr/local/lib/python3.6/dist-packages/keras/backend/tensorflow_backend.py:223: The name tf.variables_initializer is deprecated. Please use tf.compat.v1.variables_initializer instead.\n",
            "\n",
            "2794/2794 [==============================] - 7s 3ms/step - loss: 1.7608 - acc: 0.3253 - val_loss: 1.4135 - val_acc: 0.5531\n",
            "Epoch 2/12\n",
            "2794/2794 [==============================] - 4s 1ms/step - loss: 1.0163 - acc: 0.6568 - val_loss: 0.9321 - val_acc: 0.7203\n",
            "Epoch 3/12\n",
            "2794/2794 [==============================] - 4s 2ms/step - loss: 0.6890 - acc: 0.7609 - val_loss: 0.8568 - val_acc: 0.7299\n",
            "Epoch 4/12\n",
            "2794/2794 [==============================] - 4s 1ms/step - loss: 0.5213 - acc: 0.8296 - val_loss: 0.9311 - val_acc: 0.7395\n",
            "Epoch 5/12\n",
            "2794/2794 [==============================] - 4s 1ms/step - loss: 0.3821 - acc: 0.8848 - val_loss: 0.8301 - val_acc: 0.7621\n",
            "Epoch 6/12\n",
            "2794/2794 [==============================] - 4s 2ms/step - loss: 0.2845 - acc: 0.9137 - val_loss: 0.7741 - val_acc: 0.7878\n",
            "Epoch 7/12\n",
            "2794/2794 [==============================] - 4s 2ms/step - loss: 0.2326 - acc: 0.9291 - val_loss: 0.7621 - val_acc: 0.7974\n",
            "Epoch 8/12\n",
            "2794/2794 [==============================] - 4s 2ms/step - loss: 0.1649 - acc: 0.9545 - val_loss: 0.8331 - val_acc: 0.7974\n",
            "Epoch 9/12\n",
            "2794/2794 [==============================] - 4s 1ms/step - loss: 0.1491 - acc: 0.9603 - val_loss: 0.8160 - val_acc: 0.7942\n",
            "311/311 [==============================] - 0s 488us/step\n",
            "Test accuracy: 0.7942122148164216\n"
          ],
          "name": "stdout"
        }
      ]
    },
    {
      "cell_type": "markdown",
      "metadata": {
        "id": "hlnPHMRl40S0",
        "colab_type": "text"
      },
      "source": [
        "### Visualization"
      ]
    },
    {
      "cell_type": "code",
      "metadata": {
        "id": "SoFCcsaJ4tCB",
        "colab_type": "code",
        "colab": {
          "base_uri": "https://localhost:8080/",
          "height": 337
        },
        "outputId": "986573e6-f218-4645-ec60-ed0e453ac9c9"
      },
      "source": [
        "fig, axs = plt.subplots(1, 2, figsize=(10, 5))\n",
        "axs[0].plot(H.history['acc'], label='acc')\n",
        "axs[0].plot(H.history['val_acc'], label='val_acc')\n",
        "axs[1].plot(H.history['loss'], label='loss')\n",
        "axs[1].plot(H.history['val_loss'], label='val_loss')"
      ],
      "execution_count": 40,
      "outputs": [
        {
          "output_type": "execute_result",
          "data": {
            "text/plain": [
              "[<matplotlib.lines.Line2D at 0x7f01060b34e0>]"
            ]
          },
          "metadata": {
            "tags": []
          },
          "execution_count": 40
        },
        {
          "output_type": "display_data",
          "data": {
            "image/png": "[encoded data removed]",
            "text/plain": [
              "<Figure size 720x360 with 2 Axes>"
            ]
          },
          "metadata": {
            "tags": []
          }
        }
      ]
    },
    {
      "cell_type": "markdown",
      "metadata": {
        "id": "-CAkVTii44Rd",
        "colab_type": "text"
      },
      "source": [
        "### Prediction"
      ]
    },
    {
      "cell_type": "code",
      "metadata": {
        "id": "b1k7vYGS42ru",
        "colab_type": "code",
        "colab": {}
      },
      "source": [
        "y_pred = model.predict(X_test)"
      ],
      "execution_count": 0,
      "outputs": []
    },
    {
      "cell_type": "code",
      "metadata": {
        "id": "vj1UNq4z6QJK",
        "colab_type": "code",
        "colab": {
          "base_uri": "https://localhost:8080/",
          "height": 202
        },
        "outputId": "95bde1be-94ab-4c35-bf8b-f782fb916f0f"
      },
      "source": [
        "y_pred[:5]"
      ],
      "execution_count": 42,
      "outputs": [
        {
          "output_type": "execute_result",
          "data": {
            "text/plain": [
              "array([[1.4296027e-02, 3.0987903e-02, 1.0165272e-03, 3.8830213e-02,\n",
              "        1.0152391e-02, 8.9695257e-01, 5.8402922e-03, 1.9240238e-03],\n",
              "       [9.8405153e-01, 4.9233600e-04, 1.5476407e-03, 6.3508870e-03,\n",
              "        3.7107014e-04, 5.3612812e-04, 5.8902340e-04, 6.0614343e-03],\n",
              "       [1.1266606e-03, 5.0352942e-03, 9.4439918e-01, 6.9875008e-04,\n",
              "        3.3388972e-02, 3.5643238e-03, 7.7970535e-03, 3.9897054e-03],\n",
              "       [7.0141917e-03, 1.2736632e-01, 6.4794524e-03, 1.6101691e-03,\n",
              "        6.9435053e-02, 3.7006758e-02, 7.3837095e-01, 1.2717175e-02],\n",
              "       [5.4888092e-03, 5.8587235e-01, 6.8163369e-03, 2.1074729e-02,\n",
              "        6.6963442e-02, 3.0004957e-01, 3.1807788e-03, 1.0553962e-02]],\n",
              "      dtype=float32)"
            ]
          },
          "metadata": {
            "tags": []
          },
          "execution_count": 42
        }
      ]
    },
    {
      "cell_type": "code",
      "metadata": {
        "id": "MmXWBf6d6QUQ",
        "colab_type": "code",
        "colab": {}
      },
      "source": [
        "y_pred_class=np.argmax(y_pred, axis=1)"
      ],
      "execution_count": 0,
      "outputs": []
    },
    {
      "cell_type": "code",
      "metadata": {
        "id": "VCNmWVUz6bGD",
        "colab_type": "code",
        "colab": {
          "base_uri": "https://localhost:8080/",
          "height": 34
        },
        "outputId": "e8368046-153b-4ea3-da1e-4509ec2312ff"
      },
      "source": [
        "y_pred_class[:5]"
      ],
      "execution_count": 44,
      "outputs": [
        {
          "output_type": "execute_result",
          "data": {
            "text/plain": [
              "array([5, 0, 2, 6, 1])"
            ]
          },
          "metadata": {
            "tags": []
          },
          "execution_count": 44
        }
      ]
    },
    {
      "cell_type": "code",
      "metadata": {
        "id": "EjR22wcV6gzK",
        "colab_type": "code",
        "colab": {
          "base_uri": "https://localhost:8080/",
          "height": 101
        },
        "outputId": "83565d78-e248-4ecb-fd3b-ea580f596dc8"
      },
      "source": [
        "# true values\n",
        "y_test[:5]"
      ],
      "execution_count": 45,
      "outputs": [
        {
          "output_type": "execute_result",
          "data": {
            "text/plain": [
              "array([[0., 0., 0., 0., 0., 0., 1., 0.],\n",
              "       [1., 0., 0., 0., 0., 0., 0., 0.],\n",
              "       [0., 0., 1., 0., 0., 0., 0., 0.],\n",
              "       [0., 0., 0., 0., 0., 0., 1., 0.],\n",
              "       [0., 1., 0., 0., 0., 0., 0., 0.]], dtype=float32)"
            ]
          },
          "metadata": {
            "tags": []
          },
          "execution_count": 45
        }
      ]
    },
    {
      "cell_type": "code",
      "metadata": {
        "id": "qfNtO-DE6lda",
        "colab_type": "code",
        "colab": {}
      },
      "source": [
        "y_test_class=np.argmax(y_test, axis=1)"
      ],
      "execution_count": 0,
      "outputs": []
    },
    {
      "cell_type": "code",
      "metadata": {
        "id": "hTQcx8IP458H",
        "colab_type": "code",
        "colab": {
          "base_uri": "https://localhost:8080/",
          "height": 269
        },
        "outputId": "b65a1c49-ddd2-4af6-9640-29a66fdc3547"
      },
      "source": [
        "print(classification_report(y_pred=y_pred_class, y_true=y_test_class))"
      ],
      "execution_count": 47,
      "outputs": [
        {
          "output_type": "stream",
          "text": [
            "              precision    recall  f1-score   support\n",
            "\n",
            "           0       0.84      0.75      0.79        92\n",
            "           1       0.59      0.81      0.68        16\n",
            "           2       0.98      0.82      0.89        55\n",
            "           3       0.61      0.79      0.69        14\n",
            "           4       0.76      0.68      0.72        19\n",
            "           5       0.64      0.93      0.76        15\n",
            "           6       0.75      0.65      0.70        23\n",
            "           7       0.80      0.87      0.83        77\n",
            "\n",
            "    accuracy                           0.79       311\n",
            "   macro avg       0.75      0.79      0.76       311\n",
            "weighted avg       0.81      0.79      0.80       311\n",
            "\n"
          ],
          "name": "stdout"
        }
      ]
    },
    {
      "cell_type": "markdown",
      "metadata": {
        "id": "3XaLCZIs5ALe",
        "colab_type": "text"
      },
      "source": [
        "### confusion matrix"
      ]
    },
    {
      "cell_type": "code",
      "metadata": {
        "id": "YJ3QNe6v69G1",
        "colab_type": "code",
        "colab": {
          "base_uri": "https://localhost:8080/",
          "height": 218
        },
        "outputId": "871c26bd-249d-41e8-e868-6907e98d76bd"
      },
      "source": [
        "! pip install scikit-plot"
      ],
      "execution_count": 48,
      "outputs": [
        {
          "output_type": "stream",
          "text": [
            "Requirement already satisfied: scikit-plot in /usr/local/lib/python3.6/dist-packages (0.3.7)\n",
            "Requirement already satisfied: matplotlib>=1.4.0 in /usr/local/lib/python3.6/dist-packages (from scikit-plot) (3.1.1)\n",
            "Requirement already satisfied: joblib>=0.10 in /usr/local/lib/python3.6/dist-packages (from scikit-plot) (0.14.0)\n",
            "Requirement already satisfied: scikit-learn>=0.18 in /usr/local/lib/python3.6/dist-packages (from scikit-plot) (0.21.3)\n",
            "Requirement already satisfied: scipy>=0.9 in /usr/local/lib/python3.6/dist-packages (from scikit-plot) (1.3.2)\n",
            "Requirement already satisfied: python-dateutil>=2.1 in /usr/local/lib/python3.6/dist-packages (from matplotlib>=1.4.0->scikit-plot) (2.6.1)\n",
            "Requirement already satisfied: cycler>=0.10 in /usr/local/lib/python3.6/dist-packages (from matplotlib>=1.4.0->scikit-plot) (0.10.0)\n",
            "Requirement already satisfied: numpy>=1.11 in /usr/local/lib/python3.6/dist-packages (from matplotlib>=1.4.0->scikit-plot) (1.17.4)\n",
            "Requirement already satisfied: pyparsing!=2.0.4,!=2.1.2,!=2.1.6,>=2.0.1 in /usr/local/lib/python3.6/dist-packages (from matplotlib>=1.4.0->scikit-plot) (2.4.5)\n",
            "Requirement already satisfied: kiwisolver>=1.0.1 in /usr/local/lib/python3.6/dist-packages (from matplotlib>=1.4.0->scikit-plot) (1.1.0)\n",
            "Requirement already satisfied: six>=1.5 in /usr/local/lib/python3.6/dist-packages (from python-dateutil>=2.1->matplotlib>=1.4.0->scikit-plot) (1.12.0)\n",
            "Requirement already satisfied: setuptools in /usr/local/lib/python3.6/dist-packages (from kiwisolver>=1.0.1->matplotlib>=1.4.0->scikit-plot) (41.6.0)\n"
          ],
          "name": "stdout"
        }
      ]
    },
    {
      "cell_type": "code",
      "metadata": {
        "id": "XrJjKexj5BnI",
        "colab_type": "code",
        "colab": {
          "base_uri": "https://localhost:8080/",
          "height": 151
        },
        "outputId": "f4a4ed43-b250-4f95-eeec-b8c95d5bfb69"
      },
      "source": [
        "cm = confusion_matrix(y_pred_class, y_test_class)\n",
        "cm"
      ],
      "execution_count": 49,
      "outputs": [
        {
          "output_type": "execute_result",
          "data": {
            "text/plain": [
              "array([[69,  1,  2,  2,  1,  0,  2,  5],\n",
              "       [ 1, 13,  2,  0,  2,  0,  3,  1],\n",
              "       [ 0,  0, 45,  0,  0,  0,  0,  1],\n",
              "       [ 5,  1,  0, 11,  1,  0,  0,  0],\n",
              "       [ 0,  0,  3,  0, 13,  0,  0,  1],\n",
              "       [ 4,  1,  0,  1,  1, 14,  1,  0],\n",
              "       [ 2,  0,  1,  0,  0,  0, 15,  2],\n",
              "       [11,  0,  2,  0,  1,  1,  2, 67]])"
            ]
          },
          "metadata": {
            "tags": []
          },
          "execution_count": 49
        }
      ]
    },
    {
      "cell_type": "code",
      "metadata": {
        "id": "4lW0_o7H7AN7",
        "colab_type": "code",
        "colab": {
          "base_uri": "https://localhost:8080/",
          "height": 312
        },
        "outputId": "04f4286c-ffab-4298-94db-338399491064"
      },
      "source": [
        "import scikitplot as skplt\n",
        "plt.figure()\n",
        "skplt.metrics.plot_confusion_matrix(y_pred=y_pred_class, y_true=y_test_class)\n",
        "plt.show()"
      ],
      "execution_count": 50,
      "outputs": [
        {
          "output_type": "display_data",
          "data": {
            "text/plain": [
              "<Figure size 432x288 with 0 Axes>"
            ]
          },
          "metadata": {
            "tags": []
          }
        },
        {
          "output_type": "display_data",
          "data": {
            "image/png": "[encoded data removed]",
            "text/plain": [
              "<Figure size 432x288 with 2 Axes>"
            ]
          },
          "metadata": {
            "tags": []
          }
        }
      ]
    },
    {
      "cell_type": "code",
      "metadata": {
        "id": "97MTaYNL7FjF",
        "colab_type": "code",
        "colab": {
          "base_uri": "https://localhost:8080/",
          "height": 312
        },
        "outputId": "abc71785-e2db-4e34-b510-9a250cb7f9a8"
      },
      "source": [
        "skplt.metrics.plot_confusion_matrix(y_pred=y_pred_class, y_true=y_test_class, normalize=True)"
      ],
      "execution_count": 51,
      "outputs": [
        {
          "output_type": "execute_result",
          "data": {
            "text/plain": [
              "<matplotlib.axes._subplots.AxesSubplot at 0x7f00a190e048>"
            ]
          },
          "metadata": {
            "tags": []
          },
          "execution_count": 51
        },
        {
          "output_type": "display_data",
          "data": {
            "image/png": "[encoded data removed]",
            "text/plain": [
              "<Figure size 432x288 with 2 Axes>"
            ]
          },
          "metadata": {
            "tags": []
          }
        }
      ]
    },
    {
      "cell_type": "markdown",
      "metadata": {
        "id": "rnz604Oi5Jip",
        "colab_type": "text"
      },
      "source": [
        "# 5)- Training an ensemble model\n",
        "\n",
        "Since we do early stopping, to minimise overfitting, the model is not fully trained yet. The effect of random initialisation is noticable. Hence, when training e.g. 10 times from scratch, you end up with 10 models with different performance. An idea to smooth this effect is to train multiple times and use all models for the prediction. Add all resulting output vectors and take the $argmax$. This will be your final prediction."
      ]
    },
    {
      "cell_type": "code",
      "metadata": {
        "id": "vW5o8y1m5RLY",
        "colab_type": "code",
        "colab": {
          "base_uri": "https://localhost:8080/",
          "height": 857
        },
        "outputId": "c8ee13b5-ab24-41ac-9e68-b5e9269f30ea"
      },
      "source": [
        "n_models = 10\n",
        "\n",
        "model_list = []\n",
        "H_list = []\n",
        "acc_list = []\n",
        "for i in range(n_models):\n",
        "    print('Training model {}'.format(i+1))\n",
        "    _model, _H, _acc = build_and_train_model(X_train, X_test, y_train, y_test, verbose=0)\n",
        "    model_list.append(_model)\n",
        "    H_list.append(_H)\n",
        "    acc_list.append(_acc)"
      ],
      "execution_count": 52,
      "outputs": [
        {
          "output_type": "stream",
          "text": [
            "Training model 1\n",
            "Build model...\n",
            "Training the model...\n",
            "311/311 [==============================] - 0s 641us/step\n",
            "Test accuracy: 0.8295819968272635\n",
            "Training model 2\n",
            "Build model...\n",
            "Training the model...\n",
            "311/311 [==============================] - 0s 504us/step\n",
            "Test accuracy: 0.8167202535932854\n",
            "Training model 3\n",
            "Build model...\n",
            "Training the model...\n",
            "311/311 [==============================] - 0s 621us/step\n",
            "Test accuracy: 0.7813504830817317\n",
            "Training model 4\n",
            "Build model...\n",
            "Training the model...\n",
            "311/311 [==============================] - 0s 531us/step\n",
            "Test accuracy: 0.8295819964439539\n",
            "Training model 5\n",
            "Build model...\n",
            "Training the model...\n",
            "311/311 [==============================] - 0s 515us/step\n",
            "Test accuracy: 0.8006430845168626\n",
            "Training model 6\n",
            "Build model...\n",
            "Training the model...\n",
            "311/311 [==============================] - 0s 528us/step\n",
            "Test accuracy: 0.819935692276602\n",
            "Training model 7\n",
            "Build model...\n",
            "Training the model...\n",
            "311/311 [==============================] - 0s 627us/step\n",
            "Test accuracy: 0.8006430845168626\n",
            "Training model 8\n",
            "Build model...\n",
            "Training the model...\n",
            "311/311 [==============================] - 0s 504us/step\n",
            "Test accuracy: 0.8102893953921327\n",
            "Training model 9\n",
            "Build model...\n",
            "Training the model...\n",
            "311/311 [==============================] - 0s 494us/step\n",
            "Test accuracy: 0.7781350507230237\n",
            "Training model 10\n",
            "Build model...\n",
            "Training the model...\n",
            "311/311 [==============================] - 0s 587us/step\n",
            "Test accuracy: 0.8295819905026549\n"
          ],
          "name": "stdout"
        }
      ]
    },
    {
      "cell_type": "code",
      "metadata": {
        "id": "mNcANu-t7OyD",
        "colab_type": "code",
        "colab": {
          "base_uri": "https://localhost:8080/",
          "height": 34
        },
        "outputId": "5a9e97b7-6f2f-4b09-a16a-c6798b6802f2"
      },
      "source": [
        "print('Mean test accuracy: {:.3f}'.format(np.mean(np.array(acc_list))))"
      ],
      "execution_count": 53,
      "outputs": [
        {
          "output_type": "stream",
          "text": [
            "Mean test accuracy: 0.810\n"
          ],
          "name": "stdout"
        }
      ]
    },
    {
      "cell_type": "code",
      "metadata": {
        "id": "EF5PDJpH7U3w",
        "colab_type": "code",
        "colab": {
          "base_uri": "https://localhost:8080/",
          "height": 320
        },
        "outputId": "bc742964-c560-40e9-cce7-017463494a13"
      },
      "source": [
        "fig, axs = plt.subplots(1, 2, figsize=(10, 5))\n",
        "for H in H_list:\n",
        "    axs[0].plot(H.history['acc'], label='acc')\n",
        "    axs[0].plot(H.history['val_acc'], label='val_acc')\n",
        "    axs[1].plot(H.history['loss'], label='loss')\n",
        "    axs[1].plot(H.history['val_loss'], label='val_loss')"
      ],
      "execution_count": 54,
      "outputs": [
        {
          "output_type": "display_data",
          "data": {
            "image/png": "[encoded data removed]",
            "text/plain": [
              "<Figure size 720x360 with 2 Axes>"
            ]
          },
          "metadata": {
            "tags": []
          }
        }
      ]
    },
    {
      "cell_type": "code",
      "metadata": {
        "id": "-mj9KfGZ7YAl",
        "colab_type": "code",
        "colab": {}
      },
      "source": [
        "y_pred_list = []\n",
        "for index in range(len(X_test)):\n",
        "    y_pred = np.zeros(8)\n",
        "    for model in model_list:\n",
        "        y_pred += model.predict(X_test[index][np.newaxis])[0]\n",
        "    y_pred_list.append(y_pred)\n",
        "    \n",
        "y_pred = np.array(y_pred_list)"
      ],
      "execution_count": 0,
      "outputs": []
    },
    {
      "cell_type": "code",
      "metadata": {
        "id": "LP6ENuds7jbE",
        "colab_type": "code",
        "colab": {
          "base_uri": "https://localhost:8080/",
          "height": 185
        },
        "outputId": "457b039e-ea3f-4726-ba60-b3ce31eb40de"
      },
      "source": [
        "y_pred[:5]"
      ],
      "execution_count": 56,
      "outputs": [
        {
          "output_type": "execute_result",
          "data": {
            "text/plain": [
              "array([[6.06836690e-02, 1.15092631e+00, 2.59961855e-02, 1.07874860e-01,\n",
              "        1.80825325e-01, 8.24533595e+00, 2.01094276e-01, 2.72634701e-02],\n",
              "       [9.95165795e+00, 4.50354194e-03, 5.51498526e-03, 3.18268465e-03,\n",
              "        7.37360186e-03, 1.22927560e-03, 7.10192406e-03, 1.94357896e-02],\n",
              "       [9.35124359e-03, 3.28639589e-03, 9.95521253e+00, 2.23394008e-03,\n",
              "        1.95664097e-02, 3.73602711e-03, 2.32457437e-03, 4.28897730e-03],\n",
              "       [6.06140460e-02, 6.09017556e-02, 9.76644355e-03, 4.00934787e-03,\n",
              "        1.17930482e-01, 2.80770474e-02, 9.60408902e+00, 1.14611726e-01],\n",
              "       [1.37795061e-01, 7.45367890e+00, 3.33010191e-02, 1.94201409e-01,\n",
              "        1.70255031e-01, 1.03279495e+00, 7.34618501e-01, 2.43355169e-01]])"
            ]
          },
          "metadata": {
            "tags": []
          },
          "execution_count": 56
        }
      ]
    },
    {
      "cell_type": "code",
      "metadata": {
        "id": "OAMbumz-7liN",
        "colab_type": "code",
        "colab": {}
      },
      "source": [
        "y_pred_class=np.argmax(y_pred, axis=1)"
      ],
      "execution_count": 0,
      "outputs": []
    },
    {
      "cell_type": "code",
      "metadata": {
        "id": "CkKFhBvH9LSW",
        "colab_type": "code",
        "colab": {
          "base_uri": "https://localhost:8080/",
          "height": 34
        },
        "outputId": "741f54bc-c549-4382-980f-afbc13f2a5c9"
      },
      "source": [
        "y_pred_class[:5]"
      ],
      "execution_count": 58,
      "outputs": [
        {
          "output_type": "execute_result",
          "data": {
            "text/plain": [
              "array([5, 0, 2, 6, 1])"
            ]
          },
          "metadata": {
            "tags": []
          },
          "execution_count": 58
        }
      ]
    },
    {
      "cell_type": "code",
      "metadata": {
        "id": "W9CEWyL-7ltt",
        "colab_type": "code",
        "colab": {
          "base_uri": "https://localhost:8080/",
          "height": 101
        },
        "outputId": "6d51028d-1031-43fa-d972-5947d1a7af7a"
      },
      "source": [
        "# true values\n",
        "y_test[:5]"
      ],
      "execution_count": 59,
      "outputs": [
        {
          "output_type": "execute_result",
          "data": {
            "text/plain": [
              "array([[0., 0., 0., 0., 0., 0., 1., 0.],\n",
              "       [1., 0., 0., 0., 0., 0., 0., 0.],\n",
              "       [0., 0., 1., 0., 0., 0., 0., 0.],\n",
              "       [0., 0., 0., 0., 0., 0., 1., 0.],\n",
              "       [0., 1., 0., 0., 0., 0., 0., 0.]], dtype=float32)"
            ]
          },
          "metadata": {
            "tags": []
          },
          "execution_count": 59
        }
      ]
    },
    {
      "cell_type": "code",
      "metadata": {
        "id": "ICgxD8ew7rDA",
        "colab_type": "code",
        "colab": {}
      },
      "source": [
        "y_test_class=np.argmax(y_test, axis=1)"
      ],
      "execution_count": 0,
      "outputs": []
    },
    {
      "cell_type": "code",
      "metadata": {
        "id": "xDtFqCHY9Oqv",
        "colab_type": "code",
        "colab": {
          "base_uri": "https://localhost:8080/",
          "height": 34
        },
        "outputId": "0fc692e4-04fb-4751-c0e7-2826fb39c4e0"
      },
      "source": [
        "y_test_class[:5]"
      ],
      "execution_count": 61,
      "outputs": [
        {
          "output_type": "execute_result",
          "data": {
            "text/plain": [
              "array([6, 0, 2, 6, 1])"
            ]
          },
          "metadata": {
            "tags": []
          },
          "execution_count": 61
        }
      ]
    },
    {
      "cell_type": "code",
      "metadata": {
        "id": "iVUxfUOD7aid",
        "colab_type": "code",
        "colab": {
          "base_uri": "https://localhost:8080/",
          "height": 34
        },
        "outputId": "b052a426-bbaa-4faf-a8aa-7378fa3576ee"
      },
      "source": [
        "accuracy_score(y_pred_class, y_test_class)"
      ],
      "execution_count": 62,
      "outputs": [
        {
          "output_type": "execute_result",
          "data": {
            "text/plain": [
              "0.864951768488746"
            ]
          },
          "metadata": {
            "tags": []
          },
          "execution_count": 62
        }
      ]
    },
    {
      "cell_type": "code",
      "metadata": {
        "id": "xkuhXhoT7alx",
        "colab_type": "code",
        "colab": {
          "base_uri": "https://localhost:8080/",
          "height": 269
        },
        "outputId": "26010c82-21a9-441e-9a18-21c94289eb78"
      },
      "source": [
        "print(classification_report(y_pred_class, y_test_class))"
      ],
      "execution_count": 63,
      "outputs": [
        {
          "output_type": "stream",
          "text": [
            "              precision    recall  f1-score   support\n",
            "\n",
            "           0       0.89      0.85      0.87        97\n",
            "           1       0.88      0.78      0.82        18\n",
            "           2       0.91      0.94      0.93        53\n",
            "           3       0.71      0.83      0.77        12\n",
            "           4       0.68      1.00      0.81        13\n",
            "           5       0.93      0.82      0.87        17\n",
            "           6       0.78      0.86      0.82        21\n",
            "           7       0.88      0.85      0.87        80\n",
            "\n",
            "    accuracy                           0.86       311\n",
            "   macro avg       0.83      0.87      0.84       311\n",
            "weighted avg       0.87      0.86      0.87       311\n",
            "\n"
          ],
          "name": "stdout"
        }
      ]
    },
    {
      "cell_type": "code",
      "metadata": {
        "id": "m62OG4DG7aq3",
        "colab_type": "code",
        "colab": {
          "base_uri": "https://localhost:8080/",
          "height": 312
        },
        "outputId": "b43694ec-40e1-47c9-a560-4aac3f7db9bc"
      },
      "source": [
        "import scikitplot as skplt\n",
        "plt.figure()\n",
        "skplt.metrics.plot_confusion_matrix(y_pred=y_pred_class, y_true=y_test_class)\n",
        "plt.show()"
      ],
      "execution_count": 64,
      "outputs": [
        {
          "output_type": "display_data",
          "data": {
            "text/plain": [
              "<Figure size 432x288 with 0 Axes>"
            ]
          },
          "metadata": {
            "tags": []
          }
        },
        {
          "output_type": "display_data",
          "data": {
            "image/png": "[encoded data removed]",
            "text/plain": [
              "<Figure size 432x288 with 2 Axes>"
            ]
          },
          "metadata": {
            "tags": []
          }
        }
      ]
    },
    {
      "cell_type": "code",
      "metadata": {
        "id": "q7k2-SCe9gVN",
        "colab_type": "code",
        "colab": {
          "base_uri": "https://localhost:8080/",
          "height": 312
        },
        "outputId": "fd1ecc54-c7b1-48ab-b86f-36c46a3633eb"
      },
      "source": [
        "skplt.metrics.plot_confusion_matrix(y_pred=y_pred_class, y_true=y_test_class, normalize=True)"
      ],
      "execution_count": 65,
      "outputs": [
        {
          "output_type": "execute_result",
          "data": {
            "text/plain": [
              "<matplotlib.axes._subplots.AxesSubplot at 0x7f006d97e3c8>"
            ]
          },
          "metadata": {
            "tags": []
          },
          "execution_count": 65
        },
        {
          "output_type": "display_data",
          "data": {
            "image/png": "[encoded data removed]",
            "text/plain": [
              "<Figure size 432x288 with 2 Axes>"
            ]
          },
          "metadata": {
            "tags": []
          }
        }
      ]
    },
    {
      "cell_type": "markdown",
      "metadata": {
        "id": "-nA9QSNF8Kh6",
        "colab_type": "text"
      },
      "source": [
        "# 6)- Checking out of sample data"
      ]
    },
    {
      "cell_type": "code",
      "metadata": {
        "id": "i6U44mVT7aoa",
        "colab_type": "code",
        "colab": {}
      },
      "source": [
        "def tag_message(message):\n",
        "    X_new = tokenizer.texts_to_sequences([message])\n",
        "    x1_new = sequence.pad_sequences(X_new, maxlen=maxlen, padding='post')\n",
        "    y_pred_list = []\n",
        "    for model in model_list:\n",
        "        y_pred_list.append(model.predict(x1_new))\n",
        "    y_pred = np.argmax(np.sum(np.array(y_pred_list), axis=0) / 10.0)\n",
        "    print('{:>20} | {}'.format(dict_classes[y_pred], message))"
      ],
      "execution_count": 0,
      "outputs": []
    },
    {
      "cell_type": "code",
      "metadata": {
        "id": "2N1qW0Nn8Jns",
        "colab_type": "code",
        "colab": {}
      },
      "source": [
        "tag_message('My alarm clock was not set properly. I come to the office asap.')\n",
        "tag_message('It is my scheduled day off.')\n",
        "tag_message('See you on Wednesday.')\n",
        "tag_message('Not feeling well today, I had to vomit.')\n",
        "tag_message('I work at home on Tuesday.')\n",
        "tag_message('This morning I have a meeting at ACME.')\n",
        "tag_message('The roads are super slippery, will miss the daily')\n",
        "tag_message('get well soon!')\n",
        "tag_message('I\\'m away for a long lunch between 12:00 and 15:30')\n",
        "tag_message('I have an appointment at the physio.')"
      ],
      "execution_count": 0,
      "outputs": []
    },
    {
      "cell_type": "markdown",
      "metadata": {
        "id": "aj8mHuqL_OAF",
        "colab_type": "text"
      },
      "source": [
        "# 7)-Transfer learning with pretrained embeddings"
      ]
    },
    {
      "cell_type": "markdown",
      "metadata": {
        "id": "uo_ILhfpAen_",
        "colab_type": "text"
      },
      "source": [
        "### 7.1)- USe GloVe Word - Embedding "
      ]
    },
    {
      "cell_type": "code",
      "metadata": {
        "id": "ydVb2ZxB9mdI",
        "colab_type": "code",
        "colab": {
          "base_uri": "https://localhost:8080/",
          "height": 353
        },
        "outputId": "0cc52da3-653d-4922-f872-d683652bfc67"
      },
      "source": [
        "# download the file\n",
        "!wget http://nlp.stanford.edu/data/glove.6B.zip"
      ],
      "execution_count": 68,
      "outputs": [
        {
          "output_type": "stream",
          "text": [
            "--2019-11-28 18:03:22--  http://nlp.stanford.edu/data/glove.6B.zip\n",
            "Resolving nlp.stanford.edu (nlp.stanford.edu)... 171.64.67.140\n",
            "Connecting to nlp.stanford.edu (nlp.stanford.edu)|171.64.67.140|:80... connected.\n",
            "HTTP request sent, awaiting response... 302 Found\n",
            "Location: https://nlp.stanford.edu/data/glove.6B.zip [following]\n",
            "--2019-11-28 18:03:22--  https://nlp.stanford.edu/data/glove.6B.zip\n",
            "Connecting to nlp.stanford.edu (nlp.stanford.edu)|171.64.67.140|:443... connected.\n",
            "HTTP request sent, awaiting response... 301 Moved Permanently\n",
            "Location: http://downloads.cs.stanford.edu/nlp/data/glove.6B.zip [following]\n",
            "--2019-11-28 18:03:23--  http://downloads.cs.stanford.edu/nlp/data/glove.6B.zip\n",
            "Resolving downloads.cs.stanford.edu (downloads.cs.stanford.edu)... 171.64.64.22\n",
            "Connecting to downloads.cs.stanford.edu (downloads.cs.stanford.edu)|171.64.64.22|:80... connected.\n",
            "HTTP request sent, awaiting response... 200 OK\n",
            "Length: 862182613 (822M) [application/zip]\n",
            "Saving to: ‘glove.6B.zip.1’\n",
            "\n",
            "glove.6B.zip.1      100%[===================>] 822.24M  2.12MB/s    in 6m 29s  \n",
            "\n",
            "2019-11-28 18:09:52 (2.11 MB/s) - ‘glove.6B.zip.1’ saved [862182613/862182613]\n",
            "\n"
          ],
          "name": "stdout"
        }
      ]
    },
    {
      "cell_type": "code",
      "metadata": {
        "id": "zwAudAo4Ah7k",
        "colab_type": "code",
        "colab": {
          "base_uri": "https://localhost:8080/",
          "height": 168
        },
        "outputId": "cb73a275-cd6a-4a82-9f00-6c1527f0296c"
      },
      "source": [
        "# unzip it\n",
        "\n",
        "!unzip glove*.zip"
      ],
      "execution_count": 69,
      "outputs": [
        {
          "output_type": "stream",
          "text": [
            "Archive:  glove.6B.zip\n",
            "replace glove.6B.50d.txt? [y]es, [n]o, [A]ll, [N]one, [r]ename: y\n",
            "  inflating: glove.6B.50d.txt        \n",
            "replace glove.6B.100d.txt? [y]es, [n]o, [A]ll, [N]one, [r]ename: y\n",
            "  inflating: glove.6B.100d.txt       \n",
            "replace glove.6B.200d.txt? [y]es, [n]o, [A]ll, [N]one, [r]ename: y\n",
            "  inflating: glove.6B.200d.txt       \n",
            "replace glove.6B.300d.txt? [y]es, [n]o, [A]ll, [N]one, [r]ename: y\n",
            "  inflating: glove.6B.300d.txt       \n"
          ],
          "name": "stdout"
        }
      ]
    },
    {
      "cell_type": "code",
      "metadata": {
        "id": "KZWSpBj-Da9D",
        "colab_type": "code",
        "colab": {
          "base_uri": "https://localhost:8080/",
          "height": 84
        },
        "outputId": "0671497d-860f-4ff2-f9f1-8a4d21835955"
      },
      "source": [
        "# Get the exact path of where the embedding vectors are extracted using\n",
        "!ls\n",
        "!pwd"
      ],
      "execution_count": 70,
      "outputs": [
        {
          "output_type": "stream",
          "text": [
            "glove.6B.100d.txt  glove.6B.50d.txt  messages-cls-mc.pkl\n",
            "glove.6B.200d.txt  glove.6B.zip      messages-cls-ms.pkl\n",
            "glove.6B.300d.txt  glove.6B.zip.1    sample_data\n",
            "/content\n"
          ],
          "name": "stdout"
        }
      ]
    },
    {
      "cell_type": "code",
      "metadata": {
        "id": "sSZ1znadGGnq",
        "colab_type": "code",
        "colab": {
          "base_uri": "https://localhost:8080/",
          "height": 50
        },
        "outputId": "8e0d0a22-4c78-4b65-a573-3f5ac889d9d3"
      },
      "source": [
        "# Index the vectors\n",
        "\n",
        "print('Indexing word vectors.')\n",
        "\n",
        "embeddings_index = {}\n",
        "f = open('glove.6B.100d.txt', encoding='utf-8')\n",
        "for line in f:\n",
        "    values = line.split()\n",
        "    word = values[0]\n",
        "    coefs = np.asarray(values[1:], dtype='float32')\n",
        "    embeddings_index[word] = coefs\n",
        "f.close()\n",
        "\n",
        "print('Found %s word vectors.' % len(embeddings_index))"
      ],
      "execution_count": 71,
      "outputs": [
        {
          "output_type": "stream",
          "text": [
            "Indexing word vectors.\n",
            "Found 400000 word vectors.\n"
          ],
          "name": "stdout"
        }
      ]
    },
    {
      "cell_type": "markdown",
      "metadata": {
        "id": "YTgPIf2GHC3q",
        "colab_type": "text"
      },
      "source": [
        "### 7.2)- loading file for pretrained embeddings"
      ]
    },
    {
      "cell_type": "code",
      "metadata": {
        "id": "QGfxvEsdGxpA",
        "colab_type": "code",
        "colab": {
          "base_uri": "https://localhost:8080/",
          "height": 34
        },
        "outputId": "58866713-f5e9-4833-ac76-b0789b7d3147"
      },
      "source": [
        "embeddings_index = {}\n",
        "with open('glove.6B.100d.txt', 'r') as f:\n",
        "    for line in f:\n",
        "        values = line.split()\n",
        "        word = values[0]\n",
        "        coefs = np.asarray(values[1:], dtype='float32')\n",
        "        embeddings_index[word] = coefs\n",
        "\n",
        "print('Found %s word vectors.' % len(embeddings_index))"
      ],
      "execution_count": 72,
      "outputs": [
        {
          "output_type": "stream",
          "text": [
            "Found 400000 word vectors.\n"
          ],
          "name": "stdout"
        }
      ]
    },
    {
      "cell_type": "code",
      "metadata": {
        "id": "LlkAAY5CGefI",
        "colab_type": "code",
        "colab": {
          "base_uri": "https://localhost:8080/",
          "height": 34
        },
        "outputId": "29f7284b-ea95-438d-f670-4aad5203a4d3"
      },
      "source": [
        "embeddings_index['home'].shape"
      ],
      "execution_count": 73,
      "outputs": [
        {
          "output_type": "execute_result",
          "data": {
            "text/plain": [
              "(100,)"
            ]
          },
          "metadata": {
            "tags": []
          },
          "execution_count": 73
        }
      ]
    },
    {
      "cell_type": "code",
      "metadata": {
        "id": "GKCynoAAHPAp",
        "colab_type": "code",
        "colab": {
          "base_uri": "https://localhost:8080/",
          "height": 34
        },
        "outputId": "adc9bc5c-51b6-4bd7-c706-0fe2245b7756"
      },
      "source": [
        "embedding_matrix = np.zeros((len(word_index) + 1, 100))\n",
        "for word, i in word_index.items():\n",
        "    embedding_vector = embeddings_index.get(word)\n",
        "    if embedding_vector is not None:\n",
        "        # words not found in embedding index will be all-zeros.\n",
        "        embedding_matrix[i] = embedding_vector\n",
        "        \n",
        "print(embedding_matrix.shape)"
      ],
      "execution_count": 74,
      "outputs": [
        {
          "output_type": "stream",
          "text": [
            "(2481, 100)\n"
          ],
          "name": "stdout"
        }
      ]
    },
    {
      "cell_type": "markdown",
      "metadata": {
        "id": "rMzf44GCHVV4",
        "colab_type": "text"
      },
      "source": [
        "### 7.3)-Model Building"
      ]
    },
    {
      "cell_type": "code",
      "metadata": {
        "id": "EunEYQsgHRj0",
        "colab_type": "code",
        "colab": {
          "base_uri": "https://localhost:8080/",
          "height": 319
        },
        "outputId": "69b713ee-bec0-414e-fb37-25ea681018cb"
      },
      "source": [
        "print('Build model...')\n",
        "\n",
        "model = Sequential()\n",
        "# model.add(Input(shape=(maxlen,), dtype='int32'))\n",
        "model.add(Embedding(embedding_matrix.shape[0], embedding_matrix.shape[1], weights=[embedding_matrix], input_length=maxlen, trainable=False))\n",
        "model.add(Dropout(0.25))\n",
        "model.add(Conv1D(filters,\n",
        "                 kernel_size,\n",
        "                 padding='valid',\n",
        "                 activation='relu',\n",
        "                 strides=1))\n",
        "model.add(MaxPooling1D(pool_size=pool_size))\n",
        "model.add(LSTM(lstm_output_size))\n",
        "model.add(Dense(8))\n",
        "model.add(Activation('softmax'))\n",
        "\n",
        "callback = EarlyStopping(monitor='val_acc', patience=1)\n",
        "\n",
        "model.compile(loss='categorical_crossentropy',\n",
        "              optimizer='adam',\n",
        "              metrics=['accuracy'])\n",
        "\n",
        "print('Train...')\n",
        "H = model.fit(X_train, y_train,\n",
        "          batch_size=batch_size,\n",
        "          epochs=epochs,\n",
        "          validation_data=(X_test, y_test), callbacks=[callback])\n",
        "score, acc = model.evaluate(X_test, y_test, batch_size=batch_size)\n",
        "print('Test score:', score)\n",
        "print('Test accuracy:', acc)"
      ],
      "execution_count": 75,
      "outputs": [
        {
          "output_type": "stream",
          "text": [
            "Build model...\n",
            "Train...\n",
            "Train on 2794 samples, validate on 311 samples\n",
            "Epoch 1/12\n",
            "2794/2794 [==============================] - 8s 3ms/step - loss: 1.6045 - acc: 0.4366 - val_loss: 1.2772 - val_acc: 0.5627\n",
            "Epoch 2/12\n",
            "2794/2794 [==============================] - 4s 2ms/step - loss: 1.1519 - acc: 0.6120 - val_loss: 1.1387 - val_acc: 0.6367\n",
            "Epoch 3/12\n",
            "2794/2794 [==============================] - 4s 2ms/step - loss: 0.8886 - acc: 0.7101 - val_loss: 0.8542 - val_acc: 0.6977\n",
            "Epoch 4/12\n",
            "2794/2794 [==============================] - 4s 1ms/step - loss: 0.7338 - acc: 0.7563 - val_loss: 0.7917 - val_acc: 0.7235\n",
            "Epoch 5/12\n",
            "2794/2794 [==============================] - 4s 1ms/step - loss: 0.5747 - acc: 0.8142 - val_loss: 0.6377 - val_acc: 0.7942\n",
            "Epoch 6/12\n",
            "2794/2794 [==============================] - 4s 1ms/step - loss: 0.5044 - acc: 0.8389 - val_loss: 0.6290 - val_acc: 0.7814\n",
            "311/311 [==============================] - 0s 588us/step\n",
            "Test score: 0.6290366411975725\n",
            "Test accuracy: 0.7813504826984221\n"
          ],
          "name": "stdout"
        }
      ]
    },
    {
      "cell_type": "code",
      "metadata": {
        "id": "yYKsdSZ0HW_5",
        "colab_type": "code",
        "colab": {}
      },
      "source": [
        "y_pred = model.predict(X_test)"
      ],
      "execution_count": 0,
      "outputs": []
    },
    {
      "cell_type": "markdown",
      "metadata": {
        "id": "2oZh75vwIaF8",
        "colab_type": "text"
      },
      "source": [
        "### 7.4)- Results"
      ]
    },
    {
      "cell_type": "code",
      "metadata": {
        "id": "3mJqJmdbOOf-",
        "colab_type": "code",
        "colab": {
          "base_uri": "https://localhost:8080/",
          "height": 34
        },
        "outputId": "54d9ac6f-1ae9-4124-e00d-6bcc30e93099"
      },
      "source": [
        "accuracy_score(y_pred=np.argmax(y_pred, axis=1), y_true=np.argmax(y_test, axis=1))"
      ],
      "execution_count": 77,
      "outputs": [
        {
          "output_type": "execute_result",
          "data": {
            "text/plain": [
              "0.7813504823151125"
            ]
          },
          "metadata": {
            "tags": []
          },
          "execution_count": 77
        }
      ]
    },
    {
      "cell_type": "code",
      "metadata": {
        "id": "j67Q-VjkHbNQ",
        "colab_type": "code",
        "colab": {
          "base_uri": "https://localhost:8080/",
          "height": 269
        },
        "outputId": "54054318-b738-431e-d36b-469d7e191c30"
      },
      "source": [
        "print(classification_report(y_pred=np.argmax(y_pred, axis=1), y_true=np.argmax(y_test, axis=1)))"
      ],
      "execution_count": 78,
      "outputs": [
        {
          "output_type": "stream",
          "text": [
            "              precision    recall  f1-score   support\n",
            "\n",
            "           0       0.75      0.86      0.80        92\n",
            "           1       0.71      0.75      0.73        16\n",
            "           2       0.94      0.82      0.87        55\n",
            "           3       0.74      1.00      0.85        14\n",
            "           4       0.58      0.37      0.45        19\n",
            "           5       0.76      0.87      0.81        15\n",
            "           6       0.55      0.52      0.53        23\n",
            "           7       0.87      0.79      0.83        77\n",
            "\n",
            "    accuracy                           0.78       311\n",
            "   macro avg       0.74      0.75      0.73       311\n",
            "weighted avg       0.78      0.78      0.78       311\n",
            "\n"
          ],
          "name": "stdout"
        }
      ]
    },
    {
      "cell_type": "code",
      "metadata": {
        "id": "Uz1evcwXHbkY",
        "colab_type": "code",
        "colab": {
          "base_uri": "https://localhost:8080/",
          "height": 151
        },
        "outputId": "0a96e9dd-0969-4b85-f254-fac25ec4b666"
      },
      "source": [
        "cm = confusion_matrix(y_pred=np.argmax(y_pred, axis=1), y_true=np.argmax(y_test, axis=1))\n",
        "cm"
      ],
      "execution_count": 79,
      "outputs": [
        {
          "output_type": "execute_result",
          "data": {
            "text/plain": [
              "array([[79,  0,  0,  3,  2,  0,  3,  5],\n",
              "       [ 1, 12,  0,  0,  0,  0,  2,  1],\n",
              "       [ 6,  0, 45,  0,  0,  3,  1,  0],\n",
              "       [ 0,  0,  0, 14,  0,  0,  0,  0],\n",
              "       [ 5,  1,  2,  2,  7,  0,  0,  2],\n",
              "       [ 0,  0,  0,  0,  0, 13,  2,  0],\n",
              "       [ 7,  3,  0,  0,  0,  0, 12,  1],\n",
              "       [ 8,  1,  1,  0,  3,  1,  2, 61]])"
            ]
          },
          "metadata": {
            "tags": []
          },
          "execution_count": 79
        }
      ]
    },
    {
      "cell_type": "code",
      "metadata": {
        "id": "kJQVxR9pHo-L",
        "colab_type": "code",
        "colab": {
          "base_uri": "https://localhost:8080/",
          "height": 295
        },
        "outputId": "1b49b392-c639-4a91-8d66-79df7c639a31"
      },
      "source": [
        "skplt.metrics.plot_confusion_matrix(y_pred=np.argmax(y_pred, axis=1), y_true=np.argmax(y_test, axis=1))\n",
        "plt.show()"
      ],
      "execution_count": 80,
      "outputs": [
        {
          "output_type": "display_data",
          "data": {
            "image/png": "[encoded data removed]",
            "text/plain": [
              "<Figure size 432x288 with 2 Axes>"
            ]
          },
          "metadata": {
            "tags": []
          }
        }
      ]
    },
    {
      "cell_type": "code",
      "metadata": {
        "id": "RqnHDwvJIKVq",
        "colab_type": "code",
        "colab": {
          "base_uri": "https://localhost:8080/",
          "height": 295
        },
        "outputId": "4310f2e4-6efb-4245-aff7-2209b6cbb8ba"
      },
      "source": [
        "skplt.metrics.plot_confusion_matrix(y_pred=np.argmax(y_pred, axis=1), y_true=np.argmax(y_test, axis=1), normalize=True)\n",
        "plt.show()"
      ],
      "execution_count": 81,
      "outputs": [
        {
          "output_type": "display_data",
          "data": {
            "image/png": "[encoded data removed]",
            "text/plain": [
              "<Figure size 432x288 with 2 Axes>"
            ]
          },
          "metadata": {
            "tags": []
          }
        }
      ]
    }
  ]
}