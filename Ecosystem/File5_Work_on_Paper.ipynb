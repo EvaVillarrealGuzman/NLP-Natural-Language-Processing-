{
  "nbformat": 4,
  "nbformat_minor": 0,
  "metadata": {
    "kernelspec": {
      "name": "python3",
      "display_name": "Python 3"
    },
    "language_info": {
      "codemirror_mode": {
        "name": "ipython",
        "version": 3
      },
      "file_extension": ".py",
      "mimetype": "text/x-python",
      "name": "python",
      "nbconvert_exporter": "python",
      "pygments_lexer": "ipython3",
      "version": "3.6.3"
    },
    "colab": {
      "name": "File5-Work_on_Paper.ipynb",
      "provenance": [],
      "collapsed_sections": []
    },
    "accelerator": "GPU"
  },
  "cells": [
    {
      "cell_type": "markdown",
      "metadata": {
        "id": "YRMppiaTALnL",
        "colab_type": "text"
      },
      "source": [
        "# Working on analysis part of topic modeling"
      ]
    },
    {
      "cell_type": "markdown",
      "metadata": {
        "id": "t-7Uzzl5ALnN",
        "colab_type": "text"
      },
      "source": [
        "There are couple of pickle files extract from other work\n",
        "\n",
        "- 1)-patent_firm_full_clean.pkl extracted from File1-Firm_Preprocessing\n",
        "- 2)-eda.pkl extracted from File2-EDA\n",
        "- 3)-work_on_data extracted from File3-Topic modeling\n",
        "\n",
        "- Finally, we will create a pkl file from this as well for future use in visualizations. tech_type_per_topic.pkl"
      ]
    },
    {
      "cell_type": "code",
      "metadata": {
        "id": "z8iXhgopALnN",
        "colab_type": "code",
        "colab": {}
      },
      "source": [
        "#support both Python 2 and Python 3 with minimal overhead.\n",
        "from __future__ import absolute_import, division, print_function"
      ],
      "execution_count": 0,
      "outputs": []
    },
    {
      "cell_type": "code",
      "metadata": {
        "id": "3zJDq9klALnQ",
        "colab_type": "code",
        "colab": {}
      },
      "source": [
        "import warnings\n",
        "warnings.filterwarnings('ignore')"
      ],
      "execution_count": 0,
      "outputs": []
    },
    {
      "cell_type": "code",
      "metadata": {
        "id": "fVASAZzyALnS",
        "colab_type": "code",
        "colab": {}
      },
      "source": [
        "from IPython.core.display import HTML\n",
        "css = open('style-table.css').read() + open('style-notebook.css').read()\n",
        "HTML('<style>{}</style>'.format(css))"
      ],
      "execution_count": 0,
      "outputs": []
    },
    {
      "cell_type": "code",
      "metadata": {
        "id": "-cZrmbm1ALnU",
        "colab_type": "code",
        "colab": {}
      },
      "source": [
        "import nltk\n",
        "import sys\n",
        "import re, numpy as np, pandas as pd"
      ],
      "execution_count": 0,
      "outputs": []
    },
    {
      "cell_type": "code",
      "metadata": {
        "id": "htYEWtDQALnY",
        "colab_type": "code",
        "colab": {
          "base_uri": "https://localhost:8080/",
          "height": 34
        },
        "outputId": "05502b23-6695-4098-ed20-f0690fe854d0"
      },
      "source": [
        "# Visualization \n",
        "import matplotlib.pyplot as plt\n",
        "import seaborn as sns\n",
        "from pprint import pprint\n",
        "%matplotlib inline\n",
        "%pylab inline"
      ],
      "execution_count": 5,
      "outputs": [
        {
          "output_type": "stream",
          "text": [
            "Populating the interactive namespace from numpy and matplotlib\n"
          ],
          "name": "stdout"
        }
      ]
    },
    {
      "cell_type": "code",
      "metadata": {
        "id": "m_E246gHALnb",
        "colab_type": "code",
        "colab": {}
      },
      "source": [
        "import plotly\n",
        "import plotly.offline as pyo\n",
        "import pandas as pd\n",
        "import matplotlib.pyplot as plt\n",
        "from datetime import datetime\n",
        "import plotly.graph_objs as go"
      ],
      "execution_count": 0,
      "outputs": []
    },
    {
      "cell_type": "code",
      "metadata": {
        "id": "7fm-ors7ALnd",
        "colab_type": "code",
        "colab": {}
      },
      "source": [
        "# Gensim\n",
        "import gensim, spacy, logging, warnings\n",
        "import gensim.corpora as corpora\n",
        "from gensim.utils import lemmatize, simple_preprocess\n",
        "from gensim.models import CoherenceModel"
      ],
      "execution_count": 0,
      "outputs": []
    },
    {
      "cell_type": "code",
      "metadata": {
        "id": "Lid7bSZANVGL",
        "colab_type": "code",
        "colab": {
          "base_uri": "https://localhost:8080/",
          "height": 67
        },
        "outputId": "783e2f6a-808d-4813-c648-5b9f23079bdc"
      },
      "source": [
        "import nltk\n",
        "nltk.download('stopwords')"
      ],
      "execution_count": 8,
      "outputs": [
        {
          "output_type": "stream",
          "text": [
            "[nltk_data] Downloading package stopwords to /root/nltk_data...\n",
            "[nltk_data]   Unzipping corpora/stopwords.zip.\n"
          ],
          "name": "stdout"
        },
        {
          "output_type": "execute_result",
          "data": {
            "text/plain": [
              "True"
            ]
          },
          "metadata": {
            "tags": []
          },
          "execution_count": 8
        }
      ]
    },
    {
      "cell_type": "code",
      "metadata": {
        "id": "0z0mjrU8ALnf",
        "colab_type": "code",
        "colab": {}
      },
      "source": [
        "# NLTK Stop words\n",
        "from nltk.corpus import stopwords\n",
        "stop_words = stopwords.words('english')\n",
        "stop_words.extend(['from', 'subject', 're', 'edu', 'use', 'not', 'would', 'say', 'could', '_', 'be', 'know', 'good', 'go', 'get', 'do', 'done', 'try', 'many', 'some', 'nice', 'thank', 'think', 'see', 'rather', 'easy', 'easily', 'lot', 'lack', 'make', 'want', 'seem', 'run', 'need', 'even', 'right', 'line', 'even', 'also', 'may', 'take', 'come'])"
      ],
      "execution_count": 0,
      "outputs": []
    },
    {
      "cell_type": "markdown",
      "metadata": {
        "id": "ZmEu9fcMALng",
        "colab_type": "text"
      },
      "source": [
        "# Loading file"
      ]
    },
    {
      "cell_type": "code",
      "metadata": {
        "id": "tGEu_GEEALnh",
        "colab_type": "code",
        "colab": {}
      },
      "source": [
        "import pickle"
      ],
      "execution_count": 0,
      "outputs": []
    },
    {
      "cell_type": "code",
      "metadata": {
        "id": "gCUHYA12PMfM",
        "colab_type": "code",
        "colab": {
          "base_uri": "https://localhost:8080/",
          "height": 320
        },
        "outputId": "ce6a5ee9-2e1d-4609-aab2-3ee07177207b"
      },
      "source": [
        "p_firm = pd.read_pickle('patent_firm_full_clean.pkl')\n",
        "p_firm.shape"
      ],
      "execution_count": 11,
      "outputs": [
        {
          "output_type": "error",
          "ename": "FileNotFoundError",
          "evalue": "ignored",
          "traceback": [
            "\u001b[0;31m---------------------------------------------------------------------------\u001b[0m",
            "\u001b[0;31mFileNotFoundError\u001b[0m                         Traceback (most recent call last)",
            "\u001b[0;32m<ipython-input-11-73f1a7f0008b>\u001b[0m in \u001b[0;36m<module>\u001b[0;34m()\u001b[0m\n\u001b[0;32m----> 1\u001b[0;31m \u001b[0mp_firm\u001b[0m \u001b[0;34m=\u001b[0m \u001b[0mpd\u001b[0m\u001b[0;34m.\u001b[0m\u001b[0mread_pickle\u001b[0m\u001b[0;34m(\u001b[0m\u001b[0;34m'patent_firm_full_clean.pkl'\u001b[0m\u001b[0;34m)\u001b[0m\u001b[0;34m\u001b[0m\u001b[0;34m\u001b[0m\u001b[0m\n\u001b[0m\u001b[1;32m      2\u001b[0m \u001b[0mp_firm\u001b[0m\u001b[0;34m.\u001b[0m\u001b[0mshape\u001b[0m\u001b[0;34m\u001b[0m\u001b[0;34m\u001b[0m\u001b[0m\n",
            "\u001b[0;32m/usr/local/lib/python3.6/dist-packages/pandas/io/pickle.py\u001b[0m in \u001b[0;36mread_pickle\u001b[0;34m(path, compression)\u001b[0m\n\u001b[1;32m    143\u001b[0m     \"\"\"\n\u001b[1;32m    144\u001b[0m     \u001b[0mpath\u001b[0m \u001b[0;34m=\u001b[0m \u001b[0m_stringify_path\u001b[0m\u001b[0;34m(\u001b[0m\u001b[0mpath\u001b[0m\u001b[0;34m)\u001b[0m\u001b[0;34m\u001b[0m\u001b[0;34m\u001b[0m\u001b[0m\n\u001b[0;32m--> 145\u001b[0;31m     \u001b[0mf\u001b[0m\u001b[0;34m,\u001b[0m \u001b[0mfh\u001b[0m \u001b[0;34m=\u001b[0m \u001b[0m_get_handle\u001b[0m\u001b[0;34m(\u001b[0m\u001b[0mpath\u001b[0m\u001b[0;34m,\u001b[0m \u001b[0;34m\"rb\"\u001b[0m\u001b[0;34m,\u001b[0m \u001b[0mcompression\u001b[0m\u001b[0;34m=\u001b[0m\u001b[0mcompression\u001b[0m\u001b[0;34m,\u001b[0m \u001b[0mis_text\u001b[0m\u001b[0;34m=\u001b[0m\u001b[0;32mFalse\u001b[0m\u001b[0;34m)\u001b[0m\u001b[0;34m\u001b[0m\u001b[0;34m\u001b[0m\u001b[0m\n\u001b[0m\u001b[1;32m    146\u001b[0m \u001b[0;34m\u001b[0m\u001b[0m\n\u001b[1;32m    147\u001b[0m     \u001b[0;31m# 1) try standard libary Pickle\u001b[0m\u001b[0;34m\u001b[0m\u001b[0;34m\u001b[0m\u001b[0;34m\u001b[0m\u001b[0m\n",
            "\u001b[0;32m/usr/local/lib/python3.6/dist-packages/pandas/io/common.py\u001b[0m in \u001b[0;36m_get_handle\u001b[0;34m(path_or_buf, mode, encoding, compression, memory_map, is_text)\u001b[0m\n\u001b[1;32m    403\u001b[0m         \u001b[0;32melse\u001b[0m\u001b[0;34m:\u001b[0m\u001b[0;34m\u001b[0m\u001b[0;34m\u001b[0m\u001b[0m\n\u001b[1;32m    404\u001b[0m             \u001b[0;31m# Binary mode\u001b[0m\u001b[0;34m\u001b[0m\u001b[0;34m\u001b[0m\u001b[0;34m\u001b[0m\u001b[0m\n\u001b[0;32m--> 405\u001b[0;31m             \u001b[0mf\u001b[0m \u001b[0;34m=\u001b[0m \u001b[0mopen\u001b[0m\u001b[0;34m(\u001b[0m\u001b[0mpath_or_buf\u001b[0m\u001b[0;34m,\u001b[0m \u001b[0mmode\u001b[0m\u001b[0;34m)\u001b[0m\u001b[0;34m\u001b[0m\u001b[0;34m\u001b[0m\u001b[0m\n\u001b[0m\u001b[1;32m    406\u001b[0m         \u001b[0mhandles\u001b[0m\u001b[0;34m.\u001b[0m\u001b[0mappend\u001b[0m\u001b[0;34m(\u001b[0m\u001b[0mf\u001b[0m\u001b[0;34m)\u001b[0m\u001b[0;34m\u001b[0m\u001b[0;34m\u001b[0m\u001b[0m\n\u001b[1;32m    407\u001b[0m \u001b[0;34m\u001b[0m\u001b[0m\n",
            "\u001b[0;31mFileNotFoundError\u001b[0m: [Errno 2] No such file or directory: 'patent_firm_full_clean.pkl'"
          ]
        }
      ]
    },
    {
      "cell_type": "code",
      "metadata": {
        "id": "28YeOD36ALnm",
        "colab_type": "code",
        "colab": {
          "base_uri": "https://localhost:8080/",
          "height": 34
        },
        "outputId": "14c92af0-1f47-451f-e86f-e7558b18b4d5"
      },
      "source": [
        "patent = pd.read_pickle('eda.pkl')\n",
        "patent.shape"
      ],
      "execution_count": 12,
      "outputs": [
        {
          "output_type": "execute_result",
          "data": {
            "text/plain": [
              "(43431, 37)"
            ]
          },
          "metadata": {
            "tags": []
          },
          "execution_count": 12
        }
      ]
    },
    {
      "cell_type": "code",
      "metadata": {
        "id": "wJoMa4bnALnp",
        "colab_type": "code",
        "colab": {
          "base_uri": "https://localhost:8080/",
          "height": 261
        },
        "outputId": "d1c7f704-bd05-4043-deb5-19c2ca48657a"
      },
      "source": [
        "patent.head(2)"
      ],
      "execution_count": 13,
      "outputs": [
        {
          "output_type": "execute_result",
          "data": {
            "text/html": [
              "<div>\n",
              "<style scoped>\n",
              "    .dataframe tbody tr th:only-of-type {\n",
              "        vertical-align: middle;\n",
              "    }\n",
              "\n",
              "    .dataframe tbody tr th {\n",
              "        vertical-align: top;\n",
              "    }\n",
              "\n",
              "    .dataframe thead th {\n",
              "        text-align: right;\n",
              "    }\n",
              "</style>\n",
              "<table border=\"1\" class=\"dataframe\">\n",
              "  <thead>\n",
              "    <tr style=\"text-align: right;\">\n",
              "      <th></th>\n",
              "      <th>appln</th>\n",
              "      <th>appln_id</th>\n",
              "      <th>family_id</th>\n",
              "      <th>sets</th>\n",
              "      <th>direct</th>\n",
              "      <th>granted</th>\n",
              "      <th>earliest_appln</th>\n",
              "      <th>earliest_filing_date</th>\n",
              "      <th>publn_date</th>\n",
              "      <th>publn</th>\n",
              "      <th>publn_first_grant</th>\n",
              "      <th>publn_claims</th>\n",
              "      <th>num_cpc_class</th>\n",
              "      <th>cpc_class</th>\n",
              "      <th>num_ipc_class</th>\n",
              "      <th>ipc_class</th>\n",
              "      <th>num_cited_publn</th>\n",
              "      <th>cited_publn_date</th>\n",
              "      <th>cited_publn</th>\n",
              "      <th>cited_appln</th>\n",
              "      <th>cited_appln_id</th>\n",
              "      <th>cited_family_id</th>\n",
              "      <th>num_cited_family</th>\n",
              "      <th>num_citing_publn</th>\n",
              "      <th>citing_publn_date</th>\n",
              "      <th>citing_publn</th>\n",
              "      <th>citing_appln</th>\n",
              "      <th>citing_appln_id</th>\n",
              "      <th>citing_family_id</th>\n",
              "      <th>num_citing_family</th>\n",
              "      <th>earliest_applt</th>\n",
              "      <th>current_applt</th>\n",
              "      <th>appln_title</th>\n",
              "      <th>appln_abstr</th>\n",
              "      <th>assignee</th>\n",
              "      <th>application_date</th>\n",
              "      <th>year</th>\n",
              "    </tr>\n",
              "  </thead>\n",
              "  <tbody>\n",
              "    <tr>\n",
              "      <th>0</th>\n",
              "      <td>WO9105114W</td>\n",
              "      <td>47158713</td>\n",
              "      <td>1239277</td>\n",
              "      <td>2</td>\n",
              "      <td>1</td>\n",
              "      <td>1</td>\n",
              "      <td>US55592190A</td>\n",
              "      <td>1990-07-19</td>\n",
              "      <td>1993-02-18</td>\n",
              "      <td>WO9303532A1</td>\n",
              "      <td>0</td>\n",
              "      <td>0</td>\n",
              "      <td>14</td>\n",
              "      <td>B60L  11/1824\\nB60L  11/1874\\nB60L  11/1877\\nB...</td>\n",
              "      <td>5</td>\n",
              "      <td>H01M   4/02\\nH01M  10/42\\nH01M  12/06\\nH02J   ...</td>\n",
              "      <td>4</td>\n",
              "      <td>1968-12-17\\n1978-04-11\\n1985-08-13\\n1990-01-16</td>\n",
              "      <td>US3416966A\\nUS4084038A\\nUS4534833A\\nUS4894764A</td>\n",
              "      <td>US40978364A\\nUS56408675A\\nUS57929084A\\nUS17915...</td>\n",
              "      <td>50665295\\n51859631\\n51971820\\n48429986</td>\n",
              "      <td>23621952\\n24130698\\n27006578\\n22655464</td>\n",
              "      <td>19</td>\n",
              "      <td>1</td>\n",
              "      <td>2002-07-11</td>\n",
              "      <td>WO0199222A3</td>\n",
              "      <td>WO0119827W</td>\n",
              "      <td>45621927</td>\n",
              "      <td>24395918</td>\n",
              "      <td>30</td>\n",
              "      <td>LUZ ELECTRIC FUEL ISRAEL LTD.</td>\n",
              "      <td>LUZ ELECTRIC FUEL ISRAEL LTD.</td>\n",
              "      <td>ELECTRICAL ENERGY SYSTEM</td>\n",
              "      <td>An electrical energy system including an elect...</td>\n",
              "      <td>luz electric fuel israel ltd</td>\n",
              "      <td>1990-07-19</td>\n",
              "      <td>1990</td>\n",
              "    </tr>\n",
              "    <tr>\n",
              "      <th>1</th>\n",
              "      <td>US55592190A</td>\n",
              "      <td>51797454</td>\n",
              "      <td>1239277</td>\n",
              "      <td>2</td>\n",
              "      <td>1</td>\n",
              "      <td>1</td>\n",
              "      <td>US55592190A</td>\n",
              "      <td>1990-07-19</td>\n",
              "      <td>1992-06-09</td>\n",
              "      <td>US5121044A</td>\n",
              "      <td>1</td>\n",
              "      <td>17</td>\n",
              "      <td>14</td>\n",
              "      <td>B60L  11/1824\\nB60L  11/1874\\nB60L  11/1877\\nB...</td>\n",
              "      <td>5</td>\n",
              "      <td>H01M   4/02\\nH01M  10/42\\nH01M  12/06\\nH02J   ...</td>\n",
              "      <td>16</td>\n",
              "      <td>1968-12-17\\n1970-09-15\\n1973-02-13\\n1974-11-12...</td>\n",
              "      <td>US3416966A\\nUS3529229A\\nUS3716413A\\nUS3847671A...</td>\n",
              "      <td>US40978364A\\nUS3529229DA\\nUS3716413DA\\nUS35106...</td>\n",
              "      <td>50665295\\n49952673\\n50283333\\n49919639\\n518596...</td>\n",
              "      <td>23621952\\n24790872\\n21994155\\n23379411\\n241306...</td>\n",
              "      <td>19</td>\n",
              "      <td>44</td>\n",
              "      <td>1993-05-04\\n1994-03-09\\n1994-09-20\\n1995-07-18...</td>\n",
              "      <td>US5208526A\\nEP0557287A4\\nUS5349535A\\nUS5434020...</td>\n",
              "      <td>US63645090A\\nEP91915464A\\nUS96399792A\\nUS15296...</td>\n",
              "      <td>52393850\\n16916549\\n54353461\\n48212422\\n457802...</td>\n",
              "      <td>27071024\\n1239277\\n25508001\\n22545199\\n2636904...</td>\n",
              "      <td>30</td>\n",
              "      <td>Luz Electric Fuel Israel, Ltd.</td>\n",
              "      <td>Luz Electric Fuel Israel, Ltd.</td>\n",
              "      <td>Electrical energy system</td>\n",
              "      <td>An electrical energy system including an elect...</td>\n",
              "      <td>luz electric fuel israel ltd</td>\n",
              "      <td>1990-07-19</td>\n",
              "      <td>1990</td>\n",
              "    </tr>\n",
              "  </tbody>\n",
              "</table>\n",
              "</div>"
            ],
            "text/plain": [
              "         appln  appln_id  ...  application_date  year\n",
              "0   WO9105114W  47158713  ...        1990-07-19  1990\n",
              "1  US55592190A  51797454  ...        1990-07-19  1990\n",
              "\n",
              "[2 rows x 37 columns]"
            ]
          },
          "metadata": {
            "tags": []
          },
          "execution_count": 13
        }
      ]
    },
    {
      "cell_type": "code",
      "metadata": {
        "id": "AZFNsyO6ALnt",
        "colab_type": "code",
        "colab": {
          "base_uri": "https://localhost:8080/",
          "height": 34
        },
        "outputId": "8933501f-f364-423f-f8fc-3bffb6a1621d"
      },
      "source": [
        "data = pd.read_pickle('top08_topic_dominant.pkl')\n",
        "data.shape"
      ],
      "execution_count": 14,
      "outputs": [
        {
          "output_type": "execute_result",
          "data": {
            "text/plain": [
              "(43431, 5)"
            ]
          },
          "metadata": {
            "tags": []
          },
          "execution_count": 14
        }
      ]
    },
    {
      "cell_type": "code",
      "metadata": {
        "id": "3Qafrvj-ALnw",
        "colab_type": "code",
        "colab": {
          "base_uri": "https://localhost:8080/",
          "height": 106
        },
        "outputId": "f6229a16-5334-4b19-8a5b-85707a51a158"
      },
      "source": [
        "data.head(2)"
      ],
      "execution_count": 15,
      "outputs": [
        {
          "output_type": "execute_result",
          "data": {
            "text/html": [
              "<div>\n",
              "<style scoped>\n",
              "    .dataframe tbody tr th:only-of-type {\n",
              "        vertical-align: middle;\n",
              "    }\n",
              "\n",
              "    .dataframe tbody tr th {\n",
              "        vertical-align: top;\n",
              "    }\n",
              "\n",
              "    .dataframe thead th {\n",
              "        text-align: right;\n",
              "    }\n",
              "</style>\n",
              "<table border=\"1\" class=\"dataframe\">\n",
              "  <thead>\n",
              "    <tr style=\"text-align: right;\">\n",
              "      <th></th>\n",
              "      <th>Document_No</th>\n",
              "      <th>Dominant_Topic</th>\n",
              "      <th>Topic_Perc_Contrib</th>\n",
              "      <th>Keywords</th>\n",
              "      <th>Text</th>\n",
              "    </tr>\n",
              "  </thead>\n",
              "  <tbody>\n",
              "    <tr>\n",
              "      <th>0</th>\n",
              "      <td>0</td>\n",
              "      <td>5.0</td>\n",
              "      <td>0.3857</td>\n",
              "      <td>voltage, battery, circuit, power, module, dc, ...</td>\n",
              "      <td>[electrical, energy, system, include, electric...</td>\n",
              "    </tr>\n",
              "    <tr>\n",
              "      <th>1</th>\n",
              "      <td>1</td>\n",
              "      <td>5.0</td>\n",
              "      <td>0.7969</td>\n",
              "      <td>voltage, battery, circuit, power, module, dc, ...</td>\n",
              "      <td>[electrical, energy, system, include, electric...</td>\n",
              "    </tr>\n",
              "  </tbody>\n",
              "</table>\n",
              "</div>"
            ],
            "text/plain": [
              "   Document_No  ...                                               Text\n",
              "0            0  ...  [electrical, energy, system, include, electric...\n",
              "1            1  ...  [electrical, energy, system, include, electric...\n",
              "\n",
              "[2 rows x 5 columns]"
            ]
          },
          "metadata": {
            "tags": []
          },
          "execution_count": 15
        }
      ]
    },
    {
      "cell_type": "markdown",
      "metadata": {
        "id": "vSMccfV2ALny",
        "colab_type": "text"
      },
      "source": [
        "### Create a dataframe for working on paper"
      ]
    },
    {
      "cell_type": "code",
      "metadata": {
        "id": "npPLwYXuALnz",
        "colab_type": "code",
        "colab": {}
      },
      "source": [
        "work_on_paper=data"
      ],
      "execution_count": 0,
      "outputs": []
    },
    {
      "cell_type": "code",
      "metadata": {
        "id": "MTOtI8lLALn1",
        "colab_type": "code",
        "colab": {}
      },
      "source": [
        "work_on_paper.drop(['Text','Document_No'], axis=1, inplace=True)"
      ],
      "execution_count": 0,
      "outputs": []
    },
    {
      "cell_type": "code",
      "metadata": {
        "id": "LqWBlXhKALn3",
        "colab_type": "code",
        "colab": {}
      },
      "source": [
        "work_on_paper['Assignee']=patent.assignee\n",
        "work_on_paper['Year']=patent.year\n",
        "work_on_paper['Abstract']=patent.appln_abstr"
      ],
      "execution_count": 0,
      "outputs": []
    },
    {
      "cell_type": "code",
      "metadata": {
        "id": "xkc9We42ALn5",
        "colab_type": "code",
        "colab": {
          "base_uri": "https://localhost:8080/",
          "height": 195
        },
        "outputId": "ddca07ca-944d-40a0-cd08-0478d5a40e66"
      },
      "source": [
        "work_on_paper.head()"
      ],
      "execution_count": 19,
      "outputs": [
        {
          "output_type": "execute_result",
          "data": {
            "text/html": [
              "<div>\n",
              "<style scoped>\n",
              "    .dataframe tbody tr th:only-of-type {\n",
              "        vertical-align: middle;\n",
              "    }\n",
              "\n",
              "    .dataframe tbody tr th {\n",
              "        vertical-align: top;\n",
              "    }\n",
              "\n",
              "    .dataframe thead th {\n",
              "        text-align: right;\n",
              "    }\n",
              "</style>\n",
              "<table border=\"1\" class=\"dataframe\">\n",
              "  <thead>\n",
              "    <tr style=\"text-align: right;\">\n",
              "      <th></th>\n",
              "      <th>Dominant_Topic</th>\n",
              "      <th>Topic_Perc_Contrib</th>\n",
              "      <th>Keywords</th>\n",
              "      <th>Assignee</th>\n",
              "      <th>Year</th>\n",
              "      <th>Abstract</th>\n",
              "    </tr>\n",
              "  </thead>\n",
              "  <tbody>\n",
              "    <tr>\n",
              "      <th>0</th>\n",
              "      <td>5.0</td>\n",
              "      <td>0.3857</td>\n",
              "      <td>voltage, battery, circuit, power, module, dc, ...</td>\n",
              "      <td>luz electric fuel israel ltd</td>\n",
              "      <td>1990.0</td>\n",
              "      <td>An electrical energy system including an elect...</td>\n",
              "    </tr>\n",
              "    <tr>\n",
              "      <th>1</th>\n",
              "      <td>5.0</td>\n",
              "      <td>0.7969</td>\n",
              "      <td>voltage, battery, circuit, power, module, dc, ...</td>\n",
              "      <td>luz electric fuel israel ltd</td>\n",
              "      <td>1990.0</td>\n",
              "      <td>An electrical energy system including an elect...</td>\n",
              "    </tr>\n",
              "    <tr>\n",
              "      <th>2</th>\n",
              "      <td>2.0</td>\n",
              "      <td>0.4514</td>\n",
              "      <td>charge, pile, automobile, utility, model, body...</td>\n",
              "      <td>avl list gmbh</td>\n",
              "      <td>2002.0</td>\n",
              "      <td>A piston surface (4) on the combustion chamber...</td>\n",
              "    </tr>\n",
              "    <tr>\n",
              "      <th>3</th>\n",
              "      <td>6.0</td>\n",
              "      <td>0.7163</td>\n",
              "      <td>valve, combustion, fuel, oil, cylinder, pressu...</td>\n",
              "      <td>avl list gmbh</td>\n",
              "      <td>2002.0</td>\n",
              "      <td>During an idling phase, fuel is repeatedly inj...</td>\n",
              "    </tr>\n",
              "    <tr>\n",
              "      <th>4</th>\n",
              "      <td>4.0</td>\n",
              "      <td>0.5670</td>\n",
              "      <td>engine, torque, clutch, mode, speed, motor, ge...</td>\n",
              "      <td>avl list gmbh</td>\n",
              "      <td>2002.0</td>\n",
              "      <td>The invention relates to a module-like constru...</td>\n",
              "    </tr>\n",
              "  </tbody>\n",
              "</table>\n",
              "</div>"
            ],
            "text/plain": [
              "   Dominant_Topic  ...                                           Abstract\n",
              "0             5.0  ...  An electrical energy system including an elect...\n",
              "1             5.0  ...  An electrical energy system including an elect...\n",
              "2             2.0  ...  A piston surface (4) on the combustion chamber...\n",
              "3             6.0  ...  During an idling phase, fuel is repeatedly inj...\n",
              "4             4.0  ...  The invention relates to a module-like constru...\n",
              "\n",
              "[5 rows x 6 columns]"
            ]
          },
          "metadata": {
            "tags": []
          },
          "execution_count": 19
        }
      ]
    },
    {
      "cell_type": "markdown",
      "metadata": {
        "id": "gjyXxNl0-Yhz",
        "colab_type": "text"
      },
      "source": [
        "**Make topics as per pyvis**"
      ]
    },
    {
      "cell_type": "code",
      "metadata": {
        "id": "6shXMBWSALn7",
        "colab_type": "code",
        "colab": {}
      },
      "source": [
        "work_on_paper['Topic']=work_on_paper.Dominant_Topic.map({0:'topic7', 1:'topic6',2 :'topic3',3:'topic8', 4: 'topic1',\n",
        "                                                         5 : 'topic2', 6: 'topic5', 7:'topic4'})"
      ],
      "execution_count": 0,
      "outputs": []
    },
    {
      "cell_type": "code",
      "metadata": {
        "id": "RRmBFFRSALoA",
        "colab_type": "code",
        "colab": {
          "base_uri": "https://localhost:8080/",
          "height": 168
        },
        "outputId": "1c467eee-cd5a-4c44-baf3-6330935a42b7"
      },
      "source": [
        "work_on_paper.Topic.value_counts()"
      ],
      "execution_count": 21,
      "outputs": [
        {
          "output_type": "execute_result",
          "data": {
            "text/plain": [
              "topic1    15371\n",
              "topic2     7647\n",
              "topic3     6455\n",
              "topic4     5195\n",
              "topic5     4022\n",
              "topic6     3303\n",
              "topic7      925\n",
              "topic8      513\n",
              "Name: Topic, dtype: int64"
            ]
          },
          "metadata": {
            "tags": []
          },
          "execution_count": 21
        }
      ]
    },
    {
      "cell_type": "code",
      "metadata": {
        "id": "Pe8Z7V2eALoC",
        "colab_type": "code",
        "colab": {
          "base_uri": "https://localhost:8080/",
          "height": 168
        },
        "outputId": "de3acdab-ef86-4674-8839-edbabb61ee8d"
      },
      "source": [
        "work_on_paper.Dominant_Topic.value_counts()"
      ],
      "execution_count": 22,
      "outputs": [
        {
          "output_type": "execute_result",
          "data": {
            "text/plain": [
              "4.0    15371\n",
              "5.0     7647\n",
              "2.0     6455\n",
              "7.0     5195\n",
              "6.0     4022\n",
              "1.0     3303\n",
              "0.0      925\n",
              "3.0      513\n",
              "Name: Dominant_Topic, dtype: int64"
            ]
          },
          "metadata": {
            "tags": []
          },
          "execution_count": 22
        }
      ]
    },
    {
      "cell_type": "markdown",
      "metadata": {
        "id": "uxkJQXgaPfk7",
        "colab_type": "text"
      },
      "source": [
        "**Check difference. I ll keep pyvis pattern for rest. So, variable \"Topic\" will be used now**"
      ]
    },
    {
      "cell_type": "code",
      "metadata": {
        "id": "SiOvvozpALoF",
        "colab_type": "code",
        "colab": {}
      },
      "source": [
        "work_on_paper.drop(['Dominant_Topic'], axis=1, inplace=True)"
      ],
      "execution_count": 0,
      "outputs": []
    },
    {
      "cell_type": "code",
      "metadata": {
        "id": "O0AdoLP_ALoH",
        "colab_type": "code",
        "colab": {
          "base_uri": "https://localhost:8080/",
          "height": 106
        },
        "outputId": "ac37f885-83ec-462a-91e5-69b65c6fcc46"
      },
      "source": [
        "work_on_paper.head(2)"
      ],
      "execution_count": 24,
      "outputs": [
        {
          "output_type": "execute_result",
          "data": {
            "text/html": [
              "<div>\n",
              "<style scoped>\n",
              "    .dataframe tbody tr th:only-of-type {\n",
              "        vertical-align: middle;\n",
              "    }\n",
              "\n",
              "    .dataframe tbody tr th {\n",
              "        vertical-align: top;\n",
              "    }\n",
              "\n",
              "    .dataframe thead th {\n",
              "        text-align: right;\n",
              "    }\n",
              "</style>\n",
              "<table border=\"1\" class=\"dataframe\">\n",
              "  <thead>\n",
              "    <tr style=\"text-align: right;\">\n",
              "      <th></th>\n",
              "      <th>Topic_Perc_Contrib</th>\n",
              "      <th>Keywords</th>\n",
              "      <th>Assignee</th>\n",
              "      <th>Year</th>\n",
              "      <th>Abstract</th>\n",
              "      <th>Topic</th>\n",
              "    </tr>\n",
              "  </thead>\n",
              "  <tbody>\n",
              "    <tr>\n",
              "      <th>0</th>\n",
              "      <td>0.3857</td>\n",
              "      <td>voltage, battery, circuit, power, module, dc, ...</td>\n",
              "      <td>luz electric fuel israel ltd</td>\n",
              "      <td>1990.0</td>\n",
              "      <td>An electrical energy system including an elect...</td>\n",
              "      <td>topic2</td>\n",
              "    </tr>\n",
              "    <tr>\n",
              "      <th>1</th>\n",
              "      <td>0.7969</td>\n",
              "      <td>voltage, battery, circuit, power, module, dc, ...</td>\n",
              "      <td>luz electric fuel israel ltd</td>\n",
              "      <td>1990.0</td>\n",
              "      <td>An electrical energy system including an elect...</td>\n",
              "      <td>topic2</td>\n",
              "    </tr>\n",
              "  </tbody>\n",
              "</table>\n",
              "</div>"
            ],
            "text/plain": [
              "   Topic_Perc_Contrib  ...   Topic\n",
              "0              0.3857  ...  topic2\n",
              "1              0.7969  ...  topic2\n",
              "\n",
              "[2 rows x 6 columns]"
            ]
          },
          "metadata": {
            "tags": []
          },
          "execution_count": 24
        }
      ]
    },
    {
      "cell_type": "code",
      "metadata": {
        "id": "TXM_pS1SALoI",
        "colab_type": "code",
        "colab": {}
      },
      "source": [
        "work_on_paper.to_pickle('work_on_paper.pkl')"
      ],
      "execution_count": 0,
      "outputs": []
    },
    {
      "cell_type": "markdown",
      "metadata": {
        "id": "7RV10YoWALoK",
        "colab_type": "text"
      },
      "source": [
        "# 1)- Pre-Model work\n",
        "\n",
        "using eda.pkl and patent_firm_full_clean.pkl"
      ]
    },
    {
      "cell_type": "code",
      "metadata": {
        "id": "IZTP2OW8ALoL",
        "colab_type": "code",
        "colab": {}
      },
      "source": [
        "p=patent"
      ],
      "execution_count": 0,
      "outputs": []
    },
    {
      "cell_type": "code",
      "metadata": {
        "id": "89kyu6e1ALoM",
        "colab_type": "code",
        "colab": {}
      },
      "source": [
        "total_patents=p['assignee'].value_counts()"
      ],
      "execution_count": 0,
      "outputs": []
    },
    {
      "cell_type": "code",
      "metadata": {
        "id": "9bc93hz5ALoO",
        "colab_type": "code",
        "colab": {}
      },
      "source": [
        "normal_patents=p['assignee'].value_counts(normalize=True)"
      ],
      "execution_count": 0,
      "outputs": []
    },
    {
      "cell_type": "code",
      "metadata": {
        "id": "ZjuDHJfNALoP",
        "colab_type": "code",
        "colab": {}
      },
      "source": [
        "df = pd.DataFrame({'Assigne': total_patents,\n",
        "...                    'Commulative': normal_patents})"
      ],
      "execution_count": 0,
      "outputs": []
    },
    {
      "cell_type": "code",
      "metadata": {
        "id": "94BicogjALoR",
        "colab_type": "code",
        "colab": {
          "base_uri": "https://localhost:8080/",
          "height": 639
        },
        "outputId": "05a4bf64-1f54-4cfe-f9b1-e33c1f94c4aa"
      },
      "source": [
        "df.head(20)"
      ],
      "execution_count": 30,
      "outputs": [
        {
          "output_type": "execute_result",
          "data": {
            "text/html": [
              "<div>\n",
              "<style scoped>\n",
              "    .dataframe tbody tr th:only-of-type {\n",
              "        vertical-align: middle;\n",
              "    }\n",
              "\n",
              "    .dataframe tbody tr th {\n",
              "        vertical-align: top;\n",
              "    }\n",
              "\n",
              "    .dataframe thead th {\n",
              "        text-align: right;\n",
              "    }\n",
              "</style>\n",
              "<table border=\"1\" class=\"dataframe\">\n",
              "  <thead>\n",
              "    <tr style=\"text-align: right;\">\n",
              "      <th></th>\n",
              "      <th>Assigne</th>\n",
              "      <th>Commulative</th>\n",
              "    </tr>\n",
              "  </thead>\n",
              "  <tbody>\n",
              "    <tr>\n",
              "      <th>toyota motor corp</th>\n",
              "      <td>5680</td>\n",
              "      <td>0.131494</td>\n",
              "    </tr>\n",
              "    <tr>\n",
              "      <th>honda motor ltd</th>\n",
              "      <td>2662</td>\n",
              "      <td>0.061626</td>\n",
              "    </tr>\n",
              "    <tr>\n",
              "      <th>hyundai motor company</th>\n",
              "      <td>2190</td>\n",
              "      <td>0.050699</td>\n",
              "    </tr>\n",
              "    <tr>\n",
              "      <th>nissan motor co ltd</th>\n",
              "      <td>1904</td>\n",
              "      <td>0.044078</td>\n",
              "    </tr>\n",
              "    <tr>\n",
              "      <th>ford global technologies llc</th>\n",
              "      <td>1296</td>\n",
              "      <td>0.030003</td>\n",
              "    </tr>\n",
              "    <tr>\n",
              "      <th>mitsubishi motors corp</th>\n",
              "      <td>847</td>\n",
              "      <td>0.019608</td>\n",
              "    </tr>\n",
              "    <tr>\n",
              "      <th>robert bosch gmbh</th>\n",
              "      <td>557</td>\n",
              "      <td>0.012895</td>\n",
              "    </tr>\n",
              "    <tr>\n",
              "      <th>hitachi automotive systems ltd</th>\n",
              "      <td>481</td>\n",
              "      <td>0.011135</td>\n",
              "    </tr>\n",
              "    <tr>\n",
              "      <th>aisin seiki co ltd</th>\n",
              "      <td>405</td>\n",
              "      <td>0.009376</td>\n",
              "    </tr>\n",
              "    <tr>\n",
              "      <th>denso corporation</th>\n",
              "      <td>380</td>\n",
              "      <td>0.008797</td>\n",
              "    </tr>\n",
              "    <tr>\n",
              "      <th>suzuki motor corp</th>\n",
              "      <td>359</td>\n",
              "      <td>0.008311</td>\n",
              "    </tr>\n",
              "    <tr>\n",
              "      <th>general motors corporation</th>\n",
              "      <td>346</td>\n",
              "      <td>0.008010</td>\n",
              "    </tr>\n",
              "    <tr>\n",
              "      <th>renault sas</th>\n",
              "      <td>287</td>\n",
              "      <td>0.006644</td>\n",
              "    </tr>\n",
              "    <tr>\n",
              "      <th>peugeot citroen automobiles sa</th>\n",
              "      <td>244</td>\n",
              "      <td>0.005649</td>\n",
              "    </tr>\n",
              "    <tr>\n",
              "      <th>lsis co  ltd</th>\n",
              "      <td>222</td>\n",
              "      <td>0.005139</td>\n",
              "    </tr>\n",
              "    <tr>\n",
              "      <th>daimler ag</th>\n",
              "      <td>212</td>\n",
              "      <td>0.004908</td>\n",
              "    </tr>\n",
              "    <tr>\n",
              "      <th>panasonic corporation</th>\n",
              "      <td>198</td>\n",
              "      <td>0.004584</td>\n",
              "    </tr>\n",
              "    <tr>\n",
              "      <th>mazda motor corp</th>\n",
              "      <td>194</td>\n",
              "      <td>0.004491</td>\n",
              "    </tr>\n",
              "    <tr>\n",
              "      <th>sony corporation</th>\n",
              "      <td>192</td>\n",
              "      <td>0.004445</td>\n",
              "    </tr>\n",
              "    <tr>\n",
              "      <th>general electric company</th>\n",
              "      <td>183</td>\n",
              "      <td>0.004237</td>\n",
              "    </tr>\n",
              "  </tbody>\n",
              "</table>\n",
              "</div>"
            ],
            "text/plain": [
              "                                Assigne  Commulative\n",
              "toyota motor corp                  5680     0.131494\n",
              "honda motor ltd                    2662     0.061626\n",
              "hyundai motor company              2190     0.050699\n",
              "nissan motor co ltd                1904     0.044078\n",
              "ford global technologies llc       1296     0.030003\n",
              "mitsubishi motors corp              847     0.019608\n",
              "robert bosch gmbh                   557     0.012895\n",
              "hitachi automotive systems ltd      481     0.011135\n",
              "aisin seiki co ltd                  405     0.009376\n",
              "denso corporation                   380     0.008797\n",
              "suzuki motor corp                   359     0.008311\n",
              "general motors corporation          346     0.008010\n",
              "renault sas                         287     0.006644\n",
              "peugeot citroen automobiles sa      244     0.005649\n",
              "lsis co  ltd                        222     0.005139\n",
              "daimler ag                          212     0.004908\n",
              "panasonic corporation               198     0.004584\n",
              "mazda motor corp                    194     0.004491\n",
              "sony corporation                    192     0.004445\n",
              "general electric company            183     0.004237"
            ]
          },
          "metadata": {
            "tags": []
          },
          "execution_count": 30
        }
      ]
    },
    {
      "cell_type": "markdown",
      "metadata": {
        "id": "mAjAy4reALoT",
        "colab_type": "text"
      },
      "source": [
        "**That was our table 1: Top assignee of patents**"
      ]
    },
    {
      "cell_type": "markdown",
      "metadata": {
        "id": "vZqZ3EZEALoU",
        "colab_type": "text"
      },
      "source": [
        "### Alternative method of doing this"
      ]
    },
    {
      "cell_type": "code",
      "metadata": {
        "id": "iGgB8VPfALoV",
        "colab_type": "code",
        "colab": {
          "base_uri": "https://localhost:8080/",
          "height": 118
        },
        "outputId": "53f1dd5a-371e-4e95-89ae-f5612a7f6e96"
      },
      "source": [
        "p['assignee'].value_counts().head()"
      ],
      "execution_count": 31,
      "outputs": [
        {
          "output_type": "execute_result",
          "data": {
            "text/plain": [
              "toyota motor corp               5680\n",
              "honda motor ltd                 2662\n",
              "hyundai motor company           2190\n",
              "nissan motor co ltd             1904\n",
              "ford global technologies llc    1296\n",
              "Name: assignee, dtype: int64"
            ]
          },
          "metadata": {
            "tags": []
          },
          "execution_count": 31
        }
      ]
    },
    {
      "cell_type": "code",
      "metadata": {
        "id": "plDpZ7rOALoY",
        "colab_type": "code",
        "colab": {}
      },
      "source": [
        "assigne_data=p['assignee'].value_counts()"
      ],
      "execution_count": 0,
      "outputs": []
    },
    {
      "cell_type": "code",
      "metadata": {
        "id": "WvLWTL0lALoa",
        "colab_type": "code",
        "colab": {}
      },
      "source": [
        "df_assigne= pd.DataFrame(data=assigne_data)"
      ],
      "execution_count": 0,
      "outputs": []
    },
    {
      "cell_type": "code",
      "metadata": {
        "id": "lnVYqHm4ALob",
        "colab_type": "code",
        "colab": {
          "base_uri": "https://localhost:8080/",
          "height": 106
        },
        "outputId": "15d88b67-73f9-4347-aa26-59c6aca95bc4"
      },
      "source": [
        "df_assigne.head(2)"
      ],
      "execution_count": 34,
      "outputs": [
        {
          "output_type": "execute_result",
          "data": {
            "text/html": [
              "<div>\n",
              "<style scoped>\n",
              "    .dataframe tbody tr th:only-of-type {\n",
              "        vertical-align: middle;\n",
              "    }\n",
              "\n",
              "    .dataframe tbody tr th {\n",
              "        vertical-align: top;\n",
              "    }\n",
              "\n",
              "    .dataframe thead th {\n",
              "        text-align: right;\n",
              "    }\n",
              "</style>\n",
              "<table border=\"1\" class=\"dataframe\">\n",
              "  <thead>\n",
              "    <tr style=\"text-align: right;\">\n",
              "      <th></th>\n",
              "      <th>assignee</th>\n",
              "    </tr>\n",
              "  </thead>\n",
              "  <tbody>\n",
              "    <tr>\n",
              "      <th>toyota motor corp</th>\n",
              "      <td>5680</td>\n",
              "    </tr>\n",
              "    <tr>\n",
              "      <th>honda motor ltd</th>\n",
              "      <td>2662</td>\n",
              "    </tr>\n",
              "  </tbody>\n",
              "</table>\n",
              "</div>"
            ],
            "text/plain": [
              "                   assignee\n",
              "toyota motor corp      5680\n",
              "honda motor ltd        2662"
            ]
          },
          "metadata": {
            "tags": []
          },
          "execution_count": 34
        }
      ]
    },
    {
      "cell_type": "code",
      "metadata": {
        "id": "gl9A6SKwALod",
        "colab_type": "code",
        "colab": {}
      },
      "source": [
        "df_assigne['Commulative']=p['assignee'].value_counts(normalize=True)"
      ],
      "execution_count": 0,
      "outputs": []
    },
    {
      "cell_type": "code",
      "metadata": {
        "id": "Qj8XNRRtALoe",
        "colab_type": "code",
        "colab": {
          "base_uri": "https://localhost:8080/",
          "height": 106
        },
        "outputId": "fa3fbb5c-50d7-4bc0-8d74-13ef33341161"
      },
      "source": [
        "df_assigne.head(2)"
      ],
      "execution_count": 36,
      "outputs": [
        {
          "output_type": "execute_result",
          "data": {
            "text/html": [
              "<div>\n",
              "<style scoped>\n",
              "    .dataframe tbody tr th:only-of-type {\n",
              "        vertical-align: middle;\n",
              "    }\n",
              "\n",
              "    .dataframe tbody tr th {\n",
              "        vertical-align: top;\n",
              "    }\n",
              "\n",
              "    .dataframe thead th {\n",
              "        text-align: right;\n",
              "    }\n",
              "</style>\n",
              "<table border=\"1\" class=\"dataframe\">\n",
              "  <thead>\n",
              "    <tr style=\"text-align: right;\">\n",
              "      <th></th>\n",
              "      <th>assignee</th>\n",
              "      <th>Commulative</th>\n",
              "    </tr>\n",
              "  </thead>\n",
              "  <tbody>\n",
              "    <tr>\n",
              "      <th>toyota motor corp</th>\n",
              "      <td>5680</td>\n",
              "      <td>0.131494</td>\n",
              "    </tr>\n",
              "    <tr>\n",
              "      <th>honda motor ltd</th>\n",
              "      <td>2662</td>\n",
              "      <td>0.061626</td>\n",
              "    </tr>\n",
              "  </tbody>\n",
              "</table>\n",
              "</div>"
            ],
            "text/plain": [
              "                   assignee  Commulative\n",
              "toyota motor corp      5680     0.131494\n",
              "honda motor ltd        2662     0.061626"
            ]
          },
          "metadata": {
            "tags": []
          },
          "execution_count": 36
        }
      ]
    },
    {
      "cell_type": "markdown",
      "metadata": {
        "id": "PaPDRqhvALoh",
        "colab_type": "text"
      },
      "source": [
        "### Alternative way 2"
      ]
    },
    {
      "cell_type": "code",
      "metadata": {
        "id": "U43Qw5v4ALoi",
        "colab_type": "code",
        "colab": {
          "base_uri": "https://localhost:8080/",
          "height": 1000
        },
        "outputId": "1b0c2221-e4ee-4a08-8b3a-637e51815df4"
      },
      "source": [
        "value_counts = p['assignee'].value_counts(dropna=True, sort=True)\n",
        "data = value_counts.rename_axis('Top Companies').reset_index(name='patent-counts')\n",
        "df_val_counts = pd.DataFrame(data)\n",
        "df_val_counts[:40]"
      ],
      "execution_count": 37,
      "outputs": [
        {
          "output_type": "execute_result",
          "data": {
            "text/html": [
              "<div>\n",
              "<style scoped>\n",
              "    .dataframe tbody tr th:only-of-type {\n",
              "        vertical-align: middle;\n",
              "    }\n",
              "\n",
              "    .dataframe tbody tr th {\n",
              "        vertical-align: top;\n",
              "    }\n",
              "\n",
              "    .dataframe thead th {\n",
              "        text-align: right;\n",
              "    }\n",
              "</style>\n",
              "<table border=\"1\" class=\"dataframe\">\n",
              "  <thead>\n",
              "    <tr style=\"text-align: right;\">\n",
              "      <th></th>\n",
              "      <th>Top Companies</th>\n",
              "      <th>patent-counts</th>\n",
              "    </tr>\n",
              "  </thead>\n",
              "  <tbody>\n",
              "    <tr>\n",
              "      <th>0</th>\n",
              "      <td>toyota motor corp</td>\n",
              "      <td>5680</td>\n",
              "    </tr>\n",
              "    <tr>\n",
              "      <th>1</th>\n",
              "      <td>honda motor ltd</td>\n",
              "      <td>2662</td>\n",
              "    </tr>\n",
              "    <tr>\n",
              "      <th>2</th>\n",
              "      <td>hyundai motor company</td>\n",
              "      <td>2190</td>\n",
              "    </tr>\n",
              "    <tr>\n",
              "      <th>3</th>\n",
              "      <td>nissan motor co ltd</td>\n",
              "      <td>1904</td>\n",
              "    </tr>\n",
              "    <tr>\n",
              "      <th>4</th>\n",
              "      <td>ford global technologies llc</td>\n",
              "      <td>1296</td>\n",
              "    </tr>\n",
              "    <tr>\n",
              "      <th>5</th>\n",
              "      <td>mitsubishi motors corp</td>\n",
              "      <td>847</td>\n",
              "    </tr>\n",
              "    <tr>\n",
              "      <th>6</th>\n",
              "      <td>robert bosch gmbh</td>\n",
              "      <td>557</td>\n",
              "    </tr>\n",
              "    <tr>\n",
              "      <th>7</th>\n",
              "      <td>hitachi automotive systems ltd</td>\n",
              "      <td>481</td>\n",
              "    </tr>\n",
              "    <tr>\n",
              "      <th>8</th>\n",
              "      <td>aisin seiki co ltd</td>\n",
              "      <td>405</td>\n",
              "    </tr>\n",
              "    <tr>\n",
              "      <th>9</th>\n",
              "      <td>denso corporation</td>\n",
              "      <td>380</td>\n",
              "    </tr>\n",
              "    <tr>\n",
              "      <th>10</th>\n",
              "      <td>suzuki motor corp</td>\n",
              "      <td>359</td>\n",
              "    </tr>\n",
              "    <tr>\n",
              "      <th>11</th>\n",
              "      <td>general motors corporation</td>\n",
              "      <td>346</td>\n",
              "    </tr>\n",
              "    <tr>\n",
              "      <th>12</th>\n",
              "      <td>renault sas</td>\n",
              "      <td>287</td>\n",
              "    </tr>\n",
              "    <tr>\n",
              "      <th>13</th>\n",
              "      <td>peugeot citroen automobiles sa</td>\n",
              "      <td>244</td>\n",
              "    </tr>\n",
              "    <tr>\n",
              "      <th>14</th>\n",
              "      <td>lsis co  ltd</td>\n",
              "      <td>222</td>\n",
              "    </tr>\n",
              "    <tr>\n",
              "      <th>15</th>\n",
              "      <td>daimler ag</td>\n",
              "      <td>212</td>\n",
              "    </tr>\n",
              "    <tr>\n",
              "      <th>16</th>\n",
              "      <td>panasonic corporation</td>\n",
              "      <td>198</td>\n",
              "    </tr>\n",
              "    <tr>\n",
              "      <th>17</th>\n",
              "      <td>mazda motor corp</td>\n",
              "      <td>194</td>\n",
              "    </tr>\n",
              "    <tr>\n",
              "      <th>18</th>\n",
              "      <td>sony corporation</td>\n",
              "      <td>192</td>\n",
              "    </tr>\n",
              "    <tr>\n",
              "      <th>19</th>\n",
              "      <td>general electric company</td>\n",
              "      <td>183</td>\n",
              "    </tr>\n",
              "    <tr>\n",
              "      <th>20</th>\n",
              "      <td>yamaha hatsudoki kabushiki kaisha</td>\n",
              "      <td>165</td>\n",
              "    </tr>\n",
              "    <tr>\n",
              "      <th>21</th>\n",
              "      <td>state grid corporation of china</td>\n",
              "      <td>138</td>\n",
              "    </tr>\n",
              "    <tr>\n",
              "      <th>22</th>\n",
              "      <td>korea advanced institute of science and techno...</td>\n",
              "      <td>128</td>\n",
              "    </tr>\n",
              "    <tr>\n",
              "      <th>23</th>\n",
              "      <td>byd company limited</td>\n",
              "      <td>127</td>\n",
              "    </tr>\n",
              "    <tr>\n",
              "      <th>24</th>\n",
              "      <td>kia motors corporation</td>\n",
              "      <td>126</td>\n",
              "    </tr>\n",
              "    <tr>\n",
              "      <th>25</th>\n",
              "      <td>fuji heavy ind ltd</td>\n",
              "      <td>124</td>\n",
              "    </tr>\n",
              "    <tr>\n",
              "      <th>26</th>\n",
              "      <td>siemens aktiengesellschaft</td>\n",
              "      <td>107</td>\n",
              "    </tr>\n",
              "    <tr>\n",
              "      <th>27</th>\n",
              "      <td>kawasaki jukogyo kabushiki kaisha</td>\n",
              "      <td>106</td>\n",
              "    </tr>\n",
              "    <tr>\n",
              "      <th>28</th>\n",
              "      <td>qualcomm incorporated</td>\n",
              "      <td>103</td>\n",
              "    </tr>\n",
              "    <tr>\n",
              "      <th>29</th>\n",
              "      <td>allison transmission inc</td>\n",
              "      <td>101</td>\n",
              "    </tr>\n",
              "    <tr>\n",
              "      <th>30</th>\n",
              "      <td>bayerische motoren werke aktiengesellschaft</td>\n",
              "      <td>99</td>\n",
              "    </tr>\n",
              "    <tr>\n",
              "      <th>31</th>\n",
              "      <td>jaguar land rover limited</td>\n",
              "      <td>99</td>\n",
              "    </tr>\n",
              "    <tr>\n",
              "      <th>32</th>\n",
              "      <td>beiqi foton motor co  ltd</td>\n",
              "      <td>89</td>\n",
              "    </tr>\n",
              "    <tr>\n",
              "      <th>33</th>\n",
              "      <td>chery automobile co  ltd</td>\n",
              "      <td>85</td>\n",
              "    </tr>\n",
              "    <tr>\n",
              "      <th>34</th>\n",
              "      <td>hino motors ltd</td>\n",
              "      <td>84</td>\n",
              "    </tr>\n",
              "    <tr>\n",
              "      <th>35</th>\n",
              "      <td>lg electronics inc</td>\n",
              "      <td>81</td>\n",
              "    </tr>\n",
              "    <tr>\n",
              "      <th>36</th>\n",
              "      <td>sony corp</td>\n",
              "      <td>79</td>\n",
              "    </tr>\n",
              "    <tr>\n",
              "      <th>37</th>\n",
              "      <td>matsushita electric industrial co  ltd</td>\n",
              "      <td>77</td>\n",
              "    </tr>\n",
              "    <tr>\n",
              "      <th>38</th>\n",
              "      <td>kabushiki kaisha toshiba</td>\n",
              "      <td>77</td>\n",
              "    </tr>\n",
              "    <tr>\n",
              "      <th>39</th>\n",
              "      <td>continental automotive gmbh</td>\n",
              "      <td>75</td>\n",
              "    </tr>\n",
              "  </tbody>\n",
              "</table>\n",
              "</div>"
            ],
            "text/plain": [
              "                                        Top Companies  patent-counts\n",
              "0                                   toyota motor corp           5680\n",
              "1                                     honda motor ltd           2662\n",
              "2                               hyundai motor company           2190\n",
              "3                                 nissan motor co ltd           1904\n",
              "4                        ford global technologies llc           1296\n",
              "5                              mitsubishi motors corp            847\n",
              "6                                   robert bosch gmbh            557\n",
              "7                      hitachi automotive systems ltd            481\n",
              "8                                  aisin seiki co ltd            405\n",
              "9                                   denso corporation            380\n",
              "10                                  suzuki motor corp            359\n",
              "11                         general motors corporation            346\n",
              "12                                        renault sas            287\n",
              "13                     peugeot citroen automobiles sa            244\n",
              "14                                      lsis co  ltd             222\n",
              "15                                         daimler ag            212\n",
              "16                              panasonic corporation            198\n",
              "17                                   mazda motor corp            194\n",
              "18                                   sony corporation            192\n",
              "19                           general electric company            183\n",
              "20                  yamaha hatsudoki kabushiki kaisha            165\n",
              "21                    state grid corporation of china            138\n",
              "22  korea advanced institute of science and techno...            128\n",
              "23                                byd company limited            127\n",
              "24                             kia motors corporation            126\n",
              "25                                 fuji heavy ind ltd            124\n",
              "26                         siemens aktiengesellschaft            107\n",
              "27                  kawasaki jukogyo kabushiki kaisha            106\n",
              "28                              qualcomm incorporated            103\n",
              "29                          allison transmission inc             101\n",
              "30        bayerische motoren werke aktiengesellschaft             99\n",
              "31                          jaguar land rover limited             99\n",
              "32                         beiqi foton motor co  ltd              89\n",
              "33                          chery automobile co  ltd              85\n",
              "34                                   hino motors ltd              84\n",
              "35                                lg electronics inc              81\n",
              "36                                          sony corp             79\n",
              "37            matsushita electric industrial co  ltd              77\n",
              "38                           kabushiki kaisha toshiba             77\n",
              "39                        continental automotive gmbh             75"
            ]
          },
          "metadata": {
            "tags": []
          },
          "execution_count": 37
        }
      ]
    },
    {
      "cell_type": "code",
      "metadata": {
        "id": "ZExW0cljALok",
        "colab_type": "code",
        "colab": {
          "base_uri": "https://localhost:8080/",
          "height": 118
        },
        "outputId": "18ba35a2-81fe-4e91-fb95-b6b700ea3089"
      },
      "source": [
        "df.Commulative[:5]"
      ],
      "execution_count": 38,
      "outputs": [
        {
          "output_type": "execute_result",
          "data": {
            "text/plain": [
              "toyota motor corp               0.131494\n",
              "honda motor ltd                 0.061626\n",
              "hyundai motor company           0.050699\n",
              "nissan motor co ltd             0.044078\n",
              "ford global technologies llc    0.030003\n",
              "Name: Commulative, dtype: float64"
            ]
          },
          "metadata": {
            "tags": []
          },
          "execution_count": 38
        }
      ]
    },
    {
      "cell_type": "code",
      "metadata": {
        "id": "VfBRpCaOALom",
        "colab_type": "code",
        "colab": {
          "base_uri": "https://localhost:8080/",
          "height": 1000
        },
        "outputId": "6e9a74f0-15f2-4aad-b373-2c25edb2af36"
      },
      "source": [
        "value_counts_norm = p['assignee'].value_counts(normalize=True , dropna=True, sort=True)\n",
        "data2 = value_counts_norm.rename_axis('Top Companies').reset_index(name='patent-counts in percetange')\n",
        "df_val_counts_norm = pd.DataFrame(data2)\n",
        "df_val_counts_norm[:40]"
      ],
      "execution_count": 39,
      "outputs": [
        {
          "output_type": "execute_result",
          "data": {
            "text/html": [
              "<div>\n",
              "<style scoped>\n",
              "    .dataframe tbody tr th:only-of-type {\n",
              "        vertical-align: middle;\n",
              "    }\n",
              "\n",
              "    .dataframe tbody tr th {\n",
              "        vertical-align: top;\n",
              "    }\n",
              "\n",
              "    .dataframe thead th {\n",
              "        text-align: right;\n",
              "    }\n",
              "</style>\n",
              "<table border=\"1\" class=\"dataframe\">\n",
              "  <thead>\n",
              "    <tr style=\"text-align: right;\">\n",
              "      <th></th>\n",
              "      <th>Top Companies</th>\n",
              "      <th>patent-counts in percetange</th>\n",
              "    </tr>\n",
              "  </thead>\n",
              "  <tbody>\n",
              "    <tr>\n",
              "      <th>0</th>\n",
              "      <td>toyota motor corp</td>\n",
              "      <td>0.131494</td>\n",
              "    </tr>\n",
              "    <tr>\n",
              "      <th>1</th>\n",
              "      <td>honda motor ltd</td>\n",
              "      <td>0.061626</td>\n",
              "    </tr>\n",
              "    <tr>\n",
              "      <th>2</th>\n",
              "      <td>hyundai motor company</td>\n",
              "      <td>0.050699</td>\n",
              "    </tr>\n",
              "    <tr>\n",
              "      <th>3</th>\n",
              "      <td>nissan motor co ltd</td>\n",
              "      <td>0.044078</td>\n",
              "    </tr>\n",
              "    <tr>\n",
              "      <th>4</th>\n",
              "      <td>ford global technologies llc</td>\n",
              "      <td>0.030003</td>\n",
              "    </tr>\n",
              "    <tr>\n",
              "      <th>5</th>\n",
              "      <td>mitsubishi motors corp</td>\n",
              "      <td>0.019608</td>\n",
              "    </tr>\n",
              "    <tr>\n",
              "      <th>6</th>\n",
              "      <td>robert bosch gmbh</td>\n",
              "      <td>0.012895</td>\n",
              "    </tr>\n",
              "    <tr>\n",
              "      <th>7</th>\n",
              "      <td>hitachi automotive systems ltd</td>\n",
              "      <td>0.011135</td>\n",
              "    </tr>\n",
              "    <tr>\n",
              "      <th>8</th>\n",
              "      <td>aisin seiki co ltd</td>\n",
              "      <td>0.009376</td>\n",
              "    </tr>\n",
              "    <tr>\n",
              "      <th>9</th>\n",
              "      <td>denso corporation</td>\n",
              "      <td>0.008797</td>\n",
              "    </tr>\n",
              "    <tr>\n",
              "      <th>10</th>\n",
              "      <td>suzuki motor corp</td>\n",
              "      <td>0.008311</td>\n",
              "    </tr>\n",
              "    <tr>\n",
              "      <th>11</th>\n",
              "      <td>general motors corporation</td>\n",
              "      <td>0.008010</td>\n",
              "    </tr>\n",
              "    <tr>\n",
              "      <th>12</th>\n",
              "      <td>renault sas</td>\n",
              "      <td>0.006644</td>\n",
              "    </tr>\n",
              "    <tr>\n",
              "      <th>13</th>\n",
              "      <td>peugeot citroen automobiles sa</td>\n",
              "      <td>0.005649</td>\n",
              "    </tr>\n",
              "    <tr>\n",
              "      <th>14</th>\n",
              "      <td>lsis co  ltd</td>\n",
              "      <td>0.005139</td>\n",
              "    </tr>\n",
              "    <tr>\n",
              "      <th>15</th>\n",
              "      <td>daimler ag</td>\n",
              "      <td>0.004908</td>\n",
              "    </tr>\n",
              "    <tr>\n",
              "      <th>16</th>\n",
              "      <td>panasonic corporation</td>\n",
              "      <td>0.004584</td>\n",
              "    </tr>\n",
              "    <tr>\n",
              "      <th>17</th>\n",
              "      <td>mazda motor corp</td>\n",
              "      <td>0.004491</td>\n",
              "    </tr>\n",
              "    <tr>\n",
              "      <th>18</th>\n",
              "      <td>sony corporation</td>\n",
              "      <td>0.004445</td>\n",
              "    </tr>\n",
              "    <tr>\n",
              "      <th>19</th>\n",
              "      <td>general electric company</td>\n",
              "      <td>0.004237</td>\n",
              "    </tr>\n",
              "    <tr>\n",
              "      <th>20</th>\n",
              "      <td>yamaha hatsudoki kabushiki kaisha</td>\n",
              "      <td>0.003820</td>\n",
              "    </tr>\n",
              "    <tr>\n",
              "      <th>21</th>\n",
              "      <td>state grid corporation of china</td>\n",
              "      <td>0.003195</td>\n",
              "    </tr>\n",
              "    <tr>\n",
              "      <th>22</th>\n",
              "      <td>korea advanced institute of science and techno...</td>\n",
              "      <td>0.002963</td>\n",
              "    </tr>\n",
              "    <tr>\n",
              "      <th>23</th>\n",
              "      <td>byd company limited</td>\n",
              "      <td>0.002940</td>\n",
              "    </tr>\n",
              "    <tr>\n",
              "      <th>24</th>\n",
              "      <td>kia motors corporation</td>\n",
              "      <td>0.002917</td>\n",
              "    </tr>\n",
              "    <tr>\n",
              "      <th>25</th>\n",
              "      <td>fuji heavy ind ltd</td>\n",
              "      <td>0.002871</td>\n",
              "    </tr>\n",
              "    <tr>\n",
              "      <th>26</th>\n",
              "      <td>siemens aktiengesellschaft</td>\n",
              "      <td>0.002477</td>\n",
              "    </tr>\n",
              "    <tr>\n",
              "      <th>27</th>\n",
              "      <td>kawasaki jukogyo kabushiki kaisha</td>\n",
              "      <td>0.002454</td>\n",
              "    </tr>\n",
              "    <tr>\n",
              "      <th>28</th>\n",
              "      <td>qualcomm incorporated</td>\n",
              "      <td>0.002384</td>\n",
              "    </tr>\n",
              "    <tr>\n",
              "      <th>29</th>\n",
              "      <td>allison transmission inc</td>\n",
              "      <td>0.002338</td>\n",
              "    </tr>\n",
              "    <tr>\n",
              "      <th>30</th>\n",
              "      <td>bayerische motoren werke aktiengesellschaft</td>\n",
              "      <td>0.002292</td>\n",
              "    </tr>\n",
              "    <tr>\n",
              "      <th>31</th>\n",
              "      <td>jaguar land rover limited</td>\n",
              "      <td>0.002292</td>\n",
              "    </tr>\n",
              "    <tr>\n",
              "      <th>32</th>\n",
              "      <td>beiqi foton motor co  ltd</td>\n",
              "      <td>0.002060</td>\n",
              "    </tr>\n",
              "    <tr>\n",
              "      <th>33</th>\n",
              "      <td>chery automobile co  ltd</td>\n",
              "      <td>0.001968</td>\n",
              "    </tr>\n",
              "    <tr>\n",
              "      <th>34</th>\n",
              "      <td>hino motors ltd</td>\n",
              "      <td>0.001945</td>\n",
              "    </tr>\n",
              "    <tr>\n",
              "      <th>35</th>\n",
              "      <td>lg electronics inc</td>\n",
              "      <td>0.001875</td>\n",
              "    </tr>\n",
              "    <tr>\n",
              "      <th>36</th>\n",
              "      <td>sony corp</td>\n",
              "      <td>0.001829</td>\n",
              "    </tr>\n",
              "    <tr>\n",
              "      <th>37</th>\n",
              "      <td>matsushita electric industrial co  ltd</td>\n",
              "      <td>0.001783</td>\n",
              "    </tr>\n",
              "    <tr>\n",
              "      <th>38</th>\n",
              "      <td>kabushiki kaisha toshiba</td>\n",
              "      <td>0.001783</td>\n",
              "    </tr>\n",
              "    <tr>\n",
              "      <th>39</th>\n",
              "      <td>continental automotive gmbh</td>\n",
              "      <td>0.001736</td>\n",
              "    </tr>\n",
              "  </tbody>\n",
              "</table>\n",
              "</div>"
            ],
            "text/plain": [
              "                                        Top Companies  patent-counts in percetange\n",
              "0                                   toyota motor corp                     0.131494\n",
              "1                                     honda motor ltd                     0.061626\n",
              "2                               hyundai motor company                     0.050699\n",
              "3                                 nissan motor co ltd                     0.044078\n",
              "4                        ford global technologies llc                     0.030003\n",
              "5                              mitsubishi motors corp                     0.019608\n",
              "6                                   robert bosch gmbh                     0.012895\n",
              "7                      hitachi automotive systems ltd                     0.011135\n",
              "8                                  aisin seiki co ltd                     0.009376\n",
              "9                                   denso corporation                     0.008797\n",
              "10                                  suzuki motor corp                     0.008311\n",
              "11                         general motors corporation                     0.008010\n",
              "12                                        renault sas                     0.006644\n",
              "13                     peugeot citroen automobiles sa                     0.005649\n",
              "14                                      lsis co  ltd                      0.005139\n",
              "15                                         daimler ag                     0.004908\n",
              "16                              panasonic corporation                     0.004584\n",
              "17                                   mazda motor corp                     0.004491\n",
              "18                                   sony corporation                     0.004445\n",
              "19                           general electric company                     0.004237\n",
              "20                  yamaha hatsudoki kabushiki kaisha                     0.003820\n",
              "21                    state grid corporation of china                     0.003195\n",
              "22  korea advanced institute of science and techno...                     0.002963\n",
              "23                                byd company limited                     0.002940\n",
              "24                             kia motors corporation                     0.002917\n",
              "25                                 fuji heavy ind ltd                     0.002871\n",
              "26                         siemens aktiengesellschaft                     0.002477\n",
              "27                  kawasaki jukogyo kabushiki kaisha                     0.002454\n",
              "28                              qualcomm incorporated                     0.002384\n",
              "29                          allison transmission inc                      0.002338\n",
              "30        bayerische motoren werke aktiengesellschaft                     0.002292\n",
              "31                          jaguar land rover limited                     0.002292\n",
              "32                         beiqi foton motor co  ltd                      0.002060\n",
              "33                          chery automobile co  ltd                      0.001968\n",
              "34                                   hino motors ltd                      0.001945\n",
              "35                                lg electronics inc                      0.001875\n",
              "36                                          sony corp                     0.001829\n",
              "37            matsushita electric industrial co  ltd                      0.001783\n",
              "38                           kabushiki kaisha toshiba                     0.001783\n",
              "39                        continental automotive gmbh                     0.001736"
            ]
          },
          "metadata": {
            "tags": []
          },
          "execution_count": 39
        }
      ]
    },
    {
      "cell_type": "code",
      "metadata": {
        "id": "hMGCvKZrALon",
        "colab_type": "code",
        "colab": {
          "base_uri": "https://localhost:8080/",
          "height": 1000
        },
        "outputId": "7d06dccf-7e67-4d19-f0d3-88f068e21c4e"
      },
      "source": [
        "df_val_counts_norm['Patent-Count']=df_val_counts['patent-counts']\n",
        "df_val_counts_norm[:40]"
      ],
      "execution_count": 40,
      "outputs": [
        {
          "output_type": "execute_result",
          "data": {
            "text/html": [
              "<div>\n",
              "<style scoped>\n",
              "    .dataframe tbody tr th:only-of-type {\n",
              "        vertical-align: middle;\n",
              "    }\n",
              "\n",
              "    .dataframe tbody tr th {\n",
              "        vertical-align: top;\n",
              "    }\n",
              "\n",
              "    .dataframe thead th {\n",
              "        text-align: right;\n",
              "    }\n",
              "</style>\n",
              "<table border=\"1\" class=\"dataframe\">\n",
              "  <thead>\n",
              "    <tr style=\"text-align: right;\">\n",
              "      <th></th>\n",
              "      <th>Top Companies</th>\n",
              "      <th>patent-counts in percetange</th>\n",
              "      <th>Patent-Count</th>\n",
              "    </tr>\n",
              "  </thead>\n",
              "  <tbody>\n",
              "    <tr>\n",
              "      <th>0</th>\n",
              "      <td>toyota motor corp</td>\n",
              "      <td>0.131494</td>\n",
              "      <td>5680</td>\n",
              "    </tr>\n",
              "    <tr>\n",
              "      <th>1</th>\n",
              "      <td>honda motor ltd</td>\n",
              "      <td>0.061626</td>\n",
              "      <td>2662</td>\n",
              "    </tr>\n",
              "    <tr>\n",
              "      <th>2</th>\n",
              "      <td>hyundai motor company</td>\n",
              "      <td>0.050699</td>\n",
              "      <td>2190</td>\n",
              "    </tr>\n",
              "    <tr>\n",
              "      <th>3</th>\n",
              "      <td>nissan motor co ltd</td>\n",
              "      <td>0.044078</td>\n",
              "      <td>1904</td>\n",
              "    </tr>\n",
              "    <tr>\n",
              "      <th>4</th>\n",
              "      <td>ford global technologies llc</td>\n",
              "      <td>0.030003</td>\n",
              "      <td>1296</td>\n",
              "    </tr>\n",
              "    <tr>\n",
              "      <th>5</th>\n",
              "      <td>mitsubishi motors corp</td>\n",
              "      <td>0.019608</td>\n",
              "      <td>847</td>\n",
              "    </tr>\n",
              "    <tr>\n",
              "      <th>6</th>\n",
              "      <td>robert bosch gmbh</td>\n",
              "      <td>0.012895</td>\n",
              "      <td>557</td>\n",
              "    </tr>\n",
              "    <tr>\n",
              "      <th>7</th>\n",
              "      <td>hitachi automotive systems ltd</td>\n",
              "      <td>0.011135</td>\n",
              "      <td>481</td>\n",
              "    </tr>\n",
              "    <tr>\n",
              "      <th>8</th>\n",
              "      <td>aisin seiki co ltd</td>\n",
              "      <td>0.009376</td>\n",
              "      <td>405</td>\n",
              "    </tr>\n",
              "    <tr>\n",
              "      <th>9</th>\n",
              "      <td>denso corporation</td>\n",
              "      <td>0.008797</td>\n",
              "      <td>380</td>\n",
              "    </tr>\n",
              "    <tr>\n",
              "      <th>10</th>\n",
              "      <td>suzuki motor corp</td>\n",
              "      <td>0.008311</td>\n",
              "      <td>359</td>\n",
              "    </tr>\n",
              "    <tr>\n",
              "      <th>11</th>\n",
              "      <td>general motors corporation</td>\n",
              "      <td>0.008010</td>\n",
              "      <td>346</td>\n",
              "    </tr>\n",
              "    <tr>\n",
              "      <th>12</th>\n",
              "      <td>renault sas</td>\n",
              "      <td>0.006644</td>\n",
              "      <td>287</td>\n",
              "    </tr>\n",
              "    <tr>\n",
              "      <th>13</th>\n",
              "      <td>peugeot citroen automobiles sa</td>\n",
              "      <td>0.005649</td>\n",
              "      <td>244</td>\n",
              "    </tr>\n",
              "    <tr>\n",
              "      <th>14</th>\n",
              "      <td>lsis co  ltd</td>\n",
              "      <td>0.005139</td>\n",
              "      <td>222</td>\n",
              "    </tr>\n",
              "    <tr>\n",
              "      <th>15</th>\n",
              "      <td>daimler ag</td>\n",
              "      <td>0.004908</td>\n",
              "      <td>212</td>\n",
              "    </tr>\n",
              "    <tr>\n",
              "      <th>16</th>\n",
              "      <td>panasonic corporation</td>\n",
              "      <td>0.004584</td>\n",
              "      <td>198</td>\n",
              "    </tr>\n",
              "    <tr>\n",
              "      <th>17</th>\n",
              "      <td>mazda motor corp</td>\n",
              "      <td>0.004491</td>\n",
              "      <td>194</td>\n",
              "    </tr>\n",
              "    <tr>\n",
              "      <th>18</th>\n",
              "      <td>sony corporation</td>\n",
              "      <td>0.004445</td>\n",
              "      <td>192</td>\n",
              "    </tr>\n",
              "    <tr>\n",
              "      <th>19</th>\n",
              "      <td>general electric company</td>\n",
              "      <td>0.004237</td>\n",
              "      <td>183</td>\n",
              "    </tr>\n",
              "    <tr>\n",
              "      <th>20</th>\n",
              "      <td>yamaha hatsudoki kabushiki kaisha</td>\n",
              "      <td>0.003820</td>\n",
              "      <td>165</td>\n",
              "    </tr>\n",
              "    <tr>\n",
              "      <th>21</th>\n",
              "      <td>state grid corporation of china</td>\n",
              "      <td>0.003195</td>\n",
              "      <td>138</td>\n",
              "    </tr>\n",
              "    <tr>\n",
              "      <th>22</th>\n",
              "      <td>korea advanced institute of science and techno...</td>\n",
              "      <td>0.002963</td>\n",
              "      <td>128</td>\n",
              "    </tr>\n",
              "    <tr>\n",
              "      <th>23</th>\n",
              "      <td>byd company limited</td>\n",
              "      <td>0.002940</td>\n",
              "      <td>127</td>\n",
              "    </tr>\n",
              "    <tr>\n",
              "      <th>24</th>\n",
              "      <td>kia motors corporation</td>\n",
              "      <td>0.002917</td>\n",
              "      <td>126</td>\n",
              "    </tr>\n",
              "    <tr>\n",
              "      <th>25</th>\n",
              "      <td>fuji heavy ind ltd</td>\n",
              "      <td>0.002871</td>\n",
              "      <td>124</td>\n",
              "    </tr>\n",
              "    <tr>\n",
              "      <th>26</th>\n",
              "      <td>siemens aktiengesellschaft</td>\n",
              "      <td>0.002477</td>\n",
              "      <td>107</td>\n",
              "    </tr>\n",
              "    <tr>\n",
              "      <th>27</th>\n",
              "      <td>kawasaki jukogyo kabushiki kaisha</td>\n",
              "      <td>0.002454</td>\n",
              "      <td>106</td>\n",
              "    </tr>\n",
              "    <tr>\n",
              "      <th>28</th>\n",
              "      <td>qualcomm incorporated</td>\n",
              "      <td>0.002384</td>\n",
              "      <td>103</td>\n",
              "    </tr>\n",
              "    <tr>\n",
              "      <th>29</th>\n",
              "      <td>allison transmission inc</td>\n",
              "      <td>0.002338</td>\n",
              "      <td>101</td>\n",
              "    </tr>\n",
              "    <tr>\n",
              "      <th>30</th>\n",
              "      <td>bayerische motoren werke aktiengesellschaft</td>\n",
              "      <td>0.002292</td>\n",
              "      <td>99</td>\n",
              "    </tr>\n",
              "    <tr>\n",
              "      <th>31</th>\n",
              "      <td>jaguar land rover limited</td>\n",
              "      <td>0.002292</td>\n",
              "      <td>99</td>\n",
              "    </tr>\n",
              "    <tr>\n",
              "      <th>32</th>\n",
              "      <td>beiqi foton motor co  ltd</td>\n",
              "      <td>0.002060</td>\n",
              "      <td>89</td>\n",
              "    </tr>\n",
              "    <tr>\n",
              "      <th>33</th>\n",
              "      <td>chery automobile co  ltd</td>\n",
              "      <td>0.001968</td>\n",
              "      <td>85</td>\n",
              "    </tr>\n",
              "    <tr>\n",
              "      <th>34</th>\n",
              "      <td>hino motors ltd</td>\n",
              "      <td>0.001945</td>\n",
              "      <td>84</td>\n",
              "    </tr>\n",
              "    <tr>\n",
              "      <th>35</th>\n",
              "      <td>lg electronics inc</td>\n",
              "      <td>0.001875</td>\n",
              "      <td>81</td>\n",
              "    </tr>\n",
              "    <tr>\n",
              "      <th>36</th>\n",
              "      <td>sony corp</td>\n",
              "      <td>0.001829</td>\n",
              "      <td>79</td>\n",
              "    </tr>\n",
              "    <tr>\n",
              "      <th>37</th>\n",
              "      <td>matsushita electric industrial co  ltd</td>\n",
              "      <td>0.001783</td>\n",
              "      <td>77</td>\n",
              "    </tr>\n",
              "    <tr>\n",
              "      <th>38</th>\n",
              "      <td>kabushiki kaisha toshiba</td>\n",
              "      <td>0.001783</td>\n",
              "      <td>77</td>\n",
              "    </tr>\n",
              "    <tr>\n",
              "      <th>39</th>\n",
              "      <td>continental automotive gmbh</td>\n",
              "      <td>0.001736</td>\n",
              "      <td>75</td>\n",
              "    </tr>\n",
              "  </tbody>\n",
              "</table>\n",
              "</div>"
            ],
            "text/plain": [
              "                                        Top Companies  ...  Patent-Count\n",
              "0                                   toyota motor corp  ...          5680\n",
              "1                                     honda motor ltd  ...          2662\n",
              "2                               hyundai motor company  ...          2190\n",
              "3                                 nissan motor co ltd  ...          1904\n",
              "4                        ford global technologies llc  ...          1296\n",
              "5                              mitsubishi motors corp  ...           847\n",
              "6                                   robert bosch gmbh  ...           557\n",
              "7                      hitachi automotive systems ltd  ...           481\n",
              "8                                  aisin seiki co ltd  ...           405\n",
              "9                                   denso corporation  ...           380\n",
              "10                                  suzuki motor corp  ...           359\n",
              "11                         general motors corporation  ...           346\n",
              "12                                        renault sas  ...           287\n",
              "13                     peugeot citroen automobiles sa  ...           244\n",
              "14                                      lsis co  ltd   ...           222\n",
              "15                                         daimler ag  ...           212\n",
              "16                              panasonic corporation  ...           198\n",
              "17                                   mazda motor corp  ...           194\n",
              "18                                   sony corporation  ...           192\n",
              "19                           general electric company  ...           183\n",
              "20                  yamaha hatsudoki kabushiki kaisha  ...           165\n",
              "21                    state grid corporation of china  ...           138\n",
              "22  korea advanced institute of science and techno...  ...           128\n",
              "23                                byd company limited  ...           127\n",
              "24                             kia motors corporation  ...           126\n",
              "25                                 fuji heavy ind ltd  ...           124\n",
              "26                         siemens aktiengesellschaft  ...           107\n",
              "27                  kawasaki jukogyo kabushiki kaisha  ...           106\n",
              "28                              qualcomm incorporated  ...           103\n",
              "29                          allison transmission inc   ...           101\n",
              "30        bayerische motoren werke aktiengesellschaft  ...            99\n",
              "31                          jaguar land rover limited  ...            99\n",
              "32                         beiqi foton motor co  ltd   ...            89\n",
              "33                          chery automobile co  ltd   ...            85\n",
              "34                                   hino motors ltd   ...            84\n",
              "35                                lg electronics inc   ...            81\n",
              "36                                          sony corp  ...            79\n",
              "37            matsushita electric industrial co  ltd   ...            77\n",
              "38                           kabushiki kaisha toshiba  ...            77\n",
              "39                        continental automotive gmbh  ...            75\n",
              "\n",
              "[40 rows x 3 columns]"
            ]
          },
          "metadata": {
            "tags": []
          },
          "execution_count": 40
        }
      ]
    },
    {
      "cell_type": "markdown",
      "metadata": {
        "id": "IBXNcdzJALop",
        "colab_type": "text"
      },
      "source": [
        "**This is our final table results**"
      ]
    },
    {
      "cell_type": "markdown",
      "metadata": {
        "id": "EgrQjaAjALop",
        "colab_type": "text"
      },
      "source": [
        "# Figure 3"
      ]
    },
    {
      "cell_type": "code",
      "metadata": {
        "id": "pfRO3C-KALoq",
        "colab_type": "code",
        "colab": {
          "base_uri": "https://localhost:8080/",
          "height": 521
        },
        "outputId": "1dd85d06-018a-477d-96f4-8e5eb05791e5"
      },
      "source": [
        "p.groupby(p.year).size()"
      ],
      "execution_count": 41,
      "outputs": [
        {
          "output_type": "execute_result",
          "data": {
            "text/plain": [
              "year\n",
              "1990      96\n",
              "1991     146\n",
              "1992     310\n",
              "1993     417\n",
              "1994     384\n",
              "1995     469\n",
              "1996     500\n",
              "1997     622\n",
              "1998     682\n",
              "1999     882\n",
              "2000     914\n",
              "2001    1038\n",
              "2002    1113\n",
              "2003    1291\n",
              "2004    1208\n",
              "2005    1375\n",
              "2006    1943\n",
              "2007    2193\n",
              "2008    2016\n",
              "2009    2584\n",
              "2010    3454\n",
              "2011    4594\n",
              "2012    4036\n",
              "2013    3507\n",
              "2014    3070\n",
              "2015    2646\n",
              "2016    1619\n",
              "2017     322\n",
              "dtype: int64"
            ]
          },
          "metadata": {
            "tags": []
          },
          "execution_count": 41
        }
      ]
    },
    {
      "cell_type": "code",
      "metadata": {
        "id": "xnE57XiGALor",
        "colab_type": "code",
        "colab": {
          "base_uri": "https://localhost:8080/",
          "height": 504
        },
        "outputId": "0643c3d1-368e-4a8d-abb3-d7e997242f45"
      },
      "source": [
        "#Or we can\n",
        "p.year.value_counts().sort_index()"
      ],
      "execution_count": 42,
      "outputs": [
        {
          "output_type": "execute_result",
          "data": {
            "text/plain": [
              "1990      96\n",
              "1991     146\n",
              "1992     310\n",
              "1993     417\n",
              "1994     384\n",
              "1995     469\n",
              "1996     500\n",
              "1997     622\n",
              "1998     682\n",
              "1999     882\n",
              "2000     914\n",
              "2001    1038\n",
              "2002    1113\n",
              "2003    1291\n",
              "2004    1208\n",
              "2005    1375\n",
              "2006    1943\n",
              "2007    2193\n",
              "2008    2016\n",
              "2009    2584\n",
              "2010    3454\n",
              "2011    4594\n",
              "2012    4036\n",
              "2013    3507\n",
              "2014    3070\n",
              "2015    2646\n",
              "2016    1619\n",
              "2017     322\n",
              "Name: year, dtype: int64"
            ]
          },
          "metadata": {
            "tags": []
          },
          "execution_count": 42
        }
      ]
    },
    {
      "cell_type": "code",
      "metadata": {
        "id": "Rm71tVICALot",
        "colab_type": "code",
        "colab": {
          "base_uri": "https://localhost:8080/",
          "height": 504
        },
        "outputId": "c69024c8-ae25-4574-95b9-a20632bff6cb"
      },
      "source": [
        "p.year.value_counts(ascending=True).sort_index()"
      ],
      "execution_count": 43,
      "outputs": [
        {
          "output_type": "execute_result",
          "data": {
            "text/plain": [
              "1990      96\n",
              "1991     146\n",
              "1992     310\n",
              "1993     417\n",
              "1994     384\n",
              "1995     469\n",
              "1996     500\n",
              "1997     622\n",
              "1998     682\n",
              "1999     882\n",
              "2000     914\n",
              "2001    1038\n",
              "2002    1113\n",
              "2003    1291\n",
              "2004    1208\n",
              "2005    1375\n",
              "2006    1943\n",
              "2007    2193\n",
              "2008    2016\n",
              "2009    2584\n",
              "2010    3454\n",
              "2011    4594\n",
              "2012    4036\n",
              "2013    3507\n",
              "2014    3070\n",
              "2015    2646\n",
              "2016    1619\n",
              "2017     322\n",
              "Name: year, dtype: int64"
            ]
          },
          "metadata": {
            "tags": []
          },
          "execution_count": 43
        }
      ]
    },
    {
      "cell_type": "code",
      "metadata": {
        "id": "6E0ayy6WALow",
        "colab_type": "code",
        "colab": {}
      },
      "source": [
        "# For checking distribution of patent over years\n",
        "dist=p.year.value_counts(ascending=True).sort_index()"
      ],
      "execution_count": 0,
      "outputs": []
    },
    {
      "cell_type": "code",
      "metadata": {
        "id": "fp8cqca0ALox",
        "colab_type": "code",
        "colab": {
          "base_uri": "https://localhost:8080/",
          "height": 34
        },
        "outputId": "708347f9-e591-45bc-e8b0-5bdf93aa752f"
      },
      "source": [
        "type(dist)"
      ],
      "execution_count": 45,
      "outputs": [
        {
          "output_type": "execute_result",
          "data": {
            "text/plain": [
              "pandas.core.series.Series"
            ]
          },
          "metadata": {
            "tags": []
          },
          "execution_count": 45
        }
      ]
    },
    {
      "cell_type": "code",
      "metadata": {
        "id": "c4TwDIHNALoz",
        "colab_type": "code",
        "colab": {
          "base_uri": "https://localhost:8080/",
          "height": 295
        },
        "outputId": "e4ae4f39-9503-4f59-b22e-c88281f1e9be"
      },
      "source": [
        "dist.plot()\n",
        "plt.xlabel('Application years')\n",
        "plt.ylabel('Number of patent applications')\n",
        "plt.title('distribution of patent applications over years')\n",
        "#plt.legend()\n",
        "plt.show()"
      ],
      "execution_count": 46,
      "outputs": [
        {
          "output_type": "display_data",
          "data": {
            "image/png": "[encoded data removed]",
            "text/plain": [
              "<Figure size 432x288 with 1 Axes>"
            ]
          },
          "metadata": {
            "tags": []
          }
        }
      ]
    },
    {
      "cell_type": "code",
      "metadata": {
        "id": "6Kw2JHm8ALo2",
        "colab_type": "code",
        "colab": {
          "base_uri": "https://localhost:8080/",
          "height": 296
        },
        "outputId": "2787adfc-4498-4dc5-99d7-68a39ea36cb4"
      },
      "source": [
        "# We can always use groupby. Here we have two variables \"year\" and \"granted\"\n",
        "p.groupby(p.year).granted.count().plot()"
      ],
      "execution_count": 47,
      "outputs": [
        {
          "output_type": "execute_result",
          "data": {
            "text/plain": [
              "<matplotlib.axes._subplots.AxesSubplot at 0x7f02cf3f7240>"
            ]
          },
          "metadata": {
            "tags": []
          },
          "execution_count": 47
        },
        {
          "output_type": "display_data",
          "data": {
            "image/png": "[encoded data removed]",
            "text/plain": [
              "<Figure size 432x288 with 1 Axes>"
            ]
          },
          "metadata": {
            "tags": []
          }
        }
      ]
    },
    {
      "cell_type": "markdown",
      "metadata": {
        "id": "RCKgQ2ZoALo5",
        "colab_type": "text"
      },
      "source": [
        "**The steep drop in patent applications in 2014 is due to the patent ﬁlling process at the USPTO, which involves a signiﬁcant time lag between the ﬁling and disclosure or registration of applications, ranging from several months to over two years.**\n",
        "\n",
        "So work uptill fig 3 is done"
      ]
    },
    {
      "cell_type": "markdown",
      "metadata": {
        "id": "dybv8KmoALo5",
        "colab_type": "text"
      },
      "source": [
        "### using plotly"
      ]
    },
    {
      "cell_type": "code",
      "metadata": {
        "id": "lDwhn3qtALo6",
        "colab_type": "code",
        "colab": {}
      },
      "source": [
        "value=p.year.value_counts().sort_index()"
      ],
      "execution_count": 0,
      "outputs": []
    },
    {
      "cell_type": "code",
      "metadata": {
        "id": "Ka3INRl9ALo7",
        "colab_type": "code",
        "colab": {}
      },
      "source": [
        "value_df=pd.DataFrame(data=value)"
      ],
      "execution_count": 0,
      "outputs": []
    },
    {
      "cell_type": "code",
      "metadata": {
        "id": "jq0F_rYoALo8",
        "colab_type": "code",
        "colab": {
          "base_uri": "https://localhost:8080/",
          "height": 195
        },
        "outputId": "f8726a60-bd4b-44d9-dddc-838a88afb0c2"
      },
      "source": [
        "value_df.head()"
      ],
      "execution_count": 50,
      "outputs": [
        {
          "output_type": "execute_result",
          "data": {
            "text/html": [
              "<div>\n",
              "<style scoped>\n",
              "    .dataframe tbody tr th:only-of-type {\n",
              "        vertical-align: middle;\n",
              "    }\n",
              "\n",
              "    .dataframe tbody tr th {\n",
              "        vertical-align: top;\n",
              "    }\n",
              "\n",
              "    .dataframe thead th {\n",
              "        text-align: right;\n",
              "    }\n",
              "</style>\n",
              "<table border=\"1\" class=\"dataframe\">\n",
              "  <thead>\n",
              "    <tr style=\"text-align: right;\">\n",
              "      <th></th>\n",
              "      <th>year</th>\n",
              "    </tr>\n",
              "  </thead>\n",
              "  <tbody>\n",
              "    <tr>\n",
              "      <th>1990</th>\n",
              "      <td>96</td>\n",
              "    </tr>\n",
              "    <tr>\n",
              "      <th>1991</th>\n",
              "      <td>146</td>\n",
              "    </tr>\n",
              "    <tr>\n",
              "      <th>1992</th>\n",
              "      <td>310</td>\n",
              "    </tr>\n",
              "    <tr>\n",
              "      <th>1993</th>\n",
              "      <td>417</td>\n",
              "    </tr>\n",
              "    <tr>\n",
              "      <th>1994</th>\n",
              "      <td>384</td>\n",
              "    </tr>\n",
              "  </tbody>\n",
              "</table>\n",
              "</div>"
            ],
            "text/plain": [
              "      year\n",
              "1990    96\n",
              "1991   146\n",
              "1992   310\n",
              "1993   417\n",
              "1994   384"
            ]
          },
          "metadata": {
            "tags": []
          },
          "execution_count": 50
        }
      ]
    },
    {
      "cell_type": "code",
      "metadata": {
        "id": "lN27Df0rALo_",
        "colab_type": "code",
        "colab": {
          "base_uri": "https://localhost:8080/",
          "height": 34
        },
        "outputId": "7cb48c37-9d82-435c-d1e6-3524a7edaea7"
      },
      "source": [
        "pyo.plot([{\n",
        "    'x' : value_df.index,\n",
        "    'y' : value_df[col],\n",
        "    'name' : col\n",
        "  \n",
        "\n",
        "}for col in value_df.columns],filename='distribution.html')"
      ],
      "execution_count": 51,
      "outputs": [
        {
          "output_type": "execute_result",
          "data": {
            "text/plain": [
              "'distribution.html'"
            ]
          },
          "metadata": {
            "tags": []
          },
          "execution_count": 51
        }
      ]
    },
    {
      "cell_type": "code",
      "metadata": {
        "id": "wHvRqWyMALpA",
        "colab_type": "code",
        "colab": {}
      },
      "source": [
        "traces=[go.Scatter(\n",
        "    x=value_df.index,\n",
        "    y=value_df[col],\n",
        "    name= col\n",
        "\n",
        "\n",
        "\n",
        ")for col in value_df.columns]"
      ],
      "execution_count": 0,
      "outputs": []
    },
    {
      "cell_type": "code",
      "metadata": {
        "id": "4vnGXd9BALpC",
        "colab_type": "code",
        "colab": {}
      },
      "source": [
        "data=traces"
      ],
      "execution_count": 0,
      "outputs": []
    },
    {
      "cell_type": "code",
      "metadata": {
        "id": "it9Zda52ALpE",
        "colab_type": "code",
        "colab": {}
      },
      "source": [
        "layout=go.Layout(\n",
        "title='Patent distribution over the year',\n",
        "xaxis=dict(title='Application years'),\n",
        "yaxis=dict(title='Number of patents'),\n",
        "hovermode='closest' # for bringing values of points together as x and y\n",
        ")"
      ],
      "execution_count": 0,
      "outputs": []
    },
    {
      "cell_type": "code",
      "metadata": {
        "id": "MQ7RYydQALpH",
        "colab_type": "code",
        "colab": {}
      },
      "source": [
        "figure1= go.Figure(data=data, layout=layout)"
      ],
      "execution_count": 0,
      "outputs": []
    },
    {
      "cell_type": "code",
      "metadata": {
        "id": "BcKS7wBKALpI",
        "colab_type": "code",
        "colab": {
          "base_uri": "https://localhost:8080/",
          "height": 34
        },
        "outputId": "c2b3c8c6-3c01-4318-bc8c-a58b3444b8ff"
      },
      "source": [
        "pyo.plot(figure1,filename='distribution2.html')"
      ],
      "execution_count": 56,
      "outputs": [
        {
          "output_type": "execute_result",
          "data": {
            "text/plain": [
              "'distribution2.html'"
            ]
          },
          "metadata": {
            "tags": []
          },
          "execution_count": 56
        }
      ]
    },
    {
      "cell_type": "markdown",
      "metadata": {
        "id": "ou-7FB7AALpK",
        "colab_type": "text"
      },
      "source": [
        "# 2)-After Modeling"
      ]
    },
    {
      "cell_type": "markdown",
      "metadata": {
        "id": "w0vjnWf3ALpK",
        "colab_type": "text"
      },
      "source": [
        "### 4a) Change in the number of patents "
      ]
    },
    {
      "cell_type": "code",
      "metadata": {
        "id": "MPt42djQALpK",
        "colab_type": "code",
        "colab": {}
      },
      "source": [
        "data = pd.read_pickle('work_on_paper.pkl')"
      ],
      "execution_count": 0,
      "outputs": []
    },
    {
      "cell_type": "code",
      "metadata": {
        "id": "MU56TyMcALpL",
        "colab_type": "code",
        "colab": {
          "base_uri": "https://localhost:8080/",
          "height": 195
        },
        "outputId": "76a29ef2-64e3-4062-9b2d-c27b88f24a61"
      },
      "source": [
        "data.head()"
      ],
      "execution_count": 58,
      "outputs": [
        {
          "output_type": "execute_result",
          "data": {
            "text/html": [
              "<div>\n",
              "<style scoped>\n",
              "    .dataframe tbody tr th:only-of-type {\n",
              "        vertical-align: middle;\n",
              "    }\n",
              "\n",
              "    .dataframe tbody tr th {\n",
              "        vertical-align: top;\n",
              "    }\n",
              "\n",
              "    .dataframe thead th {\n",
              "        text-align: right;\n",
              "    }\n",
              "</style>\n",
              "<table border=\"1\" class=\"dataframe\">\n",
              "  <thead>\n",
              "    <tr style=\"text-align: right;\">\n",
              "      <th></th>\n",
              "      <th>Topic_Perc_Contrib</th>\n",
              "      <th>Keywords</th>\n",
              "      <th>Assignee</th>\n",
              "      <th>Year</th>\n",
              "      <th>Abstract</th>\n",
              "      <th>Topic</th>\n",
              "    </tr>\n",
              "  </thead>\n",
              "  <tbody>\n",
              "    <tr>\n",
              "      <th>0</th>\n",
              "      <td>0.3857</td>\n",
              "      <td>voltage, battery, circuit, power, module, dc, ...</td>\n",
              "      <td>luz electric fuel israel ltd</td>\n",
              "      <td>1990.0</td>\n",
              "      <td>An electrical energy system including an elect...</td>\n",
              "      <td>topic2</td>\n",
              "    </tr>\n",
              "    <tr>\n",
              "      <th>1</th>\n",
              "      <td>0.7969</td>\n",
              "      <td>voltage, battery, circuit, power, module, dc, ...</td>\n",
              "      <td>luz electric fuel israel ltd</td>\n",
              "      <td>1990.0</td>\n",
              "      <td>An electrical energy system including an elect...</td>\n",
              "      <td>topic2</td>\n",
              "    </tr>\n",
              "    <tr>\n",
              "      <th>2</th>\n",
              "      <td>0.4514</td>\n",
              "      <td>charge, pile, automobile, utility, model, body...</td>\n",
              "      <td>avl list gmbh</td>\n",
              "      <td>2002.0</td>\n",
              "      <td>A piston surface (4) on the combustion chamber...</td>\n",
              "      <td>topic3</td>\n",
              "    </tr>\n",
              "    <tr>\n",
              "      <th>3</th>\n",
              "      <td>0.7163</td>\n",
              "      <td>valve, combustion, fuel, oil, cylinder, pressu...</td>\n",
              "      <td>avl list gmbh</td>\n",
              "      <td>2002.0</td>\n",
              "      <td>During an idling phase, fuel is repeatedly inj...</td>\n",
              "      <td>topic5</td>\n",
              "    </tr>\n",
              "    <tr>\n",
              "      <th>4</th>\n",
              "      <td>0.5670</td>\n",
              "      <td>engine, torque, clutch, mode, speed, motor, ge...</td>\n",
              "      <td>avl list gmbh</td>\n",
              "      <td>2002.0</td>\n",
              "      <td>The invention relates to a module-like constru...</td>\n",
              "      <td>topic1</td>\n",
              "    </tr>\n",
              "  </tbody>\n",
              "</table>\n",
              "</div>"
            ],
            "text/plain": [
              "   Topic_Perc_Contrib  ...   Topic\n",
              "0              0.3857  ...  topic2\n",
              "1              0.7969  ...  topic2\n",
              "2              0.4514  ...  topic3\n",
              "3              0.7163  ...  topic5\n",
              "4              0.5670  ...  topic1\n",
              "\n",
              "[5 rows x 6 columns]"
            ]
          },
          "metadata": {
            "tags": []
          },
          "execution_count": 58
        }
      ]
    },
    {
      "cell_type": "code",
      "metadata": {
        "id": "Rat-euX3ALpP",
        "colab_type": "code",
        "colab": {
          "base_uri": "https://localhost:8080/",
          "height": 168
        },
        "outputId": "272d0886-d481-4e8b-b907-efc3efa8ffb9"
      },
      "source": [
        "data.Topic.value_counts()"
      ],
      "execution_count": 59,
      "outputs": [
        {
          "output_type": "execute_result",
          "data": {
            "text/plain": [
              "topic1    15371\n",
              "topic2     7647\n",
              "topic3     6455\n",
              "topic4     5195\n",
              "topic5     4022\n",
              "topic6     3303\n",
              "topic7      925\n",
              "topic8      513\n",
              "Name: Topic, dtype: int64"
            ]
          },
          "metadata": {
            "tags": []
          },
          "execution_count": 59
        }
      ]
    },
    {
      "cell_type": "code",
      "metadata": {
        "id": "18awP7HEALpQ",
        "colab_type": "code",
        "colab": {
          "base_uri": "https://localhost:8080/",
          "height": 296
        },
        "outputId": "d2b47b25-aa82-49c4-80d2-7217cbf5ad1e"
      },
      "source": [
        "d=data\n",
        "d=d.groupby([\"Year\",\"Topic\"]).size()\n",
        "d=d.unstack('Topic')\n",
        "d.plot()"
      ],
      "execution_count": 60,
      "outputs": [
        {
          "output_type": "execute_result",
          "data": {
            "text/plain": [
              "<matplotlib.axes._subplots.AxesSubplot at 0x7f02cd266390>"
            ]
          },
          "metadata": {
            "tags": []
          },
          "execution_count": 60
        },
        {
          "output_type": "display_data",
          "data": {
            "image/png": "[encoded data removed]",
            "text/plain": [
              "<Figure size 432x288 with 1 Axes>"
            ]
          },
          "metadata": {
            "tags": []
          }
        }
      ]
    },
    {
      "cell_type": "markdown",
      "metadata": {
        "id": "KJsKiI3OALpR",
        "colab_type": "text"
      },
      "source": [
        "# Using plotly"
      ]
    },
    {
      "cell_type": "code",
      "metadata": {
        "id": "d7Q84tXlALpS",
        "colab_type": "code",
        "colab": {}
      },
      "source": [
        "d=data"
      ],
      "execution_count": 0,
      "outputs": []
    },
    {
      "cell_type": "code",
      "metadata": {
        "id": "MWrNf6tZALpU",
        "colab_type": "code",
        "colab": {}
      },
      "source": [
        "d=d.groupby([\"Year\",\"Topic\"]).size()"
      ],
      "execution_count": 0,
      "outputs": []
    },
    {
      "cell_type": "code",
      "metadata": {
        "id": "MtgB4lQ_ALpV",
        "colab_type": "code",
        "colab": {
          "base_uri": "https://localhost:8080/",
          "height": 134
        },
        "outputId": "4ad04a89-d753-4f5c-c848-dc51d8d0636c"
      },
      "source": [
        "d.head()"
      ],
      "execution_count": 63,
      "outputs": [
        {
          "output_type": "execute_result",
          "data": {
            "text/plain": [
              "Year    Topic \n",
              "1990.0  topic1    30\n",
              "        topic2    19\n",
              "        topic3    12\n",
              "        topic4     1\n",
              "        topic5    22\n",
              "dtype: int64"
            ]
          },
          "metadata": {
            "tags": []
          },
          "execution_count": 63
        }
      ]
    },
    {
      "cell_type": "code",
      "metadata": {
        "id": "3yfHHuZfALpX",
        "colab_type": "code",
        "colab": {}
      },
      "source": [
        "df_patent=d.unstack('Topic')"
      ],
      "execution_count": 0,
      "outputs": []
    },
    {
      "cell_type": "code",
      "metadata": {
        "id": "XPibuFMdALpY",
        "colab_type": "code",
        "colab": {
          "base_uri": "https://localhost:8080/",
          "height": 34
        },
        "outputId": "6ab23266-55fc-4b69-bcbf-6c893cc21baa"
      },
      "source": [
        "type(df_patent)"
      ],
      "execution_count": 65,
      "outputs": [
        {
          "output_type": "execute_result",
          "data": {
            "text/plain": [
              "pandas.core.frame.DataFrame"
            ]
          },
          "metadata": {
            "tags": []
          },
          "execution_count": 65
        }
      ]
    },
    {
      "cell_type": "code",
      "metadata": {
        "id": "4lK1ryvxALpa",
        "colab_type": "code",
        "colab": {
          "base_uri": "https://localhost:8080/",
          "height": 296
        },
        "outputId": "093e5e73-4dcf-4d0d-9045-50617d3280f7"
      },
      "source": [
        "df_patent.plot()"
      ],
      "execution_count": 66,
      "outputs": [
        {
          "output_type": "execute_result",
          "data": {
            "text/plain": [
              "<matplotlib.axes._subplots.AxesSubplot at 0x7f02cd208128>"
            ]
          },
          "metadata": {
            "tags": []
          },
          "execution_count": 66
        },
        {
          "output_type": "display_data",
          "data": {
            "image/png": "[encoded data removed]",
            "text/plain": [
              "<Figure size 432x288 with 1 Axes>"
            ]
          },
          "metadata": {
            "tags": []
          }
        }
      ]
    },
    {
      "cell_type": "code",
      "metadata": {
        "id": "ZHBU0LhlALpd",
        "colab_type": "code",
        "colab": {}
      },
      "source": [
        "df_patent2=df_patent.T"
      ],
      "execution_count": 0,
      "outputs": []
    },
    {
      "cell_type": "code",
      "metadata": {
        "id": "yVmWn_VlALpe",
        "colab_type": "code",
        "colab": {
          "base_uri": "https://localhost:8080/",
          "height": 334
        },
        "outputId": "685e0ed4-6337-4850-8e32-5ae4b3e84354"
      },
      "source": [
        "df_patent2"
      ],
      "execution_count": 68,
      "outputs": [
        {
          "output_type": "execute_result",
          "data": {
            "text/html": [
              "<div>\n",
              "<style scoped>\n",
              "    .dataframe tbody tr th:only-of-type {\n",
              "        vertical-align: middle;\n",
              "    }\n",
              "\n",
              "    .dataframe tbody tr th {\n",
              "        vertical-align: top;\n",
              "    }\n",
              "\n",
              "    .dataframe thead th {\n",
              "        text-align: right;\n",
              "    }\n",
              "</style>\n",
              "<table border=\"1\" class=\"dataframe\">\n",
              "  <thead>\n",
              "    <tr style=\"text-align: right;\">\n",
              "      <th>Year</th>\n",
              "      <th>1990.0</th>\n",
              "      <th>1991.0</th>\n",
              "      <th>1992.0</th>\n",
              "      <th>1993.0</th>\n",
              "      <th>1994.0</th>\n",
              "      <th>1995.0</th>\n",
              "      <th>1996.0</th>\n",
              "      <th>1997.0</th>\n",
              "      <th>1998.0</th>\n",
              "      <th>1999.0</th>\n",
              "      <th>2000.0</th>\n",
              "      <th>2001.0</th>\n",
              "      <th>2002.0</th>\n",
              "      <th>2003.0</th>\n",
              "      <th>2004.0</th>\n",
              "      <th>2005.0</th>\n",
              "      <th>2006.0</th>\n",
              "      <th>2007.0</th>\n",
              "      <th>2008.0</th>\n",
              "      <th>2009.0</th>\n",
              "      <th>2010.0</th>\n",
              "      <th>2011.0</th>\n",
              "      <th>2012.0</th>\n",
              "      <th>2013.0</th>\n",
              "      <th>2014.0</th>\n",
              "      <th>2015.0</th>\n",
              "      <th>2016.0</th>\n",
              "      <th>2017.0</th>\n",
              "    </tr>\n",
              "    <tr>\n",
              "      <th>Topic</th>\n",
              "      <th></th>\n",
              "      <th></th>\n",
              "      <th></th>\n",
              "      <th></th>\n",
              "      <th></th>\n",
              "      <th></th>\n",
              "      <th></th>\n",
              "      <th></th>\n",
              "      <th></th>\n",
              "      <th></th>\n",
              "      <th></th>\n",
              "      <th></th>\n",
              "      <th></th>\n",
              "      <th></th>\n",
              "      <th></th>\n",
              "      <th></th>\n",
              "      <th></th>\n",
              "      <th></th>\n",
              "      <th></th>\n",
              "      <th></th>\n",
              "      <th></th>\n",
              "      <th></th>\n",
              "      <th></th>\n",
              "      <th></th>\n",
              "      <th></th>\n",
              "      <th></th>\n",
              "      <th></th>\n",
              "      <th></th>\n",
              "    </tr>\n",
              "  </thead>\n",
              "  <tbody>\n",
              "    <tr>\n",
              "      <th>topic1</th>\n",
              "      <td>30.0</td>\n",
              "      <td>38.0</td>\n",
              "      <td>86.0</td>\n",
              "      <td>103.0</td>\n",
              "      <td>139.0</td>\n",
              "      <td>189.0</td>\n",
              "      <td>179.0</td>\n",
              "      <td>231.0</td>\n",
              "      <td>325.0</td>\n",
              "      <td>399.0</td>\n",
              "      <td>375.0</td>\n",
              "      <td>385.0</td>\n",
              "      <td>387.0</td>\n",
              "      <td>474.0</td>\n",
              "      <td>470.0</td>\n",
              "      <td>567.0</td>\n",
              "      <td>839.0</td>\n",
              "      <td>952.0</td>\n",
              "      <td>714.0</td>\n",
              "      <td>853.0</td>\n",
              "      <td>1163.0</td>\n",
              "      <td>1515.0</td>\n",
              "      <td>1415.0</td>\n",
              "      <td>1309.0</td>\n",
              "      <td>1072.0</td>\n",
              "      <td>887.0</td>\n",
              "      <td>258.0</td>\n",
              "      <td>16.0</td>\n",
              "    </tr>\n",
              "    <tr>\n",
              "      <th>topic2</th>\n",
              "      <td>19.0</td>\n",
              "      <td>32.0</td>\n",
              "      <td>61.0</td>\n",
              "      <td>75.0</td>\n",
              "      <td>73.0</td>\n",
              "      <td>64.0</td>\n",
              "      <td>70.0</td>\n",
              "      <td>133.0</td>\n",
              "      <td>80.0</td>\n",
              "      <td>124.0</td>\n",
              "      <td>139.0</td>\n",
              "      <td>175.0</td>\n",
              "      <td>197.0</td>\n",
              "      <td>210.0</td>\n",
              "      <td>143.0</td>\n",
              "      <td>248.0</td>\n",
              "      <td>324.0</td>\n",
              "      <td>361.0</td>\n",
              "      <td>324.0</td>\n",
              "      <td>504.0</td>\n",
              "      <td>566.0</td>\n",
              "      <td>822.0</td>\n",
              "      <td>730.0</td>\n",
              "      <td>733.0</td>\n",
              "      <td>630.0</td>\n",
              "      <td>449.0</td>\n",
              "      <td>290.0</td>\n",
              "      <td>71.0</td>\n",
              "    </tr>\n",
              "    <tr>\n",
              "      <th>topic3</th>\n",
              "      <td>12.0</td>\n",
              "      <td>19.0</td>\n",
              "      <td>50.0</td>\n",
              "      <td>96.0</td>\n",
              "      <td>62.0</td>\n",
              "      <td>75.0</td>\n",
              "      <td>57.0</td>\n",
              "      <td>50.0</td>\n",
              "      <td>43.0</td>\n",
              "      <td>37.0</td>\n",
              "      <td>47.0</td>\n",
              "      <td>66.0</td>\n",
              "      <td>92.0</td>\n",
              "      <td>59.0</td>\n",
              "      <td>66.0</td>\n",
              "      <td>76.0</td>\n",
              "      <td>152.0</td>\n",
              "      <td>163.0</td>\n",
              "      <td>240.0</td>\n",
              "      <td>421.0</td>\n",
              "      <td>545.0</td>\n",
              "      <td>758.0</td>\n",
              "      <td>648.0</td>\n",
              "      <td>498.0</td>\n",
              "      <td>529.0</td>\n",
              "      <td>691.0</td>\n",
              "      <td>708.0</td>\n",
              "      <td>195.0</td>\n",
              "    </tr>\n",
              "    <tr>\n",
              "      <th>topic4</th>\n",
              "      <td>1.0</td>\n",
              "      <td>12.0</td>\n",
              "      <td>32.0</td>\n",
              "      <td>40.0</td>\n",
              "      <td>32.0</td>\n",
              "      <td>41.0</td>\n",
              "      <td>35.0</td>\n",
              "      <td>31.0</td>\n",
              "      <td>39.0</td>\n",
              "      <td>80.0</td>\n",
              "      <td>35.0</td>\n",
              "      <td>72.0</td>\n",
              "      <td>70.0</td>\n",
              "      <td>69.0</td>\n",
              "      <td>44.0</td>\n",
              "      <td>96.0</td>\n",
              "      <td>140.0</td>\n",
              "      <td>197.0</td>\n",
              "      <td>274.0</td>\n",
              "      <td>373.0</td>\n",
              "      <td>606.0</td>\n",
              "      <td>882.0</td>\n",
              "      <td>574.0</td>\n",
              "      <td>484.0</td>\n",
              "      <td>345.0</td>\n",
              "      <td>321.0</td>\n",
              "      <td>236.0</td>\n",
              "      <td>34.0</td>\n",
              "    </tr>\n",
              "    <tr>\n",
              "      <th>topic5</th>\n",
              "      <td>22.0</td>\n",
              "      <td>20.0</td>\n",
              "      <td>50.0</td>\n",
              "      <td>72.0</td>\n",
              "      <td>41.0</td>\n",
              "      <td>82.0</td>\n",
              "      <td>115.0</td>\n",
              "      <td>103.0</td>\n",
              "      <td>113.0</td>\n",
              "      <td>158.0</td>\n",
              "      <td>186.0</td>\n",
              "      <td>206.0</td>\n",
              "      <td>156.0</td>\n",
              "      <td>175.0</td>\n",
              "      <td>171.0</td>\n",
              "      <td>137.0</td>\n",
              "      <td>199.0</td>\n",
              "      <td>219.0</td>\n",
              "      <td>206.0</td>\n",
              "      <td>177.0</td>\n",
              "      <td>290.0</td>\n",
              "      <td>251.0</td>\n",
              "      <td>282.0</td>\n",
              "      <td>207.0</td>\n",
              "      <td>227.0</td>\n",
              "      <td>90.0</td>\n",
              "      <td>64.0</td>\n",
              "      <td>3.0</td>\n",
              "    </tr>\n",
              "    <tr>\n",
              "      <th>topic6</th>\n",
              "      <td>8.0</td>\n",
              "      <td>14.0</td>\n",
              "      <td>11.0</td>\n",
              "      <td>25.0</td>\n",
              "      <td>33.0</td>\n",
              "      <td>14.0</td>\n",
              "      <td>28.0</td>\n",
              "      <td>49.0</td>\n",
              "      <td>50.0</td>\n",
              "      <td>63.0</td>\n",
              "      <td>95.0</td>\n",
              "      <td>99.0</td>\n",
              "      <td>138.0</td>\n",
              "      <td>231.0</td>\n",
              "      <td>205.0</td>\n",
              "      <td>183.0</td>\n",
              "      <td>211.0</td>\n",
              "      <td>217.0</td>\n",
              "      <td>173.0</td>\n",
              "      <td>156.0</td>\n",
              "      <td>197.0</td>\n",
              "      <td>238.0</td>\n",
              "      <td>288.0</td>\n",
              "      <td>156.0</td>\n",
              "      <td>193.0</td>\n",
              "      <td>171.0</td>\n",
              "      <td>54.0</td>\n",
              "      <td>3.0</td>\n",
              "    </tr>\n",
              "    <tr>\n",
              "      <th>topic7</th>\n",
              "      <td>2.0</td>\n",
              "      <td>6.0</td>\n",
              "      <td>6.0</td>\n",
              "      <td>2.0</td>\n",
              "      <td>NaN</td>\n",
              "      <td>NaN</td>\n",
              "      <td>6.0</td>\n",
              "      <td>11.0</td>\n",
              "      <td>9.0</td>\n",
              "      <td>9.0</td>\n",
              "      <td>26.0</td>\n",
              "      <td>27.0</td>\n",
              "      <td>63.0</td>\n",
              "      <td>62.0</td>\n",
              "      <td>75.0</td>\n",
              "      <td>58.0</td>\n",
              "      <td>70.0</td>\n",
              "      <td>66.0</td>\n",
              "      <td>66.0</td>\n",
              "      <td>57.0</td>\n",
              "      <td>48.0</td>\n",
              "      <td>89.0</td>\n",
              "      <td>54.0</td>\n",
              "      <td>67.0</td>\n",
              "      <td>26.0</td>\n",
              "      <td>17.0</td>\n",
              "      <td>3.0</td>\n",
              "      <td>NaN</td>\n",
              "    </tr>\n",
              "    <tr>\n",
              "      <th>topic8</th>\n",
              "      <td>2.0</td>\n",
              "      <td>5.0</td>\n",
              "      <td>14.0</td>\n",
              "      <td>4.0</td>\n",
              "      <td>4.0</td>\n",
              "      <td>4.0</td>\n",
              "      <td>10.0</td>\n",
              "      <td>14.0</td>\n",
              "      <td>23.0</td>\n",
              "      <td>12.0</td>\n",
              "      <td>11.0</td>\n",
              "      <td>8.0</td>\n",
              "      <td>10.0</td>\n",
              "      <td>11.0</td>\n",
              "      <td>34.0</td>\n",
              "      <td>10.0</td>\n",
              "      <td>8.0</td>\n",
              "      <td>18.0</td>\n",
              "      <td>19.0</td>\n",
              "      <td>43.0</td>\n",
              "      <td>39.0</td>\n",
              "      <td>39.0</td>\n",
              "      <td>45.0</td>\n",
              "      <td>53.0</td>\n",
              "      <td>47.0</td>\n",
              "      <td>20.0</td>\n",
              "      <td>6.0</td>\n",
              "      <td>NaN</td>\n",
              "    </tr>\n",
              "  </tbody>\n",
              "</table>\n",
              "</div>"
            ],
            "text/plain": [
              "Year    1990.0  1991.0  1992.0  1993.0  ...  2014.0  2015.0  2016.0  2017.0\n",
              "Topic                                   ...                                \n",
              "topic1    30.0    38.0    86.0   103.0  ...  1072.0   887.0   258.0    16.0\n",
              "topic2    19.0    32.0    61.0    75.0  ...   630.0   449.0   290.0    71.0\n",
              "topic3    12.0    19.0    50.0    96.0  ...   529.0   691.0   708.0   195.0\n",
              "topic4     1.0    12.0    32.0    40.0  ...   345.0   321.0   236.0    34.0\n",
              "topic5    22.0    20.0    50.0    72.0  ...   227.0    90.0    64.0     3.0\n",
              "topic6     8.0    14.0    11.0    25.0  ...   193.0   171.0    54.0     3.0\n",
              "topic7     2.0     6.0     6.0     2.0  ...    26.0    17.0     3.0     NaN\n",
              "topic8     2.0     5.0    14.0     4.0  ...    47.0    20.0     6.0     NaN\n",
              "\n",
              "[8 rows x 28 columns]"
            ]
          },
          "metadata": {
            "tags": []
          },
          "execution_count": 68
        }
      ]
    },
    {
      "cell_type": "code",
      "metadata": {
        "id": "QD3bntI6ALpf",
        "colab_type": "code",
        "colab": {}
      },
      "source": [
        "traces=[go.Scatter(\n",
        "    x=df_patent2.columns,\n",
        "    y=df_patent2.loc[row_name],\n",
        "    mode='lines+markers',\n",
        "    name=row_name\n",
        "\n",
        "\n",
        "\n",
        ")for row_name in df_patent2.index]"
      ],
      "execution_count": 0,
      "outputs": []
    },
    {
      "cell_type": "code",
      "metadata": {
        "id": "UDKBojTxALph",
        "colab_type": "code",
        "colab": {}
      },
      "source": [
        "data=traces"
      ],
      "execution_count": 0,
      "outputs": []
    },
    {
      "cell_type": "code",
      "metadata": {
        "id": "nMH-7_aNALpj",
        "colab_type": "code",
        "colab": {}
      },
      "source": [
        "layout=go.Layout(\n",
        "title='Change in the number of patents over filling years',\n",
        "xaxis=dict(title='Number of filling years'),\n",
        "yaxis=dict(title='Number of patents'),\n",
        "hovermode='closest' # for bringing values of points together as x and y\n",
        ")"
      ],
      "execution_count": 0,
      "outputs": []
    },
    {
      "cell_type": "code",
      "metadata": {
        "id": "JwCOL2eEALpl",
        "colab_type": "code",
        "colab": {}
      },
      "source": [
        "#layout=go.Layout(title='Change in the number of patents over filling years')"
      ],
      "execution_count": 0,
      "outputs": []
    },
    {
      "cell_type": "code",
      "metadata": {
        "id": "ZbUyt7gRALpo",
        "colab_type": "code",
        "colab": {}
      },
      "source": [
        "figure1= go.Figure(data=data, layout=layout)"
      ],
      "execution_count": 0,
      "outputs": []
    },
    {
      "cell_type": "code",
      "metadata": {
        "id": "So91ywpnALpp",
        "colab_type": "code",
        "colab": {
          "base_uri": "https://localhost:8080/",
          "height": 34
        },
        "outputId": "89e504e5-1b23-4774-f4c4-6b9a1dd0a2af"
      },
      "source": [
        "pyo.plot(figure1,filename='Change in the number of patents.html')"
      ],
      "execution_count": 74,
      "outputs": [
        {
          "output_type": "execute_result",
          "data": {
            "text/plain": [
              "'Change in the number of patents.html'"
            ]
          },
          "metadata": {
            "tags": []
          },
          "execution_count": 74
        }
      ]
    },
    {
      "cell_type": "markdown",
      "metadata": {
        "id": "3DLqFXImALpq",
        "colab_type": "text"
      },
      "source": [
        "**Alternative way**"
      ]
    },
    {
      "cell_type": "code",
      "metadata": {
        "id": "pyfcF7c2ALpr",
        "colab_type": "code",
        "colab": {}
      },
      "source": [
        "data = pd.read_pickle('work_on_paper.pkl')"
      ],
      "execution_count": 0,
      "outputs": []
    },
    {
      "cell_type": "code",
      "metadata": {
        "id": "h9hWHa2PALps",
        "colab_type": "code",
        "colab": {}
      },
      "source": [
        "f=data.groupby(data.Year).Topic.value_counts()"
      ],
      "execution_count": 0,
      "outputs": []
    },
    {
      "cell_type": "code",
      "metadata": {
        "id": "uNZRS7WfALpv",
        "colab_type": "code",
        "colab": {
          "base_uri": "https://localhost:8080/",
          "height": 134
        },
        "outputId": "b666862f-a3d3-4c3d-d098-bba41d57595b"
      },
      "source": [
        "f[:5]"
      ],
      "execution_count": 77,
      "outputs": [
        {
          "output_type": "execute_result",
          "data": {
            "text/plain": [
              "Year    Topic \n",
              "1990.0  topic1    30\n",
              "        topic5    22\n",
              "        topic2    19\n",
              "        topic3    12\n",
              "        topic6     8\n",
              "Name: Topic, dtype: int64"
            ]
          },
          "metadata": {
            "tags": []
          },
          "execution_count": 77
        }
      ]
    },
    {
      "cell_type": "code",
      "metadata": {
        "id": "m3ra3g0lALpw",
        "colab_type": "code",
        "colab": {}
      },
      "source": [
        "f=f.unstack('Topic')"
      ],
      "execution_count": 0,
      "outputs": []
    },
    {
      "cell_type": "code",
      "metadata": {
        "id": "htGuf7xFALpx",
        "colab_type": "code",
        "colab": {
          "base_uri": "https://localhost:8080/",
          "height": 77
        },
        "outputId": "c699e03d-ea2e-4a5a-f9b0-a72214cb2411"
      },
      "source": [
        "f[:5]"
      ],
      "execution_count": 79,
      "outputs": [
        {
          "output_type": "execute_result",
          "data": {
            "text/html": [
              "<div>\n",
              "<style scoped>\n",
              "    .dataframe tbody tr th:only-of-type {\n",
              "        vertical-align: middle;\n",
              "    }\n",
              "\n",
              "    .dataframe tbody tr th {\n",
              "        vertical-align: top;\n",
              "    }\n",
              "\n",
              "    .dataframe thead th {\n",
              "        text-align: right;\n",
              "    }\n",
              "</style>\n",
              "<table border=\"1\" class=\"dataframe\">\n",
              "  <thead>\n",
              "    <tr style=\"text-align: right;\">\n",
              "      <th>Topic</th>\n",
              "      <th>topic1</th>\n",
              "      <th>topic2</th>\n",
              "      <th>topic3</th>\n",
              "      <th>topic4</th>\n",
              "      <th>topic5</th>\n",
              "      <th>topic6</th>\n",
              "      <th>topic7</th>\n",
              "      <th>topic8</th>\n",
              "    </tr>\n",
              "    <tr>\n",
              "      <th>Year</th>\n",
              "      <th></th>\n",
              "      <th></th>\n",
              "      <th></th>\n",
              "      <th></th>\n",
              "      <th></th>\n",
              "      <th></th>\n",
              "      <th></th>\n",
              "      <th></th>\n",
              "    </tr>\n",
              "  </thead>\n",
              "  <tbody>\n",
              "  </tbody>\n",
              "</table>\n",
              "</div>"
            ],
            "text/plain": [
              "Empty DataFrame\n",
              "Columns: [topic1, topic2, topic3, topic4, topic5, topic6, topic7, topic8]\n",
              "Index: []"
            ]
          },
          "metadata": {
            "tags": []
          },
          "execution_count": 79
        }
      ]
    },
    {
      "cell_type": "code",
      "metadata": {
        "id": "qImrH069ALpz",
        "colab_type": "code",
        "colab": {
          "base_uri": "https://localhost:8080/",
          "height": 295
        },
        "outputId": "bbea3d1c-bdd1-4c0d-cc16-98879e7e94c2"
      },
      "source": [
        "f.plot()\n",
        "plt.xlabel('Filling years')\n",
        "plt.ylabel('patent Share')\n",
        "plt.title('Change in the number of patents over filling years')\n",
        "plt.legend()\n",
        "plt.show()"
      ],
      "execution_count": 80,
      "outputs": [
        {
          "output_type": "display_data",
          "data": {
            "image/png": "[encoded data removed]",
            "text/plain": [
              "<Figure size 432x288 with 1 Axes>"
            ]
          },
          "metadata": {
            "tags": []
          }
        }
      ]
    },
    {
      "cell_type": "markdown",
      "metadata": {
        "id": "r0vSZQjKALp3",
        "colab_type": "text"
      },
      "source": [
        "**result of figure 4a**"
      ]
    },
    {
      "cell_type": "markdown",
      "metadata": {
        "id": "CLzjfqTaALp3",
        "colab_type": "text"
      },
      "source": [
        "### 4(b) Change in the share of patents over filing year"
      ]
    },
    {
      "cell_type": "code",
      "metadata": {
        "id": "uJIZQ7d1ALp3",
        "colab_type": "code",
        "colab": {
          "base_uri": "https://localhost:8080/",
          "height": 168
        },
        "outputId": "aafdcdb0-4389-4137-adbb-bd0a5a915a9f"
      },
      "source": [
        "data.Topic.value_counts(normalize=True)"
      ],
      "execution_count": 81,
      "outputs": [
        {
          "output_type": "execute_result",
          "data": {
            "text/plain": [
              "topic1    0.353918\n",
              "topic2    0.176072\n",
              "topic3    0.148627\n",
              "topic4    0.119615\n",
              "topic5    0.092607\n",
              "topic6    0.076052\n",
              "topic7    0.021298\n",
              "topic8    0.011812\n",
              "Name: Topic, dtype: float64"
            ]
          },
          "metadata": {
            "tags": []
          },
          "execution_count": 81
        }
      ]
    },
    {
      "cell_type": "code",
      "metadata": {
        "id": "GusgLcwYALp5",
        "colab_type": "code",
        "colab": {
          "base_uri": "https://localhost:8080/",
          "height": 235
        },
        "outputId": "15040166-8f0f-4a88-c9ea-6efbbf03257c"
      },
      "source": [
        "data.groupby(data.Year).Topic.value_counts(normalize=True)"
      ],
      "execution_count": 82,
      "outputs": [
        {
          "output_type": "execute_result",
          "data": {
            "text/plain": [
              "Year    Topic \n",
              "1990.0  topic1    0.312500\n",
              "        topic5    0.229167\n",
              "        topic2    0.197917\n",
              "        topic3    0.125000\n",
              "        topic6    0.083333\n",
              "                    ...   \n",
              "2017.0  topic2    0.220497\n",
              "        topic4    0.105590\n",
              "        topic1    0.049689\n",
              "        topic5    0.009317\n",
              "        topic6    0.009317\n",
              "Name: Topic, Length: 220, dtype: float64"
            ]
          },
          "metadata": {
            "tags": []
          },
          "execution_count": 82
        }
      ]
    },
    {
      "cell_type": "code",
      "metadata": {
        "id": "_D_c2TOhALp6",
        "colab_type": "code",
        "colab": {}
      },
      "source": [
        "c=data.groupby(data.Year).Topic.value_counts(normalize=True)"
      ],
      "execution_count": 0,
      "outputs": []
    },
    {
      "cell_type": "code",
      "metadata": {
        "id": "4ndZ12MBALp8",
        "colab_type": "code",
        "colab": {}
      },
      "source": [
        "c=c.unstack('Topic')"
      ],
      "execution_count": 0,
      "outputs": []
    },
    {
      "cell_type": "code",
      "metadata": {
        "id": "EyY5w8oJALp-",
        "colab_type": "code",
        "colab": {
          "base_uri": "https://localhost:8080/",
          "height": 77
        },
        "outputId": "397b289a-6a70-48fb-8d65-dd7aad4ab23d"
      },
      "source": [
        "c[:5]"
      ],
      "execution_count": 85,
      "outputs": [
        {
          "output_type": "execute_result",
          "data": {
            "text/html": [
              "<div>\n",
              "<style scoped>\n",
              "    .dataframe tbody tr th:only-of-type {\n",
              "        vertical-align: middle;\n",
              "    }\n",
              "\n",
              "    .dataframe tbody tr th {\n",
              "        vertical-align: top;\n",
              "    }\n",
              "\n",
              "    .dataframe thead th {\n",
              "        text-align: right;\n",
              "    }\n",
              "</style>\n",
              "<table border=\"1\" class=\"dataframe\">\n",
              "  <thead>\n",
              "    <tr style=\"text-align: right;\">\n",
              "      <th>Topic</th>\n",
              "      <th>topic1</th>\n",
              "      <th>topic2</th>\n",
              "      <th>topic3</th>\n",
              "      <th>topic4</th>\n",
              "      <th>topic5</th>\n",
              "      <th>topic6</th>\n",
              "      <th>topic7</th>\n",
              "      <th>topic8</th>\n",
              "    </tr>\n",
              "    <tr>\n",
              "      <th>Year</th>\n",
              "      <th></th>\n",
              "      <th></th>\n",
              "      <th></th>\n",
              "      <th></th>\n",
              "      <th></th>\n",
              "      <th></th>\n",
              "      <th></th>\n",
              "      <th></th>\n",
              "    </tr>\n",
              "  </thead>\n",
              "  <tbody>\n",
              "  </tbody>\n",
              "</table>\n",
              "</div>"
            ],
            "text/plain": [
              "Empty DataFrame\n",
              "Columns: [topic1, topic2, topic3, topic4, topic5, topic6, topic7, topic8]\n",
              "Index: []"
            ]
          },
          "metadata": {
            "tags": []
          },
          "execution_count": 85
        }
      ]
    },
    {
      "cell_type": "code",
      "metadata": {
        "id": "3-ZbH5xKALqA",
        "colab_type": "code",
        "colab": {
          "base_uri": "https://localhost:8080/",
          "height": 295
        },
        "outputId": "d116d300-811e-4aab-f6da-179e3f4b9467"
      },
      "source": [
        "c.plot()\n",
        "plt.xlabel('Filling years')\n",
        "plt.ylabel('patent Share')\n",
        "plt.title('Change in the share of patents over filling years')\n",
        "plt.legend()\n",
        "plt.show()"
      ],
      "execution_count": 86,
      "outputs": [
        {
          "output_type": "display_data",
          "data": {
            "image/png": "[encoded data removed]",
            "text/plain": [
              "<Figure size 432x288 with 1 Axes>"
            ]
          },
          "metadata": {
            "tags": []
          }
        }
      ]
    },
    {
      "cell_type": "markdown",
      "metadata": {
        "id": "r02HEMDYALqB",
        "colab_type": "text"
      },
      "source": [
        "### Using plotly"
      ]
    },
    {
      "cell_type": "code",
      "metadata": {
        "id": "kXraapACALqC",
        "colab_type": "code",
        "colab": {}
      },
      "source": [
        "df_patent=c.T"
      ],
      "execution_count": 0,
      "outputs": []
    },
    {
      "cell_type": "code",
      "metadata": {
        "id": "WNrPQeRBALqD",
        "colab_type": "code",
        "colab": {
          "base_uri": "https://localhost:8080/",
          "height": 334
        },
        "outputId": "486f095b-3fa1-4b4b-955c-0f9bb3425533"
      },
      "source": [
        "df_patent"
      ],
      "execution_count": 88,
      "outputs": [
        {
          "output_type": "execute_result",
          "data": {
            "text/html": [
              "<div>\n",
              "<style scoped>\n",
              "    .dataframe tbody tr th:only-of-type {\n",
              "        vertical-align: middle;\n",
              "    }\n",
              "\n",
              "    .dataframe tbody tr th {\n",
              "        vertical-align: top;\n",
              "    }\n",
              "\n",
              "    .dataframe thead th {\n",
              "        text-align: right;\n",
              "    }\n",
              "</style>\n",
              "<table border=\"1\" class=\"dataframe\">\n",
              "  <thead>\n",
              "    <tr style=\"text-align: right;\">\n",
              "      <th>Year</th>\n",
              "      <th>1990.0</th>\n",
              "      <th>1991.0</th>\n",
              "      <th>1992.0</th>\n",
              "      <th>1993.0</th>\n",
              "      <th>1994.0</th>\n",
              "      <th>1995.0</th>\n",
              "      <th>1996.0</th>\n",
              "      <th>1997.0</th>\n",
              "      <th>1998.0</th>\n",
              "      <th>1999.0</th>\n",
              "      <th>2000.0</th>\n",
              "      <th>2001.0</th>\n",
              "      <th>2002.0</th>\n",
              "      <th>2003.0</th>\n",
              "      <th>2004.0</th>\n",
              "      <th>2005.0</th>\n",
              "      <th>2006.0</th>\n",
              "      <th>2007.0</th>\n",
              "      <th>2008.0</th>\n",
              "      <th>2009.0</th>\n",
              "      <th>2010.0</th>\n",
              "      <th>2011.0</th>\n",
              "      <th>2012.0</th>\n",
              "      <th>2013.0</th>\n",
              "      <th>2014.0</th>\n",
              "      <th>2015.0</th>\n",
              "      <th>2016.0</th>\n",
              "      <th>2017.0</th>\n",
              "    </tr>\n",
              "    <tr>\n",
              "      <th>Topic</th>\n",
              "      <th></th>\n",
              "      <th></th>\n",
              "      <th></th>\n",
              "      <th></th>\n",
              "      <th></th>\n",
              "      <th></th>\n",
              "      <th></th>\n",
              "      <th></th>\n",
              "      <th></th>\n",
              "      <th></th>\n",
              "      <th></th>\n",
              "      <th></th>\n",
              "      <th></th>\n",
              "      <th></th>\n",
              "      <th></th>\n",
              "      <th></th>\n",
              "      <th></th>\n",
              "      <th></th>\n",
              "      <th></th>\n",
              "      <th></th>\n",
              "      <th></th>\n",
              "      <th></th>\n",
              "      <th></th>\n",
              "      <th></th>\n",
              "      <th></th>\n",
              "      <th></th>\n",
              "      <th></th>\n",
              "      <th></th>\n",
              "    </tr>\n",
              "  </thead>\n",
              "  <tbody>\n",
              "    <tr>\n",
              "      <th>topic1</th>\n",
              "      <td>0.312500</td>\n",
              "      <td>0.260274</td>\n",
              "      <td>0.277419</td>\n",
              "      <td>0.247002</td>\n",
              "      <td>0.361979</td>\n",
              "      <td>0.402985</td>\n",
              "      <td>0.358</td>\n",
              "      <td>0.371383</td>\n",
              "      <td>0.476540</td>\n",
              "      <td>0.452381</td>\n",
              "      <td>0.410284</td>\n",
              "      <td>0.370906</td>\n",
              "      <td>0.347709</td>\n",
              "      <td>0.367157</td>\n",
              "      <td>0.389073</td>\n",
              "      <td>0.412364</td>\n",
              "      <td>0.431806</td>\n",
              "      <td>0.434109</td>\n",
              "      <td>0.354167</td>\n",
              "      <td>0.330108</td>\n",
              "      <td>0.336711</td>\n",
              "      <td>0.329778</td>\n",
              "      <td>0.350595</td>\n",
              "      <td>0.373253</td>\n",
              "      <td>0.349299</td>\n",
              "      <td>0.335223</td>\n",
              "      <td>0.159358</td>\n",
              "      <td>0.049689</td>\n",
              "    </tr>\n",
              "    <tr>\n",
              "      <th>topic2</th>\n",
              "      <td>0.197917</td>\n",
              "      <td>0.219178</td>\n",
              "      <td>0.196774</td>\n",
              "      <td>0.179856</td>\n",
              "      <td>0.190104</td>\n",
              "      <td>0.136461</td>\n",
              "      <td>0.140</td>\n",
              "      <td>0.213826</td>\n",
              "      <td>0.117302</td>\n",
              "      <td>0.140590</td>\n",
              "      <td>0.152079</td>\n",
              "      <td>0.168593</td>\n",
              "      <td>0.176999</td>\n",
              "      <td>0.162665</td>\n",
              "      <td>0.118377</td>\n",
              "      <td>0.180364</td>\n",
              "      <td>0.166752</td>\n",
              "      <td>0.164615</td>\n",
              "      <td>0.160714</td>\n",
              "      <td>0.195046</td>\n",
              "      <td>0.163868</td>\n",
              "      <td>0.178929</td>\n",
              "      <td>0.180872</td>\n",
              "      <td>0.209011</td>\n",
              "      <td>0.205279</td>\n",
              "      <td>0.169690</td>\n",
              "      <td>0.179123</td>\n",
              "      <td>0.220497</td>\n",
              "    </tr>\n",
              "    <tr>\n",
              "      <th>topic3</th>\n",
              "      <td>0.125000</td>\n",
              "      <td>0.130137</td>\n",
              "      <td>0.161290</td>\n",
              "      <td>0.230216</td>\n",
              "      <td>0.161458</td>\n",
              "      <td>0.159915</td>\n",
              "      <td>0.114</td>\n",
              "      <td>0.080386</td>\n",
              "      <td>0.063050</td>\n",
              "      <td>0.041950</td>\n",
              "      <td>0.051422</td>\n",
              "      <td>0.063584</td>\n",
              "      <td>0.082659</td>\n",
              "      <td>0.045701</td>\n",
              "      <td>0.054636</td>\n",
              "      <td>0.055273</td>\n",
              "      <td>0.078230</td>\n",
              "      <td>0.074327</td>\n",
              "      <td>0.119048</td>\n",
              "      <td>0.162926</td>\n",
              "      <td>0.157788</td>\n",
              "      <td>0.164998</td>\n",
              "      <td>0.160555</td>\n",
              "      <td>0.142002</td>\n",
              "      <td>0.172369</td>\n",
              "      <td>0.261149</td>\n",
              "      <td>0.437307</td>\n",
              "      <td>0.605590</td>\n",
              "    </tr>\n",
              "    <tr>\n",
              "      <th>topic4</th>\n",
              "      <td>0.010417</td>\n",
              "      <td>0.082192</td>\n",
              "      <td>0.103226</td>\n",
              "      <td>0.095923</td>\n",
              "      <td>0.083333</td>\n",
              "      <td>0.087420</td>\n",
              "      <td>0.070</td>\n",
              "      <td>0.049839</td>\n",
              "      <td>0.057185</td>\n",
              "      <td>0.090703</td>\n",
              "      <td>0.038293</td>\n",
              "      <td>0.069364</td>\n",
              "      <td>0.062893</td>\n",
              "      <td>0.053447</td>\n",
              "      <td>0.036424</td>\n",
              "      <td>0.069818</td>\n",
              "      <td>0.072054</td>\n",
              "      <td>0.089831</td>\n",
              "      <td>0.135913</td>\n",
              "      <td>0.144350</td>\n",
              "      <td>0.175449</td>\n",
              "      <td>0.191990</td>\n",
              "      <td>0.142220</td>\n",
              "      <td>0.138010</td>\n",
              "      <td>0.112414</td>\n",
              "      <td>0.121315</td>\n",
              "      <td>0.145769</td>\n",
              "      <td>0.105590</td>\n",
              "    </tr>\n",
              "    <tr>\n",
              "      <th>topic5</th>\n",
              "      <td>0.229167</td>\n",
              "      <td>0.136986</td>\n",
              "      <td>0.161290</td>\n",
              "      <td>0.172662</td>\n",
              "      <td>0.106771</td>\n",
              "      <td>0.174840</td>\n",
              "      <td>0.230</td>\n",
              "      <td>0.165595</td>\n",
              "      <td>0.165689</td>\n",
              "      <td>0.179138</td>\n",
              "      <td>0.203501</td>\n",
              "      <td>0.198459</td>\n",
              "      <td>0.140162</td>\n",
              "      <td>0.135554</td>\n",
              "      <td>0.141556</td>\n",
              "      <td>0.099636</td>\n",
              "      <td>0.102419</td>\n",
              "      <td>0.099863</td>\n",
              "      <td>0.102183</td>\n",
              "      <td>0.068498</td>\n",
              "      <td>0.083961</td>\n",
              "      <td>0.054636</td>\n",
              "      <td>0.069871</td>\n",
              "      <td>0.059025</td>\n",
              "      <td>0.073965</td>\n",
              "      <td>0.034014</td>\n",
              "      <td>0.039531</td>\n",
              "      <td>0.009317</td>\n",
              "    </tr>\n",
              "    <tr>\n",
              "      <th>topic6</th>\n",
              "      <td>0.083333</td>\n",
              "      <td>0.095890</td>\n",
              "      <td>0.035484</td>\n",
              "      <td>0.059952</td>\n",
              "      <td>0.085938</td>\n",
              "      <td>0.029851</td>\n",
              "      <td>0.056</td>\n",
              "      <td>0.078778</td>\n",
              "      <td>0.073314</td>\n",
              "      <td>0.071429</td>\n",
              "      <td>0.103939</td>\n",
              "      <td>0.095376</td>\n",
              "      <td>0.123989</td>\n",
              "      <td>0.178931</td>\n",
              "      <td>0.169702</td>\n",
              "      <td>0.133091</td>\n",
              "      <td>0.108595</td>\n",
              "      <td>0.098951</td>\n",
              "      <td>0.085813</td>\n",
              "      <td>0.060372</td>\n",
              "      <td>0.057035</td>\n",
              "      <td>0.051807</td>\n",
              "      <td>0.071358</td>\n",
              "      <td>0.044482</td>\n",
              "      <td>0.062887</td>\n",
              "      <td>0.064626</td>\n",
              "      <td>0.033354</td>\n",
              "      <td>0.009317</td>\n",
              "    </tr>\n",
              "    <tr>\n",
              "      <th>topic7</th>\n",
              "      <td>0.020833</td>\n",
              "      <td>0.041096</td>\n",
              "      <td>0.019355</td>\n",
              "      <td>0.004796</td>\n",
              "      <td>NaN</td>\n",
              "      <td>NaN</td>\n",
              "      <td>0.012</td>\n",
              "      <td>0.017685</td>\n",
              "      <td>0.013196</td>\n",
              "      <td>0.010204</td>\n",
              "      <td>0.028446</td>\n",
              "      <td>0.026012</td>\n",
              "      <td>0.056604</td>\n",
              "      <td>0.048025</td>\n",
              "      <td>0.062086</td>\n",
              "      <td>0.042182</td>\n",
              "      <td>0.036027</td>\n",
              "      <td>0.030096</td>\n",
              "      <td>0.032738</td>\n",
              "      <td>0.022059</td>\n",
              "      <td>0.013897</td>\n",
              "      <td>0.019373</td>\n",
              "      <td>0.013380</td>\n",
              "      <td>0.019105</td>\n",
              "      <td>0.008472</td>\n",
              "      <td>0.006425</td>\n",
              "      <td>0.001853</td>\n",
              "      <td>NaN</td>\n",
              "    </tr>\n",
              "    <tr>\n",
              "      <th>topic8</th>\n",
              "      <td>0.020833</td>\n",
              "      <td>0.034247</td>\n",
              "      <td>0.045161</td>\n",
              "      <td>0.009592</td>\n",
              "      <td>0.010417</td>\n",
              "      <td>0.008529</td>\n",
              "      <td>0.020</td>\n",
              "      <td>0.022508</td>\n",
              "      <td>0.033724</td>\n",
              "      <td>0.013605</td>\n",
              "      <td>0.012035</td>\n",
              "      <td>0.007707</td>\n",
              "      <td>0.008985</td>\n",
              "      <td>0.008521</td>\n",
              "      <td>0.028146</td>\n",
              "      <td>0.007273</td>\n",
              "      <td>0.004117</td>\n",
              "      <td>0.008208</td>\n",
              "      <td>0.009425</td>\n",
              "      <td>0.016641</td>\n",
              "      <td>0.011291</td>\n",
              "      <td>0.008489</td>\n",
              "      <td>0.011150</td>\n",
              "      <td>0.015113</td>\n",
              "      <td>0.015314</td>\n",
              "      <td>0.007559</td>\n",
              "      <td>0.003706</td>\n",
              "      <td>NaN</td>\n",
              "    </tr>\n",
              "  </tbody>\n",
              "</table>\n",
              "</div>"
            ],
            "text/plain": [
              "Year      1990.0    1991.0    1992.0  ...    2015.0    2016.0    2017.0\n",
              "Topic                                 ...                              \n",
              "topic1  0.312500  0.260274  0.277419  ...  0.335223  0.159358  0.049689\n",
              "topic2  0.197917  0.219178  0.196774  ...  0.169690  0.179123  0.220497\n",
              "topic3  0.125000  0.130137  0.161290  ...  0.261149  0.437307  0.605590\n",
              "topic4  0.010417  0.082192  0.103226  ...  0.121315  0.145769  0.105590\n",
              "topic5  0.229167  0.136986  0.161290  ...  0.034014  0.039531  0.009317\n",
              "topic6  0.083333  0.095890  0.035484  ...  0.064626  0.033354  0.009317\n",
              "topic7  0.020833  0.041096  0.019355  ...  0.006425  0.001853       NaN\n",
              "topic8  0.020833  0.034247  0.045161  ...  0.007559  0.003706       NaN\n",
              "\n",
              "[8 rows x 28 columns]"
            ]
          },
          "metadata": {
            "tags": []
          },
          "execution_count": 88
        }
      ]
    },
    {
      "cell_type": "code",
      "metadata": {
        "id": "ijl4LKIvALqE",
        "colab_type": "code",
        "colab": {}
      },
      "source": [
        "traces=[go.Scatter(\n",
        "    x=df_patent.columns,\n",
        "    y=df_patent.loc[row_name],\n",
        "    mode='lines+markers',\n",
        "    name=row_name\n",
        "\n",
        "\n",
        "\n",
        ")for row_name in df_patent.index]"
      ],
      "execution_count": 0,
      "outputs": []
    },
    {
      "cell_type": "code",
      "metadata": {
        "id": "8_i_VhDsALqF",
        "colab_type": "code",
        "colab": {}
      },
      "source": [
        "data=traces"
      ],
      "execution_count": 0,
      "outputs": []
    },
    {
      "cell_type": "code",
      "metadata": {
        "id": "ptw-0M3WALqI",
        "colab_type": "code",
        "colab": {}
      },
      "source": [
        "layout=go.Layout(\n",
        "title='Change in the share of patents over filing year',\n",
        "xaxis=dict(title='Number of filling years'),\n",
        "yaxis=dict(title='Number of patents'),\n",
        "hovermode='closest' # for bringing values of points together as x and y\n",
        ")"
      ],
      "execution_count": 0,
      "outputs": []
    },
    {
      "cell_type": "code",
      "metadata": {
        "id": "Wu_bXecQALqJ",
        "colab_type": "code",
        "colab": {}
      },
      "source": [
        "figure2= go.Figure(data=data, layout=layout)"
      ],
      "execution_count": 0,
      "outputs": []
    },
    {
      "cell_type": "code",
      "metadata": {
        "id": "FIC3bzQcALqK",
        "colab_type": "code",
        "colab": {
          "base_uri": "https://localhost:8080/",
          "height": 34
        },
        "outputId": "23da43be-68b4-43ef-acda-0910f5770137"
      },
      "source": [
        "pyo.plot(figure2,filename='patent_count_normalized.html')"
      ],
      "execution_count": 93,
      "outputs": [
        {
          "output_type": "execute_result",
          "data": {
            "text/plain": [
              "'patent_count_normalized.html'"
            ]
          },
          "metadata": {
            "tags": []
          },
          "execution_count": 93
        }
      ]
    },
    {
      "cell_type": "markdown",
      "metadata": {
        "id": "OPB2yVScALqM",
        "colab_type": "text"
      },
      "source": [
        "### Table 6: Major assignee by topic type"
      ]
    },
    {
      "cell_type": "code",
      "metadata": {
        "id": "KHK8X9DuALqN",
        "colab_type": "code",
        "colab": {}
      },
      "source": [
        "df=pd.read_pickle('work_on_paper.pkl')"
      ],
      "execution_count": 0,
      "outputs": []
    },
    {
      "cell_type": "code",
      "metadata": {
        "id": "udaEETCjALqQ",
        "colab_type": "code",
        "colab": {
          "base_uri": "https://localhost:8080/",
          "height": 151
        },
        "outputId": "0559924d-0f2b-4bb8-bb3c-21ba94b34fd1"
      },
      "source": [
        "from collections import Counter\n",
        "Counter(df.Topic)"
      ],
      "execution_count": 95,
      "outputs": [
        {
          "output_type": "execute_result",
          "data": {
            "text/plain": [
              "Counter({'topic1': 15371,\n",
              "         'topic2': 7647,\n",
              "         'topic3': 6455,\n",
              "         'topic4': 5195,\n",
              "         'topic5': 4022,\n",
              "         'topic6': 3303,\n",
              "         'topic7': 925,\n",
              "         'topic8': 513})"
            ]
          },
          "metadata": {
            "tags": []
          },
          "execution_count": 95
        }
      ]
    },
    {
      "cell_type": "code",
      "metadata": {
        "id": "RyVFIMkvALqR",
        "colab_type": "code",
        "colab": {}
      },
      "source": [
        "company=df.groupby(df.Topic).Assignee.value_counts(dropna=True, sort=True)"
      ],
      "execution_count": 0,
      "outputs": []
    },
    {
      "cell_type": "code",
      "metadata": {
        "id": "lIaISshgALqS",
        "colab_type": "code",
        "colab": {
          "base_uri": "https://localhost:8080/",
          "height": 431
        },
        "outputId": "7254f43b-2375-408c-eb69-a0c871116fb4"
      },
      "source": [
        "df_company = pd.DataFrame(company)\n",
        "df_company"
      ],
      "execution_count": 97,
      "outputs": [
        {
          "output_type": "execute_result",
          "data": {
            "text/html": [
              "<div>\n",
              "<style scoped>\n",
              "    .dataframe tbody tr th:only-of-type {\n",
              "        vertical-align: middle;\n",
              "    }\n",
              "\n",
              "    .dataframe tbody tr th {\n",
              "        vertical-align: top;\n",
              "    }\n",
              "\n",
              "    .dataframe thead th {\n",
              "        text-align: right;\n",
              "    }\n",
              "</style>\n",
              "<table border=\"1\" class=\"dataframe\">\n",
              "  <thead>\n",
              "    <tr style=\"text-align: right;\">\n",
              "      <th></th>\n",
              "      <th></th>\n",
              "      <th>Assignee</th>\n",
              "    </tr>\n",
              "    <tr>\n",
              "      <th>Topic</th>\n",
              "      <th>Assignee</th>\n",
              "      <th></th>\n",
              "    </tr>\n",
              "  </thead>\n",
              "  <tbody>\n",
              "    <tr>\n",
              "      <th rowspan=\"5\" valign=\"top\">topic1</th>\n",
              "      <th>toyota motor corp</th>\n",
              "      <td>3359</td>\n",
              "    </tr>\n",
              "    <tr>\n",
              "      <th>nissan motor co ltd</th>\n",
              "      <td>1247</td>\n",
              "    </tr>\n",
              "    <tr>\n",
              "      <th>hyundai motor company</th>\n",
              "      <td>1235</td>\n",
              "    </tr>\n",
              "    <tr>\n",
              "      <th>honda motor ltd</th>\n",
              "      <td>1069</td>\n",
              "    </tr>\n",
              "    <tr>\n",
              "      <th>ford global technologies llc</th>\n",
              "      <td>788</td>\n",
              "    </tr>\n",
              "    <tr>\n",
              "      <th>...</th>\n",
              "      <th>...</th>\n",
              "      <td>...</td>\n",
              "    </tr>\n",
              "    <tr>\n",
              "      <th rowspan=\"5\" valign=\"top\">topic8</th>\n",
              "      <th>yamaha motor co ltd</th>\n",
              "      <td>1</td>\n",
              "    </tr>\n",
              "    <tr>\n",
              "      <th>yamashita yoshinori</th>\n",
              "      <td>1</td>\n",
              "    </tr>\n",
              "    <tr>\n",
              "      <th>yang zhanfa</th>\n",
              "      <td>1</td>\n",
              "    </tr>\n",
              "    <tr>\n",
              "      <th>yu hai</th>\n",
              "      <td>1</td>\n",
              "    </tr>\n",
              "    <tr>\n",
              "      <th>zhengzhou nissan automobile co  ltd</th>\n",
              "      <td>1</td>\n",
              "    </tr>\n",
              "  </tbody>\n",
              "</table>\n",
              "<p>12023 rows × 1 columns</p>\n",
              "</div>"
            ],
            "text/plain": [
              "                                             Assignee\n",
              "Topic  Assignee                                      \n",
              "topic1 toyota motor corp                         3359\n",
              "       nissan motor co ltd                       1247\n",
              "       hyundai motor company                     1235\n",
              "       honda motor ltd                           1069\n",
              "       ford global technologies llc               788\n",
              "...                                               ...\n",
              "topic8 yamaha motor co ltd                          1\n",
              "       yamashita yoshinori                          1\n",
              "       yang zhanfa                                  1\n",
              "       yu hai                                       1\n",
              "       zhengzhou nissan automobile co  ltd          1\n",
              "\n",
              "[12023 rows x 1 columns]"
            ]
          },
          "metadata": {
            "tags": []
          },
          "execution_count": 97
        }
      ]
    },
    {
      "cell_type": "markdown",
      "metadata": {
        "id": "ZJkEeGA9ALqS",
        "colab_type": "text"
      },
      "source": [
        "**For a specific topic listing wrt firms**"
      ]
    },
    {
      "cell_type": "code",
      "metadata": {
        "id": "qLil0iaOALqT",
        "colab_type": "code",
        "colab": {}
      },
      "source": [
        "topic_firm=df.groupby([df['Topic']=='topic1']).Assignee.value_counts(dropna=True, sort=True)"
      ],
      "execution_count": 0,
      "outputs": []
    },
    {
      "cell_type": "code",
      "metadata": {
        "scrolled": false,
        "id": "brZCHXkRALqU",
        "colab_type": "code",
        "colab": {
          "base_uri": "https://localhost:8080/",
          "height": 373
        },
        "outputId": "83c16197-a9da-4a1d-dcaf-016d80443f10"
      },
      "source": [
        "df_topic_firms = pd.DataFrame(topic_firm)\n",
        "df_topic_firms[:10]"
      ],
      "execution_count": 99,
      "outputs": [
        {
          "output_type": "execute_result",
          "data": {
            "text/html": [
              "<div>\n",
              "<style scoped>\n",
              "    .dataframe tbody tr th:only-of-type {\n",
              "        vertical-align: middle;\n",
              "    }\n",
              "\n",
              "    .dataframe tbody tr th {\n",
              "        vertical-align: top;\n",
              "    }\n",
              "\n",
              "    .dataframe thead th {\n",
              "        text-align: right;\n",
              "    }\n",
              "</style>\n",
              "<table border=\"1\" class=\"dataframe\">\n",
              "  <thead>\n",
              "    <tr style=\"text-align: right;\">\n",
              "      <th></th>\n",
              "      <th></th>\n",
              "      <th>Assignee</th>\n",
              "    </tr>\n",
              "    <tr>\n",
              "      <th>Topic</th>\n",
              "      <th>Assignee</th>\n",
              "      <th></th>\n",
              "    </tr>\n",
              "  </thead>\n",
              "  <tbody>\n",
              "    <tr>\n",
              "      <th rowspan=\"10\" valign=\"top\">False</th>\n",
              "      <th>toyota motor corp</th>\n",
              "      <td>2321</td>\n",
              "    </tr>\n",
              "    <tr>\n",
              "      <th>honda motor ltd</th>\n",
              "      <td>1593</td>\n",
              "    </tr>\n",
              "    <tr>\n",
              "      <th>hyundai motor company</th>\n",
              "      <td>955</td>\n",
              "    </tr>\n",
              "    <tr>\n",
              "      <th>nissan motor co ltd</th>\n",
              "      <td>657</td>\n",
              "    </tr>\n",
              "    <tr>\n",
              "      <th>mitsubishi motors corp</th>\n",
              "      <td>517</td>\n",
              "    </tr>\n",
              "    <tr>\n",
              "      <th>ford global technologies llc</th>\n",
              "      <td>508</td>\n",
              "    </tr>\n",
              "    <tr>\n",
              "      <th>robert bosch gmbh</th>\n",
              "      <td>329</td>\n",
              "    </tr>\n",
              "    <tr>\n",
              "      <th>hitachi automotive systems ltd</th>\n",
              "      <td>293</td>\n",
              "    </tr>\n",
              "    <tr>\n",
              "      <th>general motors corporation</th>\n",
              "      <td>221</td>\n",
              "    </tr>\n",
              "    <tr>\n",
              "      <th>lsis co  ltd</th>\n",
              "      <td>213</td>\n",
              "    </tr>\n",
              "  </tbody>\n",
              "</table>\n",
              "</div>"
            ],
            "text/plain": [
              "                                      Assignee\n",
              "Topic Assignee                                \n",
              "False toyota motor corp                   2321\n",
              "      honda motor ltd                     1593\n",
              "      hyundai motor company                955\n",
              "      nissan motor co ltd                  657\n",
              "      mitsubishi motors corp               517\n",
              "      ford global technologies llc         508\n",
              "      robert bosch gmbh                    329\n",
              "      hitachi automotive systems ltd       293\n",
              "      general motors corporation           221\n",
              "      lsis co  ltd                         213"
            ]
          },
          "metadata": {
            "tags": []
          },
          "execution_count": 99
        }
      ]
    },
    {
      "cell_type": "code",
      "metadata": {
        "id": "pQGUCG33ALqV",
        "colab_type": "code",
        "colab": {}
      },
      "source": [
        "d=df\n",
        "d=d[d.Topic==\"topic1\"]"
      ],
      "execution_count": 0,
      "outputs": []
    },
    {
      "cell_type": "code",
      "metadata": {
        "id": "rsA6h4l7ALqW",
        "colab_type": "code",
        "colab": {
          "base_uri": "https://localhost:8080/",
          "height": 34
        },
        "outputId": "32c3bdaf-0917-472c-9ec1-b2a281bc6c33"
      },
      "source": [
        "len(d)"
      ],
      "execution_count": 101,
      "outputs": [
        {
          "output_type": "execute_result",
          "data": {
            "text/plain": [
              "15371"
            ]
          },
          "metadata": {
            "tags": []
          },
          "execution_count": 101
        }
      ]
    },
    {
      "cell_type": "code",
      "metadata": {
        "id": "HeotoUvnALqX",
        "colab_type": "code",
        "colab": {
          "base_uri": "https://localhost:8080/",
          "height": 195
        },
        "outputId": "f3130dfe-e03a-4830-c251-d14ea7f681d4"
      },
      "source": [
        "d[:5]"
      ],
      "execution_count": 102,
      "outputs": [
        {
          "output_type": "execute_result",
          "data": {
            "text/html": [
              "<div>\n",
              "<style scoped>\n",
              "    .dataframe tbody tr th:only-of-type {\n",
              "        vertical-align: middle;\n",
              "    }\n",
              "\n",
              "    .dataframe tbody tr th {\n",
              "        vertical-align: top;\n",
              "    }\n",
              "\n",
              "    .dataframe thead th {\n",
              "        text-align: right;\n",
              "    }\n",
              "</style>\n",
              "<table border=\"1\" class=\"dataframe\">\n",
              "  <thead>\n",
              "    <tr style=\"text-align: right;\">\n",
              "      <th></th>\n",
              "      <th>Topic_Perc_Contrib</th>\n",
              "      <th>Keywords</th>\n",
              "      <th>Assignee</th>\n",
              "      <th>Year</th>\n",
              "      <th>Abstract</th>\n",
              "      <th>Topic</th>\n",
              "    </tr>\n",
              "  </thead>\n",
              "  <tbody>\n",
              "    <tr>\n",
              "      <th>4</th>\n",
              "      <td>0.5670</td>\n",
              "      <td>engine, torque, clutch, mode, speed, motor, ge...</td>\n",
              "      <td>avl list gmbh</td>\n",
              "      <td>2002.0</td>\n",
              "      <td>The invention relates to a module-like constru...</td>\n",
              "      <td>topic1</td>\n",
              "    </tr>\n",
              "    <tr>\n",
              "      <th>5</th>\n",
              "      <td>0.5652</td>\n",
              "      <td>engine, torque, clutch, mode, speed, motor, ge...</td>\n",
              "      <td>avl list gmbh</td>\n",
              "      <td>2002.0</td>\n",
              "      <td>The invention relates to a module-like constru...</td>\n",
              "      <td>topic1</td>\n",
              "    </tr>\n",
              "    <tr>\n",
              "      <th>6</th>\n",
              "      <td>0.4909</td>\n",
              "      <td>engine, torque, clutch, mode, speed, motor, ge...</td>\n",
              "      <td>avl list gmbh</td>\n",
              "      <td>2002.0</td>\n",
              "      <td>The invention relates to a modular internal co...</td>\n",
              "      <td>topic1</td>\n",
              "    </tr>\n",
              "    <tr>\n",
              "      <th>14</th>\n",
              "      <td>0.6535</td>\n",
              "      <td>engine, torque, clutch, mode, speed, motor, ge...</td>\n",
              "      <td>elin energieanwendung gesellschaft m b h</td>\n",
              "      <td>1992.0</td>\n",
              "      <td>The invention is a drive for an electric vehic...</td>\n",
              "      <td>topic1</td>\n",
              "    </tr>\n",
              "    <tr>\n",
              "      <th>18</th>\n",
              "      <td>0.4505</td>\n",
              "      <td>engine, torque, clutch, mode, speed, motor, ge...</td>\n",
              "      <td>i sense pty ltd</td>\n",
              "      <td>2002.0</td>\n",
              "      <td>A gas substitution system for a dual fuel dies...</td>\n",
              "      <td>topic1</td>\n",
              "    </tr>\n",
              "  </tbody>\n",
              "</table>\n",
              "</div>"
            ],
            "text/plain": [
              "    Topic_Perc_Contrib  ...   Topic\n",
              "4               0.5670  ...  topic1\n",
              "5               0.5652  ...  topic1\n",
              "6               0.4909  ...  topic1\n",
              "14              0.6535  ...  topic1\n",
              "18              0.4505  ...  topic1\n",
              "\n",
              "[5 rows x 6 columns]"
            ]
          },
          "metadata": {
            "tags": []
          },
          "execution_count": 102
        }
      ]
    },
    {
      "cell_type": "code",
      "metadata": {
        "id": "gWFUWug_ALqa",
        "colab_type": "code",
        "colab": {}
      },
      "source": [
        "d=d.groupby(['Assignee']).size()"
      ],
      "execution_count": 0,
      "outputs": []
    },
    {
      "cell_type": "code",
      "metadata": {
        "id": "18BddghcALqa",
        "colab_type": "code",
        "colab": {
          "base_uri": "https://localhost:8080/",
          "height": 218
        },
        "outputId": "9448eefe-e616-4df1-ad47-85f307345757"
      },
      "source": [
        "d.sort_values(ascending=False)[:10]"
      ],
      "execution_count": 104,
      "outputs": [
        {
          "output_type": "execute_result",
          "data": {
            "text/plain": [
              "Assignee\n",
              "toyota motor corp                 3359\n",
              "nissan motor co ltd               1247\n",
              "hyundai motor company             1235\n",
              "honda motor ltd                   1069\n",
              "ford global technologies llc       788\n",
              "mitsubishi motors corp             329\n",
              "aisin seiki co ltd                 325\n",
              "robert bosch gmbh                  228\n",
              "hitachi automotive systems ltd     188\n",
              "denso corporation                  178\n",
              "dtype: int64"
            ]
          },
          "metadata": {
            "tags": []
          },
          "execution_count": 104
        }
      ]
    },
    {
      "cell_type": "markdown",
      "metadata": {
        "id": "eNaekC3aALqc",
        "colab_type": "text"
      },
      "source": [
        "**These are top 10 firms using Topic 1**"
      ]
    },
    {
      "cell_type": "markdown",
      "metadata": {
        "id": "ByY1B_1jALqc",
        "colab_type": "text"
      },
      "source": [
        "#### For topic2"
      ]
    },
    {
      "cell_type": "code",
      "metadata": {
        "id": "6p5BEbsYALqc",
        "colab_type": "code",
        "colab": {
          "base_uri": "https://localhost:8080/",
          "height": 34
        },
        "outputId": "f4bd23f2-f798-4e9d-ce78-a860eb375279"
      },
      "source": [
        "k=df\n",
        "k=k[k.Topic==\"topic2\"]\n",
        "len(k)"
      ],
      "execution_count": 105,
      "outputs": [
        {
          "output_type": "execute_result",
          "data": {
            "text/plain": [
              "7647"
            ]
          },
          "metadata": {
            "tags": []
          },
          "execution_count": 105
        }
      ]
    },
    {
      "cell_type": "code",
      "metadata": {
        "id": "CwRqcfp4ALqe",
        "colab_type": "code",
        "colab": {
          "base_uri": "https://localhost:8080/",
          "height": 195
        },
        "outputId": "acbb7a07-fdfb-480c-8e04-9d53ae717e51"
      },
      "source": [
        "k[:5]"
      ],
      "execution_count": 106,
      "outputs": [
        {
          "output_type": "execute_result",
          "data": {
            "text/html": [
              "<div>\n",
              "<style scoped>\n",
              "    .dataframe tbody tr th:only-of-type {\n",
              "        vertical-align: middle;\n",
              "    }\n",
              "\n",
              "    .dataframe tbody tr th {\n",
              "        vertical-align: top;\n",
              "    }\n",
              "\n",
              "    .dataframe thead th {\n",
              "        text-align: right;\n",
              "    }\n",
              "</style>\n",
              "<table border=\"1\" class=\"dataframe\">\n",
              "  <thead>\n",
              "    <tr style=\"text-align: right;\">\n",
              "      <th></th>\n",
              "      <th>Topic_Perc_Contrib</th>\n",
              "      <th>Keywords</th>\n",
              "      <th>Assignee</th>\n",
              "      <th>Year</th>\n",
              "      <th>Abstract</th>\n",
              "      <th>Topic</th>\n",
              "    </tr>\n",
              "  </thead>\n",
              "  <tbody>\n",
              "    <tr>\n",
              "      <th>0</th>\n",
              "      <td>0.3857</td>\n",
              "      <td>voltage, battery, circuit, power, module, dc, ...</td>\n",
              "      <td>luz electric fuel israel ltd</td>\n",
              "      <td>1990.0</td>\n",
              "      <td>An electrical energy system including an elect...</td>\n",
              "      <td>topic2</td>\n",
              "    </tr>\n",
              "    <tr>\n",
              "      <th>1</th>\n",
              "      <td>0.7969</td>\n",
              "      <td>voltage, battery, circuit, power, module, dc, ...</td>\n",
              "      <td>luz electric fuel israel ltd</td>\n",
              "      <td>1990.0</td>\n",
              "      <td>An electrical energy system including an elect...</td>\n",
              "      <td>topic2</td>\n",
              "    </tr>\n",
              "    <tr>\n",
              "      <th>7</th>\n",
              "      <td>0.4658</td>\n",
              "      <td>voltage, battery, circuit, power, module, dc, ...</td>\n",
              "      <td>fronius schweismaschinen produktion gmbh   co ...</td>\n",
              "      <td>1991.0</td>\n",
              "      <td>Charging batteries involves using an external ...</td>\n",
              "      <td>topic2</td>\n",
              "    </tr>\n",
              "    <tr>\n",
              "      <th>9</th>\n",
              "      <td>0.8473</td>\n",
              "      <td>voltage, battery, circuit, power, module, dc, ...</td>\n",
              "      <td>steyr daimler puch ag wien at</td>\n",
              "      <td>1994.0</td>\n",
              "      <td>The regulating circuit has a microprocessor re...</td>\n",
              "      <td>topic2</td>\n",
              "    </tr>\n",
              "    <tr>\n",
              "      <th>12</th>\n",
              "      <td>0.7235</td>\n",
              "      <td>voltage, battery, circuit, power, module, dc, ...</td>\n",
              "      <td>steyr daimler puch aktiengesellschaft</td>\n",
              "      <td>1991.0</td>\n",
              "      <td>A control circuit having a controller provided...</td>\n",
              "      <td>topic2</td>\n",
              "    </tr>\n",
              "  </tbody>\n",
              "</table>\n",
              "</div>"
            ],
            "text/plain": [
              "    Topic_Perc_Contrib  ...   Topic\n",
              "0               0.3857  ...  topic2\n",
              "1               0.7969  ...  topic2\n",
              "7               0.4658  ...  topic2\n",
              "9               0.8473  ...  topic2\n",
              "12              0.7235  ...  topic2\n",
              "\n",
              "[5 rows x 6 columns]"
            ]
          },
          "metadata": {
            "tags": []
          },
          "execution_count": 106
        }
      ]
    },
    {
      "cell_type": "code",
      "metadata": {
        "id": "24Tfwiq0ALqf",
        "colab_type": "code",
        "colab": {
          "base_uri": "https://localhost:8080/",
          "height": 218
        },
        "outputId": "c7ad9737-fa59-43aa-e93b-42bfd855f3dd"
      },
      "source": [
        "k=k.groupby(['Assignee']).size()\n",
        "k.sort_values(ascending=False)[:10]"
      ],
      "execution_count": 107,
      "outputs": [
        {
          "output_type": "execute_result",
          "data": {
            "text/plain": [
              "Assignee\n",
              "toyota motor corp                 568\n",
              "honda motor ltd                   326\n",
              "hyundai motor company             322\n",
              "mitsubishi motors corp            137\n",
              "nissan motor co ltd               130\n",
              "ford global technologies llc      105\n",
              "hitachi automotive systems ltd     92\n",
              "lsis co  ltd                       82\n",
              "sony corporation                   78\n",
              "general electric company           63\n",
              "dtype: int64"
            ]
          },
          "metadata": {
            "tags": []
          },
          "execution_count": 107
        }
      ]
    },
    {
      "cell_type": "markdown",
      "metadata": {
        "id": "5uERrw2lALqh",
        "colab_type": "text"
      },
      "source": [
        "#### For topic 3"
      ]
    },
    {
      "cell_type": "code",
      "metadata": {
        "id": "Ji2QwuIkALqh",
        "colab_type": "code",
        "colab": {
          "base_uri": "https://localhost:8080/",
          "height": 34
        },
        "outputId": "245eaa70-5934-4659-ff51-612e5f97fcf1"
      },
      "source": [
        "e=df\n",
        "e=e[e.Topic==\"topic3\"]\n",
        "len(e)"
      ],
      "execution_count": 108,
      "outputs": [
        {
          "output_type": "execute_result",
          "data": {
            "text/plain": [
              "6455"
            ]
          },
          "metadata": {
            "tags": []
          },
          "execution_count": 108
        }
      ]
    },
    {
      "cell_type": "code",
      "metadata": {
        "id": "Gkzri-BnALqi",
        "colab_type": "code",
        "colab": {
          "base_uri": "https://localhost:8080/",
          "height": 106
        },
        "outputId": "df7df831-5883-4ed9-fa6d-f8953262bdfe"
      },
      "source": [
        "e[:2]"
      ],
      "execution_count": 109,
      "outputs": [
        {
          "output_type": "execute_result",
          "data": {
            "text/html": [
              "<div>\n",
              "<style scoped>\n",
              "    .dataframe tbody tr th:only-of-type {\n",
              "        vertical-align: middle;\n",
              "    }\n",
              "\n",
              "    .dataframe tbody tr th {\n",
              "        vertical-align: top;\n",
              "    }\n",
              "\n",
              "    .dataframe thead th {\n",
              "        text-align: right;\n",
              "    }\n",
              "</style>\n",
              "<table border=\"1\" class=\"dataframe\">\n",
              "  <thead>\n",
              "    <tr style=\"text-align: right;\">\n",
              "      <th></th>\n",
              "      <th>Topic_Perc_Contrib</th>\n",
              "      <th>Keywords</th>\n",
              "      <th>Assignee</th>\n",
              "      <th>Year</th>\n",
              "      <th>Abstract</th>\n",
              "      <th>Topic</th>\n",
              "    </tr>\n",
              "  </thead>\n",
              "  <tbody>\n",
              "    <tr>\n",
              "      <th>2</th>\n",
              "      <td>0.4514</td>\n",
              "      <td>charge, pile, automobile, utility, model, body...</td>\n",
              "      <td>avl list gmbh</td>\n",
              "      <td>2002.0</td>\n",
              "      <td>A piston surface (4) on the combustion chamber...</td>\n",
              "      <td>topic3</td>\n",
              "    </tr>\n",
              "    <tr>\n",
              "      <th>10</th>\n",
              "      <td>0.4512</td>\n",
              "      <td>charge, pile, automobile, utility, model, body...</td>\n",
              "      <td>steyr daimler puch ag wien at</td>\n",
              "      <td>1993.0</td>\n",
              "      <td>A drive unit for an electric vehicle comprises...</td>\n",
              "      <td>topic3</td>\n",
              "    </tr>\n",
              "  </tbody>\n",
              "</table>\n",
              "</div>"
            ],
            "text/plain": [
              "    Topic_Perc_Contrib  ...   Topic\n",
              "2               0.4514  ...  topic3\n",
              "10              0.4512  ...  topic3\n",
              "\n",
              "[2 rows x 6 columns]"
            ]
          },
          "metadata": {
            "tags": []
          },
          "execution_count": 109
        }
      ]
    },
    {
      "cell_type": "code",
      "metadata": {
        "id": "sHeMKtZQALqj",
        "colab_type": "code",
        "colab": {
          "base_uri": "https://localhost:8080/",
          "height": 218
        },
        "outputId": "17354a03-cd1b-40e7-faa4-5b2ca24d9dd9"
      },
      "source": [
        "e=e.groupby(['Assignee']).size()\n",
        "e.sort_values(ascending=False)[:10]"
      ],
      "execution_count": 110,
      "outputs": [
        {
          "output_type": "execute_result",
          "data": {
            "text/plain": [
              "Assignee\n",
              "honda motor ltd                                       387\n",
              "toyota motor corp                                     212\n",
              "nissan motor co ltd                                    99\n",
              "mitsubishi motors corp                                 70\n",
              "ford global technologies llc                           63\n",
              "yamaha hatsudoki kabushiki kaisha                      61\n",
              "state grid corporation of china                        58\n",
              "hyundai motor company                                  57\n",
              "panasonic corporation                                  55\n",
              "korea advanced institute of science and technology     49\n",
              "dtype: int64"
            ]
          },
          "metadata": {
            "tags": []
          },
          "execution_count": 110
        }
      ]
    },
    {
      "cell_type": "markdown",
      "metadata": {
        "id": "_oqsbqoJALql",
        "colab_type": "text"
      },
      "source": [
        "#### For topic4"
      ]
    },
    {
      "cell_type": "code",
      "metadata": {
        "id": "KlrkIxzPALql",
        "colab_type": "code",
        "colab": {
          "base_uri": "https://localhost:8080/",
          "height": 34
        },
        "outputId": "38150cfc-391a-4b87-9e05-cea203a5ede7"
      },
      "source": [
        "f=df\n",
        "f=f[f.Topic==\"topic4\"]\n",
        "len(f)"
      ],
      "execution_count": 111,
      "outputs": [
        {
          "output_type": "execute_result",
          "data": {
            "text/plain": [
              "5195"
            ]
          },
          "metadata": {
            "tags": []
          },
          "execution_count": 111
        }
      ]
    },
    {
      "cell_type": "code",
      "metadata": {
        "id": "e8ZmA7HpALqm",
        "colab_type": "code",
        "colab": {
          "base_uri": "https://localhost:8080/",
          "height": 218
        },
        "outputId": "a24a93e1-eccf-45df-8929-5137706ff354"
      },
      "source": [
        "f=f.groupby(['Assignee']).size()\n",
        "f.sort_values(ascending=False)[:10]"
      ],
      "execution_count": 112,
      "outputs": [
        {
          "output_type": "execute_result",
          "data": {
            "text/plain": [
              "Assignee\n",
              "toyota motor corp                 345\n",
              "mitsubishi motors corp            181\n",
              "honda motor ltd                   177\n",
              "hyundai motor company             143\n",
              "lsis co  ltd                       95\n",
              "nissan motor co ltd                91\n",
              "ford global technologies llc       83\n",
              "general electric company           76\n",
              "denso corporation                  75\n",
              "hitachi automotive systems ltd     52\n",
              "dtype: int64"
            ]
          },
          "metadata": {
            "tags": []
          },
          "execution_count": 112
        }
      ]
    },
    {
      "cell_type": "markdown",
      "metadata": {
        "id": "_pBSHh8NALqn",
        "colab_type": "text"
      },
      "source": [
        "#### For topic5"
      ]
    },
    {
      "cell_type": "code",
      "metadata": {
        "id": "AzR_zJQ3ALqn",
        "colab_type": "code",
        "colab": {
          "base_uri": "https://localhost:8080/",
          "height": 34
        },
        "outputId": "21b22a5e-3a24-42e6-b827-7f25ad3cb8e8"
      },
      "source": [
        "g=df\n",
        "g=g[g.Topic==\"topic5\"]\n",
        "len(g)"
      ],
      "execution_count": 113,
      "outputs": [
        {
          "output_type": "execute_result",
          "data": {
            "text/plain": [
              "4022"
            ]
          },
          "metadata": {
            "tags": []
          },
          "execution_count": 113
        }
      ]
    },
    {
      "cell_type": "code",
      "metadata": {
        "id": "hsJzLw9DALqo",
        "colab_type": "code",
        "colab": {
          "base_uri": "https://localhost:8080/",
          "height": 218
        },
        "outputId": "e3ca44be-6954-4b01-a887-2768f46ab3f4"
      },
      "source": [
        "g=g.groupby(['Assignee']).size()\n",
        "g.sort_values(ascending=False)[:10]"
      ],
      "execution_count": 114,
      "outputs": [
        {
          "output_type": "execute_result",
          "data": {
            "text/plain": [
              "Assignee\n",
              "toyota motor corp                 707\n",
              "honda motor ltd                   266\n",
              "robert bosch gmbh                 229\n",
              "ford global technologies llc      189\n",
              "hyundai motor company             129\n",
              "nissan motor co ltd               120\n",
              "renault sas                        89\n",
              "mitsubishi motors corp             79\n",
              "daimler ag                         73\n",
              "hitachi automotive systems ltd     64\n",
              "dtype: int64"
            ]
          },
          "metadata": {
            "tags": []
          },
          "execution_count": 114
        }
      ]
    },
    {
      "cell_type": "markdown",
      "metadata": {
        "id": "kcCkD2TwALqp",
        "colab_type": "text"
      },
      "source": [
        "#### For topic6"
      ]
    },
    {
      "cell_type": "code",
      "metadata": {
        "id": "4DMtKV21ALqp",
        "colab_type": "code",
        "colab": {
          "base_uri": "https://localhost:8080/",
          "height": 34
        },
        "outputId": "827b00fc-c5aa-4ce5-efe3-4a074d23201b"
      },
      "source": [
        "h=df\n",
        "h=h[h.Topic==\"topic6\"]\n",
        "len(h)"
      ],
      "execution_count": 115,
      "outputs": [
        {
          "output_type": "execute_result",
          "data": {
            "text/plain": [
              "3303"
            ]
          },
          "metadata": {
            "tags": []
          },
          "execution_count": 115
        }
      ]
    },
    {
      "cell_type": "code",
      "metadata": {
        "id": "a3HinqW1ALqp",
        "colab_type": "code",
        "colab": {
          "base_uri": "https://localhost:8080/",
          "height": 218
        },
        "outputId": "30a2d687-08a6-45d7-a98a-792d2f1a4256"
      },
      "source": [
        "h=h.groupby(['Assignee']).size()\n",
        "h.sort_values(ascending=False)[:10]"
      ],
      "execution_count": 116,
      "outputs": [
        {
          "output_type": "execute_result",
          "data": {
            "text/plain": [
              "Assignee\n",
              "toyota motor corp                 428\n",
              "honda motor ltd                   390\n",
              "hyundai motor company             229\n",
              "nissan motor co ltd               152\n",
              "suzuki motor corp                 119\n",
              "mitsubishi motors corp             42\n",
              "ford global technologies llc       42\n",
              "general motors corporation         41\n",
              "renault sas                        35\n",
              "hitachi automotive systems ltd     32\n",
              "dtype: int64"
            ]
          },
          "metadata": {
            "tags": []
          },
          "execution_count": 116
        }
      ]
    },
    {
      "cell_type": "markdown",
      "metadata": {
        "id": "oPTb0LlBALqq",
        "colab_type": "text"
      },
      "source": [
        "#### For topic7"
      ]
    },
    {
      "cell_type": "code",
      "metadata": {
        "id": "ueH_RmhyALqq",
        "colab_type": "code",
        "colab": {
          "base_uri": "https://localhost:8080/",
          "height": 34
        },
        "outputId": "22129473-a603-4539-8913-3bc954d297e0"
      },
      "source": [
        "i=df\n",
        "i=i[i.Topic==\"topic7\"]\n",
        "len(i)"
      ],
      "execution_count": 117,
      "outputs": [
        {
          "output_type": "execute_result",
          "data": {
            "text/plain": [
              "925"
            ]
          },
          "metadata": {
            "tags": []
          },
          "execution_count": 117
        }
      ]
    },
    {
      "cell_type": "code",
      "metadata": {
        "id": "BwwccYBTALqr",
        "colab_type": "code",
        "colab": {
          "base_uri": "https://localhost:8080/",
          "height": 218
        },
        "outputId": "862aaeed-5494-4ff6-aec0-ad4ddcd7b905"
      },
      "source": [
        "i=i.groupby(['Assignee']).size()\n",
        "i.sort_values(ascending=False)[:10]"
      ],
      "execution_count": 118,
      "outputs": [
        {
          "output_type": "execute_result",
          "data": {
            "text/plain": [
              "Assignee\n",
              "nissan motor co ltd                        60\n",
              "toyota motor corp                          52\n",
              "sony corporation                           47\n",
              "honda motor ltd                            24\n",
              "sony corp                                  21\n",
              "hyundai motor company                      19\n",
              "samsung sdi co  ltd                        19\n",
              "matsushita electric industrial co  ltd     12\n",
              "toray industries inc                       12\n",
              "johnson matthey fuel cells limited         10\n",
              "dtype: int64"
            ]
          },
          "metadata": {
            "tags": []
          },
          "execution_count": 118
        }
      ]
    },
    {
      "cell_type": "markdown",
      "metadata": {
        "id": "fbXKyapBALqs",
        "colab_type": "text"
      },
      "source": [
        "#### topic8"
      ]
    },
    {
      "cell_type": "code",
      "metadata": {
        "id": "ny3oZk70ALqs",
        "colab_type": "code",
        "colab": {
          "base_uri": "https://localhost:8080/",
          "height": 34
        },
        "outputId": "fa4836fe-7b22-401d-f070-a6e1eb298216"
      },
      "source": [
        "j=df\n",
        "j=j[j.Topic==\"topic8\"]\n",
        "len(j)"
      ],
      "execution_count": 119,
      "outputs": [
        {
          "output_type": "execute_result",
          "data": {
            "text/plain": [
              "513"
            ]
          },
          "metadata": {
            "tags": []
          },
          "execution_count": 119
        }
      ]
    },
    {
      "cell_type": "code",
      "metadata": {
        "id": "4QTOISamALqt",
        "colab_type": "code",
        "colab": {
          "base_uri": "https://localhost:8080/",
          "height": 218
        },
        "outputId": "aad7dbb5-2a86-42bd-fc60-f16ce5185084"
      },
      "source": [
        "j=j.groupby(['Assignee']).size()\n",
        "j.sort_values(ascending=False)[:10]"
      ],
      "execution_count": 120,
      "outputs": [
        {
          "output_type": "execute_result",
          "data": {
            "text/plain": [
              "Assignee\n",
              "hyundai motor company                                 56\n",
              "ford global technologies llc                          23\n",
              "honda motor ltd                                       23\n",
              "hitachi automotive systems ltd                        16\n",
              "future motion inc                                     14\n",
              "textron inc                                           11\n",
              "robert bosch gmbh                                     11\n",
              "qualcomm incorporated                                  9\n",
              "toyota motor corp                                      9\n",
              "korea advanced institute of science and technology     8\n",
              "dtype: int64"
            ]
          },
          "metadata": {
            "tags": []
          },
          "execution_count": 120
        }
      ]
    },
    {
      "cell_type": "markdown",
      "metadata": {
        "id": "OuwF4n1DALqu",
        "colab_type": "text"
      },
      "source": [
        "### **Using crosstab**"
      ]
    },
    {
      "cell_type": "code",
      "metadata": {
        "id": "PO1RuVEmALqu",
        "colab_type": "code",
        "colab": {
          "base_uri": "https://localhost:8080/",
          "height": 370
        },
        "outputId": "11f4b885-5596-4a2e-da30-26b47d0eec5e"
      },
      "source": [
        "df.Assignee.value_counts()[:20]"
      ],
      "execution_count": 121,
      "outputs": [
        {
          "output_type": "execute_result",
          "data": {
            "text/plain": [
              "toyota motor corp                 5680\n",
              "honda motor ltd                   2662\n",
              "hyundai motor company             2190\n",
              "nissan motor co ltd               1904\n",
              "ford global technologies llc      1296\n",
              "mitsubishi motors corp             846\n",
              "robert bosch gmbh                  557\n",
              "hitachi automotive systems ltd     481\n",
              "aisin seiki co ltd                 405\n",
              "denso corporation                  380\n",
              "suzuki motor corp                  359\n",
              "general motors corporation         346\n",
              "renault sas                        287\n",
              "peugeot citroen automobiles sa     244\n",
              "lsis co  ltd                       222\n",
              "daimler ag                         212\n",
              "panasonic corporation              198\n",
              "mazda motor corp                   194\n",
              "sony corporation                   192\n",
              "general electric company           183\n",
              "Name: Assignee, dtype: int64"
            ]
          },
          "metadata": {
            "tags": []
          },
          "execution_count": 121
        }
      ]
    },
    {
      "cell_type": "code",
      "metadata": {
        "id": "mpW3ggKMALqv",
        "colab_type": "code",
        "colab": {
          "base_uri": "https://localhost:8080/",
          "height": 195
        },
        "outputId": "46af89cf-6e4b-4efb-85d3-5a136f6ff5ec"
      },
      "source": [
        "w=df\n",
        "w=w[w.Assignee==\"toyota motor corp\"]\n",
        "w[:5]"
      ],
      "execution_count": 122,
      "outputs": [
        {
          "output_type": "execute_result",
          "data": {
            "text/html": [
              "<div>\n",
              "<style scoped>\n",
              "    .dataframe tbody tr th:only-of-type {\n",
              "        vertical-align: middle;\n",
              "    }\n",
              "\n",
              "    .dataframe tbody tr th {\n",
              "        vertical-align: top;\n",
              "    }\n",
              "\n",
              "    .dataframe thead th {\n",
              "        text-align: right;\n",
              "    }\n",
              "</style>\n",
              "<table border=\"1\" class=\"dataframe\">\n",
              "  <thead>\n",
              "    <tr style=\"text-align: right;\">\n",
              "      <th></th>\n",
              "      <th>Topic_Perc_Contrib</th>\n",
              "      <th>Keywords</th>\n",
              "      <th>Assignee</th>\n",
              "      <th>Year</th>\n",
              "      <th>Abstract</th>\n",
              "      <th>Topic</th>\n",
              "    </tr>\n",
              "  </thead>\n",
              "  <tbody>\n",
              "    <tr>\n",
              "      <th>1084</th>\n",
              "      <td>0.8502</td>\n",
              "      <td>engine, torque, clutch, mode, speed, motor, ge...</td>\n",
              "      <td>toyota motor corp</td>\n",
              "      <td>1997.0</td>\n",
              "      <td>PROBLEM TO BE SOLVED: To provide a power gener...</td>\n",
              "      <td>topic1</td>\n",
              "    </tr>\n",
              "    <tr>\n",
              "      <th>1092</th>\n",
              "      <td>0.6745</td>\n",
              "      <td>engine, torque, clutch, mode, speed, motor, ge...</td>\n",
              "      <td>toyota motor corp</td>\n",
              "      <td>1993.0</td>\n",
              "      <td>PURPOSE:To prevent overcharge or overdischarge...</td>\n",
              "      <td>topic1</td>\n",
              "    </tr>\n",
              "    <tr>\n",
              "      <th>1093</th>\n",
              "      <td>0.6591</td>\n",
              "      <td>voltage, battery, circuit, power, module, dc, ...</td>\n",
              "      <td>toyota motor corp</td>\n",
              "      <td>1994.0</td>\n",
              "      <td>PURPOSE:To prevent a large discharge current f...</td>\n",
              "      <td>topic2</td>\n",
              "    </tr>\n",
              "    <tr>\n",
              "      <th>1094</th>\n",
              "      <td>0.8237</td>\n",
              "      <td>engine, torque, clutch, mode, speed, motor, ge...</td>\n",
              "      <td>toyota motor corp</td>\n",
              "      <td>1997.0</td>\n",
              "      <td>PROBLEM TO BE SOLVED: To control the driving t...</td>\n",
              "      <td>topic1</td>\n",
              "    </tr>\n",
              "    <tr>\n",
              "      <th>1095</th>\n",
              "      <td>0.8278</td>\n",
              "      <td>engine, torque, clutch, mode, speed, motor, ge...</td>\n",
              "      <td>toyota motor corp</td>\n",
              "      <td>1999.0</td>\n",
              "      <td>In a planetary gear unit 120, a planetary carr...</td>\n",
              "      <td>topic1</td>\n",
              "    </tr>\n",
              "  </tbody>\n",
              "</table>\n",
              "</div>"
            ],
            "text/plain": [
              "      Topic_Perc_Contrib  ...   Topic\n",
              "1084              0.8502  ...  topic1\n",
              "1092              0.6745  ...  topic1\n",
              "1093              0.6591  ...  topic2\n",
              "1094              0.8237  ...  topic1\n",
              "1095              0.8278  ...  topic1\n",
              "\n",
              "[5 rows x 6 columns]"
            ]
          },
          "metadata": {
            "tags": []
          },
          "execution_count": 122
        }
      ]
    },
    {
      "cell_type": "code",
      "metadata": {
        "id": "ULmKFipvALqw",
        "colab_type": "code",
        "colab": {
          "base_uri": "https://localhost:8080/",
          "height": 34
        },
        "outputId": "0576ca6e-0c1a-47c8-f318-04c42d684021"
      },
      "source": [
        "len(w)"
      ],
      "execution_count": 123,
      "outputs": [
        {
          "output_type": "execute_result",
          "data": {
            "text/plain": [
              "5680"
            ]
          },
          "metadata": {
            "tags": []
          },
          "execution_count": 123
        }
      ]
    },
    {
      "cell_type": "code",
      "metadata": {
        "id": "RWETodFQALqx",
        "colab_type": "code",
        "colab": {
          "base_uri": "https://localhost:8080/",
          "height": 136
        },
        "outputId": "e141fee8-e26c-42bd-bf8c-b0729fab4ad8"
      },
      "source": [
        "pd.crosstab(df.Assignee==\"toyota motor corp\", df.Topic)"
      ],
      "execution_count": 124,
      "outputs": [
        {
          "output_type": "execute_result",
          "data": {
            "text/html": [
              "<div>\n",
              "<style scoped>\n",
              "    .dataframe tbody tr th:only-of-type {\n",
              "        vertical-align: middle;\n",
              "    }\n",
              "\n",
              "    .dataframe tbody tr th {\n",
              "        vertical-align: top;\n",
              "    }\n",
              "\n",
              "    .dataframe thead th {\n",
              "        text-align: right;\n",
              "    }\n",
              "</style>\n",
              "<table border=\"1\" class=\"dataframe\">\n",
              "  <thead>\n",
              "    <tr style=\"text-align: right;\">\n",
              "      <th>Topic</th>\n",
              "      <th>topic1</th>\n",
              "      <th>topic2</th>\n",
              "      <th>topic3</th>\n",
              "      <th>topic4</th>\n",
              "      <th>topic5</th>\n",
              "      <th>topic6</th>\n",
              "      <th>topic7</th>\n",
              "      <th>topic8</th>\n",
              "    </tr>\n",
              "    <tr>\n",
              "      <th>Assignee</th>\n",
              "      <th></th>\n",
              "      <th></th>\n",
              "      <th></th>\n",
              "      <th></th>\n",
              "      <th></th>\n",
              "      <th></th>\n",
              "      <th></th>\n",
              "      <th></th>\n",
              "    </tr>\n",
              "  </thead>\n",
              "  <tbody>\n",
              "    <tr>\n",
              "      <th>False</th>\n",
              "      <td>12012</td>\n",
              "      <td>7079</td>\n",
              "      <td>6243</td>\n",
              "      <td>4850</td>\n",
              "      <td>3315</td>\n",
              "      <td>2875</td>\n",
              "      <td>873</td>\n",
              "      <td>504</td>\n",
              "    </tr>\n",
              "    <tr>\n",
              "      <th>True</th>\n",
              "      <td>3359</td>\n",
              "      <td>568</td>\n",
              "      <td>212</td>\n",
              "      <td>345</td>\n",
              "      <td>707</td>\n",
              "      <td>428</td>\n",
              "      <td>52</td>\n",
              "      <td>9</td>\n",
              "    </tr>\n",
              "  </tbody>\n",
              "</table>\n",
              "</div>"
            ],
            "text/plain": [
              "Topic     topic1  topic2  topic3  topic4  topic5  topic6  topic7  topic8\n",
              "Assignee                                                                \n",
              "False      12012    7079    6243    4850    3315    2875     873     504\n",
              "True        3359     568     212     345     707     428      52       9"
            ]
          },
          "metadata": {
            "tags": []
          },
          "execution_count": 124
        }
      ]
    },
    {
      "cell_type": "code",
      "metadata": {
        "id": "YvrhDZFeALqz",
        "colab_type": "code",
        "colab": {
          "base_uri": "https://localhost:8080/",
          "height": 136
        },
        "outputId": "0619c916-15bc-484c-9e00-b2c42230a5b5"
      },
      "source": [
        "pd.crosstab(df.Assignee==\"robert bosch gmbh\", df.Topic)"
      ],
      "execution_count": 125,
      "outputs": [
        {
          "output_type": "execute_result",
          "data": {
            "text/html": [
              "<div>\n",
              "<style scoped>\n",
              "    .dataframe tbody tr th:only-of-type {\n",
              "        vertical-align: middle;\n",
              "    }\n",
              "\n",
              "    .dataframe tbody tr th {\n",
              "        vertical-align: top;\n",
              "    }\n",
              "\n",
              "    .dataframe thead th {\n",
              "        text-align: right;\n",
              "    }\n",
              "</style>\n",
              "<table border=\"1\" class=\"dataframe\">\n",
              "  <thead>\n",
              "    <tr style=\"text-align: right;\">\n",
              "      <th>Topic</th>\n",
              "      <th>topic1</th>\n",
              "      <th>topic2</th>\n",
              "      <th>topic3</th>\n",
              "      <th>topic4</th>\n",
              "      <th>topic5</th>\n",
              "      <th>topic6</th>\n",
              "      <th>topic7</th>\n",
              "      <th>topic8</th>\n",
              "    </tr>\n",
              "    <tr>\n",
              "      <th>Assignee</th>\n",
              "      <th></th>\n",
              "      <th></th>\n",
              "      <th></th>\n",
              "      <th></th>\n",
              "      <th></th>\n",
              "      <th></th>\n",
              "      <th></th>\n",
              "      <th></th>\n",
              "    </tr>\n",
              "  </thead>\n",
              "  <tbody>\n",
              "    <tr>\n",
              "      <th>False</th>\n",
              "      <td>15143</td>\n",
              "      <td>7611</td>\n",
              "      <td>6447</td>\n",
              "      <td>5168</td>\n",
              "      <td>3793</td>\n",
              "      <td>3288</td>\n",
              "      <td>922</td>\n",
              "      <td>502</td>\n",
              "    </tr>\n",
              "    <tr>\n",
              "      <th>True</th>\n",
              "      <td>228</td>\n",
              "      <td>36</td>\n",
              "      <td>8</td>\n",
              "      <td>27</td>\n",
              "      <td>229</td>\n",
              "      <td>15</td>\n",
              "      <td>3</td>\n",
              "      <td>11</td>\n",
              "    </tr>\n",
              "  </tbody>\n",
              "</table>\n",
              "</div>"
            ],
            "text/plain": [
              "Topic     topic1  topic2  topic3  topic4  topic5  topic6  topic7  topic8\n",
              "Assignee                                                                \n",
              "False      15143    7611    6447    5168    3793    3288     922     502\n",
              "True         228      36       8      27     229      15       3      11"
            ]
          },
          "metadata": {
            "tags": []
          },
          "execution_count": 125
        }
      ]
    },
    {
      "cell_type": "markdown",
      "metadata": {
        "id": "WvxdUcxPALqz",
        "colab_type": "text"
      },
      "source": [
        "# 3)-Share of patents by  technological topics\n",
        "\n",
        "table 3 in paper\n",
        "\n",
        "- As we have decline after 2011. It had highest patents i.e 4594. So we shall take it as base year for current patent share.\n",
        "\n",
        "- For CAGR, we will use 2009-2013(a 5 year period). This is to represent patent sample in a symmetric way."
      ]
    },
    {
      "cell_type": "code",
      "metadata": {
        "id": "uJMMJVtYALq0",
        "colab_type": "code",
        "colab": {}
      },
      "source": [
        "df = pd.read_pickle('work_on_paper.pkl')"
      ],
      "execution_count": 0,
      "outputs": []
    },
    {
      "cell_type": "code",
      "metadata": {
        "id": "hez_FdGZALq0",
        "colab_type": "code",
        "colab": {
          "base_uri": "https://localhost:8080/",
          "height": 195
        },
        "outputId": "afd4c1d1-c6e6-40af-a284-5a2ba13bca6a"
      },
      "source": [
        "df.head()"
      ],
      "execution_count": 127,
      "outputs": [
        {
          "output_type": "execute_result",
          "data": {
            "text/html": [
              "<div>\n",
              "<style scoped>\n",
              "    .dataframe tbody tr th:only-of-type {\n",
              "        vertical-align: middle;\n",
              "    }\n",
              "\n",
              "    .dataframe tbody tr th {\n",
              "        vertical-align: top;\n",
              "    }\n",
              "\n",
              "    .dataframe thead th {\n",
              "        text-align: right;\n",
              "    }\n",
              "</style>\n",
              "<table border=\"1\" class=\"dataframe\">\n",
              "  <thead>\n",
              "    <tr style=\"text-align: right;\">\n",
              "      <th></th>\n",
              "      <th>Topic_Perc_Contrib</th>\n",
              "      <th>Keywords</th>\n",
              "      <th>Assignee</th>\n",
              "      <th>Year</th>\n",
              "      <th>Abstract</th>\n",
              "      <th>Topic</th>\n",
              "    </tr>\n",
              "  </thead>\n",
              "  <tbody>\n",
              "    <tr>\n",
              "      <th>0</th>\n",
              "      <td>0.3857</td>\n",
              "      <td>voltage, battery, circuit, power, module, dc, ...</td>\n",
              "      <td>luz electric fuel israel ltd</td>\n",
              "      <td>1990.0</td>\n",
              "      <td>An electrical energy system including an elect...</td>\n",
              "      <td>topic2</td>\n",
              "    </tr>\n",
              "    <tr>\n",
              "      <th>1</th>\n",
              "      <td>0.7969</td>\n",
              "      <td>voltage, battery, circuit, power, module, dc, ...</td>\n",
              "      <td>luz electric fuel israel ltd</td>\n",
              "      <td>1990.0</td>\n",
              "      <td>An electrical energy system including an elect...</td>\n",
              "      <td>topic2</td>\n",
              "    </tr>\n",
              "    <tr>\n",
              "      <th>2</th>\n",
              "      <td>0.4514</td>\n",
              "      <td>charge, pile, automobile, utility, model, body...</td>\n",
              "      <td>avl list gmbh</td>\n",
              "      <td>2002.0</td>\n",
              "      <td>A piston surface (4) on the combustion chamber...</td>\n",
              "      <td>topic3</td>\n",
              "    </tr>\n",
              "    <tr>\n",
              "      <th>3</th>\n",
              "      <td>0.7163</td>\n",
              "      <td>valve, combustion, fuel, oil, cylinder, pressu...</td>\n",
              "      <td>avl list gmbh</td>\n",
              "      <td>2002.0</td>\n",
              "      <td>During an idling phase, fuel is repeatedly inj...</td>\n",
              "      <td>topic5</td>\n",
              "    </tr>\n",
              "    <tr>\n",
              "      <th>4</th>\n",
              "      <td>0.5670</td>\n",
              "      <td>engine, torque, clutch, mode, speed, motor, ge...</td>\n",
              "      <td>avl list gmbh</td>\n",
              "      <td>2002.0</td>\n",
              "      <td>The invention relates to a module-like constru...</td>\n",
              "      <td>topic1</td>\n",
              "    </tr>\n",
              "  </tbody>\n",
              "</table>\n",
              "</div>"
            ],
            "text/plain": [
              "   Topic_Perc_Contrib  ...   Topic\n",
              "0              0.3857  ...  topic2\n",
              "1              0.7969  ...  topic2\n",
              "2              0.4514  ...  topic3\n",
              "3              0.7163  ...  topic5\n",
              "4              0.5670  ...  topic1\n",
              "\n",
              "[5 rows x 6 columns]"
            ]
          },
          "metadata": {
            "tags": []
          },
          "execution_count": 127
        }
      ]
    },
    {
      "cell_type": "code",
      "metadata": {
        "id": "J1B-MY2oALq1",
        "colab_type": "code",
        "colab": {
          "base_uri": "https://localhost:8080/",
          "height": 319
        },
        "outputId": "4fc813f1-f0b0-4ee0-f692-c6686647567b"
      },
      "source": [
        "# start with 2011 as of base year\n",
        "df.groupby(df.Year==2011).Topic.value_counts(ascending=False)"
      ],
      "execution_count": 128,
      "outputs": [
        {
          "output_type": "execute_result",
          "data": {
            "text/plain": [
              "Year   Topic \n",
              "False  topic1    13856\n",
              "       topic2     6825\n",
              "       topic3     5697\n",
              "       topic4     4313\n",
              "       topic5     3771\n",
              "       topic6     3065\n",
              "       topic7      836\n",
              "       topic8      474\n",
              "True   topic1     1515\n",
              "       topic4      882\n",
              "       topic2      822\n",
              "       topic3      758\n",
              "       topic5      251\n",
              "       topic6      238\n",
              "       topic7       89\n",
              "       topic8       39\n",
              "Name: Topic, dtype: int64"
            ]
          },
          "metadata": {
            "tags": []
          },
          "execution_count": 128
        }
      ]
    },
    {
      "cell_type": "markdown",
      "metadata": {
        "id": "hephl5dRALq2",
        "colab_type": "text"
      },
      "source": [
        "4594 for 2011<br>\n",
        "4594/43431=10.57 %"
      ]
    },
    {
      "cell_type": "markdown",
      "metadata": {
        "id": "z_p98VtDALq2",
        "colab_type": "text"
      },
      "source": [
        "#### Other way using without value_counts i.e multi-indexing"
      ]
    },
    {
      "cell_type": "code",
      "metadata": {
        "id": "ELEzRROMALq2",
        "colab_type": "code",
        "colab": {}
      },
      "source": [
        "filling_year=df['Year']"
      ],
      "execution_count": 0,
      "outputs": []
    },
    {
      "cell_type": "code",
      "metadata": {
        "id": "0cniX5deALq3",
        "colab_type": "code",
        "colab": {
          "base_uri": "https://localhost:8080/",
          "height": 118
        },
        "outputId": "8ec176df-3f4a-4caa-c85a-4e7218822efd"
      },
      "source": [
        "filling_year[:5]"
      ],
      "execution_count": 130,
      "outputs": [
        {
          "output_type": "execute_result",
          "data": {
            "text/plain": [
              "0    1990.0\n",
              "1    1990.0\n",
              "2    2002.0\n",
              "3    2002.0\n",
              "4    2002.0\n",
              "Name: Year, dtype: float64"
            ]
          },
          "metadata": {
            "tags": []
          },
          "execution_count": 130
        }
      ]
    },
    {
      "cell_type": "code",
      "metadata": {
        "id": "9xhghtQGALq3",
        "colab_type": "code",
        "colab": {}
      },
      "source": [
        "filling_year_2011=df[df.Year == 2011.0 ]"
      ],
      "execution_count": 0,
      "outputs": []
    },
    {
      "cell_type": "code",
      "metadata": {
        "id": "13D5S-dSALq5",
        "colab_type": "code",
        "colab": {}
      },
      "source": [
        "appear=filling_year_2011.groupby(['Topic']).size().sort_values(ascending=False)"
      ],
      "execution_count": 0,
      "outputs": []
    },
    {
      "cell_type": "code",
      "metadata": {
        "id": "cWYUiSNgALq6",
        "colab_type": "code",
        "colab": {
          "base_uri": "https://localhost:8080/",
          "height": 314
        },
        "outputId": "e1fac844-aa7b-4e3a-c5a4-6f27d73f98a8"
      },
      "source": [
        "appear_2011 = pd.DataFrame(appear)\n",
        "appear_2011"
      ],
      "execution_count": 133,
      "outputs": [
        {
          "output_type": "execute_result",
          "data": {
            "text/html": [
              "<div>\n",
              "<style scoped>\n",
              "    .dataframe tbody tr th:only-of-type {\n",
              "        vertical-align: middle;\n",
              "    }\n",
              "\n",
              "    .dataframe tbody tr th {\n",
              "        vertical-align: top;\n",
              "    }\n",
              "\n",
              "    .dataframe thead th {\n",
              "        text-align: right;\n",
              "    }\n",
              "</style>\n",
              "<table border=\"1\" class=\"dataframe\">\n",
              "  <thead>\n",
              "    <tr style=\"text-align: right;\">\n",
              "      <th></th>\n",
              "      <th>0</th>\n",
              "    </tr>\n",
              "    <tr>\n",
              "      <th>Topic</th>\n",
              "      <th></th>\n",
              "    </tr>\n",
              "  </thead>\n",
              "  <tbody>\n",
              "    <tr>\n",
              "      <th>topic1</th>\n",
              "      <td>1515</td>\n",
              "    </tr>\n",
              "    <tr>\n",
              "      <th>topic4</th>\n",
              "      <td>882</td>\n",
              "    </tr>\n",
              "    <tr>\n",
              "      <th>topic2</th>\n",
              "      <td>822</td>\n",
              "    </tr>\n",
              "    <tr>\n",
              "      <th>topic3</th>\n",
              "      <td>758</td>\n",
              "    </tr>\n",
              "    <tr>\n",
              "      <th>topic5</th>\n",
              "      <td>251</td>\n",
              "    </tr>\n",
              "    <tr>\n",
              "      <th>topic6</th>\n",
              "      <td>238</td>\n",
              "    </tr>\n",
              "    <tr>\n",
              "      <th>topic7</th>\n",
              "      <td>89</td>\n",
              "    </tr>\n",
              "    <tr>\n",
              "      <th>topic8</th>\n",
              "      <td>39</td>\n",
              "    </tr>\n",
              "  </tbody>\n",
              "</table>\n",
              "</div>"
            ],
            "text/plain": [
              "           0\n",
              "Topic       \n",
              "topic1  1515\n",
              "topic4   882\n",
              "topic2   822\n",
              "topic3   758\n",
              "topic5   251\n",
              "topic6   238\n",
              "topic7    89\n",
              "topic8    39"
            ]
          },
          "metadata": {
            "tags": []
          },
          "execution_count": 133
        }
      ]
    },
    {
      "cell_type": "markdown",
      "metadata": {
        "id": "TCps7a29ALq7",
        "colab_type": "text"
      },
      "source": [
        "### for patent share"
      ]
    },
    {
      "cell_type": "code",
      "metadata": {
        "id": "pnqFj13mALq8",
        "colab_type": "code",
        "colab": {
          "base_uri": "https://localhost:8080/",
          "height": 319
        },
        "outputId": "a84b9563-d986-4f1d-c37b-e3ff3b60e0f1"
      },
      "source": [
        "# for total number \n",
        "\n",
        "df.groupby(df.Year==2011).Topic.value_counts(sort=False)"
      ],
      "execution_count": 134,
      "outputs": [
        {
          "output_type": "execute_result",
          "data": {
            "text/plain": [
              "Year   Topic \n",
              "False  topic1    13856\n",
              "       topic2     6825\n",
              "       topic3     5697\n",
              "       topic4     4313\n",
              "       topic5     3771\n",
              "       topic6     3065\n",
              "       topic7      836\n",
              "       topic8      474\n",
              "True   topic1     1515\n",
              "       topic2      822\n",
              "       topic3      758\n",
              "       topic4      882\n",
              "       topic5      251\n",
              "       topic6      238\n",
              "       topic7       89\n",
              "       topic8       39\n",
              "Name: Topic, dtype: int64"
            ]
          },
          "metadata": {
            "tags": []
          },
          "execution_count": 134
        }
      ]
    },
    {
      "cell_type": "code",
      "metadata": {
        "id": "hoWlM3gbALq9",
        "colab_type": "code",
        "colab": {
          "base_uri": "https://localhost:8080/",
          "height": 319
        },
        "outputId": "a7e88ea7-57bf-4dfd-e444-2633dd01d064"
      },
      "source": [
        "df.groupby(df.Year==2011).Topic.value_counts(normalize=True, sort=False)"
      ],
      "execution_count": 135,
      "outputs": [
        {
          "output_type": "execute_result",
          "data": {
            "text/plain": [
              "Year   Topic \n",
              "False  topic1    0.356773\n",
              "       topic2    0.175734\n",
              "       topic3    0.146690\n",
              "       topic4    0.111054\n",
              "       topic5    0.097098\n",
              "       topic6    0.078920\n",
              "       topic7    0.021526\n",
              "       topic8    0.012205\n",
              "True   topic1    0.329778\n",
              "       topic2    0.178929\n",
              "       topic3    0.164998\n",
              "       topic4    0.191990\n",
              "       topic5    0.054636\n",
              "       topic6    0.051807\n",
              "       topic7    0.019373\n",
              "       topic8    0.008489\n",
              "Name: Topic, dtype: float64"
            ]
          },
          "metadata": {
            "tags": []
          },
          "execution_count": 135
        }
      ]
    },
    {
      "cell_type": "code",
      "metadata": {
        "id": "owFpMx9MALq_",
        "colab_type": "code",
        "colab": {
          "base_uri": "https://localhost:8080/",
          "height": 84
        },
        "outputId": "73e01809-b165-4934-ffb1-9d0724e4bf0c"
      },
      "source": [
        "df.groupby(df.Year==2011).Topic.count()"
      ],
      "execution_count": 136,
      "outputs": [
        {
          "output_type": "execute_result",
          "data": {
            "text/plain": [
              "Year\n",
              "False    38837\n",
              "True      4594\n",
              "Name: Topic, dtype: int64"
            ]
          },
          "metadata": {
            "tags": []
          },
          "execution_count": 136
        }
      ]
    },
    {
      "cell_type": "markdown",
      "metadata": {
        "id": "2r7C4rPyALrA",
        "colab_type": "text"
      },
      "source": [
        "**Total patents in 2011 are 4594**\n",
        "\n",
        "- Let's varify : \n",
        "\n",
        "topic1= 1515/4594= 0.3297.....hence Correct"
      ]
    },
    {
      "cell_type": "markdown",
      "metadata": {
        "id": "Q_a6vfVsALrA",
        "colab_type": "text"
      },
      "source": [
        "### Calculate CAGR\n",
        "https://www.investopedia.com/terms/c/cagr.asp\n",
        "\n",
        "We will consider years from 2010-2014"
      ]
    },
    {
      "cell_type": "code",
      "metadata": {
        "id": "jpHxZevwALrA",
        "colab_type": "code",
        "colab": {
          "base_uri": "https://localhost:8080/",
          "height": 34
        },
        "outputId": "16923cd9-4e96-40fc-9de7-67b2df5e6890"
      },
      "source": [
        "len(df[df.Year== 2010])"
      ],
      "execution_count": 137,
      "outputs": [
        {
          "output_type": "execute_result",
          "data": {
            "text/plain": [
              "3454"
            ]
          },
          "metadata": {
            "tags": []
          },
          "execution_count": 137
        }
      ]
    },
    {
      "cell_type": "code",
      "metadata": {
        "id": "-apcuUHnALrB",
        "colab_type": "code",
        "colab": {
          "base_uri": "https://localhost:8080/",
          "height": 319
        },
        "outputId": "c867130d-9d49-4b89-8696-466044e439fe"
      },
      "source": [
        "df.groupby(df.Year==2010).Topic.value_counts(sort=False)"
      ],
      "execution_count": 138,
      "outputs": [
        {
          "output_type": "execute_result",
          "data": {
            "text/plain": [
              "Year   Topic \n",
              "False  topic1    14208\n",
              "       topic2     7081\n",
              "       topic3     5910\n",
              "       topic4     4589\n",
              "       topic5     3732\n",
              "       topic6     3106\n",
              "       topic7      877\n",
              "       topic8      474\n",
              "True   topic1     1163\n",
              "       topic2      566\n",
              "       topic3      545\n",
              "       topic4      606\n",
              "       topic5      290\n",
              "       topic6      197\n",
              "       topic7       48\n",
              "       topic8       39\n",
              "Name: Topic, dtype: int64"
            ]
          },
          "metadata": {
            "tags": []
          },
          "execution_count": 138
        }
      ]
    },
    {
      "cell_type": "code",
      "metadata": {
        "id": "p7TkZIfUALrC",
        "colab_type": "code",
        "colab": {
          "base_uri": "https://localhost:8080/",
          "height": 319
        },
        "outputId": "2b7b1f46-03aa-47e9-ee2b-b69b79aaddfa"
      },
      "source": [
        "df.groupby(df.Year==2010).Topic.value_counts(normalize=True, sort=False)"
      ],
      "execution_count": 139,
      "outputs": [
        {
          "output_type": "execute_result",
          "data": {
            "text/plain": [
              "Year   Topic \n",
              "False  topic1    0.355404\n",
              "       topic2    0.177127\n",
              "       topic3    0.147835\n",
              "       topic4    0.114791\n",
              "       topic5    0.093354\n",
              "       topic6    0.077695\n",
              "       topic7    0.021938\n",
              "       topic8    0.011857\n",
              "True   topic1    0.336711\n",
              "       topic2    0.163868\n",
              "       topic3    0.157788\n",
              "       topic4    0.175449\n",
              "       topic5    0.083961\n",
              "       topic6    0.057035\n",
              "       topic7    0.013897\n",
              "       topic8    0.011291\n",
              "Name: Topic, dtype: float64"
            ]
          },
          "metadata": {
            "tags": []
          },
          "execution_count": 139
        }
      ]
    },
    {
      "cell_type": "markdown",
      "metadata": {
        "id": "AiayeobUALrC",
        "colab_type": "text"
      },
      "source": [
        "Initial values for patent share are given "
      ]
    },
    {
      "cell_type": "code",
      "metadata": {
        "id": "CBSJtcAFALrD",
        "colab_type": "code",
        "colab": {
          "base_uri": "https://localhost:8080/",
          "height": 34
        },
        "outputId": "4181e32b-b823-4549-8d1a-0aaac36a0341"
      },
      "source": [
        "len(df[df.Year== 2014])"
      ],
      "execution_count": 140,
      "outputs": [
        {
          "output_type": "execute_result",
          "data": {
            "text/plain": [
              "3069"
            ]
          },
          "metadata": {
            "tags": []
          },
          "execution_count": 140
        }
      ]
    },
    {
      "cell_type": "code",
      "metadata": {
        "id": "lEqJgQAdALrD",
        "colab_type": "code",
        "colab": {
          "base_uri": "https://localhost:8080/",
          "height": 319
        },
        "outputId": "8f96120b-0f14-414a-bb7b-54a23059db18"
      },
      "source": [
        "df.groupby(df.Year==2014).Topic.value_counts(sort=False)"
      ],
      "execution_count": 143,
      "outputs": [
        {
          "output_type": "execute_result",
          "data": {
            "text/plain": [
              "Year   Topic \n",
              "False  topic1    14299\n",
              "       topic2     7017\n",
              "       topic3     5926\n",
              "       topic4     4850\n",
              "       topic5     3795\n",
              "       topic6     3110\n",
              "       topic7      899\n",
              "       topic8      466\n",
              "True   topic1     1072\n",
              "       topic2      630\n",
              "       topic3      529\n",
              "       topic4      345\n",
              "       topic5      227\n",
              "       topic6      193\n",
              "       topic7       26\n",
              "       topic8       47\n",
              "Name: Topic, dtype: int64"
            ]
          },
          "metadata": {
            "tags": []
          },
          "execution_count": 143
        }
      ]
    },
    {
      "cell_type": "code",
      "metadata": {
        "id": "FOHrkSeOMRez",
        "colab_type": "code",
        "colab": {
          "base_uri": "https://localhost:8080/",
          "height": 319
        },
        "outputId": "46eef5dd-123e-4e94-a05b-da37ba002e21"
      },
      "source": [
        "df.groupby(df.Year==2014).Topic.value_counts(normalize=True, sort=False)"
      ],
      "execution_count": 142,
      "outputs": [
        {
          "output_type": "execute_result",
          "data": {
            "text/plain": [
              "Year   Topic \n",
              "False  topic1    0.354269\n",
              "       topic2    0.173852\n",
              "       topic3    0.146821\n",
              "       topic4    0.120163\n",
              "       topic5    0.094024\n",
              "       topic6    0.077053\n",
              "       topic7    0.022273\n",
              "       topic8    0.011546\n",
              "True   topic1    0.349299\n",
              "       topic2    0.205279\n",
              "       topic3    0.172369\n",
              "       topic4    0.112414\n",
              "       topic5    0.073965\n",
              "       topic6    0.062887\n",
              "       topic7    0.008472\n",
              "       topic8    0.015314\n",
              "Name: Topic, dtype: float64"
            ]
          },
          "metadata": {
            "tags": []
          },
          "execution_count": 142
        }
      ]
    },
    {
      "cell_type": "markdown",
      "metadata": {
        "id": "fuZIWm-ia5l-",
        "colab_type": "text"
      },
      "source": [
        "**More exploring of CGAR with 2009-2013**"
      ]
    },
    {
      "cell_type": "code",
      "metadata": {
        "id": "t90YRe1ibQie",
        "colab_type": "code",
        "colab": {
          "base_uri": "https://localhost:8080/",
          "height": 34
        },
        "outputId": "4b292409-079c-4200-afba-d7924a5f99bb"
      },
      "source": [
        "len(df[df.Year== 2009])"
      ],
      "execution_count": 147,
      "outputs": [
        {
          "output_type": "execute_result",
          "data": {
            "text/plain": [
              "2584"
            ]
          },
          "metadata": {
            "tags": []
          },
          "execution_count": 147
        }
      ]
    },
    {
      "cell_type": "code",
      "metadata": {
        "id": "xgqzXg0Wa-K3",
        "colab_type": "code",
        "colab": {
          "base_uri": "https://localhost:8080/",
          "height": 319
        },
        "outputId": "92dab2df-16a9-44c9-9414-eafc928b7143"
      },
      "source": [
        "df.groupby(df.Year==2009).Topic.value_counts(normalize=True, sort=False)"
      ],
      "execution_count": 146,
      "outputs": [
        {
          "output_type": "execute_result",
          "data": {
            "text/plain": [
              "Year   Topic \n",
              "False  topic1    0.355424\n",
              "       topic2    0.174872\n",
              "       topic3    0.147722\n",
              "       topic4    0.118050\n",
              "       topic5    0.094132\n",
              "       topic6    0.077044\n",
              "       topic7    0.021250\n",
              "       topic8    0.011506\n",
              "True   topic1    0.330108\n",
              "       topic2    0.195046\n",
              "       topic3    0.162926\n",
              "       topic4    0.144350\n",
              "       topic5    0.068498\n",
              "       topic6    0.060372\n",
              "       topic7    0.022059\n",
              "       topic8    0.016641\n",
              "Name: Topic, dtype: float64"
            ]
          },
          "metadata": {
            "tags": []
          },
          "execution_count": 146
        }
      ]
    },
    {
      "cell_type": "code",
      "metadata": {
        "id": "0wL6PvnnbTAe",
        "colab_type": "code",
        "colab": {
          "base_uri": "https://localhost:8080/",
          "height": 34
        },
        "outputId": "24d5c1f4-c161-4667-d2d3-bc12fafba554"
      },
      "source": [
        "len(df[df.Year== 2013])"
      ],
      "execution_count": 148,
      "outputs": [
        {
          "output_type": "execute_result",
          "data": {
            "text/plain": [
              "3507"
            ]
          },
          "metadata": {
            "tags": []
          },
          "execution_count": 148
        }
      ]
    },
    {
      "cell_type": "code",
      "metadata": {
        "id": "sQfn0I93a-IK",
        "colab_type": "code",
        "colab": {
          "base_uri": "https://localhost:8080/",
          "height": 319
        },
        "outputId": "275a2266-939f-4495-ee2c-ed0b23044a98"
      },
      "source": [
        "df.groupby(df.Year==2013).Topic.value_counts(normalize=True, sort=False)"
      ],
      "execution_count": 145,
      "outputs": [
        {
          "output_type": "execute_result",
          "data": {
            "text/plain": [
              "Year   Topic \n",
              "False  topic1    0.352219\n",
              "       topic2    0.173179\n",
              "       topic3    0.149208\n",
              "       topic4    0.117999\n",
              "       topic5    0.095557\n",
              "       topic6    0.078825\n",
              "       topic7    0.021491\n",
              "       topic8    0.011522\n",
              "True   topic1    0.373253\n",
              "       topic2    0.209011\n",
              "       topic3    0.142002\n",
              "       topic4    0.138010\n",
              "       topic5    0.059025\n",
              "       topic6    0.044482\n",
              "       topic7    0.019105\n",
              "       topic8    0.015113\n",
              "Name: Topic, dtype: float64"
            ]
          },
          "metadata": {
            "tags": []
          },
          "execution_count": 145
        }
      ]
    },
    {
      "cell_type": "markdown",
      "metadata": {
        "id": "-MQD_uvpALrG",
        "colab_type": "text"
      },
      "source": [
        "# 4)-Adding topic types as per topic\n",
        "\n",
        "Table 6: Major assignee by topic type"
      ]
    },
    {
      "cell_type": "code",
      "metadata": {
        "id": "6ppS17b-ALrH",
        "colab_type": "code",
        "colab": {}
      },
      "source": [
        "df = pd.read_pickle('work_on_paper.pkl')"
      ],
      "execution_count": 0,
      "outputs": []
    },
    {
      "cell_type": "code",
      "metadata": {
        "scrolled": true,
        "id": "oiRNflnOALrH",
        "colab_type": "code",
        "colab": {
          "base_uri": "https://localhost:8080/",
          "height": 195
        },
        "outputId": "a743c9ab-b459-41c9-b191-e824d7171864"
      },
      "source": [
        "df.head()"
      ],
      "execution_count": 152,
      "outputs": [
        {
          "output_type": "execute_result",
          "data": {
            "text/html": [
              "<div>\n",
              "<style scoped>\n",
              "    .dataframe tbody tr th:only-of-type {\n",
              "        vertical-align: middle;\n",
              "    }\n",
              "\n",
              "    .dataframe tbody tr th {\n",
              "        vertical-align: top;\n",
              "    }\n",
              "\n",
              "    .dataframe thead th {\n",
              "        text-align: right;\n",
              "    }\n",
              "</style>\n",
              "<table border=\"1\" class=\"dataframe\">\n",
              "  <thead>\n",
              "    <tr style=\"text-align: right;\">\n",
              "      <th></th>\n",
              "      <th>Topic_Perc_Contrib</th>\n",
              "      <th>Keywords</th>\n",
              "      <th>Assignee</th>\n",
              "      <th>Year</th>\n",
              "      <th>Abstract</th>\n",
              "      <th>Topic</th>\n",
              "    </tr>\n",
              "  </thead>\n",
              "  <tbody>\n",
              "    <tr>\n",
              "      <th>0</th>\n",
              "      <td>0.3857</td>\n",
              "      <td>voltage, battery, circuit, power, module, dc, ...</td>\n",
              "      <td>luz electric fuel israel ltd</td>\n",
              "      <td>1990.0</td>\n",
              "      <td>An electrical energy system including an elect...</td>\n",
              "      <td>topic2</td>\n",
              "    </tr>\n",
              "    <tr>\n",
              "      <th>1</th>\n",
              "      <td>0.7969</td>\n",
              "      <td>voltage, battery, circuit, power, module, dc, ...</td>\n",
              "      <td>luz electric fuel israel ltd</td>\n",
              "      <td>1990.0</td>\n",
              "      <td>An electrical energy system including an elect...</td>\n",
              "      <td>topic2</td>\n",
              "    </tr>\n",
              "    <tr>\n",
              "      <th>2</th>\n",
              "      <td>0.4514</td>\n",
              "      <td>charge, pile, automobile, utility, model, body...</td>\n",
              "      <td>avl list gmbh</td>\n",
              "      <td>2002.0</td>\n",
              "      <td>A piston surface (4) on the combustion chamber...</td>\n",
              "      <td>topic3</td>\n",
              "    </tr>\n",
              "    <tr>\n",
              "      <th>3</th>\n",
              "      <td>0.7163</td>\n",
              "      <td>valve, combustion, fuel, oil, cylinder, pressu...</td>\n",
              "      <td>avl list gmbh</td>\n",
              "      <td>2002.0</td>\n",
              "      <td>During an idling phase, fuel is repeatedly inj...</td>\n",
              "      <td>topic5</td>\n",
              "    </tr>\n",
              "    <tr>\n",
              "      <th>4</th>\n",
              "      <td>0.5670</td>\n",
              "      <td>engine, torque, clutch, mode, speed, motor, ge...</td>\n",
              "      <td>avl list gmbh</td>\n",
              "      <td>2002.0</td>\n",
              "      <td>The invention relates to a module-like constru...</td>\n",
              "      <td>topic1</td>\n",
              "    </tr>\n",
              "  </tbody>\n",
              "</table>\n",
              "</div>"
            ],
            "text/plain": [
              "   Topic_Perc_Contrib  ...   Topic\n",
              "0              0.3857  ...  topic2\n",
              "1              0.7969  ...  topic2\n",
              "2              0.4514  ...  topic3\n",
              "3              0.7163  ...  topic5\n",
              "4              0.5670  ...  topic1\n",
              "\n",
              "[5 rows x 6 columns]"
            ]
          },
          "metadata": {
            "tags": []
          },
          "execution_count": 152
        }
      ]
    },
    {
      "cell_type": "markdown",
      "metadata": {
        "id": "-ivxgWS5ALrI",
        "colab_type": "text"
      },
      "source": [
        "### a)Adding Ecosystem concepts\n",
        "Focal, component and complementory"
      ]
    },
    {
      "cell_type": "code",
      "metadata": {
        "id": "qGJ6jJl3ALrK",
        "colab_type": "code",
        "colab": {}
      },
      "source": [
        "df['ecosystem']=df.Topic.map({'topic1':'focal-tech', 'topic5':'focal-tech', 'topic6': 'focal-tech', 'topic7':'focal-tech','topic8':'focal-tech', \n",
        "                              'topic2':'component-tech', 'topic3': 'component-tech', 'topic4':'complementory-tech'})"
      ],
      "execution_count": 0,
      "outputs": []
    },
    {
      "cell_type": "code",
      "metadata": {
        "id": "8uzKWg7uALrL",
        "colab_type": "code",
        "colab": {
          "base_uri": "https://localhost:8080/",
          "height": 84
        },
        "outputId": "63faa5f6-0cc2-4060-943e-88e36409dc5c"
      },
      "source": [
        "df.ecosystem.value_counts()"
      ],
      "execution_count": 154,
      "outputs": [
        {
          "output_type": "execute_result",
          "data": {
            "text/plain": [
              "focal-tech            24134\n",
              "component-tech        14102\n",
              "complementory-tech     5195\n",
              "Name: ecosystem, dtype: int64"
            ]
          },
          "metadata": {
            "tags": []
          },
          "execution_count": 154
        }
      ]
    },
    {
      "cell_type": "code",
      "metadata": {
        "id": "ybTU44sRALrM",
        "colab_type": "code",
        "colab": {}
      },
      "source": [
        "df.to_pickle('ecosystem_topic.pkl')"
      ],
      "execution_count": 0,
      "outputs": []
    },
    {
      "cell_type": "markdown",
      "metadata": {
        "id": "eNAM3EdhALrN",
        "colab_type": "text"
      },
      "source": [
        "# 5- Figure 6. Major assignees by Ecosystem types."
      ]
    },
    {
      "cell_type": "code",
      "metadata": {
        "id": "EdpVKGXEqreI",
        "colab_type": "code",
        "colab": {}
      },
      "source": [
        "df_ecosystem = pd.read_pickle('ecosystem_topic.pkl')"
      ],
      "execution_count": 0,
      "outputs": []
    },
    {
      "cell_type": "code",
      "metadata": {
        "id": "VVy7AZkjrBs3",
        "colab_type": "code",
        "colab": {
          "base_uri": "https://localhost:8080/",
          "height": 195
        },
        "outputId": "864964f4-d606-4c1f-f1b2-b222c70e8d42"
      },
      "source": [
        "df_ecosystem.head()"
      ],
      "execution_count": 162,
      "outputs": [
        {
          "output_type": "execute_result",
          "data": {
            "text/html": [
              "<div>\n",
              "<style scoped>\n",
              "    .dataframe tbody tr th:only-of-type {\n",
              "        vertical-align: middle;\n",
              "    }\n",
              "\n",
              "    .dataframe tbody tr th {\n",
              "        vertical-align: top;\n",
              "    }\n",
              "\n",
              "    .dataframe thead th {\n",
              "        text-align: right;\n",
              "    }\n",
              "</style>\n",
              "<table border=\"1\" class=\"dataframe\">\n",
              "  <thead>\n",
              "    <tr style=\"text-align: right;\">\n",
              "      <th></th>\n",
              "      <th>Topic_Perc_Contrib</th>\n",
              "      <th>Keywords</th>\n",
              "      <th>Assignee</th>\n",
              "      <th>Year</th>\n",
              "      <th>Abstract</th>\n",
              "      <th>Topic</th>\n",
              "      <th>ecosystem</th>\n",
              "    </tr>\n",
              "  </thead>\n",
              "  <tbody>\n",
              "    <tr>\n",
              "      <th>0</th>\n",
              "      <td>0.3857</td>\n",
              "      <td>voltage, battery, circuit, power, module, dc, ...</td>\n",
              "      <td>luz electric fuel israel ltd</td>\n",
              "      <td>1990.0</td>\n",
              "      <td>An electrical energy system including an elect...</td>\n",
              "      <td>topic2</td>\n",
              "      <td>component-tech</td>\n",
              "    </tr>\n",
              "    <tr>\n",
              "      <th>1</th>\n",
              "      <td>0.7969</td>\n",
              "      <td>voltage, battery, circuit, power, module, dc, ...</td>\n",
              "      <td>luz electric fuel israel ltd</td>\n",
              "      <td>1990.0</td>\n",
              "      <td>An electrical energy system including an elect...</td>\n",
              "      <td>topic2</td>\n",
              "      <td>component-tech</td>\n",
              "    </tr>\n",
              "    <tr>\n",
              "      <th>2</th>\n",
              "      <td>0.4514</td>\n",
              "      <td>charge, pile, automobile, utility, model, body...</td>\n",
              "      <td>avl list gmbh</td>\n",
              "      <td>2002.0</td>\n",
              "      <td>A piston surface (4) on the combustion chamber...</td>\n",
              "      <td>topic3</td>\n",
              "      <td>component-tech</td>\n",
              "    </tr>\n",
              "    <tr>\n",
              "      <th>3</th>\n",
              "      <td>0.7163</td>\n",
              "      <td>valve, combustion, fuel, oil, cylinder, pressu...</td>\n",
              "      <td>avl list gmbh</td>\n",
              "      <td>2002.0</td>\n",
              "      <td>During an idling phase, fuel is repeatedly inj...</td>\n",
              "      <td>topic5</td>\n",
              "      <td>focal-tech</td>\n",
              "    </tr>\n",
              "    <tr>\n",
              "      <th>4</th>\n",
              "      <td>0.5670</td>\n",
              "      <td>engine, torque, clutch, mode, speed, motor, ge...</td>\n",
              "      <td>avl list gmbh</td>\n",
              "      <td>2002.0</td>\n",
              "      <td>The invention relates to a module-like constru...</td>\n",
              "      <td>topic1</td>\n",
              "      <td>focal-tech</td>\n",
              "    </tr>\n",
              "  </tbody>\n",
              "</table>\n",
              "</div>"
            ],
            "text/plain": [
              "   Topic_Perc_Contrib  ...       ecosystem\n",
              "0              0.3857  ...  component-tech\n",
              "1              0.7969  ...  component-tech\n",
              "2              0.4514  ...  component-tech\n",
              "3              0.7163  ...      focal-tech\n",
              "4              0.5670  ...      focal-tech\n",
              "\n",
              "[5 rows x 7 columns]"
            ]
          },
          "metadata": {
            "tags": []
          },
          "execution_count": 162
        }
      ]
    },
    {
      "cell_type": "code",
      "metadata": {
        "id": "iFty8PsvtOcL",
        "colab_type": "code",
        "colab": {
          "base_uri": "https://localhost:8080/",
          "height": 67
        },
        "outputId": "cc31a04e-e2f8-4acf-9314-658098a7171a"
      },
      "source": [
        "from collections import Counter\n",
        "Counter(df_ecosystem.ecosystem)"
      ],
      "execution_count": 164,
      "outputs": [
        {
          "output_type": "execute_result",
          "data": {
            "text/plain": [
              "Counter({'complementory-tech': 5195,\n",
              "         'component-tech': 14102,\n",
              "         'focal-tech': 24134})"
            ]
          },
          "metadata": {
            "tags": []
          },
          "execution_count": 164
        }
      ]
    },
    {
      "cell_type": "code",
      "metadata": {
        "id": "A_5vBg_wtOZO",
        "colab_type": "code",
        "colab": {}
      },
      "source": [
        "company=df_ecosystem.groupby(df_ecosystem.ecosystem).Assignee.value_counts(dropna=True, sort=True)"
      ],
      "execution_count": 0,
      "outputs": []
    },
    {
      "cell_type": "code",
      "metadata": {
        "id": "ArbqBTQctOWa",
        "colab_type": "code",
        "colab": {
          "base_uri": "https://localhost:8080/",
          "height": 431
        },
        "outputId": "fddb5123-8716-41cb-d625-7cbf971221ff"
      },
      "source": [
        "df_company = pd.DataFrame(company)\n",
        "df_company"
      ],
      "execution_count": 166,
      "outputs": [
        {
          "output_type": "execute_result",
          "data": {
            "text/html": [
              "<div>\n",
              "<style scoped>\n",
              "    .dataframe tbody tr th:only-of-type {\n",
              "        vertical-align: middle;\n",
              "    }\n",
              "\n",
              "    .dataframe tbody tr th {\n",
              "        vertical-align: top;\n",
              "    }\n",
              "\n",
              "    .dataframe thead th {\n",
              "        text-align: right;\n",
              "    }\n",
              "</style>\n",
              "<table border=\"1\" class=\"dataframe\">\n",
              "  <thead>\n",
              "    <tr style=\"text-align: right;\">\n",
              "      <th></th>\n",
              "      <th></th>\n",
              "      <th>Assignee</th>\n",
              "    </tr>\n",
              "    <tr>\n",
              "      <th>ecosystem</th>\n",
              "      <th>Assignee</th>\n",
              "      <th></th>\n",
              "    </tr>\n",
              "  </thead>\n",
              "  <tbody>\n",
              "    <tr>\n",
              "      <th rowspan=\"5\" valign=\"top\">complementory-tech</th>\n",
              "      <th>toyota motor corp</th>\n",
              "      <td>345</td>\n",
              "    </tr>\n",
              "    <tr>\n",
              "      <th>mitsubishi motors corp</th>\n",
              "      <td>181</td>\n",
              "    </tr>\n",
              "    <tr>\n",
              "      <th>honda motor ltd</th>\n",
              "      <td>177</td>\n",
              "    </tr>\n",
              "    <tr>\n",
              "      <th>hyundai motor company</th>\n",
              "      <td>143</td>\n",
              "    </tr>\n",
              "    <tr>\n",
              "      <th>lsis co  ltd</th>\n",
              "      <td>95</td>\n",
              "    </tr>\n",
              "    <tr>\n",
              "      <th>...</th>\n",
              "      <th>...</th>\n",
              "      <td>...</td>\n",
              "    </tr>\n",
              "    <tr>\n",
              "      <th rowspan=\"5\" valign=\"top\">focal-tech</th>\n",
              "      <th>zhou xiaoming</th>\n",
              "      <td>1</td>\n",
              "    </tr>\n",
              "    <tr>\n",
              "      <th>zhou yang</th>\n",
              "      <td>1</td>\n",
              "    </tr>\n",
              "    <tr>\n",
              "      <th>zhu mingzhong</th>\n",
              "      <td>1</td>\n",
              "    </tr>\n",
              "    <tr>\n",
              "      <th>zibo diesel engine parent company</th>\n",
              "      <td>1</td>\n",
              "    </tr>\n",
              "    <tr>\n",
              "      <th>zollner tobias</th>\n",
              "      <td>1</td>\n",
              "    </tr>\n",
              "  </tbody>\n",
              "</table>\n",
              "<p>10727 rows × 1 columns</p>\n",
              "</div>"
            ],
            "text/plain": [
              "                                                      Assignee\n",
              "ecosystem          Assignee                                   \n",
              "complementory-tech toyota motor corp                       345\n",
              "                   mitsubishi motors corp                  181\n",
              "                   honda motor ltd                         177\n",
              "                   hyundai motor company                   143\n",
              "                   lsis co  ltd                             95\n",
              "...                                                        ...\n",
              "focal-tech         zhou xiaoming                             1\n",
              "                   zhou yang                                 1\n",
              "                   zhu mingzhong                             1\n",
              "                   zibo diesel engine parent company         1\n",
              "                   zollner tobias                            1\n",
              "\n",
              "[10727 rows x 1 columns]"
            ]
          },
          "metadata": {
            "tags": []
          },
          "execution_count": 166
        }
      ]
    },
    {
      "cell_type": "markdown",
      "metadata": {
        "id": "OWtF4v4twIGS",
        "colab_type": "text"
      },
      "source": [
        "### 5a)-For a specific \"ecosystem_component\" listing wrt firms"
      ]
    },
    {
      "cell_type": "code",
      "metadata": {
        "id": "mGcfFh7otOTr",
        "colab_type": "code",
        "colab": {}
      },
      "source": [
        "topic_firm=df_ecosystem.groupby([df_ecosystem['ecosystem']=='focal-tech']).Assignee.value_counts(dropna=True, sort=True)"
      ],
      "execution_count": 0,
      "outputs": []
    },
    {
      "cell_type": "code",
      "metadata": {
        "id": "kCX4NFHkwOM4",
        "colab_type": "code",
        "colab": {
          "base_uri": "https://localhost:8080/",
          "height": 373
        },
        "outputId": "cb2d1d21-6957-41e0-d4f8-6a46bace2249"
      },
      "source": [
        "df_topic_firms = pd.DataFrame(topic_firm)\n",
        "df_topic_firms[:10]"
      ],
      "execution_count": 168,
      "outputs": [
        {
          "output_type": "execute_result",
          "data": {
            "text/html": [
              "<div>\n",
              "<style scoped>\n",
              "    .dataframe tbody tr th:only-of-type {\n",
              "        vertical-align: middle;\n",
              "    }\n",
              "\n",
              "    .dataframe tbody tr th {\n",
              "        vertical-align: top;\n",
              "    }\n",
              "\n",
              "    .dataframe thead th {\n",
              "        text-align: right;\n",
              "    }\n",
              "</style>\n",
              "<table border=\"1\" class=\"dataframe\">\n",
              "  <thead>\n",
              "    <tr style=\"text-align: right;\">\n",
              "      <th></th>\n",
              "      <th></th>\n",
              "      <th>Assignee</th>\n",
              "    </tr>\n",
              "    <tr>\n",
              "      <th>ecosystem</th>\n",
              "      <th>Assignee</th>\n",
              "      <th></th>\n",
              "    </tr>\n",
              "  </thead>\n",
              "  <tbody>\n",
              "    <tr>\n",
              "      <th rowspan=\"10\" valign=\"top\">False</th>\n",
              "      <th>toyota motor corp</th>\n",
              "      <td>1125</td>\n",
              "    </tr>\n",
              "    <tr>\n",
              "      <th>honda motor ltd</th>\n",
              "      <td>890</td>\n",
              "    </tr>\n",
              "    <tr>\n",
              "      <th>hyundai motor company</th>\n",
              "      <td>522</td>\n",
              "    </tr>\n",
              "    <tr>\n",
              "      <th>mitsubishi motors corp</th>\n",
              "      <td>388</td>\n",
              "    </tr>\n",
              "    <tr>\n",
              "      <th>nissan motor co ltd</th>\n",
              "      <td>320</td>\n",
              "    </tr>\n",
              "    <tr>\n",
              "      <th>ford global technologies llc</th>\n",
              "      <td>251</td>\n",
              "    </tr>\n",
              "    <tr>\n",
              "      <th>lsis co  ltd</th>\n",
              "      <td>205</td>\n",
              "    </tr>\n",
              "    <tr>\n",
              "      <th>hitachi automotive systems ltd</th>\n",
              "      <td>181</td>\n",
              "    </tr>\n",
              "    <tr>\n",
              "      <th>panasonic corporation</th>\n",
              "      <td>158</td>\n",
              "    </tr>\n",
              "    <tr>\n",
              "      <th>general electric company</th>\n",
              "      <td>156</td>\n",
              "    </tr>\n",
              "  </tbody>\n",
              "</table>\n",
              "</div>"
            ],
            "text/plain": [
              "                                          Assignee\n",
              "ecosystem Assignee                                \n",
              "False     toyota motor corp                   1125\n",
              "          honda motor ltd                      890\n",
              "          hyundai motor company                522\n",
              "          mitsubishi motors corp               388\n",
              "          nissan motor co ltd                  320\n",
              "          ford global technologies llc         251\n",
              "          lsis co  ltd                         205\n",
              "          hitachi automotive systems ltd       181\n",
              "          panasonic corporation                158\n",
              "          general electric company             156"
            ]
          },
          "metadata": {
            "tags": []
          },
          "execution_count": 168
        }
      ]
    },
    {
      "cell_type": "markdown",
      "metadata": {
        "id": "fj_2JLJDxUOV",
        "colab_type": "text"
      },
      "source": [
        "### 5b)-for focal-tech"
      ]
    },
    {
      "cell_type": "code",
      "metadata": {
        "id": "e6pOYcKbwOJ_",
        "colab_type": "code",
        "colab": {}
      },
      "source": [
        "d=df_ecosystem\n",
        "d=d[d.ecosystem==\"focal-tech\"]"
      ],
      "execution_count": 0,
      "outputs": []
    },
    {
      "cell_type": "code",
      "metadata": {
        "id": "sSEYO1b7tOPq",
        "colab_type": "code",
        "colab": {
          "base_uri": "https://localhost:8080/",
          "height": 34
        },
        "outputId": "c3b25453-beef-4a41-aa1e-775686697602"
      },
      "source": [
        "len(d)"
      ],
      "execution_count": 170,
      "outputs": [
        {
          "output_type": "execute_result",
          "data": {
            "text/plain": [
              "24134"
            ]
          },
          "metadata": {
            "tags": []
          },
          "execution_count": 170
        }
      ]
    },
    {
      "cell_type": "markdown",
      "metadata": {
        "id": "55qSVcfSxqpC",
        "colab_type": "text"
      },
      "source": [
        "**Hence , varified by value_counts**"
      ]
    },
    {
      "cell_type": "code",
      "metadata": {
        "id": "vgeYV6vLqR-e",
        "colab_type": "code",
        "colab": {
          "base_uri": "https://localhost:8080/",
          "height": 195
        },
        "outputId": "34be7b46-bb20-4271-aaf4-fb5dc45e727f"
      },
      "source": [
        "d[:5]"
      ],
      "execution_count": 171,
      "outputs": [
        {
          "output_type": "execute_result",
          "data": {
            "text/html": [
              "<div>\n",
              "<style scoped>\n",
              "    .dataframe tbody tr th:only-of-type {\n",
              "        vertical-align: middle;\n",
              "    }\n",
              "\n",
              "    .dataframe tbody tr th {\n",
              "        vertical-align: top;\n",
              "    }\n",
              "\n",
              "    .dataframe thead th {\n",
              "        text-align: right;\n",
              "    }\n",
              "</style>\n",
              "<table border=\"1\" class=\"dataframe\">\n",
              "  <thead>\n",
              "    <tr style=\"text-align: right;\">\n",
              "      <th></th>\n",
              "      <th>Topic_Perc_Contrib</th>\n",
              "      <th>Keywords</th>\n",
              "      <th>Assignee</th>\n",
              "      <th>Year</th>\n",
              "      <th>Abstract</th>\n",
              "      <th>Topic</th>\n",
              "      <th>ecosystem</th>\n",
              "    </tr>\n",
              "  </thead>\n",
              "  <tbody>\n",
              "    <tr>\n",
              "      <th>3</th>\n",
              "      <td>0.7163</td>\n",
              "      <td>valve, combustion, fuel, oil, cylinder, pressu...</td>\n",
              "      <td>avl list gmbh</td>\n",
              "      <td>2002.0</td>\n",
              "      <td>During an idling phase, fuel is repeatedly inj...</td>\n",
              "      <td>topic5</td>\n",
              "      <td>focal-tech</td>\n",
              "    </tr>\n",
              "    <tr>\n",
              "      <th>4</th>\n",
              "      <td>0.5670</td>\n",
              "      <td>engine, torque, clutch, mode, speed, motor, ge...</td>\n",
              "      <td>avl list gmbh</td>\n",
              "      <td>2002.0</td>\n",
              "      <td>The invention relates to a module-like constru...</td>\n",
              "      <td>topic1</td>\n",
              "      <td>focal-tech</td>\n",
              "    </tr>\n",
              "    <tr>\n",
              "      <th>5</th>\n",
              "      <td>0.5652</td>\n",
              "      <td>engine, torque, clutch, mode, speed, motor, ge...</td>\n",
              "      <td>avl list gmbh</td>\n",
              "      <td>2002.0</td>\n",
              "      <td>The invention relates to a module-like constru...</td>\n",
              "      <td>topic1</td>\n",
              "      <td>focal-tech</td>\n",
              "    </tr>\n",
              "    <tr>\n",
              "      <th>6</th>\n",
              "      <td>0.4909</td>\n",
              "      <td>engine, torque, clutch, mode, speed, motor, ge...</td>\n",
              "      <td>avl list gmbh</td>\n",
              "      <td>2002.0</td>\n",
              "      <td>The invention relates to a modular internal co...</td>\n",
              "      <td>topic1</td>\n",
              "      <td>focal-tech</td>\n",
              "    </tr>\n",
              "    <tr>\n",
              "      <th>8</th>\n",
              "      <td>0.4455</td>\n",
              "      <td>valve, combustion, fuel, oil, cylinder, pressu...</td>\n",
              "      <td>avl gesellschaft f r verbrennungskraftmaschine...</td>\n",
              "      <td>1991.0</td>\n",
              "      <td>Known cylinder blocks and crankcases are gener...</td>\n",
              "      <td>topic5</td>\n",
              "      <td>focal-tech</td>\n",
              "    </tr>\n",
              "  </tbody>\n",
              "</table>\n",
              "</div>"
            ],
            "text/plain": [
              "   Topic_Perc_Contrib  ...   ecosystem\n",
              "3              0.7163  ...  focal-tech\n",
              "4              0.5670  ...  focal-tech\n",
              "5              0.5652  ...  focal-tech\n",
              "6              0.4909  ...  focal-tech\n",
              "8              0.4455  ...  focal-tech\n",
              "\n",
              "[5 rows x 7 columns]"
            ]
          },
          "metadata": {
            "tags": []
          },
          "execution_count": 171
        }
      ]
    },
    {
      "cell_type": "code",
      "metadata": {
        "id": "teBNvMrGxwOs",
        "colab_type": "code",
        "colab": {}
      },
      "source": [
        "d=d.groupby(['Assignee']).size()"
      ],
      "execution_count": 0,
      "outputs": []
    },
    {
      "cell_type": "code",
      "metadata": {
        "id": "15UBUdB8x2Z9",
        "colab_type": "code",
        "colab": {
          "base_uri": "https://localhost:8080/",
          "height": 218
        },
        "outputId": "58308c8e-9a0f-438f-94f8-6853303d8527"
      },
      "source": [
        "d.sort_values(ascending=False)[:10]"
      ],
      "execution_count": 173,
      "outputs": [
        {
          "output_type": "execute_result",
          "data": {
            "text/plain": [
              "Assignee\n",
              "toyota motor corp                 4555\n",
              "honda motor ltd                   1772\n",
              "hyundai motor company             1668\n",
              "nissan motor co ltd               1584\n",
              "ford global technologies llc      1045\n",
              "robert bosch gmbh                  486\n",
              "mitsubishi motors corp             458\n",
              "aisin seiki co ltd                 355\n",
              "hitachi automotive systems ltd     300\n",
              "suzuki motor corp                  290\n",
              "dtype: int64"
            ]
          },
          "metadata": {
            "tags": []
          },
          "execution_count": 173
        }
      ]
    },
    {
      "cell_type": "markdown",
      "metadata": {
        "id": "XzFG9Wb0x77q",
        "colab_type": "text"
      },
      "source": [
        "**These are top 10 firms using focal technology. We know that focal technology belongs to topic1,5,6,7,8 so, we can create figure from this information**"
      ]
    },
    {
      "cell_type": "markdown",
      "metadata": {
        "id": "F-FAPYLuzm44",
        "colab_type": "text"
      },
      "source": [
        "### 5c)- For component tech"
      ]
    },
    {
      "cell_type": "code",
      "metadata": {
        "id": "QTv30ERux4rv",
        "colab_type": "code",
        "colab": {}
      },
      "source": [
        "e=df_ecosystem\n",
        "e=e[e.ecosystem==\"component-tech\"]"
      ],
      "execution_count": 0,
      "outputs": []
    },
    {
      "cell_type": "code",
      "metadata": {
        "id": "st8BrAW8zrBm",
        "colab_type": "code",
        "colab": {
          "base_uri": "https://localhost:8080/",
          "height": 34
        },
        "outputId": "1d80dee0-1c7b-4830-9f3e-79b45583cb6b"
      },
      "source": [
        "len(e)"
      ],
      "execution_count": 175,
      "outputs": [
        {
          "output_type": "execute_result",
          "data": {
            "text/plain": [
              "14102"
            ]
          },
          "metadata": {
            "tags": []
          },
          "execution_count": 175
        }
      ]
    },
    {
      "cell_type": "code",
      "metadata": {
        "id": "f08uri9Pzq-x",
        "colab_type": "code",
        "colab": {
          "base_uri": "https://localhost:8080/",
          "height": 195
        },
        "outputId": "b31436f3-6d3d-464a-8bf2-3e30857fc191"
      },
      "source": [
        "e[:5]"
      ],
      "execution_count": 180,
      "outputs": [
        {
          "output_type": "execute_result",
          "data": {
            "text/html": [
              "<div>\n",
              "<style scoped>\n",
              "    .dataframe tbody tr th:only-of-type {\n",
              "        vertical-align: middle;\n",
              "    }\n",
              "\n",
              "    .dataframe tbody tr th {\n",
              "        vertical-align: top;\n",
              "    }\n",
              "\n",
              "    .dataframe thead th {\n",
              "        text-align: right;\n",
              "    }\n",
              "</style>\n",
              "<table border=\"1\" class=\"dataframe\">\n",
              "  <thead>\n",
              "    <tr style=\"text-align: right;\">\n",
              "      <th></th>\n",
              "      <th>Topic_Perc_Contrib</th>\n",
              "      <th>Keywords</th>\n",
              "      <th>Assignee</th>\n",
              "      <th>Year</th>\n",
              "      <th>Abstract</th>\n",
              "      <th>Topic</th>\n",
              "      <th>ecosystem</th>\n",
              "    </tr>\n",
              "  </thead>\n",
              "  <tbody>\n",
              "    <tr>\n",
              "      <th>0</th>\n",
              "      <td>0.3857</td>\n",
              "      <td>voltage, battery, circuit, power, module, dc, ...</td>\n",
              "      <td>luz electric fuel israel ltd</td>\n",
              "      <td>1990.0</td>\n",
              "      <td>An electrical energy system including an elect...</td>\n",
              "      <td>topic2</td>\n",
              "      <td>component-tech</td>\n",
              "    </tr>\n",
              "    <tr>\n",
              "      <th>1</th>\n",
              "      <td>0.7969</td>\n",
              "      <td>voltage, battery, circuit, power, module, dc, ...</td>\n",
              "      <td>luz electric fuel israel ltd</td>\n",
              "      <td>1990.0</td>\n",
              "      <td>An electrical energy system including an elect...</td>\n",
              "      <td>topic2</td>\n",
              "      <td>component-tech</td>\n",
              "    </tr>\n",
              "    <tr>\n",
              "      <th>2</th>\n",
              "      <td>0.4514</td>\n",
              "      <td>charge, pile, automobile, utility, model, body...</td>\n",
              "      <td>avl list gmbh</td>\n",
              "      <td>2002.0</td>\n",
              "      <td>A piston surface (4) on the combustion chamber...</td>\n",
              "      <td>topic3</td>\n",
              "      <td>component-tech</td>\n",
              "    </tr>\n",
              "    <tr>\n",
              "      <th>7</th>\n",
              "      <td>0.4658</td>\n",
              "      <td>voltage, battery, circuit, power, module, dc, ...</td>\n",
              "      <td>fronius schweismaschinen produktion gmbh   co ...</td>\n",
              "      <td>1991.0</td>\n",
              "      <td>Charging batteries involves using an external ...</td>\n",
              "      <td>topic2</td>\n",
              "      <td>component-tech</td>\n",
              "    </tr>\n",
              "    <tr>\n",
              "      <th>9</th>\n",
              "      <td>0.8473</td>\n",
              "      <td>voltage, battery, circuit, power, module, dc, ...</td>\n",
              "      <td>steyr daimler puch ag wien at</td>\n",
              "      <td>1994.0</td>\n",
              "      <td>The regulating circuit has a microprocessor re...</td>\n",
              "      <td>topic2</td>\n",
              "      <td>component-tech</td>\n",
              "    </tr>\n",
              "  </tbody>\n",
              "</table>\n",
              "</div>"
            ],
            "text/plain": [
              "   Topic_Perc_Contrib  ...       ecosystem\n",
              "0              0.3857  ...  component-tech\n",
              "1              0.7969  ...  component-tech\n",
              "2              0.4514  ...  component-tech\n",
              "7              0.4658  ...  component-tech\n",
              "9              0.8473  ...  component-tech\n",
              "\n",
              "[5 rows x 7 columns]"
            ]
          },
          "metadata": {
            "tags": []
          },
          "execution_count": 180
        }
      ]
    },
    {
      "cell_type": "code",
      "metadata": {
        "id": "NyyDrEVHzq7_",
        "colab_type": "code",
        "colab": {}
      },
      "source": [
        "e=e.groupby(['Assignee']).size()"
      ],
      "execution_count": 0,
      "outputs": []
    },
    {
      "cell_type": "code",
      "metadata": {
        "id": "xsplyzJwzq5R",
        "colab_type": "code",
        "colab": {
          "base_uri": "https://localhost:8080/",
          "height": 386
        },
        "outputId": "e1d569bf-2081-407c-fbbb-bdbea844af35"
      },
      "source": [
        "e.sort_values(ascending=False)[:20]"
      ],
      "execution_count": 186,
      "outputs": [
        {
          "output_type": "execute_result",
          "data": {
            "text/plain": [
              "Assignee\n",
              "toyota motor corp                                     780\n",
              "honda motor ltd                                       713\n",
              "hyundai motor company                                 379\n",
              "nissan motor co ltd                                   229\n",
              "mitsubishi motors corp                                207\n",
              "ford global technologies llc                          168\n",
              "hitachi automotive systems ltd                        129\n",
              "lsis co  ltd                                          110\n",
              "sony corporation                                      108\n",
              "panasonic corporation                                 107\n",
              "general motors corporation                             91\n",
              "state grid corporation of china                        87\n",
              "general electric company                               80\n",
              "yamaha hatsudoki kabushiki kaisha                      72\n",
              "korea advanced institute of science and technology     69\n",
              "renault sas                                            67\n",
              "suzuki motor corp                                      66\n",
              "byd company limited                                    59\n",
              "denso corporation                                      59\n",
              "kawasaki jukogyo kabushiki kaisha                      56\n",
              "dtype: int64"
            ]
          },
          "metadata": {
            "tags": []
          },
          "execution_count": 186
        }
      ]
    },
    {
      "cell_type": "markdown",
      "metadata": {
        "id": "IUTqnhs6zr3w",
        "colab_type": "text"
      },
      "source": [
        "### 5d)- For Complementory-tech"
      ]
    },
    {
      "cell_type": "code",
      "metadata": {
        "id": "2hJm-e8tzvAD",
        "colab_type": "code",
        "colab": {}
      },
      "source": [
        "f=df_ecosystem\n",
        "f=f[f.ecosystem==\"complementory-tech\"]"
      ],
      "execution_count": 0,
      "outputs": []
    },
    {
      "cell_type": "code",
      "metadata": {
        "id": "_hvf7xdg1fVg",
        "colab_type": "code",
        "colab": {
          "base_uri": "https://localhost:8080/",
          "height": 34
        },
        "outputId": "ccf6aa5e-1197-44bd-bb22-616b55e71cd7"
      },
      "source": [
        "len(f)"
      ],
      "execution_count": 179,
      "outputs": [
        {
          "output_type": "execute_result",
          "data": {
            "text/plain": [
              "5195"
            ]
          },
          "metadata": {
            "tags": []
          },
          "execution_count": 179
        }
      ]
    },
    {
      "cell_type": "code",
      "metadata": {
        "id": "GNIEJM5X1qSS",
        "colab_type": "code",
        "colab": {
          "base_uri": "https://localhost:8080/",
          "height": 195
        },
        "outputId": "df47cd80-11be-4bad-8161-b37dd8a99eef"
      },
      "source": [
        "f[:5]"
      ],
      "execution_count": 181,
      "outputs": [
        {
          "output_type": "execute_result",
          "data": {
            "text/html": [
              "<div>\n",
              "<style scoped>\n",
              "    .dataframe tbody tr th:only-of-type {\n",
              "        vertical-align: middle;\n",
              "    }\n",
              "\n",
              "    .dataframe tbody tr th {\n",
              "        vertical-align: top;\n",
              "    }\n",
              "\n",
              "    .dataframe thead th {\n",
              "        text-align: right;\n",
              "    }\n",
              "</style>\n",
              "<table border=\"1\" class=\"dataframe\">\n",
              "  <thead>\n",
              "    <tr style=\"text-align: right;\">\n",
              "      <th></th>\n",
              "      <th>Topic_Perc_Contrib</th>\n",
              "      <th>Keywords</th>\n",
              "      <th>Assignee</th>\n",
              "      <th>Year</th>\n",
              "      <th>Abstract</th>\n",
              "      <th>Topic</th>\n",
              "      <th>ecosystem</th>\n",
              "    </tr>\n",
              "  </thead>\n",
              "  <tbody>\n",
              "    <tr>\n",
              "      <th>19</th>\n",
              "      <td>0.3378</td>\n",
              "      <td>charge, information, wireless, module, communi...</td>\n",
              "      <td>i sense pty ltd</td>\n",
              "      <td>2002.0</td>\n",
              "      <td>A system of analyzing engine performance to as...</td>\n",
              "      <td>topic4</td>\n",
              "      <td>complementory-tech</td>\n",
              "    </tr>\n",
              "    <tr>\n",
              "      <th>30</th>\n",
              "      <td>0.4675</td>\n",
              "      <td>charge, information, wireless, module, communi...</td>\n",
              "      <td>stuart energy systems corporation</td>\n",
              "      <td>1999.0</td>\n",
              "      <td>An energy distribution network for providing h...</td>\n",
              "      <td>topic4</td>\n",
              "      <td>complementory-tech</td>\n",
              "    </tr>\n",
              "    <tr>\n",
              "      <th>32</th>\n",
              "      <td>0.4679</td>\n",
              "      <td>charge, information, wireless, module, communi...</td>\n",
              "      <td>stuart energy systems corporation</td>\n",
              "      <td>1999.0</td>\n",
              "      <td>An energy distribution network for providing h...</td>\n",
              "      <td>topic4</td>\n",
              "      <td>complementory-tech</td>\n",
              "    </tr>\n",
              "    <tr>\n",
              "      <th>33</th>\n",
              "      <td>0.5163</td>\n",
              "      <td>charge, information, wireless, module, communi...</td>\n",
              "      <td>stuart energy systems corporation</td>\n",
              "      <td>1999.0</td>\n",
              "      <td>The present invention describes an energy dist...</td>\n",
              "      <td>topic4</td>\n",
              "      <td>complementory-tech</td>\n",
              "    </tr>\n",
              "    <tr>\n",
              "      <th>34</th>\n",
              "      <td>0.4931</td>\n",
              "      <td>charge, information, wireless, module, communi...</td>\n",
              "      <td>stuart energy systems corp</td>\n",
              "      <td>1999.0</td>\n",
              "      <td>&lt;P&gt;PROBLEM TO BE SOLVED: To provide an energy ...</td>\n",
              "      <td>topic4</td>\n",
              "      <td>complementory-tech</td>\n",
              "    </tr>\n",
              "  </tbody>\n",
              "</table>\n",
              "</div>"
            ],
            "text/plain": [
              "    Topic_Perc_Contrib  ...           ecosystem\n",
              "19              0.3378  ...  complementory-tech\n",
              "30              0.4675  ...  complementory-tech\n",
              "32              0.4679  ...  complementory-tech\n",
              "33              0.5163  ...  complementory-tech\n",
              "34              0.4931  ...  complementory-tech\n",
              "\n",
              "[5 rows x 7 columns]"
            ]
          },
          "metadata": {
            "tags": []
          },
          "execution_count": 181
        }
      ]
    },
    {
      "cell_type": "code",
      "metadata": {
        "id": "TdIposYT1yOa",
        "colab_type": "code",
        "colab": {}
      },
      "source": [
        "f=f.groupby(['Assignee']).size()"
      ],
      "execution_count": 0,
      "outputs": []
    },
    {
      "cell_type": "code",
      "metadata": {
        "id": "cOtrwUnT2Vt3",
        "colab_type": "code",
        "colab": {
          "base_uri": "https://localhost:8080/",
          "height": 554
        },
        "outputId": "510051f7-e42b-4355-e19b-78431353bc74"
      },
      "source": [
        "f.sort_values(ascending=False)[:30]"
      ],
      "execution_count": 188,
      "outputs": [
        {
          "output_type": "execute_result",
          "data": {
            "text/plain": [
              "Assignee\n",
              "toyota motor corp                                     345\n",
              "mitsubishi motors corp                                181\n",
              "honda motor ltd                                       177\n",
              "hyundai motor company                                 143\n",
              "lsis co  ltd                                           95\n",
              "nissan motor co ltd                                    91\n",
              "ford global technologies llc                           83\n",
              "general electric company                               76\n",
              "denso corporation                                      75\n",
              "hitachi automotive systems ltd                         52\n",
              "panasonic corporation                                  51\n",
              "state grid corporation of china                        49\n",
              "qualcomm incorporated                                  48\n",
              "korea advanced institute of science and technology     38\n",
              "general motors corporation                             38\n",
              "rwe ag                                                 32\n",
              "nec corporation                                        29\n",
              "robert bosch gmbh                                      27\n",
              "peugeot citroen automobiles sa                         25\n",
              "siemens aktiengesellschaft                             24\n",
              "proterra inc                                           24\n",
              "sony corporation                                       24\n",
              "toshiba corp                                           22\n",
              "chargepoint inc                                        21\n",
              "kabushiki kaisha toshiba                               21\n",
              "tesla motors inc                                       20\n",
              "renault sas                                            19\n",
              "nextev usa inc                                         18\n",
              "fuji heavy ind ltd                                     18\n",
              "tsinghua university                                    17\n",
              "dtype: int64"
            ]
          },
          "metadata": {
            "tags": []
          },
          "execution_count": 188
        }
      ]
    },
    {
      "cell_type": "code",
      "metadata": {
        "id": "ZVsV_5_E7iik",
        "colab_type": "code",
        "colab": {}
      },
      "source": [
        ""
      ],
      "execution_count": 0,
      "outputs": []
    }
  ]
}