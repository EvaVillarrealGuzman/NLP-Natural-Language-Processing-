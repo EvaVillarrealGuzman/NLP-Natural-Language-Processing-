{
 "cells": [
  {
   "cell_type": "markdown",
   "metadata": {},
   "source": [
    "# File 1:Firms' Preprocessing\n",
    "\n",
    "Working on firm level data <br>\n",
    "- This will generate patent_firm_full_clean.pkl file"
   ]
  },
  {
   "cell_type": "code",
   "execution_count": 53,
   "metadata": {},
   "outputs": [],
   "source": [
    "#support both Python 2 and Python 3 with minimal overhead.\n",
    "from __future__ import absolute_import, division, print_function"
   ]
  },
  {
   "cell_type": "code",
   "execution_count": 54,
   "metadata": {},
   "outputs": [],
   "source": [
    "# I am an engineer. I care only about error not warning. So, let's be maverick and ignore warnings\n",
    "import warnings\n",
    "warnings.filterwarnings('ignore')"
   ]
  },
  {
   "cell_type": "code",
   "execution_count": 55,
   "metadata": {},
   "outputs": [],
   "source": [
    "import pandas as pd\n",
    "import nltk\n",
    "import numpy as np\n",
    "import requests\n",
    "import pickle"
   ]
  },
  {
   "cell_type": "code",
   "execution_count": 56,
   "metadata": {},
   "outputs": [
    {
     "data": {
      "text/html": [
       "<style>body {\n",
       "    margin: 0;\n",
       "    font-family: Helvetica;\n",
       "}\n",
       "table.dataframe {\n",
       "    border-collapse: collapse;\n",
       "    border: none;\n",
       "}\n",
       "table.dataframe tr {\n",
       "    border: none;\n",
       "}\n",
       "table.dataframe td, table.dataframe th {\n",
       "    margin: 0;\n",
       "    border: 1px solid white;\n",
       "    padding-left: 0.25em;\n",
       "    padding-right: 0.25em;\n",
       "}\n",
       "table.dataframe th:not(:empty) {\n",
       "    background-color: #fec;\n",
       "    text-align: left;\n",
       "    font-weight: normal;\n",
       "}\n",
       "table.dataframe tr:nth-child(2) th:empty {\n",
       "    border-left: none;\n",
       "    border-right: 1px dashed #888;\n",
       "}\n",
       "table.dataframe td {\n",
       "    border: 2px solid #ccf;\n",
       "    background-color: #f4f4ff;\n",
       "}\n",
       "h3 {\n",
       "    color: white;\n",
       "    background-color: black;\n",
       "    padding: 0.5em;\n",
       "}\n",
       "</style>"
      ],
      "text/plain": [
       "<IPython.core.display.HTML object>"
      ]
     },
     "execution_count": 56,
     "metadata": {},
     "output_type": "execute_result"
    }
   ],
   "source": [
    "from IPython.core.display import HTML\n",
    "css = open('style-table.css').read() + open('style-notebook.css').read()\n",
    "HTML('<style>{}</style>'.format(css))"
   ]
  },
  {
   "cell_type": "code",
   "execution_count": 57,
   "metadata": {},
   "outputs": [],
   "source": [
    "patents_new=pd.read_csv('hassan_all_en_new.csv')"
   ]
  },
  {
   "cell_type": "code",
   "execution_count": 58,
   "metadata": {},
   "outputs": [
    {
     "data": {
      "text/html": [
       "<div>\n",
       "<style scoped>\n",
       "    .dataframe tbody tr th:only-of-type {\n",
       "        vertical-align: middle;\n",
       "    }\n",
       "\n",
       "    .dataframe tbody tr th {\n",
       "        vertical-align: top;\n",
       "    }\n",
       "\n",
       "    .dataframe thead th {\n",
       "        text-align: right;\n",
       "    }\n",
       "</style>\n",
       "<table border=\"1\" class=\"dataframe\">\n",
       "  <thead>\n",
       "    <tr style=\"text-align: right;\">\n",
       "      <th></th>\n",
       "      <th>appln</th>\n",
       "      <th>appln_id</th>\n",
       "      <th>family_id</th>\n",
       "      <th>sets</th>\n",
       "      <th>direct</th>\n",
       "      <th>granted</th>\n",
       "      <th>earliest_appln</th>\n",
       "      <th>earliest_filing_date</th>\n",
       "      <th>publn_date</th>\n",
       "      <th>publn</th>\n",
       "      <th>...</th>\n",
       "      <th>citing_publn_date</th>\n",
       "      <th>citing_publn</th>\n",
       "      <th>citing_appln</th>\n",
       "      <th>citing_appln_id</th>\n",
       "      <th>citing_family_id</th>\n",
       "      <th>num_citing_family</th>\n",
       "      <th>earliest_applt</th>\n",
       "      <th>current_applt</th>\n",
       "      <th>appln_title</th>\n",
       "      <th>appln_abstr</th>\n",
       "    </tr>\n",
       "  </thead>\n",
       "  <tbody>\n",
       "    <tr>\n",
       "      <th>0</th>\n",
       "      <td>WO9105114W</td>\n",
       "      <td>47158713</td>\n",
       "      <td>1239277</td>\n",
       "      <td>2</td>\n",
       "      <td>1</td>\n",
       "      <td>1</td>\n",
       "      <td>US55592190A</td>\n",
       "      <td>1990-07-19</td>\n",
       "      <td>1993-02-18</td>\n",
       "      <td>WO9303532A1</td>\n",
       "      <td>...</td>\n",
       "      <td>2002-07-11</td>\n",
       "      <td>WO0199222A3</td>\n",
       "      <td>WO0119827W</td>\n",
       "      <td>45621927</td>\n",
       "      <td>24395918</td>\n",
       "      <td>30</td>\n",
       "      <td>LUZ ELECTRIC FUEL ISRAEL LTD.</td>\n",
       "      <td>LUZ ELECTRIC FUEL ISRAEL LTD.</td>\n",
       "      <td>ELECTRICAL ENERGY SYSTEM</td>\n",
       "      <td>An electrical energy system including an elect...</td>\n",
       "    </tr>\n",
       "    <tr>\n",
       "      <th>1</th>\n",
       "      <td>US55592190A</td>\n",
       "      <td>51797454</td>\n",
       "      <td>1239277</td>\n",
       "      <td>2</td>\n",
       "      <td>1</td>\n",
       "      <td>1</td>\n",
       "      <td>US55592190A</td>\n",
       "      <td>1990-07-19</td>\n",
       "      <td>1992-06-09</td>\n",
       "      <td>US5121044A</td>\n",
       "      <td>...</td>\n",
       "      <td>1993-05-04\\n1994-03-09\\n1994-09-20\\n1995-07-18...</td>\n",
       "      <td>US5208526A\\nEP0557287A4\\nUS5349535A\\nUS5434020...</td>\n",
       "      <td>US63645090A\\nEP91915464A\\nUS96399792A\\nUS15296...</td>\n",
       "      <td>52393850\\n16916549\\n54353461\\n48212422\\n457802...</td>\n",
       "      <td>27071024\\n1239277\\n25508001\\n22545199\\n2636904...</td>\n",
       "      <td>30</td>\n",
       "      <td>Luz Electric Fuel Israel, Ltd.</td>\n",
       "      <td>Luz Electric Fuel Israel, Ltd.</td>\n",
       "      <td>Electrical energy system</td>\n",
       "      <td>An electrical energy system including an elect...</td>\n",
       "    </tr>\n",
       "  </tbody>\n",
       "</table>\n",
       "<p>2 rows × 34 columns</p>\n",
       "</div>"
      ],
      "text/plain": [
       "         appln  appln_id  family_id  sets  direct  granted earliest_appln  \\\n",
       "0   WO9105114W  47158713    1239277     2       1        1    US55592190A   \n",
       "1  US55592190A  51797454    1239277     2       1        1    US55592190A   \n",
       "\n",
       "  earliest_filing_date  publn_date        publn  \\\n",
       "0           1990-07-19  1993-02-18  WO9303532A1   \n",
       "1           1990-07-19  1992-06-09   US5121044A   \n",
       "\n",
       "                         ...                          \\\n",
       "0                        ...                           \n",
       "1                        ...                           \n",
       "\n",
       "                                   citing_publn_date  \\\n",
       "0                                         2002-07-11   \n",
       "1  1993-05-04\\n1994-03-09\\n1994-09-20\\n1995-07-18...   \n",
       "\n",
       "                                        citing_publn  \\\n",
       "0                                        WO0199222A3   \n",
       "1  US5208526A\\nEP0557287A4\\nUS5349535A\\nUS5434020...   \n",
       "\n",
       "                                        citing_appln  \\\n",
       "0                                         WO0119827W   \n",
       "1  US63645090A\\nEP91915464A\\nUS96399792A\\nUS15296...   \n",
       "\n",
       "                                     citing_appln_id  \\\n",
       "0                                           45621927   \n",
       "1  52393850\\n16916549\\n54353461\\n48212422\\n457802...   \n",
       "\n",
       "                                    citing_family_id num_citing_family  \\\n",
       "0                                           24395918                30   \n",
       "1  27071024\\n1239277\\n25508001\\n22545199\\n2636904...                30   \n",
       "\n",
       "                   earliest_applt                   current_applt  \\\n",
       "0   LUZ ELECTRIC FUEL ISRAEL LTD.   LUZ ELECTRIC FUEL ISRAEL LTD.   \n",
       "1  Luz Electric Fuel Israel, Ltd.  Luz Electric Fuel Israel, Ltd.   \n",
       "\n",
       "                appln_title                                        appln_abstr  \n",
       "0  ELECTRICAL ENERGY SYSTEM  An electrical energy system including an elect...  \n",
       "1  Electrical energy system  An electrical energy system including an elect...  \n",
       "\n",
       "[2 rows x 34 columns]"
      ]
     },
     "execution_count": 58,
     "metadata": {},
     "output_type": "execute_result"
    }
   ],
   "source": [
    "patents_new.head(2)"
   ]
  },
  {
   "cell_type": "markdown",
   "metadata": {},
   "source": [
    "- appln                     The identifier of the application (with letter at the end, seems Google omits that)\n",
    "- appln_id                  The (internal) patstat identifier of the application\n",
    "- family_id                 The (internal) patstat identifier of the family that the application is a member of sets  - sets                      Indicate which sets (fuel-cell = 1, electric  vehicle = 2, both = 3) was matched\n",
    "- direct                    Indicate whether this application was found directly (title/abstract/cpc/ipc) or      indirectly (family association)\n",
    "- granted                   Whether or not the application was granted\n",
    "- earliest_appln            Per family, the earliest application\n",
    "- earliest_filing_date      The date of the family's earliest application\n",
    "- publn                     Identifiers of publications associated with this application (*)\n",
    "- publn_date                The dates of associated publications (*)\n",
    "- publn_first_grant         Indicates for each publication if its the first one with granted status\n",
    "- num_cpc_class             The number of CPC classes for this application\n",
    "- cpc_class                 The CPC class symbols for this application\n",
    "- num_ipc_class             The number of IPC classes for this application\n",
    "- ipc_class                 The IPC class symbols for this application\n",
    "- num_cited_publn           The number of forward citations (this applications refers to other publications)\n",
    "- cited_publn_date          The dates of cited publications (**)\n",
    "- cited_publn               The identifiers of cited publications (**)\n",
    "- cited_appln               The identifiers of the applications  associated with cited publications (**)\n",
    "- cited_appln_id            The (internal) patstat identifiers of the  applications associated with cited publications (**)\n",
    "- cited_family_id           The (internal) patstat identifiers of the  family associated with cited publications (**)\n",
    "- num_cited_family          The total number of distinct families  associated with cited publications (***)\n",
    "- num_citing_publn          The number of backward citations (other  publications refer to this application)\n",
    "- citing_publn_date         The dates of citing publications (**)\n",
    "- citing_publn              The identifiers of citing publications (**)\n",
    "- citing_appln              The identifiers of the applications  associated with citing publications (**)\n",
    "- citing_appln_id           The (internal) patstat identifiers of the  applications associated with citing publications (**)\n",
    "- citing_family_id          The (internal) patstat identifiers of the  family associated with citing publications (**)\n",
    "- num_citing_family         The total number of distinct families  associated with citing publications (***)\n",
    "- earliest_applt            The name of the (first) applicant of the  earliest publication of this application \n",
    "- current_applt             The name of the (first) applicant of the most recent publication of this application\n",
    "- appln_title               The title of this application\n",
    "\n",
    ">>\n",
    ">> (*/**) These are one per line, in consistent order\n",
    "\n",
    "\n",
    ">> (***) These seem to be the numbers that google uses to count citations. You can get this from the export if you aggregate all applications within a family and discard duplicates.\n"
   ]
  },
  {
   "cell_type": "code",
   "execution_count": 59,
   "metadata": {},
   "outputs": [
    {
     "data": {
      "text/plain": [
       "(43432, 34)"
      ]
     },
     "execution_count": 59,
     "metadata": {},
     "output_type": "execute_result"
    }
   ],
   "source": [
    "patents_new.shape"
   ]
  },
  {
   "cell_type": "code",
   "execution_count": 60,
   "metadata": {},
   "outputs": [
    {
     "name": "stdout",
     "output_type": "stream",
     "text": [
      "<class 'pandas.core.frame.DataFrame'>\n",
      "RangeIndex: 43432 entries, 0 to 43431\n",
      "Data columns (total 34 columns):\n",
      "appln                   43432 non-null object\n",
      "appln_id                43432 non-null int64\n",
      "family_id               43432 non-null int64\n",
      "sets                    43432 non-null int64\n",
      "direct                  43432 non-null int64\n",
      "granted                 43432 non-null int64\n",
      "earliest_appln          43432 non-null object\n",
      "earliest_filing_date    43432 non-null object\n",
      "publn_date              43432 non-null object\n",
      "publn                   43432 non-null object\n",
      "publn_first_grant       43432 non-null object\n",
      "publn_claims            43432 non-null object\n",
      "num_cpc_class           43432 non-null int64\n",
      "cpc_class               39286 non-null object\n",
      "num_ipc_class           43432 non-null int64\n",
      "ipc_class               43399 non-null object\n",
      "num_cited_publn         43432 non-null int64\n",
      "cited_publn_date        29098 non-null object\n",
      "cited_publn             29098 non-null object\n",
      "cited_appln             29098 non-null object\n",
      "cited_appln_id          29098 non-null object\n",
      "cited_family_id         29098 non-null object\n",
      "num_cited_family        43432 non-null int64\n",
      "num_citing_publn        43432 non-null int64\n",
      "citing_publn_date       27309 non-null object\n",
      "citing_publn            27309 non-null object\n",
      "citing_appln            27309 non-null object\n",
      "citing_appln_id         27309 non-null object\n",
      "citing_family_id        27309 non-null object\n",
      "num_citing_family       43432 non-null int64\n",
      "earliest_applt          43197 non-null object\n",
      "current_applt           43197 non-null object\n",
      "appln_title             43432 non-null object\n",
      "appln_abstr             43432 non-null object\n",
      "dtypes: int64(11), object(23)\n",
      "memory usage: 11.3+ MB\n"
     ]
    }
   ],
   "source": [
    "patents_new.info()"
   ]
  },
  {
   "cell_type": "markdown",
   "metadata": {},
   "source": [
    "### Working with firm variable\n",
    "\n",
    "i.e earliest_applt. The firms that created knowldge and innovation"
   ]
  },
  {
   "cell_type": "code",
   "execution_count": 61,
   "metadata": {},
   "outputs": [],
   "source": [
    "#patents_new[patents_new.current_applt=='TOYOTA MOTOR CORP']"
   ]
  },
  {
   "cell_type": "code",
   "execution_count": 62,
   "metadata": {},
   "outputs": [],
   "source": [
    "#ri[ri.violation == 'Speeding'].driver_gender.value_counts()"
   ]
  },
  {
   "cell_type": "code",
   "execution_count": 63,
   "metadata": {},
   "outputs": [],
   "source": [
    "assignee=patents_new['earliest_applt']"
   ]
  },
  {
   "cell_type": "code",
   "execution_count": 64,
   "metadata": {},
   "outputs": [
    {
     "data": {
      "text/plain": [
       "pandas.core.series.Series"
      ]
     },
     "execution_count": 64,
     "metadata": {},
     "output_type": "execute_result"
    }
   ],
   "source": [
    "type(assignee)"
   ]
  },
  {
   "cell_type": "code",
   "execution_count": 65,
   "metadata": {},
   "outputs": [],
   "source": [
    "# remove punctuation\n",
    "assignee = patents_new['earliest_applt'].str.replace('[^\\w\\s]','')\n",
    "assignee = patents_new['earliest_applt'].replace(\".\",'') \n",
    "assignee = patents_new['earliest_applt'].str.replace('\\[.*?\\]','')\n",
    "assignee = patents_new['earliest_applt'].str.replace(\",\",'' )"
   ]
  },
  {
   "cell_type": "code",
   "execution_count": 66,
   "metadata": {},
   "outputs": [],
   "source": [
    "patents_new['assignee']=assignee"
   ]
  },
  {
   "cell_type": "code",
   "execution_count": 67,
   "metadata": {},
   "outputs": [
    {
     "data": {
      "text/plain": [
       "'STEYR-DAIMLER-PUCH AG WIEN AT'"
      ]
     },
     "execution_count": 67,
     "metadata": {},
     "output_type": "execute_result"
    }
   ],
   "source": [
    "assignee[9]"
   ]
  },
  {
   "cell_type": "code",
   "execution_count": 68,
   "metadata": {},
   "outputs": [
    {
     "data": {
      "text/plain": [
       "'FRONIUS SCHWEISMASCHINEN PRODUKTION GMBH & CO. KG PETTENBACH'"
      ]
     },
     "execution_count": 68,
     "metadata": {},
     "output_type": "execute_result"
    }
   ],
   "source": [
    "assignee[7]"
   ]
  },
  {
   "cell_type": "markdown",
   "metadata": {},
   "source": [
    "### Round2"
   ]
  },
  {
   "cell_type": "code",
   "execution_count": 69,
   "metadata": {},
   "outputs": [],
   "source": [
    "assignee=patents_new['assignee'].str.split()\n",
    "assignee=patents_new['assignee'].str.lower()"
   ]
  },
  {
   "cell_type": "code",
   "execution_count": 70,
   "metadata": {},
   "outputs": [],
   "source": [
    "patents_new['assignee']=assignee"
   ]
  },
  {
   "cell_type": "code",
   "execution_count": 71,
   "metadata": {},
   "outputs": [
    {
     "data": {
      "text/plain": [
       "'fronius schweismaschinen produktion gmbh & co. kg pettenbach'"
      ]
     },
     "execution_count": 71,
     "metadata": {},
     "output_type": "execute_result"
    }
   ],
   "source": [
    "patents_new.assignee[7]"
   ]
  },
  {
   "cell_type": "code",
   "execution_count": 72,
   "metadata": {},
   "outputs": [
    {
     "data": {
      "text/plain": [
       "'fronius schweismaschinen produktion gmbh & co. kg pettenbach'"
      ]
     },
     "execution_count": 72,
     "metadata": {},
     "output_type": "execute_result"
    }
   ],
   "source": [
    "assignee[7]"
   ]
  },
  {
   "cell_type": "code",
   "execution_count": 73,
   "metadata": {},
   "outputs": [
    {
     "data": {
      "text/plain": [
       "'steyr-daimler-puch ag wien at'"
      ]
     },
     "execution_count": 73,
     "metadata": {},
     "output_type": "execute_result"
    }
   ],
   "source": [
    "assignee[9]"
   ]
  },
  {
   "cell_type": "code",
   "execution_count": 74,
   "metadata": {},
   "outputs": [
    {
     "data": {
      "text/plain": [
       "'steyr-daimler-puch ag wien at'"
      ]
     },
     "execution_count": 74,
     "metadata": {},
     "output_type": "execute_result"
    }
   ],
   "source": [
    "patents_new.assignee[9]"
   ]
  },
  {
   "cell_type": "code",
   "execution_count": 75,
   "metadata": {},
   "outputs": [
    {
     "data": {
      "text/plain": [
       "toyota jidosha kabushiki kaisha       2562\n",
       "toyota motor corp                     2301\n",
       "hyundai motor company                 1990\n",
       "honda motor co ltd                    1206\n",
       "ford global technologies llc          1009\n",
       "nissan motor co ltd                    996\n",
       "nissan motor co. ltd.                  908\n",
       "honda motor co. ltd.                   814\n",
       "robert bosch gmbh                      557\n",
       "honda giken kogyo kabushiki kaisha     491\n",
       "Name: assignee, dtype: int64"
      ]
     },
     "execution_count": 75,
     "metadata": {},
     "output_type": "execute_result"
    }
   ],
   "source": [
    "patents_new.assignee.value_counts()[:10]"
   ]
  },
  {
   "cell_type": "code",
   "execution_count": 76,
   "metadata": {},
   "outputs": [
    {
     "data": {
      "text/plain": [
       "toyota jidosha kabushiki kaisha       2577\n",
       "toyota motor corp                     2301\n",
       "hyundai motor company                 1990\n",
       "honda motor co ltd                    1206\n",
       "ford global technologies llc          1009\n",
       "nissan motor co ltd                    996\n",
       "nissan motor co  ltd                   908\n",
       "honda motor co  ltd                    814\n",
       "robert bosch gmbh                      557\n",
       "honda giken kogyo kabushiki kaisha     492\n",
       "Name: assignee, dtype: int64"
      ]
     },
     "execution_count": 76,
     "metadata": {},
     "output_type": "execute_result"
    }
   ],
   "source": [
    "patents_new['assignee'] = patents_new['assignee'].str.replace(\"[^a-zA-Z#]\",\" \") \n",
    "patents_new['assignee'].value_counts()[:10]"
   ]
  },
  {
   "cell_type": "code",
   "execution_count": 77,
   "metadata": {},
   "outputs": [
    {
     "data": {
      "text/plain": [
       "'fronius schweismaschinen produktion gmbh   co  kg pettenbach'"
      ]
     },
     "execution_count": 77,
     "metadata": {},
     "output_type": "execute_result"
    }
   ],
   "source": [
    "patents_new['assignee'][7]"
   ]
  },
  {
   "cell_type": "markdown",
   "metadata": {},
   "source": [
    "### Getting value count"
   ]
  },
  {
   "cell_type": "code",
   "execution_count": 78,
   "metadata": {},
   "outputs": [
    {
     "data": {
      "text/html": [
       "<div>\n",
       "<style scoped>\n",
       "    .dataframe tbody tr th:only-of-type {\n",
       "        vertical-align: middle;\n",
       "    }\n",
       "\n",
       "    .dataframe tbody tr th {\n",
       "        vertical-align: top;\n",
       "    }\n",
       "\n",
       "    .dataframe thead th {\n",
       "        text-align: right;\n",
       "    }\n",
       "</style>\n",
       "<table border=\"1\" class=\"dataframe\">\n",
       "  <thead>\n",
       "    <tr style=\"text-align: right;\">\n",
       "      <th></th>\n",
       "      <th>unique_values</th>\n",
       "      <th>counts</th>\n",
       "    </tr>\n",
       "  </thead>\n",
       "  <tbody>\n",
       "    <tr>\n",
       "      <th>0</th>\n",
       "      <td>toyota jidosha kabushiki kaisha</td>\n",
       "      <td>2577</td>\n",
       "    </tr>\n",
       "    <tr>\n",
       "      <th>1</th>\n",
       "      <td>toyota motor corp</td>\n",
       "      <td>2301</td>\n",
       "    </tr>\n",
       "    <tr>\n",
       "      <th>2</th>\n",
       "      <td>hyundai motor company</td>\n",
       "      <td>1990</td>\n",
       "    </tr>\n",
       "    <tr>\n",
       "      <th>3</th>\n",
       "      <td>honda motor co ltd</td>\n",
       "      <td>1206</td>\n",
       "    </tr>\n",
       "    <tr>\n",
       "      <th>4</th>\n",
       "      <td>ford global technologies llc</td>\n",
       "      <td>1009</td>\n",
       "    </tr>\n",
       "    <tr>\n",
       "      <th>5</th>\n",
       "      <td>nissan motor co ltd</td>\n",
       "      <td>996</td>\n",
       "    </tr>\n",
       "    <tr>\n",
       "      <th>6</th>\n",
       "      <td>nissan motor co  ltd</td>\n",
       "      <td>908</td>\n",
       "    </tr>\n",
       "    <tr>\n",
       "      <th>7</th>\n",
       "      <td>honda motor co  ltd</td>\n",
       "      <td>814</td>\n",
       "    </tr>\n",
       "    <tr>\n",
       "      <th>8</th>\n",
       "      <td>robert bosch gmbh</td>\n",
       "      <td>557</td>\n",
       "    </tr>\n",
       "    <tr>\n",
       "      <th>9</th>\n",
       "      <td>honda giken kogyo kabushiki kaisha</td>\n",
       "      <td>492</td>\n",
       "    </tr>\n",
       "  </tbody>\n",
       "</table>\n",
       "</div>"
      ],
      "text/plain": [
       "                        unique_values  counts\n",
       "0     toyota jidosha kabushiki kaisha    2577\n",
       "1                   toyota motor corp    2301\n",
       "2               hyundai motor company    1990\n",
       "3                  honda motor co ltd    1206\n",
       "4        ford global technologies llc    1009\n",
       "5                 nissan motor co ltd     996\n",
       "6               nissan motor co  ltd      908\n",
       "7                honda motor co  ltd      814\n",
       "8                   robert bosch gmbh     557\n",
       "9  honda giken kogyo kabushiki kaisha     492"
      ]
     },
     "execution_count": 78,
     "metadata": {},
     "output_type": "execute_result"
    }
   ],
   "source": [
    "value_counts = patents_new['assignee'].value_counts(dropna=True, sort=True)\n",
    "data = value_counts.rename_axis('unique_values').reset_index(name='counts')\n",
    "df_val_counts = pd.DataFrame(data)\n",
    "df_val_counts[:10]"
   ]
  },
  {
   "cell_type": "markdown",
   "metadata": {},
   "source": [
    "### to chekc specifi automobile company"
   ]
  },
  {
   "cell_type": "code",
   "execution_count": 79,
   "metadata": {},
   "outputs": [
    {
     "data": {
      "text/html": [
       "<div>\n",
       "<style scoped>\n",
       "    .dataframe tbody tr th:only-of-type {\n",
       "        vertical-align: middle;\n",
       "    }\n",
       "\n",
       "    .dataframe tbody tr th {\n",
       "        vertical-align: top;\n",
       "    }\n",
       "\n",
       "    .dataframe thead th {\n",
       "        text-align: right;\n",
       "    }\n",
       "</style>\n",
       "<table border=\"1\" class=\"dataframe\">\n",
       "  <thead>\n",
       "    <tr style=\"text-align: right;\">\n",
       "      <th></th>\n",
       "      <th>unique_values</th>\n",
       "      <th>counts</th>\n",
       "    </tr>\n",
       "  </thead>\n",
       "  <tbody>\n",
       "    <tr>\n",
       "      <th>0</th>\n",
       "      <td>toyota jidosha kabushiki kaisha</td>\n",
       "      <td>2577</td>\n",
       "    </tr>\n",
       "    <tr>\n",
       "      <th>1</th>\n",
       "      <td>toyota motor corp</td>\n",
       "      <td>2301</td>\n",
       "    </tr>\n",
       "    <tr>\n",
       "      <th>10</th>\n",
       "      <td>toyota motor corporation</td>\n",
       "      <td>376</td>\n",
       "    </tr>\n",
       "    <tr>\n",
       "      <th>15</th>\n",
       "      <td>toyota motor co  ltd</td>\n",
       "      <td>228</td>\n",
       "    </tr>\n",
       "    <tr>\n",
       "      <th>87</th>\n",
       "      <td>toyota motor co ltd</td>\n",
       "      <td>52</td>\n",
       "    </tr>\n",
       "    <tr>\n",
       "      <th>120</th>\n",
       "      <td>toyota industries corp</td>\n",
       "      <td>38</td>\n",
       "    </tr>\n",
       "    <tr>\n",
       "      <th>151</th>\n",
       "      <td>toyota jidosha kabushiki kaisya</td>\n",
       "      <td>28</td>\n",
       "    </tr>\n",
       "    <tr>\n",
       "      <th>176</th>\n",
       "      <td>kabushiki kaisha toyota jidoshokki</td>\n",
       "      <td>24</td>\n",
       "    </tr>\n",
       "  </tbody>\n",
       "</table>\n",
       "</div>"
      ],
      "text/plain": [
       "                          unique_values  counts\n",
       "0       toyota jidosha kabushiki kaisha    2577\n",
       "1                     toyota motor corp    2301\n",
       "10             toyota motor corporation     376\n",
       "15                toyota motor co  ltd      228\n",
       "87                  toyota motor co ltd      52\n",
       "120              toyota industries corp      38\n",
       "151     toyota jidosha kabushiki kaisya      28\n",
       "176  kabushiki kaisha toyota jidoshokki      24"
      ]
     },
     "execution_count": 79,
     "metadata": {},
     "output_type": "execute_result"
    }
   ],
   "source": [
    "df_val_counts[df_val_counts.unique_values.str.contains('toyota',regex=True)][:8]"
   ]
  },
  {
   "cell_type": "code",
   "execution_count": 80,
   "metadata": {},
   "outputs": [
    {
     "data": {
      "text/plain": [
       "42"
      ]
     },
     "execution_count": 80,
     "metadata": {},
     "output_type": "execute_result"
    }
   ],
   "source": [
    "len(df_val_counts[df_val_counts.unique_values.str.contains('toyota',regex=True)])"
   ]
  },
  {
   "cell_type": "markdown",
   "metadata": {},
   "source": [
    "So word \"toyota\" has been used 42 time and we know exact rows and exact title where it has been used."
   ]
  },
  {
   "cell_type": "markdown",
   "metadata": {},
   "source": [
    "# cleaning data"
   ]
  },
  {
   "cell_type": "code",
   "execution_count": 81,
   "metadata": {},
   "outputs": [
    {
     "data": {
      "text/html": [
       "<div>\n",
       "<style scoped>\n",
       "    .dataframe tbody tr th:only-of-type {\n",
       "        vertical-align: middle;\n",
       "    }\n",
       "\n",
       "    .dataframe tbody tr th {\n",
       "        vertical-align: top;\n",
       "    }\n",
       "\n",
       "    .dataframe thead th {\n",
       "        text-align: right;\n",
       "    }\n",
       "</style>\n",
       "<table border=\"1\" class=\"dataframe\">\n",
       "  <thead>\n",
       "    <tr style=\"text-align: right;\">\n",
       "      <th></th>\n",
       "      <th>unique_values</th>\n",
       "      <th>counts</th>\n",
       "    </tr>\n",
       "  </thead>\n",
       "  <tbody>\n",
       "    <tr>\n",
       "      <th>0</th>\n",
       "      <td>toyota jidosha kabushiki kaisha</td>\n",
       "      <td>2577</td>\n",
       "    </tr>\n",
       "    <tr>\n",
       "      <th>1</th>\n",
       "      <td>toyota motor corp</td>\n",
       "      <td>2301</td>\n",
       "    </tr>\n",
       "    <tr>\n",
       "      <th>2</th>\n",
       "      <td>hyundai motor company</td>\n",
       "      <td>1990</td>\n",
       "    </tr>\n",
       "    <tr>\n",
       "      <th>3</th>\n",
       "      <td>honda motor co ltd</td>\n",
       "      <td>1206</td>\n",
       "    </tr>\n",
       "    <tr>\n",
       "      <th>4</th>\n",
       "      <td>ford global technologies llc</td>\n",
       "      <td>1009</td>\n",
       "    </tr>\n",
       "    <tr>\n",
       "      <th>5</th>\n",
       "      <td>nissan motor co ltd</td>\n",
       "      <td>996</td>\n",
       "    </tr>\n",
       "    <tr>\n",
       "      <th>6</th>\n",
       "      <td>nissan motor co  ltd</td>\n",
       "      <td>908</td>\n",
       "    </tr>\n",
       "    <tr>\n",
       "      <th>7</th>\n",
       "      <td>honda motor co  ltd</td>\n",
       "      <td>814</td>\n",
       "    </tr>\n",
       "    <tr>\n",
       "      <th>8</th>\n",
       "      <td>robert bosch gmbh</td>\n",
       "      <td>557</td>\n",
       "    </tr>\n",
       "    <tr>\n",
       "      <th>9</th>\n",
       "      <td>honda giken kogyo kabushiki kaisha</td>\n",
       "      <td>492</td>\n",
       "    </tr>\n",
       "    <tr>\n",
       "      <th>10</th>\n",
       "      <td>toyota motor corporation</td>\n",
       "      <td>376</td>\n",
       "    </tr>\n",
       "    <tr>\n",
       "      <th>11</th>\n",
       "      <td>denso corp</td>\n",
       "      <td>262</td>\n",
       "    </tr>\n",
       "    <tr>\n",
       "      <th>12</th>\n",
       "      <td>mitsubishi motors corp</td>\n",
       "      <td>260</td>\n",
       "    </tr>\n",
       "    <tr>\n",
       "      <th>13</th>\n",
       "      <td>peugeot citroen automobiles sa</td>\n",
       "      <td>244</td>\n",
       "    </tr>\n",
       "    <tr>\n",
       "      <th>14</th>\n",
       "      <td>hitachi ltd</td>\n",
       "      <td>229</td>\n",
       "    </tr>\n",
       "    <tr>\n",
       "      <th>15</th>\n",
       "      <td>toyota motor co  ltd</td>\n",
       "      <td>228</td>\n",
       "    </tr>\n",
       "    <tr>\n",
       "      <th>16</th>\n",
       "      <td>lsis co  ltd</td>\n",
       "      <td>222</td>\n",
       "    </tr>\n",
       "    <tr>\n",
       "      <th>17</th>\n",
       "      <td>gm global technology operations llc</td>\n",
       "      <td>212</td>\n",
       "    </tr>\n",
       "    <tr>\n",
       "      <th>18</th>\n",
       "      <td>hyundai motor co ltd</td>\n",
       "      <td>200</td>\n",
       "    </tr>\n",
       "    <tr>\n",
       "      <th>19</th>\n",
       "      <td>mazda motor corp</td>\n",
       "      <td>194</td>\n",
       "    </tr>\n",
       "    <tr>\n",
       "      <th>20</th>\n",
       "      <td>sony corporation</td>\n",
       "      <td>192</td>\n",
       "    </tr>\n",
       "    <tr>\n",
       "      <th>21</th>\n",
       "      <td>aisin aw co  ltd</td>\n",
       "      <td>187</td>\n",
       "    </tr>\n",
       "    <tr>\n",
       "      <th>22</th>\n",
       "      <td>mitsubishi jidosha kogyo kabushiki kaisha</td>\n",
       "      <td>186</td>\n",
       "    </tr>\n",
       "    <tr>\n",
       "      <th>23</th>\n",
       "      <td>general electric company</td>\n",
       "      <td>183</td>\n",
       "    </tr>\n",
       "    <tr>\n",
       "      <th>24</th>\n",
       "      <td>suzuki motor corporation</td>\n",
       "      <td>182</td>\n",
       "    </tr>\n",
       "    <tr>\n",
       "      <th>25</th>\n",
       "      <td>yamaha hatsudoki kabushiki kaisha</td>\n",
       "      <td>165</td>\n",
       "    </tr>\n",
       "    <tr>\n",
       "      <th>26</th>\n",
       "      <td>suzuki motor corp</td>\n",
       "      <td>158</td>\n",
       "    </tr>\n",
       "    <tr>\n",
       "      <th>27</th>\n",
       "      <td>hitachi ltd</td>\n",
       "      <td>155</td>\n",
       "    </tr>\n",
       "    <tr>\n",
       "      <th>28</th>\n",
       "      <td>renault s a s</td>\n",
       "      <td>148</td>\n",
       "    </tr>\n",
       "    <tr>\n",
       "      <th>29</th>\n",
       "      <td>state grid corporation of china</td>\n",
       "      <td>138</td>\n",
       "    </tr>\n",
       "  </tbody>\n",
       "</table>\n",
       "</div>"
      ],
      "text/plain": [
       "                                unique_values  counts\n",
       "0             toyota jidosha kabushiki kaisha    2577\n",
       "1                           toyota motor corp    2301\n",
       "2                       hyundai motor company    1990\n",
       "3                          honda motor co ltd    1206\n",
       "4                ford global technologies llc    1009\n",
       "5                         nissan motor co ltd     996\n",
       "6                       nissan motor co  ltd      908\n",
       "7                        honda motor co  ltd      814\n",
       "8                           robert bosch gmbh     557\n",
       "9          honda giken kogyo kabushiki kaisha     492\n",
       "10                   toyota motor corporation     376\n",
       "11                                 denso corp     262\n",
       "12                     mitsubishi motors corp     260\n",
       "13             peugeot citroen automobiles sa     244\n",
       "14                               hitachi ltd      229\n",
       "15                      toyota motor co  ltd      228\n",
       "16                              lsis co  ltd      222\n",
       "17        gm global technology operations llc     212\n",
       "18                       hyundai motor co ltd     200\n",
       "19                           mazda motor corp     194\n",
       "20                           sony corporation     192\n",
       "21                          aisin aw co  ltd      187\n",
       "22  mitsubishi jidosha kogyo kabushiki kaisha     186\n",
       "23                   general electric company     183\n",
       "24                   suzuki motor corporation     182\n",
       "25          yamaha hatsudoki kabushiki kaisha     165\n",
       "26                          suzuki motor corp     158\n",
       "27                                hitachi ltd     155\n",
       "28                             renault s a s      148\n",
       "29            state grid corporation of china     138"
      ]
     },
     "execution_count": 81,
     "metadata": {},
     "output_type": "execute_result"
    }
   ],
   "source": [
    "df_val_counts[:30]"
   ]
  },
  {
   "cell_type": "markdown",
   "metadata": {},
   "source": [
    "We need no repeated company name"
   ]
  },
  {
   "cell_type": "markdown",
   "metadata": {},
   "source": [
    "### Solving toyota duplication"
   ]
  },
  {
   "cell_type": "code",
   "execution_count": 83,
   "metadata": {},
   "outputs": [],
   "source": [
    "patents_new['assignee']=patents_new['assignee'].str.replace('toyota jidosha kabushiki kaisha','toyota motor corp')"
   ]
  },
  {
   "cell_type": "code",
   "execution_count": 84,
   "metadata": {},
   "outputs": [],
   "source": [
    "patents_new['assignee']=patents_new['assignee'].str.replace('toyota motor corporation','toyota motor corp')"
   ]
  },
  {
   "cell_type": "code",
   "execution_count": 85,
   "metadata": {},
   "outputs": [
    {
     "data": {
      "text/html": [
       "<div>\n",
       "<style scoped>\n",
       "    .dataframe tbody tr th:only-of-type {\n",
       "        vertical-align: middle;\n",
       "    }\n",
       "\n",
       "    .dataframe tbody tr th {\n",
       "        vertical-align: top;\n",
       "    }\n",
       "\n",
       "    .dataframe thead th {\n",
       "        text-align: right;\n",
       "    }\n",
       "</style>\n",
       "<table border=\"1\" class=\"dataframe\">\n",
       "  <thead>\n",
       "    <tr style=\"text-align: right;\">\n",
       "      <th></th>\n",
       "      <th>unique_values</th>\n",
       "      <th>counts</th>\n",
       "    </tr>\n",
       "  </thead>\n",
       "  <tbody>\n",
       "    <tr>\n",
       "      <th>0</th>\n",
       "      <td>toyota motor corp</td>\n",
       "      <td>5254</td>\n",
       "    </tr>\n",
       "    <tr>\n",
       "      <th>13</th>\n",
       "      <td>toyota motor co  ltd</td>\n",
       "      <td>228</td>\n",
       "    </tr>\n",
       "    <tr>\n",
       "      <th>85</th>\n",
       "      <td>toyota motor co ltd</td>\n",
       "      <td>52</td>\n",
       "    </tr>\n",
       "    <tr>\n",
       "      <th>121</th>\n",
       "      <td>toyota industries corp</td>\n",
       "      <td>38</td>\n",
       "    </tr>\n",
       "    <tr>\n",
       "      <th>149</th>\n",
       "      <td>toyota jidosha kabushiki kaisya</td>\n",
       "      <td>28</td>\n",
       "    </tr>\n",
       "    <tr>\n",
       "      <th>175</th>\n",
       "      <td>kabushiki kaisha toyota jidoshokki</td>\n",
       "      <td>24</td>\n",
       "    </tr>\n",
       "    <tr>\n",
       "      <th>203</th>\n",
       "      <td>toyota motor engineering   manufacturing north...</td>\n",
       "      <td>20</td>\n",
       "    </tr>\n",
       "    <tr>\n",
       "      <th>220</th>\n",
       "      <td>toyota jidosha k k  toyota</td>\n",
       "      <td>19</td>\n",
       "    </tr>\n",
       "    <tr>\n",
       "      <th>239</th>\n",
       "      <td>toyota jidosha kk</td>\n",
       "      <td>17</td>\n",
       "    </tr>\n",
       "    <tr>\n",
       "      <th>492</th>\n",
       "      <td>toyota autom loom works ltd</td>\n",
       "      <td>8</td>\n",
       "    </tr>\n",
       "  </tbody>\n",
       "</table>\n",
       "</div>"
      ],
      "text/plain": [
       "                                         unique_values  counts\n",
       "0                                    toyota motor corp    5254\n",
       "13                               toyota motor co  ltd      228\n",
       "85                                 toyota motor co ltd      52\n",
       "121                             toyota industries corp      38\n",
       "149                    toyota jidosha kabushiki kaisya      28\n",
       "175                 kabushiki kaisha toyota jidoshokki      24\n",
       "203  toyota motor engineering   manufacturing north...      20\n",
       "220                         toyota jidosha k k  toyota      19\n",
       "239                                  toyota jidosha kk      17\n",
       "492                        toyota autom loom works ltd       8"
      ]
     },
     "execution_count": 85,
     "metadata": {},
     "output_type": "execute_result"
    }
   ],
   "source": [
    "# in three steps, I ll again check if our str is working\n",
    "\n",
    "value_counts = patents_new['assignee'].value_counts(dropna=True, sort=True)\n",
    "data2 = value_counts.rename_axis('unique_values').reset_index(name='counts')\n",
    "df_val_counts = pd.DataFrame(data2)\n",
    "df_val_counts[df_val_counts.unique_values.str.contains('toyota',regex=True)][:10]"
   ]
  },
  {
   "cell_type": "code",
   "execution_count": 92,
   "metadata": {},
   "outputs": [
    {
     "data": {
      "text/plain": [
       "unique_values    toyota motor co  ltd \n",
       "counts                             228\n",
       "Name: 13, dtype: object"
      ]
     },
     "execution_count": 92,
     "metadata": {},
     "output_type": "execute_result"
    }
   ],
   "source": [
    "df_val_counts.loc[13]"
   ]
  },
  {
   "cell_type": "code",
   "execution_count": 93,
   "metadata": {},
   "outputs": [
    {
     "data": {
      "text/plain": [
       "unique_values    toyota motor co ltd\n",
       "counts                            52\n",
       "Name: 85, dtype: object"
      ]
     },
     "execution_count": 93,
     "metadata": {},
     "output_type": "execute_result"
    }
   ],
   "source": [
    "df_val_counts.loc[85]"
   ]
  },
  {
   "cell_type": "code",
   "execution_count": 96,
   "metadata": {},
   "outputs": [
    {
     "data": {
      "text/plain": [
       "'toyota motor engineering   manufacturing north america inc '"
      ]
     },
     "execution_count": 96,
     "metadata": {},
     "output_type": "execute_result"
    }
   ],
   "source": [
    "# for full name of company\n",
    "df_val_counts.unique_values[203]"
   ]
  },
  {
   "cell_type": "code",
   "execution_count": 97,
   "metadata": {},
   "outputs": [],
   "source": [
    "patents_new['assignee']=patents_new['assignee'].str.replace('toyota motor co  ltd ','toyota motor corp')"
   ]
  },
  {
   "cell_type": "code",
   "execution_count": 98,
   "metadata": {},
   "outputs": [],
   "source": [
    "patents_new['assignee']=patents_new['assignee'].str.replace('toyota motor co ltd','toyota motor corp')"
   ]
  },
  {
   "cell_type": "code",
   "execution_count": 99,
   "metadata": {},
   "outputs": [],
   "source": [
    "patents_new['assignee']=patents_new['assignee'].str.replace('toyota industries corp','toyota motor corp')"
   ]
  },
  {
   "cell_type": "code",
   "execution_count": 100,
   "metadata": {},
   "outputs": [],
   "source": [
    "patents_new['assignee']=patents_new['assignee'].str.replace('toyota jidosha kabushiki kaisya','toyota motor corp')"
   ]
  },
  {
   "cell_type": "code",
   "execution_count": 101,
   "metadata": {},
   "outputs": [],
   "source": [
    "patents_new['assignee']=patents_new['assignee'].str.replace('kabushiki kaisha toyota jidoshokki','toyota motor corp')"
   ]
  },
  {
   "cell_type": "code",
   "execution_count": 102,
   "metadata": {},
   "outputs": [],
   "source": [
    "patents_new['assignee']=patents_new['assignee'].str.replace('toyota motor engineering   manufacturing north america inc ','toyota motor corp')"
   ]
  },
  {
   "cell_type": "code",
   "execution_count": 103,
   "metadata": {},
   "outputs": [],
   "source": [
    "patents_new['assignee']=patents_new['assignee'].str.replace('toyota jidosha k k toyota','toyota motor corp')"
   ]
  },
  {
   "cell_type": "code",
   "execution_count": 104,
   "metadata": {},
   "outputs": [
    {
     "data": {
      "text/html": [
       "<div>\n",
       "<style scoped>\n",
       "    .dataframe tbody tr th:only-of-type {\n",
       "        vertical-align: middle;\n",
       "    }\n",
       "\n",
       "    .dataframe tbody tr th {\n",
       "        vertical-align: top;\n",
       "    }\n",
       "\n",
       "    .dataframe thead th {\n",
       "        text-align: right;\n",
       "    }\n",
       "</style>\n",
       "<table border=\"1\" class=\"dataframe\">\n",
       "  <thead>\n",
       "    <tr style=\"text-align: right;\">\n",
       "      <th></th>\n",
       "      <th>unique_values</th>\n",
       "      <th>counts</th>\n",
       "    </tr>\n",
       "  </thead>\n",
       "  <tbody>\n",
       "    <tr>\n",
       "      <th>0</th>\n",
       "      <td>toyota motor corp</td>\n",
       "      <td>5644</td>\n",
       "    </tr>\n",
       "    <tr>\n",
       "      <th>211</th>\n",
       "      <td>toyota jidosha k k  toyota</td>\n",
       "      <td>19</td>\n",
       "    </tr>\n",
       "    <tr>\n",
       "      <th>229</th>\n",
       "      <td>toyota jidosha kk</td>\n",
       "      <td>17</td>\n",
       "    </tr>\n",
       "    <tr>\n",
       "      <th>498</th>\n",
       "      <td>toyota autom loom works ltd</td>\n",
       "      <td>8</td>\n",
       "    </tr>\n",
       "    <tr>\n",
       "      <th>560</th>\n",
       "      <td>toyota motor corp toyota</td>\n",
       "      <td>7</td>\n",
       "    </tr>\n",
       "    <tr>\n",
       "      <th>566</th>\n",
       "      <td>toyota jidosha k k</td>\n",
       "      <td>7</td>\n",
       "    </tr>\n",
       "    <tr>\n",
       "      <th>710</th>\n",
       "      <td>toyota central res   dev lab inc</td>\n",
       "      <td>6</td>\n",
       "    </tr>\n",
       "    <tr>\n",
       "      <th>897</th>\n",
       "      <td>toyota central r d labs inc</td>\n",
       "      <td>5</td>\n",
       "    </tr>\n",
       "    <tr>\n",
       "      <th>1048</th>\n",
       "      <td>toyota motor corp</td>\n",
       "      <td>4</td>\n",
       "    </tr>\n",
       "    <tr>\n",
       "      <th>1830</th>\n",
       "      <td>toyota jidoshokki kk</td>\n",
       "      <td>2</td>\n",
       "    </tr>\n",
       "  </tbody>\n",
       "</table>\n",
       "</div>"
      ],
      "text/plain": [
       "                         unique_values  counts\n",
       "0                    toyota motor corp    5644\n",
       "211         toyota jidosha k k  toyota      19\n",
       "229                  toyota jidosha kk      17\n",
       "498        toyota autom loom works ltd       8\n",
       "560           toyota motor corp toyota       7\n",
       "566                toyota jidosha k k        7\n",
       "710   toyota central res   dev lab inc       6\n",
       "897        toyota central r d labs inc       5\n",
       "1048                toyota motor corp        4\n",
       "1830              toyota jidoshokki kk       2"
      ]
     },
     "execution_count": 104,
     "metadata": {},
     "output_type": "execute_result"
    }
   ],
   "source": [
    "value_counts = patents_new['assignee'].value_counts(dropna=True, sort=True)\n",
    "data2 = value_counts.rename_axis('unique_values').reset_index(name='counts')\n",
    "df_val_counts = pd.DataFrame(data2)\n",
    "df_val_counts[df_val_counts.unique_values.str.contains('toyota',regex=True)][:10]"
   ]
  },
  {
   "cell_type": "code",
   "execution_count": 105,
   "metadata": {},
   "outputs": [
    {
     "data": {
      "text/plain": [
       "'toyota jidosha k k  toyota'"
      ]
     },
     "execution_count": 105,
     "metadata": {},
     "output_type": "execute_result"
    }
   ],
   "source": [
    "# for exact string catch\n",
    "df_val_counts.unique_values[211]"
   ]
  },
  {
   "cell_type": "code",
   "execution_count": 106,
   "metadata": {},
   "outputs": [
    {
     "data": {
      "text/plain": [
       "'toyota jidosha kk'"
      ]
     },
     "execution_count": 106,
     "metadata": {},
     "output_type": "execute_result"
    }
   ],
   "source": [
    "df_val_counts.unique_values[229]"
   ]
  },
  {
   "cell_type": "code",
   "execution_count": 107,
   "metadata": {},
   "outputs": [],
   "source": [
    "patents_new['assignee']=patents_new['assignee'].str.replace('toyota jidosha k k  toyota','toyota motor corp')"
   ]
  },
  {
   "cell_type": "code",
   "execution_count": 108,
   "metadata": {},
   "outputs": [],
   "source": [
    "patents_new['assignee']=patents_new['assignee'].str.replace('toyota jidosha kk','toyota motor corp')"
   ]
  },
  {
   "cell_type": "code",
   "execution_count": 109,
   "metadata": {},
   "outputs": [
    {
     "data": {
      "text/html": [
       "<div>\n",
       "<style scoped>\n",
       "    .dataframe tbody tr th:only-of-type {\n",
       "        vertical-align: middle;\n",
       "    }\n",
       "\n",
       "    .dataframe tbody tr th {\n",
       "        vertical-align: top;\n",
       "    }\n",
       "\n",
       "    .dataframe thead th {\n",
       "        text-align: right;\n",
       "    }\n",
       "</style>\n",
       "<table border=\"1\" class=\"dataframe\">\n",
       "  <thead>\n",
       "    <tr style=\"text-align: right;\">\n",
       "      <th></th>\n",
       "      <th>unique_values</th>\n",
       "      <th>counts</th>\n",
       "    </tr>\n",
       "  </thead>\n",
       "  <tbody>\n",
       "    <tr>\n",
       "      <th>0</th>\n",
       "      <td>toyota motor corp</td>\n",
       "      <td>5680</td>\n",
       "    </tr>\n",
       "    <tr>\n",
       "      <th>500</th>\n",
       "      <td>toyota autom loom works ltd</td>\n",
       "      <td>8</td>\n",
       "    </tr>\n",
       "    <tr>\n",
       "      <th>529</th>\n",
       "      <td>toyota jidosha k k</td>\n",
       "      <td>7</td>\n",
       "    </tr>\n",
       "    <tr>\n",
       "      <th>576</th>\n",
       "      <td>toyota motor corp toyota</td>\n",
       "      <td>7</td>\n",
       "    </tr>\n",
       "    <tr>\n",
       "      <th>704</th>\n",
       "      <td>toyota central res   dev lab inc</td>\n",
       "      <td>6</td>\n",
       "    </tr>\n",
       "    <tr>\n",
       "      <th>871</th>\n",
       "      <td>toyota central r d labs inc</td>\n",
       "      <td>5</td>\n",
       "    </tr>\n",
       "    <tr>\n",
       "      <th>1125</th>\n",
       "      <td>toyota motor corp</td>\n",
       "      <td>4</td>\n",
       "    </tr>\n",
       "    <tr>\n",
       "      <th>1984</th>\n",
       "      <td>toyota jidoshokki kk</td>\n",
       "      <td>2</td>\n",
       "    </tr>\n",
       "    <tr>\n",
       "      <th>2383</th>\n",
       "      <td>toyota shatai kabushiki kaisha</td>\n",
       "      <td>2</td>\n",
       "    </tr>\n",
       "    <tr>\n",
       "      <th>2463</th>\n",
       "      <td>toyota boshoku corp</td>\n",
       "      <td>2</td>\n",
       "    </tr>\n",
       "  </tbody>\n",
       "</table>\n",
       "</div>"
      ],
      "text/plain": [
       "                         unique_values  counts\n",
       "0                    toyota motor corp    5680\n",
       "500        toyota autom loom works ltd       8\n",
       "529                toyota jidosha k k        7\n",
       "576           toyota motor corp toyota       7\n",
       "704   toyota central res   dev lab inc       6\n",
       "871        toyota central r d labs inc       5\n",
       "1125                toyota motor corp        4\n",
       "1984              toyota jidoshokki kk       2\n",
       "2383    toyota shatai kabushiki kaisha       2\n",
       "2463               toyota boshoku corp       2"
      ]
     },
     "execution_count": 109,
     "metadata": {},
     "output_type": "execute_result"
    }
   ],
   "source": [
    "value_counts = patents_new['assignee'].value_counts(dropna=True, sort=True)\n",
    "data2 = value_counts.rename_axis('unique_values').reset_index(name='counts')\n",
    "df_val_counts = pd.DataFrame(data2)\n",
    "df_val_counts[df_val_counts.unique_values.str.contains('toyota',regex=True)][:10]"
   ]
  },
  {
   "cell_type": "markdown",
   "metadata": {},
   "source": [
    "We will stop here with toyota and we shall move next to other entities"
   ]
  },
  {
   "cell_type": "code",
   "execution_count": 110,
   "metadata": {},
   "outputs": [
    {
     "data": {
      "text/plain": [
       "toyota motor corp                            5680\n",
       "hyundai motor company                        1990\n",
       "honda motor co ltd                           1206\n",
       "ford global technologies llc                 1009\n",
       "nissan motor co ltd                           996\n",
       "nissan motor co  ltd                          908\n",
       "honda motor co  ltd                           814\n",
       "robert bosch gmbh                             557\n",
       "honda giken kogyo kabushiki kaisha            492\n",
       "denso corp                                    262\n",
       "mitsubishi motors corp                        260\n",
       "peugeot citroen automobiles sa                244\n",
       "hitachi ltd                                   229\n",
       "lsis co  ltd                                  222\n",
       "gm global technology operations llc           212\n",
       "hyundai motor co ltd                          200\n",
       "mazda motor corp                              194\n",
       "sony corporation                              192\n",
       "aisin aw co  ltd                              187\n",
       "mitsubishi jidosha kogyo kabushiki kaisha     186\n",
       "Name: assignee, dtype: int64"
      ]
     },
     "execution_count": 110,
     "metadata": {},
     "output_type": "execute_result"
    }
   ],
   "source": [
    "patents_new['assignee'].value_counts()[:20]"
   ]
  },
  {
   "cell_type": "markdown",
   "metadata": {},
   "source": [
    "### save your work uptill Toyota"
   ]
  },
  {
   "cell_type": "code",
   "execution_count": 111,
   "metadata": {},
   "outputs": [],
   "source": [
    "import pickle\n",
    "patents_new.to_pickle('patent_firm_full_clean.pkl')"
   ]
  },
  {
   "cell_type": "code",
   "execution_count": 112,
   "metadata": {},
   "outputs": [],
   "source": [
    "patents_new.to_csv('patent_firm_full_clean.csv')"
   ]
  },
  {
   "cell_type": "markdown",
   "metadata": {},
   "source": [
    "### For honda"
   ]
  },
  {
   "cell_type": "code",
   "execution_count": 113,
   "metadata": {},
   "outputs": [
    {
     "data": {
      "text/html": [
       "<div>\n",
       "<style scoped>\n",
       "    .dataframe tbody tr th:only-of-type {\n",
       "        vertical-align: middle;\n",
       "    }\n",
       "\n",
       "    .dataframe tbody tr th {\n",
       "        vertical-align: top;\n",
       "    }\n",
       "\n",
       "    .dataframe thead th {\n",
       "        text-align: right;\n",
       "    }\n",
       "</style>\n",
       "<table border=\"1\" class=\"dataframe\">\n",
       "  <thead>\n",
       "    <tr style=\"text-align: right;\">\n",
       "      <th></th>\n",
       "      <th>unique_values</th>\n",
       "      <th>counts</th>\n",
       "    </tr>\n",
       "  </thead>\n",
       "  <tbody>\n",
       "    <tr>\n",
       "      <th>2</th>\n",
       "      <td>honda motor co ltd</td>\n",
       "      <td>1206</td>\n",
       "    </tr>\n",
       "    <tr>\n",
       "      <th>6</th>\n",
       "      <td>honda motor co  ltd</td>\n",
       "      <td>814</td>\n",
       "    </tr>\n",
       "    <tr>\n",
       "      <th>8</th>\n",
       "      <td>honda giken kogyo kabushiki kaisha</td>\n",
       "      <td>492</td>\n",
       "    </tr>\n",
       "    <tr>\n",
       "      <th>168</th>\n",
       "      <td>honda giken kogyo kabusiki kaisha</td>\n",
       "      <td>25</td>\n",
       "    </tr>\n",
       "    <tr>\n",
       "      <th>190</th>\n",
       "      <td>honda giken kogyo k k</td>\n",
       "      <td>21</td>\n",
       "    </tr>\n",
       "    <tr>\n",
       "      <th>191</th>\n",
       "      <td>honda giken kogyo kabushiki kaisha  also tradi...</td>\n",
       "      <td>21</td>\n",
       "    </tr>\n",
       "    <tr>\n",
       "      <th>195</th>\n",
       "      <td>honda giken kogyo k  k</td>\n",
       "      <td>20</td>\n",
       "    </tr>\n",
       "    <tr>\n",
       "      <th>243</th>\n",
       "      <td>khonda motor ko  ltd</td>\n",
       "      <td>16</td>\n",
       "    </tr>\n",
       "    <tr>\n",
       "      <th>245</th>\n",
       "      <td>honda giken kogyo k k  tokio tokyo</td>\n",
       "      <td>16</td>\n",
       "    </tr>\n",
       "    <tr>\n",
       "      <th>290</th>\n",
       "      <td>honda giken kogyo kk</td>\n",
       "      <td>13</td>\n",
       "    </tr>\n",
       "    <tr>\n",
       "      <th>321</th>\n",
       "      <td>honda motor co  ltd</td>\n",
       "      <td>11</td>\n",
       "    </tr>\n",
       "    <tr>\n",
       "      <th>1006</th>\n",
       "      <td>honda motor company limited</td>\n",
       "      <td>4</td>\n",
       "    </tr>\n",
       "    <tr>\n",
       "      <th>1142</th>\n",
       "      <td>honda motor co ltd</td>\n",
       "      <td>4</td>\n",
       "    </tr>\n",
       "    <tr>\n",
       "      <th>2328</th>\n",
       "      <td>honda giken kogyo k k  tokio tokyo jp</td>\n",
       "      <td>2</td>\n",
       "    </tr>\n",
       "    <tr>\n",
       "      <th>3289</th>\n",
       "      <td>honda giken k k</td>\n",
       "      <td>1</td>\n",
       "    </tr>\n",
       "    <tr>\n",
       "      <th>3455</th>\n",
       "      <td>honda giken kogyo kabushiki kaish</td>\n",
       "      <td>1</td>\n",
       "    </tr>\n",
       "    <tr>\n",
       "      <th>4234</th>\n",
       "      <td>honda giken kogyo kasbushiki kaisha</td>\n",
       "      <td>1</td>\n",
       "    </tr>\n",
       "    <tr>\n",
       "      <th>4393</th>\n",
       "      <td>honda motor company ltd</td>\n",
       "      <td>1</td>\n",
       "    </tr>\n",
       "    <tr>\n",
       "      <th>5317</th>\n",
       "      <td>honda giken kogyo</td>\n",
       "      <td>1</td>\n",
       "    </tr>\n",
       "    <tr>\n",
       "      <th>5808</th>\n",
       "      <td>honda motor co   ltd</td>\n",
       "      <td>1</td>\n",
       "    </tr>\n",
       "    <tr>\n",
       "      <th>6063</th>\n",
       "      <td>honda tomoyuki</td>\n",
       "      <td>1</td>\n",
       "    </tr>\n",
       "    <tr>\n",
       "      <th>6064</th>\n",
       "      <td>honda giken kogyo k k</td>\n",
       "      <td>1</td>\n",
       "    </tr>\n",
       "    <tr>\n",
       "      <th>6579</th>\n",
       "      <td>honda motor co</td>\n",
       "      <td>1</td>\n",
       "    </tr>\n",
       "    <tr>\n",
       "      <th>6723</th>\n",
       "      <td>honda koichiro</td>\n",
       "      <td>1</td>\n",
       "    </tr>\n",
       "    <tr>\n",
       "      <th>6855</th>\n",
       "      <td>khonda motor ko  ltd</td>\n",
       "      <td>1</td>\n",
       "    </tr>\n",
       "    <tr>\n",
       "      <th>8297</th>\n",
       "      <td>honda giken kogyo kabushiki kaisha</td>\n",
       "      <td>1</td>\n",
       "    </tr>\n",
       "    <tr>\n",
       "      <th>8330</th>\n",
       "      <td>honda technology research industry kk</td>\n",
       "      <td>1</td>\n",
       "    </tr>\n",
       "  </tbody>\n",
       "</table>\n",
       "</div>"
      ],
      "text/plain": [
       "                                          unique_values  counts\n",
       "2                                    honda motor co ltd    1206\n",
       "6                                  honda motor co  ltd      814\n",
       "8                    honda giken kogyo kabushiki kaisha     492\n",
       "168                   honda giken kogyo kabusiki kaisha      25\n",
       "190                              honda giken kogyo k k       21\n",
       "191   honda giken kogyo kabushiki kaisha  also tradi...      21\n",
       "195                             honda giken kogyo k  k       20\n",
       "243                               khonda motor ko  ltd       16\n",
       "245                  honda giken kogyo k k  tokio tokyo      16\n",
       "290                                honda giken kogyo kk      13\n",
       "321                                 honda motor co  ltd      11\n",
       "1006                        honda motor company limited       4\n",
       "1142                                honda motor co ltd        4\n",
       "2328              honda giken kogyo k k  tokio tokyo jp       2\n",
       "3289                                   honda giken k k        1\n",
       "3455                  honda giken kogyo kabushiki kaish       1\n",
       "4234                honda giken kogyo kasbushiki kaisha       1\n",
       "4393                           honda motor company ltd        1\n",
       "5317                                  honda giken kogyo       1\n",
       "5808                              honda motor co   ltd        1\n",
       "6063                                     honda tomoyuki       1\n",
       "6064                              honda giken kogyo k k       1\n",
       "6579                                    honda motor co        1\n",
       "6723                                     honda koichiro       1\n",
       "6855                               khonda motor ko  ltd       1\n",
       "8297                honda giken kogyo kabushiki kaisha        1\n",
       "8330              honda technology research industry kk       1"
      ]
     },
     "execution_count": 113,
     "metadata": {},
     "output_type": "execute_result"
    }
   ],
   "source": [
    "df_val_counts[df_val_counts.unique_values.str.contains('honda',regex=True)]"
   ]
  },
  {
   "cell_type": "code",
   "execution_count": 114,
   "metadata": {},
   "outputs": [
    {
     "data": {
      "text/plain": [
       "27"
      ]
     },
     "execution_count": 114,
     "metadata": {},
     "output_type": "execute_result"
    }
   ],
   "source": [
    "len(df_val_counts[df_val_counts.unique_values.str.contains('honda',regex=True)])"
   ]
  },
  {
   "cell_type": "code",
   "execution_count": 115,
   "metadata": {},
   "outputs": [
    {
     "data": {
      "text/plain": [
       "'honda motor co ltd'"
      ]
     },
     "execution_count": 115,
     "metadata": {},
     "output_type": "execute_result"
    }
   ],
   "source": [
    "# for exact string catch\n",
    "df_val_counts.unique_values[2]"
   ]
  },
  {
   "cell_type": "code",
   "execution_count": 116,
   "metadata": {},
   "outputs": [
    {
     "data": {
      "text/plain": [
       "'honda motor co  ltd '"
      ]
     },
     "execution_count": 116,
     "metadata": {},
     "output_type": "execute_result"
    }
   ],
   "source": [
    "df_val_counts.unique_values[6]"
   ]
  },
  {
   "cell_type": "code",
   "execution_count": 118,
   "metadata": {},
   "outputs": [],
   "source": [
    "patents_new['assignee']=patents_new['assignee'].str.replace('honda motor co  ltd' ,'honda motor co ltd')"
   ]
  },
  {
   "cell_type": "code",
   "execution_count": 117,
   "metadata": {},
   "outputs": [
    {
     "name": "stdout",
     "output_type": "stream",
     "text": [
      "honda giken kogyo kabushiki kaisha\n",
      "honda giken kogyo kabusiki kaisha\n"
     ]
    }
   ],
   "source": [
    "print(df_val_counts.unique_values[8])\n",
    "print(df_val_counts.unique_values[168])"
   ]
  },
  {
   "cell_type": "code",
   "execution_count": 119,
   "metadata": {},
   "outputs": [],
   "source": [
    "patents_new['assignee']=patents_new['assignee'].str.replace('honda giken kogyo kabushiki kaisha','honda motor co ltd')"
   ]
  },
  {
   "cell_type": "code",
   "execution_count": 120,
   "metadata": {},
   "outputs": [],
   "source": [
    "patents_new['assignee']=patents_new['assignee'].str.replace('honda giken kogyo kabusiki kaisha','honda motor co ltd')"
   ]
  },
  {
   "cell_type": "code",
   "execution_count": 121,
   "metadata": {},
   "outputs": [
    {
     "data": {
      "text/html": [
       "<div>\n",
       "<style scoped>\n",
       "    .dataframe tbody tr th:only-of-type {\n",
       "        vertical-align: middle;\n",
       "    }\n",
       "\n",
       "    .dataframe tbody tr th {\n",
       "        vertical-align: top;\n",
       "    }\n",
       "\n",
       "    .dataframe thead th {\n",
       "        text-align: right;\n",
       "    }\n",
       "</style>\n",
       "<table border=\"1\" class=\"dataframe\">\n",
       "  <thead>\n",
       "    <tr style=\"text-align: right;\">\n",
       "      <th></th>\n",
       "      <th>unique_values</th>\n",
       "      <th>counts</th>\n",
       "    </tr>\n",
       "  </thead>\n",
       "  <tbody>\n",
       "    <tr>\n",
       "      <th>2</th>\n",
       "      <td>honda motor co ltd</td>\n",
       "      <td>1734</td>\n",
       "    </tr>\n",
       "    <tr>\n",
       "      <th>6</th>\n",
       "      <td>honda motor co ltd</td>\n",
       "      <td>819</td>\n",
       "    </tr>\n",
       "    <tr>\n",
       "      <th>186</th>\n",
       "      <td>honda motor co ltd  also trading as honda moto...</td>\n",
       "      <td>21</td>\n",
       "    </tr>\n",
       "    <tr>\n",
       "      <th>189</th>\n",
       "      <td>honda giken kogyo k k</td>\n",
       "      <td>21</td>\n",
       "    </tr>\n",
       "    <tr>\n",
       "      <th>191</th>\n",
       "      <td>honda giken kogyo k  k</td>\n",
       "      <td>20</td>\n",
       "    </tr>\n",
       "    <tr>\n",
       "      <th>233</th>\n",
       "      <td>honda giken kogyo k k  tokio tokyo</td>\n",
       "      <td>16</td>\n",
       "    </tr>\n",
       "    <tr>\n",
       "      <th>241</th>\n",
       "      <td>khonda motor ko  ltd</td>\n",
       "      <td>16</td>\n",
       "    </tr>\n",
       "    <tr>\n",
       "      <th>283</th>\n",
       "      <td>honda giken kogyo kk</td>\n",
       "      <td>13</td>\n",
       "    </tr>\n",
       "    <tr>\n",
       "      <th>913</th>\n",
       "      <td>honda motor company limited</td>\n",
       "      <td>4</td>\n",
       "    </tr>\n",
       "    <tr>\n",
       "      <th>1825</th>\n",
       "      <td>honda giken kogyo k k  tokio tokyo jp</td>\n",
       "      <td>2</td>\n",
       "    </tr>\n",
       "    <tr>\n",
       "      <th>3182</th>\n",
       "      <td>honda giken k k</td>\n",
       "      <td>1</td>\n",
       "    </tr>\n",
       "    <tr>\n",
       "      <th>3336</th>\n",
       "      <td>honda giken kogyo kabushiki kaish</td>\n",
       "      <td>1</td>\n",
       "    </tr>\n",
       "    <tr>\n",
       "      <th>4230</th>\n",
       "      <td>honda giken kogyo kasbushiki kaisha</td>\n",
       "      <td>1</td>\n",
       "    </tr>\n",
       "    <tr>\n",
       "      <th>4389</th>\n",
       "      <td>honda motor company ltd</td>\n",
       "      <td>1</td>\n",
       "    </tr>\n",
       "    <tr>\n",
       "      <th>5313</th>\n",
       "      <td>honda giken kogyo</td>\n",
       "      <td>1</td>\n",
       "    </tr>\n",
       "    <tr>\n",
       "      <th>5806</th>\n",
       "      <td>honda motor co   ltd</td>\n",
       "      <td>1</td>\n",
       "    </tr>\n",
       "    <tr>\n",
       "      <th>6061</th>\n",
       "      <td>honda tomoyuki</td>\n",
       "      <td>1</td>\n",
       "    </tr>\n",
       "    <tr>\n",
       "      <th>6062</th>\n",
       "      <td>honda giken kogyo k k</td>\n",
       "      <td>1</td>\n",
       "    </tr>\n",
       "    <tr>\n",
       "      <th>6576</th>\n",
       "      <td>honda motor co</td>\n",
       "      <td>1</td>\n",
       "    </tr>\n",
       "    <tr>\n",
       "      <th>6719</th>\n",
       "      <td>honda koichiro</td>\n",
       "      <td>1</td>\n",
       "    </tr>\n",
       "    <tr>\n",
       "      <th>6851</th>\n",
       "      <td>khonda motor ko  ltd</td>\n",
       "      <td>1</td>\n",
       "    </tr>\n",
       "    <tr>\n",
       "      <th>8326</th>\n",
       "      <td>honda technology research industry kk</td>\n",
       "      <td>1</td>\n",
       "    </tr>\n",
       "  </tbody>\n",
       "</table>\n",
       "</div>"
      ],
      "text/plain": [
       "                                          unique_values  counts\n",
       "2                                    honda motor co ltd    1734\n",
       "6                                   honda motor co ltd      819\n",
       "186   honda motor co ltd  also trading as honda moto...      21\n",
       "189                              honda giken kogyo k k       21\n",
       "191                             honda giken kogyo k  k       20\n",
       "233                  honda giken kogyo k k  tokio tokyo      16\n",
       "241                               khonda motor ko  ltd       16\n",
       "283                                honda giken kogyo kk      13\n",
       "913                         honda motor company limited       4\n",
       "1825              honda giken kogyo k k  tokio tokyo jp       2\n",
       "3182                                   honda giken k k        1\n",
       "3336                  honda giken kogyo kabushiki kaish       1\n",
       "4230                honda giken kogyo kasbushiki kaisha       1\n",
       "4389                           honda motor company ltd        1\n",
       "5313                                  honda giken kogyo       1\n",
       "5806                              honda motor co   ltd        1\n",
       "6061                                     honda tomoyuki       1\n",
       "6062                              honda giken kogyo k k       1\n",
       "6576                                    honda motor co        1\n",
       "6719                                     honda koichiro       1\n",
       "6851                               khonda motor ko  ltd       1\n",
       "8326              honda technology research industry kk       1"
      ]
     },
     "execution_count": 121,
     "metadata": {},
     "output_type": "execute_result"
    }
   ],
   "source": [
    "value_counts = patents_new['assignee'].value_counts(dropna=True, sort=True)\n",
    "data2 = value_counts.rename_axis('unique_values').reset_index(name='counts')\n",
    "df_val_counts = pd.DataFrame(data2)\n",
    "df_val_counts[df_val_counts.unique_values.str.contains('honda',regex=True)]"
   ]
  },
  {
   "cell_type": "code",
   "execution_count": 122,
   "metadata": {},
   "outputs": [
    {
     "name": "stdout",
     "output_type": "stream",
     "text": [
      "honda motor co ltd\n",
      "honda motor co ltd \n"
     ]
    }
   ],
   "source": [
    "print(df_val_counts.unique_values[2])\n",
    "print(df_val_counts.unique_values[6])"
   ]
  },
  {
   "cell_type": "code",
   "execution_count": 123,
   "metadata": {},
   "outputs": [],
   "source": [
    "patents_new['assignee']=patents_new['assignee'].str.replace('honda motor co ltd','honda motor company ltd')"
   ]
  },
  {
   "cell_type": "code",
   "execution_count": 124,
   "metadata": {},
   "outputs": [],
   "source": [
    "patents_new['assignee']=patents_new['assignee'].str.replace('honda motor co ltd','honda motor company ltd')"
   ]
  },
  {
   "cell_type": "code",
   "execution_count": 125,
   "metadata": {},
   "outputs": [
    {
     "name": "stdout",
     "output_type": "stream",
     "text": [
      "honda motor co ltd  also trading as honda motor co ltd    \n",
      "honda giken kogyo k  k \n",
      "honda giken kogyo k k  tokio tokyo\n",
      "khonda motor ko  ltd \n",
      "honda giken kogyo kk\n"
     ]
    }
   ],
   "source": [
    "print(df_val_counts.unique_values[186])\n",
    "print(df_val_counts.unique_values[191])\n",
    "print(df_val_counts.unique_values[233])\n",
    "print(df_val_counts.unique_values[241])\n",
    "print(df_val_counts.unique_values[283])"
   ]
  },
  {
   "cell_type": "code",
   "execution_count": 126,
   "metadata": {},
   "outputs": [],
   "source": [
    "patents_new['assignee']=patents_new['assignee'].str.replace('honda motor co ltd  also trading as honda motor co ltd','honda motor company ltd')"
   ]
  },
  {
   "cell_type": "code",
   "execution_count": 127,
   "metadata": {},
   "outputs": [],
   "source": [
    "patents_new['assignee']=patents_new['assignee'].str.replace('honda giken kogyo k  k','honda motor company ltd')"
   ]
  },
  {
   "cell_type": "code",
   "execution_count": 128,
   "metadata": {},
   "outputs": [],
   "source": [
    "patents_new['assignee']=patents_new['assignee'].str.replace('honda giken kogyo k k  tokio tokyo','honda motor company ltd')"
   ]
  },
  {
   "cell_type": "code",
   "execution_count": 129,
   "metadata": {},
   "outputs": [],
   "source": [
    "patents_new['assignee']=patents_new['assignee'].str.replace('khonda motor ko  ltd','honda motor company ltd')"
   ]
  },
  {
   "cell_type": "code",
   "execution_count": 130,
   "metadata": {},
   "outputs": [],
   "source": [
    "patents_new['assignee']=patents_new['assignee'].str.replace('honda giken kogyo kk','honda motor company ltd')"
   ]
  },
  {
   "cell_type": "code",
   "execution_count": 131,
   "metadata": {
    "scrolled": true
   },
   "outputs": [
    {
     "data": {
      "text/html": [
       "<div>\n",
       "<style scoped>\n",
       "    .dataframe tbody tr th:only-of-type {\n",
       "        vertical-align: middle;\n",
       "    }\n",
       "\n",
       "    .dataframe tbody tr th {\n",
       "        vertical-align: top;\n",
       "    }\n",
       "\n",
       "    .dataframe thead th {\n",
       "        text-align: right;\n",
       "    }\n",
       "</style>\n",
       "<table border=\"1\" class=\"dataframe\">\n",
       "  <thead>\n",
       "    <tr style=\"text-align: right;\">\n",
       "      <th></th>\n",
       "      <th>unique_values</th>\n",
       "      <th>counts</th>\n",
       "    </tr>\n",
       "  </thead>\n",
       "  <tbody>\n",
       "    <tr>\n",
       "      <th>2</th>\n",
       "      <td>honda motor company ltd</td>\n",
       "      <td>1764</td>\n",
       "    </tr>\n",
       "    <tr>\n",
       "      <th>6</th>\n",
       "      <td>honda motor company ltd</td>\n",
       "      <td>856</td>\n",
       "    </tr>\n",
       "    <tr>\n",
       "      <th>186</th>\n",
       "      <td>honda motor company ltd  also trading as honda...</td>\n",
       "      <td>21</td>\n",
       "    </tr>\n",
       "    <tr>\n",
       "      <th>190</th>\n",
       "      <td>honda giken kogyo k k</td>\n",
       "      <td>21</td>\n",
       "    </tr>\n",
       "    <tr>\n",
       "      <th>1057</th>\n",
       "      <td>honda motor company limited</td>\n",
       "      <td>4</td>\n",
       "    </tr>\n",
       "    <tr>\n",
       "      <th>2005</th>\n",
       "      <td>honda motor company ltd jp</td>\n",
       "      <td>2</td>\n",
       "    </tr>\n",
       "    <tr>\n",
       "      <th>3244</th>\n",
       "      <td>honda giken k k</td>\n",
       "      <td>1</td>\n",
       "    </tr>\n",
       "    <tr>\n",
       "      <th>3262</th>\n",
       "      <td>honda giken kogyo kabushiki kaish</td>\n",
       "      <td>1</td>\n",
       "    </tr>\n",
       "    <tr>\n",
       "      <th>4223</th>\n",
       "      <td>honda giken kogyo kasbushiki kaisha</td>\n",
       "      <td>1</td>\n",
       "    </tr>\n",
       "    <tr>\n",
       "      <th>5308</th>\n",
       "      <td>honda giken kogyo</td>\n",
       "      <td>1</td>\n",
       "    </tr>\n",
       "    <tr>\n",
       "      <th>5798</th>\n",
       "      <td>honda motor co   ltd</td>\n",
       "      <td>1</td>\n",
       "    </tr>\n",
       "    <tr>\n",
       "      <th>6053</th>\n",
       "      <td>honda tomoyuki</td>\n",
       "      <td>1</td>\n",
       "    </tr>\n",
       "    <tr>\n",
       "      <th>6054</th>\n",
       "      <td>honda giken kogyo k k</td>\n",
       "      <td>1</td>\n",
       "    </tr>\n",
       "    <tr>\n",
       "      <th>6569</th>\n",
       "      <td>honda motor co</td>\n",
       "      <td>1</td>\n",
       "    </tr>\n",
       "    <tr>\n",
       "      <th>6714</th>\n",
       "      <td>honda koichiro</td>\n",
       "      <td>1</td>\n",
       "    </tr>\n",
       "    <tr>\n",
       "      <th>8317</th>\n",
       "      <td>honda technology research industry kk</td>\n",
       "      <td>1</td>\n",
       "    </tr>\n",
       "  </tbody>\n",
       "</table>\n",
       "</div>"
      ],
      "text/plain": [
       "                                          unique_values  counts\n",
       "2                               honda motor company ltd    1764\n",
       "6                              honda motor company ltd      856\n",
       "186   honda motor company ltd  also trading as honda...      21\n",
       "190                              honda giken kogyo k k       21\n",
       "1057                        honda motor company limited       4\n",
       "2005                         honda motor company ltd jp       2\n",
       "3244                                   honda giken k k        1\n",
       "3262                  honda giken kogyo kabushiki kaish       1\n",
       "4223                honda giken kogyo kasbushiki kaisha       1\n",
       "5308                                  honda giken kogyo       1\n",
       "5798                              honda motor co   ltd        1\n",
       "6053                                     honda tomoyuki       1\n",
       "6054                              honda giken kogyo k k       1\n",
       "6569                                    honda motor co        1\n",
       "6714                                     honda koichiro       1\n",
       "8317              honda technology research industry kk       1"
      ]
     },
     "execution_count": 131,
     "metadata": {},
     "output_type": "execute_result"
    }
   ],
   "source": [
    "value_counts = patents_new['assignee'].value_counts(dropna=True, sort=True)\n",
    "data2 = value_counts.rename_axis('unique_values').reset_index(name='counts')\n",
    "df_val_counts = pd.DataFrame(data2)\n",
    "df_val_counts[df_val_counts.unique_values.str.contains('honda',regex=True)]"
   ]
  },
  {
   "cell_type": "code",
   "execution_count": 132,
   "metadata": {},
   "outputs": [
    {
     "name": "stdout",
     "output_type": "stream",
     "text": [
      "honda motor company ltd\n",
      "honda motor company ltd \n"
     ]
    }
   ],
   "source": [
    "print(df_val_counts.unique_values[2])\n",
    "print(df_val_counts.unique_values[6])"
   ]
  },
  {
   "cell_type": "code",
   "execution_count": 133,
   "metadata": {},
   "outputs": [],
   "source": [
    "patents_new['assignee']=patents_new['assignee'].str.replace('honda motor company ltd','honda motor ltd')"
   ]
  },
  {
   "cell_type": "code",
   "execution_count": 134,
   "metadata": {},
   "outputs": [],
   "source": [
    "patents_new['assignee']=patents_new['assignee'].str.replace('honda motor co ltd  also trading as honda motor co ltd','honda motor company ltd')"
   ]
  },
  {
   "cell_type": "code",
   "execution_count": 135,
   "metadata": {},
   "outputs": [
    {
     "data": {
      "text/html": [
       "<div>\n",
       "<style scoped>\n",
       "    .dataframe tbody tr th:only-of-type {\n",
       "        vertical-align: middle;\n",
       "    }\n",
       "\n",
       "    .dataframe tbody tr th {\n",
       "        vertical-align: top;\n",
       "    }\n",
       "\n",
       "    .dataframe thead th {\n",
       "        text-align: right;\n",
       "    }\n",
       "</style>\n",
       "<table border=\"1\" class=\"dataframe\">\n",
       "  <thead>\n",
       "    <tr style=\"text-align: right;\">\n",
       "      <th></th>\n",
       "      <th>unique_values</th>\n",
       "      <th>counts</th>\n",
       "    </tr>\n",
       "  </thead>\n",
       "  <tbody>\n",
       "    <tr>\n",
       "      <th>2</th>\n",
       "      <td>honda motor ltd</td>\n",
       "      <td>1764</td>\n",
       "    </tr>\n",
       "    <tr>\n",
       "      <th>6</th>\n",
       "      <td>honda motor ltd</td>\n",
       "      <td>856</td>\n",
       "    </tr>\n",
       "    <tr>\n",
       "      <th>185</th>\n",
       "      <td>honda motor ltd  also trading as honda motor l...</td>\n",
       "      <td>21</td>\n",
       "    </tr>\n",
       "    <tr>\n",
       "      <th>186</th>\n",
       "      <td>honda giken kogyo k k</td>\n",
       "      <td>21</td>\n",
       "    </tr>\n",
       "    <tr>\n",
       "      <th>1107</th>\n",
       "      <td>honda motor company limited</td>\n",
       "      <td>4</td>\n",
       "    </tr>\n",
       "    <tr>\n",
       "      <th>3157</th>\n",
       "      <td>honda motor ltd jp</td>\n",
       "      <td>2</td>\n",
       "    </tr>\n",
       "    <tr>\n",
       "      <th>3232</th>\n",
       "      <td>honda giken k k</td>\n",
       "      <td>1</td>\n",
       "    </tr>\n",
       "    <tr>\n",
       "      <th>3611</th>\n",
       "      <td>honda giken kogyo kabushiki kaish</td>\n",
       "      <td>1</td>\n",
       "    </tr>\n",
       "    <tr>\n",
       "      <th>4224</th>\n",
       "      <td>honda giken kogyo kasbushiki kaisha</td>\n",
       "      <td>1</td>\n",
       "    </tr>\n",
       "    <tr>\n",
       "      <th>5308</th>\n",
       "      <td>honda giken kogyo</td>\n",
       "      <td>1</td>\n",
       "    </tr>\n",
       "    <tr>\n",
       "      <th>5798</th>\n",
       "      <td>honda motor co   ltd</td>\n",
       "      <td>1</td>\n",
       "    </tr>\n",
       "    <tr>\n",
       "      <th>6053</th>\n",
       "      <td>honda tomoyuki</td>\n",
       "      <td>1</td>\n",
       "    </tr>\n",
       "    <tr>\n",
       "      <th>6054</th>\n",
       "      <td>honda giken kogyo k k</td>\n",
       "      <td>1</td>\n",
       "    </tr>\n",
       "    <tr>\n",
       "      <th>6569</th>\n",
       "      <td>honda motor co</td>\n",
       "      <td>1</td>\n",
       "    </tr>\n",
       "    <tr>\n",
       "      <th>6714</th>\n",
       "      <td>honda koichiro</td>\n",
       "      <td>1</td>\n",
       "    </tr>\n",
       "    <tr>\n",
       "      <th>8316</th>\n",
       "      <td>honda technology research industry kk</td>\n",
       "      <td>1</td>\n",
       "    </tr>\n",
       "  </tbody>\n",
       "</table>\n",
       "</div>"
      ],
      "text/plain": [
       "                                          unique_values  counts\n",
       "2                                       honda motor ltd    1764\n",
       "6                                      honda motor ltd      856\n",
       "185   honda motor ltd  also trading as honda motor l...      21\n",
       "186                              honda giken kogyo k k       21\n",
       "1107                        honda motor company limited       4\n",
       "3157                                 honda motor ltd jp       2\n",
       "3232                                   honda giken k k        1\n",
       "3611                  honda giken kogyo kabushiki kaish       1\n",
       "4224                honda giken kogyo kasbushiki kaisha       1\n",
       "5308                                  honda giken kogyo       1\n",
       "5798                              honda motor co   ltd        1\n",
       "6053                                     honda tomoyuki       1\n",
       "6054                              honda giken kogyo k k       1\n",
       "6569                                    honda motor co        1\n",
       "6714                                     honda koichiro       1\n",
       "8316              honda technology research industry kk       1"
      ]
     },
     "execution_count": 135,
     "metadata": {},
     "output_type": "execute_result"
    }
   ],
   "source": [
    "value_counts = patents_new['assignee'].value_counts(dropna=True, sort=True)\n",
    "data2 = value_counts.rename_axis('unique_values').reset_index(name='counts')\n",
    "df_val_counts = pd.DataFrame(data2)\n",
    "df_val_counts[df_val_counts.unique_values.str.contains('honda',regex=True)]"
   ]
  },
  {
   "cell_type": "code",
   "execution_count": 142,
   "metadata": {},
   "outputs": [
    {
     "data": {
      "text/plain": [
       "'honda motor ltd '"
      ]
     },
     "execution_count": 142,
     "metadata": {},
     "output_type": "execute_result"
    }
   ],
   "source": [
    "df_val_counts.unique_values[6]"
   ]
  },
  {
   "cell_type": "code",
   "execution_count": 143,
   "metadata": {},
   "outputs": [
    {
     "data": {
      "text/plain": [
       "'honda motor ltd  also trading as honda motor ltd    '"
      ]
     },
     "execution_count": 143,
     "metadata": {},
     "output_type": "execute_result"
    }
   ],
   "source": [
    "df_val_counts.unique_values[185]"
   ]
  },
  {
   "cell_type": "code",
   "execution_count": 141,
   "metadata": {},
   "outputs": [
    {
     "data": {
      "text/plain": [
       "'honda giken kogyo k k '"
      ]
     },
     "execution_count": 141,
     "metadata": {},
     "output_type": "execute_result"
    }
   ],
   "source": [
    "df_val_counts.unique_values[186]"
   ]
  },
  {
   "cell_type": "code",
   "execution_count": 138,
   "metadata": {},
   "outputs": [],
   "source": [
    "patents_new['assignee']=patents_new['assignee'].str.replace('honda motor ltd ','honda motor ltd')"
   ]
  },
  {
   "cell_type": "code",
   "execution_count": 144,
   "metadata": {},
   "outputs": [],
   "source": [
    "patents_new['assignee']=patents_new['assignee'].str.replace('honda motor ltd  also trading as honda motor ltd    ','honda motor ltd')"
   ]
  },
  {
   "cell_type": "code",
   "execution_count": 145,
   "metadata": {},
   "outputs": [],
   "source": [
    "patents_new['assignee']=patents_new['assignee'].str.replace('honda giken kogyo k k ','honda motor ltd')"
   ]
  },
  {
   "cell_type": "code",
   "execution_count": 146,
   "metadata": {},
   "outputs": [
    {
     "data": {
      "text/html": [
       "<div>\n",
       "<style scoped>\n",
       "    .dataframe tbody tr th:only-of-type {\n",
       "        vertical-align: middle;\n",
       "    }\n",
       "\n",
       "    .dataframe tbody tr th {\n",
       "        vertical-align: top;\n",
       "    }\n",
       "\n",
       "    .dataframe thead th {\n",
       "        text-align: right;\n",
       "    }\n",
       "</style>\n",
       "<table border=\"1\" class=\"dataframe\">\n",
       "  <thead>\n",
       "    <tr style=\"text-align: right;\">\n",
       "      <th></th>\n",
       "      <th>unique_values</th>\n",
       "      <th>counts</th>\n",
       "    </tr>\n",
       "  </thead>\n",
       "  <tbody>\n",
       "    <tr>\n",
       "      <th>1</th>\n",
       "      <td>honda motor ltd</td>\n",
       "      <td>2641</td>\n",
       "    </tr>\n",
       "    <tr>\n",
       "      <th>187</th>\n",
       "      <td>honda motor ltd also trading as honda motor lt...</td>\n",
       "      <td>21</td>\n",
       "    </tr>\n",
       "    <tr>\n",
       "      <th>1016</th>\n",
       "      <td>honda motor company limited</td>\n",
       "      <td>4</td>\n",
       "    </tr>\n",
       "    <tr>\n",
       "      <th>2583</th>\n",
       "      <td>honda motor ltdjp</td>\n",
       "      <td>2</td>\n",
       "    </tr>\n",
       "    <tr>\n",
       "      <th>3626</th>\n",
       "      <td>honda giken kogyo kabushiki kaish</td>\n",
       "      <td>1</td>\n",
       "    </tr>\n",
       "    <tr>\n",
       "      <th>4291</th>\n",
       "      <td>honda giken kogyo</td>\n",
       "      <td>1</td>\n",
       "    </tr>\n",
       "    <tr>\n",
       "      <th>5013</th>\n",
       "      <td>honda giken k k</td>\n",
       "      <td>1</td>\n",
       "    </tr>\n",
       "    <tr>\n",
       "      <th>5206</th>\n",
       "      <td>honda giken kogyo kasbushiki kaisha</td>\n",
       "      <td>1</td>\n",
       "    </tr>\n",
       "    <tr>\n",
       "      <th>5796</th>\n",
       "      <td>honda motor co   ltd</td>\n",
       "      <td>1</td>\n",
       "    </tr>\n",
       "    <tr>\n",
       "      <th>6050</th>\n",
       "      <td>honda giken kogyo k k</td>\n",
       "      <td>1</td>\n",
       "    </tr>\n",
       "    <tr>\n",
       "      <th>6075</th>\n",
       "      <td>honda tomoyuki</td>\n",
       "      <td>1</td>\n",
       "    </tr>\n",
       "    <tr>\n",
       "      <th>6568</th>\n",
       "      <td>honda motor co</td>\n",
       "      <td>1</td>\n",
       "    </tr>\n",
       "    <tr>\n",
       "      <th>6712</th>\n",
       "      <td>honda koichiro</td>\n",
       "      <td>1</td>\n",
       "    </tr>\n",
       "    <tr>\n",
       "      <th>8313</th>\n",
       "      <td>honda technology research industry kk</td>\n",
       "      <td>1</td>\n",
       "    </tr>\n",
       "  </tbody>\n",
       "</table>\n",
       "</div>"
      ],
      "text/plain": [
       "                                          unique_values  counts\n",
       "1                                       honda motor ltd    2641\n",
       "187   honda motor ltd also trading as honda motor lt...      21\n",
       "1016                        honda motor company limited       4\n",
       "2583                                  honda motor ltdjp       2\n",
       "3626                  honda giken kogyo kabushiki kaish       1\n",
       "4291                                  honda giken kogyo       1\n",
       "5013                                   honda giken k k        1\n",
       "5206                honda giken kogyo kasbushiki kaisha       1\n",
       "5796                              honda motor co   ltd        1\n",
       "6050                              honda giken kogyo k k       1\n",
       "6075                                     honda tomoyuki       1\n",
       "6568                                    honda motor co        1\n",
       "6712                                     honda koichiro       1\n",
       "8313              honda technology research industry kk       1"
      ]
     },
     "execution_count": 146,
     "metadata": {},
     "output_type": "execute_result"
    }
   ],
   "source": [
    "value_counts = patents_new['assignee'].value_counts(dropna=True, sort=True)\n",
    "data2 = value_counts.rename_axis('unique_values').reset_index(name='counts')\n",
    "df_val_counts = pd.DataFrame(data2)\n",
    "df_val_counts[df_val_counts.unique_values.str.contains('honda',regex=True)]"
   ]
  },
  {
   "cell_type": "code",
   "execution_count": 147,
   "metadata": {},
   "outputs": [
    {
     "data": {
      "text/plain": [
       "'honda motor ltd also trading as honda motor ltd   '"
      ]
     },
     "execution_count": 147,
     "metadata": {},
     "output_type": "execute_result"
    }
   ],
   "source": [
    "df_val_counts.unique_values[187]"
   ]
  },
  {
   "cell_type": "code",
   "execution_count": 148,
   "metadata": {},
   "outputs": [],
   "source": [
    "patents_new['assignee']=patents_new['assignee'].str.replace('honda motor ltd also trading as honda motor ltd   ','honda motor ltd')"
   ]
  },
  {
   "cell_type": "code",
   "execution_count": 149,
   "metadata": {},
   "outputs": [
    {
     "data": {
      "text/html": [
       "<div>\n",
       "<style scoped>\n",
       "    .dataframe tbody tr th:only-of-type {\n",
       "        vertical-align: middle;\n",
       "    }\n",
       "\n",
       "    .dataframe tbody tr th {\n",
       "        vertical-align: top;\n",
       "    }\n",
       "\n",
       "    .dataframe thead th {\n",
       "        text-align: right;\n",
       "    }\n",
       "</style>\n",
       "<table border=\"1\" class=\"dataframe\">\n",
       "  <thead>\n",
       "    <tr style=\"text-align: right;\">\n",
       "      <th></th>\n",
       "      <th>unique_values</th>\n",
       "      <th>counts</th>\n",
       "    </tr>\n",
       "  </thead>\n",
       "  <tbody>\n",
       "    <tr>\n",
       "      <th>1</th>\n",
       "      <td>honda motor ltd</td>\n",
       "      <td>2662</td>\n",
       "    </tr>\n",
       "    <tr>\n",
       "      <th>1116</th>\n",
       "      <td>honda motor company limited</td>\n",
       "      <td>4</td>\n",
       "    </tr>\n",
       "    <tr>\n",
       "      <th>2511</th>\n",
       "      <td>honda motor ltdjp</td>\n",
       "      <td>2</td>\n",
       "    </tr>\n",
       "    <tr>\n",
       "      <th>3808</th>\n",
       "      <td>honda giken kogyo kabushiki kaish</td>\n",
       "      <td>1</td>\n",
       "    </tr>\n",
       "    <tr>\n",
       "      <th>4190</th>\n",
       "      <td>honda giken kogyo</td>\n",
       "      <td>1</td>\n",
       "    </tr>\n",
       "    <tr>\n",
       "      <th>4460</th>\n",
       "      <td>honda giken kogyo kasbushiki kaisha</td>\n",
       "      <td>1</td>\n",
       "    </tr>\n",
       "    <tr>\n",
       "      <th>4963</th>\n",
       "      <td>honda giken k k</td>\n",
       "      <td>1</td>\n",
       "    </tr>\n",
       "    <tr>\n",
       "      <th>5795</th>\n",
       "      <td>honda motor co   ltd</td>\n",
       "      <td>1</td>\n",
       "    </tr>\n",
       "    <tr>\n",
       "      <th>6049</th>\n",
       "      <td>honda giken kogyo k k</td>\n",
       "      <td>1</td>\n",
       "    </tr>\n",
       "    <tr>\n",
       "      <th>6074</th>\n",
       "      <td>honda tomoyuki</td>\n",
       "      <td>1</td>\n",
       "    </tr>\n",
       "    <tr>\n",
       "      <th>6567</th>\n",
       "      <td>honda motor co</td>\n",
       "      <td>1</td>\n",
       "    </tr>\n",
       "    <tr>\n",
       "      <th>6711</th>\n",
       "      <td>honda koichiro</td>\n",
       "      <td>1</td>\n",
       "    </tr>\n",
       "    <tr>\n",
       "      <th>8312</th>\n",
       "      <td>honda technology research industry kk</td>\n",
       "      <td>1</td>\n",
       "    </tr>\n",
       "  </tbody>\n",
       "</table>\n",
       "</div>"
      ],
      "text/plain": [
       "                              unique_values  counts\n",
       "1                           honda motor ltd    2662\n",
       "1116            honda motor company limited       4\n",
       "2511                      honda motor ltdjp       2\n",
       "3808      honda giken kogyo kabushiki kaish       1\n",
       "4190                      honda giken kogyo       1\n",
       "4460    honda giken kogyo kasbushiki kaisha       1\n",
       "4963                       honda giken k k        1\n",
       "5795                  honda motor co   ltd        1\n",
       "6049                  honda giken kogyo k k       1\n",
       "6074                         honda tomoyuki       1\n",
       "6567                        honda motor co        1\n",
       "6711                         honda koichiro       1\n",
       "8312  honda technology research industry kk       1"
      ]
     },
     "execution_count": 149,
     "metadata": {},
     "output_type": "execute_result"
    }
   ],
   "source": [
    "value_counts = patents_new['assignee'].value_counts(dropna=True, sort=True)\n",
    "data2 = value_counts.rename_axis('unique_values').reset_index(name='counts')\n",
    "df_val_counts = pd.DataFrame(data2)\n",
    "df_val_counts[df_val_counts.unique_values.str.contains('honda',regex=True)]"
   ]
  },
  {
   "cell_type": "code",
   "execution_count": 157,
   "metadata": {},
   "outputs": [
    {
     "data": {
      "text/plain": [
       "toyota motor corp                                     5680\n",
       "honda motor ltd                                       2662\n",
       "hyundai motor company                                 1990\n",
       "nissan motor co ltd                                   1904\n",
       "ford global technologies llc                          1009\n",
       "robert bosch gmbh                                      557\n",
       "denso corp                                             262\n",
       "mitsubishi motors corp                                 260\n",
       "peugeot citroen automobiles sa                         244\n",
       "hitachi ltd                                            229\n",
       "lsis co  ltd                                           222\n",
       "gm global technology operations llc                    212\n",
       "hyundai motor co ltd                                   200\n",
       "mazda motor corp                                       194\n",
       "sony corporation                                       192\n",
       "aisin aw co  ltd                                       187\n",
       "mitsubishi jidosha kogyo kabushiki kaisha              186\n",
       "general electric company                               183\n",
       "suzuki motor corporation                               182\n",
       "yamaha hatsudoki kabushiki kaisha                      165\n",
       "suzuki motor corp                                      158\n",
       "hitachi ltd                                            155\n",
       "renault s a s                                          148\n",
       "state grid corporation of china                        138\n",
       "general motors corporation                             134\n",
       "korea advanced institute of science and technology     128\n",
       "byd company limited                                    127\n",
       "mitsubishi electric corporation                        127\n",
       "kia motors corporation                                 126\n",
       "fuji heavy ind ltd                                     124\n",
       "ford global tech llc                                   123\n",
       "denso corporation                                      118\n",
       "mitsubishi electric corp                               117\n",
       "panasonic corporation                                  114\n",
       "aisin aw co ltd                                        110\n",
       "siemens aktiengesellschaft                             107\n",
       "kawasaki jukogyo kabushiki kaisha                      106\n",
       "qualcomm incorporated                                  103\n",
       "allison transmission inc                               101\n",
       "jaguar land rover limited                               99\n",
       "Name: assignee, dtype: int64"
      ]
     },
     "execution_count": 157,
     "metadata": {},
     "output_type": "execute_result"
    }
   ],
   "source": [
    "patents_new['assignee'].value_counts()[:40]"
   ]
  },
  {
   "cell_type": "markdown",
   "metadata": {},
   "source": [
    "### save work"
   ]
  },
  {
   "cell_type": "code",
   "execution_count": 151,
   "metadata": {},
   "outputs": [],
   "source": [
    "patents_new.to_csv('patent_firm_full_clean.csv')\n",
    "patents_new.to_pickle('patent_firm_full_clean.pkl')"
   ]
  },
  {
   "cell_type": "markdown",
   "metadata": {},
   "source": [
    "# Work with repeating firms in top 40"
   ]
  },
  {
   "cell_type": "markdown",
   "metadata": {},
   "source": [
    "### nissan"
   ]
  },
  {
   "cell_type": "code",
   "execution_count": 153,
   "metadata": {},
   "outputs": [
    {
     "data": {
      "text/html": [
       "<div>\n",
       "<style scoped>\n",
       "    .dataframe tbody tr th:only-of-type {\n",
       "        vertical-align: middle;\n",
       "    }\n",
       "\n",
       "    .dataframe tbody tr th {\n",
       "        vertical-align: top;\n",
       "    }\n",
       "\n",
       "    .dataframe thead th {\n",
       "        text-align: right;\n",
       "    }\n",
       "</style>\n",
       "<table border=\"1\" class=\"dataframe\">\n",
       "  <thead>\n",
       "    <tr style=\"text-align: right;\">\n",
       "      <th></th>\n",
       "      <th>unique_values</th>\n",
       "      <th>counts</th>\n",
       "    </tr>\n",
       "  </thead>\n",
       "  <tbody>\n",
       "    <tr>\n",
       "      <th>4</th>\n",
       "      <td>nissan motor co ltd</td>\n",
       "      <td>996</td>\n",
       "    </tr>\n",
       "    <tr>\n",
       "      <th>5</th>\n",
       "      <td>nissan motor co  ltd</td>\n",
       "      <td>908</td>\n",
       "    </tr>\n",
       "    <tr>\n",
       "      <th>67</th>\n",
       "      <td>nissan motor co  ltd</td>\n",
       "      <td>64</td>\n",
       "    </tr>\n",
       "    <tr>\n",
       "      <th>74</th>\n",
       "      <td>nissan motor</td>\n",
       "      <td>58</td>\n",
       "    </tr>\n",
       "    <tr>\n",
       "      <th>113</th>\n",
       "      <td>nissan motor ko  ltd</td>\n",
       "      <td>39</td>\n",
       "    </tr>\n",
       "    <tr>\n",
       "      <th>117</th>\n",
       "      <td>nissan motor company limited</td>\n",
       "      <td>37</td>\n",
       "    </tr>\n",
       "    <tr>\n",
       "      <th>170</th>\n",
       "      <td>nissan diesel motor co  ltd</td>\n",
       "      <td>23</td>\n",
       "    </tr>\n",
       "    <tr>\n",
       "      <th>174</th>\n",
       "      <td>nissan diesel motor co ltd</td>\n",
       "      <td>23</td>\n",
       "    </tr>\n",
       "    <tr>\n",
       "      <th>193</th>\n",
       "      <td>nissan motor co ltd</td>\n",
       "      <td>20</td>\n",
       "    </tr>\n",
       "    <tr>\n",
       "      <th>409</th>\n",
       "      <td>zhengzhou nissan automobile co  ltd</td>\n",
       "      <td>9</td>\n",
       "    </tr>\n",
       "    <tr>\n",
       "      <th>685</th>\n",
       "      <td>nissan diesel co  ltd</td>\n",
       "      <td>6</td>\n",
       "    </tr>\n",
       "    <tr>\n",
       "      <th>736</th>\n",
       "      <td>nissan north america inc</td>\n",
       "      <td>5</td>\n",
       "    </tr>\n",
       "    <tr>\n",
       "      <th>1161</th>\n",
       "      <td>nissan jidosha kabushiki kaisha also trading a...</td>\n",
       "      <td>4</td>\n",
       "    </tr>\n",
       "    <tr>\n",
       "      <th>1349</th>\n",
       "      <td>nissan motor manufacturing  uk  limited</td>\n",
       "      <td>3</td>\n",
       "    </tr>\n",
       "    <tr>\n",
       "      <th>1677</th>\n",
       "      <td>nissan motor co  ltd  yokohama kanagawa jp</td>\n",
       "      <td>3</td>\n",
       "    </tr>\n",
       "    <tr>\n",
       "      <th>2137</th>\n",
       "      <td>nissan diesel motor co</td>\n",
       "      <td>2</td>\n",
       "    </tr>\n",
       "    <tr>\n",
       "      <th>2845</th>\n",
       "      <td>nissan motor company ltd</td>\n",
       "      <td>2</td>\n",
       "    </tr>\n",
       "    <tr>\n",
       "      <th>3014</th>\n",
       "      <td>nissan motor manufacturing  uk  ltd</td>\n",
       "      <td>2</td>\n",
       "    </tr>\n",
       "    <tr>\n",
       "      <th>3144</th>\n",
       "      <td>nissan motor manufacturing  uk  ltd</td>\n",
       "      <td>2</td>\n",
       "    </tr>\n",
       "    <tr>\n",
       "      <th>3685</th>\n",
       "      <td>nissan motor company</td>\n",
       "      <td>1</td>\n",
       "    </tr>\n",
       "    <tr>\n",
       "      <th>3829</th>\n",
       "      <td>nissan diesel motor co ltd</td>\n",
       "      <td>1</td>\n",
       "    </tr>\n",
       "    <tr>\n",
       "      <th>4582</th>\n",
       "      <td>nissan motor corporation</td>\n",
       "      <td>1</td>\n",
       "    </tr>\n",
       "    <tr>\n",
       "      <th>5015</th>\n",
       "      <td>nissan diesel motor co  ltd</td>\n",
       "      <td>1</td>\n",
       "    </tr>\n",
       "    <tr>\n",
       "      <th>6594</th>\n",
       "      <td>nissan motor ltd</td>\n",
       "      <td>1</td>\n",
       "    </tr>\n",
       "    <tr>\n",
       "      <th>8468</th>\n",
       "      <td>nissan jidosha kk</td>\n",
       "      <td>1</td>\n",
       "    </tr>\n",
       "  </tbody>\n",
       "</table>\n",
       "</div>"
      ],
      "text/plain": [
       "                                          unique_values  counts\n",
       "4                                   nissan motor co ltd     996\n",
       "5                                 nissan motor co  ltd      908\n",
       "67                                 nissan motor co  ltd      64\n",
       "74                                         nissan motor      58\n",
       "113                               nissan motor ko  ltd       39\n",
       "117                        nissan motor company limited      37\n",
       "170                        nissan diesel motor co  ltd       23\n",
       "174                          nissan diesel motor co ltd      23\n",
       "193                                nissan motor co ltd       20\n",
       "409                zhengzhou nissan automobile co  ltd        9\n",
       "685                              nissan diesel co  ltd        6\n",
       "736                           nissan north america inc        5\n",
       "1161  nissan jidosha kabushiki kaisha also trading a...       4\n",
       "1349            nissan motor manufacturing  uk  limited       3\n",
       "1677         nissan motor co  ltd  yokohama kanagawa jp       3\n",
       "2137                            nissan diesel motor co        2\n",
       "2845                          nissan motor company ltd        2\n",
       "3014                nissan motor manufacturing  uk  ltd       2\n",
       "3144               nissan motor manufacturing  uk  ltd        2\n",
       "3685                               nissan motor company       1\n",
       "3829                        nissan diesel motor co ltd        1\n",
       "4582                           nissan motor corporation       1\n",
       "5015                        nissan diesel motor co  ltd       1\n",
       "6594                                  nissan motor ltd        1\n",
       "8468                                  nissan jidosha kk       1"
      ]
     },
     "execution_count": 153,
     "metadata": {},
     "output_type": "execute_result"
    }
   ],
   "source": [
    "df_val_counts[df_val_counts.unique_values.str.contains('nissan',regex=True)]"
   ]
  },
  {
   "cell_type": "code",
   "execution_count": 154,
   "metadata": {},
   "outputs": [
    {
     "data": {
      "text/plain": [
       "'nissan motor co ltd'"
      ]
     },
     "execution_count": 154,
     "metadata": {},
     "output_type": "execute_result"
    }
   ],
   "source": [
    "df_val_counts.unique_values[4]"
   ]
  },
  {
   "cell_type": "code",
   "execution_count": 155,
   "metadata": {},
   "outputs": [
    {
     "data": {
      "text/plain": [
       "'nissan motor co  ltd '"
      ]
     },
     "execution_count": 155,
     "metadata": {},
     "output_type": "execute_result"
    }
   ],
   "source": [
    "df_val_counts.unique_values[5]"
   ]
  },
  {
   "cell_type": "code",
   "execution_count": 156,
   "metadata": {},
   "outputs": [],
   "source": [
    "patents_new['assignee']=patents_new['assignee'].str.replace('nissan motor co  ltd ','nissan motor co ltd')"
   ]
  },
  {
   "cell_type": "markdown",
   "metadata": {},
   "source": [
    "### suzuki"
   ]
  },
  {
   "cell_type": "code",
   "execution_count": 188,
   "metadata": {},
   "outputs": [
    {
     "data": {
      "text/html": [
       "<div>\n",
       "<style scoped>\n",
       "    .dataframe tbody tr th:only-of-type {\n",
       "        vertical-align: middle;\n",
       "    }\n",
       "\n",
       "    .dataframe tbody tr th {\n",
       "        vertical-align: top;\n",
       "    }\n",
       "\n",
       "    .dataframe thead th {\n",
       "        text-align: right;\n",
       "    }\n",
       "</style>\n",
       "<table border=\"1\" class=\"dataframe\">\n",
       "  <thead>\n",
       "    <tr style=\"text-align: right;\">\n",
       "      <th></th>\n",
       "      <th>unique_values</th>\n",
       "      <th>counts</th>\n",
       "    </tr>\n",
       "  </thead>\n",
       "  <tbody>\n",
       "    <tr>\n",
       "      <th>19</th>\n",
       "      <td>suzuki motor corporation</td>\n",
       "      <td>182</td>\n",
       "    </tr>\n",
       "    <tr>\n",
       "      <th>21</th>\n",
       "      <td>suzuki motor corp</td>\n",
       "      <td>158</td>\n",
       "    </tr>\n",
       "    <tr>\n",
       "      <th>204</th>\n",
       "      <td>suzuki motor corp</td>\n",
       "      <td>19</td>\n",
       "    </tr>\n",
       "    <tr>\n",
       "      <th>308</th>\n",
       "      <td>suzuki motor corp  hamamatsu</td>\n",
       "      <td>11</td>\n",
       "    </tr>\n",
       "    <tr>\n",
       "      <th>622</th>\n",
       "      <td>suzuki naoto</td>\n",
       "      <td>6</td>\n",
       "    </tr>\n",
       "    <tr>\n",
       "      <th>1345</th>\n",
       "      <td>suzuki masahiro</td>\n",
       "      <td>3</td>\n",
       "    </tr>\n",
       "    <tr>\n",
       "      <th>2170</th>\n",
       "      <td>suzuki hiroyuki</td>\n",
       "      <td>2</td>\n",
       "    </tr>\n",
       "    <tr>\n",
       "      <th>2948</th>\n",
       "      <td>suzuki minoru</td>\n",
       "      <td>2</td>\n",
       "    </tr>\n",
       "    <tr>\n",
       "      <th>3265</th>\n",
       "      <td>suzuki takashi</td>\n",
       "      <td>1</td>\n",
       "    </tr>\n",
       "    <tr>\n",
       "      <th>3424</th>\n",
       "      <td>suzuki co  ltd</td>\n",
       "      <td>1</td>\n",
       "    </tr>\n",
       "    <tr>\n",
       "      <th>4071</th>\n",
       "      <td>suzuki masami</td>\n",
       "      <td>1</td>\n",
       "    </tr>\n",
       "    <tr>\n",
       "      <th>4179</th>\n",
       "      <td>suzuki takahiro</td>\n",
       "      <td>1</td>\n",
       "    </tr>\n",
       "    <tr>\n",
       "      <th>4189</th>\n",
       "      <td>suzuki toshinari</td>\n",
       "      <td>1</td>\n",
       "    </tr>\n",
       "    <tr>\n",
       "      <th>4735</th>\n",
       "      <td>suzuki yoshitaka</td>\n",
       "      <td>1</td>\n",
       "    </tr>\n",
       "    <tr>\n",
       "      <th>5346</th>\n",
       "      <td>suzuki takafumi</td>\n",
       "      <td>1</td>\n",
       "    </tr>\n",
       "    <tr>\n",
       "      <th>5353</th>\n",
       "      <td>suzuki yusuke</td>\n",
       "      <td>1</td>\n",
       "    </tr>\n",
       "    <tr>\n",
       "      <th>6685</th>\n",
       "      <td>suzuki motor corporation hamamatsu</td>\n",
       "      <td>1</td>\n",
       "    </tr>\n",
       "    <tr>\n",
       "      <th>8042</th>\n",
       "      <td>suzuki akihiro</td>\n",
       "      <td>1</td>\n",
       "    </tr>\n",
       "    <tr>\n",
       "      <th>8094</th>\n",
       "      <td>suzuki shingo</td>\n",
       "      <td>1</td>\n",
       "    </tr>\n",
       "    <tr>\n",
       "      <th>8289</th>\n",
       "      <td>suzuki hiroyoshi</td>\n",
       "      <td>1</td>\n",
       "    </tr>\n",
       "    <tr>\n",
       "      <th>9069</th>\n",
       "      <td>suzuki masahiko</td>\n",
       "      <td>1</td>\n",
       "    </tr>\n",
       "  </tbody>\n",
       "</table>\n",
       "</div>"
      ],
      "text/plain": [
       "                           unique_values  counts\n",
       "19              suzuki motor corporation     182\n",
       "21                     suzuki motor corp     158\n",
       "204                   suzuki motor corp       19\n",
       "308         suzuki motor corp  hamamatsu      11\n",
       "622                         suzuki naoto       6\n",
       "1345                     suzuki masahiro       3\n",
       "2170                     suzuki hiroyuki       2\n",
       "2948                       suzuki minoru       2\n",
       "3265                      suzuki takashi       1\n",
       "3424                     suzuki co  ltd        1\n",
       "4071                       suzuki masami       1\n",
       "4179                     suzuki takahiro       1\n",
       "4189                    suzuki toshinari       1\n",
       "4735                    suzuki yoshitaka       1\n",
       "5346                     suzuki takafumi       1\n",
       "5353                       suzuki yusuke       1\n",
       "6685  suzuki motor corporation hamamatsu       1\n",
       "8042                      suzuki akihiro       1\n",
       "8094                       suzuki shingo       1\n",
       "8289                    suzuki hiroyoshi       1\n",
       "9069                     suzuki masahiko       1"
      ]
     },
     "execution_count": 188,
     "metadata": {},
     "output_type": "execute_result"
    }
   ],
   "source": [
    "df_val_counts[df_val_counts.unique_values.str.contains('suzuki',regex=True)]"
   ]
  },
  {
   "cell_type": "code",
   "execution_count": 187,
   "metadata": {},
   "outputs": [
    {
     "data": {
      "text/plain": [
       "'suzuki motor corporation'"
      ]
     },
     "execution_count": 187,
     "metadata": {},
     "output_type": "execute_result"
    }
   ],
   "source": [
    "df_val_counts.unique_values[19]"
   ]
  },
  {
   "cell_type": "code",
   "execution_count": 183,
   "metadata": {},
   "outputs": [
    {
     "data": {
      "text/plain": [
       "'suzuki motor corp'"
      ]
     },
     "execution_count": 183,
     "metadata": {},
     "output_type": "execute_result"
    }
   ],
   "source": [
    "df_val_counts.unique_values[21]"
   ]
  },
  {
   "cell_type": "code",
   "execution_count": 175,
   "metadata": {},
   "outputs": [
    {
     "data": {
      "text/plain": [
       "'suzuki motor corp '"
      ]
     },
     "execution_count": 175,
     "metadata": {},
     "output_type": "execute_result"
    }
   ],
   "source": [
    "df_val_counts.unique_values[204]"
   ]
  },
  {
   "cell_type": "code",
   "execution_count": 176,
   "metadata": {},
   "outputs": [
    {
     "data": {
      "text/plain": [
       "'suzuki motor corp  hamamatsu'"
      ]
     },
     "execution_count": 176,
     "metadata": {},
     "output_type": "execute_result"
    }
   ],
   "source": [
    "df_val_counts.unique_values[308]"
   ]
  },
  {
   "cell_type": "code",
   "execution_count": 184,
   "metadata": {},
   "outputs": [],
   "source": [
    "patents_new['assignee']=patents_new['assignee'].str.replace('suzuki motor corporation' , 'suzuki motor corp')"
   ]
  },
  {
   "cell_type": "code",
   "execution_count": 190,
   "metadata": {},
   "outputs": [],
   "source": [
    "patents_new['assignee']=patents_new['assignee'].str.replace('suzuki motor corp ' , 'suzuki motor corp')"
   ]
  },
  {
   "cell_type": "code",
   "execution_count": 192,
   "metadata": {},
   "outputs": [],
   "source": [
    "patents_new['assignee']=patents_new['assignee'].str.replace('suzuki motor corp  hamamatsu' , 'suzuki motor corp')"
   ]
  },
  {
   "cell_type": "code",
   "execution_count": 193,
   "metadata": {},
   "outputs": [
    {
     "data": {
      "text/plain": [
       "toyota motor corp                                     5680\n",
       "honda motor ltd                                       2662\n",
       "hyundai motor company                                 1990\n",
       "nissan motor co ltd                                   1904\n",
       "ford global technologies llc                          1009\n",
       "robert bosch gmbh                                      557\n",
       "suzuki motor corp                                      359\n",
       "denso corp                                             262\n",
       "mitsubishi motors corp                                 260\n",
       "peugeot citroen automobiles sa                         244\n",
       "hitachi ltd                                            229\n",
       "lsis co  ltd                                           222\n",
       "gm global technology operations llc                    212\n",
       "hyundai motor co ltd                                   200\n",
       "mazda motor corp                                       194\n",
       "sony corporation                                       192\n",
       "aisin aw co  ltd                                       187\n",
       "mitsubishi jidosha kogyo kabushiki kaisha              186\n",
       "general electric company                               183\n",
       "yamaha hatsudoki kabushiki kaisha                      165\n",
       "hitachi ltd                                            155\n",
       "renault s a s                                          148\n",
       "state grid corporation of china                        138\n",
       "general motors corporation                             134\n",
       "korea advanced institute of science and technology     128\n",
       "mitsubishi electric corporation                        127\n",
       "byd company limited                                    127\n",
       "kia motors corporation                                 126\n",
       "fuji heavy ind ltd                                     124\n",
       "ford global tech llc                                   123\n",
       "denso corporation                                      118\n",
       "mitsubishi electric corp                               117\n",
       "panasonic corporation                                  114\n",
       "aisin aw co ltd                                        110\n",
       "siemens aktiengesellschaft                             107\n",
       "kawasaki jukogyo kabushiki kaisha                      106\n",
       "qualcomm incorporated                                  103\n",
       "allison transmission inc                               101\n",
       "daimler ag                                              99\n",
       "bayerische motoren werke aktiengesellschaft             99\n",
       "Name: assignee, dtype: int64"
      ]
     },
     "execution_count": 193,
     "metadata": {},
     "output_type": "execute_result"
    }
   ],
   "source": [
    "patents_new['assignee'].value_counts()[:40]"
   ]
  },
  {
   "cell_type": "markdown",
   "metadata": {},
   "source": [
    "### ford"
   ]
  },
  {
   "cell_type": "code",
   "execution_count": 200,
   "metadata": {},
   "outputs": [
    {
     "data": {
      "text/html": [
       "<div>\n",
       "<style scoped>\n",
       "    .dataframe tbody tr th:only-of-type {\n",
       "        vertical-align: middle;\n",
       "    }\n",
       "\n",
       "    .dataframe tbody tr th {\n",
       "        vertical-align: top;\n",
       "    }\n",
       "\n",
       "    .dataframe thead th {\n",
       "        text-align: right;\n",
       "    }\n",
       "</style>\n",
       "<table border=\"1\" class=\"dataframe\">\n",
       "  <thead>\n",
       "    <tr style=\"text-align: right;\">\n",
       "      <th></th>\n",
       "      <th>unique_values</th>\n",
       "      <th>counts</th>\n",
       "    </tr>\n",
       "  </thead>\n",
       "  <tbody>\n",
       "    <tr>\n",
       "      <th>3</th>\n",
       "      <td>ford global technologies llc</td>\n",
       "      <td>1009</td>\n",
       "    </tr>\n",
       "    <tr>\n",
       "      <th>31</th>\n",
       "      <td>ford global tech llc</td>\n",
       "      <td>123</td>\n",
       "    </tr>\n",
       "    <tr>\n",
       "      <th>45</th>\n",
       "      <td>ford global technologies inc</td>\n",
       "      <td>88</td>\n",
       "    </tr>\n",
       "    <tr>\n",
       "      <th>54</th>\n",
       "      <td>ford motor company</td>\n",
       "      <td>76</td>\n",
       "    </tr>\n",
       "    <tr>\n",
       "      <th>160</th>\n",
       "      <td>ford motor co</td>\n",
       "      <td>25</td>\n",
       "    </tr>\n",
       "    <tr>\n",
       "      <th>180</th>\n",
       "      <td>ford global technol inc</td>\n",
       "      <td>22</td>\n",
       "    </tr>\n",
       "    <tr>\n",
       "      <th>210</th>\n",
       "      <td>ford gloubal teknolodzhiz elelsi</td>\n",
       "      <td>18</td>\n",
       "    </tr>\n",
       "    <tr>\n",
       "      <th>328</th>\n",
       "      <td>ford global technologies llc</td>\n",
       "      <td>11</td>\n",
       "    </tr>\n",
       "    <tr>\n",
       "      <th>339</th>\n",
       "      <td>ford global technolgies llc</td>\n",
       "      <td>10</td>\n",
       "    </tr>\n",
       "    <tr>\n",
       "      <th>477</th>\n",
       "      <td>ford global tekhnolodzhis llk</td>\n",
       "      <td>8</td>\n",
       "    </tr>\n",
       "    <tr>\n",
       "      <th>489</th>\n",
       "      <td>ford motor company limited</td>\n",
       "      <td>8</td>\n",
       "    </tr>\n",
       "    <tr>\n",
       "      <th>705</th>\n",
       "      <td>ford global technologies inc</td>\n",
       "      <td>6</td>\n",
       "    </tr>\n",
       "    <tr>\n",
       "      <th>849</th>\n",
       "      <td>ford global technologiesllc</td>\n",
       "      <td>5</td>\n",
       "    </tr>\n",
       "    <tr>\n",
       "      <th>979</th>\n",
       "      <td>ford global technologies llc  n d ges d  staat...</td>\n",
       "      <td>4</td>\n",
       "    </tr>\n",
       "    <tr>\n",
       "      <th>1044</th>\n",
       "      <td>ford motor company of canada limited</td>\n",
       "      <td>4</td>\n",
       "    </tr>\n",
       "    <tr>\n",
       "      <th>1125</th>\n",
       "      <td>ford global technologies llc  n d ges d  staat...</td>\n",
       "      <td>4</td>\n",
       "    </tr>\n",
       "    <tr>\n",
       "      <th>1152</th>\n",
       "      <td>ford motor co  dearborn</td>\n",
       "      <td>4</td>\n",
       "    </tr>\n",
       "    <tr>\n",
       "      <th>1185</th>\n",
       "      <td>ford global tech  inc</td>\n",
       "      <td>4</td>\n",
       "    </tr>\n",
       "    <tr>\n",
       "      <th>1661</th>\n",
       "      <td>ford global technologies</td>\n",
       "      <td>3</td>\n",
       "    </tr>\n",
       "    <tr>\n",
       "      <th>1682</th>\n",
       "      <td>ford motor co</td>\n",
       "      <td>3</td>\n",
       "    </tr>\n",
       "    <tr>\n",
       "      <th>2859</th>\n",
       "      <td>ford gloubal teknolodzhiz ehlehlsi</td>\n",
       "      <td>2</td>\n",
       "    </tr>\n",
       "    <tr>\n",
       "      <th>3015</th>\n",
       "      <td>ford global teknolodzhiz llk</td>\n",
       "      <td>2</td>\n",
       "    </tr>\n",
       "    <tr>\n",
       "      <th>3817</th>\n",
       "      <td>ford global tech llc  us</td>\n",
       "      <td>1</td>\n",
       "    </tr>\n",
       "    <tr>\n",
       "      <th>4234</th>\n",
       "      <td>ford global technologies dearborn</td>\n",
       "      <td>1</td>\n",
       "    </tr>\n",
       "    <tr>\n",
       "      <th>5093</th>\n",
       "      <td>ford global technologies  llc</td>\n",
       "      <td>1</td>\n",
       "    </tr>\n",
       "    <tr>\n",
       "      <th>6393</th>\n",
       "      <td>stanford res inst int</td>\n",
       "      <td>1</td>\n",
       "    </tr>\n",
       "    <tr>\n",
       "      <th>6721</th>\n",
       "      <td>ford glboal technologies llc</td>\n",
       "      <td>1</td>\n",
       "    </tr>\n",
       "    <tr>\n",
       "      <th>6737</th>\n",
       "      <td>wallingford errol e</td>\n",
       "      <td>1</td>\n",
       "    </tr>\n",
       "    <tr>\n",
       "      <th>7033</th>\n",
       "      <td>ford global tech ll</td>\n",
       "      <td>1</td>\n",
       "    </tr>\n",
       "    <tr>\n",
       "      <th>7558</th>\n",
       "      <td>ford global tech inc</td>\n",
       "      <td>1</td>\n",
       "    </tr>\n",
       "    <tr>\n",
       "      <th>7991</th>\n",
       "      <td>lyon angus rutherford</td>\n",
       "      <td>1</td>\n",
       "    </tr>\n",
       "    <tr>\n",
       "      <th>8190</th>\n",
       "      <td>wallingford  errol e</td>\n",
       "      <td>1</td>\n",
       "    </tr>\n",
       "    <tr>\n",
       "      <th>8779</th>\n",
       "      <td>ford global technologies inc  a subsidiary of ...</td>\n",
       "      <td>1</td>\n",
       "    </tr>\n",
       "  </tbody>\n",
       "</table>\n",
       "</div>"
      ],
      "text/plain": [
       "                                          unique_values  counts\n",
       "3                          ford global technologies llc    1009\n",
       "31                                 ford global tech llc     123\n",
       "45                        ford global technologies inc       88\n",
       "54                                   ford motor company      76\n",
       "160                                       ford motor co      25\n",
       "180                             ford global technol inc      22\n",
       "210                    ford gloubal teknolodzhiz elelsi      18\n",
       "328                       ford global technologies llc       11\n",
       "339                         ford global technolgies llc      10\n",
       "477                       ford global tekhnolodzhis llk       8\n",
       "489                          ford motor company limited       8\n",
       "705                        ford global technologies inc       6\n",
       "849                         ford global technologiesllc       5\n",
       "979   ford global technologies llc  n d ges d  staat...       4\n",
       "1044               ford motor company of canada limited       4\n",
       "1125  ford global technologies llc  n d ges d  staat...       4\n",
       "1152                            ford motor co  dearborn       4\n",
       "1185                             ford global tech  inc        4\n",
       "1661                           ford global technologies       3\n",
       "1682                                     ford motor co        3\n",
       "2859                 ford gloubal teknolodzhiz ehlehlsi       2\n",
       "3015                       ford global teknolodzhiz llk       2\n",
       "3817                          ford global tech llc  us        1\n",
       "4234                  ford global technologies dearborn       1\n",
       "5093                      ford global technologies  llc       1\n",
       "6393                              stanford res inst int       1\n",
       "6721                       ford glboal technologies llc       1\n",
       "6737                               wallingford errol e        1\n",
       "7033                                ford global tech ll       1\n",
       "7558                               ford global tech inc       1\n",
       "7991                              lyon angus rutherford       1\n",
       "8190                              wallingford  errol e        1\n",
       "8779  ford global technologies inc  a subsidiary of ...       1"
      ]
     },
     "execution_count": 200,
     "metadata": {},
     "output_type": "execute_result"
    }
   ],
   "source": [
    "df_val_counts[df_val_counts.unique_values.str.contains('ford',regex=True)]"
   ]
  },
  {
   "cell_type": "code",
   "execution_count": 196,
   "metadata": {},
   "outputs": [
    {
     "data": {
      "text/plain": [
       "'ford global technologies llc'"
      ]
     },
     "execution_count": 196,
     "metadata": {},
     "output_type": "execute_result"
    }
   ],
   "source": [
    "df_val_counts.unique_values[3]"
   ]
  },
  {
   "cell_type": "code",
   "execution_count": 197,
   "metadata": {},
   "outputs": [
    {
     "data": {
      "text/plain": [
       "'ford global tech llc'"
      ]
     },
     "execution_count": 197,
     "metadata": {},
     "output_type": "execute_result"
    }
   ],
   "source": [
    "df_val_counts.unique_values[31]"
   ]
  },
  {
   "cell_type": "code",
   "execution_count": 195,
   "metadata": {},
   "outputs": [
    {
     "data": {
      "text/plain": [
       "'ford global technologies inc '"
      ]
     },
     "execution_count": 195,
     "metadata": {},
     "output_type": "execute_result"
    }
   ],
   "source": [
    "df_val_counts.unique_values[45]"
   ]
  },
  {
   "cell_type": "code",
   "execution_count": 202,
   "metadata": {},
   "outputs": [
    {
     "data": {
      "text/plain": [
       "'ford motor company'"
      ]
     },
     "execution_count": 202,
     "metadata": {},
     "output_type": "execute_result"
    }
   ],
   "source": [
    "df_val_counts.unique_values[54]"
   ]
  },
  {
   "cell_type": "code",
   "execution_count": 198,
   "metadata": {},
   "outputs": [],
   "source": [
    "patents_new['assignee']=patents_new['assignee'].str.replace('ford global tech llc' , 'ford global technologies llc')"
   ]
  },
  {
   "cell_type": "code",
   "execution_count": 199,
   "metadata": {},
   "outputs": [],
   "source": [
    "patents_new['assignee']=patents_new['assignee'].str.replace('ford global technologies inc ' , 'ford global technologies llc')"
   ]
  },
  {
   "cell_type": "code",
   "execution_count": 203,
   "metadata": {},
   "outputs": [],
   "source": [
    "patents_new['assignee']=patents_new['assignee'].str.replace('ford motor company' , 'ford global technologies llc')"
   ]
  },
  {
   "cell_type": "code",
   "execution_count": 204,
   "metadata": {},
   "outputs": [
    {
     "data": {
      "text/plain": [
       "toyota motor corp                                     5680\n",
       "honda motor ltd                                       2662\n",
       "hyundai motor company                                 1990\n",
       "nissan motor co ltd                                   1904\n",
       "ford global technologies llc                          1296\n",
       "robert bosch gmbh                                      557\n",
       "suzuki motor corp                                      359\n",
       "denso corp                                             262\n",
       "mitsubishi motors corp                                 260\n",
       "peugeot citroen automobiles sa                         244\n",
       "hitachi ltd                                            229\n",
       "lsis co  ltd                                           222\n",
       "gm global technology operations llc                    212\n",
       "hyundai motor co ltd                                   200\n",
       "mazda motor corp                                       194\n",
       "sony corporation                                       192\n",
       "aisin aw co  ltd                                       187\n",
       "mitsubishi jidosha kogyo kabushiki kaisha              186\n",
       "general electric company                               183\n",
       "yamaha hatsudoki kabushiki kaisha                      165\n",
       "hitachi ltd                                            155\n",
       "renault s a s                                          148\n",
       "state grid corporation of china                        138\n",
       "general motors corporation                             134\n",
       "korea advanced institute of science and technology     128\n",
       "mitsubishi electric corporation                        127\n",
       "byd company limited                                    127\n",
       "kia motors corporation                                 126\n",
       "fuji heavy ind ltd                                     124\n",
       "denso corporation                                      118\n",
       "mitsubishi electric corp                               117\n",
       "panasonic corporation                                  114\n",
       "aisin aw co ltd                                        110\n",
       "siemens aktiengesellschaft                             107\n",
       "kawasaki jukogyo kabushiki kaisha                      106\n",
       "qualcomm incorporated                                  103\n",
       "allison transmission inc                               101\n",
       "daimler ag                                              99\n",
       "bayerische motoren werke aktiengesellschaft             99\n",
       "jaguar land rover limited                               99\n",
       "Name: assignee, dtype: int64"
      ]
     },
     "execution_count": 204,
     "metadata": {},
     "output_type": "execute_result"
    }
   ],
   "source": [
    "patents_new['assignee'].value_counts()[:40]"
   ]
  },
  {
   "cell_type": "markdown",
   "metadata": {},
   "source": [
    "### general motors corporation"
   ]
  },
  {
   "cell_type": "code",
   "execution_count": 205,
   "metadata": {},
   "outputs": [
    {
     "data": {
      "text/plain": [
       "0                                     toyota motor corp\n",
       "1                                       honda motor ltd\n",
       "2                                 hyundai motor company\n",
       "3                          ford global technologies llc\n",
       "4                                   nissan motor co ltd\n",
       "5                                 nissan motor co  ltd \n",
       "6                                     robert bosch gmbh\n",
       "7                                            denso corp\n",
       "8                                mitsubishi motors corp\n",
       "9                        peugeot citroen automobiles sa\n",
       "10                                         hitachi ltd \n",
       "11                                        lsis co  ltd \n",
       "12                  gm global technology operations llc\n",
       "13                                 hyundai motor co ltd\n",
       "14                                     mazda motor corp\n",
       "15                                     sony corporation\n",
       "16                                    aisin aw co  ltd \n",
       "17            mitsubishi jidosha kogyo kabushiki kaisha\n",
       "18                             general electric company\n",
       "19                             suzuki motor corporation\n",
       "20                    yamaha hatsudoki kabushiki kaisha\n",
       "21                                    suzuki motor corp\n",
       "22                                          hitachi ltd\n",
       "23                                       renault s a s \n",
       "24                      state grid corporation of china\n",
       "25                           general motors corporation\n",
       "26    korea advanced institute of science and techno...\n",
       "27                      mitsubishi electric corporation\n",
       "28                                  byd company limited\n",
       "29                               kia motors corporation\n",
       "30                                   fuji heavy ind ltd\n",
       "31                                 ford global tech llc\n",
       "32                                    denso corporation\n",
       "33                             mitsubishi electric corp\n",
       "34                                panasonic corporation\n",
       "35                                      aisin aw co ltd\n",
       "36                           siemens aktiengesellschaft\n",
       "37                    kawasaki jukogyo kabushiki kaisha\n",
       "38                                qualcomm incorporated\n",
       "39                            allison transmission inc \n",
       "Name: unique_values, dtype: object"
      ]
     },
     "execution_count": 205,
     "metadata": {},
     "output_type": "execute_result"
    }
   ],
   "source": [
    "df_val_counts.unique_values[:40]"
   ]
  },
  {
   "cell_type": "code",
   "execution_count": 206,
   "metadata": {},
   "outputs": [
    {
     "data": {
      "text/plain": [
       "'gm global technology operations llc'"
      ]
     },
     "execution_count": 206,
     "metadata": {},
     "output_type": "execute_result"
    }
   ],
   "source": [
    "df_val_counts.unique_values[12]"
   ]
  },
  {
   "cell_type": "code",
   "execution_count": 207,
   "metadata": {},
   "outputs": [
    {
     "data": {
      "text/plain": [
       "'general motors corporation'"
      ]
     },
     "execution_count": 207,
     "metadata": {},
     "output_type": "execute_result"
    }
   ],
   "source": [
    "df_val_counts.unique_values[25]"
   ]
  },
  {
   "cell_type": "code",
   "execution_count": 208,
   "metadata": {},
   "outputs": [],
   "source": [
    "patents_new['assignee']=patents_new['assignee'].str.replace('gm global technology operations llc' , 'general motors corporation')"
   ]
  },
  {
   "cell_type": "code",
   "execution_count": 211,
   "metadata": {},
   "outputs": [
    {
     "data": {
      "text/html": [
       "<div>\n",
       "<style scoped>\n",
       "    .dataframe tbody tr th:only-of-type {\n",
       "        vertical-align: middle;\n",
       "    }\n",
       "\n",
       "    .dataframe tbody tr th {\n",
       "        vertical-align: top;\n",
       "    }\n",
       "\n",
       "    .dataframe thead th {\n",
       "        text-align: right;\n",
       "    }\n",
       "</style>\n",
       "<table border=\"1\" class=\"dataframe\">\n",
       "  <thead>\n",
       "    <tr style=\"text-align: right;\">\n",
       "      <th></th>\n",
       "      <th>unique_values</th>\n",
       "      <th>counts</th>\n",
       "    </tr>\n",
       "  </thead>\n",
       "  <tbody>\n",
       "    <tr>\n",
       "      <th>0</th>\n",
       "      <td>toyota motor corp</td>\n",
       "      <td>5680</td>\n",
       "    </tr>\n",
       "    <tr>\n",
       "      <th>1</th>\n",
       "      <td>honda motor ltd</td>\n",
       "      <td>2662</td>\n",
       "    </tr>\n",
       "    <tr>\n",
       "      <th>2</th>\n",
       "      <td>hyundai motor company</td>\n",
       "      <td>1990</td>\n",
       "    </tr>\n",
       "    <tr>\n",
       "      <th>3</th>\n",
       "      <td>nissan motor co ltd</td>\n",
       "      <td>1904</td>\n",
       "    </tr>\n",
       "    <tr>\n",
       "      <th>4</th>\n",
       "      <td>ford global technologies llc</td>\n",
       "      <td>1296</td>\n",
       "    </tr>\n",
       "    <tr>\n",
       "      <th>5</th>\n",
       "      <td>robert bosch gmbh</td>\n",
       "      <td>557</td>\n",
       "    </tr>\n",
       "    <tr>\n",
       "      <th>6</th>\n",
       "      <td>suzuki motor corp</td>\n",
       "      <td>359</td>\n",
       "    </tr>\n",
       "    <tr>\n",
       "      <th>7</th>\n",
       "      <td>general motors corporation</td>\n",
       "      <td>346</td>\n",
       "    </tr>\n",
       "    <tr>\n",
       "      <th>8</th>\n",
       "      <td>denso corp</td>\n",
       "      <td>262</td>\n",
       "    </tr>\n",
       "    <tr>\n",
       "      <th>9</th>\n",
       "      <td>mitsubishi motors corp</td>\n",
       "      <td>260</td>\n",
       "    </tr>\n",
       "    <tr>\n",
       "      <th>10</th>\n",
       "      <td>peugeot citroen automobiles sa</td>\n",
       "      <td>244</td>\n",
       "    </tr>\n",
       "    <tr>\n",
       "      <th>11</th>\n",
       "      <td>hitachi ltd</td>\n",
       "      <td>229</td>\n",
       "    </tr>\n",
       "    <tr>\n",
       "      <th>12</th>\n",
       "      <td>lsis co  ltd</td>\n",
       "      <td>222</td>\n",
       "    </tr>\n",
       "    <tr>\n",
       "      <th>13</th>\n",
       "      <td>hyundai motor co ltd</td>\n",
       "      <td>200</td>\n",
       "    </tr>\n",
       "    <tr>\n",
       "      <th>14</th>\n",
       "      <td>mazda motor corp</td>\n",
       "      <td>194</td>\n",
       "    </tr>\n",
       "    <tr>\n",
       "      <th>15</th>\n",
       "      <td>sony corporation</td>\n",
       "      <td>192</td>\n",
       "    </tr>\n",
       "    <tr>\n",
       "      <th>16</th>\n",
       "      <td>aisin aw co  ltd</td>\n",
       "      <td>187</td>\n",
       "    </tr>\n",
       "    <tr>\n",
       "      <th>17</th>\n",
       "      <td>mitsubishi jidosha kogyo kabushiki kaisha</td>\n",
       "      <td>186</td>\n",
       "    </tr>\n",
       "    <tr>\n",
       "      <th>18</th>\n",
       "      <td>general electric company</td>\n",
       "      <td>183</td>\n",
       "    </tr>\n",
       "    <tr>\n",
       "      <th>19</th>\n",
       "      <td>yamaha hatsudoki kabushiki kaisha</td>\n",
       "      <td>165</td>\n",
       "    </tr>\n",
       "    <tr>\n",
       "      <th>20</th>\n",
       "      <td>hitachi ltd</td>\n",
       "      <td>155</td>\n",
       "    </tr>\n",
       "    <tr>\n",
       "      <th>21</th>\n",
       "      <td>renault s a s</td>\n",
       "      <td>148</td>\n",
       "    </tr>\n",
       "    <tr>\n",
       "      <th>22</th>\n",
       "      <td>state grid corporation of china</td>\n",
       "      <td>138</td>\n",
       "    </tr>\n",
       "    <tr>\n",
       "      <th>23</th>\n",
       "      <td>korea advanced institute of science and techno...</td>\n",
       "      <td>128</td>\n",
       "    </tr>\n",
       "    <tr>\n",
       "      <th>24</th>\n",
       "      <td>byd company limited</td>\n",
       "      <td>127</td>\n",
       "    </tr>\n",
       "    <tr>\n",
       "      <th>25</th>\n",
       "      <td>mitsubishi electric corporation</td>\n",
       "      <td>127</td>\n",
       "    </tr>\n",
       "    <tr>\n",
       "      <th>26</th>\n",
       "      <td>kia motors corporation</td>\n",
       "      <td>126</td>\n",
       "    </tr>\n",
       "    <tr>\n",
       "      <th>27</th>\n",
       "      <td>fuji heavy ind ltd</td>\n",
       "      <td>124</td>\n",
       "    </tr>\n",
       "    <tr>\n",
       "      <th>28</th>\n",
       "      <td>denso corporation</td>\n",
       "      <td>118</td>\n",
       "    </tr>\n",
       "    <tr>\n",
       "      <th>29</th>\n",
       "      <td>mitsubishi electric corp</td>\n",
       "      <td>117</td>\n",
       "    </tr>\n",
       "    <tr>\n",
       "      <th>30</th>\n",
       "      <td>panasonic corporation</td>\n",
       "      <td>114</td>\n",
       "    </tr>\n",
       "    <tr>\n",
       "      <th>31</th>\n",
       "      <td>aisin aw co ltd</td>\n",
       "      <td>110</td>\n",
       "    </tr>\n",
       "    <tr>\n",
       "      <th>32</th>\n",
       "      <td>siemens aktiengesellschaft</td>\n",
       "      <td>107</td>\n",
       "    </tr>\n",
       "    <tr>\n",
       "      <th>33</th>\n",
       "      <td>kawasaki jukogyo kabushiki kaisha</td>\n",
       "      <td>106</td>\n",
       "    </tr>\n",
       "    <tr>\n",
       "      <th>34</th>\n",
       "      <td>qualcomm incorporated</td>\n",
       "      <td>103</td>\n",
       "    </tr>\n",
       "    <tr>\n",
       "      <th>35</th>\n",
       "      <td>allison transmission inc</td>\n",
       "      <td>101</td>\n",
       "    </tr>\n",
       "    <tr>\n",
       "      <th>36</th>\n",
       "      <td>bayerische motoren werke aktiengesellschaft</td>\n",
       "      <td>99</td>\n",
       "    </tr>\n",
       "    <tr>\n",
       "      <th>37</th>\n",
       "      <td>jaguar land rover limited</td>\n",
       "      <td>99</td>\n",
       "    </tr>\n",
       "    <tr>\n",
       "      <th>38</th>\n",
       "      <td>daimler ag</td>\n",
       "      <td>99</td>\n",
       "    </tr>\n",
       "    <tr>\n",
       "      <th>39</th>\n",
       "      <td>daimlerchrysler ag</td>\n",
       "      <td>93</td>\n",
       "    </tr>\n",
       "  </tbody>\n",
       "</table>\n",
       "</div>"
      ],
      "text/plain": [
       "                                        unique_values  counts\n",
       "0                                   toyota motor corp    5680\n",
       "1                                     honda motor ltd    2662\n",
       "2                               hyundai motor company    1990\n",
       "3                                 nissan motor co ltd    1904\n",
       "4                        ford global technologies llc    1296\n",
       "5                                   robert bosch gmbh     557\n",
       "6                                   suzuki motor corp     359\n",
       "7                          general motors corporation     346\n",
       "8                                          denso corp     262\n",
       "9                              mitsubishi motors corp     260\n",
       "10                     peugeot citroen automobiles sa     244\n",
       "11                                       hitachi ltd      229\n",
       "12                                      lsis co  ltd      222\n",
       "13                               hyundai motor co ltd     200\n",
       "14                                   mazda motor corp     194\n",
       "15                                   sony corporation     192\n",
       "16                                  aisin aw co  ltd      187\n",
       "17          mitsubishi jidosha kogyo kabushiki kaisha     186\n",
       "18                           general electric company     183\n",
       "19                  yamaha hatsudoki kabushiki kaisha     165\n",
       "20                                        hitachi ltd     155\n",
       "21                                     renault s a s      148\n",
       "22                    state grid corporation of china     138\n",
       "23  korea advanced institute of science and techno...     128\n",
       "24                                byd company limited     127\n",
       "25                    mitsubishi electric corporation     127\n",
       "26                             kia motors corporation     126\n",
       "27                                 fuji heavy ind ltd     124\n",
       "28                                  denso corporation     118\n",
       "29                           mitsubishi electric corp     117\n",
       "30                              panasonic corporation     114\n",
       "31                                    aisin aw co ltd     110\n",
       "32                         siemens aktiengesellschaft     107\n",
       "33                  kawasaki jukogyo kabushiki kaisha     106\n",
       "34                              qualcomm incorporated     103\n",
       "35                          allison transmission inc      101\n",
       "36        bayerische motoren werke aktiengesellschaft      99\n",
       "37                          jaguar land rover limited      99\n",
       "38                                         daimler ag      99\n",
       "39                                 daimlerchrysler ag      93"
      ]
     },
     "execution_count": 211,
     "metadata": {},
     "output_type": "execute_result"
    }
   ],
   "source": [
    "value_counts = patents_new['assignee'].value_counts(dropna=True, sort=True)\n",
    "data = value_counts.rename_axis('unique_values').reset_index(name='counts')\n",
    "df_val_counts = pd.DataFrame(data)\n",
    "df_val_counts[:40]"
   ]
  },
  {
   "cell_type": "markdown",
   "metadata": {},
   "source": [
    "### mitsubishi motors corp"
   ]
  },
  {
   "cell_type": "code",
   "execution_count": 212,
   "metadata": {},
   "outputs": [
    {
     "data": {
      "text/html": [
       "<div>\n",
       "<style scoped>\n",
       "    .dataframe tbody tr th:only-of-type {\n",
       "        vertical-align: middle;\n",
       "    }\n",
       "\n",
       "    .dataframe tbody tr th {\n",
       "        vertical-align: top;\n",
       "    }\n",
       "\n",
       "    .dataframe thead th {\n",
       "        text-align: right;\n",
       "    }\n",
       "</style>\n",
       "<table border=\"1\" class=\"dataframe\">\n",
       "  <thead>\n",
       "    <tr style=\"text-align: right;\">\n",
       "      <th></th>\n",
       "      <th>unique_values</th>\n",
       "      <th>counts</th>\n",
       "    </tr>\n",
       "  </thead>\n",
       "  <tbody>\n",
       "    <tr>\n",
       "      <th>9</th>\n",
       "      <td>mitsubishi motors corp</td>\n",
       "      <td>260</td>\n",
       "    </tr>\n",
       "    <tr>\n",
       "      <th>17</th>\n",
       "      <td>mitsubishi jidosha kogyo kabushiki kaisha</td>\n",
       "      <td>186</td>\n",
       "    </tr>\n",
       "    <tr>\n",
       "      <th>25</th>\n",
       "      <td>mitsubishi electric corporation</td>\n",
       "      <td>127</td>\n",
       "    </tr>\n",
       "    <tr>\n",
       "      <th>29</th>\n",
       "      <td>mitsubishi electric corp</td>\n",
       "      <td>117</td>\n",
       "    </tr>\n",
       "    <tr>\n",
       "      <th>71</th>\n",
       "      <td>mitsubishi heavy ind ltd</td>\n",
       "      <td>57</td>\n",
       "    </tr>\n",
       "    <tr>\n",
       "      <th>75</th>\n",
       "      <td>mitsubishi heavy industries ltd</td>\n",
       "      <td>53</td>\n",
       "    </tr>\n",
       "    <tr>\n",
       "      <th>83</th>\n",
       "      <td>mitsubishi fuso truck   bus corp</td>\n",
       "      <td>47</td>\n",
       "    </tr>\n",
       "    <tr>\n",
       "      <th>137</th>\n",
       "      <td>mitsubishi denki kabushiki kaisha</td>\n",
       "      <td>28</td>\n",
       "    </tr>\n",
       "    <tr>\n",
       "      <th>201</th>\n",
       "      <td>mitsubishi fuso truck and bus corporation</td>\n",
       "      <td>18</td>\n",
       "    </tr>\n",
       "    <tr>\n",
       "      <th>211</th>\n",
       "      <td>mitsubishi motors corp</td>\n",
       "      <td>17</td>\n",
       "    </tr>\n",
       "    <tr>\n",
       "      <th>212</th>\n",
       "      <td>mitsubishi electric corp</td>\n",
       "      <td>17</td>\n",
       "    </tr>\n",
       "    <tr>\n",
       "      <th>274</th>\n",
       "      <td>mitsubishi motors corporation</td>\n",
       "      <td>13</td>\n",
       "    </tr>\n",
       "    <tr>\n",
       "      <th>440</th>\n",
       "      <td>mitsubishi jidosha kogyo k k</td>\n",
       "      <td>9</td>\n",
       "    </tr>\n",
       "    <tr>\n",
       "      <th>508</th>\n",
       "      <td>mitsubishi fuso truck and bus</td>\n",
       "      <td>7</td>\n",
       "    </tr>\n",
       "    <tr>\n",
       "      <th>556</th>\n",
       "      <td>mitsubishi jidosha kogyo kk</td>\n",
       "      <td>7</td>\n",
       "    </tr>\n",
       "    <tr>\n",
       "      <th>575</th>\n",
       "      <td>mitsubishi heavy industries parking co  ltd</td>\n",
       "      <td>7</td>\n",
       "    </tr>\n",
       "    <tr>\n",
       "      <th>1080</th>\n",
       "      <td>mitsubishi pencil company limited</td>\n",
       "      <td>4</td>\n",
       "    </tr>\n",
       "    <tr>\n",
       "      <th>1094</th>\n",
       "      <td>mitsubishi jukogyo kabushiki kaisha</td>\n",
       "      <td>4</td>\n",
       "    </tr>\n",
       "    <tr>\n",
       "      <th>1150</th>\n",
       "      <td>mitsubishi rayon co  ltd</td>\n",
       "      <td>4</td>\n",
       "    </tr>\n",
       "    <tr>\n",
       "      <th>1201</th>\n",
       "      <td>mitsubishi denki k k  tokio tokyo</td>\n",
       "      <td>3</td>\n",
       "    </tr>\n",
       "    <tr>\n",
       "      <th>1336</th>\n",
       "      <td>mitsubishi heavy industries parking co ltd</td>\n",
       "      <td>3</td>\n",
       "    </tr>\n",
       "    <tr>\n",
       "      <th>1751</th>\n",
       "      <td>mitsubishi denki kk</td>\n",
       "      <td>2</td>\n",
       "    </tr>\n",
       "    <tr>\n",
       "      <th>1827</th>\n",
       "      <td>mitsubishi chemicals corp</td>\n",
       "      <td>2</td>\n",
       "    </tr>\n",
       "    <tr>\n",
       "      <th>2071</th>\n",
       "      <td>mitsubishi heavy ind ltd</td>\n",
       "      <td>2</td>\n",
       "    </tr>\n",
       "    <tr>\n",
       "      <th>2308</th>\n",
       "      <td>mitsubishi automob eng co ltd</td>\n",
       "      <td>2</td>\n",
       "    </tr>\n",
       "    <tr>\n",
       "      <th>2569</th>\n",
       "      <td>mitsubishi nichiyu forklift co  ltd</td>\n",
       "      <td>2</td>\n",
       "    </tr>\n",
       "    <tr>\n",
       "      <th>2693</th>\n",
       "      <td>mitsubishi fuso truck   bus corp</td>\n",
       "      <td>2</td>\n",
       "    </tr>\n",
       "    <tr>\n",
       "      <th>2809</th>\n",
       "      <td>mitsubishi heavy ind parking co ltd</td>\n",
       "      <td>2</td>\n",
       "    </tr>\n",
       "    <tr>\n",
       "      <th>3772</th>\n",
       "      <td>mitsubishi denki k k</td>\n",
       "      <td>1</td>\n",
       "    </tr>\n",
       "    <tr>\n",
       "      <th>4026</th>\n",
       "      <td>mitsubishi cable industries ltd</td>\n",
       "      <td>1</td>\n",
       "    </tr>\n",
       "    <tr>\n",
       "      <th>5126</th>\n",
       "      <td>mitsubishi heavy industries pariking co ltd</td>\n",
       "      <td>1</td>\n",
       "    </tr>\n",
       "    <tr>\n",
       "      <th>5537</th>\n",
       "      <td>mitsubishi pencil co ltd</td>\n",
       "      <td>1</td>\n",
       "    </tr>\n",
       "    <tr>\n",
       "      <th>5679</th>\n",
       "      <td>mitsubishi alum co ltd</td>\n",
       "      <td>1</td>\n",
       "    </tr>\n",
       "    <tr>\n",
       "      <th>5872</th>\n",
       "      <td>mitsubishi denki k k  tokio tokyo jp</td>\n",
       "      <td>1</td>\n",
       "    </tr>\n",
       "    <tr>\n",
       "      <th>6180</th>\n",
       "      <td>mitsubishi jidosha engineering kabushiki kaisha</td>\n",
       "      <td>1</td>\n",
       "    </tr>\n",
       "    <tr>\n",
       "      <th>6694</th>\n",
       "      <td>mitsubishi jidosha kogyo k k  tokio tokyo</td>\n",
       "      <td>1</td>\n",
       "    </tr>\n",
       "    <tr>\n",
       "      <th>8089</th>\n",
       "      <td>mitsubishi nichiyu forklift co ltd</td>\n",
       "      <td>1</td>\n",
       "    </tr>\n",
       "    <tr>\n",
       "      <th>8097</th>\n",
       "      <td>mitsubishi fuso truck and bus corp</td>\n",
       "      <td>1</td>\n",
       "    </tr>\n",
       "  </tbody>\n",
       "</table>\n",
       "</div>"
      ],
      "text/plain": [
       "                                        unique_values  counts\n",
       "9                              mitsubishi motors corp     260\n",
       "17          mitsubishi jidosha kogyo kabushiki kaisha     186\n",
       "25                    mitsubishi electric corporation     127\n",
       "29                           mitsubishi electric corp     117\n",
       "71                           mitsubishi heavy ind ltd      57\n",
       "75                   mitsubishi heavy industries ltd       53\n",
       "83                   mitsubishi fuso truck   bus corp      47\n",
       "137                 mitsubishi denki kabushiki kaisha      28\n",
       "201         mitsubishi fuso truck and bus corporation      18\n",
       "211                           mitsubishi motors corp       17\n",
       "212                         mitsubishi electric corp       17\n",
       "274                     mitsubishi motors corporation      13\n",
       "440                     mitsubishi jidosha kogyo k k        9\n",
       "508                     mitsubishi fuso truck and bus       7\n",
       "556                       mitsubishi jidosha kogyo kk       7\n",
       "575      mitsubishi heavy industries parking co  ltd        7\n",
       "1080                mitsubishi pencil company limited       4\n",
       "1094              mitsubishi jukogyo kabushiki kaisha       4\n",
       "1150                        mitsubishi rayon co  ltd        4\n",
       "1201                mitsubishi denki k k  tokio tokyo       3\n",
       "1336       mitsubishi heavy industries parking co ltd       3\n",
       "1751                              mitsubishi denki kk       2\n",
       "1827                        mitsubishi chemicals corp       2\n",
       "2071                        mitsubishi heavy ind ltd        2\n",
       "2308                    mitsubishi automob eng co ltd       2\n",
       "2569             mitsubishi nichiyu forklift co  ltd        2\n",
       "2693                mitsubishi fuso truck   bus corp        2\n",
       "2809              mitsubishi heavy ind parking co ltd       2\n",
       "3772                            mitsubishi denki k k        1\n",
       "4026                 mitsubishi cable industries ltd        1\n",
       "5126      mitsubishi heavy industries pariking co ltd       1\n",
       "5537                         mitsubishi pencil co ltd       1\n",
       "5679                           mitsubishi alum co ltd       1\n",
       "5872             mitsubishi denki k k  tokio tokyo jp       1\n",
       "6180  mitsubishi jidosha engineering kabushiki kaisha       1\n",
       "6694        mitsubishi jidosha kogyo k k  tokio tokyo       1\n",
       "8089               mitsubishi nichiyu forklift co ltd       1\n",
       "8097              mitsubishi fuso truck and bus corp        1"
      ]
     },
     "execution_count": 212,
     "metadata": {},
     "output_type": "execute_result"
    }
   ],
   "source": [
    "df_val_counts[df_val_counts.unique_values.str.contains('mitsubishi',regex=True)]"
   ]
  },
  {
   "cell_type": "code",
   "execution_count": 213,
   "metadata": {},
   "outputs": [
    {
     "data": {
      "text/plain": [
       "'mitsubishi motors corp'"
      ]
     },
     "execution_count": 213,
     "metadata": {},
     "output_type": "execute_result"
    }
   ],
   "source": [
    "df_val_counts.unique_values[9]"
   ]
  },
  {
   "cell_type": "code",
   "execution_count": 214,
   "metadata": {},
   "outputs": [
    {
     "data": {
      "text/plain": [
       "'mitsubishi jidosha kogyo kabushiki kaisha'"
      ]
     },
     "execution_count": 214,
     "metadata": {},
     "output_type": "execute_result"
    }
   ],
   "source": [
    "df_val_counts.unique_values[17]"
   ]
  },
  {
   "cell_type": "code",
   "execution_count": 215,
   "metadata": {},
   "outputs": [
    {
     "data": {
      "text/plain": [
       "'mitsubishi electric corporation'"
      ]
     },
     "execution_count": 215,
     "metadata": {},
     "output_type": "execute_result"
    }
   ],
   "source": [
    "df_val_counts.unique_values[25]"
   ]
  },
  {
   "cell_type": "code",
   "execution_count": 216,
   "metadata": {},
   "outputs": [
    {
     "data": {
      "text/plain": [
       "'mitsubishi electric corp'"
      ]
     },
     "execution_count": 216,
     "metadata": {},
     "output_type": "execute_result"
    }
   ],
   "source": [
    "df_val_counts.unique_values[29]"
   ]
  },
  {
   "cell_type": "code",
   "execution_count": 217,
   "metadata": {},
   "outputs": [
    {
     "data": {
      "text/plain": [
       "'mitsubishi heavy ind ltd'"
      ]
     },
     "execution_count": 217,
     "metadata": {},
     "output_type": "execute_result"
    }
   ],
   "source": [
    "df_val_counts.unique_values[71]"
   ]
  },
  {
   "cell_type": "code",
   "execution_count": 218,
   "metadata": {},
   "outputs": [
    {
     "data": {
      "text/plain": [
       "'mitsubishi heavy industries ltd '"
      ]
     },
     "execution_count": 218,
     "metadata": {},
     "output_type": "execute_result"
    }
   ],
   "source": [
    "df_val_counts.unique_values[75]"
   ]
  },
  {
   "cell_type": "code",
   "execution_count": 219,
   "metadata": {},
   "outputs": [
    {
     "data": {
      "text/plain": [
       "'mitsubishi fuso truck   bus corp'"
      ]
     },
     "execution_count": 219,
     "metadata": {},
     "output_type": "execute_result"
    }
   ],
   "source": [
    "df_val_counts.unique_values[83]"
   ]
  },
  {
   "cell_type": "code",
   "execution_count": 220,
   "metadata": {},
   "outputs": [],
   "source": [
    "patents_new['assignee']=patents_new['assignee'].str.replace('mitsubishi jidosha kogyo kabushiki kaisha' , 'mitsubishi motors corp')"
   ]
  },
  {
   "cell_type": "code",
   "execution_count": 221,
   "metadata": {},
   "outputs": [],
   "source": [
    "patents_new['assignee']=patents_new['assignee'].str.replace('mitsubishi electric corporation' , 'mitsubishi motors corp')"
   ]
  },
  {
   "cell_type": "code",
   "execution_count": 222,
   "metadata": {},
   "outputs": [],
   "source": [
    "patents_new['assignee']=patents_new['assignee'].str.replace('mitsubishi electric corp' , 'mitsubishi motors corp')"
   ]
  },
  {
   "cell_type": "code",
   "execution_count": 223,
   "metadata": {},
   "outputs": [],
   "source": [
    "patents_new['assignee']=patents_new['assignee'].str.replace('mitsubishi heavy ind ltd' , 'mitsubishi motors corp')"
   ]
  },
  {
   "cell_type": "code",
   "execution_count": 224,
   "metadata": {},
   "outputs": [],
   "source": [
    "patents_new['assignee']=patents_new['assignee'].str.replace('mitsubishi heavy industries ltd '  , 'mitsubishi motors corp')"
   ]
  },
  {
   "cell_type": "code",
   "execution_count": 225,
   "metadata": {},
   "outputs": [],
   "source": [
    "patents_new['assignee']=patents_new['assignee'].str.replace('mitsubishi fuso truck   bus corp'  , 'mitsubishi motors corp')"
   ]
  },
  {
   "cell_type": "code",
   "execution_count": 230,
   "metadata": {},
   "outputs": [
    {
     "data": {
      "text/html": [
       "<div>\n",
       "<style scoped>\n",
       "    .dataframe tbody tr th:only-of-type {\n",
       "        vertical-align: middle;\n",
       "    }\n",
       "\n",
       "    .dataframe tbody tr th {\n",
       "        vertical-align: top;\n",
       "    }\n",
       "\n",
       "    .dataframe thead th {\n",
       "        text-align: right;\n",
       "    }\n",
       "</style>\n",
       "<table border=\"1\" class=\"dataframe\">\n",
       "  <thead>\n",
       "    <tr style=\"text-align: right;\">\n",
       "      <th></th>\n",
       "      <th>unique_values</th>\n",
       "      <th>counts</th>\n",
       "    </tr>\n",
       "  </thead>\n",
       "  <tbody>\n",
       "    <tr>\n",
       "      <th>0</th>\n",
       "      <td>toyota motor corp</td>\n",
       "      <td>5680</td>\n",
       "    </tr>\n",
       "    <tr>\n",
       "      <th>1</th>\n",
       "      <td>honda motor ltd</td>\n",
       "      <td>2662</td>\n",
       "    </tr>\n",
       "    <tr>\n",
       "      <th>2</th>\n",
       "      <td>hyundai motor company</td>\n",
       "      <td>2190</td>\n",
       "    </tr>\n",
       "    <tr>\n",
       "      <th>3</th>\n",
       "      <td>nissan motor co ltd</td>\n",
       "      <td>1904</td>\n",
       "    </tr>\n",
       "    <tr>\n",
       "      <th>4</th>\n",
       "      <td>ford global technologies llc</td>\n",
       "      <td>1296</td>\n",
       "    </tr>\n",
       "    <tr>\n",
       "      <th>5</th>\n",
       "      <td>mitsubishi motors corp</td>\n",
       "      <td>847</td>\n",
       "    </tr>\n",
       "    <tr>\n",
       "      <th>6</th>\n",
       "      <td>robert bosch gmbh</td>\n",
       "      <td>557</td>\n",
       "    </tr>\n",
       "    <tr>\n",
       "      <th>7</th>\n",
       "      <td>suzuki motor corp</td>\n",
       "      <td>359</td>\n",
       "    </tr>\n",
       "    <tr>\n",
       "      <th>8</th>\n",
       "      <td>general motors corporation</td>\n",
       "      <td>346</td>\n",
       "    </tr>\n",
       "    <tr>\n",
       "      <th>9</th>\n",
       "      <td>denso corp</td>\n",
       "      <td>262</td>\n",
       "    </tr>\n",
       "    <tr>\n",
       "      <th>10</th>\n",
       "      <td>peugeot citroen automobiles sa</td>\n",
       "      <td>244</td>\n",
       "    </tr>\n",
       "    <tr>\n",
       "      <th>11</th>\n",
       "      <td>hitachi ltd</td>\n",
       "      <td>229</td>\n",
       "    </tr>\n",
       "    <tr>\n",
       "      <th>12</th>\n",
       "      <td>lsis co  ltd</td>\n",
       "      <td>222</td>\n",
       "    </tr>\n",
       "    <tr>\n",
       "      <th>13</th>\n",
       "      <td>mazda motor corp</td>\n",
       "      <td>194</td>\n",
       "    </tr>\n",
       "    <tr>\n",
       "      <th>14</th>\n",
       "      <td>sony corporation</td>\n",
       "      <td>192</td>\n",
       "    </tr>\n",
       "    <tr>\n",
       "      <th>15</th>\n",
       "      <td>aisin aw co  ltd</td>\n",
       "      <td>187</td>\n",
       "    </tr>\n",
       "    <tr>\n",
       "      <th>16</th>\n",
       "      <td>general electric company</td>\n",
       "      <td>183</td>\n",
       "    </tr>\n",
       "    <tr>\n",
       "      <th>17</th>\n",
       "      <td>yamaha hatsudoki kabushiki kaisha</td>\n",
       "      <td>165</td>\n",
       "    </tr>\n",
       "    <tr>\n",
       "      <th>18</th>\n",
       "      <td>hitachi ltd</td>\n",
       "      <td>155</td>\n",
       "    </tr>\n",
       "    <tr>\n",
       "      <th>19</th>\n",
       "      <td>renault s a s</td>\n",
       "      <td>148</td>\n",
       "    </tr>\n",
       "    <tr>\n",
       "      <th>20</th>\n",
       "      <td>state grid corporation of china</td>\n",
       "      <td>138</td>\n",
       "    </tr>\n",
       "    <tr>\n",
       "      <th>21</th>\n",
       "      <td>korea advanced institute of science and techno...</td>\n",
       "      <td>128</td>\n",
       "    </tr>\n",
       "    <tr>\n",
       "      <th>22</th>\n",
       "      <td>byd company limited</td>\n",
       "      <td>127</td>\n",
       "    </tr>\n",
       "    <tr>\n",
       "      <th>23</th>\n",
       "      <td>kia motors corporation</td>\n",
       "      <td>126</td>\n",
       "    </tr>\n",
       "    <tr>\n",
       "      <th>24</th>\n",
       "      <td>fuji heavy ind ltd</td>\n",
       "      <td>124</td>\n",
       "    </tr>\n",
       "    <tr>\n",
       "      <th>25</th>\n",
       "      <td>denso corporation</td>\n",
       "      <td>118</td>\n",
       "    </tr>\n",
       "    <tr>\n",
       "      <th>26</th>\n",
       "      <td>panasonic corporation</td>\n",
       "      <td>114</td>\n",
       "    </tr>\n",
       "    <tr>\n",
       "      <th>27</th>\n",
       "      <td>aisin aw co ltd</td>\n",
       "      <td>110</td>\n",
       "    </tr>\n",
       "    <tr>\n",
       "      <th>28</th>\n",
       "      <td>siemens aktiengesellschaft</td>\n",
       "      <td>107</td>\n",
       "    </tr>\n",
       "    <tr>\n",
       "      <th>29</th>\n",
       "      <td>kawasaki jukogyo kabushiki kaisha</td>\n",
       "      <td>106</td>\n",
       "    </tr>\n",
       "    <tr>\n",
       "      <th>30</th>\n",
       "      <td>qualcomm incorporated</td>\n",
       "      <td>103</td>\n",
       "    </tr>\n",
       "    <tr>\n",
       "      <th>31</th>\n",
       "      <td>allison transmission inc</td>\n",
       "      <td>101</td>\n",
       "    </tr>\n",
       "    <tr>\n",
       "      <th>32</th>\n",
       "      <td>jaguar land rover limited</td>\n",
       "      <td>99</td>\n",
       "    </tr>\n",
       "    <tr>\n",
       "      <th>33</th>\n",
       "      <td>daimler ag</td>\n",
       "      <td>99</td>\n",
       "    </tr>\n",
       "    <tr>\n",
       "      <th>34</th>\n",
       "      <td>bayerische motoren werke aktiengesellschaft</td>\n",
       "      <td>99</td>\n",
       "    </tr>\n",
       "    <tr>\n",
       "      <th>35</th>\n",
       "      <td>daimlerchrysler ag</td>\n",
       "      <td>93</td>\n",
       "    </tr>\n",
       "    <tr>\n",
       "      <th>36</th>\n",
       "      <td>beiqi foton motor co  ltd</td>\n",
       "      <td>89</td>\n",
       "    </tr>\n",
       "    <tr>\n",
       "      <th>37</th>\n",
       "      <td>chery automobile co  ltd</td>\n",
       "      <td>85</td>\n",
       "    </tr>\n",
       "    <tr>\n",
       "      <th>38</th>\n",
       "      <td>panasonic corp</td>\n",
       "      <td>84</td>\n",
       "    </tr>\n",
       "    <tr>\n",
       "      <th>39</th>\n",
       "      <td>hino motors ltd</td>\n",
       "      <td>84</td>\n",
       "    </tr>\n",
       "  </tbody>\n",
       "</table>\n",
       "</div>"
      ],
      "text/plain": [
       "                                        unique_values  counts\n",
       "0                                   toyota motor corp    5680\n",
       "1                                     honda motor ltd    2662\n",
       "2                               hyundai motor company    2190\n",
       "3                                 nissan motor co ltd    1904\n",
       "4                        ford global technologies llc    1296\n",
       "5                              mitsubishi motors corp     847\n",
       "6                                   robert bosch gmbh     557\n",
       "7                                   suzuki motor corp     359\n",
       "8                          general motors corporation     346\n",
       "9                                          denso corp     262\n",
       "10                     peugeot citroen automobiles sa     244\n",
       "11                                       hitachi ltd      229\n",
       "12                                      lsis co  ltd      222\n",
       "13                                   mazda motor corp     194\n",
       "14                                   sony corporation     192\n",
       "15                                  aisin aw co  ltd      187\n",
       "16                           general electric company     183\n",
       "17                  yamaha hatsudoki kabushiki kaisha     165\n",
       "18                                        hitachi ltd     155\n",
       "19                                     renault s a s      148\n",
       "20                    state grid corporation of china     138\n",
       "21  korea advanced institute of science and techno...     128\n",
       "22                                byd company limited     127\n",
       "23                             kia motors corporation     126\n",
       "24                                 fuji heavy ind ltd     124\n",
       "25                                  denso corporation     118\n",
       "26                              panasonic corporation     114\n",
       "27                                    aisin aw co ltd     110\n",
       "28                         siemens aktiengesellschaft     107\n",
       "29                  kawasaki jukogyo kabushiki kaisha     106\n",
       "30                              qualcomm incorporated     103\n",
       "31                          allison transmission inc      101\n",
       "32                          jaguar land rover limited      99\n",
       "33                                         daimler ag      99\n",
       "34        bayerische motoren werke aktiengesellschaft      99\n",
       "35                                 daimlerchrysler ag      93\n",
       "36                         beiqi foton motor co  ltd       89\n",
       "37                          chery automobile co  ltd       85\n",
       "38                                     panasonic corp      84\n",
       "39                                   hino motors ltd       84"
      ]
     },
     "execution_count": 230,
     "metadata": {},
     "output_type": "execute_result"
    }
   ],
   "source": [
    "value_counts = patents_new['assignee'].value_counts(dropna=True, sort=True)\n",
    "data = value_counts.rename_axis('unique_values').reset_index(name='counts')\n",
    "df_val_counts = pd.DataFrame(data)\n",
    "df_val_counts[:40]"
   ]
  },
  {
   "cell_type": "markdown",
   "metadata": {},
   "source": [
    "### hyundai motor company vs hyundai motor co ltd"
   ]
  },
  {
   "cell_type": "code",
   "execution_count": 227,
   "metadata": {},
   "outputs": [
    {
     "data": {
      "text/plain": [
       "'hyundai motor co ltd'"
      ]
     },
     "execution_count": 227,
     "metadata": {},
     "output_type": "execute_result"
    }
   ],
   "source": [
    "df_val_counts.unique_values[13]"
   ]
  },
  {
   "cell_type": "code",
   "execution_count": 228,
   "metadata": {},
   "outputs": [
    {
     "data": {
      "text/plain": [
       "'hyundai motor company'"
      ]
     },
     "execution_count": 228,
     "metadata": {},
     "output_type": "execute_result"
    }
   ],
   "source": [
    "df_val_counts.unique_values[2]"
   ]
  },
  {
   "cell_type": "code",
   "execution_count": 229,
   "metadata": {},
   "outputs": [],
   "source": [
    "patents_new['assignee']=patents_new['assignee'].str.replace('hyundai motor co ltd'  , 'hyundai motor company')"
   ]
  },
  {
   "cell_type": "markdown",
   "metadata": {},
   "source": [
    "### save work"
   ]
  },
  {
   "cell_type": "code",
   "execution_count": 231,
   "metadata": {},
   "outputs": [],
   "source": [
    "patents_new.to_csv('patent_firm_full_clean.csv')\n",
    "patents_new.to_pickle('patent_firm_full_clean.pkl')"
   ]
  },
  {
   "cell_type": "markdown",
   "metadata": {},
   "source": [
    "### hitachi ltd"
   ]
  },
  {
   "cell_type": "code",
   "execution_count": 233,
   "metadata": {},
   "outputs": [
    {
     "data": {
      "text/html": [
       "<div>\n",
       "<style scoped>\n",
       "    .dataframe tbody tr th:only-of-type {\n",
       "        vertical-align: middle;\n",
       "    }\n",
       "\n",
       "    .dataframe tbody tr th {\n",
       "        vertical-align: top;\n",
       "    }\n",
       "\n",
       "    .dataframe thead th {\n",
       "        text-align: right;\n",
       "    }\n",
       "</style>\n",
       "<table border=\"1\" class=\"dataframe\">\n",
       "  <thead>\n",
       "    <tr style=\"text-align: right;\">\n",
       "      <th></th>\n",
       "      <th>unique_values</th>\n",
       "      <th>counts</th>\n",
       "    </tr>\n",
       "  </thead>\n",
       "  <tbody>\n",
       "    <tr>\n",
       "      <th>11</th>\n",
       "      <td>hitachi ltd</td>\n",
       "      <td>229</td>\n",
       "    </tr>\n",
       "    <tr>\n",
       "      <th>18</th>\n",
       "      <td>hitachi ltd</td>\n",
       "      <td>155</td>\n",
       "    </tr>\n",
       "    <tr>\n",
       "      <th>62</th>\n",
       "      <td>hitachi automotive systems ltd</td>\n",
       "      <td>59</td>\n",
       "    </tr>\n",
       "    <tr>\n",
       "      <th>104</th>\n",
       "      <td>hitachi automotive systems ltd</td>\n",
       "      <td>38</td>\n",
       "    </tr>\n",
       "    <tr>\n",
       "      <th>298</th>\n",
       "      <td>hitachi ltd  tokio tokyo jp</td>\n",
       "      <td>11</td>\n",
       "    </tr>\n",
       "  </tbody>\n",
       "</table>\n",
       "</div>"
      ],
      "text/plain": [
       "                       unique_values  counts\n",
       "11                      hitachi ltd      229\n",
       "18                       hitachi ltd     155\n",
       "62   hitachi automotive systems ltd       59\n",
       "104   hitachi automotive systems ltd      38\n",
       "298      hitachi ltd  tokio tokyo jp      11"
      ]
     },
     "execution_count": 233,
     "metadata": {},
     "output_type": "execute_result"
    }
   ],
   "source": [
    "df_val_counts[df_val_counts.unique_values.str.contains('hitachi',regex=True)][:5]"
   ]
  },
  {
   "cell_type": "code",
   "execution_count": 234,
   "metadata": {},
   "outputs": [
    {
     "data": {
      "text/plain": [
       "'hitachi ltd '"
      ]
     },
     "execution_count": 234,
     "metadata": {},
     "output_type": "execute_result"
    }
   ],
   "source": [
    "df_val_counts.unique_values[11]"
   ]
  },
  {
   "cell_type": "code",
   "execution_count": 235,
   "metadata": {},
   "outputs": [
    {
     "data": {
      "text/plain": [
       "'hitachi ltd'"
      ]
     },
     "execution_count": 235,
     "metadata": {},
     "output_type": "execute_result"
    }
   ],
   "source": [
    "df_val_counts.unique_values[18]"
   ]
  },
  {
   "cell_type": "code",
   "execution_count": 236,
   "metadata": {},
   "outputs": [
    {
     "data": {
      "text/plain": [
       "'hitachi automotive systems ltd '"
      ]
     },
     "execution_count": 236,
     "metadata": {},
     "output_type": "execute_result"
    }
   ],
   "source": [
    "df_val_counts.unique_values[62]"
   ]
  },
  {
   "cell_type": "code",
   "execution_count": 237,
   "metadata": {},
   "outputs": [
    {
     "data": {
      "text/plain": [
       "'hitachi automotive systems ltd'"
      ]
     },
     "execution_count": 237,
     "metadata": {},
     "output_type": "execute_result"
    }
   ],
   "source": [
    "df_val_counts.unique_values[104]"
   ]
  },
  {
   "cell_type": "code",
   "execution_count": 238,
   "metadata": {},
   "outputs": [],
   "source": [
    "patents_new['assignee']=patents_new['assignee'].str.replace('hitachi ltd '  , 'hitachi automotive systems ltd')"
   ]
  },
  {
   "cell_type": "code",
   "execution_count": 239,
   "metadata": {},
   "outputs": [],
   "source": [
    "patents_new['assignee']=patents_new['assignee'].str.replace('hitachi ltd'  , 'hitachi automotive systems ltd')"
   ]
  },
  {
   "cell_type": "code",
   "execution_count": 240,
   "metadata": {},
   "outputs": [],
   "source": [
    "patents_new['assignee']=patents_new['assignee'].str.replace('hitachi automotive systems ltd '  , 'hitachi automotive systems ltd')"
   ]
  },
  {
   "cell_type": "code",
   "execution_count": 241,
   "metadata": {},
   "outputs": [
    {
     "data": {
      "text/html": [
       "<div>\n",
       "<style scoped>\n",
       "    .dataframe tbody tr th:only-of-type {\n",
       "        vertical-align: middle;\n",
       "    }\n",
       "\n",
       "    .dataframe tbody tr th {\n",
       "        vertical-align: top;\n",
       "    }\n",
       "\n",
       "    .dataframe thead th {\n",
       "        text-align: right;\n",
       "    }\n",
       "</style>\n",
       "<table border=\"1\" class=\"dataframe\">\n",
       "  <thead>\n",
       "    <tr style=\"text-align: right;\">\n",
       "      <th></th>\n",
       "      <th>unique_values</th>\n",
       "      <th>counts</th>\n",
       "    </tr>\n",
       "  </thead>\n",
       "  <tbody>\n",
       "    <tr>\n",
       "      <th>0</th>\n",
       "      <td>toyota motor corp</td>\n",
       "      <td>5680</td>\n",
       "    </tr>\n",
       "    <tr>\n",
       "      <th>1</th>\n",
       "      <td>honda motor ltd</td>\n",
       "      <td>2662</td>\n",
       "    </tr>\n",
       "    <tr>\n",
       "      <th>2</th>\n",
       "      <td>hyundai motor company</td>\n",
       "      <td>2190</td>\n",
       "    </tr>\n",
       "    <tr>\n",
       "      <th>3</th>\n",
       "      <td>nissan motor co ltd</td>\n",
       "      <td>1904</td>\n",
       "    </tr>\n",
       "    <tr>\n",
       "      <th>4</th>\n",
       "      <td>ford global technologies llc</td>\n",
       "      <td>1296</td>\n",
       "    </tr>\n",
       "    <tr>\n",
       "      <th>5</th>\n",
       "      <td>mitsubishi motors corp</td>\n",
       "      <td>847</td>\n",
       "    </tr>\n",
       "    <tr>\n",
       "      <th>6</th>\n",
       "      <td>robert bosch gmbh</td>\n",
       "      <td>557</td>\n",
       "    </tr>\n",
       "    <tr>\n",
       "      <th>7</th>\n",
       "      <td>hitachi automotive systems ltd</td>\n",
       "      <td>481</td>\n",
       "    </tr>\n",
       "    <tr>\n",
       "      <th>8</th>\n",
       "      <td>suzuki motor corp</td>\n",
       "      <td>359</td>\n",
       "    </tr>\n",
       "    <tr>\n",
       "      <th>9</th>\n",
       "      <td>general motors corporation</td>\n",
       "      <td>346</td>\n",
       "    </tr>\n",
       "    <tr>\n",
       "      <th>10</th>\n",
       "      <td>denso corp</td>\n",
       "      <td>262</td>\n",
       "    </tr>\n",
       "    <tr>\n",
       "      <th>11</th>\n",
       "      <td>peugeot citroen automobiles sa</td>\n",
       "      <td>244</td>\n",
       "    </tr>\n",
       "    <tr>\n",
       "      <th>12</th>\n",
       "      <td>lsis co  ltd</td>\n",
       "      <td>222</td>\n",
       "    </tr>\n",
       "    <tr>\n",
       "      <th>13</th>\n",
       "      <td>mazda motor corp</td>\n",
       "      <td>194</td>\n",
       "    </tr>\n",
       "    <tr>\n",
       "      <th>14</th>\n",
       "      <td>sony corporation</td>\n",
       "      <td>192</td>\n",
       "    </tr>\n",
       "    <tr>\n",
       "      <th>15</th>\n",
       "      <td>aisin aw co  ltd</td>\n",
       "      <td>187</td>\n",
       "    </tr>\n",
       "    <tr>\n",
       "      <th>16</th>\n",
       "      <td>general electric company</td>\n",
       "      <td>183</td>\n",
       "    </tr>\n",
       "    <tr>\n",
       "      <th>17</th>\n",
       "      <td>yamaha hatsudoki kabushiki kaisha</td>\n",
       "      <td>165</td>\n",
       "    </tr>\n",
       "    <tr>\n",
       "      <th>18</th>\n",
       "      <td>renault s a s</td>\n",
       "      <td>148</td>\n",
       "    </tr>\n",
       "    <tr>\n",
       "      <th>19</th>\n",
       "      <td>state grid corporation of china</td>\n",
       "      <td>138</td>\n",
       "    </tr>\n",
       "    <tr>\n",
       "      <th>20</th>\n",
       "      <td>korea advanced institute of science and techno...</td>\n",
       "      <td>128</td>\n",
       "    </tr>\n",
       "    <tr>\n",
       "      <th>21</th>\n",
       "      <td>byd company limited</td>\n",
       "      <td>127</td>\n",
       "    </tr>\n",
       "    <tr>\n",
       "      <th>22</th>\n",
       "      <td>kia motors corporation</td>\n",
       "      <td>126</td>\n",
       "    </tr>\n",
       "    <tr>\n",
       "      <th>23</th>\n",
       "      <td>fuji heavy ind ltd</td>\n",
       "      <td>124</td>\n",
       "    </tr>\n",
       "    <tr>\n",
       "      <th>24</th>\n",
       "      <td>denso corporation</td>\n",
       "      <td>118</td>\n",
       "    </tr>\n",
       "    <tr>\n",
       "      <th>25</th>\n",
       "      <td>panasonic corporation</td>\n",
       "      <td>114</td>\n",
       "    </tr>\n",
       "    <tr>\n",
       "      <th>26</th>\n",
       "      <td>aisin aw co ltd</td>\n",
       "      <td>110</td>\n",
       "    </tr>\n",
       "    <tr>\n",
       "      <th>27</th>\n",
       "      <td>siemens aktiengesellschaft</td>\n",
       "      <td>107</td>\n",
       "    </tr>\n",
       "    <tr>\n",
       "      <th>28</th>\n",
       "      <td>kawasaki jukogyo kabushiki kaisha</td>\n",
       "      <td>106</td>\n",
       "    </tr>\n",
       "    <tr>\n",
       "      <th>29</th>\n",
       "      <td>qualcomm incorporated</td>\n",
       "      <td>103</td>\n",
       "    </tr>\n",
       "    <tr>\n",
       "      <th>30</th>\n",
       "      <td>allison transmission inc</td>\n",
       "      <td>101</td>\n",
       "    </tr>\n",
       "    <tr>\n",
       "      <th>31</th>\n",
       "      <td>daimler ag</td>\n",
       "      <td>99</td>\n",
       "    </tr>\n",
       "    <tr>\n",
       "      <th>32</th>\n",
       "      <td>jaguar land rover limited</td>\n",
       "      <td>99</td>\n",
       "    </tr>\n",
       "    <tr>\n",
       "      <th>33</th>\n",
       "      <td>bayerische motoren werke aktiengesellschaft</td>\n",
       "      <td>99</td>\n",
       "    </tr>\n",
       "    <tr>\n",
       "      <th>34</th>\n",
       "      <td>daimlerchrysler ag</td>\n",
       "      <td>93</td>\n",
       "    </tr>\n",
       "    <tr>\n",
       "      <th>35</th>\n",
       "      <td>beiqi foton motor co  ltd</td>\n",
       "      <td>89</td>\n",
       "    </tr>\n",
       "    <tr>\n",
       "      <th>36</th>\n",
       "      <td>chery automobile co  ltd</td>\n",
       "      <td>85</td>\n",
       "    </tr>\n",
       "    <tr>\n",
       "      <th>37</th>\n",
       "      <td>hino motors ltd</td>\n",
       "      <td>84</td>\n",
       "    </tr>\n",
       "    <tr>\n",
       "      <th>38</th>\n",
       "      <td>panasonic corp</td>\n",
       "      <td>84</td>\n",
       "    </tr>\n",
       "    <tr>\n",
       "      <th>39</th>\n",
       "      <td>lg electronics inc</td>\n",
       "      <td>81</td>\n",
       "    </tr>\n",
       "  </tbody>\n",
       "</table>\n",
       "</div>"
      ],
      "text/plain": [
       "                                        unique_values  counts\n",
       "0                                   toyota motor corp    5680\n",
       "1                                     honda motor ltd    2662\n",
       "2                               hyundai motor company    2190\n",
       "3                                 nissan motor co ltd    1904\n",
       "4                        ford global technologies llc    1296\n",
       "5                              mitsubishi motors corp     847\n",
       "6                                   robert bosch gmbh     557\n",
       "7                      hitachi automotive systems ltd     481\n",
       "8                                   suzuki motor corp     359\n",
       "9                          general motors corporation     346\n",
       "10                                         denso corp     262\n",
       "11                     peugeot citroen automobiles sa     244\n",
       "12                                      lsis co  ltd      222\n",
       "13                                   mazda motor corp     194\n",
       "14                                   sony corporation     192\n",
       "15                                  aisin aw co  ltd      187\n",
       "16                           general electric company     183\n",
       "17                  yamaha hatsudoki kabushiki kaisha     165\n",
       "18                                     renault s a s      148\n",
       "19                    state grid corporation of china     138\n",
       "20  korea advanced institute of science and techno...     128\n",
       "21                                byd company limited     127\n",
       "22                             kia motors corporation     126\n",
       "23                                 fuji heavy ind ltd     124\n",
       "24                                  denso corporation     118\n",
       "25                              panasonic corporation     114\n",
       "26                                    aisin aw co ltd     110\n",
       "27                         siemens aktiengesellschaft     107\n",
       "28                  kawasaki jukogyo kabushiki kaisha     106\n",
       "29                              qualcomm incorporated     103\n",
       "30                          allison transmission inc      101\n",
       "31                                         daimler ag      99\n",
       "32                          jaguar land rover limited      99\n",
       "33        bayerische motoren werke aktiengesellschaft      99\n",
       "34                                 daimlerchrysler ag      93\n",
       "35                         beiqi foton motor co  ltd       89\n",
       "36                          chery automobile co  ltd       85\n",
       "37                                   hino motors ltd       84\n",
       "38                                     panasonic corp      84\n",
       "39                                lg electronics inc       81"
      ]
     },
     "execution_count": 241,
     "metadata": {},
     "output_type": "execute_result"
    }
   ],
   "source": [
    "value_counts = patents_new['assignee'].value_counts(dropna=True, sort=True)\n",
    "data = value_counts.rename_axis('unique_values').reset_index(name='counts')\n",
    "df_val_counts = pd.DataFrame(data)\n",
    "df_val_counts[:40]"
   ]
  },
  {
   "cell_type": "markdown",
   "metadata": {},
   "source": [
    "### daimler"
   ]
  },
  {
   "cell_type": "code",
   "execution_count": 242,
   "metadata": {},
   "outputs": [
    {
     "data": {
      "text/html": [
       "<div>\n",
       "<style scoped>\n",
       "    .dataframe tbody tr th:only-of-type {\n",
       "        vertical-align: middle;\n",
       "    }\n",
       "\n",
       "    .dataframe tbody tr th {\n",
       "        vertical-align: top;\n",
       "    }\n",
       "\n",
       "    .dataframe thead th {\n",
       "        text-align: right;\n",
       "    }\n",
       "</style>\n",
       "<table border=\"1\" class=\"dataframe\">\n",
       "  <thead>\n",
       "    <tr style=\"text-align: right;\">\n",
       "      <th></th>\n",
       "      <th>unique_values</th>\n",
       "      <th>counts</th>\n",
       "    </tr>\n",
       "  </thead>\n",
       "  <tbody>\n",
       "    <tr>\n",
       "      <th>31</th>\n",
       "      <td>daimler ag</td>\n",
       "      <td>99</td>\n",
       "    </tr>\n",
       "    <tr>\n",
       "      <th>34</th>\n",
       "      <td>daimlerchrysler ag</td>\n",
       "      <td>93</td>\n",
       "    </tr>\n",
       "    <tr>\n",
       "      <th>179</th>\n",
       "      <td>daimlerchrysler corporation</td>\n",
       "      <td>20</td>\n",
       "    </tr>\n",
       "    <tr>\n",
       "      <th>368</th>\n",
       "      <td>daimler benz aktiengesellschaft</td>\n",
       "      <td>10</td>\n",
       "    </tr>\n",
       "    <tr>\n",
       "      <th>458</th>\n",
       "      <td>daimler benz ag</td>\n",
       "      <td>8</td>\n",
       "    </tr>\n",
       "  </tbody>\n",
       "</table>\n",
       "</div>"
      ],
      "text/plain": [
       "                       unique_values  counts\n",
       "31                        daimler ag      99\n",
       "34                daimlerchrysler ag      93\n",
       "179      daimlerchrysler corporation      20\n",
       "368  daimler benz aktiengesellschaft      10\n",
       "458                  daimler benz ag       8"
      ]
     },
     "execution_count": 242,
     "metadata": {},
     "output_type": "execute_result"
    }
   ],
   "source": [
    "df_val_counts[df_val_counts.unique_values.str.contains('daimler',regex=True)][:5]"
   ]
  },
  {
   "cell_type": "code",
   "execution_count": 243,
   "metadata": {},
   "outputs": [
    {
     "data": {
      "text/plain": [
       "'daimler ag'"
      ]
     },
     "execution_count": 243,
     "metadata": {},
     "output_type": "execute_result"
    }
   ],
   "source": [
    "df_val_counts.unique_values[31]"
   ]
  },
  {
   "cell_type": "code",
   "execution_count": 244,
   "metadata": {},
   "outputs": [
    {
     "data": {
      "text/plain": [
       "'daimlerchrysler ag'"
      ]
     },
     "execution_count": 244,
     "metadata": {},
     "output_type": "execute_result"
    }
   ],
   "source": [
    "df_val_counts.unique_values[34]"
   ]
  },
  {
   "cell_type": "code",
   "execution_count": 245,
   "metadata": {},
   "outputs": [
    {
     "data": {
      "text/plain": [
       "'daimlerchrysler corporation'"
      ]
     },
     "execution_count": 245,
     "metadata": {},
     "output_type": "execute_result"
    }
   ],
   "source": [
    "df_val_counts.unique_values[179]"
   ]
  },
  {
   "cell_type": "code",
   "execution_count": 246,
   "metadata": {},
   "outputs": [],
   "source": [
    "patents_new['assignee']=patents_new['assignee'].str.replace('daimlerchrysler ag'  , 'daimler ag')"
   ]
  },
  {
   "cell_type": "code",
   "execution_count": 247,
   "metadata": {},
   "outputs": [],
   "source": [
    "patents_new['assignee']=patents_new['assignee'].str.replace('daimlerchrysler corporation'  , 'daimler ag')"
   ]
  },
  {
   "cell_type": "code",
   "execution_count": 248,
   "metadata": {},
   "outputs": [
    {
     "data": {
      "text/html": [
       "<div>\n",
       "<style scoped>\n",
       "    .dataframe tbody tr th:only-of-type {\n",
       "        vertical-align: middle;\n",
       "    }\n",
       "\n",
       "    .dataframe tbody tr th {\n",
       "        vertical-align: top;\n",
       "    }\n",
       "\n",
       "    .dataframe thead th {\n",
       "        text-align: right;\n",
       "    }\n",
       "</style>\n",
       "<table border=\"1\" class=\"dataframe\">\n",
       "  <thead>\n",
       "    <tr style=\"text-align: right;\">\n",
       "      <th></th>\n",
       "      <th>unique_values</th>\n",
       "      <th>counts</th>\n",
       "    </tr>\n",
       "  </thead>\n",
       "  <tbody>\n",
       "    <tr>\n",
       "      <th>0</th>\n",
       "      <td>toyota motor corp</td>\n",
       "      <td>5680</td>\n",
       "    </tr>\n",
       "    <tr>\n",
       "      <th>1</th>\n",
       "      <td>honda motor ltd</td>\n",
       "      <td>2662</td>\n",
       "    </tr>\n",
       "    <tr>\n",
       "      <th>2</th>\n",
       "      <td>hyundai motor company</td>\n",
       "      <td>2190</td>\n",
       "    </tr>\n",
       "    <tr>\n",
       "      <th>3</th>\n",
       "      <td>nissan motor co ltd</td>\n",
       "      <td>1904</td>\n",
       "    </tr>\n",
       "    <tr>\n",
       "      <th>4</th>\n",
       "      <td>ford global technologies llc</td>\n",
       "      <td>1296</td>\n",
       "    </tr>\n",
       "    <tr>\n",
       "      <th>5</th>\n",
       "      <td>mitsubishi motors corp</td>\n",
       "      <td>847</td>\n",
       "    </tr>\n",
       "    <tr>\n",
       "      <th>6</th>\n",
       "      <td>robert bosch gmbh</td>\n",
       "      <td>557</td>\n",
       "    </tr>\n",
       "    <tr>\n",
       "      <th>7</th>\n",
       "      <td>hitachi automotive systems ltd</td>\n",
       "      <td>481</td>\n",
       "    </tr>\n",
       "    <tr>\n",
       "      <th>8</th>\n",
       "      <td>suzuki motor corp</td>\n",
       "      <td>359</td>\n",
       "    </tr>\n",
       "    <tr>\n",
       "      <th>9</th>\n",
       "      <td>general motors corporation</td>\n",
       "      <td>346</td>\n",
       "    </tr>\n",
       "    <tr>\n",
       "      <th>10</th>\n",
       "      <td>denso corp</td>\n",
       "      <td>262</td>\n",
       "    </tr>\n",
       "    <tr>\n",
       "      <th>11</th>\n",
       "      <td>peugeot citroen automobiles sa</td>\n",
       "      <td>244</td>\n",
       "    </tr>\n",
       "    <tr>\n",
       "      <th>12</th>\n",
       "      <td>lsis co  ltd</td>\n",
       "      <td>222</td>\n",
       "    </tr>\n",
       "    <tr>\n",
       "      <th>13</th>\n",
       "      <td>daimler ag</td>\n",
       "      <td>212</td>\n",
       "    </tr>\n",
       "    <tr>\n",
       "      <th>14</th>\n",
       "      <td>mazda motor corp</td>\n",
       "      <td>194</td>\n",
       "    </tr>\n",
       "    <tr>\n",
       "      <th>15</th>\n",
       "      <td>sony corporation</td>\n",
       "      <td>192</td>\n",
       "    </tr>\n",
       "    <tr>\n",
       "      <th>16</th>\n",
       "      <td>aisin aw co  ltd</td>\n",
       "      <td>187</td>\n",
       "    </tr>\n",
       "    <tr>\n",
       "      <th>17</th>\n",
       "      <td>general electric company</td>\n",
       "      <td>183</td>\n",
       "    </tr>\n",
       "    <tr>\n",
       "      <th>18</th>\n",
       "      <td>yamaha hatsudoki kabushiki kaisha</td>\n",
       "      <td>165</td>\n",
       "    </tr>\n",
       "    <tr>\n",
       "      <th>19</th>\n",
       "      <td>renault s a s</td>\n",
       "      <td>148</td>\n",
       "    </tr>\n",
       "    <tr>\n",
       "      <th>20</th>\n",
       "      <td>state grid corporation of china</td>\n",
       "      <td>138</td>\n",
       "    </tr>\n",
       "    <tr>\n",
       "      <th>21</th>\n",
       "      <td>korea advanced institute of science and techno...</td>\n",
       "      <td>128</td>\n",
       "    </tr>\n",
       "    <tr>\n",
       "      <th>22</th>\n",
       "      <td>byd company limited</td>\n",
       "      <td>127</td>\n",
       "    </tr>\n",
       "    <tr>\n",
       "      <th>23</th>\n",
       "      <td>kia motors corporation</td>\n",
       "      <td>126</td>\n",
       "    </tr>\n",
       "    <tr>\n",
       "      <th>24</th>\n",
       "      <td>fuji heavy ind ltd</td>\n",
       "      <td>124</td>\n",
       "    </tr>\n",
       "    <tr>\n",
       "      <th>25</th>\n",
       "      <td>denso corporation</td>\n",
       "      <td>118</td>\n",
       "    </tr>\n",
       "    <tr>\n",
       "      <th>26</th>\n",
       "      <td>panasonic corporation</td>\n",
       "      <td>114</td>\n",
       "    </tr>\n",
       "    <tr>\n",
       "      <th>27</th>\n",
       "      <td>aisin aw co ltd</td>\n",
       "      <td>110</td>\n",
       "    </tr>\n",
       "    <tr>\n",
       "      <th>28</th>\n",
       "      <td>siemens aktiengesellschaft</td>\n",
       "      <td>107</td>\n",
       "    </tr>\n",
       "    <tr>\n",
       "      <th>29</th>\n",
       "      <td>kawasaki jukogyo kabushiki kaisha</td>\n",
       "      <td>106</td>\n",
       "    </tr>\n",
       "    <tr>\n",
       "      <th>30</th>\n",
       "      <td>qualcomm incorporated</td>\n",
       "      <td>103</td>\n",
       "    </tr>\n",
       "    <tr>\n",
       "      <th>31</th>\n",
       "      <td>allison transmission inc</td>\n",
       "      <td>101</td>\n",
       "    </tr>\n",
       "    <tr>\n",
       "      <th>32</th>\n",
       "      <td>bayerische motoren werke aktiengesellschaft</td>\n",
       "      <td>99</td>\n",
       "    </tr>\n",
       "    <tr>\n",
       "      <th>33</th>\n",
       "      <td>jaguar land rover limited</td>\n",
       "      <td>99</td>\n",
       "    </tr>\n",
       "    <tr>\n",
       "      <th>34</th>\n",
       "      <td>beiqi foton motor co  ltd</td>\n",
       "      <td>89</td>\n",
       "    </tr>\n",
       "    <tr>\n",
       "      <th>35</th>\n",
       "      <td>chery automobile co  ltd</td>\n",
       "      <td>85</td>\n",
       "    </tr>\n",
       "    <tr>\n",
       "      <th>36</th>\n",
       "      <td>panasonic corp</td>\n",
       "      <td>84</td>\n",
       "    </tr>\n",
       "    <tr>\n",
       "      <th>37</th>\n",
       "      <td>hino motors ltd</td>\n",
       "      <td>84</td>\n",
       "    </tr>\n",
       "    <tr>\n",
       "      <th>38</th>\n",
       "      <td>lg electronics inc</td>\n",
       "      <td>81</td>\n",
       "    </tr>\n",
       "    <tr>\n",
       "      <th>39</th>\n",
       "      <td>sony corp</td>\n",
       "      <td>79</td>\n",
       "    </tr>\n",
       "  </tbody>\n",
       "</table>\n",
       "</div>"
      ],
      "text/plain": [
       "                                        unique_values  counts\n",
       "0                                   toyota motor corp    5680\n",
       "1                                     honda motor ltd    2662\n",
       "2                               hyundai motor company    2190\n",
       "3                                 nissan motor co ltd    1904\n",
       "4                        ford global technologies llc    1296\n",
       "5                              mitsubishi motors corp     847\n",
       "6                                   robert bosch gmbh     557\n",
       "7                      hitachi automotive systems ltd     481\n",
       "8                                   suzuki motor corp     359\n",
       "9                          general motors corporation     346\n",
       "10                                         denso corp     262\n",
       "11                     peugeot citroen automobiles sa     244\n",
       "12                                      lsis co  ltd      222\n",
       "13                                         daimler ag     212\n",
       "14                                   mazda motor corp     194\n",
       "15                                   sony corporation     192\n",
       "16                                  aisin aw co  ltd      187\n",
       "17                           general electric company     183\n",
       "18                  yamaha hatsudoki kabushiki kaisha     165\n",
       "19                                     renault s a s      148\n",
       "20                    state grid corporation of china     138\n",
       "21  korea advanced institute of science and techno...     128\n",
       "22                                byd company limited     127\n",
       "23                             kia motors corporation     126\n",
       "24                                 fuji heavy ind ltd     124\n",
       "25                                  denso corporation     118\n",
       "26                              panasonic corporation     114\n",
       "27                                    aisin aw co ltd     110\n",
       "28                         siemens aktiengesellschaft     107\n",
       "29                  kawasaki jukogyo kabushiki kaisha     106\n",
       "30                              qualcomm incorporated     103\n",
       "31                          allison transmission inc      101\n",
       "32        bayerische motoren werke aktiengesellschaft      99\n",
       "33                          jaguar land rover limited      99\n",
       "34                         beiqi foton motor co  ltd       89\n",
       "35                          chery automobile co  ltd       85\n",
       "36                                     panasonic corp      84\n",
       "37                                   hino motors ltd       84\n",
       "38                                lg electronics inc       81\n",
       "39                                          sony corp      79"
      ]
     },
     "execution_count": 248,
     "metadata": {},
     "output_type": "execute_result"
    }
   ],
   "source": [
    "value_counts = patents_new['assignee'].value_counts(dropna=True, sort=True)\n",
    "data = value_counts.rename_axis('unique_values').reset_index(name='counts')\n",
    "df_val_counts = pd.DataFrame(data)\n",
    "df_val_counts[:40]"
   ]
  },
  {
   "cell_type": "markdown",
   "metadata": {},
   "source": [
    "### aisin"
   ]
  },
  {
   "cell_type": "code",
   "execution_count": 250,
   "metadata": {},
   "outputs": [
    {
     "data": {
      "text/html": [
       "<div>\n",
       "<style scoped>\n",
       "    .dataframe tbody tr th:only-of-type {\n",
       "        vertical-align: middle;\n",
       "    }\n",
       "\n",
       "    .dataframe tbody tr th {\n",
       "        vertical-align: top;\n",
       "    }\n",
       "\n",
       "    .dataframe thead th {\n",
       "        text-align: right;\n",
       "    }\n",
       "</style>\n",
       "<table border=\"1\" class=\"dataframe\">\n",
       "  <thead>\n",
       "    <tr style=\"text-align: right;\">\n",
       "      <th></th>\n",
       "      <th>unique_values</th>\n",
       "      <th>counts</th>\n",
       "    </tr>\n",
       "  </thead>\n",
       "  <tbody>\n",
       "    <tr>\n",
       "      <th>16</th>\n",
       "      <td>aisin aw co  ltd</td>\n",
       "      <td>187</td>\n",
       "    </tr>\n",
       "    <tr>\n",
       "      <th>27</th>\n",
       "      <td>aisin aw co ltd</td>\n",
       "      <td>110</td>\n",
       "    </tr>\n",
       "    <tr>\n",
       "      <th>58</th>\n",
       "      <td>aisin seiki co ltd</td>\n",
       "      <td>62</td>\n",
       "    </tr>\n",
       "    <tr>\n",
       "      <th>77</th>\n",
       "      <td>aisin seiki kabushiki kaisha</td>\n",
       "      <td>46</td>\n",
       "    </tr>\n",
       "    <tr>\n",
       "      <th>163</th>\n",
       "      <td>aisin ai co  ltd</td>\n",
       "      <td>22</td>\n",
       "    </tr>\n",
       "  </tbody>\n",
       "</table>\n",
       "</div>"
      ],
      "text/plain": [
       "                    unique_values  counts\n",
       "16              aisin aw co  ltd      187\n",
       "27                aisin aw co ltd     110\n",
       "58             aisin seiki co ltd      62\n",
       "77   aisin seiki kabushiki kaisha      46\n",
       "163             aisin ai co  ltd       22"
      ]
     },
     "execution_count": 250,
     "metadata": {},
     "output_type": "execute_result"
    }
   ],
   "source": [
    "df_val_counts[df_val_counts.unique_values.str.contains('aisin',regex=True)][:5]"
   ]
  },
  {
   "cell_type": "code",
   "execution_count": 251,
   "metadata": {},
   "outputs": [
    {
     "data": {
      "text/plain": [
       "'aisin aw co  ltd '"
      ]
     },
     "execution_count": 251,
     "metadata": {},
     "output_type": "execute_result"
    }
   ],
   "source": [
    "df_val_counts.unique_values[16]"
   ]
  },
  {
   "cell_type": "code",
   "execution_count": 252,
   "metadata": {},
   "outputs": [
    {
     "data": {
      "text/plain": [
       "'aisin aw co ltd'"
      ]
     },
     "execution_count": 252,
     "metadata": {},
     "output_type": "execute_result"
    }
   ],
   "source": [
    "df_val_counts.unique_values[27]"
   ]
  },
  {
   "cell_type": "code",
   "execution_count": 253,
   "metadata": {},
   "outputs": [
    {
     "data": {
      "text/plain": [
       "'aisin seiki co ltd'"
      ]
     },
     "execution_count": 253,
     "metadata": {},
     "output_type": "execute_result"
    }
   ],
   "source": [
    "df_val_counts.unique_values[58]"
   ]
  },
  {
   "cell_type": "code",
   "execution_count": 254,
   "metadata": {},
   "outputs": [
    {
     "data": {
      "text/plain": [
       "'aisin seiki kabushiki kaisha'"
      ]
     },
     "execution_count": 254,
     "metadata": {},
     "output_type": "execute_result"
    }
   ],
   "source": [
    "df_val_counts.unique_values[77]"
   ]
  },
  {
   "cell_type": "code",
   "execution_count": 255,
   "metadata": {},
   "outputs": [],
   "source": [
    "patents_new['assignee']=patents_new['assignee'].str.replace('aisin aw co  ltd '  , 'aisin seiki co ltd')"
   ]
  },
  {
   "cell_type": "code",
   "execution_count": 256,
   "metadata": {},
   "outputs": [],
   "source": [
    "patents_new['assignee']=patents_new['assignee'].str.replace('aisin aw co ltd'  , 'aisin seiki co ltd')"
   ]
  },
  {
   "cell_type": "code",
   "execution_count": 257,
   "metadata": {},
   "outputs": [],
   "source": [
    "patents_new['assignee']=patents_new['assignee'].str.replace('aisin seiki kabushiki kaisha'  , 'aisin seiki co ltd')"
   ]
  },
  {
   "cell_type": "code",
   "execution_count": 258,
   "metadata": {
    "scrolled": false
   },
   "outputs": [
    {
     "data": {
      "text/html": [
       "<div>\n",
       "<style scoped>\n",
       "    .dataframe tbody tr th:only-of-type {\n",
       "        vertical-align: middle;\n",
       "    }\n",
       "\n",
       "    .dataframe tbody tr th {\n",
       "        vertical-align: top;\n",
       "    }\n",
       "\n",
       "    .dataframe thead th {\n",
       "        text-align: right;\n",
       "    }\n",
       "</style>\n",
       "<table border=\"1\" class=\"dataframe\">\n",
       "  <thead>\n",
       "    <tr style=\"text-align: right;\">\n",
       "      <th></th>\n",
       "      <th>unique_values</th>\n",
       "      <th>counts</th>\n",
       "    </tr>\n",
       "  </thead>\n",
       "  <tbody>\n",
       "    <tr>\n",
       "      <th>0</th>\n",
       "      <td>toyota motor corp</td>\n",
       "      <td>5680</td>\n",
       "    </tr>\n",
       "    <tr>\n",
       "      <th>1</th>\n",
       "      <td>honda motor ltd</td>\n",
       "      <td>2662</td>\n",
       "    </tr>\n",
       "    <tr>\n",
       "      <th>2</th>\n",
       "      <td>hyundai motor company</td>\n",
       "      <td>2190</td>\n",
       "    </tr>\n",
       "    <tr>\n",
       "      <th>3</th>\n",
       "      <td>nissan motor co ltd</td>\n",
       "      <td>1904</td>\n",
       "    </tr>\n",
       "    <tr>\n",
       "      <th>4</th>\n",
       "      <td>ford global technologies llc</td>\n",
       "      <td>1296</td>\n",
       "    </tr>\n",
       "    <tr>\n",
       "      <th>5</th>\n",
       "      <td>mitsubishi motors corp</td>\n",
       "      <td>847</td>\n",
       "    </tr>\n",
       "    <tr>\n",
       "      <th>6</th>\n",
       "      <td>robert bosch gmbh</td>\n",
       "      <td>557</td>\n",
       "    </tr>\n",
       "    <tr>\n",
       "      <th>7</th>\n",
       "      <td>hitachi automotive systems ltd</td>\n",
       "      <td>481</td>\n",
       "    </tr>\n",
       "    <tr>\n",
       "      <th>8</th>\n",
       "      <td>aisin seiki co ltd</td>\n",
       "      <td>405</td>\n",
       "    </tr>\n",
       "    <tr>\n",
       "      <th>9</th>\n",
       "      <td>suzuki motor corp</td>\n",
       "      <td>359</td>\n",
       "    </tr>\n",
       "    <tr>\n",
       "      <th>10</th>\n",
       "      <td>general motors corporation</td>\n",
       "      <td>346</td>\n",
       "    </tr>\n",
       "    <tr>\n",
       "      <th>11</th>\n",
       "      <td>denso corp</td>\n",
       "      <td>262</td>\n",
       "    </tr>\n",
       "    <tr>\n",
       "      <th>12</th>\n",
       "      <td>peugeot citroen automobiles sa</td>\n",
       "      <td>244</td>\n",
       "    </tr>\n",
       "    <tr>\n",
       "      <th>13</th>\n",
       "      <td>lsis co  ltd</td>\n",
       "      <td>222</td>\n",
       "    </tr>\n",
       "    <tr>\n",
       "      <th>14</th>\n",
       "      <td>daimler ag</td>\n",
       "      <td>212</td>\n",
       "    </tr>\n",
       "    <tr>\n",
       "      <th>15</th>\n",
       "      <td>mazda motor corp</td>\n",
       "      <td>194</td>\n",
       "    </tr>\n",
       "    <tr>\n",
       "      <th>16</th>\n",
       "      <td>sony corporation</td>\n",
       "      <td>192</td>\n",
       "    </tr>\n",
       "    <tr>\n",
       "      <th>17</th>\n",
       "      <td>general electric company</td>\n",
       "      <td>183</td>\n",
       "    </tr>\n",
       "    <tr>\n",
       "      <th>18</th>\n",
       "      <td>yamaha hatsudoki kabushiki kaisha</td>\n",
       "      <td>165</td>\n",
       "    </tr>\n",
       "    <tr>\n",
       "      <th>19</th>\n",
       "      <td>renault s a s</td>\n",
       "      <td>148</td>\n",
       "    </tr>\n",
       "    <tr>\n",
       "      <th>20</th>\n",
       "      <td>state grid corporation of china</td>\n",
       "      <td>138</td>\n",
       "    </tr>\n",
       "    <tr>\n",
       "      <th>21</th>\n",
       "      <td>korea advanced institute of science and techno...</td>\n",
       "      <td>128</td>\n",
       "    </tr>\n",
       "    <tr>\n",
       "      <th>22</th>\n",
       "      <td>byd company limited</td>\n",
       "      <td>127</td>\n",
       "    </tr>\n",
       "    <tr>\n",
       "      <th>23</th>\n",
       "      <td>kia motors corporation</td>\n",
       "      <td>126</td>\n",
       "    </tr>\n",
       "    <tr>\n",
       "      <th>24</th>\n",
       "      <td>fuji heavy ind ltd</td>\n",
       "      <td>124</td>\n",
       "    </tr>\n",
       "    <tr>\n",
       "      <th>25</th>\n",
       "      <td>denso corporation</td>\n",
       "      <td>118</td>\n",
       "    </tr>\n",
       "    <tr>\n",
       "      <th>26</th>\n",
       "      <td>panasonic corporation</td>\n",
       "      <td>114</td>\n",
       "    </tr>\n",
       "    <tr>\n",
       "      <th>27</th>\n",
       "      <td>siemens aktiengesellschaft</td>\n",
       "      <td>107</td>\n",
       "    </tr>\n",
       "    <tr>\n",
       "      <th>28</th>\n",
       "      <td>kawasaki jukogyo kabushiki kaisha</td>\n",
       "      <td>106</td>\n",
       "    </tr>\n",
       "    <tr>\n",
       "      <th>29</th>\n",
       "      <td>qualcomm incorporated</td>\n",
       "      <td>103</td>\n",
       "    </tr>\n",
       "    <tr>\n",
       "      <th>30</th>\n",
       "      <td>allison transmission inc</td>\n",
       "      <td>101</td>\n",
       "    </tr>\n",
       "    <tr>\n",
       "      <th>31</th>\n",
       "      <td>jaguar land rover limited</td>\n",
       "      <td>99</td>\n",
       "    </tr>\n",
       "    <tr>\n",
       "      <th>32</th>\n",
       "      <td>bayerische motoren werke aktiengesellschaft</td>\n",
       "      <td>99</td>\n",
       "    </tr>\n",
       "    <tr>\n",
       "      <th>33</th>\n",
       "      <td>beiqi foton motor co  ltd</td>\n",
       "      <td>89</td>\n",
       "    </tr>\n",
       "    <tr>\n",
       "      <th>34</th>\n",
       "      <td>chery automobile co  ltd</td>\n",
       "      <td>85</td>\n",
       "    </tr>\n",
       "    <tr>\n",
       "      <th>35</th>\n",
       "      <td>panasonic corp</td>\n",
       "      <td>84</td>\n",
       "    </tr>\n",
       "    <tr>\n",
       "      <th>36</th>\n",
       "      <td>hino motors ltd</td>\n",
       "      <td>84</td>\n",
       "    </tr>\n",
       "    <tr>\n",
       "      <th>37</th>\n",
       "      <td>lg electronics inc</td>\n",
       "      <td>81</td>\n",
       "    </tr>\n",
       "    <tr>\n",
       "      <th>38</th>\n",
       "      <td>sony corp</td>\n",
       "      <td>79</td>\n",
       "    </tr>\n",
       "    <tr>\n",
       "      <th>39</th>\n",
       "      <td>renault s a s</td>\n",
       "      <td>78</td>\n",
       "    </tr>\n",
       "  </tbody>\n",
       "</table>\n",
       "</div>"
      ],
      "text/plain": [
       "                                        unique_values  counts\n",
       "0                                   toyota motor corp    5680\n",
       "1                                     honda motor ltd    2662\n",
       "2                               hyundai motor company    2190\n",
       "3                                 nissan motor co ltd    1904\n",
       "4                        ford global technologies llc    1296\n",
       "5                              mitsubishi motors corp     847\n",
       "6                                   robert bosch gmbh     557\n",
       "7                      hitachi automotive systems ltd     481\n",
       "8                                  aisin seiki co ltd     405\n",
       "9                                   suzuki motor corp     359\n",
       "10                         general motors corporation     346\n",
       "11                                         denso corp     262\n",
       "12                     peugeot citroen automobiles sa     244\n",
       "13                                      lsis co  ltd      222\n",
       "14                                         daimler ag     212\n",
       "15                                   mazda motor corp     194\n",
       "16                                   sony corporation     192\n",
       "17                           general electric company     183\n",
       "18                  yamaha hatsudoki kabushiki kaisha     165\n",
       "19                                     renault s a s      148\n",
       "20                    state grid corporation of china     138\n",
       "21  korea advanced institute of science and techno...     128\n",
       "22                                byd company limited     127\n",
       "23                             kia motors corporation     126\n",
       "24                                 fuji heavy ind ltd     124\n",
       "25                                  denso corporation     118\n",
       "26                              panasonic corporation     114\n",
       "27                         siemens aktiengesellschaft     107\n",
       "28                  kawasaki jukogyo kabushiki kaisha     106\n",
       "29                              qualcomm incorporated     103\n",
       "30                          allison transmission inc      101\n",
       "31                          jaguar land rover limited      99\n",
       "32        bayerische motoren werke aktiengesellschaft      99\n",
       "33                         beiqi foton motor co  ltd       89\n",
       "34                          chery automobile co  ltd       85\n",
       "35                                     panasonic corp      84\n",
       "36                                   hino motors ltd       84\n",
       "37                                lg electronics inc       81\n",
       "38                                          sony corp      79\n",
       "39                                      renault s a s      78"
      ]
     },
     "execution_count": 258,
     "metadata": {},
     "output_type": "execute_result"
    }
   ],
   "source": [
    "value_counts = patents_new['assignee'].value_counts(dropna=True, sort=True)\n",
    "data = value_counts.rename_axis('unique_values').reset_index(name='counts')\n",
    "df_val_counts = pd.DataFrame(data)\n",
    "df_val_counts[:40]"
   ]
  },
  {
   "cell_type": "markdown",
   "metadata": {},
   "source": [
    "### save work"
   ]
  },
  {
   "cell_type": "code",
   "execution_count": 259,
   "metadata": {},
   "outputs": [],
   "source": [
    "patents_new.to_csv('patent_firm_full_clean.csv')\n",
    "patents_new.to_pickle('patent_firm_full_clean.pkl')"
   ]
  },
  {
   "cell_type": "markdown",
   "metadata": {},
   "source": [
    "### denso"
   ]
  },
  {
   "cell_type": "code",
   "execution_count": 269,
   "metadata": {},
   "outputs": [
    {
     "data": {
      "text/html": [
       "<div>\n",
       "<style scoped>\n",
       "    .dataframe tbody tr th:only-of-type {\n",
       "        vertical-align: middle;\n",
       "    }\n",
       "\n",
       "    .dataframe tbody tr th {\n",
       "        vertical-align: top;\n",
       "    }\n",
       "\n",
       "    .dataframe thead th {\n",
       "        text-align: right;\n",
       "    }\n",
       "</style>\n",
       "<table border=\"1\" class=\"dataframe\">\n",
       "  <thead>\n",
       "    <tr style=\"text-align: right;\">\n",
       "      <th></th>\n",
       "      <th>unique_values</th>\n",
       "      <th>counts</th>\n",
       "    </tr>\n",
       "  </thead>\n",
       "  <tbody>\n",
       "    <tr>\n",
       "      <th>11</th>\n",
       "      <td>denso corporation</td>\n",
       "      <td>262</td>\n",
       "    </tr>\n",
       "    <tr>\n",
       "      <th>25</th>\n",
       "      <td>denso corporationoration</td>\n",
       "      <td>118</td>\n",
       "    </tr>\n",
       "    <tr>\n",
       "      <th>266</th>\n",
       "      <td>nippondenso co  ltd</td>\n",
       "      <td>12</td>\n",
       "    </tr>\n",
       "    <tr>\n",
       "      <th>413</th>\n",
       "      <td>nippondenso co ltd</td>\n",
       "      <td>9</td>\n",
       "    </tr>\n",
       "    <tr>\n",
       "      <th>426</th>\n",
       "      <td>sumitomo denso kk</td>\n",
       "      <td>8</td>\n",
       "    </tr>\n",
       "  </tbody>\n",
       "</table>\n",
       "</div>"
      ],
      "text/plain": [
       "                unique_values  counts\n",
       "11          denso corporation     262\n",
       "25   denso corporationoration     118\n",
       "266      nippondenso co  ltd       12\n",
       "413        nippondenso co ltd       9\n",
       "426         sumitomo denso kk       8"
      ]
     },
     "execution_count": 269,
     "metadata": {},
     "output_type": "execute_result"
    }
   ],
   "source": [
    "df_val_counts[df_val_counts.unique_values.str.contains('denso',regex=True)][:5]"
   ]
  },
  {
   "cell_type": "code",
   "execution_count": 266,
   "metadata": {},
   "outputs": [
    {
     "data": {
      "text/plain": [
       "'denso corporation'"
      ]
     },
     "execution_count": 266,
     "metadata": {},
     "output_type": "execute_result"
    }
   ],
   "source": [
    "df_val_counts.unique_values[11]"
   ]
  },
  {
   "cell_type": "code",
   "execution_count": 267,
   "metadata": {},
   "outputs": [
    {
     "data": {
      "text/plain": [
       "'denso corporationoration'"
      ]
     },
     "execution_count": 267,
     "metadata": {},
     "output_type": "execute_result"
    }
   ],
   "source": [
    "df_val_counts.unique_values[25]"
   ]
  },
  {
   "cell_type": "code",
   "execution_count": 268,
   "metadata": {},
   "outputs": [],
   "source": [
    "patents_new['assignee']=patents_new['assignee'].str.replace('denso corporationoration' , 'denso corporation')"
   ]
  },
  {
   "cell_type": "code",
   "execution_count": 270,
   "metadata": {},
   "outputs": [
    {
     "data": {
      "text/html": [
       "<div>\n",
       "<style scoped>\n",
       "    .dataframe tbody tr th:only-of-type {\n",
       "        vertical-align: middle;\n",
       "    }\n",
       "\n",
       "    .dataframe tbody tr th {\n",
       "        vertical-align: top;\n",
       "    }\n",
       "\n",
       "    .dataframe thead th {\n",
       "        text-align: right;\n",
       "    }\n",
       "</style>\n",
       "<table border=\"1\" class=\"dataframe\">\n",
       "  <thead>\n",
       "    <tr style=\"text-align: right;\">\n",
       "      <th></th>\n",
       "      <th>unique_values</th>\n",
       "      <th>counts</th>\n",
       "    </tr>\n",
       "  </thead>\n",
       "  <tbody>\n",
       "    <tr>\n",
       "      <th>0</th>\n",
       "      <td>toyota motor corp</td>\n",
       "      <td>5680</td>\n",
       "    </tr>\n",
       "    <tr>\n",
       "      <th>1</th>\n",
       "      <td>honda motor ltd</td>\n",
       "      <td>2662</td>\n",
       "    </tr>\n",
       "    <tr>\n",
       "      <th>2</th>\n",
       "      <td>hyundai motor company</td>\n",
       "      <td>2190</td>\n",
       "    </tr>\n",
       "    <tr>\n",
       "      <th>3</th>\n",
       "      <td>nissan motor co ltd</td>\n",
       "      <td>1904</td>\n",
       "    </tr>\n",
       "    <tr>\n",
       "      <th>4</th>\n",
       "      <td>ford global technologies llc</td>\n",
       "      <td>1296</td>\n",
       "    </tr>\n",
       "    <tr>\n",
       "      <th>5</th>\n",
       "      <td>mitsubishi motors corp</td>\n",
       "      <td>847</td>\n",
       "    </tr>\n",
       "    <tr>\n",
       "      <th>6</th>\n",
       "      <td>robert bosch gmbh</td>\n",
       "      <td>557</td>\n",
       "    </tr>\n",
       "    <tr>\n",
       "      <th>7</th>\n",
       "      <td>hitachi automotive systems ltd</td>\n",
       "      <td>481</td>\n",
       "    </tr>\n",
       "    <tr>\n",
       "      <th>8</th>\n",
       "      <td>aisin seiki co ltd</td>\n",
       "      <td>405</td>\n",
       "    </tr>\n",
       "    <tr>\n",
       "      <th>9</th>\n",
       "      <td>denso corporation</td>\n",
       "      <td>380</td>\n",
       "    </tr>\n",
       "    <tr>\n",
       "      <th>10</th>\n",
       "      <td>suzuki motor corp</td>\n",
       "      <td>359</td>\n",
       "    </tr>\n",
       "    <tr>\n",
       "      <th>11</th>\n",
       "      <td>general motors corporation</td>\n",
       "      <td>346</td>\n",
       "    </tr>\n",
       "    <tr>\n",
       "      <th>12</th>\n",
       "      <td>peugeot citroen automobiles sa</td>\n",
       "      <td>244</td>\n",
       "    </tr>\n",
       "    <tr>\n",
       "      <th>13</th>\n",
       "      <td>lsis co  ltd</td>\n",
       "      <td>222</td>\n",
       "    </tr>\n",
       "    <tr>\n",
       "      <th>14</th>\n",
       "      <td>daimler ag</td>\n",
       "      <td>212</td>\n",
       "    </tr>\n",
       "    <tr>\n",
       "      <th>15</th>\n",
       "      <td>mazda motor corp</td>\n",
       "      <td>194</td>\n",
       "    </tr>\n",
       "    <tr>\n",
       "      <th>16</th>\n",
       "      <td>sony corporation</td>\n",
       "      <td>192</td>\n",
       "    </tr>\n",
       "    <tr>\n",
       "      <th>17</th>\n",
       "      <td>general electric company</td>\n",
       "      <td>183</td>\n",
       "    </tr>\n",
       "    <tr>\n",
       "      <th>18</th>\n",
       "      <td>yamaha hatsudoki kabushiki kaisha</td>\n",
       "      <td>165</td>\n",
       "    </tr>\n",
       "    <tr>\n",
       "      <th>19</th>\n",
       "      <td>renault s a s</td>\n",
       "      <td>148</td>\n",
       "    </tr>\n",
       "    <tr>\n",
       "      <th>20</th>\n",
       "      <td>state grid corporation of china</td>\n",
       "      <td>138</td>\n",
       "    </tr>\n",
       "    <tr>\n",
       "      <th>21</th>\n",
       "      <td>korea advanced institute of science and techno...</td>\n",
       "      <td>128</td>\n",
       "    </tr>\n",
       "    <tr>\n",
       "      <th>22</th>\n",
       "      <td>byd company limited</td>\n",
       "      <td>127</td>\n",
       "    </tr>\n",
       "    <tr>\n",
       "      <th>23</th>\n",
       "      <td>kia motors corporation</td>\n",
       "      <td>126</td>\n",
       "    </tr>\n",
       "    <tr>\n",
       "      <th>24</th>\n",
       "      <td>fuji heavy ind ltd</td>\n",
       "      <td>124</td>\n",
       "    </tr>\n",
       "    <tr>\n",
       "      <th>25</th>\n",
       "      <td>panasonic corporation</td>\n",
       "      <td>114</td>\n",
       "    </tr>\n",
       "    <tr>\n",
       "      <th>26</th>\n",
       "      <td>siemens aktiengesellschaft</td>\n",
       "      <td>107</td>\n",
       "    </tr>\n",
       "    <tr>\n",
       "      <th>27</th>\n",
       "      <td>kawasaki jukogyo kabushiki kaisha</td>\n",
       "      <td>106</td>\n",
       "    </tr>\n",
       "    <tr>\n",
       "      <th>28</th>\n",
       "      <td>qualcomm incorporated</td>\n",
       "      <td>103</td>\n",
       "    </tr>\n",
       "    <tr>\n",
       "      <th>29</th>\n",
       "      <td>allison transmission inc</td>\n",
       "      <td>101</td>\n",
       "    </tr>\n",
       "    <tr>\n",
       "      <th>30</th>\n",
       "      <td>bayerische motoren werke aktiengesellschaft</td>\n",
       "      <td>99</td>\n",
       "    </tr>\n",
       "    <tr>\n",
       "      <th>31</th>\n",
       "      <td>jaguar land rover limited</td>\n",
       "      <td>99</td>\n",
       "    </tr>\n",
       "    <tr>\n",
       "      <th>32</th>\n",
       "      <td>beiqi foton motor co  ltd</td>\n",
       "      <td>89</td>\n",
       "    </tr>\n",
       "    <tr>\n",
       "      <th>33</th>\n",
       "      <td>chery automobile co  ltd</td>\n",
       "      <td>85</td>\n",
       "    </tr>\n",
       "    <tr>\n",
       "      <th>34</th>\n",
       "      <td>hino motors ltd</td>\n",
       "      <td>84</td>\n",
       "    </tr>\n",
       "    <tr>\n",
       "      <th>35</th>\n",
       "      <td>panasonic corp</td>\n",
       "      <td>84</td>\n",
       "    </tr>\n",
       "    <tr>\n",
       "      <th>36</th>\n",
       "      <td>lg electronics inc</td>\n",
       "      <td>81</td>\n",
       "    </tr>\n",
       "    <tr>\n",
       "      <th>37</th>\n",
       "      <td>sony corp</td>\n",
       "      <td>79</td>\n",
       "    </tr>\n",
       "    <tr>\n",
       "      <th>38</th>\n",
       "      <td>renault s a s</td>\n",
       "      <td>78</td>\n",
       "    </tr>\n",
       "    <tr>\n",
       "      <th>39</th>\n",
       "      <td>matsushita electric industrial co  ltd</td>\n",
       "      <td>77</td>\n",
       "    </tr>\n",
       "  </tbody>\n",
       "</table>\n",
       "</div>"
      ],
      "text/plain": [
       "                                        unique_values  counts\n",
       "0                                   toyota motor corp    5680\n",
       "1                                     honda motor ltd    2662\n",
       "2                               hyundai motor company    2190\n",
       "3                                 nissan motor co ltd    1904\n",
       "4                        ford global technologies llc    1296\n",
       "5                              mitsubishi motors corp     847\n",
       "6                                   robert bosch gmbh     557\n",
       "7                      hitachi automotive systems ltd     481\n",
       "8                                  aisin seiki co ltd     405\n",
       "9                                   denso corporation     380\n",
       "10                                  suzuki motor corp     359\n",
       "11                         general motors corporation     346\n",
       "12                     peugeot citroen automobiles sa     244\n",
       "13                                      lsis co  ltd      222\n",
       "14                                         daimler ag     212\n",
       "15                                   mazda motor corp     194\n",
       "16                                   sony corporation     192\n",
       "17                           general electric company     183\n",
       "18                  yamaha hatsudoki kabushiki kaisha     165\n",
       "19                                     renault s a s      148\n",
       "20                    state grid corporation of china     138\n",
       "21  korea advanced institute of science and techno...     128\n",
       "22                                byd company limited     127\n",
       "23                             kia motors corporation     126\n",
       "24                                 fuji heavy ind ltd     124\n",
       "25                              panasonic corporation     114\n",
       "26                         siemens aktiengesellschaft     107\n",
       "27                  kawasaki jukogyo kabushiki kaisha     106\n",
       "28                              qualcomm incorporated     103\n",
       "29                          allison transmission inc      101\n",
       "30        bayerische motoren werke aktiengesellschaft      99\n",
       "31                          jaguar land rover limited      99\n",
       "32                         beiqi foton motor co  ltd       89\n",
       "33                          chery automobile co  ltd       85\n",
       "34                                   hino motors ltd       84\n",
       "35                                     panasonic corp      84\n",
       "36                                lg electronics inc       81\n",
       "37                                          sony corp      79\n",
       "38                                      renault s a s      78\n",
       "39            matsushita electric industrial co  ltd       77"
      ]
     },
     "execution_count": 270,
     "metadata": {},
     "output_type": "execute_result"
    }
   ],
   "source": [
    "value_counts = patents_new['assignee'].value_counts(dropna=True, sort=True)\n",
    "data = value_counts.rename_axis('unique_values').reset_index(name='counts')\n",
    "df_val_counts = pd.DataFrame(data)\n",
    "df_val_counts[:40]"
   ]
  },
  {
   "cell_type": "markdown",
   "metadata": {},
   "source": [
    "### panasonic"
   ]
  },
  {
   "cell_type": "code",
   "execution_count": 272,
   "metadata": {},
   "outputs": [
    {
     "data": {
      "text/html": [
       "<div>\n",
       "<style scoped>\n",
       "    .dataframe tbody tr th:only-of-type {\n",
       "        vertical-align: middle;\n",
       "    }\n",
       "\n",
       "    .dataframe tbody tr th {\n",
       "        vertical-align: top;\n",
       "    }\n",
       "\n",
       "    .dataframe thead th {\n",
       "        text-align: right;\n",
       "    }\n",
       "</style>\n",
       "<table border=\"1\" class=\"dataframe\">\n",
       "  <thead>\n",
       "    <tr style=\"text-align: right;\">\n",
       "      <th></th>\n",
       "      <th>unique_values</th>\n",
       "      <th>counts</th>\n",
       "    </tr>\n",
       "  </thead>\n",
       "  <tbody>\n",
       "    <tr>\n",
       "      <th>25</th>\n",
       "      <td>panasonic corporation</td>\n",
       "      <td>114</td>\n",
       "    </tr>\n",
       "    <tr>\n",
       "      <th>35</th>\n",
       "      <td>panasonic corp</td>\n",
       "      <td>84</td>\n",
       "    </tr>\n",
       "    <tr>\n",
       "      <th>77</th>\n",
       "      <td>panasonic intellectual property management co ...</td>\n",
       "      <td>44</td>\n",
       "    </tr>\n",
       "    <tr>\n",
       "      <th>117</th>\n",
       "      <td>panasonic electric works co ltd</td>\n",
       "      <td>30</td>\n",
       "    </tr>\n",
       "    <tr>\n",
       "      <th>188</th>\n",
       "      <td>panasonic ev energy co  ltd</td>\n",
       "      <td>18</td>\n",
       "    </tr>\n",
       "  </tbody>\n",
       "</table>\n",
       "</div>"
      ],
      "text/plain": [
       "                                         unique_values  counts\n",
       "25                               panasonic corporation     114\n",
       "35                                      panasonic corp      84\n",
       "77   panasonic intellectual property management co ...      44\n",
       "117                    panasonic electric works co ltd      30\n",
       "188                       panasonic ev energy co  ltd       18"
      ]
     },
     "execution_count": 272,
     "metadata": {},
     "output_type": "execute_result"
    }
   ],
   "source": [
    "df_val_counts[df_val_counts.unique_values.str.contains('panasonic',regex=True)][:5]"
   ]
  },
  {
   "cell_type": "code",
   "execution_count": 273,
   "metadata": {},
   "outputs": [
    {
     "data": {
      "text/plain": [
       "'panasonic corporation'"
      ]
     },
     "execution_count": 273,
     "metadata": {},
     "output_type": "execute_result"
    }
   ],
   "source": [
    "df_val_counts.unique_values[25]"
   ]
  },
  {
   "cell_type": "code",
   "execution_count": 274,
   "metadata": {},
   "outputs": [
    {
     "data": {
      "text/plain": [
       "'panasonic corp'"
      ]
     },
     "execution_count": 274,
     "metadata": {},
     "output_type": "execute_result"
    }
   ],
   "source": [
    "df_val_counts.unique_values[35]"
   ]
  },
  {
   "cell_type": "code",
   "execution_count": 277,
   "metadata": {},
   "outputs": [],
   "source": [
    "patents_new['assignee']=patents_new['assignee'].str.replace('panasonic corporationoration' , 'panasonic corporation')"
   ]
  },
  {
   "cell_type": "code",
   "execution_count": 278,
   "metadata": {},
   "outputs": [
    {
     "data": {
      "text/html": [
       "<div>\n",
       "<style scoped>\n",
       "    .dataframe tbody tr th:only-of-type {\n",
       "        vertical-align: middle;\n",
       "    }\n",
       "\n",
       "    .dataframe tbody tr th {\n",
       "        vertical-align: top;\n",
       "    }\n",
       "\n",
       "    .dataframe thead th {\n",
       "        text-align: right;\n",
       "    }\n",
       "</style>\n",
       "<table border=\"1\" class=\"dataframe\">\n",
       "  <thead>\n",
       "    <tr style=\"text-align: right;\">\n",
       "      <th></th>\n",
       "      <th>unique_values</th>\n",
       "      <th>counts</th>\n",
       "    </tr>\n",
       "  </thead>\n",
       "  <tbody>\n",
       "    <tr>\n",
       "      <th>0</th>\n",
       "      <td>toyota motor corp</td>\n",
       "      <td>5680</td>\n",
       "    </tr>\n",
       "    <tr>\n",
       "      <th>1</th>\n",
       "      <td>honda motor ltd</td>\n",
       "      <td>2662</td>\n",
       "    </tr>\n",
       "    <tr>\n",
       "      <th>2</th>\n",
       "      <td>hyundai motor company</td>\n",
       "      <td>2190</td>\n",
       "    </tr>\n",
       "    <tr>\n",
       "      <th>3</th>\n",
       "      <td>nissan motor co ltd</td>\n",
       "      <td>1904</td>\n",
       "    </tr>\n",
       "    <tr>\n",
       "      <th>4</th>\n",
       "      <td>ford global technologies llc</td>\n",
       "      <td>1296</td>\n",
       "    </tr>\n",
       "    <tr>\n",
       "      <th>5</th>\n",
       "      <td>mitsubishi motors corp</td>\n",
       "      <td>847</td>\n",
       "    </tr>\n",
       "    <tr>\n",
       "      <th>6</th>\n",
       "      <td>robert bosch gmbh</td>\n",
       "      <td>557</td>\n",
       "    </tr>\n",
       "    <tr>\n",
       "      <th>7</th>\n",
       "      <td>hitachi automotive systems ltd</td>\n",
       "      <td>481</td>\n",
       "    </tr>\n",
       "    <tr>\n",
       "      <th>8</th>\n",
       "      <td>aisin seiki co ltd</td>\n",
       "      <td>405</td>\n",
       "    </tr>\n",
       "    <tr>\n",
       "      <th>9</th>\n",
       "      <td>denso corporation</td>\n",
       "      <td>380</td>\n",
       "    </tr>\n",
       "    <tr>\n",
       "      <th>10</th>\n",
       "      <td>suzuki motor corp</td>\n",
       "      <td>359</td>\n",
       "    </tr>\n",
       "    <tr>\n",
       "      <th>11</th>\n",
       "      <td>general motors corporation</td>\n",
       "      <td>346</td>\n",
       "    </tr>\n",
       "    <tr>\n",
       "      <th>12</th>\n",
       "      <td>peugeot citroen automobiles sa</td>\n",
       "      <td>244</td>\n",
       "    </tr>\n",
       "    <tr>\n",
       "      <th>13</th>\n",
       "      <td>lsis co  ltd</td>\n",
       "      <td>222</td>\n",
       "    </tr>\n",
       "    <tr>\n",
       "      <th>14</th>\n",
       "      <td>daimler ag</td>\n",
       "      <td>212</td>\n",
       "    </tr>\n",
       "    <tr>\n",
       "      <th>15</th>\n",
       "      <td>panasonic corporation</td>\n",
       "      <td>198</td>\n",
       "    </tr>\n",
       "    <tr>\n",
       "      <th>16</th>\n",
       "      <td>mazda motor corp</td>\n",
       "      <td>194</td>\n",
       "    </tr>\n",
       "    <tr>\n",
       "      <th>17</th>\n",
       "      <td>sony corporation</td>\n",
       "      <td>192</td>\n",
       "    </tr>\n",
       "    <tr>\n",
       "      <th>18</th>\n",
       "      <td>general electric company</td>\n",
       "      <td>183</td>\n",
       "    </tr>\n",
       "    <tr>\n",
       "      <th>19</th>\n",
       "      <td>yamaha hatsudoki kabushiki kaisha</td>\n",
       "      <td>165</td>\n",
       "    </tr>\n",
       "    <tr>\n",
       "      <th>20</th>\n",
       "      <td>renault s a s</td>\n",
       "      <td>148</td>\n",
       "    </tr>\n",
       "    <tr>\n",
       "      <th>21</th>\n",
       "      <td>state grid corporation of china</td>\n",
       "      <td>138</td>\n",
       "    </tr>\n",
       "    <tr>\n",
       "      <th>22</th>\n",
       "      <td>korea advanced institute of science and techno...</td>\n",
       "      <td>128</td>\n",
       "    </tr>\n",
       "    <tr>\n",
       "      <th>23</th>\n",
       "      <td>byd company limited</td>\n",
       "      <td>127</td>\n",
       "    </tr>\n",
       "    <tr>\n",
       "      <th>24</th>\n",
       "      <td>kia motors corporation</td>\n",
       "      <td>126</td>\n",
       "    </tr>\n",
       "    <tr>\n",
       "      <th>25</th>\n",
       "      <td>fuji heavy ind ltd</td>\n",
       "      <td>124</td>\n",
       "    </tr>\n",
       "    <tr>\n",
       "      <th>26</th>\n",
       "      <td>siemens aktiengesellschaft</td>\n",
       "      <td>107</td>\n",
       "    </tr>\n",
       "    <tr>\n",
       "      <th>27</th>\n",
       "      <td>kawasaki jukogyo kabushiki kaisha</td>\n",
       "      <td>106</td>\n",
       "    </tr>\n",
       "    <tr>\n",
       "      <th>28</th>\n",
       "      <td>qualcomm incorporated</td>\n",
       "      <td>103</td>\n",
       "    </tr>\n",
       "    <tr>\n",
       "      <th>29</th>\n",
       "      <td>allison transmission inc</td>\n",
       "      <td>101</td>\n",
       "    </tr>\n",
       "    <tr>\n",
       "      <th>30</th>\n",
       "      <td>bayerische motoren werke aktiengesellschaft</td>\n",
       "      <td>99</td>\n",
       "    </tr>\n",
       "    <tr>\n",
       "      <th>31</th>\n",
       "      <td>jaguar land rover limited</td>\n",
       "      <td>99</td>\n",
       "    </tr>\n",
       "    <tr>\n",
       "      <th>32</th>\n",
       "      <td>beiqi foton motor co  ltd</td>\n",
       "      <td>89</td>\n",
       "    </tr>\n",
       "    <tr>\n",
       "      <th>33</th>\n",
       "      <td>chery automobile co  ltd</td>\n",
       "      <td>85</td>\n",
       "    </tr>\n",
       "    <tr>\n",
       "      <th>34</th>\n",
       "      <td>hino motors ltd</td>\n",
       "      <td>84</td>\n",
       "    </tr>\n",
       "    <tr>\n",
       "      <th>35</th>\n",
       "      <td>lg electronics inc</td>\n",
       "      <td>81</td>\n",
       "    </tr>\n",
       "    <tr>\n",
       "      <th>36</th>\n",
       "      <td>sony corp</td>\n",
       "      <td>79</td>\n",
       "    </tr>\n",
       "    <tr>\n",
       "      <th>37</th>\n",
       "      <td>renault s a s</td>\n",
       "      <td>78</td>\n",
       "    </tr>\n",
       "    <tr>\n",
       "      <th>38</th>\n",
       "      <td>matsushita electric industrial co  ltd</td>\n",
       "      <td>77</td>\n",
       "    </tr>\n",
       "    <tr>\n",
       "      <th>39</th>\n",
       "      <td>kabushiki kaisha toshiba</td>\n",
       "      <td>77</td>\n",
       "    </tr>\n",
       "  </tbody>\n",
       "</table>\n",
       "</div>"
      ],
      "text/plain": [
       "                                        unique_values  counts\n",
       "0                                   toyota motor corp    5680\n",
       "1                                     honda motor ltd    2662\n",
       "2                               hyundai motor company    2190\n",
       "3                                 nissan motor co ltd    1904\n",
       "4                        ford global technologies llc    1296\n",
       "5                              mitsubishi motors corp     847\n",
       "6                                   robert bosch gmbh     557\n",
       "7                      hitachi automotive systems ltd     481\n",
       "8                                  aisin seiki co ltd     405\n",
       "9                                   denso corporation     380\n",
       "10                                  suzuki motor corp     359\n",
       "11                         general motors corporation     346\n",
       "12                     peugeot citroen automobiles sa     244\n",
       "13                                      lsis co  ltd      222\n",
       "14                                         daimler ag     212\n",
       "15                              panasonic corporation     198\n",
       "16                                   mazda motor corp     194\n",
       "17                                   sony corporation     192\n",
       "18                           general electric company     183\n",
       "19                  yamaha hatsudoki kabushiki kaisha     165\n",
       "20                                     renault s a s      148\n",
       "21                    state grid corporation of china     138\n",
       "22  korea advanced institute of science and techno...     128\n",
       "23                                byd company limited     127\n",
       "24                             kia motors corporation     126\n",
       "25                                 fuji heavy ind ltd     124\n",
       "26                         siemens aktiengesellschaft     107\n",
       "27                  kawasaki jukogyo kabushiki kaisha     106\n",
       "28                              qualcomm incorporated     103\n",
       "29                          allison transmission inc      101\n",
       "30        bayerische motoren werke aktiengesellschaft      99\n",
       "31                          jaguar land rover limited      99\n",
       "32                         beiqi foton motor co  ltd       89\n",
       "33                          chery automobile co  ltd       85\n",
       "34                                   hino motors ltd       84\n",
       "35                                lg electronics inc       81\n",
       "36                                          sony corp      79\n",
       "37                                      renault s a s      78\n",
       "38            matsushita electric industrial co  ltd       77\n",
       "39                           kabushiki kaisha toshiba      77"
      ]
     },
     "execution_count": 278,
     "metadata": {},
     "output_type": "execute_result"
    }
   ],
   "source": [
    "value_counts = patents_new['assignee'].value_counts(dropna=True, sort=True)\n",
    "data = value_counts.rename_axis('unique_values').reset_index(name='counts')\n",
    "df_val_counts = pd.DataFrame(data)\n",
    "df_val_counts[:40]"
   ]
  },
  {
   "cell_type": "markdown",
   "metadata": {},
   "source": [
    "### renault "
   ]
  },
  {
   "cell_type": "code",
   "execution_count": 279,
   "metadata": {},
   "outputs": [
    {
     "data": {
      "text/html": [
       "<div>\n",
       "<style scoped>\n",
       "    .dataframe tbody tr th:only-of-type {\n",
       "        vertical-align: middle;\n",
       "    }\n",
       "\n",
       "    .dataframe tbody tr th {\n",
       "        vertical-align: top;\n",
       "    }\n",
       "\n",
       "    .dataframe thead th {\n",
       "        text-align: right;\n",
       "    }\n",
       "</style>\n",
       "<table border=\"1\" class=\"dataframe\">\n",
       "  <thead>\n",
       "    <tr style=\"text-align: right;\">\n",
       "      <th></th>\n",
       "      <th>unique_values</th>\n",
       "      <th>counts</th>\n",
       "    </tr>\n",
       "  </thead>\n",
       "  <tbody>\n",
       "    <tr>\n",
       "      <th>20</th>\n",
       "      <td>renault s a s</td>\n",
       "      <td>148</td>\n",
       "    </tr>\n",
       "    <tr>\n",
       "      <th>37</th>\n",
       "      <td>renault s a s</td>\n",
       "      <td>78</td>\n",
       "    </tr>\n",
       "    <tr>\n",
       "      <th>55</th>\n",
       "      <td>renault sas</td>\n",
       "      <td>61</td>\n",
       "    </tr>\n",
       "    <tr>\n",
       "      <th>73</th>\n",
       "      <td>renault</td>\n",
       "      <td>45</td>\n",
       "    </tr>\n",
       "    <tr>\n",
       "      <th>171</th>\n",
       "      <td>renault sas societe par actions simplifiee</td>\n",
       "      <td>20</td>\n",
       "    </tr>\n",
       "  </tbody>\n",
       "</table>\n",
       "</div>"
      ],
      "text/plain": [
       "                                  unique_values  counts\n",
       "20                               renault s a s      148\n",
       "37                                renault s a s      78\n",
       "55                                  renault sas      61\n",
       "73                                      renault      45\n",
       "171  renault sas societe par actions simplifiee      20"
      ]
     },
     "execution_count": 279,
     "metadata": {},
     "output_type": "execute_result"
    }
   ],
   "source": [
    "df_val_counts[df_val_counts.unique_values.str.contains('renault',regex=True)][:5]"
   ]
  },
  {
   "cell_type": "code",
   "execution_count": 280,
   "metadata": {},
   "outputs": [
    {
     "data": {
      "text/plain": [
       "'renault s a s '"
      ]
     },
     "execution_count": 280,
     "metadata": {},
     "output_type": "execute_result"
    }
   ],
   "source": [
    "df_val_counts.unique_values[20]"
   ]
  },
  {
   "cell_type": "code",
   "execution_count": 281,
   "metadata": {},
   "outputs": [
    {
     "data": {
      "text/plain": [
       "'renault s a s'"
      ]
     },
     "execution_count": 281,
     "metadata": {},
     "output_type": "execute_result"
    }
   ],
   "source": [
    "df_val_counts.unique_values[37]"
   ]
  },
  {
   "cell_type": "code",
   "execution_count": 282,
   "metadata": {},
   "outputs": [
    {
     "data": {
      "text/plain": [
       "'renault sas'"
      ]
     },
     "execution_count": 282,
     "metadata": {},
     "output_type": "execute_result"
    }
   ],
   "source": [
    "df_val_counts.unique_values[55]"
   ]
  },
  {
   "cell_type": "code",
   "execution_count": 283,
   "metadata": {},
   "outputs": [],
   "source": [
    "patents_new['assignee']=patents_new['assignee'].str.replace('renault s a s ' , 'renault sas')"
   ]
  },
  {
   "cell_type": "code",
   "execution_count": 284,
   "metadata": {},
   "outputs": [],
   "source": [
    "patents_new['assignee']=patents_new['assignee'].str.replace('renault s a s' , 'renault sas')"
   ]
  },
  {
   "cell_type": "code",
   "execution_count": 285,
   "metadata": {},
   "outputs": [
    {
     "data": {
      "text/html": [
       "<div>\n",
       "<style scoped>\n",
       "    .dataframe tbody tr th:only-of-type {\n",
       "        vertical-align: middle;\n",
       "    }\n",
       "\n",
       "    .dataframe tbody tr th {\n",
       "        vertical-align: top;\n",
       "    }\n",
       "\n",
       "    .dataframe thead th {\n",
       "        text-align: right;\n",
       "    }\n",
       "</style>\n",
       "<table border=\"1\" class=\"dataframe\">\n",
       "  <thead>\n",
       "    <tr style=\"text-align: right;\">\n",
       "      <th></th>\n",
       "      <th>unique_values</th>\n",
       "      <th>counts</th>\n",
       "    </tr>\n",
       "  </thead>\n",
       "  <tbody>\n",
       "    <tr>\n",
       "      <th>0</th>\n",
       "      <td>toyota motor corp</td>\n",
       "      <td>5680</td>\n",
       "    </tr>\n",
       "    <tr>\n",
       "      <th>1</th>\n",
       "      <td>honda motor ltd</td>\n",
       "      <td>2662</td>\n",
       "    </tr>\n",
       "    <tr>\n",
       "      <th>2</th>\n",
       "      <td>hyundai motor company</td>\n",
       "      <td>2190</td>\n",
       "    </tr>\n",
       "    <tr>\n",
       "      <th>3</th>\n",
       "      <td>nissan motor co ltd</td>\n",
       "      <td>1904</td>\n",
       "    </tr>\n",
       "    <tr>\n",
       "      <th>4</th>\n",
       "      <td>ford global technologies llc</td>\n",
       "      <td>1296</td>\n",
       "    </tr>\n",
       "    <tr>\n",
       "      <th>5</th>\n",
       "      <td>mitsubishi motors corp</td>\n",
       "      <td>847</td>\n",
       "    </tr>\n",
       "    <tr>\n",
       "      <th>6</th>\n",
       "      <td>robert bosch gmbh</td>\n",
       "      <td>557</td>\n",
       "    </tr>\n",
       "    <tr>\n",
       "      <th>7</th>\n",
       "      <td>hitachi automotive systems ltd</td>\n",
       "      <td>481</td>\n",
       "    </tr>\n",
       "    <tr>\n",
       "      <th>8</th>\n",
       "      <td>aisin seiki co ltd</td>\n",
       "      <td>405</td>\n",
       "    </tr>\n",
       "    <tr>\n",
       "      <th>9</th>\n",
       "      <td>denso corporation</td>\n",
       "      <td>380</td>\n",
       "    </tr>\n",
       "    <tr>\n",
       "      <th>10</th>\n",
       "      <td>suzuki motor corp</td>\n",
       "      <td>359</td>\n",
       "    </tr>\n",
       "    <tr>\n",
       "      <th>11</th>\n",
       "      <td>general motors corporation</td>\n",
       "      <td>346</td>\n",
       "    </tr>\n",
       "    <tr>\n",
       "      <th>12</th>\n",
       "      <td>renault sas</td>\n",
       "      <td>287</td>\n",
       "    </tr>\n",
       "    <tr>\n",
       "      <th>13</th>\n",
       "      <td>peugeot citroen automobiles sa</td>\n",
       "      <td>244</td>\n",
       "    </tr>\n",
       "    <tr>\n",
       "      <th>14</th>\n",
       "      <td>lsis co  ltd</td>\n",
       "      <td>222</td>\n",
       "    </tr>\n",
       "    <tr>\n",
       "      <th>15</th>\n",
       "      <td>daimler ag</td>\n",
       "      <td>212</td>\n",
       "    </tr>\n",
       "    <tr>\n",
       "      <th>16</th>\n",
       "      <td>panasonic corporation</td>\n",
       "      <td>198</td>\n",
       "    </tr>\n",
       "    <tr>\n",
       "      <th>17</th>\n",
       "      <td>mazda motor corp</td>\n",
       "      <td>194</td>\n",
       "    </tr>\n",
       "    <tr>\n",
       "      <th>18</th>\n",
       "      <td>sony corporation</td>\n",
       "      <td>192</td>\n",
       "    </tr>\n",
       "    <tr>\n",
       "      <th>19</th>\n",
       "      <td>general electric company</td>\n",
       "      <td>183</td>\n",
       "    </tr>\n",
       "    <tr>\n",
       "      <th>20</th>\n",
       "      <td>yamaha hatsudoki kabushiki kaisha</td>\n",
       "      <td>165</td>\n",
       "    </tr>\n",
       "    <tr>\n",
       "      <th>21</th>\n",
       "      <td>state grid corporation of china</td>\n",
       "      <td>138</td>\n",
       "    </tr>\n",
       "    <tr>\n",
       "      <th>22</th>\n",
       "      <td>korea advanced institute of science and techno...</td>\n",
       "      <td>128</td>\n",
       "    </tr>\n",
       "    <tr>\n",
       "      <th>23</th>\n",
       "      <td>byd company limited</td>\n",
       "      <td>127</td>\n",
       "    </tr>\n",
       "    <tr>\n",
       "      <th>24</th>\n",
       "      <td>kia motors corporation</td>\n",
       "      <td>126</td>\n",
       "    </tr>\n",
       "    <tr>\n",
       "      <th>25</th>\n",
       "      <td>fuji heavy ind ltd</td>\n",
       "      <td>124</td>\n",
       "    </tr>\n",
       "    <tr>\n",
       "      <th>26</th>\n",
       "      <td>siemens aktiengesellschaft</td>\n",
       "      <td>107</td>\n",
       "    </tr>\n",
       "    <tr>\n",
       "      <th>27</th>\n",
       "      <td>kawasaki jukogyo kabushiki kaisha</td>\n",
       "      <td>106</td>\n",
       "    </tr>\n",
       "    <tr>\n",
       "      <th>28</th>\n",
       "      <td>qualcomm incorporated</td>\n",
       "      <td>103</td>\n",
       "    </tr>\n",
       "    <tr>\n",
       "      <th>29</th>\n",
       "      <td>allison transmission inc</td>\n",
       "      <td>101</td>\n",
       "    </tr>\n",
       "    <tr>\n",
       "      <th>30</th>\n",
       "      <td>bayerische motoren werke aktiengesellschaft</td>\n",
       "      <td>99</td>\n",
       "    </tr>\n",
       "    <tr>\n",
       "      <th>31</th>\n",
       "      <td>jaguar land rover limited</td>\n",
       "      <td>99</td>\n",
       "    </tr>\n",
       "    <tr>\n",
       "      <th>32</th>\n",
       "      <td>beiqi foton motor co  ltd</td>\n",
       "      <td>89</td>\n",
       "    </tr>\n",
       "    <tr>\n",
       "      <th>33</th>\n",
       "      <td>chery automobile co  ltd</td>\n",
       "      <td>85</td>\n",
       "    </tr>\n",
       "    <tr>\n",
       "      <th>34</th>\n",
       "      <td>hino motors ltd</td>\n",
       "      <td>84</td>\n",
       "    </tr>\n",
       "    <tr>\n",
       "      <th>35</th>\n",
       "      <td>lg electronics inc</td>\n",
       "      <td>81</td>\n",
       "    </tr>\n",
       "    <tr>\n",
       "      <th>36</th>\n",
       "      <td>sony corp</td>\n",
       "      <td>79</td>\n",
       "    </tr>\n",
       "    <tr>\n",
       "      <th>37</th>\n",
       "      <td>matsushita electric industrial co  ltd</td>\n",
       "      <td>77</td>\n",
       "    </tr>\n",
       "    <tr>\n",
       "      <th>38</th>\n",
       "      <td>kabushiki kaisha toshiba</td>\n",
       "      <td>77</td>\n",
       "    </tr>\n",
       "    <tr>\n",
       "      <th>39</th>\n",
       "      <td>continental automotive gmbh</td>\n",
       "      <td>75</td>\n",
       "    </tr>\n",
       "  </tbody>\n",
       "</table>\n",
       "</div>"
      ],
      "text/plain": [
       "                                        unique_values  counts\n",
       "0                                   toyota motor corp    5680\n",
       "1                                     honda motor ltd    2662\n",
       "2                               hyundai motor company    2190\n",
       "3                                 nissan motor co ltd    1904\n",
       "4                        ford global technologies llc    1296\n",
       "5                              mitsubishi motors corp     847\n",
       "6                                   robert bosch gmbh     557\n",
       "7                      hitachi automotive systems ltd     481\n",
       "8                                  aisin seiki co ltd     405\n",
       "9                                   denso corporation     380\n",
       "10                                  suzuki motor corp     359\n",
       "11                         general motors corporation     346\n",
       "12                                        renault sas     287\n",
       "13                     peugeot citroen automobiles sa     244\n",
       "14                                      lsis co  ltd      222\n",
       "15                                         daimler ag     212\n",
       "16                              panasonic corporation     198\n",
       "17                                   mazda motor corp     194\n",
       "18                                   sony corporation     192\n",
       "19                           general electric company     183\n",
       "20                  yamaha hatsudoki kabushiki kaisha     165\n",
       "21                    state grid corporation of china     138\n",
       "22  korea advanced institute of science and techno...     128\n",
       "23                                byd company limited     127\n",
       "24                             kia motors corporation     126\n",
       "25                                 fuji heavy ind ltd     124\n",
       "26                         siemens aktiengesellschaft     107\n",
       "27                  kawasaki jukogyo kabushiki kaisha     106\n",
       "28                              qualcomm incorporated     103\n",
       "29                          allison transmission inc      101\n",
       "30        bayerische motoren werke aktiengesellschaft      99\n",
       "31                          jaguar land rover limited      99\n",
       "32                         beiqi foton motor co  ltd       89\n",
       "33                          chery automobile co  ltd       85\n",
       "34                                   hino motors ltd       84\n",
       "35                                lg electronics inc       81\n",
       "36                                          sony corp      79\n",
       "37            matsushita electric industrial co  ltd       77\n",
       "38                           kabushiki kaisha toshiba      77\n",
       "39                        continental automotive gmbh      75"
      ]
     },
     "execution_count": 285,
     "metadata": {},
     "output_type": "execute_result"
    }
   ],
   "source": [
    "value_counts = patents_new['assignee'].value_counts(dropna=True, sort=True)\n",
    "data = value_counts.rename_axis('unique_values').reset_index(name='counts')\n",
    "df_val_counts = pd.DataFrame(data)\n",
    "df_val_counts[:40]"
   ]
  },
  {
   "cell_type": "markdown",
   "metadata": {},
   "source": [
    "### save work"
   ]
  },
  {
   "cell_type": "code",
   "execution_count": 286,
   "metadata": {},
   "outputs": [],
   "source": [
    "patents_new.to_csv('patent_firm_full_clean.csv')\n",
    "patents_new.to_pickle('patent_firm_full_clean.pkl')"
   ]
  },
  {
   "cell_type": "markdown",
   "metadata": {},
   "source": [
    "### complete work"
   ]
  }
 ],
 "metadata": {
  "kernelspec": {
   "display_name": "Python 3",
   "language": "python",
   "name": "python3"
  },
  "language_info": {
   "codemirror_mode": {
    "name": "ipython",
    "version": 3
   },
   "file_extension": ".py",
   "mimetype": "text/x-python",
   "name": "python",
   "nbconvert_exporter": "python",
   "pygments_lexer": "ipython3",
   "version": "3.6.3"
  }
 },
 "nbformat": 4,
 "nbformat_minor": 2
}
