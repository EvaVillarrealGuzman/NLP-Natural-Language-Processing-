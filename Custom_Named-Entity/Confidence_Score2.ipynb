{
 "cells": [
  {
   "cell_type": "markdown",
   "metadata": {},
   "source": [
    "# Finding Confidence Score for Entities\n",
    "\n",
    "For Customized Entities"
   ]
  },
  {
   "cell_type": "code",
   "execution_count": 1,
   "metadata": {},
   "outputs": [],
   "source": [
    "# for Python 2: use print only as a function\n",
    "from __future__ import print_function"
   ]
  },
  {
   "cell_type": "code",
   "execution_count": 2,
   "metadata": {},
   "outputs": [],
   "source": [
    "import spacy\n",
    "from spacy.pipeline import EntityRuler\n",
    "from spacy.matcher import Matcher\n",
    "from spacy.tokens import Span\n",
    "from spacy import displacy\n",
    "import sys\n",
    "from collections import defaultdict\n",
    "nlp = spacy.load('en_core_web_sm')"
   ]
  },
  {
   "cell_type": "code",
   "execution_count": 3,
   "metadata": {},
   "outputs": [],
   "source": [
    "from spacy.scorer import Scorer\n",
    "\n",
    "scorer = Scorer()"
   ]
  },
  {
   "cell_type": "code",
   "execution_count": 4,
   "metadata": {},
   "outputs": [],
   "source": [
    "flowers = [\"rose\", \"tulip\", \"african daisy\"]\n",
    "animals = [\"cat\", \"dog\", \"artic fox\"]"
   ]
  },
  {
   "cell_type": "code",
   "execution_count": 5,
   "metadata": {},
   "outputs": [],
   "source": [
    "rulerAll = EntityRuler(nlp, overwrite_ents=True)"
   ]
  },
  {
   "cell_type": "code",
   "execution_count": 6,
   "metadata": {},
   "outputs": [],
   "source": [
    "for f in flowers:\n",
    "    rulerAll.add_patterns([{\"label\": \"flower\", \"pattern\": f}])\n",
    "for a in animals:\n",
    "    rulerAll.add_patterns([{\"label\": \"animal\", \"pattern\": a}])"
   ]
  },
  {
   "cell_type": "code",
   "execution_count": 7,
   "metadata": {},
   "outputs": [
    {
     "name": "stdout",
     "output_type": "stream",
     "text": [
      "['tagger', 'parser', 'ner']\n"
     ]
    }
   ],
   "source": [
    "print(nlp.pipe_names)"
   ]
  },
  {
   "cell_type": "code",
   "execution_count": 8,
   "metadata": {},
   "outputs": [],
   "source": [
    "# in this case, we shall use same ruler for all classes\n",
    "rulerAll.name = 'rulerAll'"
   ]
  },
  {
   "cell_type": "code",
   "execution_count": 9,
   "metadata": {},
   "outputs": [],
   "source": [
    "nlp.add_pipe(rulerAll)"
   ]
  },
  {
   "cell_type": "code",
   "execution_count": 10,
   "metadata": {},
   "outputs": [
    {
     "name": "stdout",
     "output_type": "stream",
     "text": [
      "['tagger', 'parser', 'ner', 'rulerAll']\n"
     ]
    }
   ],
   "source": [
    "print(nlp.pipe_names)"
   ]
  },
  {
   "cell_type": "code",
   "execution_count": 11,
   "metadata": {},
   "outputs": [],
   "source": [
    "text=\"cat, fox, dog, wolf and artic fox are one class,and plant, african daisy, rose ,tulip, gardenias are other class\""
   ]
  },
  {
   "cell_type": "code",
   "execution_count": 12,
   "metadata": {},
   "outputs": [],
   "source": [
    "doc=nlp(text)"
   ]
  },
  {
   "cell_type": "code",
   "execution_count": 13,
   "metadata": {},
   "outputs": [],
   "source": [
    "threshold = 0.2\n",
    "beams = nlp.entity.beam_parse([ doc ], beam_width = 16, beam_density = 0.0001)"
   ]
  },
  {
   "cell_type": "code",
   "execution_count": 14,
   "metadata": {},
   "outputs": [
    {
     "data": {
      "text/plain": [
       "[<thinc.extra.search.Beam at 0x11a7b2ef0>]"
      ]
     },
     "execution_count": 14,
     "metadata": {},
     "output_type": "execute_result"
    }
   ],
   "source": [
    "beams"
   ]
  },
  {
   "cell_type": "code",
   "execution_count": 15,
   "metadata": {},
   "outputs": [
    {
     "name": "stdout",
     "output_type": "stream",
     "text": [
      "Entities and scores (detected with beam search)\n",
      "Label: animal, Text: cat, Score: 0.9999999999999996\n",
      "Label: PERSON, Text: fox, Score: 0.9999999999999996\n",
      "Label: animal, Text: dog, Score: 0.9999999999999996\n",
      "Label: PERSON, Text: wolf, Score: 0.9999999999999996\n",
      "Label: animal, Text: artic fox, Score: 0.9999999999999996\n",
      "Label: CARDINAL, Text: one, Score: 0.9999999999999996\n",
      "Label: flower, Text: african daisy, Score: 0.9999999999999996\n",
      "Label: flower, Text: rose, Score: 0.9999999999999996\n",
      "Label: flower, Text: tulip, Score: 0.9999999999999996\n",
      "Label: PERSON, Text: gardenias, Score: 0.6247260804783323\n"
     ]
    }
   ],
   "source": [
    "entity_scores = defaultdict(float)\n",
    "for beam in beams:\n",
    "    for score, ents in nlp.entity.moves.get_beam_parses(beam):\n",
    "        for start, end, label in ents:\n",
    "            entity_scores[(start, end, label)] += score\n",
    "\n",
    "print ('Entities and scores (detected with beam search)')\n",
    "for key in entity_scores:\n",
    "    start, end, label = key\n",
    "    score = entity_scores[key]\n",
    "    if ( score > threshold):\n",
    "        print ('Label: {}, Text: {}, Score: {}'.format(label, doc[start:end], score))"
   ]
  }
 ],
 "metadata": {
  "kernelspec": {
   "display_name": "Python 3.7 (tensorflow)",
   "language": "python",
   "name": "tensorflow"
  },
  "language_info": {
   "codemirror_mode": {
    "name": "ipython",
    "version": 3
   },
   "file_extension": ".py",
   "mimetype": "text/x-python",
   "name": "python",
   "nbconvert_exporter": "python",
   "pygments_lexer": "ipython3",
   "version": "3.7.5"
  }
 },
 "nbformat": 4,
 "nbformat_minor": 2
}
