{
 "cells": [
  {
   "cell_type": "markdown",
   "metadata": {},
   "source": [
    "# Text Classification\n",
    "\n",
    "supervised learning paper"
   ]
  },
  {
   "cell_type": "markdown",
   "metadata": {},
   "source": [
    "# 1)- Importing key Modules"
   ]
  },
  {
   "cell_type": "code",
   "execution_count": 1,
   "metadata": {},
   "outputs": [],
   "source": [
    "# Let's be rebels and ignore warnings for now\n",
    "import warnings\n",
    "warnings.filterwarnings('ignore')"
   ]
  },
  {
   "cell_type": "code",
   "execution_count": 2,
   "metadata": {},
   "outputs": [],
   "source": [
    "import re    # for regular expressions \n",
    "import string \n",
    "import requests\n",
    "import pickle\n",
    "import numpy as np \n",
    "import pandas as pd \n",
    "import seaborn as sns \n",
    "import matplotlib.pyplot as plt\n",
    "%matplotlib inline"
   ]
  },
  {
   "cell_type": "code",
   "execution_count": 3,
   "metadata": {},
   "outputs": [
    {
     "name": "stdout",
     "output_type": "stream",
     "text": [
      "[nltk_data] Downloading package stopwords to\n",
      "[nltk_data]     C:\\Users\\69785hsh\\AppData\\Roaming\\nltk_data...\n",
      "[nltk_data]   Package stopwords is already up-to-date!\n"
     ]
    },
    {
     "name": "stderr",
     "output_type": "stream",
     "text": [
      "Using TensorFlow backend.\n"
     ]
    }
   ],
   "source": [
    "# for text analysis and model\n",
    "import nltk\n",
    "nltk.download('stopwords')\n",
    "from nltk.corpus import stopwords\n",
    "from sklearn.feature_extraction.text import CountVectorizer\n",
    "from keras.preprocessing.text import Tokenizer\n",
    "from keras.preprocessing.sequence import pad_sequences\n",
    "from keras.models import Sequential\n",
    "from keras.layers import Dense, Embedding, LSTM, SpatialDropout1D\n",
    "from keras.utils.np_utils import to_categorical"
   ]
  },
  {
   "cell_type": "code",
   "execution_count": 4,
   "metadata": {},
   "outputs": [],
   "source": [
    "# For ML algorithm\n",
    "from sklearn.model_selection import train_test_split, cross_val_score\n",
    "from sklearn.linear_model import LogisticRegression\n",
    "from sklearn.svm import LinearSVC\n",
    "from sklearn.multiclass import OneVsRestClassifier\n",
    "from sklearn.linear_model import RidgeClassifier"
   ]
  },
  {
   "cell_type": "markdown",
   "metadata": {},
   "source": [
    "# 2)- Loading dataset"
   ]
  },
  {
   "cell_type": "code",
   "execution_count": 5,
   "metadata": {},
   "outputs": [
    {
     "data": {
      "text/html": [
       "<div>\n",
       "<style scoped>\n",
       "    .dataframe tbody tr th:only-of-type {\n",
       "        vertical-align: middle;\n",
       "    }\n",
       "\n",
       "    .dataframe tbody tr th {\n",
       "        vertical-align: top;\n",
       "    }\n",
       "\n",
       "    .dataframe thead th {\n",
       "        text-align: right;\n",
       "    }\n",
       "</style>\n",
       "<table border=\"1\" class=\"dataframe\">\n",
       "  <thead>\n",
       "    <tr style=\"text-align: right;\">\n",
       "      <th></th>\n",
       "      <th>appln</th>\n",
       "      <th>appln_id</th>\n",
       "      <th>family_id</th>\n",
       "      <th>direct</th>\n",
       "      <th>granted</th>\n",
       "      <th>num_keywds</th>\n",
       "      <th>num_emergent</th>\n",
       "      <th>label</th>\n",
       "      <th>keywds</th>\n",
       "      <th>earliest_appln</th>\n",
       "      <th>...</th>\n",
       "      <th>citing_publn_date</th>\n",
       "      <th>citing_publn</th>\n",
       "      <th>citing_appln</th>\n",
       "      <th>citing_appln_id</th>\n",
       "      <th>citing_family_id</th>\n",
       "      <th>num_citing_family</th>\n",
       "      <th>earliest_applt</th>\n",
       "      <th>current_applt</th>\n",
       "      <th>appln_title</th>\n",
       "      <th>appln_abstr</th>\n",
       "    </tr>\n",
       "  </thead>\n",
       "  <tbody>\n",
       "    <tr>\n",
       "      <th>0</th>\n",
       "      <td>AP9000171A</td>\n",
       "      <td>468568</td>\n",
       "      <td>3460643</td>\n",
       "      <td>1</td>\n",
       "      <td>1</td>\n",
       "      <td>1</td>\n",
       "      <td>1</td>\n",
       "      <td>ET</td>\n",
       "      <td>Augmented Reality</td>\n",
       "      <td>AP9000171A</td>\n",
       "      <td>...</td>\n",
       "      <td>NaN</td>\n",
       "      <td>NaN</td>\n",
       "      <td>NaN</td>\n",
       "      <td>NaN</td>\n",
       "      <td>NaN</td>\n",
       "      <td>0</td>\n",
       "      <td>WILLMET INC.</td>\n",
       "      <td>WILLMET INC.</td>\n",
       "      <td>Method and apparatus for flame spraying refrac...</td>\n",
       "      <td>A method and apparatus for flame spraying refa...</td>\n",
       "    </tr>\n",
       "    <tr>\n",
       "      <th>1</th>\n",
       "      <td>FR9502814A</td>\n",
       "      <td>20497049</td>\n",
       "      <td>3478912</td>\n",
       "      <td>1</td>\n",
       "      <td>0</td>\n",
       "      <td>1</td>\n",
       "      <td>1</td>\n",
       "      <td>ET</td>\n",
       "      <td>Virtual Assistants</td>\n",
       "      <td>AR32920294A</td>\n",
       "      <td>...</td>\n",
       "      <td>1998-06-16\\n2005-07-01\\n2007-10-11\\n2013-02-08...</td>\n",
       "      <td>ES2115541A1\\nFR2864473A1\\nDE102006013700B3\\nES...</td>\n",
       "      <td>ES9601564A\\nFR0315329A\\nDE102006013700A\\nES201...</td>\n",
       "      <td>17616260\\n19068617\\n15027713\\n380582103\\n38105...</td>\n",
       "      <td>8295481\\n34639568\\n38513697\\n47566167\\n4756616...</td>\n",
       "      <td>6</td>\n",
       "      <td>MAIZTEGUI GUILLERMO MARTIN</td>\n",
       "      <td>MAIZTEGUI GUILLERMO MARTIN</td>\n",
       "      <td>Anti-dazzle system for automobile headlights</td>\n",
       "      <td>On the source vehicle (Ve), polarising screens...</td>\n",
       "    </tr>\n",
       "    <tr>\n",
       "      <th>2</th>\n",
       "      <td>EP93101056A</td>\n",
       "      <td>16978302</td>\n",
       "      <td>3483979</td>\n",
       "      <td>1</td>\n",
       "      <td>0</td>\n",
       "      <td>1</td>\n",
       "      <td>1</td>\n",
       "      <td>ET</td>\n",
       "      <td>Augmented Reality</td>\n",
       "      <td>AT19492A</td>\n",
       "      <td>...</td>\n",
       "      <td>1994-05-18</td>\n",
       "      <td>EP0597301A1</td>\n",
       "      <td>EP93117135A</td>\n",
       "      <td>16992465</td>\n",
       "      <td>3530063</td>\n",
       "      <td>1</td>\n",
       "      <td>Chemie Linz Gesellschaft m.b.H.</td>\n",
       "      <td>Chemie Linz Gesellschaft m.b.H.</td>\n",
       "      <td>Amidoimidobisphenoles, their preparation and t...</td>\n",
       "      <td>Amidoimidobisphenols of the formula &lt;IMAGE&gt; in...</td>\n",
       "    </tr>\n",
       "    <tr>\n",
       "      <th>3</th>\n",
       "      <td>WO9701165W</td>\n",
       "      <td>15681989</td>\n",
       "      <td>3490916</td>\n",
       "      <td>1</td>\n",
       "      <td>0</td>\n",
       "      <td>1</td>\n",
       "      <td>1</td>\n",
       "      <td>ET</td>\n",
       "      <td>Augmented Reality</td>\n",
       "      <td>AT44996A</td>\n",
       "      <td>...</td>\n",
       "      <td>NaN</td>\n",
       "      <td>NaN</td>\n",
       "      <td>NaN</td>\n",
       "      <td>NaN</td>\n",
       "      <td>NaN</td>\n",
       "      <td>0</td>\n",
       "      <td>DSM Chemie Linz GmbH</td>\n",
       "      <td>DSM Chemie Linz GmbH</td>\n",
       "      <td>BISMALEIMIDE RESINS CONTAINING LESS THAN 0.1 W...</td>\n",
       "      <td>The invention concerns bismaleimide resins bas...</td>\n",
       "    </tr>\n",
       "    <tr>\n",
       "      <th>4</th>\n",
       "      <td>EP06025028A</td>\n",
       "      <td>16301300</td>\n",
       "      <td>3497932</td>\n",
       "      <td>1</td>\n",
       "      <td>0</td>\n",
       "      <td>1</td>\n",
       "      <td>1</td>\n",
       "      <td>ET</td>\n",
       "      <td>Augmented Reality</td>\n",
       "      <td>AT71696A</td>\n",
       "      <td>...</td>\n",
       "      <td>NaN</td>\n",
       "      <td>NaN</td>\n",
       "      <td>NaN</td>\n",
       "      <td>NaN</td>\n",
       "      <td>NaN</td>\n",
       "      <td>53</td>\n",
       "      <td>Sanochemia Pharmazeutika Aktiengesellschaft</td>\n",
       "      <td>Sanochemia Pharmazeutika Aktiengesellschaft</td>\n",
       "      <td>New benzazepine derivatives, medicaments conta...</td>\n",
       "      <td>Benzofuro[3a,3,2,ef][2]benzazepines (I), their...</td>\n",
       "    </tr>\n",
       "  </tbody>\n",
       "</table>\n",
       "<p>5 rows × 37 columns</p>\n",
       "</div>"
      ],
      "text/plain": [
       "         appln  appln_id  family_id  direct  granted  num_keywds  \\\n",
       "0   AP9000171A    468568    3460643       1        1           1   \n",
       "1   FR9502814A  20497049    3478912       1        0           1   \n",
       "2  EP93101056A  16978302    3483979       1        0           1   \n",
       "3   WO9701165W  15681989    3490916       1        0           1   \n",
       "4  EP06025028A  16301300    3497932       1        0           1   \n",
       "\n",
       "   num_emergent label              keywds earliest_appln  \\\n",
       "0             1    ET   Augmented Reality     AP9000171A   \n",
       "1             1    ET  Virtual Assistants    AR32920294A   \n",
       "2             1    ET   Augmented Reality       AT19492A   \n",
       "3             1    ET   Augmented Reality       AT44996A   \n",
       "4             1    ET   Augmented Reality       AT71696A   \n",
       "\n",
       "                         ...                          \\\n",
       "0                        ...                           \n",
       "1                        ...                           \n",
       "2                        ...                           \n",
       "3                        ...                           \n",
       "4                        ...                           \n",
       "\n",
       "                                   citing_publn_date  \\\n",
       "0                                                NaN   \n",
       "1  1998-06-16\\n2005-07-01\\n2007-10-11\\n2013-02-08...   \n",
       "2                                         1994-05-18   \n",
       "3                                                NaN   \n",
       "4                                                NaN   \n",
       "\n",
       "                                        citing_publn  \\\n",
       "0                                                NaN   \n",
       "1  ES2115541A1\\nFR2864473A1\\nDE102006013700B3\\nES...   \n",
       "2                                        EP0597301A1   \n",
       "3                                                NaN   \n",
       "4                                                NaN   \n",
       "\n",
       "                                        citing_appln  \\\n",
       "0                                                NaN   \n",
       "1  ES9601564A\\nFR0315329A\\nDE102006013700A\\nES201...   \n",
       "2                                        EP93117135A   \n",
       "3                                                NaN   \n",
       "4                                                NaN   \n",
       "\n",
       "                                     citing_appln_id  \\\n",
       "0                                                NaN   \n",
       "1  17616260\\n19068617\\n15027713\\n380582103\\n38105...   \n",
       "2                                           16992465   \n",
       "3                                                NaN   \n",
       "4                                                NaN   \n",
       "\n",
       "                                    citing_family_id  num_citing_family  \\\n",
       "0                                                NaN                  0   \n",
       "1  8295481\\n34639568\\n38513697\\n47566167\\n4756616...                  6   \n",
       "2                                            3530063                  1   \n",
       "3                                                NaN                  0   \n",
       "4                                                NaN                 53   \n",
       "\n",
       "                                earliest_applt  \\\n",
       "0                                 WILLMET INC.   \n",
       "1                   MAIZTEGUI GUILLERMO MARTIN   \n",
       "2              Chemie Linz Gesellschaft m.b.H.   \n",
       "3                         DSM Chemie Linz GmbH   \n",
       "4  Sanochemia Pharmazeutika Aktiengesellschaft   \n",
       "\n",
       "                                 current_applt  \\\n",
       "0                                 WILLMET INC.   \n",
       "1                   MAIZTEGUI GUILLERMO MARTIN   \n",
       "2              Chemie Linz Gesellschaft m.b.H.   \n",
       "3                         DSM Chemie Linz GmbH   \n",
       "4  Sanochemia Pharmazeutika Aktiengesellschaft   \n",
       "\n",
       "                                         appln_title  \\\n",
       "0  Method and apparatus for flame spraying refrac...   \n",
       "1       Anti-dazzle system for automobile headlights   \n",
       "2  Amidoimidobisphenoles, their preparation and t...   \n",
       "3  BISMALEIMIDE RESINS CONTAINING LESS THAN 0.1 W...   \n",
       "4  New benzazepine derivatives, medicaments conta...   \n",
       "\n",
       "                                         appln_abstr  \n",
       "0  A method and apparatus for flame spraying refa...  \n",
       "1  On the source vehicle (Ve), polarising screens...  \n",
       "2  Amidoimidobisphenols of the formula <IMAGE> in...  \n",
       "3  The invention concerns bismaleimide resins bas...  \n",
       "4  Benzofuro[3a,3,2,ef][2]benzazepines (I), their...  \n",
       "\n",
       "[5 rows x 37 columns]"
      ]
     },
     "execution_count": 5,
     "metadata": {},
     "output_type": "execute_result"
    }
   ],
   "source": [
    "df = pd.read_csv('hassan_paper2.csv')\n",
    "df.head()"
   ]
  },
  {
   "cell_type": "code",
   "execution_count": 6,
   "metadata": {},
   "outputs": [
    {
     "data": {
      "text/plain": [
       "(283212, 37)"
      ]
     },
     "execution_count": 6,
     "metadata": {},
     "output_type": "execute_result"
    }
   ],
   "source": [
    "df.shape"
   ]
  },
  {
   "cell_type": "code",
   "execution_count": 7,
   "metadata": {},
   "outputs": [
    {
     "data": {
      "text/plain": [
       "406"
      ]
     },
     "execution_count": 7,
     "metadata": {},
     "output_type": "execute_result"
    }
   ],
   "source": [
    "len(df.keywds.value_counts())"
   ]
  },
  {
   "cell_type": "code",
   "execution_count": 8,
   "metadata": {},
   "outputs": [
    {
     "data": {
      "text/plain": [
       "1    176367\n",
       "0    105032\n",
       "2      1798\n",
       "3        15\n",
       "Name: num_emergent, dtype: int64"
      ]
     },
     "execution_count": 8,
     "metadata": {},
     "output_type": "execute_result"
    }
   ],
   "source": [
    "df.num_emergent.value_counts()"
   ]
  },
  {
   "cell_type": "code",
   "execution_count": 9,
   "metadata": {},
   "outputs": [
    {
     "data": {
      "text/plain": [
       "ET     176367\n",
       "NET    105032\n",
       "CET      1813\n",
       "Name: label, dtype: int64"
      ]
     },
     "execution_count": 9,
     "metadata": {},
     "output_type": "execute_result"
    }
   ],
   "source": [
    "df.label.value_counts()"
   ]
  },
  {
   "cell_type": "code",
   "execution_count": 10,
   "metadata": {},
   "outputs": [
    {
     "data": {
      "text/plain": [
       "array(['ET', 'NET', 'CET'], dtype=object)"
      ]
     },
     "execution_count": 10,
     "metadata": {},
     "output_type": "execute_result"
    }
   ],
   "source": [
    "df.label.unique()"
   ]
  },
  {
   "cell_type": "code",
   "execution_count": 11,
   "metadata": {},
   "outputs": [],
   "source": [
    "#df[df['label']==\"ET\"]"
   ]
  },
  {
   "cell_type": "code",
   "execution_count": null,
   "metadata": {},
   "outputs": [],
   "source": []
  },
  {
   "cell_type": "markdown",
   "metadata": {},
   "source": [
    "# 3)- Data Exploring"
   ]
  },
  {
   "cell_type": "markdown",
   "metadata": {},
   "source": [
    "### a) Selecting most relevant features for initial pre-processing and data creation"
   ]
  },
  {
   "cell_type": "code",
   "execution_count": 12,
   "metadata": {},
   "outputs": [],
   "source": [
    "data=df[['keywds','num_keywds','label','appln_title','appln_abstr']]"
   ]
  },
  {
   "cell_type": "code",
   "execution_count": 13,
   "metadata": {},
   "outputs": [
    {
     "data": {
      "text/html": [
       "<div>\n",
       "<style scoped>\n",
       "    .dataframe tbody tr th:only-of-type {\n",
       "        vertical-align: middle;\n",
       "    }\n",
       "\n",
       "    .dataframe tbody tr th {\n",
       "        vertical-align: top;\n",
       "    }\n",
       "\n",
       "    .dataframe thead th {\n",
       "        text-align: right;\n",
       "    }\n",
       "</style>\n",
       "<table border=\"1\" class=\"dataframe\">\n",
       "  <thead>\n",
       "    <tr style=\"text-align: right;\">\n",
       "      <th></th>\n",
       "      <th>keywds</th>\n",
       "      <th>num_keywds</th>\n",
       "      <th>label</th>\n",
       "      <th>appln_title</th>\n",
       "      <th>appln_abstr</th>\n",
       "    </tr>\n",
       "  </thead>\n",
       "  <tbody>\n",
       "    <tr>\n",
       "      <th>0</th>\n",
       "      <td>Augmented Reality</td>\n",
       "      <td>1</td>\n",
       "      <td>ET</td>\n",
       "      <td>Method and apparatus for flame spraying refrac...</td>\n",
       "      <td>A method and apparatus for flame spraying refa...</td>\n",
       "    </tr>\n",
       "    <tr>\n",
       "      <th>1</th>\n",
       "      <td>Virtual Assistants</td>\n",
       "      <td>1</td>\n",
       "      <td>ET</td>\n",
       "      <td>Anti-dazzle system for automobile headlights</td>\n",
       "      <td>On the source vehicle (Ve), polarising screens...</td>\n",
       "    </tr>\n",
       "    <tr>\n",
       "      <th>2</th>\n",
       "      <td>Augmented Reality</td>\n",
       "      <td>1</td>\n",
       "      <td>ET</td>\n",
       "      <td>Amidoimidobisphenoles, their preparation and t...</td>\n",
       "      <td>Amidoimidobisphenols of the formula &lt;IMAGE&gt; in...</td>\n",
       "    </tr>\n",
       "    <tr>\n",
       "      <th>3</th>\n",
       "      <td>Augmented Reality</td>\n",
       "      <td>1</td>\n",
       "      <td>ET</td>\n",
       "      <td>BISMALEIMIDE RESINS CONTAINING LESS THAN 0.1 W...</td>\n",
       "      <td>The invention concerns bismaleimide resins bas...</td>\n",
       "    </tr>\n",
       "    <tr>\n",
       "      <th>4</th>\n",
       "      <td>Augmented Reality</td>\n",
       "      <td>1</td>\n",
       "      <td>ET</td>\n",
       "      <td>New benzazepine derivatives, medicaments conta...</td>\n",
       "      <td>Benzofuro[3a,3,2,ef][2]benzazepines (I), their...</td>\n",
       "    </tr>\n",
       "  </tbody>\n",
       "</table>\n",
       "</div>"
      ],
      "text/plain": [
       "               keywds  num_keywds label  \\\n",
       "0   Augmented Reality           1    ET   \n",
       "1  Virtual Assistants           1    ET   \n",
       "2   Augmented Reality           1    ET   \n",
       "3   Augmented Reality           1    ET   \n",
       "4   Augmented Reality           1    ET   \n",
       "\n",
       "                                         appln_title  \\\n",
       "0  Method and apparatus for flame spraying refrac...   \n",
       "1       Anti-dazzle system for automobile headlights   \n",
       "2  Amidoimidobisphenoles, their preparation and t...   \n",
       "3  BISMALEIMIDE RESINS CONTAINING LESS THAN 0.1 W...   \n",
       "4  New benzazepine derivatives, medicaments conta...   \n",
       "\n",
       "                                         appln_abstr  \n",
       "0  A method and apparatus for flame spraying refa...  \n",
       "1  On the source vehicle (Ve), polarising screens...  \n",
       "2  Amidoimidobisphenols of the formula <IMAGE> in...  \n",
       "3  The invention concerns bismaleimide resins bas...  \n",
       "4  Benzofuro[3a,3,2,ef][2]benzazepines (I), their...  "
      ]
     },
     "execution_count": 13,
     "metadata": {},
     "output_type": "execute_result"
    }
   ],
   "source": [
    "data.head()"
   ]
  },
  {
   "cell_type": "code",
   "execution_count": 14,
   "metadata": {},
   "outputs": [
    {
     "data": {
      "text/plain": [
       "6"
      ]
     },
     "execution_count": 14,
     "metadata": {},
     "output_type": "execute_result"
    }
   ],
   "source": [
    "data.num_keywds.nunique()"
   ]
  },
  {
   "cell_type": "code",
   "execution_count": 15,
   "metadata": {},
   "outputs": [
    {
     "data": {
      "text/plain": [
       "array([1, 2, 3, 4, 6, 5], dtype=int64)"
      ]
     },
     "execution_count": 15,
     "metadata": {},
     "output_type": "execute_result"
    }
   ],
   "source": [
    "data.num_keywds.unique()"
   ]
  },
  {
   "cell_type": "code",
   "execution_count": 16,
   "metadata": {},
   "outputs": [
    {
     "data": {
      "text/plain": [
       "array(['Augmented Reality', 'Virtual Assistants', '5G',\n",
       "       'Hybrid Cloud Computing', 'Social TV',\n",
       "       'Volumetric/Holographic Displays', 'ASICs',\n",
       "       'Augmented Reality\\nBYOD', 'BYOD', 'Deep Reinforcement Learning',\n",
       "       'Virtual Reality', 'In Memory Analytics', 'Quantum Computing',\n",
       "       'Internet TV', 'Private Cloud Computing',\n",
       "       'Autonomous Mobile Robots',\n",
       "       'Tangible/Conversational User Interfaces', 'Big Data',\n",
       "       'NFC (Payments)', 'Interactive TV', 'Electrovibration',\n",
       "       'Autonomous Vehicles', 'Cryptocurrencies', 'Digital Twin',\n",
       "       '5G\\nAugmented Reality',\n",
       "       'Hybrid Cloud Computing\\nQuantum Computing', '3D Scanners',\n",
       "       'Knowledge Graphs', 'Edge Computing',\n",
       "       'Virtual Assistants\\nVirtual Reality',\n",
       "       'Augmented Reality\\nVirtual Assistants', 'Application Stores',\n",
       "       'Gamification', 'Video Search', 'Solid State Drives',\n",
       "       'Electrovibration\\nVirtual Assistants',\n",
       "       'In Memory Analytics\\nInteractive TV', 'QR/Color Code',\n",
       "       'Digital Dexterity', 'Surface Computers', 'Terahertz Waves',\n",
       "       'Hybrid Cloud Computing\\nVirtual Assistants',\n",
       "       'BYOD\\nMobile Health Monitoring',\n",
       "       'Augmented Reality\\nQuantum Computing',\n",
       "       'Quantum Computing\\nVirtual Assistants', 'IP Video/Internet Video',\n",
       "       '5G\\nVirtual Assistants',\n",
       "       'Autonomous Mobile Robots\\nVirtual Assistants',\n",
       "       'ASICs\\nVirtual Assistants', 'Media Tablets', 'Edge AI',\n",
       "       'Complex event processing', 'Digital Security',\n",
       "       'ASICs\\nHybrid Cloud Computing',\n",
       "       'Media Tablets\\nVirtual Assistants', 'Green IT', '5G\\nASICs',\n",
       "       'Interactive TV\\nVirtual Assistants', 'Big Data\\nBYOD',\n",
       "       'Hybrid Cloud Computing\\nVirtual Reality', 'Smart Fabric',\n",
       "       'Conversational AI', 'Machine Learning',\n",
       "       'Augmented Reality\\nIn Memory Analytics', 'Activity streams',\n",
       "       '4D Printing', 'Mobile Health Monitoring',\n",
       "       'ASICs\\nMachine Learning', 'HTML5',\n",
       "       '3D Scanners\\nVirtual Assistants', 'Data Science',\n",
       "       'Augmented Reality\\nMedia Tablets', 'ASICs\\nAugmented Reality',\n",
       "       'Blockchain for data security', 'Video Search\\nVirtual Assistants',\n",
       "       'Group Buying', 'Brain-computer interface',\n",
       "       'Digital Twin\\nIn Memory Analytics', 'BYOD\\nCryptocurrencies',\n",
       "       'Augmented Reality\\nHybrid Cloud Computing', 'Micro Data Centers',\n",
       "       'Smart Dust', 'Cognitive Computing',\n",
       "       'Machine to Machine Comm. Services',\n",
       "       'Augmented Reality\\nVideo Search\\nVirtual Assistants',\n",
       "       'Predictive Analytics', 'ASICs\\nBYOD', '5G\\nBYOD',\n",
       "       'Smart Workspace', 'Carbon nanotube', 'Connected Home',\n",
       "       'Social Analytics', 'Augmented Reality\\nBig Data',\n",
       "       'Augmented Reality\\nQuantum Computing\\nVirtual Assistants',\n",
       "       'Hybrid Cloud Computing\\nKnowledge Graphs', 'Biochips',\n",
       "       'Autonomous Vehicles\\nBYOD', 'Silicon Anode Batteries',\n",
       "       'Neuromorphic hardware', '5G\\nBig Data',\n",
       "       'Augmented Reality\\nSocial TV', 'Deep Learning',\n",
       "       'Cognitive Computing\\nKnowledge Graphs',\n",
       "       '3D Scanners\\nHybrid Cloud Computing', 'Mixed Reality',\n",
       "       'BYOD\\nTangible/Conversational User Interfaces', '5G\\nSocial TV',\n",
       "       'Carbon nanotube\\nKnowledge Graphs',\n",
       "       'Terahertz Waves\\nVirtual Assistants',\n",
       "       'Digital Twin\\nHybrid Cloud Computing',\n",
       "       'Augmented Reality\\nCarbon nanotube',\n",
       "       'Carbon nanotube\\nInternet TV', '5G\\nCarbon nanotube',\n",
       "       'ASICs\\nInternet TV',\n",
       "       'Internet TV\\nVolumetric/Holographic Displays',\n",
       "       'Augmented Reality\\nElectrovibration', 'IOT',\n",
       "       'Carbon nanotube\\nPrescriptive Analytics',\n",
       "       'Knowledge Graphs\\nTerahertz Waves', '3D Scanners\\nMedia Tablets',\n",
       "       'Internet TV\\nIOT', 'Internet TV\\nKnowledge Graphs',\n",
       "       'Cultured/artificial tissues',\n",
       "       'NFC (Payments)\\nVirtual Assistants',\n",
       "       'Carbon nanotube\\nNFC (Payments)', '5G\\nInternet TV',\n",
       "       'Cloud Computing', 'Digital Twin\\nSocial TV',\n",
       "       'Cognitive Computing\\nNFC (Payments)',\n",
       "       'Virtual Assistants\\nVolumetric/Holographic Displays',\n",
       "       'Self-healing System Technology', 'Interactive TV\\nMixed Reality',\n",
       "       'Social TV\\nVolumetric/Holographic Displays',\n",
       "       '5G\\nQuantum Computing', 'Internet TV\\nNeuromorphic hardware',\n",
       "       'Carbon nanotube\\nQuantum Computing', 'Carbon nanotube\\nSocial TV',\n",
       "       'Carbon nanotube\\nConversational AI',\n",
       "       'Carbon nanotube\\nHuman Augmentation',\n",
       "       'Application Stores\\nCarbon nanotube', 'Flying Autonomous vehicle',\n",
       "       '3D Flat Panel Displays', 'Carbon nanotube\\nInternet TV\\nIOT',\n",
       "       'Hybrid Cloud Computing\\nInternet TV',\n",
       "       'Internet TV\\nMixed Reality',\n",
       "       'Autonomous Mobile Robots\\nHybrid Cloud Computing',\n",
       "       'Augmented Reality\\nAutonomous Vehicles\\nFlying Autonomous vehicle\\nInternet TV',\n",
       "       'Knowledge Graphs\\nMixed Reality',\n",
       "       'Autonomous Vehicles\\nCognitive Computing', 'Affective Computing',\n",
       "       'Application Stores\\nQuantum Computing',\n",
       "       'Autonomous Mobile Robots\\nHybrid Cloud Computing\\nKnowledge Graphs\\nTerahertz Waves',\n",
       "       'Autonomous Mobile Robots\\nAutonomous Vehicles\\nData Science\\nHybrid Cloud Computing\\nKnowledge Graphs\\nTerahertz Waves',\n",
       "       'Interactive TV\\nInternet TV',\n",
       "       'Carbon nanotube\\nVirtual Assistants',\n",
       "       'Cognitive Computing\\nInternet TV',\n",
       "       'Internet TV\\nVirtual Assistants', 'Broadband over Power Lines',\n",
       "       'Nanotube Electronics', 'Knowledge Graphs\\nNFC (Payments)',\n",
       "       'Autonomous Vehicles\\nInternet TV',\n",
       "       'Conversational AI\\nMixed Reality',\n",
       "       'Autonomous Vehicles\\nCarbon nanotube',\n",
       "       'Hybrid Cloud Computing\\nTerahertz Waves',\n",
       "       'Carbon nanotube\\nMedia Tablets', 'Internet TV\\nQuantum Computing',\n",
       "       'Carbon nanotube\\nHybrid Cloud Computing',\n",
       "       'Augmented Reality\\nDigital Security\\nVirtual Assistants',\n",
       "       'Ebook readers', 'In Memory Analytics\\nSocial Analytics',\n",
       "       'Hybrid Cloud Computing\\nInteractive TV',\n",
       "       'Autonomous Vehicles\\nKnowledge Graphs',\n",
       "       'Data Science\\nDeep Learning',\n",
       "       'Internet TV\\nSilicon Anode Batteries',\n",
       "       'Artificial General Intelligence',\n",
       "       'Electrovibration\\nKnowledge Graphs',\n",
       "       'Augmented Reality\\nMedia Tablets\\nVirtual Assistants',\n",
       "       'Affective Computing\\nMixed Reality',\n",
       "       'Autonomous Vehicles\\nMixed Reality', 'Microblogging',\n",
       "       'Augmented Reality\\nAutonomous Vehicles',\n",
       "       'Carbon nanotube\\nEdge AI', 'Augmented Reality\\nKnowledge Graphs',\n",
       "       'Conversational AI\\nKnowledge Graphs',\n",
       "       'Cognitive Computing\\nFlying Autonomous vehicle',\n",
       "       'Autonomous Vehicles\\nPrivate Cloud Computing',\n",
       "       'Autonomous Vehicles\\nCarbon nanotube\\nInternet TV',\n",
       "       'Image/Content Recognition',\n",
       "       'Augmented Reality\\nFlying Autonomous vehicle',\n",
       "       'ASICs\\nVirtual Reality',\n",
       "       'Augmented Reality\\nCarbon nanotube\\nInteractive TV',\n",
       "       'Crowdsourcing', 'Carbon nanotube\\nPrivate Cloud Computing',\n",
       "       '3D Bioprinting',\n",
       "       'Carbon nanotube\\nInternet TV\\nPrivate Cloud Computing',\n",
       "       'NFC (Payments)\\nQuantum Computing',\n",
       "       'Knowledge Graphs\\nVideo Search',\n",
       "       'Broadband over Power Lines\\nQuantum Computing',\n",
       "       'Autonomous Vehicles\\nQuantum Computing',\n",
       "       'Autonomous Vehicles\\nDigital Twin',\n",
       "       'Autonomous Vehicles\\nSocial TV', 'Carbon nanotube\\nDigital Twin',\n",
       "       'Cultured/artificial tissues\\nKnowledge Graphs',\n",
       "       'Deep Learning\\nHybrid Cloud Computing',\n",
       "       'Digital Twin\\nInteractive TV',\n",
       "       'ASICs\\nVolumetric/Holographic Displays',\n",
       "       'Quantum Computing\\nSmart Dust',\n",
       "       'Augmented Reality\\nNFC (Payments)\\nVirtual Assistants',\n",
       "       'BYOD\\nVolumetric/Holographic Displays',\n",
       "       'Deep Learning\\nKnowledge Graphs',\n",
       "       'Carbon nanotube\\nMixed Reality', 'Carbon nanotube\\nIOT',\n",
       "       'Carbon nanotube\\nIn Memory Analytics',\n",
       "       'Augmented Reality\\nInternet TV',\n",
       "       'Flying Autonomous vehicle\\nNFC (Payments)',\n",
       "       'Autonomous Vehicles\\nData Science',\n",
       "       'In Memory Analytics\\nInternet TV', '802.11ax',\n",
       "       'Blockchain for data security\\nVirtual Assistants',\n",
       "       'Knowledge Graphs\\nVirtual Assistants',\n",
       "       'Autonomous Vehicles\\nDeep Learning',\n",
       "       '3D Scanners\\nAugmented Reality',\n",
       "       'Complex event processing\\nInternet TV',\n",
       "       'Conversational AI\\nPrivate Cloud Computing',\n",
       "       'Autonomous Vehicles\\nInternet TV\\nKnowledge Graphs',\n",
       "       'Biochips\\nCrowdsourcing',\n",
       "       'Augmented Reality\\nBlockchain for data security',\n",
       "       'Data Science\\nKnowledge Graphs',\n",
       "       '5G\\nVolumetric/Holographic Displays',\n",
       "       'Data Science\\nDeep Learning\\nHybrid Cloud Computing',\n",
       "       'Big Data\\nHybrid Cloud Computing',\n",
       "       'Blockchain for data security\\nHybrid Cloud Computing',\n",
       "       'Autonomous Vehicles\\nCarbon nanotube\\nHybrid Cloud Computing',\n",
       "       'Autonomous Vehicles\\nHybrid Cloud Computing',\n",
       "       'Autonomous Vehicles\\nCarbon nanotube\\nData Science',\n",
       "       'Flying Autonomous vehicle\\nVirtual Assistants',\n",
       "       'Data Science\\nPrivate Cloud Computing',\n",
       "       'Cognitive Computing\\nEdge AI', 'Internet TV\\nNFC (Payments)',\n",
       "       'Autonomous Vehicles\\nNFC (Payments)',\n",
       "       'Autonomous Vehicles\\nCarbon nanotube\\nKnowledge Graphs',\n",
       "       'ASICs\\nAutonomous Vehicles',\n",
       "       'Data Science\\nDeep Learning\\nKnowledge Graphs',\n",
       "       'Augmented Reality\\nConversational AI',\n",
       "       'Data Science\\nHybrid Cloud Computing',\n",
       "       'Application Stores\\nAugmented Reality',\n",
       "       'Blockchain for data security\\nElectrovibration',\n",
       "       'Application Stores\\nKnowledge Graphs',\n",
       "       'Augmented Reality\\nHybrid Cloud Computing\\nVirtual Assistants',\n",
       "       'Augmented Reality\\nDigital Security', 'Smart Robot',\n",
       "       'Internet TV\\nMachine Learning', 'Biochips\\nQuantum Computing',\n",
       "       'Augmented Reality\\nVirtual Reality', 'Biochips\\nInternet TV',\n",
       "       'Autonomous Vehicles\\nConversational AI',\n",
       "       'Hybrid Cloud Computing\\nIn Memory Analytics',\n",
       "       'Deep Neural Networks', 'Flying Autonomous vehicle\\nInternet TV',\n",
       "       'Autonomous Vehicles\\nVirtual Assistants',\n",
       "       'IP Video/Internet Video\\nSmart Fabric',\n",
       "       'Autonomous Vehicles\\nInteractive TV',\n",
       "       'Autonomous Vehicles\\nInternet TV\\nKnowledge Graphs\\nNFC (Payments)',\n",
       "       'Neuromorphic hardware\\nQuantum Computing',\n",
       "       '3D Scanners\\nKnowledge Graphs',\n",
       "       'Autonomous Vehicles\\nNeuromorphic hardware',\n",
       "       'Augmented Reality\\nVirtual Assistants\\nVirtual Reality',\n",
       "       '5G\\nInternet TV\\nVirtual Assistants',\n",
       "       'Knowledge Graphs\\nQuantum Computing',\n",
       "       'Autonomous Vehicles\\nData Science\\nKnowledge Graphs',\n",
       "       'Autonomous Vehicles\\nFlying Autonomous vehicle\\nInternet TV',\n",
       "       'Data Science\\nKnowledge Graphs\\nNFC (Payments)',\n",
       "       'Autonomous Vehicles\\nData Science\\nDeep Learning',\n",
       "       'Edge AI\\nInternet TV', '802.11ax\\nInternet TV',\n",
       "       'Data Science\\nHybrid Cloud Computing\\nKnowledge Graphs',\n",
       "       'Autonomous Vehicles\\nCognitive Computing\\nKnowledge Graphs',\n",
       "       'IP Video/Internet Video\\nTerahertz Waves',\n",
       "       'Autonomous Vehicles\\nCarbon nanotube\\nEdge AI',\n",
       "       'Application Stores\\nVirtual Assistants',\n",
       "       'Deep Learning\\nDeep Neural Networks',\n",
       "       'Carbon nanotube\\nHuman Augmentation\\nPrescriptive Analytics',\n",
       "       'Carbon nanotube\\nSmart Fabric',\n",
       "       'In Memory Analytics\\nQuantum Computing',\n",
       "       'Application Stores\\nInternet TV', 'ASICs\\nSocial TV',\n",
       "       'Hybrid Cloud Computing\\nIP Video/Internet Video',\n",
       "       'Autonomous Mobile Robots\\nDeep Learning\\nKnowledge Graphs',\n",
       "       'Autonomous Mobile Robots\\nKnowledge Graphs',\n",
       "       'Data Science\\nHybrid Cloud Computing\\nInternet TV',\n",
       "       'Autonomous Vehicles\\nIP Video/Internet Video',\n",
       "       '3D Scanners\\nInternet TV', '3D Scanners\\nAutonomous Vehicles',\n",
       "       'ASICs\\nCarbon nanotube', 'Autonomous Mobile Robots\\nInternet TV',\n",
       "       'Application Stores\\nCarbon nanotube\\nEdge AI',\n",
       "       'Edge AI\\nKnowledge Graphs', 'Augmented Reality\\nVideo Search',\n",
       "       'Biochips\\nCarbon nanotube',\n",
       "       'Autonomous Vehicles\\nInternet TV\\nVirtual Assistants',\n",
       "       '3D Scanners\\nCarbon nanotube', 'Carbon nanotube\\nData Science',\n",
       "       'Autonomous Vehicles\\nKnowledge Graphs\\nNFC (Payments)',\n",
       "       'Autonomous Vehicles\\nDigital Security',\n",
       "       'Biochips\\nKnowledge Graphs',\n",
       "       'Data Science\\nIP Video/Internet Video',\n",
       "       'Autonomous Vehicles\\nData Science\\nInternet TV',\n",
       "       'Social TV\\nVirtual Assistants', 'Data Science\\nMixed Reality',\n",
       "       'Data Science\\nSocial TV',\n",
       "       'Augmented Reality\\nInternet TV\\nVirtual Assistants',\n",
       "       'Application Stores\\nInteractive TV',\n",
       "       'Internet TV\\nIP Video/Internet Video',\n",
       "       'Autonomous Vehicles\\nBiochips',\n",
       "       'Blockchain for data security\\nKnowledge Graphs',\n",
       "       'Internet TV\\nSmart Fabric', 'Cloud Computing\\nKnowledge Graphs',\n",
       "       'ASICs\\nQuantum Computing',\n",
       "       'Autonomous Vehicles\\nCultured/artificial tissues',\n",
       "       'Biochips\\nConversational AI', 'Internet TV\\nMedia Tablets',\n",
       "       'Carbon nanotube\\nInternet TV\\nQuantum Computing',\n",
       "       'Augmented Reality\\nData Science',\n",
       "       'Activity streams\\nAutonomous Vehicles',\n",
       "       'Augmented Reality\\nTangible/Conversational User Interfaces',\n",
       "       'Augmented Reality\\nAutonomous Vehicles\\nDeep Learning',\n",
       "       '3D Scanners\\nAugmented Reality\\nVirtual Assistants',\n",
       "       'Data Science\\nDeep Neural Networks',\n",
       "       'Autonomous Mobile Robots\\nData Science',\n",
       "       'Autonomous Vehicles\\nCloud Computing',\n",
       "       'Conversational AI\\nVirtual Assistants',\n",
       "       'Internet TV\\nKnowledge Graphs\\nPrivate Cloud Computing',\n",
       "       'Autonomous Vehicles\\nData Science\\nIP Video/Internet Video',\n",
       "       'Deep Learning\\nIP Video/Internet Video',\n",
       "       'Autonomous Vehicles\\nMicro Data Centers',\n",
       "       'Autonomous Vehicles\\nDigital Dexterity',\n",
       "       'Autonomous Vehicles\\nCarbon nanotube\\nData Science\\nInternet TV',\n",
       "       'Internet TV\\nIP Video/Internet Video\\nKnowledge Graphs',\n",
       "       'Augmented Reality\\nCarbon nanotube\\nVirtual Assistants',\n",
       "       'Knowledge Graphs\\nPrivate Cloud Computing',\n",
       "       'Autonomous Vehicles\\nData Science\\nHybrid Cloud Computing',\n",
       "       'Biochips\\nData Science',\n",
       "       'Autonomous Vehicles\\nBiochips\\nCarbon nanotube',\n",
       "       'Digital Security\\nInternet TV', '5G\\nKnowledge Graphs',\n",
       "       'Augmented Reality\\nAutonomous Vehicles\\nCarbon nanotube',\n",
       "       'Autonomous Mobile Robots\\nConversational AI',\n",
       "       'Social TV\\nTerahertz Waves',\n",
       "       'Flying Autonomous vehicle\\nQuantum Computing',\n",
       "       'Augmented Reality\\nAutonomous Vehicles\\nHybrid Cloud Computing\\nVirtual Assistants',\n",
       "       'Cognitive Computing\\nData Science',\n",
       "       'Autonomous Mobile Robots\\nDeep Neural Networks\\nVirtual Assistants',\n",
       "       'Knowledge Graphs\\nSocial TV',\n",
       "       'Autonomous Mobile Robots\\nCarbon nanotube',\n",
       "       'Group Buying\\nInternet TV', 'Knowledge Graphs\\nSmart Fabric',\n",
       "       '5G\\nCarbon nanotube\\nEdge AI',\n",
       "       '5G\\nAutonomous Vehicles\\nCarbon nanotube\\nData Science',\n",
       "       'Deep Neural Networks\\nKnowledge Graphs',\n",
       "       'Blockchain for data security\\nInternet TV',\n",
       "       'IP Video/Internet Video\\nKnowledge Graphs',\n",
       "       'Augmented Reality\\nAutonomous Vehicles\\nDeep Learning\\nVirtual Assistants',\n",
       "       'Conversational AI\\nData Science', '5G\\nEdge AI',\n",
       "       '5G\\nAugmented Reality\\nInternet TV',\n",
       "       'Carbon nanotube\\nHybrid Cloud Computing\\nInternet TV',\n",
       "       'Data Science\\nHybrid Cloud Computing\\nSocial TV',\n",
       "       'Augmented Reality\\nAutonomous Mobile Robots',\n",
       "       'IP Video/Internet Video\\nVirtual Assistants',\n",
       "       'Internet TV\\nNeuromorphic hardware\\nQuantum Computing',\n",
       "       'Conversational AI\\nInternet TV',\n",
       "       'Carbon nanotube\\nInternet TV\\nKnowledge Graphs',\n",
       "       'Augmented Reality\\nAutonomous Mobile Robots\\nVirtual Assistants',\n",
       "       'Augmented Reality\\nNFC (Payments)',\n",
       "       'Autonomous Vehicles\\nCarbon nanotube\\nHybrid Cloud Computing\\nInternet TV',\n",
       "       'Autonomous Vehicles\\nIOT',\n",
       "       'Autonomous Vehicles\\nData Science\\nDeep Learning\\nIP Video/Internet Video',\n",
       "       'Autonomous Mobile Robots\\nBiochips',\n",
       "       'Carbon nanotube\\nData Science\\nHybrid Cloud Computing',\n",
       "       'Carbon nanotube\\nData Science\\nEdge AI',\n",
       "       'Carbon nanotube\\nInternet TV\\nVirtual Assistants',\n",
       "       'Carbon nanotube\\nNeuromorphic hardware', 'Consumer Telematics',\n",
       "       'Deep Learning\\nDigital Twin', 'Digital Twin\\nVirtual Assistants',\n",
       "       'Biochips\\nCrowdsourcing\\nFlying Autonomous vehicle',\n",
       "       'Autonomous Vehicles\\nInternet TV\\nQuantum Computing',\n",
       "       '3D Scanners\\nData Science',\n",
       "       'Autonomous Vehicles\\nTerahertz Waves',\n",
       "       'Carbon nanotube\\nIP Video/Internet Video',\n",
       "       'Hybrid Cloud Computing\\nInternet TV\\nIOT',\n",
       "       'Hybrid Cloud Computing\\nInternet TV\\nKnowledge Graphs',\n",
       "       '5G\\nAutonomous Vehicles\\nCarbon nanotube\\nInternet TV',\n",
       "       'Edge AI\\nHybrid Cloud Computing',\n",
       "       'Blockchain for data security\\nData Science',\n",
       "       'Data Science\\nMedia Tablets',\n",
       "       'Autonomous Vehicles\\nInternet TV\\nIOT',\n",
       "       'Biochips\\nInternet TV\\nIOT', 'Smart Fabric\\nVirtual Assistants',\n",
       "       'Data Science\\nVirtual Assistants', 'Augmented Reality\\nBiochips',\n",
       "       'Broadband over Power Lines\\nInternet TV',\n",
       "       'Autonomous Vehicles\\nCrowdsourcing\\nHybrid Cloud Computing\\nKnowledge Graphs\\nTerahertz Waves',\n",
       "       'Digital Security\\nKnowledge Graphs',\n",
       "       'Augmented Reality\\nVolumetric/Holographic Displays',\n",
       "       'Data Science\\nInternet TV'], dtype=object)"
      ]
     },
     "execution_count": 16,
     "metadata": {},
     "output_type": "execute_result"
    }
   ],
   "source": [
    "data.keywds.unique()"
   ]
  },
  {
   "cell_type": "markdown",
   "metadata": {},
   "source": [
    "### b)- Mapping df into three labelled classes\n",
    "\n",
    "- ET......emerging technology ===> Refers to all technologies in Gartner Hype Cycle\n",
    "- CET.....Convergent ET ===> Those technologies that are combination two or more technologies e.g IOT, 5G,machine learning is combination of 3.\n",
    "- NET: Non- emerging tech ====> All those that are not in ET & CET"
   ]
  },
  {
   "cell_type": "code",
   "execution_count": 17,
   "metadata": {
    "scrolled": true
   },
   "outputs": [
    {
     "data": {
      "text/plain": [
       "ET     176367\n",
       "NET    105032\n",
       "CET      1813\n",
       "Name: label, dtype: int64"
      ]
     },
     "execution_count": 17,
     "metadata": {},
     "output_type": "execute_result"
    }
   ],
   "source": [
    "data['label'].value_counts()"
   ]
  },
  {
   "cell_type": "markdown",
   "metadata": {},
   "source": [
    "### c)-Label the categorical values"
   ]
  },
  {
   "cell_type": "code",
   "execution_count": 18,
   "metadata": {},
   "outputs": [],
   "source": [
    "data['num_label'] = data.label.map({'NET':0, 'CET':1, 'ET':2})"
   ]
  },
  {
   "cell_type": "code",
   "execution_count": 19,
   "metadata": {},
   "outputs": [
    {
     "data": {
      "text/html": [
       "<div>\n",
       "<style scoped>\n",
       "    .dataframe tbody tr th:only-of-type {\n",
       "        vertical-align: middle;\n",
       "    }\n",
       "\n",
       "    .dataframe tbody tr th {\n",
       "        vertical-align: top;\n",
       "    }\n",
       "\n",
       "    .dataframe thead th {\n",
       "        text-align: right;\n",
       "    }\n",
       "</style>\n",
       "<table border=\"1\" class=\"dataframe\">\n",
       "  <thead>\n",
       "    <tr style=\"text-align: right;\">\n",
       "      <th></th>\n",
       "      <th>keywds</th>\n",
       "      <th>num_keywds</th>\n",
       "      <th>label</th>\n",
       "      <th>appln_title</th>\n",
       "      <th>appln_abstr</th>\n",
       "      <th>num_label</th>\n",
       "    </tr>\n",
       "  </thead>\n",
       "  <tbody>\n",
       "    <tr>\n",
       "      <th>0</th>\n",
       "      <td>Augmented Reality</td>\n",
       "      <td>1</td>\n",
       "      <td>ET</td>\n",
       "      <td>Method and apparatus for flame spraying refrac...</td>\n",
       "      <td>A method and apparatus for flame spraying refa...</td>\n",
       "      <td>2</td>\n",
       "    </tr>\n",
       "    <tr>\n",
       "      <th>1</th>\n",
       "      <td>Virtual Assistants</td>\n",
       "      <td>1</td>\n",
       "      <td>ET</td>\n",
       "      <td>Anti-dazzle system for automobile headlights</td>\n",
       "      <td>On the source vehicle (Ve), polarising screens...</td>\n",
       "      <td>2</td>\n",
       "    </tr>\n",
       "    <tr>\n",
       "      <th>2</th>\n",
       "      <td>Augmented Reality</td>\n",
       "      <td>1</td>\n",
       "      <td>ET</td>\n",
       "      <td>Amidoimidobisphenoles, their preparation and t...</td>\n",
       "      <td>Amidoimidobisphenols of the formula &lt;IMAGE&gt; in...</td>\n",
       "      <td>2</td>\n",
       "    </tr>\n",
       "    <tr>\n",
       "      <th>3</th>\n",
       "      <td>Augmented Reality</td>\n",
       "      <td>1</td>\n",
       "      <td>ET</td>\n",
       "      <td>BISMALEIMIDE RESINS CONTAINING LESS THAN 0.1 W...</td>\n",
       "      <td>The invention concerns bismaleimide resins bas...</td>\n",
       "      <td>2</td>\n",
       "    </tr>\n",
       "    <tr>\n",
       "      <th>4</th>\n",
       "      <td>Augmented Reality</td>\n",
       "      <td>1</td>\n",
       "      <td>ET</td>\n",
       "      <td>New benzazepine derivatives, medicaments conta...</td>\n",
       "      <td>Benzofuro[3a,3,2,ef][2]benzazepines (I), their...</td>\n",
       "      <td>2</td>\n",
       "    </tr>\n",
       "  </tbody>\n",
       "</table>\n",
       "</div>"
      ],
      "text/plain": [
       "               keywds  num_keywds label  \\\n",
       "0   Augmented Reality           1    ET   \n",
       "1  Virtual Assistants           1    ET   \n",
       "2   Augmented Reality           1    ET   \n",
       "3   Augmented Reality           1    ET   \n",
       "4   Augmented Reality           1    ET   \n",
       "\n",
       "                                         appln_title  \\\n",
       "0  Method and apparatus for flame spraying refrac...   \n",
       "1       Anti-dazzle system for automobile headlights   \n",
       "2  Amidoimidobisphenoles, their preparation and t...   \n",
       "3  BISMALEIMIDE RESINS CONTAINING LESS THAN 0.1 W...   \n",
       "4  New benzazepine derivatives, medicaments conta...   \n",
       "\n",
       "                                         appln_abstr  num_label  \n",
       "0  A method and apparatus for flame spraying refa...          2  \n",
       "1  On the source vehicle (Ve), polarising screens...          2  \n",
       "2  Amidoimidobisphenols of the formula <IMAGE> in...          2  \n",
       "3  The invention concerns bismaleimide resins bas...          2  \n",
       "4  Benzofuro[3a,3,2,ef][2]benzazepines (I), their...          2  "
      ]
     },
     "execution_count": 19,
     "metadata": {},
     "output_type": "execute_result"
    }
   ],
   "source": [
    "data.head()"
   ]
  },
  {
   "cell_type": "markdown",
   "metadata": {},
   "source": [
    "### d)- Checking abstract"
   ]
  },
  {
   "cell_type": "code",
   "execution_count": 21,
   "metadata": {},
   "outputs": [
    {
     "data": {
      "text/plain": [
       "<matplotlib.axes._subplots.AxesSubplot at 0x260a722a940>"
      ]
     },
     "execution_count": 21,
     "metadata": {},
     "output_type": "execute_result"
    },
    {
     "data": {
      "image/png": "[encoded data removed]",
      "text/plain": [
       "<matplotlib.figure.Figure at 0x260addcb780>"
      ]
     },
     "metadata": {
      "needs_background": "light"
     },
     "output_type": "display_data"
    }
   ],
   "source": [
    "data['appln_abstr'].str.len().plot.hist()"
   ]
  },
  {
   "cell_type": "markdown",
   "metadata": {},
   "source": [
    "# 4)- Cleaning"
   ]
  },
  {
   "cell_type": "code",
   "execution_count": 22,
   "metadata": {},
   "outputs": [],
   "source": [
    "REPLACE_BY_SPACE_RE = re.compile('[/(){}\\[\\]\\|@,;#]')\n",
    "BAD_SYMBOLS_RE = re.compile('[^0-9a-z +_]')\n",
    "STOPWORDS = stopwords.words('english')\n",
    "STOPWORDS.extend(['rt', 'http']) # extend stopwords; rt means re-tweet\n",
    "STOPWORDS = set(STOPWORDS)\n",
    "\n",
    "def text_prepare(text):\n",
    "    \"\"\"\n",
    "        text: a string\n",
    "        \n",
    "        return: modified initial string\n",
    "    \"\"\"\n",
    "    text = text.lower() # lowercase text\n",
    "    text = REPLACE_BY_SPACE_RE.sub(' ', text) # replace REPLACE_BY_SPACE_RE symbols by space in text\n",
    "    text = BAD_SYMBOLS_RE.sub('', text) # delete symbols which are in BAD_SYMBOLS_RE from text\n",
    "    text = ' '.join([word for word in text.split() if word not in STOPWORDS]) # delete stopwords from text\n",
    "    text = text.strip()\n",
    "    return text"
   ]
  },
  {
   "cell_type": "code",
   "execution_count": 23,
   "metadata": {},
   "outputs": [],
   "source": [
    "data['cleaned']=[text_prepare(x) for x in data['appln_abstr']]"
   ]
  },
  {
   "cell_type": "code",
   "execution_count": 24,
   "metadata": {},
   "outputs": [
    {
     "name": "stdout",
     "output_type": "stream",
     "text": [
      "0    A method and apparatus for flame spraying refa...\n",
      "1    On the source vehicle (Ve), polarising screens...\n",
      "2    Amidoimidobisphenols of the formula <IMAGE> in...\n",
      "3    The invention concerns bismaleimide resins bas...\n",
      "4    Benzofuro[3a,3,2,ef][2]benzazepines (I), their...\n",
      "Name: appln_abstr, dtype: object\n"
     ]
    }
   ],
   "source": [
    "print(data.appln_abstr[:5])"
   ]
  },
  {
   "cell_type": "code",
   "execution_count": 25,
   "metadata": {},
   "outputs": [
    {
     "data": {
      "text/plain": [
       "0    method apparatus flame spraying refactory mate...\n",
       "1    source vehicle polarising screens 1 placed fro...\n",
       "2    amidoimidobisphenols formula image ar pphenyle...\n",
       "3    invention concerns bismaleimide resins based a...\n",
       "4    benzofuro 3a 3 2 ef 2 benzazepines ringopened ...\n",
       "Name: cleaned, dtype: object"
      ]
     },
     "execution_count": 25,
     "metadata": {},
     "output_type": "execute_result"
    }
   ],
   "source": [
    "data.cleaned[:5]"
   ]
  },
  {
   "cell_type": "code",
   "execution_count": 26,
   "metadata": {},
   "outputs": [
    {
     "name": "stdout",
     "output_type": "stream",
     "text": [
      "3169\n",
      "2268\n"
     ]
    }
   ],
   "source": [
    "print(len(data.appln_abstr[4]))\n",
    "print(len(data.cleaned[4]))"
   ]
  },
  {
   "cell_type": "code",
   "execution_count": 27,
   "metadata": {},
   "outputs": [
    {
     "data": {
      "text/html": [
       "<div>\n",
       "<style scoped>\n",
       "    .dataframe tbody tr th:only-of-type {\n",
       "        vertical-align: middle;\n",
       "    }\n",
       "\n",
       "    .dataframe tbody tr th {\n",
       "        vertical-align: top;\n",
       "    }\n",
       "\n",
       "    .dataframe thead th {\n",
       "        text-align: right;\n",
       "    }\n",
       "</style>\n",
       "<table border=\"1\" class=\"dataframe\">\n",
       "  <thead>\n",
       "    <tr style=\"text-align: right;\">\n",
       "      <th></th>\n",
       "      <th>keywds</th>\n",
       "      <th>num_keywds</th>\n",
       "      <th>label</th>\n",
       "      <th>appln_title</th>\n",
       "      <th>appln_abstr</th>\n",
       "      <th>num_label</th>\n",
       "      <th>cleaned</th>\n",
       "    </tr>\n",
       "  </thead>\n",
       "  <tbody>\n",
       "    <tr>\n",
       "      <th>0</th>\n",
       "      <td>Augmented Reality</td>\n",
       "      <td>1</td>\n",
       "      <td>ET</td>\n",
       "      <td>Method and apparatus for flame spraying refrac...</td>\n",
       "      <td>A method and apparatus for flame spraying refa...</td>\n",
       "      <td>2</td>\n",
       "      <td>method apparatus flame spraying refactory mate...</td>\n",
       "    </tr>\n",
       "    <tr>\n",
       "      <th>1</th>\n",
       "      <td>Virtual Assistants</td>\n",
       "      <td>1</td>\n",
       "      <td>ET</td>\n",
       "      <td>Anti-dazzle system for automobile headlights</td>\n",
       "      <td>On the source vehicle (Ve), polarising screens...</td>\n",
       "      <td>2</td>\n",
       "      <td>source vehicle polarising screens 1 placed fro...</td>\n",
       "    </tr>\n",
       "    <tr>\n",
       "      <th>2</th>\n",
       "      <td>Augmented Reality</td>\n",
       "      <td>1</td>\n",
       "      <td>ET</td>\n",
       "      <td>Amidoimidobisphenoles, their preparation and t...</td>\n",
       "      <td>Amidoimidobisphenols of the formula &lt;IMAGE&gt; in...</td>\n",
       "      <td>2</td>\n",
       "      <td>amidoimidobisphenols formula image ar pphenyle...</td>\n",
       "    </tr>\n",
       "    <tr>\n",
       "      <th>3</th>\n",
       "      <td>Augmented Reality</td>\n",
       "      <td>1</td>\n",
       "      <td>ET</td>\n",
       "      <td>BISMALEIMIDE RESINS CONTAINING LESS THAN 0.1 W...</td>\n",
       "      <td>The invention concerns bismaleimide resins bas...</td>\n",
       "      <td>2</td>\n",
       "      <td>invention concerns bismaleimide resins based a...</td>\n",
       "    </tr>\n",
       "    <tr>\n",
       "      <th>4</th>\n",
       "      <td>Augmented Reality</td>\n",
       "      <td>1</td>\n",
       "      <td>ET</td>\n",
       "      <td>New benzazepine derivatives, medicaments conta...</td>\n",
       "      <td>Benzofuro[3a,3,2,ef][2]benzazepines (I), their...</td>\n",
       "      <td>2</td>\n",
       "      <td>benzofuro 3a 3 2 ef 2 benzazepines ringopened ...</td>\n",
       "    </tr>\n",
       "  </tbody>\n",
       "</table>\n",
       "</div>"
      ],
      "text/plain": [
       "               keywds  num_keywds label  \\\n",
       "0   Augmented Reality           1    ET   \n",
       "1  Virtual Assistants           1    ET   \n",
       "2   Augmented Reality           1    ET   \n",
       "3   Augmented Reality           1    ET   \n",
       "4   Augmented Reality           1    ET   \n",
       "\n",
       "                                         appln_title  \\\n",
       "0  Method and apparatus for flame spraying refrac...   \n",
       "1       Anti-dazzle system for automobile headlights   \n",
       "2  Amidoimidobisphenoles, their preparation and t...   \n",
       "3  BISMALEIMIDE RESINS CONTAINING LESS THAN 0.1 W...   \n",
       "4  New benzazepine derivatives, medicaments conta...   \n",
       "\n",
       "                                         appln_abstr  num_label  \\\n",
       "0  A method and apparatus for flame spraying refa...          2   \n",
       "1  On the source vehicle (Ve), polarising screens...          2   \n",
       "2  Amidoimidobisphenols of the formula <IMAGE> in...          2   \n",
       "3  The invention concerns bismaleimide resins bas...          2   \n",
       "4  Benzofuro[3a,3,2,ef][2]benzazepines (I), their...          2   \n",
       "\n",
       "                                             cleaned  \n",
       "0  method apparatus flame spraying refactory mate...  \n",
       "1  source vehicle polarising screens 1 placed fro...  \n",
       "2  amidoimidobisphenols formula image ar pphenyle...  \n",
       "3  invention concerns bismaleimide resins based a...  \n",
       "4  benzofuro 3a 3 2 ef 2 benzazepines ringopened ...  "
      ]
     },
     "execution_count": 27,
     "metadata": {},
     "output_type": "execute_result"
    }
   ],
   "source": [
    "data.head()"
   ]
  },
  {
   "cell_type": "code",
   "execution_count": 28,
   "metadata": {},
   "outputs": [],
   "source": [
    "df_clean=data[['keywds','num_keywds','label','num_label','appln_title','cleaned']]"
   ]
  },
  {
   "cell_type": "code",
   "execution_count": 29,
   "metadata": {},
   "outputs": [],
   "source": [
    "import pickle\n",
    "df_clean.to_pickle('text_classify_clean.pkl')\n",
    "df_clean.to_csv('text_classify_clean.csv', index=False)"
   ]
  },
  {
   "cell_type": "markdown",
   "metadata": {},
   "source": [
    "### 4.2)-most common words"
   ]
  },
  {
   "cell_type": "code",
   "execution_count": 30,
   "metadata": {},
   "outputs": [
    {
     "data": {
      "text/plain": [
       "[('data', 208437),\n",
       " ('method', 200199),\n",
       " ('system', 187585),\n",
       " ('device', 182212),\n",
       " ('invention', 141250),\n",
       " ('information', 139659),\n",
       " ('image', 131075),\n",
       " ('power', 126920),\n",
       " ('carbon', 123515),\n",
       " ('one', 116804)]"
      ]
     },
     "execution_count": 30,
     "metadata": {},
     "output_type": "execute_result"
    }
   ],
   "source": [
    "# Dictionary of all words from train corpus with their counts.\n",
    "words_counts = {}\n",
    "\n",
    "from collections import Counter\n",
    "words_counts = Counter([word for line in data['cleaned'] for word in line.split(' ')])\n",
    "\n",
    "# Sorting \n",
    "most_common_words = sorted(words_counts.items(), key=lambda x: x[1], reverse=True)[:10]\n",
    "\n",
    "# Top 10\n",
    "most_common_words[:10]"
   ]
  },
  {
   "cell_type": "markdown",
   "metadata": {},
   "source": [
    "### 4.3)-Splitting data\n",
    "Split X and y into training and testing sets"
   ]
  },
  {
   "cell_type": "code",
   "execution_count": 31,
   "metadata": {},
   "outputs": [],
   "source": [
    "X=data['cleaned']\n",
    "y=data['num_label']"
   ]
  },
  {
   "cell_type": "code",
   "execution_count": 32,
   "metadata": {},
   "outputs": [
    {
     "data": {
      "text/plain": [
       "0    method apparatus flame spraying refactory mate...\n",
       "1    source vehicle polarising screens 1 placed fro...\n",
       "2    amidoimidobisphenols formula image ar pphenyle...\n",
       "3    invention concerns bismaleimide resins based a...\n",
       "4    benzofuro 3a 3 2 ef 2 benzazepines ringopened ...\n",
       "Name: cleaned, dtype: object"
      ]
     },
     "execution_count": 32,
     "metadata": {},
     "output_type": "execute_result"
    }
   ],
   "source": [
    "X.head()"
   ]
  },
  {
   "cell_type": "code",
   "execution_count": 33,
   "metadata": {},
   "outputs": [
    {
     "data": {
      "text/plain": [
       "0    2\n",
       "1    2\n",
       "2    2\n",
       "3    2\n",
       "4    2\n",
       "Name: num_label, dtype: int64"
      ]
     },
     "execution_count": 33,
     "metadata": {},
     "output_type": "execute_result"
    }
   ],
   "source": [
    "y[:5]"
   ]
  },
  {
   "cell_type": "code",
   "execution_count": 34,
   "metadata": {},
   "outputs": [
    {
     "name": "stdout",
     "output_type": "stream",
     "text": [
      "(283212,)\n",
      "(283212,)\n"
     ]
    }
   ],
   "source": [
    "print(X.shape)\n",
    "print(y.shape)"
   ]
  },
  {
   "cell_type": "code",
   "execution_count": 35,
   "metadata": {},
   "outputs": [
    {
     "name": "stdout",
     "output_type": "stream",
     "text": [
      "(212409,)\n",
      "(70803,)\n",
      "(212409,)\n",
      "(70803,)\n"
     ]
    }
   ],
   "source": [
    "from sklearn.model_selection import train_test_split\n",
    "X_train, X_test, y_train, y_test = train_test_split(X, y, random_state=1)\n",
    "print(X_train.shape)\n",
    "print(X_test.shape)\n",
    "print(y_train.shape)\n",
    "print(y_test.shape)"
   ]
  },
  {
   "cell_type": "markdown",
   "metadata": {},
   "source": [
    "### 4.4)- Vectorize\n",
    "\n",
    "Applying tf-idf"
   ]
  },
  {
   "cell_type": "code",
   "execution_count": 36,
   "metadata": {},
   "outputs": [],
   "source": [
    "from sklearn.feature_extraction.text import TfidfVectorizer\n",
    "\n",
    "def tfidf_features(X_train, X_test):\n",
    "    \"\"\"\n",
    "        X_train, X_val, X_test - input text       \n",
    "        return TF-IDF vectorizer for each dataset\n",
    "    \"\"\"\n",
    "    \n",
    "    # filter out too rare words (occur less than in 5 titles) and too frequent words (occur more than in 90% of the tweets)\n",
    "    # ngram!!! -->  ngram_range=(1,2)\n",
    "    tfidf_vectorizer = TfidfVectorizer(max_features=1000,ngram_range=(1,2), max_df=0.9, min_df=5, token_pattern='(\\S+)')\n",
    "    \n",
    "    # Fit and transform the vectorizer on the train set\n",
    "    X_train_tfidf = tfidf_vectorizer.fit_transform(X_train)\n",
    "    \n",
    "    # Only Transform the test sets \n",
    "    X_test_tfidf = tfidf_vectorizer.transform(X_test)\n",
    "    \n",
    "    return X_train_tfidf, X_test_tfidf, tfidf_vectorizer.vocabulary_\n",
    "    \n",
    "    \n",
    "X_train_tfidf, X_test_tfidf, tfidf_vocab = tfidf_features(X_train, X_test)"
   ]
  },
  {
   "cell_type": "code",
   "execution_count": 37,
   "metadata": {},
   "outputs": [],
   "source": [
    "# convert to dense array\n",
    "X_train_tfidf=X_train_tfidf.toarray()"
   ]
  },
  {
   "cell_type": "code",
   "execution_count": 38,
   "metadata": {},
   "outputs": [
    {
     "data": {
      "text/plain": [
       "array([[0.        , 0.05956327, 0.        , ..., 0.        , 0.        ,\n",
       "        0.        ],\n",
       "       [0.        , 0.        , 0.        , ..., 0.        , 0.        ,\n",
       "        0.        ],\n",
       "       [0.        , 0.04591913, 0.        , ..., 0.        , 0.        ,\n",
       "        0.        ],\n",
       "       ...,\n",
       "       [0.        , 0.10345984, 0.        , ..., 0.        , 0.        ,\n",
       "        0.        ],\n",
       "       [0.        , 0.        , 0.        , ..., 0.        , 0.        ,\n",
       "        0.        ],\n",
       "       [0.        , 0.17818871, 0.        , ..., 0.        , 0.        ,\n",
       "        0.        ]])"
      ]
     },
     "execution_count": 38,
     "metadata": {},
     "output_type": "execute_result"
    }
   ],
   "source": [
    "X_train_tfidf"
   ]
  },
  {
   "cell_type": "code",
   "execution_count": 39,
   "metadata": {},
   "outputs": [
    {
     "data": {
      "text/plain": [
       "numpy.ndarray"
      ]
     },
     "execution_count": 39,
     "metadata": {},
     "output_type": "execute_result"
    }
   ],
   "source": [
    "type(X_train_tfidf)"
   ]
  },
  {
   "cell_type": "code",
   "execution_count": 40,
   "metadata": {},
   "outputs": [],
   "source": [
    "X_test_tfidf=X_test_tfidf.toarray()"
   ]
  },
  {
   "cell_type": "code",
   "execution_count": 41,
   "metadata": {},
   "outputs": [
    {
     "data": {
      "text/plain": [
       "76984     0\n",
       "186850    0\n",
       "201257    0\n",
       "92072     0\n",
       "176148    0\n",
       "Name: num_label, dtype: int64"
      ]
     },
     "execution_count": 41,
     "metadata": {},
     "output_type": "execute_result"
    }
   ],
   "source": [
    "y_train[5:10]"
   ]
  },
  {
   "cell_type": "markdown",
   "metadata": {},
   "source": [
    "# 5)-Naive Bayes Model"
   ]
  },
  {
   "cell_type": "code",
   "execution_count": 42,
   "metadata": {},
   "outputs": [],
   "source": [
    "from sklearn.naive_bayes import MultinomialNB\n",
    "mnb = MultinomialNB()\n",
    "mnb.fit(X_train_tfidf,y_train)\n",
    "predmnb = mnb.predict(X_test_tfidf)"
   ]
  },
  {
   "cell_type": "code",
   "execution_count": 43,
   "metadata": {},
   "outputs": [
    {
     "data": {
      "text/plain": [
       "array([2, 2, 2, ..., 2, 0, 0], dtype=int64)"
      ]
     },
     "execution_count": 43,
     "metadata": {},
     "output_type": "execute_result"
    }
   ],
   "source": [
    "predmnb"
   ]
  },
  {
   "cell_type": "code",
   "execution_count": 44,
   "metadata": {},
   "outputs": [
    {
     "data": {
      "text/plain": [
       "[<matplotlib.lines.Line2D at 0x260ed31df60>]"
      ]
     },
     "execution_count": 44,
     "metadata": {},
     "output_type": "execute_result"
    },
    {
     "data": {
      "image/png": "[encoded data removed]",
      "text/plain": [
       "<matplotlib.figure.Figure at 0x260ecf6a668>"
      ]
     },
     "metadata": {
      "needs_background": "light"
     },
     "output_type": "display_data"
    }
   ],
   "source": [
    "import matplotlib.pyplot as plt\n",
    "plt.plot(predmnb, \"p\")"
   ]
  },
  {
   "cell_type": "code",
   "execution_count": 45,
   "metadata": {},
   "outputs": [
    {
     "data": {
      "text/plain": [
       "[<matplotlib.lines.Line2D at 0x260ba4b5d30>]"
      ]
     },
     "execution_count": 45,
     "metadata": {},
     "output_type": "execute_result"
    },
    {
     "data": {
      "image/png": "[encoded data removed]",
      "text/plain": [
       "<matplotlib.figure.Figure at 0x260ecf6a588>"
      ]
     },
     "metadata": {
      "needs_background": "light"
     },
     "output_type": "display_data"
    }
   ],
   "source": [
    "plt.plot(y_test, \"p\")"
   ]
  },
  {
   "cell_type": "markdown",
   "metadata": {},
   "source": [
    "### 5.1)-Making the confusion Matrix"
   ]
  },
  {
   "cell_type": "code",
   "execution_count": 46,
   "metadata": {},
   "outputs": [
    {
     "data": {
      "text/plain": [
       "array([[22941,     0,  3250],\n",
       "       [   21,    56,   364],\n",
       "       [ 3603,    42, 40526]], dtype=int64)"
      ]
     },
     "execution_count": 46,
     "metadata": {},
     "output_type": "execute_result"
    }
   ],
   "source": [
    "from sklearn.metrics import confusion_matrix\n",
    "cm = confusion_matrix(y_test, predmnb)\n",
    "cm"
   ]
  },
  {
   "cell_type": "markdown",
   "metadata": {},
   "source": [
    "### 5.2)-Checking accuracy score"
   ]
  },
  {
   "cell_type": "code",
   "execution_count": 47,
   "metadata": {},
   "outputs": [
    {
     "data": {
      "text/plain": [
       "0.8971794980438682"
      ]
     },
     "execution_count": 47,
     "metadata": {},
     "output_type": "execute_result"
    }
   ],
   "source": [
    "from sklearn.metrics import accuracy_score\n",
    "accuracy_score(y_test, predmnb)"
   ]
  },
  {
   "cell_type": "code",
   "execution_count": 48,
   "metadata": {},
   "outputs": [
    {
     "name": "stdout",
     "output_type": "stream",
     "text": [
      "              precision    recall  f1-score   support\n",
      "\n",
      "           0       0.86      0.88      0.87     26191\n",
      "           1       0.57      0.13      0.21       441\n",
      "           2       0.92      0.92      0.92     44171\n",
      "\n",
      "   micro avg       0.90      0.90      0.90     70803\n",
      "   macro avg       0.78      0.64      0.67     70803\n",
      "weighted avg       0.90      0.90      0.90     70803\n",
      "\n"
     ]
    }
   ],
   "source": [
    "from sklearn.metrics import classification_report\n",
    "print (classification_report(y_test, predmnb))"
   ]
  }
 ],
 "metadata": {
  "kernelspec": {
   "display_name": "Python 3",
   "language": "python",
   "name": "python3"
  },
  "language_info": {
   "codemirror_mode": {
    "name": "ipython",
    "version": 3
   },
   "file_extension": ".py",
   "mimetype": "text/x-python",
   "name": "python",
   "nbconvert_exporter": "python",
   "pygments_lexer": "ipython3",
   "version": "3.6.3"
  }
 },
 "nbformat": 4,
 "nbformat_minor": 2
}
