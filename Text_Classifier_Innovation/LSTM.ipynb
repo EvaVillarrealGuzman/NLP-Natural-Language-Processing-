{
 "cells": [
  {
   "cell_type": "markdown",
   "metadata": {},
   "source": [
    "# Applying RNN"
   ]
  },
  {
   "cell_type": "markdown",
   "metadata": {},
   "source": [
    "# 1)- Importing key modules"
   ]
  },
  {
   "cell_type": "code",
   "execution_count": 1,
   "metadata": {},
   "outputs": [],
   "source": [
    "# Let's be rebels and ignore warnings for now\n",
    "import warnings\n",
    "warnings.filterwarnings('ignore')"
   ]
  },
  {
   "cell_type": "code",
   "execution_count": 2,
   "metadata": {},
   "outputs": [],
   "source": [
    "import re    # for regular expressions \n",
    "import string \n",
    "import requests\n",
    "import pickle\n",
    "import numpy as np \n",
    "import pandas as pd \n",
    "import seaborn as sns \n",
    "import matplotlib.pyplot as plt\n",
    "%matplotlib inline"
   ]
  },
  {
   "cell_type": "code",
   "execution_count": 3,
   "metadata": {},
   "outputs": [
    {
     "name": "stdout",
     "output_type": "stream",
     "text": [
      "[nltk_data] Downloading package stopwords to\n",
      "[nltk_data]     C:\\Users\\69785hsh\\AppData\\Roaming\\nltk_data...\n",
      "[nltk_data]   Package stopwords is already up-to-date!\n"
     ]
    },
    {
     "name": "stderr",
     "output_type": "stream",
     "text": [
      "Using TensorFlow backend.\n"
     ]
    }
   ],
   "source": [
    "# for text analysis and model\n",
    "import nltk\n",
    "nltk.download('stopwords')\n",
    "from nltk.corpus import stopwords\n",
    "from sklearn.feature_extraction.text import CountVectorizer\n",
    "from keras.preprocessing.text import Tokenizer\n",
    "from keras.preprocessing.sequence import pad_sequences\n",
    "from keras.models import Sequential\n",
    "from keras.layers import Dense, Embedding, LSTM, SpatialDropout1D\n",
    "from keras.utils.np_utils import to_categorical"
   ]
  },
  {
   "cell_type": "code",
   "execution_count": 5,
   "metadata": {},
   "outputs": [],
   "source": [
    "# For Evaluation\n",
    "from sklearn.model_selection import train_test_split, cross_val_score\n",
    "from keras.utils import np_utils"
   ]
  },
  {
   "cell_type": "markdown",
   "metadata": {},
   "source": [
    "# 2)- Laod data\n",
    "\n",
    "pickle file from previous notebook i.e Create data"
   ]
  },
  {
   "cell_type": "code",
   "execution_count": 6,
   "metadata": {},
   "outputs": [
    {
     "data": {
      "text/html": [
       "<div>\n",
       "<style scoped>\n",
       "    .dataframe tbody tr th:only-of-type {\n",
       "        vertical-align: middle;\n",
       "    }\n",
       "\n",
       "    .dataframe tbody tr th {\n",
       "        vertical-align: top;\n",
       "    }\n",
       "\n",
       "    .dataframe thead th {\n",
       "        text-align: right;\n",
       "    }\n",
       "</style>\n",
       "<table border=\"1\" class=\"dataframe\">\n",
       "  <thead>\n",
       "    <tr style=\"text-align: right;\">\n",
       "      <th></th>\n",
       "      <th>keywds</th>\n",
       "      <th>num_keywds</th>\n",
       "      <th>label</th>\n",
       "      <th>num_label</th>\n",
       "      <th>appln_title</th>\n",
       "      <th>cleaned</th>\n",
       "    </tr>\n",
       "  </thead>\n",
       "  <tbody>\n",
       "    <tr>\n",
       "      <th>0</th>\n",
       "      <td>Augmented Reality</td>\n",
       "      <td>1</td>\n",
       "      <td>ET</td>\n",
       "      <td>2</td>\n",
       "      <td>Method and apparatus for flame spraying refrac...</td>\n",
       "      <td>method apparatus flame spraying refactory mate...</td>\n",
       "    </tr>\n",
       "    <tr>\n",
       "      <th>1</th>\n",
       "      <td>Virtual Assistants</td>\n",
       "      <td>1</td>\n",
       "      <td>ET</td>\n",
       "      <td>2</td>\n",
       "      <td>Anti-dazzle system for automobile headlights</td>\n",
       "      <td>source vehicle polarising screens 1 placed fro...</td>\n",
       "    </tr>\n",
       "    <tr>\n",
       "      <th>2</th>\n",
       "      <td>Augmented Reality</td>\n",
       "      <td>1</td>\n",
       "      <td>ET</td>\n",
       "      <td>2</td>\n",
       "      <td>Amidoimidobisphenoles, their preparation and t...</td>\n",
       "      <td>amidoimidobisphenols formula image ar pphenyle...</td>\n",
       "    </tr>\n",
       "    <tr>\n",
       "      <th>3</th>\n",
       "      <td>Augmented Reality</td>\n",
       "      <td>1</td>\n",
       "      <td>ET</td>\n",
       "      <td>2</td>\n",
       "      <td>BISMALEIMIDE RESINS CONTAINING LESS THAN 0.1 W...</td>\n",
       "      <td>invention concerns bismaleimide resins based a...</td>\n",
       "    </tr>\n",
       "    <tr>\n",
       "      <th>4</th>\n",
       "      <td>Augmented Reality</td>\n",
       "      <td>1</td>\n",
       "      <td>ET</td>\n",
       "      <td>2</td>\n",
       "      <td>New benzazepine derivatives, medicaments conta...</td>\n",
       "      <td>benzofuro 3a 3 2 ef 2 benzazepines ringopened ...</td>\n",
       "    </tr>\n",
       "  </tbody>\n",
       "</table>\n",
       "</div>"
      ],
      "text/plain": [
       "               keywds  num_keywds label  num_label  \\\n",
       "0   Augmented Reality           1    ET          2   \n",
       "1  Virtual Assistants           1    ET          2   \n",
       "2   Augmented Reality           1    ET          2   \n",
       "3   Augmented Reality           1    ET          2   \n",
       "4   Augmented Reality           1    ET          2   \n",
       "\n",
       "                                         appln_title  \\\n",
       "0  Method and apparatus for flame spraying refrac...   \n",
       "1       Anti-dazzle system for automobile headlights   \n",
       "2  Amidoimidobisphenoles, their preparation and t...   \n",
       "3  BISMALEIMIDE RESINS CONTAINING LESS THAN 0.1 W...   \n",
       "4  New benzazepine derivatives, medicaments conta...   \n",
       "\n",
       "                                             cleaned  \n",
       "0  method apparatus flame spraying refactory mate...  \n",
       "1  source vehicle polarising screens 1 placed fro...  \n",
       "2  amidoimidobisphenols formula image ar pphenyle...  \n",
       "3  invention concerns bismaleimide resins based a...  \n",
       "4  benzofuro 3a 3 2 ef 2 benzazepines ringopened ...  "
      ]
     },
     "execution_count": 6,
     "metadata": {},
     "output_type": "execute_result"
    }
   ],
   "source": [
    "df = pd.read_pickle('text_classify_clean.pkl')\n",
    "df.head()"
   ]
  },
  {
   "cell_type": "code",
   "execution_count": 7,
   "metadata": {},
   "outputs": [
    {
     "data": {
      "text/plain": [
       "(283212, 6)"
      ]
     },
     "execution_count": 7,
     "metadata": {},
     "output_type": "execute_result"
    }
   ],
   "source": [
    "df.shape"
   ]
  },
  {
   "cell_type": "markdown",
   "metadata": {},
   "source": [
    "### Splitting"
   ]
  },
  {
   "cell_type": "code",
   "execution_count": 8,
   "metadata": {},
   "outputs": [],
   "source": [
    "Y=df['label']\n",
    "X=df['cleaned']"
   ]
  },
  {
   "cell_type": "code",
   "execution_count": 9,
   "metadata": {},
   "outputs": [
    {
     "name": "stdout",
     "output_type": "stream",
     "text": [
      "(283212,)\n",
      "(283212,)\n"
     ]
    }
   ],
   "source": [
    "print(X.shape)\n",
    "print(Y.shape)"
   ]
  },
  {
   "cell_type": "markdown",
   "metadata": {},
   "source": [
    "# 3) Pre-processing for modeling"
   ]
  },
  {
   "cell_type": "markdown",
   "metadata": {},
   "source": [
    "### 3.1)- Convert words to matrix\n",
    "We need to convert words into matrices. One way is shown through sklearn. Other way is given. We can always match the two"
   ]
  },
  {
   "cell_type": "markdown",
   "metadata": {},
   "source": [
    "**i-I started by fitting a tokenizer on my document**"
   ]
  },
  {
   "cell_type": "code",
   "execution_count": 10,
   "metadata": {},
   "outputs": [],
   "source": [
    "# Fitting\n",
    "max_fatures = 2000\n",
    "tokenizer = Tokenizer(num_words=max_fatures, split=' ')\n",
    "tokenizer.fit_on_texts(X)"
   ]
  },
  {
   "cell_type": "markdown",
   "metadata": {},
   "source": [
    "**ii- I wanted to check if my data is fitted correctly so I converted into sequence**"
   ]
  },
  {
   "cell_type": "code",
   "execution_count": 11,
   "metadata": {},
   "outputs": [],
   "source": [
    "# convert to sequence\n",
    "X_token = tokenizer.texts_to_sequences(X)"
   ]
  },
  {
   "cell_type": "code",
   "execution_count": 12,
   "metadata": {},
   "outputs": [
    {
     "data": {
      "text/html": [
       "<div>\n",
       "<style scoped>\n",
       "    .dataframe tbody tr th:only-of-type {\n",
       "        vertical-align: middle;\n",
       "    }\n",
       "\n",
       "    .dataframe tbody tr th {\n",
       "        vertical-align: top;\n",
       "    }\n",
       "\n",
       "    .dataframe thead th {\n",
       "        text-align: right;\n",
       "    }\n",
       "</style>\n",
       "<table border=\"1\" class=\"dataframe\">\n",
       "  <thead>\n",
       "    <tr style=\"text-align: right;\">\n",
       "      <th></th>\n",
       "      <th>0</th>\n",
       "      <th>1</th>\n",
       "      <th>2</th>\n",
       "      <th>3</th>\n",
       "      <th>4</th>\n",
       "      <th>5</th>\n",
       "      <th>6</th>\n",
       "      <th>7</th>\n",
       "      <th>8</th>\n",
       "      <th>9</th>\n",
       "      <th>...</th>\n",
       "      <th>969</th>\n",
       "      <th>970</th>\n",
       "      <th>971</th>\n",
       "      <th>972</th>\n",
       "      <th>973</th>\n",
       "      <th>974</th>\n",
       "      <th>975</th>\n",
       "      <th>976</th>\n",
       "      <th>977</th>\n",
       "      <th>978</th>\n",
       "    </tr>\n",
       "  </thead>\n",
       "  <tbody>\n",
       "    <tr>\n",
       "      <th>0</th>\n",
       "      <td>2.0</td>\n",
       "      <td>88.0</td>\n",
       "      <td>1838.0</td>\n",
       "      <td>1835.0</td>\n",
       "      <td>32.0</td>\n",
       "      <td>285.0</td>\n",
       "      <td>754.0</td>\n",
       "      <td>29.0</td>\n",
       "      <td>653.0</td>\n",
       "      <td>504.0</td>\n",
       "      <td>...</td>\n",
       "      <td>NaN</td>\n",
       "      <td>NaN</td>\n",
       "      <td>NaN</td>\n",
       "      <td>NaN</td>\n",
       "      <td>NaN</td>\n",
       "      <td>NaN</td>\n",
       "      <td>NaN</td>\n",
       "      <td>NaN</td>\n",
       "      <td>NaN</td>\n",
       "      <td>NaN</td>\n",
       "    </tr>\n",
       "    <tr>\n",
       "      <th>1</th>\n",
       "      <td>116.0</td>\n",
       "      <td>87.0</td>\n",
       "      <td>15.0</td>\n",
       "      <td>865.0</td>\n",
       "      <td>455.0</td>\n",
       "      <td>93.0</td>\n",
       "      <td>1480.0</td>\n",
       "      <td>781.0</td>\n",
       "      <td>51.0</td>\n",
       "      <td>246.0</td>\n",
       "      <td>...</td>\n",
       "      <td>NaN</td>\n",
       "      <td>NaN</td>\n",
       "      <td>NaN</td>\n",
       "      <td>NaN</td>\n",
       "      <td>NaN</td>\n",
       "      <td>NaN</td>\n",
       "      <td>NaN</td>\n",
       "      <td>NaN</td>\n",
       "      <td>NaN</td>\n",
       "      <td>NaN</td>\n",
       "    </tr>\n",
       "    <tr>\n",
       "      <th>2</th>\n",
       "      <td>27.0</td>\n",
       "      <td>7.0</td>\n",
       "      <td>17.0</td>\n",
       "      <td>575.0</td>\n",
       "      <td>1321.0</td>\n",
       "      <td>52.0</td>\n",
       "      <td>1321.0</td>\n",
       "      <td>391.0</td>\n",
       "      <td>308.0</td>\n",
       "      <td>1538.0</td>\n",
       "      <td>...</td>\n",
       "      <td>NaN</td>\n",
       "      <td>NaN</td>\n",
       "      <td>NaN</td>\n",
       "      <td>NaN</td>\n",
       "      <td>NaN</td>\n",
       "      <td>NaN</td>\n",
       "      <td>NaN</td>\n",
       "      <td>NaN</td>\n",
       "      <td>NaN</td>\n",
       "      <td>NaN</td>\n",
       "    </tr>\n",
       "    <tr>\n",
       "      <th>3</th>\n",
       "      <td>5.0</td>\n",
       "      <td>23.0</td>\n",
       "      <td>166.0</td>\n",
       "      <td>71.0</td>\n",
       "      <td>149.0</td>\n",
       "      <td>460.0</td>\n",
       "      <td>1582.0</td>\n",
       "      <td>1139.0</td>\n",
       "      <td>912.0</td>\n",
       "      <td>166.0</td>\n",
       "      <td>...</td>\n",
       "      <td>NaN</td>\n",
       "      <td>NaN</td>\n",
       "      <td>NaN</td>\n",
       "      <td>NaN</td>\n",
       "      <td>NaN</td>\n",
       "      <td>NaN</td>\n",
       "      <td>NaN</td>\n",
       "      <td>NaN</td>\n",
       "      <td>NaN</td>\n",
       "      <td>NaN</td>\n",
       "    </tr>\n",
       "    <tr>\n",
       "      <th>4</th>\n",
       "      <td>51.0</td>\n",
       "      <td>22.0</td>\n",
       "      <td>22.0</td>\n",
       "      <td>117.0</td>\n",
       "      <td>310.0</td>\n",
       "      <td>618.0</td>\n",
       "      <td>486.0</td>\n",
       "      <td>501.0</td>\n",
       "      <td>703.0</td>\n",
       "      <td>346.0</td>\n",
       "      <td>...</td>\n",
       "      <td>NaN</td>\n",
       "      <td>NaN</td>\n",
       "      <td>NaN</td>\n",
       "      <td>NaN</td>\n",
       "      <td>NaN</td>\n",
       "      <td>NaN</td>\n",
       "      <td>NaN</td>\n",
       "      <td>NaN</td>\n",
       "      <td>NaN</td>\n",
       "      <td>NaN</td>\n",
       "    </tr>\n",
       "  </tbody>\n",
       "</table>\n",
       "<p>5 rows × 979 columns</p>\n",
       "</div>"
      ],
      "text/plain": [
       "     0     1       2       3       4      5       6       7      8       9    \\\n",
       "0    2.0  88.0  1838.0  1835.0    32.0  285.0   754.0    29.0  653.0   504.0   \n",
       "1  116.0  87.0    15.0   865.0   455.0   93.0  1480.0   781.0   51.0   246.0   \n",
       "2   27.0   7.0    17.0   575.0  1321.0   52.0  1321.0   391.0  308.0  1538.0   \n",
       "3    5.0  23.0   166.0    71.0   149.0  460.0  1582.0  1139.0  912.0   166.0   \n",
       "4   51.0  22.0    22.0   117.0   310.0  618.0   486.0   501.0  703.0   346.0   \n",
       "\n",
       "  ...   969  970  971  972  973  974  975  976  977  978  \n",
       "0 ...   NaN  NaN  NaN  NaN  NaN  NaN  NaN  NaN  NaN  NaN  \n",
       "1 ...   NaN  NaN  NaN  NaN  NaN  NaN  NaN  NaN  NaN  NaN  \n",
       "2 ...   NaN  NaN  NaN  NaN  NaN  NaN  NaN  NaN  NaN  NaN  \n",
       "3 ...   NaN  NaN  NaN  NaN  NaN  NaN  NaN  NaN  NaN  NaN  \n",
       "4 ...   NaN  NaN  NaN  NaN  NaN  NaN  NaN  NaN  NaN  NaN  \n",
       "\n",
       "[5 rows x 979 columns]"
      ]
     },
     "execution_count": 12,
     "metadata": {},
     "output_type": "execute_result"
    }
   ],
   "source": [
    "pd.DataFrame(X_token).head()"
   ]
  },
  {
   "cell_type": "code",
   "execution_count": 13,
   "metadata": {},
   "outputs": [
    {
     "data": {
      "text/plain": [
       "'method apparatus flame spraying refactory material situ repair eg furnace linings wherein inert carrier gas incapable supporting combustion particles refactory oxide combustible metal oxidizable material ar'"
      ]
     },
     "execution_count": 13,
     "metadata": {},
     "output_type": "execute_result"
    }
   ],
   "source": [
    "\n",
    "df['cleaned'][0]"
   ]
  },
  {
   "cell_type": "code",
   "execution_count": 14,
   "metadata": {},
   "outputs": [
    {
     "data": {
      "text/plain": [
       "'benzofuro 3a 3 2 ef 2 benzazepines ringopened form ii diazabicycloalkanes iii well enantiomers addition salts new z n n+ r6 r7 present r7 r1 r2 h f cl br cn nc oh sh no2 so3h nh2 nh2 cf3 16c sic optionally substituted ar alkyl ar alkoxy nh2 optionally mono disubstituted 16c ar alkyl ar alkylcarbonyl ar alkoxycarbonyl cooh coo ar alkyl conh con ar alkyl ch2 nq n 13 q cl br oh cooh cn nc r1+r2 chchchch ch2 r3 r1 especially oh ome r2+r3 ch2 r4 r5 either h alternatively combination h ar alkyl ar alkenyl ar alkynyl following sr8 sor8 so2r8 oh optionally protecting group eg tms tbdms ocsnr8 oconr9 ocor8 especially formula r4 r5 h may oh r4+r5 group formula nnhr10 nnr10r11 nor11 nnhc y1 q1 l ch2coobn ch2sme ph r8 h 110c optionally substituted ar alkyl r9 conhc h ph indicates optically active centre depicted alpha beta configurations r10 h 16c optionally substituted ar alkyl ar alkylcarbonyl ar alkylcarbonyloxy sulphonic acid group eg tosyl mesyl r11 r10 except ar alkylcarbonyloxy q1 y2 coor8 y1 y2 nh nr10 spare valencies h g1 g2 c r13r14 g1+g2 39c cycloalkan 1 2 diyl r13 r14 h oh lower optionally substituted ar alkyl aryl ar alkoxy aryloxy r13+r14 37c spiro ring 17 g3 ch2 co r6 g4 p g5 qg6 p q 0 1 g4 ch2 r c r15r16 ch2 r nr15 group formula f g h r 16 r15 r16 h lower optionally substituted ar alkyl cycloalkyl aryl 14 04 g7 nr15 g5 g4 p 1 g6 cho coor17 conhr17 lower optionally substituted ar alkyl ar alkenyl ar alkynyl cycloalkyl aryl or17 nr17r18 phthalimido cn nc group formula k r17r20 h lower optionally substituted ar alkyl cycloalkyl aryl r17+r18 r19+r20 38 ring c cycloalkyl g8 nh nr21 ch2 n r21 cho coor17 aryl heteroaryl preferably 2 4pyridyl 2pyrimidinyl optionally substituted 1 f cl br no2 nh2 oh alkyl alkoxy cn nc cf3 cho cooh cooalkyl so3h sh salkyl methyl mono di trisubstituted ph optionally substituted 1 f cl br no2 nh2 alkyl alkoxy cn nc cf3 r7 r6 free electron pair r6+r7 38 membered ring r22 hetero aryl optionally substituents heteroaryl group r21 methyl disubstituted phenyl optionally substituents heteroaryl group r21 r23 g5 q g4 pg9 g9 h f cl br oh ots oms otriflate cooh cocl cho or17 nr17r18 phthalimido cn nc group suitable nucleophilic substitutions addition condensation reactions etc x present inorganic organic acid ion'"
      ]
     },
     "execution_count": 14,
     "metadata": {},
     "output_type": "execute_result"
    }
   ],
   "source": [
    "df['cleaned'][4]"
   ]
  },
  {
   "cell_type": "code",
   "execution_count": 15,
   "metadata": {},
   "outputs": [
    {
     "data": {
      "text/plain": [
       "'source vehicle polarising screens 1 placed front headlight 5 polarise beams plane 3 screen 2 fitted receiving vehicles vr windscreen 6 opt drivers spectacles pulldown visor plane polarisation approximately orthogonal wrt incident beams light 2 perceived driver 4 severely reduced intensity due scattering effects 3 light received indirectly little affected polarisation driver thus receives adequate visual information approaching vehicle counter dazzle overtaking vehicles rear screen rearview mirror may opt also polarising screens'"
      ]
     },
     "execution_count": 15,
     "metadata": {},
     "output_type": "execute_result"
    }
   ],
   "source": [
    "df['cleaned'][1]"
   ]
  },
  {
   "cell_type": "markdown",
   "metadata": {},
   "source": [
    "**pad_sequence:To keep all vectors of same length, I will use pad_sequence**"
   ]
  },
  {
   "cell_type": "code",
   "execution_count": 16,
   "metadata": {},
   "outputs": [],
   "source": [
    "X_pd_sq = pad_sequences(X_token)"
   ]
  },
  {
   "cell_type": "code",
   "execution_count": 17,
   "metadata": {},
   "outputs": [
    {
     "data": {
      "text/html": [
       "<div>\n",
       "<style scoped>\n",
       "    .dataframe tbody tr th:only-of-type {\n",
       "        vertical-align: middle;\n",
       "    }\n",
       "\n",
       "    .dataframe tbody tr th {\n",
       "        vertical-align: top;\n",
       "    }\n",
       "\n",
       "    .dataframe thead th {\n",
       "        text-align: right;\n",
       "    }\n",
       "</style>\n",
       "<table border=\"1\" class=\"dataframe\">\n",
       "  <thead>\n",
       "    <tr style=\"text-align: right;\">\n",
       "      <th></th>\n",
       "      <th>0</th>\n",
       "      <th>1</th>\n",
       "      <th>2</th>\n",
       "      <th>3</th>\n",
       "      <th>4</th>\n",
       "      <th>5</th>\n",
       "      <th>6</th>\n",
       "      <th>7</th>\n",
       "      <th>8</th>\n",
       "      <th>9</th>\n",
       "      <th>...</th>\n",
       "      <th>969</th>\n",
       "      <th>970</th>\n",
       "      <th>971</th>\n",
       "      <th>972</th>\n",
       "      <th>973</th>\n",
       "      <th>974</th>\n",
       "      <th>975</th>\n",
       "      <th>976</th>\n",
       "      <th>977</th>\n",
       "      <th>978</th>\n",
       "    </tr>\n",
       "  </thead>\n",
       "  <tbody>\n",
       "    <tr>\n",
       "      <th>0</th>\n",
       "      <td>0</td>\n",
       "      <td>0</td>\n",
       "      <td>0</td>\n",
       "      <td>0</td>\n",
       "      <td>0</td>\n",
       "      <td>0</td>\n",
       "      <td>0</td>\n",
       "      <td>0</td>\n",
       "      <td>0</td>\n",
       "      <td>0</td>\n",
       "      <td>...</td>\n",
       "      <td>29</td>\n",
       "      <td>653</td>\n",
       "      <td>504</td>\n",
       "      <td>49</td>\n",
       "      <td>530</td>\n",
       "      <td>506</td>\n",
       "      <td>315</td>\n",
       "      <td>91</td>\n",
       "      <td>32</td>\n",
       "      <td>17</td>\n",
       "    </tr>\n",
       "    <tr>\n",
       "      <th>1</th>\n",
       "      <td>0</td>\n",
       "      <td>0</td>\n",
       "      <td>0</td>\n",
       "      <td>0</td>\n",
       "      <td>0</td>\n",
       "      <td>0</td>\n",
       "      <td>0</td>\n",
       "      <td>0</td>\n",
       "      <td>0</td>\n",
       "      <td>0</td>\n",
       "      <td>...</td>\n",
       "      <td>6</td>\n",
       "      <td>87</td>\n",
       "      <td>1606</td>\n",
       "      <td>1231</td>\n",
       "      <td>896</td>\n",
       "      <td>246</td>\n",
       "      <td>994</td>\n",
       "      <td>35</td>\n",
       "      <td>1738</td>\n",
       "      <td>86</td>\n",
       "    </tr>\n",
       "    <tr>\n",
       "      <th>2</th>\n",
       "      <td>0</td>\n",
       "      <td>0</td>\n",
       "      <td>0</td>\n",
       "      <td>0</td>\n",
       "      <td>0</td>\n",
       "      <td>0</td>\n",
       "      <td>0</td>\n",
       "      <td>0</td>\n",
       "      <td>0</td>\n",
       "      <td>0</td>\n",
       "      <td>...</td>\n",
       "      <td>158</td>\n",
       "      <td>1171</td>\n",
       "      <td>9</td>\n",
       "      <td>272</td>\n",
       "      <td>163</td>\n",
       "      <td>127</td>\n",
       "      <td>131</td>\n",
       "      <td>214</td>\n",
       "      <td>1382</td>\n",
       "      <td>166</td>\n",
       "    </tr>\n",
       "    <tr>\n",
       "      <th>3</th>\n",
       "      <td>0</td>\n",
       "      <td>0</td>\n",
       "      <td>0</td>\n",
       "      <td>0</td>\n",
       "      <td>0</td>\n",
       "      <td>0</td>\n",
       "      <td>0</td>\n",
       "      <td>0</td>\n",
       "      <td>0</td>\n",
       "      <td>0</td>\n",
       "      <td>...</td>\n",
       "      <td>196</td>\n",
       "      <td>1321</td>\n",
       "      <td>52</td>\n",
       "      <td>16</td>\n",
       "      <td>185</td>\n",
       "      <td>76</td>\n",
       "      <td>575</td>\n",
       "      <td>248</td>\n",
       "      <td>52</td>\n",
       "      <td>16</td>\n",
       "    </tr>\n",
       "    <tr>\n",
       "      <th>4</th>\n",
       "      <td>0</td>\n",
       "      <td>0</td>\n",
       "      <td>0</td>\n",
       "      <td>0</td>\n",
       "      <td>0</td>\n",
       "      <td>0</td>\n",
       "      <td>0</td>\n",
       "      <td>0</td>\n",
       "      <td>0</td>\n",
       "      <td>0</td>\n",
       "      <td>...</td>\n",
       "      <td>16</td>\n",
       "      <td>437</td>\n",
       "      <td>501</td>\n",
       "      <td>194</td>\n",
       "      <td>196</td>\n",
       "      <td>57</td>\n",
       "      <td>1585</td>\n",
       "      <td>238</td>\n",
       "      <td>132</td>\n",
       "      <td>461</td>\n",
       "    </tr>\n",
       "  </tbody>\n",
       "</table>\n",
       "<p>5 rows × 979 columns</p>\n",
       "</div>"
      ],
      "text/plain": [
       "   0    1    2    3    4    5    6    7    8    9   ...   969   970   971  \\\n",
       "0    0    0    0    0    0    0    0    0    0    0 ...    29   653   504   \n",
       "1    0    0    0    0    0    0    0    0    0    0 ...     6    87  1606   \n",
       "2    0    0    0    0    0    0    0    0    0    0 ...   158  1171     9   \n",
       "3    0    0    0    0    0    0    0    0    0    0 ...   196  1321    52   \n",
       "4    0    0    0    0    0    0    0    0    0    0 ...    16   437   501   \n",
       "\n",
       "    972  973  974   975  976   977  978  \n",
       "0    49  530  506   315   91    32   17  \n",
       "1  1231  896  246   994   35  1738   86  \n",
       "2   272  163  127   131  214  1382  166  \n",
       "3    16  185   76   575  248    52   16  \n",
       "4   194  196   57  1585  238   132  461  \n",
       "\n",
       "[5 rows x 979 columns]"
      ]
     },
     "execution_count": 17,
     "metadata": {},
     "output_type": "execute_result"
    }
   ],
   "source": [
    "pd.DataFrame(X_pd_sq).head()"
   ]
  },
  {
   "cell_type": "code",
   "execution_count": 18,
   "metadata": {},
   "outputs": [
    {
     "data": {
      "text/plain": [
       "(283212, 979)"
      ]
     },
     "execution_count": 18,
     "metadata": {},
     "output_type": "execute_result"
    }
   ],
   "source": [
    "X_pd_sq.shape"
   ]
  },
  {
   "cell_type": "markdown",
   "metadata": {},
   "source": [
    "### All in one step"
   ]
  },
  {
   "cell_type": "code",
   "execution_count": null,
   "metadata": {},
   "outputs": [],
   "source": [
    "#max_fatures = 2000\n",
    "#tokenizer = Tokenizer(num_words=max_fatures, split=' ')\n",
    "#tokenizer.fit_on_texts(X)\n",
    "#X = tokenizer.texts_to_sequences(X)\n",
    "#X = pad_sequences(X)"
   ]
  },
  {
   "cell_type": "markdown",
   "metadata": {},
   "source": [
    "### 3.2)-Train-test split"
   ]
  },
  {
   "cell_type": "code",
   "execution_count": 19,
   "metadata": {},
   "outputs": [],
   "source": [
    "from sklearn.model_selection import train_test_split\n",
    "X_train, X_test, y_train, y_test = train_test_split(X_pd_sq, Y, random_state=2019)"
   ]
  },
  {
   "cell_type": "code",
   "execution_count": 20,
   "metadata": {},
   "outputs": [
    {
     "data": {
      "text/plain": [
       "((212409, 979), (70803, 979))"
      ]
     },
     "execution_count": 20,
     "metadata": {},
     "output_type": "execute_result"
    }
   ],
   "source": [
    "X_train.shape, X_test.shape"
   ]
  },
  {
   "cell_type": "code",
   "execution_count": 21,
   "metadata": {},
   "outputs": [
    {
     "name": "stdout",
     "output_type": "stream",
     "text": [
      "(212409,)\n",
      "(70803,)\n"
     ]
    }
   ],
   "source": [
    "print(y_train.shape)\n",
    "print(y_test.shape)"
   ]
  },
  {
   "cell_type": "markdown",
   "metadata": {},
   "source": [
    "### 3.3)-Encoding y-labeled feature"
   ]
  },
  {
   "cell_type": "code",
   "execution_count": 22,
   "metadata": {},
   "outputs": [],
   "source": [
    "# keras needs inputs to be vectors , so one hot encoding values\n",
    "from keras.utils import np_utils\n",
    "def one_hot_encode_object_array(arr):\n",
    "    '''One hot encode a numpy array of objects (e.g. strings)'''\n",
    "    uniques, ids = np.unique(arr, return_inverse=True)\n",
    "    return np_utils.to_categorical(ids, len(uniques))\n",
    "\n",
    "y_train_ohe=one_hot_encode_object_array(y_train)\n",
    "y_test_ohe=one_hot_encode_object_array(y_test)"
   ]
  },
  {
   "cell_type": "code",
   "execution_count": 23,
   "metadata": {},
   "outputs": [
    {
     "data": {
      "text/plain": [
       "147581     ET\n",
       "257498    NET\n",
       "53516     NET\n",
       "246151     ET\n",
       "16850      ET\n",
       "Name: label, dtype: object"
      ]
     },
     "execution_count": 23,
     "metadata": {},
     "output_type": "execute_result"
    }
   ],
   "source": [
    "y_train[:5]"
   ]
  },
  {
   "cell_type": "code",
   "execution_count": 24,
   "metadata": {},
   "outputs": [
    {
     "data": {
      "text/plain": [
       "array([[0., 1., 0.],\n",
       "       [0., 0., 1.],\n",
       "       [0., 0., 1.],\n",
       "       [0., 1., 0.],\n",
       "       [0., 1., 0.]], dtype=float32)"
      ]
     },
     "execution_count": 24,
     "metadata": {},
     "output_type": "execute_result"
    }
   ],
   "source": [
    "y_train_ohe[:5]"
   ]
  },
  {
   "cell_type": "markdown",
   "metadata": {},
   "source": [
    "- 0,1,0 is ET\n",
    "- 0,0,1 is NET\n",
    "- 1,0,0 is CET"
   ]
  },
  {
   "cell_type": "code",
   "execution_count": 31,
   "metadata": {},
   "outputs": [
    {
     "data": {
      "text/plain": [
       "['ET', 'NET', 'CET']"
      ]
     },
     "execution_count": 31,
     "metadata": {},
     "output_type": "execute_result"
    }
   ],
   "source": [
    "unique_y_labels = list(y_train.value_counts().index)\n",
    "unique_y_labels"
   ]
  },
  {
   "cell_type": "code",
   "execution_count": 32,
   "metadata": {},
   "outputs": [
    {
     "data": {
      "text/plain": [
       "3"
      ]
     },
     "execution_count": 32,
     "metadata": {},
     "output_type": "execute_result"
    }
   ],
   "source": [
    "len(unique_y_labels)"
   ]
  },
  {
   "cell_type": "code",
   "execution_count": 33,
   "metadata": {},
   "outputs": [
    {
     "data": {
      "text/plain": [
       "979"
      ]
     },
     "execution_count": 33,
     "metadata": {},
     "output_type": "execute_result"
    }
   ],
   "source": [
    "X_train.shape[1]"
   ]
  },
  {
   "cell_type": "markdown",
   "metadata": {},
   "source": [
    "# 4)- Build LSTM model"
   ]
  },
  {
   "cell_type": "code",
   "execution_count": 35,
   "metadata": {},
   "outputs": [],
   "source": [
    "embed_dim = 128\n",
    "lstm_out = 196\n",
    "max_fatures = 2000\n",
    "size_of_each_vect=X_train.shape[1]\n",
    "uniq_y_label=len(unique_y_labels)"
   ]
  },
  {
   "cell_type": "code",
   "execution_count": 36,
   "metadata": {},
   "outputs": [
    {
     "name": "stdout",
     "output_type": "stream",
     "text": [
      "WARNING:tensorflow:From C:\\Program Files\\Anaconda3\\lib\\site-packages\\tensorflow\\python\\framework\\op_def_library.py:263: colocate_with (from tensorflow.python.framework.ops) is deprecated and will be removed in a future version.\n",
      "Instructions for updating:\n",
      "Colocations handled automatically by placer.\n",
      "WARNING:tensorflow:From C:\\Users\\69785hsh\\AppData\\Roaming\\Python\\Python36\\site-packages\\keras\\backend\\tensorflow_backend.py:3445: calling dropout (from tensorflow.python.ops.nn_ops) with keep_prob is deprecated and will be removed in a future version.\n",
      "Instructions for updating:\n",
      "Please use `rate` instead of `keep_prob`. Rate should be set to `rate = 1 - keep_prob`.\n",
      "_________________________________________________________________\n",
      "Layer (type)                 Output Shape              Param #   \n",
      "=================================================================\n",
      "embedding_1 (Embedding)      (None, 979, 128)          256000    \n",
      "_________________________________________________________________\n",
      "spatial_dropout1d_1 (Spatial (None, 979, 128)          0         \n",
      "_________________________________________________________________\n",
      "lstm_1 (LSTM)                (None, 196)               254800    \n",
      "_________________________________________________________________\n",
      "dense_1 (Dense)              (None, 3)                 591       \n",
      "=================================================================\n",
      "Total params: 511,391\n",
      "Trainable params: 511,391\n",
      "Non-trainable params: 0\n",
      "_________________________________________________________________\n",
      "None\n"
     ]
    }
   ],
   "source": [
    "model = Sequential()\n",
    "model.add(Embedding(max_fatures, embed_dim,input_length = size_of_each_vect))\n",
    "# X.shape[1] refers to 23 columns \n",
    "model.add(SpatialDropout1D(0.4))\n",
    "model.add(LSTM(lstm_out, dropout=0.2, recurrent_dropout=0.2))\n",
    "model.add(Dense(uniq_y_label,activation='softmax'))\n",
    "model.compile(loss = 'categorical_crossentropy', optimizer='adam',metrics = ['accuracy'])\n",
    "print(model.summary())"
   ]
  },
  {
   "cell_type": "markdown",
   "metadata": {},
   "source": [
    "### 4.1)-Train model"
   ]
  },
  {
   "cell_type": "code",
   "execution_count": 37,
   "metadata": {},
   "outputs": [],
   "source": [
    "batch_size = 32\n",
    "epochs = 20"
   ]
  },
  {
   "cell_type": "code",
   "execution_count": 38,
   "metadata": {},
   "outputs": [],
   "source": [
    "from keras.callbacks import EarlyStopping"
   ]
  },
  {
   "cell_type": "code",
   "execution_count": 39,
   "metadata": {},
   "outputs": [
    {
     "name": "stdout",
     "output_type": "stream",
     "text": [
      "WARNING:tensorflow:From C:\\Program Files\\Anaconda3\\lib\\site-packages\\tensorflow\\python\\ops\\math_ops.py:3066: to_int32 (from tensorflow.python.ops.math_ops) is deprecated and will be removed in a future version.\n",
      "Instructions for updating:\n",
      "Use tf.cast instead.\n",
      "Train on 191168 samples, validate on 21241 samples\n",
      "Epoch 1/20\n",
      "191168/191168 [==============================] - 5875s 31ms/step - loss: 0.1709 - acc: 0.9309 - val_loss: 0.0967 - val_acc: 0.9595\n",
      "Epoch 2/20\n",
      "191168/191168 [==============================] - 5553s 29ms/step - loss: 0.0929 - acc: 0.9614 - val_loss: 0.0835 - val_acc: 0.9675\n",
      "Epoch 3/20\n",
      "191168/191168 [==============================] - 5577s 29ms/step - loss: 0.0801 - acc: 0.9669 - val_loss: 0.0777 - val_acc: 0.9690\n",
      "Epoch 4/20\n",
      "191168/191168 [==============================] - 5637s 29ms/step - loss: 0.0722 - acc: 0.9699 - val_loss: 0.0787 - val_acc: 0.9686\n",
      "Epoch 5/20\n",
      "191168/191168 [==============================] - 5703s 30ms/step - loss: 0.0671 - acc: 0.9721 - val_loss: 0.0752 - val_acc: 0.9697\n",
      "Epoch 6/20\n",
      "191168/191168 [==============================] - 5749s 30ms/step - loss: 0.0627 - acc: 0.9737 - val_loss: 0.0755 - val_acc: 0.9707\n",
      "Epoch 7/20\n",
      "191168/191168 [==============================] - 5786s 30ms/step - loss: 0.0576 - acc: 0.9755 - val_loss: 0.0776 - val_acc: 0.9716\n",
      "Epoch 8/20\n",
      "191168/191168 [==============================] - 5828s 30ms/step - loss: 0.0550 - acc: 0.9765 - val_loss: 0.0760 - val_acc: 0.9711\n"
     ]
    }
   ],
   "source": [
    "history = model.fit(X_train, y_train_ohe, epochs=epochs, batch_size=batch_size,validation_split=0.1,callbacks=[EarlyStopping(monitor='val_loss', patience=3, min_delta=0.0001)])"
   ]
  },
  {
   "cell_type": "markdown",
   "metadata": {},
   "source": [
    "# 5) Evaluate"
   ]
  },
  {
   "cell_type": "code",
   "execution_count": 40,
   "metadata": {},
   "outputs": [],
   "source": [
    "y_pred = model.predict(X_test)"
   ]
  },
  {
   "cell_type": "code",
   "execution_count": 41,
   "metadata": {},
   "outputs": [
    {
     "data": {
      "text/plain": [
       "array([[1.31193106e-03, 9.98389244e-01, 2.98810191e-04],\n",
       "       [2.86681403e-04, 9.99709904e-01, 3.39025723e-06],\n",
       "       [1.09270383e-02, 9.88953829e-01, 1.19207456e-04],\n",
       "       [2.80342269e-04, 9.99011874e-01, 7.07702828e-04],\n",
       "       [1.28011152e-06, 2.71332974e-04, 9.99727428e-01]], dtype=float32)"
      ]
     },
     "execution_count": 41,
     "metadata": {},
     "output_type": "execute_result"
    }
   ],
   "source": [
    "y_pred[:5]"
   ]
  },
  {
   "cell_type": "markdown",
   "metadata": {},
   "source": [
    "**These are probabilities of output**"
   ]
  },
  {
   "cell_type": "code",
   "execution_count": 42,
   "metadata": {},
   "outputs": [
    {
     "data": {
      "text/plain": [
       "array([[0., 1., 0.],\n",
       "       [0., 1., 0.],\n",
       "       [0., 1., 0.],\n",
       "       [0., 1., 0.],\n",
       "       [0., 0., 1.]], dtype=float32)"
      ]
     },
     "execution_count": 42,
     "metadata": {},
     "output_type": "execute_result"
    }
   ],
   "source": [
    "y_test_ohe[:5]"
   ]
  },
  {
   "cell_type": "markdown",
   "metadata": {},
   "source": [
    "**Converting prob. into crisp classes i.e in 1D.**"
   ]
  },
  {
   "cell_type": "code",
   "execution_count": 43,
   "metadata": {},
   "outputs": [],
   "source": [
    "## predict crisp classes for test set. Output will be 1-D\n",
    "y_test_class = np.argmax(y_test_ohe,axis=1)\n",
    "y_pred_class = np.argmax(y_pred,axis=1)"
   ]
  },
  {
   "cell_type": "code",
   "execution_count": 44,
   "metadata": {},
   "outputs": [
    {
     "data": {
      "text/plain": [
       "array([1, 1, 1, 1, 2], dtype=int64)"
      ]
     },
     "execution_count": 44,
     "metadata": {},
     "output_type": "execute_result"
    }
   ],
   "source": [
    "y_test_class[:5]"
   ]
  },
  {
   "cell_type": "markdown",
   "metadata": {},
   "source": [
    "### 5 a)-Classification Report"
   ]
  },
  {
   "cell_type": "code",
   "execution_count": 45,
   "metadata": {},
   "outputs": [
    {
     "name": "stdout",
     "output_type": "stream",
     "text": [
      "              precision    recall  f1-score   support\n",
      "\n",
      "           0       0.83      0.48      0.61       452\n",
      "           1       0.98      0.97      0.98     44011\n",
      "           2       0.95      0.98      0.96     26340\n",
      "\n",
      "   micro avg       0.97      0.97      0.97     70803\n",
      "   macro avg       0.92      0.81      0.85     70803\n",
      "weighted avg       0.97      0.97      0.97     70803\n",
      "\n"
     ]
    }
   ],
   "source": [
    "from sklearn.metrics import classification_report,confusion_matrix\n",
    "print(classification_report(y_test_class,y_pred_class))"
   ]
  },
  {
   "cell_type": "markdown",
   "metadata": {},
   "source": [
    "### 5 b)-Confusion Matrix"
   ]
  },
  {
   "cell_type": "code",
   "execution_count": 46,
   "metadata": {},
   "outputs": [
    {
     "name": "stdout",
     "output_type": "stream",
     "text": [
      "[[  216   227     9]\n",
      " [   43 42659  1309]\n",
      " [    0   561 25779]]\n"
     ]
    }
   ],
   "source": [
    "print(confusion_matrix(y_test_class,y_pred_class))"
   ]
  },
  {
   "cell_type": "markdown",
   "metadata": {},
   "source": [
    "### 5 c)- Loss and Accuracy"
   ]
  },
  {
   "cell_type": "code",
   "execution_count": 47,
   "metadata": {},
   "outputs": [
    {
     "name": "stdout",
     "output_type": "stream",
     "text": [
      "Training Accuracy: 0.9802\n",
      "Training Loss: 0.0442\n"
     ]
    }
   ],
   "source": [
    "# For training data\n",
    "loss, accuracy = model.evaluate(X_train, y_train_ohe, verbose=False)\n",
    "print(\"Training Accuracy: {:.4f}\".format(accuracy))\n",
    "print(\"Training Loss: {:.4f}\".format(loss))"
   ]
  },
  {
   "cell_type": "code",
   "execution_count": 48,
   "metadata": {},
   "outputs": [
    {
     "name": "stdout",
     "output_type": "stream",
     "text": [
      "Testing Accuracy:  0.9696\n",
      "Testing Loss:  0.0797\n"
     ]
    }
   ],
   "source": [
    "# For test data\n",
    "loss, accuracy = model.evaluate(X_test, y_test_ohe, verbose=False)\n",
    "print(\"Testing Accuracy:  {:.4f}\".format(accuracy))\n",
    "print(\"Testing Loss:  {:.4f}\".format(loss))"
   ]
  },
  {
   "cell_type": "code",
   "execution_count": 49,
   "metadata": {},
   "outputs": [],
   "source": [
    "import matplotlib.pyplot as plt\n",
    "plt.style.use('ggplot')\n",
    "\n",
    "def plot_history(history):\n",
    "    acc = history.history['acc']\n",
    "    val_acc = history.history['val_acc']\n",
    "    loss = history.history['loss']\n",
    "    val_loss = history.history['val_loss']\n",
    "    x = range(1, len(acc) + 1)\n",
    "\n",
    "    plt.figure(figsize=(12, 5))\n",
    "    plt.subplot(1, 2, 1)\n",
    "    plt.plot(x, acc, 'b', label='Training acc')\n",
    "    plt.plot(x, val_acc, 'r', label='Validation acc')\n",
    "    plt.title('Training and validation accuracy')\n",
    "    plt.legend()\n",
    "    plt.subplot(1, 2, 2)\n",
    "    plt.plot(x, loss, 'b', label='Training loss')\n",
    "    plt.plot(x, val_loss, 'r', label='Validation loss')\n",
    "    plt.title('Training and validation loss')\n",
    "    plt.legend()"
   ]
  },
  {
   "cell_type": "code",
   "execution_count": 50,
   "metadata": {},
   "outputs": [
    {
     "data": {
      "image/png": "[encoded data removed]",
      "text/plain": [
       "<matplotlib.figure.Figure at 0x15855fbbe10>"
      ]
     },
     "metadata": {},
     "output_type": "display_data"
    }
   ],
   "source": [
    "plot_history(history)"
   ]
  },
  {
   "cell_type": "code",
   "execution_count": null,
   "metadata": {},
   "outputs": [],
   "source": []
  }
 ],
 "metadata": {
  "kernelspec": {
   "display_name": "Python 3",
   "language": "python",
   "name": "python3"
  },
  "language_info": {
   "codemirror_mode": {
    "name": "ipython",
    "version": 3
   },
   "file_extension": ".py",
   "mimetype": "text/x-python",
   "name": "python",
   "nbconvert_exporter": "python",
   "pygments_lexer": "ipython3",
   "version": "3.6.3"
  }
 },
 "nbformat": 4,
 "nbformat_minor": 2
}
