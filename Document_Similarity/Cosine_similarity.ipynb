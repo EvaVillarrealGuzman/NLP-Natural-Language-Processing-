{
 "cells": [
  {
   "cell_type": "markdown",
   "metadata": {},
   "source": [
    "# How similar are patent documents"
   ]
  },
  {
   "cell_type": "code",
   "execution_count": 1,
   "metadata": {},
   "outputs": [],
   "source": [
    "import warnings\n",
    "warnings.filterwarnings('ignore')"
   ]
  },
  {
   "cell_type": "code",
   "execution_count": 2,
   "metadata": {},
   "outputs": [],
   "source": [
    "import sklearn\n",
    "import pandas as pd"
   ]
  },
  {
   "cell_type": "code",
   "execution_count": 3,
   "metadata": {},
   "outputs": [],
   "source": [
    "# Define the documents\n",
    "doc_patent1 = \" A motive power system includes a first energy storage, a second energy storage, an actuator, an internal combustion engine, a power transmission circuit, and circuitry. The circuitry is configured to control the power transmission circuit in a charge-depleting mode such that the first energy storage supplies to the actuator a first electric energy that is stored in the first energy storage with a first charge rate range and the second energy storage supplies to the actuator a second electric energy that is stored in the second energy storage with a second charge rate range. The first charge rate range is larger than the second charge rate range.\"\n",
    "\n",
    "doc_patent2 = \"An apparatus includes a pump circuit structured to receive pump data indicative of an operating characteristic of a pump feeding a fluid to a waste heat recovery (WHR) system; a flow circuit structured to receive valve position data indicative of a position of a valve downstream of the pump, estimate a flow rate of the fluid exiting the pump, and estimate the flow rate of the fluid exiting the valve; and a pressure circuit structured to receive pressure data indicative of the pressure of the fluid exiting the valve, estimate a change in pressure of the fluid across the WHR system, and determine a pressure of the fluid in a hot section of the WHR system based on the pressure of the fluid exiting the valve and the change in the pressure of the fluid across the WHR system\"\n",
    "\n",
    "doc_patent3 = \"The present invention provides specific systems, methods and algorithms based on artificial intelligence expert system technology for determination of preferred routes of travel for electric vehicles (EVs). The systems, methods and algorithms provide such route guidance for battery-operated EVs in-route to a desired destination, but lacking sufficient battery energy to reach the destination from the current location of the EV. The systems and methods of the present invention disclose use of one or more specifically programmed computer machines with artificial intelligence expert system battery energy management and navigation route control. Such specifically programmed computer machines may be located in the EV and/or cloud-based or remote computer/data processing systems for the determination of preferred routes of travel, including intermediate stops at designated battery charging or replenishing stations.\"\n",
    "\n",
    "documents = [doc_patent1, doc_patent2, doc_patent3]"
   ]
  },
  {
   "cell_type": "code",
   "execution_count": 4,
   "metadata": {},
   "outputs": [],
   "source": [
    "from sklearn.feature_extraction.text import CountVectorizer"
   ]
  },
  {
   "cell_type": "markdown",
   "metadata": {},
   "source": [
    "### Create the Document Term Matrix using count vector"
   ]
  },
  {
   "cell_type": "code",
   "execution_count": 5,
   "metadata": {},
   "outputs": [],
   "source": [
    "count_vectorizer = CountVectorizer(stop_words='english')\n",
    "count_vectorizer = CountVectorizer()\n",
    "sparse_matrix = count_vectorizer.fit_transform(documents)"
   ]
  },
  {
   "cell_type": "code",
   "execution_count": 6,
   "metadata": {},
   "outputs": [],
   "source": [
    "#Convert Sparse Matrix to Pandas Dataframe\n",
    "doc_term_matrix = sparse_matrix.todense()\n",
    "df1 = pd.DataFrame(doc_term_matrix, \n",
    "                  columns=count_vectorizer.get_feature_names(), \n",
    "                  index=['doc_1', 'doc_2', 'doc_3'])"
   ]
  },
  {
   "cell_type": "code",
   "execution_count": 7,
   "metadata": {},
   "outputs": [
    {
     "data": {
      "text/html": [
       "<div>\n",
       "<style scoped>\n",
       "    .dataframe tbody tr th:only-of-type {\n",
       "        vertical-align: middle;\n",
       "    }\n",
       "\n",
       "    .dataframe tbody tr th {\n",
       "        vertical-align: top;\n",
       "    }\n",
       "\n",
       "    .dataframe thead th {\n",
       "        text-align: right;\n",
       "    }\n",
       "</style>\n",
       "<table border=\"1\" class=\"dataframe\">\n",
       "  <thead>\n",
       "    <tr style=\"text-align: right;\">\n",
       "      <th></th>\n",
       "      <th>across</th>\n",
       "      <th>actuator</th>\n",
       "      <th>algorithms</th>\n",
       "      <th>an</th>\n",
       "      <th>and</th>\n",
       "      <th>apparatus</th>\n",
       "      <th>artificial</th>\n",
       "      <th>at</th>\n",
       "      <th>based</th>\n",
       "      <th>battery</th>\n",
       "      <th>...</th>\n",
       "      <th>the</th>\n",
       "      <th>to</th>\n",
       "      <th>transmission</th>\n",
       "      <th>travel</th>\n",
       "      <th>use</th>\n",
       "      <th>valve</th>\n",
       "      <th>vehicles</th>\n",
       "      <th>waste</th>\n",
       "      <th>whr</th>\n",
       "      <th>with</th>\n",
       "    </tr>\n",
       "  </thead>\n",
       "  <tbody>\n",
       "    <tr>\n",
       "      <th>doc_1</th>\n",
       "      <td>0</td>\n",
       "      <td>3</td>\n",
       "      <td>0</td>\n",
       "      <td>2</td>\n",
       "      <td>2</td>\n",
       "      <td>0</td>\n",
       "      <td>0</td>\n",
       "      <td>0</td>\n",
       "      <td>0</td>\n",
       "      <td>0</td>\n",
       "      <td>...</td>\n",
       "      <td>10</td>\n",
       "      <td>3</td>\n",
       "      <td>2</td>\n",
       "      <td>0</td>\n",
       "      <td>0</td>\n",
       "      <td>0</td>\n",
       "      <td>0</td>\n",
       "      <td>0</td>\n",
       "      <td>0</td>\n",
       "      <td>2</td>\n",
       "    </tr>\n",
       "    <tr>\n",
       "      <th>doc_2</th>\n",
       "      <td>2</td>\n",
       "      <td>0</td>\n",
       "      <td>0</td>\n",
       "      <td>2</td>\n",
       "      <td>4</td>\n",
       "      <td>1</td>\n",
       "      <td>0</td>\n",
       "      <td>0</td>\n",
       "      <td>1</td>\n",
       "      <td>0</td>\n",
       "      <td>...</td>\n",
       "      <td>20</td>\n",
       "      <td>4</td>\n",
       "      <td>0</td>\n",
       "      <td>0</td>\n",
       "      <td>0</td>\n",
       "      <td>5</td>\n",
       "      <td>0</td>\n",
       "      <td>1</td>\n",
       "      <td>4</td>\n",
       "      <td>0</td>\n",
       "    </tr>\n",
       "    <tr>\n",
       "      <th>doc_3</th>\n",
       "      <td>0</td>\n",
       "      <td>0</td>\n",
       "      <td>2</td>\n",
       "      <td>0</td>\n",
       "      <td>5</td>\n",
       "      <td>0</td>\n",
       "      <td>2</td>\n",
       "      <td>1</td>\n",
       "      <td>2</td>\n",
       "      <td>4</td>\n",
       "      <td>...</td>\n",
       "      <td>9</td>\n",
       "      <td>2</td>\n",
       "      <td>0</td>\n",
       "      <td>2</td>\n",
       "      <td>1</td>\n",
       "      <td>0</td>\n",
       "      <td>1</td>\n",
       "      <td>0</td>\n",
       "      <td>0</td>\n",
       "      <td>1</td>\n",
       "    </tr>\n",
       "  </tbody>\n",
       "</table>\n",
       "<p>3 rows × 123 columns</p>\n",
       "</div>"
      ],
      "text/plain": [
       "       across  actuator  algorithms  an  and  apparatus  artificial  at  \\\n",
       "doc_1       0         3           0   2    2          0           0   0   \n",
       "doc_2       2         0           0   2    4          1           0   0   \n",
       "doc_3       0         0           2   0    5          0           2   1   \n",
       "\n",
       "       based  battery  ...   the  to  transmission  travel  use  valve  \\\n",
       "doc_1      0        0  ...    10   3             2       0    0      0   \n",
       "doc_2      1        0  ...    20   4             0       0    0      5   \n",
       "doc_3      2        4  ...     9   2             0       2    1      0   \n",
       "\n",
       "       vehicles  waste  whr  with  \n",
       "doc_1         0      0    0     2  \n",
       "doc_2         0      1    4     0  \n",
       "doc_3         1      0    0     1  \n",
       "\n",
       "[3 rows x 123 columns]"
      ]
     },
     "execution_count": 7,
     "metadata": {},
     "output_type": "execute_result"
    }
   ],
   "source": [
    "df1"
   ]
  },
  {
   "cell_type": "markdown",
   "metadata": {},
   "source": [
    "### Create the Document Term Matrix using TFIDF"
   ]
  },
  {
   "cell_type": "code",
   "execution_count": 8,
   "metadata": {},
   "outputs": [],
   "source": [
    "from sklearn.feature_extraction.text import TfidfVectorizer\n",
    "tfidf_vec = TfidfVectorizer()\n",
    "sparse_matrix2= tfidf_vec.fit_transform(documents)"
   ]
  },
  {
   "cell_type": "code",
   "execution_count": 9,
   "metadata": {},
   "outputs": [],
   "source": [
    "doc_term_matrix2 = sparse_matrix2.todense()\n",
    "df2 = pd.DataFrame(doc_term_matrix2, \n",
    "                  columns=tfidf_vec.get_feature_names(), \n",
    "                  index=['doc_1', 'doc_2', 'doc_3'])"
   ]
  },
  {
   "cell_type": "code",
   "execution_count": 10,
   "metadata": {},
   "outputs": [
    {
     "data": {
      "text/html": [
       "<div>\n",
       "<style scoped>\n",
       "    .dataframe tbody tr th:only-of-type {\n",
       "        vertical-align: middle;\n",
       "    }\n",
       "\n",
       "    .dataframe tbody tr th {\n",
       "        vertical-align: top;\n",
       "    }\n",
       "\n",
       "    .dataframe thead th {\n",
       "        text-align: right;\n",
       "    }\n",
       "</style>\n",
       "<table border=\"1\" class=\"dataframe\">\n",
       "  <thead>\n",
       "    <tr style=\"text-align: right;\">\n",
       "      <th></th>\n",
       "      <th>across</th>\n",
       "      <th>actuator</th>\n",
       "      <th>algorithms</th>\n",
       "      <th>an</th>\n",
       "      <th>and</th>\n",
       "      <th>apparatus</th>\n",
       "      <th>artificial</th>\n",
       "      <th>at</th>\n",
       "      <th>based</th>\n",
       "      <th>battery</th>\n",
       "      <th>...</th>\n",
       "      <th>the</th>\n",
       "      <th>to</th>\n",
       "      <th>transmission</th>\n",
       "      <th>travel</th>\n",
       "      <th>use</th>\n",
       "      <th>valve</th>\n",
       "      <th>vehicles</th>\n",
       "      <th>waste</th>\n",
       "      <th>whr</th>\n",
       "      <th>with</th>\n",
       "    </tr>\n",
       "  </thead>\n",
       "  <tbody>\n",
       "    <tr>\n",
       "      <th>doc_1</th>\n",
       "      <td>0.000000</td>\n",
       "      <td>0.168452</td>\n",
       "      <td>0.000000</td>\n",
       "      <td>0.085408</td>\n",
       "      <td>0.066327</td>\n",
       "      <td>0.000000</td>\n",
       "      <td>0.000000</td>\n",
       "      <td>0.000000</td>\n",
       "      <td>0.000000</td>\n",
       "      <td>0.000000</td>\n",
       "      <td>...</td>\n",
       "      <td>0.331636</td>\n",
       "      <td>0.099491</td>\n",
       "      <td>0.112302</td>\n",
       "      <td>0.000000</td>\n",
       "      <td>0.000000</td>\n",
       "      <td>0.000000</td>\n",
       "      <td>0.000000</td>\n",
       "      <td>0.000000</td>\n",
       "      <td>0.000000</td>\n",
       "      <td>0.085408</td>\n",
       "    </tr>\n",
       "    <tr>\n",
       "      <th>doc_2</th>\n",
       "      <td>0.085083</td>\n",
       "      <td>0.000000</td>\n",
       "      <td>0.000000</td>\n",
       "      <td>0.064708</td>\n",
       "      <td>0.100503</td>\n",
       "      <td>0.042541</td>\n",
       "      <td>0.000000</td>\n",
       "      <td>0.000000</td>\n",
       "      <td>0.032354</td>\n",
       "      <td>0.000000</td>\n",
       "      <td>...</td>\n",
       "      <td>0.502514</td>\n",
       "      <td>0.100503</td>\n",
       "      <td>0.000000</td>\n",
       "      <td>0.000000</td>\n",
       "      <td>0.000000</td>\n",
       "      <td>0.212707</td>\n",
       "      <td>0.000000</td>\n",
       "      <td>0.042541</td>\n",
       "      <td>0.170166</td>\n",
       "      <td>0.000000</td>\n",
       "    </tr>\n",
       "    <tr>\n",
       "      <th>doc_3</th>\n",
       "      <td>0.000000</td>\n",
       "      <td>0.000000</td>\n",
       "      <td>0.121866</td>\n",
       "      <td>0.000000</td>\n",
       "      <td>0.179940</td>\n",
       "      <td>0.000000</td>\n",
       "      <td>0.121866</td>\n",
       "      <td>0.060933</td>\n",
       "      <td>0.092682</td>\n",
       "      <td>0.243732</td>\n",
       "      <td>...</td>\n",
       "      <td>0.323892</td>\n",
       "      <td>0.071976</td>\n",
       "      <td>0.000000</td>\n",
       "      <td>0.121866</td>\n",
       "      <td>0.060933</td>\n",
       "      <td>0.000000</td>\n",
       "      <td>0.060933</td>\n",
       "      <td>0.000000</td>\n",
       "      <td>0.000000</td>\n",
       "      <td>0.046341</td>\n",
       "    </tr>\n",
       "  </tbody>\n",
       "</table>\n",
       "<p>3 rows × 123 columns</p>\n",
       "</div>"
      ],
      "text/plain": [
       "         across  actuator  algorithms        an       and  apparatus  \\\n",
       "doc_1  0.000000  0.168452    0.000000  0.085408  0.066327   0.000000   \n",
       "doc_2  0.085083  0.000000    0.000000  0.064708  0.100503   0.042541   \n",
       "doc_3  0.000000  0.000000    0.121866  0.000000  0.179940   0.000000   \n",
       "\n",
       "       artificial        at     based   battery    ...          the        to  \\\n",
       "doc_1    0.000000  0.000000  0.000000  0.000000    ...     0.331636  0.099491   \n",
       "doc_2    0.000000  0.000000  0.032354  0.000000    ...     0.502514  0.100503   \n",
       "doc_3    0.121866  0.060933  0.092682  0.243732    ...     0.323892  0.071976   \n",
       "\n",
       "       transmission    travel       use     valve  vehicles     waste  \\\n",
       "doc_1      0.112302  0.000000  0.000000  0.000000  0.000000  0.000000   \n",
       "doc_2      0.000000  0.000000  0.000000  0.212707  0.000000  0.042541   \n",
       "doc_3      0.000000  0.121866  0.060933  0.000000  0.060933  0.000000   \n",
       "\n",
       "            whr      with  \n",
       "doc_1  0.000000  0.085408  \n",
       "doc_2  0.170166  0.000000  \n",
       "doc_3  0.000000  0.046341  \n",
       "\n",
       "[3 rows x 123 columns]"
      ]
     },
     "execution_count": 10,
     "metadata": {},
     "output_type": "execute_result"
    }
   ],
   "source": [
    "df2"
   ]
  },
  {
   "cell_type": "code",
   "execution_count": 11,
   "metadata": {},
   "outputs": [
    {
     "name": "stdout",
     "output_type": "stream",
     "text": [
      "[[1.         0.39124822 0.33810571]\n",
      " [0.39124822 1.         0.54836016]\n",
      " [0.33810571 0.54836016 1.        ]]\n"
     ]
    }
   ],
   "source": [
    "# Compute Cosine Similarity\n",
    "from sklearn.metrics.pairwise import cosine_similarity\n",
    "print(cosine_similarity(df1, df1))"
   ]
  },
  {
   "cell_type": "markdown",
   "metadata": {},
   "source": [
    "doc1-doc1:1<br>\n",
    "doc1-doc2:0.39<br>\n",
    "doc1-doc3:0.33\n"
   ]
  },
  {
   "cell_type": "code",
   "execution_count": 12,
   "metadata": {},
   "outputs": [
    {
     "name": "stdout",
     "output_type": "stream",
     "text": [
      "[[1.         0.22040014 0.181574  ]\n",
      " [0.22040014 1.         0.35666664]\n",
      " [0.181574   0.35666664 1.        ]]\n"
     ]
    }
   ],
   "source": [
    "# for tfidf\n",
    "print(cosine_similarity(df2, df2))"
   ]
  },
  {
   "cell_type": "code",
   "execution_count": 13,
   "metadata": {},
   "outputs": [
    {
     "name": "stdout",
     "output_type": "stream",
     "text": [
      "[[0.97800802 0.30874895 0.24667818]\n",
      " [0.27775698 0.97428903 0.416671  ]\n",
      " [0.24628059 0.46241639 0.9763846 ]]\n"
     ]
    }
   ],
   "source": [
    "print(cosine_similarity(df1, df2))"
   ]
  },
  {
   "cell_type": "code",
   "execution_count": 14,
   "metadata": {},
   "outputs": [],
   "source": [
    "import gensim\n",
    "# upgrade gensim if you can't import softcossim\n",
    "from gensim.matutils import softcossim \n",
    "from gensim import corpora\n",
    "import gensim.downloader as api\n",
    "from gensim.utils import simple_preprocess"
   ]
  },
  {
   "cell_type": "code",
   "execution_count": 15,
   "metadata": {},
   "outputs": [],
   "source": [
    "# Prepare a dictionary and a corpus.\n",
    "dictionary = corpora.Dictionary([simple_preprocess(doc) for doc in documents])"
   ]
  },
  {
   "cell_type": "code",
   "execution_count": 16,
   "metadata": {},
   "outputs": [],
   "source": [
    "# Download the FastText model\n",
    "fasttext_model300 = api.load('fasttext-wiki-news-subwords-300')"
   ]
  },
  {
   "cell_type": "code",
   "execution_count": 17,
   "metadata": {},
   "outputs": [],
   "source": [
    "# Prepare the similarity matrix\n",
    "\n",
    "similarity_matrix = fasttext_model300.similarity_matrix(dictionary, tfidf=None, threshold=0.0, exponent=2.0, nonzero_limit=100)"
   ]
  },
  {
   "cell_type": "code",
   "execution_count": 18,
   "metadata": {},
   "outputs": [],
   "source": [
    "# Convert the sentences into bag-of-words vectors.\n",
    "sent_1 = dictionary.doc2bow(simple_preprocess(doc_patent1))\n",
    "sent_2 = dictionary.doc2bow(simple_preprocess(doc_patent2))\n",
    "sent_3 = dictionary.doc2bow(simple_preprocess(doc_patent3))"
   ]
  },
  {
   "cell_type": "code",
   "execution_count": 19,
   "metadata": {},
   "outputs": [],
   "source": [
    "sentences = [sent_1, sent_2, sent_3]"
   ]
  },
  {
   "cell_type": "code",
   "execution_count": 20,
   "metadata": {},
   "outputs": [
    {
     "name": "stdout",
     "output_type": "stream",
     "text": [
      "0.5970213005009702\n"
     ]
    }
   ],
   "source": [
    "# Compute soft cosine similarity\n",
    "print(softcossim(sent_1, sent_2, similarity_matrix))"
   ]
  },
  {
   "cell_type": "code",
   "execution_count": 21,
   "metadata": {},
   "outputs": [
    {
     "name": "stdout",
     "output_type": "stream",
     "text": [
      "0.5562908793513186\n"
     ]
    }
   ],
   "source": [
    "print(softcossim(sent_1, sent_3, similarity_matrix))"
   ]
  },
  {
   "cell_type": "code",
   "execution_count": 22,
   "metadata": {},
   "outputs": [
    {
     "name": "stdout",
     "output_type": "stream",
     "text": [
      "0.7073904982640719\n"
     ]
    }
   ],
   "source": [
    "print(softcossim(sent_2, sent_3, similarity_matrix))"
   ]
  }
 ],
 "metadata": {
  "kernelspec": {
   "display_name": "Python 3",
   "language": "python",
   "name": "python3"
  },
  "language_info": {
   "codemirror_mode": {
    "name": "ipython",
    "version": 3
   },
   "file_extension": ".py",
   "mimetype": "text/x-python",
   "name": "python",
   "nbconvert_exporter": "python",
   "pygments_lexer": "ipython3",
   "version": "3.6.3"
  }
 },
 "nbformat": 4,
 "nbformat_minor": 2
}
