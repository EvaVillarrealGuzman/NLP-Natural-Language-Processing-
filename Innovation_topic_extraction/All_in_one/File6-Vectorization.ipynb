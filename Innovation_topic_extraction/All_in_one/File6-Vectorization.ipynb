{
 "cells": [
  {
   "cell_type": "markdown",
   "metadata": {},
   "source": [
    "# Vectorize\n",
    "\n",
    "Only to write shape of count word and tfidf"
   ]
  },
  {
   "cell_type": "code",
   "execution_count": 1,
   "metadata": {},
   "outputs": [
    {
     "data": {
      "text/plain": [
       "(68762, 37)"
      ]
     },
     "execution_count": 1,
     "metadata": {},
     "output_type": "execute_result"
    }
   ],
   "source": [
    "import pickle\n",
    "import pandas as pd\n",
    "#Loading from last EDA notebook\n",
    "data = pd.read_pickle('eda.pkl')\n",
    "data.shape"
   ]
  },
  {
   "cell_type": "code",
   "execution_count": 2,
   "metadata": {},
   "outputs": [
    {
     "data": {
      "text/html": [
       "<div>\n",
       "<style scoped>\n",
       "    .dataframe tbody tr th:only-of-type {\n",
       "        vertical-align: middle;\n",
       "    }\n",
       "\n",
       "    .dataframe tbody tr th {\n",
       "        vertical-align: top;\n",
       "    }\n",
       "\n",
       "    .dataframe thead th {\n",
       "        text-align: right;\n",
       "    }\n",
       "</style>\n",
       "<table border=\"1\" class=\"dataframe\">\n",
       "  <thead>\n",
       "    <tr style=\"text-align: right;\">\n",
       "      <th></th>\n",
       "      <th>appln</th>\n",
       "      <th>appln_id</th>\n",
       "      <th>family_id</th>\n",
       "      <th>sets</th>\n",
       "      <th>direct</th>\n",
       "      <th>granted</th>\n",
       "      <th>earliest_appln</th>\n",
       "      <th>earliest_filing_date</th>\n",
       "      <th>publn_date</th>\n",
       "      <th>publn</th>\n",
       "      <th>...</th>\n",
       "      <th>citing_appln_id</th>\n",
       "      <th>citing_family_id</th>\n",
       "      <th>num_citing_family</th>\n",
       "      <th>earliest_applt</th>\n",
       "      <th>current_applt</th>\n",
       "      <th>appln_title</th>\n",
       "      <th>appln_abstr</th>\n",
       "      <th>assignee</th>\n",
       "      <th>application_date</th>\n",
       "      <th>year</th>\n",
       "    </tr>\n",
       "  </thead>\n",
       "  <tbody>\n",
       "    <tr>\n",
       "      <th>0</th>\n",
       "      <td>WO9105114W</td>\n",
       "      <td>47158713</td>\n",
       "      <td>1239277</td>\n",
       "      <td>2</td>\n",
       "      <td>1</td>\n",
       "      <td>1</td>\n",
       "      <td>US55592190A</td>\n",
       "      <td>1990-07-19</td>\n",
       "      <td>1993-02-18</td>\n",
       "      <td>WO9303532A1</td>\n",
       "      <td>...</td>\n",
       "      <td>45621927</td>\n",
       "      <td>24395918</td>\n",
       "      <td>30</td>\n",
       "      <td>LUZ ELECTRIC FUEL ISRAEL LTD.</td>\n",
       "      <td>LUZ ELECTRIC FUEL ISRAEL LTD.</td>\n",
       "      <td>ELECTRICAL ENERGY SYSTEM</td>\n",
       "      <td>An electrical energy system including an elect...</td>\n",
       "      <td>luz electric fuel israel ltd</td>\n",
       "      <td>1990-07-19</td>\n",
       "      <td>1990</td>\n",
       "    </tr>\n",
       "    <tr>\n",
       "      <th>1</th>\n",
       "      <td>US55592190A</td>\n",
       "      <td>51797454</td>\n",
       "      <td>1239277</td>\n",
       "      <td>2</td>\n",
       "      <td>1</td>\n",
       "      <td>1</td>\n",
       "      <td>US55592190A</td>\n",
       "      <td>1990-07-19</td>\n",
       "      <td>1992-06-09</td>\n",
       "      <td>US5121044A</td>\n",
       "      <td>...</td>\n",
       "      <td>52393850\\n16916549\\n54353461\\n48212422\\n457802...</td>\n",
       "      <td>27071024\\n1239277\\n25508001\\n22545199\\n2636904...</td>\n",
       "      <td>30</td>\n",
       "      <td>Luz Electric Fuel Israel, Ltd.</td>\n",
       "      <td>Luz Electric Fuel Israel, Ltd.</td>\n",
       "      <td>Electrical energy system</td>\n",
       "      <td>An electrical energy system including an elect...</td>\n",
       "      <td>luz electric fuel israel ltd</td>\n",
       "      <td>1990-07-19</td>\n",
       "      <td>1990</td>\n",
       "    </tr>\n",
       "  </tbody>\n",
       "</table>\n",
       "<p>2 rows × 37 columns</p>\n",
       "</div>"
      ],
      "text/plain": [
       "         appln  appln_id  family_id  sets  direct  granted earliest_appln  \\\n",
       "0   WO9105114W  47158713    1239277     2       1        1    US55592190A   \n",
       "1  US55592190A  51797454    1239277     2       1        1    US55592190A   \n",
       "\n",
       "  earliest_filing_date  publn_date        publn  ...  \\\n",
       "0           1990-07-19  1993-02-18  WO9303532A1  ...   \n",
       "1           1990-07-19  1992-06-09   US5121044A  ...   \n",
       "\n",
       "                                     citing_appln_id  \\\n",
       "0                                           45621927   \n",
       "1  52393850\\n16916549\\n54353461\\n48212422\\n457802...   \n",
       "\n",
       "                                    citing_family_id  num_citing_family  \\\n",
       "0                                           24395918                 30   \n",
       "1  27071024\\n1239277\\n25508001\\n22545199\\n2636904...                 30   \n",
       "\n",
       "                   earliest_applt                   current_applt  \\\n",
       "0   LUZ ELECTRIC FUEL ISRAEL LTD.   LUZ ELECTRIC FUEL ISRAEL LTD.   \n",
       "1  Luz Electric Fuel Israel, Ltd.  Luz Electric Fuel Israel, Ltd.   \n",
       "\n",
       "                appln_title  \\\n",
       "0  ELECTRICAL ENERGY SYSTEM   \n",
       "1  Electrical energy system   \n",
       "\n",
       "                                         appln_abstr  \\\n",
       "0  An electrical energy system including an elect...   \n",
       "1  An electrical energy system including an elect...   \n",
       "\n",
       "                       assignee application_date  year  \n",
       "0  luz electric fuel israel ltd       1990-07-19  1990  \n",
       "1  luz electric fuel israel ltd       1990-07-19  1990  \n",
       "\n",
       "[2 rows x 37 columns]"
      ]
     },
     "execution_count": 2,
     "metadata": {},
     "output_type": "execute_result"
    }
   ],
   "source": [
    "data.head(2)"
   ]
  },
  {
   "cell_type": "markdown",
   "metadata": {},
   "source": [
    "**saving file as we get index error in cleaning process**"
   ]
  },
  {
   "cell_type": "code",
   "execution_count": 3,
   "metadata": {},
   "outputs": [],
   "source": [
    "data.to_csv('eda.csv')"
   ]
  },
  {
   "cell_type": "code",
   "execution_count": 4,
   "metadata": {},
   "outputs": [
    {
     "data": {
      "text/plain": [
       "(68762, 38)"
      ]
     },
     "execution_count": 4,
     "metadata": {},
     "output_type": "execute_result"
    }
   ],
   "source": [
    "df = pd.read_csv('eda.csv')\n",
    "df=df.rename(columns={'Unnamed: 0':'random_columns'})\n",
    "df.shape"
   ]
  },
  {
   "cell_type": "code",
   "execution_count": 5,
   "metadata": {},
   "outputs": [
    {
     "data": {
      "text/html": [
       "<div>\n",
       "<style scoped>\n",
       "    .dataframe tbody tr th:only-of-type {\n",
       "        vertical-align: middle;\n",
       "    }\n",
       "\n",
       "    .dataframe tbody tr th {\n",
       "        vertical-align: top;\n",
       "    }\n",
       "\n",
       "    .dataframe thead th {\n",
       "        text-align: right;\n",
       "    }\n",
       "</style>\n",
       "<table border=\"1\" class=\"dataframe\">\n",
       "  <thead>\n",
       "    <tr style=\"text-align: right;\">\n",
       "      <th></th>\n",
       "      <th>random_columns</th>\n",
       "      <th>appln</th>\n",
       "      <th>appln_id</th>\n",
       "      <th>family_id</th>\n",
       "      <th>sets</th>\n",
       "      <th>direct</th>\n",
       "      <th>granted</th>\n",
       "      <th>earliest_appln</th>\n",
       "      <th>earliest_filing_date</th>\n",
       "      <th>publn_date</th>\n",
       "      <th>...</th>\n",
       "      <th>citing_appln_id</th>\n",
       "      <th>citing_family_id</th>\n",
       "      <th>num_citing_family</th>\n",
       "      <th>earliest_applt</th>\n",
       "      <th>current_applt</th>\n",
       "      <th>appln_title</th>\n",
       "      <th>appln_abstr</th>\n",
       "      <th>assignee</th>\n",
       "      <th>application_date</th>\n",
       "      <th>year</th>\n",
       "    </tr>\n",
       "  </thead>\n",
       "  <tbody>\n",
       "    <tr>\n",
       "      <th>0</th>\n",
       "      <td>0</td>\n",
       "      <td>WO9105114W</td>\n",
       "      <td>47158713</td>\n",
       "      <td>1239277</td>\n",
       "      <td>2</td>\n",
       "      <td>1</td>\n",
       "      <td>1</td>\n",
       "      <td>US55592190A</td>\n",
       "      <td>1990-07-19</td>\n",
       "      <td>1993-02-18</td>\n",
       "      <td>...</td>\n",
       "      <td>45621927</td>\n",
       "      <td>24395918</td>\n",
       "      <td>30</td>\n",
       "      <td>LUZ ELECTRIC FUEL ISRAEL LTD.</td>\n",
       "      <td>LUZ ELECTRIC FUEL ISRAEL LTD.</td>\n",
       "      <td>ELECTRICAL ENERGY SYSTEM</td>\n",
       "      <td>An electrical energy system including an elect...</td>\n",
       "      <td>luz electric fuel israel ltd</td>\n",
       "      <td>1990-07-19</td>\n",
       "      <td>1990</td>\n",
       "    </tr>\n",
       "    <tr>\n",
       "      <th>1</th>\n",
       "      <td>1</td>\n",
       "      <td>US55592190A</td>\n",
       "      <td>51797454</td>\n",
       "      <td>1239277</td>\n",
       "      <td>2</td>\n",
       "      <td>1</td>\n",
       "      <td>1</td>\n",
       "      <td>US55592190A</td>\n",
       "      <td>1990-07-19</td>\n",
       "      <td>1992-06-09</td>\n",
       "      <td>...</td>\n",
       "      <td>52393850\\n16916549\\n54353461\\n48212422\\n457802...</td>\n",
       "      <td>27071024\\n1239277\\n25508001\\n22545199\\n2636904...</td>\n",
       "      <td>30</td>\n",
       "      <td>Luz Electric Fuel Israel, Ltd.</td>\n",
       "      <td>Luz Electric Fuel Israel, Ltd.</td>\n",
       "      <td>Electrical energy system</td>\n",
       "      <td>An electrical energy system including an elect...</td>\n",
       "      <td>luz electric fuel israel ltd</td>\n",
       "      <td>1990-07-19</td>\n",
       "      <td>1990</td>\n",
       "    </tr>\n",
       "  </tbody>\n",
       "</table>\n",
       "<p>2 rows × 38 columns</p>\n",
       "</div>"
      ],
      "text/plain": [
       "   random_columns        appln  appln_id  family_id  sets  direct  granted  \\\n",
       "0               0   WO9105114W  47158713    1239277     2       1        1   \n",
       "1               1  US55592190A  51797454    1239277     2       1        1   \n",
       "\n",
       "  earliest_appln earliest_filing_date  publn_date  ...  \\\n",
       "0    US55592190A           1990-07-19  1993-02-18  ...   \n",
       "1    US55592190A           1990-07-19  1992-06-09  ...   \n",
       "\n",
       "                                     citing_appln_id  \\\n",
       "0                                           45621927   \n",
       "1  52393850\\n16916549\\n54353461\\n48212422\\n457802...   \n",
       "\n",
       "                                    citing_family_id num_citing_family  \\\n",
       "0                                           24395918                30   \n",
       "1  27071024\\n1239277\\n25508001\\n22545199\\n2636904...                30   \n",
       "\n",
       "                   earliest_applt                   current_applt  \\\n",
       "0   LUZ ELECTRIC FUEL ISRAEL LTD.   LUZ ELECTRIC FUEL ISRAEL LTD.   \n",
       "1  Luz Electric Fuel Israel, Ltd.  Luz Electric Fuel Israel, Ltd.   \n",
       "\n",
       "                appln_title  \\\n",
       "0  ELECTRICAL ENERGY SYSTEM   \n",
       "1  Electrical energy system   \n",
       "\n",
       "                                         appln_abstr  \\\n",
       "0  An electrical energy system including an elect...   \n",
       "1  An electrical energy system including an elect...   \n",
       "\n",
       "                       assignee application_date  year  \n",
       "0  luz electric fuel israel ltd       1990-07-19  1990  \n",
       "1  luz electric fuel israel ltd       1990-07-19  1990  \n",
       "\n",
       "[2 rows x 38 columns]"
      ]
     },
     "execution_count": 5,
     "metadata": {},
     "output_type": "execute_result"
    }
   ],
   "source": [
    "df.head(2)"
   ]
  },
  {
   "cell_type": "code",
   "execution_count": 6,
   "metadata": {},
   "outputs": [
    {
     "name": "stderr",
     "output_type": "stream",
     "text": [
      "[nltk_data] Downloading package wordnet to\n",
      "[nltk_data]     C:\\Users\\hassan.sherwani\\AppData\\Roaming\\nltk_data...\n",
      "[nltk_data]   Package wordnet is already up-to-date!\n"
     ]
    }
   ],
   "source": [
    "import nltk\n",
    "import re\n",
    "from nltk.corpus import stopwords\n",
    "from nltk.stem import WordNetLemmatizer\n",
    "lemm = WordNetLemmatizer()\n",
    "nltk.download('wordnet')\n",
    "clean_text = [] # defining corpus\n",
    "for i in range(0, len(df['appln_abstr'])): # giving range of values from 0 to 68762\n",
    "    processed_text = re.sub(r'<[^>]+>', ' ', df['appln_abstr'][i]) # using i for all values instead of 1 column\n",
    "    processed_text = processed_text.lower()\n",
    "    processed_text = processed_text.split()\n",
    "    lemm = WordNetLemmatizer()\n",
    "    stopword_set = set(stopwords.words('english'))\n",
    "    processed_text = [lemm.lemmatize(word) for word in processed_text if not word in stopword_set]\n",
    "    processed_text = ' '.join(processed_text )\n",
    "    clean_text.append(processed_text) # finally attach all these cleaned values to corpus directory"
   ]
  },
  {
   "cell_type": "code",
   "execution_count": 7,
   "metadata": {},
   "outputs": [
    {
     "data": {
      "text/html": [
       "<div>\n",
       "<style scoped>\n",
       "    .dataframe tbody tr th:only-of-type {\n",
       "        vertical-align: middle;\n",
       "    }\n",
       "\n",
       "    .dataframe tbody tr th {\n",
       "        vertical-align: top;\n",
       "    }\n",
       "\n",
       "    .dataframe thead th {\n",
       "        text-align: right;\n",
       "    }\n",
       "</style>\n",
       "<table border=\"1\" class=\"dataframe\">\n",
       "  <thead>\n",
       "    <tr style=\"text-align: right;\">\n",
       "      <th></th>\n",
       "      <th>random_columns</th>\n",
       "      <th>appln</th>\n",
       "      <th>appln_id</th>\n",
       "      <th>family_id</th>\n",
       "      <th>sets</th>\n",
       "      <th>direct</th>\n",
       "      <th>granted</th>\n",
       "      <th>earliest_appln</th>\n",
       "      <th>earliest_filing_date</th>\n",
       "      <th>publn_date</th>\n",
       "      <th>...</th>\n",
       "      <th>citing_family_id</th>\n",
       "      <th>num_citing_family</th>\n",
       "      <th>earliest_applt</th>\n",
       "      <th>current_applt</th>\n",
       "      <th>appln_title</th>\n",
       "      <th>appln_abstr</th>\n",
       "      <th>assignee</th>\n",
       "      <th>application_date</th>\n",
       "      <th>year</th>\n",
       "      <th>clean</th>\n",
       "    </tr>\n",
       "  </thead>\n",
       "  <tbody>\n",
       "    <tr>\n",
       "      <th>0</th>\n",
       "      <td>0</td>\n",
       "      <td>WO9105114W</td>\n",
       "      <td>47158713</td>\n",
       "      <td>1239277</td>\n",
       "      <td>2</td>\n",
       "      <td>1</td>\n",
       "      <td>1</td>\n",
       "      <td>US55592190A</td>\n",
       "      <td>1990-07-19</td>\n",
       "      <td>1993-02-18</td>\n",
       "      <td>...</td>\n",
       "      <td>24395918</td>\n",
       "      <td>30</td>\n",
       "      <td>LUZ ELECTRIC FUEL ISRAEL LTD.</td>\n",
       "      <td>LUZ ELECTRIC FUEL ISRAEL LTD.</td>\n",
       "      <td>ELECTRICAL ENERGY SYSTEM</td>\n",
       "      <td>An electrical energy system including an elect...</td>\n",
       "      <td>luz electric fuel israel ltd</td>\n",
       "      <td>1990-07-19</td>\n",
       "      <td>1990</td>\n",
       "      <td>electrical energy system including electric ut...</td>\n",
       "    </tr>\n",
       "    <tr>\n",
       "      <th>1</th>\n",
       "      <td>1</td>\n",
       "      <td>US55592190A</td>\n",
       "      <td>51797454</td>\n",
       "      <td>1239277</td>\n",
       "      <td>2</td>\n",
       "      <td>1</td>\n",
       "      <td>1</td>\n",
       "      <td>US55592190A</td>\n",
       "      <td>1990-07-19</td>\n",
       "      <td>1992-06-09</td>\n",
       "      <td>...</td>\n",
       "      <td>27071024\\n1239277\\n25508001\\n22545199\\n2636904...</td>\n",
       "      <td>30</td>\n",
       "      <td>Luz Electric Fuel Israel, Ltd.</td>\n",
       "      <td>Luz Electric Fuel Israel, Ltd.</td>\n",
       "      <td>Electrical energy system</td>\n",
       "      <td>An electrical energy system including an elect...</td>\n",
       "      <td>luz electric fuel israel ltd</td>\n",
       "      <td>1990-07-19</td>\n",
       "      <td>1990</td>\n",
       "      <td>electrical energy system including electric ut...</td>\n",
       "    </tr>\n",
       "  </tbody>\n",
       "</table>\n",
       "<p>2 rows × 39 columns</p>\n",
       "</div>"
      ],
      "text/plain": [
       "   random_columns        appln  appln_id  family_id  sets  direct  granted  \\\n",
       "0               0   WO9105114W  47158713    1239277     2       1        1   \n",
       "1               1  US55592190A  51797454    1239277     2       1        1   \n",
       "\n",
       "  earliest_appln earliest_filing_date  publn_date  ...  \\\n",
       "0    US55592190A           1990-07-19  1993-02-18  ...   \n",
       "1    US55592190A           1990-07-19  1992-06-09  ...   \n",
       "\n",
       "                                    citing_family_id num_citing_family  \\\n",
       "0                                           24395918                30   \n",
       "1  27071024\\n1239277\\n25508001\\n22545199\\n2636904...                30   \n",
       "\n",
       "                   earliest_applt                   current_applt  \\\n",
       "0   LUZ ELECTRIC FUEL ISRAEL LTD.   LUZ ELECTRIC FUEL ISRAEL LTD.   \n",
       "1  Luz Electric Fuel Israel, Ltd.  Luz Electric Fuel Israel, Ltd.   \n",
       "\n",
       "                appln_title  \\\n",
       "0  ELECTRICAL ENERGY SYSTEM   \n",
       "1  Electrical energy system   \n",
       "\n",
       "                                         appln_abstr  \\\n",
       "0  An electrical energy system including an elect...   \n",
       "1  An electrical energy system including an elect...   \n",
       "\n",
       "                       assignee  application_date  year  \\\n",
       "0  luz electric fuel israel ltd        1990-07-19  1990   \n",
       "1  luz electric fuel israel ltd        1990-07-19  1990   \n",
       "\n",
       "                                               clean  \n",
       "0  electrical energy system including electric ut...  \n",
       "1  electrical energy system including electric ut...  \n",
       "\n",
       "[2 rows x 39 columns]"
      ]
     },
     "execution_count": 7,
     "metadata": {},
     "output_type": "execute_result"
    }
   ],
   "source": [
    "# convert to series to check words\n",
    "text_corpus = pd.Series(clean_text)\n",
    "df['clean'] = text_corpus\n",
    "df.head(2)"
   ]
  },
  {
   "cell_type": "markdown",
   "metadata": {},
   "source": [
    "### Bag Of Words\n",
    "\n",
    "We screened out the terms that did not appear in more than\n",
    "95% of abstracts to exclude terms that rarely appeared. With the remaining 238 terms, consequently,\n",
    "the 3724 × 238 TF-IDF matrix was obtained."
   ]
  },
  {
   "cell_type": "code",
   "execution_count": 8,
   "metadata": {},
   "outputs": [
    {
     "data": {
      "text/plain": [
       "CountVectorizer()"
      ]
     },
     "execution_count": 8,
     "metadata": {},
     "output_type": "execute_result"
    }
   ],
   "source": [
    "from sklearn.feature_extraction.text import CountVectorizer,TfidfVectorizer\n",
    "import gensim\n",
    "CountVectorizer()"
   ]
  },
  {
   "cell_type": "code",
   "execution_count": 9,
   "metadata": {},
   "outputs": [
    {
     "data": {
      "text/plain": [
       "(68762, 12630)"
      ]
     },
     "execution_count": 9,
     "metadata": {},
     "output_type": "execute_result"
    }
   ],
   "source": [
    "bow_vectorizer = CountVectorizer(max_df=0.95, min_df=5, stop_words=\"english\",analyzer = 'word')\n",
    "# bag-of-words feature matrix\n",
    "bow = bow_vectorizer.fit_transform(df['clean'])\n",
    "bow.shape"
   ]
  },
  {
   "cell_type": "markdown",
   "metadata": {},
   "source": [
    "### TFIDF"
   ]
  },
  {
   "cell_type": "code",
   "execution_count": 10,
   "metadata": {},
   "outputs": [
    {
     "data": {
      "text/plain": [
       "(68762, 12630)"
      ]
     },
     "execution_count": 10,
     "metadata": {},
     "output_type": "execute_result"
    }
   ],
   "source": [
    "tfidf_vectorizer = TfidfVectorizer(max_df=0.95, min_df=5, stop_words=\"english\",analyzer = 'word')\n",
    "# TF-IDF feature matrix\n",
    "tfidf = tfidf_vectorizer.fit_transform(df['clean'])\n",
    "tfidf.shape"
   ]
  }
 ],
 "metadata": {
  "kernelspec": {
   "display_name": "Python 3.7 (tensorflow)",
   "language": "python",
   "name": "tensorflow"
  },
  "language_info": {
   "codemirror_mode": {
    "name": "ipython",
    "version": 3
   },
   "file_extension": ".py",
   "mimetype": "text/x-python",
   "name": "python",
   "nbconvert_exporter": "python",
   "pygments_lexer": "ipython3",
   "version": "3.7.7"
  }
 },
 "nbformat": 4,
 "nbformat_minor": 4
}
