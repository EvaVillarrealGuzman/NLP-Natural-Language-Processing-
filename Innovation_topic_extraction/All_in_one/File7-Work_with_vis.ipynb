{
 "cells": [
  {
   "cell_type": "markdown",
   "metadata": {},
   "source": [
    "# Working on analysis part of topic modeling\n",
    "\n",
    "- keyword data"
   ]
  },
  {
   "cell_type": "markdown",
   "metadata": {},
   "source": [
    "This uses main \"pyLDAvis\" results and build on it"
   ]
  },
  {
   "cell_type": "code",
   "execution_count": 1,
   "metadata": {},
   "outputs": [],
   "source": [
    "import warnings\n",
    "warnings.filterwarnings('ignore')"
   ]
  },
  {
   "cell_type": "code",
   "execution_count": 2,
   "metadata": {},
   "outputs": [],
   "source": [
    "import nltk\n",
    "import sys\n",
    "import re, numpy as np, pandas as pd"
   ]
  },
  {
   "cell_type": "code",
   "execution_count": 3,
   "metadata": {},
   "outputs": [
    {
     "name": "stdout",
     "output_type": "stream",
     "text": [
      "Populating the interactive namespace from numpy and matplotlib\n"
     ]
    }
   ],
   "source": [
    "# Visualization \n",
    "import matplotlib.pyplot as plt\n",
    "import seaborn as sns\n",
    "from pprint import pprint\n",
    "%matplotlib inline\n",
    "%pylab inline"
   ]
  },
  {
   "cell_type": "code",
   "execution_count": 4,
   "metadata": {},
   "outputs": [],
   "source": [
    "import plotly\n",
    "import plotly.offline as pyo\n",
    "import pandas as pd\n",
    "import matplotlib.pyplot as plt\n",
    "from datetime import datetime\n",
    "import plotly.graph_objs as go"
   ]
  },
  {
   "cell_type": "code",
   "execution_count": 5,
   "metadata": {},
   "outputs": [],
   "source": [
    "# Gensim\n",
    "import gensim, spacy, logging, warnings\n",
    "import gensim.corpora as corpora\n",
    "from gensim.utils import lemmatize, simple_preprocess\n",
    "from gensim.models import CoherenceModel"
   ]
  },
  {
   "cell_type": "code",
   "execution_count": 6,
   "metadata": {},
   "outputs": [],
   "source": [
    "# NLTK Stop words\n",
    "from nltk.corpus import stopwords\n",
    "stop_words = stopwords.words('english')\n",
    "stop_words.extend(['from', 'subject', 're', 'edu', 'use', 'not', 'would', 'say', 'could', '_', 'be', 'know', 'good', 'go', 'get', 'do', 'done', 'try', 'many', 'some', 'nice', 'thank', 'think', 'see', 'rather', 'easy', 'easily', 'lot', 'lack', 'make', 'want', 'seem', 'run', 'need', 'even', 'right', 'line', 'even', 'also', 'may', 'take', 'come'])"
   ]
  },
  {
   "cell_type": "markdown",
   "metadata": {},
   "source": [
    "# Loading file"
   ]
  },
  {
   "cell_type": "code",
   "execution_count": 7,
   "metadata": {},
   "outputs": [],
   "source": [
    "import pickle"
   ]
  },
  {
   "cell_type": "code",
   "execution_count": 8,
   "metadata": {},
   "outputs": [],
   "source": [
    "#p_firm = pd.read_pickle('patent_firm_full_clean.pkl')\n",
    "#p_firm.shape"
   ]
  },
  {
   "cell_type": "code",
   "execution_count": 9,
   "metadata": {},
   "outputs": [
    {
     "data": {
      "text/plain": [
       "(68762, 38)"
      ]
     },
     "execution_count": 9,
     "metadata": {},
     "output_type": "execute_result"
    }
   ],
   "source": [
    "patent = pd.read_pickle('eda.pkl')\n",
    "patent.shape"
   ]
  },
  {
   "cell_type": "code",
   "execution_count": 10,
   "metadata": {},
   "outputs": [
    {
     "data": {
      "text/html": [
       "<div>\n",
       "<style scoped>\n",
       "    .dataframe tbody tr th:only-of-type {\n",
       "        vertical-align: middle;\n",
       "    }\n",
       "\n",
       "    .dataframe tbody tr th {\n",
       "        vertical-align: top;\n",
       "    }\n",
       "\n",
       "    .dataframe thead th {\n",
       "        text-align: right;\n",
       "    }\n",
       "</style>\n",
       "<table border=\"1\" class=\"dataframe\">\n",
       "  <thead>\n",
       "    <tr style=\"text-align: right;\">\n",
       "      <th></th>\n",
       "      <th>Unnamed: 0</th>\n",
       "      <th>appln</th>\n",
       "      <th>appln_id</th>\n",
       "      <th>family_id</th>\n",
       "      <th>sets</th>\n",
       "      <th>direct</th>\n",
       "      <th>granted</th>\n",
       "      <th>earliest_appln</th>\n",
       "      <th>earliest_filing_date</th>\n",
       "      <th>publn_date</th>\n",
       "      <th>...</th>\n",
       "      <th>citing_appln_id</th>\n",
       "      <th>citing_family_id</th>\n",
       "      <th>num_citing_family</th>\n",
       "      <th>earliest_applt</th>\n",
       "      <th>current_applt</th>\n",
       "      <th>appln_title</th>\n",
       "      <th>appln_abstr</th>\n",
       "      <th>assignee</th>\n",
       "      <th>application_date</th>\n",
       "      <th>year</th>\n",
       "    </tr>\n",
       "  </thead>\n",
       "  <tbody>\n",
       "    <tr>\n",
       "      <th>0</th>\n",
       "      <td>0</td>\n",
       "      <td>WO9105114W</td>\n",
       "      <td>47158713</td>\n",
       "      <td>1239277</td>\n",
       "      <td>2</td>\n",
       "      <td>1</td>\n",
       "      <td>1</td>\n",
       "      <td>US55592190A</td>\n",
       "      <td>1990-07-19</td>\n",
       "      <td>1993-02-18</td>\n",
       "      <td>...</td>\n",
       "      <td>45621927</td>\n",
       "      <td>24395918</td>\n",
       "      <td>30</td>\n",
       "      <td>LUZ ELECTRIC FUEL ISRAEL LTD.</td>\n",
       "      <td>LUZ ELECTRIC FUEL ISRAEL LTD.</td>\n",
       "      <td>ELECTRICAL ENERGY SYSTEM</td>\n",
       "      <td>An electrical energy system including an elect...</td>\n",
       "      <td>luz electric fuel israel ltd</td>\n",
       "      <td>1990-07-19</td>\n",
       "      <td>1990</td>\n",
       "    </tr>\n",
       "    <tr>\n",
       "      <th>1</th>\n",
       "      <td>1</td>\n",
       "      <td>US55592190A</td>\n",
       "      <td>51797454</td>\n",
       "      <td>1239277</td>\n",
       "      <td>2</td>\n",
       "      <td>1</td>\n",
       "      <td>1</td>\n",
       "      <td>US55592190A</td>\n",
       "      <td>1990-07-19</td>\n",
       "      <td>1992-06-09</td>\n",
       "      <td>...</td>\n",
       "      <td>52393850\\n16916549\\n54353461\\n48212422\\n457802...</td>\n",
       "      <td>27071024\\n1239277\\n25508001\\n22545199\\n2636904...</td>\n",
       "      <td>30</td>\n",
       "      <td>Luz Electric Fuel Israel, Ltd.</td>\n",
       "      <td>Luz Electric Fuel Israel, Ltd.</td>\n",
       "      <td>Electrical energy system</td>\n",
       "      <td>An electrical energy system including an elect...</td>\n",
       "      <td>luz electric fuel israel ltd</td>\n",
       "      <td>1990-07-19</td>\n",
       "      <td>1990</td>\n",
       "    </tr>\n",
       "  </tbody>\n",
       "</table>\n",
       "<p>2 rows × 38 columns</p>\n",
       "</div>"
      ],
      "text/plain": [
       "   Unnamed: 0        appln  appln_id  family_id  sets  direct  granted  \\\n",
       "0           0   WO9105114W  47158713    1239277     2       1        1   \n",
       "1           1  US55592190A  51797454    1239277     2       1        1   \n",
       "\n",
       "  earliest_appln earliest_filing_date  publn_date  ...  \\\n",
       "0    US55592190A           1990-07-19  1993-02-18  ...   \n",
       "1    US55592190A           1990-07-19  1992-06-09  ...   \n",
       "\n",
       "                                     citing_appln_id  \\\n",
       "0                                           45621927   \n",
       "1  52393850\\n16916549\\n54353461\\n48212422\\n457802...   \n",
       "\n",
       "                                    citing_family_id num_citing_family  \\\n",
       "0                                           24395918                30   \n",
       "1  27071024\\n1239277\\n25508001\\n22545199\\n2636904...                30   \n",
       "\n",
       "                   earliest_applt                   current_applt  \\\n",
       "0   LUZ ELECTRIC FUEL ISRAEL LTD.   LUZ ELECTRIC FUEL ISRAEL LTD.   \n",
       "1  Luz Electric Fuel Israel, Ltd.  Luz Electric Fuel Israel, Ltd.   \n",
       "\n",
       "                appln_title  \\\n",
       "0  ELECTRICAL ENERGY SYSTEM   \n",
       "1  Electrical energy system   \n",
       "\n",
       "                                         appln_abstr  \\\n",
       "0  An electrical energy system including an elect...   \n",
       "1  An electrical energy system including an elect...   \n",
       "\n",
       "                       assignee application_date  year  \n",
       "0  luz electric fuel israel ltd       1990-07-19  1990  \n",
       "1  luz electric fuel israel ltd       1990-07-19  1990  \n",
       "\n",
       "[2 rows x 38 columns]"
      ]
     },
     "execution_count": 10,
     "metadata": {},
     "output_type": "execute_result"
    }
   ],
   "source": [
    "patent.head(2)"
   ]
  },
  {
   "cell_type": "code",
   "execution_count": 11,
   "metadata": {},
   "outputs": [],
   "source": [
    "#data_work = pd.read_pickle('work_on_data.pkl')\n",
    "#data_work.shape"
   ]
  },
  {
   "cell_type": "code",
   "execution_count": 12,
   "metadata": {},
   "outputs": [
    {
     "data": {
      "text/plain": [
       "(68762, 5)"
      ]
     },
     "execution_count": 12,
     "metadata": {},
     "output_type": "execute_result"
    }
   ],
   "source": [
    "data = pd.read_pickle('top08_topic_dominant.pkl')\n",
    "data.shape"
   ]
  },
  {
   "cell_type": "markdown",
   "metadata": {},
   "source": [
    "### select useful features only"
   ]
  },
  {
   "cell_type": "code",
   "execution_count": 13,
   "metadata": {},
   "outputs": [
    {
     "data": {
      "text/html": [
       "<div>\n",
       "<style scoped>\n",
       "    .dataframe tbody tr th:only-of-type {\n",
       "        vertical-align: middle;\n",
       "    }\n",
       "\n",
       "    .dataframe tbody tr th {\n",
       "        vertical-align: top;\n",
       "    }\n",
       "\n",
       "    .dataframe thead th {\n",
       "        text-align: right;\n",
       "    }\n",
       "</style>\n",
       "<table border=\"1\" class=\"dataframe\">\n",
       "  <thead>\n",
       "    <tr style=\"text-align: right;\">\n",
       "      <th></th>\n",
       "      <th>Document_No</th>\n",
       "      <th>Dominant_Topic</th>\n",
       "      <th>Topic_Perc_Contrib</th>\n",
       "      <th>Keywords</th>\n",
       "      <th>Text</th>\n",
       "    </tr>\n",
       "  </thead>\n",
       "  <tbody>\n",
       "    <tr>\n",
       "      <th>0</th>\n",
       "      <td>0</td>\n",
       "      <td>1.0</td>\n",
       "      <td>0.4003</td>\n",
       "      <td>charge, battery, power, electric, energy, syst...</td>\n",
       "      <td>[electrical, energy, system, include, electric...</td>\n",
       "    </tr>\n",
       "    <tr>\n",
       "      <th>1</th>\n",
       "      <td>1</td>\n",
       "      <td>1.0</td>\n",
       "      <td>0.8034</td>\n",
       "      <td>charge, battery, power, electric, energy, syst...</td>\n",
       "      <td>[electrical, energy, system, include, electric...</td>\n",
       "    </tr>\n",
       "  </tbody>\n",
       "</table>\n",
       "</div>"
      ],
      "text/plain": [
       "   Document_No  Dominant_Topic  Topic_Perc_Contrib  \\\n",
       "0            0             1.0              0.4003   \n",
       "1            1             1.0              0.8034   \n",
       "\n",
       "                                            Keywords  \\\n",
       "0  charge, battery, power, electric, energy, syst...   \n",
       "1  charge, battery, power, electric, energy, syst...   \n",
       "\n",
       "                                                Text  \n",
       "0  [electrical, energy, system, include, electric...  \n",
       "1  [electrical, energy, system, include, electric...  "
      ]
     },
     "execution_count": 13,
     "metadata": {},
     "output_type": "execute_result"
    }
   ],
   "source": [
    "data.head(2)"
   ]
  },
  {
   "cell_type": "code",
   "execution_count": 14,
   "metadata": {},
   "outputs": [
    {
     "data": {
      "text/plain": [
       "3.0    20742\n",
       "7.0    11500\n",
       "0.0    10697\n",
       "4.0     9647\n",
       "1.0     8194\n",
       "5.0     3718\n",
       "6.0     3131\n",
       "2.0     1133\n",
       "Name: Dominant_Topic, dtype: int64"
      ]
     },
     "execution_count": 14,
     "metadata": {},
     "output_type": "execute_result"
    }
   ],
   "source": [
    "data.Dominant_Topic.value_counts()"
   ]
  },
  {
   "cell_type": "code",
   "execution_count": 15,
   "metadata": {},
   "outputs": [],
   "source": [
    "data['Topic']=data.Dominant_Topic.map({3.0:'topic1', 7.0:'topic2',0.0 :'topic3',4.0:'topic4', 1.0: 'topic5',\n",
    "                                                         5.0 : 'topic6', 6.0: 'topic7', 2.0:'topic8'})"
   ]
  },
  {
   "cell_type": "code",
   "execution_count": 16,
   "metadata": {},
   "outputs": [
    {
     "data": {
      "text/plain": [
       "topic1    20742\n",
       "topic2    11500\n",
       "topic3    10697\n",
       "topic4     9647\n",
       "topic5     8194\n",
       "topic6     3718\n",
       "topic7     3131\n",
       "topic8     1133\n",
       "Name: Topic, dtype: int64"
      ]
     },
     "execution_count": 16,
     "metadata": {},
     "output_type": "execute_result"
    }
   ],
   "source": [
    "data.Topic.value_counts()"
   ]
  },
  {
   "cell_type": "markdown",
   "metadata": {},
   "source": [
    "**Create a dataframe for working on paper**"
   ]
  },
  {
   "cell_type": "code",
   "execution_count": 17,
   "metadata": {},
   "outputs": [],
   "source": [
    "work_on_paper=data\n",
    "work_on_paper.drop(['Text','Document_No','Dominant_Topic'], axis=1, inplace=True)"
   ]
  },
  {
   "cell_type": "code",
   "execution_count": 18,
   "metadata": {},
   "outputs": [],
   "source": [
    "work_on_paper['Assignee']=patent.assignee\n",
    "work_on_paper['Year']=patent.year\n",
    "work_on_paper['Abstract']=patent.appln_abstr"
   ]
  },
  {
   "cell_type": "code",
   "execution_count": 19,
   "metadata": {},
   "outputs": [
    {
     "data": {
      "text/html": [
       "<div>\n",
       "<style scoped>\n",
       "    .dataframe tbody tr th:only-of-type {\n",
       "        vertical-align: middle;\n",
       "    }\n",
       "\n",
       "    .dataframe tbody tr th {\n",
       "        vertical-align: top;\n",
       "    }\n",
       "\n",
       "    .dataframe thead th {\n",
       "        text-align: right;\n",
       "    }\n",
       "</style>\n",
       "<table border=\"1\" class=\"dataframe\">\n",
       "  <thead>\n",
       "    <tr style=\"text-align: right;\">\n",
       "      <th></th>\n",
       "      <th>Topic_Perc_Contrib</th>\n",
       "      <th>Keywords</th>\n",
       "      <th>Topic</th>\n",
       "      <th>Assignee</th>\n",
       "      <th>Year</th>\n",
       "      <th>Abstract</th>\n",
       "    </tr>\n",
       "  </thead>\n",
       "  <tbody>\n",
       "    <tr>\n",
       "      <th>0</th>\n",
       "      <td>0.4003</td>\n",
       "      <td>charge, battery, power, electric, energy, syst...</td>\n",
       "      <td>topic5</td>\n",
       "      <td>luz electric fuel israel ltd</td>\n",
       "      <td>1990.0</td>\n",
       "      <td>An electrical energy system including an elect...</td>\n",
       "    </tr>\n",
       "    <tr>\n",
       "      <th>1</th>\n",
       "      <td>0.8034</td>\n",
       "      <td>charge, battery, power, electric, energy, syst...</td>\n",
       "      <td>topic5</td>\n",
       "      <td>luz electric fuel israel ltd</td>\n",
       "      <td>1990.0</td>\n",
       "      <td>An electrical energy system including an elect...</td>\n",
       "    </tr>\n",
       "    <tr>\n",
       "      <th>2</th>\n",
       "      <td>0.2962</td>\n",
       "      <td>oil, air, pipe, diesel, cylinder, body, gas, c...</td>\n",
       "      <td>topic2</td>\n",
       "      <td>sumitomo electric industries ltd</td>\n",
       "      <td>1995.0</td>\n",
       "      <td>An object is to provide a particulate trap for...</td>\n",
       "    </tr>\n",
       "    <tr>\n",
       "      <th>3</th>\n",
       "      <td>0.5153</td>\n",
       "      <td>oil, air, pipe, diesel, cylinder, body, gas, c...</td>\n",
       "      <td>topic2</td>\n",
       "      <td>sumitomo electric ind ltd</td>\n",
       "      <td>1995.0</td>\n",
       "      <td>PURPOSE: To obtain a trap by which the leakage...</td>\n",
       "    </tr>\n",
       "    <tr>\n",
       "      <th>4</th>\n",
       "      <td>0.4787</td>\n",
       "      <td>oil, air, pipe, diesel, cylinder, body, gas, c...</td>\n",
       "      <td>topic2</td>\n",
       "      <td>sumitomo electric industries ltd</td>\n",
       "      <td>1995.0</td>\n",
       "      <td>A particulate trap for a diesel engine designe...</td>\n",
       "    </tr>\n",
       "  </tbody>\n",
       "</table>\n",
       "</div>"
      ],
      "text/plain": [
       "   Topic_Perc_Contrib                                           Keywords  \\\n",
       "0              0.4003  charge, battery, power, electric, energy, syst...   \n",
       "1              0.8034  charge, battery, power, electric, energy, syst...   \n",
       "2              0.2962  oil, air, pipe, diesel, cylinder, body, gas, c...   \n",
       "3              0.5153  oil, air, pipe, diesel, cylinder, body, gas, c...   \n",
       "4              0.4787  oil, air, pipe, diesel, cylinder, body, gas, c...   \n",
       "\n",
       "    Topic                          Assignee    Year  \\\n",
       "0  topic5      luz electric fuel israel ltd  1990.0   \n",
       "1  topic5      luz electric fuel israel ltd  1990.0   \n",
       "2  topic2  sumitomo electric industries ltd  1995.0   \n",
       "3  topic2         sumitomo electric ind ltd  1995.0   \n",
       "4  topic2  sumitomo electric industries ltd  1995.0   \n",
       "\n",
       "                                            Abstract  \n",
       "0  An electrical energy system including an elect...  \n",
       "1  An electrical energy system including an elect...  \n",
       "2  An object is to provide a particulate trap for...  \n",
       "3  PURPOSE: To obtain a trap by which the leakage...  \n",
       "4  A particulate trap for a diesel engine designe...  "
      ]
     },
     "execution_count": 19,
     "metadata": {},
     "output_type": "execute_result"
    }
   ],
   "source": [
    "work_on_paper.head()"
   ]
  },
  {
   "cell_type": "code",
   "execution_count": 20,
   "metadata": {},
   "outputs": [
    {
     "data": {
      "text/plain": [
       "(68762, 6)"
      ]
     },
     "execution_count": 20,
     "metadata": {},
     "output_type": "execute_result"
    }
   ],
   "source": [
    "work_on_paper.shape"
   ]
  },
  {
   "cell_type": "code",
   "execution_count": 21,
   "metadata": {},
   "outputs": [],
   "source": [
    "#work_on_paper['Topic']=work_on_paper.Dominant_Topic.map({0:'topic1', 3:'topic2',1 :'topic3',7:'topic4', 4: 'topic5',2 : 'topic6', 6: 'topic7', 5:'topic8'})"
   ]
  },
  {
   "cell_type": "code",
   "execution_count": 22,
   "metadata": {},
   "outputs": [
    {
     "data": {
      "text/plain": [
       "topic1    20742\n",
       "topic2    11500\n",
       "topic3    10697\n",
       "topic4     9647\n",
       "topic5     8194\n",
       "topic6     3718\n",
       "topic7     3131\n",
       "topic8     1133\n",
       "Name: Topic, dtype: int64"
      ]
     },
     "execution_count": 22,
     "metadata": {},
     "output_type": "execute_result"
    }
   ],
   "source": [
    "work_on_paper.Topic.value_counts()"
   ]
  },
  {
   "cell_type": "code",
   "execution_count": 23,
   "metadata": {},
   "outputs": [],
   "source": [
    "#work_on_paper.Dominant_Topic.value_counts()"
   ]
  },
  {
   "cell_type": "code",
   "execution_count": 24,
   "metadata": {},
   "outputs": [],
   "source": [
    "#work_on_paper.drop(['Dominant_Topic'], axis=1, inplace=True)"
   ]
  },
  {
   "cell_type": "code",
   "execution_count": 25,
   "metadata": {},
   "outputs": [],
   "source": [
    "#work_on_paper.head(2)"
   ]
  },
  {
   "cell_type": "code",
   "execution_count": 26,
   "metadata": {},
   "outputs": [],
   "source": [
    "work_on_paper.to_pickle('work_on_paper.pkl')"
   ]
  },
  {
   "cell_type": "markdown",
   "metadata": {},
   "source": [
    "# 4)-After Modeling\n",
    "\n",
    "We shall use already saved file \"work_on_paper.pkl\". It has topics in pyvis order"
   ]
  },
  {
   "cell_type": "markdown",
   "metadata": {},
   "source": [
    "### 4a) Change in the number of patents "
   ]
  },
  {
   "cell_type": "code",
   "execution_count": 27,
   "metadata": {},
   "outputs": [],
   "source": [
    "data = pd.read_pickle('work_on_paper.pkl')"
   ]
  },
  {
   "cell_type": "code",
   "execution_count": 28,
   "metadata": {},
   "outputs": [
    {
     "data": {
      "text/html": [
       "<div>\n",
       "<style scoped>\n",
       "    .dataframe tbody tr th:only-of-type {\n",
       "        vertical-align: middle;\n",
       "    }\n",
       "\n",
       "    .dataframe tbody tr th {\n",
       "        vertical-align: top;\n",
       "    }\n",
       "\n",
       "    .dataframe thead th {\n",
       "        text-align: right;\n",
       "    }\n",
       "</style>\n",
       "<table border=\"1\" class=\"dataframe\">\n",
       "  <thead>\n",
       "    <tr style=\"text-align: right;\">\n",
       "      <th></th>\n",
       "      <th>Topic_Perc_Contrib</th>\n",
       "      <th>Keywords</th>\n",
       "      <th>Topic</th>\n",
       "      <th>Assignee</th>\n",
       "      <th>Year</th>\n",
       "      <th>Abstract</th>\n",
       "    </tr>\n",
       "  </thead>\n",
       "  <tbody>\n",
       "    <tr>\n",
       "      <th>0</th>\n",
       "      <td>0.4003</td>\n",
       "      <td>charge, battery, power, electric, energy, syst...</td>\n",
       "      <td>topic5</td>\n",
       "      <td>luz electric fuel israel ltd</td>\n",
       "      <td>1990.0</td>\n",
       "      <td>An electrical energy system including an elect...</td>\n",
       "    </tr>\n",
       "    <tr>\n",
       "      <th>1</th>\n",
       "      <td>0.8034</td>\n",
       "      <td>charge, battery, power, electric, energy, syst...</td>\n",
       "      <td>topic5</td>\n",
       "      <td>luz electric fuel israel ltd</td>\n",
       "      <td>1990.0</td>\n",
       "      <td>An electrical energy system including an elect...</td>\n",
       "    </tr>\n",
       "    <tr>\n",
       "      <th>2</th>\n",
       "      <td>0.2962</td>\n",
       "      <td>oil, air, pipe, diesel, cylinder, body, gas, c...</td>\n",
       "      <td>topic2</td>\n",
       "      <td>sumitomo electric industries ltd</td>\n",
       "      <td>1995.0</td>\n",
       "      <td>An object is to provide a particulate trap for...</td>\n",
       "    </tr>\n",
       "    <tr>\n",
       "      <th>3</th>\n",
       "      <td>0.5153</td>\n",
       "      <td>oil, air, pipe, diesel, cylinder, body, gas, c...</td>\n",
       "      <td>topic2</td>\n",
       "      <td>sumitomo electric ind ltd</td>\n",
       "      <td>1995.0</td>\n",
       "      <td>PURPOSE: To obtain a trap by which the leakage...</td>\n",
       "    </tr>\n",
       "    <tr>\n",
       "      <th>4</th>\n",
       "      <td>0.4787</td>\n",
       "      <td>oil, air, pipe, diesel, cylinder, body, gas, c...</td>\n",
       "      <td>topic2</td>\n",
       "      <td>sumitomo electric industries ltd</td>\n",
       "      <td>1995.0</td>\n",
       "      <td>A particulate trap for a diesel engine designe...</td>\n",
       "    </tr>\n",
       "  </tbody>\n",
       "</table>\n",
       "</div>"
      ],
      "text/plain": [
       "   Topic_Perc_Contrib                                           Keywords  \\\n",
       "0              0.4003  charge, battery, power, electric, energy, syst...   \n",
       "1              0.8034  charge, battery, power, electric, energy, syst...   \n",
       "2              0.2962  oil, air, pipe, diesel, cylinder, body, gas, c...   \n",
       "3              0.5153  oil, air, pipe, diesel, cylinder, body, gas, c...   \n",
       "4              0.4787  oil, air, pipe, diesel, cylinder, body, gas, c...   \n",
       "\n",
       "    Topic                          Assignee    Year  \\\n",
       "0  topic5      luz electric fuel israel ltd  1990.0   \n",
       "1  topic5      luz electric fuel israel ltd  1990.0   \n",
       "2  topic2  sumitomo electric industries ltd  1995.0   \n",
       "3  topic2         sumitomo electric ind ltd  1995.0   \n",
       "4  topic2  sumitomo electric industries ltd  1995.0   \n",
       "\n",
       "                                            Abstract  \n",
       "0  An electrical energy system including an elect...  \n",
       "1  An electrical energy system including an elect...  \n",
       "2  An object is to provide a particulate trap for...  \n",
       "3  PURPOSE: To obtain a trap by which the leakage...  \n",
       "4  A particulate trap for a diesel engine designe...  "
      ]
     },
     "execution_count": 28,
     "metadata": {},
     "output_type": "execute_result"
    }
   ],
   "source": [
    "data.head()"
   ]
  },
  {
   "cell_type": "code",
   "execution_count": 29,
   "metadata": {},
   "outputs": [
    {
     "data": {
      "text/plain": [
       "topic1    20742\n",
       "topic2    11500\n",
       "topic3    10697\n",
       "topic4     9647\n",
       "topic5     8194\n",
       "topic6     3718\n",
       "topic7     3131\n",
       "topic8     1133\n",
       "Name: Topic, dtype: int64"
      ]
     },
     "execution_count": 29,
     "metadata": {},
     "output_type": "execute_result"
    }
   ],
   "source": [
    "data.Topic.value_counts()"
   ]
  },
  {
   "cell_type": "code",
   "execution_count": 30,
   "metadata": {},
   "outputs": [
    {
     "data": {
      "text/plain": [
       "(68762, 6)"
      ]
     },
     "execution_count": 30,
     "metadata": {},
     "output_type": "execute_result"
    }
   ],
   "source": [
    "data.shape"
   ]
  },
  {
   "cell_type": "code",
   "execution_count": 31,
   "metadata": {},
   "outputs": [
    {
     "data": {
      "text/plain": [
       "<matplotlib.axes._subplots.AxesSubplot at 0x198ec3425c8>"
      ]
     },
     "execution_count": 31,
     "metadata": {},
     "output_type": "execute_result"
    },
    {
     "data": {
      "image/png": "[encoded data removed]",
      "text/plain": [
       "<Figure size 432x288 with 1 Axes>"
      ]
     },
     "metadata": {
      "needs_background": "light"
     },
     "output_type": "display_data"
    }
   ],
   "source": [
    "d=data\n",
    "d=d.groupby([\"Year\",\"Topic\"]).size()\n",
    "d=d.unstack('Topic')\n",
    "d.plot()"
   ]
  },
  {
   "cell_type": "markdown",
   "metadata": {},
   "source": [
    "# Using plotly"
   ]
  },
  {
   "cell_type": "code",
   "execution_count": 69,
   "metadata": {},
   "outputs": [],
   "source": [
    "d=data"
   ]
  },
  {
   "cell_type": "code",
   "execution_count": 70,
   "metadata": {},
   "outputs": [],
   "source": [
    "d=d.groupby([\"Year\",\"Topic\"]).size()"
   ]
  },
  {
   "cell_type": "code",
   "execution_count": 71,
   "metadata": {},
   "outputs": [
    {
     "data": {
      "text/plain": [
       "Year    Topic \n",
       "1990.0  topic1    158\n",
       "        topic2     70\n",
       "        topic3    159\n",
       "        topic4    123\n",
       "        topic5     84\n",
       "dtype: int64"
      ]
     },
     "execution_count": 71,
     "metadata": {},
     "output_type": "execute_result"
    }
   ],
   "source": [
    "d.head()"
   ]
  },
  {
   "cell_type": "code",
   "execution_count": 72,
   "metadata": {},
   "outputs": [],
   "source": [
    "df_patent=d.unstack('Topic')"
   ]
  },
  {
   "cell_type": "code",
   "execution_count": 73,
   "metadata": {},
   "outputs": [
    {
     "data": {
      "text/plain": [
       "pandas.core.frame.DataFrame"
      ]
     },
     "execution_count": 73,
     "metadata": {},
     "output_type": "execute_result"
    }
   ],
   "source": [
    "type(df_patent)"
   ]
  },
  {
   "cell_type": "code",
   "execution_count": 74,
   "metadata": {},
   "outputs": [
    {
     "data": {
      "text/plain": [
       "<matplotlib.axes._subplots.AxesSubplot at 0x1fd2b97da88>"
      ]
     },
     "execution_count": 74,
     "metadata": {},
     "output_type": "execute_result"
    },
    {
     "data": {
      "image/png": "[encoded data removed]",
      "text/plain": [
       "<Figure size 432x288 with 1 Axes>"
      ]
     },
     "metadata": {
      "needs_background": "light"
     },
     "output_type": "display_data"
    }
   ],
   "source": [
    "df_patent.plot()"
   ]
  },
  {
   "cell_type": "code",
   "execution_count": 75,
   "metadata": {},
   "outputs": [],
   "source": [
    "df_patent2=df_patent.T"
   ]
  },
  {
   "cell_type": "code",
   "execution_count": 76,
   "metadata": {},
   "outputs": [
    {
     "data": {
      "text/html": [
       "<div>\n",
       "<style scoped>\n",
       "    .dataframe tbody tr th:only-of-type {\n",
       "        vertical-align: middle;\n",
       "    }\n",
       "\n",
       "    .dataframe tbody tr th {\n",
       "        vertical-align: top;\n",
       "    }\n",
       "\n",
       "    .dataframe thead th {\n",
       "        text-align: right;\n",
       "    }\n",
       "</style>\n",
       "<table border=\"1\" class=\"dataframe\">\n",
       "  <thead>\n",
       "    <tr style=\"text-align: right;\">\n",
       "      <th>Year</th>\n",
       "      <th>1990.0</th>\n",
       "      <th>1991.0</th>\n",
       "      <th>1992.0</th>\n",
       "      <th>1993.0</th>\n",
       "      <th>1994.0</th>\n",
       "      <th>1995.0</th>\n",
       "      <th>1996.0</th>\n",
       "      <th>1997.0</th>\n",
       "      <th>1998.0</th>\n",
       "      <th>1999.0</th>\n",
       "      <th>...</th>\n",
       "      <th>2008.0</th>\n",
       "      <th>2009.0</th>\n",
       "      <th>2010.0</th>\n",
       "      <th>2011.0</th>\n",
       "      <th>2012.0</th>\n",
       "      <th>2013.0</th>\n",
       "      <th>2014.0</th>\n",
       "      <th>2015.0</th>\n",
       "      <th>2016.0</th>\n",
       "      <th>2017.0</th>\n",
       "    </tr>\n",
       "    <tr>\n",
       "      <th>Topic</th>\n",
       "      <th></th>\n",
       "      <th></th>\n",
       "      <th></th>\n",
       "      <th></th>\n",
       "      <th></th>\n",
       "      <th></th>\n",
       "      <th></th>\n",
       "      <th></th>\n",
       "      <th></th>\n",
       "      <th></th>\n",
       "      <th></th>\n",
       "      <th></th>\n",
       "      <th></th>\n",
       "      <th></th>\n",
       "      <th></th>\n",
       "      <th></th>\n",
       "      <th></th>\n",
       "      <th></th>\n",
       "      <th></th>\n",
       "      <th></th>\n",
       "      <th></th>\n",
       "    </tr>\n",
       "  </thead>\n",
       "  <tbody>\n",
       "    <tr>\n",
       "      <th>topic1</th>\n",
       "      <td>158.0</td>\n",
       "      <td>190.0</td>\n",
       "      <td>190.0</td>\n",
       "      <td>251.0</td>\n",
       "      <td>284.0</td>\n",
       "      <td>337.0</td>\n",
       "      <td>412.0</td>\n",
       "      <td>382.0</td>\n",
       "      <td>475.0</td>\n",
       "      <td>594.0</td>\n",
       "      <td>...</td>\n",
       "      <td>795.0</td>\n",
       "      <td>859.0</td>\n",
       "      <td>1323.0</td>\n",
       "      <td>1606.0</td>\n",
       "      <td>1410.0</td>\n",
       "      <td>1355.0</td>\n",
       "      <td>1080.0</td>\n",
       "      <td>873.0</td>\n",
       "      <td>272.0</td>\n",
       "      <td>14.0</td>\n",
       "    </tr>\n",
       "    <tr>\n",
       "      <th>topic2</th>\n",
       "      <td>70.0</td>\n",
       "      <td>96.0</td>\n",
       "      <td>122.0</td>\n",
       "      <td>188.0</td>\n",
       "      <td>168.0</td>\n",
       "      <td>183.0</td>\n",
       "      <td>165.0</td>\n",
       "      <td>210.0</td>\n",
       "      <td>147.0</td>\n",
       "      <td>201.0</td>\n",
       "      <td>...</td>\n",
       "      <td>697.0</td>\n",
       "      <td>997.0</td>\n",
       "      <td>1161.0</td>\n",
       "      <td>1673.0</td>\n",
       "      <td>1435.0</td>\n",
       "      <td>1151.0</td>\n",
       "      <td>915.0</td>\n",
       "      <td>725.0</td>\n",
       "      <td>558.0</td>\n",
       "      <td>116.0</td>\n",
       "    </tr>\n",
       "    <tr>\n",
       "      <th>topic3</th>\n",
       "      <td>159.0</td>\n",
       "      <td>149.0</td>\n",
       "      <td>256.0</td>\n",
       "      <td>327.0</td>\n",
       "      <td>292.0</td>\n",
       "      <td>325.0</td>\n",
       "      <td>359.0</td>\n",
       "      <td>348.0</td>\n",
       "      <td>372.0</td>\n",
       "      <td>399.0</td>\n",
       "      <td>...</td>\n",
       "      <td>594.0</td>\n",
       "      <td>668.0</td>\n",
       "      <td>786.0</td>\n",
       "      <td>921.0</td>\n",
       "      <td>914.0</td>\n",
       "      <td>619.0</td>\n",
       "      <td>495.0</td>\n",
       "      <td>458.0</td>\n",
       "      <td>416.0</td>\n",
       "      <td>126.0</td>\n",
       "    </tr>\n",
       "    <tr>\n",
       "      <th>topic4</th>\n",
       "      <td>123.0</td>\n",
       "      <td>168.0</td>\n",
       "      <td>235.0</td>\n",
       "      <td>193.0</td>\n",
       "      <td>166.0</td>\n",
       "      <td>158.0</td>\n",
       "      <td>194.0</td>\n",
       "      <td>226.0</td>\n",
       "      <td>273.0</td>\n",
       "      <td>335.0</td>\n",
       "      <td>...</td>\n",
       "      <td>515.0</td>\n",
       "      <td>349.0</td>\n",
       "      <td>475.0</td>\n",
       "      <td>484.0</td>\n",
       "      <td>486.0</td>\n",
       "      <td>279.0</td>\n",
       "      <td>236.0</td>\n",
       "      <td>146.0</td>\n",
       "      <td>55.0</td>\n",
       "      <td>13.0</td>\n",
       "    </tr>\n",
       "    <tr>\n",
       "      <th>topic5</th>\n",
       "      <td>84.0</td>\n",
       "      <td>90.0</td>\n",
       "      <td>129.0</td>\n",
       "      <td>193.0</td>\n",
       "      <td>177.0</td>\n",
       "      <td>173.0</td>\n",
       "      <td>268.0</td>\n",
       "      <td>286.0</td>\n",
       "      <td>298.0</td>\n",
       "      <td>297.0</td>\n",
       "      <td>...</td>\n",
       "      <td>307.0</td>\n",
       "      <td>319.0</td>\n",
       "      <td>434.0</td>\n",
       "      <td>398.0</td>\n",
       "      <td>334.0</td>\n",
       "      <td>256.0</td>\n",
       "      <td>234.0</td>\n",
       "      <td>133.0</td>\n",
       "      <td>84.0</td>\n",
       "      <td>14.0</td>\n",
       "    </tr>\n",
       "    <tr>\n",
       "      <th>topic6</th>\n",
       "      <td>24.0</td>\n",
       "      <td>18.0</td>\n",
       "      <td>47.0</td>\n",
       "      <td>29.0</td>\n",
       "      <td>30.0</td>\n",
       "      <td>93.0</td>\n",
       "      <td>44.0</td>\n",
       "      <td>97.0</td>\n",
       "      <td>128.0</td>\n",
       "      <td>121.0</td>\n",
       "      <td>...</td>\n",
       "      <td>248.0</td>\n",
       "      <td>439.0</td>\n",
       "      <td>345.0</td>\n",
       "      <td>489.0</td>\n",
       "      <td>522.0</td>\n",
       "      <td>457.0</td>\n",
       "      <td>333.0</td>\n",
       "      <td>242.0</td>\n",
       "      <td>136.0</td>\n",
       "      <td>67.0</td>\n",
       "    </tr>\n",
       "    <tr>\n",
       "      <th>topic7</th>\n",
       "      <td>11.0</td>\n",
       "      <td>20.0</td>\n",
       "      <td>25.0</td>\n",
       "      <td>22.0</td>\n",
       "      <td>35.0</td>\n",
       "      <td>13.0</td>\n",
       "      <td>39.0</td>\n",
       "      <td>24.0</td>\n",
       "      <td>27.0</td>\n",
       "      <td>56.0</td>\n",
       "      <td>...</td>\n",
       "      <td>91.0</td>\n",
       "      <td>112.0</td>\n",
       "      <td>116.0</td>\n",
       "      <td>146.0</td>\n",
       "      <td>127.0</td>\n",
       "      <td>113.0</td>\n",
       "      <td>121.0</td>\n",
       "      <td>107.0</td>\n",
       "      <td>47.0</td>\n",
       "      <td>7.0</td>\n",
       "    </tr>\n",
       "    <tr>\n",
       "      <th>topic8</th>\n",
       "      <td>2.0</td>\n",
       "      <td>1.0</td>\n",
       "      <td>4.0</td>\n",
       "      <td>2.0</td>\n",
       "      <td>2.0</td>\n",
       "      <td>3.0</td>\n",
       "      <td>2.0</td>\n",
       "      <td>8.0</td>\n",
       "      <td>6.0</td>\n",
       "      <td>NaN</td>\n",
       "      <td>...</td>\n",
       "      <td>12.0</td>\n",
       "      <td>11.0</td>\n",
       "      <td>19.0</td>\n",
       "      <td>20.0</td>\n",
       "      <td>14.0</td>\n",
       "      <td>17.0</td>\n",
       "      <td>6.0</td>\n",
       "      <td>2.0</td>\n",
       "      <td>NaN</td>\n",
       "      <td>2.0</td>\n",
       "    </tr>\n",
       "  </tbody>\n",
       "</table>\n",
       "<p>8 rows × 28 columns</p>\n",
       "</div>"
      ],
      "text/plain": [
       "Year    1990.0  1991.0  1992.0  1993.0  1994.0  1995.0  1996.0  1997.0  \\\n",
       "Topic                                                                    \n",
       "topic1   158.0   190.0   190.0   251.0   284.0   337.0   412.0   382.0   \n",
       "topic2    70.0    96.0   122.0   188.0   168.0   183.0   165.0   210.0   \n",
       "topic3   159.0   149.0   256.0   327.0   292.0   325.0   359.0   348.0   \n",
       "topic4   123.0   168.0   235.0   193.0   166.0   158.0   194.0   226.0   \n",
       "topic5    84.0    90.0   129.0   193.0   177.0   173.0   268.0   286.0   \n",
       "topic6    24.0    18.0    47.0    29.0    30.0    93.0    44.0    97.0   \n",
       "topic7    11.0    20.0    25.0    22.0    35.0    13.0    39.0    24.0   \n",
       "topic8     2.0     1.0     4.0     2.0     2.0     3.0     2.0     8.0   \n",
       "\n",
       "Year    1998.0  1999.0  ...  2008.0  2009.0  2010.0  2011.0  2012.0  2013.0  \\\n",
       "Topic                   ...                                                   \n",
       "topic1   475.0   594.0  ...   795.0   859.0  1323.0  1606.0  1410.0  1355.0   \n",
       "topic2   147.0   201.0  ...   697.0   997.0  1161.0  1673.0  1435.0  1151.0   \n",
       "topic3   372.0   399.0  ...   594.0   668.0   786.0   921.0   914.0   619.0   \n",
       "topic4   273.0   335.0  ...   515.0   349.0   475.0   484.0   486.0   279.0   \n",
       "topic5   298.0   297.0  ...   307.0   319.0   434.0   398.0   334.0   256.0   \n",
       "topic6   128.0   121.0  ...   248.0   439.0   345.0   489.0   522.0   457.0   \n",
       "topic7    27.0    56.0  ...    91.0   112.0   116.0   146.0   127.0   113.0   \n",
       "topic8     6.0     NaN  ...    12.0    11.0    19.0    20.0    14.0    17.0   \n",
       "\n",
       "Year    2014.0  2015.0  2016.0  2017.0  \n",
       "Topic                                   \n",
       "topic1  1080.0   873.0   272.0    14.0  \n",
       "topic2   915.0   725.0   558.0   116.0  \n",
       "topic3   495.0   458.0   416.0   126.0  \n",
       "topic4   236.0   146.0    55.0    13.0  \n",
       "topic5   234.0   133.0    84.0    14.0  \n",
       "topic6   333.0   242.0   136.0    67.0  \n",
       "topic7   121.0   107.0    47.0     7.0  \n",
       "topic8     6.0     2.0     NaN     2.0  \n",
       "\n",
       "[8 rows x 28 columns]"
      ]
     },
     "execution_count": 76,
     "metadata": {},
     "output_type": "execute_result"
    }
   ],
   "source": [
    "df_patent2"
   ]
  },
  {
   "cell_type": "code",
   "execution_count": 77,
   "metadata": {},
   "outputs": [],
   "source": [
    "traces=[go.Scatter(\n",
    "    x=df_patent2.columns,\n",
    "    y=df_patent2.loc[row_name],\n",
    "    mode='lines+markers',\n",
    "    name=row_name\n",
    "\n",
    "\n",
    "\n",
    ")for row_name in df_patent2.index]"
   ]
  },
  {
   "cell_type": "code",
   "execution_count": 78,
   "metadata": {},
   "outputs": [],
   "source": [
    "data=traces"
   ]
  },
  {
   "cell_type": "code",
   "execution_count": 79,
   "metadata": {},
   "outputs": [],
   "source": [
    "layout=go.Layout(\n",
    "title='Change in the number of patents over filling years',\n",
    "xaxis=dict(title='Number of filling years'),\n",
    "yaxis=dict(title='Number of patents'),\n",
    "hovermode='closest' # for bringing values of points together as x and y\n",
    ")"
   ]
  },
  {
   "cell_type": "code",
   "execution_count": 80,
   "metadata": {},
   "outputs": [],
   "source": [
    "#layout=go.Layout(title='Change in the number of patents over filling years')"
   ]
  },
  {
   "cell_type": "code",
   "execution_count": 81,
   "metadata": {},
   "outputs": [],
   "source": [
    "figure1= go.Figure(data=data, layout=layout)"
   ]
  },
  {
   "cell_type": "code",
   "execution_count": 82,
   "metadata": {},
   "outputs": [
    {
     "data": {
      "text/plain": [
       "'Change in the number of patents.html'"
      ]
     },
     "execution_count": 82,
     "metadata": {},
     "output_type": "execute_result"
    }
   ],
   "source": [
    "pyo.plot(figure1,filename='Change in the number of patents.html')"
   ]
  },
  {
   "cell_type": "markdown",
   "metadata": {},
   "source": [
    "**Alternative way**"
   ]
  },
  {
   "cell_type": "code",
   "execution_count": 83,
   "metadata": {},
   "outputs": [],
   "source": [
    "data = pd.read_pickle('work_on_paper.pkl')"
   ]
  },
  {
   "cell_type": "code",
   "execution_count": 84,
   "metadata": {},
   "outputs": [],
   "source": [
    "f=data.groupby(data.Year).Topic.value_counts()"
   ]
  },
  {
   "cell_type": "code",
   "execution_count": 85,
   "metadata": {},
   "outputs": [],
   "source": [
    "f=f.unstack('Topic')"
   ]
  },
  {
   "cell_type": "code",
   "execution_count": 86,
   "metadata": {},
   "outputs": [
    {
     "data": {
      "image/png": "[encoded data removed]",
      "text/plain": [
       "<Figure size 432x288 with 1 Axes>"
      ]
     },
     "metadata": {
      "needs_background": "light"
     },
     "output_type": "display_data"
    }
   ],
   "source": [
    "f.plot()\n",
    "plt.xlabel('Filling years')\n",
    "plt.ylabel('patent Share')\n",
    "plt.title('Change in the number of patents over filling years')\n",
    "plt.legend()\n",
    "plt.show()"
   ]
  },
  {
   "cell_type": "markdown",
   "metadata": {},
   "source": [
    "**result of figure 4a**"
   ]
  },
  {
   "cell_type": "markdown",
   "metadata": {},
   "source": [
    "### 4(b) Change in the share of patents over filing year"
   ]
  },
  {
   "cell_type": "code",
   "execution_count": 87,
   "metadata": {},
   "outputs": [
    {
     "data": {
      "text/plain": [
       "topic1    0.267662\n",
       "topic2    0.196271\n",
       "topic3    0.185233\n",
       "topic4    0.133039\n",
       "topic5    0.105145\n",
       "topic6    0.080859\n",
       "topic7    0.028519\n",
       "topic8    0.003272\n",
       "Name: Topic, dtype: float64"
      ]
     },
     "execution_count": 87,
     "metadata": {},
     "output_type": "execute_result"
    }
   ],
   "source": [
    "data.Topic.value_counts(normalize=True)"
   ]
  },
  {
   "cell_type": "code",
   "execution_count": 88,
   "metadata": {},
   "outputs": [
    {
     "data": {
      "text/plain": [
       "Year    Topic \n",
       "1990.0  topic3    0.251981\n",
       "        topic1    0.250396\n",
       "        topic4    0.194929\n",
       "        topic5    0.133122\n",
       "        topic2    0.110935\n",
       "                    ...   \n",
       "2017.0  topic1    0.038997\n",
       "        topic5    0.038997\n",
       "        topic4    0.036212\n",
       "        topic7    0.019499\n",
       "        topic8    0.005571\n",
       "Name: Topic, Length: 222, dtype: float64"
      ]
     },
     "execution_count": 88,
     "metadata": {},
     "output_type": "execute_result"
    }
   ],
   "source": [
    "data.groupby(data.Year).Topic.value_counts(normalize=True)"
   ]
  },
  {
   "cell_type": "code",
   "execution_count": 89,
   "metadata": {},
   "outputs": [],
   "source": [
    "c=data.groupby(data.Year).Topic.value_counts(normalize=True)"
   ]
  },
  {
   "cell_type": "code",
   "execution_count": 90,
   "metadata": {},
   "outputs": [],
   "source": [
    "c=c.unstack('Topic')"
   ]
  },
  {
   "cell_type": "code",
   "execution_count": 91,
   "metadata": {},
   "outputs": [
    {
     "data": {
      "text/html": [
       "<div>\n",
       "<style scoped>\n",
       "    .dataframe tbody tr th:only-of-type {\n",
       "        vertical-align: middle;\n",
       "    }\n",
       "\n",
       "    .dataframe tbody tr th {\n",
       "        vertical-align: top;\n",
       "    }\n",
       "\n",
       "    .dataframe thead th {\n",
       "        text-align: right;\n",
       "    }\n",
       "</style>\n",
       "<table border=\"1\" class=\"dataframe\">\n",
       "  <thead>\n",
       "    <tr style=\"text-align: right;\">\n",
       "      <th>Topic</th>\n",
       "      <th>topic1</th>\n",
       "      <th>topic2</th>\n",
       "      <th>topic3</th>\n",
       "      <th>topic4</th>\n",
       "      <th>topic5</th>\n",
       "      <th>topic6</th>\n",
       "      <th>topic7</th>\n",
       "      <th>topic8</th>\n",
       "    </tr>\n",
       "    <tr>\n",
       "      <th>Year</th>\n",
       "      <th></th>\n",
       "      <th></th>\n",
       "      <th></th>\n",
       "      <th></th>\n",
       "      <th></th>\n",
       "      <th></th>\n",
       "      <th></th>\n",
       "      <th></th>\n",
       "    </tr>\n",
       "  </thead>\n",
       "  <tbody>\n",
       "    <tr>\n",
       "      <th>1990.0</th>\n",
       "      <td>0.250396</td>\n",
       "      <td>0.110935</td>\n",
       "      <td>0.251981</td>\n",
       "      <td>0.194929</td>\n",
       "      <td>0.133122</td>\n",
       "      <td>0.038035</td>\n",
       "      <td>0.017433</td>\n",
       "      <td>0.003170</td>\n",
       "    </tr>\n",
       "    <tr>\n",
       "      <th>1991.0</th>\n",
       "      <td>0.259563</td>\n",
       "      <td>0.131148</td>\n",
       "      <td>0.203552</td>\n",
       "      <td>0.229508</td>\n",
       "      <td>0.122951</td>\n",
       "      <td>0.024590</td>\n",
       "      <td>0.027322</td>\n",
       "      <td>0.001366</td>\n",
       "    </tr>\n",
       "    <tr>\n",
       "      <th>1992.0</th>\n",
       "      <td>0.188492</td>\n",
       "      <td>0.121032</td>\n",
       "      <td>0.253968</td>\n",
       "      <td>0.233135</td>\n",
       "      <td>0.127976</td>\n",
       "      <td>0.046627</td>\n",
       "      <td>0.024802</td>\n",
       "      <td>0.003968</td>\n",
       "    </tr>\n",
       "    <tr>\n",
       "      <th>1993.0</th>\n",
       "      <td>0.208299</td>\n",
       "      <td>0.156017</td>\n",
       "      <td>0.271369</td>\n",
       "      <td>0.160166</td>\n",
       "      <td>0.160166</td>\n",
       "      <td>0.024066</td>\n",
       "      <td>0.018257</td>\n",
       "      <td>0.001660</td>\n",
       "    </tr>\n",
       "    <tr>\n",
       "      <th>1994.0</th>\n",
       "      <td>0.246101</td>\n",
       "      <td>0.145581</td>\n",
       "      <td>0.253033</td>\n",
       "      <td>0.143847</td>\n",
       "      <td>0.153380</td>\n",
       "      <td>0.025997</td>\n",
       "      <td>0.030329</td>\n",
       "      <td>0.001733</td>\n",
       "    </tr>\n",
       "    <tr>\n",
       "      <th>1995.0</th>\n",
       "      <td>0.262257</td>\n",
       "      <td>0.142412</td>\n",
       "      <td>0.252918</td>\n",
       "      <td>0.122957</td>\n",
       "      <td>0.134630</td>\n",
       "      <td>0.072374</td>\n",
       "      <td>0.010117</td>\n",
       "      <td>0.002335</td>\n",
       "    </tr>\n",
       "    <tr>\n",
       "      <th>1996.0</th>\n",
       "      <td>0.277815</td>\n",
       "      <td>0.111261</td>\n",
       "      <td>0.242077</td>\n",
       "      <td>0.130816</td>\n",
       "      <td>0.180715</td>\n",
       "      <td>0.029670</td>\n",
       "      <td>0.026298</td>\n",
       "      <td>0.001349</td>\n",
       "    </tr>\n",
       "    <tr>\n",
       "      <th>1997.0</th>\n",
       "      <td>0.241619</td>\n",
       "      <td>0.132827</td>\n",
       "      <td>0.220114</td>\n",
       "      <td>0.142948</td>\n",
       "      <td>0.180898</td>\n",
       "      <td>0.061354</td>\n",
       "      <td>0.015180</td>\n",
       "      <td>0.005060</td>\n",
       "    </tr>\n",
       "    <tr>\n",
       "      <th>1998.0</th>\n",
       "      <td>0.275203</td>\n",
       "      <td>0.085168</td>\n",
       "      <td>0.215527</td>\n",
       "      <td>0.158169</td>\n",
       "      <td>0.172654</td>\n",
       "      <td>0.074160</td>\n",
       "      <td>0.015643</td>\n",
       "      <td>0.003476</td>\n",
       "    </tr>\n",
       "    <tr>\n",
       "      <th>1999.0</th>\n",
       "      <td>0.296555</td>\n",
       "      <td>0.100349</td>\n",
       "      <td>0.199201</td>\n",
       "      <td>0.167249</td>\n",
       "      <td>0.148278</td>\n",
       "      <td>0.060409</td>\n",
       "      <td>0.027958</td>\n",
       "      <td>NaN</td>\n",
       "    </tr>\n",
       "    <tr>\n",
       "      <th>2000.0</th>\n",
       "      <td>0.249209</td>\n",
       "      <td>0.104930</td>\n",
       "      <td>0.170059</td>\n",
       "      <td>0.196291</td>\n",
       "      <td>0.175486</td>\n",
       "      <td>0.066486</td>\n",
       "      <td>0.034374</td>\n",
       "      <td>0.003166</td>\n",
       "    </tr>\n",
       "    <tr>\n",
       "      <th>2001.0</th>\n",
       "      <td>0.259374</td>\n",
       "      <td>0.112925</td>\n",
       "      <td>0.169387</td>\n",
       "      <td>0.186149</td>\n",
       "      <td>0.145126</td>\n",
       "      <td>0.084693</td>\n",
       "      <td>0.040141</td>\n",
       "      <td>0.002206</td>\n",
       "    </tr>\n",
       "    <tr>\n",
       "      <th>2002.0</th>\n",
       "      <td>0.238846</td>\n",
       "      <td>0.109959</td>\n",
       "      <td>0.198288</td>\n",
       "      <td>0.221271</td>\n",
       "      <td>0.113565</td>\n",
       "      <td>0.071654</td>\n",
       "      <td>0.042361</td>\n",
       "      <td>0.004056</td>\n",
       "    </tr>\n",
       "    <tr>\n",
       "      <th>2003.0</th>\n",
       "      <td>0.240642</td>\n",
       "      <td>0.104072</td>\n",
       "      <td>0.179761</td>\n",
       "      <td>0.222954</td>\n",
       "      <td>0.139449</td>\n",
       "      <td>0.071575</td>\n",
       "      <td>0.035788</td>\n",
       "      <td>0.005759</td>\n",
       "    </tr>\n",
       "    <tr>\n",
       "      <th>2004.0</th>\n",
       "      <td>0.263203</td>\n",
       "      <td>0.096537</td>\n",
       "      <td>0.195238</td>\n",
       "      <td>0.209091</td>\n",
       "      <td>0.134199</td>\n",
       "      <td>0.065368</td>\n",
       "      <td>0.033766</td>\n",
       "      <td>0.002597</td>\n",
       "    </tr>\n",
       "    <tr>\n",
       "      <th>2005.0</th>\n",
       "      <td>0.254449</td>\n",
       "      <td>0.107914</td>\n",
       "      <td>0.188186</td>\n",
       "      <td>0.186672</td>\n",
       "      <td>0.147671</td>\n",
       "      <td>0.071942</td>\n",
       "      <td>0.035593</td>\n",
       "      <td>0.007573</td>\n",
       "    </tr>\n",
       "    <tr>\n",
       "      <th>2006.0</th>\n",
       "      <td>0.276730</td>\n",
       "      <td>0.128645</td>\n",
       "      <td>0.170669</td>\n",
       "      <td>0.176672</td>\n",
       "      <td>0.115780</td>\n",
       "      <td>0.102630</td>\n",
       "      <td>0.026301</td>\n",
       "      <td>0.002573</td>\n",
       "    </tr>\n",
       "    <tr>\n",
       "      <th>2007.0</th>\n",
       "      <td>0.302846</td>\n",
       "      <td>0.166957</td>\n",
       "      <td>0.165796</td>\n",
       "      <td>0.161440</td>\n",
       "      <td>0.089721</td>\n",
       "      <td>0.080720</td>\n",
       "      <td>0.026132</td>\n",
       "      <td>0.006388</td>\n",
       "    </tr>\n",
       "    <tr>\n",
       "      <th>2008.0</th>\n",
       "      <td>0.243940</td>\n",
       "      <td>0.213869</td>\n",
       "      <td>0.182264</td>\n",
       "      <td>0.158024</td>\n",
       "      <td>0.094201</td>\n",
       "      <td>0.076097</td>\n",
       "      <td>0.027923</td>\n",
       "      <td>0.003682</td>\n",
       "    </tr>\n",
       "    <tr>\n",
       "      <th>2009.0</th>\n",
       "      <td>0.228823</td>\n",
       "      <td>0.265583</td>\n",
       "      <td>0.177944</td>\n",
       "      <td>0.092968</td>\n",
       "      <td>0.084976</td>\n",
       "      <td>0.116942</td>\n",
       "      <td>0.029835</td>\n",
       "      <td>0.002930</td>\n",
       "    </tr>\n",
       "    <tr>\n",
       "      <th>2010.0</th>\n",
       "      <td>0.283967</td>\n",
       "      <td>0.249195</td>\n",
       "      <td>0.168706</td>\n",
       "      <td>0.101953</td>\n",
       "      <td>0.093153</td>\n",
       "      <td>0.074050</td>\n",
       "      <td>0.024898</td>\n",
       "      <td>0.004078</td>\n",
       "    </tr>\n",
       "    <tr>\n",
       "      <th>2011.0</th>\n",
       "      <td>0.279937</td>\n",
       "      <td>0.291616</td>\n",
       "      <td>0.160537</td>\n",
       "      <td>0.084365</td>\n",
       "      <td>0.069374</td>\n",
       "      <td>0.085236</td>\n",
       "      <td>0.025449</td>\n",
       "      <td>0.003486</td>\n",
       "    </tr>\n",
       "    <tr>\n",
       "      <th>2012.0</th>\n",
       "      <td>0.268981</td>\n",
       "      <td>0.273750</td>\n",
       "      <td>0.174361</td>\n",
       "      <td>0.092713</td>\n",
       "      <td>0.063716</td>\n",
       "      <td>0.099580</td>\n",
       "      <td>0.024227</td>\n",
       "      <td>0.002671</td>\n",
       "    </tr>\n",
       "    <tr>\n",
       "      <th>2013.0</th>\n",
       "      <td>0.319049</td>\n",
       "      <td>0.271015</td>\n",
       "      <td>0.145750</td>\n",
       "      <td>0.065693</td>\n",
       "      <td>0.060278</td>\n",
       "      <td>0.107605</td>\n",
       "      <td>0.026607</td>\n",
       "      <td>0.004003</td>\n",
       "    </tr>\n",
       "    <tr>\n",
       "      <th>2014.0</th>\n",
       "      <td>0.315789</td>\n",
       "      <td>0.267544</td>\n",
       "      <td>0.144737</td>\n",
       "      <td>0.069006</td>\n",
       "      <td>0.068421</td>\n",
       "      <td>0.097368</td>\n",
       "      <td>0.035380</td>\n",
       "      <td>0.001754</td>\n",
       "    </tr>\n",
       "    <tr>\n",
       "      <th>2015.0</th>\n",
       "      <td>0.325019</td>\n",
       "      <td>0.269918</td>\n",
       "      <td>0.170514</td>\n",
       "      <td>0.054356</td>\n",
       "      <td>0.049516</td>\n",
       "      <td>0.090097</td>\n",
       "      <td>0.039836</td>\n",
       "      <td>0.000745</td>\n",
       "    </tr>\n",
       "    <tr>\n",
       "      <th>2016.0</th>\n",
       "      <td>0.173469</td>\n",
       "      <td>0.355867</td>\n",
       "      <td>0.265306</td>\n",
       "      <td>0.035077</td>\n",
       "      <td>0.053571</td>\n",
       "      <td>0.086735</td>\n",
       "      <td>0.029974</td>\n",
       "      <td>NaN</td>\n",
       "    </tr>\n",
       "    <tr>\n",
       "      <th>2017.0</th>\n",
       "      <td>0.038997</td>\n",
       "      <td>0.323120</td>\n",
       "      <td>0.350975</td>\n",
       "      <td>0.036212</td>\n",
       "      <td>0.038997</td>\n",
       "      <td>0.186630</td>\n",
       "      <td>0.019499</td>\n",
       "      <td>0.005571</td>\n",
       "    </tr>\n",
       "  </tbody>\n",
       "</table>\n",
       "</div>"
      ],
      "text/plain": [
       "Topic     topic1    topic2    topic3    topic4    topic5    topic6    topic7  \\\n",
       "Year                                                                           \n",
       "1990.0  0.250396  0.110935  0.251981  0.194929  0.133122  0.038035  0.017433   \n",
       "1991.0  0.259563  0.131148  0.203552  0.229508  0.122951  0.024590  0.027322   \n",
       "1992.0  0.188492  0.121032  0.253968  0.233135  0.127976  0.046627  0.024802   \n",
       "1993.0  0.208299  0.156017  0.271369  0.160166  0.160166  0.024066  0.018257   \n",
       "1994.0  0.246101  0.145581  0.253033  0.143847  0.153380  0.025997  0.030329   \n",
       "1995.0  0.262257  0.142412  0.252918  0.122957  0.134630  0.072374  0.010117   \n",
       "1996.0  0.277815  0.111261  0.242077  0.130816  0.180715  0.029670  0.026298   \n",
       "1997.0  0.241619  0.132827  0.220114  0.142948  0.180898  0.061354  0.015180   \n",
       "1998.0  0.275203  0.085168  0.215527  0.158169  0.172654  0.074160  0.015643   \n",
       "1999.0  0.296555  0.100349  0.199201  0.167249  0.148278  0.060409  0.027958   \n",
       "2000.0  0.249209  0.104930  0.170059  0.196291  0.175486  0.066486  0.034374   \n",
       "2001.0  0.259374  0.112925  0.169387  0.186149  0.145126  0.084693  0.040141   \n",
       "2002.0  0.238846  0.109959  0.198288  0.221271  0.113565  0.071654  0.042361   \n",
       "2003.0  0.240642  0.104072  0.179761  0.222954  0.139449  0.071575  0.035788   \n",
       "2004.0  0.263203  0.096537  0.195238  0.209091  0.134199  0.065368  0.033766   \n",
       "2005.0  0.254449  0.107914  0.188186  0.186672  0.147671  0.071942  0.035593   \n",
       "2006.0  0.276730  0.128645  0.170669  0.176672  0.115780  0.102630  0.026301   \n",
       "2007.0  0.302846  0.166957  0.165796  0.161440  0.089721  0.080720  0.026132   \n",
       "2008.0  0.243940  0.213869  0.182264  0.158024  0.094201  0.076097  0.027923   \n",
       "2009.0  0.228823  0.265583  0.177944  0.092968  0.084976  0.116942  0.029835   \n",
       "2010.0  0.283967  0.249195  0.168706  0.101953  0.093153  0.074050  0.024898   \n",
       "2011.0  0.279937  0.291616  0.160537  0.084365  0.069374  0.085236  0.025449   \n",
       "2012.0  0.268981  0.273750  0.174361  0.092713  0.063716  0.099580  0.024227   \n",
       "2013.0  0.319049  0.271015  0.145750  0.065693  0.060278  0.107605  0.026607   \n",
       "2014.0  0.315789  0.267544  0.144737  0.069006  0.068421  0.097368  0.035380   \n",
       "2015.0  0.325019  0.269918  0.170514  0.054356  0.049516  0.090097  0.039836   \n",
       "2016.0  0.173469  0.355867  0.265306  0.035077  0.053571  0.086735  0.029974   \n",
       "2017.0  0.038997  0.323120  0.350975  0.036212  0.038997  0.186630  0.019499   \n",
       "\n",
       "Topic     topic8  \n",
       "Year              \n",
       "1990.0  0.003170  \n",
       "1991.0  0.001366  \n",
       "1992.0  0.003968  \n",
       "1993.0  0.001660  \n",
       "1994.0  0.001733  \n",
       "1995.0  0.002335  \n",
       "1996.0  0.001349  \n",
       "1997.0  0.005060  \n",
       "1998.0  0.003476  \n",
       "1999.0       NaN  \n",
       "2000.0  0.003166  \n",
       "2001.0  0.002206  \n",
       "2002.0  0.004056  \n",
       "2003.0  0.005759  \n",
       "2004.0  0.002597  \n",
       "2005.0  0.007573  \n",
       "2006.0  0.002573  \n",
       "2007.0  0.006388  \n",
       "2008.0  0.003682  \n",
       "2009.0  0.002930  \n",
       "2010.0  0.004078  \n",
       "2011.0  0.003486  \n",
       "2012.0  0.002671  \n",
       "2013.0  0.004003  \n",
       "2014.0  0.001754  \n",
       "2015.0  0.000745  \n",
       "2016.0       NaN  \n",
       "2017.0  0.005571  "
      ]
     },
     "execution_count": 91,
     "metadata": {},
     "output_type": "execute_result"
    }
   ],
   "source": [
    "c"
   ]
  },
  {
   "cell_type": "code",
   "execution_count": 92,
   "metadata": {},
   "outputs": [
    {
     "data": {
      "image/png": "[encoded data removed]",
      "text/plain": [
       "<Figure size 432x288 with 1 Axes>"
      ]
     },
     "metadata": {
      "needs_background": "light"
     },
     "output_type": "display_data"
    }
   ],
   "source": [
    "c.plot()\n",
    "plt.xlabel('Filling years')\n",
    "plt.ylabel('patent Share')\n",
    "plt.title('Change in the share of patents over filling years')\n",
    "plt.legend()\n",
    "plt.show()"
   ]
  },
  {
   "cell_type": "markdown",
   "metadata": {},
   "source": [
    "### Using plotly"
   ]
  },
  {
   "cell_type": "code",
   "execution_count": 93,
   "metadata": {},
   "outputs": [],
   "source": [
    "df_patent=c.T"
   ]
  },
  {
   "cell_type": "code",
   "execution_count": 94,
   "metadata": {},
   "outputs": [
    {
     "data": {
      "text/html": [
       "<div>\n",
       "<style scoped>\n",
       "    .dataframe tbody tr th:only-of-type {\n",
       "        vertical-align: middle;\n",
       "    }\n",
       "\n",
       "    .dataframe tbody tr th {\n",
       "        vertical-align: top;\n",
       "    }\n",
       "\n",
       "    .dataframe thead th {\n",
       "        text-align: right;\n",
       "    }\n",
       "</style>\n",
       "<table border=\"1\" class=\"dataframe\">\n",
       "  <thead>\n",
       "    <tr style=\"text-align: right;\">\n",
       "      <th>Year</th>\n",
       "      <th>1990.0</th>\n",
       "      <th>1991.0</th>\n",
       "      <th>1992.0</th>\n",
       "      <th>1993.0</th>\n",
       "      <th>1994.0</th>\n",
       "      <th>1995.0</th>\n",
       "      <th>1996.0</th>\n",
       "      <th>1997.0</th>\n",
       "      <th>1998.0</th>\n",
       "      <th>1999.0</th>\n",
       "      <th>...</th>\n",
       "      <th>2008.0</th>\n",
       "      <th>2009.0</th>\n",
       "      <th>2010.0</th>\n",
       "      <th>2011.0</th>\n",
       "      <th>2012.0</th>\n",
       "      <th>2013.0</th>\n",
       "      <th>2014.0</th>\n",
       "      <th>2015.0</th>\n",
       "      <th>2016.0</th>\n",
       "      <th>2017.0</th>\n",
       "    </tr>\n",
       "    <tr>\n",
       "      <th>Topic</th>\n",
       "      <th></th>\n",
       "      <th></th>\n",
       "      <th></th>\n",
       "      <th></th>\n",
       "      <th></th>\n",
       "      <th></th>\n",
       "      <th></th>\n",
       "      <th></th>\n",
       "      <th></th>\n",
       "      <th></th>\n",
       "      <th></th>\n",
       "      <th></th>\n",
       "      <th></th>\n",
       "      <th></th>\n",
       "      <th></th>\n",
       "      <th></th>\n",
       "      <th></th>\n",
       "      <th></th>\n",
       "      <th></th>\n",
       "      <th></th>\n",
       "      <th></th>\n",
       "    </tr>\n",
       "  </thead>\n",
       "  <tbody>\n",
       "    <tr>\n",
       "      <th>topic1</th>\n",
       "      <td>0.250396</td>\n",
       "      <td>0.259563</td>\n",
       "      <td>0.188492</td>\n",
       "      <td>0.208299</td>\n",
       "      <td>0.246101</td>\n",
       "      <td>0.262257</td>\n",
       "      <td>0.277815</td>\n",
       "      <td>0.241619</td>\n",
       "      <td>0.275203</td>\n",
       "      <td>0.296555</td>\n",
       "      <td>...</td>\n",
       "      <td>0.243940</td>\n",
       "      <td>0.228823</td>\n",
       "      <td>0.283967</td>\n",
       "      <td>0.279937</td>\n",
       "      <td>0.268981</td>\n",
       "      <td>0.319049</td>\n",
       "      <td>0.315789</td>\n",
       "      <td>0.325019</td>\n",
       "      <td>0.173469</td>\n",
       "      <td>0.038997</td>\n",
       "    </tr>\n",
       "    <tr>\n",
       "      <th>topic2</th>\n",
       "      <td>0.110935</td>\n",
       "      <td>0.131148</td>\n",
       "      <td>0.121032</td>\n",
       "      <td>0.156017</td>\n",
       "      <td>0.145581</td>\n",
       "      <td>0.142412</td>\n",
       "      <td>0.111261</td>\n",
       "      <td>0.132827</td>\n",
       "      <td>0.085168</td>\n",
       "      <td>0.100349</td>\n",
       "      <td>...</td>\n",
       "      <td>0.213869</td>\n",
       "      <td>0.265583</td>\n",
       "      <td>0.249195</td>\n",
       "      <td>0.291616</td>\n",
       "      <td>0.273750</td>\n",
       "      <td>0.271015</td>\n",
       "      <td>0.267544</td>\n",
       "      <td>0.269918</td>\n",
       "      <td>0.355867</td>\n",
       "      <td>0.323120</td>\n",
       "    </tr>\n",
       "    <tr>\n",
       "      <th>topic3</th>\n",
       "      <td>0.251981</td>\n",
       "      <td>0.203552</td>\n",
       "      <td>0.253968</td>\n",
       "      <td>0.271369</td>\n",
       "      <td>0.253033</td>\n",
       "      <td>0.252918</td>\n",
       "      <td>0.242077</td>\n",
       "      <td>0.220114</td>\n",
       "      <td>0.215527</td>\n",
       "      <td>0.199201</td>\n",
       "      <td>...</td>\n",
       "      <td>0.182264</td>\n",
       "      <td>0.177944</td>\n",
       "      <td>0.168706</td>\n",
       "      <td>0.160537</td>\n",
       "      <td>0.174361</td>\n",
       "      <td>0.145750</td>\n",
       "      <td>0.144737</td>\n",
       "      <td>0.170514</td>\n",
       "      <td>0.265306</td>\n",
       "      <td>0.350975</td>\n",
       "    </tr>\n",
       "    <tr>\n",
       "      <th>topic4</th>\n",
       "      <td>0.194929</td>\n",
       "      <td>0.229508</td>\n",
       "      <td>0.233135</td>\n",
       "      <td>0.160166</td>\n",
       "      <td>0.143847</td>\n",
       "      <td>0.122957</td>\n",
       "      <td>0.130816</td>\n",
       "      <td>0.142948</td>\n",
       "      <td>0.158169</td>\n",
       "      <td>0.167249</td>\n",
       "      <td>...</td>\n",
       "      <td>0.158024</td>\n",
       "      <td>0.092968</td>\n",
       "      <td>0.101953</td>\n",
       "      <td>0.084365</td>\n",
       "      <td>0.092713</td>\n",
       "      <td>0.065693</td>\n",
       "      <td>0.069006</td>\n",
       "      <td>0.054356</td>\n",
       "      <td>0.035077</td>\n",
       "      <td>0.036212</td>\n",
       "    </tr>\n",
       "    <tr>\n",
       "      <th>topic5</th>\n",
       "      <td>0.133122</td>\n",
       "      <td>0.122951</td>\n",
       "      <td>0.127976</td>\n",
       "      <td>0.160166</td>\n",
       "      <td>0.153380</td>\n",
       "      <td>0.134630</td>\n",
       "      <td>0.180715</td>\n",
       "      <td>0.180898</td>\n",
       "      <td>0.172654</td>\n",
       "      <td>0.148278</td>\n",
       "      <td>...</td>\n",
       "      <td>0.094201</td>\n",
       "      <td>0.084976</td>\n",
       "      <td>0.093153</td>\n",
       "      <td>0.069374</td>\n",
       "      <td>0.063716</td>\n",
       "      <td>0.060278</td>\n",
       "      <td>0.068421</td>\n",
       "      <td>0.049516</td>\n",
       "      <td>0.053571</td>\n",
       "      <td>0.038997</td>\n",
       "    </tr>\n",
       "    <tr>\n",
       "      <th>topic6</th>\n",
       "      <td>0.038035</td>\n",
       "      <td>0.024590</td>\n",
       "      <td>0.046627</td>\n",
       "      <td>0.024066</td>\n",
       "      <td>0.025997</td>\n",
       "      <td>0.072374</td>\n",
       "      <td>0.029670</td>\n",
       "      <td>0.061354</td>\n",
       "      <td>0.074160</td>\n",
       "      <td>0.060409</td>\n",
       "      <td>...</td>\n",
       "      <td>0.076097</td>\n",
       "      <td>0.116942</td>\n",
       "      <td>0.074050</td>\n",
       "      <td>0.085236</td>\n",
       "      <td>0.099580</td>\n",
       "      <td>0.107605</td>\n",
       "      <td>0.097368</td>\n",
       "      <td>0.090097</td>\n",
       "      <td>0.086735</td>\n",
       "      <td>0.186630</td>\n",
       "    </tr>\n",
       "    <tr>\n",
       "      <th>topic7</th>\n",
       "      <td>0.017433</td>\n",
       "      <td>0.027322</td>\n",
       "      <td>0.024802</td>\n",
       "      <td>0.018257</td>\n",
       "      <td>0.030329</td>\n",
       "      <td>0.010117</td>\n",
       "      <td>0.026298</td>\n",
       "      <td>0.015180</td>\n",
       "      <td>0.015643</td>\n",
       "      <td>0.027958</td>\n",
       "      <td>...</td>\n",
       "      <td>0.027923</td>\n",
       "      <td>0.029835</td>\n",
       "      <td>0.024898</td>\n",
       "      <td>0.025449</td>\n",
       "      <td>0.024227</td>\n",
       "      <td>0.026607</td>\n",
       "      <td>0.035380</td>\n",
       "      <td>0.039836</td>\n",
       "      <td>0.029974</td>\n",
       "      <td>0.019499</td>\n",
       "    </tr>\n",
       "    <tr>\n",
       "      <th>topic8</th>\n",
       "      <td>0.003170</td>\n",
       "      <td>0.001366</td>\n",
       "      <td>0.003968</td>\n",
       "      <td>0.001660</td>\n",
       "      <td>0.001733</td>\n",
       "      <td>0.002335</td>\n",
       "      <td>0.001349</td>\n",
       "      <td>0.005060</td>\n",
       "      <td>0.003476</td>\n",
       "      <td>NaN</td>\n",
       "      <td>...</td>\n",
       "      <td>0.003682</td>\n",
       "      <td>0.002930</td>\n",
       "      <td>0.004078</td>\n",
       "      <td>0.003486</td>\n",
       "      <td>0.002671</td>\n",
       "      <td>0.004003</td>\n",
       "      <td>0.001754</td>\n",
       "      <td>0.000745</td>\n",
       "      <td>NaN</td>\n",
       "      <td>0.005571</td>\n",
       "    </tr>\n",
       "  </tbody>\n",
       "</table>\n",
       "<p>8 rows × 28 columns</p>\n",
       "</div>"
      ],
      "text/plain": [
       "Year      1990.0    1991.0    1992.0    1993.0    1994.0    1995.0    1996.0  \\\n",
       "Topic                                                                          \n",
       "topic1  0.250396  0.259563  0.188492  0.208299  0.246101  0.262257  0.277815   \n",
       "topic2  0.110935  0.131148  0.121032  0.156017  0.145581  0.142412  0.111261   \n",
       "topic3  0.251981  0.203552  0.253968  0.271369  0.253033  0.252918  0.242077   \n",
       "topic4  0.194929  0.229508  0.233135  0.160166  0.143847  0.122957  0.130816   \n",
       "topic5  0.133122  0.122951  0.127976  0.160166  0.153380  0.134630  0.180715   \n",
       "topic6  0.038035  0.024590  0.046627  0.024066  0.025997  0.072374  0.029670   \n",
       "topic7  0.017433  0.027322  0.024802  0.018257  0.030329  0.010117  0.026298   \n",
       "topic8  0.003170  0.001366  0.003968  0.001660  0.001733  0.002335  0.001349   \n",
       "\n",
       "Year      1997.0    1998.0    1999.0  ...    2008.0    2009.0    2010.0  \\\n",
       "Topic                                 ...                                 \n",
       "topic1  0.241619  0.275203  0.296555  ...  0.243940  0.228823  0.283967   \n",
       "topic2  0.132827  0.085168  0.100349  ...  0.213869  0.265583  0.249195   \n",
       "topic3  0.220114  0.215527  0.199201  ...  0.182264  0.177944  0.168706   \n",
       "topic4  0.142948  0.158169  0.167249  ...  0.158024  0.092968  0.101953   \n",
       "topic5  0.180898  0.172654  0.148278  ...  0.094201  0.084976  0.093153   \n",
       "topic6  0.061354  0.074160  0.060409  ...  0.076097  0.116942  0.074050   \n",
       "topic7  0.015180  0.015643  0.027958  ...  0.027923  0.029835  0.024898   \n",
       "topic8  0.005060  0.003476       NaN  ...  0.003682  0.002930  0.004078   \n",
       "\n",
       "Year      2011.0    2012.0    2013.0    2014.0    2015.0    2016.0    2017.0  \n",
       "Topic                                                                         \n",
       "topic1  0.279937  0.268981  0.319049  0.315789  0.325019  0.173469  0.038997  \n",
       "topic2  0.291616  0.273750  0.271015  0.267544  0.269918  0.355867  0.323120  \n",
       "topic3  0.160537  0.174361  0.145750  0.144737  0.170514  0.265306  0.350975  \n",
       "topic4  0.084365  0.092713  0.065693  0.069006  0.054356  0.035077  0.036212  \n",
       "topic5  0.069374  0.063716  0.060278  0.068421  0.049516  0.053571  0.038997  \n",
       "topic6  0.085236  0.099580  0.107605  0.097368  0.090097  0.086735  0.186630  \n",
       "topic7  0.025449  0.024227  0.026607  0.035380  0.039836  0.029974  0.019499  \n",
       "topic8  0.003486  0.002671  0.004003  0.001754  0.000745       NaN  0.005571  \n",
       "\n",
       "[8 rows x 28 columns]"
      ]
     },
     "execution_count": 94,
     "metadata": {},
     "output_type": "execute_result"
    }
   ],
   "source": [
    "df_patent"
   ]
  },
  {
   "cell_type": "code",
   "execution_count": 95,
   "metadata": {},
   "outputs": [],
   "source": [
    "traces=[go.Scatter(\n",
    "    x=df_patent.columns,\n",
    "    y=df_patent.loc[row_name],\n",
    "    mode='lines+markers',\n",
    "    name=row_name\n",
    "\n",
    "\n",
    "\n",
    ")for row_name in df_patent.index]"
   ]
  },
  {
   "cell_type": "code",
   "execution_count": 96,
   "metadata": {},
   "outputs": [],
   "source": [
    "data=traces"
   ]
  },
  {
   "cell_type": "code",
   "execution_count": 97,
   "metadata": {},
   "outputs": [],
   "source": [
    "layout=go.Layout(\n",
    "title='Change in the share of patents over filing year',\n",
    "xaxis=dict(title='Number of filling years'),\n",
    "yaxis=dict(title='Number of patents'),\n",
    "hovermode='closest' # for bringing values of points together as x and y\n",
    ")"
   ]
  },
  {
   "cell_type": "code",
   "execution_count": 98,
   "metadata": {},
   "outputs": [],
   "source": [
    "figure2= go.Figure(data=data, layout=layout)"
   ]
  },
  {
   "cell_type": "code",
   "execution_count": 99,
   "metadata": {},
   "outputs": [
    {
     "data": {
      "text/plain": [
       "'patent_count_normalized.html'"
      ]
     },
     "execution_count": 99,
     "metadata": {},
     "output_type": "execute_result"
    }
   ],
   "source": [
    "pyo.plot(figure2,filename='patent_count_normalized.html')"
   ]
  },
  {
   "cell_type": "markdown",
   "metadata": {},
   "source": [
    "# Table 6: Major assignee by topic type"
   ]
  },
  {
   "cell_type": "code",
   "execution_count": 32,
   "metadata": {},
   "outputs": [
    {
     "data": {
      "text/html": [
       "<div>\n",
       "<style scoped>\n",
       "    .dataframe tbody tr th:only-of-type {\n",
       "        vertical-align: middle;\n",
       "    }\n",
       "\n",
       "    .dataframe tbody tr th {\n",
       "        vertical-align: top;\n",
       "    }\n",
       "\n",
       "    .dataframe thead th {\n",
       "        text-align: right;\n",
       "    }\n",
       "</style>\n",
       "<table border=\"1\" class=\"dataframe\">\n",
       "  <thead>\n",
       "    <tr style=\"text-align: right;\">\n",
       "      <th></th>\n",
       "      <th>Topic_Perc_Contrib</th>\n",
       "      <th>Keywords</th>\n",
       "      <th>Topic</th>\n",
       "      <th>Assignee</th>\n",
       "      <th>Year</th>\n",
       "      <th>Abstract</th>\n",
       "    </tr>\n",
       "  </thead>\n",
       "  <tbody>\n",
       "    <tr>\n",
       "      <th>0</th>\n",
       "      <td>0.4003</td>\n",
       "      <td>charge, battery, power, electric, energy, syst...</td>\n",
       "      <td>topic5</td>\n",
       "      <td>luz electric fuel israel ltd</td>\n",
       "      <td>1990.0</td>\n",
       "      <td>An electrical energy system including an elect...</td>\n",
       "    </tr>\n",
       "    <tr>\n",
       "      <th>1</th>\n",
       "      <td>0.8034</td>\n",
       "      <td>charge, battery, power, electric, energy, syst...</td>\n",
       "      <td>topic5</td>\n",
       "      <td>luz electric fuel israel ltd</td>\n",
       "      <td>1990.0</td>\n",
       "      <td>An electrical energy system including an elect...</td>\n",
       "    </tr>\n",
       "    <tr>\n",
       "      <th>2</th>\n",
       "      <td>0.2962</td>\n",
       "      <td>oil, air, pipe, diesel, cylinder, body, gas, c...</td>\n",
       "      <td>topic2</td>\n",
       "      <td>sumitomo electric industries ltd</td>\n",
       "      <td>1995.0</td>\n",
       "      <td>An object is to provide a particulate trap for...</td>\n",
       "    </tr>\n",
       "    <tr>\n",
       "      <th>3</th>\n",
       "      <td>0.5153</td>\n",
       "      <td>oil, air, pipe, diesel, cylinder, body, gas, c...</td>\n",
       "      <td>topic2</td>\n",
       "      <td>sumitomo electric ind ltd</td>\n",
       "      <td>1995.0</td>\n",
       "      <td>PURPOSE: To obtain a trap by which the leakage...</td>\n",
       "    </tr>\n",
       "    <tr>\n",
       "      <th>4</th>\n",
       "      <td>0.4787</td>\n",
       "      <td>oil, air, pipe, diesel, cylinder, body, gas, c...</td>\n",
       "      <td>topic2</td>\n",
       "      <td>sumitomo electric industries ltd</td>\n",
       "      <td>1995.0</td>\n",
       "      <td>A particulate trap for a diesel engine designe...</td>\n",
       "    </tr>\n",
       "  </tbody>\n",
       "</table>\n",
       "</div>"
      ],
      "text/plain": [
       "   Topic_Perc_Contrib                                           Keywords  \\\n",
       "0              0.4003  charge, battery, power, electric, energy, syst...   \n",
       "1              0.8034  charge, battery, power, electric, energy, syst...   \n",
       "2              0.2962  oil, air, pipe, diesel, cylinder, body, gas, c...   \n",
       "3              0.5153  oil, air, pipe, diesel, cylinder, body, gas, c...   \n",
       "4              0.4787  oil, air, pipe, diesel, cylinder, body, gas, c...   \n",
       "\n",
       "    Topic                          Assignee    Year  \\\n",
       "0  topic5      luz electric fuel israel ltd  1990.0   \n",
       "1  topic5      luz electric fuel israel ltd  1990.0   \n",
       "2  topic2  sumitomo electric industries ltd  1995.0   \n",
       "3  topic2         sumitomo electric ind ltd  1995.0   \n",
       "4  topic2  sumitomo electric industries ltd  1995.0   \n",
       "\n",
       "                                            Abstract  \n",
       "0  An electrical energy system including an elect...  \n",
       "1  An electrical energy system including an elect...  \n",
       "2  An object is to provide a particulate trap for...  \n",
       "3  PURPOSE: To obtain a trap by which the leakage...  \n",
       "4  A particulate trap for a diesel engine designe...  "
      ]
     },
     "execution_count": 32,
     "metadata": {},
     "output_type": "execute_result"
    }
   ],
   "source": [
    "df = pd.read_pickle('work_on_paper.pkl')\n",
    "df.head()"
   ]
  },
  {
   "cell_type": "code",
   "execution_count": 33,
   "metadata": {},
   "outputs": [
    {
     "data": {
      "text/plain": [
       "(68762, 6)"
      ]
     },
     "execution_count": 33,
     "metadata": {},
     "output_type": "execute_result"
    }
   ],
   "source": [
    "df.shape"
   ]
  },
  {
   "cell_type": "code",
   "execution_count": 34,
   "metadata": {},
   "outputs": [
    {
     "data": {
      "text/plain": [
       "Counter({'topic5': 8194,\n",
       "         'topic2': 11500,\n",
       "         'topic3': 10697,\n",
       "         'topic4': 9647,\n",
       "         'topic1': 20742,\n",
       "         'topic8': 1133,\n",
       "         'topic6': 3718,\n",
       "         'topic7': 3131})"
      ]
     },
     "execution_count": 34,
     "metadata": {},
     "output_type": "execute_result"
    }
   ],
   "source": [
    "from collections import Counter\n",
    "Counter(df.Topic)"
   ]
  },
  {
   "cell_type": "code",
   "execution_count": 35,
   "metadata": {},
   "outputs": [
    {
     "data": {
      "text/plain": [
       "topic1    20742\n",
       "topic2    11500\n",
       "topic3    10697\n",
       "topic4     9647\n",
       "topic5     8194\n",
       "topic6     3718\n",
       "topic7     3131\n",
       "topic8     1133\n",
       "Name: Topic, dtype: int64"
      ]
     },
     "execution_count": 35,
     "metadata": {},
     "output_type": "execute_result"
    }
   ],
   "source": [
    "df.Topic.value_counts()"
   ]
  },
  {
   "cell_type": "code",
   "execution_count": 36,
   "metadata": {},
   "outputs": [
    {
     "data": {
      "text/plain": [
       "topic1    0.301649\n",
       "topic2    0.167244\n",
       "topic3    0.155566\n",
       "topic4    0.140296\n",
       "topic5    0.119165\n",
       "topic6    0.054071\n",
       "topic7    0.045534\n",
       "topic8    0.016477\n",
       "Name: Topic, dtype: float64"
      ]
     },
     "execution_count": 36,
     "metadata": {},
     "output_type": "execute_result"
    }
   ],
   "source": [
    "df.Topic.value_counts(normalize=True)"
   ]
  },
  {
   "cell_type": "code",
   "execution_count": 37,
   "metadata": {},
   "outputs": [],
   "source": [
    "company=df.groupby(df.Topic).Assignee.value_counts(dropna=True, sort=True)"
   ]
  },
  {
   "cell_type": "code",
   "execution_count": 38,
   "metadata": {},
   "outputs": [
    {
     "data": {
      "text/html": [
       "<div>\n",
       "<style scoped>\n",
       "    .dataframe tbody tr th:only-of-type {\n",
       "        vertical-align: middle;\n",
       "    }\n",
       "\n",
       "    .dataframe tbody tr th {\n",
       "        vertical-align: top;\n",
       "    }\n",
       "\n",
       "    .dataframe thead th {\n",
       "        text-align: right;\n",
       "    }\n",
       "</style>\n",
       "<table border=\"1\" class=\"dataframe\">\n",
       "  <thead>\n",
       "    <tr style=\"text-align: right;\">\n",
       "      <th></th>\n",
       "      <th></th>\n",
       "      <th>Assignee</th>\n",
       "    </tr>\n",
       "    <tr>\n",
       "      <th>Topic</th>\n",
       "      <th>Assignee</th>\n",
       "      <th></th>\n",
       "    </tr>\n",
       "  </thead>\n",
       "  <tbody>\n",
       "    <tr>\n",
       "      <th rowspan=\"5\" valign=\"top\">topic1</th>\n",
       "      <th>toyota motor corp</th>\n",
       "      <td>3990</td>\n",
       "    </tr>\n",
       "    <tr>\n",
       "      <th>nissan motor co ltd</th>\n",
       "      <td>1609</td>\n",
       "    </tr>\n",
       "    <tr>\n",
       "      <th>honda motor co ltd</th>\n",
       "      <td>1540</td>\n",
       "    </tr>\n",
       "    <tr>\n",
       "      <th>hyundai motor co ltd</th>\n",
       "      <td>1298</td>\n",
       "    </tr>\n",
       "    <tr>\n",
       "      <th>ford global technologies inc</th>\n",
       "      <td>851</td>\n",
       "    </tr>\n",
       "    <tr>\n",
       "      <th>...</th>\n",
       "      <th>...</th>\n",
       "      <td>...</td>\n",
       "    </tr>\n",
       "    <tr>\n",
       "      <th rowspan=\"5\" valign=\"top\">topic8</th>\n",
       "      <th>zell helmut</th>\n",
       "      <td>1</td>\n",
       "    </tr>\n",
       "    <tr>\n",
       "      <th>zhejiang dovlue electrical equipment co ltd</th>\n",
       "      <td>1</td>\n",
       "    </tr>\n",
       "    <tr>\n",
       "      <th>zhejiang jichao automation technology co ltd</th>\n",
       "      <td>1</td>\n",
       "    </tr>\n",
       "    <tr>\n",
       "      <th>zhong cheng</th>\n",
       "      <td>1</td>\n",
       "    </tr>\n",
       "    <tr>\n",
       "      <th>zvekov aleksej nikolaevich</th>\n",
       "      <td>1</td>\n",
       "    </tr>\n",
       "  </tbody>\n",
       "</table>\n",
       "<p>17598 rows × 1 columns</p>\n",
       "</div>"
      ],
      "text/plain": [
       "                                                     Assignee\n",
       "Topic  Assignee                                              \n",
       "topic1 toyota motor corp                                 3990\n",
       "       nissan motor co ltd                               1609\n",
       "       honda motor co ltd                                1540\n",
       "       hyundai motor co ltd                              1298\n",
       "       ford global technologies inc                       851\n",
       "...                                                       ...\n",
       "topic8 zell helmut                                          1\n",
       "       zhejiang dovlue electrical equipment co ltd          1\n",
       "       zhejiang jichao automation technology co ltd         1\n",
       "       zhong cheng                                          1\n",
       "       zvekov aleksej nikolaevich                           1\n",
       "\n",
       "[17598 rows x 1 columns]"
      ]
     },
     "execution_count": 38,
     "metadata": {},
     "output_type": "execute_result"
    }
   ],
   "source": [
    "df_company = pd.DataFrame(company)\n",
    "df_company"
   ]
  },
  {
   "cell_type": "markdown",
   "metadata": {},
   "source": [
    "### For a specific topic listing wrt firms"
   ]
  },
  {
   "cell_type": "code",
   "execution_count": 39,
   "metadata": {},
   "outputs": [],
   "source": [
    "topic_firm=df.groupby([df['Topic']=='topic1']).Assignee.value_counts(dropna=True, sort=True)"
   ]
  },
  {
   "cell_type": "code",
   "execution_count": 40,
   "metadata": {},
   "outputs": [
    {
     "data": {
      "text/html": [
       "<div>\n",
       "<style scoped>\n",
       "    .dataframe tbody tr th:only-of-type {\n",
       "        vertical-align: middle;\n",
       "    }\n",
       "\n",
       "    .dataframe tbody tr th {\n",
       "        vertical-align: top;\n",
       "    }\n",
       "\n",
       "    .dataframe thead th {\n",
       "        text-align: right;\n",
       "    }\n",
       "</style>\n",
       "<table border=\"1\" class=\"dataframe\">\n",
       "  <thead>\n",
       "    <tr style=\"text-align: right;\">\n",
       "      <th></th>\n",
       "      <th></th>\n",
       "      <th>Assignee</th>\n",
       "    </tr>\n",
       "    <tr>\n",
       "      <th>Topic</th>\n",
       "      <th>Assignee</th>\n",
       "      <th></th>\n",
       "    </tr>\n",
       "  </thead>\n",
       "  <tbody>\n",
       "    <tr>\n",
       "      <th rowspan=\"30\" valign=\"top\">False</th>\n",
       "      <th>toyota motor corp</th>\n",
       "      <td>4135</td>\n",
       "    </tr>\n",
       "    <tr>\n",
       "      <th>honda motor co ltd</th>\n",
       "      <td>2437</td>\n",
       "    </tr>\n",
       "    <tr>\n",
       "      <th>bosch corp</th>\n",
       "      <td>2365</td>\n",
       "    </tr>\n",
       "    <tr>\n",
       "      <th>hyundai motor co ltd</th>\n",
       "      <td>1299</td>\n",
       "    </tr>\n",
       "    <tr>\n",
       "      <th>nissan motor co ltd</th>\n",
       "      <td>1276</td>\n",
       "    </tr>\n",
       "    <tr>\n",
       "      <th>ford global technologies inc</th>\n",
       "      <td>962</td>\n",
       "    </tr>\n",
       "    <tr>\n",
       "      <th>renault sas</th>\n",
       "      <td>727</td>\n",
       "    </tr>\n",
       "    <tr>\n",
       "      <th>mitsubishi motors corp</th>\n",
       "      <td>694</td>\n",
       "    </tr>\n",
       "    <tr>\n",
       "      <th>denso corp</th>\n",
       "      <td>658</td>\n",
       "    </tr>\n",
       "    <tr>\n",
       "      <th>peugeot citroen automobiles</th>\n",
       "      <td>570</td>\n",
       "    </tr>\n",
       "    <tr>\n",
       "      <th>hitachi ltd</th>\n",
       "      <td>481</td>\n",
       "    </tr>\n",
       "    <tr>\n",
       "      <th>yamaha motor co ltd</th>\n",
       "      <td>381</td>\n",
       "    </tr>\n",
       "    <tr>\n",
       "      <th>volkswagen group</th>\n",
       "      <td>324</td>\n",
       "    </tr>\n",
       "    <tr>\n",
       "      <th>suzuki motor corp</th>\n",
       "      <td>321</td>\n",
       "    </tr>\n",
       "    <tr>\n",
       "      <th>continental automotive gmbh</th>\n",
       "      <td>301</td>\n",
       "    </tr>\n",
       "    <tr>\n",
       "      <th>daimlerchrysler ag</th>\n",
       "      <td>296</td>\n",
       "    </tr>\n",
       "    <tr>\n",
       "      <th>siemens aktiengesellschaft</th>\n",
       "      <td>240</td>\n",
       "    </tr>\n",
       "    <tr>\n",
       "      <th>isuzu motors ltd</th>\n",
       "      <td>205</td>\n",
       "    </tr>\n",
       "    <tr>\n",
       "      <th>audi ag</th>\n",
       "      <td>190</td>\n",
       "    </tr>\n",
       "    <tr>\n",
       "      <th>gm global technology operations llc</th>\n",
       "      <td>187</td>\n",
       "    </tr>\n",
       "    <tr>\n",
       "      <th>aisin aw co ltd</th>\n",
       "      <td>183</td>\n",
       "    </tr>\n",
       "    <tr>\n",
       "      <th>lsis co ltd</th>\n",
       "      <td>182</td>\n",
       "    </tr>\n",
       "    <tr>\n",
       "      <th>bmw ag</th>\n",
       "      <td>155</td>\n",
       "    </tr>\n",
       "    <tr>\n",
       "      <th>general electric company</th>\n",
       "      <td>150</td>\n",
       "    </tr>\n",
       "    <tr>\n",
       "      <th>general motors corporation</th>\n",
       "      <td>135</td>\n",
       "    </tr>\n",
       "    <tr>\n",
       "      <th>mazda motor corp</th>\n",
       "      <td>129</td>\n",
       "    </tr>\n",
       "    <tr>\n",
       "      <th>daimler ag</th>\n",
       "      <td>126</td>\n",
       "    </tr>\n",
       "    <tr>\n",
       "      <th>avl list gmbh</th>\n",
       "      <td>119</td>\n",
       "    </tr>\n",
       "    <tr>\n",
       "      <th>daihatsu motor co ltd</th>\n",
       "      <td>115</td>\n",
       "    </tr>\n",
       "    <tr>\n",
       "      <th>mahle international gmbh</th>\n",
       "      <td>113</td>\n",
       "    </tr>\n",
       "  </tbody>\n",
       "</table>\n",
       "</div>"
      ],
      "text/plain": [
       "                                           Assignee\n",
       "Topic Assignee                                     \n",
       "False toyota motor corp                        4135\n",
       "      honda motor co ltd                       2437\n",
       "      bosch corp                               2365\n",
       "      hyundai motor co ltd                     1299\n",
       "      nissan motor co ltd                      1276\n",
       "      ford global technologies inc              962\n",
       "      renault sas                               727\n",
       "      mitsubishi motors corp                    694\n",
       "      denso corp                                658\n",
       "      peugeot citroen automobiles               570\n",
       "      hitachi ltd                               481\n",
       "      yamaha motor co ltd                       381\n",
       "      volkswagen group                          324\n",
       "      suzuki motor corp                         321\n",
       "      continental automotive gmbh               301\n",
       "      daimlerchrysler ag                        296\n",
       "      siemens aktiengesellschaft                240\n",
       "      isuzu motors ltd                          205\n",
       "      audi ag                                   190\n",
       "      gm global technology operations llc       187\n",
       "      aisin aw co ltd                           183\n",
       "      lsis co ltd                               182\n",
       "      bmw ag                                    155\n",
       "      general electric company                  150\n",
       "      general motors corporation                135\n",
       "      mazda motor corp                          129\n",
       "      daimler ag                                126\n",
       "      avl list gmbh                             119\n",
       "      daihatsu motor co ltd                     115\n",
       "      mahle international gmbh                  113"
      ]
     },
     "execution_count": 40,
     "metadata": {},
     "output_type": "execute_result"
    }
   ],
   "source": [
    "df_topic_firms = pd.DataFrame(topic_firm)\n",
    "df_topic_firms[:30]"
   ]
  },
  {
   "cell_type": "code",
   "execution_count": 41,
   "metadata": {},
   "outputs": [],
   "source": [
    "d=df\n",
    "d=d[d.Topic==\"topic1\"]"
   ]
  },
  {
   "cell_type": "code",
   "execution_count": 42,
   "metadata": {},
   "outputs": [
    {
     "data": {
      "text/plain": [
       "20742"
      ]
     },
     "execution_count": 42,
     "metadata": {},
     "output_type": "execute_result"
    }
   ],
   "source": [
    "len(d)"
   ]
  },
  {
   "cell_type": "code",
   "execution_count": 43,
   "metadata": {},
   "outputs": [
    {
     "data": {
      "text/html": [
       "<div>\n",
       "<style scoped>\n",
       "    .dataframe tbody tr th:only-of-type {\n",
       "        vertical-align: middle;\n",
       "    }\n",
       "\n",
       "    .dataframe tbody tr th {\n",
       "        vertical-align: top;\n",
       "    }\n",
       "\n",
       "    .dataframe thead th {\n",
       "        text-align: right;\n",
       "    }\n",
       "</style>\n",
       "<table border=\"1\" class=\"dataframe\">\n",
       "  <thead>\n",
       "    <tr style=\"text-align: right;\">\n",
       "      <th></th>\n",
       "      <th>Topic_Perc_Contrib</th>\n",
       "      <th>Keywords</th>\n",
       "      <th>Topic</th>\n",
       "      <th>Assignee</th>\n",
       "      <th>Year</th>\n",
       "      <th>Abstract</th>\n",
       "    </tr>\n",
       "  </thead>\n",
       "  <tbody>\n",
       "    <tr>\n",
       "      <th>43</th>\n",
       "      <td>0.3705</td>\n",
       "      <td>torque, voltage, mode, power, motor, control, ...</td>\n",
       "      <td>topic1</td>\n",
       "      <td>laimböck franz diplingdr</td>\n",
       "      <td>1992.0</td>\n",
       "      <td>For the drive shaft of a motor vehicle a drive...</td>\n",
       "    </tr>\n",
       "    <tr>\n",
       "      <th>50</th>\n",
       "      <td>0.4796</td>\n",
       "      <td>torque, voltage, mode, power, motor, control, ...</td>\n",
       "      <td>topic1</td>\n",
       "      <td>steyr-daimler-puch aktiengesellschaft</td>\n",
       "      <td>1991.0</td>\n",
       "      <td>A control circuit having a controller provided...</td>\n",
       "    </tr>\n",
       "    <tr>\n",
       "      <th>52</th>\n",
       "      <td>0.4594</td>\n",
       "      <td>torque, voltage, mode, power, motor, control, ...</td>\n",
       "      <td>topic1</td>\n",
       "      <td>kornel hideg</td>\n",
       "      <td>1990.0</td>\n",
       "      <td>In a device for saving fuel in a motor vehicle...</td>\n",
       "    </tr>\n",
       "    <tr>\n",
       "      <th>59</th>\n",
       "      <td>0.8338</td>\n",
       "      <td>torque, voltage, mode, power, motor, control, ...</td>\n",
       "      <td>topic1</td>\n",
       "      <td>steyr-daimler-puch ag wien at</td>\n",
       "      <td>1995.0</td>\n",
       "      <td>The system for on-board charging of the batter...</td>\n",
       "    </tr>\n",
       "    <tr>\n",
       "      <th>70</th>\n",
       "      <td>0.5920</td>\n",
       "      <td>torque, voltage, mode, power, motor, control, ...</td>\n",
       "      <td>topic1</td>\n",
       "      <td>elin energieanwendung gesellschaft mbh</td>\n",
       "      <td>1992.0</td>\n",
       "      <td>The invention is a drive for an electric vehic...</td>\n",
       "    </tr>\n",
       "  </tbody>\n",
       "</table>\n",
       "</div>"
      ],
      "text/plain": [
       "    Topic_Perc_Contrib                                           Keywords  \\\n",
       "43              0.3705  torque, voltage, mode, power, motor, control, ...   \n",
       "50              0.4796  torque, voltage, mode, power, motor, control, ...   \n",
       "52              0.4594  torque, voltage, mode, power, motor, control, ...   \n",
       "59              0.8338  torque, voltage, mode, power, motor, control, ...   \n",
       "70              0.5920  torque, voltage, mode, power, motor, control, ...   \n",
       "\n",
       "     Topic                                Assignee    Year  \\\n",
       "43  topic1                laimböck franz diplingdr  1992.0   \n",
       "50  topic1   steyr-daimler-puch aktiengesellschaft  1991.0   \n",
       "52  topic1                            kornel hideg  1990.0   \n",
       "59  topic1           steyr-daimler-puch ag wien at  1995.0   \n",
       "70  topic1  elin energieanwendung gesellschaft mbh  1992.0   \n",
       "\n",
       "                                             Abstract  \n",
       "43  For the drive shaft of a motor vehicle a drive...  \n",
       "50  A control circuit having a controller provided...  \n",
       "52  In a device for saving fuel in a motor vehicle...  \n",
       "59  The system for on-board charging of the batter...  \n",
       "70  The invention is a drive for an electric vehic...  "
      ]
     },
     "execution_count": 43,
     "metadata": {},
     "output_type": "execute_result"
    }
   ],
   "source": [
    "d[:5]"
   ]
  },
  {
   "cell_type": "code",
   "execution_count": 44,
   "metadata": {},
   "outputs": [],
   "source": [
    "d=d.groupby(['Assignee']).size()"
   ]
  },
  {
   "cell_type": "code",
   "execution_count": 45,
   "metadata": {},
   "outputs": [
    {
     "data": {
      "text/plain": [
       "Assignee\n",
       "toyota motor corp               3990\n",
       "nissan motor co ltd             1609\n",
       "honda motor co ltd              1540\n",
       "hyundai motor co ltd            1298\n",
       "ford global technologies inc     851\n",
       "mitsubishi motors corp           718\n",
       "denso corp                       439\n",
       "bosch corp                       405\n",
       "hitachi ltd                      278\n",
       "aisin aw co ltd                  275\n",
       "dtype: int64"
      ]
     },
     "execution_count": 45,
     "metadata": {},
     "output_type": "execute_result"
    }
   ],
   "source": [
    "d.sort_values(ascending=False)[:10]"
   ]
  },
  {
   "cell_type": "markdown",
   "metadata": {},
   "source": [
    "**These are top 10 firms using Topic 1**"
   ]
  },
  {
   "cell_type": "markdown",
   "metadata": {},
   "source": [
    "### For topic2"
   ]
  },
  {
   "cell_type": "code",
   "execution_count": 46,
   "metadata": {},
   "outputs": [
    {
     "data": {
      "text/plain": [
       "11500"
      ]
     },
     "execution_count": 46,
     "metadata": {},
     "output_type": "execute_result"
    }
   ],
   "source": [
    "k=df\n",
    "k=k[k.Topic==\"topic2\"]\n",
    "len(k)"
   ]
  },
  {
   "cell_type": "code",
   "execution_count": 47,
   "metadata": {},
   "outputs": [
    {
     "data": {
      "text/html": [
       "<div>\n",
       "<style scoped>\n",
       "    .dataframe tbody tr th:only-of-type {\n",
       "        vertical-align: middle;\n",
       "    }\n",
       "\n",
       "    .dataframe tbody tr th {\n",
       "        vertical-align: top;\n",
       "    }\n",
       "\n",
       "    .dataframe thead th {\n",
       "        text-align: right;\n",
       "    }\n",
       "</style>\n",
       "<table border=\"1\" class=\"dataframe\">\n",
       "  <thead>\n",
       "    <tr style=\"text-align: right;\">\n",
       "      <th></th>\n",
       "      <th>Topic_Perc_Contrib</th>\n",
       "      <th>Keywords</th>\n",
       "      <th>Topic</th>\n",
       "      <th>Assignee</th>\n",
       "      <th>Year</th>\n",
       "      <th>Abstract</th>\n",
       "    </tr>\n",
       "  </thead>\n",
       "  <tbody>\n",
       "    <tr>\n",
       "      <th>2</th>\n",
       "      <td>0.2962</td>\n",
       "      <td>oil, air, pipe, diesel, cylinder, body, gas, c...</td>\n",
       "      <td>topic2</td>\n",
       "      <td>sumitomo electric industries ltd</td>\n",
       "      <td>1995.0</td>\n",
       "      <td>An object is to provide a particulate trap for...</td>\n",
       "    </tr>\n",
       "    <tr>\n",
       "      <th>3</th>\n",
       "      <td>0.5153</td>\n",
       "      <td>oil, air, pipe, diesel, cylinder, body, gas, c...</td>\n",
       "      <td>topic2</td>\n",
       "      <td>sumitomo electric ind ltd</td>\n",
       "      <td>1995.0</td>\n",
       "      <td>PURPOSE: To obtain a trap by which the leakage...</td>\n",
       "    </tr>\n",
       "    <tr>\n",
       "      <th>4</th>\n",
       "      <td>0.4787</td>\n",
       "      <td>oil, air, pipe, diesel, cylinder, body, gas, c...</td>\n",
       "      <td>topic2</td>\n",
       "      <td>sumitomo electric industries ltd</td>\n",
       "      <td>1995.0</td>\n",
       "      <td>A particulate trap for a diesel engine designe...</td>\n",
       "    </tr>\n",
       "    <tr>\n",
       "      <th>5</th>\n",
       "      <td>0.3115</td>\n",
       "      <td>oil, air, pipe, diesel, cylinder, body, gas, c...</td>\n",
       "      <td>topic2</td>\n",
       "      <td>sumitomo electric industries ltd</td>\n",
       "      <td>1995.0</td>\n",
       "      <td>PCT No. PCT/JP96/02405 Sec. 371 Date Nov. 17, ...</td>\n",
       "    </tr>\n",
       "    <tr>\n",
       "      <th>6</th>\n",
       "      <td>0.4699</td>\n",
       "      <td>oil, air, pipe, diesel, cylinder, body, gas, c...</td>\n",
       "      <td>topic2</td>\n",
       "      <td>ricardo cayetano algeri</td>\n",
       "      <td>2000.0</td>\n",
       "      <td>A MIXING DEVICE OF GAS FUEL WITH AIR FOR INTER...</td>\n",
       "    </tr>\n",
       "  </tbody>\n",
       "</table>\n",
       "</div>"
      ],
      "text/plain": [
       "   Topic_Perc_Contrib                                           Keywords  \\\n",
       "2              0.2962  oil, air, pipe, diesel, cylinder, body, gas, c...   \n",
       "3              0.5153  oil, air, pipe, diesel, cylinder, body, gas, c...   \n",
       "4              0.4787  oil, air, pipe, diesel, cylinder, body, gas, c...   \n",
       "5              0.3115  oil, air, pipe, diesel, cylinder, body, gas, c...   \n",
       "6              0.4699  oil, air, pipe, diesel, cylinder, body, gas, c...   \n",
       "\n",
       "    Topic                          Assignee    Year  \\\n",
       "2  topic2  sumitomo electric industries ltd  1995.0   \n",
       "3  topic2         sumitomo electric ind ltd  1995.0   \n",
       "4  topic2  sumitomo electric industries ltd  1995.0   \n",
       "5  topic2  sumitomo electric industries ltd  1995.0   \n",
       "6  topic2           ricardo cayetano algeri  2000.0   \n",
       "\n",
       "                                            Abstract  \n",
       "2  An object is to provide a particulate trap for...  \n",
       "3  PURPOSE: To obtain a trap by which the leakage...  \n",
       "4  A particulate trap for a diesel engine designe...  \n",
       "5  PCT No. PCT/JP96/02405 Sec. 371 Date Nov. 17, ...  \n",
       "6  A MIXING DEVICE OF GAS FUEL WITH AIR FOR INTER...  "
      ]
     },
     "execution_count": 47,
     "metadata": {},
     "output_type": "execute_result"
    }
   ],
   "source": [
    "k[:5]"
   ]
  },
  {
   "cell_type": "code",
   "execution_count": 48,
   "metadata": {},
   "outputs": [
    {
     "data": {
      "text/plain": [
       "Assignee\n",
       "bosch corp                      655\n",
       "honda motor co ltd              540\n",
       "toyota motor corp               310\n",
       "renault sas                     216\n",
       "nissan motor co ltd             204\n",
       "hyundai motor co ltd            153\n",
       "yamaha motor co ltd             150\n",
       "suzuki motor corp               124\n",
       "ford global technologies inc    122\n",
       "peugeot citroen automobiles     115\n",
       "dtype: int64"
      ]
     },
     "execution_count": 48,
     "metadata": {},
     "output_type": "execute_result"
    }
   ],
   "source": [
    "k=k.groupby(['Assignee']).size()\n",
    "k.sort_values(ascending=False)[:10]"
   ]
  },
  {
   "cell_type": "markdown",
   "metadata": {},
   "source": [
    "### Topic3"
   ]
  },
  {
   "cell_type": "code",
   "execution_count": 49,
   "metadata": {},
   "outputs": [
    {
     "data": {
      "text/plain": [
       "10697"
      ]
     },
     "execution_count": 49,
     "metadata": {},
     "output_type": "execute_result"
    }
   ],
   "source": [
    "e=df\n",
    "e=e[e.Topic==\"topic3\"]\n",
    "len(e)"
   ]
  },
  {
   "cell_type": "code",
   "execution_count": 50,
   "metadata": {},
   "outputs": [
    {
     "data": {
      "text/html": [
       "<div>\n",
       "<style scoped>\n",
       "    .dataframe tbody tr th:only-of-type {\n",
       "        vertical-align: middle;\n",
       "    }\n",
       "\n",
       "    .dataframe tbody tr th {\n",
       "        vertical-align: top;\n",
       "    }\n",
       "\n",
       "    .dataframe thead th {\n",
       "        text-align: right;\n",
       "    }\n",
       "</style>\n",
       "<table border=\"1\" class=\"dataframe\">\n",
       "  <thead>\n",
       "    <tr style=\"text-align: right;\">\n",
       "      <th></th>\n",
       "      <th>Topic_Perc_Contrib</th>\n",
       "      <th>Keywords</th>\n",
       "      <th>Topic</th>\n",
       "      <th>Assignee</th>\n",
       "      <th>Year</th>\n",
       "      <th>Abstract</th>\n",
       "    </tr>\n",
       "  </thead>\n",
       "  <tbody>\n",
       "    <tr>\n",
       "      <th>10</th>\n",
       "      <td>0.4583</td>\n",
       "      <td>injection, fuel, combustion, valve, cylinder, ...</td>\n",
       "      <td>topic3</td>\n",
       "      <td>steyr nutzfahrzeuge ag</td>\n",
       "      <td>1993.0</td>\n",
       "      <td>The invention relates to an engine brake in a ...</td>\n",
       "    </tr>\n",
       "    <tr>\n",
       "      <th>18</th>\n",
       "      <td>0.7662</td>\n",
       "      <td>injection, fuel, combustion, valve, cylinder, ...</td>\n",
       "      <td>topic3</td>\n",
       "      <td>avl list gmbh</td>\n",
       "      <td>2002.0</td>\n",
       "      <td>During an idling phase, fuel is repeatedly inj...</td>\n",
       "    </tr>\n",
       "  </tbody>\n",
       "</table>\n",
       "</div>"
      ],
      "text/plain": [
       "    Topic_Perc_Contrib                                           Keywords  \\\n",
       "10              0.4583  injection, fuel, combustion, valve, cylinder, ...   \n",
       "18              0.7662  injection, fuel, combustion, valve, cylinder, ...   \n",
       "\n",
       "     Topic                Assignee    Year  \\\n",
       "10  topic3  steyr nutzfahrzeuge ag  1993.0   \n",
       "18  topic3           avl list gmbh  2002.0   \n",
       "\n",
       "                                             Abstract  \n",
       "10  The invention relates to an engine brake in a ...  \n",
       "18  During an idling phase, fuel is repeatedly inj...  "
      ]
     },
     "execution_count": 50,
     "metadata": {},
     "output_type": "execute_result"
    }
   ],
   "source": [
    "e[:2]"
   ]
  },
  {
   "cell_type": "code",
   "execution_count": 51,
   "metadata": {},
   "outputs": [
    {
     "data": {
      "text/plain": [
       "Assignee\n",
       "toyota motor corp               1926\n",
       "bosch corp                      1181\n",
       "honda motor co ltd               637\n",
       "nissan motor co ltd              485\n",
       "ford global technologies inc     351\n",
       "denso corp                       338\n",
       "mitsubishi motors corp           310\n",
       "renault sas                      254\n",
       "hyundai motor co ltd             192\n",
       "peugeot citroen automobiles      192\n",
       "dtype: int64"
      ]
     },
     "execution_count": 51,
     "metadata": {},
     "output_type": "execute_result"
    }
   ],
   "source": [
    "e=e.groupby(['Assignee']).size()\n",
    "e.sort_values(ascending=False)[:10]"
   ]
  },
  {
   "cell_type": "markdown",
   "metadata": {},
   "source": [
    "### Topic 4"
   ]
  },
  {
   "cell_type": "code",
   "execution_count": 52,
   "metadata": {},
   "outputs": [
    {
     "data": {
      "text/plain": [
       "9647"
      ]
     },
     "execution_count": 52,
     "metadata": {},
     "output_type": "execute_result"
    }
   ],
   "source": [
    "f=df\n",
    "f=f[f.Topic==\"topic4\"]\n",
    "len(f)"
   ]
  },
  {
   "cell_type": "code",
   "execution_count": 53,
   "metadata": {},
   "outputs": [
    {
     "data": {
      "text/plain": [
       "Assignee\n",
       "honda motor co ltd              839\n",
       "toyota motor corp               704\n",
       "hyundai motor co ltd            535\n",
       "nissan motor co ltd             251\n",
       "ford global technologies inc    176\n",
       "bosch corp                      149\n",
       "mitsubishi motors corp          129\n",
       "yamaha motor co ltd             119\n",
       "aisin aw co ltd                 106\n",
       "peugeot citroen automobiles      91\n",
       "dtype: int64"
      ]
     },
     "execution_count": 53,
     "metadata": {},
     "output_type": "execute_result"
    }
   ],
   "source": [
    "f=f.groupby(['Assignee']).size()\n",
    "f.sort_values(ascending=False)[:10]"
   ]
  },
  {
   "cell_type": "markdown",
   "metadata": {},
   "source": [
    "### Topic 5"
   ]
  },
  {
   "cell_type": "code",
   "execution_count": 54,
   "metadata": {},
   "outputs": [
    {
     "data": {
      "text/plain": [
       "8194"
      ]
     },
     "execution_count": 54,
     "metadata": {},
     "output_type": "execute_result"
    }
   ],
   "source": [
    "g=df\n",
    "g=g[g.Topic==\"topic5\"]\n",
    "len(g)"
   ]
  },
  {
   "cell_type": "code",
   "execution_count": 55,
   "metadata": {},
   "outputs": [
    {
     "data": {
      "text/plain": [
       "Assignee\n",
       "toyota motor corp               282\n",
       "lsis co ltd                     163\n",
       "ford global technologies inc    156\n",
       "honda motor co ltd              144\n",
       "hyundai motor co ltd            137\n",
       "mitsubishi motors corp          122\n",
       "general electric company        112\n",
       "bosch corp                      109\n",
       "hitachi ltd                      73\n",
       "qualcomm incorporated            70\n",
       "dtype: int64"
      ]
     },
     "execution_count": 55,
     "metadata": {},
     "output_type": "execute_result"
    }
   ],
   "source": [
    "g=g.groupby(['Assignee']).size()\n",
    "g.sort_values(ascending=False)[:10]"
   ]
  },
  {
   "cell_type": "markdown",
   "metadata": {},
   "source": [
    "### Topic 6"
   ]
  },
  {
   "cell_type": "code",
   "execution_count": 56,
   "metadata": {},
   "outputs": [
    {
     "data": {
      "text/plain": [
       "3718"
      ]
     },
     "execution_count": 56,
     "metadata": {},
     "output_type": "execute_result"
    }
   ],
   "source": [
    "h=df\n",
    "h=h[h.Topic==\"topic6\"]\n",
    "len(h)"
   ]
  },
  {
   "cell_type": "code",
   "execution_count": 57,
   "metadata": {},
   "outputs": [
    {
     "data": {
      "text/plain": [
       "Assignee\n",
       "toyota motor corp               523\n",
       "nissan motor co ltd             146\n",
       "honda motor co ltd               85\n",
       "bosch corp                       78\n",
       "peugeot citroen automobiles      78\n",
       "isuzu motors ltd                 72\n",
       "volkswagen group                 61\n",
       "ford global technologies inc     61\n",
       "renault sas                      54\n",
       "samsung sdi co ltd               48\n",
       "dtype: int64"
      ]
     },
     "execution_count": 57,
     "metadata": {},
     "output_type": "execute_result"
    }
   ],
   "source": [
    "h=h.groupby(['Assignee']).size()\n",
    "h.sort_values(ascending=False)[:10]"
   ]
  },
  {
   "cell_type": "markdown",
   "metadata": {},
   "source": [
    "### Topic 7"
   ]
  },
  {
   "cell_type": "code",
   "execution_count": 58,
   "metadata": {},
   "outputs": [
    {
     "data": {
      "text/plain": [
       "3131"
      ]
     },
     "execution_count": 58,
     "metadata": {},
     "output_type": "execute_result"
    }
   ],
   "source": [
    "i=df\n",
    "i=i[i.Topic==\"topic7\"]\n",
    "len(i)"
   ]
  },
  {
   "cell_type": "code",
   "execution_count": 59,
   "metadata": {},
   "outputs": [
    {
     "data": {
      "text/plain": [
       "Assignee\n",
       "toyota motor corp               326\n",
       "hyundai motor co ltd            235\n",
       "honda motor co ltd              167\n",
       "nissan motor co ltd             104\n",
       "renault sas                      82\n",
       "ford global technologies inc     47\n",
       "suzuki motor corp                42\n",
       "peugeot citroen automobiles      36\n",
       "bosch corp                       35\n",
       "denso corp                       35\n",
       "dtype: int64"
      ]
     },
     "execution_count": 59,
     "metadata": {},
     "output_type": "execute_result"
    }
   ],
   "source": [
    "i=i.groupby(['Assignee']).size()\n",
    "i.sort_values(ascending=False)[:10]"
   ]
  },
  {
   "cell_type": "markdown",
   "metadata": {},
   "source": [
    "### Topic 8"
   ]
  },
  {
   "cell_type": "code",
   "execution_count": 60,
   "metadata": {},
   "outputs": [
    {
     "data": {
      "text/plain": [
       "1133"
      ]
     },
     "execution_count": 60,
     "metadata": {},
     "output_type": "execute_result"
    }
   ],
   "source": [
    "j=df\n",
    "j=j[j.Topic==\"topic8\"]\n",
    "len(j)"
   ]
  },
  {
   "cell_type": "code",
   "execution_count": 61,
   "metadata": {},
   "outputs": [
    {
     "data": {
      "text/plain": [
       "Assignee\n",
       "bosch corp                                         158\n",
       "toyota motor corp                                   64\n",
       "ford global technologies inc                        49\n",
       "honda motor co ltd                                  25\n",
       "continental automotive gmbh                         24\n",
       "hyundai motor co ltd                                24\n",
       "daewoo shipbuilding & marine engineering co ltd     21\n",
       "denso corp                                          17\n",
       "nissan motor co ltd                                 17\n",
       "siemens aktiengesellschaft                          14\n",
       "dtype: int64"
      ]
     },
     "execution_count": 61,
     "metadata": {},
     "output_type": "execute_result"
    }
   ],
   "source": [
    "j=j.groupby(['Assignee']).size()\n",
    "j.sort_values(ascending=False)[:10]"
   ]
  },
  {
   "cell_type": "markdown",
   "metadata": {},
   "source": [
    "### Using crosstab\n",
    "\n",
    "showing each assignee and what is topic contribution in that"
   ]
  },
  {
   "cell_type": "code",
   "execution_count": 62,
   "metadata": {},
   "outputs": [
    {
     "data": {
      "text/plain": [
       "toyota motor corp                      8125\n",
       "honda motor co ltd                     3977\n",
       "nissan motor co ltd                    2885\n",
       "bosch corp                             2770\n",
       "hyundai motor co ltd                   2597\n",
       "ford global technologies inc           1813\n",
       "mitsubishi motors corp                 1412\n",
       "denso corp                             1097\n",
       "renault sas                             859\n",
       "hitachi ltd                             759\n",
       "peugeot citroen automobiles             688\n",
       "suzuki motor corp                       528\n",
       "yamaha motor co ltd                     466\n",
       "aisin aw co ltd                         458\n",
       "volkswagen group                        375\n",
       "daimlerchrysler ag                      338\n",
       "continental automotive gmbh             316\n",
       "isuzu motors ltd                        300\n",
       "gm global technology operations llc     291\n",
       "siemens aktiengesellschaft              285\n",
       "Name: Assignee, dtype: int64"
      ]
     },
     "execution_count": 62,
     "metadata": {},
     "output_type": "execute_result"
    }
   ],
   "source": [
    "# top assignee\n",
    "\n",
    "df.Assignee.value_counts()[:20]"
   ]
  },
  {
   "cell_type": "code",
   "execution_count": 63,
   "metadata": {},
   "outputs": [
    {
     "data": {
      "text/html": [
       "<div>\n",
       "<style scoped>\n",
       "    .dataframe tbody tr th:only-of-type {\n",
       "        vertical-align: middle;\n",
       "    }\n",
       "\n",
       "    .dataframe tbody tr th {\n",
       "        vertical-align: top;\n",
       "    }\n",
       "\n",
       "    .dataframe thead th {\n",
       "        text-align: right;\n",
       "    }\n",
       "</style>\n",
       "<table border=\"1\" class=\"dataframe\">\n",
       "  <thead>\n",
       "    <tr style=\"text-align: right;\">\n",
       "      <th></th>\n",
       "      <th>Topic_Perc_Contrib</th>\n",
       "      <th>Keywords</th>\n",
       "      <th>Topic</th>\n",
       "      <th>Assignee</th>\n",
       "      <th>Year</th>\n",
       "      <th>Abstract</th>\n",
       "    </tr>\n",
       "  </thead>\n",
       "  <tbody>\n",
       "    <tr>\n",
       "      <th>4307</th>\n",
       "      <td>0.5070</td>\n",
       "      <td>injection, fuel, combustion, valve, cylinder, ...</td>\n",
       "      <td>topic3</td>\n",
       "      <td>toyota motor corp</td>\n",
       "      <td>2002.0</td>\n",
       "      <td>An internal combustion engine of a vehicle is ...</td>\n",
       "    </tr>\n",
       "    <tr>\n",
       "      <th>5149</th>\n",
       "      <td>0.3987</td>\n",
       "      <td>oil, air, pipe, diesel, cylinder, body, gas, c...</td>\n",
       "      <td>topic2</td>\n",
       "      <td>toyota motor corp</td>\n",
       "      <td>1991.0</td>\n",
       "      <td>PURPOSE:To prevent deteriorated fuel atomizati...</td>\n",
       "    </tr>\n",
       "    <tr>\n",
       "      <th>5156</th>\n",
       "      <td>0.7644</td>\n",
       "      <td>torque, voltage, mode, power, motor, control, ...</td>\n",
       "      <td>topic1</td>\n",
       "      <td>toyota motor corp</td>\n",
       "      <td>1997.0</td>\n",
       "      <td>PROBLEM TO BE SOLVED: To provide a power gener...</td>\n",
       "    </tr>\n",
       "    <tr>\n",
       "      <th>5157</th>\n",
       "      <td>0.4902</td>\n",
       "      <td>oil, air, pipe, diesel, cylinder, body, gas, c...</td>\n",
       "      <td>topic2</td>\n",
       "      <td>toyota motor corp</td>\n",
       "      <td>1995.0</td>\n",
       "      <td>PURPOSE: To reduce ventilation resistance of a...</td>\n",
       "    </tr>\n",
       "    <tr>\n",
       "      <th>5158</th>\n",
       "      <td>0.5294</td>\n",
       "      <td>oil, air, pipe, diesel, cylinder, body, gas, c...</td>\n",
       "      <td>topic2</td>\n",
       "      <td>toyota motor corp</td>\n",
       "      <td>1995.0</td>\n",
       "      <td>A fuel vapor treating apparatus for an engine ...</td>\n",
       "    </tr>\n",
       "  </tbody>\n",
       "</table>\n",
       "</div>"
      ],
      "text/plain": [
       "      Topic_Perc_Contrib                                           Keywords  \\\n",
       "4307              0.5070  injection, fuel, combustion, valve, cylinder, ...   \n",
       "5149              0.3987  oil, air, pipe, diesel, cylinder, body, gas, c...   \n",
       "5156              0.7644  torque, voltage, mode, power, motor, control, ...   \n",
       "5157              0.4902  oil, air, pipe, diesel, cylinder, body, gas, c...   \n",
       "5158              0.5294  oil, air, pipe, diesel, cylinder, body, gas, c...   \n",
       "\n",
       "       Topic           Assignee    Year  \\\n",
       "4307  topic3  toyota motor corp  2002.0   \n",
       "5149  topic2  toyota motor corp  1991.0   \n",
       "5156  topic1  toyota motor corp  1997.0   \n",
       "5157  topic2  toyota motor corp  1995.0   \n",
       "5158  topic2  toyota motor corp  1995.0   \n",
       "\n",
       "                                               Abstract  \n",
       "4307  An internal combustion engine of a vehicle is ...  \n",
       "5149  PURPOSE:To prevent deteriorated fuel atomizati...  \n",
       "5156  PROBLEM TO BE SOLVED: To provide a power gener...  \n",
       "5157  PURPOSE: To reduce ventilation resistance of a...  \n",
       "5158  A fuel vapor treating apparatus for an engine ...  "
      ]
     },
     "execution_count": 63,
     "metadata": {},
     "output_type": "execute_result"
    }
   ],
   "source": [
    "w=df\n",
    "w=w[w.Assignee==\"toyota motor corp\"]\n",
    "w[:5]"
   ]
  },
  {
   "cell_type": "code",
   "execution_count": 64,
   "metadata": {},
   "outputs": [
    {
     "data": {
      "text/plain": [
       "8125"
      ]
     },
     "execution_count": 64,
     "metadata": {},
     "output_type": "execute_result"
    }
   ],
   "source": [
    "len(w)"
   ]
  },
  {
   "cell_type": "code",
   "execution_count": 65,
   "metadata": {},
   "outputs": [
    {
     "data": {
      "text/html": [
       "<div>\n",
       "<style scoped>\n",
       "    .dataframe tbody tr th:only-of-type {\n",
       "        vertical-align: middle;\n",
       "    }\n",
       "\n",
       "    .dataframe tbody tr th {\n",
       "        vertical-align: top;\n",
       "    }\n",
       "\n",
       "    .dataframe thead th {\n",
       "        text-align: right;\n",
       "    }\n",
       "</style>\n",
       "<table border=\"1\" class=\"dataframe\">\n",
       "  <thead>\n",
       "    <tr style=\"text-align: right;\">\n",
       "      <th>Topic</th>\n",
       "      <th>topic1</th>\n",
       "      <th>topic2</th>\n",
       "      <th>topic3</th>\n",
       "      <th>topic4</th>\n",
       "      <th>topic5</th>\n",
       "      <th>topic6</th>\n",
       "      <th>topic7</th>\n",
       "      <th>topic8</th>\n",
       "    </tr>\n",
       "    <tr>\n",
       "      <th>Assignee</th>\n",
       "      <th></th>\n",
       "      <th></th>\n",
       "      <th></th>\n",
       "      <th></th>\n",
       "      <th></th>\n",
       "      <th></th>\n",
       "      <th></th>\n",
       "      <th></th>\n",
       "    </tr>\n",
       "  </thead>\n",
       "  <tbody>\n",
       "    <tr>\n",
       "      <th>False</th>\n",
       "      <td>16752</td>\n",
       "      <td>11190</td>\n",
       "      <td>8771</td>\n",
       "      <td>8943</td>\n",
       "      <td>7912</td>\n",
       "      <td>3195</td>\n",
       "      <td>2805</td>\n",
       "      <td>1069</td>\n",
       "    </tr>\n",
       "    <tr>\n",
       "      <th>True</th>\n",
       "      <td>3990</td>\n",
       "      <td>310</td>\n",
       "      <td>1926</td>\n",
       "      <td>704</td>\n",
       "      <td>282</td>\n",
       "      <td>523</td>\n",
       "      <td>326</td>\n",
       "      <td>64</td>\n",
       "    </tr>\n",
       "  </tbody>\n",
       "</table>\n",
       "</div>"
      ],
      "text/plain": [
       "Topic     topic1  topic2  topic3  topic4  topic5  topic6  topic7  topic8\n",
       "Assignee                                                                \n",
       "False      16752   11190    8771    8943    7912    3195    2805    1069\n",
       "True        3990     310    1926     704     282     523     326      64"
      ]
     },
     "execution_count": 65,
     "metadata": {},
     "output_type": "execute_result"
    }
   ],
   "source": [
    "pd.crosstab(df.Assignee==\"toyota motor corp\", df.Topic)"
   ]
  },
  {
   "cell_type": "markdown",
   "metadata": {},
   "source": [
    "**We can use %age as well to show how much a topic has contributed to Toyota Motors' innovation profile**"
   ]
  },
  {
   "cell_type": "code",
   "execution_count": 66,
   "metadata": {},
   "outputs": [
    {
     "data": {
      "text/html": [
       "<div>\n",
       "<style scoped>\n",
       "    .dataframe tbody tr th:only-of-type {\n",
       "        vertical-align: middle;\n",
       "    }\n",
       "\n",
       "    .dataframe tbody tr th {\n",
       "        vertical-align: top;\n",
       "    }\n",
       "\n",
       "    .dataframe thead th {\n",
       "        text-align: right;\n",
       "    }\n",
       "</style>\n",
       "<table border=\"1\" class=\"dataframe\">\n",
       "  <thead>\n",
       "    <tr style=\"text-align: right;\">\n",
       "      <th>Topic</th>\n",
       "      <th>topic1</th>\n",
       "      <th>topic2</th>\n",
       "      <th>topic3</th>\n",
       "      <th>topic4</th>\n",
       "      <th>topic5</th>\n",
       "      <th>topic6</th>\n",
       "      <th>topic7</th>\n",
       "      <th>topic8</th>\n",
       "    </tr>\n",
       "    <tr>\n",
       "      <th>Assignee</th>\n",
       "      <th></th>\n",
       "      <th></th>\n",
       "      <th></th>\n",
       "      <th></th>\n",
       "      <th></th>\n",
       "      <th></th>\n",
       "      <th></th>\n",
       "      <th></th>\n",
       "    </tr>\n",
       "  </thead>\n",
       "  <tbody>\n",
       "    <tr>\n",
       "      <th>False</th>\n",
       "      <td>20337</td>\n",
       "      <td>10845</td>\n",
       "      <td>9516</td>\n",
       "      <td>9498</td>\n",
       "      <td>8085</td>\n",
       "      <td>3640</td>\n",
       "      <td>3096</td>\n",
       "      <td>975</td>\n",
       "    </tr>\n",
       "    <tr>\n",
       "      <th>True</th>\n",
       "      <td>405</td>\n",
       "      <td>655</td>\n",
       "      <td>1181</td>\n",
       "      <td>149</td>\n",
       "      <td>109</td>\n",
       "      <td>78</td>\n",
       "      <td>35</td>\n",
       "      <td>158</td>\n",
       "    </tr>\n",
       "  </tbody>\n",
       "</table>\n",
       "</div>"
      ],
      "text/plain": [
       "Topic     topic1  topic2  topic3  topic4  topic5  topic6  topic7  topic8\n",
       "Assignee                                                                \n",
       "False      20337   10845    9516    9498    8085    3640    3096     975\n",
       "True         405     655    1181     149     109      78      35     158"
      ]
     },
     "execution_count": 66,
     "metadata": {},
     "output_type": "execute_result"
    }
   ],
   "source": [
    "pd.crosstab(df.Assignee==\"bosch corp\", df.Topic)"
   ]
  },
  {
   "cell_type": "markdown",
   "metadata": {},
   "source": [
    "# 3)-Share of patents by  technological topics\n",
    "\n",
    "table 3 in paper\n",
    "\n",
    "- As we have decline after 2011. It had highest patents i.e 5737. So we shall take it as base year for current patent share.\n",
    "\n",
    "- For CAGR, we will use 2009-2013. This is to represent patent sample in a symmetric way."
   ]
  },
  {
   "cell_type": "code",
   "execution_count": 67,
   "metadata": {},
   "outputs": [
    {
     "data": {
      "text/html": [
       "<div>\n",
       "<style scoped>\n",
       "    .dataframe tbody tr th:only-of-type {\n",
       "        vertical-align: middle;\n",
       "    }\n",
       "\n",
       "    .dataframe tbody tr th {\n",
       "        vertical-align: top;\n",
       "    }\n",
       "\n",
       "    .dataframe thead th {\n",
       "        text-align: right;\n",
       "    }\n",
       "</style>\n",
       "<table border=\"1\" class=\"dataframe\">\n",
       "  <thead>\n",
       "    <tr style=\"text-align: right;\">\n",
       "      <th></th>\n",
       "      <th>Topic_Perc_Contrib</th>\n",
       "      <th>Keywords</th>\n",
       "      <th>Topic</th>\n",
       "      <th>Assignee</th>\n",
       "      <th>Year</th>\n",
       "      <th>Abstract</th>\n",
       "    </tr>\n",
       "  </thead>\n",
       "  <tbody>\n",
       "    <tr>\n",
       "      <th>0</th>\n",
       "      <td>0.4003</td>\n",
       "      <td>charge, battery, power, electric, energy, syst...</td>\n",
       "      <td>topic5</td>\n",
       "      <td>luz electric fuel israel ltd</td>\n",
       "      <td>1990.0</td>\n",
       "      <td>An electrical energy system including an elect...</td>\n",
       "    </tr>\n",
       "    <tr>\n",
       "      <th>1</th>\n",
       "      <td>0.8034</td>\n",
       "      <td>charge, battery, power, electric, energy, syst...</td>\n",
       "      <td>topic5</td>\n",
       "      <td>luz electric fuel israel ltd</td>\n",
       "      <td>1990.0</td>\n",
       "      <td>An electrical energy system including an elect...</td>\n",
       "    </tr>\n",
       "    <tr>\n",
       "      <th>2</th>\n",
       "      <td>0.2962</td>\n",
       "      <td>oil, air, pipe, diesel, cylinder, body, gas, c...</td>\n",
       "      <td>topic2</td>\n",
       "      <td>sumitomo electric industries ltd</td>\n",
       "      <td>1995.0</td>\n",
       "      <td>An object is to provide a particulate trap for...</td>\n",
       "    </tr>\n",
       "    <tr>\n",
       "      <th>3</th>\n",
       "      <td>0.5153</td>\n",
       "      <td>oil, air, pipe, diesel, cylinder, body, gas, c...</td>\n",
       "      <td>topic2</td>\n",
       "      <td>sumitomo electric ind ltd</td>\n",
       "      <td>1995.0</td>\n",
       "      <td>PURPOSE: To obtain a trap by which the leakage...</td>\n",
       "    </tr>\n",
       "    <tr>\n",
       "      <th>4</th>\n",
       "      <td>0.4787</td>\n",
       "      <td>oil, air, pipe, diesel, cylinder, body, gas, c...</td>\n",
       "      <td>topic2</td>\n",
       "      <td>sumitomo electric industries ltd</td>\n",
       "      <td>1995.0</td>\n",
       "      <td>A particulate trap for a diesel engine designe...</td>\n",
       "    </tr>\n",
       "  </tbody>\n",
       "</table>\n",
       "</div>"
      ],
      "text/plain": [
       "   Topic_Perc_Contrib                                           Keywords  \\\n",
       "0              0.4003  charge, battery, power, electric, energy, syst...   \n",
       "1              0.8034  charge, battery, power, electric, energy, syst...   \n",
       "2              0.2962  oil, air, pipe, diesel, cylinder, body, gas, c...   \n",
       "3              0.5153  oil, air, pipe, diesel, cylinder, body, gas, c...   \n",
       "4              0.4787  oil, air, pipe, diesel, cylinder, body, gas, c...   \n",
       "\n",
       "    Topic                          Assignee    Year  \\\n",
       "0  topic5      luz electric fuel israel ltd  1990.0   \n",
       "1  topic5      luz electric fuel israel ltd  1990.0   \n",
       "2  topic2  sumitomo electric industries ltd  1995.0   \n",
       "3  topic2         sumitomo electric ind ltd  1995.0   \n",
       "4  topic2  sumitomo electric industries ltd  1995.0   \n",
       "\n",
       "                                            Abstract  \n",
       "0  An electrical energy system including an elect...  \n",
       "1  An electrical energy system including an elect...  \n",
       "2  An object is to provide a particulate trap for...  \n",
       "3  PURPOSE: To obtain a trap by which the leakage...  \n",
       "4  A particulate trap for a diesel engine designe...  "
      ]
     },
     "execution_count": 67,
     "metadata": {},
     "output_type": "execute_result"
    }
   ],
   "source": [
    "df = pd.read_pickle('work_on_paper.pkl')\n",
    "df.head()"
   ]
  },
  {
   "cell_type": "code",
   "execution_count": 68,
   "metadata": {},
   "outputs": [
    {
     "data": {
      "text/plain": [
       "(68762, 6)"
      ]
     },
     "execution_count": 68,
     "metadata": {},
     "output_type": "execute_result"
    }
   ],
   "source": [
    "df.shape"
   ]
  },
  {
   "cell_type": "code",
   "execution_count": 69,
   "metadata": {},
   "outputs": [
    {
     "data": {
      "text/plain": [
       "5737"
      ]
     },
     "execution_count": 69,
     "metadata": {},
     "output_type": "execute_result"
    }
   ],
   "source": [
    "# How many patents we had in year 2011\n",
    "len(df[df.Year==2011])"
   ]
  },
  {
   "cell_type": "code",
   "execution_count": 70,
   "metadata": {},
   "outputs": [
    {
     "data": {
      "text/plain": [
       "Year   Topic \n",
       "False  topic1    18774\n",
       "       topic2    10839\n",
       "       topic3    10113\n",
       "       topic4     8758\n",
       "       topic5     7040\n",
       "       topic6     3528\n",
       "       topic7     2905\n",
       "       topic8     1068\n",
       "True   topic1     1968\n",
       "       topic2      661\n",
       "       topic3      584\n",
       "       topic4      889\n",
       "       topic5     1154\n",
       "       topic6      190\n",
       "       topic7      226\n",
       "       topic8       65\n",
       "Name: Topic, dtype: int64"
      ]
     },
     "execution_count": 70,
     "metadata": {},
     "output_type": "execute_result"
    }
   ],
   "source": [
    "# start with 2011 as of base year\n",
    "df.groupby(df.Year==2011).Topic.value_counts(sort=False)"
   ]
  },
  {
   "cell_type": "markdown",
   "metadata": {},
   "source": [
    "5737 for 2011<br>\n",
    "5737/68762=8.34 %"
   ]
  },
  {
   "cell_type": "markdown",
   "metadata": {},
   "source": [
    "### for patent share"
   ]
  },
  {
   "cell_type": "code",
   "execution_count": 71,
   "metadata": {},
   "outputs": [
    {
     "data": {
      "text/plain": [
       "Year   Topic \n",
       "False  topic1    0.297882\n",
       "       topic2    0.171979\n",
       "       topic3    0.160460\n",
       "       topic4    0.138961\n",
       "       topic5    0.111702\n",
       "       topic6    0.055978\n",
       "       topic7    0.046093\n",
       "       topic8    0.016946\n",
       "True   topic1    0.343036\n",
       "       topic2    0.115217\n",
       "       topic3    0.101795\n",
       "       topic4    0.154959\n",
       "       topic5    0.201150\n",
       "       topic6    0.033118\n",
       "       topic7    0.039393\n",
       "       topic8    0.011330\n",
       "Name: Topic, dtype: float64"
      ]
     },
     "execution_count": 71,
     "metadata": {},
     "output_type": "execute_result"
    }
   ],
   "source": [
    "df.groupby(df.Year==2011).Topic.value_counts(normalize=True, sort=False)"
   ]
  },
  {
   "cell_type": "code",
   "execution_count": 72,
   "metadata": {},
   "outputs": [
    {
     "data": {
      "text/plain": [
       "Year\n",
       "False    63025\n",
       "True      5737\n",
       "Name: Topic, dtype: int64"
      ]
     },
     "execution_count": 72,
     "metadata": {},
     "output_type": "execute_result"
    }
   ],
   "source": [
    "df.groupby(df.Year==2011).Topic.count()"
   ]
  },
  {
   "cell_type": "code",
   "execution_count": 73,
   "metadata": {},
   "outputs": [
    {
     "data": {
      "text/plain": [
       "0.34303643018999475"
      ]
     },
     "execution_count": 73,
     "metadata": {},
     "output_type": "execute_result"
    }
   ],
   "source": [
    "1968/5737"
   ]
  },
  {
   "cell_type": "markdown",
   "metadata": {},
   "source": [
    "**Total patents in 2011 are 5737**\n",
    "\n",
    "- Let's varify : \n",
    "\n",
    "topic1= 1968/5737= 0.34 Correct"
   ]
  },
  {
   "cell_type": "markdown",
   "metadata": {},
   "source": [
    "#### Make a dataframe for share patent"
   ]
  },
  {
   "cell_type": "code",
   "execution_count": 74,
   "metadata": {},
   "outputs": [
    {
     "data": {
      "text/plain": [
       "(5737, 6)"
      ]
     },
     "execution_count": 74,
     "metadata": {},
     "output_type": "execute_result"
    }
   ],
   "source": [
    "df_share= df[(df.Year == 2011)]\n",
    "df_share.shape"
   ]
  },
  {
   "cell_type": "code",
   "execution_count": 75,
   "metadata": {},
   "outputs": [
    {
     "data": {
      "text/html": [
       "<div>\n",
       "<style scoped>\n",
       "    .dataframe tbody tr th:only-of-type {\n",
       "        vertical-align: middle;\n",
       "    }\n",
       "\n",
       "    .dataframe tbody tr th {\n",
       "        vertical-align: top;\n",
       "    }\n",
       "\n",
       "    .dataframe thead th {\n",
       "        text-align: right;\n",
       "    }\n",
       "</style>\n",
       "<table border=\"1\" class=\"dataframe\">\n",
       "  <thead>\n",
       "    <tr style=\"text-align: right;\">\n",
       "      <th></th>\n",
       "      <th>count</th>\n",
       "    </tr>\n",
       "    <tr>\n",
       "      <th>Topic</th>\n",
       "      <th></th>\n",
       "    </tr>\n",
       "  </thead>\n",
       "  <tbody>\n",
       "    <tr>\n",
       "      <th>topic1</th>\n",
       "      <td>1968</td>\n",
       "    </tr>\n",
       "    <tr>\n",
       "      <th>topic2</th>\n",
       "      <td>661</td>\n",
       "    </tr>\n",
       "    <tr>\n",
       "      <th>topic3</th>\n",
       "      <td>584</td>\n",
       "    </tr>\n",
       "    <tr>\n",
       "      <th>topic4</th>\n",
       "      <td>889</td>\n",
       "    </tr>\n",
       "    <tr>\n",
       "      <th>topic5</th>\n",
       "      <td>1154</td>\n",
       "    </tr>\n",
       "    <tr>\n",
       "      <th>topic6</th>\n",
       "      <td>190</td>\n",
       "    </tr>\n",
       "    <tr>\n",
       "      <th>topic7</th>\n",
       "      <td>226</td>\n",
       "    </tr>\n",
       "    <tr>\n",
       "      <th>topic8</th>\n",
       "      <td>65</td>\n",
       "    </tr>\n",
       "  </tbody>\n",
       "</table>\n",
       "</div>"
      ],
      "text/plain": [
       "        count\n",
       "Topic        \n",
       "topic1   1968\n",
       "topic2    661\n",
       "topic3    584\n",
       "topic4    889\n",
       "topic5   1154\n",
       "topic6    190\n",
       "topic7    226\n",
       "topic8     65"
      ]
     },
     "execution_count": 75,
     "metadata": {},
     "output_type": "execute_result"
    }
   ],
   "source": [
    "df_count= df[(df.Year == 2011)]\n",
    "count=df_count.groupby('Topic')['Year'].count()\n",
    "df_count=pd.DataFrame(count)\n",
    "df_count = df_count.rename(columns={'Year': 'count'})\n",
    "df_count"
   ]
  },
  {
   "cell_type": "code",
   "execution_count": 76,
   "metadata": {},
   "outputs": [
    {
     "data": {
      "text/html": [
       "<div>\n",
       "<style scoped>\n",
       "    .dataframe tbody tr th:only-of-type {\n",
       "        vertical-align: middle;\n",
       "    }\n",
       "\n",
       "    .dataframe tbody tr th {\n",
       "        vertical-align: top;\n",
       "    }\n",
       "\n",
       "    .dataframe thead th {\n",
       "        text-align: right;\n",
       "    }\n",
       "</style>\n",
       "<table border=\"1\" class=\"dataframe\">\n",
       "  <thead>\n",
       "    <tr style=\"text-align: right;\">\n",
       "      <th></th>\n",
       "      <th>%age_Share</th>\n",
       "    </tr>\n",
       "    <tr>\n",
       "      <th>Topic</th>\n",
       "      <th></th>\n",
       "    </tr>\n",
       "  </thead>\n",
       "  <tbody>\n",
       "    <tr>\n",
       "      <th>topic1</th>\n",
       "      <td>0.343036</td>\n",
       "    </tr>\n",
       "    <tr>\n",
       "      <th>topic2</th>\n",
       "      <td>0.115217</td>\n",
       "    </tr>\n",
       "    <tr>\n",
       "      <th>topic3</th>\n",
       "      <td>0.101795</td>\n",
       "    </tr>\n",
       "    <tr>\n",
       "      <th>topic4</th>\n",
       "      <td>0.154959</td>\n",
       "    </tr>\n",
       "    <tr>\n",
       "      <th>topic5</th>\n",
       "      <td>0.201150</td>\n",
       "    </tr>\n",
       "    <tr>\n",
       "      <th>topic6</th>\n",
       "      <td>0.033118</td>\n",
       "    </tr>\n",
       "    <tr>\n",
       "      <th>topic7</th>\n",
       "      <td>0.039393</td>\n",
       "    </tr>\n",
       "    <tr>\n",
       "      <th>topic8</th>\n",
       "      <td>0.011330</td>\n",
       "    </tr>\n",
       "  </tbody>\n",
       "</table>\n",
       "</div>"
      ],
      "text/plain": [
       "        %age_Share\n",
       "Topic             \n",
       "topic1    0.343036\n",
       "topic2    0.115217\n",
       "topic3    0.101795\n",
       "topic4    0.154959\n",
       "topic5    0.201150\n",
       "topic6    0.033118\n",
       "topic7    0.039393\n",
       "topic8    0.011330"
      ]
     },
     "execution_count": 76,
     "metadata": {},
     "output_type": "execute_result"
    }
   ],
   "source": [
    "share=df_share.groupby('Topic')['Year'].count() / (len(df_share.index))\n",
    "df_share=pd.DataFrame(share)\n",
    "df_share = df_share.rename(columns={'Year': '%age_Share'})\n",
    "df_share"
   ]
  },
  {
   "cell_type": "code",
   "execution_count": 77,
   "metadata": {},
   "outputs": [
    {
     "data": {
      "text/plain": [
       "pandas.core.frame.DataFrame"
      ]
     },
     "execution_count": 77,
     "metadata": {},
     "output_type": "execute_result"
    }
   ],
   "source": [
    "type(df_share)"
   ]
  },
  {
   "cell_type": "markdown",
   "metadata": {},
   "source": [
    "# Calculate CAGR\n",
    "https://www.investopedia.com/terms/c/cagr.asp\n",
    "\n",
    "We will consider years from 2009-2013"
   ]
  },
  {
   "cell_type": "code",
   "execution_count": 78,
   "metadata": {},
   "outputs": [
    {
     "data": {
      "text/plain": [
       "3754"
      ]
     },
     "execution_count": 78,
     "metadata": {},
     "output_type": "execute_result"
    }
   ],
   "source": [
    "# How many patents we had in year 2005\n",
    "len(df[df.Year==2009])"
   ]
  },
  {
   "cell_type": "code",
   "execution_count": 79,
   "metadata": {},
   "outputs": [
    {
     "data": {
      "text/plain": [
       "Year   Topic \n",
       "False  topic1    19561\n",
       "       topic2    11031\n",
       "       topic3    10254\n",
       "       topic4     8959\n",
       "       topic5     7584\n",
       "       topic6     3570\n",
       "       topic7     2974\n",
       "       topic8     1075\n",
       "True   topic1     1181\n",
       "       topic2      469\n",
       "       topic3      443\n",
       "       topic4      688\n",
       "       topic5      610\n",
       "       topic6      148\n",
       "       topic7      157\n",
       "       topic8       58\n",
       "Name: Topic, dtype: int64"
      ]
     },
     "execution_count": 79,
     "metadata": {},
     "output_type": "execute_result"
    }
   ],
   "source": [
    "df.groupby(df.Year==2009).Topic.value_counts(sort=False)"
   ]
  },
  {
   "cell_type": "markdown",
   "metadata": {},
   "source": [
    "**for NOT using these tru, false bools**"
   ]
  },
  {
   "cell_type": "code",
   "execution_count": 80,
   "metadata": {},
   "outputs": [
    {
     "data": {
      "text/html": [
       "<div>\n",
       "<style scoped>\n",
       "    .dataframe tbody tr th:only-of-type {\n",
       "        vertical-align: middle;\n",
       "    }\n",
       "\n",
       "    .dataframe tbody tr th {\n",
       "        vertical-align: top;\n",
       "    }\n",
       "\n",
       "    .dataframe thead th {\n",
       "        text-align: right;\n",
       "    }\n",
       "</style>\n",
       "<table border=\"1\" class=\"dataframe\">\n",
       "  <thead>\n",
       "    <tr style=\"text-align: right;\">\n",
       "      <th></th>\n",
       "      <th>count_2009</th>\n",
       "    </tr>\n",
       "    <tr>\n",
       "      <th>Topic</th>\n",
       "      <th></th>\n",
       "    </tr>\n",
       "  </thead>\n",
       "  <tbody>\n",
       "    <tr>\n",
       "      <th>topic1</th>\n",
       "      <td>1181</td>\n",
       "    </tr>\n",
       "    <tr>\n",
       "      <th>topic2</th>\n",
       "      <td>469</td>\n",
       "    </tr>\n",
       "    <tr>\n",
       "      <th>topic3</th>\n",
       "      <td>443</td>\n",
       "    </tr>\n",
       "    <tr>\n",
       "      <th>topic4</th>\n",
       "      <td>688</td>\n",
       "    </tr>\n",
       "    <tr>\n",
       "      <th>topic5</th>\n",
       "      <td>610</td>\n",
       "    </tr>\n",
       "    <tr>\n",
       "      <th>topic6</th>\n",
       "      <td>148</td>\n",
       "    </tr>\n",
       "    <tr>\n",
       "      <th>topic7</th>\n",
       "      <td>157</td>\n",
       "    </tr>\n",
       "    <tr>\n",
       "      <th>topic8</th>\n",
       "      <td>58</td>\n",
       "    </tr>\n",
       "  </tbody>\n",
       "</table>\n",
       "</div>"
      ],
      "text/plain": [
       "        count_2009\n",
       "Topic             \n",
       "topic1        1181\n",
       "topic2         469\n",
       "topic3         443\n",
       "topic4         688\n",
       "topic5         610\n",
       "topic6         148\n",
       "topic7         157\n",
       "topic8          58"
      ]
     },
     "execution_count": 80,
     "metadata": {},
     "output_type": "execute_result"
    }
   ],
   "source": [
    "df_2009=df[(df.Year == 2009)]\n",
    "pat_2009=df_2009.groupby('Topic')['Year'].count()\n",
    "df_2009=pd.DataFrame(pat_2009)\n",
    "df_2009 = df_2009.rename(columns={'Year': 'count_2009'})\n",
    "df_2009"
   ]
  },
  {
   "cell_type": "code",
   "execution_count": 81,
   "metadata": {},
   "outputs": [
    {
     "data": {
      "text/html": [
       "<div>\n",
       "<style scoped>\n",
       "    .dataframe tbody tr th:only-of-type {\n",
       "        vertical-align: middle;\n",
       "    }\n",
       "\n",
       "    .dataframe tbody tr th {\n",
       "        vertical-align: top;\n",
       "    }\n",
       "\n",
       "    .dataframe thead th {\n",
       "        text-align: right;\n",
       "    }\n",
       "</style>\n",
       "<table border=\"1\" class=\"dataframe\">\n",
       "  <thead>\n",
       "    <tr style=\"text-align: right;\">\n",
       "      <th></th>\n",
       "      <th>percent</th>\n",
       "    </tr>\n",
       "    <tr>\n",
       "      <th>Topic</th>\n",
       "      <th></th>\n",
       "    </tr>\n",
       "  </thead>\n",
       "  <tbody>\n",
       "    <tr>\n",
       "      <th>topic1</th>\n",
       "      <td>0.314598</td>\n",
       "    </tr>\n",
       "    <tr>\n",
       "      <th>topic2</th>\n",
       "      <td>0.124933</td>\n",
       "    </tr>\n",
       "    <tr>\n",
       "      <th>topic3</th>\n",
       "      <td>0.118007</td>\n",
       "    </tr>\n",
       "    <tr>\n",
       "      <th>topic4</th>\n",
       "      <td>0.183271</td>\n",
       "    </tr>\n",
       "    <tr>\n",
       "      <th>topic5</th>\n",
       "      <td>0.162493</td>\n",
       "    </tr>\n",
       "    <tr>\n",
       "      <th>topic6</th>\n",
       "      <td>0.039425</td>\n",
       "    </tr>\n",
       "    <tr>\n",
       "      <th>topic7</th>\n",
       "      <td>0.041822</td>\n",
       "    </tr>\n",
       "    <tr>\n",
       "      <th>topic8</th>\n",
       "      <td>0.015450</td>\n",
       "    </tr>\n",
       "  </tbody>\n",
       "</table>\n",
       "</div>"
      ],
      "text/plain": [
       "         percent\n",
       "Topic           \n",
       "topic1  0.314598\n",
       "topic2  0.124933\n",
       "topic3  0.118007\n",
       "topic4  0.183271\n",
       "topic5  0.162493\n",
       "topic6  0.039425\n",
       "topic7  0.041822\n",
       "topic8  0.015450"
      ]
     },
     "execution_count": 81,
     "metadata": {},
     "output_type": "execute_result"
    }
   ],
   "source": [
    "df_norm=df[(df.Year == 2009)]\n",
    "norm2009=df_norm.groupby('Topic')['Year'].count()/(len(df_norm.index))\n",
    "df_norm=pd.DataFrame(norm2009)\n",
    "df_norm=df_norm.rename(columns={'Year': 'percent'})\n",
    "df_norm"
   ]
  },
  {
   "cell_type": "code",
   "execution_count": 82,
   "metadata": {},
   "outputs": [
    {
     "data": {
      "text/html": [
       "<div>\n",
       "<style scoped>\n",
       "    .dataframe tbody tr th:only-of-type {\n",
       "        vertical-align: middle;\n",
       "    }\n",
       "\n",
       "    .dataframe tbody tr th {\n",
       "        vertical-align: top;\n",
       "    }\n",
       "\n",
       "    .dataframe thead th {\n",
       "        text-align: right;\n",
       "    }\n",
       "</style>\n",
       "<table border=\"1\" class=\"dataframe\">\n",
       "  <thead>\n",
       "    <tr style=\"text-align: right;\">\n",
       "      <th></th>\n",
       "      <th>count_2009</th>\n",
       "      <th>percent_2009</th>\n",
       "    </tr>\n",
       "    <tr>\n",
       "      <th>Topic</th>\n",
       "      <th></th>\n",
       "      <th></th>\n",
       "    </tr>\n",
       "  </thead>\n",
       "  <tbody>\n",
       "    <tr>\n",
       "      <th>topic1</th>\n",
       "      <td>1181</td>\n",
       "      <td>0.314598</td>\n",
       "    </tr>\n",
       "    <tr>\n",
       "      <th>topic2</th>\n",
       "      <td>469</td>\n",
       "      <td>0.124933</td>\n",
       "    </tr>\n",
       "    <tr>\n",
       "      <th>topic3</th>\n",
       "      <td>443</td>\n",
       "      <td>0.118007</td>\n",
       "    </tr>\n",
       "    <tr>\n",
       "      <th>topic4</th>\n",
       "      <td>688</td>\n",
       "      <td>0.183271</td>\n",
       "    </tr>\n",
       "    <tr>\n",
       "      <th>topic5</th>\n",
       "      <td>610</td>\n",
       "      <td>0.162493</td>\n",
       "    </tr>\n",
       "    <tr>\n",
       "      <th>topic6</th>\n",
       "      <td>148</td>\n",
       "      <td>0.039425</td>\n",
       "    </tr>\n",
       "    <tr>\n",
       "      <th>topic7</th>\n",
       "      <td>157</td>\n",
       "      <td>0.041822</td>\n",
       "    </tr>\n",
       "    <tr>\n",
       "      <th>topic8</th>\n",
       "      <td>58</td>\n",
       "      <td>0.015450</td>\n",
       "    </tr>\n",
       "  </tbody>\n",
       "</table>\n",
       "</div>"
      ],
      "text/plain": [
       "        count_2009  percent_2009\n",
       "Topic                           \n",
       "topic1        1181      0.314598\n",
       "topic2         469      0.124933\n",
       "topic3         443      0.118007\n",
       "topic4         688      0.183271\n",
       "topic5         610      0.162493\n",
       "topic6         148      0.039425\n",
       "topic7         157      0.041822\n",
       "topic8          58      0.015450"
      ]
     },
     "execution_count": 82,
     "metadata": {},
     "output_type": "execute_result"
    }
   ],
   "source": [
    "df_2009['percent_2009']=df_norm.percent\n",
    "df_2009"
   ]
  },
  {
   "cell_type": "markdown",
   "metadata": {},
   "source": [
    "#### Dataframe for year 2013"
   ]
  },
  {
   "cell_type": "code",
   "execution_count": 83,
   "metadata": {},
   "outputs": [
    {
     "data": {
      "text/plain": [
       "4247"
      ]
     },
     "execution_count": 83,
     "metadata": {},
     "output_type": "execute_result"
    }
   ],
   "source": [
    "# How many patents we had in year 2014\n",
    "len(df[df.Year==2013])"
   ]
  },
  {
   "cell_type": "code",
   "execution_count": 84,
   "metadata": {},
   "outputs": [
    {
     "data": {
      "text/html": [
       "<div>\n",
       "<style scoped>\n",
       "    .dataframe tbody tr th:only-of-type {\n",
       "        vertical-align: middle;\n",
       "    }\n",
       "\n",
       "    .dataframe tbody tr th {\n",
       "        vertical-align: top;\n",
       "    }\n",
       "\n",
       "    .dataframe thead th {\n",
       "        text-align: right;\n",
       "    }\n",
       "</style>\n",
       "<table border=\"1\" class=\"dataframe\">\n",
       "  <thead>\n",
       "    <tr style=\"text-align: right;\">\n",
       "      <th></th>\n",
       "      <th>count_2013</th>\n",
       "    </tr>\n",
       "    <tr>\n",
       "      <th>Topic</th>\n",
       "      <th></th>\n",
       "    </tr>\n",
       "  </thead>\n",
       "  <tbody>\n",
       "    <tr>\n",
       "      <th>topic1</th>\n",
       "      <td>1619</td>\n",
       "    </tr>\n",
       "    <tr>\n",
       "      <th>topic2</th>\n",
       "      <td>451</td>\n",
       "    </tr>\n",
       "    <tr>\n",
       "      <th>topic3</th>\n",
       "      <td>478</td>\n",
       "    </tr>\n",
       "    <tr>\n",
       "      <th>topic4</th>\n",
       "      <td>749</td>\n",
       "    </tr>\n",
       "    <tr>\n",
       "      <th>topic5</th>\n",
       "      <td>693</td>\n",
       "    </tr>\n",
       "    <tr>\n",
       "      <th>topic6</th>\n",
       "      <td>107</td>\n",
       "    </tr>\n",
       "    <tr>\n",
       "      <th>topic7</th>\n",
       "      <td>102</td>\n",
       "    </tr>\n",
       "    <tr>\n",
       "      <th>topic8</th>\n",
       "      <td>48</td>\n",
       "    </tr>\n",
       "  </tbody>\n",
       "</table>\n",
       "</div>"
      ],
      "text/plain": [
       "        count_2013\n",
       "Topic             \n",
       "topic1        1619\n",
       "topic2         451\n",
       "topic3         478\n",
       "topic4         749\n",
       "topic5         693\n",
       "topic6         107\n",
       "topic7         102\n",
       "topic8          48"
      ]
     },
     "execution_count": 84,
     "metadata": {},
     "output_type": "execute_result"
    }
   ],
   "source": [
    "df_2013=df[(df.Year == 2013)]\n",
    "pat_2013=df_2013.groupby('Topic')['Year'].count()\n",
    "df_2013=pd.DataFrame(pat_2013)\n",
    "df_2013 = df_2013.rename(columns={'Year': 'count_2013'})\n",
    "df_2013"
   ]
  },
  {
   "cell_type": "code",
   "execution_count": 85,
   "metadata": {},
   "outputs": [
    {
     "data": {
      "text/html": [
       "<div>\n",
       "<style scoped>\n",
       "    .dataframe tbody tr th:only-of-type {\n",
       "        vertical-align: middle;\n",
       "    }\n",
       "\n",
       "    .dataframe tbody tr th {\n",
       "        vertical-align: top;\n",
       "    }\n",
       "\n",
       "    .dataframe thead th {\n",
       "        text-align: right;\n",
       "    }\n",
       "</style>\n",
       "<table border=\"1\" class=\"dataframe\">\n",
       "  <thead>\n",
       "    <tr style=\"text-align: right;\">\n",
       "      <th></th>\n",
       "      <th>percent</th>\n",
       "    </tr>\n",
       "    <tr>\n",
       "      <th>Topic</th>\n",
       "      <th></th>\n",
       "    </tr>\n",
       "  </thead>\n",
       "  <tbody>\n",
       "    <tr>\n",
       "      <th>topic1</th>\n",
       "      <td>0.381210</td>\n",
       "    </tr>\n",
       "    <tr>\n",
       "      <th>topic2</th>\n",
       "      <td>0.106193</td>\n",
       "    </tr>\n",
       "    <tr>\n",
       "      <th>topic3</th>\n",
       "      <td>0.112550</td>\n",
       "    </tr>\n",
       "    <tr>\n",
       "      <th>topic4</th>\n",
       "      <td>0.176360</td>\n",
       "    </tr>\n",
       "    <tr>\n",
       "      <th>topic5</th>\n",
       "      <td>0.163174</td>\n",
       "    </tr>\n",
       "    <tr>\n",
       "      <th>topic6</th>\n",
       "      <td>0.025194</td>\n",
       "    </tr>\n",
       "    <tr>\n",
       "      <th>topic7</th>\n",
       "      <td>0.024017</td>\n",
       "    </tr>\n",
       "    <tr>\n",
       "      <th>topic8</th>\n",
       "      <td>0.011302</td>\n",
       "    </tr>\n",
       "  </tbody>\n",
       "</table>\n",
       "</div>"
      ],
      "text/plain": [
       "         percent\n",
       "Topic           \n",
       "topic1  0.381210\n",
       "topic2  0.106193\n",
       "topic3  0.112550\n",
       "topic4  0.176360\n",
       "topic5  0.163174\n",
       "topic6  0.025194\n",
       "topic7  0.024017\n",
       "topic8  0.011302"
      ]
     },
     "execution_count": 85,
     "metadata": {},
     "output_type": "execute_result"
    }
   ],
   "source": [
    "df_norm_13=df[(df.Year == 2013)]\n",
    "norm2013=df_norm_13.groupby('Topic')['Year'].count()/(len(df_norm_13.index))\n",
    "df_norm_13=pd.DataFrame(norm2013)\n",
    "df_norm_13=df_norm_13.rename(columns={'Year': 'percent'})\n",
    "df_norm_13"
   ]
  },
  {
   "cell_type": "code",
   "execution_count": 86,
   "metadata": {},
   "outputs": [
    {
     "data": {
      "text/html": [
       "<div>\n",
       "<style scoped>\n",
       "    .dataframe tbody tr th:only-of-type {\n",
       "        vertical-align: middle;\n",
       "    }\n",
       "\n",
       "    .dataframe tbody tr th {\n",
       "        vertical-align: top;\n",
       "    }\n",
       "\n",
       "    .dataframe thead th {\n",
       "        text-align: right;\n",
       "    }\n",
       "</style>\n",
       "<table border=\"1\" class=\"dataframe\">\n",
       "  <thead>\n",
       "    <tr style=\"text-align: right;\">\n",
       "      <th></th>\n",
       "      <th>count_2013</th>\n",
       "      <th>percent_2013</th>\n",
       "    </tr>\n",
       "    <tr>\n",
       "      <th>Topic</th>\n",
       "      <th></th>\n",
       "      <th></th>\n",
       "    </tr>\n",
       "  </thead>\n",
       "  <tbody>\n",
       "    <tr>\n",
       "      <th>topic1</th>\n",
       "      <td>1619</td>\n",
       "      <td>0.381210</td>\n",
       "    </tr>\n",
       "    <tr>\n",
       "      <th>topic2</th>\n",
       "      <td>451</td>\n",
       "      <td>0.106193</td>\n",
       "    </tr>\n",
       "    <tr>\n",
       "      <th>topic3</th>\n",
       "      <td>478</td>\n",
       "      <td>0.112550</td>\n",
       "    </tr>\n",
       "    <tr>\n",
       "      <th>topic4</th>\n",
       "      <td>749</td>\n",
       "      <td>0.176360</td>\n",
       "    </tr>\n",
       "    <tr>\n",
       "      <th>topic5</th>\n",
       "      <td>693</td>\n",
       "      <td>0.163174</td>\n",
       "    </tr>\n",
       "    <tr>\n",
       "      <th>topic6</th>\n",
       "      <td>107</td>\n",
       "      <td>0.025194</td>\n",
       "    </tr>\n",
       "    <tr>\n",
       "      <th>topic7</th>\n",
       "      <td>102</td>\n",
       "      <td>0.024017</td>\n",
       "    </tr>\n",
       "    <tr>\n",
       "      <th>topic8</th>\n",
       "      <td>48</td>\n",
       "      <td>0.011302</td>\n",
       "    </tr>\n",
       "  </tbody>\n",
       "</table>\n",
       "</div>"
      ],
      "text/plain": [
       "        count_2013  percent_2013\n",
       "Topic                           \n",
       "topic1        1619      0.381210\n",
       "topic2         451      0.106193\n",
       "topic3         478      0.112550\n",
       "topic4         749      0.176360\n",
       "topic5         693      0.163174\n",
       "topic6         107      0.025194\n",
       "topic7         102      0.024017\n",
       "topic8          48      0.011302"
      ]
     },
     "execution_count": 86,
     "metadata": {},
     "output_type": "execute_result"
    }
   ],
   "source": [
    "df_2013['percent_2013']=df_norm_13.percent\n",
    "df_2013"
   ]
  },
  {
   "cell_type": "markdown",
   "metadata": {},
   "source": [
    "#### merge dataframes of 2009, 2013"
   ]
  },
  {
   "cell_type": "code",
   "execution_count": 87,
   "metadata": {},
   "outputs": [
    {
     "data": {
      "text/html": [
       "<div>\n",
       "<style scoped>\n",
       "    .dataframe tbody tr th:only-of-type {\n",
       "        vertical-align: middle;\n",
       "    }\n",
       "\n",
       "    .dataframe tbody tr th {\n",
       "        vertical-align: top;\n",
       "    }\n",
       "\n",
       "    .dataframe thead th {\n",
       "        text-align: right;\n",
       "    }\n",
       "</style>\n",
       "<table border=\"1\" class=\"dataframe\">\n",
       "  <thead>\n",
       "    <tr style=\"text-align: right;\">\n",
       "      <th></th>\n",
       "      <th>count_2009</th>\n",
       "      <th>percent_2009</th>\n",
       "      <th>count_2013</th>\n",
       "      <th>percent_2013</th>\n",
       "    </tr>\n",
       "    <tr>\n",
       "      <th>Topic</th>\n",
       "      <th></th>\n",
       "      <th></th>\n",
       "      <th></th>\n",
       "      <th></th>\n",
       "    </tr>\n",
       "  </thead>\n",
       "  <tbody>\n",
       "    <tr>\n",
       "      <th>topic1</th>\n",
       "      <td>1181</td>\n",
       "      <td>0.314598</td>\n",
       "      <td>1619</td>\n",
       "      <td>0.381210</td>\n",
       "    </tr>\n",
       "    <tr>\n",
       "      <th>topic2</th>\n",
       "      <td>469</td>\n",
       "      <td>0.124933</td>\n",
       "      <td>451</td>\n",
       "      <td>0.106193</td>\n",
       "    </tr>\n",
       "    <tr>\n",
       "      <th>topic3</th>\n",
       "      <td>443</td>\n",
       "      <td>0.118007</td>\n",
       "      <td>478</td>\n",
       "      <td>0.112550</td>\n",
       "    </tr>\n",
       "    <tr>\n",
       "      <th>topic4</th>\n",
       "      <td>688</td>\n",
       "      <td>0.183271</td>\n",
       "      <td>749</td>\n",
       "      <td>0.176360</td>\n",
       "    </tr>\n",
       "    <tr>\n",
       "      <th>topic5</th>\n",
       "      <td>610</td>\n",
       "      <td>0.162493</td>\n",
       "      <td>693</td>\n",
       "      <td>0.163174</td>\n",
       "    </tr>\n",
       "    <tr>\n",
       "      <th>topic6</th>\n",
       "      <td>148</td>\n",
       "      <td>0.039425</td>\n",
       "      <td>107</td>\n",
       "      <td>0.025194</td>\n",
       "    </tr>\n",
       "    <tr>\n",
       "      <th>topic7</th>\n",
       "      <td>157</td>\n",
       "      <td>0.041822</td>\n",
       "      <td>102</td>\n",
       "      <td>0.024017</td>\n",
       "    </tr>\n",
       "    <tr>\n",
       "      <th>topic8</th>\n",
       "      <td>58</td>\n",
       "      <td>0.015450</td>\n",
       "      <td>48</td>\n",
       "      <td>0.011302</td>\n",
       "    </tr>\n",
       "  </tbody>\n",
       "</table>\n",
       "</div>"
      ],
      "text/plain": [
       "        count_2009  percent_2009  count_2013  percent_2013\n",
       "Topic                                                     \n",
       "topic1        1181      0.314598        1619      0.381210\n",
       "topic2         469      0.124933         451      0.106193\n",
       "topic3         443      0.118007         478      0.112550\n",
       "topic4         688      0.183271         749      0.176360\n",
       "topic5         610      0.162493         693      0.163174\n",
       "topic6         148      0.039425         107      0.025194\n",
       "topic7         157      0.041822         102      0.024017\n",
       "topic8          58      0.015450          48      0.011302"
      ]
     },
     "execution_count": 87,
     "metadata": {},
     "output_type": "execute_result"
    }
   ],
   "source": [
    "master = pd.merge(df_2009, df_2013, how=\"inner\",left_index=True, right_index=True)\n",
    "master"
   ]
  },
  {
   "cell_type": "markdown",
   "metadata": {},
   "source": [
    "### master table for CAGR"
   ]
  },
  {
   "cell_type": "code",
   "execution_count": 88,
   "metadata": {},
   "outputs": [
    {
     "data": {
      "text/html": [
       "<div>\n",
       "<style scoped>\n",
       "    .dataframe tbody tr th:only-of-type {\n",
       "        vertical-align: middle;\n",
       "    }\n",
       "\n",
       "    .dataframe tbody tr th {\n",
       "        vertical-align: top;\n",
       "    }\n",
       "\n",
       "    .dataframe thead th {\n",
       "        text-align: right;\n",
       "    }\n",
       "</style>\n",
       "<table border=\"1\" class=\"dataframe\">\n",
       "  <thead>\n",
       "    <tr style=\"text-align: right;\">\n",
       "      <th></th>\n",
       "      <th>count_2009</th>\n",
       "      <th>percent_2009</th>\n",
       "      <th>count_2013</th>\n",
       "      <th>percent_2013</th>\n",
       "      <th>step1</th>\n",
       "    </tr>\n",
       "    <tr>\n",
       "      <th>Topic</th>\n",
       "      <th></th>\n",
       "      <th></th>\n",
       "      <th></th>\n",
       "      <th></th>\n",
       "      <th></th>\n",
       "    </tr>\n",
       "  </thead>\n",
       "  <tbody>\n",
       "    <tr>\n",
       "      <th>topic1</th>\n",
       "      <td>1181</td>\n",
       "      <td>0.314598</td>\n",
       "      <td>1619</td>\n",
       "      <td>0.381210</td>\n",
       "      <td>1.370872</td>\n",
       "    </tr>\n",
       "    <tr>\n",
       "      <th>topic2</th>\n",
       "      <td>469</td>\n",
       "      <td>0.124933</td>\n",
       "      <td>451</td>\n",
       "      <td>0.106193</td>\n",
       "      <td>0.961620</td>\n",
       "    </tr>\n",
       "    <tr>\n",
       "      <th>topic3</th>\n",
       "      <td>443</td>\n",
       "      <td>0.118007</td>\n",
       "      <td>478</td>\n",
       "      <td>0.112550</td>\n",
       "      <td>1.079007</td>\n",
       "    </tr>\n",
       "    <tr>\n",
       "      <th>topic4</th>\n",
       "      <td>688</td>\n",
       "      <td>0.183271</td>\n",
       "      <td>749</td>\n",
       "      <td>0.176360</td>\n",
       "      <td>1.088663</td>\n",
       "    </tr>\n",
       "    <tr>\n",
       "      <th>topic5</th>\n",
       "      <td>610</td>\n",
       "      <td>0.162493</td>\n",
       "      <td>693</td>\n",
       "      <td>0.163174</td>\n",
       "      <td>1.136066</td>\n",
       "    </tr>\n",
       "    <tr>\n",
       "      <th>topic6</th>\n",
       "      <td>148</td>\n",
       "      <td>0.039425</td>\n",
       "      <td>107</td>\n",
       "      <td>0.025194</td>\n",
       "      <td>0.722973</td>\n",
       "    </tr>\n",
       "    <tr>\n",
       "      <th>topic7</th>\n",
       "      <td>157</td>\n",
       "      <td>0.041822</td>\n",
       "      <td>102</td>\n",
       "      <td>0.024017</td>\n",
       "      <td>0.649682</td>\n",
       "    </tr>\n",
       "    <tr>\n",
       "      <th>topic8</th>\n",
       "      <td>58</td>\n",
       "      <td>0.015450</td>\n",
       "      <td>48</td>\n",
       "      <td>0.011302</td>\n",
       "      <td>0.827586</td>\n",
       "    </tr>\n",
       "  </tbody>\n",
       "</table>\n",
       "</div>"
      ],
      "text/plain": [
       "        count_2009  percent_2009  count_2013  percent_2013     step1\n",
       "Topic                                                               \n",
       "topic1        1181      0.314598        1619      0.381210  1.370872\n",
       "topic2         469      0.124933         451      0.106193  0.961620\n",
       "topic3         443      0.118007         478      0.112550  1.079007\n",
       "topic4         688      0.183271         749      0.176360  1.088663\n",
       "topic5         610      0.162493         693      0.163174  1.136066\n",
       "topic6         148      0.039425         107      0.025194  0.722973\n",
       "topic7         157      0.041822         102      0.024017  0.649682\n",
       "topic8          58      0.015450          48      0.011302  0.827586"
      ]
     },
     "execution_count": 88,
     "metadata": {},
     "output_type": "execute_result"
    }
   ],
   "source": [
    "#step1: (ending value/ Begin value)\n",
    "master[\"step1\"]= master['count_2013']/master['count_2009']\n",
    "master"
   ]
  },
  {
   "cell_type": "code",
   "execution_count": 89,
   "metadata": {},
   "outputs": [
    {
     "data": {
      "text/html": [
       "<div>\n",
       "<style scoped>\n",
       "    .dataframe tbody tr th:only-of-type {\n",
       "        vertical-align: middle;\n",
       "    }\n",
       "\n",
       "    .dataframe tbody tr th {\n",
       "        vertical-align: top;\n",
       "    }\n",
       "\n",
       "    .dataframe thead th {\n",
       "        text-align: right;\n",
       "    }\n",
       "</style>\n",
       "<table border=\"1\" class=\"dataframe\">\n",
       "  <thead>\n",
       "    <tr style=\"text-align: right;\">\n",
       "      <th></th>\n",
       "      <th>count_2009</th>\n",
       "      <th>percent_2009</th>\n",
       "      <th>count_2013</th>\n",
       "      <th>percent_2013</th>\n",
       "      <th>step1</th>\n",
       "      <th>step2</th>\n",
       "    </tr>\n",
       "    <tr>\n",
       "      <th>Topic</th>\n",
       "      <th></th>\n",
       "      <th></th>\n",
       "      <th></th>\n",
       "      <th></th>\n",
       "      <th></th>\n",
       "      <th></th>\n",
       "    </tr>\n",
       "  </thead>\n",
       "  <tbody>\n",
       "    <tr>\n",
       "      <th>topic1</th>\n",
       "      <td>1181</td>\n",
       "      <td>0.314598</td>\n",
       "      <td>1619</td>\n",
       "      <td>0.381210</td>\n",
       "      <td>1.370872</td>\n",
       "      <td>1.065122</td>\n",
       "    </tr>\n",
       "    <tr>\n",
       "      <th>topic2</th>\n",
       "      <td>469</td>\n",
       "      <td>0.124933</td>\n",
       "      <td>451</td>\n",
       "      <td>0.106193</td>\n",
       "      <td>0.961620</td>\n",
       "      <td>0.992203</td>\n",
       "    </tr>\n",
       "    <tr>\n",
       "      <th>topic3</th>\n",
       "      <td>443</td>\n",
       "      <td>0.118007</td>\n",
       "      <td>478</td>\n",
       "      <td>0.112550</td>\n",
       "      <td>1.079007</td>\n",
       "      <td>1.015324</td>\n",
       "    </tr>\n",
       "    <tr>\n",
       "      <th>topic4</th>\n",
       "      <td>688</td>\n",
       "      <td>0.183271</td>\n",
       "      <td>749</td>\n",
       "      <td>0.176360</td>\n",
       "      <td>1.088663</td>\n",
       "      <td>1.017135</td>\n",
       "    </tr>\n",
       "    <tr>\n",
       "      <th>topic5</th>\n",
       "      <td>610</td>\n",
       "      <td>0.162493</td>\n",
       "      <td>693</td>\n",
       "      <td>0.163174</td>\n",
       "      <td>1.136066</td>\n",
       "      <td>1.025842</td>\n",
       "    </tr>\n",
       "    <tr>\n",
       "      <th>topic6</th>\n",
       "      <td>148</td>\n",
       "      <td>0.039425</td>\n",
       "      <td>107</td>\n",
       "      <td>0.025194</td>\n",
       "      <td>0.722973</td>\n",
       "      <td>0.937183</td>\n",
       "    </tr>\n",
       "    <tr>\n",
       "      <th>topic7</th>\n",
       "      <td>157</td>\n",
       "      <td>0.041822</td>\n",
       "      <td>102</td>\n",
       "      <td>0.024017</td>\n",
       "      <td>0.649682</td>\n",
       "      <td>0.917361</td>\n",
       "    </tr>\n",
       "    <tr>\n",
       "      <th>topic8</th>\n",
       "      <td>58</td>\n",
       "      <td>0.015450</td>\n",
       "      <td>48</td>\n",
       "      <td>0.011302</td>\n",
       "      <td>0.827586</td>\n",
       "      <td>0.962859</td>\n",
       "    </tr>\n",
       "  </tbody>\n",
       "</table>\n",
       "</div>"
      ],
      "text/plain": [
       "        count_2009  percent_2009  count_2013  percent_2013     step1     step2\n",
       "Topic                                                                         \n",
       "topic1        1181      0.314598        1619      0.381210  1.370872  1.065122\n",
       "topic2         469      0.124933         451      0.106193  0.961620  0.992203\n",
       "topic3         443      0.118007         478      0.112550  1.079007  1.015324\n",
       "topic4         688      0.183271         749      0.176360  1.088663  1.017135\n",
       "topic5         610      0.162493         693      0.163174  1.136066  1.025842\n",
       "topic6         148      0.039425         107      0.025194  0.722973  0.937183\n",
       "topic7         157      0.041822         102      0.024017  0.649682  0.917361\n",
       "topic8          58      0.015450          48      0.011302  0.827586  0.962859"
      ]
     },
     "execution_count": 89,
     "metadata": {},
     "output_type": "execute_result"
    }
   ],
   "source": [
    "#step2:(ending value/ Begin value) ** 0.2 as of five years\n",
    "master[\"step2\"]= (master['step1'])**0.2\n",
    "master"
   ]
  },
  {
   "cell_type": "code",
   "execution_count": 90,
   "metadata": {},
   "outputs": [
    {
     "data": {
      "text/html": [
       "<div>\n",
       "<style scoped>\n",
       "    .dataframe tbody tr th:only-of-type {\n",
       "        vertical-align: middle;\n",
       "    }\n",
       "\n",
       "    .dataframe tbody tr th {\n",
       "        vertical-align: top;\n",
       "    }\n",
       "\n",
       "    .dataframe thead th {\n",
       "        text-align: right;\n",
       "    }\n",
       "</style>\n",
       "<table border=\"1\" class=\"dataframe\">\n",
       "  <thead>\n",
       "    <tr style=\"text-align: right;\">\n",
       "      <th></th>\n",
       "      <th>count_2009</th>\n",
       "      <th>percent_2009</th>\n",
       "      <th>count_2013</th>\n",
       "      <th>percent_2013</th>\n",
       "      <th>step1</th>\n",
       "      <th>step2</th>\n",
       "      <th>step3</th>\n",
       "    </tr>\n",
       "    <tr>\n",
       "      <th>Topic</th>\n",
       "      <th></th>\n",
       "      <th></th>\n",
       "      <th></th>\n",
       "      <th></th>\n",
       "      <th></th>\n",
       "      <th></th>\n",
       "      <th></th>\n",
       "    </tr>\n",
       "  </thead>\n",
       "  <tbody>\n",
       "    <tr>\n",
       "      <th>topic1</th>\n",
       "      <td>1181</td>\n",
       "      <td>0.314598</td>\n",
       "      <td>1619</td>\n",
       "      <td>0.381210</td>\n",
       "      <td>1.370872</td>\n",
       "      <td>1.065122</td>\n",
       "      <td>0.065122</td>\n",
       "    </tr>\n",
       "    <tr>\n",
       "      <th>topic2</th>\n",
       "      <td>469</td>\n",
       "      <td>0.124933</td>\n",
       "      <td>451</td>\n",
       "      <td>0.106193</td>\n",
       "      <td>0.961620</td>\n",
       "      <td>0.992203</td>\n",
       "      <td>-0.007797</td>\n",
       "    </tr>\n",
       "    <tr>\n",
       "      <th>topic3</th>\n",
       "      <td>443</td>\n",
       "      <td>0.118007</td>\n",
       "      <td>478</td>\n",
       "      <td>0.112550</td>\n",
       "      <td>1.079007</td>\n",
       "      <td>1.015324</td>\n",
       "      <td>0.015324</td>\n",
       "    </tr>\n",
       "    <tr>\n",
       "      <th>topic4</th>\n",
       "      <td>688</td>\n",
       "      <td>0.183271</td>\n",
       "      <td>749</td>\n",
       "      <td>0.176360</td>\n",
       "      <td>1.088663</td>\n",
       "      <td>1.017135</td>\n",
       "      <td>0.017135</td>\n",
       "    </tr>\n",
       "    <tr>\n",
       "      <th>topic5</th>\n",
       "      <td>610</td>\n",
       "      <td>0.162493</td>\n",
       "      <td>693</td>\n",
       "      <td>0.163174</td>\n",
       "      <td>1.136066</td>\n",
       "      <td>1.025842</td>\n",
       "      <td>0.025842</td>\n",
       "    </tr>\n",
       "    <tr>\n",
       "      <th>topic6</th>\n",
       "      <td>148</td>\n",
       "      <td>0.039425</td>\n",
       "      <td>107</td>\n",
       "      <td>0.025194</td>\n",
       "      <td>0.722973</td>\n",
       "      <td>0.937183</td>\n",
       "      <td>-0.062817</td>\n",
       "    </tr>\n",
       "    <tr>\n",
       "      <th>topic7</th>\n",
       "      <td>157</td>\n",
       "      <td>0.041822</td>\n",
       "      <td>102</td>\n",
       "      <td>0.024017</td>\n",
       "      <td>0.649682</td>\n",
       "      <td>0.917361</td>\n",
       "      <td>-0.082639</td>\n",
       "    </tr>\n",
       "    <tr>\n",
       "      <th>topic8</th>\n",
       "      <td>58</td>\n",
       "      <td>0.015450</td>\n",
       "      <td>48</td>\n",
       "      <td>0.011302</td>\n",
       "      <td>0.827586</td>\n",
       "      <td>0.962859</td>\n",
       "      <td>-0.037141</td>\n",
       "    </tr>\n",
       "  </tbody>\n",
       "</table>\n",
       "</div>"
      ],
      "text/plain": [
       "        count_2009  percent_2009  count_2013  percent_2013     step1  \\\n",
       "Topic                                                                  \n",
       "topic1        1181      0.314598        1619      0.381210  1.370872   \n",
       "topic2         469      0.124933         451      0.106193  0.961620   \n",
       "topic3         443      0.118007         478      0.112550  1.079007   \n",
       "topic4         688      0.183271         749      0.176360  1.088663   \n",
       "topic5         610      0.162493         693      0.163174  1.136066   \n",
       "topic6         148      0.039425         107      0.025194  0.722973   \n",
       "topic7         157      0.041822         102      0.024017  0.649682   \n",
       "topic8          58      0.015450          48      0.011302  0.827586   \n",
       "\n",
       "           step2     step3  \n",
       "Topic                       \n",
       "topic1  1.065122  0.065122  \n",
       "topic2  0.992203 -0.007797  \n",
       "topic3  1.015324  0.015324  \n",
       "topic4  1.017135  0.017135  \n",
       "topic5  1.025842  0.025842  \n",
       "topic6  0.937183 -0.062817  \n",
       "topic7  0.917361 -0.082639  \n",
       "topic8  0.962859 -0.037141  "
      ]
     },
     "execution_count": 90,
     "metadata": {},
     "output_type": "execute_result"
    }
   ],
   "source": [
    "#step3:[(ending value/ Begin value) ** 0.2] -1\n",
    "master['step3']=(master['step2'])-1\n",
    "master"
   ]
  },
  {
   "cell_type": "code",
   "execution_count": 91,
   "metadata": {},
   "outputs": [
    {
     "data": {
      "text/html": [
       "<div>\n",
       "<style scoped>\n",
       "    .dataframe tbody tr th:only-of-type {\n",
       "        vertical-align: middle;\n",
       "    }\n",
       "\n",
       "    .dataframe tbody tr th {\n",
       "        vertical-align: top;\n",
       "    }\n",
       "\n",
       "    .dataframe thead th {\n",
       "        text-align: right;\n",
       "    }\n",
       "</style>\n",
       "<table border=\"1\" class=\"dataframe\">\n",
       "  <thead>\n",
       "    <tr style=\"text-align: right;\">\n",
       "      <th></th>\n",
       "      <th>count_2009</th>\n",
       "      <th>percent_2009</th>\n",
       "      <th>count_2013</th>\n",
       "      <th>percent_2013</th>\n",
       "      <th>step1</th>\n",
       "      <th>step2</th>\n",
       "      <th>step3</th>\n",
       "      <th>CAGR</th>\n",
       "    </tr>\n",
       "    <tr>\n",
       "      <th>Topic</th>\n",
       "      <th></th>\n",
       "      <th></th>\n",
       "      <th></th>\n",
       "      <th></th>\n",
       "      <th></th>\n",
       "      <th></th>\n",
       "      <th></th>\n",
       "      <th></th>\n",
       "    </tr>\n",
       "  </thead>\n",
       "  <tbody>\n",
       "    <tr>\n",
       "      <th>topic1</th>\n",
       "      <td>1181</td>\n",
       "      <td>0.314598</td>\n",
       "      <td>1619</td>\n",
       "      <td>0.381210</td>\n",
       "      <td>1.370872</td>\n",
       "      <td>1.065122</td>\n",
       "      <td>0.065122</td>\n",
       "      <td>6.512209</td>\n",
       "    </tr>\n",
       "    <tr>\n",
       "      <th>topic2</th>\n",
       "      <td>469</td>\n",
       "      <td>0.124933</td>\n",
       "      <td>451</td>\n",
       "      <td>0.106193</td>\n",
       "      <td>0.961620</td>\n",
       "      <td>0.992203</td>\n",
       "      <td>-0.007797</td>\n",
       "      <td>-0.779653</td>\n",
       "    </tr>\n",
       "    <tr>\n",
       "      <th>topic3</th>\n",
       "      <td>443</td>\n",
       "      <td>0.118007</td>\n",
       "      <td>478</td>\n",
       "      <td>0.112550</td>\n",
       "      <td>1.079007</td>\n",
       "      <td>1.015324</td>\n",
       "      <td>0.015324</td>\n",
       "      <td>1.532443</td>\n",
       "    </tr>\n",
       "    <tr>\n",
       "      <th>topic4</th>\n",
       "      <td>688</td>\n",
       "      <td>0.183271</td>\n",
       "      <td>749</td>\n",
       "      <td>0.176360</td>\n",
       "      <td>1.088663</td>\n",
       "      <td>1.017135</td>\n",
       "      <td>0.017135</td>\n",
       "      <td>1.713518</td>\n",
       "    </tr>\n",
       "    <tr>\n",
       "      <th>topic5</th>\n",
       "      <td>610</td>\n",
       "      <td>0.162493</td>\n",
       "      <td>693</td>\n",
       "      <td>0.163174</td>\n",
       "      <td>1.136066</td>\n",
       "      <td>1.025842</td>\n",
       "      <td>0.025842</td>\n",
       "      <td>2.584248</td>\n",
       "    </tr>\n",
       "    <tr>\n",
       "      <th>topic6</th>\n",
       "      <td>148</td>\n",
       "      <td>0.039425</td>\n",
       "      <td>107</td>\n",
       "      <td>0.025194</td>\n",
       "      <td>0.722973</td>\n",
       "      <td>0.937183</td>\n",
       "      <td>-0.062817</td>\n",
       "      <td>-6.281698</td>\n",
       "    </tr>\n",
       "    <tr>\n",
       "      <th>topic7</th>\n",
       "      <td>157</td>\n",
       "      <td>0.041822</td>\n",
       "      <td>102</td>\n",
       "      <td>0.024017</td>\n",
       "      <td>0.649682</td>\n",
       "      <td>0.917361</td>\n",
       "      <td>-0.082639</td>\n",
       "      <td>-8.263936</td>\n",
       "    </tr>\n",
       "    <tr>\n",
       "      <th>topic8</th>\n",
       "      <td>58</td>\n",
       "      <td>0.015450</td>\n",
       "      <td>48</td>\n",
       "      <td>0.011302</td>\n",
       "      <td>0.827586</td>\n",
       "      <td>0.962859</td>\n",
       "      <td>-0.037141</td>\n",
       "      <td>-3.714110</td>\n",
       "    </tr>\n",
       "  </tbody>\n",
       "</table>\n",
       "</div>"
      ],
      "text/plain": [
       "        count_2009  percent_2009  count_2013  percent_2013     step1  \\\n",
       "Topic                                                                  \n",
       "topic1        1181      0.314598        1619      0.381210  1.370872   \n",
       "topic2         469      0.124933         451      0.106193  0.961620   \n",
       "topic3         443      0.118007         478      0.112550  1.079007   \n",
       "topic4         688      0.183271         749      0.176360  1.088663   \n",
       "topic5         610      0.162493         693      0.163174  1.136066   \n",
       "topic6         148      0.039425         107      0.025194  0.722973   \n",
       "topic7         157      0.041822         102      0.024017  0.649682   \n",
       "topic8          58      0.015450          48      0.011302  0.827586   \n",
       "\n",
       "           step2     step3      CAGR  \n",
       "Topic                                 \n",
       "topic1  1.065122  0.065122  6.512209  \n",
       "topic2  0.992203 -0.007797 -0.779653  \n",
       "topic3  1.015324  0.015324  1.532443  \n",
       "topic4  1.017135  0.017135  1.713518  \n",
       "topic5  1.025842  0.025842  2.584248  \n",
       "topic6  0.937183 -0.062817 -6.281698  \n",
       "topic7  0.917361 -0.082639 -8.263936  \n",
       "topic8  0.962859 -0.037141 -3.714110  "
      ]
     },
     "execution_count": 91,
     "metadata": {},
     "output_type": "execute_result"
    }
   ],
   "source": [
    "#step4: calculate in percentage\n",
    "master['CAGR']= (master['step3'])*100\n",
    "master"
   ]
  },
  {
   "cell_type": "code",
   "execution_count": 92,
   "metadata": {},
   "outputs": [],
   "source": [
    "df_share['CAGR']=master.CAGR"
   ]
  },
  {
   "cell_type": "code",
   "execution_count": 93,
   "metadata": {},
   "outputs": [],
   "source": [
    "df_share['%age_Share']= (df_share['%age_Share']) * 100"
   ]
  },
  {
   "cell_type": "code",
   "execution_count": 96,
   "metadata": {},
   "outputs": [
    {
     "data": {
      "text/html": [
       "<div>\n",
       "<style scoped>\n",
       "    .dataframe tbody tr th:only-of-type {\n",
       "        vertical-align: middle;\n",
       "    }\n",
       "\n",
       "    .dataframe tbody tr th {\n",
       "        vertical-align: top;\n",
       "    }\n",
       "\n",
       "    .dataframe thead th {\n",
       "        text-align: right;\n",
       "    }\n",
       "</style>\n",
       "<table border=\"1\" class=\"dataframe\">\n",
       "  <thead>\n",
       "    <tr style=\"text-align: right;\">\n",
       "      <th></th>\n",
       "      <th>%age_Share</th>\n",
       "      <th>CAGR</th>\n",
       "    </tr>\n",
       "    <tr>\n",
       "      <th>Topic</th>\n",
       "      <th></th>\n",
       "      <th></th>\n",
       "    </tr>\n",
       "  </thead>\n",
       "  <tbody>\n",
       "    <tr>\n",
       "      <th>topic1</th>\n",
       "      <td>34.303643</td>\n",
       "      <td>6.512209</td>\n",
       "    </tr>\n",
       "    <tr>\n",
       "      <th>topic2</th>\n",
       "      <td>16.521701</td>\n",
       "      <td>-0.779653</td>\n",
       "    </tr>\n",
       "    <tr>\n",
       "      <th>topic3</th>\n",
       "      <td>15.179536</td>\n",
       "      <td>1.532443</td>\n",
       "    </tr>\n",
       "    <tr>\n",
       "      <th>topic4</th>\n",
       "      <td>5.495904</td>\n",
       "      <td>1.713518</td>\n",
       "    </tr>\n",
       "    <tr>\n",
       "      <th>topic5</th>\n",
       "      <td>20.115043</td>\n",
       "      <td>2.584248</td>\n",
       "    </tr>\n",
       "    <tr>\n",
       "      <th>topic6</th>\n",
       "      <td>3.311835</td>\n",
       "      <td>-6.281698</td>\n",
       "    </tr>\n",
       "    <tr>\n",
       "      <th>topic7</th>\n",
       "      <td>3.939341</td>\n",
       "      <td>-8.263936</td>\n",
       "    </tr>\n",
       "    <tr>\n",
       "      <th>topic8</th>\n",
       "      <td>1.132996</td>\n",
       "      <td>-3.714110</td>\n",
       "    </tr>\n",
       "  </tbody>\n",
       "</table>\n",
       "</div>"
      ],
      "text/plain": [
       "        %age_Share      CAGR\n",
       "Topic                       \n",
       "topic1   34.303643  6.512209\n",
       "topic2   16.521701 -0.779653\n",
       "topic3   15.179536  1.532443\n",
       "topic4    5.495904  1.713518\n",
       "topic5   20.115043  2.584248\n",
       "topic6    3.311835 -6.281698\n",
       "topic7    3.939341 -8.263936\n",
       "topic8    1.132996 -3.714110"
      ]
     },
     "execution_count": 96,
     "metadata": {},
     "output_type": "execute_result"
    }
   ],
   "source": [
    "df_share"
   ]
  },
  {
   "cell_type": "markdown",
   "metadata": {},
   "source": [
    "df_share['%age_Share'].iloc[1]=df_share['%age_Share'].iloc[1] + 5 <br>\n",
    "df_share['%age_Share'].iloc[2]=df_share['%age_Share'].iloc[2] + 5 <br>\n",
    "df_share['%age_Share'].iloc[3]=df_share['%age_Share'].iloc[3] - 10 <br>"
   ]
  },
  {
   "cell_type": "code",
   "execution_count": 97,
   "metadata": {},
   "outputs": [
    {
     "data": {
      "text/html": [
       "<div>\n",
       "<style scoped>\n",
       "    .dataframe tbody tr th:only-of-type {\n",
       "        vertical-align: middle;\n",
       "    }\n",
       "\n",
       "    .dataframe tbody tr th {\n",
       "        vertical-align: top;\n",
       "    }\n",
       "\n",
       "    .dataframe thead th {\n",
       "        text-align: right;\n",
       "    }\n",
       "</style>\n",
       "<table border=\"1\" class=\"dataframe\">\n",
       "  <thead>\n",
       "    <tr style=\"text-align: right;\">\n",
       "      <th></th>\n",
       "      <th>%age_Share</th>\n",
       "      <th>CAGR</th>\n",
       "    </tr>\n",
       "    <tr>\n",
       "      <th>Topic</th>\n",
       "      <th></th>\n",
       "      <th></th>\n",
       "    </tr>\n",
       "  </thead>\n",
       "  <tbody>\n",
       "    <tr>\n",
       "      <th>topic1</th>\n",
       "      <td>34.303643</td>\n",
       "      <td>6.512209</td>\n",
       "    </tr>\n",
       "    <tr>\n",
       "      <th>topic2</th>\n",
       "      <td>16.521701</td>\n",
       "      <td>-0.779653</td>\n",
       "    </tr>\n",
       "    <tr>\n",
       "      <th>topic3</th>\n",
       "      <td>15.179536</td>\n",
       "      <td>1.532443</td>\n",
       "    </tr>\n",
       "    <tr>\n",
       "      <th>topic4</th>\n",
       "      <td>5.495904</td>\n",
       "      <td>1.713518</td>\n",
       "    </tr>\n",
       "    <tr>\n",
       "      <th>topic5</th>\n",
       "      <td>20.115043</td>\n",
       "      <td>2.584248</td>\n",
       "    </tr>\n",
       "    <tr>\n",
       "      <th>topic6</th>\n",
       "      <td>3.311835</td>\n",
       "      <td>-6.281698</td>\n",
       "    </tr>\n",
       "    <tr>\n",
       "      <th>topic7</th>\n",
       "      <td>3.939341</td>\n",
       "      <td>-8.263936</td>\n",
       "    </tr>\n",
       "    <tr>\n",
       "      <th>topic8</th>\n",
       "      <td>1.132996</td>\n",
       "      <td>-3.714110</td>\n",
       "    </tr>\n",
       "  </tbody>\n",
       "</table>\n",
       "</div>"
      ],
      "text/plain": [
       "        %age_Share      CAGR\n",
       "Topic                       \n",
       "topic1   34.303643  6.512209\n",
       "topic2   16.521701 -0.779653\n",
       "topic3   15.179536  1.532443\n",
       "topic4    5.495904  1.713518\n",
       "topic5   20.115043  2.584248\n",
       "topic6    3.311835 -6.281698\n",
       "topic7    3.939341 -8.263936\n",
       "topic8    1.132996 -3.714110"
      ]
     },
     "execution_count": 97,
     "metadata": {},
     "output_type": "execute_result"
    }
   ],
   "source": [
    "result=df_share\n",
    "result"
   ]
  },
  {
   "cell_type": "markdown",
   "metadata": {},
   "source": [
    "# 5)-Adding topic types as per Assignee\n",
    "\n",
    "Table 6: Major assignee by topic type"
   ]
  },
  {
   "cell_type": "code",
   "execution_count": 267,
   "metadata": {},
   "outputs": [],
   "source": [
    "df = pd.read_pickle('work_on_paper.pkl')"
   ]
  },
  {
   "cell_type": "code",
   "execution_count": 268,
   "metadata": {
    "scrolled": true
   },
   "outputs": [
    {
     "data": {
      "text/html": [
       "<div>\n",
       "<style scoped>\n",
       "    .dataframe tbody tr th:only-of-type {\n",
       "        vertical-align: middle;\n",
       "    }\n",
       "\n",
       "    .dataframe tbody tr th {\n",
       "        vertical-align: top;\n",
       "    }\n",
       "\n",
       "    .dataframe thead th {\n",
       "        text-align: right;\n",
       "    }\n",
       "</style>\n",
       "<table border=\"1\" class=\"dataframe\">\n",
       "  <thead>\n",
       "    <tr style=\"text-align: right;\">\n",
       "      <th></th>\n",
       "      <th>Topic_Perc_Contrib</th>\n",
       "      <th>Keywords</th>\n",
       "      <th>Topic</th>\n",
       "      <th>Assignee</th>\n",
       "      <th>Year</th>\n",
       "      <th>Abstract</th>\n",
       "    </tr>\n",
       "  </thead>\n",
       "  <tbody>\n",
       "    <tr>\n",
       "      <th>0</th>\n",
       "      <td>0.4003</td>\n",
       "      <td>charge, battery, power, electric, energy, syst...</td>\n",
       "      <td>topic5</td>\n",
       "      <td>luz electric fuel israel ltd</td>\n",
       "      <td>1990.0</td>\n",
       "      <td>An electrical energy system including an elect...</td>\n",
       "    </tr>\n",
       "    <tr>\n",
       "      <th>1</th>\n",
       "      <td>0.8034</td>\n",
       "      <td>charge, battery, power, electric, energy, syst...</td>\n",
       "      <td>topic5</td>\n",
       "      <td>luz electric fuel israel ltd</td>\n",
       "      <td>1990.0</td>\n",
       "      <td>An electrical energy system including an elect...</td>\n",
       "    </tr>\n",
       "    <tr>\n",
       "      <th>2</th>\n",
       "      <td>0.2962</td>\n",
       "      <td>oil, air, pipe, diesel, cylinder, body, gas, c...</td>\n",
       "      <td>topic2</td>\n",
       "      <td>sumitomo electric industries ltd</td>\n",
       "      <td>1995.0</td>\n",
       "      <td>An object is to provide a particulate trap for...</td>\n",
       "    </tr>\n",
       "    <tr>\n",
       "      <th>3</th>\n",
       "      <td>0.5153</td>\n",
       "      <td>oil, air, pipe, diesel, cylinder, body, gas, c...</td>\n",
       "      <td>topic2</td>\n",
       "      <td>sumitomo electric ind ltd</td>\n",
       "      <td>1995.0</td>\n",
       "      <td>PURPOSE: To obtain a trap by which the leakage...</td>\n",
       "    </tr>\n",
       "    <tr>\n",
       "      <th>4</th>\n",
       "      <td>0.4787</td>\n",
       "      <td>oil, air, pipe, diesel, cylinder, body, gas, c...</td>\n",
       "      <td>topic2</td>\n",
       "      <td>sumitomo electric industries ltd</td>\n",
       "      <td>1995.0</td>\n",
       "      <td>A particulate trap for a diesel engine designe...</td>\n",
       "    </tr>\n",
       "  </tbody>\n",
       "</table>\n",
       "</div>"
      ],
      "text/plain": [
       "   Topic_Perc_Contrib                                           Keywords  \\\n",
       "0              0.4003  charge, battery, power, electric, energy, syst...   \n",
       "1              0.8034  charge, battery, power, electric, energy, syst...   \n",
       "2              0.2962  oil, air, pipe, diesel, cylinder, body, gas, c...   \n",
       "3              0.5153  oil, air, pipe, diesel, cylinder, body, gas, c...   \n",
       "4              0.4787  oil, air, pipe, diesel, cylinder, body, gas, c...   \n",
       "\n",
       "    Topic                          Assignee    Year  \\\n",
       "0  topic5      luz electric fuel israel ltd  1990.0   \n",
       "1  topic5      luz electric fuel israel ltd  1990.0   \n",
       "2  topic2  sumitomo electric industries ltd  1995.0   \n",
       "3  topic2         sumitomo electric ind ltd  1995.0   \n",
       "4  topic2  sumitomo electric industries ltd  1995.0   \n",
       "\n",
       "                                            Abstract  \n",
       "0  An electrical energy system including an elect...  \n",
       "1  An electrical energy system including an elect...  \n",
       "2  An object is to provide a particulate trap for...  \n",
       "3  PURPOSE: To obtain a trap by which the leakage...  \n",
       "4  A particulate trap for a diesel engine designe...  "
      ]
     },
     "execution_count": 268,
     "metadata": {},
     "output_type": "execute_result"
    }
   ],
   "source": [
    "df.head()"
   ]
  },
  {
   "cell_type": "markdown",
   "metadata": {},
   "source": [
    "### a)Adding 4 main tech types to dataframe\n",
    "emerging, saturated, decline,dominant"
   ]
  },
  {
   "cell_type": "code",
   "execution_count": 269,
   "metadata": {},
   "outputs": [],
   "source": [
    "df['tech_type']=df.Topic.map({'topic4':'emerging', 'topic1':'dominant', 'topic3': 'dominant', 'topic5':'dominant','topic2':'saturated', 'topic6':'decline','topic7': 'decline', 'topic8':'decline'})"
   ]
  },
  {
   "cell_type": "code",
   "execution_count": 270,
   "metadata": {},
   "outputs": [
    {
     "data": {
      "text/plain": [
       "dominant     39633\n",
       "saturated    11500\n",
       "emerging      9647\n",
       "decline       7982\n",
       "Name: tech_type, dtype: int64"
      ]
     },
     "execution_count": 270,
     "metadata": {},
     "output_type": "execute_result"
    }
   ],
   "source": [
    "df.tech_type.value_counts()"
   ]
  },
  {
   "cell_type": "code",
   "execution_count": 271,
   "metadata": {},
   "outputs": [
    {
     "data": {
      "text/html": [
       "<div>\n",
       "<style scoped>\n",
       "    .dataframe tbody tr th:only-of-type {\n",
       "        vertical-align: middle;\n",
       "    }\n",
       "\n",
       "    .dataframe tbody tr th {\n",
       "        vertical-align: top;\n",
       "    }\n",
       "\n",
       "    .dataframe thead th {\n",
       "        text-align: right;\n",
       "    }\n",
       "</style>\n",
       "<table border=\"1\" class=\"dataframe\">\n",
       "  <thead>\n",
       "    <tr style=\"text-align: right;\">\n",
       "      <th></th>\n",
       "      <th>Topic_Perc_Contrib</th>\n",
       "      <th>Keywords</th>\n",
       "      <th>Topic</th>\n",
       "      <th>Assignee</th>\n",
       "      <th>Year</th>\n",
       "      <th>Abstract</th>\n",
       "      <th>tech_type</th>\n",
       "    </tr>\n",
       "  </thead>\n",
       "  <tbody>\n",
       "    <tr>\n",
       "      <th>0</th>\n",
       "      <td>0.4003</td>\n",
       "      <td>charge, battery, power, electric, energy, syst...</td>\n",
       "      <td>topic5</td>\n",
       "      <td>luz electric fuel israel ltd</td>\n",
       "      <td>1990.0</td>\n",
       "      <td>An electrical energy system including an elect...</td>\n",
       "      <td>dominant</td>\n",
       "    </tr>\n",
       "    <tr>\n",
       "      <th>1</th>\n",
       "      <td>0.8034</td>\n",
       "      <td>charge, battery, power, electric, energy, syst...</td>\n",
       "      <td>topic5</td>\n",
       "      <td>luz electric fuel israel ltd</td>\n",
       "      <td>1990.0</td>\n",
       "      <td>An electrical energy system including an elect...</td>\n",
       "      <td>dominant</td>\n",
       "    </tr>\n",
       "    <tr>\n",
       "      <th>2</th>\n",
       "      <td>0.2962</td>\n",
       "      <td>oil, air, pipe, diesel, cylinder, body, gas, c...</td>\n",
       "      <td>topic2</td>\n",
       "      <td>sumitomo electric industries ltd</td>\n",
       "      <td>1995.0</td>\n",
       "      <td>An object is to provide a particulate trap for...</td>\n",
       "      <td>saturated</td>\n",
       "    </tr>\n",
       "    <tr>\n",
       "      <th>3</th>\n",
       "      <td>0.5153</td>\n",
       "      <td>oil, air, pipe, diesel, cylinder, body, gas, c...</td>\n",
       "      <td>topic2</td>\n",
       "      <td>sumitomo electric ind ltd</td>\n",
       "      <td>1995.0</td>\n",
       "      <td>PURPOSE: To obtain a trap by which the leakage...</td>\n",
       "      <td>saturated</td>\n",
       "    </tr>\n",
       "    <tr>\n",
       "      <th>4</th>\n",
       "      <td>0.4787</td>\n",
       "      <td>oil, air, pipe, diesel, cylinder, body, gas, c...</td>\n",
       "      <td>topic2</td>\n",
       "      <td>sumitomo electric industries ltd</td>\n",
       "      <td>1995.0</td>\n",
       "      <td>A particulate trap for a diesel engine designe...</td>\n",
       "      <td>saturated</td>\n",
       "    </tr>\n",
       "  </tbody>\n",
       "</table>\n",
       "</div>"
      ],
      "text/plain": [
       "   Topic_Perc_Contrib                                           Keywords  \\\n",
       "0              0.4003  charge, battery, power, electric, energy, syst...   \n",
       "1              0.8034  charge, battery, power, electric, energy, syst...   \n",
       "2              0.2962  oil, air, pipe, diesel, cylinder, body, gas, c...   \n",
       "3              0.5153  oil, air, pipe, diesel, cylinder, body, gas, c...   \n",
       "4              0.4787  oil, air, pipe, diesel, cylinder, body, gas, c...   \n",
       "\n",
       "    Topic                          Assignee    Year  \\\n",
       "0  topic5      luz electric fuel israel ltd  1990.0   \n",
       "1  topic5      luz electric fuel israel ltd  1990.0   \n",
       "2  topic2  sumitomo electric industries ltd  1995.0   \n",
       "3  topic2         sumitomo electric ind ltd  1995.0   \n",
       "4  topic2  sumitomo electric industries ltd  1995.0   \n",
       "\n",
       "                                            Abstract  tech_type  \n",
       "0  An electrical energy system including an elect...   dominant  \n",
       "1  An electrical energy system including an elect...   dominant  \n",
       "2  An object is to provide a particulate trap for...  saturated  \n",
       "3  PURPOSE: To obtain a trap by which the leakage...  saturated  \n",
       "4  A particulate trap for a diesel engine designe...  saturated  "
      ]
     },
     "execution_count": 271,
     "metadata": {},
     "output_type": "execute_result"
    }
   ],
   "source": [
    "df.head()"
   ]
  },
  {
   "cell_type": "code",
   "execution_count": 272,
   "metadata": {},
   "outputs": [],
   "source": [
    "df.to_pickle('tech_type_per_topic.pkl')"
   ]
  },
  {
   "cell_type": "markdown",
   "metadata": {},
   "source": [
    "### b)- Wordcloud key words in all tech-topics"
   ]
  },
  {
   "cell_type": "markdown",
   "metadata": {},
   "source": [
    "# 6- Figure 6. Major assignees by topic types. \n",
    "\n",
    "Adding technology types"
   ]
  },
  {
   "cell_type": "code",
   "execution_count": 273,
   "metadata": {},
   "outputs": [
    {
     "data": {
      "text/plain": [
       "Counter({'dominant': 39633,\n",
       "         'saturated': 11500,\n",
       "         'emerging': 9647,\n",
       "         'decline': 7982})"
      ]
     },
     "execution_count": 273,
     "metadata": {},
     "output_type": "execute_result"
    }
   ],
   "source": [
    "from collections import Counter\n",
    "Counter(df.tech_type)"
   ]
  },
  {
   "cell_type": "code",
   "execution_count": 274,
   "metadata": {},
   "outputs": [],
   "source": [
    "company=df.groupby(df.tech_type).Assignee.value_counts(dropna=True, sort=True)"
   ]
  },
  {
   "cell_type": "code",
   "execution_count": 275,
   "metadata": {},
   "outputs": [
    {
     "data": {
      "text/html": [
       "<div>\n",
       "<style scoped>\n",
       "    .dataframe tbody tr th:only-of-type {\n",
       "        vertical-align: middle;\n",
       "    }\n",
       "\n",
       "    .dataframe tbody tr th {\n",
       "        vertical-align: top;\n",
       "    }\n",
       "\n",
       "    .dataframe thead th {\n",
       "        text-align: right;\n",
       "    }\n",
       "</style>\n",
       "<table border=\"1\" class=\"dataframe\">\n",
       "  <thead>\n",
       "    <tr style=\"text-align: right;\">\n",
       "      <th></th>\n",
       "      <th></th>\n",
       "      <th>Assignee</th>\n",
       "    </tr>\n",
       "    <tr>\n",
       "      <th>tech_type</th>\n",
       "      <th>Assignee</th>\n",
       "      <th></th>\n",
       "    </tr>\n",
       "  </thead>\n",
       "  <tbody>\n",
       "    <tr>\n",
       "      <th rowspan=\"5\" valign=\"top\">decline</th>\n",
       "      <th>toyota motor corp</th>\n",
       "      <td>913</td>\n",
       "    </tr>\n",
       "    <tr>\n",
       "      <th>hyundai motor co ltd</th>\n",
       "      <td>282</td>\n",
       "    </tr>\n",
       "    <tr>\n",
       "      <th>honda motor co ltd</th>\n",
       "      <td>277</td>\n",
       "    </tr>\n",
       "    <tr>\n",
       "      <th>bosch corp</th>\n",
       "      <td>271</td>\n",
       "    </tr>\n",
       "    <tr>\n",
       "      <th>nissan motor co ltd</th>\n",
       "      <td>267</td>\n",
       "    </tr>\n",
       "    <tr>\n",
       "      <th>...</th>\n",
       "      <th>...</th>\n",
       "      <td>...</td>\n",
       "    </tr>\n",
       "    <tr>\n",
       "      <th rowspan=\"5\" valign=\"top\">saturated</th>\n",
       "      <th>zunyi tianyi liwei electrical co ltd</th>\n",
       "      <td>1</td>\n",
       "    </tr>\n",
       "    <tr>\n",
       "      <th>zuo zhong you electric vehicle service (shanghai) co ltd</th>\n",
       "      <td>1</td>\n",
       "    </tr>\n",
       "    <tr>\n",
       "      <th>zvekov aleksej nikolaevich</th>\n",
       "      <td>1</td>\n",
       "    </tr>\n",
       "    <tr>\n",
       "      <th>zwimpfer markus</th>\n",
       "      <td>1</td>\n",
       "    </tr>\n",
       "    <tr>\n",
       "      <th>české vysoké učení technické v praze fakulta strojní centrum kompetence automobilového průmyslu josefa božka</th>\n",
       "      <td>1</td>\n",
       "    </tr>\n",
       "  </tbody>\n",
       "</table>\n",
       "<p>16105 rows × 1 columns</p>\n",
       "</div>"
      ],
      "text/plain": [
       "                                                              Assignee\n",
       "tech_type Assignee                                                    \n",
       "decline   toyota motor corp                                        913\n",
       "          hyundai motor co ltd                                     282\n",
       "          honda motor co ltd                                       277\n",
       "          bosch corp                                               271\n",
       "          nissan motor co ltd                                      267\n",
       "...                                                                ...\n",
       "saturated zunyi tianyi liwei electrical co ltd                       1\n",
       "          zuo zhong you electric vehicle service (shangha...         1\n",
       "          zvekov aleksej nikolaevich                                 1\n",
       "          zwimpfer markus                                            1\n",
       "          české vysoké učení technické v praze fakulta st...         1\n",
       "\n",
       "[16105 rows x 1 columns]"
      ]
     },
     "execution_count": 275,
     "metadata": {},
     "output_type": "execute_result"
    }
   ],
   "source": [
    "df_company = pd.DataFrame(company)\n",
    "df_company"
   ]
  },
  {
   "cell_type": "markdown",
   "metadata": {},
   "source": [
    "### For a specific \"tech_type\" listing wrt firms"
   ]
  },
  {
   "cell_type": "code",
   "execution_count": 276,
   "metadata": {},
   "outputs": [],
   "source": [
    "topic_firm=df.groupby([df['tech_type']=='decline']).Assignee.value_counts(dropna=True, sort=True)"
   ]
  },
  {
   "cell_type": "code",
   "execution_count": 277,
   "metadata": {},
   "outputs": [
    {
     "data": {
      "text/html": [
       "<div>\n",
       "<style scoped>\n",
       "    .dataframe tbody tr th:only-of-type {\n",
       "        vertical-align: middle;\n",
       "    }\n",
       "\n",
       "    .dataframe tbody tr th {\n",
       "        vertical-align: top;\n",
       "    }\n",
       "\n",
       "    .dataframe thead th {\n",
       "        text-align: right;\n",
       "    }\n",
       "</style>\n",
       "<table border=\"1\" class=\"dataframe\">\n",
       "  <thead>\n",
       "    <tr style=\"text-align: right;\">\n",
       "      <th></th>\n",
       "      <th></th>\n",
       "      <th>Assignee</th>\n",
       "    </tr>\n",
       "    <tr>\n",
       "      <th>tech_type</th>\n",
       "      <th>Assignee</th>\n",
       "      <th></th>\n",
       "    </tr>\n",
       "  </thead>\n",
       "  <tbody>\n",
       "    <tr>\n",
       "      <th rowspan=\"30\" valign=\"top\">False</th>\n",
       "      <th>toyota motor corp</th>\n",
       "      <td>7212</td>\n",
       "    </tr>\n",
       "    <tr>\n",
       "      <th>honda motor co ltd</th>\n",
       "      <td>3700</td>\n",
       "    </tr>\n",
       "    <tr>\n",
       "      <th>nissan motor co ltd</th>\n",
       "      <td>2618</td>\n",
       "    </tr>\n",
       "    <tr>\n",
       "      <th>bosch corp</th>\n",
       "      <td>2499</td>\n",
       "    </tr>\n",
       "    <tr>\n",
       "      <th>hyundai motor co ltd</th>\n",
       "      <td>2315</td>\n",
       "    </tr>\n",
       "    <tr>\n",
       "      <th>ford global technologies inc</th>\n",
       "      <td>1656</td>\n",
       "    </tr>\n",
       "    <tr>\n",
       "      <th>mitsubishi motors corp</th>\n",
       "      <td>1357</td>\n",
       "    </tr>\n",
       "    <tr>\n",
       "      <th>denso corp</th>\n",
       "      <td>1018</td>\n",
       "    </tr>\n",
       "    <tr>\n",
       "      <th>renault sas</th>\n",
       "      <td>713</td>\n",
       "    </tr>\n",
       "    <tr>\n",
       "      <th>hitachi ltd</th>\n",
       "      <td>694</td>\n",
       "    </tr>\n",
       "    <tr>\n",
       "      <th>peugeot citroen automobiles</th>\n",
       "      <td>560</td>\n",
       "    </tr>\n",
       "    <tr>\n",
       "      <th>suzuki motor corp</th>\n",
       "      <td>479</td>\n",
       "    </tr>\n",
       "    <tr>\n",
       "      <th>yamaha motor co ltd</th>\n",
       "      <td>445</td>\n",
       "    </tr>\n",
       "    <tr>\n",
       "      <th>aisin aw co ltd</th>\n",
       "      <td>444</td>\n",
       "    </tr>\n",
       "    <tr>\n",
       "      <th>volkswagen group</th>\n",
       "      <td>299</td>\n",
       "    </tr>\n",
       "    <tr>\n",
       "      <th>continental automotive gmbh</th>\n",
       "      <td>278</td>\n",
       "    </tr>\n",
       "    <tr>\n",
       "      <th>daimlerchrysler ag</th>\n",
       "      <td>273</td>\n",
       "    </tr>\n",
       "    <tr>\n",
       "      <th>gm global technology operations llc</th>\n",
       "      <td>260</td>\n",
       "    </tr>\n",
       "    <tr>\n",
       "      <th>mazda motor corp</th>\n",
       "      <td>258</td>\n",
       "    </tr>\n",
       "    <tr>\n",
       "      <th>lsis co ltd</th>\n",
       "      <td>253</td>\n",
       "    </tr>\n",
       "    <tr>\n",
       "      <th>siemens aktiengesellschaft</th>\n",
       "      <td>252</td>\n",
       "    </tr>\n",
       "    <tr>\n",
       "      <th>isuzu motors ltd</th>\n",
       "      <td>226</td>\n",
       "    </tr>\n",
       "    <tr>\n",
       "      <th>audi ag</th>\n",
       "      <td>200</td>\n",
       "    </tr>\n",
       "    <tr>\n",
       "      <th>general electric company</th>\n",
       "      <td>186</td>\n",
       "    </tr>\n",
       "    <tr>\n",
       "      <th>hitachi automotive systems ltd</th>\n",
       "      <td>185</td>\n",
       "    </tr>\n",
       "    <tr>\n",
       "      <th>bmw ag</th>\n",
       "      <td>182</td>\n",
       "    </tr>\n",
       "    <tr>\n",
       "      <th>fuji heavy ind ltd</th>\n",
       "      <td>168</td>\n",
       "    </tr>\n",
       "    <tr>\n",
       "      <th>hino motors ltd</th>\n",
       "      <td>152</td>\n",
       "    </tr>\n",
       "    <tr>\n",
       "      <th>daihatsu motor co ltd</th>\n",
       "      <td>145</td>\n",
       "    </tr>\n",
       "    <tr>\n",
       "      <th>daimler ag</th>\n",
       "      <td>144</td>\n",
       "    </tr>\n",
       "  </tbody>\n",
       "</table>\n",
       "</div>"
      ],
      "text/plain": [
       "                                               Assignee\n",
       "tech_type Assignee                                     \n",
       "False     toyota motor corp                        7212\n",
       "          honda motor co ltd                       3700\n",
       "          nissan motor co ltd                      2618\n",
       "          bosch corp                               2499\n",
       "          hyundai motor co ltd                     2315\n",
       "          ford global technologies inc             1656\n",
       "          mitsubishi motors corp                   1357\n",
       "          denso corp                               1018\n",
       "          renault sas                               713\n",
       "          hitachi ltd                               694\n",
       "          peugeot citroen automobiles               560\n",
       "          suzuki motor corp                         479\n",
       "          yamaha motor co ltd                       445\n",
       "          aisin aw co ltd                           444\n",
       "          volkswagen group                          299\n",
       "          continental automotive gmbh               278\n",
       "          daimlerchrysler ag                        273\n",
       "          gm global technology operations llc       260\n",
       "          mazda motor corp                          258\n",
       "          lsis co ltd                               253\n",
       "          siemens aktiengesellschaft                252\n",
       "          isuzu motors ltd                          226\n",
       "          audi ag                                   200\n",
       "          general electric company                  186\n",
       "          hitachi automotive systems ltd            185\n",
       "          bmw ag                                    182\n",
       "          fuji heavy ind ltd                        168\n",
       "          hino motors ltd                           152\n",
       "          daihatsu motor co ltd                     145\n",
       "          daimler ag                                144"
      ]
     },
     "execution_count": 277,
     "metadata": {},
     "output_type": "execute_result"
    }
   ],
   "source": [
    "df_topic_firms = pd.DataFrame(topic_firm)\n",
    "df_topic_firms[:30]"
   ]
  },
  {
   "cell_type": "markdown",
   "metadata": {},
   "source": [
    "### for decline"
   ]
  },
  {
   "cell_type": "code",
   "execution_count": 278,
   "metadata": {},
   "outputs": [],
   "source": [
    "d=df\n",
    "d=d[d.tech_type==\"decline\"]"
   ]
  },
  {
   "cell_type": "code",
   "execution_count": 279,
   "metadata": {},
   "outputs": [
    {
     "data": {
      "text/plain": [
       "7982"
      ]
     },
     "execution_count": 279,
     "metadata": {},
     "output_type": "execute_result"
    }
   ],
   "source": [
    "len(d)"
   ]
  },
  {
   "cell_type": "code",
   "execution_count": 280,
   "metadata": {},
   "outputs": [
    {
     "data": {
      "text/html": [
       "<div>\n",
       "<style scoped>\n",
       "    .dataframe tbody tr th:only-of-type {\n",
       "        vertical-align: middle;\n",
       "    }\n",
       "\n",
       "    .dataframe tbody tr th {\n",
       "        vertical-align: top;\n",
       "    }\n",
       "\n",
       "    .dataframe thead th {\n",
       "        text-align: right;\n",
       "    }\n",
       "</style>\n",
       "<table border=\"1\" class=\"dataframe\">\n",
       "  <thead>\n",
       "    <tr style=\"text-align: right;\">\n",
       "      <th></th>\n",
       "      <th>Topic_Perc_Contrib</th>\n",
       "      <th>Keywords</th>\n",
       "      <th>Topic</th>\n",
       "      <th>Assignee</th>\n",
       "      <th>Year</th>\n",
       "      <th>Abstract</th>\n",
       "      <th>tech_type</th>\n",
       "    </tr>\n",
       "  </thead>\n",
       "  <tbody>\n",
       "    <tr>\n",
       "      <th>97</th>\n",
       "      <td>0.5732</td>\n",
       "      <td>module, pressure, pump, contactor, hydraulic, ...</td>\n",
       "      <td>topic8</td>\n",
       "      <td>ifield technology limited</td>\n",
       "      <td>2000.0</td>\n",
       "      <td>A method for the release of energy in storage ...</td>\n",
       "      <td>decline</td>\n",
       "    </tr>\n",
       "    <tr>\n",
       "      <th>98</th>\n",
       "      <td>0.5723</td>\n",
       "      <td>module, pressure, pump, contactor, hydraulic, ...</td>\n",
       "      <td>topic8</td>\n",
       "      <td>ifield technology ltd</td>\n",
       "      <td>2000.0</td>\n",
       "      <td>A method for the release of energy in storage ...</td>\n",
       "      <td>decline</td>\n",
       "    </tr>\n",
       "    <tr>\n",
       "      <th>99</th>\n",
       "      <td>0.6005</td>\n",
       "      <td>module, pressure, pump, contactor, hydraulic, ...</td>\n",
       "      <td>topic8</td>\n",
       "      <td>frazer hugh ivo</td>\n",
       "      <td>2000.0</td>\n",
       "      <td>A method for the release of energy in storage ...</td>\n",
       "      <td>decline</td>\n",
       "    </tr>\n",
       "    <tr>\n",
       "      <th>102</th>\n",
       "      <td>0.6686</td>\n",
       "      <td>mg, catalyst, exhaust, gas, electrode, layer, ...</td>\n",
       "      <td>topic6</td>\n",
       "      <td>ceramic fuel cells limited</td>\n",
       "      <td>2002.0</td>\n",
       "      <td>A method for the thermal management of a fuel ...</td>\n",
       "      <td>decline</td>\n",
       "    </tr>\n",
       "    <tr>\n",
       "      <th>103</th>\n",
       "      <td>0.6689</td>\n",
       "      <td>mg, catalyst, exhaust, gas, electrode, layer, ...</td>\n",
       "      <td>topic6</td>\n",
       "      <td>ceramic fuel cells limited</td>\n",
       "      <td>2002.0</td>\n",
       "      <td>A method for the thermal management of a fuel ...</td>\n",
       "      <td>decline</td>\n",
       "    </tr>\n",
       "  </tbody>\n",
       "</table>\n",
       "</div>"
      ],
      "text/plain": [
       "     Topic_Perc_Contrib                                           Keywords  \\\n",
       "97               0.5732  module, pressure, pump, contactor, hydraulic, ...   \n",
       "98               0.5723  module, pressure, pump, contactor, hydraulic, ...   \n",
       "99               0.6005  module, pressure, pump, contactor, hydraulic, ...   \n",
       "102              0.6686  mg, catalyst, exhaust, gas, electrode, layer, ...   \n",
       "103              0.6689  mg, catalyst, exhaust, gas, electrode, layer, ...   \n",
       "\n",
       "      Topic                    Assignee    Year  \\\n",
       "97   topic8   ifield technology limited  2000.0   \n",
       "98   topic8       ifield technology ltd  2000.0   \n",
       "99   topic8             frazer hugh ivo  2000.0   \n",
       "102  topic6  ceramic fuel cells limited  2002.0   \n",
       "103  topic6  ceramic fuel cells limited  2002.0   \n",
       "\n",
       "                                              Abstract tech_type  \n",
       "97   A method for the release of energy in storage ...   decline  \n",
       "98   A method for the release of energy in storage ...   decline  \n",
       "99   A method for the release of energy in storage ...   decline  \n",
       "102  A method for the thermal management of a fuel ...   decline  \n",
       "103  A method for the thermal management of a fuel ...   decline  "
      ]
     },
     "execution_count": 280,
     "metadata": {},
     "output_type": "execute_result"
    }
   ],
   "source": [
    "d[:5]"
   ]
  },
  {
   "cell_type": "code",
   "execution_count": 281,
   "metadata": {},
   "outputs": [],
   "source": [
    "d=d.groupby(['Assignee']).size()"
   ]
  },
  {
   "cell_type": "code",
   "execution_count": 282,
   "metadata": {},
   "outputs": [
    {
     "data": {
      "text/plain": [
       "Assignee\n",
       "toyota motor corp                                  913\n",
       "hyundai motor co ltd                               282\n",
       "honda motor co ltd                                 277\n",
       "bosch corp                                         271\n",
       "nissan motor co ltd                                267\n",
       "ford global technologies inc                       157\n",
       "renault sas                                        146\n",
       "peugeot citroen automobiles                        128\n",
       "denso corp                                          79\n",
       "volkswagen group                                    76\n",
       "isuzu motors ltd                                    74\n",
       "samsung sdi co ltd                                  68\n",
       "daimlerchrysler ag                                  65\n",
       "hitachi ltd                                         65\n",
       "mitsubishi motors corp                              55\n",
       "suzuki motor corp                                   49\n",
       "general motors corporation                          41\n",
       "matsushita electric industrial co ltd               39\n",
       "sony corporation                                    39\n",
       "continental automotive gmbh                         38\n",
       "siemens aktiengesellschaft                          33\n",
       "daewoo shipbuilding & marine engineering co ltd     32\n",
       "gm global technology operations llc                 31\n",
       "bmw ag                                              30\n",
       "afton chemical corporation                          29\n",
       "man truck & bus ag                                  27\n",
       "audi ag                                             26\n",
       "societe bic                                         25\n",
       "the lubrizol corporation                            25\n",
       "ngk insulators ltd                                  25\n",
       "dtype: int64"
      ]
     },
     "execution_count": 282,
     "metadata": {},
     "output_type": "execute_result"
    }
   ],
   "source": [
    "d.sort_values(ascending=False)[:30]"
   ]
  },
  {
   "cell_type": "markdown",
   "metadata": {},
   "source": [
    "**These are top 10 firms using declined technology.**"
   ]
  },
  {
   "cell_type": "markdown",
   "metadata": {},
   "source": [
    "### for emerging"
   ]
  },
  {
   "cell_type": "code",
   "execution_count": 283,
   "metadata": {},
   "outputs": [],
   "source": [
    "e=df\n",
    "e=e[e.tech_type==\"emerging\"]"
   ]
  },
  {
   "cell_type": "code",
   "execution_count": 284,
   "metadata": {},
   "outputs": [
    {
     "data": {
      "text/plain": [
       "9647"
      ]
     },
     "execution_count": 284,
     "metadata": {},
     "output_type": "execute_result"
    }
   ],
   "source": [
    "len(e)"
   ]
  },
  {
   "cell_type": "code",
   "execution_count": 285,
   "metadata": {},
   "outputs": [
    {
     "data": {
      "text/html": [
       "<div>\n",
       "<style scoped>\n",
       "    .dataframe tbody tr th:only-of-type {\n",
       "        vertical-align: middle;\n",
       "    }\n",
       "\n",
       "    .dataframe tbody tr th {\n",
       "        vertical-align: top;\n",
       "    }\n",
       "\n",
       "    .dataframe thead th {\n",
       "        text-align: right;\n",
       "    }\n",
       "</style>\n",
       "<table border=\"1\" class=\"dataframe\">\n",
       "  <thead>\n",
       "    <tr style=\"text-align: right;\">\n",
       "      <th></th>\n",
       "      <th>Topic_Perc_Contrib</th>\n",
       "      <th>Keywords</th>\n",
       "      <th>Topic</th>\n",
       "      <th>Assignee</th>\n",
       "      <th>Year</th>\n",
       "      <th>Abstract</th>\n",
       "      <th>tech_type</th>\n",
       "    </tr>\n",
       "  </thead>\n",
       "  <tbody>\n",
       "    <tr>\n",
       "      <th>22</th>\n",
       "      <td>0.8599</td>\n",
       "      <td>gear, shaft, first, motor, second, transmissio...</td>\n",
       "      <td>topic4</td>\n",
       "      <td>avl list gmbh</td>\n",
       "      <td>2002.0</td>\n",
       "      <td>The invention relates to a module-like constru...</td>\n",
       "      <td>emerging</td>\n",
       "    </tr>\n",
       "    <tr>\n",
       "      <th>23</th>\n",
       "      <td>0.8594</td>\n",
       "      <td>gear, shaft, first, motor, second, transmissio...</td>\n",
       "      <td>topic4</td>\n",
       "      <td>avl list gmbh</td>\n",
       "      <td>2002.0</td>\n",
       "      <td>The invention relates to a module-like constru...</td>\n",
       "      <td>emerging</td>\n",
       "    </tr>\n",
       "    <tr>\n",
       "      <th>24</th>\n",
       "      <td>0.8601</td>\n",
       "      <td>gear, shaft, first, motor, second, transmissio...</td>\n",
       "      <td>topic4</td>\n",
       "      <td>avl list gmbh</td>\n",
       "      <td>2002.0</td>\n",
       "      <td>The invention relates to a modular internal co...</td>\n",
       "      <td>emerging</td>\n",
       "    </tr>\n",
       "    <tr>\n",
       "      <th>27</th>\n",
       "      <td>0.4775</td>\n",
       "      <td>gear, shaft, first, motor, second, transmissio...</td>\n",
       "      <td>topic4</td>\n",
       "      <td>avl list gmbh graz</td>\n",
       "      <td>2000.0</td>\n",
       "      <td>The single track vehicle has an internal combu...</td>\n",
       "      <td>emerging</td>\n",
       "    </tr>\n",
       "    <tr>\n",
       "      <th>49</th>\n",
       "      <td>0.5332</td>\n",
       "      <td>gear, shaft, first, motor, second, transmissio...</td>\n",
       "      <td>topic4</td>\n",
       "      <td>steyr-daimler puch ag</td>\n",
       "      <td>1993.0</td>\n",
       "      <td>A drive unit for an electric motor car compris...</td>\n",
       "      <td>emerging</td>\n",
       "    </tr>\n",
       "  </tbody>\n",
       "</table>\n",
       "</div>"
      ],
      "text/plain": [
       "    Topic_Perc_Contrib                                           Keywords  \\\n",
       "22              0.8599  gear, shaft, first, motor, second, transmissio...   \n",
       "23              0.8594  gear, shaft, first, motor, second, transmissio...   \n",
       "24              0.8601  gear, shaft, first, motor, second, transmissio...   \n",
       "27              0.4775  gear, shaft, first, motor, second, transmissio...   \n",
       "49              0.5332  gear, shaft, first, motor, second, transmissio...   \n",
       "\n",
       "     Topic               Assignee    Year  \\\n",
       "22  topic4          avl list gmbh  2002.0   \n",
       "23  topic4          avl list gmbh  2002.0   \n",
       "24  topic4          avl list gmbh  2002.0   \n",
       "27  topic4     avl list gmbh graz  2000.0   \n",
       "49  topic4  steyr-daimler puch ag  1993.0   \n",
       "\n",
       "                                             Abstract tech_type  \n",
       "22  The invention relates to a module-like constru...  emerging  \n",
       "23  The invention relates to a module-like constru...  emerging  \n",
       "24  The invention relates to a modular internal co...  emerging  \n",
       "27  The single track vehicle has an internal combu...  emerging  \n",
       "49  A drive unit for an electric motor car compris...  emerging  "
      ]
     },
     "execution_count": 285,
     "metadata": {},
     "output_type": "execute_result"
    }
   ],
   "source": [
    "e[:5]"
   ]
  },
  {
   "cell_type": "code",
   "execution_count": 286,
   "metadata": {},
   "outputs": [],
   "source": [
    "e=e.groupby(['Assignee']).size()"
   ]
  },
  {
   "cell_type": "code",
   "execution_count": 287,
   "metadata": {},
   "outputs": [
    {
     "data": {
      "text/plain": [
       "Assignee\n",
       "honda motor co ltd                        839\n",
       "toyota motor corp                         704\n",
       "hyundai motor co ltd                      535\n",
       "nissan motor co ltd                       251\n",
       "ford global technologies inc              176\n",
       "bosch corp                                149\n",
       "mitsubishi motors corp                    129\n",
       "yamaha motor co ltd                       119\n",
       "aisin aw co ltd                           106\n",
       "peugeot citroen automobiles                91\n",
       "hitachi ltd                                86\n",
       "suzuki motor corp                          84\n",
       "denso corp                                 83\n",
       "renault sas                                54\n",
       "valeo equipements electriques moteur       54\n",
       "scania cv ab                               51\n",
       "kawasaki jukogyo kabushiki kaisha          51\n",
       "zf friedrichshafen ag                      41\n",
       "audi ag                                    39\n",
       "mazda motor corp                           37\n",
       "gm global technology operations llc        37\n",
       "hitachi automotive systems ltd             36\n",
       "fuji heavy ind ltd                         34\n",
       "volkswagen group                           32\n",
       "dr ing hc f porsche aktiengesellschaft     31\n",
       "daimlerchrysler ag                         28\n",
       "continental automotive gmbh                28\n",
       "lg electronics inc                         27\n",
       "guangzhou automobile group co ltd          27\n",
       "technoboost                                26\n",
       "dtype: int64"
      ]
     },
     "execution_count": 287,
     "metadata": {},
     "output_type": "execute_result"
    }
   ],
   "source": [
    "e.sort_values(ascending=False)[:30]"
   ]
  },
  {
   "cell_type": "markdown",
   "metadata": {},
   "source": [
    "**These are top 10 firms using emerging technology.**"
   ]
  },
  {
   "cell_type": "markdown",
   "metadata": {},
   "source": [
    "### for dominant"
   ]
  },
  {
   "cell_type": "code",
   "execution_count": 288,
   "metadata": {},
   "outputs": [],
   "source": [
    "f=df\n",
    "f=f[f.tech_type==\"dominant\"]"
   ]
  },
  {
   "cell_type": "code",
   "execution_count": 289,
   "metadata": {},
   "outputs": [
    {
     "data": {
      "text/plain": [
       "39633"
      ]
     },
     "execution_count": 289,
     "metadata": {},
     "output_type": "execute_result"
    }
   ],
   "source": [
    "len(f)"
   ]
  },
  {
   "cell_type": "code",
   "execution_count": 290,
   "metadata": {},
   "outputs": [
    {
     "data": {
      "text/html": [
       "<div>\n",
       "<style scoped>\n",
       "    .dataframe tbody tr th:only-of-type {\n",
       "        vertical-align: middle;\n",
       "    }\n",
       "\n",
       "    .dataframe tbody tr th {\n",
       "        vertical-align: top;\n",
       "    }\n",
       "\n",
       "    .dataframe thead th {\n",
       "        text-align: right;\n",
       "    }\n",
       "</style>\n",
       "<table border=\"1\" class=\"dataframe\">\n",
       "  <thead>\n",
       "    <tr style=\"text-align: right;\">\n",
       "      <th></th>\n",
       "      <th>Topic_Perc_Contrib</th>\n",
       "      <th>Keywords</th>\n",
       "      <th>Topic</th>\n",
       "      <th>Assignee</th>\n",
       "      <th>Year</th>\n",
       "      <th>Abstract</th>\n",
       "      <th>tech_type</th>\n",
       "    </tr>\n",
       "  </thead>\n",
       "  <tbody>\n",
       "    <tr>\n",
       "      <th>0</th>\n",
       "      <td>0.4003</td>\n",
       "      <td>charge, battery, power, electric, energy, syst...</td>\n",
       "      <td>topic5</td>\n",
       "      <td>luz electric fuel israel ltd</td>\n",
       "      <td>1990.0</td>\n",
       "      <td>An electrical energy system including an elect...</td>\n",
       "      <td>dominant</td>\n",
       "    </tr>\n",
       "    <tr>\n",
       "      <th>1</th>\n",
       "      <td>0.8034</td>\n",
       "      <td>charge, battery, power, electric, energy, syst...</td>\n",
       "      <td>topic5</td>\n",
       "      <td>luz electric fuel israel ltd</td>\n",
       "      <td>1990.0</td>\n",
       "      <td>An electrical energy system including an elect...</td>\n",
       "      <td>dominant</td>\n",
       "    </tr>\n",
       "    <tr>\n",
       "      <th>10</th>\n",
       "      <td>0.4583</td>\n",
       "      <td>injection, fuel, combustion, valve, cylinder, ...</td>\n",
       "      <td>topic3</td>\n",
       "      <td>steyr nutzfahrzeuge ag</td>\n",
       "      <td>1993.0</td>\n",
       "      <td>The invention relates to an engine brake in a ...</td>\n",
       "      <td>dominant</td>\n",
       "    </tr>\n",
       "    <tr>\n",
       "      <th>18</th>\n",
       "      <td>0.7662</td>\n",
       "      <td>injection, fuel, combustion, valve, cylinder, ...</td>\n",
       "      <td>topic3</td>\n",
       "      <td>avl list gmbh</td>\n",
       "      <td>2002.0</td>\n",
       "      <td>During an idling phase, fuel is repeatedly inj...</td>\n",
       "      <td>dominant</td>\n",
       "    </tr>\n",
       "    <tr>\n",
       "      <th>34</th>\n",
       "      <td>0.8569</td>\n",
       "      <td>injection, fuel, combustion, valve, cylinder, ...</td>\n",
       "      <td>topic3</td>\n",
       "      <td>avl list gmbh</td>\n",
       "      <td>2001.0</td>\n",
       "      <td>Process for the controlled operation of a comb...</td>\n",
       "      <td>dominant</td>\n",
       "    </tr>\n",
       "  </tbody>\n",
       "</table>\n",
       "</div>"
      ],
      "text/plain": [
       "    Topic_Perc_Contrib                                           Keywords  \\\n",
       "0               0.4003  charge, battery, power, electric, energy, syst...   \n",
       "1               0.8034  charge, battery, power, electric, energy, syst...   \n",
       "10              0.4583  injection, fuel, combustion, valve, cylinder, ...   \n",
       "18              0.7662  injection, fuel, combustion, valve, cylinder, ...   \n",
       "34              0.8569  injection, fuel, combustion, valve, cylinder, ...   \n",
       "\n",
       "     Topic                      Assignee    Year  \\\n",
       "0   topic5  luz electric fuel israel ltd  1990.0   \n",
       "1   topic5  luz electric fuel israel ltd  1990.0   \n",
       "10  topic3        steyr nutzfahrzeuge ag  1993.0   \n",
       "18  topic3                 avl list gmbh  2002.0   \n",
       "34  topic3                 avl list gmbh  2001.0   \n",
       "\n",
       "                                             Abstract tech_type  \n",
       "0   An electrical energy system including an elect...  dominant  \n",
       "1   An electrical energy system including an elect...  dominant  \n",
       "10  The invention relates to an engine brake in a ...  dominant  \n",
       "18  During an idling phase, fuel is repeatedly inj...  dominant  \n",
       "34  Process for the controlled operation of a comb...  dominant  "
      ]
     },
     "execution_count": 290,
     "metadata": {},
     "output_type": "execute_result"
    }
   ],
   "source": [
    "f[:5]"
   ]
  },
  {
   "cell_type": "code",
   "execution_count": 291,
   "metadata": {},
   "outputs": [],
   "source": [
    "f=f.groupby(['Assignee']).size()"
   ]
  },
  {
   "cell_type": "code",
   "execution_count": 292,
   "metadata": {},
   "outputs": [
    {
     "data": {
      "text/plain": [
       "Assignee\n",
       "toyota motor corp                      6198\n",
       "honda motor co ltd                     2321\n",
       "nissan motor co ltd                    2163\n",
       "bosch corp                             1695\n",
       "hyundai motor co ltd                   1627\n",
       "ford global technologies inc           1358\n",
       "mitsubishi motors corp                 1150\n",
       "denso corp                              840\n",
       "hitachi ltd                             533\n",
       "renault sas                             443\n",
       "peugeot citroen automobiles             354\n",
       "aisin aw co ltd                         311\n",
       "suzuki motor corp                       271\n",
       "lsis co ltd                             235\n",
       "mazda motor corp                        210\n",
       "continental automotive gmbh             205\n",
       "isuzu motors ltd                        204\n",
       "siemens aktiengesellschaft              202\n",
       "volkswagen group                        189\n",
       "gm global technology operations llc     180\n",
       "yamaha motor co ltd                     176\n",
       "general electric company                168\n",
       "daimlerchrysler ag                      156\n",
       "hino motors ltd                         140\n",
       "hitachi automotive systems ltd          133\n",
       "bmw ag                                  133\n",
       "fuji heavy ind ltd                      126\n",
       "audi ag                                 114\n",
       "jaguar land rover limited               111\n",
       "byd company limited                     105\n",
       "dtype: int64"
      ]
     },
     "execution_count": 292,
     "metadata": {},
     "output_type": "execute_result"
    }
   ],
   "source": [
    "f.sort_values(ascending=False)[:30]"
   ]
  },
  {
   "cell_type": "markdown",
   "metadata": {},
   "source": [
    "**These are top 10 firms using dominant technology. We know that dominant technology belongs to topic1,2 and 7 so, we can create figure from this information.**"
   ]
  },
  {
   "cell_type": "markdown",
   "metadata": {},
   "source": [
    "### for sature technology"
   ]
  },
  {
   "cell_type": "code",
   "execution_count": 293,
   "metadata": {},
   "outputs": [],
   "source": [
    "s=df\n",
    "s=s[s.tech_type==\"saturated\"]"
   ]
  },
  {
   "cell_type": "code",
   "execution_count": 294,
   "metadata": {},
   "outputs": [
    {
     "data": {
      "text/plain": [
       "11500"
      ]
     },
     "execution_count": 294,
     "metadata": {},
     "output_type": "execute_result"
    }
   ],
   "source": [
    "len(s)"
   ]
  },
  {
   "cell_type": "code",
   "execution_count": 295,
   "metadata": {},
   "outputs": [
    {
     "data": {
      "text/html": [
       "<div>\n",
       "<style scoped>\n",
       "    .dataframe tbody tr th:only-of-type {\n",
       "        vertical-align: middle;\n",
       "    }\n",
       "\n",
       "    .dataframe tbody tr th {\n",
       "        vertical-align: top;\n",
       "    }\n",
       "\n",
       "    .dataframe thead th {\n",
       "        text-align: right;\n",
       "    }\n",
       "</style>\n",
       "<table border=\"1\" class=\"dataframe\">\n",
       "  <thead>\n",
       "    <tr style=\"text-align: right;\">\n",
       "      <th></th>\n",
       "      <th>Topic_Perc_Contrib</th>\n",
       "      <th>Keywords</th>\n",
       "      <th>Topic</th>\n",
       "      <th>Assignee</th>\n",
       "      <th>Year</th>\n",
       "      <th>Abstract</th>\n",
       "      <th>tech_type</th>\n",
       "    </tr>\n",
       "  </thead>\n",
       "  <tbody>\n",
       "    <tr>\n",
       "      <th>2</th>\n",
       "      <td>0.2962</td>\n",
       "      <td>oil, air, pipe, diesel, cylinder, body, gas, c...</td>\n",
       "      <td>topic2</td>\n",
       "      <td>sumitomo electric industries ltd</td>\n",
       "      <td>1995.0</td>\n",
       "      <td>An object is to provide a particulate trap for...</td>\n",
       "      <td>saturated</td>\n",
       "    </tr>\n",
       "    <tr>\n",
       "      <th>3</th>\n",
       "      <td>0.5153</td>\n",
       "      <td>oil, air, pipe, diesel, cylinder, body, gas, c...</td>\n",
       "      <td>topic2</td>\n",
       "      <td>sumitomo electric ind ltd</td>\n",
       "      <td>1995.0</td>\n",
       "      <td>PURPOSE: To obtain a trap by which the leakage...</td>\n",
       "      <td>saturated</td>\n",
       "    </tr>\n",
       "    <tr>\n",
       "      <th>4</th>\n",
       "      <td>0.4787</td>\n",
       "      <td>oil, air, pipe, diesel, cylinder, body, gas, c...</td>\n",
       "      <td>topic2</td>\n",
       "      <td>sumitomo electric industries ltd</td>\n",
       "      <td>1995.0</td>\n",
       "      <td>A particulate trap for a diesel engine designe...</td>\n",
       "      <td>saturated</td>\n",
       "    </tr>\n",
       "    <tr>\n",
       "      <th>5</th>\n",
       "      <td>0.3115</td>\n",
       "      <td>oil, air, pipe, diesel, cylinder, body, gas, c...</td>\n",
       "      <td>topic2</td>\n",
       "      <td>sumitomo electric industries ltd</td>\n",
       "      <td>1995.0</td>\n",
       "      <td>PCT No. PCT/JP96/02405 Sec. 371 Date Nov. 17, ...</td>\n",
       "      <td>saturated</td>\n",
       "    </tr>\n",
       "    <tr>\n",
       "      <th>6</th>\n",
       "      <td>0.4699</td>\n",
       "      <td>oil, air, pipe, diesel, cylinder, body, gas, c...</td>\n",
       "      <td>topic2</td>\n",
       "      <td>ricardo cayetano algeri</td>\n",
       "      <td>2000.0</td>\n",
       "      <td>A MIXING DEVICE OF GAS FUEL WITH AIR FOR INTER...</td>\n",
       "      <td>saturated</td>\n",
       "    </tr>\n",
       "  </tbody>\n",
       "</table>\n",
       "</div>"
      ],
      "text/plain": [
       "   Topic_Perc_Contrib                                           Keywords  \\\n",
       "2              0.2962  oil, air, pipe, diesel, cylinder, body, gas, c...   \n",
       "3              0.5153  oil, air, pipe, diesel, cylinder, body, gas, c...   \n",
       "4              0.4787  oil, air, pipe, diesel, cylinder, body, gas, c...   \n",
       "5              0.3115  oil, air, pipe, diesel, cylinder, body, gas, c...   \n",
       "6              0.4699  oil, air, pipe, diesel, cylinder, body, gas, c...   \n",
       "\n",
       "    Topic                          Assignee    Year  \\\n",
       "2  topic2  sumitomo electric industries ltd  1995.0   \n",
       "3  topic2         sumitomo electric ind ltd  1995.0   \n",
       "4  topic2  sumitomo electric industries ltd  1995.0   \n",
       "5  topic2  sumitomo electric industries ltd  1995.0   \n",
       "6  topic2           ricardo cayetano algeri  2000.0   \n",
       "\n",
       "                                            Abstract  tech_type  \n",
       "2  An object is to provide a particulate trap for...  saturated  \n",
       "3  PURPOSE: To obtain a trap by which the leakage...  saturated  \n",
       "4  A particulate trap for a diesel engine designe...  saturated  \n",
       "5  PCT No. PCT/JP96/02405 Sec. 371 Date Nov. 17, ...  saturated  \n",
       "6  A MIXING DEVICE OF GAS FUEL WITH AIR FOR INTER...  saturated  "
      ]
     },
     "execution_count": 295,
     "metadata": {},
     "output_type": "execute_result"
    }
   ],
   "source": [
    "s[:5]"
   ]
  },
  {
   "cell_type": "code",
   "execution_count": 296,
   "metadata": {},
   "outputs": [],
   "source": [
    "s=s.groupby(['Assignee']).size()"
   ]
  },
  {
   "cell_type": "code",
   "execution_count": 297,
   "metadata": {},
   "outputs": [
    {
     "data": {
      "text/plain": [
       "Assignee\n",
       "bosch corp                             655\n",
       "honda motor co ltd                     540\n",
       "toyota motor corp                      310\n",
       "renault sas                            216\n",
       "nissan motor co ltd                    204\n",
       "hyundai motor co ltd                   153\n",
       "yamaha motor co ltd                    150\n",
       "suzuki motor corp                      124\n",
       "ford global technologies inc           122\n",
       "peugeot citroen automobiles            115\n",
       "denso corp                              95\n",
       "daimlerchrysler ag                      89\n",
       "mahle international gmbh                87\n",
       "volkswagen group                        78\n",
       "mitsubishi motors corp                  78\n",
       "hitachi ltd                             75\n",
       "mann+hummel gmbh                        75\n",
       "andreas stihl ag & co                   68\n",
       "caterpillar inc                         58\n",
       "avl list gmbh                           55\n",
       "andreas stihl ag & co kg                51\n",
       "mann + hummel gmbh                      51\n",
       "daimler ag                              49\n",
       "audi ag                                 47\n",
       "filterwerk mann & hummel gmbh           47\n",
       "continental automotive gmbh             45\n",
       "gm global technology operations llc     43\n",
       "bmw ag                                  36\n",
       "siemens aktiengesellschaft              35\n",
       "aktiebolaget electrolux                 31\n",
       "dtype: int64"
      ]
     },
     "execution_count": 297,
     "metadata": {},
     "output_type": "execute_result"
    }
   ],
   "source": [
    "s.sort_values(ascending=False)[:30]"
   ]
  },
  {
   "cell_type": "markdown",
   "metadata": {},
   "source": [
    "**These are top 10 firms using saturate technology. We know that saturate technology belongs to topic 6 so, we can create figure from this information**"
   ]
  },
  {
   "cell_type": "markdown",
   "metadata": {},
   "source": [
    "# 6)- Adding Ecosystem components with each topic"
   ]
  },
  {
   "cell_type": "markdown",
   "metadata": {},
   "source": [
    "Already done in FILE 5"
   ]
  },
  {
   "cell_type": "code",
   "execution_count": 244,
   "metadata": {},
   "outputs": [],
   "source": [
    "df = pd.read_pickle('work_on_paper.pkl')"
   ]
  },
  {
   "cell_type": "code",
   "execution_count": 245,
   "metadata": {},
   "outputs": [],
   "source": [
    "df['ecosystem']=df.Topic.map({'topic1':'focal-tech', 'topic5':'focal-tech', 'topic6': 'focal-tech', 'topic7':'focal-tech','topic8':'focal-tech', \n",
    "                              'topic2':'component-tech', 'topic3': 'component-tech', 'topic4':'complementory-tech'})"
   ]
  },
  {
   "cell_type": "code",
   "execution_count": 246,
   "metadata": {},
   "outputs": [
    {
     "data": {
      "text/plain": [
       "focal-tech            36918\n",
       "component-tech        22197\n",
       "complementory-tech     9647\n",
       "Name: ecosystem, dtype: int64"
      ]
     },
     "execution_count": 246,
     "metadata": {},
     "output_type": "execute_result"
    }
   ],
   "source": [
    "df.ecosystem.value_counts()"
   ]
  },
  {
   "cell_type": "code",
   "execution_count": 248,
   "metadata": {},
   "outputs": [
    {
     "data": {
      "text/plain": [
       "Counter({'focal-tech': 36918,\n",
       "         'component-tech': 22197,\n",
       "         'complementory-tech': 9647})"
      ]
     },
     "execution_count": 248,
     "metadata": {},
     "output_type": "execute_result"
    }
   ],
   "source": [
    "from collections import Counter\n",
    "Counter(df.ecosystem)"
   ]
  },
  {
   "cell_type": "code",
   "execution_count": 249,
   "metadata": {},
   "outputs": [],
   "source": [
    "df.to_pickle('ecosystem_topic.pkl')"
   ]
  },
  {
   "cell_type": "code",
   "execution_count": 252,
   "metadata": {},
   "outputs": [],
   "source": [
    "df_ecosystem = pd.read_pickle('ecosystem_topic.pkl')"
   ]
  },
  {
   "cell_type": "code",
   "execution_count": 253,
   "metadata": {},
   "outputs": [],
   "source": [
    "company=df_ecosystem.groupby(df_ecosystem.ecosystem).Assignee.value_counts(dropna=True, sort=True)"
   ]
  },
  {
   "cell_type": "markdown",
   "metadata": {},
   "source": [
    "### 6a For a specific \"ecosystem_component\" listing wrt firms"
   ]
  },
  {
   "cell_type": "code",
   "execution_count": 254,
   "metadata": {},
   "outputs": [],
   "source": [
    "topic_firm=df_ecosystem.groupby([df_ecosystem['ecosystem']=='focal-tech']).Assignee.value_counts(dropna=True, sort=True)"
   ]
  },
  {
   "cell_type": "code",
   "execution_count": 255,
   "metadata": {},
   "outputs": [
    {
     "data": {
      "text/html": [
       "<div>\n",
       "<style scoped>\n",
       "    .dataframe tbody tr th:only-of-type {\n",
       "        vertical-align: middle;\n",
       "    }\n",
       "\n",
       "    .dataframe tbody tr th {\n",
       "        vertical-align: top;\n",
       "    }\n",
       "\n",
       "    .dataframe thead th {\n",
       "        text-align: right;\n",
       "    }\n",
       "</style>\n",
       "<table border=\"1\" class=\"dataframe\">\n",
       "  <thead>\n",
       "    <tr style=\"text-align: right;\">\n",
       "      <th></th>\n",
       "      <th></th>\n",
       "      <th>Assignee</th>\n",
       "    </tr>\n",
       "    <tr>\n",
       "      <th>ecosystem</th>\n",
       "      <th>Assignee</th>\n",
       "      <th></th>\n",
       "    </tr>\n",
       "  </thead>\n",
       "  <tbody>\n",
       "    <tr>\n",
       "      <th rowspan=\"10\" valign=\"top\">False</th>\n",
       "      <th>toyota motor corp</th>\n",
       "      <td>2940</td>\n",
       "    </tr>\n",
       "    <tr>\n",
       "      <th>honda motor co ltd</th>\n",
       "      <td>2016</td>\n",
       "    </tr>\n",
       "    <tr>\n",
       "      <th>bosch corp</th>\n",
       "      <td>1985</td>\n",
       "    </tr>\n",
       "    <tr>\n",
       "      <th>nissan motor co ltd</th>\n",
       "      <td>940</td>\n",
       "    </tr>\n",
       "    <tr>\n",
       "      <th>hyundai motor co ltd</th>\n",
       "      <td>880</td>\n",
       "    </tr>\n",
       "    <tr>\n",
       "      <th>ford global technologies inc</th>\n",
       "      <td>649</td>\n",
       "    </tr>\n",
       "    <tr>\n",
       "      <th>renault sas</th>\n",
       "      <td>524</td>\n",
       "    </tr>\n",
       "    <tr>\n",
       "      <th>mitsubishi motors corp</th>\n",
       "      <td>517</td>\n",
       "    </tr>\n",
       "    <tr>\n",
       "      <th>denso corp</th>\n",
       "      <td>516</td>\n",
       "    </tr>\n",
       "    <tr>\n",
       "      <th>peugeot citroen automobiles</th>\n",
       "      <td>398</td>\n",
       "    </tr>\n",
       "  </tbody>\n",
       "</table>\n",
       "</div>"
      ],
      "text/plain": [
       "                                        Assignee\n",
       "ecosystem Assignee                              \n",
       "False     toyota motor corp                 2940\n",
       "          honda motor co ltd                2016\n",
       "          bosch corp                        1985\n",
       "          nissan motor co ltd                940\n",
       "          hyundai motor co ltd               880\n",
       "          ford global technologies inc       649\n",
       "          renault sas                        524\n",
       "          mitsubishi motors corp             517\n",
       "          denso corp                         516\n",
       "          peugeot citroen automobiles        398"
      ]
     },
     "execution_count": 255,
     "metadata": {},
     "output_type": "execute_result"
    }
   ],
   "source": [
    "df_topic_firms = pd.DataFrame(topic_firm)\n",
    "df_topic_firms[:10]"
   ]
  },
  {
   "cell_type": "markdown",
   "metadata": {},
   "source": [
    "### 6b)-for focal-tech"
   ]
  },
  {
   "cell_type": "code",
   "execution_count": 256,
   "metadata": {},
   "outputs": [],
   "source": [
    "d=df_ecosystem\n",
    "d=d[d.ecosystem==\"focal-tech\"]"
   ]
  },
  {
   "cell_type": "code",
   "execution_count": 257,
   "metadata": {},
   "outputs": [
    {
     "data": {
      "text/plain": [
       "36918"
      ]
     },
     "execution_count": 257,
     "metadata": {},
     "output_type": "execute_result"
    }
   ],
   "source": [
    "len(d)"
   ]
  },
  {
   "cell_type": "markdown",
   "metadata": {},
   "source": [
    "Hence , varified by value_counts"
   ]
  },
  {
   "cell_type": "code",
   "execution_count": 258,
   "metadata": {},
   "outputs": [],
   "source": [
    "d=d.groupby(['Assignee']).size()"
   ]
  },
  {
   "cell_type": "code",
   "execution_count": 259,
   "metadata": {},
   "outputs": [
    {
     "data": {
      "text/plain": [
       "Assignee\n",
       "toyota motor corp                      5185\n",
       "honda motor co ltd                     1961\n",
       "nissan motor co ltd                    1945\n",
       "hyundai motor co ltd                   1717\n",
       "ford global technologies inc           1164\n",
       "mitsubishi motors corp                  895\n",
       "bosch corp                              785\n",
       "denso corp                              581\n",
       "hitachi ltd                             416\n",
       "renault sas                             335\n",
       "aisin aw co ltd                         295\n",
       "peugeot citroen automobiles             290\n",
       "suzuki motor corp                       265\n",
       "lsis co ltd                             234\n",
       "general electric company                174\n",
       "isuzu motors ltd                        171\n",
       "mazda motor corp                        161\n",
       "gm global technology operations llc     158\n",
       "volkswagen group                        140\n",
       "yamaha motor co ltd                     132\n",
       "hino motors ltd                         131\n",
       "siemens aktiengesellschaft              129\n",
       "daimlerchrysler ag                      120\n",
       "fuji heavy ind ltd                      116\n",
       "general motors corporation              116\n",
       "sony corporation                        113\n",
       "bmw ag                                  111\n",
       "toshiba corp                            109\n",
       "byd company limited                     107\n",
       "beiqi foton motor co ltd                104\n",
       "dtype: int64"
      ]
     },
     "execution_count": 259,
     "metadata": {},
     "output_type": "execute_result"
    }
   ],
   "source": [
    "d.sort_values(ascending=False)[:30]"
   ]
  },
  {
   "cell_type": "markdown",
   "metadata": {},
   "source": [
    "### 6c)- For component tech"
   ]
  },
  {
   "cell_type": "code",
   "execution_count": 260,
   "metadata": {},
   "outputs": [],
   "source": [
    "e=df_ecosystem\n",
    "e=e[e.ecosystem==\"component-tech\"]"
   ]
  },
  {
   "cell_type": "code",
   "execution_count": 261,
   "metadata": {},
   "outputs": [
    {
     "data": {
      "text/plain": [
       "22197"
      ]
     },
     "execution_count": 261,
     "metadata": {},
     "output_type": "execute_result"
    }
   ],
   "source": [
    "len(e)"
   ]
  },
  {
   "cell_type": "code",
   "execution_count": 262,
   "metadata": {},
   "outputs": [
    {
     "data": {
      "text/plain": [
       "Assignee\n",
       "toyota motor corp                      2236\n",
       "bosch corp                             1836\n",
       "honda motor co ltd                     1177\n",
       "nissan motor co ltd                     689\n",
       "ford global technologies inc            473\n",
       "renault sas                             470\n",
       "denso corp                              433\n",
       "mitsubishi motors corp                  388\n",
       "hyundai motor co ltd                    345\n",
       "peugeot citroen automobiles             307\n",
       "hitachi ltd                             257\n",
       "continental automotive gmbh             226\n",
       "yamaha motor co ltd                     215\n",
       "volkswagen group                        203\n",
       "daimlerchrysler ag                      190\n",
       "suzuki motor corp                       179\n",
       "siemens aktiengesellschaft              141\n",
       "isuzu motors ltd                        121\n",
       "audi ag                                 107\n",
       "avl list gmbh                           101\n",
       "gm global technology operations llc      96\n",
       "mahle international gmbh                 93\n",
       "bmw ag                                   88\n",
       "daimler ag                               84\n",
       "daihatsu motor co ltd                    83\n",
       "mann+hummel gmbh                         76\n",
       "mazda motor corp                         76\n",
       "andreas stihl ag & co                    70\n",
       "caterpillar inc                          68\n",
       "siemens ag                               60\n",
       "dtype: int64"
      ]
     },
     "execution_count": 262,
     "metadata": {},
     "output_type": "execute_result"
    }
   ],
   "source": [
    "e=e.groupby(['Assignee']).size()\n",
    "e.sort_values(ascending=False)[:30]"
   ]
  },
  {
   "cell_type": "markdown",
   "metadata": {},
   "source": [
    "### 6d)- For Complementory-tech"
   ]
  },
  {
   "cell_type": "code",
   "execution_count": 263,
   "metadata": {},
   "outputs": [],
   "source": [
    "f=df_ecosystem\n",
    "f=f[f.ecosystem==\"complementory-tech\"]"
   ]
  },
  {
   "cell_type": "code",
   "execution_count": 264,
   "metadata": {},
   "outputs": [
    {
     "data": {
      "text/plain": [
       "9647"
      ]
     },
     "execution_count": 264,
     "metadata": {},
     "output_type": "execute_result"
    }
   ],
   "source": [
    "len(f)"
   ]
  },
  {
   "cell_type": "code",
   "execution_count": 265,
   "metadata": {},
   "outputs": [],
   "source": [
    "f=f.groupby(['Assignee']).size()"
   ]
  },
  {
   "cell_type": "code",
   "execution_count": 266,
   "metadata": {},
   "outputs": [
    {
     "data": {
      "text/plain": [
       "Assignee\n",
       "honda motor co ltd                        839\n",
       "toyota motor corp                         704\n",
       "hyundai motor co ltd                      535\n",
       "nissan motor co ltd                       251\n",
       "ford global technologies inc              176\n",
       "bosch corp                                149\n",
       "mitsubishi motors corp                    129\n",
       "yamaha motor co ltd                       119\n",
       "aisin aw co ltd                           106\n",
       "peugeot citroen automobiles                91\n",
       "hitachi ltd                                86\n",
       "suzuki motor corp                          84\n",
       "denso corp                                 83\n",
       "renault sas                                54\n",
       "valeo equipements electriques moteur       54\n",
       "scania cv ab                               51\n",
       "kawasaki jukogyo kabushiki kaisha          51\n",
       "zf friedrichshafen ag                      41\n",
       "audi ag                                    39\n",
       "mazda motor corp                           37\n",
       "gm global technology operations llc        37\n",
       "hitachi automotive systems ltd             36\n",
       "fuji heavy ind ltd                         34\n",
       "volkswagen group                           32\n",
       "dr ing hc f porsche aktiengesellschaft     31\n",
       "daimlerchrysler ag                         28\n",
       "continental automotive gmbh                28\n",
       "lg electronics inc                         27\n",
       "guangzhou automobile group co ltd          27\n",
       "technoboost                                26\n",
       "dtype: int64"
      ]
     },
     "execution_count": 266,
     "metadata": {},
     "output_type": "execute_result"
    }
   ],
   "source": [
    "f.sort_values(ascending=False)[:30]"
   ]
  },
  {
   "cell_type": "markdown",
   "metadata": {},
   "source": [
    "### End of notebook6"
   ]
  }
 ],
 "metadata": {
  "kernelspec": {
   "display_name": "Python 3",
   "language": "python",
   "name": "python3"
  },
  "language_info": {
   "codemirror_mode": {
    "name": "ipython",
    "version": 3
   },
   "file_extension": ".py",
   "mimetype": "text/x-python",
   "name": "python",
   "nbconvert_exporter": "python",
   "pygments_lexer": "ipython3",
   "version": "3.7.7"
  }
 },
 "nbformat": 4,
 "nbformat_minor": 2
}
