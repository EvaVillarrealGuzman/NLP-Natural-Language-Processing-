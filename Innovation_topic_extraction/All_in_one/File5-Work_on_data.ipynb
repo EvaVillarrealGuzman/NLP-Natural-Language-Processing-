{
 "cells": [
  {
   "cell_type": "markdown",
   "metadata": {},
   "source": [
    "# Working on analysis part of topic modeling\n",
    "\n",
    "- keyword data"
   ]
  },
  {
   "cell_type": "markdown",
   "metadata": {},
   "source": [
    "There are couple of pickle files extract from other work\n",
    "\n",
    "- 1)-patent_firm_full_clean.pkl extracted from File1-Firm_Preprocessing\n",
    "- 2)-eda.pkl extracted from File2-EDA\n",
    "- 3)-work_on_data extracted from File3-Topic modeling\n",
    "\n",
    "- Finally, we will create a pkl file from this as well for future use in visualizations. tech_type_per_topic.pkl"
   ]
  },
  {
   "cell_type": "code",
   "execution_count": 1,
   "metadata": {},
   "outputs": [],
   "source": [
    "import warnings\n",
    "warnings.filterwarnings('ignore')"
   ]
  },
  {
   "cell_type": "code",
   "execution_count": 2,
   "metadata": {},
   "outputs": [
    {
     "data": {
      "text/html": [
       "<style>body {\n",
       "    margin: 0;\n",
       "    font-family: Helvetica;\n",
       "}\n",
       "table.dataframe {\n",
       "    border-collapse: collapse;\n",
       "    border: none;\n",
       "}\n",
       "table.dataframe tr {\n",
       "    border: none;\n",
       "}\n",
       "table.dataframe td, table.dataframe th {\n",
       "    margin: 0;\n",
       "    border: 1px solid white;\n",
       "    padding-left: 0.25em;\n",
       "    padding-right: 0.25em;\n",
       "}\n",
       "table.dataframe th:not(:empty) {\n",
       "    background-color: #fec;\n",
       "    text-align: left;\n",
       "    font-weight: normal;\n",
       "}\n",
       "table.dataframe tr:nth-child(2) th:empty {\n",
       "    border-left: none;\n",
       "    border-right: 1px dashed #888;\n",
       "}\n",
       "table.dataframe td {\n",
       "    border: 2px solid #ccf;\n",
       "    background-color: #f4f4ff;\n",
       "}\n",
       "h3 {\n",
       "    color: white;\n",
       "    background-color: black;\n",
       "    padding: 0.5em;\n",
       "}\n",
       "</style>"
      ],
      "text/plain": [
       "<IPython.core.display.HTML object>"
      ]
     },
     "execution_count": 2,
     "metadata": {},
     "output_type": "execute_result"
    }
   ],
   "source": [
    "from IPython.core.display import HTML\n",
    "css = open('style-table.css').read() + open('style-notebook.css').read()\n",
    "HTML('<style>{}</style>'.format(css))"
   ]
  },
  {
   "cell_type": "code",
   "execution_count": 3,
   "metadata": {},
   "outputs": [],
   "source": [
    "import nltk\n",
    "import sys\n",
    "import re, numpy as np, pandas as pd"
   ]
  },
  {
   "cell_type": "code",
   "execution_count": 4,
   "metadata": {},
   "outputs": [
    {
     "name": "stdout",
     "output_type": "stream",
     "text": [
      "Populating the interactive namespace from numpy and matplotlib\n"
     ]
    }
   ],
   "source": [
    "# Visualization \n",
    "import matplotlib.pyplot as plt\n",
    "import seaborn as sns\n",
    "from pprint import pprint\n",
    "%matplotlib inline\n",
    "%pylab inline"
   ]
  },
  {
   "cell_type": "code",
   "execution_count": 5,
   "metadata": {},
   "outputs": [],
   "source": [
    "import plotly\n",
    "import plotly.offline as pyo\n",
    "import pandas as pd\n",
    "import matplotlib.pyplot as plt\n",
    "from datetime import datetime\n",
    "import plotly.graph_objs as go"
   ]
  },
  {
   "cell_type": "code",
   "execution_count": 6,
   "metadata": {},
   "outputs": [],
   "source": [
    "# Gensim\n",
    "import gensim, spacy, logging, warnings\n",
    "import gensim.corpora as corpora\n",
    "from gensim.utils import lemmatize, simple_preprocess\n",
    "from gensim.models import CoherenceModel"
   ]
  },
  {
   "cell_type": "code",
   "execution_count": 7,
   "metadata": {},
   "outputs": [],
   "source": [
    "# NLTK Stop words\n",
    "from nltk.corpus import stopwords\n",
    "stop_words = stopwords.words('english')\n",
    "stop_words.extend(['from', 'subject', 're', 'edu', 'use', 'not', 'would', 'say', 'could', '_', 'be', 'know', 'good', 'go', 'get', 'do', 'done', 'try', 'many', 'some', 'nice', 'thank', 'think', 'see', 'rather', 'easy', 'easily', 'lot', 'lack', 'make', 'want', 'seem', 'run', 'need', 'even', 'right', 'line', 'even', 'also', 'may', 'take', 'come'])"
   ]
  },
  {
   "cell_type": "markdown",
   "metadata": {},
   "source": [
    "# Loading file"
   ]
  },
  {
   "cell_type": "code",
   "execution_count": 8,
   "metadata": {},
   "outputs": [],
   "source": [
    "import pickle"
   ]
  },
  {
   "cell_type": "code",
   "execution_count": 9,
   "metadata": {},
   "outputs": [
    {
     "data": {
      "text/plain": [
       "(68764, 35)"
      ]
     },
     "execution_count": 9,
     "metadata": {},
     "output_type": "execute_result"
    }
   ],
   "source": [
    "p_firm = pd.read_pickle('patent_firm_full_clean.pkl')\n",
    "p_firm.shape"
   ]
  },
  {
   "cell_type": "code",
   "execution_count": 10,
   "metadata": {},
   "outputs": [
    {
     "data": {
      "text/plain": [
       "(68762, 38)"
      ]
     },
     "execution_count": 10,
     "metadata": {},
     "output_type": "execute_result"
    }
   ],
   "source": [
    "patent = pd.read_pickle('eda.pkl')\n",
    "patent.shape"
   ]
  },
  {
   "cell_type": "code",
   "execution_count": 11,
   "metadata": {},
   "outputs": [
    {
     "data": {
      "text/html": [
       "<div>\n",
       "<style scoped>\n",
       "    .dataframe tbody tr th:only-of-type {\n",
       "        vertical-align: middle;\n",
       "    }\n",
       "\n",
       "    .dataframe tbody tr th {\n",
       "        vertical-align: top;\n",
       "    }\n",
       "\n",
       "    .dataframe thead th {\n",
       "        text-align: right;\n",
       "    }\n",
       "</style>\n",
       "<table border=\"1\" class=\"dataframe\">\n",
       "  <thead>\n",
       "    <tr style=\"text-align: right;\">\n",
       "      <th></th>\n",
       "      <th>Unnamed: 0</th>\n",
       "      <th>appln</th>\n",
       "      <th>appln_id</th>\n",
       "      <th>family_id</th>\n",
       "      <th>sets</th>\n",
       "      <th>direct</th>\n",
       "      <th>granted</th>\n",
       "      <th>earliest_appln</th>\n",
       "      <th>earliest_filing_date</th>\n",
       "      <th>publn_date</th>\n",
       "      <th>...</th>\n",
       "      <th>citing_appln_id</th>\n",
       "      <th>citing_family_id</th>\n",
       "      <th>num_citing_family</th>\n",
       "      <th>earliest_applt</th>\n",
       "      <th>current_applt</th>\n",
       "      <th>appln_title</th>\n",
       "      <th>appln_abstr</th>\n",
       "      <th>assignee</th>\n",
       "      <th>application_date</th>\n",
       "      <th>year</th>\n",
       "    </tr>\n",
       "  </thead>\n",
       "  <tbody>\n",
       "    <tr>\n",
       "      <th>0</th>\n",
       "      <td>0</td>\n",
       "      <td>WO9105114W</td>\n",
       "      <td>47158713</td>\n",
       "      <td>1239277</td>\n",
       "      <td>2</td>\n",
       "      <td>1</td>\n",
       "      <td>1</td>\n",
       "      <td>US55592190A</td>\n",
       "      <td>1990-07-19</td>\n",
       "      <td>1993-02-18</td>\n",
       "      <td>...</td>\n",
       "      <td>45621927</td>\n",
       "      <td>24395918</td>\n",
       "      <td>30</td>\n",
       "      <td>LUZ ELECTRIC FUEL ISRAEL LTD.</td>\n",
       "      <td>LUZ ELECTRIC FUEL ISRAEL LTD.</td>\n",
       "      <td>ELECTRICAL ENERGY SYSTEM</td>\n",
       "      <td>An electrical energy system including an elect...</td>\n",
       "      <td>luz electric fuel israel ltd</td>\n",
       "      <td>1990-07-19</td>\n",
       "      <td>1990</td>\n",
       "    </tr>\n",
       "    <tr>\n",
       "      <th>1</th>\n",
       "      <td>1</td>\n",
       "      <td>US55592190A</td>\n",
       "      <td>51797454</td>\n",
       "      <td>1239277</td>\n",
       "      <td>2</td>\n",
       "      <td>1</td>\n",
       "      <td>1</td>\n",
       "      <td>US55592190A</td>\n",
       "      <td>1990-07-19</td>\n",
       "      <td>1992-06-09</td>\n",
       "      <td>...</td>\n",
       "      <td>52393850\\r\\n16916549\\r\\n54353461\\r\\n48212422\\r...</td>\n",
       "      <td>27071024\\r\\n1239277\\r\\n25508001\\r\\n22545199\\r\\...</td>\n",
       "      <td>30</td>\n",
       "      <td>Luz Electric Fuel Israel, Ltd.</td>\n",
       "      <td>Luz Electric Fuel Israel, Ltd.</td>\n",
       "      <td>Electrical energy system</td>\n",
       "      <td>An electrical energy system including an elect...</td>\n",
       "      <td>luz electric fuel israel ltd</td>\n",
       "      <td>1990-07-19</td>\n",
       "      <td>1990</td>\n",
       "    </tr>\n",
       "  </tbody>\n",
       "</table>\n",
       "<p>2 rows × 38 columns</p>\n",
       "</div>"
      ],
      "text/plain": [
       "   Unnamed: 0        appln  appln_id  family_id  sets  direct  granted  \\\n",
       "0           0   WO9105114W  47158713    1239277     2       1        1   \n",
       "1           1  US55592190A  51797454    1239277     2       1        1   \n",
       "\n",
       "  earliest_appln earliest_filing_date  publn_date  ...   \\\n",
       "0    US55592190A           1990-07-19  1993-02-18  ...    \n",
       "1    US55592190A           1990-07-19  1992-06-09  ...    \n",
       "\n",
       "                                     citing_appln_id  \\\n",
       "0                                           45621927   \n",
       "1  52393850\\r\\n16916549\\r\\n54353461\\r\\n48212422\\r...   \n",
       "\n",
       "                                    citing_family_id num_citing_family  \\\n",
       "0                                           24395918                30   \n",
       "1  27071024\\r\\n1239277\\r\\n25508001\\r\\n22545199\\r\\...                30   \n",
       "\n",
       "                   earliest_applt                   current_applt  \\\n",
       "0   LUZ ELECTRIC FUEL ISRAEL LTD.   LUZ ELECTRIC FUEL ISRAEL LTD.   \n",
       "1  Luz Electric Fuel Israel, Ltd.  Luz Electric Fuel Israel, Ltd.   \n",
       "\n",
       "                appln_title  \\\n",
       "0  ELECTRICAL ENERGY SYSTEM   \n",
       "1  Electrical energy system   \n",
       "\n",
       "                                         appln_abstr  \\\n",
       "0  An electrical energy system including an elect...   \n",
       "1  An electrical energy system including an elect...   \n",
       "\n",
       "                       assignee application_date  year  \n",
       "0  luz electric fuel israel ltd       1990-07-19  1990  \n",
       "1  luz electric fuel israel ltd       1990-07-19  1990  \n",
       "\n",
       "[2 rows x 38 columns]"
      ]
     },
     "execution_count": 11,
     "metadata": {},
     "output_type": "execute_result"
    }
   ],
   "source": [
    "patent.head(2)"
   ]
  },
  {
   "cell_type": "code",
   "execution_count": 14,
   "metadata": {},
   "outputs": [
    {
     "data": {
      "text/plain": [
       "(68762, 7)"
      ]
     },
     "execution_count": 14,
     "metadata": {},
     "output_type": "execute_result"
    }
   ],
   "source": [
    "data_work = pd.read_pickle('work_on_data.pkl')\n",
    "data_work.shape"
   ]
  },
  {
   "cell_type": "code",
   "execution_count": 15,
   "metadata": {},
   "outputs": [
    {
     "data": {
      "text/plain": [
       "(68762, 5)"
      ]
     },
     "execution_count": 15,
     "metadata": {},
     "output_type": "execute_result"
    }
   ],
   "source": [
    "data = pd.read_pickle('top08_topic_dominant.pkl')\n",
    "data.shape"
   ]
  },
  {
   "cell_type": "markdown",
   "metadata": {},
   "source": [
    "### select useful features only"
   ]
  },
  {
   "cell_type": "code",
   "execution_count": 16,
   "metadata": {},
   "outputs": [
    {
     "data": {
      "text/html": [
       "<div>\n",
       "<style scoped>\n",
       "    .dataframe tbody tr th:only-of-type {\n",
       "        vertical-align: middle;\n",
       "    }\n",
       "\n",
       "    .dataframe tbody tr th {\n",
       "        vertical-align: top;\n",
       "    }\n",
       "\n",
       "    .dataframe thead th {\n",
       "        text-align: right;\n",
       "    }\n",
       "</style>\n",
       "<table border=\"1\" class=\"dataframe\">\n",
       "  <thead>\n",
       "    <tr style=\"text-align: right;\">\n",
       "      <th></th>\n",
       "      <th>Document_No</th>\n",
       "      <th>Dominant_Topic</th>\n",
       "      <th>Topic_Perc_Contrib</th>\n",
       "      <th>Keywords</th>\n",
       "      <th>Text</th>\n",
       "    </tr>\n",
       "  </thead>\n",
       "  <tbody>\n",
       "    <tr>\n",
       "      <th>0</th>\n",
       "      <td>0</td>\n",
       "      <td>2.0</td>\n",
       "      <td>0.8586</td>\n",
       "      <td>charge, battery, power, voltage, electric, mod...</td>\n",
       "      <td>[electrical, energy, system, include, electric...</td>\n",
       "    </tr>\n",
       "    <tr>\n",
       "      <th>1</th>\n",
       "      <td>1</td>\n",
       "      <td>2.0</td>\n",
       "      <td>0.8034</td>\n",
       "      <td>charge, battery, power, voltage, electric, mod...</td>\n",
       "      <td>[electrical, energy, system, include, electric...</td>\n",
       "    </tr>\n",
       "  </tbody>\n",
       "</table>\n",
       "</div>"
      ],
      "text/plain": [
       "   Document_No  Dominant_Topic  Topic_Perc_Contrib  \\\n",
       "0            0             2.0              0.8586   \n",
       "1            1             2.0              0.8034   \n",
       "\n",
       "                                            Keywords  \\\n",
       "0  charge, battery, power, voltage, electric, mod...   \n",
       "1  charge, battery, power, voltage, electric, mod...   \n",
       "\n",
       "                                                Text  \n",
       "0  [electrical, energy, system, include, electric...  \n",
       "1  [electrical, energy, system, include, electric...  "
      ]
     },
     "execution_count": 16,
     "metadata": {},
     "output_type": "execute_result"
    }
   ],
   "source": [
    "data.head(2)"
   ]
  },
  {
   "cell_type": "markdown",
   "metadata": {},
   "source": [
    "**Create a dataframe for working on paper**"
   ]
  },
  {
   "cell_type": "code",
   "execution_count": 17,
   "metadata": {},
   "outputs": [],
   "source": [
    "work_on_paper=data\n",
    "work_on_paper.drop(['Text','Document_No'], axis=1, inplace=True)"
   ]
  },
  {
   "cell_type": "code",
   "execution_count": 18,
   "metadata": {},
   "outputs": [],
   "source": [
    "work_on_paper['Assignee']=patent.assignee\n",
    "work_on_paper['Year']=patent.year\n",
    "work_on_paper['Abstract']=patent.appln_abstr"
   ]
  },
  {
   "cell_type": "code",
   "execution_count": 19,
   "metadata": {},
   "outputs": [
    {
     "data": {
      "text/html": [
       "<div>\n",
       "<style scoped>\n",
       "    .dataframe tbody tr th:only-of-type {\n",
       "        vertical-align: middle;\n",
       "    }\n",
       "\n",
       "    .dataframe tbody tr th {\n",
       "        vertical-align: top;\n",
       "    }\n",
       "\n",
       "    .dataframe thead th {\n",
       "        text-align: right;\n",
       "    }\n",
       "</style>\n",
       "<table border=\"1\" class=\"dataframe\">\n",
       "  <thead>\n",
       "    <tr style=\"text-align: right;\">\n",
       "      <th></th>\n",
       "      <th>Dominant_Topic</th>\n",
       "      <th>Topic_Perc_Contrib</th>\n",
       "      <th>Keywords</th>\n",
       "      <th>Assignee</th>\n",
       "      <th>Year</th>\n",
       "      <th>Abstract</th>\n",
       "    </tr>\n",
       "  </thead>\n",
       "  <tbody>\n",
       "    <tr>\n",
       "      <th>0</th>\n",
       "      <td>2.0</td>\n",
       "      <td>0.8586</td>\n",
       "      <td>charge, battery, power, voltage, electric, mod...</td>\n",
       "      <td>luz electric fuel israel ltd</td>\n",
       "      <td>1990.0</td>\n",
       "      <td>An electrical energy system including an elect...</td>\n",
       "    </tr>\n",
       "    <tr>\n",
       "      <th>1</th>\n",
       "      <td>2.0</td>\n",
       "      <td>0.8034</td>\n",
       "      <td>charge, battery, power, voltage, electric, mod...</td>\n",
       "      <td>luz electric fuel israel ltd</td>\n",
       "      <td>1990.0</td>\n",
       "      <td>An electrical energy system including an elect...</td>\n",
       "    </tr>\n",
       "    <tr>\n",
       "      <th>2</th>\n",
       "      <td>5.0</td>\n",
       "      <td>0.3665</td>\n",
       "      <td>body, side, utility, end, model, support, part...</td>\n",
       "      <td>sumitomo electric industries ltd</td>\n",
       "      <td>1995.0</td>\n",
       "      <td>An object is to provide a particulate trap for...</td>\n",
       "    </tr>\n",
       "    <tr>\n",
       "      <th>3</th>\n",
       "      <td>5.0</td>\n",
       "      <td>0.5438</td>\n",
       "      <td>body, side, utility, end, model, support, part...</td>\n",
       "      <td>sumitomo electric ind ltd</td>\n",
       "      <td>1995.0</td>\n",
       "      <td>PURPOSE: To obtain a trap by which the leakage...</td>\n",
       "    </tr>\n",
       "    <tr>\n",
       "      <th>4</th>\n",
       "      <td>5.0</td>\n",
       "      <td>0.3044</td>\n",
       "      <td>body, side, utility, end, model, support, part...</td>\n",
       "      <td>sumitomo electric industries ltd</td>\n",
       "      <td>1995.0</td>\n",
       "      <td>A particulate trap for a diesel engine designe...</td>\n",
       "    </tr>\n",
       "  </tbody>\n",
       "</table>\n",
       "</div>"
      ],
      "text/plain": [
       "   Dominant_Topic  Topic_Perc_Contrib  \\\n",
       "0             2.0              0.8586   \n",
       "1             2.0              0.8034   \n",
       "2             5.0              0.3665   \n",
       "3             5.0              0.5438   \n",
       "4             5.0              0.3044   \n",
       "\n",
       "                                            Keywords  \\\n",
       "0  charge, battery, power, voltage, electric, mod...   \n",
       "1  charge, battery, power, voltage, electric, mod...   \n",
       "2  body, side, utility, end, model, support, part...   \n",
       "3  body, side, utility, end, model, support, part...   \n",
       "4  body, side, utility, end, model, support, part...   \n",
       "\n",
       "                           Assignee    Year  \\\n",
       "0      luz electric fuel israel ltd  1990.0   \n",
       "1      luz electric fuel israel ltd  1990.0   \n",
       "2  sumitomo electric industries ltd  1995.0   \n",
       "3         sumitomo electric ind ltd  1995.0   \n",
       "4  sumitomo electric industries ltd  1995.0   \n",
       "\n",
       "                                            Abstract  \n",
       "0  An electrical energy system including an elect...  \n",
       "1  An electrical energy system including an elect...  \n",
       "2  An object is to provide a particulate trap for...  \n",
       "3  PURPOSE: To obtain a trap by which the leakage...  \n",
       "4  A particulate trap for a diesel engine designe...  "
      ]
     },
     "execution_count": 19,
     "metadata": {},
     "output_type": "execute_result"
    }
   ],
   "source": [
    "work_on_paper.head()"
   ]
  },
  {
   "cell_type": "code",
   "execution_count": 20,
   "metadata": {},
   "outputs": [],
   "source": [
    "work_on_paper['Topic']=work_on_paper.Dominant_Topic.map({0:'topic1', 1:'topic2',2 :'topic3',3:'topic4', 4: 'topic5',\n",
    "                                                         5 : 'topic6', 6: 'topic7', 7:'topic8'})"
   ]
  },
  {
   "cell_type": "code",
   "execution_count": 21,
   "metadata": {},
   "outputs": [
    {
     "data": {
      "text/plain": [
       "topic4    16775\n",
       "topic3    14176\n",
       "topic6     9717\n",
       "topic2     9127\n",
       "topic8     8172\n",
       "topic5     5822\n",
       "topic7     3783\n",
       "topic1     1190\n",
       "Name: Topic, dtype: int64"
      ]
     },
     "execution_count": 21,
     "metadata": {},
     "output_type": "execute_result"
    }
   ],
   "source": [
    "work_on_paper.Topic.value_counts()"
   ]
  },
  {
   "cell_type": "code",
   "execution_count": 22,
   "metadata": {},
   "outputs": [
    {
     "data": {
      "text/plain": [
       "3.0    16775\n",
       "2.0    14176\n",
       "5.0     9717\n",
       "1.0     9127\n",
       "7.0     8172\n",
       "4.0     5822\n",
       "6.0     3783\n",
       "0.0     1190\n",
       "Name: Dominant_Topic, dtype: int64"
      ]
     },
     "execution_count": 22,
     "metadata": {},
     "output_type": "execute_result"
    }
   ],
   "source": [
    "work_on_paper.Dominant_Topic.value_counts()"
   ]
  },
  {
   "cell_type": "code",
   "execution_count": 23,
   "metadata": {},
   "outputs": [],
   "source": [
    "work_on_paper.drop(['Dominant_Topic'], axis=1, inplace=True)"
   ]
  },
  {
   "cell_type": "code",
   "execution_count": 24,
   "metadata": {},
   "outputs": [
    {
     "data": {
      "text/html": [
       "<div>\n",
       "<style scoped>\n",
       "    .dataframe tbody tr th:only-of-type {\n",
       "        vertical-align: middle;\n",
       "    }\n",
       "\n",
       "    .dataframe tbody tr th {\n",
       "        vertical-align: top;\n",
       "    }\n",
       "\n",
       "    .dataframe thead th {\n",
       "        text-align: right;\n",
       "    }\n",
       "</style>\n",
       "<table border=\"1\" class=\"dataframe\">\n",
       "  <thead>\n",
       "    <tr style=\"text-align: right;\">\n",
       "      <th></th>\n",
       "      <th>Topic_Perc_Contrib</th>\n",
       "      <th>Keywords</th>\n",
       "      <th>Assignee</th>\n",
       "      <th>Year</th>\n",
       "      <th>Abstract</th>\n",
       "      <th>Topic</th>\n",
       "    </tr>\n",
       "  </thead>\n",
       "  <tbody>\n",
       "    <tr>\n",
       "      <th>0</th>\n",
       "      <td>0.8586</td>\n",
       "      <td>charge, battery, power, voltage, electric, mod...</td>\n",
       "      <td>luz electric fuel israel ltd</td>\n",
       "      <td>1990.0</td>\n",
       "      <td>An electrical energy system including an elect...</td>\n",
       "      <td>topic3</td>\n",
       "    </tr>\n",
       "    <tr>\n",
       "      <th>1</th>\n",
       "      <td>0.8034</td>\n",
       "      <td>charge, battery, power, voltage, electric, mod...</td>\n",
       "      <td>luz electric fuel israel ltd</td>\n",
       "      <td>1990.0</td>\n",
       "      <td>An electrical energy system including an elect...</td>\n",
       "      <td>topic3</td>\n",
       "    </tr>\n",
       "  </tbody>\n",
       "</table>\n",
       "</div>"
      ],
      "text/plain": [
       "   Topic_Perc_Contrib                                           Keywords  \\\n",
       "0              0.8586  charge, battery, power, voltage, electric, mod...   \n",
       "1              0.8034  charge, battery, power, voltage, electric, mod...   \n",
       "\n",
       "                       Assignee    Year  \\\n",
       "0  luz electric fuel israel ltd  1990.0   \n",
       "1  luz electric fuel israel ltd  1990.0   \n",
       "\n",
       "                                            Abstract   Topic  \n",
       "0  An electrical energy system including an elect...  topic3  \n",
       "1  An electrical energy system including an elect...  topic3  "
      ]
     },
     "execution_count": 24,
     "metadata": {},
     "output_type": "execute_result"
    }
   ],
   "source": [
    "work_on_paper.head(2)"
   ]
  },
  {
   "cell_type": "code",
   "execution_count": 25,
   "metadata": {},
   "outputs": [],
   "source": [
    "work_on_paper.to_pickle('work_on_paper.pkl')"
   ]
  },
  {
   "cell_type": "markdown",
   "metadata": {},
   "source": [
    "# 1)- Pre-Model work\n",
    "\n",
    "using eda.pkl and patent_firm_full_clean.pkl"
   ]
  },
  {
   "cell_type": "code",
   "execution_count": 26,
   "metadata": {},
   "outputs": [],
   "source": [
    "p=patent"
   ]
  },
  {
   "cell_type": "code",
   "execution_count": 27,
   "metadata": {},
   "outputs": [],
   "source": [
    "total_patents=p['assignee'].value_counts()"
   ]
  },
  {
   "cell_type": "code",
   "execution_count": 28,
   "metadata": {},
   "outputs": [],
   "source": [
    "normal_patents=p['assignee'].value_counts(normalize=True)"
   ]
  },
  {
   "cell_type": "code",
   "execution_count": 29,
   "metadata": {},
   "outputs": [],
   "source": [
    "df = pd.DataFrame({'Assigne': total_patents,\n",
    "...                    'Commulative': normal_patents})"
   ]
  },
  {
   "cell_type": "code",
   "execution_count": 30,
   "metadata": {},
   "outputs": [
    {
     "data": {
      "text/html": [
       "<div>\n",
       "<style scoped>\n",
       "    .dataframe tbody tr th:only-of-type {\n",
       "        vertical-align: middle;\n",
       "    }\n",
       "\n",
       "    .dataframe tbody tr th {\n",
       "        vertical-align: top;\n",
       "    }\n",
       "\n",
       "    .dataframe thead th {\n",
       "        text-align: right;\n",
       "    }\n",
       "</style>\n",
       "<table border=\"1\" class=\"dataframe\">\n",
       "  <thead>\n",
       "    <tr style=\"text-align: right;\">\n",
       "      <th></th>\n",
       "      <th>Assigne</th>\n",
       "      <th>Commulative</th>\n",
       "    </tr>\n",
       "  </thead>\n",
       "  <tbody>\n",
       "    <tr>\n",
       "      <th>toyota motor corp</th>\n",
       "      <td>8125</td>\n",
       "      <td>0.119041</td>\n",
       "    </tr>\n",
       "    <tr>\n",
       "      <th>honda motor co ltd</th>\n",
       "      <td>3977</td>\n",
       "      <td>0.058268</td>\n",
       "    </tr>\n",
       "    <tr>\n",
       "      <th>nissan motor co ltd</th>\n",
       "      <td>2885</td>\n",
       "      <td>0.042269</td>\n",
       "    </tr>\n",
       "    <tr>\n",
       "      <th>bosch corp</th>\n",
       "      <td>2770</td>\n",
       "      <td>0.040584</td>\n",
       "    </tr>\n",
       "    <tr>\n",
       "      <th>hyundai motor co ltd</th>\n",
       "      <td>2597</td>\n",
       "      <td>0.038049</td>\n",
       "    </tr>\n",
       "    <tr>\n",
       "      <th>ford global technologies inc</th>\n",
       "      <td>1813</td>\n",
       "      <td>0.026563</td>\n",
       "    </tr>\n",
       "    <tr>\n",
       "      <th>mitsubishi motors corp</th>\n",
       "      <td>1412</td>\n",
       "      <td>0.020687</td>\n",
       "    </tr>\n",
       "    <tr>\n",
       "      <th>denso corp</th>\n",
       "      <td>1097</td>\n",
       "      <td>0.016072</td>\n",
       "    </tr>\n",
       "    <tr>\n",
       "      <th>renault sas</th>\n",
       "      <td>859</td>\n",
       "      <td>0.012585</td>\n",
       "    </tr>\n",
       "    <tr>\n",
       "      <th>hitachi ltd</th>\n",
       "      <td>759</td>\n",
       "      <td>0.011120</td>\n",
       "    </tr>\n",
       "    <tr>\n",
       "      <th>peugeot citroen automobiles</th>\n",
       "      <td>688</td>\n",
       "      <td>0.010080</td>\n",
       "    </tr>\n",
       "    <tr>\n",
       "      <th>suzuki motor corp</th>\n",
       "      <td>528</td>\n",
       "      <td>0.007736</td>\n",
       "    </tr>\n",
       "    <tr>\n",
       "      <th>daimlerchrysler ag</th>\n",
       "      <td>503</td>\n",
       "      <td>0.007370</td>\n",
       "    </tr>\n",
       "    <tr>\n",
       "      <th>general motors corporation</th>\n",
       "      <td>475</td>\n",
       "      <td>0.006959</td>\n",
       "    </tr>\n",
       "    <tr>\n",
       "      <th>yamaha motor co ltd</th>\n",
       "      <td>466</td>\n",
       "      <td>0.006827</td>\n",
       "    </tr>\n",
       "    <tr>\n",
       "      <th>aisin aw co ltd</th>\n",
       "      <td>458</td>\n",
       "      <td>0.006710</td>\n",
       "    </tr>\n",
       "    <tr>\n",
       "      <th>volkswagen group</th>\n",
       "      <td>375</td>\n",
       "      <td>0.005494</td>\n",
       "    </tr>\n",
       "    <tr>\n",
       "      <th>continental automotive gmbh</th>\n",
       "      <td>316</td>\n",
       "      <td>0.004630</td>\n",
       "    </tr>\n",
       "    <tr>\n",
       "      <th>isuzu motors ltd</th>\n",
       "      <td>300</td>\n",
       "      <td>0.004395</td>\n",
       "    </tr>\n",
       "    <tr>\n",
       "      <th>siemens aktiengesellschaft</th>\n",
       "      <td>285</td>\n",
       "      <td>0.004176</td>\n",
       "    </tr>\n",
       "  </tbody>\n",
       "</table>\n",
       "</div>"
      ],
      "text/plain": [
       "                              Assigne  Commulative\n",
       "toyota motor corp                8125     0.119041\n",
       "honda motor co ltd               3977     0.058268\n",
       "nissan motor co ltd              2885     0.042269\n",
       "bosch corp                       2770     0.040584\n",
       "hyundai motor co ltd             2597     0.038049\n",
       "ford global technologies inc     1813     0.026563\n",
       "mitsubishi motors corp           1412     0.020687\n",
       "denso corp                       1097     0.016072\n",
       "renault sas                       859     0.012585\n",
       "hitachi ltd                       759     0.011120\n",
       "peugeot citroen automobiles       688     0.010080\n",
       "suzuki motor corp                 528     0.007736\n",
       "daimlerchrysler ag                503     0.007370\n",
       "general motors corporation        475     0.006959\n",
       "yamaha motor co ltd               466     0.006827\n",
       "aisin aw co ltd                   458     0.006710\n",
       "volkswagen group                  375     0.005494\n",
       "continental automotive gmbh       316     0.004630\n",
       "isuzu motors ltd                  300     0.004395\n",
       "siemens aktiengesellschaft        285     0.004176"
      ]
     },
     "execution_count": 30,
     "metadata": {},
     "output_type": "execute_result"
    }
   ],
   "source": [
    "df.head(20)"
   ]
  },
  {
   "cell_type": "markdown",
   "metadata": {},
   "source": [
    "**That was our table 1: Top assignee of patents**"
   ]
  },
  {
   "cell_type": "markdown",
   "metadata": {},
   "source": [
    "### Alternative method of doing this"
   ]
  },
  {
   "cell_type": "code",
   "execution_count": 31,
   "metadata": {},
   "outputs": [
    {
     "data": {
      "text/plain": [
       "toyota motor corp       8125\n",
       "honda motor co ltd      3977\n",
       "nissan motor co ltd     2885\n",
       "bosch corp              2770\n",
       "hyundai motor co ltd    2597\n",
       "Name: assignee, dtype: int64"
      ]
     },
     "execution_count": 31,
     "metadata": {},
     "output_type": "execute_result"
    }
   ],
   "source": [
    "p['assignee'].value_counts().head()"
   ]
  },
  {
   "cell_type": "code",
   "execution_count": 32,
   "metadata": {},
   "outputs": [],
   "source": [
    "assigne_data=p['assignee'].value_counts()"
   ]
  },
  {
   "cell_type": "code",
   "execution_count": 33,
   "metadata": {},
   "outputs": [],
   "source": [
    "df_assigne= pd.DataFrame(data=assigne_data)"
   ]
  },
  {
   "cell_type": "code",
   "execution_count": 34,
   "metadata": {},
   "outputs": [
    {
     "data": {
      "text/html": [
       "<div>\n",
       "<style scoped>\n",
       "    .dataframe tbody tr th:only-of-type {\n",
       "        vertical-align: middle;\n",
       "    }\n",
       "\n",
       "    .dataframe tbody tr th {\n",
       "        vertical-align: top;\n",
       "    }\n",
       "\n",
       "    .dataframe thead th {\n",
       "        text-align: right;\n",
       "    }\n",
       "</style>\n",
       "<table border=\"1\" class=\"dataframe\">\n",
       "  <thead>\n",
       "    <tr style=\"text-align: right;\">\n",
       "      <th></th>\n",
       "      <th>assignee</th>\n",
       "    </tr>\n",
       "  </thead>\n",
       "  <tbody>\n",
       "    <tr>\n",
       "      <th>toyota motor corp</th>\n",
       "      <td>8125</td>\n",
       "    </tr>\n",
       "    <tr>\n",
       "      <th>honda motor co ltd</th>\n",
       "      <td>3977</td>\n",
       "    </tr>\n",
       "  </tbody>\n",
       "</table>\n",
       "</div>"
      ],
      "text/plain": [
       "                    assignee\n",
       "toyota motor corp       8125\n",
       "honda motor co ltd      3977"
      ]
     },
     "execution_count": 34,
     "metadata": {},
     "output_type": "execute_result"
    }
   ],
   "source": [
    "df_assigne.head(2)"
   ]
  },
  {
   "cell_type": "code",
   "execution_count": 35,
   "metadata": {},
   "outputs": [],
   "source": [
    "df_assigne['Commulative']=p['assignee'].value_counts(normalize=True)"
   ]
  },
  {
   "cell_type": "code",
   "execution_count": 36,
   "metadata": {},
   "outputs": [
    {
     "data": {
      "text/html": [
       "<div>\n",
       "<style scoped>\n",
       "    .dataframe tbody tr th:only-of-type {\n",
       "        vertical-align: middle;\n",
       "    }\n",
       "\n",
       "    .dataframe tbody tr th {\n",
       "        vertical-align: top;\n",
       "    }\n",
       "\n",
       "    .dataframe thead th {\n",
       "        text-align: right;\n",
       "    }\n",
       "</style>\n",
       "<table border=\"1\" class=\"dataframe\">\n",
       "  <thead>\n",
       "    <tr style=\"text-align: right;\">\n",
       "      <th></th>\n",
       "      <th>assignee</th>\n",
       "      <th>Commulative</th>\n",
       "    </tr>\n",
       "  </thead>\n",
       "  <tbody>\n",
       "    <tr>\n",
       "      <th>toyota motor corp</th>\n",
       "      <td>8125</td>\n",
       "      <td>0.119041</td>\n",
       "    </tr>\n",
       "    <tr>\n",
       "      <th>honda motor co ltd</th>\n",
       "      <td>3977</td>\n",
       "      <td>0.058268</td>\n",
       "    </tr>\n",
       "  </tbody>\n",
       "</table>\n",
       "</div>"
      ],
      "text/plain": [
       "                    assignee  Commulative\n",
       "toyota motor corp       8125     0.119041\n",
       "honda motor co ltd      3977     0.058268"
      ]
     },
     "execution_count": 36,
     "metadata": {},
     "output_type": "execute_result"
    }
   ],
   "source": [
    "df_assigne.head(2)"
   ]
  },
  {
   "cell_type": "markdown",
   "metadata": {},
   "source": [
    "### Alternative way 2"
   ]
  },
  {
   "cell_type": "code",
   "execution_count": 37,
   "metadata": {},
   "outputs": [
    {
     "data": {
      "text/html": [
       "<div>\n",
       "<style scoped>\n",
       "    .dataframe tbody tr th:only-of-type {\n",
       "        vertical-align: middle;\n",
       "    }\n",
       "\n",
       "    .dataframe tbody tr th {\n",
       "        vertical-align: top;\n",
       "    }\n",
       "\n",
       "    .dataframe thead th {\n",
       "        text-align: right;\n",
       "    }\n",
       "</style>\n",
       "<table border=\"1\" class=\"dataframe\">\n",
       "  <thead>\n",
       "    <tr style=\"text-align: right;\">\n",
       "      <th></th>\n",
       "      <th>Top Companies</th>\n",
       "      <th>patent-counts</th>\n",
       "    </tr>\n",
       "  </thead>\n",
       "  <tbody>\n",
       "    <tr>\n",
       "      <th>0</th>\n",
       "      <td>toyota motor corp</td>\n",
       "      <td>8125</td>\n",
       "    </tr>\n",
       "    <tr>\n",
       "      <th>1</th>\n",
       "      <td>honda motor co ltd</td>\n",
       "      <td>3977</td>\n",
       "    </tr>\n",
       "    <tr>\n",
       "      <th>2</th>\n",
       "      <td>nissan motor co ltd</td>\n",
       "      <td>2885</td>\n",
       "    </tr>\n",
       "    <tr>\n",
       "      <th>3</th>\n",
       "      <td>bosch corp</td>\n",
       "      <td>2770</td>\n",
       "    </tr>\n",
       "    <tr>\n",
       "      <th>4</th>\n",
       "      <td>hyundai motor co ltd</td>\n",
       "      <td>2597</td>\n",
       "    </tr>\n",
       "    <tr>\n",
       "      <th>5</th>\n",
       "      <td>ford global technologies inc</td>\n",
       "      <td>1813</td>\n",
       "    </tr>\n",
       "    <tr>\n",
       "      <th>6</th>\n",
       "      <td>mitsubishi motors corp</td>\n",
       "      <td>1412</td>\n",
       "    </tr>\n",
       "    <tr>\n",
       "      <th>7</th>\n",
       "      <td>denso corp</td>\n",
       "      <td>1097</td>\n",
       "    </tr>\n",
       "    <tr>\n",
       "      <th>8</th>\n",
       "      <td>renault sas</td>\n",
       "      <td>859</td>\n",
       "    </tr>\n",
       "    <tr>\n",
       "      <th>9</th>\n",
       "      <td>hitachi ltd</td>\n",
       "      <td>759</td>\n",
       "    </tr>\n",
       "    <tr>\n",
       "      <th>10</th>\n",
       "      <td>peugeot citroen automobiles</td>\n",
       "      <td>688</td>\n",
       "    </tr>\n",
       "    <tr>\n",
       "      <th>11</th>\n",
       "      <td>suzuki motor corp</td>\n",
       "      <td>528</td>\n",
       "    </tr>\n",
       "    <tr>\n",
       "      <th>12</th>\n",
       "      <td>daimlerchrysler ag</td>\n",
       "      <td>503</td>\n",
       "    </tr>\n",
       "    <tr>\n",
       "      <th>13</th>\n",
       "      <td>general motors corporation</td>\n",
       "      <td>475</td>\n",
       "    </tr>\n",
       "    <tr>\n",
       "      <th>14</th>\n",
       "      <td>yamaha motor co ltd</td>\n",
       "      <td>466</td>\n",
       "    </tr>\n",
       "    <tr>\n",
       "      <th>15</th>\n",
       "      <td>aisin aw co ltd</td>\n",
       "      <td>458</td>\n",
       "    </tr>\n",
       "    <tr>\n",
       "      <th>16</th>\n",
       "      <td>volkswagen group</td>\n",
       "      <td>375</td>\n",
       "    </tr>\n",
       "    <tr>\n",
       "      <th>17</th>\n",
       "      <td>continental automotive gmbh</td>\n",
       "      <td>316</td>\n",
       "    </tr>\n",
       "    <tr>\n",
       "      <th>18</th>\n",
       "      <td>isuzu motors ltd</td>\n",
       "      <td>300</td>\n",
       "    </tr>\n",
       "    <tr>\n",
       "      <th>19</th>\n",
       "      <td>siemens aktiengesellschaft</td>\n",
       "      <td>285</td>\n",
       "    </tr>\n",
       "    <tr>\n",
       "      <th>20</th>\n",
       "      <td>mazda motor corp</td>\n",
       "      <td>274</td>\n",
       "    </tr>\n",
       "    <tr>\n",
       "      <th>21</th>\n",
       "      <td>lsis co ltd</td>\n",
       "      <td>253</td>\n",
       "    </tr>\n",
       "    <tr>\n",
       "      <th>22</th>\n",
       "      <td>audi ag</td>\n",
       "      <td>226</td>\n",
       "    </tr>\n",
       "    <tr>\n",
       "      <th>23</th>\n",
       "      <td>bmw ag</td>\n",
       "      <td>212</td>\n",
       "    </tr>\n",
       "    <tr>\n",
       "      <th>24</th>\n",
       "      <td>general electric company</td>\n",
       "      <td>199</td>\n",
       "    </tr>\n",
       "    <tr>\n",
       "      <th>25</th>\n",
       "      <td>hitachi automotive systems ltd</td>\n",
       "      <td>192</td>\n",
       "    </tr>\n",
       "    <tr>\n",
       "      <th>26</th>\n",
       "      <td>hino motors ltd</td>\n",
       "      <td>168</td>\n",
       "    </tr>\n",
       "    <tr>\n",
       "      <th>27</th>\n",
       "      <td>fuji heavy ind ltd</td>\n",
       "      <td>168</td>\n",
       "    </tr>\n",
       "    <tr>\n",
       "      <th>28</th>\n",
       "      <td>daihatsu motor co ltd</td>\n",
       "      <td>159</td>\n",
       "    </tr>\n",
       "    <tr>\n",
       "      <th>29</th>\n",
       "      <td>beiqi foton motor co ltd</td>\n",
       "      <td>138</td>\n",
       "    </tr>\n",
       "  </tbody>\n",
       "</table>\n",
       "</div>"
      ],
      "text/plain": [
       "                     Top Companies  patent-counts\n",
       "0                toyota motor corp           8125\n",
       "1               honda motor co ltd           3977\n",
       "2              nissan motor co ltd           2885\n",
       "3                       bosch corp           2770\n",
       "4             hyundai motor co ltd           2597\n",
       "5     ford global technologies inc           1813\n",
       "6           mitsubishi motors corp           1412\n",
       "7                       denso corp           1097\n",
       "8                      renault sas            859\n",
       "9                      hitachi ltd            759\n",
       "10     peugeot citroen automobiles            688\n",
       "11               suzuki motor corp            528\n",
       "12              daimlerchrysler ag            503\n",
       "13      general motors corporation            475\n",
       "14             yamaha motor co ltd            466\n",
       "15                 aisin aw co ltd            458\n",
       "16                volkswagen group            375\n",
       "17     continental automotive gmbh            316\n",
       "18                isuzu motors ltd            300\n",
       "19      siemens aktiengesellschaft            285\n",
       "20                mazda motor corp            274\n",
       "21                     lsis co ltd            253\n",
       "22                         audi ag            226\n",
       "23                          bmw ag            212\n",
       "24        general electric company            199\n",
       "25  hitachi automotive systems ltd            192\n",
       "26                 hino motors ltd            168\n",
       "27              fuji heavy ind ltd            168\n",
       "28           daihatsu motor co ltd            159\n",
       "29        beiqi foton motor co ltd            138"
      ]
     },
     "execution_count": 37,
     "metadata": {},
     "output_type": "execute_result"
    }
   ],
   "source": [
    "value_counts = p['assignee'].value_counts(dropna=True, sort=True)\n",
    "data = value_counts.rename_axis('Top Companies').reset_index(name='patent-counts')\n",
    "df_val_counts = pd.DataFrame(data)\n",
    "df_val_counts[:30]"
   ]
  },
  {
   "cell_type": "code",
   "execution_count": 38,
   "metadata": {},
   "outputs": [
    {
     "data": {
      "text/plain": [
       "toyota motor corp       0.119041\n",
       "honda motor co ltd      0.058268\n",
       "nissan motor co ltd     0.042269\n",
       "bosch corp              0.040584\n",
       "hyundai motor co ltd    0.038049\n",
       "Name: Commulative, dtype: float64"
      ]
     },
     "execution_count": 38,
     "metadata": {},
     "output_type": "execute_result"
    }
   ],
   "source": [
    "df.Commulative[:5]"
   ]
  },
  {
   "cell_type": "code",
   "execution_count": 40,
   "metadata": {},
   "outputs": [
    {
     "data": {
      "text/html": [
       "<div>\n",
       "<style scoped>\n",
       "    .dataframe tbody tr th:only-of-type {\n",
       "        vertical-align: middle;\n",
       "    }\n",
       "\n",
       "    .dataframe tbody tr th {\n",
       "        vertical-align: top;\n",
       "    }\n",
       "\n",
       "    .dataframe thead th {\n",
       "        text-align: right;\n",
       "    }\n",
       "</style>\n",
       "<table border=\"1\" class=\"dataframe\">\n",
       "  <thead>\n",
       "    <tr style=\"text-align: right;\">\n",
       "      <th></th>\n",
       "      <th>Top Companies</th>\n",
       "      <th>patent-counts in percetange</th>\n",
       "    </tr>\n",
       "  </thead>\n",
       "  <tbody>\n",
       "    <tr>\n",
       "      <th>0</th>\n",
       "      <td>toyota motor corp</td>\n",
       "      <td>0.119041</td>\n",
       "    </tr>\n",
       "    <tr>\n",
       "      <th>1</th>\n",
       "      <td>honda motor co ltd</td>\n",
       "      <td>0.058268</td>\n",
       "    </tr>\n",
       "    <tr>\n",
       "      <th>2</th>\n",
       "      <td>nissan motor co ltd</td>\n",
       "      <td>0.042269</td>\n",
       "    </tr>\n",
       "    <tr>\n",
       "      <th>3</th>\n",
       "      <td>bosch corp</td>\n",
       "      <td>0.040584</td>\n",
       "    </tr>\n",
       "    <tr>\n",
       "      <th>4</th>\n",
       "      <td>hyundai motor co ltd</td>\n",
       "      <td>0.038049</td>\n",
       "    </tr>\n",
       "    <tr>\n",
       "      <th>5</th>\n",
       "      <td>ford global technologies inc</td>\n",
       "      <td>0.026563</td>\n",
       "    </tr>\n",
       "    <tr>\n",
       "      <th>6</th>\n",
       "      <td>mitsubishi motors corp</td>\n",
       "      <td>0.020687</td>\n",
       "    </tr>\n",
       "    <tr>\n",
       "      <th>7</th>\n",
       "      <td>denso corp</td>\n",
       "      <td>0.016072</td>\n",
       "    </tr>\n",
       "    <tr>\n",
       "      <th>8</th>\n",
       "      <td>renault sas</td>\n",
       "      <td>0.012585</td>\n",
       "    </tr>\n",
       "    <tr>\n",
       "      <th>9</th>\n",
       "      <td>hitachi ltd</td>\n",
       "      <td>0.011120</td>\n",
       "    </tr>\n",
       "    <tr>\n",
       "      <th>10</th>\n",
       "      <td>peugeot citroen automobiles</td>\n",
       "      <td>0.010080</td>\n",
       "    </tr>\n",
       "    <tr>\n",
       "      <th>11</th>\n",
       "      <td>suzuki motor corp</td>\n",
       "      <td>0.007736</td>\n",
       "    </tr>\n",
       "    <tr>\n",
       "      <th>12</th>\n",
       "      <td>daimlerchrysler ag</td>\n",
       "      <td>0.007370</td>\n",
       "    </tr>\n",
       "    <tr>\n",
       "      <th>13</th>\n",
       "      <td>general motors corporation</td>\n",
       "      <td>0.006959</td>\n",
       "    </tr>\n",
       "    <tr>\n",
       "      <th>14</th>\n",
       "      <td>yamaha motor co ltd</td>\n",
       "      <td>0.006827</td>\n",
       "    </tr>\n",
       "    <tr>\n",
       "      <th>15</th>\n",
       "      <td>aisin aw co ltd</td>\n",
       "      <td>0.006710</td>\n",
       "    </tr>\n",
       "    <tr>\n",
       "      <th>16</th>\n",
       "      <td>volkswagen group</td>\n",
       "      <td>0.005494</td>\n",
       "    </tr>\n",
       "    <tr>\n",
       "      <th>17</th>\n",
       "      <td>continental automotive gmbh</td>\n",
       "      <td>0.004630</td>\n",
       "    </tr>\n",
       "    <tr>\n",
       "      <th>18</th>\n",
       "      <td>isuzu motors ltd</td>\n",
       "      <td>0.004395</td>\n",
       "    </tr>\n",
       "    <tr>\n",
       "      <th>19</th>\n",
       "      <td>siemens aktiengesellschaft</td>\n",
       "      <td>0.004176</td>\n",
       "    </tr>\n",
       "    <tr>\n",
       "      <th>20</th>\n",
       "      <td>mazda motor corp</td>\n",
       "      <td>0.004014</td>\n",
       "    </tr>\n",
       "    <tr>\n",
       "      <th>21</th>\n",
       "      <td>lsis co ltd</td>\n",
       "      <td>0.003707</td>\n",
       "    </tr>\n",
       "    <tr>\n",
       "      <th>22</th>\n",
       "      <td>audi ag</td>\n",
       "      <td>0.003311</td>\n",
       "    </tr>\n",
       "    <tr>\n",
       "      <th>23</th>\n",
       "      <td>bmw ag</td>\n",
       "      <td>0.003106</td>\n",
       "    </tr>\n",
       "    <tr>\n",
       "      <th>24</th>\n",
       "      <td>general electric company</td>\n",
       "      <td>0.002916</td>\n",
       "    </tr>\n",
       "    <tr>\n",
       "      <th>25</th>\n",
       "      <td>hitachi automotive systems ltd</td>\n",
       "      <td>0.002813</td>\n",
       "    </tr>\n",
       "    <tr>\n",
       "      <th>26</th>\n",
       "      <td>hino motors ltd</td>\n",
       "      <td>0.002461</td>\n",
       "    </tr>\n",
       "    <tr>\n",
       "      <th>27</th>\n",
       "      <td>fuji heavy ind ltd</td>\n",
       "      <td>0.002461</td>\n",
       "    </tr>\n",
       "    <tr>\n",
       "      <th>28</th>\n",
       "      <td>daihatsu motor co ltd</td>\n",
       "      <td>0.002330</td>\n",
       "    </tr>\n",
       "    <tr>\n",
       "      <th>29</th>\n",
       "      <td>beiqi foton motor co ltd</td>\n",
       "      <td>0.002022</td>\n",
       "    </tr>\n",
       "  </tbody>\n",
       "</table>\n",
       "</div>"
      ],
      "text/plain": [
       "                     Top Companies  patent-counts in percetange\n",
       "0                toyota motor corp                     0.119041\n",
       "1               honda motor co ltd                     0.058268\n",
       "2              nissan motor co ltd                     0.042269\n",
       "3                       bosch corp                     0.040584\n",
       "4             hyundai motor co ltd                     0.038049\n",
       "5     ford global technologies inc                     0.026563\n",
       "6           mitsubishi motors corp                     0.020687\n",
       "7                       denso corp                     0.016072\n",
       "8                      renault sas                     0.012585\n",
       "9                      hitachi ltd                     0.011120\n",
       "10     peugeot citroen automobiles                     0.010080\n",
       "11               suzuki motor corp                     0.007736\n",
       "12              daimlerchrysler ag                     0.007370\n",
       "13      general motors corporation                     0.006959\n",
       "14             yamaha motor co ltd                     0.006827\n",
       "15                 aisin aw co ltd                     0.006710\n",
       "16                volkswagen group                     0.005494\n",
       "17     continental automotive gmbh                     0.004630\n",
       "18                isuzu motors ltd                     0.004395\n",
       "19      siemens aktiengesellschaft                     0.004176\n",
       "20                mazda motor corp                     0.004014\n",
       "21                     lsis co ltd                     0.003707\n",
       "22                         audi ag                     0.003311\n",
       "23                          bmw ag                     0.003106\n",
       "24        general electric company                     0.002916\n",
       "25  hitachi automotive systems ltd                     0.002813\n",
       "26                 hino motors ltd                     0.002461\n",
       "27              fuji heavy ind ltd                     0.002461\n",
       "28           daihatsu motor co ltd                     0.002330\n",
       "29        beiqi foton motor co ltd                     0.002022"
      ]
     },
     "execution_count": 40,
     "metadata": {},
     "output_type": "execute_result"
    }
   ],
   "source": [
    "value_counts_norm = p['assignee'].value_counts(normalize=True , dropna=True, sort=True)\n",
    "data2 = value_counts_norm.rename_axis('Top Companies').reset_index(name='patent-counts in percetange')\n",
    "df_val_counts_norm = pd.DataFrame(data2)\n",
    "df_val_counts_norm[:30]"
   ]
  },
  {
   "cell_type": "markdown",
   "metadata": {},
   "source": [
    "**All togather**"
   ]
  },
  {
   "cell_type": "code",
   "execution_count": 42,
   "metadata": {},
   "outputs": [
    {
     "data": {
      "text/html": [
       "<div>\n",
       "<style scoped>\n",
       "    .dataframe tbody tr th:only-of-type {\n",
       "        vertical-align: middle;\n",
       "    }\n",
       "\n",
       "    .dataframe tbody tr th {\n",
       "        vertical-align: top;\n",
       "    }\n",
       "\n",
       "    .dataframe thead th {\n",
       "        text-align: right;\n",
       "    }\n",
       "</style>\n",
       "<table border=\"1\" class=\"dataframe\">\n",
       "  <thead>\n",
       "    <tr style=\"text-align: right;\">\n",
       "      <th></th>\n",
       "      <th>Top Companies</th>\n",
       "      <th>patent-counts in percetange</th>\n",
       "      <th>Patent-Count</th>\n",
       "    </tr>\n",
       "  </thead>\n",
       "  <tbody>\n",
       "    <tr>\n",
       "      <th>0</th>\n",
       "      <td>toyota motor corp</td>\n",
       "      <td>0.119041</td>\n",
       "      <td>8125</td>\n",
       "    </tr>\n",
       "    <tr>\n",
       "      <th>1</th>\n",
       "      <td>honda motor co ltd</td>\n",
       "      <td>0.058268</td>\n",
       "      <td>3977</td>\n",
       "    </tr>\n",
       "    <tr>\n",
       "      <th>2</th>\n",
       "      <td>nissan motor co ltd</td>\n",
       "      <td>0.042269</td>\n",
       "      <td>2885</td>\n",
       "    </tr>\n",
       "    <tr>\n",
       "      <th>3</th>\n",
       "      <td>bosch corp</td>\n",
       "      <td>0.040584</td>\n",
       "      <td>2770</td>\n",
       "    </tr>\n",
       "    <tr>\n",
       "      <th>4</th>\n",
       "      <td>hyundai motor co ltd</td>\n",
       "      <td>0.038049</td>\n",
       "      <td>2597</td>\n",
       "    </tr>\n",
       "    <tr>\n",
       "      <th>5</th>\n",
       "      <td>ford global technologies inc</td>\n",
       "      <td>0.026563</td>\n",
       "      <td>1813</td>\n",
       "    </tr>\n",
       "    <tr>\n",
       "      <th>6</th>\n",
       "      <td>mitsubishi motors corp</td>\n",
       "      <td>0.020687</td>\n",
       "      <td>1412</td>\n",
       "    </tr>\n",
       "    <tr>\n",
       "      <th>7</th>\n",
       "      <td>denso corp</td>\n",
       "      <td>0.016072</td>\n",
       "      <td>1097</td>\n",
       "    </tr>\n",
       "    <tr>\n",
       "      <th>8</th>\n",
       "      <td>renault sas</td>\n",
       "      <td>0.012585</td>\n",
       "      <td>859</td>\n",
       "    </tr>\n",
       "    <tr>\n",
       "      <th>9</th>\n",
       "      <td>hitachi ltd</td>\n",
       "      <td>0.011120</td>\n",
       "      <td>759</td>\n",
       "    </tr>\n",
       "    <tr>\n",
       "      <th>10</th>\n",
       "      <td>peugeot citroen automobiles</td>\n",
       "      <td>0.010080</td>\n",
       "      <td>688</td>\n",
       "    </tr>\n",
       "    <tr>\n",
       "      <th>11</th>\n",
       "      <td>suzuki motor corp</td>\n",
       "      <td>0.007736</td>\n",
       "      <td>528</td>\n",
       "    </tr>\n",
       "    <tr>\n",
       "      <th>12</th>\n",
       "      <td>daimlerchrysler ag</td>\n",
       "      <td>0.007370</td>\n",
       "      <td>503</td>\n",
       "    </tr>\n",
       "    <tr>\n",
       "      <th>13</th>\n",
       "      <td>general motors corporation</td>\n",
       "      <td>0.006959</td>\n",
       "      <td>475</td>\n",
       "    </tr>\n",
       "    <tr>\n",
       "      <th>14</th>\n",
       "      <td>yamaha motor co ltd</td>\n",
       "      <td>0.006827</td>\n",
       "      <td>466</td>\n",
       "    </tr>\n",
       "    <tr>\n",
       "      <th>15</th>\n",
       "      <td>aisin aw co ltd</td>\n",
       "      <td>0.006710</td>\n",
       "      <td>458</td>\n",
       "    </tr>\n",
       "    <tr>\n",
       "      <th>16</th>\n",
       "      <td>volkswagen group</td>\n",
       "      <td>0.005494</td>\n",
       "      <td>375</td>\n",
       "    </tr>\n",
       "    <tr>\n",
       "      <th>17</th>\n",
       "      <td>continental automotive gmbh</td>\n",
       "      <td>0.004630</td>\n",
       "      <td>316</td>\n",
       "    </tr>\n",
       "    <tr>\n",
       "      <th>18</th>\n",
       "      <td>isuzu motors ltd</td>\n",
       "      <td>0.004395</td>\n",
       "      <td>300</td>\n",
       "    </tr>\n",
       "    <tr>\n",
       "      <th>19</th>\n",
       "      <td>siemens aktiengesellschaft</td>\n",
       "      <td>0.004176</td>\n",
       "      <td>285</td>\n",
       "    </tr>\n",
       "    <tr>\n",
       "      <th>20</th>\n",
       "      <td>mazda motor corp</td>\n",
       "      <td>0.004014</td>\n",
       "      <td>274</td>\n",
       "    </tr>\n",
       "    <tr>\n",
       "      <th>21</th>\n",
       "      <td>lsis co ltd</td>\n",
       "      <td>0.003707</td>\n",
       "      <td>253</td>\n",
       "    </tr>\n",
       "    <tr>\n",
       "      <th>22</th>\n",
       "      <td>audi ag</td>\n",
       "      <td>0.003311</td>\n",
       "      <td>226</td>\n",
       "    </tr>\n",
       "    <tr>\n",
       "      <th>23</th>\n",
       "      <td>bmw ag</td>\n",
       "      <td>0.003106</td>\n",
       "      <td>212</td>\n",
       "    </tr>\n",
       "    <tr>\n",
       "      <th>24</th>\n",
       "      <td>general electric company</td>\n",
       "      <td>0.002916</td>\n",
       "      <td>199</td>\n",
       "    </tr>\n",
       "    <tr>\n",
       "      <th>25</th>\n",
       "      <td>hitachi automotive systems ltd</td>\n",
       "      <td>0.002813</td>\n",
       "      <td>192</td>\n",
       "    </tr>\n",
       "    <tr>\n",
       "      <th>26</th>\n",
       "      <td>hino motors ltd</td>\n",
       "      <td>0.002461</td>\n",
       "      <td>168</td>\n",
       "    </tr>\n",
       "    <tr>\n",
       "      <th>27</th>\n",
       "      <td>fuji heavy ind ltd</td>\n",
       "      <td>0.002461</td>\n",
       "      <td>168</td>\n",
       "    </tr>\n",
       "    <tr>\n",
       "      <th>28</th>\n",
       "      <td>daihatsu motor co ltd</td>\n",
       "      <td>0.002330</td>\n",
       "      <td>159</td>\n",
       "    </tr>\n",
       "    <tr>\n",
       "      <th>29</th>\n",
       "      <td>beiqi foton motor co ltd</td>\n",
       "      <td>0.002022</td>\n",
       "      <td>138</td>\n",
       "    </tr>\n",
       "  </tbody>\n",
       "</table>\n",
       "</div>"
      ],
      "text/plain": [
       "                     Top Companies  patent-counts in percetange  Patent-Count\n",
       "0                toyota motor corp                     0.119041          8125\n",
       "1               honda motor co ltd                     0.058268          3977\n",
       "2              nissan motor co ltd                     0.042269          2885\n",
       "3                       bosch corp                     0.040584          2770\n",
       "4             hyundai motor co ltd                     0.038049          2597\n",
       "5     ford global technologies inc                     0.026563          1813\n",
       "6           mitsubishi motors corp                     0.020687          1412\n",
       "7                       denso corp                     0.016072          1097\n",
       "8                      renault sas                     0.012585           859\n",
       "9                      hitachi ltd                     0.011120           759\n",
       "10     peugeot citroen automobiles                     0.010080           688\n",
       "11               suzuki motor corp                     0.007736           528\n",
       "12              daimlerchrysler ag                     0.007370           503\n",
       "13      general motors corporation                     0.006959           475\n",
       "14             yamaha motor co ltd                     0.006827           466\n",
       "15                 aisin aw co ltd                     0.006710           458\n",
       "16                volkswagen group                     0.005494           375\n",
       "17     continental automotive gmbh                     0.004630           316\n",
       "18                isuzu motors ltd                     0.004395           300\n",
       "19      siemens aktiengesellschaft                     0.004176           285\n",
       "20                mazda motor corp                     0.004014           274\n",
       "21                     lsis co ltd                     0.003707           253\n",
       "22                         audi ag                     0.003311           226\n",
       "23                          bmw ag                     0.003106           212\n",
       "24        general electric company                     0.002916           199\n",
       "25  hitachi automotive systems ltd                     0.002813           192\n",
       "26                 hino motors ltd                     0.002461           168\n",
       "27              fuji heavy ind ltd                     0.002461           168\n",
       "28           daihatsu motor co ltd                     0.002330           159\n",
       "29        beiqi foton motor co ltd                     0.002022           138"
      ]
     },
     "execution_count": 42,
     "metadata": {},
     "output_type": "execute_result"
    }
   ],
   "source": [
    "df_val_counts_norm['Patent-Count']=df_val_counts['patent-counts']\n",
    "df_val_counts_norm[:30]"
   ]
  },
  {
   "cell_type": "markdown",
   "metadata": {},
   "source": [
    "**This is our final table results**"
   ]
  },
  {
   "cell_type": "markdown",
   "metadata": {},
   "source": [
    "# Figure 3\n",
    "\n",
    "year vice analysis"
   ]
  },
  {
   "cell_type": "code",
   "execution_count": 43,
   "metadata": {},
   "outputs": [
    {
     "data": {
      "text/plain": [
       "year\n",
       "1990     631\n",
       "1991     732\n",
       "1992    1008\n",
       "1993    1205\n",
       "1994    1154\n",
       "1995    1285\n",
       "1996    1483\n",
       "1997    1581\n",
       "1998    1726\n",
       "1999    2003\n",
       "2000    2211\n",
       "2001    2267\n",
       "2002    2219\n",
       "2003    2431\n",
       "2004    2310\n",
       "2005    2641\n",
       "2006    3498\n",
       "2007    3444\n",
       "2008    3259\n",
       "2009    3754\n",
       "2010    4659\n",
       "2011    5737\n",
       "2012    5242\n",
       "2013    4247\n",
       "2014    3420\n",
       "2015    2687\n",
       "2016    1568\n",
       "2017     360\n",
       "dtype: int64"
      ]
     },
     "execution_count": 43,
     "metadata": {},
     "output_type": "execute_result"
    }
   ],
   "source": [
    "p.groupby(p.year).size()"
   ]
  },
  {
   "cell_type": "code",
   "execution_count": 44,
   "metadata": {},
   "outputs": [
    {
     "data": {
      "text/plain": [
       "1990     631\n",
       "1991     732\n",
       "1992    1008\n",
       "1993    1205\n",
       "1994    1154\n",
       "1995    1285\n",
       "1996    1483\n",
       "1997    1581\n",
       "1998    1726\n",
       "1999    2003\n",
       "2000    2211\n",
       "2001    2267\n",
       "2002    2219\n",
       "2003    2431\n",
       "2004    2310\n",
       "2005    2641\n",
       "2006    3498\n",
       "2007    3444\n",
       "2008    3259\n",
       "2009    3754\n",
       "2010    4659\n",
       "2011    5737\n",
       "2012    5242\n",
       "2013    4247\n",
       "2014    3420\n",
       "2015    2687\n",
       "2016    1568\n",
       "2017     360\n",
       "Name: year, dtype: int64"
      ]
     },
     "execution_count": 44,
     "metadata": {},
     "output_type": "execute_result"
    }
   ],
   "source": [
    "#Or we can\n",
    "p.year.value_counts().sort_index()"
   ]
  },
  {
   "cell_type": "code",
   "execution_count": 45,
   "metadata": {},
   "outputs": [
    {
     "data": {
      "text/plain": [
       "1990     631\n",
       "1991     732\n",
       "1992    1008\n",
       "1993    1205\n",
       "1994    1154\n",
       "1995    1285\n",
       "1996    1483\n",
       "1997    1581\n",
       "1998    1726\n",
       "1999    2003\n",
       "2000    2211\n",
       "2001    2267\n",
       "2002    2219\n",
       "2003    2431\n",
       "2004    2310\n",
       "2005    2641\n",
       "2006    3498\n",
       "2007    3444\n",
       "2008    3259\n",
       "2009    3754\n",
       "2010    4659\n",
       "2011    5737\n",
       "2012    5242\n",
       "2013    4247\n",
       "2014    3420\n",
       "2015    2687\n",
       "2016    1568\n",
       "2017     360\n",
       "Name: year, dtype: int64"
      ]
     },
     "execution_count": 45,
     "metadata": {},
     "output_type": "execute_result"
    }
   ],
   "source": [
    "p.year.value_counts(ascending=True).sort_index()"
   ]
  },
  {
   "cell_type": "code",
   "execution_count": 46,
   "metadata": {},
   "outputs": [],
   "source": [
    "# For checking distribution of patent over years\n",
    "dist=p.year.value_counts(ascending=True).sort_index()"
   ]
  },
  {
   "cell_type": "code",
   "execution_count": 47,
   "metadata": {},
   "outputs": [
    {
     "data": {
      "text/plain": [
       "pandas.core.series.Series"
      ]
     },
     "execution_count": 47,
     "metadata": {},
     "output_type": "execute_result"
    }
   ],
   "source": [
    "type(dist)"
   ]
  },
  {
   "cell_type": "code",
   "execution_count": 48,
   "metadata": {},
   "outputs": [
    {
     "data": {
      "image/png": "[encoded data removed]",
      "text/plain": [
       "<matplotlib.figure.Figure at 0x29cd5cf8e10>"
      ]
     },
     "metadata": {
      "needs_background": "light"
     },
     "output_type": "display_data"
    }
   ],
   "source": [
    "dist.plot()\n",
    "plt.xlabel('Application years')\n",
    "plt.ylabel('Number of patent applications')\n",
    "plt.title('distribution of patent applications over years')\n",
    "#plt.legend()\n",
    "plt.show()"
   ]
  },
  {
   "cell_type": "code",
   "execution_count": 49,
   "metadata": {},
   "outputs": [
    {
     "data": {
      "text/plain": [
       "<matplotlib.axes._subplots.AxesSubplot at 0x29ce9215710>"
      ]
     },
     "execution_count": 49,
     "metadata": {},
     "output_type": "execute_result"
    },
    {
     "data": {
      "image/png": "[encoded data removed]",
      "text/plain": [
       "<matplotlib.figure.Figure at 0x29ce9e4c7b8>"
      ]
     },
     "metadata": {
      "needs_background": "light"
     },
     "output_type": "display_data"
    }
   ],
   "source": [
    "# We can always use groupby. Here we have two variables \"year\" and \"granted\"\n",
    "p.groupby(p.year).granted.count().plot()"
   ]
  },
  {
   "cell_type": "markdown",
   "metadata": {},
   "source": [
    "**The steep drop in patent applications in 2014 is due to the patent ﬁlling process at the USPTO, which involves a signiﬁcant time lag between the ﬁling and disclosure or registration of applications, ranging from several months to over two years.**\n",
    "\n",
    "So work uptill fig 3 is done"
   ]
  },
  {
   "cell_type": "markdown",
   "metadata": {},
   "source": [
    "### using plotly"
   ]
  },
  {
   "cell_type": "code",
   "execution_count": 50,
   "metadata": {},
   "outputs": [],
   "source": [
    "value=p.year.value_counts().sort_index()"
   ]
  },
  {
   "cell_type": "code",
   "execution_count": 51,
   "metadata": {},
   "outputs": [],
   "source": [
    "value_df=pd.DataFrame(data=value)"
   ]
  },
  {
   "cell_type": "code",
   "execution_count": 52,
   "metadata": {},
   "outputs": [
    {
     "data": {
      "text/html": [
       "<div>\n",
       "<style scoped>\n",
       "    .dataframe tbody tr th:only-of-type {\n",
       "        vertical-align: middle;\n",
       "    }\n",
       "\n",
       "    .dataframe tbody tr th {\n",
       "        vertical-align: top;\n",
       "    }\n",
       "\n",
       "    .dataframe thead th {\n",
       "        text-align: right;\n",
       "    }\n",
       "</style>\n",
       "<table border=\"1\" class=\"dataframe\">\n",
       "  <thead>\n",
       "    <tr style=\"text-align: right;\">\n",
       "      <th></th>\n",
       "      <th>year</th>\n",
       "    </tr>\n",
       "  </thead>\n",
       "  <tbody>\n",
       "    <tr>\n",
       "      <th>1990</th>\n",
       "      <td>631</td>\n",
       "    </tr>\n",
       "    <tr>\n",
       "      <th>1991</th>\n",
       "      <td>732</td>\n",
       "    </tr>\n",
       "    <tr>\n",
       "      <th>1992</th>\n",
       "      <td>1008</td>\n",
       "    </tr>\n",
       "    <tr>\n",
       "      <th>1993</th>\n",
       "      <td>1205</td>\n",
       "    </tr>\n",
       "    <tr>\n",
       "      <th>1994</th>\n",
       "      <td>1154</td>\n",
       "    </tr>\n",
       "  </tbody>\n",
       "</table>\n",
       "</div>"
      ],
      "text/plain": [
       "      year\n",
       "1990   631\n",
       "1991   732\n",
       "1992  1008\n",
       "1993  1205\n",
       "1994  1154"
      ]
     },
     "execution_count": 52,
     "metadata": {},
     "output_type": "execute_result"
    }
   ],
   "source": [
    "value_df.head()"
   ]
  },
  {
   "cell_type": "code",
   "execution_count": 53,
   "metadata": {},
   "outputs": [
    {
     "data": {
      "text/plain": [
       "'distribution.html'"
      ]
     },
     "execution_count": 53,
     "metadata": {},
     "output_type": "execute_result"
    }
   ],
   "source": [
    "pyo.plot([{\n",
    "    'x' : value_df.index,\n",
    "    'y' : value_df[col],\n",
    "    'name' : col\n",
    "  \n",
    "\n",
    "}for col in value_df.columns],filename='distribution.html')"
   ]
  },
  {
   "cell_type": "code",
   "execution_count": 54,
   "metadata": {},
   "outputs": [],
   "source": [
    "traces=[go.Scatter(\n",
    "    x=value_df.index,\n",
    "    y=value_df[col],\n",
    "    name= col\n",
    "\n",
    "\n",
    "\n",
    ")for col in value_df.columns]"
   ]
  },
  {
   "cell_type": "code",
   "execution_count": 55,
   "metadata": {},
   "outputs": [],
   "source": [
    "data=traces"
   ]
  },
  {
   "cell_type": "code",
   "execution_count": 56,
   "metadata": {},
   "outputs": [],
   "source": [
    "layout=go.Layout(\n",
    "title='Patent distribution over the year',\n",
    "xaxis=dict(title='Application years'),\n",
    "yaxis=dict(title='Number of patents'),\n",
    "hovermode='closest' # for bringing values of points together as x and y\n",
    ")"
   ]
  },
  {
   "cell_type": "code",
   "execution_count": 57,
   "metadata": {},
   "outputs": [],
   "source": [
    "figure1= go.Figure(data=data, layout=layout)"
   ]
  },
  {
   "cell_type": "code",
   "execution_count": 58,
   "metadata": {},
   "outputs": [
    {
     "data": {
      "text/plain": [
       "'distribution2.html'"
      ]
     },
     "execution_count": 58,
     "metadata": {},
     "output_type": "execute_result"
    }
   ],
   "source": [
    "pyo.plot(figure1,filename='distribution2.html')"
   ]
  },
  {
   "cell_type": "markdown",
   "metadata": {},
   "source": [
    "# 2)-After Modeling"
   ]
  },
  {
   "cell_type": "markdown",
   "metadata": {},
   "source": [
    "### 4a) Change in the number of patents "
   ]
  },
  {
   "cell_type": "code",
   "execution_count": 59,
   "metadata": {},
   "outputs": [],
   "source": [
    "data = pd.read_pickle('work_on_paper.pkl')"
   ]
  },
  {
   "cell_type": "code",
   "execution_count": 60,
   "metadata": {},
   "outputs": [
    {
     "data": {
      "text/html": [
       "<div>\n",
       "<style scoped>\n",
       "    .dataframe tbody tr th:only-of-type {\n",
       "        vertical-align: middle;\n",
       "    }\n",
       "\n",
       "    .dataframe tbody tr th {\n",
       "        vertical-align: top;\n",
       "    }\n",
       "\n",
       "    .dataframe thead th {\n",
       "        text-align: right;\n",
       "    }\n",
       "</style>\n",
       "<table border=\"1\" class=\"dataframe\">\n",
       "  <thead>\n",
       "    <tr style=\"text-align: right;\">\n",
       "      <th></th>\n",
       "      <th>Topic_Perc_Contrib</th>\n",
       "      <th>Keywords</th>\n",
       "      <th>Assignee</th>\n",
       "      <th>Year</th>\n",
       "      <th>Abstract</th>\n",
       "      <th>Topic</th>\n",
       "    </tr>\n",
       "  </thead>\n",
       "  <tbody>\n",
       "    <tr>\n",
       "      <th>0</th>\n",
       "      <td>0.8586</td>\n",
       "      <td>charge, battery, power, voltage, electric, mod...</td>\n",
       "      <td>luz electric fuel israel ltd</td>\n",
       "      <td>1990.0</td>\n",
       "      <td>An electrical energy system including an elect...</td>\n",
       "      <td>topic3</td>\n",
       "    </tr>\n",
       "    <tr>\n",
       "      <th>1</th>\n",
       "      <td>0.8034</td>\n",
       "      <td>charge, battery, power, voltage, electric, mod...</td>\n",
       "      <td>luz electric fuel israel ltd</td>\n",
       "      <td>1990.0</td>\n",
       "      <td>An electrical energy system including an elect...</td>\n",
       "      <td>topic3</td>\n",
       "    </tr>\n",
       "    <tr>\n",
       "      <th>2</th>\n",
       "      <td>0.3665</td>\n",
       "      <td>body, side, utility, end, model, support, part...</td>\n",
       "      <td>sumitomo electric industries ltd</td>\n",
       "      <td>1995.0</td>\n",
       "      <td>An object is to provide a particulate trap for...</td>\n",
       "      <td>topic6</td>\n",
       "    </tr>\n",
       "    <tr>\n",
       "      <th>3</th>\n",
       "      <td>0.5438</td>\n",
       "      <td>body, side, utility, end, model, support, part...</td>\n",
       "      <td>sumitomo electric ind ltd</td>\n",
       "      <td>1995.0</td>\n",
       "      <td>PURPOSE: To obtain a trap by which the leakage...</td>\n",
       "      <td>topic6</td>\n",
       "    </tr>\n",
       "    <tr>\n",
       "      <th>4</th>\n",
       "      <td>0.3044</td>\n",
       "      <td>body, side, utility, end, model, support, part...</td>\n",
       "      <td>sumitomo electric industries ltd</td>\n",
       "      <td>1995.0</td>\n",
       "      <td>A particulate trap for a diesel engine designe...</td>\n",
       "      <td>topic6</td>\n",
       "    </tr>\n",
       "  </tbody>\n",
       "</table>\n",
       "</div>"
      ],
      "text/plain": [
       "   Topic_Perc_Contrib                                           Keywords  \\\n",
       "0              0.8586  charge, battery, power, voltage, electric, mod...   \n",
       "1              0.8034  charge, battery, power, voltage, electric, mod...   \n",
       "2              0.3665  body, side, utility, end, model, support, part...   \n",
       "3              0.5438  body, side, utility, end, model, support, part...   \n",
       "4              0.3044  body, side, utility, end, model, support, part...   \n",
       "\n",
       "                           Assignee    Year  \\\n",
       "0      luz electric fuel israel ltd  1990.0   \n",
       "1      luz electric fuel israel ltd  1990.0   \n",
       "2  sumitomo electric industries ltd  1995.0   \n",
       "3         sumitomo electric ind ltd  1995.0   \n",
       "4  sumitomo electric industries ltd  1995.0   \n",
       "\n",
       "                                            Abstract   Topic  \n",
       "0  An electrical energy system including an elect...  topic3  \n",
       "1  An electrical energy system including an elect...  topic3  \n",
       "2  An object is to provide a particulate trap for...  topic6  \n",
       "3  PURPOSE: To obtain a trap by which the leakage...  topic6  \n",
       "4  A particulate trap for a diesel engine designe...  topic6  "
      ]
     },
     "execution_count": 60,
     "metadata": {},
     "output_type": "execute_result"
    }
   ],
   "source": [
    "data.head()"
   ]
  },
  {
   "cell_type": "code",
   "execution_count": 61,
   "metadata": {},
   "outputs": [
    {
     "data": {
      "text/plain": [
       "topic4    16775\n",
       "topic3    14176\n",
       "topic6     9717\n",
       "topic2     9127\n",
       "topic8     8172\n",
       "topic5     5822\n",
       "topic7     3783\n",
       "topic1     1190\n",
       "Name: Topic, dtype: int64"
      ]
     },
     "execution_count": 61,
     "metadata": {},
     "output_type": "execute_result"
    }
   ],
   "source": [
    "data.Topic.value_counts()"
   ]
  },
  {
   "cell_type": "code",
   "execution_count": 63,
   "metadata": {},
   "outputs": [
    {
     "data": {
      "text/plain": [
       "<matplotlib.axes._subplots.AxesSubplot at 0x29ccf693ef0>"
      ]
     },
     "execution_count": 63,
     "metadata": {},
     "output_type": "execute_result"
    },
    {
     "data": {
      "image/png": "[encoded data removed]",
      "text/plain": [
       "<matplotlib.figure.Figure at 0x29ca76c57f0>"
      ]
     },
     "metadata": {
      "needs_background": "light"
     },
     "output_type": "display_data"
    }
   ],
   "source": [
    "d=data\n",
    "d=d.groupby([\"Year\",\"Topic\"]).size()\n",
    "d=d.unstack('Topic')\n",
    "d.plot()"
   ]
  },
  {
   "cell_type": "markdown",
   "metadata": {},
   "source": [
    "# Using plotly"
   ]
  },
  {
   "cell_type": "code",
   "execution_count": 64,
   "metadata": {},
   "outputs": [],
   "source": [
    "d=data"
   ]
  },
  {
   "cell_type": "code",
   "execution_count": 66,
   "metadata": {},
   "outputs": [],
   "source": [
    "d=d.groupby([\"Year\",\"Topic\"]).size()"
   ]
  },
  {
   "cell_type": "code",
   "execution_count": 67,
   "metadata": {},
   "outputs": [
    {
     "data": {
      "text/plain": [
       "Year    Topic \n",
       "1990.0  topic1     10\n",
       "        topic2     91\n",
       "        topic3     67\n",
       "        topic4    191\n",
       "        topic5     72\n",
       "dtype: int64"
      ]
     },
     "execution_count": 67,
     "metadata": {},
     "output_type": "execute_result"
    }
   ],
   "source": [
    "d.head()"
   ]
  },
  {
   "cell_type": "code",
   "execution_count": 68,
   "metadata": {},
   "outputs": [],
   "source": [
    "df_patent=d.unstack('Topic')"
   ]
  },
  {
   "cell_type": "code",
   "execution_count": 69,
   "metadata": {},
   "outputs": [
    {
     "data": {
      "text/plain": [
       "pandas.core.frame.DataFrame"
      ]
     },
     "execution_count": 69,
     "metadata": {},
     "output_type": "execute_result"
    }
   ],
   "source": [
    "type(df_patent)"
   ]
  },
  {
   "cell_type": "code",
   "execution_count": 70,
   "metadata": {},
   "outputs": [
    {
     "data": {
      "text/plain": [
       "<matplotlib.axes._subplots.AxesSubplot at 0x29ccf713400>"
      ]
     },
     "execution_count": 70,
     "metadata": {},
     "output_type": "execute_result"
    },
    {
     "data": {
      "image/png": "[encoded data removed]",
      "text/plain": [
       "<matplotlib.figure.Figure at 0x29ce2d85400>"
      ]
     },
     "metadata": {
      "needs_background": "light"
     },
     "output_type": "display_data"
    }
   ],
   "source": [
    "df_patent.plot()"
   ]
  },
  {
   "cell_type": "code",
   "execution_count": 71,
   "metadata": {},
   "outputs": [],
   "source": [
    "df_patent2=df_patent.T"
   ]
  },
  {
   "cell_type": "code",
   "execution_count": 72,
   "metadata": {},
   "outputs": [
    {
     "data": {
      "text/html": [
       "<div>\n",
       "<style scoped>\n",
       "    .dataframe tbody tr th:only-of-type {\n",
       "        vertical-align: middle;\n",
       "    }\n",
       "\n",
       "    .dataframe tbody tr th {\n",
       "        vertical-align: top;\n",
       "    }\n",
       "\n",
       "    .dataframe thead th {\n",
       "        text-align: right;\n",
       "    }\n",
       "</style>\n",
       "<table border=\"1\" class=\"dataframe\">\n",
       "  <thead>\n",
       "    <tr style=\"text-align: right;\">\n",
       "      <th>Year</th>\n",
       "      <th>1990.0</th>\n",
       "      <th>1991.0</th>\n",
       "      <th>1992.0</th>\n",
       "      <th>1993.0</th>\n",
       "      <th>1994.0</th>\n",
       "      <th>1995.0</th>\n",
       "      <th>1996.0</th>\n",
       "      <th>1997.0</th>\n",
       "      <th>1998.0</th>\n",
       "      <th>1999.0</th>\n",
       "      <th>...</th>\n",
       "      <th>2008.0</th>\n",
       "      <th>2009.0</th>\n",
       "      <th>2010.0</th>\n",
       "      <th>2011.0</th>\n",
       "      <th>2012.0</th>\n",
       "      <th>2013.0</th>\n",
       "      <th>2014.0</th>\n",
       "      <th>2015.0</th>\n",
       "      <th>2016.0</th>\n",
       "      <th>2017.0</th>\n",
       "    </tr>\n",
       "    <tr>\n",
       "      <th>Topic</th>\n",
       "      <th></th>\n",
       "      <th></th>\n",
       "      <th></th>\n",
       "      <th></th>\n",
       "      <th></th>\n",
       "      <th></th>\n",
       "      <th></th>\n",
       "      <th></th>\n",
       "      <th></th>\n",
       "      <th></th>\n",
       "      <th></th>\n",
       "      <th></th>\n",
       "      <th></th>\n",
       "      <th></th>\n",
       "      <th></th>\n",
       "      <th></th>\n",
       "      <th></th>\n",
       "      <th></th>\n",
       "      <th></th>\n",
       "      <th></th>\n",
       "      <th></th>\n",
       "    </tr>\n",
       "  </thead>\n",
       "  <tbody>\n",
       "    <tr>\n",
       "      <th>topic1</th>\n",
       "      <td>10</td>\n",
       "      <td>8</td>\n",
       "      <td>5</td>\n",
       "      <td>4</td>\n",
       "      <td>13</td>\n",
       "      <td>7</td>\n",
       "      <td>11</td>\n",
       "      <td>15</td>\n",
       "      <td>20</td>\n",
       "      <td>42</td>\n",
       "      <td>...</td>\n",
       "      <td>60</td>\n",
       "      <td>48</td>\n",
       "      <td>81</td>\n",
       "      <td>64</td>\n",
       "      <td>68</td>\n",
       "      <td>22</td>\n",
       "      <td>45</td>\n",
       "      <td>29</td>\n",
       "      <td>14</td>\n",
       "      <td>5</td>\n",
       "    </tr>\n",
       "    <tr>\n",
       "      <th>topic2</th>\n",
       "      <td>91</td>\n",
       "      <td>109</td>\n",
       "      <td>178</td>\n",
       "      <td>227</td>\n",
       "      <td>214</td>\n",
       "      <td>196</td>\n",
       "      <td>249</td>\n",
       "      <td>234</td>\n",
       "      <td>257</td>\n",
       "      <td>297</td>\n",
       "      <td>...</td>\n",
       "      <td>500</td>\n",
       "      <td>421</td>\n",
       "      <td>508</td>\n",
       "      <td>544</td>\n",
       "      <td>545</td>\n",
       "      <td>397</td>\n",
       "      <td>328</td>\n",
       "      <td>263</td>\n",
       "      <td>137</td>\n",
       "      <td>47</td>\n",
       "    </tr>\n",
       "    <tr>\n",
       "      <th>topic3</th>\n",
       "      <td>67</td>\n",
       "      <td>104</td>\n",
       "      <td>143</td>\n",
       "      <td>175</td>\n",
       "      <td>179</td>\n",
       "      <td>180</td>\n",
       "      <td>172</td>\n",
       "      <td>227</td>\n",
       "      <td>158</td>\n",
       "      <td>221</td>\n",
       "      <td>...</td>\n",
       "      <td>734</td>\n",
       "      <td>1052</td>\n",
       "      <td>1248</td>\n",
       "      <td>1729</td>\n",
       "      <td>1442</td>\n",
       "      <td>1204</td>\n",
       "      <td>934</td>\n",
       "      <td>769</td>\n",
       "      <td>582</td>\n",
       "      <td>115</td>\n",
       "    </tr>\n",
       "    <tr>\n",
       "      <th>topic4</th>\n",
       "      <td>191</td>\n",
       "      <td>222</td>\n",
       "      <td>233</td>\n",
       "      <td>284</td>\n",
       "      <td>292</td>\n",
       "      <td>345</td>\n",
       "      <td>442</td>\n",
       "      <td>365</td>\n",
       "      <td>469</td>\n",
       "      <td>583</td>\n",
       "      <td>...</td>\n",
       "      <td>698</td>\n",
       "      <td>742</td>\n",
       "      <td>1174</td>\n",
       "      <td>1369</td>\n",
       "      <td>1131</td>\n",
       "      <td>1125</td>\n",
       "      <td>897</td>\n",
       "      <td>700</td>\n",
       "      <td>236</td>\n",
       "      <td>7</td>\n",
       "    </tr>\n",
       "    <tr>\n",
       "      <th>topic5</th>\n",
       "      <td>72</td>\n",
       "      <td>66</td>\n",
       "      <td>101</td>\n",
       "      <td>131</td>\n",
       "      <td>132</td>\n",
       "      <td>116</td>\n",
       "      <td>179</td>\n",
       "      <td>239</td>\n",
       "      <td>257</td>\n",
       "      <td>292</td>\n",
       "      <td>...</td>\n",
       "      <td>246</td>\n",
       "      <td>245</td>\n",
       "      <td>360</td>\n",
       "      <td>315</td>\n",
       "      <td>271</td>\n",
       "      <td>223</td>\n",
       "      <td>206</td>\n",
       "      <td>93</td>\n",
       "      <td>48</td>\n",
       "      <td>3</td>\n",
       "    </tr>\n",
       "    <tr>\n",
       "      <th>topic6</th>\n",
       "      <td>117</td>\n",
       "      <td>119</td>\n",
       "      <td>188</td>\n",
       "      <td>232</td>\n",
       "      <td>199</td>\n",
       "      <td>262</td>\n",
       "      <td>256</td>\n",
       "      <td>265</td>\n",
       "      <td>251</td>\n",
       "      <td>265</td>\n",
       "      <td>...</td>\n",
       "      <td>434</td>\n",
       "      <td>548</td>\n",
       "      <td>597</td>\n",
       "      <td>822</td>\n",
       "      <td>758</td>\n",
       "      <td>526</td>\n",
       "      <td>396</td>\n",
       "      <td>387</td>\n",
       "      <td>380</td>\n",
       "      <td>129</td>\n",
       "    </tr>\n",
       "    <tr>\n",
       "      <th>topic7</th>\n",
       "      <td>50</td>\n",
       "      <td>76</td>\n",
       "      <td>100</td>\n",
       "      <td>95</td>\n",
       "      <td>59</td>\n",
       "      <td>51</td>\n",
       "      <td>77</td>\n",
       "      <td>84</td>\n",
       "      <td>122</td>\n",
       "      <td>122</td>\n",
       "      <td>...</td>\n",
       "      <td>216</td>\n",
       "      <td>152</td>\n",
       "      <td>173</td>\n",
       "      <td>200</td>\n",
       "      <td>191</td>\n",
       "      <td>106</td>\n",
       "      <td>91</td>\n",
       "      <td>45</td>\n",
       "      <td>17</td>\n",
       "      <td>1</td>\n",
       "    </tr>\n",
       "    <tr>\n",
       "      <th>topic8</th>\n",
       "      <td>33</td>\n",
       "      <td>28</td>\n",
       "      <td>60</td>\n",
       "      <td>57</td>\n",
       "      <td>66</td>\n",
       "      <td>128</td>\n",
       "      <td>97</td>\n",
       "      <td>152</td>\n",
       "      <td>192</td>\n",
       "      <td>181</td>\n",
       "      <td>...</td>\n",
       "      <td>371</td>\n",
       "      <td>546</td>\n",
       "      <td>518</td>\n",
       "      <td>694</td>\n",
       "      <td>836</td>\n",
       "      <td>644</td>\n",
       "      <td>523</td>\n",
       "      <td>400</td>\n",
       "      <td>154</td>\n",
       "      <td>52</td>\n",
       "    </tr>\n",
       "  </tbody>\n",
       "</table>\n",
       "<p>8 rows × 28 columns</p>\n",
       "</div>"
      ],
      "text/plain": [
       "Year    1990.0  1991.0  1992.0  1993.0  1994.0  1995.0  1996.0  1997.0  \\\n",
       "Topic                                                                    \n",
       "topic1      10       8       5       4      13       7      11      15   \n",
       "topic2      91     109     178     227     214     196     249     234   \n",
       "topic3      67     104     143     175     179     180     172     227   \n",
       "topic4     191     222     233     284     292     345     442     365   \n",
       "topic5      72      66     101     131     132     116     179     239   \n",
       "topic6     117     119     188     232     199     262     256     265   \n",
       "topic7      50      76     100      95      59      51      77      84   \n",
       "topic8      33      28      60      57      66     128      97     152   \n",
       "\n",
       "Year    1998.0  1999.0   ...    2008.0  2009.0  2010.0  2011.0  2012.0  \\\n",
       "Topic                    ...                                             \n",
       "topic1      20      42   ...        60      48      81      64      68   \n",
       "topic2     257     297   ...       500     421     508     544     545   \n",
       "topic3     158     221   ...       734    1052    1248    1729    1442   \n",
       "topic4     469     583   ...       698     742    1174    1369    1131   \n",
       "topic5     257     292   ...       246     245     360     315     271   \n",
       "topic6     251     265   ...       434     548     597     822     758   \n",
       "topic7     122     122   ...       216     152     173     200     191   \n",
       "topic8     192     181   ...       371     546     518     694     836   \n",
       "\n",
       "Year    2013.0  2014.0  2015.0  2016.0  2017.0  \n",
       "Topic                                           \n",
       "topic1      22      45      29      14       5  \n",
       "topic2     397     328     263     137      47  \n",
       "topic3    1204     934     769     582     115  \n",
       "topic4    1125     897     700     236       7  \n",
       "topic5     223     206      93      48       3  \n",
       "topic6     526     396     387     380     129  \n",
       "topic7     106      91      45      17       1  \n",
       "topic8     644     523     400     154      52  \n",
       "\n",
       "[8 rows x 28 columns]"
      ]
     },
     "execution_count": 72,
     "metadata": {},
     "output_type": "execute_result"
    }
   ],
   "source": [
    "df_patent2"
   ]
  },
  {
   "cell_type": "code",
   "execution_count": 73,
   "metadata": {},
   "outputs": [],
   "source": [
    "traces=[go.Scatter(\n",
    "    x=df_patent2.columns,\n",
    "    y=df_patent2.loc[row_name],\n",
    "    mode='lines+markers',\n",
    "    name=row_name\n",
    "\n",
    "\n",
    "\n",
    ")for row_name in df_patent2.index]"
   ]
  },
  {
   "cell_type": "code",
   "execution_count": 74,
   "metadata": {},
   "outputs": [],
   "source": [
    "data=traces"
   ]
  },
  {
   "cell_type": "code",
   "execution_count": 75,
   "metadata": {},
   "outputs": [],
   "source": [
    "layout=go.Layout(\n",
    "title='Change in the number of patents over filling years',\n",
    "xaxis=dict(title='Number of filling years'),\n",
    "yaxis=dict(title='Number of patents'),\n",
    "hovermode='closest' # for bringing values of points together as x and y\n",
    ")"
   ]
  },
  {
   "cell_type": "code",
   "execution_count": 76,
   "metadata": {},
   "outputs": [],
   "source": [
    "#layout=go.Layout(title='Change in the number of patents over filling years')"
   ]
  },
  {
   "cell_type": "code",
   "execution_count": 77,
   "metadata": {},
   "outputs": [],
   "source": [
    "figure1= go.Figure(data=data, layout=layout)"
   ]
  },
  {
   "cell_type": "code",
   "execution_count": 78,
   "metadata": {},
   "outputs": [
    {
     "data": {
      "text/plain": [
       "'Change in the number of patents.html'"
      ]
     },
     "execution_count": 78,
     "metadata": {},
     "output_type": "execute_result"
    }
   ],
   "source": [
    "pyo.plot(figure1,filename='Change in the number of patents.html')"
   ]
  },
  {
   "cell_type": "markdown",
   "metadata": {},
   "source": [
    "**Alternative way**"
   ]
  },
  {
   "cell_type": "code",
   "execution_count": 79,
   "metadata": {},
   "outputs": [],
   "source": [
    "data = pd.read_pickle('work_on_paper.pkl')"
   ]
  },
  {
   "cell_type": "code",
   "execution_count": 81,
   "metadata": {},
   "outputs": [],
   "source": [
    "f=data.groupby(data.Year).Topic.value_counts()"
   ]
  },
  {
   "cell_type": "code",
   "execution_count": 82,
   "metadata": {},
   "outputs": [],
   "source": [
    "f=f.unstack('Topic')"
   ]
  },
  {
   "cell_type": "code",
   "execution_count": 83,
   "metadata": {},
   "outputs": [
    {
     "data": {
      "image/png": "[encoded data removed]",
      "text/plain": [
       "<matplotlib.figure.Figure at 0x29ccfadb208>"
      ]
     },
     "metadata": {
      "needs_background": "light"
     },
     "output_type": "display_data"
    }
   ],
   "source": [
    "f.plot()\n",
    "plt.xlabel('Filling years')\n",
    "plt.ylabel('patent Share')\n",
    "plt.title('Change in the number of patents over filling years')\n",
    "plt.legend()\n",
    "plt.show()"
   ]
  },
  {
   "cell_type": "markdown",
   "metadata": {},
   "source": [
    "**result of figure 4a**"
   ]
  },
  {
   "cell_type": "markdown",
   "metadata": {},
   "source": [
    "### 4(b) Change in the share of patents over filing year"
   ]
  },
  {
   "cell_type": "code",
   "execution_count": 84,
   "metadata": {},
   "outputs": [
    {
     "data": {
      "text/plain": [
       "topic4    0.243957\n",
       "topic3    0.206160\n",
       "topic6    0.141314\n",
       "topic2    0.132733\n",
       "topic8    0.118845\n",
       "topic5    0.084669\n",
       "topic7    0.055016\n",
       "topic1    0.017306\n",
       "Name: Topic, dtype: float64"
      ]
     },
     "execution_count": 84,
     "metadata": {},
     "output_type": "execute_result"
    }
   ],
   "source": [
    "data.Topic.value_counts(normalize=True)"
   ]
  },
  {
   "cell_type": "code",
   "execution_count": 86,
   "metadata": {},
   "outputs": [
    {
     "data": {
      "text/plain": [
       "Year    Topic \n",
       "1990.0  topic4    0.302694\n",
       "        topic6    0.185420\n",
       "        topic2    0.144216\n",
       "        topic5    0.114105\n",
       "        topic3    0.106181\n",
       "        topic7    0.079239\n",
       "        topic8    0.052298\n",
       "        topic1    0.015848\n",
       "1991.0  topic4    0.303279\n",
       "        topic6    0.162568\n",
       "        topic2    0.148907\n",
       "        topic3    0.142077\n",
       "        topic7    0.103825\n",
       "        topic5    0.090164\n",
       "        topic8    0.038251\n",
       "        topic1    0.010929\n",
       "1992.0  topic4    0.231151\n",
       "        topic6    0.186508\n",
       "        topic2    0.176587\n",
       "        topic3    0.141865\n",
       "        topic5    0.100198\n",
       "        topic7    0.099206\n",
       "        topic8    0.059524\n",
       "        topic1    0.004960\n",
       "1993.0  topic4    0.235685\n",
       "        topic6    0.192531\n",
       "        topic2    0.188382\n",
       "        topic3    0.145228\n",
       "        topic5    0.108714\n",
       "        topic7    0.078838\n",
       "                    ...   \n",
       "2014.0  topic8    0.152924\n",
       "        topic6    0.115789\n",
       "        topic2    0.095906\n",
       "        topic5    0.060234\n",
       "        topic7    0.026608\n",
       "        topic1    0.013158\n",
       "2015.0  topic3    0.286299\n",
       "        topic4    0.260611\n",
       "        topic8    0.148920\n",
       "        topic6    0.144080\n",
       "        topic2    0.097915\n",
       "        topic5    0.034624\n",
       "        topic7    0.016754\n",
       "        topic1    0.010797\n",
       "2016.0  topic3    0.371173\n",
       "        topic6    0.242347\n",
       "        topic4    0.150510\n",
       "        topic8    0.098214\n",
       "        topic2    0.087372\n",
       "        topic5    0.030612\n",
       "        topic7    0.010842\n",
       "        topic1    0.008929\n",
       "2017.0  topic6    0.359331\n",
       "        topic3    0.320334\n",
       "        topic8    0.144847\n",
       "        topic2    0.130919\n",
       "        topic4    0.019499\n",
       "        topic1    0.013928\n",
       "        topic5    0.008357\n",
       "        topic7    0.002786\n",
       "Name: Topic, Length: 224, dtype: float64"
      ]
     },
     "execution_count": 86,
     "metadata": {},
     "output_type": "execute_result"
    }
   ],
   "source": [
    "data.groupby(data.Year).Topic.value_counts(normalize=True)"
   ]
  },
  {
   "cell_type": "code",
   "execution_count": 87,
   "metadata": {},
   "outputs": [],
   "source": [
    "c=data.groupby(data.Year).Topic.value_counts(normalize=True)"
   ]
  },
  {
   "cell_type": "code",
   "execution_count": 88,
   "metadata": {},
   "outputs": [],
   "source": [
    "c=c.unstack('Topic')"
   ]
  },
  {
   "cell_type": "code",
   "execution_count": 89,
   "metadata": {},
   "outputs": [
    {
     "data": {
      "text/html": [
       "<div>\n",
       "<style scoped>\n",
       "    .dataframe tbody tr th:only-of-type {\n",
       "        vertical-align: middle;\n",
       "    }\n",
       "\n",
       "    .dataframe tbody tr th {\n",
       "        vertical-align: top;\n",
       "    }\n",
       "\n",
       "    .dataframe thead th {\n",
       "        text-align: right;\n",
       "    }\n",
       "</style>\n",
       "<table border=\"1\" class=\"dataframe\">\n",
       "  <thead>\n",
       "    <tr style=\"text-align: right;\">\n",
       "      <th>Topic</th>\n",
       "      <th>topic1</th>\n",
       "      <th>topic2</th>\n",
       "      <th>topic3</th>\n",
       "      <th>topic4</th>\n",
       "      <th>topic5</th>\n",
       "      <th>topic6</th>\n",
       "      <th>topic7</th>\n",
       "      <th>topic8</th>\n",
       "    </tr>\n",
       "    <tr>\n",
       "      <th>Year</th>\n",
       "      <th></th>\n",
       "      <th></th>\n",
       "      <th></th>\n",
       "      <th></th>\n",
       "      <th></th>\n",
       "      <th></th>\n",
       "      <th></th>\n",
       "      <th></th>\n",
       "    </tr>\n",
       "  </thead>\n",
       "  <tbody>\n",
       "    <tr>\n",
       "      <th>1990.0</th>\n",
       "      <td>0.015848</td>\n",
       "      <td>0.144216</td>\n",
       "      <td>0.106181</td>\n",
       "      <td>0.302694</td>\n",
       "      <td>0.114105</td>\n",
       "      <td>0.185420</td>\n",
       "      <td>0.079239</td>\n",
       "      <td>0.052298</td>\n",
       "    </tr>\n",
       "    <tr>\n",
       "      <th>1991.0</th>\n",
       "      <td>0.010929</td>\n",
       "      <td>0.148907</td>\n",
       "      <td>0.142077</td>\n",
       "      <td>0.303279</td>\n",
       "      <td>0.090164</td>\n",
       "      <td>0.162568</td>\n",
       "      <td>0.103825</td>\n",
       "      <td>0.038251</td>\n",
       "    </tr>\n",
       "    <tr>\n",
       "      <th>1992.0</th>\n",
       "      <td>0.004960</td>\n",
       "      <td>0.176587</td>\n",
       "      <td>0.141865</td>\n",
       "      <td>0.231151</td>\n",
       "      <td>0.100198</td>\n",
       "      <td>0.186508</td>\n",
       "      <td>0.099206</td>\n",
       "      <td>0.059524</td>\n",
       "    </tr>\n",
       "    <tr>\n",
       "      <th>1993.0</th>\n",
       "      <td>0.003320</td>\n",
       "      <td>0.188382</td>\n",
       "      <td>0.145228</td>\n",
       "      <td>0.235685</td>\n",
       "      <td>0.108714</td>\n",
       "      <td>0.192531</td>\n",
       "      <td>0.078838</td>\n",
       "      <td>0.047303</td>\n",
       "    </tr>\n",
       "    <tr>\n",
       "      <th>1994.0</th>\n",
       "      <td>0.011265</td>\n",
       "      <td>0.185442</td>\n",
       "      <td>0.155113</td>\n",
       "      <td>0.253033</td>\n",
       "      <td>0.114385</td>\n",
       "      <td>0.172444</td>\n",
       "      <td>0.051127</td>\n",
       "      <td>0.057192</td>\n",
       "    </tr>\n",
       "    <tr>\n",
       "      <th>1995.0</th>\n",
       "      <td>0.005447</td>\n",
       "      <td>0.152529</td>\n",
       "      <td>0.140078</td>\n",
       "      <td>0.268482</td>\n",
       "      <td>0.090272</td>\n",
       "      <td>0.203891</td>\n",
       "      <td>0.039689</td>\n",
       "      <td>0.099611</td>\n",
       "    </tr>\n",
       "    <tr>\n",
       "      <th>1996.0</th>\n",
       "      <td>0.007417</td>\n",
       "      <td>0.167903</td>\n",
       "      <td>0.115981</td>\n",
       "      <td>0.298045</td>\n",
       "      <td>0.120701</td>\n",
       "      <td>0.172623</td>\n",
       "      <td>0.051922</td>\n",
       "      <td>0.065408</td>\n",
       "    </tr>\n",
       "    <tr>\n",
       "      <th>1997.0</th>\n",
       "      <td>0.009488</td>\n",
       "      <td>0.148008</td>\n",
       "      <td>0.143580</td>\n",
       "      <td>0.230867</td>\n",
       "      <td>0.151170</td>\n",
       "      <td>0.167615</td>\n",
       "      <td>0.053131</td>\n",
       "      <td>0.096142</td>\n",
       "    </tr>\n",
       "    <tr>\n",
       "      <th>1998.0</th>\n",
       "      <td>0.011587</td>\n",
       "      <td>0.148899</td>\n",
       "      <td>0.091541</td>\n",
       "      <td>0.271727</td>\n",
       "      <td>0.148899</td>\n",
       "      <td>0.145423</td>\n",
       "      <td>0.070684</td>\n",
       "      <td>0.111240</td>\n",
       "    </tr>\n",
       "    <tr>\n",
       "      <th>1999.0</th>\n",
       "      <td>0.020969</td>\n",
       "      <td>0.148278</td>\n",
       "      <td>0.110334</td>\n",
       "      <td>0.291063</td>\n",
       "      <td>0.145781</td>\n",
       "      <td>0.132302</td>\n",
       "      <td>0.060909</td>\n",
       "      <td>0.090364</td>\n",
       "    </tr>\n",
       "    <tr>\n",
       "      <th>2000.0</th>\n",
       "      <td>0.020353</td>\n",
       "      <td>0.174129</td>\n",
       "      <td>0.104930</td>\n",
       "      <td>0.245138</td>\n",
       "      <td>0.145183</td>\n",
       "      <td>0.109905</td>\n",
       "      <td>0.093171</td>\n",
       "      <td>0.107191</td>\n",
       "    </tr>\n",
       "    <tr>\n",
       "      <th>2001.0</th>\n",
       "      <td>0.029996</td>\n",
       "      <td>0.158800</td>\n",
       "      <td>0.118218</td>\n",
       "      <td>0.250551</td>\n",
       "      <td>0.119541</td>\n",
       "      <td>0.120423</td>\n",
       "      <td>0.084693</td>\n",
       "      <td>0.117777</td>\n",
       "    </tr>\n",
       "    <tr>\n",
       "      <th>2002.0</th>\n",
       "      <td>0.048671</td>\n",
       "      <td>0.168094</td>\n",
       "      <td>0.133393</td>\n",
       "      <td>0.219018</td>\n",
       "      <td>0.096440</td>\n",
       "      <td>0.136548</td>\n",
       "      <td>0.097792</td>\n",
       "      <td>0.100045</td>\n",
       "    </tr>\n",
       "    <tr>\n",
       "      <th>2003.0</th>\n",
       "      <td>0.036610</td>\n",
       "      <td>0.176059</td>\n",
       "      <td>0.113945</td>\n",
       "      <td>0.247223</td>\n",
       "      <td>0.117647</td>\n",
       "      <td>0.111888</td>\n",
       "      <td>0.094611</td>\n",
       "      <td>0.102016</td>\n",
       "    </tr>\n",
       "    <tr>\n",
       "      <th>2004.0</th>\n",
       "      <td>0.030736</td>\n",
       "      <td>0.164502</td>\n",
       "      <td>0.106926</td>\n",
       "      <td>0.252381</td>\n",
       "      <td>0.106926</td>\n",
       "      <td>0.137662</td>\n",
       "      <td>0.093506</td>\n",
       "      <td>0.107359</td>\n",
       "    </tr>\n",
       "    <tr>\n",
       "      <th>2005.0</th>\n",
       "      <td>0.037864</td>\n",
       "      <td>0.171526</td>\n",
       "      <td>0.114351</td>\n",
       "      <td>0.249527</td>\n",
       "      <td>0.108671</td>\n",
       "      <td>0.130632</td>\n",
       "      <td>0.087467</td>\n",
       "      <td>0.099962</td>\n",
       "    </tr>\n",
       "    <tr>\n",
       "      <th>2006.0</th>\n",
       "      <td>0.023728</td>\n",
       "      <td>0.147513</td>\n",
       "      <td>0.144940</td>\n",
       "      <td>0.250143</td>\n",
       "      <td>0.098056</td>\n",
       "      <td>0.115209</td>\n",
       "      <td>0.075186</td>\n",
       "      <td>0.145226</td>\n",
       "    </tr>\n",
       "    <tr>\n",
       "      <th>2007.0</th>\n",
       "      <td>0.015970</td>\n",
       "      <td>0.142276</td>\n",
       "      <td>0.177700</td>\n",
       "      <td>0.277584</td>\n",
       "      <td>0.074913</td>\n",
       "      <td>0.124274</td>\n",
       "      <td>0.058072</td>\n",
       "      <td>0.129210</td>\n",
       "    </tr>\n",
       "    <tr>\n",
       "      <th>2008.0</th>\n",
       "      <td>0.018411</td>\n",
       "      <td>0.153421</td>\n",
       "      <td>0.225222</td>\n",
       "      <td>0.214176</td>\n",
       "      <td>0.075483</td>\n",
       "      <td>0.133170</td>\n",
       "      <td>0.066278</td>\n",
       "      <td>0.113839</td>\n",
       "    </tr>\n",
       "    <tr>\n",
       "      <th>2009.0</th>\n",
       "      <td>0.012786</td>\n",
       "      <td>0.112147</td>\n",
       "      <td>0.280234</td>\n",
       "      <td>0.197656</td>\n",
       "      <td>0.065264</td>\n",
       "      <td>0.145978</td>\n",
       "      <td>0.040490</td>\n",
       "      <td>0.145445</td>\n",
       "    </tr>\n",
       "    <tr>\n",
       "      <th>2010.0</th>\n",
       "      <td>0.017386</td>\n",
       "      <td>0.109036</td>\n",
       "      <td>0.267869</td>\n",
       "      <td>0.251985</td>\n",
       "      <td>0.077270</td>\n",
       "      <td>0.128139</td>\n",
       "      <td>0.037132</td>\n",
       "      <td>0.111183</td>\n",
       "    </tr>\n",
       "    <tr>\n",
       "      <th>2011.0</th>\n",
       "      <td>0.011156</td>\n",
       "      <td>0.094823</td>\n",
       "      <td>0.301377</td>\n",
       "      <td>0.238626</td>\n",
       "      <td>0.054907</td>\n",
       "      <td>0.143280</td>\n",
       "      <td>0.034861</td>\n",
       "      <td>0.120969</td>\n",
       "    </tr>\n",
       "    <tr>\n",
       "      <th>2012.0</th>\n",
       "      <td>0.012972</td>\n",
       "      <td>0.103968</td>\n",
       "      <td>0.275086</td>\n",
       "      <td>0.215757</td>\n",
       "      <td>0.051698</td>\n",
       "      <td>0.144601</td>\n",
       "      <td>0.036436</td>\n",
       "      <td>0.159481</td>\n",
       "    </tr>\n",
       "    <tr>\n",
       "      <th>2013.0</th>\n",
       "      <td>0.005180</td>\n",
       "      <td>0.093478</td>\n",
       "      <td>0.283494</td>\n",
       "      <td>0.264893</td>\n",
       "      <td>0.052508</td>\n",
       "      <td>0.123852</td>\n",
       "      <td>0.024959</td>\n",
       "      <td>0.151636</td>\n",
       "    </tr>\n",
       "    <tr>\n",
       "      <th>2014.0</th>\n",
       "      <td>0.013158</td>\n",
       "      <td>0.095906</td>\n",
       "      <td>0.273099</td>\n",
       "      <td>0.262281</td>\n",
       "      <td>0.060234</td>\n",
       "      <td>0.115789</td>\n",
       "      <td>0.026608</td>\n",
       "      <td>0.152924</td>\n",
       "    </tr>\n",
       "    <tr>\n",
       "      <th>2015.0</th>\n",
       "      <td>0.010797</td>\n",
       "      <td>0.097915</td>\n",
       "      <td>0.286299</td>\n",
       "      <td>0.260611</td>\n",
       "      <td>0.034624</td>\n",
       "      <td>0.144080</td>\n",
       "      <td>0.016754</td>\n",
       "      <td>0.148920</td>\n",
       "    </tr>\n",
       "    <tr>\n",
       "      <th>2016.0</th>\n",
       "      <td>0.008929</td>\n",
       "      <td>0.087372</td>\n",
       "      <td>0.371173</td>\n",
       "      <td>0.150510</td>\n",
       "      <td>0.030612</td>\n",
       "      <td>0.242347</td>\n",
       "      <td>0.010842</td>\n",
       "      <td>0.098214</td>\n",
       "    </tr>\n",
       "    <tr>\n",
       "      <th>2017.0</th>\n",
       "      <td>0.013928</td>\n",
       "      <td>0.130919</td>\n",
       "      <td>0.320334</td>\n",
       "      <td>0.019499</td>\n",
       "      <td>0.008357</td>\n",
       "      <td>0.359331</td>\n",
       "      <td>0.002786</td>\n",
       "      <td>0.144847</td>\n",
       "    </tr>\n",
       "  </tbody>\n",
       "</table>\n",
       "</div>"
      ],
      "text/plain": [
       "Topic     topic1    topic2    topic3    topic4    topic5    topic6    topic7  \\\n",
       "Year                                                                           \n",
       "1990.0  0.015848  0.144216  0.106181  0.302694  0.114105  0.185420  0.079239   \n",
       "1991.0  0.010929  0.148907  0.142077  0.303279  0.090164  0.162568  0.103825   \n",
       "1992.0  0.004960  0.176587  0.141865  0.231151  0.100198  0.186508  0.099206   \n",
       "1993.0  0.003320  0.188382  0.145228  0.235685  0.108714  0.192531  0.078838   \n",
       "1994.0  0.011265  0.185442  0.155113  0.253033  0.114385  0.172444  0.051127   \n",
       "1995.0  0.005447  0.152529  0.140078  0.268482  0.090272  0.203891  0.039689   \n",
       "1996.0  0.007417  0.167903  0.115981  0.298045  0.120701  0.172623  0.051922   \n",
       "1997.0  0.009488  0.148008  0.143580  0.230867  0.151170  0.167615  0.053131   \n",
       "1998.0  0.011587  0.148899  0.091541  0.271727  0.148899  0.145423  0.070684   \n",
       "1999.0  0.020969  0.148278  0.110334  0.291063  0.145781  0.132302  0.060909   \n",
       "2000.0  0.020353  0.174129  0.104930  0.245138  0.145183  0.109905  0.093171   \n",
       "2001.0  0.029996  0.158800  0.118218  0.250551  0.119541  0.120423  0.084693   \n",
       "2002.0  0.048671  0.168094  0.133393  0.219018  0.096440  0.136548  0.097792   \n",
       "2003.0  0.036610  0.176059  0.113945  0.247223  0.117647  0.111888  0.094611   \n",
       "2004.0  0.030736  0.164502  0.106926  0.252381  0.106926  0.137662  0.093506   \n",
       "2005.0  0.037864  0.171526  0.114351  0.249527  0.108671  0.130632  0.087467   \n",
       "2006.0  0.023728  0.147513  0.144940  0.250143  0.098056  0.115209  0.075186   \n",
       "2007.0  0.015970  0.142276  0.177700  0.277584  0.074913  0.124274  0.058072   \n",
       "2008.0  0.018411  0.153421  0.225222  0.214176  0.075483  0.133170  0.066278   \n",
       "2009.0  0.012786  0.112147  0.280234  0.197656  0.065264  0.145978  0.040490   \n",
       "2010.0  0.017386  0.109036  0.267869  0.251985  0.077270  0.128139  0.037132   \n",
       "2011.0  0.011156  0.094823  0.301377  0.238626  0.054907  0.143280  0.034861   \n",
       "2012.0  0.012972  0.103968  0.275086  0.215757  0.051698  0.144601  0.036436   \n",
       "2013.0  0.005180  0.093478  0.283494  0.264893  0.052508  0.123852  0.024959   \n",
       "2014.0  0.013158  0.095906  0.273099  0.262281  0.060234  0.115789  0.026608   \n",
       "2015.0  0.010797  0.097915  0.286299  0.260611  0.034624  0.144080  0.016754   \n",
       "2016.0  0.008929  0.087372  0.371173  0.150510  0.030612  0.242347  0.010842   \n",
       "2017.0  0.013928  0.130919  0.320334  0.019499  0.008357  0.359331  0.002786   \n",
       "\n",
       "Topic     topic8  \n",
       "Year              \n",
       "1990.0  0.052298  \n",
       "1991.0  0.038251  \n",
       "1992.0  0.059524  \n",
       "1993.0  0.047303  \n",
       "1994.0  0.057192  \n",
       "1995.0  0.099611  \n",
       "1996.0  0.065408  \n",
       "1997.0  0.096142  \n",
       "1998.0  0.111240  \n",
       "1999.0  0.090364  \n",
       "2000.0  0.107191  \n",
       "2001.0  0.117777  \n",
       "2002.0  0.100045  \n",
       "2003.0  0.102016  \n",
       "2004.0  0.107359  \n",
       "2005.0  0.099962  \n",
       "2006.0  0.145226  \n",
       "2007.0  0.129210  \n",
       "2008.0  0.113839  \n",
       "2009.0  0.145445  \n",
       "2010.0  0.111183  \n",
       "2011.0  0.120969  \n",
       "2012.0  0.159481  \n",
       "2013.0  0.151636  \n",
       "2014.0  0.152924  \n",
       "2015.0  0.148920  \n",
       "2016.0  0.098214  \n",
       "2017.0  0.144847  "
      ]
     },
     "execution_count": 89,
     "metadata": {},
     "output_type": "execute_result"
    }
   ],
   "source": [
    "c"
   ]
  },
  {
   "cell_type": "code",
   "execution_count": 90,
   "metadata": {},
   "outputs": [
    {
     "data": {
      "image/png": "[encoded data removed]",
      "text/plain": [
       "<matplotlib.figure.Figure at 0x29ccf81f5f8>"
      ]
     },
     "metadata": {
      "needs_background": "light"
     },
     "output_type": "display_data"
    }
   ],
   "source": [
    "c.plot()\n",
    "plt.xlabel('Filling years')\n",
    "plt.ylabel('patent Share')\n",
    "plt.title('Change in the share of patents over filling years')\n",
    "plt.legend()\n",
    "plt.show()"
   ]
  },
  {
   "cell_type": "markdown",
   "metadata": {},
   "source": [
    "### Using plotly"
   ]
  },
  {
   "cell_type": "code",
   "execution_count": 91,
   "metadata": {},
   "outputs": [],
   "source": [
    "df_patent=c.T"
   ]
  },
  {
   "cell_type": "code",
   "execution_count": 92,
   "metadata": {},
   "outputs": [
    {
     "data": {
      "text/html": [
       "<div>\n",
       "<style scoped>\n",
       "    .dataframe tbody tr th:only-of-type {\n",
       "        vertical-align: middle;\n",
       "    }\n",
       "\n",
       "    .dataframe tbody tr th {\n",
       "        vertical-align: top;\n",
       "    }\n",
       "\n",
       "    .dataframe thead th {\n",
       "        text-align: right;\n",
       "    }\n",
       "</style>\n",
       "<table border=\"1\" class=\"dataframe\">\n",
       "  <thead>\n",
       "    <tr style=\"text-align: right;\">\n",
       "      <th>Year</th>\n",
       "      <th>1990.0</th>\n",
       "      <th>1991.0</th>\n",
       "      <th>1992.0</th>\n",
       "      <th>1993.0</th>\n",
       "      <th>1994.0</th>\n",
       "      <th>1995.0</th>\n",
       "      <th>1996.0</th>\n",
       "      <th>1997.0</th>\n",
       "      <th>1998.0</th>\n",
       "      <th>1999.0</th>\n",
       "      <th>...</th>\n",
       "      <th>2008.0</th>\n",
       "      <th>2009.0</th>\n",
       "      <th>2010.0</th>\n",
       "      <th>2011.0</th>\n",
       "      <th>2012.0</th>\n",
       "      <th>2013.0</th>\n",
       "      <th>2014.0</th>\n",
       "      <th>2015.0</th>\n",
       "      <th>2016.0</th>\n",
       "      <th>2017.0</th>\n",
       "    </tr>\n",
       "    <tr>\n",
       "      <th>Topic</th>\n",
       "      <th></th>\n",
       "      <th></th>\n",
       "      <th></th>\n",
       "      <th></th>\n",
       "      <th></th>\n",
       "      <th></th>\n",
       "      <th></th>\n",
       "      <th></th>\n",
       "      <th></th>\n",
       "      <th></th>\n",
       "      <th></th>\n",
       "      <th></th>\n",
       "      <th></th>\n",
       "      <th></th>\n",
       "      <th></th>\n",
       "      <th></th>\n",
       "      <th></th>\n",
       "      <th></th>\n",
       "      <th></th>\n",
       "      <th></th>\n",
       "      <th></th>\n",
       "    </tr>\n",
       "  </thead>\n",
       "  <tbody>\n",
       "    <tr>\n",
       "      <th>topic1</th>\n",
       "      <td>0.015848</td>\n",
       "      <td>0.010929</td>\n",
       "      <td>0.004960</td>\n",
       "      <td>0.003320</td>\n",
       "      <td>0.011265</td>\n",
       "      <td>0.005447</td>\n",
       "      <td>0.007417</td>\n",
       "      <td>0.009488</td>\n",
       "      <td>0.011587</td>\n",
       "      <td>0.020969</td>\n",
       "      <td>...</td>\n",
       "      <td>0.018411</td>\n",
       "      <td>0.012786</td>\n",
       "      <td>0.017386</td>\n",
       "      <td>0.011156</td>\n",
       "      <td>0.012972</td>\n",
       "      <td>0.005180</td>\n",
       "      <td>0.013158</td>\n",
       "      <td>0.010797</td>\n",
       "      <td>0.008929</td>\n",
       "      <td>0.013928</td>\n",
       "    </tr>\n",
       "    <tr>\n",
       "      <th>topic2</th>\n",
       "      <td>0.144216</td>\n",
       "      <td>0.148907</td>\n",
       "      <td>0.176587</td>\n",
       "      <td>0.188382</td>\n",
       "      <td>0.185442</td>\n",
       "      <td>0.152529</td>\n",
       "      <td>0.167903</td>\n",
       "      <td>0.148008</td>\n",
       "      <td>0.148899</td>\n",
       "      <td>0.148278</td>\n",
       "      <td>...</td>\n",
       "      <td>0.153421</td>\n",
       "      <td>0.112147</td>\n",
       "      <td>0.109036</td>\n",
       "      <td>0.094823</td>\n",
       "      <td>0.103968</td>\n",
       "      <td>0.093478</td>\n",
       "      <td>0.095906</td>\n",
       "      <td>0.097915</td>\n",
       "      <td>0.087372</td>\n",
       "      <td>0.130919</td>\n",
       "    </tr>\n",
       "    <tr>\n",
       "      <th>topic3</th>\n",
       "      <td>0.106181</td>\n",
       "      <td>0.142077</td>\n",
       "      <td>0.141865</td>\n",
       "      <td>0.145228</td>\n",
       "      <td>0.155113</td>\n",
       "      <td>0.140078</td>\n",
       "      <td>0.115981</td>\n",
       "      <td>0.143580</td>\n",
       "      <td>0.091541</td>\n",
       "      <td>0.110334</td>\n",
       "      <td>...</td>\n",
       "      <td>0.225222</td>\n",
       "      <td>0.280234</td>\n",
       "      <td>0.267869</td>\n",
       "      <td>0.301377</td>\n",
       "      <td>0.275086</td>\n",
       "      <td>0.283494</td>\n",
       "      <td>0.273099</td>\n",
       "      <td>0.286299</td>\n",
       "      <td>0.371173</td>\n",
       "      <td>0.320334</td>\n",
       "    </tr>\n",
       "    <tr>\n",
       "      <th>topic4</th>\n",
       "      <td>0.302694</td>\n",
       "      <td>0.303279</td>\n",
       "      <td>0.231151</td>\n",
       "      <td>0.235685</td>\n",
       "      <td>0.253033</td>\n",
       "      <td>0.268482</td>\n",
       "      <td>0.298045</td>\n",
       "      <td>0.230867</td>\n",
       "      <td>0.271727</td>\n",
       "      <td>0.291063</td>\n",
       "      <td>...</td>\n",
       "      <td>0.214176</td>\n",
       "      <td>0.197656</td>\n",
       "      <td>0.251985</td>\n",
       "      <td>0.238626</td>\n",
       "      <td>0.215757</td>\n",
       "      <td>0.264893</td>\n",
       "      <td>0.262281</td>\n",
       "      <td>0.260611</td>\n",
       "      <td>0.150510</td>\n",
       "      <td>0.019499</td>\n",
       "    </tr>\n",
       "    <tr>\n",
       "      <th>topic5</th>\n",
       "      <td>0.114105</td>\n",
       "      <td>0.090164</td>\n",
       "      <td>0.100198</td>\n",
       "      <td>0.108714</td>\n",
       "      <td>0.114385</td>\n",
       "      <td>0.090272</td>\n",
       "      <td>0.120701</td>\n",
       "      <td>0.151170</td>\n",
       "      <td>0.148899</td>\n",
       "      <td>0.145781</td>\n",
       "      <td>...</td>\n",
       "      <td>0.075483</td>\n",
       "      <td>0.065264</td>\n",
       "      <td>0.077270</td>\n",
       "      <td>0.054907</td>\n",
       "      <td>0.051698</td>\n",
       "      <td>0.052508</td>\n",
       "      <td>0.060234</td>\n",
       "      <td>0.034624</td>\n",
       "      <td>0.030612</td>\n",
       "      <td>0.008357</td>\n",
       "    </tr>\n",
       "    <tr>\n",
       "      <th>topic6</th>\n",
       "      <td>0.185420</td>\n",
       "      <td>0.162568</td>\n",
       "      <td>0.186508</td>\n",
       "      <td>0.192531</td>\n",
       "      <td>0.172444</td>\n",
       "      <td>0.203891</td>\n",
       "      <td>0.172623</td>\n",
       "      <td>0.167615</td>\n",
       "      <td>0.145423</td>\n",
       "      <td>0.132302</td>\n",
       "      <td>...</td>\n",
       "      <td>0.133170</td>\n",
       "      <td>0.145978</td>\n",
       "      <td>0.128139</td>\n",
       "      <td>0.143280</td>\n",
       "      <td>0.144601</td>\n",
       "      <td>0.123852</td>\n",
       "      <td>0.115789</td>\n",
       "      <td>0.144080</td>\n",
       "      <td>0.242347</td>\n",
       "      <td>0.359331</td>\n",
       "    </tr>\n",
       "    <tr>\n",
       "      <th>topic7</th>\n",
       "      <td>0.079239</td>\n",
       "      <td>0.103825</td>\n",
       "      <td>0.099206</td>\n",
       "      <td>0.078838</td>\n",
       "      <td>0.051127</td>\n",
       "      <td>0.039689</td>\n",
       "      <td>0.051922</td>\n",
       "      <td>0.053131</td>\n",
       "      <td>0.070684</td>\n",
       "      <td>0.060909</td>\n",
       "      <td>...</td>\n",
       "      <td>0.066278</td>\n",
       "      <td>0.040490</td>\n",
       "      <td>0.037132</td>\n",
       "      <td>0.034861</td>\n",
       "      <td>0.036436</td>\n",
       "      <td>0.024959</td>\n",
       "      <td>0.026608</td>\n",
       "      <td>0.016754</td>\n",
       "      <td>0.010842</td>\n",
       "      <td>0.002786</td>\n",
       "    </tr>\n",
       "    <tr>\n",
       "      <th>topic8</th>\n",
       "      <td>0.052298</td>\n",
       "      <td>0.038251</td>\n",
       "      <td>0.059524</td>\n",
       "      <td>0.047303</td>\n",
       "      <td>0.057192</td>\n",
       "      <td>0.099611</td>\n",
       "      <td>0.065408</td>\n",
       "      <td>0.096142</td>\n",
       "      <td>0.111240</td>\n",
       "      <td>0.090364</td>\n",
       "      <td>...</td>\n",
       "      <td>0.113839</td>\n",
       "      <td>0.145445</td>\n",
       "      <td>0.111183</td>\n",
       "      <td>0.120969</td>\n",
       "      <td>0.159481</td>\n",
       "      <td>0.151636</td>\n",
       "      <td>0.152924</td>\n",
       "      <td>0.148920</td>\n",
       "      <td>0.098214</td>\n",
       "      <td>0.144847</td>\n",
       "    </tr>\n",
       "  </tbody>\n",
       "</table>\n",
       "<p>8 rows × 28 columns</p>\n",
       "</div>"
      ],
      "text/plain": [
       "Year      1990.0    1991.0    1992.0    1993.0    1994.0    1995.0    1996.0  \\\n",
       "Topic                                                                          \n",
       "topic1  0.015848  0.010929  0.004960  0.003320  0.011265  0.005447  0.007417   \n",
       "topic2  0.144216  0.148907  0.176587  0.188382  0.185442  0.152529  0.167903   \n",
       "topic3  0.106181  0.142077  0.141865  0.145228  0.155113  0.140078  0.115981   \n",
       "topic4  0.302694  0.303279  0.231151  0.235685  0.253033  0.268482  0.298045   \n",
       "topic5  0.114105  0.090164  0.100198  0.108714  0.114385  0.090272  0.120701   \n",
       "topic6  0.185420  0.162568  0.186508  0.192531  0.172444  0.203891  0.172623   \n",
       "topic7  0.079239  0.103825  0.099206  0.078838  0.051127  0.039689  0.051922   \n",
       "topic8  0.052298  0.038251  0.059524  0.047303  0.057192  0.099611  0.065408   \n",
       "\n",
       "Year      1997.0    1998.0    1999.0    ...       2008.0    2009.0    2010.0  \\\n",
       "Topic                                   ...                                    \n",
       "topic1  0.009488  0.011587  0.020969    ...     0.018411  0.012786  0.017386   \n",
       "topic2  0.148008  0.148899  0.148278    ...     0.153421  0.112147  0.109036   \n",
       "topic3  0.143580  0.091541  0.110334    ...     0.225222  0.280234  0.267869   \n",
       "topic4  0.230867  0.271727  0.291063    ...     0.214176  0.197656  0.251985   \n",
       "topic5  0.151170  0.148899  0.145781    ...     0.075483  0.065264  0.077270   \n",
       "topic6  0.167615  0.145423  0.132302    ...     0.133170  0.145978  0.128139   \n",
       "topic7  0.053131  0.070684  0.060909    ...     0.066278  0.040490  0.037132   \n",
       "topic8  0.096142  0.111240  0.090364    ...     0.113839  0.145445  0.111183   \n",
       "\n",
       "Year      2011.0    2012.0    2013.0    2014.0    2015.0    2016.0    2017.0  \n",
       "Topic                                                                         \n",
       "topic1  0.011156  0.012972  0.005180  0.013158  0.010797  0.008929  0.013928  \n",
       "topic2  0.094823  0.103968  0.093478  0.095906  0.097915  0.087372  0.130919  \n",
       "topic3  0.301377  0.275086  0.283494  0.273099  0.286299  0.371173  0.320334  \n",
       "topic4  0.238626  0.215757  0.264893  0.262281  0.260611  0.150510  0.019499  \n",
       "topic5  0.054907  0.051698  0.052508  0.060234  0.034624  0.030612  0.008357  \n",
       "topic6  0.143280  0.144601  0.123852  0.115789  0.144080  0.242347  0.359331  \n",
       "topic7  0.034861  0.036436  0.024959  0.026608  0.016754  0.010842  0.002786  \n",
       "topic8  0.120969  0.159481  0.151636  0.152924  0.148920  0.098214  0.144847  \n",
       "\n",
       "[8 rows x 28 columns]"
      ]
     },
     "execution_count": 92,
     "metadata": {},
     "output_type": "execute_result"
    }
   ],
   "source": [
    "df_patent"
   ]
  },
  {
   "cell_type": "code",
   "execution_count": 93,
   "metadata": {},
   "outputs": [],
   "source": [
    "traces=[go.Scatter(\n",
    "    x=df_patent.columns,\n",
    "    y=df_patent.loc[row_name],\n",
    "    mode='lines+markers',\n",
    "    name=row_name\n",
    "\n",
    "\n",
    "\n",
    ")for row_name in df_patent.index]"
   ]
  },
  {
   "cell_type": "code",
   "execution_count": 94,
   "metadata": {},
   "outputs": [],
   "source": [
    "data=traces"
   ]
  },
  {
   "cell_type": "code",
   "execution_count": 95,
   "metadata": {},
   "outputs": [],
   "source": [
    "layout=go.Layout(\n",
    "title='Change in the share of patents over filing year',\n",
    "xaxis=dict(title='Number of filling years'),\n",
    "yaxis=dict(title='Number of patents'),\n",
    "hovermode='closest' # for bringing values of points together as x and y\n",
    ")"
   ]
  },
  {
   "cell_type": "code",
   "execution_count": 96,
   "metadata": {},
   "outputs": [],
   "source": [
    "figure2= go.Figure(data=data, layout=layout)"
   ]
  },
  {
   "cell_type": "code",
   "execution_count": 97,
   "metadata": {},
   "outputs": [
    {
     "data": {
      "text/plain": [
       "'patent_count_normalized.html'"
      ]
     },
     "execution_count": 97,
     "metadata": {},
     "output_type": "execute_result"
    }
   ],
   "source": [
    "pyo.plot(figure2,filename='patent_count_normalized.html')"
   ]
  },
  {
   "cell_type": "markdown",
   "metadata": {},
   "source": [
    "# Table 6: Major assignee by topic type"
   ]
  },
  {
   "cell_type": "code",
   "execution_count": 98,
   "metadata": {},
   "outputs": [
    {
     "data": {
      "text/html": [
       "<div>\n",
       "<style scoped>\n",
       "    .dataframe tbody tr th:only-of-type {\n",
       "        vertical-align: middle;\n",
       "    }\n",
       "\n",
       "    .dataframe tbody tr th {\n",
       "        vertical-align: top;\n",
       "    }\n",
       "\n",
       "    .dataframe thead th {\n",
       "        text-align: right;\n",
       "    }\n",
       "</style>\n",
       "<table border=\"1\" class=\"dataframe\">\n",
       "  <thead>\n",
       "    <tr style=\"text-align: right;\">\n",
       "      <th></th>\n",
       "      <th>Topic_Perc_Contrib</th>\n",
       "      <th>Keywords</th>\n",
       "      <th>Assignee</th>\n",
       "      <th>Year</th>\n",
       "      <th>Abstract</th>\n",
       "      <th>Topic</th>\n",
       "    </tr>\n",
       "  </thead>\n",
       "  <tbody>\n",
       "    <tr>\n",
       "      <th>0</th>\n",
       "      <td>0.8586</td>\n",
       "      <td>charge, battery, power, voltage, electric, mod...</td>\n",
       "      <td>luz electric fuel israel ltd</td>\n",
       "      <td>1990.0</td>\n",
       "      <td>An electrical energy system including an elect...</td>\n",
       "      <td>topic3</td>\n",
       "    </tr>\n",
       "    <tr>\n",
       "      <th>1</th>\n",
       "      <td>0.8034</td>\n",
       "      <td>charge, battery, power, voltage, electric, mod...</td>\n",
       "      <td>luz electric fuel israel ltd</td>\n",
       "      <td>1990.0</td>\n",
       "      <td>An electrical energy system including an elect...</td>\n",
       "      <td>topic3</td>\n",
       "    </tr>\n",
       "    <tr>\n",
       "      <th>2</th>\n",
       "      <td>0.3665</td>\n",
       "      <td>body, side, utility, end, model, support, part...</td>\n",
       "      <td>sumitomo electric industries ltd</td>\n",
       "      <td>1995.0</td>\n",
       "      <td>An object is to provide a particulate trap for...</td>\n",
       "      <td>topic6</td>\n",
       "    </tr>\n",
       "    <tr>\n",
       "      <th>3</th>\n",
       "      <td>0.5438</td>\n",
       "      <td>body, side, utility, end, model, support, part...</td>\n",
       "      <td>sumitomo electric ind ltd</td>\n",
       "      <td>1995.0</td>\n",
       "      <td>PURPOSE: To obtain a trap by which the leakage...</td>\n",
       "      <td>topic6</td>\n",
       "    </tr>\n",
       "    <tr>\n",
       "      <th>4</th>\n",
       "      <td>0.3044</td>\n",
       "      <td>body, side, utility, end, model, support, part...</td>\n",
       "      <td>sumitomo electric industries ltd</td>\n",
       "      <td>1995.0</td>\n",
       "      <td>A particulate trap for a diesel engine designe...</td>\n",
       "      <td>topic6</td>\n",
       "    </tr>\n",
       "  </tbody>\n",
       "</table>\n",
       "</div>"
      ],
      "text/plain": [
       "   Topic_Perc_Contrib                                           Keywords  \\\n",
       "0              0.8586  charge, battery, power, voltage, electric, mod...   \n",
       "1              0.8034  charge, battery, power, voltage, electric, mod...   \n",
       "2              0.3665  body, side, utility, end, model, support, part...   \n",
       "3              0.5438  body, side, utility, end, model, support, part...   \n",
       "4              0.3044  body, side, utility, end, model, support, part...   \n",
       "\n",
       "                           Assignee    Year  \\\n",
       "0      luz electric fuel israel ltd  1990.0   \n",
       "1      luz electric fuel israel ltd  1990.0   \n",
       "2  sumitomo electric industries ltd  1995.0   \n",
       "3         sumitomo electric ind ltd  1995.0   \n",
       "4  sumitomo electric industries ltd  1995.0   \n",
       "\n",
       "                                            Abstract   Topic  \n",
       "0  An electrical energy system including an elect...  topic3  \n",
       "1  An electrical energy system including an elect...  topic3  \n",
       "2  An object is to provide a particulate trap for...  topic6  \n",
       "3  PURPOSE: To obtain a trap by which the leakage...  topic6  \n",
       "4  A particulate trap for a diesel engine designe...  topic6  "
      ]
     },
     "execution_count": 98,
     "metadata": {},
     "output_type": "execute_result"
    }
   ],
   "source": [
    "df=pd.read_pickle('work_on_paper.pkl')\n",
    "df.head()"
   ]
  },
  {
   "cell_type": "code",
   "execution_count": 99,
   "metadata": {},
   "outputs": [
    {
     "data": {
      "text/plain": [
       "Counter({'topic3': 14176,\n",
       "         'topic6': 9717,\n",
       "         'topic5': 5822,\n",
       "         'topic2': 9127,\n",
       "         'topic8': 8172,\n",
       "         'topic4': 16775,\n",
       "         'topic1': 1190,\n",
       "         'topic7': 3783})"
      ]
     },
     "execution_count": 99,
     "metadata": {},
     "output_type": "execute_result"
    }
   ],
   "source": [
    "from collections import Counter\n",
    "Counter(df.Topic)"
   ]
  },
  {
   "cell_type": "code",
   "execution_count": 100,
   "metadata": {},
   "outputs": [],
   "source": [
    "company=df.groupby(df.Topic).Assignee.value_counts(dropna=True, sort=True)"
   ]
  },
  {
   "cell_type": "code",
   "execution_count": 101,
   "metadata": {},
   "outputs": [
    {
     "data": {
      "text/html": [
       "<div>\n",
       "<style scoped>\n",
       "    .dataframe tbody tr th:only-of-type {\n",
       "        vertical-align: middle;\n",
       "    }\n",
       "\n",
       "    .dataframe tbody tr th {\n",
       "        vertical-align: top;\n",
       "    }\n",
       "\n",
       "    .dataframe thead th {\n",
       "        text-align: right;\n",
       "    }\n",
       "</style>\n",
       "<table border=\"1\" class=\"dataframe\">\n",
       "  <thead>\n",
       "    <tr style=\"text-align: right;\">\n",
       "      <th></th>\n",
       "      <th></th>\n",
       "      <th>Assignee</th>\n",
       "    </tr>\n",
       "    <tr>\n",
       "      <th>Topic</th>\n",
       "      <th>Assignee</th>\n",
       "      <th></th>\n",
       "    </tr>\n",
       "  </thead>\n",
       "  <tbody>\n",
       "    <tr>\n",
       "      <th rowspan=\"30\" valign=\"top\">topic1</th>\n",
       "      <th>toyota motor corp</th>\n",
       "      <td>153</td>\n",
       "    </tr>\n",
       "    <tr>\n",
       "      <th>honda motor co ltd</th>\n",
       "      <td>78</td>\n",
       "    </tr>\n",
       "    <tr>\n",
       "      <th>nissan motor co ltd</th>\n",
       "      <td>62</td>\n",
       "    </tr>\n",
       "    <tr>\n",
       "      <th>hyundai motor co ltd</th>\n",
       "      <td>50</td>\n",
       "    </tr>\n",
       "    <tr>\n",
       "      <th>renault sas</th>\n",
       "      <td>23</td>\n",
       "    </tr>\n",
       "    <tr>\n",
       "      <th>daewoo shipbuilding &amp; marine engineering co ltd</th>\n",
       "      <td>14</td>\n",
       "    </tr>\n",
       "    <tr>\n",
       "      <th>saudi arabian oil company</th>\n",
       "      <td>14</td>\n",
       "    </tr>\n",
       "    <tr>\n",
       "      <th>owens donald wade</th>\n",
       "      <td>11</td>\n",
       "    </tr>\n",
       "    <tr>\n",
       "      <th>ford global technologies inc</th>\n",
       "      <td>10</td>\n",
       "    </tr>\n",
       "    <tr>\n",
       "      <th>hitachi ltd</th>\n",
       "      <td>10</td>\n",
       "    </tr>\n",
       "    <tr>\n",
       "      <th>casio computer co ltd</th>\n",
       "      <td>9</td>\n",
       "    </tr>\n",
       "    <tr>\n",
       "      <th>general motors corporation</th>\n",
       "      <td>9</td>\n",
       "    </tr>\n",
       "    <tr>\n",
       "      <th>nippon telegr &amp; teleph corp &lt;ntt&gt;</th>\n",
       "      <td>9</td>\n",
       "    </tr>\n",
       "    <tr>\n",
       "      <th>denso corp</th>\n",
       "      <td>8</td>\n",
       "    </tr>\n",
       "    <tr>\n",
       "      <th>the university of western ontario</th>\n",
       "      <td>8</td>\n",
       "    </tr>\n",
       "    <tr>\n",
       "      <th>matsushita electric industrial co ltd</th>\n",
       "      <td>7</td>\n",
       "    </tr>\n",
       "    <tr>\n",
       "      <th>mitsubishi heavy industries ltd</th>\n",
       "      <td>7</td>\n",
       "    </tr>\n",
       "    <tr>\n",
       "      <th>samsung sdi co ltd</th>\n",
       "      <td>7</td>\n",
       "    </tr>\n",
       "    <tr>\n",
       "      <th>utc fuel cells llc</th>\n",
       "      <td>7</td>\n",
       "    </tr>\n",
       "    <tr>\n",
       "      <th>bosch corp</th>\n",
       "      <td>6</td>\n",
       "    </tr>\n",
       "    <tr>\n",
       "      <th>hno greenfuels inc</th>\n",
       "      <td>6</td>\n",
       "    </tr>\n",
       "    <tr>\n",
       "      <th>mitsubishi heavy ind ltd</th>\n",
       "      <td>6</td>\n",
       "    </tr>\n",
       "    <tr>\n",
       "      <th>stuart energy systems corporation</th>\n",
       "      <td>6</td>\n",
       "    </tr>\n",
       "    <tr>\n",
       "      <th>suzuki motor corp</th>\n",
       "      <td>6</td>\n",
       "    </tr>\n",
       "    <tr>\n",
       "      <th>yamaha motor co ltd</th>\n",
       "      <td>6</td>\n",
       "    </tr>\n",
       "    <tr>\n",
       "      <th>aleees eco ark co ltd</th>\n",
       "      <td>5</td>\n",
       "    </tr>\n",
       "    <tr>\n",
       "      <th>mitsubishi motors corp</th>\n",
       "      <td>5</td>\n",
       "    </tr>\n",
       "    <tr>\n",
       "      <th>n/c quest inc</th>\n",
       "      <td>5</td>\n",
       "    </tr>\n",
       "    <tr>\n",
       "      <th>questair technologies inc</th>\n",
       "      <td>5</td>\n",
       "    </tr>\n",
       "    <tr>\n",
       "      <th>siemens aktiengesellschaft</th>\n",
       "      <td>5</td>\n",
       "    </tr>\n",
       "    <tr>\n",
       "      <th>...</th>\n",
       "      <th>...</th>\n",
       "      <td>...</td>\n",
       "    </tr>\n",
       "    <tr>\n",
       "      <th rowspan=\"30\" valign=\"top\">topic8</th>\n",
       "      <th>yoshikawa masato</th>\n",
       "      <td>1</td>\n",
       "    </tr>\n",
       "    <tr>\n",
       "      <th>yoshimori junichi</th>\n",
       "      <td>1</td>\n",
       "    </tr>\n",
       "    <tr>\n",
       "      <th>yu hai</th>\n",
       "      <td>1</td>\n",
       "    </tr>\n",
       "    <tr>\n",
       "      <th>yu xuelu</th>\n",
       "      <td>1</td>\n",
       "    </tr>\n",
       "    <tr>\n",
       "      <th>yurgil james r</th>\n",
       "      <td>1</td>\n",
       "    </tr>\n",
       "    <tr>\n",
       "      <th>zakrytoe akcionernoe obschestvo 'combarco'</th>\n",
       "      <td>1</td>\n",
       "    </tr>\n",
       "    <tr>\n",
       "      <th>zbynek bures</th>\n",
       "      <td>1</td>\n",
       "    </tr>\n",
       "    <tr>\n",
       "      <th>zeng shengcai</th>\n",
       "      <td>1</td>\n",
       "    </tr>\n",
       "    <tr>\n",
       "      <th>zf friedrichshafen kg</th>\n",
       "      <td>1</td>\n",
       "    </tr>\n",
       "    <tr>\n",
       "      <th>zf sachs ag</th>\n",
       "      <td>1</td>\n",
       "    </tr>\n",
       "    <tr>\n",
       "      <th>zf-batavia llc</th>\n",
       "      <td>1</td>\n",
       "    </tr>\n",
       "    <tr>\n",
       "      <th>zhang mingliang</th>\n",
       "      <td>1</td>\n",
       "    </tr>\n",
       "    <tr>\n",
       "      <th>zhang nan</th>\n",
       "      <td>1</td>\n",
       "    </tr>\n",
       "    <tr>\n",
       "      <th>zhang qiushi</th>\n",
       "      <td>1</td>\n",
       "    </tr>\n",
       "    <tr>\n",
       "      <th>zhang yuanqing</th>\n",
       "      <td>1</td>\n",
       "    </tr>\n",
       "    <tr>\n",
       "      <th>zhanh chongxin</th>\n",
       "      <td>1</td>\n",
       "    </tr>\n",
       "    <tr>\n",
       "      <th>zhao xingzhi</th>\n",
       "      <td>1</td>\n",
       "    </tr>\n",
       "    <tr>\n",
       "      <th>zhejiang crrc electric vehicle co ltd</th>\n",
       "      <td>1</td>\n",
       "    </tr>\n",
       "    <tr>\n",
       "      <th>zhejiang xinchai co ltd</th>\n",
       "      <td>1</td>\n",
       "    </tr>\n",
       "    <tr>\n",
       "      <th>zhejiang xingmei electric vehicle co ltd</th>\n",
       "      <td>1</td>\n",
       "    </tr>\n",
       "    <tr>\n",
       "      <th>zhengzhou zhongdian new energy automobile co ltd</th>\n",
       "      <td>1</td>\n",
       "    </tr>\n",
       "    <tr>\n",
       "      <th>zhong shiqing</th>\n",
       "      <td>1</td>\n",
       "    </tr>\n",
       "    <tr>\n",
       "      <th>zhong songfeng</th>\n",
       "      <td>1</td>\n",
       "    </tr>\n",
       "    <tr>\n",
       "      <th>zhou lansheng</th>\n",
       "      <td>1</td>\n",
       "    </tr>\n",
       "    <tr>\n",
       "      <th>zhu fumin</th>\n",
       "      <td>1</td>\n",
       "    </tr>\n",
       "    <tr>\n",
       "      <th>zhuo honger</th>\n",
       "      <td>1</td>\n",
       "    </tr>\n",
       "    <tr>\n",
       "      <th>zollner tobias</th>\n",
       "      <td>1</td>\n",
       "    </tr>\n",
       "    <tr>\n",
       "      <th>zou deqiang</th>\n",
       "      <td>1</td>\n",
       "    </tr>\n",
       "    <tr>\n",
       "      <th>zvekov aleksej nikolaevich</th>\n",
       "      <td>1</td>\n",
       "    </tr>\n",
       "    <tr>\n",
       "      <th>zyle daewoo bus corporation</th>\n",
       "      <td>1</td>\n",
       "    </tr>\n",
       "  </tbody>\n",
       "</table>\n",
       "<p>17549 rows × 1 columns</p>\n",
       "</div>"
      ],
      "text/plain": [
       "                                                         Assignee\n",
       "Topic  Assignee                                                  \n",
       "topic1 toyota motor corp                                      153\n",
       "       honda motor co ltd                                      78\n",
       "       nissan motor co ltd                                     62\n",
       "       hyundai motor co ltd                                    50\n",
       "       renault sas                                             23\n",
       "       daewoo shipbuilding & marine engineering co ltd         14\n",
       "       saudi arabian oil company                               14\n",
       "       owens donald wade                                       11\n",
       "       ford global technologies inc                            10\n",
       "       hitachi ltd                                             10\n",
       "       casio computer co ltd                                    9\n",
       "       general motors corporation                               9\n",
       "       nippon telegr & teleph corp <ntt>                        9\n",
       "       denso corp                                               8\n",
       "       the university of western ontario                        8\n",
       "       matsushita electric industrial co ltd                    7\n",
       "       mitsubishi heavy industries ltd                          7\n",
       "       samsung sdi co ltd                                       7\n",
       "       utc fuel cells llc                                       7\n",
       "       bosch corp                                               6\n",
       "       hno greenfuels inc                                       6\n",
       "       mitsubishi heavy ind ltd                                 6\n",
       "       stuart energy systems corporation                        6\n",
       "       suzuki motor corp                                        6\n",
       "       yamaha motor co ltd                                      6\n",
       "       aleees eco ark co ltd                                    5\n",
       "       mitsubishi motors corp                                   5\n",
       "       n/c quest inc                                            5\n",
       "       questair technologies inc                                5\n",
       "       siemens aktiengesellschaft                               5\n",
       "...                                                           ...\n",
       "topic8 yoshikawa masato                                         1\n",
       "       yoshimori junichi                                        1\n",
       "       yu hai                                                   1\n",
       "       yu xuelu                                                 1\n",
       "       yurgil james r                                           1\n",
       "       zakrytoe akcionernoe obschestvo 'combarco'               1\n",
       "       zbynek bures                                             1\n",
       "       zeng shengcai                                            1\n",
       "       zf friedrichshafen kg                                    1\n",
       "       zf sachs ag                                              1\n",
       "       zf-batavia llc                                           1\n",
       "       zhang mingliang                                          1\n",
       "       zhang nan                                                1\n",
       "       zhang qiushi                                             1\n",
       "       zhang yuanqing                                           1\n",
       "       zhanh chongxin                                           1\n",
       "       zhao xingzhi                                             1\n",
       "       zhejiang crrc electric vehicle co ltd                    1\n",
       "       zhejiang xinchai co ltd                                  1\n",
       "       zhejiang xingmei electric vehicle co ltd                 1\n",
       "       zhengzhou zhongdian new energy automobile co ltd         1\n",
       "       zhong shiqing                                            1\n",
       "       zhong songfeng                                           1\n",
       "       zhou lansheng                                            1\n",
       "       zhu fumin                                                1\n",
       "       zhuo honger                                              1\n",
       "       zollner tobias                                           1\n",
       "       zou deqiang                                              1\n",
       "       zvekov aleksej nikolaevich                               1\n",
       "       zyle daewoo bus corporation                              1\n",
       "\n",
       "[17549 rows x 1 columns]"
      ]
     },
     "execution_count": 101,
     "metadata": {},
     "output_type": "execute_result"
    }
   ],
   "source": [
    "df_company = pd.DataFrame(company)\n",
    "df_company"
   ]
  },
  {
   "cell_type": "markdown",
   "metadata": {},
   "source": [
    "### For a specific topic listing wrt firms"
   ]
  },
  {
   "cell_type": "code",
   "execution_count": 102,
   "metadata": {},
   "outputs": [],
   "source": [
    "topic_firm=df.groupby([df['Topic']=='topic1']).Assignee.value_counts(dropna=True, sort=True)"
   ]
  },
  {
   "cell_type": "code",
   "execution_count": 103,
   "metadata": {},
   "outputs": [
    {
     "data": {
      "text/html": [
       "<div>\n",
       "<style scoped>\n",
       "    .dataframe tbody tr th:only-of-type {\n",
       "        vertical-align: middle;\n",
       "    }\n",
       "\n",
       "    .dataframe tbody tr th {\n",
       "        vertical-align: top;\n",
       "    }\n",
       "\n",
       "    .dataframe thead th {\n",
       "        text-align: right;\n",
       "    }\n",
       "</style>\n",
       "<table border=\"1\" class=\"dataframe\">\n",
       "  <thead>\n",
       "    <tr style=\"text-align: right;\">\n",
       "      <th></th>\n",
       "      <th></th>\n",
       "      <th>Assignee</th>\n",
       "    </tr>\n",
       "    <tr>\n",
       "      <th>Topic</th>\n",
       "      <th>Assignee</th>\n",
       "      <th></th>\n",
       "    </tr>\n",
       "  </thead>\n",
       "  <tbody>\n",
       "    <tr>\n",
       "      <th rowspan=\"30\" valign=\"top\">False</th>\n",
       "      <th>toyota motor corp</th>\n",
       "      <td>7972</td>\n",
       "    </tr>\n",
       "    <tr>\n",
       "      <th>honda motor co ltd</th>\n",
       "      <td>3899</td>\n",
       "    </tr>\n",
       "    <tr>\n",
       "      <th>nissan motor co ltd</th>\n",
       "      <td>2823</td>\n",
       "    </tr>\n",
       "    <tr>\n",
       "      <th>bosch corp</th>\n",
       "      <td>2764</td>\n",
       "    </tr>\n",
       "    <tr>\n",
       "      <th>hyundai motor co ltd</th>\n",
       "      <td>2547</td>\n",
       "    </tr>\n",
       "    <tr>\n",
       "      <th>ford global technologies inc</th>\n",
       "      <td>1803</td>\n",
       "    </tr>\n",
       "    <tr>\n",
       "      <th>mitsubishi motors corp</th>\n",
       "      <td>1407</td>\n",
       "    </tr>\n",
       "    <tr>\n",
       "      <th>denso corp</th>\n",
       "      <td>1089</td>\n",
       "    </tr>\n",
       "    <tr>\n",
       "      <th>renault sas</th>\n",
       "      <td>836</td>\n",
       "    </tr>\n",
       "    <tr>\n",
       "      <th>hitachi ltd</th>\n",
       "      <td>749</td>\n",
       "    </tr>\n",
       "    <tr>\n",
       "      <th>peugeot citroen automobiles</th>\n",
       "      <td>684</td>\n",
       "    </tr>\n",
       "    <tr>\n",
       "      <th>suzuki motor corp</th>\n",
       "      <td>522</td>\n",
       "    </tr>\n",
       "    <tr>\n",
       "      <th>daimlerchrysler ag</th>\n",
       "      <td>499</td>\n",
       "    </tr>\n",
       "    <tr>\n",
       "      <th>general motors corporation</th>\n",
       "      <td>466</td>\n",
       "    </tr>\n",
       "    <tr>\n",
       "      <th>yamaha motor co ltd</th>\n",
       "      <td>460</td>\n",
       "    </tr>\n",
       "    <tr>\n",
       "      <th>aisin aw co ltd</th>\n",
       "      <td>454</td>\n",
       "    </tr>\n",
       "    <tr>\n",
       "      <th>volkswagen group</th>\n",
       "      <td>374</td>\n",
       "    </tr>\n",
       "    <tr>\n",
       "      <th>continental automotive gmbh</th>\n",
       "      <td>316</td>\n",
       "    </tr>\n",
       "    <tr>\n",
       "      <th>isuzu motors ltd</th>\n",
       "      <td>299</td>\n",
       "    </tr>\n",
       "    <tr>\n",
       "      <th>siemens aktiengesellschaft</th>\n",
       "      <td>280</td>\n",
       "    </tr>\n",
       "    <tr>\n",
       "      <th>mazda motor corp</th>\n",
       "      <td>272</td>\n",
       "    </tr>\n",
       "    <tr>\n",
       "      <th>lsis co ltd</th>\n",
       "      <td>253</td>\n",
       "    </tr>\n",
       "    <tr>\n",
       "      <th>audi ag</th>\n",
       "      <td>224</td>\n",
       "    </tr>\n",
       "    <tr>\n",
       "      <th>bmw ag</th>\n",
       "      <td>211</td>\n",
       "    </tr>\n",
       "    <tr>\n",
       "      <th>general electric company</th>\n",
       "      <td>195</td>\n",
       "    </tr>\n",
       "    <tr>\n",
       "      <th>hitachi automotive systems ltd</th>\n",
       "      <td>192</td>\n",
       "    </tr>\n",
       "    <tr>\n",
       "      <th>fuji heavy ind ltd</th>\n",
       "      <td>168</td>\n",
       "    </tr>\n",
       "    <tr>\n",
       "      <th>hino motors ltd</th>\n",
       "      <td>168</td>\n",
       "    </tr>\n",
       "    <tr>\n",
       "      <th>daihatsu motor co ltd</th>\n",
       "      <td>155</td>\n",
       "    </tr>\n",
       "    <tr>\n",
       "      <th>beiqi foton motor co ltd</th>\n",
       "      <td>137</td>\n",
       "    </tr>\n",
       "  </tbody>\n",
       "</table>\n",
       "</div>"
      ],
      "text/plain": [
       "                                      Assignee\n",
       "Topic Assignee                                \n",
       "False toyota motor corp                   7972\n",
       "      honda motor co ltd                  3899\n",
       "      nissan motor co ltd                 2823\n",
       "      bosch corp                          2764\n",
       "      hyundai motor co ltd                2547\n",
       "      ford global technologies inc        1803\n",
       "      mitsubishi motors corp              1407\n",
       "      denso corp                          1089\n",
       "      renault sas                          836\n",
       "      hitachi ltd                          749\n",
       "      peugeot citroen automobiles          684\n",
       "      suzuki motor corp                    522\n",
       "      daimlerchrysler ag                   499\n",
       "      general motors corporation           466\n",
       "      yamaha motor co ltd                  460\n",
       "      aisin aw co ltd                      454\n",
       "      volkswagen group                     374\n",
       "      continental automotive gmbh          316\n",
       "      isuzu motors ltd                     299\n",
       "      siemens aktiengesellschaft           280\n",
       "      mazda motor corp                     272\n",
       "      lsis co ltd                          253\n",
       "      audi ag                              224\n",
       "      bmw ag                               211\n",
       "      general electric company             195\n",
       "      hitachi automotive systems ltd       192\n",
       "      fuji heavy ind ltd                   168\n",
       "      hino motors ltd                      168\n",
       "      daihatsu motor co ltd                155\n",
       "      beiqi foton motor co ltd             137"
      ]
     },
     "execution_count": 103,
     "metadata": {},
     "output_type": "execute_result"
    }
   ],
   "source": [
    "df_topic_firms = pd.DataFrame(topic_firm)\n",
    "df_topic_firms[:30]"
   ]
  },
  {
   "cell_type": "code",
   "execution_count": 104,
   "metadata": {},
   "outputs": [],
   "source": [
    "d=df\n",
    "d=d[d.Topic==\"topic1\"]"
   ]
  },
  {
   "cell_type": "code",
   "execution_count": 105,
   "metadata": {},
   "outputs": [
    {
     "data": {
      "text/plain": [
       "1190"
      ]
     },
     "execution_count": 105,
     "metadata": {},
     "output_type": "execute_result"
    }
   ],
   "source": [
    "len(d)"
   ]
  },
  {
   "cell_type": "code",
   "execution_count": 106,
   "metadata": {},
   "outputs": [
    {
     "data": {
      "text/html": [
       "<div>\n",
       "<style scoped>\n",
       "    .dataframe tbody tr th:only-of-type {\n",
       "        vertical-align: middle;\n",
       "    }\n",
       "\n",
       "    .dataframe tbody tr th {\n",
       "        vertical-align: top;\n",
       "    }\n",
       "\n",
       "    .dataframe thead th {\n",
       "        text-align: right;\n",
       "    }\n",
       "</style>\n",
       "<table border=\"1\" class=\"dataframe\">\n",
       "  <thead>\n",
       "    <tr style=\"text-align: right;\">\n",
       "      <th></th>\n",
       "      <th>Topic_Perc_Contrib</th>\n",
       "      <th>Keywords</th>\n",
       "      <th>Assignee</th>\n",
       "      <th>Year</th>\n",
       "      <th>Abstract</th>\n",
       "      <th>Topic</th>\n",
       "    </tr>\n",
       "  </thead>\n",
       "  <tbody>\n",
       "    <tr>\n",
       "      <th>142</th>\n",
       "      <td>0.4453</td>\n",
       "      <td>cell, planetary, hydrogen, stack, fuel, planet...</td>\n",
       "      <td>stuart energy systems corporation</td>\n",
       "      <td>1999.0</td>\n",
       "      <td>An energy distribution network for providing h...</td>\n",
       "      <td>topic1</td>\n",
       "    </tr>\n",
       "    <tr>\n",
       "      <th>144</th>\n",
       "      <td>0.4454</td>\n",
       "      <td>cell, planetary, hydrogen, stack, fuel, planet...</td>\n",
       "      <td>stuart energy systems corporation</td>\n",
       "      <td>1999.0</td>\n",
       "      <td>An energy distribution network for providing h...</td>\n",
       "      <td>topic1</td>\n",
       "    </tr>\n",
       "    <tr>\n",
       "      <th>145</th>\n",
       "      <td>0.4397</td>\n",
       "      <td>cell, planetary, hydrogen, stack, fuel, planet...</td>\n",
       "      <td>stuart energy systems corporation</td>\n",
       "      <td>1999.0</td>\n",
       "      <td>The present invention describes an energy dist...</td>\n",
       "      <td>topic1</td>\n",
       "    </tr>\n",
       "    <tr>\n",
       "      <th>147</th>\n",
       "      <td>0.4451</td>\n",
       "      <td>cell, planetary, hydrogen, stack, fuel, planet...</td>\n",
       "      <td>stuart energy systems corporation</td>\n",
       "      <td>1999.0</td>\n",
       "      <td>An energy distribution network for providing h...</td>\n",
       "      <td>topic1</td>\n",
       "    </tr>\n",
       "    <tr>\n",
       "      <th>148</th>\n",
       "      <td>0.4454</td>\n",
       "      <td>cell, planetary, hydrogen, stack, fuel, planet...</td>\n",
       "      <td>stuart energy systems corporation</td>\n",
       "      <td>1999.0</td>\n",
       "      <td>An energy distribution network for providing h...</td>\n",
       "      <td>topic1</td>\n",
       "    </tr>\n",
       "  </tbody>\n",
       "</table>\n",
       "</div>"
      ],
      "text/plain": [
       "     Topic_Perc_Contrib                                           Keywords  \\\n",
       "142              0.4453  cell, planetary, hydrogen, stack, fuel, planet...   \n",
       "144              0.4454  cell, planetary, hydrogen, stack, fuel, planet...   \n",
       "145              0.4397  cell, planetary, hydrogen, stack, fuel, planet...   \n",
       "147              0.4451  cell, planetary, hydrogen, stack, fuel, planet...   \n",
       "148              0.4454  cell, planetary, hydrogen, stack, fuel, planet...   \n",
       "\n",
       "                              Assignee    Year  \\\n",
       "142  stuart energy systems corporation  1999.0   \n",
       "144  stuart energy systems corporation  1999.0   \n",
       "145  stuart energy systems corporation  1999.0   \n",
       "147  stuart energy systems corporation  1999.0   \n",
       "148  stuart energy systems corporation  1999.0   \n",
       "\n",
       "                                              Abstract   Topic  \n",
       "142  An energy distribution network for providing h...  topic1  \n",
       "144  An energy distribution network for providing h...  topic1  \n",
       "145  The present invention describes an energy dist...  topic1  \n",
       "147  An energy distribution network for providing h...  topic1  \n",
       "148  An energy distribution network for providing h...  topic1  "
      ]
     },
     "execution_count": 106,
     "metadata": {},
     "output_type": "execute_result"
    }
   ],
   "source": [
    "d[:5]"
   ]
  },
  {
   "cell_type": "code",
   "execution_count": 107,
   "metadata": {},
   "outputs": [],
   "source": [
    "d=d.groupby(['Assignee']).size()"
   ]
  },
  {
   "cell_type": "code",
   "execution_count": 108,
   "metadata": {},
   "outputs": [
    {
     "data": {
      "text/plain": [
       "Assignee\n",
       "toyota motor corp                                  153\n",
       "honda motor co ltd                                  78\n",
       "nissan motor co ltd                                 62\n",
       "hyundai motor co ltd                                50\n",
       "renault sas                                         23\n",
       "saudi arabian oil company                           14\n",
       "daewoo shipbuilding & marine engineering co ltd     14\n",
       "owens donald wade                                   11\n",
       "ford global technologies inc                        10\n",
       "hitachi ltd                                         10\n",
       "dtype: int64"
      ]
     },
     "execution_count": 108,
     "metadata": {},
     "output_type": "execute_result"
    }
   ],
   "source": [
    "d.sort_values(ascending=False)[:10]"
   ]
  },
  {
   "cell_type": "markdown",
   "metadata": {},
   "source": [
    "**These are top 10 firms using Topic 1**"
   ]
  },
  {
   "cell_type": "markdown",
   "metadata": {},
   "source": [
    "### For topic2"
   ]
  },
  {
   "cell_type": "code",
   "execution_count": 109,
   "metadata": {},
   "outputs": [
    {
     "data": {
      "text/plain": [
       "9127"
      ]
     },
     "execution_count": 109,
     "metadata": {},
     "output_type": "execute_result"
    }
   ],
   "source": [
    "k=df\n",
    "k=k[k.Topic==\"topic2\"]\n",
    "len(k)"
   ]
  },
  {
   "cell_type": "code",
   "execution_count": 110,
   "metadata": {},
   "outputs": [
    {
     "data": {
      "text/html": [
       "<div>\n",
       "<style scoped>\n",
       "    .dataframe tbody tr th:only-of-type {\n",
       "        vertical-align: middle;\n",
       "    }\n",
       "\n",
       "    .dataframe tbody tr th {\n",
       "        vertical-align: top;\n",
       "    }\n",
       "\n",
       "    .dataframe thead th {\n",
       "        text-align: right;\n",
       "    }\n",
       "</style>\n",
       "<table border=\"1\" class=\"dataframe\">\n",
       "  <thead>\n",
       "    <tr style=\"text-align: right;\">\n",
       "      <th></th>\n",
       "      <th>Topic_Perc_Contrib</th>\n",
       "      <th>Keywords</th>\n",
       "      <th>Assignee</th>\n",
       "      <th>Year</th>\n",
       "      <th>Abstract</th>\n",
       "      <th>Topic</th>\n",
       "    </tr>\n",
       "  </thead>\n",
       "  <tbody>\n",
       "    <tr>\n",
       "      <th>11</th>\n",
       "      <td>0.6251</td>\n",
       "      <td>cool, air, water, fuel, gas, heat, oil, pipe, ...</td>\n",
       "      <td>avl list gmbh graz</td>\n",
       "      <td>2000.0</td>\n",
       "      <td>A carburetor (14), preferably a slide valve ty...</td>\n",
       "      <td>topic2</td>\n",
       "    </tr>\n",
       "    <tr>\n",
       "      <th>12</th>\n",
       "      <td>0.8208</td>\n",
       "      <td>cool, air, water, fuel, gas, heat, oil, pipe, ...</td>\n",
       "      <td>avl list gmbh</td>\n",
       "      <td>2000.0</td>\n",
       "      <td>PROBLEM TO BE SOLVED: To improve quality of ex...</td>\n",
       "      <td>topic2</td>\n",
       "    </tr>\n",
       "    <tr>\n",
       "      <th>13</th>\n",
       "      <td>0.8197</td>\n",
       "      <td>cool, air, water, fuel, gas, heat, oil, pipe, ...</td>\n",
       "      <td>avl list gmbh</td>\n",
       "      <td>2000.0</td>\n",
       "      <td>PURPOSE: A four cycle engine is provided to im...</td>\n",
       "      <td>topic2</td>\n",
       "    </tr>\n",
       "    <tr>\n",
       "      <th>14</th>\n",
       "      <td>0.8357</td>\n",
       "      <td>cool, air, water, fuel, gas, heat, oil, pipe, ...</td>\n",
       "      <td>avl list gmbh</td>\n",
       "      <td>2000.0</td>\n",
       "      <td>The invention relates to a four-stroke interna...</td>\n",
       "      <td>topic2</td>\n",
       "    </tr>\n",
       "    <tr>\n",
       "      <th>15</th>\n",
       "      <td>0.8333</td>\n",
       "      <td>cool, air, water, fuel, gas, heat, oil, pipe, ...</td>\n",
       "      <td>avl list gmbh</td>\n",
       "      <td>2000.0</td>\n",
       "      <td>A four-stroke internal combustion engine with ...</td>\n",
       "      <td>topic2</td>\n",
       "    </tr>\n",
       "  </tbody>\n",
       "</table>\n",
       "</div>"
      ],
      "text/plain": [
       "    Topic_Perc_Contrib                                           Keywords  \\\n",
       "11              0.6251  cool, air, water, fuel, gas, heat, oil, pipe, ...   \n",
       "12              0.8208  cool, air, water, fuel, gas, heat, oil, pipe, ...   \n",
       "13              0.8197  cool, air, water, fuel, gas, heat, oil, pipe, ...   \n",
       "14              0.8357  cool, air, water, fuel, gas, heat, oil, pipe, ...   \n",
       "15              0.8333  cool, air, water, fuel, gas, heat, oil, pipe, ...   \n",
       "\n",
       "              Assignee    Year  \\\n",
       "11  avl list gmbh graz  2000.0   \n",
       "12       avl list gmbh  2000.0   \n",
       "13       avl list gmbh  2000.0   \n",
       "14       avl list gmbh  2000.0   \n",
       "15       avl list gmbh  2000.0   \n",
       "\n",
       "                                             Abstract   Topic  \n",
       "11  A carburetor (14), preferably a slide valve ty...  topic2  \n",
       "12  PROBLEM TO BE SOLVED: To improve quality of ex...  topic2  \n",
       "13  PURPOSE: A four cycle engine is provided to im...  topic2  \n",
       "14  The invention relates to a four-stroke interna...  topic2  \n",
       "15  A four-stroke internal combustion engine with ...  topic2  "
      ]
     },
     "execution_count": 110,
     "metadata": {},
     "output_type": "execute_result"
    }
   ],
   "source": [
    "k[:5]"
   ]
  },
  {
   "cell_type": "code",
   "execution_count": 111,
   "metadata": {},
   "outputs": [
    {
     "data": {
      "text/plain": [
       "Assignee\n",
       "toyota motor corp               506\n",
       "honda motor co ltd              450\n",
       "bosch corp                      381\n",
       "hyundai motor co ltd            298\n",
       "renault sas                     230\n",
       "nissan motor co ltd             187\n",
       "ford global technologies inc    171\n",
       "suzuki motor corp               127\n",
       "daimlerchrysler ag              120\n",
       "peugeot citroen automobiles     120\n",
       "dtype: int64"
      ]
     },
     "execution_count": 111,
     "metadata": {},
     "output_type": "execute_result"
    }
   ],
   "source": [
    "k=k.groupby(['Assignee']).size()\n",
    "k.sort_values(ascending=False)[:10]"
   ]
  },
  {
   "cell_type": "markdown",
   "metadata": {},
   "source": [
    "### Topic3"
   ]
  },
  {
   "cell_type": "code",
   "execution_count": 112,
   "metadata": {},
   "outputs": [
    {
     "data": {
      "text/plain": [
       "14176"
      ]
     },
     "execution_count": 112,
     "metadata": {},
     "output_type": "execute_result"
    }
   ],
   "source": [
    "e=df\n",
    "e=e[e.Topic==\"topic3\"]\n",
    "len(e)"
   ]
  },
  {
   "cell_type": "code",
   "execution_count": 113,
   "metadata": {},
   "outputs": [
    {
     "data": {
      "text/html": [
       "<div>\n",
       "<style scoped>\n",
       "    .dataframe tbody tr th:only-of-type {\n",
       "        vertical-align: middle;\n",
       "    }\n",
       "\n",
       "    .dataframe tbody tr th {\n",
       "        vertical-align: top;\n",
       "    }\n",
       "\n",
       "    .dataframe thead th {\n",
       "        text-align: right;\n",
       "    }\n",
       "</style>\n",
       "<table border=\"1\" class=\"dataframe\">\n",
       "  <thead>\n",
       "    <tr style=\"text-align: right;\">\n",
       "      <th></th>\n",
       "      <th>Topic_Perc_Contrib</th>\n",
       "      <th>Keywords</th>\n",
       "      <th>Assignee</th>\n",
       "      <th>Year</th>\n",
       "      <th>Abstract</th>\n",
       "      <th>Topic</th>\n",
       "    </tr>\n",
       "  </thead>\n",
       "  <tbody>\n",
       "    <tr>\n",
       "      <th>0</th>\n",
       "      <td>0.8586</td>\n",
       "      <td>charge, battery, power, voltage, electric, mod...</td>\n",
       "      <td>luz electric fuel israel ltd</td>\n",
       "      <td>1990.0</td>\n",
       "      <td>An electrical energy system including an elect...</td>\n",
       "      <td>topic3</td>\n",
       "    </tr>\n",
       "    <tr>\n",
       "      <th>1</th>\n",
       "      <td>0.8034</td>\n",
       "      <td>charge, battery, power, voltage, electric, mod...</td>\n",
       "      <td>luz electric fuel israel ltd</td>\n",
       "      <td>1990.0</td>\n",
       "      <td>An electrical energy system including an elect...</td>\n",
       "      <td>topic3</td>\n",
       "    </tr>\n",
       "  </tbody>\n",
       "</table>\n",
       "</div>"
      ],
      "text/plain": [
       "   Topic_Perc_Contrib                                           Keywords  \\\n",
       "0              0.8586  charge, battery, power, voltage, electric, mod...   \n",
       "1              0.8034  charge, battery, power, voltage, electric, mod...   \n",
       "\n",
       "                       Assignee    Year  \\\n",
       "0  luz electric fuel israel ltd  1990.0   \n",
       "1  luz electric fuel israel ltd  1990.0   \n",
       "\n",
       "                                            Abstract   Topic  \n",
       "0  An electrical energy system including an elect...  topic3  \n",
       "1  An electrical energy system including an elect...  topic3  "
      ]
     },
     "execution_count": 113,
     "metadata": {},
     "output_type": "execute_result"
    }
   ],
   "source": [
    "e[:2]"
   ]
  },
  {
   "cell_type": "code",
   "execution_count": 114,
   "metadata": {},
   "outputs": [
    {
     "data": {
      "text/plain": [
       "Assignee\n",
       "toyota motor corp               961\n",
       "honda motor co ltd              568\n",
       "hyundai motor co ltd            462\n",
       "mitsubishi motors corp          331\n",
       "nissan motor co ltd             267\n",
       "ford global technologies inc    239\n",
       "bosch corp                      226\n",
       "lsis co ltd                     222\n",
       "hitachi ltd                     160\n",
       "denso corp                      155\n",
       "dtype: int64"
      ]
     },
     "execution_count": 114,
     "metadata": {},
     "output_type": "execute_result"
    }
   ],
   "source": [
    "e=e.groupby(['Assignee']).size()\n",
    "e.sort_values(ascending=False)[:10]"
   ]
  },
  {
   "cell_type": "markdown",
   "metadata": {},
   "source": [
    "### Topic 4"
   ]
  },
  {
   "cell_type": "code",
   "execution_count": 115,
   "metadata": {},
   "outputs": [
    {
     "data": {
      "text/plain": [
       "16775"
      ]
     },
     "execution_count": 115,
     "metadata": {},
     "output_type": "execute_result"
    }
   ],
   "source": [
    "f=df\n",
    "f=f[f.Topic==\"topic4\"]\n",
    "len(f)"
   ]
  },
  {
   "cell_type": "code",
   "execution_count": 116,
   "metadata": {},
   "outputs": [
    {
     "data": {
      "text/plain": [
       "Assignee\n",
       "toyota motor corp               4038\n",
       "honda motor co ltd              1411\n",
       "nissan motor co ltd             1255\n",
       "hyundai motor co ltd             867\n",
       "mitsubishi motors corp           628\n",
       "bosch corp                       622\n",
       "ford global technologies inc     571\n",
       "denso corp                       542\n",
       "hitachi ltd                      276\n",
       "suzuki motor corp                193\n",
       "dtype: int64"
      ]
     },
     "execution_count": 116,
     "metadata": {},
     "output_type": "execute_result"
    }
   ],
   "source": [
    "f=f.groupby(['Assignee']).size()\n",
    "f.sort_values(ascending=False)[:10]"
   ]
  },
  {
   "cell_type": "markdown",
   "metadata": {},
   "source": [
    "### Topic 5"
   ]
  },
  {
   "cell_type": "code",
   "execution_count": 117,
   "metadata": {},
   "outputs": [
    {
     "data": {
      "text/plain": [
       "5822"
      ]
     },
     "execution_count": 117,
     "metadata": {},
     "output_type": "execute_result"
    }
   ],
   "source": [
    "g=df\n",
    "g=g[g.Topic==\"topic5\"]\n",
    "len(g)"
   ]
  },
  {
   "cell_type": "code",
   "execution_count": 118,
   "metadata": {},
   "outputs": [
    {
     "data": {
      "text/plain": [
       "Assignee\n",
       "bosch corp                      929\n",
       "toyota motor corp               516\n",
       "nissan motor co ltd             196\n",
       "ford global technologies inc    192\n",
       "continental automotive gmbh     156\n",
       "honda motor co ltd              120\n",
       "denso corp                      119\n",
       "renault sas                     108\n",
       "daimlerchrysler ag              104\n",
       "peugeot citroen automobiles     103\n",
       "dtype: int64"
      ]
     },
     "execution_count": 118,
     "metadata": {},
     "output_type": "execute_result"
    }
   ],
   "source": [
    "g=g.groupby(['Assignee']).size()\n",
    "g.sort_values(ascending=False)[:10]"
   ]
  },
  {
   "cell_type": "markdown",
   "metadata": {},
   "source": [
    "### Topic 6"
   ]
  },
  {
   "cell_type": "code",
   "execution_count": 119,
   "metadata": {},
   "outputs": [
    {
     "data": {
      "text/plain": [
       "9717"
      ]
     },
     "execution_count": 119,
     "metadata": {},
     "output_type": "execute_result"
    }
   ],
   "source": [
    "h=df\n",
    "h=h[h.Topic==\"topic6\"]\n",
    "len(h)"
   ]
  },
  {
   "cell_type": "code",
   "execution_count": 120,
   "metadata": {},
   "outputs": [
    {
     "data": {
      "text/plain": [
       "Assignee\n",
       "honda motor co ltd              822\n",
       "toyota motor corp               385\n",
       "bosch corp                      311\n",
       "nissan motor co ltd             214\n",
       "yamaha motor co ltd             185\n",
       "mitsubishi motors corp          129\n",
       "hyundai motor co ltd            125\n",
       "suzuki motor corp               117\n",
       "ford global technologies inc     93\n",
       "renault sas                      93\n",
       "dtype: int64"
      ]
     },
     "execution_count": 120,
     "metadata": {},
     "output_type": "execute_result"
    }
   ],
   "source": [
    "h=h.groupby(['Assignee']).size()\n",
    "h.sort_values(ascending=False)[:10]"
   ]
  },
  {
   "cell_type": "markdown",
   "metadata": {},
   "source": [
    "### Topic 7"
   ]
  },
  {
   "cell_type": "code",
   "execution_count": 121,
   "metadata": {},
   "outputs": [
    {
     "data": {
      "text/plain": [
       "3783"
      ]
     },
     "execution_count": 121,
     "metadata": {},
     "output_type": "execute_result"
    }
   ],
   "source": [
    "i=df\n",
    "i=i[i.Topic==\"topic7\"]\n",
    "len(i)"
   ]
  },
  {
   "cell_type": "code",
   "execution_count": 122,
   "metadata": {},
   "outputs": [
    {
     "data": {
      "text/plain": [
       "Assignee\n",
       "toyota motor corp               518\n",
       "nissan motor co ltd             132\n",
       "bosch corp                      102\n",
       "honda motor co ltd               83\n",
       "peugeot citroen automobiles      81\n",
       "renault sas                      75\n",
       "isuzu motors ltd                 70\n",
       "ford global technologies inc     58\n",
       "volkswagen group                 57\n",
       "samsung sdi co ltd               46\n",
       "dtype: int64"
      ]
     },
     "execution_count": 122,
     "metadata": {},
     "output_type": "execute_result"
    }
   ],
   "source": [
    "i=i.groupby(['Assignee']).size()\n",
    "i.sort_values(ascending=False)[:10]"
   ]
  },
  {
   "cell_type": "markdown",
   "metadata": {},
   "source": [
    "### Topic 8"
   ]
  },
  {
   "cell_type": "code",
   "execution_count": 123,
   "metadata": {},
   "outputs": [
    {
     "data": {
      "text/plain": [
       "8172"
      ]
     },
     "execution_count": 123,
     "metadata": {},
     "output_type": "execute_result"
    }
   ],
   "source": [
    "j=df\n",
    "j=j[j.Topic==\"topic8\"]\n",
    "len(j)"
   ]
  },
  {
   "cell_type": "code",
   "execution_count": 124,
   "metadata": {},
   "outputs": [
    {
     "data": {
      "text/plain": [
       "Assignee\n",
       "toyota motor corp               1048\n",
       "hyundai motor co ltd             731\n",
       "nissan motor co ltd              572\n",
       "ford global technologies inc     479\n",
       "honda motor co ltd               445\n",
       "bosch corp                       193\n",
       "aisin aw co ltd                  178\n",
       "mitsubishi motors corp           134\n",
       "peugeot citroen automobiles       90\n",
       "general motors corporation        78\n",
       "dtype: int64"
      ]
     },
     "execution_count": 124,
     "metadata": {},
     "output_type": "execute_result"
    }
   ],
   "source": [
    "j=j.groupby(['Assignee']).size()\n",
    "j.sort_values(ascending=False)[:10]"
   ]
  },
  {
   "cell_type": "markdown",
   "metadata": {},
   "source": [
    "### Using crosstab\n",
    "\n",
    "showing each assignee and what is topic contribution in that"
   ]
  },
  {
   "cell_type": "code",
   "execution_count": 125,
   "metadata": {},
   "outputs": [
    {
     "data": {
      "text/plain": [
       "toyota motor corp               8125\n",
       "honda motor co ltd              3977\n",
       "nissan motor co ltd             2885\n",
       "bosch corp                      2770\n",
       "hyundai motor co ltd            2597\n",
       "ford global technologies inc    1813\n",
       "mitsubishi motors corp          1412\n",
       "denso corp                      1097\n",
       "renault sas                      859\n",
       "hitachi ltd                      759\n",
       "peugeot citroen automobiles      688\n",
       "suzuki motor corp                528\n",
       "daimlerchrysler ag               503\n",
       "general motors corporation       475\n",
       "yamaha motor co ltd              466\n",
       "aisin aw co ltd                  458\n",
       "volkswagen group                 375\n",
       "continental automotive gmbh      316\n",
       "isuzu motors ltd                 300\n",
       "siemens aktiengesellschaft       285\n",
       "Name: Assignee, dtype: int64"
      ]
     },
     "execution_count": 125,
     "metadata": {},
     "output_type": "execute_result"
    }
   ],
   "source": [
    "# top assignee\n",
    "\n",
    "df.Assignee.value_counts()[:20]"
   ]
  },
  {
   "cell_type": "code",
   "execution_count": 126,
   "metadata": {},
   "outputs": [
    {
     "data": {
      "text/html": [
       "<div>\n",
       "<style scoped>\n",
       "    .dataframe tbody tr th:only-of-type {\n",
       "        vertical-align: middle;\n",
       "    }\n",
       "\n",
       "    .dataframe tbody tr th {\n",
       "        vertical-align: top;\n",
       "    }\n",
       "\n",
       "    .dataframe thead th {\n",
       "        text-align: right;\n",
       "    }\n",
       "</style>\n",
       "<table border=\"1\" class=\"dataframe\">\n",
       "  <thead>\n",
       "    <tr style=\"text-align: right;\">\n",
       "      <th></th>\n",
       "      <th>Topic_Perc_Contrib</th>\n",
       "      <th>Keywords</th>\n",
       "      <th>Assignee</th>\n",
       "      <th>Year</th>\n",
       "      <th>Abstract</th>\n",
       "      <th>Topic</th>\n",
       "    </tr>\n",
       "  </thead>\n",
       "  <tbody>\n",
       "    <tr>\n",
       "      <th>4307</th>\n",
       "      <td>0.4676</td>\n",
       "      <td>catalyst, exhaust, parking, gas, electrode, in...</td>\n",
       "      <td>toyota motor corp</td>\n",
       "      <td>2002.0</td>\n",
       "      <td>An internal combustion engine of a vehicle is ...</td>\n",
       "      <td>topic7</td>\n",
       "    </tr>\n",
       "    <tr>\n",
       "      <th>5149</th>\n",
       "      <td>0.4212</td>\n",
       "      <td>cool, air, water, fuel, gas, heat, oil, pipe, ...</td>\n",
       "      <td>toyota motor corp</td>\n",
       "      <td>1991.0</td>\n",
       "      <td>PURPOSE:To prevent deteriorated fuel atomizati...</td>\n",
       "      <td>topic2</td>\n",
       "    </tr>\n",
       "    <tr>\n",
       "      <th>5156</th>\n",
       "      <td>0.4518</td>\n",
       "      <td>torque, speed, value, control, mode, travel, s...</td>\n",
       "      <td>toyota motor corp</td>\n",
       "      <td>1997.0</td>\n",
       "      <td>PROBLEM TO BE SOLVED: To provide a power gener...</td>\n",
       "      <td>topic4</td>\n",
       "    </tr>\n",
       "    <tr>\n",
       "      <th>5157</th>\n",
       "      <td>0.5457</td>\n",
       "      <td>cool, air, water, fuel, gas, heat, oil, pipe, ...</td>\n",
       "      <td>toyota motor corp</td>\n",
       "      <td>1995.0</td>\n",
       "      <td>PURPOSE: To reduce ventilation resistance of a...</td>\n",
       "      <td>topic2</td>\n",
       "    </tr>\n",
       "    <tr>\n",
       "      <th>5158</th>\n",
       "      <td>0.6581</td>\n",
       "      <td>cool, air, water, fuel, gas, heat, oil, pipe, ...</td>\n",
       "      <td>toyota motor corp</td>\n",
       "      <td>1995.0</td>\n",
       "      <td>A fuel vapor treating apparatus for an engine ...</td>\n",
       "      <td>topic2</td>\n",
       "    </tr>\n",
       "  </tbody>\n",
       "</table>\n",
       "</div>"
      ],
      "text/plain": [
       "      Topic_Perc_Contrib                                           Keywords  \\\n",
       "4307              0.4676  catalyst, exhaust, parking, gas, electrode, in...   \n",
       "5149              0.4212  cool, air, water, fuel, gas, heat, oil, pipe, ...   \n",
       "5156              0.4518  torque, speed, value, control, mode, travel, s...   \n",
       "5157              0.5457  cool, air, water, fuel, gas, heat, oil, pipe, ...   \n",
       "5158              0.6581  cool, air, water, fuel, gas, heat, oil, pipe, ...   \n",
       "\n",
       "               Assignee    Year  \\\n",
       "4307  toyota motor corp  2002.0   \n",
       "5149  toyota motor corp  1991.0   \n",
       "5156  toyota motor corp  1997.0   \n",
       "5157  toyota motor corp  1995.0   \n",
       "5158  toyota motor corp  1995.0   \n",
       "\n",
       "                                               Abstract   Topic  \n",
       "4307  An internal combustion engine of a vehicle is ...  topic7  \n",
       "5149  PURPOSE:To prevent deteriorated fuel atomizati...  topic2  \n",
       "5156  PROBLEM TO BE SOLVED: To provide a power gener...  topic4  \n",
       "5157  PURPOSE: To reduce ventilation resistance of a...  topic2  \n",
       "5158  A fuel vapor treating apparatus for an engine ...  topic2  "
      ]
     },
     "execution_count": 126,
     "metadata": {},
     "output_type": "execute_result"
    }
   ],
   "source": [
    "w=df\n",
    "w=w[w.Assignee==\"toyota motor corp\"]\n",
    "w[:5]"
   ]
  },
  {
   "cell_type": "code",
   "execution_count": 127,
   "metadata": {},
   "outputs": [
    {
     "data": {
      "text/plain": [
       "8125"
      ]
     },
     "execution_count": 127,
     "metadata": {},
     "output_type": "execute_result"
    }
   ],
   "source": [
    "len(w)"
   ]
  },
  {
   "cell_type": "code",
   "execution_count": 128,
   "metadata": {},
   "outputs": [
    {
     "data": {
      "text/html": [
       "<div>\n",
       "<style scoped>\n",
       "    .dataframe tbody tr th:only-of-type {\n",
       "        vertical-align: middle;\n",
       "    }\n",
       "\n",
       "    .dataframe tbody tr th {\n",
       "        vertical-align: top;\n",
       "    }\n",
       "\n",
       "    .dataframe thead th {\n",
       "        text-align: right;\n",
       "    }\n",
       "</style>\n",
       "<table border=\"1\" class=\"dataframe\">\n",
       "  <thead>\n",
       "    <tr style=\"text-align: right;\">\n",
       "      <th>Topic</th>\n",
       "      <th>topic1</th>\n",
       "      <th>topic2</th>\n",
       "      <th>topic3</th>\n",
       "      <th>topic4</th>\n",
       "      <th>topic5</th>\n",
       "      <th>topic6</th>\n",
       "      <th>topic7</th>\n",
       "      <th>topic8</th>\n",
       "    </tr>\n",
       "    <tr>\n",
       "      <th>Assignee</th>\n",
       "      <th></th>\n",
       "      <th></th>\n",
       "      <th></th>\n",
       "      <th></th>\n",
       "      <th></th>\n",
       "      <th></th>\n",
       "      <th></th>\n",
       "      <th></th>\n",
       "    </tr>\n",
       "  </thead>\n",
       "  <tbody>\n",
       "    <tr>\n",
       "      <th>False</th>\n",
       "      <td>1037</td>\n",
       "      <td>8621</td>\n",
       "      <td>13215</td>\n",
       "      <td>12737</td>\n",
       "      <td>5306</td>\n",
       "      <td>9332</td>\n",
       "      <td>3265</td>\n",
       "      <td>7124</td>\n",
       "    </tr>\n",
       "    <tr>\n",
       "      <th>True</th>\n",
       "      <td>153</td>\n",
       "      <td>506</td>\n",
       "      <td>961</td>\n",
       "      <td>4038</td>\n",
       "      <td>516</td>\n",
       "      <td>385</td>\n",
       "      <td>518</td>\n",
       "      <td>1048</td>\n",
       "    </tr>\n",
       "  </tbody>\n",
       "</table>\n",
       "</div>"
      ],
      "text/plain": [
       "Topic     topic1  topic2  topic3  topic4  topic5  topic6  topic7  topic8\n",
       "Assignee                                                                \n",
       "False       1037    8621   13215   12737    5306    9332    3265    7124\n",
       "True         153     506     961    4038     516     385     518    1048"
      ]
     },
     "execution_count": 128,
     "metadata": {},
     "output_type": "execute_result"
    }
   ],
   "source": [
    "pd.crosstab(df.Assignee==\"toyota motor corp\", df.Topic)"
   ]
  },
  {
   "cell_type": "markdown",
   "metadata": {},
   "source": [
    "**We can use %age as well to show how much a topic has contributed to Toyota Motors' innovation profile**"
   ]
  },
  {
   "cell_type": "code",
   "execution_count": 129,
   "metadata": {},
   "outputs": [
    {
     "data": {
      "text/html": [
       "<div>\n",
       "<style scoped>\n",
       "    .dataframe tbody tr th:only-of-type {\n",
       "        vertical-align: middle;\n",
       "    }\n",
       "\n",
       "    .dataframe tbody tr th {\n",
       "        vertical-align: top;\n",
       "    }\n",
       "\n",
       "    .dataframe thead th {\n",
       "        text-align: right;\n",
       "    }\n",
       "</style>\n",
       "<table border=\"1\" class=\"dataframe\">\n",
       "  <thead>\n",
       "    <tr style=\"text-align: right;\">\n",
       "      <th>Topic</th>\n",
       "      <th>topic1</th>\n",
       "      <th>topic2</th>\n",
       "      <th>topic3</th>\n",
       "      <th>topic4</th>\n",
       "      <th>topic5</th>\n",
       "      <th>topic6</th>\n",
       "      <th>topic7</th>\n",
       "      <th>topic8</th>\n",
       "    </tr>\n",
       "    <tr>\n",
       "      <th>Assignee</th>\n",
       "      <th></th>\n",
       "      <th></th>\n",
       "      <th></th>\n",
       "      <th></th>\n",
       "      <th></th>\n",
       "      <th></th>\n",
       "      <th></th>\n",
       "      <th></th>\n",
       "    </tr>\n",
       "  </thead>\n",
       "  <tbody>\n",
       "    <tr>\n",
       "      <th>False</th>\n",
       "      <td>1184</td>\n",
       "      <td>8746</td>\n",
       "      <td>13950</td>\n",
       "      <td>16153</td>\n",
       "      <td>4893</td>\n",
       "      <td>9406</td>\n",
       "      <td>3681</td>\n",
       "      <td>7979</td>\n",
       "    </tr>\n",
       "    <tr>\n",
       "      <th>True</th>\n",
       "      <td>6</td>\n",
       "      <td>381</td>\n",
       "      <td>226</td>\n",
       "      <td>622</td>\n",
       "      <td>929</td>\n",
       "      <td>311</td>\n",
       "      <td>102</td>\n",
       "      <td>193</td>\n",
       "    </tr>\n",
       "  </tbody>\n",
       "</table>\n",
       "</div>"
      ],
      "text/plain": [
       "Topic     topic1  topic2  topic3  topic4  topic5  topic6  topic7  topic8\n",
       "Assignee                                                                \n",
       "False       1184    8746   13950   16153    4893    9406    3681    7979\n",
       "True           6     381     226     622     929     311     102     193"
      ]
     },
     "execution_count": 129,
     "metadata": {},
     "output_type": "execute_result"
    }
   ],
   "source": [
    "pd.crosstab(df.Assignee==\"bosch corp\", df.Topic)"
   ]
  },
  {
   "cell_type": "markdown",
   "metadata": {},
   "source": [
    "# 3)-Share of patents by  technological topics\n",
    "\n",
    "table 3 in paper\n",
    "\n",
    "- As we have decline after 2011. It had highest patents i.e 5737. So we shall take it as base year for current patent share.\n",
    "\n",
    "- For CAGR, we will use 2009-2013. This is to represent patent sample in a symmetric way."
   ]
  },
  {
   "cell_type": "code",
   "execution_count": 130,
   "metadata": {},
   "outputs": [],
   "source": [
    "df = pd.read_pickle('work_on_paper.pkl')"
   ]
  },
  {
   "cell_type": "code",
   "execution_count": 131,
   "metadata": {},
   "outputs": [
    {
     "data": {
      "text/plain": [
       "(68762, 6)"
      ]
     },
     "execution_count": 131,
     "metadata": {},
     "output_type": "execute_result"
    }
   ],
   "source": [
    "df.shape"
   ]
  },
  {
   "cell_type": "code",
   "execution_count": 132,
   "metadata": {},
   "outputs": [
    {
     "data": {
      "text/html": [
       "<div>\n",
       "<style scoped>\n",
       "    .dataframe tbody tr th:only-of-type {\n",
       "        vertical-align: middle;\n",
       "    }\n",
       "\n",
       "    .dataframe tbody tr th {\n",
       "        vertical-align: top;\n",
       "    }\n",
       "\n",
       "    .dataframe thead th {\n",
       "        text-align: right;\n",
       "    }\n",
       "</style>\n",
       "<table border=\"1\" class=\"dataframe\">\n",
       "  <thead>\n",
       "    <tr style=\"text-align: right;\">\n",
       "      <th></th>\n",
       "      <th>Topic_Perc_Contrib</th>\n",
       "      <th>Keywords</th>\n",
       "      <th>Assignee</th>\n",
       "      <th>Year</th>\n",
       "      <th>Abstract</th>\n",
       "      <th>Topic</th>\n",
       "    </tr>\n",
       "  </thead>\n",
       "  <tbody>\n",
       "    <tr>\n",
       "      <th>0</th>\n",
       "      <td>0.8586</td>\n",
       "      <td>charge, battery, power, voltage, electric, mod...</td>\n",
       "      <td>luz electric fuel israel ltd</td>\n",
       "      <td>1990.0</td>\n",
       "      <td>An electrical energy system including an elect...</td>\n",
       "      <td>topic3</td>\n",
       "    </tr>\n",
       "    <tr>\n",
       "      <th>1</th>\n",
       "      <td>0.8034</td>\n",
       "      <td>charge, battery, power, voltage, electric, mod...</td>\n",
       "      <td>luz electric fuel israel ltd</td>\n",
       "      <td>1990.0</td>\n",
       "      <td>An electrical energy system including an elect...</td>\n",
       "      <td>topic3</td>\n",
       "    </tr>\n",
       "    <tr>\n",
       "      <th>2</th>\n",
       "      <td>0.3665</td>\n",
       "      <td>body, side, utility, end, model, support, part...</td>\n",
       "      <td>sumitomo electric industries ltd</td>\n",
       "      <td>1995.0</td>\n",
       "      <td>An object is to provide a particulate trap for...</td>\n",
       "      <td>topic6</td>\n",
       "    </tr>\n",
       "    <tr>\n",
       "      <th>3</th>\n",
       "      <td>0.5438</td>\n",
       "      <td>body, side, utility, end, model, support, part...</td>\n",
       "      <td>sumitomo electric ind ltd</td>\n",
       "      <td>1995.0</td>\n",
       "      <td>PURPOSE: To obtain a trap by which the leakage...</td>\n",
       "      <td>topic6</td>\n",
       "    </tr>\n",
       "    <tr>\n",
       "      <th>4</th>\n",
       "      <td>0.3044</td>\n",
       "      <td>body, side, utility, end, model, support, part...</td>\n",
       "      <td>sumitomo electric industries ltd</td>\n",
       "      <td>1995.0</td>\n",
       "      <td>A particulate trap for a diesel engine designe...</td>\n",
       "      <td>topic6</td>\n",
       "    </tr>\n",
       "  </tbody>\n",
       "</table>\n",
       "</div>"
      ],
      "text/plain": [
       "   Topic_Perc_Contrib                                           Keywords  \\\n",
       "0              0.8586  charge, battery, power, voltage, electric, mod...   \n",
       "1              0.8034  charge, battery, power, voltage, electric, mod...   \n",
       "2              0.3665  body, side, utility, end, model, support, part...   \n",
       "3              0.5438  body, side, utility, end, model, support, part...   \n",
       "4              0.3044  body, side, utility, end, model, support, part...   \n",
       "\n",
       "                           Assignee    Year  \\\n",
       "0      luz electric fuel israel ltd  1990.0   \n",
       "1      luz electric fuel israel ltd  1990.0   \n",
       "2  sumitomo electric industries ltd  1995.0   \n",
       "3         sumitomo electric ind ltd  1995.0   \n",
       "4  sumitomo electric industries ltd  1995.0   \n",
       "\n",
       "                                            Abstract   Topic  \n",
       "0  An electrical energy system including an elect...  topic3  \n",
       "1  An electrical energy system including an elect...  topic3  \n",
       "2  An object is to provide a particulate trap for...  topic6  \n",
       "3  PURPOSE: To obtain a trap by which the leakage...  topic6  \n",
       "4  A particulate trap for a diesel engine designe...  topic6  "
      ]
     },
     "execution_count": 132,
     "metadata": {},
     "output_type": "execute_result"
    }
   ],
   "source": [
    "df.head()"
   ]
  },
  {
   "cell_type": "code",
   "execution_count": 134,
   "metadata": {},
   "outputs": [
    {
     "data": {
      "text/plain": [
       "5737"
      ]
     },
     "execution_count": 134,
     "metadata": {},
     "output_type": "execute_result"
    }
   ],
   "source": [
    "# How many patents we had in year 2011\n",
    "len(df[df.Year==2011])"
   ]
  },
  {
   "cell_type": "code",
   "execution_count": 135,
   "metadata": {},
   "outputs": [
    {
     "data": {
      "text/plain": [
       "Year   Topic \n",
       "False  topic4    15406\n",
       "       topic3    12447\n",
       "       topic6     8895\n",
       "       topic2     8583\n",
       "       topic8     7478\n",
       "       topic5     5507\n",
       "       topic7     3583\n",
       "       topic1     1126\n",
       "True   topic3     1729\n",
       "       topic4     1369\n",
       "       topic6      822\n",
       "       topic8      694\n",
       "       topic2      544\n",
       "       topic5      315\n",
       "       topic7      200\n",
       "       topic1       64\n",
       "Name: Topic, dtype: int64"
      ]
     },
     "execution_count": 135,
     "metadata": {},
     "output_type": "execute_result"
    }
   ],
   "source": [
    "# start with 2011 as of base year\n",
    "df.groupby(df.Year==2011).Topic.value_counts()"
   ]
  },
  {
   "cell_type": "markdown",
   "metadata": {},
   "source": [
    "5737 for 2011<br>\n",
    "5737/68762=8.34 %"
   ]
  },
  {
   "cell_type": "markdown",
   "metadata": {},
   "source": [
    "### for patent share"
   ]
  },
  {
   "cell_type": "code",
   "execution_count": 137,
   "metadata": {},
   "outputs": [
    {
     "data": {
      "text/plain": [
       "Year   Topic \n",
       "False  topic4    0.244443\n",
       "       topic3    0.197493\n",
       "       topic6    0.141134\n",
       "       topic2    0.136184\n",
       "       topic8    0.118651\n",
       "       topic5    0.087378\n",
       "       topic7    0.056850\n",
       "       topic1    0.017866\n",
       "True   topic3    0.301377\n",
       "       topic4    0.238626\n",
       "       topic6    0.143280\n",
       "       topic8    0.120969\n",
       "       topic2    0.094823\n",
       "       topic5    0.054907\n",
       "       topic7    0.034861\n",
       "       topic1    0.011156\n",
       "Name: Topic, dtype: float64"
      ]
     },
     "execution_count": 137,
     "metadata": {},
     "output_type": "execute_result"
    }
   ],
   "source": [
    "df.groupby(df.Year==2011).Topic.value_counts(normalize=True)"
   ]
  },
  {
   "cell_type": "code",
   "execution_count": 140,
   "metadata": {},
   "outputs": [
    {
     "data": {
      "text/plain": [
       "Year\n",
       "False    63025\n",
       "True      5737\n",
       "Name: Topic, dtype: int64"
      ]
     },
     "execution_count": 140,
     "metadata": {},
     "output_type": "execute_result"
    }
   ],
   "source": [
    "df.groupby(df.Year==2011).Topic.count()"
   ]
  },
  {
   "cell_type": "markdown",
   "metadata": {},
   "source": [
    "**Total patents in 2011 are 5737**\n",
    "\n",
    "- Let's varify : \n",
    "\n",
    "topic1= 64/5737= 0.011 Correct"
   ]
  },
  {
   "cell_type": "markdown",
   "metadata": {},
   "source": [
    "### Calculate CAGR\n",
    "https://www.investopedia.com/terms/c/cagr.asp\n",
    "\n",
    "We will consider years from 2009-2013"
   ]
  },
  {
   "cell_type": "code",
   "execution_count": 141,
   "metadata": {},
   "outputs": [
    {
     "data": {
      "text/plain": [
       "3754"
      ]
     },
     "execution_count": 141,
     "metadata": {},
     "output_type": "execute_result"
    }
   ],
   "source": [
    "len(df[df.Year== 2009])"
   ]
  },
  {
   "cell_type": "code",
   "execution_count": 142,
   "metadata": {},
   "outputs": [
    {
     "data": {
      "text/plain": [
       "Year   Topic \n",
       "False  topic1     1142\n",
       "       topic2     8706\n",
       "       topic3    13124\n",
       "       topic4    16033\n",
       "       topic5     5577\n",
       "       topic6     9169\n",
       "       topic7     3631\n",
       "       topic8     7626\n",
       "True   topic1       48\n",
       "       topic2      421\n",
       "       topic3     1052\n",
       "       topic4      742\n",
       "       topic5      245\n",
       "       topic6      548\n",
       "       topic7      152\n",
       "       topic8      546\n",
       "Name: Topic, dtype: int64"
      ]
     },
     "execution_count": 142,
     "metadata": {},
     "output_type": "execute_result"
    }
   ],
   "source": [
    "df.groupby(df.Year==2009).Topic.value_counts(sort=False)"
   ]
  },
  {
   "cell_type": "markdown",
   "metadata": {},
   "source": [
    "Initial values for patent share are given "
   ]
  },
  {
   "cell_type": "markdown",
   "metadata": {},
   "source": [
    "**For 2013**"
   ]
  },
  {
   "cell_type": "code",
   "execution_count": 143,
   "metadata": {},
   "outputs": [
    {
     "data": {
      "text/plain": [
       "4247"
      ]
     },
     "execution_count": 143,
     "metadata": {},
     "output_type": "execute_result"
    }
   ],
   "source": [
    "len(df[df.Year== 2013])"
   ]
  },
  {
   "cell_type": "code",
   "execution_count": 144,
   "metadata": {},
   "outputs": [
    {
     "data": {
      "text/plain": [
       "Year   Topic \n",
       "False  topic1     1168\n",
       "       topic2     8730\n",
       "       topic3    12972\n",
       "       topic4    15650\n",
       "       topic5     5599\n",
       "       topic6     9191\n",
       "       topic7     3677\n",
       "       topic8     7528\n",
       "True   topic1       22\n",
       "       topic2      397\n",
       "       topic3     1204\n",
       "       topic4     1125\n",
       "       topic5      223\n",
       "       topic6      526\n",
       "       topic7      106\n",
       "       topic8      644\n",
       "Name: Topic, dtype: int64"
      ]
     },
     "execution_count": 144,
     "metadata": {},
     "output_type": "execute_result"
    }
   ],
   "source": [
    "df.groupby(df.Year==2013).Topic.value_counts(sort=False)"
   ]
  },
  {
   "cell_type": "markdown",
   "metadata": {},
   "source": [
    "# 4)-Adding topic types as per topic\n",
    "\n",
    "Table 6: Major assignee by topic type"
   ]
  },
  {
   "cell_type": "code",
   "execution_count": 145,
   "metadata": {},
   "outputs": [],
   "source": [
    "df = pd.read_pickle('work_on_paper.pkl')"
   ]
  },
  {
   "cell_type": "code",
   "execution_count": 146,
   "metadata": {
    "scrolled": true
   },
   "outputs": [
    {
     "data": {
      "text/html": [
       "<div>\n",
       "<style scoped>\n",
       "    .dataframe tbody tr th:only-of-type {\n",
       "        vertical-align: middle;\n",
       "    }\n",
       "\n",
       "    .dataframe tbody tr th {\n",
       "        vertical-align: top;\n",
       "    }\n",
       "\n",
       "    .dataframe thead th {\n",
       "        text-align: right;\n",
       "    }\n",
       "</style>\n",
       "<table border=\"1\" class=\"dataframe\">\n",
       "  <thead>\n",
       "    <tr style=\"text-align: right;\">\n",
       "      <th></th>\n",
       "      <th>Topic_Perc_Contrib</th>\n",
       "      <th>Keywords</th>\n",
       "      <th>Assignee</th>\n",
       "      <th>Year</th>\n",
       "      <th>Abstract</th>\n",
       "      <th>Topic</th>\n",
       "    </tr>\n",
       "  </thead>\n",
       "  <tbody>\n",
       "    <tr>\n",
       "      <th>0</th>\n",
       "      <td>0.8586</td>\n",
       "      <td>charge, battery, power, voltage, electric, mod...</td>\n",
       "      <td>luz electric fuel israel ltd</td>\n",
       "      <td>1990.0</td>\n",
       "      <td>An electrical energy system including an elect...</td>\n",
       "      <td>topic3</td>\n",
       "    </tr>\n",
       "    <tr>\n",
       "      <th>1</th>\n",
       "      <td>0.8034</td>\n",
       "      <td>charge, battery, power, voltage, electric, mod...</td>\n",
       "      <td>luz electric fuel israel ltd</td>\n",
       "      <td>1990.0</td>\n",
       "      <td>An electrical energy system including an elect...</td>\n",
       "      <td>topic3</td>\n",
       "    </tr>\n",
       "    <tr>\n",
       "      <th>2</th>\n",
       "      <td>0.3665</td>\n",
       "      <td>body, side, utility, end, model, support, part...</td>\n",
       "      <td>sumitomo electric industries ltd</td>\n",
       "      <td>1995.0</td>\n",
       "      <td>An object is to provide a particulate trap for...</td>\n",
       "      <td>topic6</td>\n",
       "    </tr>\n",
       "    <tr>\n",
       "      <th>3</th>\n",
       "      <td>0.5438</td>\n",
       "      <td>body, side, utility, end, model, support, part...</td>\n",
       "      <td>sumitomo electric ind ltd</td>\n",
       "      <td>1995.0</td>\n",
       "      <td>PURPOSE: To obtain a trap by which the leakage...</td>\n",
       "      <td>topic6</td>\n",
       "    </tr>\n",
       "    <tr>\n",
       "      <th>4</th>\n",
       "      <td>0.3044</td>\n",
       "      <td>body, side, utility, end, model, support, part...</td>\n",
       "      <td>sumitomo electric industries ltd</td>\n",
       "      <td>1995.0</td>\n",
       "      <td>A particulate trap for a diesel engine designe...</td>\n",
       "      <td>topic6</td>\n",
       "    </tr>\n",
       "  </tbody>\n",
       "</table>\n",
       "</div>"
      ],
      "text/plain": [
       "   Topic_Perc_Contrib                                           Keywords  \\\n",
       "0              0.8586  charge, battery, power, voltage, electric, mod...   \n",
       "1              0.8034  charge, battery, power, voltage, electric, mod...   \n",
       "2              0.3665  body, side, utility, end, model, support, part...   \n",
       "3              0.5438  body, side, utility, end, model, support, part...   \n",
       "4              0.3044  body, side, utility, end, model, support, part...   \n",
       "\n",
       "                           Assignee    Year  \\\n",
       "0      luz electric fuel israel ltd  1990.0   \n",
       "1      luz electric fuel israel ltd  1990.0   \n",
       "2  sumitomo electric industries ltd  1995.0   \n",
       "3         sumitomo electric ind ltd  1995.0   \n",
       "4  sumitomo electric industries ltd  1995.0   \n",
       "\n",
       "                                            Abstract   Topic  \n",
       "0  An electrical energy system including an elect...  topic3  \n",
       "1  An electrical energy system including an elect...  topic3  \n",
       "2  An object is to provide a particulate trap for...  topic6  \n",
       "3  PURPOSE: To obtain a trap by which the leakage...  topic6  \n",
       "4  A particulate trap for a diesel engine designe...  topic6  "
      ]
     },
     "execution_count": 146,
     "metadata": {},
     "output_type": "execute_result"
    }
   ],
   "source": [
    "df.head()"
   ]
  },
  {
   "cell_type": "markdown",
   "metadata": {},
   "source": [
    "### a)Adding 4 main tech types to dataframe\n",
    "emerging, saturated, decline,dominant"
   ]
  },
  {
   "cell_type": "code",
   "execution_count": 153,
   "metadata": {},
   "outputs": [],
   "source": [
    "df['tech_type']=df.Topic.map({'topic3':'emerging', 'topic1':'dominant', 'topic2': 'dominant', 'topic7':'dominant','topic0':'decline', 'topic4':'decline','topic5': 'decline', 'topic6':'saturate'})"
   ]
  },
  {
   "cell_type": "code",
   "execution_count": 154,
   "metadata": {},
   "outputs": [
    {
     "data": {
      "text/plain": [
       "decline     22597\n",
       "emerging    14176\n",
       "dominant    14100\n",
       "saturate     9717\n",
       "Name: tech_type, dtype: int64"
      ]
     },
     "execution_count": 154,
     "metadata": {},
     "output_type": "execute_result"
    }
   ],
   "source": [
    "df.tech_type.value_counts()"
   ]
  },
  {
   "cell_type": "code",
   "execution_count": 158,
   "metadata": {},
   "outputs": [
    {
     "data": {
      "text/html": [
       "<div>\n",
       "<style scoped>\n",
       "    .dataframe tbody tr th:only-of-type {\n",
       "        vertical-align: middle;\n",
       "    }\n",
       "\n",
       "    .dataframe tbody tr th {\n",
       "        vertical-align: top;\n",
       "    }\n",
       "\n",
       "    .dataframe thead th {\n",
       "        text-align: right;\n",
       "    }\n",
       "</style>\n",
       "<table border=\"1\" class=\"dataframe\">\n",
       "  <thead>\n",
       "    <tr style=\"text-align: right;\">\n",
       "      <th></th>\n",
       "      <th>Topic_Perc_Contrib</th>\n",
       "      <th>Keywords</th>\n",
       "      <th>Assignee</th>\n",
       "      <th>Year</th>\n",
       "      <th>Abstract</th>\n",
       "      <th>Topic</th>\n",
       "      <th>tech_type</th>\n",
       "    </tr>\n",
       "  </thead>\n",
       "  <tbody>\n",
       "    <tr>\n",
       "      <th>0</th>\n",
       "      <td>0.8586</td>\n",
       "      <td>charge, battery, power, voltage, electric, mod...</td>\n",
       "      <td>luz electric fuel israel ltd</td>\n",
       "      <td>1990.0</td>\n",
       "      <td>An electrical energy system including an elect...</td>\n",
       "      <td>topic3</td>\n",
       "      <td>emerging</td>\n",
       "    </tr>\n",
       "    <tr>\n",
       "      <th>1</th>\n",
       "      <td>0.8034</td>\n",
       "      <td>charge, battery, power, voltage, electric, mod...</td>\n",
       "      <td>luz electric fuel israel ltd</td>\n",
       "      <td>1990.0</td>\n",
       "      <td>An electrical energy system including an elect...</td>\n",
       "      <td>topic3</td>\n",
       "      <td>emerging</td>\n",
       "    </tr>\n",
       "    <tr>\n",
       "      <th>2</th>\n",
       "      <td>0.3665</td>\n",
       "      <td>body, side, utility, end, model, support, part...</td>\n",
       "      <td>sumitomo electric industries ltd</td>\n",
       "      <td>1995.0</td>\n",
       "      <td>An object is to provide a particulate trap for...</td>\n",
       "      <td>topic6</td>\n",
       "      <td>saturate</td>\n",
       "    </tr>\n",
       "    <tr>\n",
       "      <th>3</th>\n",
       "      <td>0.5438</td>\n",
       "      <td>body, side, utility, end, model, support, part...</td>\n",
       "      <td>sumitomo electric ind ltd</td>\n",
       "      <td>1995.0</td>\n",
       "      <td>PURPOSE: To obtain a trap by which the leakage...</td>\n",
       "      <td>topic6</td>\n",
       "      <td>saturate</td>\n",
       "    </tr>\n",
       "    <tr>\n",
       "      <th>4</th>\n",
       "      <td>0.3044</td>\n",
       "      <td>body, side, utility, end, model, support, part...</td>\n",
       "      <td>sumitomo electric industries ltd</td>\n",
       "      <td>1995.0</td>\n",
       "      <td>A particulate trap for a diesel engine designe...</td>\n",
       "      <td>topic6</td>\n",
       "      <td>saturate</td>\n",
       "    </tr>\n",
       "  </tbody>\n",
       "</table>\n",
       "</div>"
      ],
      "text/plain": [
       "   Topic_Perc_Contrib                                           Keywords  \\\n",
       "0              0.8586  charge, battery, power, voltage, electric, mod...   \n",
       "1              0.8034  charge, battery, power, voltage, electric, mod...   \n",
       "2              0.3665  body, side, utility, end, model, support, part...   \n",
       "3              0.5438  body, side, utility, end, model, support, part...   \n",
       "4              0.3044  body, side, utility, end, model, support, part...   \n",
       "\n",
       "                           Assignee    Year  \\\n",
       "0      luz electric fuel israel ltd  1990.0   \n",
       "1      luz electric fuel israel ltd  1990.0   \n",
       "2  sumitomo electric industries ltd  1995.0   \n",
       "3         sumitomo electric ind ltd  1995.0   \n",
       "4  sumitomo electric industries ltd  1995.0   \n",
       "\n",
       "                                            Abstract   Topic tech_type  \n",
       "0  An electrical energy system including an elect...  topic3  emerging  \n",
       "1  An electrical energy system including an elect...  topic3  emerging  \n",
       "2  An object is to provide a particulate trap for...  topic6  saturate  \n",
       "3  PURPOSE: To obtain a trap by which the leakage...  topic6  saturate  \n",
       "4  A particulate trap for a diesel engine designe...  topic6  saturate  "
      ]
     },
     "execution_count": 158,
     "metadata": {},
     "output_type": "execute_result"
    }
   ],
   "source": [
    "df.head()"
   ]
  },
  {
   "cell_type": "code",
   "execution_count": 155,
   "metadata": {},
   "outputs": [],
   "source": [
    "df.to_pickle('tech_type_per_topic.pkl')"
   ]
  },
  {
   "cell_type": "markdown",
   "metadata": {},
   "source": [
    "### b)- Wordcloud key words in all tech-topics"
   ]
  },
  {
   "cell_type": "markdown",
   "metadata": {},
   "source": [
    "# 5- Figure 6. Major assignees by topic types. \n",
    "\n",
    "Adding technology types"
   ]
  },
  {
   "cell_type": "code",
   "execution_count": 166,
   "metadata": {},
   "outputs": [
    {
     "data": {
      "text/plain": [
       "Counter({'emerging': 14176,\n",
       "         'saturate': 9717,\n",
       "         'decline': 22597,\n",
       "         'dominant': 14100,\n",
       "         nan: 8172})"
      ]
     },
     "execution_count": 166,
     "metadata": {},
     "output_type": "execute_result"
    }
   ],
   "source": [
    "from collections import Counter\n",
    "Counter(df.tech_type)"
   ]
  },
  {
   "cell_type": "code",
   "execution_count": 167,
   "metadata": {},
   "outputs": [],
   "source": [
    "company=df.groupby(df.tech_type).Assignee.value_counts(dropna=True, sort=True)"
   ]
  },
  {
   "cell_type": "code",
   "execution_count": 168,
   "metadata": {},
   "outputs": [
    {
     "data": {
      "text/html": [
       "<div>\n",
       "<style scoped>\n",
       "    .dataframe tbody tr th:only-of-type {\n",
       "        vertical-align: middle;\n",
       "    }\n",
       "\n",
       "    .dataframe tbody tr th {\n",
       "        vertical-align: top;\n",
       "    }\n",
       "\n",
       "    .dataframe thead th {\n",
       "        text-align: right;\n",
       "    }\n",
       "</style>\n",
       "<table border=\"1\" class=\"dataframe\">\n",
       "  <thead>\n",
       "    <tr style=\"text-align: right;\">\n",
       "      <th></th>\n",
       "      <th></th>\n",
       "      <th>Assignee</th>\n",
       "    </tr>\n",
       "    <tr>\n",
       "      <th>tech_type</th>\n",
       "      <th>Assignee</th>\n",
       "      <th></th>\n",
       "    </tr>\n",
       "  </thead>\n",
       "  <tbody>\n",
       "    <tr>\n",
       "      <th rowspan=\"30\" valign=\"top\">decline</th>\n",
       "      <th>toyota motor corp</th>\n",
       "      <td>4554</td>\n",
       "    </tr>\n",
       "    <tr>\n",
       "      <th>bosch corp</th>\n",
       "      <td>1551</td>\n",
       "    </tr>\n",
       "    <tr>\n",
       "      <th>honda motor co ltd</th>\n",
       "      <td>1531</td>\n",
       "    </tr>\n",
       "    <tr>\n",
       "      <th>nissan motor co ltd</th>\n",
       "      <td>1451</td>\n",
       "    </tr>\n",
       "    <tr>\n",
       "      <th>hyundai motor co ltd</th>\n",
       "      <td>901</td>\n",
       "    </tr>\n",
       "    <tr>\n",
       "      <th>ford global technologies inc</th>\n",
       "      <td>763</td>\n",
       "    </tr>\n",
       "    <tr>\n",
       "      <th>mitsubishi motors corp</th>\n",
       "      <td>714</td>\n",
       "    </tr>\n",
       "    <tr>\n",
       "      <th>denso corp</th>\n",
       "      <td>661</td>\n",
       "    </tr>\n",
       "    <tr>\n",
       "      <th>hitachi ltd</th>\n",
       "      <td>344</td>\n",
       "    </tr>\n",
       "    <tr>\n",
       "      <th>renault sas</th>\n",
       "      <td>289</td>\n",
       "    </tr>\n",
       "    <tr>\n",
       "      <th>peugeot citroen automobiles</th>\n",
       "      <td>242</td>\n",
       "    </tr>\n",
       "    <tr>\n",
       "      <th>continental automotive gmbh</th>\n",
       "      <td>213</td>\n",
       "    </tr>\n",
       "    <tr>\n",
       "      <th>suzuki motor corp</th>\n",
       "      <td>198</td>\n",
       "    </tr>\n",
       "    <tr>\n",
       "      <th>daimlerchrysler ag</th>\n",
       "      <td>183</td>\n",
       "    </tr>\n",
       "    <tr>\n",
       "      <th>mazda motor corp</th>\n",
       "      <td>172</td>\n",
       "    </tr>\n",
       "    <tr>\n",
       "      <th>aisin aw co ltd</th>\n",
       "      <td>171</td>\n",
       "    </tr>\n",
       "    <tr>\n",
       "      <th>general motors corporation</th>\n",
       "      <td>163</td>\n",
       "    </tr>\n",
       "    <tr>\n",
       "      <th>isuzu motors ltd</th>\n",
       "      <td>160</td>\n",
       "    </tr>\n",
       "    <tr>\n",
       "      <th>volkswagen group</th>\n",
       "      <td>158</td>\n",
       "    </tr>\n",
       "    <tr>\n",
       "      <th>siemens aktiengesellschaft</th>\n",
       "      <td>121</td>\n",
       "    </tr>\n",
       "    <tr>\n",
       "      <th>hino motors ltd</th>\n",
       "      <td>111</td>\n",
       "    </tr>\n",
       "    <tr>\n",
       "      <th>yamaha motor co ltd</th>\n",
       "      <td>107</td>\n",
       "    </tr>\n",
       "    <tr>\n",
       "      <th>hitachi automotive systems ltd</th>\n",
       "      <td>98</td>\n",
       "    </tr>\n",
       "    <tr>\n",
       "      <th>daihatsu motor co ltd</th>\n",
       "      <td>80</td>\n",
       "    </tr>\n",
       "    <tr>\n",
       "      <th>audi ag</th>\n",
       "      <td>79</td>\n",
       "    </tr>\n",
       "    <tr>\n",
       "      <th>ntn corporation</th>\n",
       "      <td>78</td>\n",
       "    </tr>\n",
       "    <tr>\n",
       "      <th>bmw ag</th>\n",
       "      <td>71</td>\n",
       "    </tr>\n",
       "    <tr>\n",
       "      <th>fuji heavy ind ltd</th>\n",
       "      <td>67</td>\n",
       "    </tr>\n",
       "    <tr>\n",
       "      <th>jaguar land rover limited</th>\n",
       "      <td>67</td>\n",
       "    </tr>\n",
       "    <tr>\n",
       "      <th>jatco ltd</th>\n",
       "      <td>59</td>\n",
       "    </tr>\n",
       "    <tr>\n",
       "      <th>...</th>\n",
       "      <th>...</th>\n",
       "      <td>...</td>\n",
       "    </tr>\n",
       "    <tr>\n",
       "      <th rowspan=\"30\" valign=\"top\">saturate</th>\n",
       "      <th>zhongyu science &amp; technology co ltd</th>\n",
       "      <td>1</td>\n",
       "    </tr>\n",
       "    <tr>\n",
       "      <th>zhou dengrong</th>\n",
       "      <td>1</td>\n",
       "    </tr>\n",
       "    <tr>\n",
       "      <th>zhou guangrong</th>\n",
       "      <td>1</td>\n",
       "    </tr>\n",
       "    <tr>\n",
       "      <th>zhou jie</th>\n",
       "      <td>1</td>\n",
       "    </tr>\n",
       "    <tr>\n",
       "      <th>zhou julong</th>\n",
       "      <td>1</td>\n",
       "    </tr>\n",
       "    <tr>\n",
       "      <th>zhou qing</th>\n",
       "      <td>1</td>\n",
       "    </tr>\n",
       "    <tr>\n",
       "      <th>zhou weibo</th>\n",
       "      <td>1</td>\n",
       "    </tr>\n",
       "    <tr>\n",
       "      <th>zhou xuzhou</th>\n",
       "      <td>1</td>\n",
       "    </tr>\n",
       "    <tr>\n",
       "      <th>zhou; shijian</th>\n",
       "      <td>1</td>\n",
       "    </tr>\n",
       "    <tr>\n",
       "      <th>zhu fuyuan</th>\n",
       "      <td>1</td>\n",
       "    </tr>\n",
       "    <tr>\n",
       "      <th>zhu jiang</th>\n",
       "      <td>1</td>\n",
       "    </tr>\n",
       "    <tr>\n",
       "      <th>zhu jingxiang</th>\n",
       "      <td>1</td>\n",
       "    </tr>\n",
       "    <tr>\n",
       "      <th>zhu linbo</th>\n",
       "      <td>1</td>\n",
       "    </tr>\n",
       "    <tr>\n",
       "      <th>zhu mingzhong</th>\n",
       "      <td>1</td>\n",
       "    </tr>\n",
       "    <tr>\n",
       "      <th>zhu ziming</th>\n",
       "      <td>1</td>\n",
       "    </tr>\n",
       "    <tr>\n",
       "      <th>zhuang sen</th>\n",
       "      <td>1</td>\n",
       "    </tr>\n",
       "    <tr>\n",
       "      <th>zhucheng new oriental auto meters co ltd</th>\n",
       "      <td>1</td>\n",
       "    </tr>\n",
       "    <tr>\n",
       "      <th>zhuhai e-way electrical vehicle co ltd</th>\n",
       "      <td>1</td>\n",
       "    </tr>\n",
       "    <tr>\n",
       "      <th>zhuhai yintong aviation supplies coltd</th>\n",
       "      <td>1</td>\n",
       "    </tr>\n",
       "    <tr>\n",
       "      <th>zhuzhou electric rolling stock plant</th>\n",
       "      <td>1</td>\n",
       "    </tr>\n",
       "    <tr>\n",
       "      <th>zibo diesel engine parent company</th>\n",
       "      <td>1</td>\n",
       "    </tr>\n",
       "    <tr>\n",
       "      <th>zips alf</th>\n",
       "      <td>1</td>\n",
       "    </tr>\n",
       "    <tr>\n",
       "      <th>zodiac international</th>\n",
       "      <td>1</td>\n",
       "    </tr>\n",
       "    <tr>\n",
       "      <th>zoomlion environmental sanitation machinery company</th>\n",
       "      <td>1</td>\n",
       "    </tr>\n",
       "    <tr>\n",
       "      <th>zoomlion heavy industry science &amp; technology development co ltd</th>\n",
       "      <td>1</td>\n",
       "    </tr>\n",
       "    <tr>\n",
       "      <th>zotye holding group co ltd</th>\n",
       "      <td>1</td>\n",
       "    </tr>\n",
       "    <tr>\n",
       "      <th>zotye new energy automobile co ltd</th>\n",
       "      <td>1</td>\n",
       "    </tr>\n",
       "    <tr>\n",
       "      <th>zt yupin technology co ltd</th>\n",
       "      <td>1</td>\n",
       "    </tr>\n",
       "    <tr>\n",
       "      <th>zunyi tianyi liwei electrical co ltd</th>\n",
       "      <td>1</td>\n",
       "    </tr>\n",
       "    <tr>\n",
       "      <th>zuo zhong you electric vehicle service (shanghai) co ltd</th>\n",
       "      <td>1</td>\n",
       "    </tr>\n",
       "  </tbody>\n",
       "</table>\n",
       "<p>15142 rows × 1 columns</p>\n",
       "</div>"
      ],
      "text/plain": [
       "                                                              Assignee\n",
       "tech_type Assignee                                                    \n",
       "decline   toyota motor corp                                       4554\n",
       "          bosch corp                                              1551\n",
       "          honda motor co ltd                                      1531\n",
       "          nissan motor co ltd                                     1451\n",
       "          hyundai motor co ltd                                     901\n",
       "          ford global technologies inc                             763\n",
       "          mitsubishi motors corp                                   714\n",
       "          denso corp                                               661\n",
       "          hitachi ltd                                              344\n",
       "          renault sas                                              289\n",
       "          peugeot citroen automobiles                              242\n",
       "          continental automotive gmbh                              213\n",
       "          suzuki motor corp                                        198\n",
       "          daimlerchrysler ag                                       183\n",
       "          mazda motor corp                                         172\n",
       "          aisin aw co ltd                                          171\n",
       "          general motors corporation                               163\n",
       "          isuzu motors ltd                                         160\n",
       "          volkswagen group                                         158\n",
       "          siemens aktiengesellschaft                               121\n",
       "          hino motors ltd                                          111\n",
       "          yamaha motor co ltd                                      107\n",
       "          hitachi automotive systems ltd                            98\n",
       "          daihatsu motor co ltd                                     80\n",
       "          audi ag                                                   79\n",
       "          ntn corporation                                           78\n",
       "          bmw ag                                                    71\n",
       "          fuji heavy ind ltd                                        67\n",
       "          jaguar land rover limited                                 67\n",
       "          jatco ltd                                                 59\n",
       "...                                                                ...\n",
       "saturate  zhongyu science & technology co ltd                        1\n",
       "          zhou dengrong                                              1\n",
       "          zhou guangrong                                             1\n",
       "          zhou jie                                                   1\n",
       "          zhou julong                                                1\n",
       "          zhou qing                                                  1\n",
       "          zhou weibo                                                 1\n",
       "          zhou xuzhou                                                1\n",
       "          zhou; shijian                                              1\n",
       "          zhu fuyuan                                                 1\n",
       "          zhu jiang                                                  1\n",
       "          zhu jingxiang                                              1\n",
       "          zhu linbo                                                  1\n",
       "          zhu mingzhong                                              1\n",
       "          zhu ziming                                                 1\n",
       "          zhuang sen                                                 1\n",
       "          zhucheng new oriental auto meters co ltd                   1\n",
       "          zhuhai e-way electrical vehicle co ltd                     1\n",
       "          zhuhai yintong aviation supplies coltd                     1\n",
       "          zhuzhou electric rolling stock plant                       1\n",
       "          zibo diesel engine parent company                          1\n",
       "          zips alf                                                   1\n",
       "          zodiac international                                       1\n",
       "          zoomlion environmental sanitation machinery com...         1\n",
       "          zoomlion heavy industry science & technology de...         1\n",
       "          zotye holding group co ltd                                 1\n",
       "          zotye new energy automobile co ltd                         1\n",
       "          zt yupin technology co ltd                                 1\n",
       "          zunyi tianyi liwei electrical co ltd                       1\n",
       "          zuo zhong you electric vehicle service (shangha...         1\n",
       "\n",
       "[15142 rows x 1 columns]"
      ]
     },
     "execution_count": 168,
     "metadata": {},
     "output_type": "execute_result"
    }
   ],
   "source": [
    "df_company = pd.DataFrame(company)\n",
    "df_company"
   ]
  },
  {
   "cell_type": "markdown",
   "metadata": {},
   "source": [
    "### For a specific \"tech_type\" listing wrt firms"
   ]
  },
  {
   "cell_type": "code",
   "execution_count": 171,
   "metadata": {},
   "outputs": [],
   "source": [
    "topic_firm=df.groupby([df['tech_type']=='decline']).Assignee.value_counts(dropna=True, sort=True)"
   ]
  },
  {
   "cell_type": "code",
   "execution_count": 172,
   "metadata": {},
   "outputs": [
    {
     "data": {
      "text/html": [
       "<div>\n",
       "<style scoped>\n",
       "    .dataframe tbody tr th:only-of-type {\n",
       "        vertical-align: middle;\n",
       "    }\n",
       "\n",
       "    .dataframe tbody tr th {\n",
       "        vertical-align: top;\n",
       "    }\n",
       "\n",
       "    .dataframe thead th {\n",
       "        text-align: right;\n",
       "    }\n",
       "</style>\n",
       "<table border=\"1\" class=\"dataframe\">\n",
       "  <thead>\n",
       "    <tr style=\"text-align: right;\">\n",
       "      <th></th>\n",
       "      <th></th>\n",
       "      <th>Assignee</th>\n",
       "    </tr>\n",
       "    <tr>\n",
       "      <th>tech_type</th>\n",
       "      <th>Assignee</th>\n",
       "      <th></th>\n",
       "    </tr>\n",
       "  </thead>\n",
       "  <tbody>\n",
       "    <tr>\n",
       "      <th rowspan=\"30\" valign=\"top\">False</th>\n",
       "      <th>toyota motor corp</th>\n",
       "      <td>3571</td>\n",
       "    </tr>\n",
       "    <tr>\n",
       "      <th>honda motor co ltd</th>\n",
       "      <td>2446</td>\n",
       "    </tr>\n",
       "    <tr>\n",
       "      <th>hyundai motor co ltd</th>\n",
       "      <td>1696</td>\n",
       "    </tr>\n",
       "    <tr>\n",
       "      <th>nissan motor co ltd</th>\n",
       "      <td>1434</td>\n",
       "    </tr>\n",
       "    <tr>\n",
       "      <th>bosch corp</th>\n",
       "      <td>1219</td>\n",
       "    </tr>\n",
       "    <tr>\n",
       "      <th>ford global technologies inc</th>\n",
       "      <td>1050</td>\n",
       "    </tr>\n",
       "    <tr>\n",
       "      <th>mitsubishi motors corp</th>\n",
       "      <td>698</td>\n",
       "    </tr>\n",
       "    <tr>\n",
       "      <th>renault sas</th>\n",
       "      <td>570</td>\n",
       "    </tr>\n",
       "    <tr>\n",
       "      <th>peugeot citroen automobiles</th>\n",
       "      <td>446</td>\n",
       "    </tr>\n",
       "    <tr>\n",
       "      <th>denso corp</th>\n",
       "      <td>436</td>\n",
       "    </tr>\n",
       "    <tr>\n",
       "      <th>hitachi ltd</th>\n",
       "      <td>415</td>\n",
       "    </tr>\n",
       "    <tr>\n",
       "      <th>yamaha motor co ltd</th>\n",
       "      <td>359</td>\n",
       "    </tr>\n",
       "    <tr>\n",
       "      <th>suzuki motor corp</th>\n",
       "      <td>330</td>\n",
       "    </tr>\n",
       "    <tr>\n",
       "      <th>daimlerchrysler ag</th>\n",
       "      <td>320</td>\n",
       "    </tr>\n",
       "    <tr>\n",
       "      <th>general motors corporation</th>\n",
       "      <td>312</td>\n",
       "    </tr>\n",
       "    <tr>\n",
       "      <th>aisin aw co ltd</th>\n",
       "      <td>287</td>\n",
       "    </tr>\n",
       "    <tr>\n",
       "      <th>lsis co ltd</th>\n",
       "      <td>243</td>\n",
       "    </tr>\n",
       "    <tr>\n",
       "      <th>volkswagen group</th>\n",
       "      <td>217</td>\n",
       "    </tr>\n",
       "    <tr>\n",
       "      <th>general electric company</th>\n",
       "      <td>182</td>\n",
       "    </tr>\n",
       "    <tr>\n",
       "      <th>siemens aktiengesellschaft</th>\n",
       "      <td>164</td>\n",
       "    </tr>\n",
       "    <tr>\n",
       "      <th>audi ag</th>\n",
       "      <td>147</td>\n",
       "    </tr>\n",
       "    <tr>\n",
       "      <th>bmw ag</th>\n",
       "      <td>141</td>\n",
       "    </tr>\n",
       "    <tr>\n",
       "      <th>isuzu motors ltd</th>\n",
       "      <td>140</td>\n",
       "    </tr>\n",
       "    <tr>\n",
       "      <th>sony corporation</th>\n",
       "      <td>129</td>\n",
       "    </tr>\n",
       "    <tr>\n",
       "      <th>beiqi foton motor co ltd</th>\n",
       "      <td>115</td>\n",
       "    </tr>\n",
       "    <tr>\n",
       "      <th>korea advanced institute of science and technology</th>\n",
       "      <td>112</td>\n",
       "    </tr>\n",
       "    <tr>\n",
       "      <th>mahle international gmbh</th>\n",
       "      <td>110</td>\n",
       "    </tr>\n",
       "    <tr>\n",
       "      <th>continental automotive gmbh</th>\n",
       "      <td>103</td>\n",
       "    </tr>\n",
       "    <tr>\n",
       "      <th>mazda motor corp</th>\n",
       "      <td>102</td>\n",
       "    </tr>\n",
       "    <tr>\n",
       "      <th>fuji heavy ind ltd</th>\n",
       "      <td>101</td>\n",
       "    </tr>\n",
       "  </tbody>\n",
       "</table>\n",
       "</div>"
      ],
      "text/plain": [
       "                                                              Assignee\n",
       "tech_type Assignee                                                    \n",
       "False     toyota motor corp                                       3571\n",
       "          honda motor co ltd                                      2446\n",
       "          hyundai motor co ltd                                    1696\n",
       "          nissan motor co ltd                                     1434\n",
       "          bosch corp                                              1219\n",
       "          ford global technologies inc                            1050\n",
       "          mitsubishi motors corp                                   698\n",
       "          renault sas                                              570\n",
       "          peugeot citroen automobiles                              446\n",
       "          denso corp                                               436\n",
       "          hitachi ltd                                              415\n",
       "          yamaha motor co ltd                                      359\n",
       "          suzuki motor corp                                        330\n",
       "          daimlerchrysler ag                                       320\n",
       "          general motors corporation                               312\n",
       "          aisin aw co ltd                                          287\n",
       "          lsis co ltd                                              243\n",
       "          volkswagen group                                         217\n",
       "          general electric company                                 182\n",
       "          siemens aktiengesellschaft                               164\n",
       "          audi ag                                                  147\n",
       "          bmw ag                                                   141\n",
       "          isuzu motors ltd                                         140\n",
       "          sony corporation                                         129\n",
       "          beiqi foton motor co ltd                                 115\n",
       "          korea advanced institute of science and technology       112\n",
       "          mahle international gmbh                                 110\n",
       "          continental automotive gmbh                              103\n",
       "          mazda motor corp                                         102\n",
       "          fuji heavy ind ltd                                       101"
      ]
     },
     "execution_count": 172,
     "metadata": {},
     "output_type": "execute_result"
    }
   ],
   "source": [
    "df_topic_firms = pd.DataFrame(topic_firm)\n",
    "df_topic_firms[:30]"
   ]
  },
  {
   "cell_type": "markdown",
   "metadata": {},
   "source": [
    "### for decline"
   ]
  },
  {
   "cell_type": "code",
   "execution_count": 173,
   "metadata": {},
   "outputs": [],
   "source": [
    "d=df\n",
    "d=d[d.tech_type==\"decline\"]"
   ]
  },
  {
   "cell_type": "code",
   "execution_count": 174,
   "metadata": {},
   "outputs": [
    {
     "data": {
      "text/plain": [
       "22597"
      ]
     },
     "execution_count": 174,
     "metadata": {},
     "output_type": "execute_result"
    }
   ],
   "source": [
    "len(d)"
   ]
  },
  {
   "cell_type": "code",
   "execution_count": 175,
   "metadata": {},
   "outputs": [
    {
     "data": {
      "text/html": [
       "<div>\n",
       "<style scoped>\n",
       "    .dataframe tbody tr th:only-of-type {\n",
       "        vertical-align: middle;\n",
       "    }\n",
       "\n",
       "    .dataframe tbody tr th {\n",
       "        vertical-align: top;\n",
       "    }\n",
       "\n",
       "    .dataframe thead th {\n",
       "        text-align: right;\n",
       "    }\n",
       "</style>\n",
       "<table border=\"1\" class=\"dataframe\">\n",
       "  <thead>\n",
       "    <tr style=\"text-align: right;\">\n",
       "      <th></th>\n",
       "      <th>Topic_Perc_Contrib</th>\n",
       "      <th>Keywords</th>\n",
       "      <th>Assignee</th>\n",
       "      <th>Year</th>\n",
       "      <th>Abstract</th>\n",
       "      <th>Topic</th>\n",
       "      <th>tech_type</th>\n",
       "    </tr>\n",
       "  </thead>\n",
       "  <tbody>\n",
       "    <tr>\n",
       "      <th>9</th>\n",
       "      <td>0.8510</td>\n",
       "      <td>injection, fuel, valve, cylinder, pressure, co...</td>\n",
       "      <td>avl list gmbh</td>\n",
       "      <td>1998.0</td>\n",
       "      <td>In an internal combustion engine with at least...</td>\n",
       "      <td>topic5</td>\n",
       "      <td>decline</td>\n",
       "    </tr>\n",
       "    <tr>\n",
       "      <th>10</th>\n",
       "      <td>0.5929</td>\n",
       "      <td>injection, fuel, valve, cylinder, pressure, co...</td>\n",
       "      <td>steyr nutzfahrzeuge ag</td>\n",
       "      <td>1993.0</td>\n",
       "      <td>The invention relates to an engine brake in a ...</td>\n",
       "      <td>topic5</td>\n",
       "      <td>decline</td>\n",
       "    </tr>\n",
       "    <tr>\n",
       "      <th>18</th>\n",
       "      <td>0.7700</td>\n",
       "      <td>injection, fuel, valve, cylinder, pressure, co...</td>\n",
       "      <td>avl list gmbh</td>\n",
       "      <td>2002.0</td>\n",
       "      <td>During an idling phase, fuel is repeatedly inj...</td>\n",
       "      <td>topic5</td>\n",
       "      <td>decline</td>\n",
       "    </tr>\n",
       "    <tr>\n",
       "      <th>21</th>\n",
       "      <td>0.6863</td>\n",
       "      <td>injection, fuel, valve, cylinder, pressure, co...</td>\n",
       "      <td>avl list gmbh</td>\n",
       "      <td>2000.0</td>\n",
       "      <td>The method involves determining the oil supply...</td>\n",
       "      <td>topic5</td>\n",
       "      <td>decline</td>\n",
       "    </tr>\n",
       "    <tr>\n",
       "      <th>34</th>\n",
       "      <td>0.4710</td>\n",
       "      <td>injection, fuel, valve, cylinder, pressure, co...</td>\n",
       "      <td>avl list gmbh</td>\n",
       "      <td>2001.0</td>\n",
       "      <td>Process for the controlled operation of a comb...</td>\n",
       "      <td>topic5</td>\n",
       "      <td>decline</td>\n",
       "    </tr>\n",
       "  </tbody>\n",
       "</table>\n",
       "</div>"
      ],
      "text/plain": [
       "    Topic_Perc_Contrib                                           Keywords  \\\n",
       "9               0.8510  injection, fuel, valve, cylinder, pressure, co...   \n",
       "10              0.5929  injection, fuel, valve, cylinder, pressure, co...   \n",
       "18              0.7700  injection, fuel, valve, cylinder, pressure, co...   \n",
       "21              0.6863  injection, fuel, valve, cylinder, pressure, co...   \n",
       "34              0.4710  injection, fuel, valve, cylinder, pressure, co...   \n",
       "\n",
       "                  Assignee    Year  \\\n",
       "9            avl list gmbh  1998.0   \n",
       "10  steyr nutzfahrzeuge ag  1993.0   \n",
       "18           avl list gmbh  2002.0   \n",
       "21           avl list gmbh  2000.0   \n",
       "34           avl list gmbh  2001.0   \n",
       "\n",
       "                                             Abstract   Topic tech_type  \n",
       "9   In an internal combustion engine with at least...  topic5   decline  \n",
       "10  The invention relates to an engine brake in a ...  topic5   decline  \n",
       "18  During an idling phase, fuel is repeatedly inj...  topic5   decline  \n",
       "21  The method involves determining the oil supply...  topic5   decline  \n",
       "34  Process for the controlled operation of a comb...  topic5   decline  "
      ]
     },
     "execution_count": 175,
     "metadata": {},
     "output_type": "execute_result"
    }
   ],
   "source": [
    "d[:5]"
   ]
  },
  {
   "cell_type": "code",
   "execution_count": 176,
   "metadata": {},
   "outputs": [],
   "source": [
    "d=d.groupby(['Assignee']).size()"
   ]
  },
  {
   "cell_type": "code",
   "execution_count": 177,
   "metadata": {},
   "outputs": [
    {
     "data": {
      "text/plain": [
       "Assignee\n",
       "toyota motor corp               4554\n",
       "bosch corp                      1551\n",
       "honda motor co ltd              1531\n",
       "nissan motor co ltd             1451\n",
       "hyundai motor co ltd             901\n",
       "ford global technologies inc     763\n",
       "mitsubishi motors corp           714\n",
       "denso corp                       661\n",
       "hitachi ltd                      344\n",
       "renault sas                      289\n",
       "dtype: int64"
      ]
     },
     "execution_count": 177,
     "metadata": {},
     "output_type": "execute_result"
    }
   ],
   "source": [
    "d.sort_values(ascending=False)[:10]"
   ]
  },
  {
   "cell_type": "markdown",
   "metadata": {},
   "source": [
    "**These are top 10 firms using declined technology. We know that decline technology belongs to topic0 and topic4 so, we can create figure from this information**"
   ]
  },
  {
   "cell_type": "markdown",
   "metadata": {},
   "source": [
    "### for emerging"
   ]
  },
  {
   "cell_type": "code",
   "execution_count": 181,
   "metadata": {},
   "outputs": [],
   "source": [
    "e=df\n",
    "e=e[e.tech_type==\"emerging\"]"
   ]
  },
  {
   "cell_type": "code",
   "execution_count": 182,
   "metadata": {},
   "outputs": [
    {
     "data": {
      "text/plain": [
       "14176"
      ]
     },
     "execution_count": 182,
     "metadata": {},
     "output_type": "execute_result"
    }
   ],
   "source": [
    "len(e)"
   ]
  },
  {
   "cell_type": "code",
   "execution_count": 183,
   "metadata": {},
   "outputs": [
    {
     "data": {
      "text/html": [
       "<div>\n",
       "<style scoped>\n",
       "    .dataframe tbody tr th:only-of-type {\n",
       "        vertical-align: middle;\n",
       "    }\n",
       "\n",
       "    .dataframe tbody tr th {\n",
       "        vertical-align: top;\n",
       "    }\n",
       "\n",
       "    .dataframe thead th {\n",
       "        text-align: right;\n",
       "    }\n",
       "</style>\n",
       "<table border=\"1\" class=\"dataframe\">\n",
       "  <thead>\n",
       "    <tr style=\"text-align: right;\">\n",
       "      <th></th>\n",
       "      <th>Topic_Perc_Contrib</th>\n",
       "      <th>Keywords</th>\n",
       "      <th>Assignee</th>\n",
       "      <th>Year</th>\n",
       "      <th>Abstract</th>\n",
       "      <th>Topic</th>\n",
       "      <th>tech_type</th>\n",
       "    </tr>\n",
       "  </thead>\n",
       "  <tbody>\n",
       "    <tr>\n",
       "      <th>0</th>\n",
       "      <td>0.8586</td>\n",
       "      <td>charge, battery, power, voltage, electric, mod...</td>\n",
       "      <td>luz electric fuel israel ltd</td>\n",
       "      <td>1990.0</td>\n",
       "      <td>An electrical energy system including an elect...</td>\n",
       "      <td>topic3</td>\n",
       "      <td>emerging</td>\n",
       "    </tr>\n",
       "    <tr>\n",
       "      <th>1</th>\n",
       "      <td>0.8034</td>\n",
       "      <td>charge, battery, power, voltage, electric, mod...</td>\n",
       "      <td>luz electric fuel israel ltd</td>\n",
       "      <td>1990.0</td>\n",
       "      <td>An electrical energy system including an elect...</td>\n",
       "      <td>topic3</td>\n",
       "      <td>emerging</td>\n",
       "    </tr>\n",
       "    <tr>\n",
       "      <th>35</th>\n",
       "      <td>0.4470</td>\n",
       "      <td>charge, battery, power, voltage, electric, mod...</td>\n",
       "      <td>avl list gmbh</td>\n",
       "      <td>2001.0</td>\n",
       "      <td>&lt;P&gt;PROBLEM TO BE SOLVED: To provide a simple m...</td>\n",
       "      <td>topic3</td>\n",
       "      <td>emerging</td>\n",
       "    </tr>\n",
       "    <tr>\n",
       "      <th>47</th>\n",
       "      <td>0.8551</td>\n",
       "      <td>charge, battery, power, voltage, electric, mod...</td>\n",
       "      <td>steyr-daimler-puch ag wien at</td>\n",
       "      <td>1994.0</td>\n",
       "      <td>The regulating circuit has a microprocessor re...</td>\n",
       "      <td>topic3</td>\n",
       "      <td>emerging</td>\n",
       "    </tr>\n",
       "    <tr>\n",
       "      <th>50</th>\n",
       "      <td>0.8136</td>\n",
       "      <td>charge, battery, power, voltage, electric, mod...</td>\n",
       "      <td>steyr-daimler-puch aktiengesellschaft</td>\n",
       "      <td>1991.0</td>\n",
       "      <td>A control circuit having a controller provided...</td>\n",
       "      <td>topic3</td>\n",
       "      <td>emerging</td>\n",
       "    </tr>\n",
       "  </tbody>\n",
       "</table>\n",
       "</div>"
      ],
      "text/plain": [
       "    Topic_Perc_Contrib                                           Keywords  \\\n",
       "0               0.8586  charge, battery, power, voltage, electric, mod...   \n",
       "1               0.8034  charge, battery, power, voltage, electric, mod...   \n",
       "35              0.4470  charge, battery, power, voltage, electric, mod...   \n",
       "47              0.8551  charge, battery, power, voltage, electric, mod...   \n",
       "50              0.8136  charge, battery, power, voltage, electric, mod...   \n",
       "\n",
       "                                 Assignee    Year  \\\n",
       "0            luz electric fuel israel ltd  1990.0   \n",
       "1            luz electric fuel israel ltd  1990.0   \n",
       "35                          avl list gmbh  2001.0   \n",
       "47          steyr-daimler-puch ag wien at  1994.0   \n",
       "50  steyr-daimler-puch aktiengesellschaft  1991.0   \n",
       "\n",
       "                                             Abstract   Topic tech_type  \n",
       "0   An electrical energy system including an elect...  topic3  emerging  \n",
       "1   An electrical energy system including an elect...  topic3  emerging  \n",
       "35  <P>PROBLEM TO BE SOLVED: To provide a simple m...  topic3  emerging  \n",
       "47  The regulating circuit has a microprocessor re...  topic3  emerging  \n",
       "50  A control circuit having a controller provided...  topic3  emerging  "
      ]
     },
     "execution_count": 183,
     "metadata": {},
     "output_type": "execute_result"
    }
   ],
   "source": [
    "e[:5]"
   ]
  },
  {
   "cell_type": "code",
   "execution_count": 184,
   "metadata": {},
   "outputs": [],
   "source": [
    "e=e.groupby(['Assignee']).size()"
   ]
  },
  {
   "cell_type": "code",
   "execution_count": 185,
   "metadata": {},
   "outputs": [
    {
     "data": {
      "text/plain": [
       "Assignee\n",
       "toyota motor corp               961\n",
       "honda motor co ltd              568\n",
       "hyundai motor co ltd            462\n",
       "mitsubishi motors corp          331\n",
       "nissan motor co ltd             267\n",
       "ford global technologies inc    239\n",
       "bosch corp                      226\n",
       "lsis co ltd                     222\n",
       "hitachi ltd                     160\n",
       "denso corp                      155\n",
       "dtype: int64"
      ]
     },
     "execution_count": 185,
     "metadata": {},
     "output_type": "execute_result"
    }
   ],
   "source": [
    "e.sort_values(ascending=False)[:10]"
   ]
  },
  {
   "cell_type": "markdown",
   "metadata": {},
   "source": [
    "**These are top 10 firms using emerging technology. We know that emerging technology belongs to topic3 so, we can create figure from this information.**"
   ]
  },
  {
   "cell_type": "markdown",
   "metadata": {},
   "source": [
    "### for dominant"
   ]
  },
  {
   "cell_type": "code",
   "execution_count": 186,
   "metadata": {},
   "outputs": [],
   "source": [
    "f=df\n",
    "f=f[f.tech_type==\"dominant\"]"
   ]
  },
  {
   "cell_type": "code",
   "execution_count": 187,
   "metadata": {},
   "outputs": [
    {
     "data": {
      "text/plain": [
       "14100"
      ]
     },
     "execution_count": 187,
     "metadata": {},
     "output_type": "execute_result"
    }
   ],
   "source": [
    "len(f)"
   ]
  },
  {
   "cell_type": "code",
   "execution_count": 188,
   "metadata": {},
   "outputs": [
    {
     "data": {
      "text/html": [
       "<div>\n",
       "<style scoped>\n",
       "    .dataframe tbody tr th:only-of-type {\n",
       "        vertical-align: middle;\n",
       "    }\n",
       "\n",
       "    .dataframe tbody tr th {\n",
       "        vertical-align: top;\n",
       "    }\n",
       "\n",
       "    .dataframe thead th {\n",
       "        text-align: right;\n",
       "    }\n",
       "</style>\n",
       "<table border=\"1\" class=\"dataframe\">\n",
       "  <thead>\n",
       "    <tr style=\"text-align: right;\">\n",
       "      <th></th>\n",
       "      <th>Topic_Perc_Contrib</th>\n",
       "      <th>Keywords</th>\n",
       "      <th>Assignee</th>\n",
       "      <th>Year</th>\n",
       "      <th>Abstract</th>\n",
       "      <th>Topic</th>\n",
       "      <th>tech_type</th>\n",
       "    </tr>\n",
       "  </thead>\n",
       "  <tbody>\n",
       "    <tr>\n",
       "      <th>11</th>\n",
       "      <td>0.6251</td>\n",
       "      <td>cool, air, water, fuel, gas, heat, oil, pipe, ...</td>\n",
       "      <td>avl list gmbh graz</td>\n",
       "      <td>2000.0</td>\n",
       "      <td>A carburetor (14), preferably a slide valve ty...</td>\n",
       "      <td>topic2</td>\n",
       "      <td>dominant</td>\n",
       "    </tr>\n",
       "    <tr>\n",
       "      <th>12</th>\n",
       "      <td>0.8208</td>\n",
       "      <td>cool, air, water, fuel, gas, heat, oil, pipe, ...</td>\n",
       "      <td>avl list gmbh</td>\n",
       "      <td>2000.0</td>\n",
       "      <td>PROBLEM TO BE SOLVED: To improve quality of ex...</td>\n",
       "      <td>topic2</td>\n",
       "      <td>dominant</td>\n",
       "    </tr>\n",
       "    <tr>\n",
       "      <th>13</th>\n",
       "      <td>0.8197</td>\n",
       "      <td>cool, air, water, fuel, gas, heat, oil, pipe, ...</td>\n",
       "      <td>avl list gmbh</td>\n",
       "      <td>2000.0</td>\n",
       "      <td>PURPOSE: A four cycle engine is provided to im...</td>\n",
       "      <td>topic2</td>\n",
       "      <td>dominant</td>\n",
       "    </tr>\n",
       "    <tr>\n",
       "      <th>14</th>\n",
       "      <td>0.8357</td>\n",
       "      <td>cool, air, water, fuel, gas, heat, oil, pipe, ...</td>\n",
       "      <td>avl list gmbh</td>\n",
       "      <td>2000.0</td>\n",
       "      <td>The invention relates to a four-stroke interna...</td>\n",
       "      <td>topic2</td>\n",
       "      <td>dominant</td>\n",
       "    </tr>\n",
       "    <tr>\n",
       "      <th>15</th>\n",
       "      <td>0.8333</td>\n",
       "      <td>cool, air, water, fuel, gas, heat, oil, pipe, ...</td>\n",
       "      <td>avl list gmbh</td>\n",
       "      <td>2000.0</td>\n",
       "      <td>A four-stroke internal combustion engine with ...</td>\n",
       "      <td>topic2</td>\n",
       "      <td>dominant</td>\n",
       "    </tr>\n",
       "  </tbody>\n",
       "</table>\n",
       "</div>"
      ],
      "text/plain": [
       "    Topic_Perc_Contrib                                           Keywords  \\\n",
       "11              0.6251  cool, air, water, fuel, gas, heat, oil, pipe, ...   \n",
       "12              0.8208  cool, air, water, fuel, gas, heat, oil, pipe, ...   \n",
       "13              0.8197  cool, air, water, fuel, gas, heat, oil, pipe, ...   \n",
       "14              0.8357  cool, air, water, fuel, gas, heat, oil, pipe, ...   \n",
       "15              0.8333  cool, air, water, fuel, gas, heat, oil, pipe, ...   \n",
       "\n",
       "              Assignee    Year  \\\n",
       "11  avl list gmbh graz  2000.0   \n",
       "12       avl list gmbh  2000.0   \n",
       "13       avl list gmbh  2000.0   \n",
       "14       avl list gmbh  2000.0   \n",
       "15       avl list gmbh  2000.0   \n",
       "\n",
       "                                             Abstract   Topic tech_type  \n",
       "11  A carburetor (14), preferably a slide valve ty...  topic2  dominant  \n",
       "12  PROBLEM TO BE SOLVED: To improve quality of ex...  topic2  dominant  \n",
       "13  PURPOSE: A four cycle engine is provided to im...  topic2  dominant  \n",
       "14  The invention relates to a four-stroke interna...  topic2  dominant  \n",
       "15  A four-stroke internal combustion engine with ...  topic2  dominant  "
      ]
     },
     "execution_count": 188,
     "metadata": {},
     "output_type": "execute_result"
    }
   ],
   "source": [
    "f[:5]"
   ]
  },
  {
   "cell_type": "code",
   "execution_count": 189,
   "metadata": {},
   "outputs": [],
   "source": [
    "f=f.groupby(['Assignee']).size()"
   ]
  },
  {
   "cell_type": "code",
   "execution_count": 190,
   "metadata": {},
   "outputs": [
    {
     "data": {
      "text/plain": [
       "Assignee\n",
       "toyota motor corp               1177\n",
       "honda motor co ltd               611\n",
       "bosch corp                       489\n",
       "nissan motor co ltd              381\n",
       "hyundai motor co ltd             378\n",
       "renault sas                      328\n",
       "ford global technologies inc     239\n",
       "peugeot citroen automobiles      205\n",
       "daimlerchrysler ag               169\n",
       "suzuki motor corp                134\n",
       "dtype: int64"
      ]
     },
     "execution_count": 190,
     "metadata": {},
     "output_type": "execute_result"
    }
   ],
   "source": [
    "f.sort_values(ascending=False)[:10]"
   ]
  },
  {
   "cell_type": "markdown",
   "metadata": {},
   "source": [
    "**These are top 10 firms using dominant technology. We know that dominant technology belongs to topic1,2 and 7 so, we can create figure from this information.**"
   ]
  },
  {
   "cell_type": "markdown",
   "metadata": {},
   "source": [
    "### for sature technology"
   ]
  },
  {
   "cell_type": "code",
   "execution_count": 191,
   "metadata": {},
   "outputs": [],
   "source": [
    "s=df\n",
    "s=s[s.tech_type==\"saturate\"]"
   ]
  },
  {
   "cell_type": "code",
   "execution_count": 192,
   "metadata": {},
   "outputs": [
    {
     "data": {
      "text/plain": [
       "9717"
      ]
     },
     "execution_count": 192,
     "metadata": {},
     "output_type": "execute_result"
    }
   ],
   "source": [
    "len(s)"
   ]
  },
  {
   "cell_type": "code",
   "execution_count": 193,
   "metadata": {},
   "outputs": [
    {
     "data": {
      "text/html": [
       "<div>\n",
       "<style scoped>\n",
       "    .dataframe tbody tr th:only-of-type {\n",
       "        vertical-align: middle;\n",
       "    }\n",
       "\n",
       "    .dataframe tbody tr th {\n",
       "        vertical-align: top;\n",
       "    }\n",
       "\n",
       "    .dataframe thead th {\n",
       "        text-align: right;\n",
       "    }\n",
       "</style>\n",
       "<table border=\"1\" class=\"dataframe\">\n",
       "  <thead>\n",
       "    <tr style=\"text-align: right;\">\n",
       "      <th></th>\n",
       "      <th>Topic_Perc_Contrib</th>\n",
       "      <th>Keywords</th>\n",
       "      <th>Assignee</th>\n",
       "      <th>Year</th>\n",
       "      <th>Abstract</th>\n",
       "      <th>Topic</th>\n",
       "      <th>tech_type</th>\n",
       "    </tr>\n",
       "  </thead>\n",
       "  <tbody>\n",
       "    <tr>\n",
       "      <th>2</th>\n",
       "      <td>0.3665</td>\n",
       "      <td>body, side, utility, end, model, support, part...</td>\n",
       "      <td>sumitomo electric industries ltd</td>\n",
       "      <td>1995.0</td>\n",
       "      <td>An object is to provide a particulate trap for...</td>\n",
       "      <td>topic6</td>\n",
       "      <td>saturate</td>\n",
       "    </tr>\n",
       "    <tr>\n",
       "      <th>3</th>\n",
       "      <td>0.5438</td>\n",
       "      <td>body, side, utility, end, model, support, part...</td>\n",
       "      <td>sumitomo electric ind ltd</td>\n",
       "      <td>1995.0</td>\n",
       "      <td>PURPOSE: To obtain a trap by which the leakage...</td>\n",
       "      <td>topic6</td>\n",
       "      <td>saturate</td>\n",
       "    </tr>\n",
       "    <tr>\n",
       "      <th>4</th>\n",
       "      <td>0.3044</td>\n",
       "      <td>body, side, utility, end, model, support, part...</td>\n",
       "      <td>sumitomo electric industries ltd</td>\n",
       "      <td>1995.0</td>\n",
       "      <td>A particulate trap for a diesel engine designe...</td>\n",
       "      <td>topic6</td>\n",
       "      <td>saturate</td>\n",
       "    </tr>\n",
       "    <tr>\n",
       "      <th>5</th>\n",
       "      <td>0.3454</td>\n",
       "      <td>body, side, utility, end, model, support, part...</td>\n",
       "      <td>sumitomo electric industries ltd</td>\n",
       "      <td>1995.0</td>\n",
       "      <td>PCT No. PCT/JP96/02405 Sec. 371 Date Nov. 17, ...</td>\n",
       "      <td>topic6</td>\n",
       "      <td>saturate</td>\n",
       "    </tr>\n",
       "    <tr>\n",
       "      <th>6</th>\n",
       "      <td>0.7500</td>\n",
       "      <td>body, side, utility, end, model, support, part...</td>\n",
       "      <td>ricardo cayetano algeri</td>\n",
       "      <td>2000.0</td>\n",
       "      <td>A MIXING DEVICE OF GAS FUEL WITH AIR FOR INTER...</td>\n",
       "      <td>topic6</td>\n",
       "      <td>saturate</td>\n",
       "    </tr>\n",
       "  </tbody>\n",
       "</table>\n",
       "</div>"
      ],
      "text/plain": [
       "   Topic_Perc_Contrib                                           Keywords  \\\n",
       "2              0.3665  body, side, utility, end, model, support, part...   \n",
       "3              0.5438  body, side, utility, end, model, support, part...   \n",
       "4              0.3044  body, side, utility, end, model, support, part...   \n",
       "5              0.3454  body, side, utility, end, model, support, part...   \n",
       "6              0.7500  body, side, utility, end, model, support, part...   \n",
       "\n",
       "                           Assignee    Year  \\\n",
       "2  sumitomo electric industries ltd  1995.0   \n",
       "3         sumitomo electric ind ltd  1995.0   \n",
       "4  sumitomo electric industries ltd  1995.0   \n",
       "5  sumitomo electric industries ltd  1995.0   \n",
       "6           ricardo cayetano algeri  2000.0   \n",
       "\n",
       "                                            Abstract   Topic tech_type  \n",
       "2  An object is to provide a particulate trap for...  topic6  saturate  \n",
       "3  PURPOSE: To obtain a trap by which the leakage...  topic6  saturate  \n",
       "4  A particulate trap for a diesel engine designe...  topic6  saturate  \n",
       "5  PCT No. PCT/JP96/02405 Sec. 371 Date Nov. 17, ...  topic6  saturate  \n",
       "6  A MIXING DEVICE OF GAS FUEL WITH AIR FOR INTER...  topic6  saturate  "
      ]
     },
     "execution_count": 193,
     "metadata": {},
     "output_type": "execute_result"
    }
   ],
   "source": [
    "s[:5]"
   ]
  },
  {
   "cell_type": "code",
   "execution_count": 194,
   "metadata": {},
   "outputs": [],
   "source": [
    "s=s.groupby(['Assignee']).size()"
   ]
  },
  {
   "cell_type": "code",
   "execution_count": 195,
   "metadata": {},
   "outputs": [
    {
     "data": {
      "text/plain": [
       "Assignee\n",
       "honda motor co ltd              822\n",
       "toyota motor corp               385\n",
       "bosch corp                      311\n",
       "nissan motor co ltd             214\n",
       "yamaha motor co ltd             185\n",
       "mitsubishi motors corp          129\n",
       "hyundai motor co ltd            125\n",
       "suzuki motor corp               117\n",
       "ford global technologies inc     93\n",
       "renault sas                      93\n",
       "dtype: int64"
      ]
     },
     "execution_count": 195,
     "metadata": {},
     "output_type": "execute_result"
    }
   ],
   "source": [
    "s.sort_values(ascending=False)[:10]"
   ]
  },
  {
   "cell_type": "markdown",
   "metadata": {},
   "source": [
    "**These are top 10 firms using saturate technology. We know that saturate technology belongs to topic 6 so, we can create figure from this information**"
   ]
  },
  {
   "cell_type": "markdown",
   "metadata": {},
   "source": [
    "# 6)- Adding Ecosystem components with each topic"
   ]
  },
  {
   "cell_type": "markdown",
   "metadata": {},
   "source": [
    "### End of notebook5"
   ]
  }
 ],
 "metadata": {
  "kernelspec": {
   "display_name": "Python 3",
   "language": "python",
   "name": "python3"
  },
  "language_info": {
   "codemirror_mode": {
    "name": "ipython",
    "version": 3
   },
   "file_extension": ".py",
   "mimetype": "text/x-python",
   "name": "python",
   "nbconvert_exporter": "python",
   "pygments_lexer": "ipython3",
   "version": "3.6.3"
  }
 },
 "nbformat": 4,
 "nbformat_minor": 2
}
