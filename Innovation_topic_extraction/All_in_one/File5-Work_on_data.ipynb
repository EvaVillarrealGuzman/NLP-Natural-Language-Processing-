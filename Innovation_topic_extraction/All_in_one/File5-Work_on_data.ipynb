{
 "cells": [
  {
   "cell_type": "markdown",
   "metadata": {},
   "source": [
    "# Working on analysis part of topic modeling\n",
    "\n",
    "- keyword data"
   ]
  },
  {
   "cell_type": "markdown",
   "metadata": {},
   "source": [
    "There are couple of pickle files extract from other work\n",
    "\n",
    "- 1)-patent_firm_full_clean.pkl extracted from File1-Firm_Preprocessing\n",
    "- 2)-eda.pkl extracted from File2-EDA\n",
    "- 3)-work_on_data extracted from File3-Topic modeling\n",
    "\n",
    "- Finally, we will create a pkl file from this as well for future use in visualizations. tech_type_per_topic.pkl"
   ]
  },
  {
   "cell_type": "code",
   "execution_count": 1,
   "metadata": {},
   "outputs": [],
   "source": [
    "import warnings\n",
    "warnings.filterwarnings('ignore')"
   ]
  },
  {
   "cell_type": "code",
   "execution_count": 2,
   "metadata": {},
   "outputs": [
    {
     "data": {
      "text/html": [
       "<style>body {\n",
       "    margin: 0;\n",
       "    font-family: Helvetica;\n",
       "}\n",
       "table.dataframe {\n",
       "    border-collapse: collapse;\n",
       "    border: none;\n",
       "}\n",
       "table.dataframe tr {\n",
       "    border: none;\n",
       "}\n",
       "table.dataframe td, table.dataframe th {\n",
       "    margin: 0;\n",
       "    border: 1px solid white;\n",
       "    padding-left: 0.25em;\n",
       "    padding-right: 0.25em;\n",
       "}\n",
       "table.dataframe th:not(:empty) {\n",
       "    background-color: #fec;\n",
       "    text-align: left;\n",
       "    font-weight: normal;\n",
       "}\n",
       "table.dataframe tr:nth-child(2) th:empty {\n",
       "    border-left: none;\n",
       "    border-right: 1px dashed #888;\n",
       "}\n",
       "table.dataframe td {\n",
       "    border: 2px solid #ccf;\n",
       "    background-color: #f4f4ff;\n",
       "}\n",
       "h3 {\n",
       "    color: white;\n",
       "    background-color: black;\n",
       "    padding: 0.5em;\n",
       "}\n",
       "</style>"
      ],
      "text/plain": [
       "<IPython.core.display.HTML object>"
      ]
     },
     "execution_count": 2,
     "metadata": {},
     "output_type": "execute_result"
    }
   ],
   "source": [
    "from IPython.core.display import HTML\n",
    "css = open('style-table.css').read() + open('style-notebook.css').read()\n",
    "HTML('<style>{}</style>'.format(css))"
   ]
  },
  {
   "cell_type": "code",
   "execution_count": 3,
   "metadata": {},
   "outputs": [],
   "source": [
    "import nltk\n",
    "import sys\n",
    "import re, numpy as np, pandas as pd"
   ]
  },
  {
   "cell_type": "code",
   "execution_count": 4,
   "metadata": {},
   "outputs": [
    {
     "name": "stdout",
     "output_type": "stream",
     "text": [
      "Populating the interactive namespace from numpy and matplotlib\n"
     ]
    }
   ],
   "source": [
    "# Visualization \n",
    "import matplotlib.pyplot as plt\n",
    "import seaborn as sns\n",
    "from pprint import pprint\n",
    "%matplotlib inline\n",
    "%pylab inline"
   ]
  },
  {
   "cell_type": "code",
   "execution_count": 5,
   "metadata": {},
   "outputs": [],
   "source": [
    "import plotly\n",
    "import plotly.offline as pyo\n",
    "import pandas as pd\n",
    "import matplotlib.pyplot as plt\n",
    "from datetime import datetime\n",
    "import plotly.graph_objs as go"
   ]
  },
  {
   "cell_type": "code",
   "execution_count": 6,
   "metadata": {},
   "outputs": [],
   "source": [
    "# Gensim\n",
    "import gensim, spacy, logging, warnings\n",
    "import gensim.corpora as corpora\n",
    "from gensim.utils import lemmatize, simple_preprocess\n",
    "from gensim.models import CoherenceModel"
   ]
  },
  {
   "cell_type": "code",
   "execution_count": 7,
   "metadata": {},
   "outputs": [],
   "source": [
    "# NLTK Stop words\n",
    "from nltk.corpus import stopwords\n",
    "stop_words = stopwords.words('english')\n",
    "stop_words.extend(['from', 'subject', 're', 'edu', 'use', 'not', 'would', 'say', 'could', '_', 'be', 'know', 'good', 'go', 'get', 'do', 'done', 'try', 'many', 'some', 'nice', 'thank', 'think', 'see', 'rather', 'easy', 'easily', 'lot', 'lack', 'make', 'want', 'seem', 'run', 'need', 'even', 'right', 'line', 'even', 'also', 'may', 'take', 'come'])"
   ]
  },
  {
   "cell_type": "markdown",
   "metadata": {},
   "source": [
    "# Loading file"
   ]
  },
  {
   "cell_type": "code",
   "execution_count": 8,
   "metadata": {},
   "outputs": [],
   "source": [
    "import pickle"
   ]
  },
  {
   "cell_type": "code",
   "execution_count": 9,
   "metadata": {},
   "outputs": [
    {
     "data": {
      "text/plain": [
       "(68764, 35)"
      ]
     },
     "execution_count": 9,
     "metadata": {},
     "output_type": "execute_result"
    }
   ],
   "source": [
    "p_firm = pd.read_pickle('patent_firm_full_clean.pkl')\n",
    "p_firm.shape"
   ]
  },
  {
   "cell_type": "code",
   "execution_count": 10,
   "metadata": {},
   "outputs": [
    {
     "data": {
      "text/plain": [
       "(68762, 38)"
      ]
     },
     "execution_count": 10,
     "metadata": {},
     "output_type": "execute_result"
    }
   ],
   "source": [
    "patent = pd.read_pickle('eda.pkl')\n",
    "patent.shape"
   ]
  },
  {
   "cell_type": "code",
   "execution_count": 11,
   "metadata": {},
   "outputs": [
    {
     "data": {
      "text/html": [
       "<div>\n",
       "<style scoped>\n",
       "    .dataframe tbody tr th:only-of-type {\n",
       "        vertical-align: middle;\n",
       "    }\n",
       "\n",
       "    .dataframe tbody tr th {\n",
       "        vertical-align: top;\n",
       "    }\n",
       "\n",
       "    .dataframe thead th {\n",
       "        text-align: right;\n",
       "    }\n",
       "</style>\n",
       "<table border=\"1\" class=\"dataframe\">\n",
       "  <thead>\n",
       "    <tr style=\"text-align: right;\">\n",
       "      <th></th>\n",
       "      <th>Unnamed: 0</th>\n",
       "      <th>appln</th>\n",
       "      <th>appln_id</th>\n",
       "      <th>family_id</th>\n",
       "      <th>sets</th>\n",
       "      <th>direct</th>\n",
       "      <th>granted</th>\n",
       "      <th>earliest_appln</th>\n",
       "      <th>earliest_filing_date</th>\n",
       "      <th>publn_date</th>\n",
       "      <th>...</th>\n",
       "      <th>citing_appln_id</th>\n",
       "      <th>citing_family_id</th>\n",
       "      <th>num_citing_family</th>\n",
       "      <th>earliest_applt</th>\n",
       "      <th>current_applt</th>\n",
       "      <th>appln_title</th>\n",
       "      <th>appln_abstr</th>\n",
       "      <th>assignee</th>\n",
       "      <th>application_date</th>\n",
       "      <th>year</th>\n",
       "    </tr>\n",
       "  </thead>\n",
       "  <tbody>\n",
       "    <tr>\n",
       "      <th>0</th>\n",
       "      <td>0</td>\n",
       "      <td>WO9105114W</td>\n",
       "      <td>47158713</td>\n",
       "      <td>1239277</td>\n",
       "      <td>2</td>\n",
       "      <td>1</td>\n",
       "      <td>1</td>\n",
       "      <td>US55592190A</td>\n",
       "      <td>1990-07-19</td>\n",
       "      <td>1993-02-18</td>\n",
       "      <td>...</td>\n",
       "      <td>45621927</td>\n",
       "      <td>24395918</td>\n",
       "      <td>30</td>\n",
       "      <td>LUZ ELECTRIC FUEL ISRAEL LTD.</td>\n",
       "      <td>LUZ ELECTRIC FUEL ISRAEL LTD.</td>\n",
       "      <td>ELECTRICAL ENERGY SYSTEM</td>\n",
       "      <td>An electrical energy system including an elect...</td>\n",
       "      <td>luz electric fuel israel ltd</td>\n",
       "      <td>1990-07-19</td>\n",
       "      <td>1990</td>\n",
       "    </tr>\n",
       "    <tr>\n",
       "      <th>1</th>\n",
       "      <td>1</td>\n",
       "      <td>US55592190A</td>\n",
       "      <td>51797454</td>\n",
       "      <td>1239277</td>\n",
       "      <td>2</td>\n",
       "      <td>1</td>\n",
       "      <td>1</td>\n",
       "      <td>US55592190A</td>\n",
       "      <td>1990-07-19</td>\n",
       "      <td>1992-06-09</td>\n",
       "      <td>...</td>\n",
       "      <td>52393850\\r\\n16916549\\r\\n54353461\\r\\n48212422\\r...</td>\n",
       "      <td>27071024\\r\\n1239277\\r\\n25508001\\r\\n22545199\\r\\...</td>\n",
       "      <td>30</td>\n",
       "      <td>Luz Electric Fuel Israel, Ltd.</td>\n",
       "      <td>Luz Electric Fuel Israel, Ltd.</td>\n",
       "      <td>Electrical energy system</td>\n",
       "      <td>An electrical energy system including an elect...</td>\n",
       "      <td>luz electric fuel israel ltd</td>\n",
       "      <td>1990-07-19</td>\n",
       "      <td>1990</td>\n",
       "    </tr>\n",
       "  </tbody>\n",
       "</table>\n",
       "<p>2 rows × 38 columns</p>\n",
       "</div>"
      ],
      "text/plain": [
       "   Unnamed: 0        appln  appln_id  family_id  sets  direct  granted  \\\n",
       "0           0   WO9105114W  47158713    1239277     2       1        1   \n",
       "1           1  US55592190A  51797454    1239277     2       1        1   \n",
       "\n",
       "  earliest_appln earliest_filing_date  publn_date  ...   \\\n",
       "0    US55592190A           1990-07-19  1993-02-18  ...    \n",
       "1    US55592190A           1990-07-19  1992-06-09  ...    \n",
       "\n",
       "                                     citing_appln_id  \\\n",
       "0                                           45621927   \n",
       "1  52393850\\r\\n16916549\\r\\n54353461\\r\\n48212422\\r...   \n",
       "\n",
       "                                    citing_family_id num_citing_family  \\\n",
       "0                                           24395918                30   \n",
       "1  27071024\\r\\n1239277\\r\\n25508001\\r\\n22545199\\r\\...                30   \n",
       "\n",
       "                   earliest_applt                   current_applt  \\\n",
       "0   LUZ ELECTRIC FUEL ISRAEL LTD.   LUZ ELECTRIC FUEL ISRAEL LTD.   \n",
       "1  Luz Electric Fuel Israel, Ltd.  Luz Electric Fuel Israel, Ltd.   \n",
       "\n",
       "                appln_title  \\\n",
       "0  ELECTRICAL ENERGY SYSTEM   \n",
       "1  Electrical energy system   \n",
       "\n",
       "                                         appln_abstr  \\\n",
       "0  An electrical energy system including an elect...   \n",
       "1  An electrical energy system including an elect...   \n",
       "\n",
       "                       assignee application_date  year  \n",
       "0  luz electric fuel israel ltd       1990-07-19  1990  \n",
       "1  luz electric fuel israel ltd       1990-07-19  1990  \n",
       "\n",
       "[2 rows x 38 columns]"
      ]
     },
     "execution_count": 11,
     "metadata": {},
     "output_type": "execute_result"
    }
   ],
   "source": [
    "patent.head(2)"
   ]
  },
  {
   "cell_type": "code",
   "execution_count": 12,
   "metadata": {},
   "outputs": [
    {
     "data": {
      "text/plain": [
       "(68762, 7)"
      ]
     },
     "execution_count": 12,
     "metadata": {},
     "output_type": "execute_result"
    }
   ],
   "source": [
    "data_work = pd.read_pickle('work_on_data.pkl')\n",
    "data_work.shape"
   ]
  },
  {
   "cell_type": "code",
   "execution_count": 13,
   "metadata": {},
   "outputs": [
    {
     "data": {
      "text/plain": [
       "(68762, 5)"
      ]
     },
     "execution_count": 13,
     "metadata": {},
     "output_type": "execute_result"
    }
   ],
   "source": [
    "data = pd.read_pickle('top08_topic_dominant.pkl')\n",
    "data.shape"
   ]
  },
  {
   "cell_type": "markdown",
   "metadata": {},
   "source": [
    "### select useful features only"
   ]
  },
  {
   "cell_type": "code",
   "execution_count": 14,
   "metadata": {},
   "outputs": [
    {
     "data": {
      "text/html": [
       "<div>\n",
       "<style scoped>\n",
       "    .dataframe tbody tr th:only-of-type {\n",
       "        vertical-align: middle;\n",
       "    }\n",
       "\n",
       "    .dataframe tbody tr th {\n",
       "        vertical-align: top;\n",
       "    }\n",
       "\n",
       "    .dataframe thead th {\n",
       "        text-align: right;\n",
       "    }\n",
       "</style>\n",
       "<table border=\"1\" class=\"dataframe\">\n",
       "  <thead>\n",
       "    <tr style=\"text-align: right;\">\n",
       "      <th></th>\n",
       "      <th>Document_No</th>\n",
       "      <th>Dominant_Topic</th>\n",
       "      <th>Topic_Perc_Contrib</th>\n",
       "      <th>Keywords</th>\n",
       "      <th>Text</th>\n",
       "    </tr>\n",
       "  </thead>\n",
       "  <tbody>\n",
       "    <tr>\n",
       "      <th>0</th>\n",
       "      <td>0</td>\n",
       "      <td>7.0</td>\n",
       "      <td>0.3972</td>\n",
       "      <td>charge, battery, module, power, voltage, elect...</td>\n",
       "      <td>[electrical, energy, system, include, electric...</td>\n",
       "    </tr>\n",
       "    <tr>\n",
       "      <th>1</th>\n",
       "      <td>1</td>\n",
       "      <td>7.0</td>\n",
       "      <td>0.8034</td>\n",
       "      <td>charge, battery, module, power, voltage, elect...</td>\n",
       "      <td>[electrical, energy, system, include, electric...</td>\n",
       "    </tr>\n",
       "  </tbody>\n",
       "</table>\n",
       "</div>"
      ],
      "text/plain": [
       "   Document_No  Dominant_Topic  Topic_Perc_Contrib  \\\n",
       "0            0             7.0              0.3972   \n",
       "1            1             7.0              0.8034   \n",
       "\n",
       "                                            Keywords  \\\n",
       "0  charge, battery, module, power, voltage, elect...   \n",
       "1  charge, battery, module, power, voltage, elect...   \n",
       "\n",
       "                                                Text  \n",
       "0  [electrical, energy, system, include, electric...  \n",
       "1  [electrical, energy, system, include, electric...  "
      ]
     },
     "execution_count": 14,
     "metadata": {},
     "output_type": "execute_result"
    }
   ],
   "source": [
    "data.head(2)"
   ]
  },
  {
   "cell_type": "markdown",
   "metadata": {},
   "source": [
    "**Create a dataframe for working on paper**"
   ]
  },
  {
   "cell_type": "code",
   "execution_count": 15,
   "metadata": {},
   "outputs": [],
   "source": [
    "work_on_paper=data\n",
    "work_on_paper.drop(['Text','Document_No'], axis=1, inplace=True)"
   ]
  },
  {
   "cell_type": "code",
   "execution_count": 16,
   "metadata": {},
   "outputs": [],
   "source": [
    "work_on_paper['Assignee']=patent.assignee\n",
    "work_on_paper['Year']=patent.year\n",
    "work_on_paper['Abstract']=patent.appln_abstr"
   ]
  },
  {
   "cell_type": "code",
   "execution_count": 17,
   "metadata": {},
   "outputs": [
    {
     "data": {
      "text/html": [
       "<div>\n",
       "<style scoped>\n",
       "    .dataframe tbody tr th:only-of-type {\n",
       "        vertical-align: middle;\n",
       "    }\n",
       "\n",
       "    .dataframe tbody tr th {\n",
       "        vertical-align: top;\n",
       "    }\n",
       "\n",
       "    .dataframe thead th {\n",
       "        text-align: right;\n",
       "    }\n",
       "</style>\n",
       "<table border=\"1\" class=\"dataframe\">\n",
       "  <thead>\n",
       "    <tr style=\"text-align: right;\">\n",
       "      <th></th>\n",
       "      <th>Dominant_Topic</th>\n",
       "      <th>Topic_Perc_Contrib</th>\n",
       "      <th>Keywords</th>\n",
       "      <th>Assignee</th>\n",
       "      <th>Year</th>\n",
       "      <th>Abstract</th>\n",
       "    </tr>\n",
       "  </thead>\n",
       "  <tbody>\n",
       "    <tr>\n",
       "      <th>0</th>\n",
       "      <td>7.0</td>\n",
       "      <td>0.3972</td>\n",
       "      <td>charge, battery, module, power, voltage, elect...</td>\n",
       "      <td>luz electric fuel israel ltd</td>\n",
       "      <td>1990.0</td>\n",
       "      <td>An electrical energy system including an elect...</td>\n",
       "    </tr>\n",
       "    <tr>\n",
       "      <th>1</th>\n",
       "      <td>7.0</td>\n",
       "      <td>0.8034</td>\n",
       "      <td>charge, battery, module, power, voltage, elect...</td>\n",
       "      <td>luz electric fuel israel ltd</td>\n",
       "      <td>1990.0</td>\n",
       "      <td>An electrical energy system including an elect...</td>\n",
       "    </tr>\n",
       "    <tr>\n",
       "      <th>2</th>\n",
       "      <td>1.0</td>\n",
       "      <td>0.4070</td>\n",
       "      <td>oil, pressure, valve, fuel, air, pump, gas, ex...</td>\n",
       "      <td>sumitomo electric industries ltd</td>\n",
       "      <td>1995.0</td>\n",
       "      <td>An object is to provide a particulate trap for...</td>\n",
       "    </tr>\n",
       "    <tr>\n",
       "      <th>3</th>\n",
       "      <td>3.0</td>\n",
       "      <td>0.3697</td>\n",
       "      <td>gear, shaft, first, second, motor, connect, si...</td>\n",
       "      <td>sumitomo electric ind ltd</td>\n",
       "      <td>1995.0</td>\n",
       "      <td>PURPOSE: To obtain a trap by which the leakage...</td>\n",
       "    </tr>\n",
       "    <tr>\n",
       "      <th>4</th>\n",
       "      <td>3.0</td>\n",
       "      <td>0.3872</td>\n",
       "      <td>gear, shaft, first, second, motor, connect, si...</td>\n",
       "      <td>sumitomo electric industries ltd</td>\n",
       "      <td>1995.0</td>\n",
       "      <td>A particulate trap for a diesel engine designe...</td>\n",
       "    </tr>\n",
       "  </tbody>\n",
       "</table>\n",
       "</div>"
      ],
      "text/plain": [
       "   Dominant_Topic  Topic_Perc_Contrib  \\\n",
       "0             7.0              0.3972   \n",
       "1             7.0              0.8034   \n",
       "2             1.0              0.4070   \n",
       "3             3.0              0.3697   \n",
       "4             3.0              0.3872   \n",
       "\n",
       "                                            Keywords  \\\n",
       "0  charge, battery, module, power, voltage, elect...   \n",
       "1  charge, battery, module, power, voltage, elect...   \n",
       "2  oil, pressure, valve, fuel, air, pump, gas, ex...   \n",
       "3  gear, shaft, first, second, motor, connect, si...   \n",
       "4  gear, shaft, first, second, motor, connect, si...   \n",
       "\n",
       "                           Assignee    Year  \\\n",
       "0      luz electric fuel israel ltd  1990.0   \n",
       "1      luz electric fuel israel ltd  1990.0   \n",
       "2  sumitomo electric industries ltd  1995.0   \n",
       "3         sumitomo electric ind ltd  1995.0   \n",
       "4  sumitomo electric industries ltd  1995.0   \n",
       "\n",
       "                                            Abstract  \n",
       "0  An electrical energy system including an elect...  \n",
       "1  An electrical energy system including an elect...  \n",
       "2  An object is to provide a particulate trap for...  \n",
       "3  PURPOSE: To obtain a trap by which the leakage...  \n",
       "4  A particulate trap for a diesel engine designe...  "
      ]
     },
     "execution_count": 17,
     "metadata": {},
     "output_type": "execute_result"
    }
   ],
   "source": [
    "work_on_paper.head()"
   ]
  },
  {
   "cell_type": "markdown",
   "metadata": {},
   "source": [
    "**Topics are given number to adjust with pyvis diagram**"
   ]
  },
  {
   "cell_type": "code",
   "execution_count": 18,
   "metadata": {},
   "outputs": [],
   "source": [
    "work_on_paper['Topic']=work_on_paper.Dominant_Topic.map({0:'topic1', 3:'topic2',1 :'topic3',7:'topic4', 4: 'topic5',\n",
    "                                                         2 : 'topic6', 6: 'topic7', 5:'topic8'})"
   ]
  },
  {
   "cell_type": "code",
   "execution_count": 19,
   "metadata": {},
   "outputs": [
    {
     "data": {
      "text/plain": [
       "topic1    22894\n",
       "topic2    11044\n",
       "topic3    10163\n",
       "topic4    10063\n",
       "topic5     8799\n",
       "topic6     4792\n",
       "topic7      708\n",
       "topic8      299\n",
       "Name: Topic, dtype: int64"
      ]
     },
     "execution_count": 19,
     "metadata": {},
     "output_type": "execute_result"
    }
   ],
   "source": [
    "work_on_paper.Topic.value_counts()"
   ]
  },
  {
   "cell_type": "code",
   "execution_count": 20,
   "metadata": {},
   "outputs": [
    {
     "data": {
      "text/plain": [
       "0.0    22894\n",
       "3.0    11044\n",
       "1.0    10163\n",
       "7.0    10063\n",
       "4.0     8799\n",
       "2.0     4792\n",
       "6.0      708\n",
       "5.0      299\n",
       "Name: Dominant_Topic, dtype: int64"
      ]
     },
     "execution_count": 20,
     "metadata": {},
     "output_type": "execute_result"
    }
   ],
   "source": [
    "work_on_paper.Dominant_Topic.value_counts()"
   ]
  },
  {
   "cell_type": "code",
   "execution_count": 21,
   "metadata": {},
   "outputs": [],
   "source": [
    "work_on_paper.drop(['Dominant_Topic'], axis=1, inplace=True)"
   ]
  },
  {
   "cell_type": "code",
   "execution_count": 22,
   "metadata": {},
   "outputs": [
    {
     "data": {
      "text/html": [
       "<div>\n",
       "<style scoped>\n",
       "    .dataframe tbody tr th:only-of-type {\n",
       "        vertical-align: middle;\n",
       "    }\n",
       "\n",
       "    .dataframe tbody tr th {\n",
       "        vertical-align: top;\n",
       "    }\n",
       "\n",
       "    .dataframe thead th {\n",
       "        text-align: right;\n",
       "    }\n",
       "</style>\n",
       "<table border=\"1\" class=\"dataframe\">\n",
       "  <thead>\n",
       "    <tr style=\"text-align: right;\">\n",
       "      <th></th>\n",
       "      <th>Topic_Perc_Contrib</th>\n",
       "      <th>Keywords</th>\n",
       "      <th>Assignee</th>\n",
       "      <th>Year</th>\n",
       "      <th>Abstract</th>\n",
       "      <th>Topic</th>\n",
       "    </tr>\n",
       "  </thead>\n",
       "  <tbody>\n",
       "    <tr>\n",
       "      <th>0</th>\n",
       "      <td>0.3972</td>\n",
       "      <td>charge, battery, module, power, voltage, elect...</td>\n",
       "      <td>luz electric fuel israel ltd</td>\n",
       "      <td>1990.0</td>\n",
       "      <td>An electrical energy system including an elect...</td>\n",
       "      <td>topic4</td>\n",
       "    </tr>\n",
       "    <tr>\n",
       "      <th>1</th>\n",
       "      <td>0.8034</td>\n",
       "      <td>charge, battery, module, power, voltage, elect...</td>\n",
       "      <td>luz electric fuel israel ltd</td>\n",
       "      <td>1990.0</td>\n",
       "      <td>An electrical energy system including an elect...</td>\n",
       "      <td>topic4</td>\n",
       "    </tr>\n",
       "  </tbody>\n",
       "</table>\n",
       "</div>"
      ],
      "text/plain": [
       "   Topic_Perc_Contrib                                           Keywords  \\\n",
       "0              0.3972  charge, battery, module, power, voltage, elect...   \n",
       "1              0.8034  charge, battery, module, power, voltage, elect...   \n",
       "\n",
       "                       Assignee    Year  \\\n",
       "0  luz electric fuel israel ltd  1990.0   \n",
       "1  luz electric fuel israel ltd  1990.0   \n",
       "\n",
       "                                            Abstract   Topic  \n",
       "0  An electrical energy system including an elect...  topic4  \n",
       "1  An electrical energy system including an elect...  topic4  "
      ]
     },
     "execution_count": 22,
     "metadata": {},
     "output_type": "execute_result"
    }
   ],
   "source": [
    "work_on_paper.head(2)"
   ]
  },
  {
   "cell_type": "code",
   "execution_count": 23,
   "metadata": {},
   "outputs": [],
   "source": [
    "work_on_paper.to_pickle('work_on_paper.pkl')"
   ]
  },
  {
   "cell_type": "markdown",
   "metadata": {},
   "source": [
    "# 1)- Pre-Model work\n",
    "\n",
    "using eda.pkl and patent_firm_full_clean.pkl"
   ]
  },
  {
   "cell_type": "code",
   "execution_count": 24,
   "metadata": {},
   "outputs": [],
   "source": [
    "p=patent"
   ]
  },
  {
   "cell_type": "code",
   "execution_count": 25,
   "metadata": {},
   "outputs": [],
   "source": [
    "total_patents=p['assignee'].value_counts()"
   ]
  },
  {
   "cell_type": "code",
   "execution_count": 26,
   "metadata": {},
   "outputs": [],
   "source": [
    "normal_patents=p['assignee'].value_counts(normalize=True)"
   ]
  },
  {
   "cell_type": "code",
   "execution_count": 27,
   "metadata": {},
   "outputs": [],
   "source": [
    "df = pd.DataFrame({'Assigne': total_patents,\n",
    "...                    'Commulative': normal_patents})"
   ]
  },
  {
   "cell_type": "code",
   "execution_count": 28,
   "metadata": {},
   "outputs": [
    {
     "data": {
      "text/html": [
       "<div>\n",
       "<style scoped>\n",
       "    .dataframe tbody tr th:only-of-type {\n",
       "        vertical-align: middle;\n",
       "    }\n",
       "\n",
       "    .dataframe tbody tr th {\n",
       "        vertical-align: top;\n",
       "    }\n",
       "\n",
       "    .dataframe thead th {\n",
       "        text-align: right;\n",
       "    }\n",
       "</style>\n",
       "<table border=\"1\" class=\"dataframe\">\n",
       "  <thead>\n",
       "    <tr style=\"text-align: right;\">\n",
       "      <th></th>\n",
       "      <th>Assigne</th>\n",
       "      <th>Commulative</th>\n",
       "    </tr>\n",
       "  </thead>\n",
       "  <tbody>\n",
       "    <tr>\n",
       "      <th>toyota motor corp</th>\n",
       "      <td>8125</td>\n",
       "      <td>0.119041</td>\n",
       "    </tr>\n",
       "    <tr>\n",
       "      <th>honda motor co ltd</th>\n",
       "      <td>3977</td>\n",
       "      <td>0.058268</td>\n",
       "    </tr>\n",
       "    <tr>\n",
       "      <th>nissan motor co ltd</th>\n",
       "      <td>2885</td>\n",
       "      <td>0.042269</td>\n",
       "    </tr>\n",
       "    <tr>\n",
       "      <th>bosch corp</th>\n",
       "      <td>2770</td>\n",
       "      <td>0.040584</td>\n",
       "    </tr>\n",
       "    <tr>\n",
       "      <th>hyundai motor co ltd</th>\n",
       "      <td>2597</td>\n",
       "      <td>0.038049</td>\n",
       "    </tr>\n",
       "    <tr>\n",
       "      <th>ford global technologies inc</th>\n",
       "      <td>1813</td>\n",
       "      <td>0.026563</td>\n",
       "    </tr>\n",
       "    <tr>\n",
       "      <th>mitsubishi motors corp</th>\n",
       "      <td>1412</td>\n",
       "      <td>0.020687</td>\n",
       "    </tr>\n",
       "    <tr>\n",
       "      <th>denso corp</th>\n",
       "      <td>1097</td>\n",
       "      <td>0.016072</td>\n",
       "    </tr>\n",
       "    <tr>\n",
       "      <th>renault sas</th>\n",
       "      <td>859</td>\n",
       "      <td>0.012585</td>\n",
       "    </tr>\n",
       "    <tr>\n",
       "      <th>hitachi ltd</th>\n",
       "      <td>759</td>\n",
       "      <td>0.011120</td>\n",
       "    </tr>\n",
       "    <tr>\n",
       "      <th>peugeot citroen automobiles</th>\n",
       "      <td>688</td>\n",
       "      <td>0.010080</td>\n",
       "    </tr>\n",
       "    <tr>\n",
       "      <th>suzuki motor corp</th>\n",
       "      <td>528</td>\n",
       "      <td>0.007736</td>\n",
       "    </tr>\n",
       "    <tr>\n",
       "      <th>daimlerchrysler ag</th>\n",
       "      <td>503</td>\n",
       "      <td>0.007370</td>\n",
       "    </tr>\n",
       "    <tr>\n",
       "      <th>general motors corporation</th>\n",
       "      <td>475</td>\n",
       "      <td>0.006959</td>\n",
       "    </tr>\n",
       "    <tr>\n",
       "      <th>yamaha motor co ltd</th>\n",
       "      <td>466</td>\n",
       "      <td>0.006827</td>\n",
       "    </tr>\n",
       "    <tr>\n",
       "      <th>aisin aw co ltd</th>\n",
       "      <td>458</td>\n",
       "      <td>0.006710</td>\n",
       "    </tr>\n",
       "    <tr>\n",
       "      <th>volkswagen group</th>\n",
       "      <td>375</td>\n",
       "      <td>0.005494</td>\n",
       "    </tr>\n",
       "    <tr>\n",
       "      <th>continental automotive gmbh</th>\n",
       "      <td>316</td>\n",
       "      <td>0.004630</td>\n",
       "    </tr>\n",
       "    <tr>\n",
       "      <th>isuzu motors ltd</th>\n",
       "      <td>300</td>\n",
       "      <td>0.004395</td>\n",
       "    </tr>\n",
       "    <tr>\n",
       "      <th>siemens aktiengesellschaft</th>\n",
       "      <td>285</td>\n",
       "      <td>0.004176</td>\n",
       "    </tr>\n",
       "  </tbody>\n",
       "</table>\n",
       "</div>"
      ],
      "text/plain": [
       "                              Assigne  Commulative\n",
       "toyota motor corp                8125     0.119041\n",
       "honda motor co ltd               3977     0.058268\n",
       "nissan motor co ltd              2885     0.042269\n",
       "bosch corp                       2770     0.040584\n",
       "hyundai motor co ltd             2597     0.038049\n",
       "ford global technologies inc     1813     0.026563\n",
       "mitsubishi motors corp           1412     0.020687\n",
       "denso corp                       1097     0.016072\n",
       "renault sas                       859     0.012585\n",
       "hitachi ltd                       759     0.011120\n",
       "peugeot citroen automobiles       688     0.010080\n",
       "suzuki motor corp                 528     0.007736\n",
       "daimlerchrysler ag                503     0.007370\n",
       "general motors corporation        475     0.006959\n",
       "yamaha motor co ltd               466     0.006827\n",
       "aisin aw co ltd                   458     0.006710\n",
       "volkswagen group                  375     0.005494\n",
       "continental automotive gmbh       316     0.004630\n",
       "isuzu motors ltd                  300     0.004395\n",
       "siemens aktiengesellschaft        285     0.004176"
      ]
     },
     "execution_count": 28,
     "metadata": {},
     "output_type": "execute_result"
    }
   ],
   "source": [
    "df.head(20)"
   ]
  },
  {
   "cell_type": "markdown",
   "metadata": {},
   "source": [
    "**That was our table 1: Top assignee of patents**"
   ]
  },
  {
   "cell_type": "markdown",
   "metadata": {},
   "source": [
    "### Alternative method of doing this"
   ]
  },
  {
   "cell_type": "code",
   "execution_count": 29,
   "metadata": {},
   "outputs": [
    {
     "data": {
      "text/plain": [
       "toyota motor corp       8125\n",
       "honda motor co ltd      3977\n",
       "nissan motor co ltd     2885\n",
       "bosch corp              2770\n",
       "hyundai motor co ltd    2597\n",
       "Name: assignee, dtype: int64"
      ]
     },
     "execution_count": 29,
     "metadata": {},
     "output_type": "execute_result"
    }
   ],
   "source": [
    "p['assignee'].value_counts().head()"
   ]
  },
  {
   "cell_type": "code",
   "execution_count": 30,
   "metadata": {},
   "outputs": [],
   "source": [
    "assigne_data=p['assignee'].value_counts()"
   ]
  },
  {
   "cell_type": "code",
   "execution_count": 31,
   "metadata": {},
   "outputs": [],
   "source": [
    "df_assigne= pd.DataFrame(data=assigne_data)"
   ]
  },
  {
   "cell_type": "code",
   "execution_count": 32,
   "metadata": {},
   "outputs": [
    {
     "data": {
      "text/html": [
       "<div>\n",
       "<style scoped>\n",
       "    .dataframe tbody tr th:only-of-type {\n",
       "        vertical-align: middle;\n",
       "    }\n",
       "\n",
       "    .dataframe tbody tr th {\n",
       "        vertical-align: top;\n",
       "    }\n",
       "\n",
       "    .dataframe thead th {\n",
       "        text-align: right;\n",
       "    }\n",
       "</style>\n",
       "<table border=\"1\" class=\"dataframe\">\n",
       "  <thead>\n",
       "    <tr style=\"text-align: right;\">\n",
       "      <th></th>\n",
       "      <th>assignee</th>\n",
       "    </tr>\n",
       "  </thead>\n",
       "  <tbody>\n",
       "    <tr>\n",
       "      <th>toyota motor corp</th>\n",
       "      <td>8125</td>\n",
       "    </tr>\n",
       "    <tr>\n",
       "      <th>honda motor co ltd</th>\n",
       "      <td>3977</td>\n",
       "    </tr>\n",
       "  </tbody>\n",
       "</table>\n",
       "</div>"
      ],
      "text/plain": [
       "                    assignee\n",
       "toyota motor corp       8125\n",
       "honda motor co ltd      3977"
      ]
     },
     "execution_count": 32,
     "metadata": {},
     "output_type": "execute_result"
    }
   ],
   "source": [
    "df_assigne.head(2)"
   ]
  },
  {
   "cell_type": "code",
   "execution_count": 33,
   "metadata": {},
   "outputs": [],
   "source": [
    "df_assigne['Commulative']=p['assignee'].value_counts(normalize=True)"
   ]
  },
  {
   "cell_type": "code",
   "execution_count": 34,
   "metadata": {},
   "outputs": [
    {
     "data": {
      "text/html": [
       "<div>\n",
       "<style scoped>\n",
       "    .dataframe tbody tr th:only-of-type {\n",
       "        vertical-align: middle;\n",
       "    }\n",
       "\n",
       "    .dataframe tbody tr th {\n",
       "        vertical-align: top;\n",
       "    }\n",
       "\n",
       "    .dataframe thead th {\n",
       "        text-align: right;\n",
       "    }\n",
       "</style>\n",
       "<table border=\"1\" class=\"dataframe\">\n",
       "  <thead>\n",
       "    <tr style=\"text-align: right;\">\n",
       "      <th></th>\n",
       "      <th>assignee</th>\n",
       "      <th>Commulative</th>\n",
       "    </tr>\n",
       "  </thead>\n",
       "  <tbody>\n",
       "    <tr>\n",
       "      <th>toyota motor corp</th>\n",
       "      <td>8125</td>\n",
       "      <td>0.119041</td>\n",
       "    </tr>\n",
       "    <tr>\n",
       "      <th>honda motor co ltd</th>\n",
       "      <td>3977</td>\n",
       "      <td>0.058268</td>\n",
       "    </tr>\n",
       "  </tbody>\n",
       "</table>\n",
       "</div>"
      ],
      "text/plain": [
       "                    assignee  Commulative\n",
       "toyota motor corp       8125     0.119041\n",
       "honda motor co ltd      3977     0.058268"
      ]
     },
     "execution_count": 34,
     "metadata": {},
     "output_type": "execute_result"
    }
   ],
   "source": [
    "df_assigne.head(2)"
   ]
  },
  {
   "cell_type": "markdown",
   "metadata": {},
   "source": [
    "### Alternative way 2"
   ]
  },
  {
   "cell_type": "code",
   "execution_count": 35,
   "metadata": {},
   "outputs": [
    {
     "data": {
      "text/html": [
       "<div>\n",
       "<style scoped>\n",
       "    .dataframe tbody tr th:only-of-type {\n",
       "        vertical-align: middle;\n",
       "    }\n",
       "\n",
       "    .dataframe tbody tr th {\n",
       "        vertical-align: top;\n",
       "    }\n",
       "\n",
       "    .dataframe thead th {\n",
       "        text-align: right;\n",
       "    }\n",
       "</style>\n",
       "<table border=\"1\" class=\"dataframe\">\n",
       "  <thead>\n",
       "    <tr style=\"text-align: right;\">\n",
       "      <th></th>\n",
       "      <th>Top Companies</th>\n",
       "      <th>patent-counts</th>\n",
       "    </tr>\n",
       "  </thead>\n",
       "  <tbody>\n",
       "    <tr>\n",
       "      <th>0</th>\n",
       "      <td>toyota motor corp</td>\n",
       "      <td>8125</td>\n",
       "    </tr>\n",
       "    <tr>\n",
       "      <th>1</th>\n",
       "      <td>honda motor co ltd</td>\n",
       "      <td>3977</td>\n",
       "    </tr>\n",
       "    <tr>\n",
       "      <th>2</th>\n",
       "      <td>nissan motor co ltd</td>\n",
       "      <td>2885</td>\n",
       "    </tr>\n",
       "    <tr>\n",
       "      <th>3</th>\n",
       "      <td>bosch corp</td>\n",
       "      <td>2770</td>\n",
       "    </tr>\n",
       "    <tr>\n",
       "      <th>4</th>\n",
       "      <td>hyundai motor co ltd</td>\n",
       "      <td>2597</td>\n",
       "    </tr>\n",
       "    <tr>\n",
       "      <th>5</th>\n",
       "      <td>ford global technologies inc</td>\n",
       "      <td>1813</td>\n",
       "    </tr>\n",
       "    <tr>\n",
       "      <th>6</th>\n",
       "      <td>mitsubishi motors corp</td>\n",
       "      <td>1412</td>\n",
       "    </tr>\n",
       "    <tr>\n",
       "      <th>7</th>\n",
       "      <td>denso corp</td>\n",
       "      <td>1097</td>\n",
       "    </tr>\n",
       "    <tr>\n",
       "      <th>8</th>\n",
       "      <td>renault sas</td>\n",
       "      <td>859</td>\n",
       "    </tr>\n",
       "    <tr>\n",
       "      <th>9</th>\n",
       "      <td>hitachi ltd</td>\n",
       "      <td>759</td>\n",
       "    </tr>\n",
       "    <tr>\n",
       "      <th>10</th>\n",
       "      <td>peugeot citroen automobiles</td>\n",
       "      <td>688</td>\n",
       "    </tr>\n",
       "    <tr>\n",
       "      <th>11</th>\n",
       "      <td>suzuki motor corp</td>\n",
       "      <td>528</td>\n",
       "    </tr>\n",
       "    <tr>\n",
       "      <th>12</th>\n",
       "      <td>daimlerchrysler ag</td>\n",
       "      <td>503</td>\n",
       "    </tr>\n",
       "    <tr>\n",
       "      <th>13</th>\n",
       "      <td>general motors corporation</td>\n",
       "      <td>475</td>\n",
       "    </tr>\n",
       "    <tr>\n",
       "      <th>14</th>\n",
       "      <td>yamaha motor co ltd</td>\n",
       "      <td>466</td>\n",
       "    </tr>\n",
       "    <tr>\n",
       "      <th>15</th>\n",
       "      <td>aisin aw co ltd</td>\n",
       "      <td>458</td>\n",
       "    </tr>\n",
       "    <tr>\n",
       "      <th>16</th>\n",
       "      <td>volkswagen group</td>\n",
       "      <td>375</td>\n",
       "    </tr>\n",
       "    <tr>\n",
       "      <th>17</th>\n",
       "      <td>continental automotive gmbh</td>\n",
       "      <td>316</td>\n",
       "    </tr>\n",
       "    <tr>\n",
       "      <th>18</th>\n",
       "      <td>isuzu motors ltd</td>\n",
       "      <td>300</td>\n",
       "    </tr>\n",
       "    <tr>\n",
       "      <th>19</th>\n",
       "      <td>siemens aktiengesellschaft</td>\n",
       "      <td>285</td>\n",
       "    </tr>\n",
       "    <tr>\n",
       "      <th>20</th>\n",
       "      <td>mazda motor corp</td>\n",
       "      <td>274</td>\n",
       "    </tr>\n",
       "    <tr>\n",
       "      <th>21</th>\n",
       "      <td>lsis co ltd</td>\n",
       "      <td>253</td>\n",
       "    </tr>\n",
       "    <tr>\n",
       "      <th>22</th>\n",
       "      <td>audi ag</td>\n",
       "      <td>226</td>\n",
       "    </tr>\n",
       "    <tr>\n",
       "      <th>23</th>\n",
       "      <td>bmw ag</td>\n",
       "      <td>212</td>\n",
       "    </tr>\n",
       "    <tr>\n",
       "      <th>24</th>\n",
       "      <td>general electric company</td>\n",
       "      <td>199</td>\n",
       "    </tr>\n",
       "    <tr>\n",
       "      <th>25</th>\n",
       "      <td>hitachi automotive systems ltd</td>\n",
       "      <td>192</td>\n",
       "    </tr>\n",
       "    <tr>\n",
       "      <th>26</th>\n",
       "      <td>hino motors ltd</td>\n",
       "      <td>168</td>\n",
       "    </tr>\n",
       "    <tr>\n",
       "      <th>27</th>\n",
       "      <td>fuji heavy ind ltd</td>\n",
       "      <td>168</td>\n",
       "    </tr>\n",
       "    <tr>\n",
       "      <th>28</th>\n",
       "      <td>daihatsu motor co ltd</td>\n",
       "      <td>159</td>\n",
       "    </tr>\n",
       "    <tr>\n",
       "      <th>29</th>\n",
       "      <td>beiqi foton motor co ltd</td>\n",
       "      <td>138</td>\n",
       "    </tr>\n",
       "  </tbody>\n",
       "</table>\n",
       "</div>"
      ],
      "text/plain": [
       "                     Top Companies  patent-counts\n",
       "0                toyota motor corp           8125\n",
       "1               honda motor co ltd           3977\n",
       "2              nissan motor co ltd           2885\n",
       "3                       bosch corp           2770\n",
       "4             hyundai motor co ltd           2597\n",
       "5     ford global technologies inc           1813\n",
       "6           mitsubishi motors corp           1412\n",
       "7                       denso corp           1097\n",
       "8                      renault sas            859\n",
       "9                      hitachi ltd            759\n",
       "10     peugeot citroen automobiles            688\n",
       "11               suzuki motor corp            528\n",
       "12              daimlerchrysler ag            503\n",
       "13      general motors corporation            475\n",
       "14             yamaha motor co ltd            466\n",
       "15                 aisin aw co ltd            458\n",
       "16                volkswagen group            375\n",
       "17     continental automotive gmbh            316\n",
       "18                isuzu motors ltd            300\n",
       "19      siemens aktiengesellschaft            285\n",
       "20                mazda motor corp            274\n",
       "21                     lsis co ltd            253\n",
       "22                         audi ag            226\n",
       "23                          bmw ag            212\n",
       "24        general electric company            199\n",
       "25  hitachi automotive systems ltd            192\n",
       "26                 hino motors ltd            168\n",
       "27              fuji heavy ind ltd            168\n",
       "28           daihatsu motor co ltd            159\n",
       "29        beiqi foton motor co ltd            138"
      ]
     },
     "execution_count": 35,
     "metadata": {},
     "output_type": "execute_result"
    }
   ],
   "source": [
    "value_counts = p['assignee'].value_counts(dropna=True, sort=True)\n",
    "data = value_counts.rename_axis('Top Companies').reset_index(name='patent-counts')\n",
    "df_val_counts = pd.DataFrame(data)\n",
    "df_val_counts[:30]"
   ]
  },
  {
   "cell_type": "code",
   "execution_count": 36,
   "metadata": {},
   "outputs": [
    {
     "data": {
      "text/plain": [
       "toyota motor corp       0.119041\n",
       "honda motor co ltd      0.058268\n",
       "nissan motor co ltd     0.042269\n",
       "bosch corp              0.040584\n",
       "hyundai motor co ltd    0.038049\n",
       "Name: Commulative, dtype: float64"
      ]
     },
     "execution_count": 36,
     "metadata": {},
     "output_type": "execute_result"
    }
   ],
   "source": [
    "df.Commulative[:5]"
   ]
  },
  {
   "cell_type": "code",
   "execution_count": 37,
   "metadata": {},
   "outputs": [
    {
     "data": {
      "text/html": [
       "<div>\n",
       "<style scoped>\n",
       "    .dataframe tbody tr th:only-of-type {\n",
       "        vertical-align: middle;\n",
       "    }\n",
       "\n",
       "    .dataframe tbody tr th {\n",
       "        vertical-align: top;\n",
       "    }\n",
       "\n",
       "    .dataframe thead th {\n",
       "        text-align: right;\n",
       "    }\n",
       "</style>\n",
       "<table border=\"1\" class=\"dataframe\">\n",
       "  <thead>\n",
       "    <tr style=\"text-align: right;\">\n",
       "      <th></th>\n",
       "      <th>Top Companies</th>\n",
       "      <th>patent-counts in percetange</th>\n",
       "    </tr>\n",
       "  </thead>\n",
       "  <tbody>\n",
       "    <tr>\n",
       "      <th>0</th>\n",
       "      <td>toyota motor corp</td>\n",
       "      <td>0.119041</td>\n",
       "    </tr>\n",
       "    <tr>\n",
       "      <th>1</th>\n",
       "      <td>honda motor co ltd</td>\n",
       "      <td>0.058268</td>\n",
       "    </tr>\n",
       "    <tr>\n",
       "      <th>2</th>\n",
       "      <td>nissan motor co ltd</td>\n",
       "      <td>0.042269</td>\n",
       "    </tr>\n",
       "    <tr>\n",
       "      <th>3</th>\n",
       "      <td>bosch corp</td>\n",
       "      <td>0.040584</td>\n",
       "    </tr>\n",
       "    <tr>\n",
       "      <th>4</th>\n",
       "      <td>hyundai motor co ltd</td>\n",
       "      <td>0.038049</td>\n",
       "    </tr>\n",
       "    <tr>\n",
       "      <th>5</th>\n",
       "      <td>ford global technologies inc</td>\n",
       "      <td>0.026563</td>\n",
       "    </tr>\n",
       "    <tr>\n",
       "      <th>6</th>\n",
       "      <td>mitsubishi motors corp</td>\n",
       "      <td>0.020687</td>\n",
       "    </tr>\n",
       "    <tr>\n",
       "      <th>7</th>\n",
       "      <td>denso corp</td>\n",
       "      <td>0.016072</td>\n",
       "    </tr>\n",
       "    <tr>\n",
       "      <th>8</th>\n",
       "      <td>renault sas</td>\n",
       "      <td>0.012585</td>\n",
       "    </tr>\n",
       "    <tr>\n",
       "      <th>9</th>\n",
       "      <td>hitachi ltd</td>\n",
       "      <td>0.011120</td>\n",
       "    </tr>\n",
       "    <tr>\n",
       "      <th>10</th>\n",
       "      <td>peugeot citroen automobiles</td>\n",
       "      <td>0.010080</td>\n",
       "    </tr>\n",
       "    <tr>\n",
       "      <th>11</th>\n",
       "      <td>suzuki motor corp</td>\n",
       "      <td>0.007736</td>\n",
       "    </tr>\n",
       "    <tr>\n",
       "      <th>12</th>\n",
       "      <td>daimlerchrysler ag</td>\n",
       "      <td>0.007370</td>\n",
       "    </tr>\n",
       "    <tr>\n",
       "      <th>13</th>\n",
       "      <td>general motors corporation</td>\n",
       "      <td>0.006959</td>\n",
       "    </tr>\n",
       "    <tr>\n",
       "      <th>14</th>\n",
       "      <td>yamaha motor co ltd</td>\n",
       "      <td>0.006827</td>\n",
       "    </tr>\n",
       "    <tr>\n",
       "      <th>15</th>\n",
       "      <td>aisin aw co ltd</td>\n",
       "      <td>0.006710</td>\n",
       "    </tr>\n",
       "    <tr>\n",
       "      <th>16</th>\n",
       "      <td>volkswagen group</td>\n",
       "      <td>0.005494</td>\n",
       "    </tr>\n",
       "    <tr>\n",
       "      <th>17</th>\n",
       "      <td>continental automotive gmbh</td>\n",
       "      <td>0.004630</td>\n",
       "    </tr>\n",
       "    <tr>\n",
       "      <th>18</th>\n",
       "      <td>isuzu motors ltd</td>\n",
       "      <td>0.004395</td>\n",
       "    </tr>\n",
       "    <tr>\n",
       "      <th>19</th>\n",
       "      <td>siemens aktiengesellschaft</td>\n",
       "      <td>0.004176</td>\n",
       "    </tr>\n",
       "    <tr>\n",
       "      <th>20</th>\n",
       "      <td>mazda motor corp</td>\n",
       "      <td>0.004014</td>\n",
       "    </tr>\n",
       "    <tr>\n",
       "      <th>21</th>\n",
       "      <td>lsis co ltd</td>\n",
       "      <td>0.003707</td>\n",
       "    </tr>\n",
       "    <tr>\n",
       "      <th>22</th>\n",
       "      <td>audi ag</td>\n",
       "      <td>0.003311</td>\n",
       "    </tr>\n",
       "    <tr>\n",
       "      <th>23</th>\n",
       "      <td>bmw ag</td>\n",
       "      <td>0.003106</td>\n",
       "    </tr>\n",
       "    <tr>\n",
       "      <th>24</th>\n",
       "      <td>general electric company</td>\n",
       "      <td>0.002916</td>\n",
       "    </tr>\n",
       "    <tr>\n",
       "      <th>25</th>\n",
       "      <td>hitachi automotive systems ltd</td>\n",
       "      <td>0.002813</td>\n",
       "    </tr>\n",
       "    <tr>\n",
       "      <th>26</th>\n",
       "      <td>hino motors ltd</td>\n",
       "      <td>0.002461</td>\n",
       "    </tr>\n",
       "    <tr>\n",
       "      <th>27</th>\n",
       "      <td>fuji heavy ind ltd</td>\n",
       "      <td>0.002461</td>\n",
       "    </tr>\n",
       "    <tr>\n",
       "      <th>28</th>\n",
       "      <td>daihatsu motor co ltd</td>\n",
       "      <td>0.002330</td>\n",
       "    </tr>\n",
       "    <tr>\n",
       "      <th>29</th>\n",
       "      <td>beiqi foton motor co ltd</td>\n",
       "      <td>0.002022</td>\n",
       "    </tr>\n",
       "  </tbody>\n",
       "</table>\n",
       "</div>"
      ],
      "text/plain": [
       "                     Top Companies  patent-counts in percetange\n",
       "0                toyota motor corp                     0.119041\n",
       "1               honda motor co ltd                     0.058268\n",
       "2              nissan motor co ltd                     0.042269\n",
       "3                       bosch corp                     0.040584\n",
       "4             hyundai motor co ltd                     0.038049\n",
       "5     ford global technologies inc                     0.026563\n",
       "6           mitsubishi motors corp                     0.020687\n",
       "7                       denso corp                     0.016072\n",
       "8                      renault sas                     0.012585\n",
       "9                      hitachi ltd                     0.011120\n",
       "10     peugeot citroen automobiles                     0.010080\n",
       "11               suzuki motor corp                     0.007736\n",
       "12              daimlerchrysler ag                     0.007370\n",
       "13      general motors corporation                     0.006959\n",
       "14             yamaha motor co ltd                     0.006827\n",
       "15                 aisin aw co ltd                     0.006710\n",
       "16                volkswagen group                     0.005494\n",
       "17     continental automotive gmbh                     0.004630\n",
       "18                isuzu motors ltd                     0.004395\n",
       "19      siemens aktiengesellschaft                     0.004176\n",
       "20                mazda motor corp                     0.004014\n",
       "21                     lsis co ltd                     0.003707\n",
       "22                         audi ag                     0.003311\n",
       "23                          bmw ag                     0.003106\n",
       "24        general electric company                     0.002916\n",
       "25  hitachi automotive systems ltd                     0.002813\n",
       "26                 hino motors ltd                     0.002461\n",
       "27              fuji heavy ind ltd                     0.002461\n",
       "28           daihatsu motor co ltd                     0.002330\n",
       "29        beiqi foton motor co ltd                     0.002022"
      ]
     },
     "execution_count": 37,
     "metadata": {},
     "output_type": "execute_result"
    }
   ],
   "source": [
    "value_counts_norm = p['assignee'].value_counts(normalize=True , dropna=True, sort=True)\n",
    "data2 = value_counts_norm.rename_axis('Top Companies').reset_index(name='patent-counts in percetange')\n",
    "df_val_counts_norm = pd.DataFrame(data2)\n",
    "df_val_counts_norm[:30]"
   ]
  },
  {
   "cell_type": "markdown",
   "metadata": {},
   "source": [
    "**All togather**"
   ]
  },
  {
   "cell_type": "code",
   "execution_count": 38,
   "metadata": {},
   "outputs": [
    {
     "data": {
      "text/html": [
       "<div>\n",
       "<style scoped>\n",
       "    .dataframe tbody tr th:only-of-type {\n",
       "        vertical-align: middle;\n",
       "    }\n",
       "\n",
       "    .dataframe tbody tr th {\n",
       "        vertical-align: top;\n",
       "    }\n",
       "\n",
       "    .dataframe thead th {\n",
       "        text-align: right;\n",
       "    }\n",
       "</style>\n",
       "<table border=\"1\" class=\"dataframe\">\n",
       "  <thead>\n",
       "    <tr style=\"text-align: right;\">\n",
       "      <th></th>\n",
       "      <th>Top Companies</th>\n",
       "      <th>patent-counts in percetange</th>\n",
       "      <th>Patent-Count</th>\n",
       "    </tr>\n",
       "  </thead>\n",
       "  <tbody>\n",
       "    <tr>\n",
       "      <th>0</th>\n",
       "      <td>toyota motor corp</td>\n",
       "      <td>0.119041</td>\n",
       "      <td>8125</td>\n",
       "    </tr>\n",
       "    <tr>\n",
       "      <th>1</th>\n",
       "      <td>honda motor co ltd</td>\n",
       "      <td>0.058268</td>\n",
       "      <td>3977</td>\n",
       "    </tr>\n",
       "    <tr>\n",
       "      <th>2</th>\n",
       "      <td>nissan motor co ltd</td>\n",
       "      <td>0.042269</td>\n",
       "      <td>2885</td>\n",
       "    </tr>\n",
       "    <tr>\n",
       "      <th>3</th>\n",
       "      <td>bosch corp</td>\n",
       "      <td>0.040584</td>\n",
       "      <td>2770</td>\n",
       "    </tr>\n",
       "    <tr>\n",
       "      <th>4</th>\n",
       "      <td>hyundai motor co ltd</td>\n",
       "      <td>0.038049</td>\n",
       "      <td>2597</td>\n",
       "    </tr>\n",
       "    <tr>\n",
       "      <th>5</th>\n",
       "      <td>ford global technologies inc</td>\n",
       "      <td>0.026563</td>\n",
       "      <td>1813</td>\n",
       "    </tr>\n",
       "    <tr>\n",
       "      <th>6</th>\n",
       "      <td>mitsubishi motors corp</td>\n",
       "      <td>0.020687</td>\n",
       "      <td>1412</td>\n",
       "    </tr>\n",
       "    <tr>\n",
       "      <th>7</th>\n",
       "      <td>denso corp</td>\n",
       "      <td>0.016072</td>\n",
       "      <td>1097</td>\n",
       "    </tr>\n",
       "    <tr>\n",
       "      <th>8</th>\n",
       "      <td>renault sas</td>\n",
       "      <td>0.012585</td>\n",
       "      <td>859</td>\n",
       "    </tr>\n",
       "    <tr>\n",
       "      <th>9</th>\n",
       "      <td>hitachi ltd</td>\n",
       "      <td>0.011120</td>\n",
       "      <td>759</td>\n",
       "    </tr>\n",
       "    <tr>\n",
       "      <th>10</th>\n",
       "      <td>peugeot citroen automobiles</td>\n",
       "      <td>0.010080</td>\n",
       "      <td>688</td>\n",
       "    </tr>\n",
       "    <tr>\n",
       "      <th>11</th>\n",
       "      <td>suzuki motor corp</td>\n",
       "      <td>0.007736</td>\n",
       "      <td>528</td>\n",
       "    </tr>\n",
       "    <tr>\n",
       "      <th>12</th>\n",
       "      <td>daimlerchrysler ag</td>\n",
       "      <td>0.007370</td>\n",
       "      <td>503</td>\n",
       "    </tr>\n",
       "    <tr>\n",
       "      <th>13</th>\n",
       "      <td>general motors corporation</td>\n",
       "      <td>0.006959</td>\n",
       "      <td>475</td>\n",
       "    </tr>\n",
       "    <tr>\n",
       "      <th>14</th>\n",
       "      <td>yamaha motor co ltd</td>\n",
       "      <td>0.006827</td>\n",
       "      <td>466</td>\n",
       "    </tr>\n",
       "    <tr>\n",
       "      <th>15</th>\n",
       "      <td>aisin aw co ltd</td>\n",
       "      <td>0.006710</td>\n",
       "      <td>458</td>\n",
       "    </tr>\n",
       "    <tr>\n",
       "      <th>16</th>\n",
       "      <td>volkswagen group</td>\n",
       "      <td>0.005494</td>\n",
       "      <td>375</td>\n",
       "    </tr>\n",
       "    <tr>\n",
       "      <th>17</th>\n",
       "      <td>continental automotive gmbh</td>\n",
       "      <td>0.004630</td>\n",
       "      <td>316</td>\n",
       "    </tr>\n",
       "    <tr>\n",
       "      <th>18</th>\n",
       "      <td>isuzu motors ltd</td>\n",
       "      <td>0.004395</td>\n",
       "      <td>300</td>\n",
       "    </tr>\n",
       "    <tr>\n",
       "      <th>19</th>\n",
       "      <td>siemens aktiengesellschaft</td>\n",
       "      <td>0.004176</td>\n",
       "      <td>285</td>\n",
       "    </tr>\n",
       "    <tr>\n",
       "      <th>20</th>\n",
       "      <td>mazda motor corp</td>\n",
       "      <td>0.004014</td>\n",
       "      <td>274</td>\n",
       "    </tr>\n",
       "    <tr>\n",
       "      <th>21</th>\n",
       "      <td>lsis co ltd</td>\n",
       "      <td>0.003707</td>\n",
       "      <td>253</td>\n",
       "    </tr>\n",
       "    <tr>\n",
       "      <th>22</th>\n",
       "      <td>audi ag</td>\n",
       "      <td>0.003311</td>\n",
       "      <td>226</td>\n",
       "    </tr>\n",
       "    <tr>\n",
       "      <th>23</th>\n",
       "      <td>bmw ag</td>\n",
       "      <td>0.003106</td>\n",
       "      <td>212</td>\n",
       "    </tr>\n",
       "    <tr>\n",
       "      <th>24</th>\n",
       "      <td>general electric company</td>\n",
       "      <td>0.002916</td>\n",
       "      <td>199</td>\n",
       "    </tr>\n",
       "    <tr>\n",
       "      <th>25</th>\n",
       "      <td>hitachi automotive systems ltd</td>\n",
       "      <td>0.002813</td>\n",
       "      <td>192</td>\n",
       "    </tr>\n",
       "    <tr>\n",
       "      <th>26</th>\n",
       "      <td>hino motors ltd</td>\n",
       "      <td>0.002461</td>\n",
       "      <td>168</td>\n",
       "    </tr>\n",
       "    <tr>\n",
       "      <th>27</th>\n",
       "      <td>fuji heavy ind ltd</td>\n",
       "      <td>0.002461</td>\n",
       "      <td>168</td>\n",
       "    </tr>\n",
       "    <tr>\n",
       "      <th>28</th>\n",
       "      <td>daihatsu motor co ltd</td>\n",
       "      <td>0.002330</td>\n",
       "      <td>159</td>\n",
       "    </tr>\n",
       "    <tr>\n",
       "      <th>29</th>\n",
       "      <td>beiqi foton motor co ltd</td>\n",
       "      <td>0.002022</td>\n",
       "      <td>138</td>\n",
       "    </tr>\n",
       "  </tbody>\n",
       "</table>\n",
       "</div>"
      ],
      "text/plain": [
       "                     Top Companies  patent-counts in percetange  Patent-Count\n",
       "0                toyota motor corp                     0.119041          8125\n",
       "1               honda motor co ltd                     0.058268          3977\n",
       "2              nissan motor co ltd                     0.042269          2885\n",
       "3                       bosch corp                     0.040584          2770\n",
       "4             hyundai motor co ltd                     0.038049          2597\n",
       "5     ford global technologies inc                     0.026563          1813\n",
       "6           mitsubishi motors corp                     0.020687          1412\n",
       "7                       denso corp                     0.016072          1097\n",
       "8                      renault sas                     0.012585           859\n",
       "9                      hitachi ltd                     0.011120           759\n",
       "10     peugeot citroen automobiles                     0.010080           688\n",
       "11               suzuki motor corp                     0.007736           528\n",
       "12              daimlerchrysler ag                     0.007370           503\n",
       "13      general motors corporation                     0.006959           475\n",
       "14             yamaha motor co ltd                     0.006827           466\n",
       "15                 aisin aw co ltd                     0.006710           458\n",
       "16                volkswagen group                     0.005494           375\n",
       "17     continental automotive gmbh                     0.004630           316\n",
       "18                isuzu motors ltd                     0.004395           300\n",
       "19      siemens aktiengesellschaft                     0.004176           285\n",
       "20                mazda motor corp                     0.004014           274\n",
       "21                     lsis co ltd                     0.003707           253\n",
       "22                         audi ag                     0.003311           226\n",
       "23                          bmw ag                     0.003106           212\n",
       "24        general electric company                     0.002916           199\n",
       "25  hitachi automotive systems ltd                     0.002813           192\n",
       "26                 hino motors ltd                     0.002461           168\n",
       "27              fuji heavy ind ltd                     0.002461           168\n",
       "28           daihatsu motor co ltd                     0.002330           159\n",
       "29        beiqi foton motor co ltd                     0.002022           138"
      ]
     },
     "execution_count": 38,
     "metadata": {},
     "output_type": "execute_result"
    }
   ],
   "source": [
    "df_val_counts_norm['Patent-Count']=df_val_counts['patent-counts']\n",
    "df_val_counts_norm[:30]"
   ]
  },
  {
   "cell_type": "markdown",
   "metadata": {},
   "source": [
    "**This is our final table results**"
   ]
  },
  {
   "cell_type": "markdown",
   "metadata": {},
   "source": [
    "# Figure 3\n",
    "\n",
    "year vice analysis"
   ]
  },
  {
   "cell_type": "code",
   "execution_count": 39,
   "metadata": {},
   "outputs": [
    {
     "data": {
      "text/plain": [
       "year\n",
       "1990     631\n",
       "1991     732\n",
       "1992    1008\n",
       "1993    1205\n",
       "1994    1154\n",
       "1995    1285\n",
       "1996    1483\n",
       "1997    1581\n",
       "1998    1726\n",
       "1999    2003\n",
       "2000    2211\n",
       "2001    2267\n",
       "2002    2219\n",
       "2003    2431\n",
       "2004    2310\n",
       "2005    2641\n",
       "2006    3498\n",
       "2007    3444\n",
       "2008    3259\n",
       "2009    3754\n",
       "2010    4659\n",
       "2011    5737\n",
       "2012    5242\n",
       "2013    4247\n",
       "2014    3420\n",
       "2015    2687\n",
       "2016    1568\n",
       "2017     360\n",
       "dtype: int64"
      ]
     },
     "execution_count": 39,
     "metadata": {},
     "output_type": "execute_result"
    }
   ],
   "source": [
    "p.groupby(p.year).size()"
   ]
  },
  {
   "cell_type": "code",
   "execution_count": 40,
   "metadata": {},
   "outputs": [
    {
     "data": {
      "text/plain": [
       "1990     631\n",
       "1991     732\n",
       "1992    1008\n",
       "1993    1205\n",
       "1994    1154\n",
       "1995    1285\n",
       "1996    1483\n",
       "1997    1581\n",
       "1998    1726\n",
       "1999    2003\n",
       "2000    2211\n",
       "2001    2267\n",
       "2002    2219\n",
       "2003    2431\n",
       "2004    2310\n",
       "2005    2641\n",
       "2006    3498\n",
       "2007    3444\n",
       "2008    3259\n",
       "2009    3754\n",
       "2010    4659\n",
       "2011    5737\n",
       "2012    5242\n",
       "2013    4247\n",
       "2014    3420\n",
       "2015    2687\n",
       "2016    1568\n",
       "2017     360\n",
       "Name: year, dtype: int64"
      ]
     },
     "execution_count": 40,
     "metadata": {},
     "output_type": "execute_result"
    }
   ],
   "source": [
    "#Or we can\n",
    "p.year.value_counts().sort_index()"
   ]
  },
  {
   "cell_type": "code",
   "execution_count": 41,
   "metadata": {},
   "outputs": [
    {
     "data": {
      "text/plain": [
       "1990     631\n",
       "1991     732\n",
       "1992    1008\n",
       "1993    1205\n",
       "1994    1154\n",
       "1995    1285\n",
       "1996    1483\n",
       "1997    1581\n",
       "1998    1726\n",
       "1999    2003\n",
       "2000    2211\n",
       "2001    2267\n",
       "2002    2219\n",
       "2003    2431\n",
       "2004    2310\n",
       "2005    2641\n",
       "2006    3498\n",
       "2007    3444\n",
       "2008    3259\n",
       "2009    3754\n",
       "2010    4659\n",
       "2011    5737\n",
       "2012    5242\n",
       "2013    4247\n",
       "2014    3420\n",
       "2015    2687\n",
       "2016    1568\n",
       "2017     360\n",
       "Name: year, dtype: int64"
      ]
     },
     "execution_count": 41,
     "metadata": {},
     "output_type": "execute_result"
    }
   ],
   "source": [
    "p.year.value_counts(ascending=True).sort_index()"
   ]
  },
  {
   "cell_type": "code",
   "execution_count": 42,
   "metadata": {},
   "outputs": [],
   "source": [
    "# For checking distribution of patent over years\n",
    "dist=p.year.value_counts(ascending=True).sort_index()"
   ]
  },
  {
   "cell_type": "code",
   "execution_count": 43,
   "metadata": {},
   "outputs": [
    {
     "data": {
      "text/plain": [
       "pandas.core.series.Series"
      ]
     },
     "execution_count": 43,
     "metadata": {},
     "output_type": "execute_result"
    }
   ],
   "source": [
    "type(dist)"
   ]
  },
  {
   "cell_type": "code",
   "execution_count": 44,
   "metadata": {},
   "outputs": [
    {
     "data": {
      "image/png": "[encoded data removed]",
      "text/plain": [
       "<matplotlib.figure.Figure at 0x1fdd069c748>"
      ]
     },
     "metadata": {
      "needs_background": "light"
     },
     "output_type": "display_data"
    }
   ],
   "source": [
    "dist.plot()\n",
    "plt.xlabel('Application years')\n",
    "plt.ylabel('Number of patent applications')\n",
    "plt.title('distribution of patent applications over years')\n",
    "#plt.legend()\n",
    "plt.show()"
   ]
  },
  {
   "cell_type": "code",
   "execution_count": 45,
   "metadata": {},
   "outputs": [
    {
     "data": {
      "text/plain": [
       "<matplotlib.axes._subplots.AxesSubplot at 0x1fdd06907b8>"
      ]
     },
     "execution_count": 45,
     "metadata": {},
     "output_type": "execute_result"
    },
    {
     "data": {
      "image/png": "[encoded data removed]",
      "text/plain": [
       "<matplotlib.figure.Figure at 0x1fdd0579320>"
      ]
     },
     "metadata": {
      "needs_background": "light"
     },
     "output_type": "display_data"
    }
   ],
   "source": [
    "# We can always use groupby. Here we have two variables \"year\" and \"granted\"\n",
    "p.groupby(p.year).granted.count().plot()"
   ]
  },
  {
   "cell_type": "markdown",
   "metadata": {},
   "source": [
    "**The steep drop in patent applications in 2014 is due to the patent ﬁlling process at the USPTO, which involves a signiﬁcant time lag between the ﬁling and disclosure or registration of applications, ranging from several months to over two years.**\n",
    "\n",
    "So work uptill fig 3 is done"
   ]
  },
  {
   "cell_type": "markdown",
   "metadata": {},
   "source": [
    "### using plotly"
   ]
  },
  {
   "cell_type": "code",
   "execution_count": 46,
   "metadata": {},
   "outputs": [],
   "source": [
    "value=p.year.value_counts().sort_index()"
   ]
  },
  {
   "cell_type": "code",
   "execution_count": 47,
   "metadata": {},
   "outputs": [],
   "source": [
    "value_df=pd.DataFrame(data=value)"
   ]
  },
  {
   "cell_type": "code",
   "execution_count": 48,
   "metadata": {},
   "outputs": [
    {
     "data": {
      "text/html": [
       "<div>\n",
       "<style scoped>\n",
       "    .dataframe tbody tr th:only-of-type {\n",
       "        vertical-align: middle;\n",
       "    }\n",
       "\n",
       "    .dataframe tbody tr th {\n",
       "        vertical-align: top;\n",
       "    }\n",
       "\n",
       "    .dataframe thead th {\n",
       "        text-align: right;\n",
       "    }\n",
       "</style>\n",
       "<table border=\"1\" class=\"dataframe\">\n",
       "  <thead>\n",
       "    <tr style=\"text-align: right;\">\n",
       "      <th></th>\n",
       "      <th>year</th>\n",
       "    </tr>\n",
       "  </thead>\n",
       "  <tbody>\n",
       "    <tr>\n",
       "      <th>1990</th>\n",
       "      <td>631</td>\n",
       "    </tr>\n",
       "    <tr>\n",
       "      <th>1991</th>\n",
       "      <td>732</td>\n",
       "    </tr>\n",
       "    <tr>\n",
       "      <th>1992</th>\n",
       "      <td>1008</td>\n",
       "    </tr>\n",
       "    <tr>\n",
       "      <th>1993</th>\n",
       "      <td>1205</td>\n",
       "    </tr>\n",
       "    <tr>\n",
       "      <th>1994</th>\n",
       "      <td>1154</td>\n",
       "    </tr>\n",
       "  </tbody>\n",
       "</table>\n",
       "</div>"
      ],
      "text/plain": [
       "      year\n",
       "1990   631\n",
       "1991   732\n",
       "1992  1008\n",
       "1993  1205\n",
       "1994  1154"
      ]
     },
     "execution_count": 48,
     "metadata": {},
     "output_type": "execute_result"
    }
   ],
   "source": [
    "value_df.head()"
   ]
  },
  {
   "cell_type": "code",
   "execution_count": 49,
   "metadata": {},
   "outputs": [
    {
     "data": {
      "text/plain": [
       "'distribution.html'"
      ]
     },
     "execution_count": 49,
     "metadata": {},
     "output_type": "execute_result"
    }
   ],
   "source": [
    "pyo.plot([{\n",
    "    'x' : value_df.index,\n",
    "    'y' : value_df[col],\n",
    "    'name' : col\n",
    "  \n",
    "\n",
    "}for col in value_df.columns],filename='distribution.html')"
   ]
  },
  {
   "cell_type": "code",
   "execution_count": 50,
   "metadata": {},
   "outputs": [],
   "source": [
    "traces=[go.Scatter(\n",
    "    x=value_df.index,\n",
    "    y=value_df[col],\n",
    "    name= col\n",
    "\n",
    "\n",
    "\n",
    ")for col in value_df.columns]"
   ]
  },
  {
   "cell_type": "code",
   "execution_count": 51,
   "metadata": {},
   "outputs": [],
   "source": [
    "data=traces"
   ]
  },
  {
   "cell_type": "code",
   "execution_count": 52,
   "metadata": {},
   "outputs": [],
   "source": [
    "layout=go.Layout(\n",
    "title='Patent distribution over the year',\n",
    "xaxis=dict(title='Application years'),\n",
    "yaxis=dict(title='Number of patents'),\n",
    "hovermode='closest' # for bringing values of points together as x and y\n",
    ")"
   ]
  },
  {
   "cell_type": "code",
   "execution_count": 53,
   "metadata": {},
   "outputs": [],
   "source": [
    "figure1= go.Figure(data=data, layout=layout)"
   ]
  },
  {
   "cell_type": "code",
   "execution_count": 54,
   "metadata": {},
   "outputs": [
    {
     "data": {
      "text/plain": [
       "'distribution2.html'"
      ]
     },
     "execution_count": 54,
     "metadata": {},
     "output_type": "execute_result"
    }
   ],
   "source": [
    "pyo.plot(figure1,filename='distribution2.html')"
   ]
  },
  {
   "cell_type": "markdown",
   "metadata": {},
   "source": [
    "# 2)-After Modeling\n",
    "\n",
    "We shall use already saved file \"work_on_paper.pkl\". It has topics in pyvis order"
   ]
  },
  {
   "cell_type": "markdown",
   "metadata": {},
   "source": [
    "### 4a) Change in the number of patents "
   ]
  },
  {
   "cell_type": "code",
   "execution_count": 55,
   "metadata": {},
   "outputs": [],
   "source": [
    "data = pd.read_pickle('work_on_paper.pkl')"
   ]
  },
  {
   "cell_type": "code",
   "execution_count": 56,
   "metadata": {},
   "outputs": [
    {
     "data": {
      "text/html": [
       "<div>\n",
       "<style scoped>\n",
       "    .dataframe tbody tr th:only-of-type {\n",
       "        vertical-align: middle;\n",
       "    }\n",
       "\n",
       "    .dataframe tbody tr th {\n",
       "        vertical-align: top;\n",
       "    }\n",
       "\n",
       "    .dataframe thead th {\n",
       "        text-align: right;\n",
       "    }\n",
       "</style>\n",
       "<table border=\"1\" class=\"dataframe\">\n",
       "  <thead>\n",
       "    <tr style=\"text-align: right;\">\n",
       "      <th></th>\n",
       "      <th>Topic_Perc_Contrib</th>\n",
       "      <th>Keywords</th>\n",
       "      <th>Assignee</th>\n",
       "      <th>Year</th>\n",
       "      <th>Abstract</th>\n",
       "      <th>Topic</th>\n",
       "    </tr>\n",
       "  </thead>\n",
       "  <tbody>\n",
       "    <tr>\n",
       "      <th>0</th>\n",
       "      <td>0.3972</td>\n",
       "      <td>charge, battery, module, power, voltage, elect...</td>\n",
       "      <td>luz electric fuel israel ltd</td>\n",
       "      <td>1990.0</td>\n",
       "      <td>An electrical energy system including an elect...</td>\n",
       "      <td>topic4</td>\n",
       "    </tr>\n",
       "    <tr>\n",
       "      <th>1</th>\n",
       "      <td>0.8034</td>\n",
       "      <td>charge, battery, module, power, voltage, elect...</td>\n",
       "      <td>luz electric fuel israel ltd</td>\n",
       "      <td>1990.0</td>\n",
       "      <td>An electrical energy system including an elect...</td>\n",
       "      <td>topic4</td>\n",
       "    </tr>\n",
       "    <tr>\n",
       "      <th>2</th>\n",
       "      <td>0.4070</td>\n",
       "      <td>oil, pressure, valve, fuel, air, pump, gas, ex...</td>\n",
       "      <td>sumitomo electric industries ltd</td>\n",
       "      <td>1995.0</td>\n",
       "      <td>An object is to provide a particulate trap for...</td>\n",
       "      <td>topic3</td>\n",
       "    </tr>\n",
       "    <tr>\n",
       "      <th>3</th>\n",
       "      <td>0.3697</td>\n",
       "      <td>gear, shaft, first, second, motor, connect, si...</td>\n",
       "      <td>sumitomo electric ind ltd</td>\n",
       "      <td>1995.0</td>\n",
       "      <td>PURPOSE: To obtain a trap by which the leakage...</td>\n",
       "      <td>topic2</td>\n",
       "    </tr>\n",
       "    <tr>\n",
       "      <th>4</th>\n",
       "      <td>0.3872</td>\n",
       "      <td>gear, shaft, first, second, motor, connect, si...</td>\n",
       "      <td>sumitomo electric industries ltd</td>\n",
       "      <td>1995.0</td>\n",
       "      <td>A particulate trap for a diesel engine designe...</td>\n",
       "      <td>topic2</td>\n",
       "    </tr>\n",
       "  </tbody>\n",
       "</table>\n",
       "</div>"
      ],
      "text/plain": [
       "   Topic_Perc_Contrib                                           Keywords  \\\n",
       "0              0.3972  charge, battery, module, power, voltage, elect...   \n",
       "1              0.8034  charge, battery, module, power, voltage, elect...   \n",
       "2              0.4070  oil, pressure, valve, fuel, air, pump, gas, ex...   \n",
       "3              0.3697  gear, shaft, first, second, motor, connect, si...   \n",
       "4              0.3872  gear, shaft, first, second, motor, connect, si...   \n",
       "\n",
       "                           Assignee    Year  \\\n",
       "0      luz electric fuel israel ltd  1990.0   \n",
       "1      luz electric fuel israel ltd  1990.0   \n",
       "2  sumitomo electric industries ltd  1995.0   \n",
       "3         sumitomo electric ind ltd  1995.0   \n",
       "4  sumitomo electric industries ltd  1995.0   \n",
       "\n",
       "                                            Abstract   Topic  \n",
       "0  An electrical energy system including an elect...  topic4  \n",
       "1  An electrical energy system including an elect...  topic4  \n",
       "2  An object is to provide a particulate trap for...  topic3  \n",
       "3  PURPOSE: To obtain a trap by which the leakage...  topic2  \n",
       "4  A particulate trap for a diesel engine designe...  topic2  "
      ]
     },
     "execution_count": 56,
     "metadata": {},
     "output_type": "execute_result"
    }
   ],
   "source": [
    "data.head()"
   ]
  },
  {
   "cell_type": "code",
   "execution_count": 57,
   "metadata": {},
   "outputs": [
    {
     "data": {
      "text/plain": [
       "topic1    22894\n",
       "topic2    11044\n",
       "topic3    10163\n",
       "topic4    10063\n",
       "topic5     8799\n",
       "topic6     4792\n",
       "topic7      708\n",
       "topic8      299\n",
       "Name: Topic, dtype: int64"
      ]
     },
     "execution_count": 57,
     "metadata": {},
     "output_type": "execute_result"
    }
   ],
   "source": [
    "data.Topic.value_counts()"
   ]
  },
  {
   "cell_type": "code",
   "execution_count": 58,
   "metadata": {},
   "outputs": [
    {
     "data": {
      "text/plain": [
       "<matplotlib.axes._subplots.AxesSubplot at 0x1fd94ad76d8>"
      ]
     },
     "execution_count": 58,
     "metadata": {},
     "output_type": "execute_result"
    },
    {
     "data": {
      "image/png": "[encoded data removed]",
      "text/plain": [
       "<matplotlib.figure.Figure at 0x1fd94ad7e48>"
      ]
     },
     "metadata": {
      "needs_background": "light"
     },
     "output_type": "display_data"
    }
   ],
   "source": [
    "d=data\n",
    "d=d.groupby([\"Year\",\"Topic\"]).size()\n",
    "d=d.unstack('Topic')\n",
    "d.plot()"
   ]
  },
  {
   "cell_type": "markdown",
   "metadata": {},
   "source": [
    "# Using plotly"
   ]
  },
  {
   "cell_type": "code",
   "execution_count": 59,
   "metadata": {},
   "outputs": [],
   "source": [
    "d=data"
   ]
  },
  {
   "cell_type": "code",
   "execution_count": 60,
   "metadata": {},
   "outputs": [],
   "source": [
    "d=d.groupby([\"Year\",\"Topic\"]).size()"
   ]
  },
  {
   "cell_type": "code",
   "execution_count": 61,
   "metadata": {},
   "outputs": [
    {
     "data": {
      "text/plain": [
       "Year    Topic \n",
       "1990.0  topic1    144\n",
       "        topic2    111\n",
       "        topic3    128\n",
       "        topic4     34\n",
       "        topic5    153\n",
       "dtype: int64"
      ]
     },
     "execution_count": 61,
     "metadata": {},
     "output_type": "execute_result"
    }
   ],
   "source": [
    "d.head()"
   ]
  },
  {
   "cell_type": "code",
   "execution_count": 62,
   "metadata": {},
   "outputs": [],
   "source": [
    "df_patent=d.unstack('Topic')"
   ]
  },
  {
   "cell_type": "code",
   "execution_count": 63,
   "metadata": {},
   "outputs": [
    {
     "data": {
      "text/plain": [
       "pandas.core.frame.DataFrame"
      ]
     },
     "execution_count": 63,
     "metadata": {},
     "output_type": "execute_result"
    }
   ],
   "source": [
    "type(df_patent)"
   ]
  },
  {
   "cell_type": "code",
   "execution_count": 64,
   "metadata": {},
   "outputs": [
    {
     "data": {
      "text/plain": [
       "<matplotlib.axes._subplots.AxesSubplot at 0x1fd94aee630>"
      ]
     },
     "execution_count": 64,
     "metadata": {},
     "output_type": "execute_result"
    },
    {
     "data": {
      "image/png": "[encoded data removed]",
      "text/plain": [
       "<matplotlib.figure.Figure at 0x1fd94a6cb38>"
      ]
     },
     "metadata": {
      "needs_background": "light"
     },
     "output_type": "display_data"
    }
   ],
   "source": [
    "df_patent.plot()"
   ]
  },
  {
   "cell_type": "code",
   "execution_count": 65,
   "metadata": {},
   "outputs": [],
   "source": [
    "df_patent2=df_patent.T"
   ]
  },
  {
   "cell_type": "code",
   "execution_count": 66,
   "metadata": {},
   "outputs": [
    {
     "data": {
      "text/html": [
       "<div>\n",
       "<style scoped>\n",
       "    .dataframe tbody tr th:only-of-type {\n",
       "        vertical-align: middle;\n",
       "    }\n",
       "\n",
       "    .dataframe tbody tr th {\n",
       "        vertical-align: top;\n",
       "    }\n",
       "\n",
       "    .dataframe thead th {\n",
       "        text-align: right;\n",
       "    }\n",
       "</style>\n",
       "<table border=\"1\" class=\"dataframe\">\n",
       "  <thead>\n",
       "    <tr style=\"text-align: right;\">\n",
       "      <th>Year</th>\n",
       "      <th>1990.0</th>\n",
       "      <th>1991.0</th>\n",
       "      <th>1992.0</th>\n",
       "      <th>1993.0</th>\n",
       "      <th>1994.0</th>\n",
       "      <th>1995.0</th>\n",
       "      <th>1996.0</th>\n",
       "      <th>1997.0</th>\n",
       "      <th>1998.0</th>\n",
       "      <th>1999.0</th>\n",
       "      <th>...</th>\n",
       "      <th>2008.0</th>\n",
       "      <th>2009.0</th>\n",
       "      <th>2010.0</th>\n",
       "      <th>2011.0</th>\n",
       "      <th>2012.0</th>\n",
       "      <th>2013.0</th>\n",
       "      <th>2014.0</th>\n",
       "      <th>2015.0</th>\n",
       "      <th>2016.0</th>\n",
       "      <th>2017.0</th>\n",
       "    </tr>\n",
       "    <tr>\n",
       "      <th>Topic</th>\n",
       "      <th></th>\n",
       "      <th></th>\n",
       "      <th></th>\n",
       "      <th></th>\n",
       "      <th></th>\n",
       "      <th></th>\n",
       "      <th></th>\n",
       "      <th></th>\n",
       "      <th></th>\n",
       "      <th></th>\n",
       "      <th></th>\n",
       "      <th></th>\n",
       "      <th></th>\n",
       "      <th></th>\n",
       "      <th></th>\n",
       "      <th></th>\n",
       "      <th></th>\n",
       "      <th></th>\n",
       "      <th></th>\n",
       "      <th></th>\n",
       "      <th></th>\n",
       "    </tr>\n",
       "  </thead>\n",
       "  <tbody>\n",
       "    <tr>\n",
       "      <th>topic1</th>\n",
       "      <td>144.0</td>\n",
       "      <td>179.0</td>\n",
       "      <td>198.0</td>\n",
       "      <td>284.0</td>\n",
       "      <td>311.0</td>\n",
       "      <td>371.0</td>\n",
       "      <td>429.0</td>\n",
       "      <td>469.0</td>\n",
       "      <td>576.0</td>\n",
       "      <td>654.0</td>\n",
       "      <td>...</td>\n",
       "      <td>1017.0</td>\n",
       "      <td>1246.0</td>\n",
       "      <td>1739.0</td>\n",
       "      <td>2096.0</td>\n",
       "      <td>1928.0</td>\n",
       "      <td>1667.0</td>\n",
       "      <td>1349.0</td>\n",
       "      <td>1087.0</td>\n",
       "      <td>387.0</td>\n",
       "      <td>39.0</td>\n",
       "    </tr>\n",
       "    <tr>\n",
       "      <th>topic2</th>\n",
       "      <td>111.0</td>\n",
       "      <td>113.0</td>\n",
       "      <td>196.0</td>\n",
       "      <td>203.0</td>\n",
       "      <td>187.0</td>\n",
       "      <td>262.0</td>\n",
       "      <td>236.0</td>\n",
       "      <td>247.0</td>\n",
       "      <td>245.0</td>\n",
       "      <td>290.0</td>\n",
       "      <td>...</td>\n",
       "      <td>510.0</td>\n",
       "      <td>695.0</td>\n",
       "      <td>688.0</td>\n",
       "      <td>897.0</td>\n",
       "      <td>893.0</td>\n",
       "      <td>710.0</td>\n",
       "      <td>571.0</td>\n",
       "      <td>468.0</td>\n",
       "      <td>358.0</td>\n",
       "      <td>155.0</td>\n",
       "    </tr>\n",
       "    <tr>\n",
       "      <th>topic3</th>\n",
       "      <td>128.0</td>\n",
       "      <td>124.0</td>\n",
       "      <td>218.0</td>\n",
       "      <td>269.0</td>\n",
       "      <td>256.0</td>\n",
       "      <td>265.0</td>\n",
       "      <td>333.0</td>\n",
       "      <td>355.0</td>\n",
       "      <td>384.0</td>\n",
       "      <td>409.0</td>\n",
       "      <td>...</td>\n",
       "      <td>517.0</td>\n",
       "      <td>464.0</td>\n",
       "      <td>547.0</td>\n",
       "      <td>539.0</td>\n",
       "      <td>515.0</td>\n",
       "      <td>382.0</td>\n",
       "      <td>303.0</td>\n",
       "      <td>192.0</td>\n",
       "      <td>129.0</td>\n",
       "      <td>46.0</td>\n",
       "    </tr>\n",
       "    <tr>\n",
       "      <th>topic4</th>\n",
       "      <td>34.0</td>\n",
       "      <td>61.0</td>\n",
       "      <td>96.0</td>\n",
       "      <td>135.0</td>\n",
       "      <td>109.0</td>\n",
       "      <td>111.0</td>\n",
       "      <td>106.0</td>\n",
       "      <td>110.0</td>\n",
       "      <td>76.0</td>\n",
       "      <td>131.0</td>\n",
       "      <td>...</td>\n",
       "      <td>523.0</td>\n",
       "      <td>763.0</td>\n",
       "      <td>919.0</td>\n",
       "      <td>1389.0</td>\n",
       "      <td>1073.0</td>\n",
       "      <td>921.0</td>\n",
       "      <td>682.0</td>\n",
       "      <td>632.0</td>\n",
       "      <td>573.0</td>\n",
       "      <td>98.0</td>\n",
       "    </tr>\n",
       "    <tr>\n",
       "      <th>topic5</th>\n",
       "      <td>153.0</td>\n",
       "      <td>180.0</td>\n",
       "      <td>202.0</td>\n",
       "      <td>217.0</td>\n",
       "      <td>200.0</td>\n",
       "      <td>219.0</td>\n",
       "      <td>297.0</td>\n",
       "      <td>274.0</td>\n",
       "      <td>318.0</td>\n",
       "      <td>356.0</td>\n",
       "      <td>...</td>\n",
       "      <td>391.0</td>\n",
       "      <td>328.0</td>\n",
       "      <td>452.0</td>\n",
       "      <td>464.0</td>\n",
       "      <td>463.0</td>\n",
       "      <td>387.0</td>\n",
       "      <td>317.0</td>\n",
       "      <td>144.0</td>\n",
       "      <td>62.0</td>\n",
       "      <td>3.0</td>\n",
       "    </tr>\n",
       "    <tr>\n",
       "      <th>topic6</th>\n",
       "      <td>57.0</td>\n",
       "      <td>61.0</td>\n",
       "      <td>82.0</td>\n",
       "      <td>86.0</td>\n",
       "      <td>65.0</td>\n",
       "      <td>48.0</td>\n",
       "      <td>63.0</td>\n",
       "      <td>107.0</td>\n",
       "      <td>111.0</td>\n",
       "      <td>131.0</td>\n",
       "      <td>...</td>\n",
       "      <td>267.0</td>\n",
       "      <td>191.0</td>\n",
       "      <td>264.0</td>\n",
       "      <td>265.0</td>\n",
       "      <td>306.0</td>\n",
       "      <td>136.0</td>\n",
       "      <td>138.0</td>\n",
       "      <td>101.0</td>\n",
       "      <td>37.0</td>\n",
       "      <td>11.0</td>\n",
       "    </tr>\n",
       "    <tr>\n",
       "      <th>topic7</th>\n",
       "      <td>2.0</td>\n",
       "      <td>12.0</td>\n",
       "      <td>9.0</td>\n",
       "      <td>5.0</td>\n",
       "      <td>22.0</td>\n",
       "      <td>7.0</td>\n",
       "      <td>11.0</td>\n",
       "      <td>12.0</td>\n",
       "      <td>10.0</td>\n",
       "      <td>22.0</td>\n",
       "      <td>...</td>\n",
       "      <td>21.0</td>\n",
       "      <td>51.0</td>\n",
       "      <td>28.0</td>\n",
       "      <td>55.0</td>\n",
       "      <td>47.0</td>\n",
       "      <td>30.0</td>\n",
       "      <td>53.0</td>\n",
       "      <td>49.0</td>\n",
       "      <td>12.0</td>\n",
       "      <td>NaN</td>\n",
       "    </tr>\n",
       "    <tr>\n",
       "      <th>topic8</th>\n",
       "      <td>2.0</td>\n",
       "      <td>2.0</td>\n",
       "      <td>7.0</td>\n",
       "      <td>6.0</td>\n",
       "      <td>4.0</td>\n",
       "      <td>2.0</td>\n",
       "      <td>8.0</td>\n",
       "      <td>7.0</td>\n",
       "      <td>6.0</td>\n",
       "      <td>10.0</td>\n",
       "      <td>...</td>\n",
       "      <td>13.0</td>\n",
       "      <td>16.0</td>\n",
       "      <td>22.0</td>\n",
       "      <td>32.0</td>\n",
       "      <td>17.0</td>\n",
       "      <td>14.0</td>\n",
       "      <td>7.0</td>\n",
       "      <td>13.0</td>\n",
       "      <td>10.0</td>\n",
       "      <td>7.0</td>\n",
       "    </tr>\n",
       "  </tbody>\n",
       "</table>\n",
       "<p>8 rows × 28 columns</p>\n",
       "</div>"
      ],
      "text/plain": [
       "Year    1990.0  1991.0  1992.0  1993.0  1994.0  1995.0  1996.0  1997.0  \\\n",
       "Topic                                                                    \n",
       "topic1   144.0   179.0   198.0   284.0   311.0   371.0   429.0   469.0   \n",
       "topic2   111.0   113.0   196.0   203.0   187.0   262.0   236.0   247.0   \n",
       "topic3   128.0   124.0   218.0   269.0   256.0   265.0   333.0   355.0   \n",
       "topic4    34.0    61.0    96.0   135.0   109.0   111.0   106.0   110.0   \n",
       "topic5   153.0   180.0   202.0   217.0   200.0   219.0   297.0   274.0   \n",
       "topic6    57.0    61.0    82.0    86.0    65.0    48.0    63.0   107.0   \n",
       "topic7     2.0    12.0     9.0     5.0    22.0     7.0    11.0    12.0   \n",
       "topic8     2.0     2.0     7.0     6.0     4.0     2.0     8.0     7.0   \n",
       "\n",
       "Year    1998.0  1999.0   ...    2008.0  2009.0  2010.0  2011.0  2012.0  \\\n",
       "Topic                    ...                                             \n",
       "topic1   576.0   654.0   ...    1017.0  1246.0  1739.0  2096.0  1928.0   \n",
       "topic2   245.0   290.0   ...     510.0   695.0   688.0   897.0   893.0   \n",
       "topic3   384.0   409.0   ...     517.0   464.0   547.0   539.0   515.0   \n",
       "topic4    76.0   131.0   ...     523.0   763.0   919.0  1389.0  1073.0   \n",
       "topic5   318.0   356.0   ...     391.0   328.0   452.0   464.0   463.0   \n",
       "topic6   111.0   131.0   ...     267.0   191.0   264.0   265.0   306.0   \n",
       "topic7    10.0    22.0   ...      21.0    51.0    28.0    55.0    47.0   \n",
       "topic8     6.0    10.0   ...      13.0    16.0    22.0    32.0    17.0   \n",
       "\n",
       "Year    2013.0  2014.0  2015.0  2016.0  2017.0  \n",
       "Topic                                           \n",
       "topic1  1667.0  1349.0  1087.0   387.0    39.0  \n",
       "topic2   710.0   571.0   468.0   358.0   155.0  \n",
       "topic3   382.0   303.0   192.0   129.0    46.0  \n",
       "topic4   921.0   682.0   632.0   573.0    98.0  \n",
       "topic5   387.0   317.0   144.0    62.0     3.0  \n",
       "topic6   136.0   138.0   101.0    37.0    11.0  \n",
       "topic7    30.0    53.0    49.0    12.0     NaN  \n",
       "topic8    14.0     7.0    13.0    10.0     7.0  \n",
       "\n",
       "[8 rows x 28 columns]"
      ]
     },
     "execution_count": 66,
     "metadata": {},
     "output_type": "execute_result"
    }
   ],
   "source": [
    "df_patent2"
   ]
  },
  {
   "cell_type": "code",
   "execution_count": 67,
   "metadata": {},
   "outputs": [],
   "source": [
    "traces=[go.Scatter(\n",
    "    x=df_patent2.columns,\n",
    "    y=df_patent2.loc[row_name],\n",
    "    mode='lines+markers',\n",
    "    name=row_name\n",
    "\n",
    "\n",
    "\n",
    ")for row_name in df_patent2.index]"
   ]
  },
  {
   "cell_type": "code",
   "execution_count": 68,
   "metadata": {},
   "outputs": [],
   "source": [
    "data=traces"
   ]
  },
  {
   "cell_type": "code",
   "execution_count": 69,
   "metadata": {},
   "outputs": [],
   "source": [
    "layout=go.Layout(\n",
    "title='Change in the number of patents over filling years',\n",
    "xaxis=dict(title='Number of filling years'),\n",
    "yaxis=dict(title='Number of patents'),\n",
    "hovermode='closest' # for bringing values of points together as x and y\n",
    ")"
   ]
  },
  {
   "cell_type": "code",
   "execution_count": 70,
   "metadata": {},
   "outputs": [],
   "source": [
    "#layout=go.Layout(title='Change in the number of patents over filling years')"
   ]
  },
  {
   "cell_type": "code",
   "execution_count": 71,
   "metadata": {},
   "outputs": [],
   "source": [
    "figure1= go.Figure(data=data, layout=layout)"
   ]
  },
  {
   "cell_type": "code",
   "execution_count": 72,
   "metadata": {},
   "outputs": [
    {
     "data": {
      "text/plain": [
       "'Change in the number of patents.html'"
      ]
     },
     "execution_count": 72,
     "metadata": {},
     "output_type": "execute_result"
    }
   ],
   "source": [
    "pyo.plot(figure1,filename='Change in the number of patents.html')"
   ]
  },
  {
   "cell_type": "markdown",
   "metadata": {},
   "source": [
    "**Alternative way**"
   ]
  },
  {
   "cell_type": "code",
   "execution_count": 73,
   "metadata": {},
   "outputs": [],
   "source": [
    "data = pd.read_pickle('work_on_paper.pkl')"
   ]
  },
  {
   "cell_type": "code",
   "execution_count": 74,
   "metadata": {},
   "outputs": [],
   "source": [
    "f=data.groupby(data.Year).Topic.value_counts()"
   ]
  },
  {
   "cell_type": "code",
   "execution_count": 75,
   "metadata": {},
   "outputs": [],
   "source": [
    "f=f.unstack('Topic')"
   ]
  },
  {
   "cell_type": "code",
   "execution_count": 76,
   "metadata": {},
   "outputs": [
    {
     "data": {
      "image/png": "[encoded data removed]",
      "text/plain": [
       "<matplotlib.figure.Figure at 0x1fddc96e908>"
      ]
     },
     "metadata": {
      "needs_background": "light"
     },
     "output_type": "display_data"
    }
   ],
   "source": [
    "f.plot()\n",
    "plt.xlabel('Filling years')\n",
    "plt.ylabel('patent Share')\n",
    "plt.title('Change in the number of patents over filling years')\n",
    "plt.legend()\n",
    "plt.show()"
   ]
  },
  {
   "cell_type": "markdown",
   "metadata": {},
   "source": [
    "**result of figure 4a**"
   ]
  },
  {
   "cell_type": "markdown",
   "metadata": {},
   "source": [
    "### 4(b) Change in the share of patents over filing year"
   ]
  },
  {
   "cell_type": "code",
   "execution_count": 77,
   "metadata": {},
   "outputs": [
    {
     "data": {
      "text/plain": [
       "topic1    0.332946\n",
       "topic2    0.160612\n",
       "topic3    0.147800\n",
       "topic4    0.146345\n",
       "topic5    0.127963\n",
       "topic6    0.069690\n",
       "topic7    0.010296\n",
       "topic8    0.004348\n",
       "Name: Topic, dtype: float64"
      ]
     },
     "execution_count": 77,
     "metadata": {},
     "output_type": "execute_result"
    }
   ],
   "source": [
    "data.Topic.value_counts(normalize=True)"
   ]
  },
  {
   "cell_type": "code",
   "execution_count": 78,
   "metadata": {},
   "outputs": [
    {
     "data": {
      "text/plain": [
       "Year    Topic \n",
       "1990.0  topic5    0.242472\n",
       "        topic1    0.228209\n",
       "        topic3    0.202853\n",
       "        topic2    0.175911\n",
       "        topic6    0.090333\n",
       "        topic4    0.053883\n",
       "        topic7    0.003170\n",
       "        topic8    0.003170\n",
       "1991.0  topic5    0.245902\n",
       "        topic1    0.244536\n",
       "        topic3    0.169399\n",
       "        topic2    0.154372\n",
       "        topic4    0.083333\n",
       "        topic6    0.083333\n",
       "        topic7    0.016393\n",
       "        topic8    0.002732\n",
       "1992.0  topic3    0.216270\n",
       "        topic5    0.200397\n",
       "        topic1    0.196429\n",
       "        topic2    0.194444\n",
       "        topic4    0.095238\n",
       "        topic6    0.081349\n",
       "        topic7    0.008929\n",
       "        topic8    0.006944\n",
       "1993.0  topic1    0.235685\n",
       "        topic3    0.223237\n",
       "        topic5    0.180083\n",
       "        topic2    0.168465\n",
       "        topic4    0.112033\n",
       "        topic6    0.071369\n",
       "                    ...   \n",
       "2014.0  topic4    0.199415\n",
       "        topic2    0.166959\n",
       "        topic5    0.092690\n",
       "        topic3    0.088596\n",
       "        topic6    0.040351\n",
       "        topic7    0.015497\n",
       "        topic8    0.002047\n",
       "2015.0  topic1    0.404691\n",
       "        topic4    0.235294\n",
       "        topic2    0.174237\n",
       "        topic3    0.071482\n",
       "        topic5    0.053611\n",
       "        topic6    0.037602\n",
       "        topic7    0.018243\n",
       "        topic8    0.004840\n",
       "2016.0  topic4    0.365434\n",
       "        topic1    0.246811\n",
       "        topic2    0.228316\n",
       "        topic3    0.082270\n",
       "        topic5    0.039541\n",
       "        topic6    0.023597\n",
       "        topic7    0.007653\n",
       "        topic8    0.006378\n",
       "2017.0  topic2    0.431755\n",
       "        topic4    0.272981\n",
       "        topic3    0.128134\n",
       "        topic1    0.108635\n",
       "        topic6    0.030641\n",
       "        topic8    0.019499\n",
       "        topic5    0.008357\n",
       "Name: Topic, Length: 223, dtype: float64"
      ]
     },
     "execution_count": 78,
     "metadata": {},
     "output_type": "execute_result"
    }
   ],
   "source": [
    "data.groupby(data.Year).Topic.value_counts(normalize=True)"
   ]
  },
  {
   "cell_type": "code",
   "execution_count": 79,
   "metadata": {},
   "outputs": [],
   "source": [
    "c=data.groupby(data.Year).Topic.value_counts(normalize=True)"
   ]
  },
  {
   "cell_type": "code",
   "execution_count": 80,
   "metadata": {},
   "outputs": [],
   "source": [
    "c=c.unstack('Topic')"
   ]
  },
  {
   "cell_type": "code",
   "execution_count": 81,
   "metadata": {},
   "outputs": [
    {
     "data": {
      "text/html": [
       "<div>\n",
       "<style scoped>\n",
       "    .dataframe tbody tr th:only-of-type {\n",
       "        vertical-align: middle;\n",
       "    }\n",
       "\n",
       "    .dataframe tbody tr th {\n",
       "        vertical-align: top;\n",
       "    }\n",
       "\n",
       "    .dataframe thead th {\n",
       "        text-align: right;\n",
       "    }\n",
       "</style>\n",
       "<table border=\"1\" class=\"dataframe\">\n",
       "  <thead>\n",
       "    <tr style=\"text-align: right;\">\n",
       "      <th>Topic</th>\n",
       "      <th>topic1</th>\n",
       "      <th>topic2</th>\n",
       "      <th>topic3</th>\n",
       "      <th>topic4</th>\n",
       "      <th>topic5</th>\n",
       "      <th>topic6</th>\n",
       "      <th>topic7</th>\n",
       "      <th>topic8</th>\n",
       "    </tr>\n",
       "    <tr>\n",
       "      <th>Year</th>\n",
       "      <th></th>\n",
       "      <th></th>\n",
       "      <th></th>\n",
       "      <th></th>\n",
       "      <th></th>\n",
       "      <th></th>\n",
       "      <th></th>\n",
       "      <th></th>\n",
       "    </tr>\n",
       "  </thead>\n",
       "  <tbody>\n",
       "    <tr>\n",
       "      <th>1990.0</th>\n",
       "      <td>0.228209</td>\n",
       "      <td>0.175911</td>\n",
       "      <td>0.202853</td>\n",
       "      <td>0.053883</td>\n",
       "      <td>0.242472</td>\n",
       "      <td>0.090333</td>\n",
       "      <td>0.003170</td>\n",
       "      <td>0.003170</td>\n",
       "    </tr>\n",
       "    <tr>\n",
       "      <th>1991.0</th>\n",
       "      <td>0.244536</td>\n",
       "      <td>0.154372</td>\n",
       "      <td>0.169399</td>\n",
       "      <td>0.083333</td>\n",
       "      <td>0.245902</td>\n",
       "      <td>0.083333</td>\n",
       "      <td>0.016393</td>\n",
       "      <td>0.002732</td>\n",
       "    </tr>\n",
       "    <tr>\n",
       "      <th>1992.0</th>\n",
       "      <td>0.196429</td>\n",
       "      <td>0.194444</td>\n",
       "      <td>0.216270</td>\n",
       "      <td>0.095238</td>\n",
       "      <td>0.200397</td>\n",
       "      <td>0.081349</td>\n",
       "      <td>0.008929</td>\n",
       "      <td>0.006944</td>\n",
       "    </tr>\n",
       "    <tr>\n",
       "      <th>1993.0</th>\n",
       "      <td>0.235685</td>\n",
       "      <td>0.168465</td>\n",
       "      <td>0.223237</td>\n",
       "      <td>0.112033</td>\n",
       "      <td>0.180083</td>\n",
       "      <td>0.071369</td>\n",
       "      <td>0.004149</td>\n",
       "      <td>0.004979</td>\n",
       "    </tr>\n",
       "    <tr>\n",
       "      <th>1994.0</th>\n",
       "      <td>0.269497</td>\n",
       "      <td>0.162045</td>\n",
       "      <td>0.221837</td>\n",
       "      <td>0.094454</td>\n",
       "      <td>0.173310</td>\n",
       "      <td>0.056326</td>\n",
       "      <td>0.019064</td>\n",
       "      <td>0.003466</td>\n",
       "    </tr>\n",
       "    <tr>\n",
       "      <th>1995.0</th>\n",
       "      <td>0.288716</td>\n",
       "      <td>0.203891</td>\n",
       "      <td>0.206226</td>\n",
       "      <td>0.086381</td>\n",
       "      <td>0.170428</td>\n",
       "      <td>0.037354</td>\n",
       "      <td>0.005447</td>\n",
       "      <td>0.001556</td>\n",
       "    </tr>\n",
       "    <tr>\n",
       "      <th>1996.0</th>\n",
       "      <td>0.289278</td>\n",
       "      <td>0.159137</td>\n",
       "      <td>0.224545</td>\n",
       "      <td>0.071477</td>\n",
       "      <td>0.200270</td>\n",
       "      <td>0.042481</td>\n",
       "      <td>0.007417</td>\n",
       "      <td>0.005394</td>\n",
       "    </tr>\n",
       "    <tr>\n",
       "      <th>1997.0</th>\n",
       "      <td>0.296648</td>\n",
       "      <td>0.156230</td>\n",
       "      <td>0.224541</td>\n",
       "      <td>0.069576</td>\n",
       "      <td>0.173308</td>\n",
       "      <td>0.067679</td>\n",
       "      <td>0.007590</td>\n",
       "      <td>0.004428</td>\n",
       "    </tr>\n",
       "    <tr>\n",
       "      <th>1998.0</th>\n",
       "      <td>0.333720</td>\n",
       "      <td>0.141947</td>\n",
       "      <td>0.222480</td>\n",
       "      <td>0.044032</td>\n",
       "      <td>0.184241</td>\n",
       "      <td>0.064311</td>\n",
       "      <td>0.005794</td>\n",
       "      <td>0.003476</td>\n",
       "    </tr>\n",
       "    <tr>\n",
       "      <th>1999.0</th>\n",
       "      <td>0.326510</td>\n",
       "      <td>0.144783</td>\n",
       "      <td>0.204194</td>\n",
       "      <td>0.065402</td>\n",
       "      <td>0.177733</td>\n",
       "      <td>0.065402</td>\n",
       "      <td>0.010984</td>\n",
       "      <td>0.004993</td>\n",
       "    </tr>\n",
       "    <tr>\n",
       "      <th>2000.0</th>\n",
       "      <td>0.287200</td>\n",
       "      <td>0.126640</td>\n",
       "      <td>0.226142</td>\n",
       "      <td>0.056083</td>\n",
       "      <td>0.213026</td>\n",
       "      <td>0.068747</td>\n",
       "      <td>0.018091</td>\n",
       "      <td>0.004071</td>\n",
       "    </tr>\n",
       "    <tr>\n",
       "      <th>2001.0</th>\n",
       "      <td>0.296427</td>\n",
       "      <td>0.149978</td>\n",
       "      <td>0.191001</td>\n",
       "      <td>0.063961</td>\n",
       "      <td>0.188796</td>\n",
       "      <td>0.094398</td>\n",
       "      <td>0.013233</td>\n",
       "      <td>0.002206</td>\n",
       "    </tr>\n",
       "    <tr>\n",
       "      <th>2002.0</th>\n",
       "      <td>0.320865</td>\n",
       "      <td>0.140604</td>\n",
       "      <td>0.181163</td>\n",
       "      <td>0.065795</td>\n",
       "      <td>0.150518</td>\n",
       "      <td>0.126634</td>\n",
       "      <td>0.009464</td>\n",
       "      <td>0.004957</td>\n",
       "    </tr>\n",
       "    <tr>\n",
       "      <th>2003.0</th>\n",
       "      <td>0.282600</td>\n",
       "      <td>0.133690</td>\n",
       "      <td>0.182641</td>\n",
       "      <td>0.064994</td>\n",
       "      <td>0.179761</td>\n",
       "      <td>0.143974</td>\n",
       "      <td>0.010695</td>\n",
       "      <td>0.001645</td>\n",
       "    </tr>\n",
       "    <tr>\n",
       "      <th>2004.0</th>\n",
       "      <td>0.310823</td>\n",
       "      <td>0.132900</td>\n",
       "      <td>0.168831</td>\n",
       "      <td>0.063203</td>\n",
       "      <td>0.169264</td>\n",
       "      <td>0.130736</td>\n",
       "      <td>0.013420</td>\n",
       "      <td>0.010823</td>\n",
       "    </tr>\n",
       "    <tr>\n",
       "      <th>2005.0</th>\n",
       "      <td>0.304809</td>\n",
       "      <td>0.142749</td>\n",
       "      <td>0.201439</td>\n",
       "      <td>0.064748</td>\n",
       "      <td>0.153730</td>\n",
       "      <td>0.117001</td>\n",
       "      <td>0.012495</td>\n",
       "      <td>0.003029</td>\n",
       "    </tr>\n",
       "    <tr>\n",
       "      <th>2006.0</th>\n",
       "      <td>0.330475</td>\n",
       "      <td>0.161521</td>\n",
       "      <td>0.163808</td>\n",
       "      <td>0.085477</td>\n",
       "      <td>0.140652</td>\n",
       "      <td>0.105775</td>\n",
       "      <td>0.007719</td>\n",
       "      <td>0.004574</td>\n",
       "    </tr>\n",
       "    <tr>\n",
       "      <th>2007.0</th>\n",
       "      <td>0.388792</td>\n",
       "      <td>0.145470</td>\n",
       "      <td>0.149245</td>\n",
       "      <td>0.096400</td>\n",
       "      <td>0.119919</td>\n",
       "      <td>0.083333</td>\n",
       "      <td>0.012195</td>\n",
       "      <td>0.004646</td>\n",
       "    </tr>\n",
       "    <tr>\n",
       "      <th>2008.0</th>\n",
       "      <td>0.312059</td>\n",
       "      <td>0.156490</td>\n",
       "      <td>0.158638</td>\n",
       "      <td>0.160479</td>\n",
       "      <td>0.119975</td>\n",
       "      <td>0.081927</td>\n",
       "      <td>0.006444</td>\n",
       "      <td>0.003989</td>\n",
       "    </tr>\n",
       "    <tr>\n",
       "      <th>2009.0</th>\n",
       "      <td>0.331913</td>\n",
       "      <td>0.185136</td>\n",
       "      <td>0.123601</td>\n",
       "      <td>0.203250</td>\n",
       "      <td>0.087373</td>\n",
       "      <td>0.050879</td>\n",
       "      <td>0.013586</td>\n",
       "      <td>0.004262</td>\n",
       "    </tr>\n",
       "    <tr>\n",
       "      <th>2010.0</th>\n",
       "      <td>0.373256</td>\n",
       "      <td>0.147671</td>\n",
       "      <td>0.117407</td>\n",
       "      <td>0.197253</td>\n",
       "      <td>0.097017</td>\n",
       "      <td>0.056665</td>\n",
       "      <td>0.006010</td>\n",
       "      <td>0.004722</td>\n",
       "    </tr>\n",
       "    <tr>\n",
       "      <th>2011.0</th>\n",
       "      <td>0.365348</td>\n",
       "      <td>0.156353</td>\n",
       "      <td>0.093952</td>\n",
       "      <td>0.242113</td>\n",
       "      <td>0.080879</td>\n",
       "      <td>0.046191</td>\n",
       "      <td>0.009587</td>\n",
       "      <td>0.005578</td>\n",
       "    </tr>\n",
       "    <tr>\n",
       "      <th>2012.0</th>\n",
       "      <td>0.367799</td>\n",
       "      <td>0.170355</td>\n",
       "      <td>0.098245</td>\n",
       "      <td>0.204693</td>\n",
       "      <td>0.088325</td>\n",
       "      <td>0.058375</td>\n",
       "      <td>0.008966</td>\n",
       "      <td>0.003243</td>\n",
       "    </tr>\n",
       "    <tr>\n",
       "      <th>2013.0</th>\n",
       "      <td>0.392512</td>\n",
       "      <td>0.167177</td>\n",
       "      <td>0.089946</td>\n",
       "      <td>0.216859</td>\n",
       "      <td>0.091123</td>\n",
       "      <td>0.032023</td>\n",
       "      <td>0.007064</td>\n",
       "      <td>0.003296</td>\n",
       "    </tr>\n",
       "    <tr>\n",
       "      <th>2014.0</th>\n",
       "      <td>0.394444</td>\n",
       "      <td>0.166959</td>\n",
       "      <td>0.088596</td>\n",
       "      <td>0.199415</td>\n",
       "      <td>0.092690</td>\n",
       "      <td>0.040351</td>\n",
       "      <td>0.015497</td>\n",
       "      <td>0.002047</td>\n",
       "    </tr>\n",
       "    <tr>\n",
       "      <th>2015.0</th>\n",
       "      <td>0.404691</td>\n",
       "      <td>0.174237</td>\n",
       "      <td>0.071482</td>\n",
       "      <td>0.235294</td>\n",
       "      <td>0.053611</td>\n",
       "      <td>0.037602</td>\n",
       "      <td>0.018243</td>\n",
       "      <td>0.004840</td>\n",
       "    </tr>\n",
       "    <tr>\n",
       "      <th>2016.0</th>\n",
       "      <td>0.246811</td>\n",
       "      <td>0.228316</td>\n",
       "      <td>0.082270</td>\n",
       "      <td>0.365434</td>\n",
       "      <td>0.039541</td>\n",
       "      <td>0.023597</td>\n",
       "      <td>0.007653</td>\n",
       "      <td>0.006378</td>\n",
       "    </tr>\n",
       "    <tr>\n",
       "      <th>2017.0</th>\n",
       "      <td>0.108635</td>\n",
       "      <td>0.431755</td>\n",
       "      <td>0.128134</td>\n",
       "      <td>0.272981</td>\n",
       "      <td>0.008357</td>\n",
       "      <td>0.030641</td>\n",
       "      <td>NaN</td>\n",
       "      <td>0.019499</td>\n",
       "    </tr>\n",
       "  </tbody>\n",
       "</table>\n",
       "</div>"
      ],
      "text/plain": [
       "Topic     topic1    topic2    topic3    topic4    topic5    topic6    topic7  \\\n",
       "Year                                                                           \n",
       "1990.0  0.228209  0.175911  0.202853  0.053883  0.242472  0.090333  0.003170   \n",
       "1991.0  0.244536  0.154372  0.169399  0.083333  0.245902  0.083333  0.016393   \n",
       "1992.0  0.196429  0.194444  0.216270  0.095238  0.200397  0.081349  0.008929   \n",
       "1993.0  0.235685  0.168465  0.223237  0.112033  0.180083  0.071369  0.004149   \n",
       "1994.0  0.269497  0.162045  0.221837  0.094454  0.173310  0.056326  0.019064   \n",
       "1995.0  0.288716  0.203891  0.206226  0.086381  0.170428  0.037354  0.005447   \n",
       "1996.0  0.289278  0.159137  0.224545  0.071477  0.200270  0.042481  0.007417   \n",
       "1997.0  0.296648  0.156230  0.224541  0.069576  0.173308  0.067679  0.007590   \n",
       "1998.0  0.333720  0.141947  0.222480  0.044032  0.184241  0.064311  0.005794   \n",
       "1999.0  0.326510  0.144783  0.204194  0.065402  0.177733  0.065402  0.010984   \n",
       "2000.0  0.287200  0.126640  0.226142  0.056083  0.213026  0.068747  0.018091   \n",
       "2001.0  0.296427  0.149978  0.191001  0.063961  0.188796  0.094398  0.013233   \n",
       "2002.0  0.320865  0.140604  0.181163  0.065795  0.150518  0.126634  0.009464   \n",
       "2003.0  0.282600  0.133690  0.182641  0.064994  0.179761  0.143974  0.010695   \n",
       "2004.0  0.310823  0.132900  0.168831  0.063203  0.169264  0.130736  0.013420   \n",
       "2005.0  0.304809  0.142749  0.201439  0.064748  0.153730  0.117001  0.012495   \n",
       "2006.0  0.330475  0.161521  0.163808  0.085477  0.140652  0.105775  0.007719   \n",
       "2007.0  0.388792  0.145470  0.149245  0.096400  0.119919  0.083333  0.012195   \n",
       "2008.0  0.312059  0.156490  0.158638  0.160479  0.119975  0.081927  0.006444   \n",
       "2009.0  0.331913  0.185136  0.123601  0.203250  0.087373  0.050879  0.013586   \n",
       "2010.0  0.373256  0.147671  0.117407  0.197253  0.097017  0.056665  0.006010   \n",
       "2011.0  0.365348  0.156353  0.093952  0.242113  0.080879  0.046191  0.009587   \n",
       "2012.0  0.367799  0.170355  0.098245  0.204693  0.088325  0.058375  0.008966   \n",
       "2013.0  0.392512  0.167177  0.089946  0.216859  0.091123  0.032023  0.007064   \n",
       "2014.0  0.394444  0.166959  0.088596  0.199415  0.092690  0.040351  0.015497   \n",
       "2015.0  0.404691  0.174237  0.071482  0.235294  0.053611  0.037602  0.018243   \n",
       "2016.0  0.246811  0.228316  0.082270  0.365434  0.039541  0.023597  0.007653   \n",
       "2017.0  0.108635  0.431755  0.128134  0.272981  0.008357  0.030641       NaN   \n",
       "\n",
       "Topic     topic8  \n",
       "Year              \n",
       "1990.0  0.003170  \n",
       "1991.0  0.002732  \n",
       "1992.0  0.006944  \n",
       "1993.0  0.004979  \n",
       "1994.0  0.003466  \n",
       "1995.0  0.001556  \n",
       "1996.0  0.005394  \n",
       "1997.0  0.004428  \n",
       "1998.0  0.003476  \n",
       "1999.0  0.004993  \n",
       "2000.0  0.004071  \n",
       "2001.0  0.002206  \n",
       "2002.0  0.004957  \n",
       "2003.0  0.001645  \n",
       "2004.0  0.010823  \n",
       "2005.0  0.003029  \n",
       "2006.0  0.004574  \n",
       "2007.0  0.004646  \n",
       "2008.0  0.003989  \n",
       "2009.0  0.004262  \n",
       "2010.0  0.004722  \n",
       "2011.0  0.005578  \n",
       "2012.0  0.003243  \n",
       "2013.0  0.003296  \n",
       "2014.0  0.002047  \n",
       "2015.0  0.004840  \n",
       "2016.0  0.006378  \n",
       "2017.0  0.019499  "
      ]
     },
     "execution_count": 81,
     "metadata": {},
     "output_type": "execute_result"
    }
   ],
   "source": [
    "c"
   ]
  },
  {
   "cell_type": "code",
   "execution_count": 82,
   "metadata": {},
   "outputs": [
    {
     "data": {
      "image/png": "[encoded data removed]",
      "text/plain": [
       "<matplotlib.figure.Figure at 0x1fddc694160>"
      ]
     },
     "metadata": {
      "needs_background": "light"
     },
     "output_type": "display_data"
    }
   ],
   "source": [
    "c.plot()\n",
    "plt.xlabel('Filling years')\n",
    "plt.ylabel('patent Share')\n",
    "plt.title('Change in the share of patents over filling years')\n",
    "plt.legend()\n",
    "plt.show()"
   ]
  },
  {
   "cell_type": "markdown",
   "metadata": {},
   "source": [
    "### Using plotly"
   ]
  },
  {
   "cell_type": "code",
   "execution_count": 83,
   "metadata": {},
   "outputs": [],
   "source": [
    "df_patent=c.T"
   ]
  },
  {
   "cell_type": "code",
   "execution_count": 84,
   "metadata": {},
   "outputs": [
    {
     "data": {
      "text/html": [
       "<div>\n",
       "<style scoped>\n",
       "    .dataframe tbody tr th:only-of-type {\n",
       "        vertical-align: middle;\n",
       "    }\n",
       "\n",
       "    .dataframe tbody tr th {\n",
       "        vertical-align: top;\n",
       "    }\n",
       "\n",
       "    .dataframe thead th {\n",
       "        text-align: right;\n",
       "    }\n",
       "</style>\n",
       "<table border=\"1\" class=\"dataframe\">\n",
       "  <thead>\n",
       "    <tr style=\"text-align: right;\">\n",
       "      <th>Year</th>\n",
       "      <th>1990.0</th>\n",
       "      <th>1991.0</th>\n",
       "      <th>1992.0</th>\n",
       "      <th>1993.0</th>\n",
       "      <th>1994.0</th>\n",
       "      <th>1995.0</th>\n",
       "      <th>1996.0</th>\n",
       "      <th>1997.0</th>\n",
       "      <th>1998.0</th>\n",
       "      <th>1999.0</th>\n",
       "      <th>...</th>\n",
       "      <th>2008.0</th>\n",
       "      <th>2009.0</th>\n",
       "      <th>2010.0</th>\n",
       "      <th>2011.0</th>\n",
       "      <th>2012.0</th>\n",
       "      <th>2013.0</th>\n",
       "      <th>2014.0</th>\n",
       "      <th>2015.0</th>\n",
       "      <th>2016.0</th>\n",
       "      <th>2017.0</th>\n",
       "    </tr>\n",
       "    <tr>\n",
       "      <th>Topic</th>\n",
       "      <th></th>\n",
       "      <th></th>\n",
       "      <th></th>\n",
       "      <th></th>\n",
       "      <th></th>\n",
       "      <th></th>\n",
       "      <th></th>\n",
       "      <th></th>\n",
       "      <th></th>\n",
       "      <th></th>\n",
       "      <th></th>\n",
       "      <th></th>\n",
       "      <th></th>\n",
       "      <th></th>\n",
       "      <th></th>\n",
       "      <th></th>\n",
       "      <th></th>\n",
       "      <th></th>\n",
       "      <th></th>\n",
       "      <th></th>\n",
       "      <th></th>\n",
       "    </tr>\n",
       "  </thead>\n",
       "  <tbody>\n",
       "    <tr>\n",
       "      <th>topic1</th>\n",
       "      <td>0.228209</td>\n",
       "      <td>0.244536</td>\n",
       "      <td>0.196429</td>\n",
       "      <td>0.235685</td>\n",
       "      <td>0.269497</td>\n",
       "      <td>0.288716</td>\n",
       "      <td>0.289278</td>\n",
       "      <td>0.296648</td>\n",
       "      <td>0.333720</td>\n",
       "      <td>0.326510</td>\n",
       "      <td>...</td>\n",
       "      <td>0.312059</td>\n",
       "      <td>0.331913</td>\n",
       "      <td>0.373256</td>\n",
       "      <td>0.365348</td>\n",
       "      <td>0.367799</td>\n",
       "      <td>0.392512</td>\n",
       "      <td>0.394444</td>\n",
       "      <td>0.404691</td>\n",
       "      <td>0.246811</td>\n",
       "      <td>0.108635</td>\n",
       "    </tr>\n",
       "    <tr>\n",
       "      <th>topic2</th>\n",
       "      <td>0.175911</td>\n",
       "      <td>0.154372</td>\n",
       "      <td>0.194444</td>\n",
       "      <td>0.168465</td>\n",
       "      <td>0.162045</td>\n",
       "      <td>0.203891</td>\n",
       "      <td>0.159137</td>\n",
       "      <td>0.156230</td>\n",
       "      <td>0.141947</td>\n",
       "      <td>0.144783</td>\n",
       "      <td>...</td>\n",
       "      <td>0.156490</td>\n",
       "      <td>0.185136</td>\n",
       "      <td>0.147671</td>\n",
       "      <td>0.156353</td>\n",
       "      <td>0.170355</td>\n",
       "      <td>0.167177</td>\n",
       "      <td>0.166959</td>\n",
       "      <td>0.174237</td>\n",
       "      <td>0.228316</td>\n",
       "      <td>0.431755</td>\n",
       "    </tr>\n",
       "    <tr>\n",
       "      <th>topic3</th>\n",
       "      <td>0.202853</td>\n",
       "      <td>0.169399</td>\n",
       "      <td>0.216270</td>\n",
       "      <td>0.223237</td>\n",
       "      <td>0.221837</td>\n",
       "      <td>0.206226</td>\n",
       "      <td>0.224545</td>\n",
       "      <td>0.224541</td>\n",
       "      <td>0.222480</td>\n",
       "      <td>0.204194</td>\n",
       "      <td>...</td>\n",
       "      <td>0.158638</td>\n",
       "      <td>0.123601</td>\n",
       "      <td>0.117407</td>\n",
       "      <td>0.093952</td>\n",
       "      <td>0.098245</td>\n",
       "      <td>0.089946</td>\n",
       "      <td>0.088596</td>\n",
       "      <td>0.071482</td>\n",
       "      <td>0.082270</td>\n",
       "      <td>0.128134</td>\n",
       "    </tr>\n",
       "    <tr>\n",
       "      <th>topic4</th>\n",
       "      <td>0.053883</td>\n",
       "      <td>0.083333</td>\n",
       "      <td>0.095238</td>\n",
       "      <td>0.112033</td>\n",
       "      <td>0.094454</td>\n",
       "      <td>0.086381</td>\n",
       "      <td>0.071477</td>\n",
       "      <td>0.069576</td>\n",
       "      <td>0.044032</td>\n",
       "      <td>0.065402</td>\n",
       "      <td>...</td>\n",
       "      <td>0.160479</td>\n",
       "      <td>0.203250</td>\n",
       "      <td>0.197253</td>\n",
       "      <td>0.242113</td>\n",
       "      <td>0.204693</td>\n",
       "      <td>0.216859</td>\n",
       "      <td>0.199415</td>\n",
       "      <td>0.235294</td>\n",
       "      <td>0.365434</td>\n",
       "      <td>0.272981</td>\n",
       "    </tr>\n",
       "    <tr>\n",
       "      <th>topic5</th>\n",
       "      <td>0.242472</td>\n",
       "      <td>0.245902</td>\n",
       "      <td>0.200397</td>\n",
       "      <td>0.180083</td>\n",
       "      <td>0.173310</td>\n",
       "      <td>0.170428</td>\n",
       "      <td>0.200270</td>\n",
       "      <td>0.173308</td>\n",
       "      <td>0.184241</td>\n",
       "      <td>0.177733</td>\n",
       "      <td>...</td>\n",
       "      <td>0.119975</td>\n",
       "      <td>0.087373</td>\n",
       "      <td>0.097017</td>\n",
       "      <td>0.080879</td>\n",
       "      <td>0.088325</td>\n",
       "      <td>0.091123</td>\n",
       "      <td>0.092690</td>\n",
       "      <td>0.053611</td>\n",
       "      <td>0.039541</td>\n",
       "      <td>0.008357</td>\n",
       "    </tr>\n",
       "    <tr>\n",
       "      <th>topic6</th>\n",
       "      <td>0.090333</td>\n",
       "      <td>0.083333</td>\n",
       "      <td>0.081349</td>\n",
       "      <td>0.071369</td>\n",
       "      <td>0.056326</td>\n",
       "      <td>0.037354</td>\n",
       "      <td>0.042481</td>\n",
       "      <td>0.067679</td>\n",
       "      <td>0.064311</td>\n",
       "      <td>0.065402</td>\n",
       "      <td>...</td>\n",
       "      <td>0.081927</td>\n",
       "      <td>0.050879</td>\n",
       "      <td>0.056665</td>\n",
       "      <td>0.046191</td>\n",
       "      <td>0.058375</td>\n",
       "      <td>0.032023</td>\n",
       "      <td>0.040351</td>\n",
       "      <td>0.037602</td>\n",
       "      <td>0.023597</td>\n",
       "      <td>0.030641</td>\n",
       "    </tr>\n",
       "    <tr>\n",
       "      <th>topic7</th>\n",
       "      <td>0.003170</td>\n",
       "      <td>0.016393</td>\n",
       "      <td>0.008929</td>\n",
       "      <td>0.004149</td>\n",
       "      <td>0.019064</td>\n",
       "      <td>0.005447</td>\n",
       "      <td>0.007417</td>\n",
       "      <td>0.007590</td>\n",
       "      <td>0.005794</td>\n",
       "      <td>0.010984</td>\n",
       "      <td>...</td>\n",
       "      <td>0.006444</td>\n",
       "      <td>0.013586</td>\n",
       "      <td>0.006010</td>\n",
       "      <td>0.009587</td>\n",
       "      <td>0.008966</td>\n",
       "      <td>0.007064</td>\n",
       "      <td>0.015497</td>\n",
       "      <td>0.018243</td>\n",
       "      <td>0.007653</td>\n",
       "      <td>NaN</td>\n",
       "    </tr>\n",
       "    <tr>\n",
       "      <th>topic8</th>\n",
       "      <td>0.003170</td>\n",
       "      <td>0.002732</td>\n",
       "      <td>0.006944</td>\n",
       "      <td>0.004979</td>\n",
       "      <td>0.003466</td>\n",
       "      <td>0.001556</td>\n",
       "      <td>0.005394</td>\n",
       "      <td>0.004428</td>\n",
       "      <td>0.003476</td>\n",
       "      <td>0.004993</td>\n",
       "      <td>...</td>\n",
       "      <td>0.003989</td>\n",
       "      <td>0.004262</td>\n",
       "      <td>0.004722</td>\n",
       "      <td>0.005578</td>\n",
       "      <td>0.003243</td>\n",
       "      <td>0.003296</td>\n",
       "      <td>0.002047</td>\n",
       "      <td>0.004840</td>\n",
       "      <td>0.006378</td>\n",
       "      <td>0.019499</td>\n",
       "    </tr>\n",
       "  </tbody>\n",
       "</table>\n",
       "<p>8 rows × 28 columns</p>\n",
       "</div>"
      ],
      "text/plain": [
       "Year      1990.0    1991.0    1992.0    1993.0    1994.0    1995.0    1996.0  \\\n",
       "Topic                                                                          \n",
       "topic1  0.228209  0.244536  0.196429  0.235685  0.269497  0.288716  0.289278   \n",
       "topic2  0.175911  0.154372  0.194444  0.168465  0.162045  0.203891  0.159137   \n",
       "topic3  0.202853  0.169399  0.216270  0.223237  0.221837  0.206226  0.224545   \n",
       "topic4  0.053883  0.083333  0.095238  0.112033  0.094454  0.086381  0.071477   \n",
       "topic5  0.242472  0.245902  0.200397  0.180083  0.173310  0.170428  0.200270   \n",
       "topic6  0.090333  0.083333  0.081349  0.071369  0.056326  0.037354  0.042481   \n",
       "topic7  0.003170  0.016393  0.008929  0.004149  0.019064  0.005447  0.007417   \n",
       "topic8  0.003170  0.002732  0.006944  0.004979  0.003466  0.001556  0.005394   \n",
       "\n",
       "Year      1997.0    1998.0    1999.0    ...       2008.0    2009.0    2010.0  \\\n",
       "Topic                                   ...                                    \n",
       "topic1  0.296648  0.333720  0.326510    ...     0.312059  0.331913  0.373256   \n",
       "topic2  0.156230  0.141947  0.144783    ...     0.156490  0.185136  0.147671   \n",
       "topic3  0.224541  0.222480  0.204194    ...     0.158638  0.123601  0.117407   \n",
       "topic4  0.069576  0.044032  0.065402    ...     0.160479  0.203250  0.197253   \n",
       "topic5  0.173308  0.184241  0.177733    ...     0.119975  0.087373  0.097017   \n",
       "topic6  0.067679  0.064311  0.065402    ...     0.081927  0.050879  0.056665   \n",
       "topic7  0.007590  0.005794  0.010984    ...     0.006444  0.013586  0.006010   \n",
       "topic8  0.004428  0.003476  0.004993    ...     0.003989  0.004262  0.004722   \n",
       "\n",
       "Year      2011.0    2012.0    2013.0    2014.0    2015.0    2016.0    2017.0  \n",
       "Topic                                                                         \n",
       "topic1  0.365348  0.367799  0.392512  0.394444  0.404691  0.246811  0.108635  \n",
       "topic2  0.156353  0.170355  0.167177  0.166959  0.174237  0.228316  0.431755  \n",
       "topic3  0.093952  0.098245  0.089946  0.088596  0.071482  0.082270  0.128134  \n",
       "topic4  0.242113  0.204693  0.216859  0.199415  0.235294  0.365434  0.272981  \n",
       "topic5  0.080879  0.088325  0.091123  0.092690  0.053611  0.039541  0.008357  \n",
       "topic6  0.046191  0.058375  0.032023  0.040351  0.037602  0.023597  0.030641  \n",
       "topic7  0.009587  0.008966  0.007064  0.015497  0.018243  0.007653       NaN  \n",
       "topic8  0.005578  0.003243  0.003296  0.002047  0.004840  0.006378  0.019499  \n",
       "\n",
       "[8 rows x 28 columns]"
      ]
     },
     "execution_count": 84,
     "metadata": {},
     "output_type": "execute_result"
    }
   ],
   "source": [
    "df_patent"
   ]
  },
  {
   "cell_type": "code",
   "execution_count": 85,
   "metadata": {},
   "outputs": [],
   "source": [
    "traces=[go.Scatter(\n",
    "    x=df_patent.columns,\n",
    "    y=df_patent.loc[row_name],\n",
    "    mode='lines+markers',\n",
    "    name=row_name\n",
    "\n",
    "\n",
    "\n",
    ")for row_name in df_patent.index]"
   ]
  },
  {
   "cell_type": "code",
   "execution_count": 86,
   "metadata": {},
   "outputs": [],
   "source": [
    "data=traces"
   ]
  },
  {
   "cell_type": "code",
   "execution_count": 87,
   "metadata": {},
   "outputs": [],
   "source": [
    "layout=go.Layout(\n",
    "title='Change in the share of patents over filing year',\n",
    "xaxis=dict(title='Number of filling years'),\n",
    "yaxis=dict(title='Number of patents'),\n",
    "hovermode='closest' # for bringing values of points together as x and y\n",
    ")"
   ]
  },
  {
   "cell_type": "code",
   "execution_count": 88,
   "metadata": {},
   "outputs": [],
   "source": [
    "figure2= go.Figure(data=data, layout=layout)"
   ]
  },
  {
   "cell_type": "code",
   "execution_count": 89,
   "metadata": {},
   "outputs": [
    {
     "data": {
      "text/plain": [
       "'patent_count_normalized.html'"
      ]
     },
     "execution_count": 89,
     "metadata": {},
     "output_type": "execute_result"
    }
   ],
   "source": [
    "pyo.plot(figure2,filename='patent_count_normalized.html')"
   ]
  },
  {
   "cell_type": "markdown",
   "metadata": {},
   "source": [
    "# Table 6: Major assignee by topic type"
   ]
  },
  {
   "cell_type": "code",
   "execution_count": 92,
   "metadata": {},
   "outputs": [
    {
     "data": {
      "text/html": [
       "<div>\n",
       "<style scoped>\n",
       "    .dataframe tbody tr th:only-of-type {\n",
       "        vertical-align: middle;\n",
       "    }\n",
       "\n",
       "    .dataframe tbody tr th {\n",
       "        vertical-align: top;\n",
       "    }\n",
       "\n",
       "    .dataframe thead th {\n",
       "        text-align: right;\n",
       "    }\n",
       "</style>\n",
       "<table border=\"1\" class=\"dataframe\">\n",
       "  <thead>\n",
       "    <tr style=\"text-align: right;\">\n",
       "      <th></th>\n",
       "      <th>Topic_Perc_Contrib</th>\n",
       "      <th>Keywords</th>\n",
       "      <th>Assignee</th>\n",
       "      <th>Year</th>\n",
       "      <th>Abstract</th>\n",
       "      <th>Topic</th>\n",
       "    </tr>\n",
       "  </thead>\n",
       "  <tbody>\n",
       "    <tr>\n",
       "      <th>0</th>\n",
       "      <td>0.3972</td>\n",
       "      <td>charge, battery, module, power, voltage, elect...</td>\n",
       "      <td>luz electric fuel israel ltd</td>\n",
       "      <td>1990.0</td>\n",
       "      <td>An electrical energy system including an elect...</td>\n",
       "      <td>topic4</td>\n",
       "    </tr>\n",
       "    <tr>\n",
       "      <th>1</th>\n",
       "      <td>0.8034</td>\n",
       "      <td>charge, battery, module, power, voltage, elect...</td>\n",
       "      <td>luz electric fuel israel ltd</td>\n",
       "      <td>1990.0</td>\n",
       "      <td>An electrical energy system including an elect...</td>\n",
       "      <td>topic4</td>\n",
       "    </tr>\n",
       "    <tr>\n",
       "      <th>2</th>\n",
       "      <td>0.4070</td>\n",
       "      <td>oil, pressure, valve, fuel, air, pump, gas, ex...</td>\n",
       "      <td>sumitomo electric industries ltd</td>\n",
       "      <td>1995.0</td>\n",
       "      <td>An object is to provide a particulate trap for...</td>\n",
       "      <td>topic3</td>\n",
       "    </tr>\n",
       "    <tr>\n",
       "      <th>3</th>\n",
       "      <td>0.3697</td>\n",
       "      <td>gear, shaft, first, second, motor, connect, si...</td>\n",
       "      <td>sumitomo electric ind ltd</td>\n",
       "      <td>1995.0</td>\n",
       "      <td>PURPOSE: To obtain a trap by which the leakage...</td>\n",
       "      <td>topic2</td>\n",
       "    </tr>\n",
       "    <tr>\n",
       "      <th>4</th>\n",
       "      <td>0.3872</td>\n",
       "      <td>gear, shaft, first, second, motor, connect, si...</td>\n",
       "      <td>sumitomo electric industries ltd</td>\n",
       "      <td>1995.0</td>\n",
       "      <td>A particulate trap for a diesel engine designe...</td>\n",
       "      <td>topic2</td>\n",
       "    </tr>\n",
       "  </tbody>\n",
       "</table>\n",
       "</div>"
      ],
      "text/plain": [
       "   Topic_Perc_Contrib                                           Keywords  \\\n",
       "0              0.3972  charge, battery, module, power, voltage, elect...   \n",
       "1              0.8034  charge, battery, module, power, voltage, elect...   \n",
       "2              0.4070  oil, pressure, valve, fuel, air, pump, gas, ex...   \n",
       "3              0.3697  gear, shaft, first, second, motor, connect, si...   \n",
       "4              0.3872  gear, shaft, first, second, motor, connect, si...   \n",
       "\n",
       "                           Assignee    Year  \\\n",
       "0      luz electric fuel israel ltd  1990.0   \n",
       "1      luz electric fuel israel ltd  1990.0   \n",
       "2  sumitomo electric industries ltd  1995.0   \n",
       "3         sumitomo electric ind ltd  1995.0   \n",
       "4  sumitomo electric industries ltd  1995.0   \n",
       "\n",
       "                                            Abstract   Topic  \n",
       "0  An electrical energy system including an elect...  topic4  \n",
       "1  An electrical energy system including an elect...  topic4  \n",
       "2  An object is to provide a particulate trap for...  topic3  \n",
       "3  PURPOSE: To obtain a trap by which the leakage...  topic2  \n",
       "4  A particulate trap for a diesel engine designe...  topic2  "
      ]
     },
     "execution_count": 92,
     "metadata": {},
     "output_type": "execute_result"
    }
   ],
   "source": [
    "df = pd.read_pickle('work_on_paper.pkl')\n",
    "df.head()"
   ]
  },
  {
   "cell_type": "code",
   "execution_count": 93,
   "metadata": {},
   "outputs": [
    {
     "data": {
      "text/plain": [
       "Counter({'topic4': 10063,\n",
       "         'topic3': 10163,\n",
       "         'topic2': 11044,\n",
       "         'topic5': 8799,\n",
       "         'topic1': 22894,\n",
       "         'topic6': 4792,\n",
       "         'topic7': 708,\n",
       "         'topic8': 299})"
      ]
     },
     "execution_count": 93,
     "metadata": {},
     "output_type": "execute_result"
    }
   ],
   "source": [
    "from collections import Counter\n",
    "Counter(df.Topic)"
   ]
  },
  {
   "cell_type": "code",
   "execution_count": 94,
   "metadata": {},
   "outputs": [],
   "source": [
    "company=df.groupby(df.Topic).Assignee.value_counts(dropna=True, sort=True)"
   ]
  },
  {
   "cell_type": "code",
   "execution_count": 95,
   "metadata": {},
   "outputs": [
    {
     "data": {
      "text/html": [
       "<div>\n",
       "<style scoped>\n",
       "    .dataframe tbody tr th:only-of-type {\n",
       "        vertical-align: middle;\n",
       "    }\n",
       "\n",
       "    .dataframe tbody tr th {\n",
       "        vertical-align: top;\n",
       "    }\n",
       "\n",
       "    .dataframe thead th {\n",
       "        text-align: right;\n",
       "    }\n",
       "</style>\n",
       "<table border=\"1\" class=\"dataframe\">\n",
       "  <thead>\n",
       "    <tr style=\"text-align: right;\">\n",
       "      <th></th>\n",
       "      <th></th>\n",
       "      <th>Assignee</th>\n",
       "    </tr>\n",
       "    <tr>\n",
       "      <th>Topic</th>\n",
       "      <th>Assignee</th>\n",
       "      <th></th>\n",
       "    </tr>\n",
       "  </thead>\n",
       "  <tbody>\n",
       "    <tr>\n",
       "      <th rowspan=\"30\" valign=\"top\">topic1</th>\n",
       "      <th>toyota motor corp</th>\n",
       "      <td>4452</td>\n",
       "    </tr>\n",
       "    <tr>\n",
       "      <th>nissan motor co ltd</th>\n",
       "      <td>1737</td>\n",
       "    </tr>\n",
       "    <tr>\n",
       "      <th>honda motor co ltd</th>\n",
       "      <td>1580</td>\n",
       "    </tr>\n",
       "    <tr>\n",
       "      <th>hyundai motor co ltd</th>\n",
       "      <td>1312</td>\n",
       "    </tr>\n",
       "    <tr>\n",
       "      <th>ford global technologies inc</th>\n",
       "      <td>959</td>\n",
       "    </tr>\n",
       "    <tr>\n",
       "      <th>mitsubishi motors corp</th>\n",
       "      <td>715</td>\n",
       "    </tr>\n",
       "    <tr>\n",
       "      <th>bosch corp</th>\n",
       "      <td>580</td>\n",
       "    </tr>\n",
       "    <tr>\n",
       "      <th>denso corp</th>\n",
       "      <td>477</td>\n",
       "    </tr>\n",
       "    <tr>\n",
       "      <th>aisin aw co ltd</th>\n",
       "      <td>314</td>\n",
       "    </tr>\n",
       "    <tr>\n",
       "      <th>hitachi ltd</th>\n",
       "      <td>312</td>\n",
       "    </tr>\n",
       "    <tr>\n",
       "      <th>suzuki motor corp</th>\n",
       "      <td>199</td>\n",
       "    </tr>\n",
       "    <tr>\n",
       "      <th>peugeot citroen automobiles</th>\n",
       "      <td>166</td>\n",
       "    </tr>\n",
       "    <tr>\n",
       "      <th>general motors corporation</th>\n",
       "      <td>164</td>\n",
       "    </tr>\n",
       "    <tr>\n",
       "      <th>renault sas</th>\n",
       "      <td>160</td>\n",
       "    </tr>\n",
       "    <tr>\n",
       "      <th>mazda motor corp</th>\n",
       "      <td>147</td>\n",
       "    </tr>\n",
       "    <tr>\n",
       "      <th>hino motors ltd</th>\n",
       "      <td>121</td>\n",
       "    </tr>\n",
       "    <tr>\n",
       "      <th>fuji heavy ind ltd</th>\n",
       "      <td>106</td>\n",
       "    </tr>\n",
       "    <tr>\n",
       "      <th>daimlerchrysler ag</th>\n",
       "      <td>104</td>\n",
       "    </tr>\n",
       "    <tr>\n",
       "      <th>jatco ltd</th>\n",
       "      <td>100</td>\n",
       "    </tr>\n",
       "    <tr>\n",
       "      <th>jaguar land rover limited</th>\n",
       "      <td>95</td>\n",
       "    </tr>\n",
       "    <tr>\n",
       "      <th>hitachi automotive systems ltd</th>\n",
       "      <td>94</td>\n",
       "    </tr>\n",
       "    <tr>\n",
       "      <th>yamaha motor co ltd</th>\n",
       "      <td>94</td>\n",
       "    </tr>\n",
       "    <tr>\n",
       "      <th>ntn corporation</th>\n",
       "      <td>87</td>\n",
       "    </tr>\n",
       "    <tr>\n",
       "      <th>bmw ag</th>\n",
       "      <td>86</td>\n",
       "    </tr>\n",
       "    <tr>\n",
       "      <th>isuzu motors ltd</th>\n",
       "      <td>84</td>\n",
       "    </tr>\n",
       "    <tr>\n",
       "      <th>volkswagen group</th>\n",
       "      <td>73</td>\n",
       "    </tr>\n",
       "    <tr>\n",
       "      <th>kia motors corporation</th>\n",
       "      <td>66</td>\n",
       "    </tr>\n",
       "    <tr>\n",
       "      <th>daihatsu motor co ltd</th>\n",
       "      <td>64</td>\n",
       "    </tr>\n",
       "    <tr>\n",
       "      <th>byd company limited</th>\n",
       "      <td>60</td>\n",
       "    </tr>\n",
       "    <tr>\n",
       "      <th>toshiba corp</th>\n",
       "      <td>57</td>\n",
       "    </tr>\n",
       "    <tr>\n",
       "      <th>...</th>\n",
       "      <th>...</th>\n",
       "      <td>...</td>\n",
       "    </tr>\n",
       "    <tr>\n",
       "      <th rowspan=\"30\" valign=\"top\">topic8</th>\n",
       "      <th>siemens vdo automotive</th>\n",
       "      <td>1</td>\n",
       "    </tr>\n",
       "    <tr>\n",
       "      <th>sumec machinery &amp; electric co ltd</th>\n",
       "      <td>1</td>\n",
       "    </tr>\n",
       "    <tr>\n",
       "      <th>sun zhonglin</th>\n",
       "      <td>1</td>\n",
       "    </tr>\n",
       "    <tr>\n",
       "      <th>suxuki motor corp</th>\n",
       "      <td>1</td>\n",
       "    </tr>\n",
       "    <tr>\n",
       "      <th>suzhou industrial park institute of vocational technology</th>\n",
       "      <td>1</td>\n",
       "    </tr>\n",
       "    <tr>\n",
       "      <th>swanson; lennart h</th>\n",
       "      <td>1</td>\n",
       "    </tr>\n",
       "    <tr>\n",
       "      <th>tamura kouichi</th>\n",
       "      <td>1</td>\n",
       "    </tr>\n",
       "    <tr>\n",
       "      <th>tianjin maritime college</th>\n",
       "      <td>1</td>\n",
       "    </tr>\n",
       "    <tr>\n",
       "      <th>toyo roki mfg co ltd</th>\n",
       "      <td>1</td>\n",
       "    </tr>\n",
       "    <tr>\n",
       "      <th>toyo roki seizo kabushiki kaisha</th>\n",
       "      <td>1</td>\n",
       "    </tr>\n",
       "    <tr>\n",
       "      <th>unisia jecs corp atsugi kanagawa jp</th>\n",
       "      <td>1</td>\n",
       "    </tr>\n",
       "    <tr>\n",
       "      <th>volkswagen group</th>\n",
       "      <td>1</td>\n",
       "    </tr>\n",
       "    <tr>\n",
       "      <th>waelput; erik f m</th>\n",
       "      <td>1</td>\n",
       "    </tr>\n",
       "    <tr>\n",
       "      <th>wang guangrui</th>\n",
       "      <td>1</td>\n",
       "    </tr>\n",
       "    <tr>\n",
       "      <th>wang lanan</th>\n",
       "      <td>1</td>\n",
       "    </tr>\n",
       "    <tr>\n",
       "      <th>watanabe koichiro</th>\n",
       "      <td>1</td>\n",
       "    </tr>\n",
       "    <tr>\n",
       "      <th>weichai power co ltd</th>\n",
       "      <td>1</td>\n",
       "    </tr>\n",
       "    <tr>\n",
       "      <th>wenzhou yongyu filter co ltd</th>\n",
       "      <td>1</td>\n",
       "    </tr>\n",
       "    <tr>\n",
       "      <th>wu lilin</th>\n",
       "      <td>1</td>\n",
       "    </tr>\n",
       "    <tr>\n",
       "      <th>wu mengdie</th>\n",
       "      <td>1</td>\n",
       "    </tr>\n",
       "    <tr>\n",
       "      <th>wuxi meiyang power technology co ltd</th>\n",
       "      <td>1</td>\n",
       "    </tr>\n",
       "    <tr>\n",
       "      <th>xiamen wattpower tech co ltd</th>\n",
       "      <td>1</td>\n",
       "    </tr>\n",
       "    <tr>\n",
       "      <th>yanghang middle school affiliated to east china normal university</th>\n",
       "      <td>1</td>\n",
       "    </tr>\n",
       "    <tr>\n",
       "      <th>yangzhou feichi dynamic technology co ltd</th>\n",
       "      <td>1</td>\n",
       "    </tr>\n",
       "    <tr>\n",
       "      <th>yanmar diesel engine co ltd</th>\n",
       "      <td>1</td>\n",
       "    </tr>\n",
       "    <tr>\n",
       "      <th>yu qinsheng</th>\n",
       "      <td>1</td>\n",
       "    </tr>\n",
       "    <tr>\n",
       "      <th>zhang tianbing</th>\n",
       "      <td>1</td>\n",
       "    </tr>\n",
       "    <tr>\n",
       "      <th>zhao daqing</th>\n",
       "      <td>1</td>\n",
       "    </tr>\n",
       "    <tr>\n",
       "      <th>zhejiang university</th>\n",
       "      <td>1</td>\n",
       "    </tr>\n",
       "    <tr>\n",
       "      <th>zhengzhou yutong bus co ltd</th>\n",
       "      <td>1</td>\n",
       "    </tr>\n",
       "  </tbody>\n",
       "</table>\n",
       "<p>17299 rows × 1 columns</p>\n",
       "</div>"
      ],
      "text/plain": [
       "                                                           Assignee\n",
       "Topic  Assignee                                                    \n",
       "topic1 toyota motor corp                                       4452\n",
       "       nissan motor co ltd                                     1737\n",
       "       honda motor co ltd                                      1580\n",
       "       hyundai motor co ltd                                    1312\n",
       "       ford global technologies inc                             959\n",
       "       mitsubishi motors corp                                   715\n",
       "       bosch corp                                               580\n",
       "       denso corp                                               477\n",
       "       aisin aw co ltd                                          314\n",
       "       hitachi ltd                                              312\n",
       "       suzuki motor corp                                        199\n",
       "       peugeot citroen automobiles                              166\n",
       "       general motors corporation                               164\n",
       "       renault sas                                              160\n",
       "       mazda motor corp                                         147\n",
       "       hino motors ltd                                          121\n",
       "       fuji heavy ind ltd                                       106\n",
       "       daimlerchrysler ag                                       104\n",
       "       jatco ltd                                                100\n",
       "       jaguar land rover limited                                 95\n",
       "       hitachi automotive systems ltd                            94\n",
       "       yamaha motor co ltd                                       94\n",
       "       ntn corporation                                           87\n",
       "       bmw ag                                                    86\n",
       "       isuzu motors ltd                                          84\n",
       "       volkswagen group                                          73\n",
       "       kia motors corporation                                    66\n",
       "       daihatsu motor co ltd                                     64\n",
       "       byd company limited                                       60\n",
       "       toshiba corp                                              57\n",
       "...                                                             ...\n",
       "topic8 siemens vdo automotive                                     1\n",
       "       sumec machinery & electric co ltd                          1\n",
       "       sun zhonglin                                               1\n",
       "       suxuki motor corp                                          1\n",
       "       suzhou industrial park institute of vocational ...         1\n",
       "       swanson; lennart h                                         1\n",
       "       tamura kouichi                                             1\n",
       "       tianjin maritime college                                   1\n",
       "       toyo roki mfg co ltd                                       1\n",
       "       toyo roki seizo kabushiki kaisha                           1\n",
       "       unisia jecs corp atsugi kanagawa jp                        1\n",
       "       volkswagen group                                           1\n",
       "       waelput; erik f m                                          1\n",
       "       wang guangrui                                              1\n",
       "       wang lanan                                                 1\n",
       "       watanabe koichiro                                          1\n",
       "       weichai power co ltd                                       1\n",
       "       wenzhou yongyu filter co ltd                               1\n",
       "       wu lilin                                                   1\n",
       "       wu mengdie                                                 1\n",
       "       wuxi meiyang power technology co ltd                       1\n",
       "       xiamen wattpower tech co ltd                               1\n",
       "       yanghang middle school affiliated to east china...         1\n",
       "       yangzhou feichi dynamic technology co ltd                  1\n",
       "       yanmar diesel engine co ltd                                1\n",
       "       yu qinsheng                                                1\n",
       "       zhang tianbing                                             1\n",
       "       zhao daqing                                                1\n",
       "       zhejiang university                                        1\n",
       "       zhengzhou yutong bus co ltd                                1\n",
       "\n",
       "[17299 rows x 1 columns]"
      ]
     },
     "execution_count": 95,
     "metadata": {},
     "output_type": "execute_result"
    }
   ],
   "source": [
    "df_company = pd.DataFrame(company)\n",
    "df_company"
   ]
  },
  {
   "cell_type": "markdown",
   "metadata": {},
   "source": [
    "### For a specific topic listing wrt firms"
   ]
  },
  {
   "cell_type": "code",
   "execution_count": 96,
   "metadata": {},
   "outputs": [],
   "source": [
    "topic_firm=df.groupby([df['Topic']=='topic1']).Assignee.value_counts(dropna=True, sort=True)"
   ]
  },
  {
   "cell_type": "code",
   "execution_count": 97,
   "metadata": {},
   "outputs": [
    {
     "data": {
      "text/html": [
       "<div>\n",
       "<style scoped>\n",
       "    .dataframe tbody tr th:only-of-type {\n",
       "        vertical-align: middle;\n",
       "    }\n",
       "\n",
       "    .dataframe tbody tr th {\n",
       "        vertical-align: top;\n",
       "    }\n",
       "\n",
       "    .dataframe thead th {\n",
       "        text-align: right;\n",
       "    }\n",
       "</style>\n",
       "<table border=\"1\" class=\"dataframe\">\n",
       "  <thead>\n",
       "    <tr style=\"text-align: right;\">\n",
       "      <th></th>\n",
       "      <th></th>\n",
       "      <th>Assignee</th>\n",
       "    </tr>\n",
       "    <tr>\n",
       "      <th>Topic</th>\n",
       "      <th>Assignee</th>\n",
       "      <th></th>\n",
       "    </tr>\n",
       "  </thead>\n",
       "  <tbody>\n",
       "    <tr>\n",
       "      <th rowspan=\"30\" valign=\"top\">False</th>\n",
       "      <th>toyota motor corp</th>\n",
       "      <td>3673</td>\n",
       "    </tr>\n",
       "    <tr>\n",
       "      <th>honda motor co ltd</th>\n",
       "      <td>2397</td>\n",
       "    </tr>\n",
       "    <tr>\n",
       "      <th>bosch corp</th>\n",
       "      <td>2190</td>\n",
       "    </tr>\n",
       "    <tr>\n",
       "      <th>hyundai motor co ltd</th>\n",
       "      <td>1285</td>\n",
       "    </tr>\n",
       "    <tr>\n",
       "      <th>nissan motor co ltd</th>\n",
       "      <td>1148</td>\n",
       "    </tr>\n",
       "    <tr>\n",
       "      <th>ford global technologies inc</th>\n",
       "      <td>854</td>\n",
       "    </tr>\n",
       "    <tr>\n",
       "      <th>renault sas</th>\n",
       "      <td>699</td>\n",
       "    </tr>\n",
       "    <tr>\n",
       "      <th>mitsubishi motors corp</th>\n",
       "      <td>697</td>\n",
       "    </tr>\n",
       "    <tr>\n",
       "      <th>denso corp</th>\n",
       "      <td>620</td>\n",
       "    </tr>\n",
       "    <tr>\n",
       "      <th>peugeot citroen automobiles</th>\n",
       "      <td>522</td>\n",
       "    </tr>\n",
       "    <tr>\n",
       "      <th>hitachi ltd</th>\n",
       "      <td>447</td>\n",
       "    </tr>\n",
       "    <tr>\n",
       "      <th>daimlerchrysler ag</th>\n",
       "      <td>399</td>\n",
       "    </tr>\n",
       "    <tr>\n",
       "      <th>yamaha motor co ltd</th>\n",
       "      <td>372</td>\n",
       "    </tr>\n",
       "    <tr>\n",
       "      <th>suzuki motor corp</th>\n",
       "      <td>329</td>\n",
       "    </tr>\n",
       "    <tr>\n",
       "      <th>general motors corporation</th>\n",
       "      <td>311</td>\n",
       "    </tr>\n",
       "    <tr>\n",
       "      <th>volkswagen group</th>\n",
       "      <td>302</td>\n",
       "    </tr>\n",
       "    <tr>\n",
       "      <th>continental automotive gmbh</th>\n",
       "      <td>278</td>\n",
       "    </tr>\n",
       "    <tr>\n",
       "      <th>siemens aktiengesellschaft</th>\n",
       "      <td>235</td>\n",
       "    </tr>\n",
       "    <tr>\n",
       "      <th>lsis co ltd</th>\n",
       "      <td>219</td>\n",
       "    </tr>\n",
       "    <tr>\n",
       "      <th>isuzu motors ltd</th>\n",
       "      <td>216</td>\n",
       "    </tr>\n",
       "    <tr>\n",
       "      <th>audi ag</th>\n",
       "      <td>173</td>\n",
       "    </tr>\n",
       "    <tr>\n",
       "      <th>general electric company</th>\n",
       "      <td>150</td>\n",
       "    </tr>\n",
       "    <tr>\n",
       "      <th>aisin aw co ltd</th>\n",
       "      <td>144</td>\n",
       "    </tr>\n",
       "    <tr>\n",
       "      <th>mazda motor corp</th>\n",
       "      <td>127</td>\n",
       "    </tr>\n",
       "    <tr>\n",
       "      <th>bmw ag</th>\n",
       "      <td>126</td>\n",
       "    </tr>\n",
       "    <tr>\n",
       "      <th>mahle international gmbh</th>\n",
       "      <td>111</td>\n",
       "    </tr>\n",
       "    <tr>\n",
       "      <th>sony corporation</th>\n",
       "      <td>111</td>\n",
       "    </tr>\n",
       "    <tr>\n",
       "      <th>avl list gmbh</th>\n",
       "      <td>102</td>\n",
       "    </tr>\n",
       "    <tr>\n",
       "      <th>beiqi foton motor co ltd</th>\n",
       "      <td>101</td>\n",
       "    </tr>\n",
       "    <tr>\n",
       "      <th>korea advanced institute of science and technology</th>\n",
       "      <td>101</td>\n",
       "    </tr>\n",
       "  </tbody>\n",
       "</table>\n",
       "</div>"
      ],
      "text/plain": [
       "                                                          Assignee\n",
       "Topic Assignee                                                    \n",
       "False toyota motor corp                                       3673\n",
       "      honda motor co ltd                                      2397\n",
       "      bosch corp                                              2190\n",
       "      hyundai motor co ltd                                    1285\n",
       "      nissan motor co ltd                                     1148\n",
       "      ford global technologies inc                             854\n",
       "      renault sas                                              699\n",
       "      mitsubishi motors corp                                   697\n",
       "      denso corp                                               620\n",
       "      peugeot citroen automobiles                              522\n",
       "      hitachi ltd                                              447\n",
       "      daimlerchrysler ag                                       399\n",
       "      yamaha motor co ltd                                      372\n",
       "      suzuki motor corp                                        329\n",
       "      general motors corporation                               311\n",
       "      volkswagen group                                         302\n",
       "      continental automotive gmbh                              278\n",
       "      siemens aktiengesellschaft                               235\n",
       "      lsis co ltd                                              219\n",
       "      isuzu motors ltd                                         216\n",
       "      audi ag                                                  173\n",
       "      general electric company                                 150\n",
       "      aisin aw co ltd                                          144\n",
       "      mazda motor corp                                         127\n",
       "      bmw ag                                                   126\n",
       "      mahle international gmbh                                 111\n",
       "      sony corporation                                         111\n",
       "      avl list gmbh                                            102\n",
       "      beiqi foton motor co ltd                                 101\n",
       "      korea advanced institute of science and technology       101"
      ]
     },
     "execution_count": 97,
     "metadata": {},
     "output_type": "execute_result"
    }
   ],
   "source": [
    "df_topic_firms = pd.DataFrame(topic_firm)\n",
    "df_topic_firms[:30]"
   ]
  },
  {
   "cell_type": "code",
   "execution_count": 98,
   "metadata": {},
   "outputs": [],
   "source": [
    "d=df\n",
    "d=d[d.Topic==\"topic1\"]"
   ]
  },
  {
   "cell_type": "code",
   "execution_count": 99,
   "metadata": {},
   "outputs": [
    {
     "data": {
      "text/plain": [
       "22894"
      ]
     },
     "execution_count": 99,
     "metadata": {},
     "output_type": "execute_result"
    }
   ],
   "source": [
    "len(d)"
   ]
  },
  {
   "cell_type": "code",
   "execution_count": 100,
   "metadata": {},
   "outputs": [
    {
     "data": {
      "text/html": [
       "<div>\n",
       "<style scoped>\n",
       "    .dataframe tbody tr th:only-of-type {\n",
       "        vertical-align: middle;\n",
       "    }\n",
       "\n",
       "    .dataframe tbody tr th {\n",
       "        vertical-align: top;\n",
       "    }\n",
       "\n",
       "    .dataframe thead th {\n",
       "        text-align: right;\n",
       "    }\n",
       "</style>\n",
       "<table border=\"1\" class=\"dataframe\">\n",
       "  <thead>\n",
       "    <tr style=\"text-align: right;\">\n",
       "      <th></th>\n",
       "      <th>Topic_Perc_Contrib</th>\n",
       "      <th>Keywords</th>\n",
       "      <th>Assignee</th>\n",
       "      <th>Year</th>\n",
       "      <th>Abstract</th>\n",
       "      <th>Topic</th>\n",
       "    </tr>\n",
       "  </thead>\n",
       "  <tbody>\n",
       "    <tr>\n",
       "      <th>43</th>\n",
       "      <td>0.6716</td>\n",
       "      <td>torque, mode, motor, power, speed, control, dr...</td>\n",
       "      <td>laimböck franz diplingdr</td>\n",
       "      <td>1992.0</td>\n",
       "      <td>For the drive shaft of a motor vehicle a drive...</td>\n",
       "      <td>topic1</td>\n",
       "    </tr>\n",
       "    <tr>\n",
       "      <th>44</th>\n",
       "      <td>0.7062</td>\n",
       "      <td>torque, mode, motor, power, speed, control, dr...</td>\n",
       "      <td>furantsu raimubetsuku</td>\n",
       "      <td>1992.0</td>\n",
       "      <td>PURPOSE: To optimize the various operational c...</td>\n",
       "      <td>topic1</td>\n",
       "    </tr>\n",
       "    <tr>\n",
       "      <th>46</th>\n",
       "      <td>0.6459</td>\n",
       "      <td>torque, mode, motor, power, speed, control, dr...</td>\n",
       "      <td>microcon software entwicklung gmbh</td>\n",
       "      <td>1999.0</td>\n",
       "      <td>The arrangement has actuating the choke flap (...</td>\n",
       "      <td>topic1</td>\n",
       "    </tr>\n",
       "    <tr>\n",
       "      <th>52</th>\n",
       "      <td>0.5342</td>\n",
       "      <td>torque, mode, motor, power, speed, control, dr...</td>\n",
       "      <td>kornel hideg</td>\n",
       "      <td>1990.0</td>\n",
       "      <td>In a device for saving fuel in a motor vehicle...</td>\n",
       "      <td>topic1</td>\n",
       "    </tr>\n",
       "    <tr>\n",
       "      <th>70</th>\n",
       "      <td>0.6077</td>\n",
       "      <td>torque, mode, motor, power, speed, control, dr...</td>\n",
       "      <td>elin energieanwendung gesellschaft mbh</td>\n",
       "      <td>1992.0</td>\n",
       "      <td>The invention is a drive for an electric vehic...</td>\n",
       "      <td>topic1</td>\n",
       "    </tr>\n",
       "  </tbody>\n",
       "</table>\n",
       "</div>"
      ],
      "text/plain": [
       "    Topic_Perc_Contrib                                           Keywords  \\\n",
       "43              0.6716  torque, mode, motor, power, speed, control, dr...   \n",
       "44              0.7062  torque, mode, motor, power, speed, control, dr...   \n",
       "46              0.6459  torque, mode, motor, power, speed, control, dr...   \n",
       "52              0.5342  torque, mode, motor, power, speed, control, dr...   \n",
       "70              0.6077  torque, mode, motor, power, speed, control, dr...   \n",
       "\n",
       "                                  Assignee    Year  \\\n",
       "43                laimböck franz diplingdr  1992.0   \n",
       "44                   furantsu raimubetsuku  1992.0   \n",
       "46      microcon software entwicklung gmbh  1999.0   \n",
       "52                            kornel hideg  1990.0   \n",
       "70  elin energieanwendung gesellschaft mbh  1992.0   \n",
       "\n",
       "                                             Abstract   Topic  \n",
       "43  For the drive shaft of a motor vehicle a drive...  topic1  \n",
       "44  PURPOSE: To optimize the various operational c...  topic1  \n",
       "46  The arrangement has actuating the choke flap (...  topic1  \n",
       "52  In a device for saving fuel in a motor vehicle...  topic1  \n",
       "70  The invention is a drive for an electric vehic...  topic1  "
      ]
     },
     "execution_count": 100,
     "metadata": {},
     "output_type": "execute_result"
    }
   ],
   "source": [
    "d[:5]"
   ]
  },
  {
   "cell_type": "code",
   "execution_count": 101,
   "metadata": {},
   "outputs": [],
   "source": [
    "d=d.groupby(['Assignee']).size()"
   ]
  },
  {
   "cell_type": "code",
   "execution_count": 102,
   "metadata": {},
   "outputs": [
    {
     "data": {
      "text/plain": [
       "Assignee\n",
       "toyota motor corp               4452\n",
       "nissan motor co ltd             1737\n",
       "honda motor co ltd              1580\n",
       "hyundai motor co ltd            1312\n",
       "ford global technologies inc     959\n",
       "mitsubishi motors corp           715\n",
       "bosch corp                       580\n",
       "denso corp                       477\n",
       "aisin aw co ltd                  314\n",
       "hitachi ltd                      312\n",
       "dtype: int64"
      ]
     },
     "execution_count": 102,
     "metadata": {},
     "output_type": "execute_result"
    }
   ],
   "source": [
    "d.sort_values(ascending=False)[:10]"
   ]
  },
  {
   "cell_type": "markdown",
   "metadata": {},
   "source": [
    "**These are top 10 firms using Topic 1**"
   ]
  },
  {
   "cell_type": "markdown",
   "metadata": {},
   "source": [
    "### For topic2"
   ]
  },
  {
   "cell_type": "code",
   "execution_count": 103,
   "metadata": {},
   "outputs": [
    {
     "data": {
      "text/plain": [
       "11044"
      ]
     },
     "execution_count": 103,
     "metadata": {},
     "output_type": "execute_result"
    }
   ],
   "source": [
    "k=df\n",
    "k=k[k.Topic==\"topic2\"]\n",
    "len(k)"
   ]
  },
  {
   "cell_type": "code",
   "execution_count": 104,
   "metadata": {},
   "outputs": [
    {
     "data": {
      "text/html": [
       "<div>\n",
       "<style scoped>\n",
       "    .dataframe tbody tr th:only-of-type {\n",
       "        vertical-align: middle;\n",
       "    }\n",
       "\n",
       "    .dataframe tbody tr th {\n",
       "        vertical-align: top;\n",
       "    }\n",
       "\n",
       "    .dataframe thead th {\n",
       "        text-align: right;\n",
       "    }\n",
       "</style>\n",
       "<table border=\"1\" class=\"dataframe\">\n",
       "  <thead>\n",
       "    <tr style=\"text-align: right;\">\n",
       "      <th></th>\n",
       "      <th>Topic_Perc_Contrib</th>\n",
       "      <th>Keywords</th>\n",
       "      <th>Assignee</th>\n",
       "      <th>Year</th>\n",
       "      <th>Abstract</th>\n",
       "      <th>Topic</th>\n",
       "    </tr>\n",
       "  </thead>\n",
       "  <tbody>\n",
       "    <tr>\n",
       "      <th>3</th>\n",
       "      <td>0.3697</td>\n",
       "      <td>gear, shaft, first, second, motor, connect, si...</td>\n",
       "      <td>sumitomo electric ind ltd</td>\n",
       "      <td>1995.0</td>\n",
       "      <td>PURPOSE: To obtain a trap by which the leakage...</td>\n",
       "      <td>topic2</td>\n",
       "    </tr>\n",
       "    <tr>\n",
       "      <th>4</th>\n",
       "      <td>0.3872</td>\n",
       "      <td>gear, shaft, first, second, motor, connect, si...</td>\n",
       "      <td>sumitomo electric industries ltd</td>\n",
       "      <td>1995.0</td>\n",
       "      <td>A particulate trap for a diesel engine designe...</td>\n",
       "      <td>topic2</td>\n",
       "    </tr>\n",
       "    <tr>\n",
       "      <th>6</th>\n",
       "      <td>0.4956</td>\n",
       "      <td>gear, shaft, first, second, motor, connect, si...</td>\n",
       "      <td>ricardo cayetano algeri</td>\n",
       "      <td>2000.0</td>\n",
       "      <td>A MIXING DEVICE OF GAS FUEL WITH AIR FOR INTER...</td>\n",
       "      <td>topic2</td>\n",
       "    </tr>\n",
       "    <tr>\n",
       "      <th>7</th>\n",
       "      <td>0.5196</td>\n",
       "      <td>gear, shaft, first, second, motor, connect, si...</td>\n",
       "      <td>algeri; ricardo cayetano</td>\n",
       "      <td>2000.0</td>\n",
       "      <td>A MIXING DEVICE OF GAS FUEL WITH AIR FOR INTER...</td>\n",
       "      <td>topic2</td>\n",
       "    </tr>\n",
       "    <tr>\n",
       "      <th>22</th>\n",
       "      <td>0.6191</td>\n",
       "      <td>gear, shaft, first, second, motor, connect, si...</td>\n",
       "      <td>avl list gmbh</td>\n",
       "      <td>2002.0</td>\n",
       "      <td>The invention relates to a module-like constru...</td>\n",
       "      <td>topic2</td>\n",
       "    </tr>\n",
       "  </tbody>\n",
       "</table>\n",
       "</div>"
      ],
      "text/plain": [
       "    Topic_Perc_Contrib                                           Keywords  \\\n",
       "3               0.3697  gear, shaft, first, second, motor, connect, si...   \n",
       "4               0.3872  gear, shaft, first, second, motor, connect, si...   \n",
       "6               0.4956  gear, shaft, first, second, motor, connect, si...   \n",
       "7               0.5196  gear, shaft, first, second, motor, connect, si...   \n",
       "22              0.6191  gear, shaft, first, second, motor, connect, si...   \n",
       "\n",
       "                            Assignee    Year  \\\n",
       "3          sumitomo electric ind ltd  1995.0   \n",
       "4   sumitomo electric industries ltd  1995.0   \n",
       "6            ricardo cayetano algeri  2000.0   \n",
       "7           algeri; ricardo cayetano  2000.0   \n",
       "22                     avl list gmbh  2002.0   \n",
       "\n",
       "                                             Abstract   Topic  \n",
       "3   PURPOSE: To obtain a trap by which the leakage...  topic2  \n",
       "4   A particulate trap for a diesel engine designe...  topic2  \n",
       "6   A MIXING DEVICE OF GAS FUEL WITH AIR FOR INTER...  topic2  \n",
       "7   A MIXING DEVICE OF GAS FUEL WITH AIR FOR INTER...  topic2  \n",
       "22  The invention relates to a module-like constru...  topic2  "
      ]
     },
     "execution_count": 104,
     "metadata": {},
     "output_type": "execute_result"
    }
   ],
   "source": [
    "k[:5]"
   ]
  },
  {
   "cell_type": "code",
   "execution_count": 105,
   "metadata": {},
   "outputs": [
    {
     "data": {
      "text/plain": [
       "Assignee\n",
       "honda motor co ltd              951\n",
       "toyota motor corp               626\n",
       "hyundai motor co ltd            526\n",
       "bosch corp                      280\n",
       "nissan motor co ltd             221\n",
       "yamaha motor co ltd             194\n",
       "ford global technologies inc    159\n",
       "mitsubishi motors corp          130\n",
       "suzuki motor corp               128\n",
       "peugeot citroen automobiles     117\n",
       "dtype: int64"
      ]
     },
     "execution_count": 105,
     "metadata": {},
     "output_type": "execute_result"
    }
   ],
   "source": [
    "k=k.groupby(['Assignee']).size()\n",
    "k.sort_values(ascending=False)[:10]"
   ]
  },
  {
   "cell_type": "markdown",
   "metadata": {},
   "source": [
    "### Topic3"
   ]
  },
  {
   "cell_type": "code",
   "execution_count": 106,
   "metadata": {},
   "outputs": [
    {
     "data": {
      "text/plain": [
       "10163"
      ]
     },
     "execution_count": 106,
     "metadata": {},
     "output_type": "execute_result"
    }
   ],
   "source": [
    "e=df\n",
    "e=e[e.Topic==\"topic3\"]\n",
    "len(e)"
   ]
  },
  {
   "cell_type": "code",
   "execution_count": 107,
   "metadata": {},
   "outputs": [
    {
     "data": {
      "text/html": [
       "<div>\n",
       "<style scoped>\n",
       "    .dataframe tbody tr th:only-of-type {\n",
       "        vertical-align: middle;\n",
       "    }\n",
       "\n",
       "    .dataframe tbody tr th {\n",
       "        vertical-align: top;\n",
       "    }\n",
       "\n",
       "    .dataframe thead th {\n",
       "        text-align: right;\n",
       "    }\n",
       "</style>\n",
       "<table border=\"1\" class=\"dataframe\">\n",
       "  <thead>\n",
       "    <tr style=\"text-align: right;\">\n",
       "      <th></th>\n",
       "      <th>Topic_Perc_Contrib</th>\n",
       "      <th>Keywords</th>\n",
       "      <th>Assignee</th>\n",
       "      <th>Year</th>\n",
       "      <th>Abstract</th>\n",
       "      <th>Topic</th>\n",
       "    </tr>\n",
       "  </thead>\n",
       "  <tbody>\n",
       "    <tr>\n",
       "      <th>2</th>\n",
       "      <td>0.4070</td>\n",
       "      <td>oil, pressure, valve, fuel, air, pump, gas, ex...</td>\n",
       "      <td>sumitomo electric industries ltd</td>\n",
       "      <td>1995.0</td>\n",
       "      <td>An object is to provide a particulate trap for...</td>\n",
       "      <td>topic3</td>\n",
       "    </tr>\n",
       "    <tr>\n",
       "      <th>5</th>\n",
       "      <td>0.5406</td>\n",
       "      <td>oil, pressure, valve, fuel, air, pump, gas, ex...</td>\n",
       "      <td>sumitomo electric industries ltd</td>\n",
       "      <td>1995.0</td>\n",
       "      <td>PCT No. PCT/JP96/02405 Sec. 371 Date Nov. 17, ...</td>\n",
       "      <td>topic3</td>\n",
       "    </tr>\n",
       "  </tbody>\n",
       "</table>\n",
       "</div>"
      ],
      "text/plain": [
       "   Topic_Perc_Contrib                                           Keywords  \\\n",
       "2              0.4070  oil, pressure, valve, fuel, air, pump, gas, ex...   \n",
       "5              0.5406  oil, pressure, valve, fuel, air, pump, gas, ex...   \n",
       "\n",
       "                           Assignee    Year  \\\n",
       "2  sumitomo electric industries ltd  1995.0   \n",
       "5  sumitomo electric industries ltd  1995.0   \n",
       "\n",
       "                                            Abstract   Topic  \n",
       "2  An object is to provide a particulate trap for...  topic3  \n",
       "5  PCT No. PCT/JP96/02405 Sec. 371 Date Nov. 17, ...  topic3  "
      ]
     },
     "execution_count": 107,
     "metadata": {},
     "output_type": "execute_result"
    }
   ],
   "source": [
    "e[:2]"
   ]
  },
  {
   "cell_type": "code",
   "execution_count": 108,
   "metadata": {},
   "outputs": [
    {
     "data": {
      "text/plain": [
       "Assignee\n",
       "bosch corp                      867\n",
       "toyota motor corp               543\n",
       "honda motor co ltd              339\n",
       "renault sas                     246\n",
       "ford global technologies inc    205\n",
       "nissan motor co ltd             175\n",
       "daimlerchrysler ag              155\n",
       "peugeot citroen automobiles     144\n",
       "hyundai motor co ltd            143\n",
       "denso corp                      112\n",
       "dtype: int64"
      ]
     },
     "execution_count": 108,
     "metadata": {},
     "output_type": "execute_result"
    }
   ],
   "source": [
    "e=e.groupby(['Assignee']).size()\n",
    "e.sort_values(ascending=False)[:10]"
   ]
  },
  {
   "cell_type": "markdown",
   "metadata": {},
   "source": [
    "### Topic 4"
   ]
  },
  {
   "cell_type": "code",
   "execution_count": 109,
   "metadata": {},
   "outputs": [
    {
     "data": {
      "text/plain": [
       "10063"
      ]
     },
     "execution_count": 109,
     "metadata": {},
     "output_type": "execute_result"
    }
   ],
   "source": [
    "f=df\n",
    "f=f[f.Topic==\"topic4\"]\n",
    "len(f)"
   ]
  },
  {
   "cell_type": "code",
   "execution_count": 110,
   "metadata": {},
   "outputs": [
    {
     "data": {
      "text/plain": [
       "Assignee\n",
       "toyota motor corp               389\n",
       "honda motor co ltd              326\n",
       "hyundai motor co ltd            264\n",
       "lsis co ltd                     210\n",
       "mitsubishi motors corp          205\n",
       "ford global technologies inc    152\n",
       "nissan motor co ltd             143\n",
       "bosch corp                      134\n",
       "general electric company        115\n",
       "hitachi ltd                      97\n",
       "dtype: int64"
      ]
     },
     "execution_count": 110,
     "metadata": {},
     "output_type": "execute_result"
    }
   ],
   "source": [
    "f=f.groupby(['Assignee']).size()\n",
    "f.sort_values(ascending=False)[:10]"
   ]
  },
  {
   "cell_type": "markdown",
   "metadata": {},
   "source": [
    "### Topic 5"
   ]
  },
  {
   "cell_type": "code",
   "execution_count": 111,
   "metadata": {},
   "outputs": [
    {
     "data": {
      "text/plain": [
       "8799"
      ]
     },
     "execution_count": 111,
     "metadata": {},
     "output_type": "execute_result"
    }
   ],
   "source": [
    "g=df\n",
    "g=g[g.Topic==\"topic5\"]\n",
    "len(g)"
   ]
  },
  {
   "cell_type": "code",
   "execution_count": 112,
   "metadata": {},
   "outputs": [
    {
     "data": {
      "text/plain": [
       "Assignee\n",
       "toyota motor corp               1697\n",
       "bosch corp                       856\n",
       "honda motor co ltd               527\n",
       "nissan motor co ltd              426\n",
       "denso corp                       277\n",
       "ford global technologies inc     275\n",
       "mitsubishi motors corp           263\n",
       "renault sas                      222\n",
       "peugeot citroen automobiles      184\n",
       "isuzu motors ltd                 155\n",
       "dtype: int64"
      ]
     },
     "execution_count": 112,
     "metadata": {},
     "output_type": "execute_result"
    }
   ],
   "source": [
    "g=g.groupby(['Assignee']).size()\n",
    "g.sort_values(ascending=False)[:10]"
   ]
  },
  {
   "cell_type": "markdown",
   "metadata": {},
   "source": [
    "### Topic 6"
   ]
  },
  {
   "cell_type": "code",
   "execution_count": 113,
   "metadata": {},
   "outputs": [
    {
     "data": {
      "text/plain": [
       "4792"
      ]
     },
     "execution_count": 113,
     "metadata": {},
     "output_type": "execute_result"
    }
   ],
   "source": [
    "h=df\n",
    "h=h[h.Topic==\"topic6\"]\n",
    "len(h)"
   ]
  },
  {
   "cell_type": "code",
   "execution_count": 114,
   "metadata": {},
   "outputs": [
    {
     "data": {
      "text/plain": [
       "Assignee\n",
       "toyota motor corp                        319\n",
       "honda motor co ltd                       181\n",
       "hyundai motor co ltd                     171\n",
       "nissan motor co ltd                      153\n",
       "samsung sdi co ltd                        72\n",
       "renault sas                               52\n",
       "bosch corp                                46\n",
       "sony corporation                          46\n",
       "general motors corporation                45\n",
       "matsushita electric industrial co ltd     35\n",
       "dtype: int64"
      ]
     },
     "execution_count": 114,
     "metadata": {},
     "output_type": "execute_result"
    }
   ],
   "source": [
    "h=h.groupby(['Assignee']).size()\n",
    "h.sort_values(ascending=False)[:10]"
   ]
  },
  {
   "cell_type": "markdown",
   "metadata": {},
   "source": [
    "### Topic 7"
   ]
  },
  {
   "cell_type": "code",
   "execution_count": 115,
   "metadata": {},
   "outputs": [
    {
     "data": {
      "text/plain": [
       "708"
      ]
     },
     "execution_count": 115,
     "metadata": {},
     "output_type": "execute_result"
    }
   ],
   "source": [
    "i=df\n",
    "i=i[i.Topic==\"topic7\"]\n",
    "len(i)"
   ]
  },
  {
   "cell_type": "code",
   "execution_count": 116,
   "metadata": {},
   "outputs": [
    {
     "data": {
      "text/plain": [
       "Assignee\n",
       "toyota motor corp               88\n",
       "hyundai motor co ltd            60\n",
       "ford global technologies inc    29\n",
       "honda motor co ltd              29\n",
       "renault sas                     22\n",
       "nissan motor co ltd             21\n",
       "denso corp                      21\n",
       "peugeot citroen automobiles     18\n",
       "suzuki motor corp               11\n",
       "general motors corporation      10\n",
       "dtype: int64"
      ]
     },
     "execution_count": 116,
     "metadata": {},
     "output_type": "execute_result"
    }
   ],
   "source": [
    "i=i.groupby(['Assignee']).size()\n",
    "i.sort_values(ascending=False)[:10]"
   ]
  },
  {
   "cell_type": "markdown",
   "metadata": {},
   "source": [
    "### Topic 8"
   ]
  },
  {
   "cell_type": "code",
   "execution_count": 117,
   "metadata": {},
   "outputs": [
    {
     "data": {
      "text/plain": [
       "299"
      ]
     },
     "execution_count": 117,
     "metadata": {},
     "output_type": "execute_result"
    }
   ],
   "source": [
    "j=df\n",
    "j=j[j.Topic==\"topic8\"]\n",
    "len(j)"
   ]
  },
  {
   "cell_type": "code",
   "execution_count": 118,
   "metadata": {},
   "outputs": [
    {
     "data": {
      "text/plain": [
       "Assignee\n",
       "honda motor co ltd                   44\n",
       "suzuki motor corp                    24\n",
       "toyota motor corp                    11\n",
       "nissan motor co ltd                   9\n",
       "envirolution inc                      5\n",
       "hyundai motor co ltd                  5\n",
       "deere & company                       5\n",
       "kawasaki jukogyo kabushiki kaisha     4\n",
       "mann+hummel gmbh                      4\n",
       "khouw raymond                         4\n",
       "dtype: int64"
      ]
     },
     "execution_count": 118,
     "metadata": {},
     "output_type": "execute_result"
    }
   ],
   "source": [
    "j=j.groupby(['Assignee']).size()\n",
    "j.sort_values(ascending=False)[:10]"
   ]
  },
  {
   "cell_type": "markdown",
   "metadata": {},
   "source": [
    "### Using crosstab\n",
    "\n",
    "showing each assignee and what is topic contribution in that"
   ]
  },
  {
   "cell_type": "code",
   "execution_count": 119,
   "metadata": {},
   "outputs": [
    {
     "data": {
      "text/plain": [
       "toyota motor corp               8125\n",
       "honda motor co ltd              3977\n",
       "nissan motor co ltd             2885\n",
       "bosch corp                      2770\n",
       "hyundai motor co ltd            2597\n",
       "ford global technologies inc    1813\n",
       "mitsubishi motors corp          1412\n",
       "denso corp                      1097\n",
       "renault sas                      859\n",
       "hitachi ltd                      759\n",
       "peugeot citroen automobiles      688\n",
       "suzuki motor corp                528\n",
       "daimlerchrysler ag               503\n",
       "general motors corporation       475\n",
       "yamaha motor co ltd              466\n",
       "aisin aw co ltd                  458\n",
       "volkswagen group                 375\n",
       "continental automotive gmbh      316\n",
       "isuzu motors ltd                 300\n",
       "siemens aktiengesellschaft       285\n",
       "Name: Assignee, dtype: int64"
      ]
     },
     "execution_count": 119,
     "metadata": {},
     "output_type": "execute_result"
    }
   ],
   "source": [
    "# top assignee\n",
    "\n",
    "df.Assignee.value_counts()[:20]"
   ]
  },
  {
   "cell_type": "code",
   "execution_count": 120,
   "metadata": {},
   "outputs": [
    {
     "data": {
      "text/html": [
       "<div>\n",
       "<style scoped>\n",
       "    .dataframe tbody tr th:only-of-type {\n",
       "        vertical-align: middle;\n",
       "    }\n",
       "\n",
       "    .dataframe tbody tr th {\n",
       "        vertical-align: top;\n",
       "    }\n",
       "\n",
       "    .dataframe thead th {\n",
       "        text-align: right;\n",
       "    }\n",
       "</style>\n",
       "<table border=\"1\" class=\"dataframe\">\n",
       "  <thead>\n",
       "    <tr style=\"text-align: right;\">\n",
       "      <th></th>\n",
       "      <th>Topic_Perc_Contrib</th>\n",
       "      <th>Keywords</th>\n",
       "      <th>Assignee</th>\n",
       "      <th>Year</th>\n",
       "      <th>Abstract</th>\n",
       "      <th>Topic</th>\n",
       "    </tr>\n",
       "  </thead>\n",
       "  <tbody>\n",
       "    <tr>\n",
       "      <th>4307</th>\n",
       "      <td>0.5808</td>\n",
       "      <td>fuel, injection, catalyst, temperature, combus...</td>\n",
       "      <td>toyota motor corp</td>\n",
       "      <td>2002.0</td>\n",
       "      <td>An internal combustion engine of a vehicle is ...</td>\n",
       "      <td>topic5</td>\n",
       "    </tr>\n",
       "    <tr>\n",
       "      <th>5149</th>\n",
       "      <td>0.7057</td>\n",
       "      <td>oil, pressure, valve, fuel, air, pump, gas, ex...</td>\n",
       "      <td>toyota motor corp</td>\n",
       "      <td>1991.0</td>\n",
       "      <td>PURPOSE:To prevent deteriorated fuel atomizati...</td>\n",
       "      <td>topic3</td>\n",
       "    </tr>\n",
       "    <tr>\n",
       "      <th>5156</th>\n",
       "      <td>0.8510</td>\n",
       "      <td>torque, mode, motor, power, speed, control, dr...</td>\n",
       "      <td>toyota motor corp</td>\n",
       "      <td>1997.0</td>\n",
       "      <td>PROBLEM TO BE SOLVED: To provide a power gener...</td>\n",
       "      <td>topic1</td>\n",
       "    </tr>\n",
       "    <tr>\n",
       "      <th>5157</th>\n",
       "      <td>0.6786</td>\n",
       "      <td>oil, pressure, valve, fuel, air, pump, gas, ex...</td>\n",
       "      <td>toyota motor corp</td>\n",
       "      <td>1995.0</td>\n",
       "      <td>PURPOSE: To reduce ventilation resistance of a...</td>\n",
       "      <td>topic3</td>\n",
       "    </tr>\n",
       "    <tr>\n",
       "      <th>5158</th>\n",
       "      <td>0.5150</td>\n",
       "      <td>oil, pressure, valve, fuel, air, pump, gas, ex...</td>\n",
       "      <td>toyota motor corp</td>\n",
       "      <td>1995.0</td>\n",
       "      <td>A fuel vapor treating apparatus for an engine ...</td>\n",
       "      <td>topic3</td>\n",
       "    </tr>\n",
       "  </tbody>\n",
       "</table>\n",
       "</div>"
      ],
      "text/plain": [
       "      Topic_Perc_Contrib                                           Keywords  \\\n",
       "4307              0.5808  fuel, injection, catalyst, temperature, combus...   \n",
       "5149              0.7057  oil, pressure, valve, fuel, air, pump, gas, ex...   \n",
       "5156              0.8510  torque, mode, motor, power, speed, control, dr...   \n",
       "5157              0.6786  oil, pressure, valve, fuel, air, pump, gas, ex...   \n",
       "5158              0.5150  oil, pressure, valve, fuel, air, pump, gas, ex...   \n",
       "\n",
       "               Assignee    Year  \\\n",
       "4307  toyota motor corp  2002.0   \n",
       "5149  toyota motor corp  1991.0   \n",
       "5156  toyota motor corp  1997.0   \n",
       "5157  toyota motor corp  1995.0   \n",
       "5158  toyota motor corp  1995.0   \n",
       "\n",
       "                                               Abstract   Topic  \n",
       "4307  An internal combustion engine of a vehicle is ...  topic5  \n",
       "5149  PURPOSE:To prevent deteriorated fuel atomizati...  topic3  \n",
       "5156  PROBLEM TO BE SOLVED: To provide a power gener...  topic1  \n",
       "5157  PURPOSE: To reduce ventilation resistance of a...  topic3  \n",
       "5158  A fuel vapor treating apparatus for an engine ...  topic3  "
      ]
     },
     "execution_count": 120,
     "metadata": {},
     "output_type": "execute_result"
    }
   ],
   "source": [
    "w=df\n",
    "w=w[w.Assignee==\"toyota motor corp\"]\n",
    "w[:5]"
   ]
  },
  {
   "cell_type": "code",
   "execution_count": 121,
   "metadata": {},
   "outputs": [
    {
     "data": {
      "text/plain": [
       "8125"
      ]
     },
     "execution_count": 121,
     "metadata": {},
     "output_type": "execute_result"
    }
   ],
   "source": [
    "len(w)"
   ]
  },
  {
   "cell_type": "code",
   "execution_count": 122,
   "metadata": {},
   "outputs": [
    {
     "data": {
      "text/html": [
       "<div>\n",
       "<style scoped>\n",
       "    .dataframe tbody tr th:only-of-type {\n",
       "        vertical-align: middle;\n",
       "    }\n",
       "\n",
       "    .dataframe tbody tr th {\n",
       "        vertical-align: top;\n",
       "    }\n",
       "\n",
       "    .dataframe thead th {\n",
       "        text-align: right;\n",
       "    }\n",
       "</style>\n",
       "<table border=\"1\" class=\"dataframe\">\n",
       "  <thead>\n",
       "    <tr style=\"text-align: right;\">\n",
       "      <th>Topic</th>\n",
       "      <th>topic1</th>\n",
       "      <th>topic2</th>\n",
       "      <th>topic3</th>\n",
       "      <th>topic4</th>\n",
       "      <th>topic5</th>\n",
       "      <th>topic6</th>\n",
       "      <th>topic7</th>\n",
       "      <th>topic8</th>\n",
       "    </tr>\n",
       "    <tr>\n",
       "      <th>Assignee</th>\n",
       "      <th></th>\n",
       "      <th></th>\n",
       "      <th></th>\n",
       "      <th></th>\n",
       "      <th></th>\n",
       "      <th></th>\n",
       "      <th></th>\n",
       "      <th></th>\n",
       "    </tr>\n",
       "  </thead>\n",
       "  <tbody>\n",
       "    <tr>\n",
       "      <th>False</th>\n",
       "      <td>18442</td>\n",
       "      <td>10418</td>\n",
       "      <td>9620</td>\n",
       "      <td>9674</td>\n",
       "      <td>7102</td>\n",
       "      <td>4473</td>\n",
       "      <td>620</td>\n",
       "      <td>288</td>\n",
       "    </tr>\n",
       "    <tr>\n",
       "      <th>True</th>\n",
       "      <td>4452</td>\n",
       "      <td>626</td>\n",
       "      <td>543</td>\n",
       "      <td>389</td>\n",
       "      <td>1697</td>\n",
       "      <td>319</td>\n",
       "      <td>88</td>\n",
       "      <td>11</td>\n",
       "    </tr>\n",
       "  </tbody>\n",
       "</table>\n",
       "</div>"
      ],
      "text/plain": [
       "Topic     topic1  topic2  topic3  topic4  topic5  topic6  topic7  topic8\n",
       "Assignee                                                                \n",
       "False      18442   10418    9620    9674    7102    4473     620     288\n",
       "True        4452     626     543     389    1697     319      88      11"
      ]
     },
     "execution_count": 122,
     "metadata": {},
     "output_type": "execute_result"
    }
   ],
   "source": [
    "pd.crosstab(df.Assignee==\"toyota motor corp\", df.Topic)"
   ]
  },
  {
   "cell_type": "markdown",
   "metadata": {},
   "source": [
    "**We can use %age as well to show how much a topic has contributed to Toyota Motors' innovation profile**"
   ]
  },
  {
   "cell_type": "code",
   "execution_count": 123,
   "metadata": {},
   "outputs": [
    {
     "data": {
      "text/html": [
       "<div>\n",
       "<style scoped>\n",
       "    .dataframe tbody tr th:only-of-type {\n",
       "        vertical-align: middle;\n",
       "    }\n",
       "\n",
       "    .dataframe tbody tr th {\n",
       "        vertical-align: top;\n",
       "    }\n",
       "\n",
       "    .dataframe thead th {\n",
       "        text-align: right;\n",
       "    }\n",
       "</style>\n",
       "<table border=\"1\" class=\"dataframe\">\n",
       "  <thead>\n",
       "    <tr style=\"text-align: right;\">\n",
       "      <th>Topic</th>\n",
       "      <th>topic1</th>\n",
       "      <th>topic2</th>\n",
       "      <th>topic3</th>\n",
       "      <th>topic4</th>\n",
       "      <th>topic5</th>\n",
       "      <th>topic6</th>\n",
       "      <th>topic7</th>\n",
       "      <th>topic8</th>\n",
       "    </tr>\n",
       "    <tr>\n",
       "      <th>Assignee</th>\n",
       "      <th></th>\n",
       "      <th></th>\n",
       "      <th></th>\n",
       "      <th></th>\n",
       "      <th></th>\n",
       "      <th></th>\n",
       "      <th></th>\n",
       "      <th></th>\n",
       "    </tr>\n",
       "  </thead>\n",
       "  <tbody>\n",
       "    <tr>\n",
       "      <th>False</th>\n",
       "      <td>22314</td>\n",
       "      <td>10764</td>\n",
       "      <td>9296</td>\n",
       "      <td>9929</td>\n",
       "      <td>7943</td>\n",
       "      <td>4746</td>\n",
       "      <td>702</td>\n",
       "      <td>298</td>\n",
       "    </tr>\n",
       "    <tr>\n",
       "      <th>True</th>\n",
       "      <td>580</td>\n",
       "      <td>280</td>\n",
       "      <td>867</td>\n",
       "      <td>134</td>\n",
       "      <td>856</td>\n",
       "      <td>46</td>\n",
       "      <td>6</td>\n",
       "      <td>1</td>\n",
       "    </tr>\n",
       "  </tbody>\n",
       "</table>\n",
       "</div>"
      ],
      "text/plain": [
       "Topic     topic1  topic2  topic3  topic4  topic5  topic6  topic7  topic8\n",
       "Assignee                                                                \n",
       "False      22314   10764    9296    9929    7943    4746     702     298\n",
       "True         580     280     867     134     856      46       6       1"
      ]
     },
     "execution_count": 123,
     "metadata": {},
     "output_type": "execute_result"
    }
   ],
   "source": [
    "pd.crosstab(df.Assignee==\"bosch corp\", df.Topic)"
   ]
  },
  {
   "cell_type": "markdown",
   "metadata": {},
   "source": [
    "# 3)-Share of patents by  technological topics\n",
    "\n",
    "table 3 in paper\n",
    "\n",
    "- As we have decline after 2011. It had highest patents i.e 5737. So we shall take it as base year for current patent share.\n",
    "\n",
    "- For CAGR, we will use 2009-2013. This is to represent patent sample in a symmetric way."
   ]
  },
  {
   "cell_type": "code",
   "execution_count": 124,
   "metadata": {},
   "outputs": [
    {
     "data": {
      "text/html": [
       "<div>\n",
       "<style scoped>\n",
       "    .dataframe tbody tr th:only-of-type {\n",
       "        vertical-align: middle;\n",
       "    }\n",
       "\n",
       "    .dataframe tbody tr th {\n",
       "        vertical-align: top;\n",
       "    }\n",
       "\n",
       "    .dataframe thead th {\n",
       "        text-align: right;\n",
       "    }\n",
       "</style>\n",
       "<table border=\"1\" class=\"dataframe\">\n",
       "  <thead>\n",
       "    <tr style=\"text-align: right;\">\n",
       "      <th></th>\n",
       "      <th>Topic_Perc_Contrib</th>\n",
       "      <th>Keywords</th>\n",
       "      <th>Assignee</th>\n",
       "      <th>Year</th>\n",
       "      <th>Abstract</th>\n",
       "      <th>Topic</th>\n",
       "    </tr>\n",
       "  </thead>\n",
       "  <tbody>\n",
       "    <tr>\n",
       "      <th>0</th>\n",
       "      <td>0.3972</td>\n",
       "      <td>charge, battery, module, power, voltage, elect...</td>\n",
       "      <td>luz electric fuel israel ltd</td>\n",
       "      <td>1990.0</td>\n",
       "      <td>An electrical energy system including an elect...</td>\n",
       "      <td>topic4</td>\n",
       "    </tr>\n",
       "    <tr>\n",
       "      <th>1</th>\n",
       "      <td>0.8034</td>\n",
       "      <td>charge, battery, module, power, voltage, elect...</td>\n",
       "      <td>luz electric fuel israel ltd</td>\n",
       "      <td>1990.0</td>\n",
       "      <td>An electrical energy system including an elect...</td>\n",
       "      <td>topic4</td>\n",
       "    </tr>\n",
       "    <tr>\n",
       "      <th>2</th>\n",
       "      <td>0.4070</td>\n",
       "      <td>oil, pressure, valve, fuel, air, pump, gas, ex...</td>\n",
       "      <td>sumitomo electric industries ltd</td>\n",
       "      <td>1995.0</td>\n",
       "      <td>An object is to provide a particulate trap for...</td>\n",
       "      <td>topic3</td>\n",
       "    </tr>\n",
       "    <tr>\n",
       "      <th>3</th>\n",
       "      <td>0.3697</td>\n",
       "      <td>gear, shaft, first, second, motor, connect, si...</td>\n",
       "      <td>sumitomo electric ind ltd</td>\n",
       "      <td>1995.0</td>\n",
       "      <td>PURPOSE: To obtain a trap by which the leakage...</td>\n",
       "      <td>topic2</td>\n",
       "    </tr>\n",
       "    <tr>\n",
       "      <th>4</th>\n",
       "      <td>0.3872</td>\n",
       "      <td>gear, shaft, first, second, motor, connect, si...</td>\n",
       "      <td>sumitomo electric industries ltd</td>\n",
       "      <td>1995.0</td>\n",
       "      <td>A particulate trap for a diesel engine designe...</td>\n",
       "      <td>topic2</td>\n",
       "    </tr>\n",
       "  </tbody>\n",
       "</table>\n",
       "</div>"
      ],
      "text/plain": [
       "   Topic_Perc_Contrib                                           Keywords  \\\n",
       "0              0.3972  charge, battery, module, power, voltage, elect...   \n",
       "1              0.8034  charge, battery, module, power, voltage, elect...   \n",
       "2              0.4070  oil, pressure, valve, fuel, air, pump, gas, ex...   \n",
       "3              0.3697  gear, shaft, first, second, motor, connect, si...   \n",
       "4              0.3872  gear, shaft, first, second, motor, connect, si...   \n",
       "\n",
       "                           Assignee    Year  \\\n",
       "0      luz electric fuel israel ltd  1990.0   \n",
       "1      luz electric fuel israel ltd  1990.0   \n",
       "2  sumitomo electric industries ltd  1995.0   \n",
       "3         sumitomo electric ind ltd  1995.0   \n",
       "4  sumitomo electric industries ltd  1995.0   \n",
       "\n",
       "                                            Abstract   Topic  \n",
       "0  An electrical energy system including an elect...  topic4  \n",
       "1  An electrical energy system including an elect...  topic4  \n",
       "2  An object is to provide a particulate trap for...  topic3  \n",
       "3  PURPOSE: To obtain a trap by which the leakage...  topic2  \n",
       "4  A particulate trap for a diesel engine designe...  topic2  "
      ]
     },
     "execution_count": 124,
     "metadata": {},
     "output_type": "execute_result"
    }
   ],
   "source": [
    "df = pd.read_pickle('work_on_paper.pkl')\n",
    "df.head()"
   ]
  },
  {
   "cell_type": "code",
   "execution_count": 125,
   "metadata": {},
   "outputs": [
    {
     "data": {
      "text/plain": [
       "(68762, 6)"
      ]
     },
     "execution_count": 125,
     "metadata": {},
     "output_type": "execute_result"
    }
   ],
   "source": [
    "df.shape"
   ]
  },
  {
   "cell_type": "code",
   "execution_count": 126,
   "metadata": {},
   "outputs": [
    {
     "data": {
      "text/plain": [
       "5737"
      ]
     },
     "execution_count": 126,
     "metadata": {},
     "output_type": "execute_result"
    }
   ],
   "source": [
    "# How many patents we had in year 2011\n",
    "len(df[df.Year==2011])"
   ]
  },
  {
   "cell_type": "code",
   "execution_count": 127,
   "metadata": {},
   "outputs": [
    {
     "data": {
      "text/plain": [
       "Year   Topic \n",
       "False  topic1    20798\n",
       "       topic2    10147\n",
       "       topic3     9624\n",
       "       topic4     8674\n",
       "       topic5     8335\n",
       "       topic6     4527\n",
       "       topic7      653\n",
       "       topic8      267\n",
       "True   topic1     2096\n",
       "       topic4     1389\n",
       "       topic2      897\n",
       "       topic3      539\n",
       "       topic5      464\n",
       "       topic6      265\n",
       "       topic7       55\n",
       "       topic8       32\n",
       "Name: Topic, dtype: int64"
      ]
     },
     "execution_count": 127,
     "metadata": {},
     "output_type": "execute_result"
    }
   ],
   "source": [
    "# start with 2011 as of base year\n",
    "df.groupby(df.Year==2011).Topic.value_counts()"
   ]
  },
  {
   "cell_type": "markdown",
   "metadata": {},
   "source": [
    "5737 for 2011<br>\n",
    "5737/68762=8.34 %"
   ]
  },
  {
   "cell_type": "markdown",
   "metadata": {},
   "source": [
    "### for patent share"
   ]
  },
  {
   "cell_type": "code",
   "execution_count": 128,
   "metadata": {},
   "outputs": [
    {
     "data": {
      "text/plain": [
       "Year   Topic \n",
       "False  topic1    0.329996\n",
       "       topic2    0.161000\n",
       "       topic3    0.152701\n",
       "       topic4    0.137628\n",
       "       topic5    0.132249\n",
       "       topic6    0.071829\n",
       "       topic7    0.010361\n",
       "       topic8    0.004236\n",
       "True   topic1    0.365348\n",
       "       topic4    0.242113\n",
       "       topic2    0.156353\n",
       "       topic3    0.093952\n",
       "       topic5    0.080879\n",
       "       topic6    0.046191\n",
       "       topic7    0.009587\n",
       "       topic8    0.005578\n",
       "Name: Topic, dtype: float64"
      ]
     },
     "execution_count": 128,
     "metadata": {},
     "output_type": "execute_result"
    }
   ],
   "source": [
    "df.groupby(df.Year==2011).Topic.value_counts(normalize=True)"
   ]
  },
  {
   "cell_type": "code",
   "execution_count": 129,
   "metadata": {},
   "outputs": [
    {
     "data": {
      "text/plain": [
       "Year\n",
       "False    63025\n",
       "True      5737\n",
       "Name: Topic, dtype: int64"
      ]
     },
     "execution_count": 129,
     "metadata": {},
     "output_type": "execute_result"
    }
   ],
   "source": [
    "df.groupby(df.Year==2011).Topic.count()"
   ]
  },
  {
   "cell_type": "markdown",
   "metadata": {},
   "source": [
    "**Total patents in 2011 are 5737**\n",
    "\n",
    "- Let's varify : \n",
    "\n",
    "topic1= 2096/5737= 0.3653 Correct"
   ]
  },
  {
   "cell_type": "markdown",
   "metadata": {},
   "source": [
    "### Calculate CAGR\n",
    "https://www.investopedia.com/terms/c/cagr.asp\n",
    "\n",
    "We will consider years from 2009-2013"
   ]
  },
  {
   "cell_type": "code",
   "execution_count": 130,
   "metadata": {},
   "outputs": [
    {
     "data": {
      "text/plain": [
       "3754"
      ]
     },
     "execution_count": 130,
     "metadata": {},
     "output_type": "execute_result"
    }
   ],
   "source": [
    "len(df[df.Year== 2009])"
   ]
  },
  {
   "cell_type": "code",
   "execution_count": 131,
   "metadata": {},
   "outputs": [
    {
     "data": {
      "text/plain": [
       "Year   Topic \n",
       "False  topic1    21648\n",
       "       topic2    10349\n",
       "       topic3     9699\n",
       "       topic4     9300\n",
       "       topic5     8471\n",
       "       topic6     4601\n",
       "       topic7      657\n",
       "       topic8      283\n",
       "True   topic1     1246\n",
       "       topic2      695\n",
       "       topic3      464\n",
       "       topic4      763\n",
       "       topic5      328\n",
       "       topic6      191\n",
       "       topic7       51\n",
       "       topic8       16\n",
       "Name: Topic, dtype: int64"
      ]
     },
     "execution_count": 131,
     "metadata": {},
     "output_type": "execute_result"
    }
   ],
   "source": [
    "df.groupby(df.Year==2009).Topic.value_counts(sort=False)"
   ]
  },
  {
   "cell_type": "markdown",
   "metadata": {},
   "source": [
    "Initial values for patent share are given "
   ]
  },
  {
   "cell_type": "code",
   "execution_count": 135,
   "metadata": {},
   "outputs": [
    {
     "data": {
      "text/plain": [
       "Year   Topic \n",
       "False  topic1    0.333005\n",
       "       topic2    0.159196\n",
       "       topic3    0.149197\n",
       "       topic4    0.143059\n",
       "       topic5    0.130307\n",
       "       topic6    0.070776\n",
       "       topic7    0.010106\n",
       "       topic8    0.004353\n",
       "True   topic1    0.331913\n",
       "       topic2    0.185136\n",
       "       topic3    0.123601\n",
       "       topic4    0.203250\n",
       "       topic5    0.087373\n",
       "       topic6    0.050879\n",
       "       topic7    0.013586\n",
       "       topic8    0.004262\n",
       "Name: Topic, dtype: float64"
      ]
     },
     "execution_count": 135,
     "metadata": {},
     "output_type": "execute_result"
    }
   ],
   "source": [
    "df.groupby(df.Year==2009).Topic.value_counts(normalize=True,sort=False)"
   ]
  },
  {
   "cell_type": "markdown",
   "metadata": {},
   "source": [
    "**For 2013**"
   ]
  },
  {
   "cell_type": "code",
   "execution_count": 132,
   "metadata": {},
   "outputs": [
    {
     "data": {
      "text/plain": [
       "4247"
      ]
     },
     "execution_count": 132,
     "metadata": {},
     "output_type": "execute_result"
    }
   ],
   "source": [
    "len(df[df.Year== 2013])"
   ]
  },
  {
   "cell_type": "code",
   "execution_count": 133,
   "metadata": {},
   "outputs": [
    {
     "data": {
      "text/plain": [
       "Year   Topic \n",
       "False  topic1    21227\n",
       "       topic2    10334\n",
       "       topic3     9781\n",
       "       topic4     9142\n",
       "       topic5     8412\n",
       "       topic6     4656\n",
       "       topic7      678\n",
       "       topic8      285\n",
       "True   topic1     1667\n",
       "       topic2      710\n",
       "       topic3      382\n",
       "       topic4      921\n",
       "       topic5      387\n",
       "       topic6      136\n",
       "       topic7       30\n",
       "       topic8       14\n",
       "Name: Topic, dtype: int64"
      ]
     },
     "execution_count": 133,
     "metadata": {},
     "output_type": "execute_result"
    }
   ],
   "source": [
    "df.groupby(df.Year==2013).Topic.value_counts(sort=False)"
   ]
  },
  {
   "cell_type": "code",
   "execution_count": 134,
   "metadata": {},
   "outputs": [
    {
     "data": {
      "text/plain": [
       "Year   Topic \n",
       "False  topic1    0.329024\n",
       "       topic2    0.160180\n",
       "       topic3    0.151608\n",
       "       topic4    0.141703\n",
       "       topic5    0.130388\n",
       "       topic6    0.072169\n",
       "       topic7    0.010509\n",
       "       topic8    0.004418\n",
       "True   topic1    0.392512\n",
       "       topic2    0.167177\n",
       "       topic3    0.089946\n",
       "       topic4    0.216859\n",
       "       topic5    0.091123\n",
       "       topic6    0.032023\n",
       "       topic7    0.007064\n",
       "       topic8    0.003296\n",
       "Name: Topic, dtype: float64"
      ]
     },
     "execution_count": 134,
     "metadata": {},
     "output_type": "execute_result"
    }
   ],
   "source": [
    "df.groupby(df.Year==2013).Topic.value_counts(normalize=True, sort=False)"
   ]
  },
  {
   "cell_type": "markdown",
   "metadata": {},
   "source": [
    "### Calculate for period 2008-2012"
   ]
  },
  {
   "cell_type": "markdown",
   "metadata": {},
   "source": [
    "**Patent share for 2010 being standard year**"
   ]
  },
  {
   "cell_type": "code",
   "execution_count": 136,
   "metadata": {},
   "outputs": [
    {
     "data": {
      "text/plain": [
       "4659"
      ]
     },
     "execution_count": 136,
     "metadata": {},
     "output_type": "execute_result"
    }
   ],
   "source": [
    "# How many patents we had in year 2010\n",
    "len(df[df.Year==2010])"
   ]
  },
  {
   "cell_type": "code",
   "execution_count": 138,
   "metadata": {},
   "outputs": [
    {
     "data": {
      "text/plain": [
       "Year   Topic \n",
       "False  topic1    21155\n",
       "       topic2    10356\n",
       "       topic3     9616\n",
       "       topic4     9144\n",
       "       topic5     8347\n",
       "       topic6     4528\n",
       "       topic7      680\n",
       "       topic8      277\n",
       "True   topic1     1739\n",
       "       topic2      688\n",
       "       topic3      547\n",
       "       topic4      919\n",
       "       topic5      452\n",
       "       topic6      264\n",
       "       topic7       28\n",
       "       topic8       22\n",
       "Name: Topic, dtype: int64"
      ]
     },
     "execution_count": 138,
     "metadata": {},
     "output_type": "execute_result"
    }
   ],
   "source": [
    "# start with 2010 as of base year\n",
    "df.groupby(df.Year==2010).Topic.value_counts(sort=False)"
   ]
  },
  {
   "cell_type": "code",
   "execution_count": 139,
   "metadata": {},
   "outputs": [
    {
     "data": {
      "text/plain": [
       "Year   Topic \n",
       "False  topic1    0.330016\n",
       "       topic2    0.161553\n",
       "       topic3    0.150009\n",
       "       topic4    0.142645\n",
       "       topic5    0.130212\n",
       "       topic6    0.070636\n",
       "       topic7    0.010608\n",
       "       topic8    0.004321\n",
       "True   topic1    0.373256\n",
       "       topic2    0.147671\n",
       "       topic3    0.117407\n",
       "       topic4    0.197253\n",
       "       topic5    0.097017\n",
       "       topic6    0.056665\n",
       "       topic7    0.006010\n",
       "       topic8    0.004722\n",
       "Name: Topic, dtype: float64"
      ]
     },
     "execution_count": 139,
     "metadata": {},
     "output_type": "execute_result"
    }
   ],
   "source": [
    "# start with 2010 as of base year\n",
    "df.groupby(df.Year==2010).Topic.value_counts(sort=False, normalize=True)"
   ]
  },
  {
   "cell_type": "markdown",
   "metadata": {},
   "source": [
    "**Now CGAR**\n",
    "\n",
    "From year 2008-2012"
   ]
  },
  {
   "cell_type": "code",
   "execution_count": 140,
   "metadata": {},
   "outputs": [
    {
     "data": {
      "text/plain": [
       "3259"
      ]
     },
     "execution_count": 140,
     "metadata": {},
     "output_type": "execute_result"
    }
   ],
   "source": [
    "len(df[df.Year== 2008])"
   ]
  },
  {
   "cell_type": "code",
   "execution_count": 141,
   "metadata": {},
   "outputs": [
    {
     "data": {
      "text/plain": [
       "Year   Topic \n",
       "False  topic1    21877\n",
       "       topic2    10534\n",
       "       topic3     9646\n",
       "       topic4     9540\n",
       "       topic5     8408\n",
       "       topic6     4525\n",
       "       topic7      687\n",
       "       topic8      286\n",
       "True   topic1     1017\n",
       "       topic2      510\n",
       "       topic3      517\n",
       "       topic4      523\n",
       "       topic5      391\n",
       "       topic6      267\n",
       "       topic7       21\n",
       "       topic8       13\n",
       "Name: Topic, dtype: int64"
      ]
     },
     "execution_count": 141,
     "metadata": {},
     "output_type": "execute_result"
    }
   ],
   "source": [
    "df.groupby(df.Year==2008).Topic.value_counts(sort=False)"
   ]
  },
  {
   "cell_type": "code",
   "execution_count": 142,
   "metadata": {},
   "outputs": [
    {
     "data": {
      "text/plain": [
       "Year   Topic \n",
       "False  topic1    0.333985\n",
       "       topic2    0.160817\n",
       "       topic3    0.147260\n",
       "       topic4    0.145642\n",
       "       topic5    0.128361\n",
       "       topic6    0.069081\n",
       "       topic7    0.010488\n",
       "       topic8    0.004366\n",
       "True   topic1    0.312059\n",
       "       topic2    0.156490\n",
       "       topic3    0.158638\n",
       "       topic4    0.160479\n",
       "       topic5    0.119975\n",
       "       topic6    0.081927\n",
       "       topic7    0.006444\n",
       "       topic8    0.003989\n",
       "Name: Topic, dtype: float64"
      ]
     },
     "execution_count": 142,
     "metadata": {},
     "output_type": "execute_result"
    }
   ],
   "source": [
    "df.groupby(df.Year==2008).Topic.value_counts(sort=False,normalize=True)"
   ]
  },
  {
   "cell_type": "markdown",
   "metadata": {},
   "source": [
    "**For year 2012**"
   ]
  },
  {
   "cell_type": "code",
   "execution_count": 143,
   "metadata": {},
   "outputs": [
    {
     "data": {
      "text/plain": [
       "5242"
      ]
     },
     "execution_count": 143,
     "metadata": {},
     "output_type": "execute_result"
    }
   ],
   "source": [
    "len(df[df.Year== 2012])"
   ]
  },
  {
   "cell_type": "code",
   "execution_count": 144,
   "metadata": {},
   "outputs": [
    {
     "data": {
      "text/plain": [
       "Year   Topic \n",
       "False  topic1    20966\n",
       "       topic2    10151\n",
       "       topic3     9648\n",
       "       topic4     8990\n",
       "       topic5     8336\n",
       "       topic6     4486\n",
       "       topic7      661\n",
       "       topic8      282\n",
       "True   topic1     1928\n",
       "       topic2      893\n",
       "       topic3      515\n",
       "       topic4     1073\n",
       "       topic5      463\n",
       "       topic6      306\n",
       "       topic7       47\n",
       "       topic8       17\n",
       "Name: Topic, dtype: int64"
      ]
     },
     "execution_count": 144,
     "metadata": {},
     "output_type": "execute_result"
    }
   ],
   "source": [
    "df.groupby(df.Year==2012).Topic.value_counts(sort=False)"
   ]
  },
  {
   "cell_type": "code",
   "execution_count": 145,
   "metadata": {},
   "outputs": [
    {
     "data": {
      "text/plain": [
       "Year   Topic \n",
       "False  topic1    0.330069\n",
       "       topic2    0.159808\n",
       "       topic3    0.151889\n",
       "       topic4    0.141530\n",
       "       topic5    0.131234\n",
       "       topic6    0.070623\n",
       "       topic7    0.010406\n",
       "       topic8    0.004440\n",
       "True   topic1    0.367799\n",
       "       topic2    0.170355\n",
       "       topic3    0.098245\n",
       "       topic4    0.204693\n",
       "       topic5    0.088325\n",
       "       topic6    0.058375\n",
       "       topic7    0.008966\n",
       "       topic8    0.003243\n",
       "Name: Topic, dtype: float64"
      ]
     },
     "execution_count": 145,
     "metadata": {},
     "output_type": "execute_result"
    }
   ],
   "source": [
    "df.groupby(df.Year==2012).Topic.value_counts(sort=False,normalize=True)"
   ]
  },
  {
   "cell_type": "markdown",
   "metadata": {},
   "source": [
    "# 4)-Adding topic types as per topic\n",
    "\n",
    "Table 6: Major assignee by topic type"
   ]
  },
  {
   "cell_type": "code",
   "execution_count": 146,
   "metadata": {},
   "outputs": [],
   "source": [
    "df = pd.read_pickle('work_on_paper.pkl')"
   ]
  },
  {
   "cell_type": "code",
   "execution_count": 147,
   "metadata": {
    "scrolled": true
   },
   "outputs": [
    {
     "data": {
      "text/html": [
       "<div>\n",
       "<style scoped>\n",
       "    .dataframe tbody tr th:only-of-type {\n",
       "        vertical-align: middle;\n",
       "    }\n",
       "\n",
       "    .dataframe tbody tr th {\n",
       "        vertical-align: top;\n",
       "    }\n",
       "\n",
       "    .dataframe thead th {\n",
       "        text-align: right;\n",
       "    }\n",
       "</style>\n",
       "<table border=\"1\" class=\"dataframe\">\n",
       "  <thead>\n",
       "    <tr style=\"text-align: right;\">\n",
       "      <th></th>\n",
       "      <th>Topic_Perc_Contrib</th>\n",
       "      <th>Keywords</th>\n",
       "      <th>Assignee</th>\n",
       "      <th>Year</th>\n",
       "      <th>Abstract</th>\n",
       "      <th>Topic</th>\n",
       "    </tr>\n",
       "  </thead>\n",
       "  <tbody>\n",
       "    <tr>\n",
       "      <th>0</th>\n",
       "      <td>0.3972</td>\n",
       "      <td>charge, battery, module, power, voltage, elect...</td>\n",
       "      <td>luz electric fuel israel ltd</td>\n",
       "      <td>1990.0</td>\n",
       "      <td>An electrical energy system including an elect...</td>\n",
       "      <td>topic4</td>\n",
       "    </tr>\n",
       "    <tr>\n",
       "      <th>1</th>\n",
       "      <td>0.8034</td>\n",
       "      <td>charge, battery, module, power, voltage, elect...</td>\n",
       "      <td>luz electric fuel israel ltd</td>\n",
       "      <td>1990.0</td>\n",
       "      <td>An electrical energy system including an elect...</td>\n",
       "      <td>topic4</td>\n",
       "    </tr>\n",
       "    <tr>\n",
       "      <th>2</th>\n",
       "      <td>0.4070</td>\n",
       "      <td>oil, pressure, valve, fuel, air, pump, gas, ex...</td>\n",
       "      <td>sumitomo electric industries ltd</td>\n",
       "      <td>1995.0</td>\n",
       "      <td>An object is to provide a particulate trap for...</td>\n",
       "      <td>topic3</td>\n",
       "    </tr>\n",
       "    <tr>\n",
       "      <th>3</th>\n",
       "      <td>0.3697</td>\n",
       "      <td>gear, shaft, first, second, motor, connect, si...</td>\n",
       "      <td>sumitomo electric ind ltd</td>\n",
       "      <td>1995.0</td>\n",
       "      <td>PURPOSE: To obtain a trap by which the leakage...</td>\n",
       "      <td>topic2</td>\n",
       "    </tr>\n",
       "    <tr>\n",
       "      <th>4</th>\n",
       "      <td>0.3872</td>\n",
       "      <td>gear, shaft, first, second, motor, connect, si...</td>\n",
       "      <td>sumitomo electric industries ltd</td>\n",
       "      <td>1995.0</td>\n",
       "      <td>A particulate trap for a diesel engine designe...</td>\n",
       "      <td>topic2</td>\n",
       "    </tr>\n",
       "  </tbody>\n",
       "</table>\n",
       "</div>"
      ],
      "text/plain": [
       "   Topic_Perc_Contrib                                           Keywords  \\\n",
       "0              0.3972  charge, battery, module, power, voltage, elect...   \n",
       "1              0.8034  charge, battery, module, power, voltage, elect...   \n",
       "2              0.4070  oil, pressure, valve, fuel, air, pump, gas, ex...   \n",
       "3              0.3697  gear, shaft, first, second, motor, connect, si...   \n",
       "4              0.3872  gear, shaft, first, second, motor, connect, si...   \n",
       "\n",
       "                           Assignee    Year  \\\n",
       "0      luz electric fuel israel ltd  1990.0   \n",
       "1      luz electric fuel israel ltd  1990.0   \n",
       "2  sumitomo electric industries ltd  1995.0   \n",
       "3         sumitomo electric ind ltd  1995.0   \n",
       "4  sumitomo electric industries ltd  1995.0   \n",
       "\n",
       "                                            Abstract   Topic  \n",
       "0  An electrical energy system including an elect...  topic4  \n",
       "1  An electrical energy system including an elect...  topic4  \n",
       "2  An object is to provide a particulate trap for...  topic3  \n",
       "3  PURPOSE: To obtain a trap by which the leakage...  topic2  \n",
       "4  A particulate trap for a diesel engine designe...  topic2  "
      ]
     },
     "execution_count": 147,
     "metadata": {},
     "output_type": "execute_result"
    }
   ],
   "source": [
    "df.head()"
   ]
  },
  {
   "cell_type": "markdown",
   "metadata": {},
   "source": [
    "### a)Adding 4 main tech types to dataframe\n",
    "emerging, saturated, decline,dominant"
   ]
  },
  {
   "cell_type": "code",
   "execution_count": 172,
   "metadata": {},
   "outputs": [],
   "source": [
    "df['tech_type']=df.Topic.map({'topic5':'emerging', 'topic1':'dominant', 'topic4': 'dominant', 'topic6':'decline','topic7':'decline', 'topic8':'decline','topic2': 'saturate', 'topic3':'saturate'})"
   ]
  },
  {
   "cell_type": "code",
   "execution_count": 173,
   "metadata": {},
   "outputs": [
    {
     "data": {
      "text/plain": [
       "dominant    32957\n",
       "saturate    21207\n",
       "emerging     8799\n",
       "decline      5799\n",
       "Name: tech_type, dtype: int64"
      ]
     },
     "execution_count": 173,
     "metadata": {},
     "output_type": "execute_result"
    }
   ],
   "source": [
    "df.tech_type.value_counts()"
   ]
  },
  {
   "cell_type": "code",
   "execution_count": 174,
   "metadata": {},
   "outputs": [
    {
     "data": {
      "text/html": [
       "<div>\n",
       "<style scoped>\n",
       "    .dataframe tbody tr th:only-of-type {\n",
       "        vertical-align: middle;\n",
       "    }\n",
       "\n",
       "    .dataframe tbody tr th {\n",
       "        vertical-align: top;\n",
       "    }\n",
       "\n",
       "    .dataframe thead th {\n",
       "        text-align: right;\n",
       "    }\n",
       "</style>\n",
       "<table border=\"1\" class=\"dataframe\">\n",
       "  <thead>\n",
       "    <tr style=\"text-align: right;\">\n",
       "      <th></th>\n",
       "      <th>Topic_Perc_Contrib</th>\n",
       "      <th>Keywords</th>\n",
       "      <th>Assignee</th>\n",
       "      <th>Year</th>\n",
       "      <th>Abstract</th>\n",
       "      <th>Topic</th>\n",
       "      <th>tech_type</th>\n",
       "    </tr>\n",
       "  </thead>\n",
       "  <tbody>\n",
       "    <tr>\n",
       "      <th>0</th>\n",
       "      <td>0.3972</td>\n",
       "      <td>charge, battery, module, power, voltage, elect...</td>\n",
       "      <td>luz electric fuel israel ltd</td>\n",
       "      <td>1990.0</td>\n",
       "      <td>An electrical energy system including an elect...</td>\n",
       "      <td>topic4</td>\n",
       "      <td>dominant</td>\n",
       "    </tr>\n",
       "    <tr>\n",
       "      <th>1</th>\n",
       "      <td>0.8034</td>\n",
       "      <td>charge, battery, module, power, voltage, elect...</td>\n",
       "      <td>luz electric fuel israel ltd</td>\n",
       "      <td>1990.0</td>\n",
       "      <td>An electrical energy system including an elect...</td>\n",
       "      <td>topic4</td>\n",
       "      <td>dominant</td>\n",
       "    </tr>\n",
       "    <tr>\n",
       "      <th>2</th>\n",
       "      <td>0.4070</td>\n",
       "      <td>oil, pressure, valve, fuel, air, pump, gas, ex...</td>\n",
       "      <td>sumitomo electric industries ltd</td>\n",
       "      <td>1995.0</td>\n",
       "      <td>An object is to provide a particulate trap for...</td>\n",
       "      <td>topic3</td>\n",
       "      <td>saturate</td>\n",
       "    </tr>\n",
       "    <tr>\n",
       "      <th>3</th>\n",
       "      <td>0.3697</td>\n",
       "      <td>gear, shaft, first, second, motor, connect, si...</td>\n",
       "      <td>sumitomo electric ind ltd</td>\n",
       "      <td>1995.0</td>\n",
       "      <td>PURPOSE: To obtain a trap by which the leakage...</td>\n",
       "      <td>topic2</td>\n",
       "      <td>saturate</td>\n",
       "    </tr>\n",
       "    <tr>\n",
       "      <th>4</th>\n",
       "      <td>0.3872</td>\n",
       "      <td>gear, shaft, first, second, motor, connect, si...</td>\n",
       "      <td>sumitomo electric industries ltd</td>\n",
       "      <td>1995.0</td>\n",
       "      <td>A particulate trap for a diesel engine designe...</td>\n",
       "      <td>topic2</td>\n",
       "      <td>saturate</td>\n",
       "    </tr>\n",
       "  </tbody>\n",
       "</table>\n",
       "</div>"
      ],
      "text/plain": [
       "   Topic_Perc_Contrib                                           Keywords  \\\n",
       "0              0.3972  charge, battery, module, power, voltage, elect...   \n",
       "1              0.8034  charge, battery, module, power, voltage, elect...   \n",
       "2              0.4070  oil, pressure, valve, fuel, air, pump, gas, ex...   \n",
       "3              0.3697  gear, shaft, first, second, motor, connect, si...   \n",
       "4              0.3872  gear, shaft, first, second, motor, connect, si...   \n",
       "\n",
       "                           Assignee    Year  \\\n",
       "0      luz electric fuel israel ltd  1990.0   \n",
       "1      luz electric fuel israel ltd  1990.0   \n",
       "2  sumitomo electric industries ltd  1995.0   \n",
       "3         sumitomo electric ind ltd  1995.0   \n",
       "4  sumitomo electric industries ltd  1995.0   \n",
       "\n",
       "                                            Abstract   Topic tech_type  \n",
       "0  An electrical energy system including an elect...  topic4  dominant  \n",
       "1  An electrical energy system including an elect...  topic4  dominant  \n",
       "2  An object is to provide a particulate trap for...  topic3  saturate  \n",
       "3  PURPOSE: To obtain a trap by which the leakage...  topic2  saturate  \n",
       "4  A particulate trap for a diesel engine designe...  topic2  saturate  "
      ]
     },
     "execution_count": 174,
     "metadata": {},
     "output_type": "execute_result"
    }
   ],
   "source": [
    "df.head()"
   ]
  },
  {
   "cell_type": "code",
   "execution_count": 175,
   "metadata": {},
   "outputs": [],
   "source": [
    "df.to_pickle('tech_type_per_topic.pkl')"
   ]
  },
  {
   "cell_type": "markdown",
   "metadata": {},
   "source": [
    "### b)- Wordcloud key words in all tech-topics"
   ]
  },
  {
   "cell_type": "markdown",
   "metadata": {},
   "source": [
    "# 5- Figure 6. Major assignees by topic types. \n",
    "\n",
    "Adding technology types"
   ]
  },
  {
   "cell_type": "code",
   "execution_count": 176,
   "metadata": {},
   "outputs": [
    {
     "data": {
      "text/plain": [
       "Counter({'dominant': 32957,\n",
       "         'saturate': 21207,\n",
       "         'emerging': 8799,\n",
       "         'decline': 5799})"
      ]
     },
     "execution_count": 176,
     "metadata": {},
     "output_type": "execute_result"
    }
   ],
   "source": [
    "from collections import Counter\n",
    "Counter(df.tech_type)"
   ]
  },
  {
   "cell_type": "code",
   "execution_count": 177,
   "metadata": {},
   "outputs": [],
   "source": [
    "company=df.groupby(df.tech_type).Assignee.value_counts(dropna=True, sort=True)"
   ]
  },
  {
   "cell_type": "code",
   "execution_count": 178,
   "metadata": {},
   "outputs": [
    {
     "data": {
      "text/html": [
       "<div>\n",
       "<style scoped>\n",
       "    .dataframe tbody tr th:only-of-type {\n",
       "        vertical-align: middle;\n",
       "    }\n",
       "\n",
       "    .dataframe tbody tr th {\n",
       "        vertical-align: top;\n",
       "    }\n",
       "\n",
       "    .dataframe thead th {\n",
       "        text-align: right;\n",
       "    }\n",
       "</style>\n",
       "<table border=\"1\" class=\"dataframe\">\n",
       "  <thead>\n",
       "    <tr style=\"text-align: right;\">\n",
       "      <th></th>\n",
       "      <th></th>\n",
       "      <th>Assignee</th>\n",
       "    </tr>\n",
       "    <tr>\n",
       "      <th>tech_type</th>\n",
       "      <th>Assignee</th>\n",
       "      <th></th>\n",
       "    </tr>\n",
       "  </thead>\n",
       "  <tbody>\n",
       "    <tr>\n",
       "      <th rowspan=\"30\" valign=\"top\">decline</th>\n",
       "      <th>toyota motor corp</th>\n",
       "      <td>418</td>\n",
       "    </tr>\n",
       "    <tr>\n",
       "      <th>honda motor co ltd</th>\n",
       "      <td>254</td>\n",
       "    </tr>\n",
       "    <tr>\n",
       "      <th>hyundai motor co ltd</th>\n",
       "      <td>236</td>\n",
       "    </tr>\n",
       "    <tr>\n",
       "      <th>nissan motor co ltd</th>\n",
       "      <td>183</td>\n",
       "    </tr>\n",
       "    <tr>\n",
       "      <th>renault sas</th>\n",
       "      <td>76</td>\n",
       "    </tr>\n",
       "    <tr>\n",
       "      <th>samsung sdi co ltd</th>\n",
       "      <td>72</td>\n",
       "    </tr>\n",
       "    <tr>\n",
       "      <th>suzuki motor corp</th>\n",
       "      <td>67</td>\n",
       "    </tr>\n",
       "    <tr>\n",
       "      <th>ford global technologies inc</th>\n",
       "      <td>63</td>\n",
       "    </tr>\n",
       "    <tr>\n",
       "      <th>general motors corporation</th>\n",
       "      <td>58</td>\n",
       "    </tr>\n",
       "    <tr>\n",
       "      <th>bosch corp</th>\n",
       "      <td>53</td>\n",
       "    </tr>\n",
       "    <tr>\n",
       "      <th>peugeot citroen automobiles</th>\n",
       "      <td>50</td>\n",
       "    </tr>\n",
       "    <tr>\n",
       "      <th>sony corporation</th>\n",
       "      <td>46</td>\n",
       "    </tr>\n",
       "    <tr>\n",
       "      <th>denso corp</th>\n",
       "      <td>44</td>\n",
       "    </tr>\n",
       "    <tr>\n",
       "      <th>matsushita electric industrial co ltd</th>\n",
       "      <td>36</td>\n",
       "    </tr>\n",
       "    <tr>\n",
       "      <th>daewoo shipbuilding &amp; marine engineering co ltd</th>\n",
       "      <td>35</td>\n",
       "    </tr>\n",
       "    <tr>\n",
       "      <th>hitachi ltd</th>\n",
       "      <td>35</td>\n",
       "    </tr>\n",
       "    <tr>\n",
       "      <th>societe bic</th>\n",
       "      <td>34</td>\n",
       "    </tr>\n",
       "    <tr>\n",
       "      <th>daimlerchrysler ag</th>\n",
       "      <td>33</td>\n",
       "    </tr>\n",
       "    <tr>\n",
       "      <th>sony corp</th>\n",
       "      <td>27</td>\n",
       "    </tr>\n",
       "    <tr>\n",
       "      <th>yamaha motor co ltd</th>\n",
       "      <td>25</td>\n",
       "    </tr>\n",
       "    <tr>\n",
       "      <th>bmw ag</th>\n",
       "      <td>21</td>\n",
       "    </tr>\n",
       "    <tr>\n",
       "      <th>afton chemical corporation</th>\n",
       "      <td>20</td>\n",
       "    </tr>\n",
       "    <tr>\n",
       "      <th>seiko epson corporation</th>\n",
       "      <td>20</td>\n",
       "    </tr>\n",
       "    <tr>\n",
       "      <th>saudi arabian oil company</th>\n",
       "      <td>18</td>\n",
       "    </tr>\n",
       "    <tr>\n",
       "      <th>volkswagen group</th>\n",
       "      <td>18</td>\n",
       "    </tr>\n",
       "    <tr>\n",
       "      <th>nippon shokubai co ltd</th>\n",
       "      <td>17</td>\n",
       "    </tr>\n",
       "    <tr>\n",
       "      <th>shell internationale research maatschappij bv</th>\n",
       "      <td>17</td>\n",
       "    </tr>\n",
       "    <tr>\n",
       "      <th>the lubrizol corporation</th>\n",
       "      <td>17</td>\n",
       "    </tr>\n",
       "    <tr>\n",
       "      <th>mitsubishi heavy ind ltd</th>\n",
       "      <td>16</td>\n",
       "    </tr>\n",
       "    <tr>\n",
       "      <th>reveo inc</th>\n",
       "      <td>16</td>\n",
       "    </tr>\n",
       "    <tr>\n",
       "      <th>...</th>\n",
       "      <th>...</th>\n",
       "      <td>...</td>\n",
       "    </tr>\n",
       "    <tr>\n",
       "      <th rowspan=\"30\" valign=\"top\">saturate</th>\n",
       "      <th>zhou; shijian</th>\n",
       "      <td>1</td>\n",
       "    </tr>\n",
       "    <tr>\n",
       "      <th>zhu chongfang</th>\n",
       "      <td>1</td>\n",
       "    </tr>\n",
       "    <tr>\n",
       "      <th>zhu fumin</th>\n",
       "      <td>1</td>\n",
       "    </tr>\n",
       "    <tr>\n",
       "      <th>zhu fuyuan</th>\n",
       "      <td>1</td>\n",
       "    </tr>\n",
       "    <tr>\n",
       "      <th>zhu huachun</th>\n",
       "      <td>1</td>\n",
       "    </tr>\n",
       "    <tr>\n",
       "      <th>zhu jiang</th>\n",
       "      <td>1</td>\n",
       "    </tr>\n",
       "    <tr>\n",
       "      <th>zhu linbo</th>\n",
       "      <td>1</td>\n",
       "    </tr>\n",
       "    <tr>\n",
       "      <th>zhu mingzhong</th>\n",
       "      <td>1</td>\n",
       "    </tr>\n",
       "    <tr>\n",
       "      <th>zhu yuhai</th>\n",
       "      <td>1</td>\n",
       "    </tr>\n",
       "    <tr>\n",
       "      <th>zhu ziming</th>\n",
       "      <td>1</td>\n",
       "    </tr>\n",
       "    <tr>\n",
       "      <th>zhucheng new oriental auto meters co ltd</th>\n",
       "      <td>1</td>\n",
       "    </tr>\n",
       "    <tr>\n",
       "      <th>zhuhai yintong aviation supplies coltd</th>\n",
       "      <td>1</td>\n",
       "    </tr>\n",
       "    <tr>\n",
       "      <th>zhukov oleg vladimirovich</th>\n",
       "      <td>1</td>\n",
       "    </tr>\n",
       "    <tr>\n",
       "      <th>zhuo honger</th>\n",
       "      <td>1</td>\n",
       "    </tr>\n",
       "    <tr>\n",
       "      <th>ziegler ralf</th>\n",
       "      <td>1</td>\n",
       "    </tr>\n",
       "    <tr>\n",
       "      <th>zigong city natural-gas automobile inst</th>\n",
       "      <td>1</td>\n",
       "    </tr>\n",
       "    <tr>\n",
       "      <th>zillmer michael</th>\n",
       "      <td>1</td>\n",
       "    </tr>\n",
       "    <tr>\n",
       "      <th>zips alf</th>\n",
       "      <td>1</td>\n",
       "    </tr>\n",
       "    <tr>\n",
       "      <th>zodiac international</th>\n",
       "      <td>1</td>\n",
       "    </tr>\n",
       "    <tr>\n",
       "      <th>zoeller herbert</th>\n",
       "      <td>1</td>\n",
       "    </tr>\n",
       "    <tr>\n",
       "      <th>zonov valerij mikhajlovich</th>\n",
       "      <td>1</td>\n",
       "    </tr>\n",
       "    <tr>\n",
       "      <th>zoomlion environmental sanitation machinery company</th>\n",
       "      <td>1</td>\n",
       "    </tr>\n",
       "    <tr>\n",
       "      <th>zoomlion heavy industry science &amp; technology development co ltd</th>\n",
       "      <td>1</td>\n",
       "    </tr>\n",
       "    <tr>\n",
       "      <th>zotye new energy automobile co ltd</th>\n",
       "      <td>1</td>\n",
       "    </tr>\n",
       "    <tr>\n",
       "      <th>zou deqiang</th>\n",
       "      <td>1</td>\n",
       "    </tr>\n",
       "    <tr>\n",
       "      <th>zovanija kabardino-balkarskoj respubliki</th>\n",
       "      <td>1</td>\n",
       "    </tr>\n",
       "    <tr>\n",
       "      <th>zt yupin technology co ltd</th>\n",
       "      <td>1</td>\n",
       "    </tr>\n",
       "    <tr>\n",
       "      <th>zunyi tianyi liwei electrical co ltd</th>\n",
       "      <td>1</td>\n",
       "    </tr>\n",
       "    <tr>\n",
       "      <th>zwimpfer markus</th>\n",
       "      <td>1</td>\n",
       "    </tr>\n",
       "    <tr>\n",
       "      <th>české vysoké učení technické v praze fakulta strojní centrum kompetence automobilového průmyslu josefa božka</th>\n",
       "      <td>1</td>\n",
       "    </tr>\n",
       "  </tbody>\n",
       "</table>\n",
       "<p>15830 rows × 1 columns</p>\n",
       "</div>"
      ],
      "text/plain": [
       "                                                              Assignee\n",
       "tech_type Assignee                                                    \n",
       "decline   toyota motor corp                                        418\n",
       "          honda motor co ltd                                       254\n",
       "          hyundai motor co ltd                                     236\n",
       "          nissan motor co ltd                                      183\n",
       "          renault sas                                               76\n",
       "          samsung sdi co ltd                                        72\n",
       "          suzuki motor corp                                         67\n",
       "          ford global technologies inc                              63\n",
       "          general motors corporation                                58\n",
       "          bosch corp                                                53\n",
       "          peugeot citroen automobiles                               50\n",
       "          sony corporation                                          46\n",
       "          denso corp                                                44\n",
       "          matsushita electric industrial co ltd                     36\n",
       "          daewoo shipbuilding & marine engineering co ltd           35\n",
       "          hitachi ltd                                               35\n",
       "          societe bic                                               34\n",
       "          daimlerchrysler ag                                        33\n",
       "          sony corp                                                 27\n",
       "          yamaha motor co ltd                                       25\n",
       "          bmw ag                                                    21\n",
       "          afton chemical corporation                                20\n",
       "          seiko epson corporation                                   20\n",
       "          saudi arabian oil company                                 18\n",
       "          volkswagen group                                          18\n",
       "          nippon shokubai co ltd                                    17\n",
       "          shell internationale research maatschappij bv             17\n",
       "          the lubrizol corporation                                  17\n",
       "          mitsubishi heavy ind ltd                                  16\n",
       "          reveo inc                                                 16\n",
       "...                                                                ...\n",
       "saturate  zhou; shijian                                              1\n",
       "          zhu chongfang                                              1\n",
       "          zhu fumin                                                  1\n",
       "          zhu fuyuan                                                 1\n",
       "          zhu huachun                                                1\n",
       "          zhu jiang                                                  1\n",
       "          zhu linbo                                                  1\n",
       "          zhu mingzhong                                              1\n",
       "          zhu yuhai                                                  1\n",
       "          zhu ziming                                                 1\n",
       "          zhucheng new oriental auto meters co ltd                   1\n",
       "          zhuhai yintong aviation supplies coltd                     1\n",
       "          zhukov oleg vladimirovich                                  1\n",
       "          zhuo honger                                                1\n",
       "          ziegler ralf                                               1\n",
       "          zigong city natural-gas automobile inst                    1\n",
       "          zillmer michael                                            1\n",
       "          zips alf                                                   1\n",
       "          zodiac international                                       1\n",
       "          zoeller herbert                                            1\n",
       "          zonov valerij mikhajlovich                                 1\n",
       "          zoomlion environmental sanitation machinery com...         1\n",
       "          zoomlion heavy industry science & technology de...         1\n",
       "          zotye new energy automobile co ltd                         1\n",
       "          zou deqiang                                                1\n",
       "          zovanija kabardino-balkarskoj respubliki                   1\n",
       "          zt yupin technology co ltd                                 1\n",
       "          zunyi tianyi liwei electrical co ltd                       1\n",
       "          zwimpfer markus                                            1\n",
       "          české vysoké učení technické v praze fakulta st...         1\n",
       "\n",
       "[15830 rows x 1 columns]"
      ]
     },
     "execution_count": 178,
     "metadata": {},
     "output_type": "execute_result"
    }
   ],
   "source": [
    "df_company = pd.DataFrame(company)\n",
    "df_company"
   ]
  },
  {
   "cell_type": "markdown",
   "metadata": {},
   "source": [
    "### For a specific \"tech_type\" listing wrt firms"
   ]
  },
  {
   "cell_type": "code",
   "execution_count": 179,
   "metadata": {},
   "outputs": [],
   "source": [
    "topic_firm=df.groupby([df['tech_type']=='decline']).Assignee.value_counts(dropna=True, sort=True)"
   ]
  },
  {
   "cell_type": "code",
   "execution_count": 180,
   "metadata": {},
   "outputs": [
    {
     "data": {
      "text/html": [
       "<div>\n",
       "<style scoped>\n",
       "    .dataframe tbody tr th:only-of-type {\n",
       "        vertical-align: middle;\n",
       "    }\n",
       "\n",
       "    .dataframe tbody tr th {\n",
       "        vertical-align: top;\n",
       "    }\n",
       "\n",
       "    .dataframe thead th {\n",
       "        text-align: right;\n",
       "    }\n",
       "</style>\n",
       "<table border=\"1\" class=\"dataframe\">\n",
       "  <thead>\n",
       "    <tr style=\"text-align: right;\">\n",
       "      <th></th>\n",
       "      <th></th>\n",
       "      <th>Assignee</th>\n",
       "    </tr>\n",
       "    <tr>\n",
       "      <th>tech_type</th>\n",
       "      <th>Assignee</th>\n",
       "      <th></th>\n",
       "    </tr>\n",
       "  </thead>\n",
       "  <tbody>\n",
       "    <tr>\n",
       "      <th rowspan=\"30\" valign=\"top\">False</th>\n",
       "      <th>toyota motor corp</th>\n",
       "      <td>7707</td>\n",
       "    </tr>\n",
       "    <tr>\n",
       "      <th>honda motor co ltd</th>\n",
       "      <td>3723</td>\n",
       "    </tr>\n",
       "    <tr>\n",
       "      <th>bosch corp</th>\n",
       "      <td>2717</td>\n",
       "    </tr>\n",
       "    <tr>\n",
       "      <th>nissan motor co ltd</th>\n",
       "      <td>2702</td>\n",
       "    </tr>\n",
       "    <tr>\n",
       "      <th>hyundai motor co ltd</th>\n",
       "      <td>2361</td>\n",
       "    </tr>\n",
       "    <tr>\n",
       "      <th>ford global technologies inc</th>\n",
       "      <td>1750</td>\n",
       "    </tr>\n",
       "    <tr>\n",
       "      <th>mitsubishi motors corp</th>\n",
       "      <td>1401</td>\n",
       "    </tr>\n",
       "    <tr>\n",
       "      <th>denso corp</th>\n",
       "      <td>1053</td>\n",
       "    </tr>\n",
       "    <tr>\n",
       "      <th>renault sas</th>\n",
       "      <td>783</td>\n",
       "    </tr>\n",
       "    <tr>\n",
       "      <th>hitachi ltd</th>\n",
       "      <td>724</td>\n",
       "    </tr>\n",
       "    <tr>\n",
       "      <th>peugeot citroen automobiles</th>\n",
       "      <td>638</td>\n",
       "    </tr>\n",
       "    <tr>\n",
       "      <th>daimlerchrysler ag</th>\n",
       "      <td>470</td>\n",
       "    </tr>\n",
       "    <tr>\n",
       "      <th>suzuki motor corp</th>\n",
       "      <td>461</td>\n",
       "    </tr>\n",
       "    <tr>\n",
       "      <th>aisin aw co ltd</th>\n",
       "      <td>447</td>\n",
       "    </tr>\n",
       "    <tr>\n",
       "      <th>yamaha motor co ltd</th>\n",
       "      <td>441</td>\n",
       "    </tr>\n",
       "    <tr>\n",
       "      <th>general motors corporation</th>\n",
       "      <td>417</td>\n",
       "    </tr>\n",
       "    <tr>\n",
       "      <th>volkswagen group</th>\n",
       "      <td>357</td>\n",
       "    </tr>\n",
       "    <tr>\n",
       "      <th>continental automotive gmbh</th>\n",
       "      <td>308</td>\n",
       "    </tr>\n",
       "    <tr>\n",
       "      <th>isuzu motors ltd</th>\n",
       "      <td>293</td>\n",
       "    </tr>\n",
       "    <tr>\n",
       "      <th>siemens aktiengesellschaft</th>\n",
       "      <td>273</td>\n",
       "    </tr>\n",
       "    <tr>\n",
       "      <th>mazda motor corp</th>\n",
       "      <td>265</td>\n",
       "    </tr>\n",
       "    <tr>\n",
       "      <th>lsis co ltd</th>\n",
       "      <td>253</td>\n",
       "    </tr>\n",
       "    <tr>\n",
       "      <th>audi ag</th>\n",
       "      <td>217</td>\n",
       "    </tr>\n",
       "    <tr>\n",
       "      <th>bmw ag</th>\n",
       "      <td>191</td>\n",
       "    </tr>\n",
       "    <tr>\n",
       "      <th>general electric company</th>\n",
       "      <td>188</td>\n",
       "    </tr>\n",
       "    <tr>\n",
       "      <th>hitachi automotive systems ltd</th>\n",
       "      <td>188</td>\n",
       "    </tr>\n",
       "    <tr>\n",
       "      <th>fuji heavy ind ltd</th>\n",
       "      <td>168</td>\n",
       "    </tr>\n",
       "    <tr>\n",
       "      <th>hino motors ltd</th>\n",
       "      <td>163</td>\n",
       "    </tr>\n",
       "    <tr>\n",
       "      <th>daihatsu motor co ltd</th>\n",
       "      <td>148</td>\n",
       "    </tr>\n",
       "    <tr>\n",
       "      <th>beiqi foton motor co ltd</th>\n",
       "      <td>135</td>\n",
       "    </tr>\n",
       "  </tbody>\n",
       "</table>\n",
       "</div>"
      ],
      "text/plain": [
       "                                          Assignee\n",
       "tech_type Assignee                                \n",
       "False     toyota motor corp                   7707\n",
       "          honda motor co ltd                  3723\n",
       "          bosch corp                          2717\n",
       "          nissan motor co ltd                 2702\n",
       "          hyundai motor co ltd                2361\n",
       "          ford global technologies inc        1750\n",
       "          mitsubishi motors corp              1401\n",
       "          denso corp                          1053\n",
       "          renault sas                          783\n",
       "          hitachi ltd                          724\n",
       "          peugeot citroen automobiles          638\n",
       "          daimlerchrysler ag                   470\n",
       "          suzuki motor corp                    461\n",
       "          aisin aw co ltd                      447\n",
       "          yamaha motor co ltd                  441\n",
       "          general motors corporation           417\n",
       "          volkswagen group                     357\n",
       "          continental automotive gmbh          308\n",
       "          isuzu motors ltd                     293\n",
       "          siemens aktiengesellschaft           273\n",
       "          mazda motor corp                     265\n",
       "          lsis co ltd                          253\n",
       "          audi ag                              217\n",
       "          bmw ag                               191\n",
       "          general electric company             188\n",
       "          hitachi automotive systems ltd       188\n",
       "          fuji heavy ind ltd                   168\n",
       "          hino motors ltd                      163\n",
       "          daihatsu motor co ltd                148\n",
       "          beiqi foton motor co ltd             135"
      ]
     },
     "execution_count": 180,
     "metadata": {},
     "output_type": "execute_result"
    }
   ],
   "source": [
    "df_topic_firms = pd.DataFrame(topic_firm)\n",
    "df_topic_firms[:30]"
   ]
  },
  {
   "cell_type": "markdown",
   "metadata": {},
   "source": [
    "### for decline"
   ]
  },
  {
   "cell_type": "code",
   "execution_count": 181,
   "metadata": {},
   "outputs": [],
   "source": [
    "d=df\n",
    "d=d[d.tech_type==\"decline\"]"
   ]
  },
  {
   "cell_type": "code",
   "execution_count": 182,
   "metadata": {},
   "outputs": [
    {
     "data": {
      "text/plain": [
       "5799"
      ]
     },
     "execution_count": 182,
     "metadata": {},
     "output_type": "execute_result"
    }
   ],
   "source": [
    "len(d)"
   ]
  },
  {
   "cell_type": "code",
   "execution_count": 183,
   "metadata": {},
   "outputs": [
    {
     "data": {
      "text/html": [
       "<div>\n",
       "<style scoped>\n",
       "    .dataframe tbody tr th:only-of-type {\n",
       "        vertical-align: middle;\n",
       "    }\n",
       "\n",
       "    .dataframe tbody tr th {\n",
       "        vertical-align: top;\n",
       "    }\n",
       "\n",
       "    .dataframe thead th {\n",
       "        text-align: right;\n",
       "    }\n",
       "</style>\n",
       "<table border=\"1\" class=\"dataframe\">\n",
       "  <thead>\n",
       "    <tr style=\"text-align: right;\">\n",
       "      <th></th>\n",
       "      <th>Topic_Perc_Contrib</th>\n",
       "      <th>Keywords</th>\n",
       "      <th>Assignee</th>\n",
       "      <th>Year</th>\n",
       "      <th>Abstract</th>\n",
       "      <th>Topic</th>\n",
       "      <th>tech_type</th>\n",
       "    </tr>\n",
       "  </thead>\n",
       "  <tbody>\n",
       "    <tr>\n",
       "      <th>102</th>\n",
       "      <td>0.8200</td>\n",
       "      <td>cell, fuel, stack, hydrogen, water, gas, elect...</td>\n",
       "      <td>ceramic fuel cells limited</td>\n",
       "      <td>2002.0</td>\n",
       "      <td>A method for the thermal management of a fuel ...</td>\n",
       "      <td>topic6</td>\n",
       "      <td>decline</td>\n",
       "    </tr>\n",
       "    <tr>\n",
       "      <th>103</th>\n",
       "      <td>0.8200</td>\n",
       "      <td>cell, fuel, stack, hydrogen, water, gas, elect...</td>\n",
       "      <td>ceramic fuel cells limited</td>\n",
       "      <td>2002.0</td>\n",
       "      <td>A method for the thermal management of a fuel ...</td>\n",
       "      <td>topic6</td>\n",
       "      <td>decline</td>\n",
       "    </tr>\n",
       "    <tr>\n",
       "      <th>104</th>\n",
       "      <td>0.8200</td>\n",
       "      <td>cell, fuel, stack, hydrogen, water, gas, elect...</td>\n",
       "      <td>foger karl</td>\n",
       "      <td>2002.0</td>\n",
       "      <td>A method for the thermal management of a fuel ...</td>\n",
       "      <td>topic6</td>\n",
       "      <td>decline</td>\n",
       "    </tr>\n",
       "    <tr>\n",
       "      <th>124</th>\n",
       "      <td>0.3392</td>\n",
       "      <td>cell, fuel, stack, hydrogen, water, gas, elect...</td>\n",
       "      <td>bozhinov atanas k</td>\n",
       "      <td>1999.0</td>\n",
       "      <td>The fuel system is used in the operation of in...</td>\n",
       "      <td>topic6</td>\n",
       "      <td>decline</td>\n",
       "    </tr>\n",
       "    <tr>\n",
       "      <th>128</th>\n",
       "      <td>0.4150</td>\n",
       "      <td>cool, bus, heat, coolant, temperature, heating...</td>\n",
       "      <td>stefanov vladimir kh</td>\n",
       "      <td>1999.0</td>\n",
       "      <td>The gas unit is designed for motor transport v...</td>\n",
       "      <td>topic7</td>\n",
       "      <td>decline</td>\n",
       "    </tr>\n",
       "  </tbody>\n",
       "</table>\n",
       "</div>"
      ],
      "text/plain": [
       "     Topic_Perc_Contrib                                           Keywords  \\\n",
       "102              0.8200  cell, fuel, stack, hydrogen, water, gas, elect...   \n",
       "103              0.8200  cell, fuel, stack, hydrogen, water, gas, elect...   \n",
       "104              0.8200  cell, fuel, stack, hydrogen, water, gas, elect...   \n",
       "124              0.3392  cell, fuel, stack, hydrogen, water, gas, elect...   \n",
       "128              0.4150  cool, bus, heat, coolant, temperature, heating...   \n",
       "\n",
       "                       Assignee    Year  \\\n",
       "102  ceramic fuel cells limited  2002.0   \n",
       "103  ceramic fuel cells limited  2002.0   \n",
       "104                  foger karl  2002.0   \n",
       "124           bozhinov atanas k  1999.0   \n",
       "128        stefanov vladimir kh  1999.0   \n",
       "\n",
       "                                              Abstract   Topic tech_type  \n",
       "102  A method for the thermal management of a fuel ...  topic6   decline  \n",
       "103  A method for the thermal management of a fuel ...  topic6   decline  \n",
       "104  A method for the thermal management of a fuel ...  topic6   decline  \n",
       "124  The fuel system is used in the operation of in...  topic6   decline  \n",
       "128  The gas unit is designed for motor transport v...  topic7   decline  "
      ]
     },
     "execution_count": 183,
     "metadata": {},
     "output_type": "execute_result"
    }
   ],
   "source": [
    "d[:5]"
   ]
  },
  {
   "cell_type": "code",
   "execution_count": 184,
   "metadata": {},
   "outputs": [],
   "source": [
    "d=d.groupby(['Assignee']).size()"
   ]
  },
  {
   "cell_type": "code",
   "execution_count": 185,
   "metadata": {},
   "outputs": [
    {
     "data": {
      "text/plain": [
       "Assignee\n",
       "toyota motor corp               418\n",
       "honda motor co ltd              254\n",
       "hyundai motor co ltd            236\n",
       "nissan motor co ltd             183\n",
       "renault sas                      76\n",
       "samsung sdi co ltd               72\n",
       "suzuki motor corp                67\n",
       "ford global technologies inc     63\n",
       "general motors corporation       58\n",
       "bosch corp                       53\n",
       "dtype: int64"
      ]
     },
     "execution_count": 185,
     "metadata": {},
     "output_type": "execute_result"
    }
   ],
   "source": [
    "d.sort_values(ascending=False)[:10]"
   ]
  },
  {
   "cell_type": "markdown",
   "metadata": {},
   "source": [
    "**These are top 10 firms using declined technology. We know that decline technology belongs to topic0 and topic4 so, we can create figure from this information**"
   ]
  },
  {
   "cell_type": "markdown",
   "metadata": {},
   "source": [
    "### for emerging"
   ]
  },
  {
   "cell_type": "code",
   "execution_count": 186,
   "metadata": {},
   "outputs": [],
   "source": [
    "e=df\n",
    "e=e[e.tech_type==\"emerging\"]"
   ]
  },
  {
   "cell_type": "code",
   "execution_count": 187,
   "metadata": {},
   "outputs": [
    {
     "data": {
      "text/plain": [
       "8799"
      ]
     },
     "execution_count": 187,
     "metadata": {},
     "output_type": "execute_result"
    }
   ],
   "source": [
    "len(e)"
   ]
  },
  {
   "cell_type": "code",
   "execution_count": 188,
   "metadata": {},
   "outputs": [
    {
     "data": {
      "text/html": [
       "<div>\n",
       "<style scoped>\n",
       "    .dataframe tbody tr th:only-of-type {\n",
       "        vertical-align: middle;\n",
       "    }\n",
       "\n",
       "    .dataframe tbody tr th {\n",
       "        vertical-align: top;\n",
       "    }\n",
       "\n",
       "    .dataframe thead th {\n",
       "        text-align: right;\n",
       "    }\n",
       "</style>\n",
       "<table border=\"1\" class=\"dataframe\">\n",
       "  <thead>\n",
       "    <tr style=\"text-align: right;\">\n",
       "      <th></th>\n",
       "      <th>Topic_Perc_Contrib</th>\n",
       "      <th>Keywords</th>\n",
       "      <th>Assignee</th>\n",
       "      <th>Year</th>\n",
       "      <th>Abstract</th>\n",
       "      <th>Topic</th>\n",
       "      <th>tech_type</th>\n",
       "    </tr>\n",
       "  </thead>\n",
       "  <tbody>\n",
       "    <tr>\n",
       "      <th>18</th>\n",
       "      <td>0.7924</td>\n",
       "      <td>fuel, injection, catalyst, temperature, combus...</td>\n",
       "      <td>avl list gmbh</td>\n",
       "      <td>2002.0</td>\n",
       "      <td>During an idling phase, fuel is repeatedly inj...</td>\n",
       "      <td>topic5</td>\n",
       "      <td>emerging</td>\n",
       "    </tr>\n",
       "    <tr>\n",
       "      <th>34</th>\n",
       "      <td>0.4180</td>\n",
       "      <td>fuel, injection, catalyst, temperature, combus...</td>\n",
       "      <td>avl list gmbh</td>\n",
       "      <td>2001.0</td>\n",
       "      <td>Process for the controlled operation of a comb...</td>\n",
       "      <td>topic5</td>\n",
       "      <td>emerging</td>\n",
       "    </tr>\n",
       "    <tr>\n",
       "      <th>35</th>\n",
       "      <td>0.5931</td>\n",
       "      <td>fuel, injection, catalyst, temperature, combus...</td>\n",
       "      <td>avl list gmbh</td>\n",
       "      <td>2001.0</td>\n",
       "      <td>&lt;P&gt;PROBLEM TO BE SOLVED: To provide a simple m...</td>\n",
       "      <td>topic5</td>\n",
       "      <td>emerging</td>\n",
       "    </tr>\n",
       "    <tr>\n",
       "      <th>36</th>\n",
       "      <td>0.5139</td>\n",
       "      <td>fuel, injection, catalyst, temperature, combus...</td>\n",
       "      <td>avl list gmbh</td>\n",
       "      <td>2001.0</td>\n",
       "      <td>The invention relates to a method for controll...</td>\n",
       "      <td>topic5</td>\n",
       "      <td>emerging</td>\n",
       "    </tr>\n",
       "    <tr>\n",
       "      <th>40</th>\n",
       "      <td>0.6055</td>\n",
       "      <td>fuel, injection, catalyst, temperature, combus...</td>\n",
       "      <td>avl list gmbh</td>\n",
       "      <td>2000.0</td>\n",
       "      <td>The present invention relates to a method for ...</td>\n",
       "      <td>topic5</td>\n",
       "      <td>emerging</td>\n",
       "    </tr>\n",
       "  </tbody>\n",
       "</table>\n",
       "</div>"
      ],
      "text/plain": [
       "    Topic_Perc_Contrib                                           Keywords  \\\n",
       "18              0.7924  fuel, injection, catalyst, temperature, combus...   \n",
       "34              0.4180  fuel, injection, catalyst, temperature, combus...   \n",
       "35              0.5931  fuel, injection, catalyst, temperature, combus...   \n",
       "36              0.5139  fuel, injection, catalyst, temperature, combus...   \n",
       "40              0.6055  fuel, injection, catalyst, temperature, combus...   \n",
       "\n",
       "         Assignee    Year                                           Abstract  \\\n",
       "18  avl list gmbh  2002.0  During an idling phase, fuel is repeatedly inj...   \n",
       "34  avl list gmbh  2001.0  Process for the controlled operation of a comb...   \n",
       "35  avl list gmbh  2001.0  <P>PROBLEM TO BE SOLVED: To provide a simple m...   \n",
       "36  avl list gmbh  2001.0  The invention relates to a method for controll...   \n",
       "40  avl list gmbh  2000.0  The present invention relates to a method for ...   \n",
       "\n",
       "     Topic tech_type  \n",
       "18  topic5  emerging  \n",
       "34  topic5  emerging  \n",
       "35  topic5  emerging  \n",
       "36  topic5  emerging  \n",
       "40  topic5  emerging  "
      ]
     },
     "execution_count": 188,
     "metadata": {},
     "output_type": "execute_result"
    }
   ],
   "source": [
    "e[:5]"
   ]
  },
  {
   "cell_type": "code",
   "execution_count": 189,
   "metadata": {},
   "outputs": [],
   "source": [
    "e=e.groupby(['Assignee']).size()"
   ]
  },
  {
   "cell_type": "code",
   "execution_count": 190,
   "metadata": {},
   "outputs": [
    {
     "data": {
      "text/plain": [
       "Assignee\n",
       "toyota motor corp               1697\n",
       "bosch corp                       856\n",
       "honda motor co ltd               527\n",
       "nissan motor co ltd              426\n",
       "denso corp                       277\n",
       "ford global technologies inc     275\n",
       "mitsubishi motors corp           263\n",
       "renault sas                      222\n",
       "peugeot citroen automobiles      184\n",
       "isuzu motors ltd                 155\n",
       "dtype: int64"
      ]
     },
     "execution_count": 190,
     "metadata": {},
     "output_type": "execute_result"
    }
   ],
   "source": [
    "e.sort_values(ascending=False)[:10]"
   ]
  },
  {
   "cell_type": "markdown",
   "metadata": {},
   "source": [
    "**These are top 10 firms using emerging technology. We know that emerging technology belongs to topic3 so, we can create figure from this information.**"
   ]
  },
  {
   "cell_type": "markdown",
   "metadata": {},
   "source": [
    "### for dominant"
   ]
  },
  {
   "cell_type": "code",
   "execution_count": 191,
   "metadata": {},
   "outputs": [],
   "source": [
    "f=df\n",
    "f=f[f.tech_type==\"dominant\"]"
   ]
  },
  {
   "cell_type": "code",
   "execution_count": 192,
   "metadata": {},
   "outputs": [
    {
     "data": {
      "text/plain": [
       "32957"
      ]
     },
     "execution_count": 192,
     "metadata": {},
     "output_type": "execute_result"
    }
   ],
   "source": [
    "len(f)"
   ]
  },
  {
   "cell_type": "code",
   "execution_count": 193,
   "metadata": {},
   "outputs": [
    {
     "data": {
      "text/html": [
       "<div>\n",
       "<style scoped>\n",
       "    .dataframe tbody tr th:only-of-type {\n",
       "        vertical-align: middle;\n",
       "    }\n",
       "\n",
       "    .dataframe tbody tr th {\n",
       "        vertical-align: top;\n",
       "    }\n",
       "\n",
       "    .dataframe thead th {\n",
       "        text-align: right;\n",
       "    }\n",
       "</style>\n",
       "<table border=\"1\" class=\"dataframe\">\n",
       "  <thead>\n",
       "    <tr style=\"text-align: right;\">\n",
       "      <th></th>\n",
       "      <th>Topic_Perc_Contrib</th>\n",
       "      <th>Keywords</th>\n",
       "      <th>Assignee</th>\n",
       "      <th>Year</th>\n",
       "      <th>Abstract</th>\n",
       "      <th>Topic</th>\n",
       "      <th>tech_type</th>\n",
       "    </tr>\n",
       "  </thead>\n",
       "  <tbody>\n",
       "    <tr>\n",
       "      <th>0</th>\n",
       "      <td>0.3972</td>\n",
       "      <td>charge, battery, module, power, voltage, elect...</td>\n",
       "      <td>luz electric fuel israel ltd</td>\n",
       "      <td>1990.0</td>\n",
       "      <td>An electrical energy system including an elect...</td>\n",
       "      <td>topic4</td>\n",
       "      <td>dominant</td>\n",
       "    </tr>\n",
       "    <tr>\n",
       "      <th>1</th>\n",
       "      <td>0.8034</td>\n",
       "      <td>charge, battery, module, power, voltage, elect...</td>\n",
       "      <td>luz electric fuel israel ltd</td>\n",
       "      <td>1990.0</td>\n",
       "      <td>An electrical energy system including an elect...</td>\n",
       "      <td>topic4</td>\n",
       "      <td>dominant</td>\n",
       "    </tr>\n",
       "    <tr>\n",
       "      <th>43</th>\n",
       "      <td>0.6716</td>\n",
       "      <td>torque, mode, motor, power, speed, control, dr...</td>\n",
       "      <td>laimböck franz diplingdr</td>\n",
       "      <td>1992.0</td>\n",
       "      <td>For the drive shaft of a motor vehicle a drive...</td>\n",
       "      <td>topic1</td>\n",
       "      <td>dominant</td>\n",
       "    </tr>\n",
       "    <tr>\n",
       "      <th>44</th>\n",
       "      <td>0.7062</td>\n",
       "      <td>torque, mode, motor, power, speed, control, dr...</td>\n",
       "      <td>furantsu raimubetsuku</td>\n",
       "      <td>1992.0</td>\n",
       "      <td>PURPOSE: To optimize the various operational c...</td>\n",
       "      <td>topic1</td>\n",
       "      <td>dominant</td>\n",
       "    </tr>\n",
       "    <tr>\n",
       "      <th>46</th>\n",
       "      <td>0.6459</td>\n",
       "      <td>torque, mode, motor, power, speed, control, dr...</td>\n",
       "      <td>microcon software entwicklung gmbh</td>\n",
       "      <td>1999.0</td>\n",
       "      <td>The arrangement has actuating the choke flap (...</td>\n",
       "      <td>topic1</td>\n",
       "      <td>dominant</td>\n",
       "    </tr>\n",
       "  </tbody>\n",
       "</table>\n",
       "</div>"
      ],
      "text/plain": [
       "    Topic_Perc_Contrib                                           Keywords  \\\n",
       "0               0.3972  charge, battery, module, power, voltage, elect...   \n",
       "1               0.8034  charge, battery, module, power, voltage, elect...   \n",
       "43              0.6716  torque, mode, motor, power, speed, control, dr...   \n",
       "44              0.7062  torque, mode, motor, power, speed, control, dr...   \n",
       "46              0.6459  torque, mode, motor, power, speed, control, dr...   \n",
       "\n",
       "                              Assignee    Year  \\\n",
       "0         luz electric fuel israel ltd  1990.0   \n",
       "1         luz electric fuel israel ltd  1990.0   \n",
       "43            laimböck franz diplingdr  1992.0   \n",
       "44               furantsu raimubetsuku  1992.0   \n",
       "46  microcon software entwicklung gmbh  1999.0   \n",
       "\n",
       "                                             Abstract   Topic tech_type  \n",
       "0   An electrical energy system including an elect...  topic4  dominant  \n",
       "1   An electrical energy system including an elect...  topic4  dominant  \n",
       "43  For the drive shaft of a motor vehicle a drive...  topic1  dominant  \n",
       "44  PURPOSE: To optimize the various operational c...  topic1  dominant  \n",
       "46  The arrangement has actuating the choke flap (...  topic1  dominant  "
      ]
     },
     "execution_count": 193,
     "metadata": {},
     "output_type": "execute_result"
    }
   ],
   "source": [
    "f[:5]"
   ]
  },
  {
   "cell_type": "code",
   "execution_count": 194,
   "metadata": {},
   "outputs": [],
   "source": [
    "f=f.groupby(['Assignee']).size()"
   ]
  },
  {
   "cell_type": "code",
   "execution_count": 195,
   "metadata": {},
   "outputs": [
    {
     "data": {
      "text/plain": [
       "Assignee\n",
       "toyota motor corp               4841\n",
       "honda motor co ltd              1906\n",
       "nissan motor co ltd             1880\n",
       "hyundai motor co ltd            1576\n",
       "ford global technologies inc    1111\n",
       "mitsubishi motors corp           920\n",
       "bosch corp                       714\n",
       "denso corp                       555\n",
       "hitachi ltd                      409\n",
       "aisin aw co ltd                  318\n",
       "dtype: int64"
      ]
     },
     "execution_count": 195,
     "metadata": {},
     "output_type": "execute_result"
    }
   ],
   "source": [
    "f.sort_values(ascending=False)[:10]"
   ]
  },
  {
   "cell_type": "markdown",
   "metadata": {},
   "source": [
    "**These are top 10 firms using dominant technology. We know that dominant technology belongs to topic1,2 and 7 so, we can create figure from this information.**"
   ]
  },
  {
   "cell_type": "markdown",
   "metadata": {},
   "source": [
    "### for sature technology"
   ]
  },
  {
   "cell_type": "code",
   "execution_count": 196,
   "metadata": {},
   "outputs": [],
   "source": [
    "s=df\n",
    "s=s[s.tech_type==\"saturate\"]"
   ]
  },
  {
   "cell_type": "code",
   "execution_count": 197,
   "metadata": {},
   "outputs": [
    {
     "data": {
      "text/plain": [
       "21207"
      ]
     },
     "execution_count": 197,
     "metadata": {},
     "output_type": "execute_result"
    }
   ],
   "source": [
    "len(s)"
   ]
  },
  {
   "cell_type": "code",
   "execution_count": 198,
   "metadata": {},
   "outputs": [
    {
     "data": {
      "text/html": [
       "<div>\n",
       "<style scoped>\n",
       "    .dataframe tbody tr th:only-of-type {\n",
       "        vertical-align: middle;\n",
       "    }\n",
       "\n",
       "    .dataframe tbody tr th {\n",
       "        vertical-align: top;\n",
       "    }\n",
       "\n",
       "    .dataframe thead th {\n",
       "        text-align: right;\n",
       "    }\n",
       "</style>\n",
       "<table border=\"1\" class=\"dataframe\">\n",
       "  <thead>\n",
       "    <tr style=\"text-align: right;\">\n",
       "      <th></th>\n",
       "      <th>Topic_Perc_Contrib</th>\n",
       "      <th>Keywords</th>\n",
       "      <th>Assignee</th>\n",
       "      <th>Year</th>\n",
       "      <th>Abstract</th>\n",
       "      <th>Topic</th>\n",
       "      <th>tech_type</th>\n",
       "    </tr>\n",
       "  </thead>\n",
       "  <tbody>\n",
       "    <tr>\n",
       "      <th>2</th>\n",
       "      <td>0.4070</td>\n",
       "      <td>oil, pressure, valve, fuel, air, pump, gas, ex...</td>\n",
       "      <td>sumitomo electric industries ltd</td>\n",
       "      <td>1995.0</td>\n",
       "      <td>An object is to provide a particulate trap for...</td>\n",
       "      <td>topic3</td>\n",
       "      <td>saturate</td>\n",
       "    </tr>\n",
       "    <tr>\n",
       "      <th>3</th>\n",
       "      <td>0.3697</td>\n",
       "      <td>gear, shaft, first, second, motor, connect, si...</td>\n",
       "      <td>sumitomo electric ind ltd</td>\n",
       "      <td>1995.0</td>\n",
       "      <td>PURPOSE: To obtain a trap by which the leakage...</td>\n",
       "      <td>topic2</td>\n",
       "      <td>saturate</td>\n",
       "    </tr>\n",
       "    <tr>\n",
       "      <th>4</th>\n",
       "      <td>0.3872</td>\n",
       "      <td>gear, shaft, first, second, motor, connect, si...</td>\n",
       "      <td>sumitomo electric industries ltd</td>\n",
       "      <td>1995.0</td>\n",
       "      <td>A particulate trap for a diesel engine designe...</td>\n",
       "      <td>topic2</td>\n",
       "      <td>saturate</td>\n",
       "    </tr>\n",
       "    <tr>\n",
       "      <th>5</th>\n",
       "      <td>0.5406</td>\n",
       "      <td>oil, pressure, valve, fuel, air, pump, gas, ex...</td>\n",
       "      <td>sumitomo electric industries ltd</td>\n",
       "      <td>1995.0</td>\n",
       "      <td>PCT No. PCT/JP96/02405 Sec. 371 Date Nov. 17, ...</td>\n",
       "      <td>topic3</td>\n",
       "      <td>saturate</td>\n",
       "    </tr>\n",
       "    <tr>\n",
       "      <th>6</th>\n",
       "      <td>0.4956</td>\n",
       "      <td>gear, shaft, first, second, motor, connect, si...</td>\n",
       "      <td>ricardo cayetano algeri</td>\n",
       "      <td>2000.0</td>\n",
       "      <td>A MIXING DEVICE OF GAS FUEL WITH AIR FOR INTER...</td>\n",
       "      <td>topic2</td>\n",
       "      <td>saturate</td>\n",
       "    </tr>\n",
       "  </tbody>\n",
       "</table>\n",
       "</div>"
      ],
      "text/plain": [
       "   Topic_Perc_Contrib                                           Keywords  \\\n",
       "2              0.4070  oil, pressure, valve, fuel, air, pump, gas, ex...   \n",
       "3              0.3697  gear, shaft, first, second, motor, connect, si...   \n",
       "4              0.3872  gear, shaft, first, second, motor, connect, si...   \n",
       "5              0.5406  oil, pressure, valve, fuel, air, pump, gas, ex...   \n",
       "6              0.4956  gear, shaft, first, second, motor, connect, si...   \n",
       "\n",
       "                           Assignee    Year  \\\n",
       "2  sumitomo electric industries ltd  1995.0   \n",
       "3         sumitomo electric ind ltd  1995.0   \n",
       "4  sumitomo electric industries ltd  1995.0   \n",
       "5  sumitomo electric industries ltd  1995.0   \n",
       "6           ricardo cayetano algeri  2000.0   \n",
       "\n",
       "                                            Abstract   Topic tech_type  \n",
       "2  An object is to provide a particulate trap for...  topic3  saturate  \n",
       "3  PURPOSE: To obtain a trap by which the leakage...  topic2  saturate  \n",
       "4  A particulate trap for a diesel engine designe...  topic2  saturate  \n",
       "5  PCT No. PCT/JP96/02405 Sec. 371 Date Nov. 17, ...  topic3  saturate  \n",
       "6  A MIXING DEVICE OF GAS FUEL WITH AIR FOR INTER...  topic2  saturate  "
      ]
     },
     "execution_count": 198,
     "metadata": {},
     "output_type": "execute_result"
    }
   ],
   "source": [
    "s[:5]"
   ]
  },
  {
   "cell_type": "code",
   "execution_count": 199,
   "metadata": {},
   "outputs": [],
   "source": [
    "s=s.groupby(['Assignee']).size()"
   ]
  },
  {
   "cell_type": "code",
   "execution_count": 200,
   "metadata": {},
   "outputs": [
    {
     "data": {
      "text/plain": [
       "Assignee\n",
       "honda motor co ltd              1290\n",
       "toyota motor corp               1169\n",
       "bosch corp                      1147\n",
       "hyundai motor co ltd             669\n",
       "nissan motor co ltd              396\n",
       "ford global technologies inc     364\n",
       "renault sas                      343\n",
       "yamaha motor co ltd              288\n",
       "peugeot citroen automobiles      261\n",
       "daimlerchrysler ag               226\n",
       "dtype: int64"
      ]
     },
     "execution_count": 200,
     "metadata": {},
     "output_type": "execute_result"
    }
   ],
   "source": [
    "s.sort_values(ascending=False)[:10]"
   ]
  },
  {
   "cell_type": "markdown",
   "metadata": {},
   "source": [
    "**These are top 10 firms using saturate technology. We know that saturate technology belongs to topic 6 so, we can create figure from this information**"
   ]
  },
  {
   "cell_type": "markdown",
   "metadata": {},
   "source": [
    "# 6)- Adding Ecosystem components with each topic"
   ]
  },
  {
   "cell_type": "markdown",
   "metadata": {},
   "source": [
    "### End of notebook5"
   ]
  }
 ],
 "metadata": {
  "kernelspec": {
   "display_name": "Python 3",
   "language": "python",
   "name": "python3"
  },
  "language_info": {
   "codemirror_mode": {
    "name": "ipython",
    "version": 3
   },
   "file_extension": ".py",
   "mimetype": "text/x-python",
   "name": "python",
   "nbconvert_exporter": "python",
   "pygments_lexer": "ipython3",
   "version": "3.6.3"
  }
 },
 "nbformat": 4,
 "nbformat_minor": 2
}
