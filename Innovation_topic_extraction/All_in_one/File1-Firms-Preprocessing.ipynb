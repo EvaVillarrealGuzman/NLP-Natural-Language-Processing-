{
 "cells": [
  {
   "cell_type": "markdown",
   "metadata": {},
   "source": [
    "# File 1:Firms' Preprocessing\n",
    "\n",
    "Working on firm level data <br>\n",
    "- This will generate patent_firm_full_clean.pkl file"
   ]
  },
  {
   "cell_type": "code",
   "execution_count": 1,
   "metadata": {},
   "outputs": [],
   "source": [
    "import pandas as pd\n",
    "import nltk\n",
    "import numpy as np\n",
    "import requests\n",
    "import pickle"
   ]
  },
  {
   "cell_type": "code",
   "execution_count": 2,
   "metadata": {},
   "outputs": [],
   "source": [
    "patents_new=pd.read_csv('patent_all_en_new.csv')"
   ]
  },
  {
   "cell_type": "markdown",
   "metadata": {},
   "source": [
    "- appln                     The identifier of the application (with letter at the end, seems Google omits that)\n",
    "- appln_id                  The (internal) patstat identifier of the application\n",
    "- family_id                 The (internal) patstat identifier of the family that the application is a member of sets  - sets                      Indicate which sets (fuel-cell = 1, electric  vehicle = 2, both = 3) was matched\n",
    "- direct                    Indicate whether this application was found directly (title/abstract/cpc/ipc) or      indirectly (family association)\n",
    "- granted                   Whether or not the application was granted\n",
    "- earliest_appln            Per family, the earliest application\n",
    "- earliest_filing_date      The date of the family's earliest application\n",
    "- publn                     Identifiers of publications associated with this application (*)\n",
    "- publn_date                The dates of associated publications (*)\n",
    "- publn_first_grant         Indicates for each publication if its the first one with granted status\n",
    "- num_cpc_class             The number of CPC classes for this application\n",
    "- cpc_class                 The CPC class symbols for this application\n",
    "- num_ipc_class             The number of IPC classes for this application\n",
    "- ipc_class                 The IPC class symbols for this application\n",
    "- num_cited_publn           The number of forward citations (this applications refers to other publications)\n",
    "- cited_publn_date          The dates of cited publications (**)\n",
    "- cited_publn               The identifiers of cited publications (**)\n",
    "- cited_appln               The identifiers of the applications  associated with cited publications (**)\n",
    "- cited_appln_id            The (internal) patstat identifiers of the  applications associated with cited publications (**)\n",
    "- cited_family_id           The (internal) patstat identifiers of the  family associated with cited publications (**)\n",
    "- num_cited_family          The total number of distinct families  associated with cited publications (***)\n",
    "- num_citing_publn          The number of backward citations (other  publications refer to this application)\n",
    "- citing_publn_date         The dates of citing publications (**)\n",
    "- citing_publn              The identifiers of citing publications (**)\n",
    "- citing_appln              The identifiers of the applications  associated with citing publications (**)\n",
    "- citing_appln_id           The (internal) patstat identifiers of the  applications associated with citing publications (**)\n",
    "- citing_family_id          The (internal) patstat identifiers of the  family associated with citing publications (**)\n",
    "- num_citing_family         The total number of distinct families  associated with citing publications (***)\n",
    "- earliest_applt            The name of the (first) applicant of the  earliest publication of this application \n",
    "- current_applt             The name of the (first) applicant of the most recent publication of this application\n",
    "- appln_title               The title of this application\n",
    "\n",
    ">>\n",
    ">> (*/**) These are one per line, in consistent order\n",
    "\n",
    "\n",
    ">> (***) These seem to be the numbers that google uses to count citations. You can get this from the export if you aggregate all applications within a family and discard duplicates.\n"
   ]
  },
  {
   "cell_type": "code",
   "execution_count": 3,
   "metadata": {},
   "outputs": [
    {
     "data": {
      "text/html": [
       "<div>\n",
       "<style scoped>\n",
       "    .dataframe tbody tr th:only-of-type {\n",
       "        vertical-align: middle;\n",
       "    }\n",
       "\n",
       "    .dataframe tbody tr th {\n",
       "        vertical-align: top;\n",
       "    }\n",
       "\n",
       "    .dataframe thead th {\n",
       "        text-align: right;\n",
       "    }\n",
       "</style>\n",
       "<table border=\"1\" class=\"dataframe\">\n",
       "  <thead>\n",
       "    <tr style=\"text-align: right;\">\n",
       "      <th></th>\n",
       "      <th>appln</th>\n",
       "      <th>appln_id</th>\n",
       "      <th>family_id</th>\n",
       "      <th>sets</th>\n",
       "      <th>direct</th>\n",
       "      <th>granted</th>\n",
       "      <th>earliest_appln</th>\n",
       "      <th>earliest_filing_date</th>\n",
       "      <th>publn_date</th>\n",
       "      <th>publn</th>\n",
       "      <th>...</th>\n",
       "      <th>citing_publn_date</th>\n",
       "      <th>citing_publn</th>\n",
       "      <th>citing_appln</th>\n",
       "      <th>citing_appln_id</th>\n",
       "      <th>citing_family_id</th>\n",
       "      <th>num_citing_family</th>\n",
       "      <th>earliest_applt</th>\n",
       "      <th>current_applt</th>\n",
       "      <th>appln_title</th>\n",
       "      <th>appln_abstr</th>\n",
       "    </tr>\n",
       "  </thead>\n",
       "  <tbody>\n",
       "    <tr>\n",
       "      <th>0</th>\n",
       "      <td>WO9105114W</td>\n",
       "      <td>47158713</td>\n",
       "      <td>1239277</td>\n",
       "      <td>2</td>\n",
       "      <td>1</td>\n",
       "      <td>1</td>\n",
       "      <td>US55592190A</td>\n",
       "      <td>1990-07-19</td>\n",
       "      <td>1993-02-18</td>\n",
       "      <td>WO9303532A1</td>\n",
       "      <td>...</td>\n",
       "      <td>2002-07-11</td>\n",
       "      <td>WO0199222A3</td>\n",
       "      <td>WO0119827W</td>\n",
       "      <td>45621927</td>\n",
       "      <td>24395918</td>\n",
       "      <td>30</td>\n",
       "      <td>LUZ ELECTRIC FUEL ISRAEL LTD.</td>\n",
       "      <td>LUZ ELECTRIC FUEL ISRAEL LTD.</td>\n",
       "      <td>ELECTRICAL ENERGY SYSTEM</td>\n",
       "      <td>An electrical energy system including an elect...</td>\n",
       "    </tr>\n",
       "    <tr>\n",
       "      <th>1</th>\n",
       "      <td>US55592190A</td>\n",
       "      <td>51797454</td>\n",
       "      <td>1239277</td>\n",
       "      <td>2</td>\n",
       "      <td>1</td>\n",
       "      <td>1</td>\n",
       "      <td>US55592190A</td>\n",
       "      <td>1990-07-19</td>\n",
       "      <td>1992-06-09</td>\n",
       "      <td>US5121044A</td>\n",
       "      <td>...</td>\n",
       "      <td>1993-05-04\\n1994-03-09\\n1994-09-20\\n1995-07-18...</td>\n",
       "      <td>US5208526A\\nEP0557287A4\\nUS5349535A\\nUS5434020...</td>\n",
       "      <td>US63645090A\\nEP91915464A\\nUS96399792A\\nUS15296...</td>\n",
       "      <td>52393850\\n16916549\\n54353461\\n48212422\\n457802...</td>\n",
       "      <td>27071024\\n1239277\\n25508001\\n22545199\\n2636904...</td>\n",
       "      <td>30</td>\n",
       "      <td>Luz Electric Fuel Israel, Ltd.</td>\n",
       "      <td>Luz Electric Fuel Israel, Ltd.</td>\n",
       "      <td>Electrical energy system</td>\n",
       "      <td>An electrical energy system including an elect...</td>\n",
       "    </tr>\n",
       "    <tr>\n",
       "      <th>2</th>\n",
       "      <td>EP96927918A</td>\n",
       "      <td>17205496</td>\n",
       "      <td>1341188</td>\n",
       "      <td>4</td>\n",
       "      <td>0</td>\n",
       "      <td>0</td>\n",
       "      <td>JP4059995A</td>\n",
       "      <td>1995-02-28</td>\n",
       "      <td>1998-08-12</td>\n",
       "      <td>EP0857862A1</td>\n",
       "      <td>...</td>\n",
       "      <td>2002-01-02\\n2002-01-10\\n2002-08-29\\n2017-12-06</td>\n",
       "      <td>EP1167708A2\\nDE10029978A1\\nDE10105233A1\\nEP220...</td>\n",
       "      <td>EP01115227A\\nDE10029978A\\nDE10105233A\\nEP08842...</td>\n",
       "      <td>15814252\\n12936842\\n12970055\\n57178895</td>\n",
       "      <td>7646156\\n7646156\\n7672964\\n40580359</td>\n",
       "      <td>31</td>\n",
       "      <td>SUMITOMO ELECTRIC INDUSTRIES, LTD.</td>\n",
       "      <td>SUMITOMO ELECTRIC INDUSTRIES, LTD.</td>\n",
       "      <td>PARTICULATE TRAP FOR A DIESEL ENGINE</td>\n",
       "      <td>An object is to provide a particulate trap for...</td>\n",
       "    </tr>\n",
       "    <tr>\n",
       "      <th>3</th>\n",
       "      <td>JP4059995A</td>\n",
       "      <td>27121457</td>\n",
       "      <td>1341188</td>\n",
       "      <td>4</td>\n",
       "      <td>1</td>\n",
       "      <td>0</td>\n",
       "      <td>JP4059995A</td>\n",
       "      <td>1995-02-28</td>\n",
       "      <td>1996-09-10</td>\n",
       "      <td>JPH08229330A</td>\n",
       "      <td>...</td>\n",
       "      <td>2010-09-27\\n2011-01-27\\n2013-05-02\\n2014-03-18...</td>\n",
       "      <td>KR20100103462A\\nJP2011502743A\\nJP2013078764A\\n...</td>\n",
       "      <td>KR20107010572A\\nJP2010531202A\\nJP2012279486A\\n...</td>\n",
       "      <td>328440678\\n332201837\\n406999716\\n378212937\\n41...</td>\n",
       "      <td>40580359\\n40580359\\n40580359\\n40580359\\n405803...</td>\n",
       "      <td>31</td>\n",
       "      <td>SUMITOMO ELECTRIC IND LTD</td>\n",
       "      <td>SUMITOMO ELECTRIC IND LTD</td>\n",
       "      <td>PARTICULATE TRAP FOR DIESEL ENGINE</td>\n",
       "      <td>PURPOSE: To obtain a trap by which the leakage...</td>\n",
       "    </tr>\n",
       "    <tr>\n",
       "      <th>4</th>\n",
       "      <td>WO9602405W</td>\n",
       "      <td>30070806</td>\n",
       "      <td>1341188</td>\n",
       "      <td>4</td>\n",
       "      <td>0</td>\n",
       "      <td>0</td>\n",
       "      <td>JP4059995A</td>\n",
       "      <td>1995-02-28</td>\n",
       "      <td>1998-03-05</td>\n",
       "      <td>WO9809059A1</td>\n",
       "      <td>...</td>\n",
       "      <td>NaN</td>\n",
       "      <td>NaN</td>\n",
       "      <td>NaN</td>\n",
       "      <td>NaN</td>\n",
       "      <td>NaN</td>\n",
       "      <td>31</td>\n",
       "      <td>Sumitomo Electric Industries, Ltd.</td>\n",
       "      <td>Sumitomo Electric Industries, Ltd.</td>\n",
       "      <td>PARTICULATE TRAP FOR A DIESEL ENGINE</td>\n",
       "      <td>A particulate trap for a diesel engine designe...</td>\n",
       "    </tr>\n",
       "  </tbody>\n",
       "</table>\n",
       "<p>5 rows × 34 columns</p>\n",
       "</div>"
      ],
      "text/plain": [
       "         appln  appln_id  family_id  sets  direct  granted earliest_appln  \\\n",
       "0   WO9105114W  47158713    1239277     2       1        1    US55592190A   \n",
       "1  US55592190A  51797454    1239277     2       1        1    US55592190A   \n",
       "2  EP96927918A  17205496    1341188     4       0        0     JP4059995A   \n",
       "3   JP4059995A  27121457    1341188     4       1        0     JP4059995A   \n",
       "4   WO9602405W  30070806    1341188     4       0        0     JP4059995A   \n",
       "\n",
       "  earliest_filing_date  publn_date         publn  ...  \\\n",
       "0           1990-07-19  1993-02-18   WO9303532A1  ...   \n",
       "1           1990-07-19  1992-06-09    US5121044A  ...   \n",
       "2           1995-02-28  1998-08-12   EP0857862A1  ...   \n",
       "3           1995-02-28  1996-09-10  JPH08229330A  ...   \n",
       "4           1995-02-28  1998-03-05   WO9809059A1  ...   \n",
       "\n",
       "                                   citing_publn_date  \\\n",
       "0                                         2002-07-11   \n",
       "1  1993-05-04\\n1994-03-09\\n1994-09-20\\n1995-07-18...   \n",
       "2     2002-01-02\\n2002-01-10\\n2002-08-29\\n2017-12-06   \n",
       "3  2010-09-27\\n2011-01-27\\n2013-05-02\\n2014-03-18...   \n",
       "4                                                NaN   \n",
       "\n",
       "                                        citing_publn  \\\n",
       "0                                        WO0199222A3   \n",
       "1  US5208526A\\nEP0557287A4\\nUS5349535A\\nUS5434020...   \n",
       "2  EP1167708A2\\nDE10029978A1\\nDE10105233A1\\nEP220...   \n",
       "3  KR20100103462A\\nJP2011502743A\\nJP2013078764A\\n...   \n",
       "4                                                NaN   \n",
       "\n",
       "                                        citing_appln  \\\n",
       "0                                         WO0119827W   \n",
       "1  US63645090A\\nEP91915464A\\nUS96399792A\\nUS15296...   \n",
       "2  EP01115227A\\nDE10029978A\\nDE10105233A\\nEP08842...   \n",
       "3  KR20107010572A\\nJP2010531202A\\nJP2012279486A\\n...   \n",
       "4                                                NaN   \n",
       "\n",
       "                                     citing_appln_id  \\\n",
       "0                                           45621927   \n",
       "1  52393850\\n16916549\\n54353461\\n48212422\\n457802...   \n",
       "2             15814252\\n12936842\\n12970055\\n57178895   \n",
       "3  328440678\\n332201837\\n406999716\\n378212937\\n41...   \n",
       "4                                                NaN   \n",
       "\n",
       "                                    citing_family_id num_citing_family  \\\n",
       "0                                           24395918                30   \n",
       "1  27071024\\n1239277\\n25508001\\n22545199\\n2636904...                30   \n",
       "2                7646156\\n7646156\\n7672964\\n40580359                31   \n",
       "3  40580359\\n40580359\\n40580359\\n40580359\\n405803...                31   \n",
       "4                                                NaN                31   \n",
       "\n",
       "                       earliest_applt                       current_applt  \\\n",
       "0       LUZ ELECTRIC FUEL ISRAEL LTD.       LUZ ELECTRIC FUEL ISRAEL LTD.   \n",
       "1      Luz Electric Fuel Israel, Ltd.      Luz Electric Fuel Israel, Ltd.   \n",
       "2  SUMITOMO ELECTRIC INDUSTRIES, LTD.  SUMITOMO ELECTRIC INDUSTRIES, LTD.   \n",
       "3           SUMITOMO ELECTRIC IND LTD           SUMITOMO ELECTRIC IND LTD   \n",
       "4  Sumitomo Electric Industries, Ltd.  Sumitomo Electric Industries, Ltd.   \n",
       "\n",
       "                            appln_title  \\\n",
       "0              ELECTRICAL ENERGY SYSTEM   \n",
       "1              Electrical energy system   \n",
       "2  PARTICULATE TRAP FOR A DIESEL ENGINE   \n",
       "3    PARTICULATE TRAP FOR DIESEL ENGINE   \n",
       "4  PARTICULATE TRAP FOR A DIESEL ENGINE   \n",
       "\n",
       "                                         appln_abstr  \n",
       "0  An electrical energy system including an elect...  \n",
       "1  An electrical energy system including an elect...  \n",
       "2  An object is to provide a particulate trap for...  \n",
       "3  PURPOSE: To obtain a trap by which the leakage...  \n",
       "4  A particulate trap for a diesel engine designe...  \n",
       "\n",
       "[5 rows x 34 columns]"
      ]
     },
     "execution_count": 3,
     "metadata": {},
     "output_type": "execute_result"
    }
   ],
   "source": [
    "patents_new.head()"
   ]
  },
  {
   "cell_type": "code",
   "execution_count": 4,
   "metadata": {},
   "outputs": [],
   "source": [
    "#patents_new[patents_new.current_applt=='TOYOTA MOTOR CORP']"
   ]
  },
  {
   "cell_type": "code",
   "execution_count": 5,
   "metadata": {},
   "outputs": [],
   "source": [
    "#ri[ri.violation == 'Speeding'].driver_gender.value_counts()"
   ]
  },
  {
   "cell_type": "code",
   "execution_count": 6,
   "metadata": {},
   "outputs": [],
   "source": [
    "assignee=patents_new['current_applt']"
   ]
  },
  {
   "cell_type": "code",
   "execution_count": 7,
   "metadata": {},
   "outputs": [],
   "source": [
    "# remove punctuation\n",
    "assignee = patents_new['current_applt'].str.replace('[^\\w\\s]','')"
   ]
  },
  {
   "cell_type": "code",
   "execution_count": 8,
   "metadata": {},
   "outputs": [],
   "source": [
    "assignee = patents_new['current_applt'].replace(\".\", \"\") "
   ]
  },
  {
   "cell_type": "code",
   "execution_count": 9,
   "metadata": {},
   "outputs": [],
   "source": [
    "assignee = patents_new['current_applt'].str.replace('\\[.*?\\]','')"
   ]
  },
  {
   "cell_type": "code",
   "execution_count": 10,
   "metadata": {},
   "outputs": [],
   "source": [
    "assignee = patents_new['current_applt'].str.replace(\",\",\"\")"
   ]
  },
  {
   "cell_type": "code",
   "execution_count": 11,
   "metadata": {},
   "outputs": [],
   "source": [
    "assignee=patents_new['current_applt'].str.split()"
   ]
  },
  {
   "cell_type": "code",
   "execution_count": 12,
   "metadata": {},
   "outputs": [],
   "source": [
    "assignee=patents_new['current_applt'].str.lower()"
   ]
  },
  {
   "cell_type": "code",
   "execution_count": 13,
   "metadata": {},
   "outputs": [],
   "source": [
    "patents_new['assignee']=assignee"
   ]
  },
  {
   "cell_type": "code",
   "execution_count": 14,
   "metadata": {},
   "outputs": [
    {
     "data": {
      "text/plain": [
       "toyota motor corp                                                                                                                                3602\n",
       "toyota jidosha kabushiki kaisha                                                                                                                  3543\n",
       "robert bosch gmbh                                                                                                                                2653\n",
       "hyundai motor company                                                                                                                            2230\n",
       "honda motor co ltd                                                                                                                               1903\n",
       "                                                                                                                                                 ... \n",
       "gosudarstvennoe obrazovatel'noe uchrezhdenie vysshego professional'nogo obrazovanija 'omskij gosudarstvennyj universitet putej soobshchenija'       1\n",
       "syne powertrain system (shenzhen) co., ltd.                                                                                                         1\n",
       "robinson, ralph p.                                                                                                                                  1\n",
       "ramaswamy, sitaram                                                                                                                                  1\n",
       "schneck; michael m.                                                                                                                                 1\n",
       "Name: assignee, Length: 14319, dtype: int64"
      ]
     },
     "execution_count": 14,
     "metadata": {},
     "output_type": "execute_result"
    }
   ],
   "source": [
    "patents_new['assignee'].value_counts()"
   ]
  },
  {
   "cell_type": "markdown",
   "metadata": {},
   "source": [
    "# cleaning data"
   ]
  },
  {
   "cell_type": "code",
   "execution_count": 15,
   "metadata": {},
   "outputs": [],
   "source": [
    "assignee=patents_new['current_applt'].str.replace('LUZ ELECTRIC FUEL ISRAEL LTD','luz electric fuel israel ltd')"
   ]
  },
  {
   "cell_type": "code",
   "execution_count": 16,
   "metadata": {},
   "outputs": [],
   "source": [
    "assignee=patents_new['current_applt'].str.replace('Luz Electric Fuel Israel Ltd','Luz Electric Fuel Israel Ltd')"
   ]
  },
  {
   "cell_type": "markdown",
   "metadata": {},
   "source": [
    "### Solving toyota duplication"
   ]
  },
  {
   "cell_type": "code",
   "execution_count": 17,
   "metadata": {},
   "outputs": [],
   "source": [
    "patents_new['assignee']=patents_new['assignee'].str.replace('toyota motor co ltd','toyota motor corp')"
   ]
  },
  {
   "cell_type": "code",
   "execution_count": 18,
   "metadata": {},
   "outputs": [],
   "source": [
    "patents_new['assignee']=patents_new['assignee'].str.replace('toyota jidosha kabushiki kaisha','toyota motor corp')"
   ]
  },
  {
   "cell_type": "code",
   "execution_count": 19,
   "metadata": {},
   "outputs": [],
   "source": [
    "patents_new['assignee']=patents_new['assignee'].str.replace('toyota motor co., ltd.','toyota motor corp')"
   ]
  },
  {
   "cell_type": "code",
   "execution_count": 20,
   "metadata": {},
   "outputs": [],
   "source": [
    "patents_new['assignee']=patents_new['assignee'].str.replace('toyota motor corporation','toyota motor corp')"
   ]
  },
  {
   "cell_type": "code",
   "execution_count": null,
   "metadata": {},
   "outputs": [],
   "source": []
  },
  {
   "cell_type": "code",
   "execution_count": 21,
   "metadata": {},
   "outputs": [
    {
     "data": {
      "text/plain": [
       "toyota motor corp                7991\n",
       "robert bosch gmbh                2653\n",
       "hyundai motor company            2230\n",
       "honda motor co ltd               1903\n",
       "nissan motor co ltd              1374\n",
       "                                 ... \n",
       "toppan printing company, ltd.       1\n",
       "inst francais du petrol             1\n",
       "edlund; dag                         1\n",
       "dae wha alloytech co.,ltd           1\n",
       "nazri, gholam-abbas                 1\n",
       "Name: assignee, Length: 14315, dtype: int64"
      ]
     },
     "execution_count": 21,
     "metadata": {},
     "output_type": "execute_result"
    }
   ],
   "source": [
    "patents_new['assignee'].value_counts()"
   ]
  },
  {
   "cell_type": "markdown",
   "metadata": {},
   "source": [
    "### For honda"
   ]
  },
  {
   "cell_type": "code",
   "execution_count": 22,
   "metadata": {},
   "outputs": [],
   "source": [
    "patents_new['assignee']=patents_new['assignee'].str.replace('honda motor co ltd','honda motor co ltd')"
   ]
  },
  {
   "cell_type": "code",
   "execution_count": 23,
   "metadata": {},
   "outputs": [],
   "source": [
    "patents_new['assignee']=patents_new['assignee'].str.replace('honda giken kogyo kabushiki kaisha','honda motor co ltd')"
   ]
  },
  {
   "cell_type": "code",
   "execution_count": 24,
   "metadata": {},
   "outputs": [],
   "source": [
    "patents_new['assignee']=patents_new['assignee'].str.replace('honda motor co., ltd.','honda motor co ltd')"
   ]
  },
  {
   "cell_type": "code",
   "execution_count": 25,
   "metadata": {},
   "outputs": [
    {
     "data": {
      "text/plain": [
       "toyota motor corp                                            7991\n",
       "honda motor co ltd                                           3865\n",
       "robert bosch gmbh                                            2653\n",
       "hyundai motor company                                        2230\n",
       "nissan motor co ltd                                          1374\n",
       "                                                             ... \n",
       "motorenfabrik hatz-gmbh & co. kg                                1\n",
       "iordanescu, fanel                                               1\n",
       "changchun sida automotive technology consulting co., ltd.       1\n",
       "launch software (shenzhen) co., ltd.                            1\n",
       "yazaka corporation                                              1\n",
       "Name: assignee, Length: 14313, dtype: int64"
      ]
     },
     "execution_count": 25,
     "metadata": {},
     "output_type": "execute_result"
    }
   ],
   "source": [
    "patents_new['assignee'].value_counts()"
   ]
  },
  {
   "cell_type": "markdown",
   "metadata": {},
   "source": [
    "### nissan"
   ]
  },
  {
   "cell_type": "code",
   "execution_count": 26,
   "metadata": {},
   "outputs": [],
   "source": [
    "patents_new['assignee']=patents_new['assignee'].str.replace('nissan motor co., ltd.','nissan motor co ltd')"
   ]
  },
  {
   "cell_type": "code",
   "execution_count": 27,
   "metadata": {},
   "outputs": [
    {
     "data": {
      "text/plain": [
       "toyota motor corp                                                                                                 7991\n",
       "honda motor co ltd                                                                                                3865\n",
       "robert bosch gmbh                                                                                                 2653\n",
       "nissan motor co ltd                                                                                               2515\n",
       "hyundai motor company                                                                                             2230\n",
       "                                                                                                                  ... \n",
       "yongliang electronics co., ltd., suzhou city                                                                         1\n",
       "brp-rotax gmbh & co. kg                                                                                              1\n",
       "české vysoké učení technické v praze, fakulta strojní, centrum kompetence automobilového průmyslu josefa božka       1\n",
       "new-energy automobile engineering center, tongji univ.                                                               1\n",
       "ranalli, marco                                                                                                       1\n",
       "Name: assignee, Length: 14311, dtype: int64"
      ]
     },
     "execution_count": 27,
     "metadata": {},
     "output_type": "execute_result"
    }
   ],
   "source": [
    "patents_new['assignee'].value_counts()"
   ]
  },
  {
   "cell_type": "markdown",
   "metadata": {},
   "source": [
    "### mitsubishi"
   ]
  },
  {
   "cell_type": "code",
   "execution_count": 28,
   "metadata": {},
   "outputs": [],
   "source": [
    "patents_new['assignee']=patents_new['assignee'].str.replace('mitsubishi jidosha kogyo kabushiki kaisha','mitsubishi motors corp')"
   ]
  },
  {
   "cell_type": "code",
   "execution_count": 29,
   "metadata": {},
   "outputs": [],
   "source": [
    "patents_new['assignee']=patents_new['assignee'].str.replace('mitsubishi electric corporation','mitsubishi electric corp')"
   ]
  },
  {
   "cell_type": "code",
   "execution_count": 30,
   "metadata": {},
   "outputs": [],
   "source": [
    "patents_new['assignee']=patents_new['assignee'].str.replace('mitsubishi denki kabushiki kaisha','mitsubishi motors corp')"
   ]
  },
  {
   "cell_type": "code",
   "execution_count": null,
   "metadata": {},
   "outputs": [],
   "source": []
  },
  {
   "cell_type": "code",
   "execution_count": 31,
   "metadata": {},
   "outputs": [
    {
     "data": {
      "text/plain": [
       "toyota motor corp                   7991\n",
       "honda motor co ltd                  3865\n",
       "robert bosch gmbh                   2653\n",
       "nissan motor co ltd                 2515\n",
       "hyundai motor company               2230\n",
       "                                    ... \n",
       "plantz, basil, l.                      1\n",
       "zhao shuhang                           1\n",
       "microsoft corporation                  1\n",
       "motorenfabrik hatz-gmbh & co. kg       1\n",
       "schramme, martin                       1\n",
       "Name: assignee, Length: 14308, dtype: int64"
      ]
     },
     "execution_count": 31,
     "metadata": {},
     "output_type": "execute_result"
    }
   ],
   "source": [
    "patents_new['assignee'].value_counts()"
   ]
  },
  {
   "cell_type": "markdown",
   "metadata": {},
   "source": [
    "### hyundai"
   ]
  },
  {
   "cell_type": "code",
   "execution_count": null,
   "metadata": {},
   "outputs": [],
   "source": []
  },
  {
   "cell_type": "code",
   "execution_count": 32,
   "metadata": {},
   "outputs": [],
   "source": [
    "patents_new['assignee']=patents_new['assignee'].str.replace('hyundai motor company','hyundai motor co ltd')"
   ]
  },
  {
   "cell_type": "code",
   "execution_count": 33,
   "metadata": {},
   "outputs": [],
   "source": [
    "patents_new['assignee']=patents_new['assignee'].str.replace('hyundai motor company','hyundai motor co ltd')"
   ]
  },
  {
   "cell_type": "code",
   "execution_count": 34,
   "metadata": {
    "scrolled": true
   },
   "outputs": [
    {
     "data": {
      "text/plain": [
       "toyota motor corp       7991\n",
       "honda motor co ltd      3865\n",
       "robert bosch gmbh       2653\n",
       "nissan motor co ltd     2515\n",
       "hyundai motor co ltd    2447\n",
       "                        ... \n",
       "zhang qingchun             1\n",
       "mori, naoto                1\n",
       "acena, miguel angel        1\n",
       "kanzaki, takao             1\n",
       "schwarze, malte            1\n",
       "Name: assignee, Length: 14307, dtype: int64"
      ]
     },
     "execution_count": 34,
     "metadata": {},
     "output_type": "execute_result"
    }
   ],
   "source": [
    "patents_new['assignee'].value_counts()"
   ]
  },
  {
   "cell_type": "code",
   "execution_count": 35,
   "metadata": {},
   "outputs": [],
   "source": [
    "patents_new['assignee']=patents_new['assignee'].str.replace('hitachi, ltd.','hitachi ltd')"
   ]
  },
  {
   "cell_type": "code",
   "execution_count": 36,
   "metadata": {},
   "outputs": [
    {
     "data": {
      "text/plain": [
       "toyota motor corp                                     7991\n",
       "honda motor co ltd                                    3865\n",
       "robert bosch gmbh                                     2653\n",
       "nissan motor co ltd                                   2515\n",
       "hyundai motor co ltd                                  2447\n",
       "ford global technologies, llc                         1192\n",
       "mitsubishi motors corp                                 875\n",
       "hitachi ltd                                            715\n",
       "denso corp                                             603\n",
       "peugeot citroen automobiles sa                         598\n",
       "mitsubishi electric corp                               474\n",
       "denso corporation                                      337\n",
       "daimlerchrysler ag                                     335\n",
       "continental automotive gmbh                            316\n",
       "siemens aktiengesellschaft                             285\n",
       "gm global technology operations llc                    285\n",
       "yamaha hatsudoki kabushiki kaisha                      280\n",
       "suzuki motor corp                                      272\n",
       "mazda motor corp                                       268\n",
       "renault s.a.s.                                         240\n",
       "suzuki motor corporation                               229\n",
       "audi ag                                                226\n",
       "lsis co., ltd.                                         214\n",
       "bayerische motoren werke aktiengesellschaft            212\n",
       "renault s.a.s                                          198\n",
       "volkswagen aktiengesellschaft                          195\n",
       "general electric company                               195\n",
       "renault sas                                            194\n",
       "general motors corporation                             184\n",
       "ford global technologies, inc.                         184\n",
       "volkswagen ag                                          179\n",
       "isuzu motors ltd                                       169\n",
       "aisin aw co., ltd.                                     167\n",
       "daimler ag                                             165\n",
       "fuji heavy ind ltd                                     162\n",
       "ford global tech llc                                   152\n",
       "daihatsu motor co ltd                                  148\n",
       "ford motor company                                     142\n",
       "beiqi foton motor co., ltd.                            138\n",
       "aisin aw co ltd                                        136\n",
       "sony corporation                                       134\n",
       "avl list gmbh                                          134\n",
       "yamaha motor co ltd                                    130\n",
       "renault                                                128\n",
       "jaguar land rover limited                              127\n",
       "byd company limited                                    125\n",
       "korea advanced institute of science and technology     121\n",
       "toshiba corp                                           120\n",
       "kia motors corporation                                 119\n",
       "kawasaki jukogyo kabushiki kaisha                      117\n",
       "Name: assignee, dtype: int64"
      ]
     },
     "execution_count": 36,
     "metadata": {},
     "output_type": "execute_result"
    }
   ],
   "source": [
    "patents_new['assignee'].value_counts()[:50]"
   ]
  },
  {
   "cell_type": "markdown",
   "metadata": {},
   "source": [
    "### ford"
   ]
  },
  {
   "cell_type": "code",
   "execution_count": 37,
   "metadata": {},
   "outputs": [],
   "source": [
    "patents_new['assignee']=patents_new['assignee'].str.replace('ford global tech llc','ford global technologies inc')"
   ]
  },
  {
   "cell_type": "code",
   "execution_count": 38,
   "metadata": {},
   "outputs": [],
   "source": [
    "patents_new['assignee']=patents_new['assignee'].str.replace('ford global technologies, inc.','ford global technologies inc')"
   ]
  },
  {
   "cell_type": "code",
   "execution_count": 39,
   "metadata": {},
   "outputs": [],
   "source": [
    "patents_new['assignee']=patents_new['assignee'].str.replace('ford global technologies, llc','ford global technologies inc')"
   ]
  },
  {
   "cell_type": "code",
   "execution_count": 40,
   "metadata": {},
   "outputs": [],
   "source": [
    "patents_new['assignee']=patents_new['assignee'].str.replace('ford global technologies, llc','ford global technologies inc')"
   ]
  },
  {
   "cell_type": "code",
   "execution_count": 41,
   "metadata": {},
   "outputs": [],
   "source": [
    "patents_new['assignee']=patents_new['assignee'].str.replace('ford global technologies llc','ford global technologies inc')"
   ]
  },
  {
   "cell_type": "code",
   "execution_count": null,
   "metadata": {},
   "outputs": [],
   "source": []
  },
  {
   "cell_type": "code",
   "execution_count": 42,
   "metadata": {},
   "outputs": [
    {
     "data": {
      "text/plain": [
       "toyota motor corp                                     7991\n",
       "honda motor co ltd                                    3865\n",
       "robert bosch gmbh                                     2653\n",
       "nissan motor co ltd                                   2515\n",
       "hyundai motor co ltd                                  2447\n",
       "ford global technologies inc                          1652\n",
       "mitsubishi motors corp                                 875\n",
       "hitachi ltd                                            715\n",
       "denso corp                                             603\n",
       "peugeot citroen automobiles sa                         598\n",
       "mitsubishi electric corp                               474\n",
       "denso corporation                                      337\n",
       "daimlerchrysler ag                                     335\n",
       "continental automotive gmbh                            316\n",
       "gm global technology operations llc                    285\n",
       "siemens aktiengesellschaft                             285\n",
       "yamaha hatsudoki kabushiki kaisha                      280\n",
       "suzuki motor corp                                      272\n",
       "mazda motor corp                                       268\n",
       "renault s.a.s.                                         240\n",
       "suzuki motor corporation                               229\n",
       "audi ag                                                226\n",
       "lsis co., ltd.                                         214\n",
       "bayerische motoren werke aktiengesellschaft            212\n",
       "renault s.a.s                                          198\n",
       "volkswagen aktiengesellschaft                          195\n",
       "general electric company                               195\n",
       "renault sas                                            194\n",
       "general motors corporation                             184\n",
       "volkswagen ag                                          179\n",
       "isuzu motors ltd                                       169\n",
       "aisin aw co., ltd.                                     167\n",
       "daimler ag                                             165\n",
       "fuji heavy ind ltd                                     162\n",
       "daihatsu motor co ltd                                  148\n",
       "ford motor company                                     142\n",
       "beiqi foton motor co., ltd.                            138\n",
       "aisin aw co ltd                                        136\n",
       "avl list gmbh                                          134\n",
       "sony corporation                                       134\n",
       "yamaha motor co ltd                                    130\n",
       "renault                                                128\n",
       "jaguar land rover limited                              127\n",
       "byd company limited                                    125\n",
       "korea advanced institute of science and technology     121\n",
       "toshiba corp                                           120\n",
       "kia motors corporation                                 119\n",
       "kawasaki jukogyo kabushiki kaisha                      117\n",
       "ntn corporation                                        114\n",
       "mahle international gmbh                               113\n",
       "Name: assignee, dtype: int64"
      ]
     },
     "execution_count": 42,
     "metadata": {},
     "output_type": "execute_result"
    }
   ],
   "source": [
    "patents_new['assignee'].value_counts()[:50]"
   ]
  },
  {
   "cell_type": "markdown",
   "metadata": {},
   "source": [
    "### clearing . and ,"
   ]
  },
  {
   "cell_type": "code",
   "execution_count": 43,
   "metadata": {},
   "outputs": [],
   "source": [
    "patents_new['assignee'] = patents_new['assignee'].str.replace(\",\",\"\")"
   ]
  },
  {
   "cell_type": "code",
   "execution_count": 44,
   "metadata": {},
   "outputs": [],
   "source": [
    "patents_new['assignee'] = patents_new['assignee'].str.replace(\".\",\"\")"
   ]
  },
  {
   "cell_type": "code",
   "execution_count": 45,
   "metadata": {},
   "outputs": [
    {
     "data": {
      "text/plain": [
       "toyota motor corp                                     7997\n",
       "honda motor co ltd                                    3899\n",
       "robert bosch gmbh                                     2659\n",
       "nissan motor co ltd                                   2596\n",
       "hyundai motor co ltd                                  2532\n",
       "ford global technologies inc                          1671\n",
       "mitsubishi motors corp                                 899\n",
       "hitachi ltd                                            759\n",
       "denso corp                                             640\n",
       "renault sas                                            632\n",
       "peugeot citroen automobiles sa                         626\n",
       "mitsubishi electric corp                               513\n",
       "daimlerchrysler ag                                     338\n",
       "denso corporation                                      337\n",
       "continental automotive gmbh                            316\n",
       "aisin aw co ltd                                        306\n",
       "suzuki motor corp                                      299\n",
       "gm global technology operations llc                    291\n",
       "siemens aktiengesellschaft                             285\n",
       "yamaha hatsudoki kabushiki kaisha                      280\n",
       "mazda motor corp                                       274\n",
       "lsis co ltd                                            253\n",
       "suzuki motor corporation                               229\n",
       "audi ag                                                226\n",
       "bayerische motoren werke aktiengesellschaft            212\n",
       "general electric company                               199\n",
       "volkswagen aktiengesellschaft                          195\n",
       "isuzu motors ltd                                       194\n",
       "hitachi automotive systems ltd                         192\n",
       "yamaha motor co ltd                                    186\n",
       "general motors corporation                             184\n",
       "volkswagen ag                                          180\n",
       "hino motors ltd                                        168\n",
       "fuji heavy ind ltd                                     168\n",
       "daimler ag                                             165\n",
       "daihatsu motor co ltd                                  159\n",
       "ford motor company                                     142\n",
       "beiqi foton motor co ltd                               138\n",
       "avl list gmbh                                          134\n",
       "sony corporation                                       134\n",
       "renault                                                128\n",
       "jaguar land rover limited                              127\n",
       "byd company limited                                    125\n",
       "toshiba corp                                           123\n",
       "korea advanced institute of science and technology     121\n",
       "nippondenso co ltd                                     120\n",
       "kia motors corporation                                 119\n",
       "kawasaki jukogyo kabushiki kaisha                      117\n",
       "ntn corporation                                        114\n",
       "mahle international gmbh                               113\n",
       "Name: assignee, dtype: int64"
      ]
     },
     "execution_count": 45,
     "metadata": {},
     "output_type": "execute_result"
    }
   ],
   "source": [
    "patents_new['assignee'].value_counts()[:50]"
   ]
  },
  {
   "cell_type": "markdown",
   "metadata": {},
   "source": [
    "### renault sas vs renault"
   ]
  },
  {
   "cell_type": "code",
   "execution_count": 46,
   "metadata": {},
   "outputs": [],
   "source": [
    "patents_new['assignee']=patents_new['assignee'].str.replace('renault','renault sas')"
   ]
  },
  {
   "cell_type": "code",
   "execution_count": 47,
   "metadata": {},
   "outputs": [],
   "source": [
    "patents_new['assignee']=patents_new['assignee'].str.replace('renault sas sas','renault sas')"
   ]
  },
  {
   "cell_type": "code",
   "execution_count": 48,
   "metadata": {},
   "outputs": [
    {
     "data": {
      "text/plain": [
       "toyota motor corp                   7997\n",
       "honda motor co ltd                  3899\n",
       "robert bosch gmbh                   2659\n",
       "nissan motor co ltd                 2596\n",
       "hyundai motor co ltd                2532\n",
       "                                    ... \n",
       "mitsubishi fuso truck & bus corp      61\n",
       "detroit diesel corporation            61\n",
       "ford motor co                         60\n",
       "peugeot citroën automobiles sa        60\n",
       "dr ing hcf porsche ag                 59\n",
       "Name: assignee, Length: 100, dtype: int64"
      ]
     },
     "execution_count": 48,
     "metadata": {},
     "output_type": "execute_result"
    }
   ],
   "source": [
    "patents_new['assignee'].value_counts()[:100]"
   ]
  },
  {
   "cell_type": "markdown",
   "metadata": {},
   "source": [
    "### Removing really lower patent ones now"
   ]
  },
  {
   "cell_type": "code",
   "execution_count": 49,
   "metadata": {},
   "outputs": [],
   "source": [
    "patents_new['assignee']=patents_new['assignee'].str.replace('nissan motor company limited','nissan motor co ltd')"
   ]
  },
  {
   "cell_type": "code",
   "execution_count": 50,
   "metadata": {},
   "outputs": [],
   "source": [
    "patents_new['assignee']=patents_new['assignee'].str.replace('aisin seiki kabushiki kaisha','aisin aw co ltd')"
   ]
  },
  {
   "cell_type": "code",
   "execution_count": 51,
   "metadata": {},
   "outputs": [],
   "source": [
    "patents_new['assignee']=patents_new['assignee'].str.replace('hyundai motor co ltd co ltd','hyundai motor co ltd')"
   ]
  },
  {
   "cell_type": "code",
   "execution_count": 52,
   "metadata": {},
   "outputs": [
    {
     "data": {
      "text/html": [
       "<div>\n",
       "<style scoped>\n",
       "    .dataframe tbody tr th:only-of-type {\n",
       "        vertical-align: middle;\n",
       "    }\n",
       "\n",
       "    .dataframe tbody tr th {\n",
       "        vertical-align: top;\n",
       "    }\n",
       "\n",
       "    .dataframe thead th {\n",
       "        text-align: right;\n",
       "    }\n",
       "</style>\n",
       "<table border=\"1\" class=\"dataframe\">\n",
       "  <thead>\n",
       "    <tr style=\"text-align: right;\">\n",
       "      <th></th>\n",
       "      <th>appln</th>\n",
       "      <th>appln_id</th>\n",
       "      <th>family_id</th>\n",
       "      <th>sets</th>\n",
       "      <th>direct</th>\n",
       "      <th>granted</th>\n",
       "      <th>earliest_appln</th>\n",
       "      <th>earliest_filing_date</th>\n",
       "      <th>publn_date</th>\n",
       "      <th>publn</th>\n",
       "      <th>...</th>\n",
       "      <th>citing_publn</th>\n",
       "      <th>citing_appln</th>\n",
       "      <th>citing_appln_id</th>\n",
       "      <th>citing_family_id</th>\n",
       "      <th>num_citing_family</th>\n",
       "      <th>earliest_applt</th>\n",
       "      <th>current_applt</th>\n",
       "      <th>appln_title</th>\n",
       "      <th>appln_abstr</th>\n",
       "      <th>assignee</th>\n",
       "    </tr>\n",
       "  </thead>\n",
       "  <tbody>\n",
       "    <tr>\n",
       "      <th>0</th>\n",
       "      <td>WO9105114W</td>\n",
       "      <td>47158713</td>\n",
       "      <td>1239277</td>\n",
       "      <td>2</td>\n",
       "      <td>1</td>\n",
       "      <td>1</td>\n",
       "      <td>US55592190A</td>\n",
       "      <td>1990-07-19</td>\n",
       "      <td>1993-02-18</td>\n",
       "      <td>WO9303532A1</td>\n",
       "      <td>...</td>\n",
       "      <td>WO0199222A3</td>\n",
       "      <td>WO0119827W</td>\n",
       "      <td>45621927</td>\n",
       "      <td>24395918</td>\n",
       "      <td>30</td>\n",
       "      <td>LUZ ELECTRIC FUEL ISRAEL LTD.</td>\n",
       "      <td>LUZ ELECTRIC FUEL ISRAEL LTD.</td>\n",
       "      <td>ELECTRICAL ENERGY SYSTEM</td>\n",
       "      <td>An electrical energy system including an elect...</td>\n",
       "      <td>luz electric fuel israel ltd</td>\n",
       "    </tr>\n",
       "    <tr>\n",
       "      <th>1</th>\n",
       "      <td>US55592190A</td>\n",
       "      <td>51797454</td>\n",
       "      <td>1239277</td>\n",
       "      <td>2</td>\n",
       "      <td>1</td>\n",
       "      <td>1</td>\n",
       "      <td>US55592190A</td>\n",
       "      <td>1990-07-19</td>\n",
       "      <td>1992-06-09</td>\n",
       "      <td>US5121044A</td>\n",
       "      <td>...</td>\n",
       "      <td>US5208526A\\nEP0557287A4\\nUS5349535A\\nUS5434020...</td>\n",
       "      <td>US63645090A\\nEP91915464A\\nUS96399792A\\nUS15296...</td>\n",
       "      <td>52393850\\n16916549\\n54353461\\n48212422\\n457802...</td>\n",
       "      <td>27071024\\n1239277\\n25508001\\n22545199\\n2636904...</td>\n",
       "      <td>30</td>\n",
       "      <td>Luz Electric Fuel Israel, Ltd.</td>\n",
       "      <td>Luz Electric Fuel Israel, Ltd.</td>\n",
       "      <td>Electrical energy system</td>\n",
       "      <td>An electrical energy system including an elect...</td>\n",
       "      <td>luz electric fuel israel ltd</td>\n",
       "    </tr>\n",
       "    <tr>\n",
       "      <th>2</th>\n",
       "      <td>EP96927918A</td>\n",
       "      <td>17205496</td>\n",
       "      <td>1341188</td>\n",
       "      <td>4</td>\n",
       "      <td>0</td>\n",
       "      <td>0</td>\n",
       "      <td>JP4059995A</td>\n",
       "      <td>1995-02-28</td>\n",
       "      <td>1998-08-12</td>\n",
       "      <td>EP0857862A1</td>\n",
       "      <td>...</td>\n",
       "      <td>EP1167708A2\\nDE10029978A1\\nDE10105233A1\\nEP220...</td>\n",
       "      <td>EP01115227A\\nDE10029978A\\nDE10105233A\\nEP08842...</td>\n",
       "      <td>15814252\\n12936842\\n12970055\\n57178895</td>\n",
       "      <td>7646156\\n7646156\\n7672964\\n40580359</td>\n",
       "      <td>31</td>\n",
       "      <td>SUMITOMO ELECTRIC INDUSTRIES, LTD.</td>\n",
       "      <td>SUMITOMO ELECTRIC INDUSTRIES, LTD.</td>\n",
       "      <td>PARTICULATE TRAP FOR A DIESEL ENGINE</td>\n",
       "      <td>An object is to provide a particulate trap for...</td>\n",
       "      <td>sumitomo electric industries ltd</td>\n",
       "    </tr>\n",
       "    <tr>\n",
       "      <th>3</th>\n",
       "      <td>JP4059995A</td>\n",
       "      <td>27121457</td>\n",
       "      <td>1341188</td>\n",
       "      <td>4</td>\n",
       "      <td>1</td>\n",
       "      <td>0</td>\n",
       "      <td>JP4059995A</td>\n",
       "      <td>1995-02-28</td>\n",
       "      <td>1996-09-10</td>\n",
       "      <td>JPH08229330A</td>\n",
       "      <td>...</td>\n",
       "      <td>KR20100103462A\\nJP2011502743A\\nJP2013078764A\\n...</td>\n",
       "      <td>KR20107010572A\\nJP2010531202A\\nJP2012279486A\\n...</td>\n",
       "      <td>328440678\\n332201837\\n406999716\\n378212937\\n41...</td>\n",
       "      <td>40580359\\n40580359\\n40580359\\n40580359\\n405803...</td>\n",
       "      <td>31</td>\n",
       "      <td>SUMITOMO ELECTRIC IND LTD</td>\n",
       "      <td>SUMITOMO ELECTRIC IND LTD</td>\n",
       "      <td>PARTICULATE TRAP FOR DIESEL ENGINE</td>\n",
       "      <td>PURPOSE: To obtain a trap by which the leakage...</td>\n",
       "      <td>sumitomo electric ind ltd</td>\n",
       "    </tr>\n",
       "    <tr>\n",
       "      <th>4</th>\n",
       "      <td>WO9602405W</td>\n",
       "      <td>30070806</td>\n",
       "      <td>1341188</td>\n",
       "      <td>4</td>\n",
       "      <td>0</td>\n",
       "      <td>0</td>\n",
       "      <td>JP4059995A</td>\n",
       "      <td>1995-02-28</td>\n",
       "      <td>1998-03-05</td>\n",
       "      <td>WO9809059A1</td>\n",
       "      <td>...</td>\n",
       "      <td>NaN</td>\n",
       "      <td>NaN</td>\n",
       "      <td>NaN</td>\n",
       "      <td>NaN</td>\n",
       "      <td>31</td>\n",
       "      <td>Sumitomo Electric Industries, Ltd.</td>\n",
       "      <td>Sumitomo Electric Industries, Ltd.</td>\n",
       "      <td>PARTICULATE TRAP FOR A DIESEL ENGINE</td>\n",
       "      <td>A particulate trap for a diesel engine designe...</td>\n",
       "      <td>sumitomo electric industries ltd</td>\n",
       "    </tr>\n",
       "  </tbody>\n",
       "</table>\n",
       "<p>5 rows × 35 columns</p>\n",
       "</div>"
      ],
      "text/plain": [
       "         appln  appln_id  family_id  sets  direct  granted earliest_appln  \\\n",
       "0   WO9105114W  47158713    1239277     2       1        1    US55592190A   \n",
       "1  US55592190A  51797454    1239277     2       1        1    US55592190A   \n",
       "2  EP96927918A  17205496    1341188     4       0        0     JP4059995A   \n",
       "3   JP4059995A  27121457    1341188     4       1        0     JP4059995A   \n",
       "4   WO9602405W  30070806    1341188     4       0        0     JP4059995A   \n",
       "\n",
       "  earliest_filing_date  publn_date         publn  ...  \\\n",
       "0           1990-07-19  1993-02-18   WO9303532A1  ...   \n",
       "1           1990-07-19  1992-06-09    US5121044A  ...   \n",
       "2           1995-02-28  1998-08-12   EP0857862A1  ...   \n",
       "3           1995-02-28  1996-09-10  JPH08229330A  ...   \n",
       "4           1995-02-28  1998-03-05   WO9809059A1  ...   \n",
       "\n",
       "                                        citing_publn  \\\n",
       "0                                        WO0199222A3   \n",
       "1  US5208526A\\nEP0557287A4\\nUS5349535A\\nUS5434020...   \n",
       "2  EP1167708A2\\nDE10029978A1\\nDE10105233A1\\nEP220...   \n",
       "3  KR20100103462A\\nJP2011502743A\\nJP2013078764A\\n...   \n",
       "4                                                NaN   \n",
       "\n",
       "                                        citing_appln  \\\n",
       "0                                         WO0119827W   \n",
       "1  US63645090A\\nEP91915464A\\nUS96399792A\\nUS15296...   \n",
       "2  EP01115227A\\nDE10029978A\\nDE10105233A\\nEP08842...   \n",
       "3  KR20107010572A\\nJP2010531202A\\nJP2012279486A\\n...   \n",
       "4                                                NaN   \n",
       "\n",
       "                                     citing_appln_id  \\\n",
       "0                                           45621927   \n",
       "1  52393850\\n16916549\\n54353461\\n48212422\\n457802...   \n",
       "2             15814252\\n12936842\\n12970055\\n57178895   \n",
       "3  328440678\\n332201837\\n406999716\\n378212937\\n41...   \n",
       "4                                                NaN   \n",
       "\n",
       "                                    citing_family_id  num_citing_family  \\\n",
       "0                                           24395918                 30   \n",
       "1  27071024\\n1239277\\n25508001\\n22545199\\n2636904...                 30   \n",
       "2                7646156\\n7646156\\n7672964\\n40580359                 31   \n",
       "3  40580359\\n40580359\\n40580359\\n40580359\\n405803...                 31   \n",
       "4                                                NaN                 31   \n",
       "\n",
       "                       earliest_applt                       current_applt  \\\n",
       "0       LUZ ELECTRIC FUEL ISRAEL LTD.       LUZ ELECTRIC FUEL ISRAEL LTD.   \n",
       "1      Luz Electric Fuel Israel, Ltd.      Luz Electric Fuel Israel, Ltd.   \n",
       "2  SUMITOMO ELECTRIC INDUSTRIES, LTD.  SUMITOMO ELECTRIC INDUSTRIES, LTD.   \n",
       "3           SUMITOMO ELECTRIC IND LTD           SUMITOMO ELECTRIC IND LTD   \n",
       "4  Sumitomo Electric Industries, Ltd.  Sumitomo Electric Industries, Ltd.   \n",
       "\n",
       "                            appln_title  \\\n",
       "0              ELECTRICAL ENERGY SYSTEM   \n",
       "1              Electrical energy system   \n",
       "2  PARTICULATE TRAP FOR A DIESEL ENGINE   \n",
       "3    PARTICULATE TRAP FOR DIESEL ENGINE   \n",
       "4  PARTICULATE TRAP FOR A DIESEL ENGINE   \n",
       "\n",
       "                                         appln_abstr  \\\n",
       "0  An electrical energy system including an elect...   \n",
       "1  An electrical energy system including an elect...   \n",
       "2  An object is to provide a particulate trap for...   \n",
       "3  PURPOSE: To obtain a trap by which the leakage...   \n",
       "4  A particulate trap for a diesel engine designe...   \n",
       "\n",
       "                           assignee  \n",
       "0      luz electric fuel israel ltd  \n",
       "1      luz electric fuel israel ltd  \n",
       "2  sumitomo electric industries ltd  \n",
       "3         sumitomo electric ind ltd  \n",
       "4  sumitomo electric industries ltd  \n",
       "\n",
       "[5 rows x 35 columns]"
      ]
     },
     "execution_count": 52,
     "metadata": {},
     "output_type": "execute_result"
    }
   ],
   "source": [
    "patents_new.head()"
   ]
  },
  {
   "cell_type": "code",
   "execution_count": 53,
   "metadata": {},
   "outputs": [],
   "source": [
    "import pickle\n",
    "patents_new.to_pickle('patent_firm_clean.pkl')"
   ]
  },
  {
   "cell_type": "code",
   "execution_count": 54,
   "metadata": {},
   "outputs": [],
   "source": [
    "patent = pd.read_pickle('patent_firm_clean.pkl')"
   ]
  },
  {
   "cell_type": "code",
   "execution_count": 55,
   "metadata": {},
   "outputs": [
    {
     "data": {
      "text/html": [
       "<div>\n",
       "<style scoped>\n",
       "    .dataframe tbody tr th:only-of-type {\n",
       "        vertical-align: middle;\n",
       "    }\n",
       "\n",
       "    .dataframe tbody tr th {\n",
       "        vertical-align: top;\n",
       "    }\n",
       "\n",
       "    .dataframe thead th {\n",
       "        text-align: right;\n",
       "    }\n",
       "</style>\n",
       "<table border=\"1\" class=\"dataframe\">\n",
       "  <thead>\n",
       "    <tr style=\"text-align: right;\">\n",
       "      <th></th>\n",
       "      <th>appln</th>\n",
       "      <th>appln_id</th>\n",
       "      <th>family_id</th>\n",
       "      <th>sets</th>\n",
       "      <th>direct</th>\n",
       "      <th>granted</th>\n",
       "      <th>earliest_appln</th>\n",
       "      <th>earliest_filing_date</th>\n",
       "      <th>publn_date</th>\n",
       "      <th>publn</th>\n",
       "      <th>...</th>\n",
       "      <th>citing_publn</th>\n",
       "      <th>citing_appln</th>\n",
       "      <th>citing_appln_id</th>\n",
       "      <th>citing_family_id</th>\n",
       "      <th>num_citing_family</th>\n",
       "      <th>earliest_applt</th>\n",
       "      <th>current_applt</th>\n",
       "      <th>appln_title</th>\n",
       "      <th>appln_abstr</th>\n",
       "      <th>assignee</th>\n",
       "    </tr>\n",
       "  </thead>\n",
       "  <tbody>\n",
       "    <tr>\n",
       "      <th>0</th>\n",
       "      <td>WO9105114W</td>\n",
       "      <td>47158713</td>\n",
       "      <td>1239277</td>\n",
       "      <td>2</td>\n",
       "      <td>1</td>\n",
       "      <td>1</td>\n",
       "      <td>US55592190A</td>\n",
       "      <td>1990-07-19</td>\n",
       "      <td>1993-02-18</td>\n",
       "      <td>WO9303532A1</td>\n",
       "      <td>...</td>\n",
       "      <td>WO0199222A3</td>\n",
       "      <td>WO0119827W</td>\n",
       "      <td>45621927</td>\n",
       "      <td>24395918</td>\n",
       "      <td>30</td>\n",
       "      <td>LUZ ELECTRIC FUEL ISRAEL LTD.</td>\n",
       "      <td>LUZ ELECTRIC FUEL ISRAEL LTD.</td>\n",
       "      <td>ELECTRICAL ENERGY SYSTEM</td>\n",
       "      <td>An electrical energy system including an elect...</td>\n",
       "      <td>luz electric fuel israel ltd</td>\n",
       "    </tr>\n",
       "    <tr>\n",
       "      <th>1</th>\n",
       "      <td>US55592190A</td>\n",
       "      <td>51797454</td>\n",
       "      <td>1239277</td>\n",
       "      <td>2</td>\n",
       "      <td>1</td>\n",
       "      <td>1</td>\n",
       "      <td>US55592190A</td>\n",
       "      <td>1990-07-19</td>\n",
       "      <td>1992-06-09</td>\n",
       "      <td>US5121044A</td>\n",
       "      <td>...</td>\n",
       "      <td>US5208526A\\nEP0557287A4\\nUS5349535A\\nUS5434020...</td>\n",
       "      <td>US63645090A\\nEP91915464A\\nUS96399792A\\nUS15296...</td>\n",
       "      <td>52393850\\n16916549\\n54353461\\n48212422\\n457802...</td>\n",
       "      <td>27071024\\n1239277\\n25508001\\n22545199\\n2636904...</td>\n",
       "      <td>30</td>\n",
       "      <td>Luz Electric Fuel Israel, Ltd.</td>\n",
       "      <td>Luz Electric Fuel Israel, Ltd.</td>\n",
       "      <td>Electrical energy system</td>\n",
       "      <td>An electrical energy system including an elect...</td>\n",
       "      <td>luz electric fuel israel ltd</td>\n",
       "    </tr>\n",
       "    <tr>\n",
       "      <th>2</th>\n",
       "      <td>EP96927918A</td>\n",
       "      <td>17205496</td>\n",
       "      <td>1341188</td>\n",
       "      <td>4</td>\n",
       "      <td>0</td>\n",
       "      <td>0</td>\n",
       "      <td>JP4059995A</td>\n",
       "      <td>1995-02-28</td>\n",
       "      <td>1998-08-12</td>\n",
       "      <td>EP0857862A1</td>\n",
       "      <td>...</td>\n",
       "      <td>EP1167708A2\\nDE10029978A1\\nDE10105233A1\\nEP220...</td>\n",
       "      <td>EP01115227A\\nDE10029978A\\nDE10105233A\\nEP08842...</td>\n",
       "      <td>15814252\\n12936842\\n12970055\\n57178895</td>\n",
       "      <td>7646156\\n7646156\\n7672964\\n40580359</td>\n",
       "      <td>31</td>\n",
       "      <td>SUMITOMO ELECTRIC INDUSTRIES, LTD.</td>\n",
       "      <td>SUMITOMO ELECTRIC INDUSTRIES, LTD.</td>\n",
       "      <td>PARTICULATE TRAP FOR A DIESEL ENGINE</td>\n",
       "      <td>An object is to provide a particulate trap for...</td>\n",
       "      <td>sumitomo electric industries ltd</td>\n",
       "    </tr>\n",
       "    <tr>\n",
       "      <th>3</th>\n",
       "      <td>JP4059995A</td>\n",
       "      <td>27121457</td>\n",
       "      <td>1341188</td>\n",
       "      <td>4</td>\n",
       "      <td>1</td>\n",
       "      <td>0</td>\n",
       "      <td>JP4059995A</td>\n",
       "      <td>1995-02-28</td>\n",
       "      <td>1996-09-10</td>\n",
       "      <td>JPH08229330A</td>\n",
       "      <td>...</td>\n",
       "      <td>KR20100103462A\\nJP2011502743A\\nJP2013078764A\\n...</td>\n",
       "      <td>KR20107010572A\\nJP2010531202A\\nJP2012279486A\\n...</td>\n",
       "      <td>328440678\\n332201837\\n406999716\\n378212937\\n41...</td>\n",
       "      <td>40580359\\n40580359\\n40580359\\n40580359\\n405803...</td>\n",
       "      <td>31</td>\n",
       "      <td>SUMITOMO ELECTRIC IND LTD</td>\n",
       "      <td>SUMITOMO ELECTRIC IND LTD</td>\n",
       "      <td>PARTICULATE TRAP FOR DIESEL ENGINE</td>\n",
       "      <td>PURPOSE: To obtain a trap by which the leakage...</td>\n",
       "      <td>sumitomo electric ind ltd</td>\n",
       "    </tr>\n",
       "    <tr>\n",
       "      <th>4</th>\n",
       "      <td>WO9602405W</td>\n",
       "      <td>30070806</td>\n",
       "      <td>1341188</td>\n",
       "      <td>4</td>\n",
       "      <td>0</td>\n",
       "      <td>0</td>\n",
       "      <td>JP4059995A</td>\n",
       "      <td>1995-02-28</td>\n",
       "      <td>1998-03-05</td>\n",
       "      <td>WO9809059A1</td>\n",
       "      <td>...</td>\n",
       "      <td>NaN</td>\n",
       "      <td>NaN</td>\n",
       "      <td>NaN</td>\n",
       "      <td>NaN</td>\n",
       "      <td>31</td>\n",
       "      <td>Sumitomo Electric Industries, Ltd.</td>\n",
       "      <td>Sumitomo Electric Industries, Ltd.</td>\n",
       "      <td>PARTICULATE TRAP FOR A DIESEL ENGINE</td>\n",
       "      <td>A particulate trap for a diesel engine designe...</td>\n",
       "      <td>sumitomo electric industries ltd</td>\n",
       "    </tr>\n",
       "  </tbody>\n",
       "</table>\n",
       "<p>5 rows × 35 columns</p>\n",
       "</div>"
      ],
      "text/plain": [
       "         appln  appln_id  family_id  sets  direct  granted earliest_appln  \\\n",
       "0   WO9105114W  47158713    1239277     2       1        1    US55592190A   \n",
       "1  US55592190A  51797454    1239277     2       1        1    US55592190A   \n",
       "2  EP96927918A  17205496    1341188     4       0        0     JP4059995A   \n",
       "3   JP4059995A  27121457    1341188     4       1        0     JP4059995A   \n",
       "4   WO9602405W  30070806    1341188     4       0        0     JP4059995A   \n",
       "\n",
       "  earliest_filing_date  publn_date         publn  ...  \\\n",
       "0           1990-07-19  1993-02-18   WO9303532A1  ...   \n",
       "1           1990-07-19  1992-06-09    US5121044A  ...   \n",
       "2           1995-02-28  1998-08-12   EP0857862A1  ...   \n",
       "3           1995-02-28  1996-09-10  JPH08229330A  ...   \n",
       "4           1995-02-28  1998-03-05   WO9809059A1  ...   \n",
       "\n",
       "                                        citing_publn  \\\n",
       "0                                        WO0199222A3   \n",
       "1  US5208526A\\nEP0557287A4\\nUS5349535A\\nUS5434020...   \n",
       "2  EP1167708A2\\nDE10029978A1\\nDE10105233A1\\nEP220...   \n",
       "3  KR20100103462A\\nJP2011502743A\\nJP2013078764A\\n...   \n",
       "4                                                NaN   \n",
       "\n",
       "                                        citing_appln  \\\n",
       "0                                         WO0119827W   \n",
       "1  US63645090A\\nEP91915464A\\nUS96399792A\\nUS15296...   \n",
       "2  EP01115227A\\nDE10029978A\\nDE10105233A\\nEP08842...   \n",
       "3  KR20107010572A\\nJP2010531202A\\nJP2012279486A\\n...   \n",
       "4                                                NaN   \n",
       "\n",
       "                                     citing_appln_id  \\\n",
       "0                                           45621927   \n",
       "1  52393850\\n16916549\\n54353461\\n48212422\\n457802...   \n",
       "2             15814252\\n12936842\\n12970055\\n57178895   \n",
       "3  328440678\\n332201837\\n406999716\\n378212937\\n41...   \n",
       "4                                                NaN   \n",
       "\n",
       "                                    citing_family_id  num_citing_family  \\\n",
       "0                                           24395918                 30   \n",
       "1  27071024\\n1239277\\n25508001\\n22545199\\n2636904...                 30   \n",
       "2                7646156\\n7646156\\n7672964\\n40580359                 31   \n",
       "3  40580359\\n40580359\\n40580359\\n40580359\\n405803...                 31   \n",
       "4                                                NaN                 31   \n",
       "\n",
       "                       earliest_applt                       current_applt  \\\n",
       "0       LUZ ELECTRIC FUEL ISRAEL LTD.       LUZ ELECTRIC FUEL ISRAEL LTD.   \n",
       "1      Luz Electric Fuel Israel, Ltd.      Luz Electric Fuel Israel, Ltd.   \n",
       "2  SUMITOMO ELECTRIC INDUSTRIES, LTD.  SUMITOMO ELECTRIC INDUSTRIES, LTD.   \n",
       "3           SUMITOMO ELECTRIC IND LTD           SUMITOMO ELECTRIC IND LTD   \n",
       "4  Sumitomo Electric Industries, Ltd.  Sumitomo Electric Industries, Ltd.   \n",
       "\n",
       "                            appln_title  \\\n",
       "0              ELECTRICAL ENERGY SYSTEM   \n",
       "1              Electrical energy system   \n",
       "2  PARTICULATE TRAP FOR A DIESEL ENGINE   \n",
       "3    PARTICULATE TRAP FOR DIESEL ENGINE   \n",
       "4  PARTICULATE TRAP FOR A DIESEL ENGINE   \n",
       "\n",
       "                                         appln_abstr  \\\n",
       "0  An electrical energy system including an elect...   \n",
       "1  An electrical energy system including an elect...   \n",
       "2  An object is to provide a particulate trap for...   \n",
       "3  PURPOSE: To obtain a trap by which the leakage...   \n",
       "4  A particulate trap for a diesel engine designe...   \n",
       "\n",
       "                           assignee  \n",
       "0      luz electric fuel israel ltd  \n",
       "1      luz electric fuel israel ltd  \n",
       "2  sumitomo electric industries ltd  \n",
       "3         sumitomo electric ind ltd  \n",
       "4  sumitomo electric industries ltd  \n",
       "\n",
       "[5 rows x 35 columns]"
      ]
     },
     "execution_count": 55,
     "metadata": {},
     "output_type": "execute_result"
    }
   ],
   "source": [
    "patent.head()"
   ]
  },
  {
   "cell_type": "code",
   "execution_count": 56,
   "metadata": {},
   "outputs": [],
   "source": [
    "patent['assignee'] = patent['assignee'].str.replace(\",\",\"\")"
   ]
  },
  {
   "cell_type": "code",
   "execution_count": 57,
   "metadata": {},
   "outputs": [],
   "source": [
    "patent['assignee'] = patent['assignee'].str.replace(\".\",\"\")"
   ]
  },
  {
   "cell_type": "code",
   "execution_count": 58,
   "metadata": {},
   "outputs": [
    {
     "data": {
      "text/plain": [
       "toyota motor corp                 7997\n",
       "honda motor co ltd                3899\n",
       "nissan motor co ltd               2670\n",
       "robert bosch gmbh                 2659\n",
       "hyundai motor co ltd              2597\n",
       "                                  ... \n",
       "ford motor co                       60\n",
       "peugeot citroën automobiles sa      60\n",
       "dr ing hcf porsche ag               59\n",
       "fuji jukogyo kabushiki kaisha       58\n",
       "byd co ltd                          58\n",
       "Name: assignee, Length: 100, dtype: int64"
      ]
     },
     "execution_count": 58,
     "metadata": {},
     "output_type": "execute_result"
    }
   ],
   "source": [
    "patent['assignee'].value_counts()[:100]"
   ]
  },
  {
   "cell_type": "code",
   "execution_count": 59,
   "metadata": {},
   "outputs": [],
   "source": [
    "p=patent"
   ]
  },
  {
   "cell_type": "code",
   "execution_count": 60,
   "metadata": {
    "scrolled": false
   },
   "outputs": [
    {
     "data": {
      "text/html": [
       "<div>\n",
       "<style scoped>\n",
       "    .dataframe tbody tr th:only-of-type {\n",
       "        vertical-align: middle;\n",
       "    }\n",
       "\n",
       "    .dataframe tbody tr th {\n",
       "        vertical-align: top;\n",
       "    }\n",
       "\n",
       "    .dataframe thead th {\n",
       "        text-align: right;\n",
       "    }\n",
       "</style>\n",
       "<table border=\"1\" class=\"dataframe\">\n",
       "  <thead>\n",
       "    <tr style=\"text-align: right;\">\n",
       "      <th></th>\n",
       "      <th>appln</th>\n",
       "      <th>appln_id</th>\n",
       "      <th>family_id</th>\n",
       "      <th>sets</th>\n",
       "      <th>direct</th>\n",
       "      <th>granted</th>\n",
       "      <th>earliest_appln</th>\n",
       "      <th>earliest_filing_date</th>\n",
       "      <th>publn_date</th>\n",
       "      <th>publn</th>\n",
       "      <th>...</th>\n",
       "      <th>citing_publn</th>\n",
       "      <th>citing_appln</th>\n",
       "      <th>citing_appln_id</th>\n",
       "      <th>citing_family_id</th>\n",
       "      <th>num_citing_family</th>\n",
       "      <th>earliest_applt</th>\n",
       "      <th>current_applt</th>\n",
       "      <th>appln_title</th>\n",
       "      <th>appln_abstr</th>\n",
       "      <th>assignee</th>\n",
       "    </tr>\n",
       "  </thead>\n",
       "  <tbody>\n",
       "    <tr>\n",
       "      <th>5213</th>\n",
       "      <td>DE19701355A</td>\n",
       "      <td>13457689</td>\n",
       "      <td>11646668</td>\n",
       "      <td>4</td>\n",
       "      <td>1</td>\n",
       "      <td>0</td>\n",
       "      <td>JP674296A</td>\n",
       "      <td>1996-01-18</td>\n",
       "      <td>1997-07-24</td>\n",
       "      <td>DE19701355A1</td>\n",
       "      <td>...</td>\n",
       "      <td>DE19811574A1\\nUS6401453B1\\nDE10061685B4\\nWO201...</td>\n",
       "      <td>DE19811574A\\nUS66652700A\\nDE10061685A\\nWO20130...</td>\n",
       "      <td>13510156\\n52611687\\n12960865\\n406380116\\n33689...</td>\n",
       "      <td>7861206\\n7861206\\n18466322\\n48536817\\n44563021</td>\n",
       "      <td>16</td>\n",
       "      <td>TOYOTA JIDOSHA K.K., TOYOTA, AICHI, JP</td>\n",
       "      <td>TOYOTA JIDOSHA K.K., TOYOTA, AICHI, JP</td>\n",
       "      <td>Catalytic converter for exhaust gases in vehic...</td>\n",
       "      <td>The catalytic converter (3) in the exhaust duc...</td>\n",
       "      <td>toyota jidosha kk toyota aichi jp</td>\n",
       "    </tr>\n",
       "    <tr>\n",
       "      <th>5352</th>\n",
       "      <td>JP1663492A</td>\n",
       "      <td>25858027</td>\n",
       "      <td>11921796</td>\n",
       "      <td>4</td>\n",
       "      <td>1</td>\n",
       "      <td>1</td>\n",
       "      <td>JP1663492A</td>\n",
       "      <td>1992-01-31</td>\n",
       "      <td>1993-08-20\\n1999-05-10</td>\n",
       "      <td>JPH05209508A\\nJP2888007B2</td>\n",
       "      <td>...</td>\n",
       "      <td>NaN</td>\n",
       "      <td>NaN</td>\n",
       "      <td>NaN</td>\n",
       "      <td>NaN</td>\n",
       "      <td>0</td>\n",
       "      <td>TOYOTA JIDOSHA KK</td>\n",
       "      <td>TOYOTA JIDOSHA KK</td>\n",
       "      <td>EXHAUST EMISSION CONTROL DEVICE FOR DIESEL ENGINE</td>\n",
       "      <td>PURPOSE:To perfectly carry out regeneration an...</td>\n",
       "      <td>toyota jidosha kk</td>\n",
       "    </tr>\n",
       "    <tr>\n",
       "      <th>5404</th>\n",
       "      <td>DE19901470A</td>\n",
       "      <td>13550451</td>\n",
       "      <td>12028753</td>\n",
       "      <td>12</td>\n",
       "      <td>1</td>\n",
       "      <td>1</td>\n",
       "      <td>JP2049598A</td>\n",
       "      <td>1998-01-16</td>\n",
       "      <td>1999-07-22\\n2005-03-17</td>\n",
       "      <td>DE19901470A1\\nDE19901470B4</td>\n",
       "      <td>...</td>\n",
       "      <td>WO0156824A1\\nEP1211117A1\\nWO03053730A1\\nDE1020...</td>\n",
       "      <td>WO0101105W\\nEP01000588A\\nWO0203339W\\nDE1020040...</td>\n",
       "      <td>15604711\\n15801598\\n9404250\\n14923268\\n1493936...</td>\n",
       "      <td>11457365\\n26936991\\n7708593\\n34716556\\n3463887...</td>\n",
       "      <td>116</td>\n",
       "      <td>TOYOTA JIDOSHA K.K., TOYOTA</td>\n",
       "      <td>TOYOTA JIDOSHA K.K., TOYOTA</td>\n",
       "      <td>Drive control system for hybrid vehicle</td>\n",
       "      <td>A drive control system for a hybrid vehicle ha...</td>\n",
       "      <td>toyota jidosha kk toyota</td>\n",
       "    </tr>\n",
       "    <tr>\n",
       "      <th>5437</th>\n",
       "      <td>DE19505726A</td>\n",
       "      <td>13381314</td>\n",
       "      <td>12080783</td>\n",
       "      <td>8</td>\n",
       "      <td>1</td>\n",
       "      <td>1</td>\n",
       "      <td>JP2237194A</td>\n",
       "      <td>1994-02-21</td>\n",
       "      <td>1995-09-21\\n2001-12-06</td>\n",
       "      <td>DE19505726A1\\nDE19505726C2</td>\n",
       "      <td>...</td>\n",
       "      <td>DE19721526A1\\nDE19826551C1\\nDE19723790C2\\nUS64...</td>\n",
       "      <td>DE19721526A\\nDE19826551A\\nDE19723790A\\nUS71962...</td>\n",
       "      <td>13472609\\n13521282\\n13474257\\n52996750\\n130007...</td>\n",
       "      <td>7830237\\n7870901\\n7831615\\n7870901\\n7699147\\n1...</td>\n",
       "      <td>41</td>\n",
       "      <td>TOYOTA JIDOSHA K.K., TOYOTA</td>\n",
       "      <td>TOYOTA JIDOSHA K.K., TOYOTA</td>\n",
       "      <td>Control for generator in hybrid vehicle</td>\n",
       "      <td>A control unit for the generator output of a h...</td>\n",
       "      <td>toyota jidosha kk toyota</td>\n",
       "    </tr>\n",
       "    <tr>\n",
       "      <th>5457</th>\n",
       "      <td>JP2394992A</td>\n",
       "      <td>26243358</td>\n",
       "      <td>12124804</td>\n",
       "      <td>4</td>\n",
       "      <td>1</td>\n",
       "      <td>1</td>\n",
       "      <td>JP2394992A</td>\n",
       "      <td>1992-02-10</td>\n",
       "      <td>1993-08-31\\n1998-08-27</td>\n",
       "      <td>JPH05223021A\\nJP2789908B2</td>\n",
       "      <td>...</td>\n",
       "      <td>EP0825340A2\\nUS5836293A\\nUS5944003A\\nUS5950607...</td>\n",
       "      <td>EP97113897A\\nUS91024597A\\nUS90833697A\\nUS91024...</td>\n",
       "      <td>17229294\\n54105124\\n54096274\\n54105111\\n482513...</td>\n",
       "      <td>16643835\\n16646061\\n16605894\\n16643835\\n263564...</td>\n",
       "      <td>5</td>\n",
       "      <td>TOYOTA JIDOSHA KK</td>\n",
       "      <td>TOYOTA JIDOSHA KK</td>\n",
       "      <td>EVAPORATED FUEL DISPOSAL DEVICE FOR INTERNAL C...</td>\n",
       "      <td>PURPOSE:To provide an evaporated fuel disposal...</td>\n",
       "      <td>toyota jidosha kk</td>\n",
       "    </tr>\n",
       "    <tr>\n",
       "      <th>...</th>\n",
       "      <td>...</td>\n",
       "      <td>...</td>\n",
       "      <td>...</td>\n",
       "      <td>...</td>\n",
       "      <td>...</td>\n",
       "      <td>...</td>\n",
       "      <td>...</td>\n",
       "      <td>...</td>\n",
       "      <td>...</td>\n",
       "      <td>...</td>\n",
       "      <td>...</td>\n",
       "      <td>...</td>\n",
       "      <td>...</td>\n",
       "      <td>...</td>\n",
       "      <td>...</td>\n",
       "      <td>...</td>\n",
       "      <td>...</td>\n",
       "      <td>...</td>\n",
       "      <td>...</td>\n",
       "      <td>...</td>\n",
       "      <td>...</td>\n",
       "    </tr>\n",
       "    <tr>\n",
       "      <th>55596</th>\n",
       "      <td>CN201280074934A</td>\n",
       "      <td>439492866</td>\n",
       "      <td>49996798</td>\n",
       "      <td>4</td>\n",
       "      <td>0</td>\n",
       "      <td>1</td>\n",
       "      <td>WO2012069218W</td>\n",
       "      <td>2012-07-27</td>\n",
       "      <td>2015-04-08\\n2016-10-12</td>\n",
       "      <td>CN104508265A\\nCN104508265B</td>\n",
       "      <td>...</td>\n",
       "      <td>NaN</td>\n",
       "      <td>NaN</td>\n",
       "      <td>NaN</td>\n",
       "      <td>NaN</td>\n",
       "      <td>1</td>\n",
       "      <td>TOYOTA JIDOSHA KABUSHIKI KAISYA</td>\n",
       "      <td>TOYOTA JIDOSHA KABUSHIKI KAISYA</td>\n",
       "      <td>Exhaust purification device of internal combus...</td>\n",
       "      <td>According to the present invention, a ternary ...</td>\n",
       "      <td>toyota jidosha kabushiki kaisya</td>\n",
       "    </tr>\n",
       "    <tr>\n",
       "      <th>55960</th>\n",
       "      <td>CN201280075525A</td>\n",
       "      <td>440372059</td>\n",
       "      <td>50182691</td>\n",
       "      <td>8</td>\n",
       "      <td>1</td>\n",
       "      <td>1</td>\n",
       "      <td>WO2012071720W</td>\n",
       "      <td>2012-08-28</td>\n",
       "      <td>2015-05-06\\n2017-03-01</td>\n",
       "      <td>CN104602937A\\nCN104602937B</td>\n",
       "      <td>...</td>\n",
       "      <td>CN106143471A</td>\n",
       "      <td>CN201610319380A</td>\n",
       "      <td>471996802</td>\n",
       "      <td>57208563</td>\n",
       "      <td>9</td>\n",
       "      <td>TOYOTA JIDOSHA KABUSHIKI KAISYA</td>\n",
       "      <td>TOYOTA JIDOSHA KABUSHIKI KAISYA</td>\n",
       "      <td>Drive device for hybrid vehicle</td>\n",
       "      <td>A drive device for a hybrid vehicle is provide...</td>\n",
       "      <td>toyota jidosha kabushiki kaisya</td>\n",
       "    </tr>\n",
       "    <tr>\n",
       "      <th>56096</th>\n",
       "      <td>CN201280075643A</td>\n",
       "      <td>440372063</td>\n",
       "      <td>50236673</td>\n",
       "      <td>8</td>\n",
       "      <td>1</td>\n",
       "      <td>0</td>\n",
       "      <td>WO2012072648W</td>\n",
       "      <td>2012-09-05</td>\n",
       "      <td>2015-05-06</td>\n",
       "      <td>CN104602939A</td>\n",
       "      <td>...</td>\n",
       "      <td>NaN</td>\n",
       "      <td>NaN</td>\n",
       "      <td>NaN</td>\n",
       "      <td>NaN</td>\n",
       "      <td>4</td>\n",
       "      <td>TOYOTA JIDOSHA KABUSHIKI KAISYA</td>\n",
       "      <td>TOYOTA JIDOSHA KABUSHIKI KAISYA</td>\n",
       "      <td>Drive device for hybrid vehicle</td>\n",
       "      <td>A drive device for a hybrid vehicle is provide...</td>\n",
       "      <td>toyota jidosha kabushiki kaisya</td>\n",
       "    </tr>\n",
       "    <tr>\n",
       "      <th>65730</th>\n",
       "      <td>CN201610098789A</td>\n",
       "      <td>468471102</td>\n",
       "      <td>56577308</td>\n",
       "      <td>8</td>\n",
       "      <td>0</td>\n",
       "      <td>0</td>\n",
       "      <td>JP2015035265A</td>\n",
       "      <td>2015-02-25</td>\n",
       "      <td>2016-08-31</td>\n",
       "      <td>CN105905099A</td>\n",
       "      <td>...</td>\n",
       "      <td>NaN</td>\n",
       "      <td>NaN</td>\n",
       "      <td>NaN</td>\n",
       "      <td>NaN</td>\n",
       "      <td>2</td>\n",
       "      <td>TOYOTA JIDOSHA KK</td>\n",
       "      <td>TOYOTA JIDOSHA KK</td>\n",
       "      <td>HYBRID VEHICLE</td>\n",
       "      <td>A hybrid vehicle includes an engine, a power s...</td>\n",
       "      <td>toyota jidosha kk</td>\n",
       "    </tr>\n",
       "    <tr>\n",
       "      <th>65734</th>\n",
       "      <td>CN201610090964A</td>\n",
       "      <td>468472700</td>\n",
       "      <td>56577329</td>\n",
       "      <td>4</td>\n",
       "      <td>1</td>\n",
       "      <td>0</td>\n",
       "      <td>JP2015030170A</td>\n",
       "      <td>2015-02-19</td>\n",
       "      <td>2016-08-31</td>\n",
       "      <td>CN105909405A</td>\n",
       "      <td>...</td>\n",
       "      <td>NaN</td>\n",
       "      <td>NaN</td>\n",
       "      <td>NaN</td>\n",
       "      <td>NaN</td>\n",
       "      <td>0</td>\n",
       "      <td>TOYOTA JIDOSHA KK</td>\n",
       "      <td>TOYOTA JIDOSHA KK</td>\n",
       "      <td>Control apparatus for a multi-cylinder interna...</td>\n",
       "      <td>The present invention provides a control appar...</td>\n",
       "      <td>toyota jidosha kk</td>\n",
       "    </tr>\n",
       "  </tbody>\n",
       "</table>\n",
       "<p>153 rows × 35 columns</p>\n",
       "</div>"
      ],
      "text/plain": [
       "                 appln   appln_id  family_id  sets  direct  granted  \\\n",
       "5213       DE19701355A   13457689   11646668     4       1        0   \n",
       "5352        JP1663492A   25858027   11921796     4       1        1   \n",
       "5404       DE19901470A   13550451   12028753    12       1        1   \n",
       "5437       DE19505726A   13381314   12080783     8       1        1   \n",
       "5457        JP2394992A   26243358   12124804     4       1        1   \n",
       "...                ...        ...        ...   ...     ...      ...   \n",
       "55596  CN201280074934A  439492866   49996798     4       0        1   \n",
       "55960  CN201280075525A  440372059   50182691     8       1        1   \n",
       "56096  CN201280075643A  440372063   50236673     8       1        0   \n",
       "65730  CN201610098789A  468471102   56577308     8       0        0   \n",
       "65734  CN201610090964A  468472700   56577329     4       1        0   \n",
       "\n",
       "      earliest_appln earliest_filing_date              publn_date  \\\n",
       "5213       JP674296A           1996-01-18              1997-07-24   \n",
       "5352      JP1663492A           1992-01-31  1993-08-20\\n1999-05-10   \n",
       "5404      JP2049598A           1998-01-16  1999-07-22\\n2005-03-17   \n",
       "5437      JP2237194A           1994-02-21  1995-09-21\\n2001-12-06   \n",
       "5457      JP2394992A           1992-02-10  1993-08-31\\n1998-08-27   \n",
       "...              ...                  ...                     ...   \n",
       "55596  WO2012069218W           2012-07-27  2015-04-08\\n2016-10-12   \n",
       "55960  WO2012071720W           2012-08-28  2015-05-06\\n2017-03-01   \n",
       "56096  WO2012072648W           2012-09-05              2015-05-06   \n",
       "65730  JP2015035265A           2015-02-25              2016-08-31   \n",
       "65734  JP2015030170A           2015-02-19              2016-08-31   \n",
       "\n",
       "                            publn  ...  \\\n",
       "5213                 DE19701355A1  ...   \n",
       "5352    JPH05209508A\\nJP2888007B2  ...   \n",
       "5404   DE19901470A1\\nDE19901470B4  ...   \n",
       "5437   DE19505726A1\\nDE19505726C2  ...   \n",
       "5457    JPH05223021A\\nJP2789908B2  ...   \n",
       "...                           ...  ...   \n",
       "55596  CN104508265A\\nCN104508265B  ...   \n",
       "55960  CN104602937A\\nCN104602937B  ...   \n",
       "56096                CN104602939A  ...   \n",
       "65730                CN105905099A  ...   \n",
       "65734                CN105909405A  ...   \n",
       "\n",
       "                                            citing_publn  \\\n",
       "5213   DE19811574A1\\nUS6401453B1\\nDE10061685B4\\nWO201...   \n",
       "5352                                                 NaN   \n",
       "5404   WO0156824A1\\nEP1211117A1\\nWO03053730A1\\nDE1020...   \n",
       "5437   DE19721526A1\\nDE19826551C1\\nDE19723790C2\\nUS64...   \n",
       "5457   EP0825340A2\\nUS5836293A\\nUS5944003A\\nUS5950607...   \n",
       "...                                                  ...   \n",
       "55596                                                NaN   \n",
       "55960                                       CN106143471A   \n",
       "56096                                                NaN   \n",
       "65730                                                NaN   \n",
       "65734                                                NaN   \n",
       "\n",
       "                                            citing_appln  \\\n",
       "5213   DE19811574A\\nUS66652700A\\nDE10061685A\\nWO20130...   \n",
       "5352                                                 NaN   \n",
       "5404   WO0101105W\\nEP01000588A\\nWO0203339W\\nDE1020040...   \n",
       "5437   DE19721526A\\nDE19826551A\\nDE19723790A\\nUS71962...   \n",
       "5457   EP97113897A\\nUS91024597A\\nUS90833697A\\nUS91024...   \n",
       "...                                                  ...   \n",
       "55596                                                NaN   \n",
       "55960                                    CN201610319380A   \n",
       "56096                                                NaN   \n",
       "65730                                                NaN   \n",
       "65734                                                NaN   \n",
       "\n",
       "                                         citing_appln_id  \\\n",
       "5213   13510156\\n52611687\\n12960865\\n406380116\\n33689...   \n",
       "5352                                                 NaN   \n",
       "5404   15604711\\n15801598\\n9404250\\n14923268\\n1493936...   \n",
       "5437   13472609\\n13521282\\n13474257\\n52996750\\n130007...   \n",
       "5457   17229294\\n54105124\\n54096274\\n54105111\\n482513...   \n",
       "...                                                  ...   \n",
       "55596                                                NaN   \n",
       "55960                                          471996802   \n",
       "56096                                                NaN   \n",
       "65730                                                NaN   \n",
       "65734                                                NaN   \n",
       "\n",
       "                                        citing_family_id  num_citing_family  \\\n",
       "5213      7861206\\n7861206\\n18466322\\n48536817\\n44563021                 16   \n",
       "5352                                                 NaN                  0   \n",
       "5404   11457365\\n26936991\\n7708593\\n34716556\\n3463887...                116   \n",
       "5437   7830237\\n7870901\\n7831615\\n7870901\\n7699147\\n1...                 41   \n",
       "5457   16643835\\n16646061\\n16605894\\n16643835\\n263564...                  5   \n",
       "...                                                  ...                ...   \n",
       "55596                                                NaN                  1   \n",
       "55960                                           57208563                  9   \n",
       "56096                                                NaN                  4   \n",
       "65730                                                NaN                  2   \n",
       "65734                                                NaN                  0   \n",
       "\n",
       "                               earliest_applt  \\\n",
       "5213   TOYOTA JIDOSHA K.K., TOYOTA, AICHI, JP   \n",
       "5352                        TOYOTA JIDOSHA KK   \n",
       "5404              TOYOTA JIDOSHA K.K., TOYOTA   \n",
       "5437              TOYOTA JIDOSHA K.K., TOYOTA   \n",
       "5457                        TOYOTA JIDOSHA KK   \n",
       "...                                       ...   \n",
       "55596         TOYOTA JIDOSHA KABUSHIKI KAISYA   \n",
       "55960         TOYOTA JIDOSHA KABUSHIKI KAISYA   \n",
       "56096         TOYOTA JIDOSHA KABUSHIKI KAISYA   \n",
       "65730                       TOYOTA JIDOSHA KK   \n",
       "65734                       TOYOTA JIDOSHA KK   \n",
       "\n",
       "                                current_applt  \\\n",
       "5213   TOYOTA JIDOSHA K.K., TOYOTA, AICHI, JP   \n",
       "5352                        TOYOTA JIDOSHA KK   \n",
       "5404              TOYOTA JIDOSHA K.K., TOYOTA   \n",
       "5437              TOYOTA JIDOSHA K.K., TOYOTA   \n",
       "5457                        TOYOTA JIDOSHA KK   \n",
       "...                                       ...   \n",
       "55596         TOYOTA JIDOSHA KABUSHIKI KAISYA   \n",
       "55960         TOYOTA JIDOSHA KABUSHIKI KAISYA   \n",
       "56096         TOYOTA JIDOSHA KABUSHIKI KAISYA   \n",
       "65730                       TOYOTA JIDOSHA KK   \n",
       "65734                       TOYOTA JIDOSHA KK   \n",
       "\n",
       "                                             appln_title  \\\n",
       "5213   Catalytic converter for exhaust gases in vehic...   \n",
       "5352   EXHAUST EMISSION CONTROL DEVICE FOR DIESEL ENGINE   \n",
       "5404             Drive control system for hybrid vehicle   \n",
       "5437             Control for generator in hybrid vehicle   \n",
       "5457   EVAPORATED FUEL DISPOSAL DEVICE FOR INTERNAL C...   \n",
       "...                                                  ...   \n",
       "55596  Exhaust purification device of internal combus...   \n",
       "55960                    Drive device for hybrid vehicle   \n",
       "56096                    Drive device for hybrid vehicle   \n",
       "65730                                     HYBRID VEHICLE   \n",
       "65734  Control apparatus for a multi-cylinder interna...   \n",
       "\n",
       "                                             appln_abstr  \\\n",
       "5213   The catalytic converter (3) in the exhaust duc...   \n",
       "5352   PURPOSE:To perfectly carry out regeneration an...   \n",
       "5404   A drive control system for a hybrid vehicle ha...   \n",
       "5437   A control unit for the generator output of a h...   \n",
       "5457   PURPOSE:To provide an evaporated fuel disposal...   \n",
       "...                                                  ...   \n",
       "55596  According to the present invention, a ternary ...   \n",
       "55960  A drive device for a hybrid vehicle is provide...   \n",
       "56096  A drive device for a hybrid vehicle is provide...   \n",
       "65730  A hybrid vehicle includes an engine, a power s...   \n",
       "65734  The present invention provides a control appar...   \n",
       "\n",
       "                                assignee  \n",
       "5213   toyota jidosha kk toyota aichi jp  \n",
       "5352                   toyota jidosha kk  \n",
       "5404            toyota jidosha kk toyota  \n",
       "5437            toyota jidosha kk toyota  \n",
       "5457                   toyota jidosha kk  \n",
       "...                                  ...  \n",
       "55596    toyota jidosha kabushiki kaisya  \n",
       "55960    toyota jidosha kabushiki kaisya  \n",
       "56096    toyota jidosha kabushiki kaisya  \n",
       "65730                  toyota jidosha kk  \n",
       "65734                  toyota jidosha kk  \n",
       "\n",
       "[153 rows x 35 columns]"
      ]
     },
     "execution_count": 60,
     "metadata": {},
     "output_type": "execute_result"
    }
   ],
   "source": [
    "p.loc[p.assignee.str.contains('toyota jidosha',na=False)]"
   ]
  },
  {
   "cell_type": "code",
   "execution_count": 61,
   "metadata": {},
   "outputs": [
    {
     "data": {
      "text/plain": [
       "8359"
      ]
     },
     "execution_count": 61,
     "metadata": {},
     "output_type": "execute_result"
    }
   ],
   "source": [
    "len(p.loc[p.assignee.str.contains('toyota',na=False)])"
   ]
  },
  {
   "cell_type": "code",
   "execution_count": 62,
   "metadata": {},
   "outputs": [
    {
     "data": {
      "text/plain": [
       "153"
      ]
     },
     "execution_count": 62,
     "metadata": {},
     "output_type": "execute_result"
    }
   ],
   "source": [
    "len(p.loc[p.assignee.str.contains('toyota jidosha',na=False)])"
   ]
  },
  {
   "cell_type": "markdown",
   "metadata": {},
   "source": [
    "### Coming back to cleaning more"
   ]
  },
  {
   "cell_type": "code",
   "execution_count": 63,
   "metadata": {},
   "outputs": [],
   "source": [
    "p['assignee']=p['assignee'].str.replace('toyota jidosha kk toyota aichi jp','toyota motor corp')"
   ]
  },
  {
   "cell_type": "code",
   "execution_count": 64,
   "metadata": {},
   "outputs": [],
   "source": [
    "p['assignee']=p['assignee'].str.replace('toyota jidosha kk','toyota motor corp')"
   ]
  },
  {
   "cell_type": "code",
   "execution_count": 65,
   "metadata": {},
   "outputs": [],
   "source": [
    "p['assignee']=p['assignee'].str.replace('toyota jidosha kabushiki kaisya','toyota motor corp')"
   ]
  },
  {
   "cell_type": "code",
   "execution_count": 66,
   "metadata": {},
   "outputs": [],
   "source": [
    "p['assignee']=p['assignee'].str.replace('toyota jidosha kakushiki kaisha','toyota motor corp')"
   ]
  },
  {
   "cell_type": "code",
   "execution_count": 67,
   "metadata": {},
   "outputs": [],
   "source": [
    "p['assignee']=p['assignee'].str.replace('toyota jidosha kabushikikaisha','toyota motor corp')"
   ]
  },
  {
   "cell_type": "code",
   "execution_count": 68,
   "metadata": {},
   "outputs": [],
   "source": [
    "p['assignee']=p['assignee'].str.replace('toyota jidosha kabushikikaisha','toyota motor corp')"
   ]
  },
  {
   "cell_type": "code",
   "execution_count": 69,
   "metadata": {},
   "outputs": [],
   "source": [
    "p['assignee']=p['assignee'].str.replace('toyota jidosha kubishiki kaisha','toyota motor corp')"
   ]
  },
  {
   "cell_type": "code",
   "execution_count": 70,
   "metadata": {},
   "outputs": [],
   "source": [
    "p['assignee']=p['assignee'].str.replace('toyota jidosha kanushiki kaisha','toyota motor corp')"
   ]
  },
  {
   "cell_type": "code",
   "execution_count": 71,
   "metadata": {},
   "outputs": [],
   "source": [
    "p['assignee']=p['assignee'].str.replace('toyota jidosha kabsuhiki kaisha','toyota motor corp')"
   ]
  },
  {
   "cell_type": "code",
   "execution_count": 72,
   "metadata": {},
   "outputs": [],
   "source": [
    "p['assignee']=p['assignee'].str.replace(\"toyota industries corp\",\"nissan motor co ltd\")"
   ]
  },
  {
   "cell_type": "code",
   "execution_count": 73,
   "metadata": {},
   "outputs": [],
   "source": [
    "p['assignee']=p['assignee'].str.replace('nissan motor','nissan motor co ltd')"
   ]
  },
  {
   "cell_type": "code",
   "execution_count": 74,
   "metadata": {},
   "outputs": [],
   "source": [
    "p['assignee']=p['assignee'].str.replace(\"nissan motor co ltd co ltd\",\"nissan motor co ltd\")"
   ]
  },
  {
   "cell_type": "code",
   "execution_count": 75,
   "metadata": {},
   "outputs": [],
   "source": [
    "p['assignee']=p['assignee'].str.replace(\"zhengzhou nissan automobile co ltd\",\"nissan motor co ltd\")"
   ]
  },
  {
   "cell_type": "code",
   "execution_count": 76,
   "metadata": {},
   "outputs": [],
   "source": [
    "p['assignee']=p['assignee'].str.replace(\"nissan diesel motor co ltd\",\"nissan motor co ltd\")"
   ]
  },
  {
   "cell_type": "code",
   "execution_count": 77,
   "metadata": {},
   "outputs": [],
   "source": [
    "p['assignee']=p['assignee'].str.replace(\"suzuki motor corporation\",\"suzuki motor corp\")"
   ]
  },
  {
   "cell_type": "code",
   "execution_count": 78,
   "metadata": {},
   "outputs": [],
   "source": [
    "p['assignee']=p['assignee'].str.replace(\"honda giken kogyo kk\",\"honda motor co ltd\")"
   ]
  },
  {
   "cell_type": "code",
   "execution_count": 79,
   "metadata": {},
   "outputs": [],
   "source": [
    "p['assignee']=p['assignee'].str.replace(\"honda motor coltd\",\"honda motor co ltd\")"
   ]
  },
  {
   "cell_type": "code",
   "execution_count": 80,
   "metadata": {},
   "outputs": [],
   "source": [
    "p['assignee']=p['assignee'].str.replace(\"volkswagen aktiengesellschaft\",\"volkswagen group\")"
   ]
  },
  {
   "cell_type": "code",
   "execution_count": 81,
   "metadata": {},
   "outputs": [],
   "source": [
    "p['assignee']=p['assignee'].str.replace(\"volkswagen ag\",\"volkswagen group\")"
   ]
  },
  {
   "cell_type": "code",
   "execution_count": 82,
   "metadata": {},
   "outputs": [],
   "source": [
    "p['assignee']=p['assignee'].str.replace(\"volkswagen ag\",\"volkswagen group\")"
   ]
  },
  {
   "cell_type": "code",
   "execution_count": 83,
   "metadata": {},
   "outputs": [],
   "source": [
    "p['assignee']=p['assignee'].str.replace(\"peugeot citroen automobiles sa\",\"peugeot citroen automobiles\")"
   ]
  },
  {
   "cell_type": "code",
   "execution_count": 84,
   "metadata": {},
   "outputs": [],
   "source": [
    "p['assignee']=p['assignee'].str.replace(\"peugeot citroën automobiles sa\",\"peugeot citroen automobiles\")"
   ]
  },
  {
   "cell_type": "code",
   "execution_count": 85,
   "metadata": {},
   "outputs": [],
   "source": [
    "p['assignee']=p['assignee'].str.replace(\"peugeot citroën automobiles sa\",\"peugeot citroen automobiles\")"
   ]
  },
  {
   "cell_type": "code",
   "execution_count": 86,
   "metadata": {},
   "outputs": [],
   "source": [
    "p['assignee']=p['assignee'].str.replace(\"robert bosch gmbh\",\"bosch corp\")"
   ]
  },
  {
   "cell_type": "code",
   "execution_count": 87,
   "metadata": {},
   "outputs": [],
   "source": [
    "p['assignee']=p['assignee'].str.replace(\"bosch gmbh robert\",\"bosch corp\")"
   ]
  },
  {
   "cell_type": "code",
   "execution_count": 88,
   "metadata": {},
   "outputs": [],
   "source": [
    "p['assignee']=p['assignee'].str.replace(\"renault sas societe par actions simplifiee\",\"renault sas\")"
   ]
  },
  {
   "cell_type": "code",
   "execution_count": 89,
   "metadata": {},
   "outputs": [],
   "source": [
    "p['assignee']=p['assignee'].str.replace(\"isuzu motors limited\",\"isuzu motors ltd\")"
   ]
  },
  {
   "cell_type": "code",
   "execution_count": 90,
   "metadata": {},
   "outputs": [],
   "source": [
    "p['assignee']=p['assignee'].str.replace(\"aisin seiki co ltd\",\"aisin aw co ltd\")"
   ]
  },
  {
   "cell_type": "code",
   "execution_count": 91,
   "metadata": {},
   "outputs": [],
   "source": [
    "p['assignee']=p['assignee'].str.replace(\"denso corporation\",\"denso corp\")"
   ]
  },
  {
   "cell_type": "code",
   "execution_count": 92,
   "metadata": {},
   "outputs": [],
   "source": [
    "p['assignee']=p['assignee'].str.replace(\"nippondenso co ltd\",\"denso corp\")"
   ]
  },
  {
   "cell_type": "code",
   "execution_count": 93,
   "metadata": {},
   "outputs": [],
   "source": [
    "p['assignee']=p['assignee'].str.replace(\"bayerische motoren werke aktiengesellschaft\",\"bmw ag\")"
   ]
  },
  {
   "cell_type": "code",
   "execution_count": 94,
   "metadata": {},
   "outputs": [],
   "source": [
    "p['assignee']=p['assignee'].str.replace(\"bayerische motoren werke (bmw) ag\",\"bmw ag\")"
   ]
  },
  {
   "cell_type": "code",
   "execution_count": 95,
   "metadata": {},
   "outputs": [],
   "source": [
    "p['assignee']=p['assignee'].str.replace(\"BMW AG\",\"bmw ag\")"
   ]
  },
  {
   "cell_type": "code",
   "execution_count": 96,
   "metadata": {},
   "outputs": [
    {
     "data": {
      "text/html": [
       "<div>\n",
       "<style scoped>\n",
       "    .dataframe tbody tr th:only-of-type {\n",
       "        vertical-align: middle;\n",
       "    }\n",
       "\n",
       "    .dataframe tbody tr th {\n",
       "        vertical-align: top;\n",
       "    }\n",
       "\n",
       "    .dataframe thead th {\n",
       "        text-align: right;\n",
       "    }\n",
       "</style>\n",
       "<table border=\"1\" class=\"dataframe\">\n",
       "  <thead>\n",
       "    <tr style=\"text-align: right;\">\n",
       "      <th></th>\n",
       "      <th>appln</th>\n",
       "      <th>appln_id</th>\n",
       "      <th>family_id</th>\n",
       "      <th>sets</th>\n",
       "      <th>direct</th>\n",
       "      <th>granted</th>\n",
       "      <th>earliest_appln</th>\n",
       "      <th>earliest_filing_date</th>\n",
       "      <th>publn_date</th>\n",
       "      <th>publn</th>\n",
       "      <th>...</th>\n",
       "      <th>citing_publn</th>\n",
       "      <th>citing_appln</th>\n",
       "      <th>citing_appln_id</th>\n",
       "      <th>citing_family_id</th>\n",
       "      <th>num_citing_family</th>\n",
       "      <th>earliest_applt</th>\n",
       "      <th>current_applt</th>\n",
       "      <th>appln_title</th>\n",
       "      <th>appln_abstr</th>\n",
       "      <th>assignee</th>\n",
       "    </tr>\n",
       "  </thead>\n",
       "  <tbody>\n",
       "    <tr>\n",
       "      <th>333</th>\n",
       "      <td>EP90124706A</td>\n",
       "      <td>16827458</td>\n",
       "      <td>6401764</td>\n",
       "      <td>4</td>\n",
       "      <td>1</td>\n",
       "      <td>1</td>\n",
       "      <td>DE4007438A</td>\n",
       "      <td>1990-03-09</td>\n",
       "      <td>1991-09-11\\n1994-02-02</td>\n",
       "      <td>EP0445407A1\\nEP0445407B1</td>\n",
       "      <td>...</td>\n",
       "      <td>WO0029246A3\\nDE102006045403A1</td>\n",
       "      <td>WO9903621W\\nDE102006045403A</td>\n",
       "      <td>11714153\\n15051545</td>\n",
       "      <td>26050197\\n39134138</td>\n",
       "      <td>9</td>\n",
       "      <td>Bayerische Motoren Werke Aktiengesellschaft</td>\n",
       "      <td>Bayerische Motoren Werke Aktiengesellschaft</td>\n",
       "      <td>Drive unit, especially for driving vehicles.</td>\n",
       "      <td>A drive assemby, in particular for driving a v...</td>\n",
       "      <td>bmw ag</td>\n",
       "    </tr>\n",
       "    <tr>\n",
       "      <th>667</th>\n",
       "      <td>DE4223782A</td>\n",
       "      <td>11230847</td>\n",
       "      <td>6463602</td>\n",
       "      <td>4</td>\n",
       "      <td>1</td>\n",
       "      <td>1</td>\n",
       "      <td>DE4223782A</td>\n",
       "      <td>1992-07-18</td>\n",
       "      <td>1994-01-20\\n2010-05-06</td>\n",
       "      <td>DE4223782A1\\nDE4223782B4</td>\n",
       "      <td>...</td>\n",
       "      <td>FR2757900A1\\nEP0924418A3</td>\n",
       "      <td>FR9616213A\\nEP98123457A</td>\n",
       "      <td>20536344\\n333937</td>\n",
       "      <td>9499299\\n18394357</td>\n",
       "      <td>2</td>\n",
       "      <td>Bayerische Motoren Werke Aktiengesellschaft</td>\n",
       "      <td>Bayerische Motoren Werke Aktiengesellschaft</td>\n",
       "      <td>Air intake control system for car IC engine - ...</td>\n",
       "      <td>The control system has a variable ratio of the...</td>\n",
       "      <td>bmw ag</td>\n",
       "    </tr>\n",
       "    <tr>\n",
       "      <th>706</th>\n",
       "      <td>EP93112017A</td>\n",
       "      <td>16987950</td>\n",
       "      <td>6468829</td>\n",
       "      <td>4</td>\n",
       "      <td>1</td>\n",
       "      <td>1</td>\n",
       "      <td>DE4232148A</td>\n",
       "      <td>1992-09-25</td>\n",
       "      <td>1994-03-30\\n1994-08-03\\n1997-04-16</td>\n",
       "      <td>EP0589176A2\\nEP0589176A3\\nEP0589176B1</td>\n",
       "      <td>...</td>\n",
       "      <td>WO9614561A1\\nDE19818697A1\\nWO0006886A1\\nEP0952...</td>\n",
       "      <td>WO9401104W\\nDE19818697A\\nWO9901086W\\nEP9910753...</td>\n",
       "      <td>43575875\\n13515499\\n11711704\\n17378903\\n411653...</td>\n",
       "      <td>20395849\\n7865888\\n7875529\\n7865888\\n19731870\\...</td>\n",
       "      <td>11</td>\n",
       "      <td>Bayerische Motoren Werke Aktiengesellschaft</td>\n",
       "      <td>Bayerische Motoren Werke Aktiengesellschaft</td>\n",
       "      <td>Method for testing the tightness of a tank ins...</td>\n",
       "      <td>In a method for testing the tightness of a tan...</td>\n",
       "      <td>bmw ag</td>\n",
       "    </tr>\n",
       "    <tr>\n",
       "      <th>807</th>\n",
       "      <td>EP93116401A</td>\n",
       "      <td>16991809</td>\n",
       "      <td>6483087</td>\n",
       "      <td>4</td>\n",
       "      <td>1</td>\n",
       "      <td>1</td>\n",
       "      <td>DE4308570A</td>\n",
       "      <td>1993-03-18</td>\n",
       "      <td>1994-09-21\\n1996-07-24</td>\n",
       "      <td>EP0616120A1\\nEP0616120B1</td>\n",
       "      <td>...</td>\n",
       "      <td>NaN</td>\n",
       "      <td>NaN</td>\n",
       "      <td>NaN</td>\n",
       "      <td>NaN</td>\n",
       "      <td>0</td>\n",
       "      <td>Bayerische Motoren Werke Aktiengesellschaft</td>\n",
       "      <td>Bayerische Motoren Werke Aktiengesellschaft</td>\n",
       "      <td>Internal combustion engine with lambda control...</td>\n",
       "      <td>The valve is located in a tube section in the ...</td>\n",
       "      <td>bmw ag</td>\n",
       "    </tr>\n",
       "    <tr>\n",
       "      <th>826</th>\n",
       "      <td>EP94101610A</td>\n",
       "      <td>17032605</td>\n",
       "      <td>6485134</td>\n",
       "      <td>4</td>\n",
       "      <td>1</td>\n",
       "      <td>1</td>\n",
       "      <td>DE4311697A</td>\n",
       "      <td>1993-04-08</td>\n",
       "      <td>1994-10-26\\n1996-07-24</td>\n",
       "      <td>EP0621152A1\\nEP0621152B1</td>\n",
       "      <td>...</td>\n",
       "      <td>FR2798531A1\\nFR2802592A1\\nEP1112884A1\\nFR28034...</td>\n",
       "      <td>FR0011389A\\nFR0016709A\\nEP00403476A\\nFR9916641...</td>\n",
       "      <td>19006243\\n19011081\\n15746806\\n20619711\\n190181...</td>\n",
       "      <td>7921314\\n34219570\\n9553957\\n9553957\\n8861202\\n...</td>\n",
       "      <td>28</td>\n",
       "      <td>Bayerische Motoren Werke Aktiengesellschaft</td>\n",
       "      <td>Bayerische Motoren Werke Aktiengesellschaft</td>\n",
       "      <td>Drive arrangement for motor vehicles, especial...</td>\n",
       "      <td>The invention relates to a drive arrangement f...</td>\n",
       "      <td>bmw ag</td>\n",
       "    </tr>\n",
       "    <tr>\n",
       "      <th>...</th>\n",
       "      <td>...</td>\n",
       "      <td>...</td>\n",
       "      <td>...</td>\n",
       "      <td>...</td>\n",
       "      <td>...</td>\n",
       "      <td>...</td>\n",
       "      <td>...</td>\n",
       "      <td>...</td>\n",
       "      <td>...</td>\n",
       "      <td>...</td>\n",
       "      <td>...</td>\n",
       "      <td>...</td>\n",
       "      <td>...</td>\n",
       "      <td>...</td>\n",
       "      <td>...</td>\n",
       "      <td>...</td>\n",
       "      <td>...</td>\n",
       "      <td>...</td>\n",
       "      <td>...</td>\n",
       "      <td>...</td>\n",
       "      <td>...</td>\n",
       "    </tr>\n",
       "    <tr>\n",
       "      <th>63078</th>\n",
       "      <td>CN201510234117A</td>\n",
       "      <td>446595797</td>\n",
       "      <td>54336636</td>\n",
       "      <td>4</td>\n",
       "      <td>1</td>\n",
       "      <td>0</td>\n",
       "      <td>DE102014208919A</td>\n",
       "      <td>2014-05-12</td>\n",
       "      <td>2015-11-25</td>\n",
       "      <td>CN105089823A</td>\n",
       "      <td>...</td>\n",
       "      <td>NaN</td>\n",
       "      <td>NaN</td>\n",
       "      <td>NaN</td>\n",
       "      <td>NaN</td>\n",
       "      <td>1</td>\n",
       "      <td>Bayerische Motoren Werke Aktiengesellschaft</td>\n",
       "      <td>Bayerische Motoren Werke Aktiengesellschaft</td>\n",
       "      <td>Method and Device for Automatically Shutting o...</td>\n",
       "      <td>A method is provided for automatically shuttin...</td>\n",
       "      <td>bmw ag</td>\n",
       "    </tr>\n",
       "    <tr>\n",
       "      <th>63395</th>\n",
       "      <td>WO2015077038W</td>\n",
       "      <td>446283002</td>\n",
       "      <td>54601784</td>\n",
       "      <td>4</td>\n",
       "      <td>1</td>\n",
       "      <td>0</td>\n",
       "      <td>DE102014225360A</td>\n",
       "      <td>2014-12-10</td>\n",
       "      <td>2016-06-16</td>\n",
       "      <td>WO2016091548A1</td>\n",
       "      <td>...</td>\n",
       "      <td>NaN</td>\n",
       "      <td>NaN</td>\n",
       "      <td>NaN</td>\n",
       "      <td>NaN</td>\n",
       "      <td>0</td>\n",
       "      <td>Bayerische Motoren Werke Aktiengesellschaft</td>\n",
       "      <td>Bayerische Motoren Werke Aktiengesellschaft</td>\n",
       "      <td>LUBRICANT CONDUCTING HOUSING WITH A SEPARATION...</td>\n",
       "      <td>The invention relates to a lubricant conductin...</td>\n",
       "      <td>bmw ag</td>\n",
       "    </tr>\n",
       "    <tr>\n",
       "      <th>63397</th>\n",
       "      <td>US201715600217A</td>\n",
       "      <td>483402054</td>\n",
       "      <td>54601784</td>\n",
       "      <td>4</td>\n",
       "      <td>0</td>\n",
       "      <td>0</td>\n",
       "      <td>DE102014225360A</td>\n",
       "      <td>2014-12-10</td>\n",
       "      <td>2017-09-07</td>\n",
       "      <td>US2017254238A1</td>\n",
       "      <td>...</td>\n",
       "      <td>NaN</td>\n",
       "      <td>NaN</td>\n",
       "      <td>NaN</td>\n",
       "      <td>NaN</td>\n",
       "      <td>0</td>\n",
       "      <td>Bayerische Motoren Werke Aktiengesellschaft</td>\n",
       "      <td>Bayerische Motoren Werke Aktiengesellschaft</td>\n",
       "      <td>Lubricant Conducting Housing with a Separation...</td>\n",
       "      <td>A lubricant conducting member includes a lubri...</td>\n",
       "      <td>bmw ag</td>\n",
       "    </tr>\n",
       "    <tr>\n",
       "      <th>67098</th>\n",
       "      <td>WO2017051704W</td>\n",
       "      <td>474408669</td>\n",
       "      <td>57914967</td>\n",
       "      <td>4</td>\n",
       "      <td>1</td>\n",
       "      <td>0</td>\n",
       "      <td>DE102016201518A</td>\n",
       "      <td>2016-02-02</td>\n",
       "      <td>2017-08-10</td>\n",
       "      <td>WO2017133965A1</td>\n",
       "      <td>...</td>\n",
       "      <td>NaN</td>\n",
       "      <td>NaN</td>\n",
       "      <td>NaN</td>\n",
       "      <td>NaN</td>\n",
       "      <td>0</td>\n",
       "      <td>Bayerische Motoren Werke Aktiengesellschaft</td>\n",
       "      <td>Bayerische Motoren Werke Aktiengesellschaft</td>\n",
       "      <td>AIR CONDUCTION SYSTEM OF AN INTERNAL COMBUSTIO...</td>\n",
       "      <td>The invention relates to an air conduction sys...</td>\n",
       "      <td>bmw ag</td>\n",
       "    </tr>\n",
       "    <tr>\n",
       "      <th>67766</th>\n",
       "      <td>WO2017063137W</td>\n",
       "      <td>479204156</td>\n",
       "      <td>59034737</td>\n",
       "      <td>2</td>\n",
       "      <td>1</td>\n",
       "      <td>0</td>\n",
       "      <td>DE102016213072A</td>\n",
       "      <td>2016-07-18</td>\n",
       "      <td>2018-01-25</td>\n",
       "      <td>WO2018015057A1</td>\n",
       "      <td>...</td>\n",
       "      <td>NaN</td>\n",
       "      <td>NaN</td>\n",
       "      <td>NaN</td>\n",
       "      <td>NaN</td>\n",
       "      <td>0</td>\n",
       "      <td>Bayerische Motoren Werke Aktiengesellschaft</td>\n",
       "      <td>Bayerische Motoren Werke Aktiengesellschaft</td>\n",
       "      <td>HIGH-VOLTAGE BATTERY SYSTEM HAVING A SAFETY DE...</td>\n",
       "      <td>The invention is based on the idea that an ele...</td>\n",
       "      <td>bmw ag</td>\n",
       "    </tr>\n",
       "  </tbody>\n",
       "</table>\n",
       "<p>247 rows × 35 columns</p>\n",
       "</div>"
      ],
      "text/plain": [
       "                 appln   appln_id  family_id  sets  direct  granted  \\\n",
       "333        EP90124706A   16827458    6401764     4       1        1   \n",
       "667         DE4223782A   11230847    6463602     4       1        1   \n",
       "706        EP93112017A   16987950    6468829     4       1        1   \n",
       "807        EP93116401A   16991809    6483087     4       1        1   \n",
       "826        EP94101610A   17032605    6485134     4       1        1   \n",
       "...                ...        ...        ...   ...     ...      ...   \n",
       "63078  CN201510234117A  446595797   54336636     4       1        0   \n",
       "63395    WO2015077038W  446283002   54601784     4       1        0   \n",
       "63397  US201715600217A  483402054   54601784     4       0        0   \n",
       "67098    WO2017051704W  474408669   57914967     4       1        0   \n",
       "67766    WO2017063137W  479204156   59034737     2       1        0   \n",
       "\n",
       "        earliest_appln earliest_filing_date  \\\n",
       "333         DE4007438A           1990-03-09   \n",
       "667         DE4223782A           1992-07-18   \n",
       "706         DE4232148A           1992-09-25   \n",
       "807         DE4308570A           1993-03-18   \n",
       "826         DE4311697A           1993-04-08   \n",
       "...                ...                  ...   \n",
       "63078  DE102014208919A           2014-05-12   \n",
       "63395  DE102014225360A           2014-12-10   \n",
       "63397  DE102014225360A           2014-12-10   \n",
       "67098  DE102016201518A           2016-02-02   \n",
       "67766  DE102016213072A           2016-07-18   \n",
       "\n",
       "                               publn_date  \\\n",
       "333                1991-09-11\\n1994-02-02   \n",
       "667                1994-01-20\\n2010-05-06   \n",
       "706    1994-03-30\\n1994-08-03\\n1997-04-16   \n",
       "807                1994-09-21\\n1996-07-24   \n",
       "826                1994-10-26\\n1996-07-24   \n",
       "...                                   ...   \n",
       "63078                          2015-11-25   \n",
       "63395                          2016-06-16   \n",
       "63397                          2017-09-07   \n",
       "67098                          2017-08-10   \n",
       "67766                          2018-01-25   \n",
       "\n",
       "                                       publn  ...  \\\n",
       "333                 EP0445407A1\\nEP0445407B1  ...   \n",
       "667                 DE4223782A1\\nDE4223782B4  ...   \n",
       "706    EP0589176A2\\nEP0589176A3\\nEP0589176B1  ...   \n",
       "807                 EP0616120A1\\nEP0616120B1  ...   \n",
       "826                 EP0621152A1\\nEP0621152B1  ...   \n",
       "...                                      ...  ...   \n",
       "63078                           CN105089823A  ...   \n",
       "63395                         WO2016091548A1  ...   \n",
       "63397                         US2017254238A1  ...   \n",
       "67098                         WO2017133965A1  ...   \n",
       "67766                         WO2018015057A1  ...   \n",
       "\n",
       "                                            citing_publn  \\\n",
       "333                        WO0029246A3\\nDE102006045403A1   \n",
       "667                             FR2757900A1\\nEP0924418A3   \n",
       "706    WO9614561A1\\nDE19818697A1\\nWO0006886A1\\nEP0952...   \n",
       "807                                                  NaN   \n",
       "826    FR2798531A1\\nFR2802592A1\\nEP1112884A1\\nFR28034...   \n",
       "...                                                  ...   \n",
       "63078                                                NaN   \n",
       "63395                                                NaN   \n",
       "63397                                                NaN   \n",
       "67098                                                NaN   \n",
       "67766                                                NaN   \n",
       "\n",
       "                                            citing_appln  \\\n",
       "333                          WO9903621W\\nDE102006045403A   \n",
       "667                              FR9616213A\\nEP98123457A   \n",
       "706    WO9401104W\\nDE19818697A\\nWO9901086W\\nEP9910753...   \n",
       "807                                                  NaN   \n",
       "826    FR0011389A\\nFR0016709A\\nEP00403476A\\nFR9916641...   \n",
       "...                                                  ...   \n",
       "63078                                                NaN   \n",
       "63395                                                NaN   \n",
       "63397                                                NaN   \n",
       "67098                                                NaN   \n",
       "67766                                                NaN   \n",
       "\n",
       "                                         citing_appln_id  \\\n",
       "333                                   11714153\\n15051545   \n",
       "667                                     20536344\\n333937   \n",
       "706    43575875\\n13515499\\n11711704\\n17378903\\n411653...   \n",
       "807                                                  NaN   \n",
       "826    19006243\\n19011081\\n15746806\\n20619711\\n190181...   \n",
       "...                                                  ...   \n",
       "63078                                                NaN   \n",
       "63395                                                NaN   \n",
       "63397                                                NaN   \n",
       "67098                                                NaN   \n",
       "67766                                                NaN   \n",
       "\n",
       "                                        citing_family_id  num_citing_family  \\\n",
       "333                                   26050197\\n39134138                  9   \n",
       "667                                    9499299\\n18394357                  2   \n",
       "706    20395849\\n7865888\\n7875529\\n7865888\\n19731870\\...                 11   \n",
       "807                                                  NaN                  0   \n",
       "826    7921314\\n34219570\\n9553957\\n9553957\\n8861202\\n...                 28   \n",
       "...                                                  ...                ...   \n",
       "63078                                                NaN                  1   \n",
       "63395                                                NaN                  0   \n",
       "63397                                                NaN                  0   \n",
       "67098                                                NaN                  0   \n",
       "67766                                                NaN                  0   \n",
       "\n",
       "                                    earliest_applt  \\\n",
       "333    Bayerische Motoren Werke Aktiengesellschaft   \n",
       "667    Bayerische Motoren Werke Aktiengesellschaft   \n",
       "706    Bayerische Motoren Werke Aktiengesellschaft   \n",
       "807    Bayerische Motoren Werke Aktiengesellschaft   \n",
       "826    Bayerische Motoren Werke Aktiengesellschaft   \n",
       "...                                            ...   \n",
       "63078  Bayerische Motoren Werke Aktiengesellschaft   \n",
       "63395  Bayerische Motoren Werke Aktiengesellschaft   \n",
       "63397  Bayerische Motoren Werke Aktiengesellschaft   \n",
       "67098  Bayerische Motoren Werke Aktiengesellschaft   \n",
       "67766  Bayerische Motoren Werke Aktiengesellschaft   \n",
       "\n",
       "                                     current_applt  \\\n",
       "333    Bayerische Motoren Werke Aktiengesellschaft   \n",
       "667    Bayerische Motoren Werke Aktiengesellschaft   \n",
       "706    Bayerische Motoren Werke Aktiengesellschaft   \n",
       "807    Bayerische Motoren Werke Aktiengesellschaft   \n",
       "826    Bayerische Motoren Werke Aktiengesellschaft   \n",
       "...                                            ...   \n",
       "63078  Bayerische Motoren Werke Aktiengesellschaft   \n",
       "63395  Bayerische Motoren Werke Aktiengesellschaft   \n",
       "63397  Bayerische Motoren Werke Aktiengesellschaft   \n",
       "67098  Bayerische Motoren Werke Aktiengesellschaft   \n",
       "67766  Bayerische Motoren Werke Aktiengesellschaft   \n",
       "\n",
       "                                             appln_title  \\\n",
       "333         Drive unit, especially for driving vehicles.   \n",
       "667    Air intake control system for car IC engine - ...   \n",
       "706    Method for testing the tightness of a tank ins...   \n",
       "807    Internal combustion engine with lambda control...   \n",
       "826    Drive arrangement for motor vehicles, especial...   \n",
       "...                                                  ...   \n",
       "63078  Method and Device for Automatically Shutting o...   \n",
       "63395  LUBRICANT CONDUCTING HOUSING WITH A SEPARATION...   \n",
       "63397  Lubricant Conducting Housing with a Separation...   \n",
       "67098  AIR CONDUCTION SYSTEM OF AN INTERNAL COMBUSTIO...   \n",
       "67766  HIGH-VOLTAGE BATTERY SYSTEM HAVING A SAFETY DE...   \n",
       "\n",
       "                                             appln_abstr assignee  \n",
       "333    A drive assemby, in particular for driving a v...   bmw ag  \n",
       "667    The control system has a variable ratio of the...   bmw ag  \n",
       "706    In a method for testing the tightness of a tan...   bmw ag  \n",
       "807    The valve is located in a tube section in the ...   bmw ag  \n",
       "826    The invention relates to a drive arrangement f...   bmw ag  \n",
       "...                                                  ...      ...  \n",
       "63078  A method is provided for automatically shuttin...   bmw ag  \n",
       "63395  The invention relates to a lubricant conductin...   bmw ag  \n",
       "63397  A lubricant conducting member includes a lubri...   bmw ag  \n",
       "67098  The invention relates to an air conduction sys...   bmw ag  \n",
       "67766  The invention is based on the idea that an ele...   bmw ag  \n",
       "\n",
       "[247 rows x 35 columns]"
      ]
     },
     "execution_count": 96,
     "metadata": {},
     "output_type": "execute_result"
    }
   ],
   "source": [
    "p.loc[p.assignee.str.contains('bmw',na=False)]"
   ]
  },
  {
   "cell_type": "code",
   "execution_count": 97,
   "metadata": {},
   "outputs": [
    {
     "data": {
      "text/plain": [
       "toyota motor corp                                     8125\n",
       "honda motor co ltd                                    3977\n",
       "nissan motor co ltd                                   2885\n",
       "bosch corp                                            2770\n",
       "hyundai motor co ltd                                  2597\n",
       "ford global technologies inc                          1671\n",
       "denso corp                                            1097\n",
       "mitsubishi motors corp                                 899\n",
       "renault sas                                            859\n",
       "hitachi ltd                                            759\n",
       "peugeot citroen automobiles                            688\n",
       "suzuki motor corp                                      528\n",
       "mitsubishi electric corp                               513\n",
       "aisin aw co ltd                                        458\n",
       "volkswagen group                                       375\n",
       "daimlerchrysler ag                                     338\n",
       "continental automotive gmbh                            316\n",
       "isuzu motors ltd                                       300\n",
       "gm global technology operations llc                    291\n",
       "siemens aktiengesellschaft                             285\n",
       "yamaha hatsudoki kabushiki kaisha                      280\n",
       "mazda motor corp                                       274\n",
       "lsis co ltd                                            253\n",
       "audi ag                                                226\n",
       "bmw ag                                                 212\n",
       "general electric company                               199\n",
       "hitachi automotive systems ltd                         192\n",
       "yamaha motor co ltd                                    186\n",
       "general motors corporation                             184\n",
       "fuji heavy ind ltd                                     168\n",
       "hino motors ltd                                        168\n",
       "daimler ag                                             165\n",
       "daihatsu motor co ltd                                  159\n",
       "ford motor company                                     142\n",
       "beiqi foton motor co ltd                               138\n",
       "sony corporation                                       134\n",
       "avl list gmbh                                          134\n",
       "jaguar land rover limited                              127\n",
       "byd company limited                                    125\n",
       "toshiba corp                                           123\n",
       "korea advanced institute of science and technology     121\n",
       "kia motors corporation                                 119\n",
       "kawasaki jukogyo kabushiki kaisha                      117\n",
       "ntn corporation                                        114\n",
       "mahle international gmbh                               113\n",
       "jatco ltd                                              112\n",
       "scania cv ab                                           107\n",
       "panasonic corporation                                  105\n",
       "siemens ag                                             105\n",
       "gm global tech operations inc                          103\n",
       "sanyo electric co ltd                                  103\n",
       "kabushiki kaisha toshiba                                99\n",
       "allison transmission inc                                97\n",
       "qualcomm incorporated                                   96\n",
       "chery automobile co ltd                                 96\n",
       "samsung sdi co ltd                                      93\n",
       "caterpillar inc                                         93\n",
       "lg electronics inc                                      88\n",
       "panasonic corp                                          87\n",
       "volvo lastvagnar ab                                     86\n",
       "Name: assignee, dtype: int64"
      ]
     },
     "execution_count": 97,
     "metadata": {},
     "output_type": "execute_result"
    }
   ],
   "source": [
    "p['assignee'].value_counts()[:60]"
   ]
  },
  {
   "cell_type": "markdown",
   "metadata": {},
   "source": [
    "### Final work on Ford & yamaha"
   ]
  },
  {
   "cell_type": "code",
   "execution_count": 98,
   "metadata": {},
   "outputs": [],
   "source": [
    "p['assignee']=p['assignee'].str.replace(\"ford motor company\",\"ford global technologies inc\")"
   ]
  },
  {
   "cell_type": "code",
   "execution_count": 99,
   "metadata": {},
   "outputs": [],
   "source": [
    "p['assignee']=p['assignee'].str.replace(\"kaisha yamaha motor co ltd\",\"yamaha hatsudoki kabushiki kaisha\")"
   ]
  },
  {
   "cell_type": "code",
   "execution_count": 100,
   "metadata": {},
   "outputs": [],
   "source": [
    "p['assignee']=p['assignee'].str.replace(\"yamaha hatsudoki kabushiki kaisha\",\"yamaha motor co ltd\")"
   ]
  },
  {
   "cell_type": "code",
   "execution_count": 101,
   "metadata": {},
   "outputs": [],
   "source": [
    "p['assignee']=p['assignee'].str.replace(\"mitsubishi electric corp\",\"mitsubishi motors corp\")"
   ]
  },
  {
   "cell_type": "code",
   "execution_count": 102,
   "metadata": {},
   "outputs": [
    {
     "data": {
      "text/plain": [
       "0"
      ]
     },
     "execution_count": 102,
     "metadata": {},
     "output_type": "execute_result"
    }
   ],
   "source": [
    "len(p[p.assignee =='yamaha hatsudoki kabushiki kaisha'])"
   ]
  },
  {
   "cell_type": "code",
   "execution_count": 103,
   "metadata": {},
   "outputs": [
    {
     "data": {
      "text/plain": [
       "0"
      ]
     },
     "execution_count": 103,
     "metadata": {},
     "output_type": "execute_result"
    }
   ],
   "source": [
    "len(p[p.assignee =='kaisha yamaha motor co ltd'])"
   ]
  },
  {
   "cell_type": "code",
   "execution_count": 104,
   "metadata": {},
   "outputs": [
    {
     "data": {
      "text/plain": [
       "466"
      ]
     },
     "execution_count": 104,
     "metadata": {},
     "output_type": "execute_result"
    }
   ],
   "source": [
    "len(p[p.assignee =='yamaha motor co ltd'])"
   ]
  },
  {
   "cell_type": "code",
   "execution_count": 105,
   "metadata": {},
   "outputs": [
    {
     "data": {
      "text/plain": [
       "0"
      ]
     },
     "execution_count": 105,
     "metadata": {},
     "output_type": "execute_result"
    }
   ],
   "source": [
    "len(p[p.assignee =='mitsubishi electric corp'])"
   ]
  },
  {
   "cell_type": "code",
   "execution_count": 106,
   "metadata": {},
   "outputs": [
    {
     "data": {
      "text/plain": [
       "1412"
      ]
     },
     "execution_count": 106,
     "metadata": {},
     "output_type": "execute_result"
    }
   ],
   "source": [
    "len(p[p.assignee =='mitsubishi motors corp'])"
   ]
  },
  {
   "cell_type": "code",
   "execution_count": 107,
   "metadata": {
    "scrolled": true
   },
   "outputs": [
    {
     "data": {
      "text/plain": [
       "toyota motor corp                                     8125\n",
       "honda motor co ltd                                    3977\n",
       "nissan motor co ltd                                   2885\n",
       "bosch corp                                            2770\n",
       "hyundai motor co ltd                                  2597\n",
       "ford global technologies inc                          1813\n",
       "mitsubishi motors corp                                1412\n",
       "denso corp                                            1097\n",
       "renault sas                                            859\n",
       "hitachi ltd                                            759\n",
       "peugeot citroen automobiles                            688\n",
       "suzuki motor corp                                      528\n",
       "yamaha motor co ltd                                    466\n",
       "aisin aw co ltd                                        458\n",
       "volkswagen group                                       375\n",
       "daimlerchrysler ag                                     338\n",
       "continental automotive gmbh                            316\n",
       "isuzu motors ltd                                       300\n",
       "gm global technology operations llc                    291\n",
       "siemens aktiengesellschaft                             285\n",
       "mazda motor corp                                       274\n",
       "lsis co ltd                                            253\n",
       "audi ag                                                226\n",
       "bmw ag                                                 212\n",
       "general electric company                               199\n",
       "hitachi automotive systems ltd                         192\n",
       "general motors corporation                             184\n",
       "fuji heavy ind ltd                                     168\n",
       "hino motors ltd                                        168\n",
       "daimler ag                                             165\n",
       "daihatsu motor co ltd                                  159\n",
       "beiqi foton motor co ltd                               138\n",
       "avl list gmbh                                          134\n",
       "sony corporation                                       134\n",
       "jaguar land rover limited                              127\n",
       "byd company limited                                    125\n",
       "toshiba corp                                           123\n",
       "korea advanced institute of science and technology     121\n",
       "kia motors corporation                                 119\n",
       "kawasaki jukogyo kabushiki kaisha                      117\n",
       "ntn corporation                                        114\n",
       "mahle international gmbh                               113\n",
       "jatco ltd                                              112\n",
       "scania cv ab                                           107\n",
       "panasonic corporation                                  105\n",
       "siemens ag                                             105\n",
       "sanyo electric co ltd                                  103\n",
       "gm global tech operations inc                          103\n",
       "kabushiki kaisha toshiba                                99\n",
       "allison transmission inc                                97\n",
       "qualcomm incorporated                                   96\n",
       "chery automobile co ltd                                 96\n",
       "caterpillar inc                                         93\n",
       "samsung sdi co ltd                                      93\n",
       "lg electronics inc                                      88\n",
       "panasonic corp                                          87\n",
       "valeo equipements electriques moteur                    86\n",
       "volvo lastvagnar ab                                     86\n",
       "mitsubishi heavy ind ltd                                85\n",
       "zf friedrichshafen ag                                   85\n",
       "Name: assignee, dtype: int64"
      ]
     },
     "execution_count": 107,
     "metadata": {},
     "output_type": "execute_result"
    }
   ],
   "source": [
    "p['assignee'].value_counts()[:60]"
   ]
  },
  {
   "cell_type": "code",
   "execution_count": 108,
   "metadata": {},
   "outputs": [
    {
     "data": {
      "text/plain": [
       "(68764, 35)"
      ]
     },
     "execution_count": 108,
     "metadata": {},
     "output_type": "execute_result"
    }
   ],
   "source": [
    "p.shape"
   ]
  },
  {
   "cell_type": "markdown",
   "metadata": {},
   "source": [
    "### BMW for paper"
   ]
  },
  {
   "cell_type": "code",
   "execution_count": 109,
   "metadata": {},
   "outputs": [
    {
     "data": {
      "text/plain": [
       "212"
      ]
     },
     "execution_count": 109,
     "metadata": {},
     "output_type": "execute_result"
    }
   ],
   "source": [
    "len(p[p.assignee =='bmw ag'])"
   ]
  },
  {
   "cell_type": "code",
   "execution_count": 219,
   "metadata": {},
   "outputs": [],
   "source": [
    "#p.to_pickle('patent_firm_full_clean.pkl')\n",
    "#p.to_csv('patent_firm_full_clean.csv')"
   ]
  },
  {
   "cell_type": "markdown",
   "metadata": {},
   "source": [
    "### complete work"
   ]
  }
 ],
 "metadata": {
  "kernelspec": {
   "display_name": "Python 3",
   "language": "python",
   "name": "python3"
  },
  "language_info": {
   "codemirror_mode": {
    "name": "ipython",
    "version": 3
   },
   "file_extension": ".py",
   "mimetype": "text/x-python",
   "name": "python",
   "nbconvert_exporter": "python",
   "pygments_lexer": "ipython3",
   "version": "3.7.7"
  }
 },
 "nbformat": 4,
 "nbformat_minor": 2
}
