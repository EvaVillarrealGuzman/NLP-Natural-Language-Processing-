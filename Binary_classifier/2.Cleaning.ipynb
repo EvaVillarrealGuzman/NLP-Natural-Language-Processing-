{
 "cells": [
  {
   "cell_type": "markdown",
   "metadata": {},
   "source": [
    "# Cleaning the data\n"
   ]
  },
  {
   "cell_type": "markdown",
   "metadata": {},
   "source": [
    "# 1)- Importing key modules"
   ]
  },
  {
   "cell_type": "code",
   "execution_count": 1,
   "metadata": {},
   "outputs": [],
   "source": [
    "# support both Python 2 and Python 3 with minimal overhead.\n",
    "from __future__ import absolute_import, division, print_function\n",
    "\n",
    "# I am an engineer. I care only about error not warning. So, let's be maverick and ignore warnings.\n",
    "import warnings\n",
    "warnings.filterwarnings('ignore')"
   ]
  },
  {
   "cell_type": "code",
   "execution_count": 2,
   "metadata": {},
   "outputs": [],
   "source": [
    "import re    # for regular expressions \n",
    "import nltk  # for text manipulation \n",
    "import string \n",
    "import numpy as np \n",
    "import pandas as pd \n",
    "\n",
    "#For Visuals\n",
    "import matplotlib.pyplot as plt\n",
    "import seaborn as sns\n",
    "sns.set()\n",
    "from matplotlib import rcParams\n",
    "rcParams['figure.figsize'] = 11, 8\n",
    "%config InlineBackend.figure_format = 'svg'\n",
    "%matplotlib inline"
   ]
  },
  {
   "cell_type": "code",
   "execution_count": 3,
   "metadata": {},
   "outputs": [
    {
     "data": {
      "application/json": {
       "Software versions": [
        {
         "module": "Python",
         "version": "3.7.4 64bit [Clang 4.0.1 (tags/RELEASE_401/final)]"
        },
        {
         "module": "IPython",
         "version": "7.8.0"
        },
        {
         "module": "OS",
         "version": "Darwin 19.0.0 x86_64 i386 64bit"
        },
        {
         "module": "pandas",
         "version": "0.25.1"
        },
        {
         "module": "numpy",
         "version": "1.17.2"
        },
        {
         "module": "nltk",
         "version": "3.4.5"
        },
        {
         "module": "seaborn",
         "version": "0.9.0"
        },
        {
         "module": "matplotlib",
         "version": "3.1.1"
        }
       ]
      },
      "text/html": [
       "<table><tr><th>Software</th><th>Version</th></tr><tr><td>Python</td><td>3.7.4 64bit [Clang 4.0.1 (tags/RELEASE_401/final)]</td></tr><tr><td>IPython</td><td>7.8.0</td></tr><tr><td>OS</td><td>Darwin 19.0.0 x86_64 i386 64bit</td></tr><tr><td>pandas</td><td>0.25.1</td></tr><tr><td>numpy</td><td>1.17.2</td></tr><tr><td>nltk</td><td>3.4.5</td></tr><tr><td>seaborn</td><td>0.9.0</td></tr><tr><td>matplotlib</td><td>3.1.1</td></tr><tr><td colspan='2'>Mon Dec 09 11:35:50 2019 CET</td></tr></table>"
      ],
      "text/latex": [
       "\\begin{tabular}{|l|l|}\\hline\n",
       "{\\bf Software} & {\\bf Version} \\\\ \\hline\\hline\n",
       "Python & 3.7.4 64bit [Clang 4.0.1 (tags/RELEASE\\_401/final)] \\\\ \\hline\n",
       "IPython & 7.8.0 \\\\ \\hline\n",
       "OS & Darwin 19.0.0 x86\\_64 i386 64bit \\\\ \\hline\n",
       "pandas & 0.25.1 \\\\ \\hline\n",
       "numpy & 1.17.2 \\\\ \\hline\n",
       "nltk & 3.4.5 \\\\ \\hline\n",
       "seaborn & 0.9.0 \\\\ \\hline\n",
       "matplotlib & 3.1.1 \\\\ \\hline\n",
       "\\hline \\multicolumn{2}{|l|}{Mon Dec 09 11:35:50 2019 CET} \\\\ \\hline\n",
       "\\end{tabular}\n"
      ],
      "text/plain": [
       "Software versions\n",
       "Python 3.7.4 64bit [Clang 4.0.1 (tags/RELEASE_401/final)]\n",
       "IPython 7.8.0\n",
       "OS Darwin 19.0.0 x86_64 i386 64bit\n",
       "pandas 0.25.1\n",
       "numpy 1.17.2\n",
       "nltk 3.4.5\n",
       "seaborn 0.9.0\n",
       "matplotlib 3.1.1\n",
       "Mon Dec 09 11:35:50 2019 CET"
      ]
     },
     "execution_count": 3,
     "metadata": {},
     "output_type": "execute_result"
    }
   ],
   "source": [
    "%reload_ext version_information\n",
    "%version_information pandas,numpy, nltk, seaborn, matplotlib"
   ]
  },
  {
   "cell_type": "markdown",
   "metadata": {},
   "source": [
    "# 2)- Loading Dataset"
   ]
  },
  {
   "cell_type": "code",
   "execution_count": 4,
   "metadata": {},
   "outputs": [],
   "source": [
    "data=pd.read_csv('final_data_w_classes_only_contracts.csv',index_col=[0])"
   ]
  },
  {
   "cell_type": "code",
   "execution_count": 5,
   "metadata": {},
   "outputs": [
    {
     "data": {
      "text/plain": [
       "(8932, 2)"
      ]
     },
     "execution_count": 5,
     "metadata": {},
     "output_type": "execute_result"
    }
   ],
   "source": [
    "data.shape"
   ]
  },
  {
   "cell_type": "code",
   "execution_count": 6,
   "metadata": {},
   "outputs": [
    {
     "data": {
      "text/html": [
       "<div>\n",
       "<style scoped>\n",
       "    .dataframe tbody tr th:only-of-type {\n",
       "        vertical-align: middle;\n",
       "    }\n",
       "\n",
       "    .dataframe tbody tr th {\n",
       "        vertical-align: top;\n",
       "    }\n",
       "\n",
       "    .dataframe thead th {\n",
       "        text-align: right;\n",
       "    }\n",
       "</style>\n",
       "<table border=\"1\" class=\"dataframe\">\n",
       "  <thead>\n",
       "    <tr style=\"text-align: right;\">\n",
       "      <th></th>\n",
       "      <th>text</th>\n",
       "      <th>class</th>\n",
       "    </tr>\n",
       "  </thead>\n",
       "  <tbody>\n",
       "    <tr>\n",
       "      <td>0</td>\n",
       "      <td>Supplier shall update the Documentation on a r...</td>\n",
       "      <td>1.0</td>\n",
       "    </tr>\n",
       "    <tr>\n",
       "      <td>1</td>\n",
       "      <td>major release upgrades of Software, change of ...</td>\n",
       "      <td>1.0</td>\n",
       "    </tr>\n",
       "    <tr>\n",
       "      <td>2</td>\n",
       "      <td>Accept incident severity as set by E.ON Servic...</td>\n",
       "      <td>1.0</td>\n",
       "    </tr>\n",
       "    <tr>\n",
       "      <td>3</td>\n",
       "      <td>Supplier shall provide all tools, documentatio...</td>\n",
       "      <td>1.0</td>\n",
       "    </tr>\n",
       "    <tr>\n",
       "      <td>4</td>\n",
       "      <td>For smaller Projects a deviation can be agreed...</td>\n",
       "      <td>1.0</td>\n",
       "    </tr>\n",
       "  </tbody>\n",
       "</table>\n",
       "</div>"
      ],
      "text/plain": [
       "                                                text  class\n",
       "0  Supplier shall update the Documentation on a r...    1.0\n",
       "1  major release upgrades of Software, change of ...    1.0\n",
       "2  Accept incident severity as set by E.ON Servic...    1.0\n",
       "3  Supplier shall provide all tools, documentatio...    1.0\n",
       "4  For smaller Projects a deviation can be agreed...    1.0"
      ]
     },
     "execution_count": 6,
     "metadata": {},
     "output_type": "execute_result"
    }
   ],
   "source": [
    "data.head()"
   ]
  },
  {
   "cell_type": "code",
   "execution_count": 7,
   "metadata": {},
   "outputs": [
    {
     "data": {
      "text/html": [
       "<div>\n",
       "<style scoped>\n",
       "    .dataframe tbody tr th:only-of-type {\n",
       "        vertical-align: middle;\n",
       "    }\n",
       "\n",
       "    .dataframe tbody tr th {\n",
       "        vertical-align: top;\n",
       "    }\n",
       "\n",
       "    .dataframe thead th {\n",
       "        text-align: right;\n",
       "    }\n",
       "</style>\n",
       "<table border=\"1\" class=\"dataframe\">\n",
       "  <thead>\n",
       "    <tr style=\"text-align: right;\">\n",
       "      <th></th>\n",
       "      <th>text</th>\n",
       "      <th>class</th>\n",
       "    </tr>\n",
       "  </thead>\n",
       "  <tbody>\n",
       "    <tr>\n",
       "      <td>8927</td>\n",
       "      <td>EnsurethatSupplier’sperformancerequirementsast...</td>\n",
       "      <td>0.0</td>\n",
       "    </tr>\n",
       "    <tr>\n",
       "      <td>8928</td>\n",
       "      <td>Establishandexecutetheaccountmanagementdiscipl...</td>\n",
       "      <td>0.0</td>\n",
       "    </tr>\n",
       "    <tr>\n",
       "      <td>8929</td>\n",
       "      <td>Reviewofconsolidatedforecast/demandreportscove...</td>\n",
       "      <td>0.0</td>\n",
       "    </tr>\n",
       "    <tr>\n",
       "      <td>8930</td>\n",
       "      <td>OnceE.ON'sContractManagerdecidestoproceedwitha...</td>\n",
       "      <td>0.0</td>\n",
       "    </tr>\n",
       "    <tr>\n",
       "      <td>8931</td>\n",
       "      <td>maymaketemporaryOperationalChanges,incaseitisa...</td>\n",
       "      <td>0.0</td>\n",
       "    </tr>\n",
       "  </tbody>\n",
       "</table>\n",
       "</div>"
      ],
      "text/plain": [
       "                                                   text  class\n",
       "8927  EnsurethatSupplier’sperformancerequirementsast...    0.0\n",
       "8928  Establishandexecutetheaccountmanagementdiscipl...    0.0\n",
       "8929  Reviewofconsolidatedforecast/demandreportscove...    0.0\n",
       "8930  OnceE.ON'sContractManagerdecidestoproceedwitha...    0.0\n",
       "8931  maymaketemporaryOperationalChanges,incaseitisa...    0.0"
      ]
     },
     "execution_count": 7,
     "metadata": {},
     "output_type": "execute_result"
    }
   ],
   "source": [
    "data.tail()"
   ]
  },
  {
   "cell_type": "code",
   "execution_count": 8,
   "metadata": {},
   "outputs": [
    {
     "data": {
      "text/plain": [
       "0.0    4393\n",
       "1.0    3550\n",
       "Name: class, dtype: int64"
      ]
     },
     "execution_count": 8,
     "metadata": {},
     "output_type": "execute_result"
    }
   ],
   "source": [
    "data['class'].value_counts()"
   ]
  },
  {
   "cell_type": "markdown",
   "metadata": {},
   "source": [
    "**0 means other text and 1 means Deliverable and Obligations**"
   ]
  },
  {
   "cell_type": "code",
   "execution_count": 9,
   "metadata": {},
   "outputs": [
    {
     "data": {
      "text/html": [
       "<div>\n",
       "<style scoped>\n",
       "    .dataframe tbody tr th:only-of-type {\n",
       "        vertical-align: middle;\n",
       "    }\n",
       "\n",
       "    .dataframe tbody tr th {\n",
       "        vertical-align: top;\n",
       "    }\n",
       "\n",
       "    .dataframe thead th {\n",
       "        text-align: right;\n",
       "    }\n",
       "</style>\n",
       "<table border=\"1\" class=\"dataframe\">\n",
       "  <thead>\n",
       "    <tr style=\"text-align: right;\">\n",
       "      <th></th>\n",
       "      <th>text</th>\n",
       "      <th>class</th>\n",
       "    </tr>\n",
       "  </thead>\n",
       "  <tbody>\n",
       "    <tr>\n",
       "      <td>0</td>\n",
       "      <td>Supplier shall update the Documentation on a r...</td>\n",
       "      <td>1.0</td>\n",
       "    </tr>\n",
       "    <tr>\n",
       "      <td>1</td>\n",
       "      <td>major release upgrades of Software, change of ...</td>\n",
       "      <td>1.0</td>\n",
       "    </tr>\n",
       "    <tr>\n",
       "      <td>2</td>\n",
       "      <td>Accept incident severity as set by E.ON Servic...</td>\n",
       "      <td>1.0</td>\n",
       "    </tr>\n",
       "    <tr>\n",
       "      <td>3</td>\n",
       "      <td>Supplier shall provide all tools, documentatio...</td>\n",
       "      <td>1.0</td>\n",
       "    </tr>\n",
       "    <tr>\n",
       "      <td>4</td>\n",
       "      <td>For smaller Projects a deviation can be agreed...</td>\n",
       "      <td>1.0</td>\n",
       "    </tr>\n",
       "    <tr>\n",
       "      <td>5</td>\n",
       "      <td>Supplier shall provide any hardware or testing...</td>\n",
       "      <td>1.0</td>\n",
       "    </tr>\n",
       "    <tr>\n",
       "      <td>6</td>\n",
       "      <td>Supplier is obliged to install the work on the...</td>\n",
       "      <td>1.0</td>\n",
       "    </tr>\n",
       "    <tr>\n",
       "      <td>7</td>\n",
       "      <td>If the Benchmarking Results indicate that the ...</td>\n",
       "      <td>1.0</td>\n",
       "    </tr>\n",
       "    <tr>\n",
       "      <td>8</td>\n",
       "      <td>Within thirty () days or such other period agr...</td>\n",
       "      <td>1.0</td>\n",
       "    </tr>\n",
       "    <tr>\n",
       "      <td>9</td>\n",
       "      <td>E.ON may request and the Supplier shall provid...</td>\n",
       "      <td>1.0</td>\n",
       "    </tr>\n",
       "  </tbody>\n",
       "</table>\n",
       "</div>"
      ],
      "text/plain": [
       "                                                text  class\n",
       "0  Supplier shall update the Documentation on a r...    1.0\n",
       "1  major release upgrades of Software, change of ...    1.0\n",
       "2  Accept incident severity as set by E.ON Servic...    1.0\n",
       "3  Supplier shall provide all tools, documentatio...    1.0\n",
       "4  For smaller Projects a deviation can be agreed...    1.0\n",
       "5  Supplier shall provide any hardware or testing...    1.0\n",
       "6  Supplier is obliged to install the work on the...    1.0\n",
       "7  If the Benchmarking Results indicate that the ...    1.0\n",
       "8  Within thirty () days or such other period agr...    1.0\n",
       "9  E.ON may request and the Supplier shall provid...    1.0"
      ]
     },
     "execution_count": 9,
     "metadata": {},
     "output_type": "execute_result"
    }
   ],
   "source": [
    "# And Deliverables^Objective class look like\n",
    "data[data[\"class\"]==1.0].head(10)"
   ]
  },
  {
   "cell_type": "code",
   "execution_count": 10,
   "metadata": {},
   "outputs": [
    {
     "data": {
      "text/html": [
       "<div>\n",
       "<style scoped>\n",
       "    .dataframe tbody tr th:only-of-type {\n",
       "        vertical-align: middle;\n",
       "    }\n",
       "\n",
       "    .dataframe tbody tr th {\n",
       "        vertical-align: top;\n",
       "    }\n",
       "\n",
       "    .dataframe thead th {\n",
       "        text-align: right;\n",
       "    }\n",
       "</style>\n",
       "<table border=\"1\" class=\"dataframe\">\n",
       "  <thead>\n",
       "    <tr style=\"text-align: right;\">\n",
       "      <th></th>\n",
       "      <th>text</th>\n",
       "      <th>class</th>\n",
       "    </tr>\n",
       "  </thead>\n",
       "  <tbody>\n",
       "    <tr>\n",
       "      <td>4539</td>\n",
       "      <td>Furthermore, Supplier shall not be liable for ...</td>\n",
       "      <td>0.0</td>\n",
       "    </tr>\n",
       "    <tr>\n",
       "      <td>4540</td>\n",
       "      <td>Intervention control (all unauthorized interve...</td>\n",
       "      <td>0.0</td>\n",
       "    </tr>\n",
       "    <tr>\n",
       "      <td>4541</td>\n",
       "      <td>Supplier shall provide and maintain test and p...</td>\n",
       "      <td>0.0</td>\n",
       "    </tr>\n",
       "    <tr>\n",
       "      <td>4542</td>\n",
       "      <td>Configuration Management ensures that relevant...</td>\n",
       "      <td>0.0</td>\n",
       "    </tr>\n",
       "    <tr>\n",
       "      <td>4543</td>\n",
       "      <td>The procedural documentation contains transpar...</td>\n",
       "      <td>0.0</td>\n",
       "    </tr>\n",
       "    <tr>\n",
       "      <td>4544</td>\n",
       "      <td>Job control (it must be ensured that the data ...</td>\n",
       "      <td>0.0</td>\n",
       "    </tr>\n",
       "    <tr>\n",
       "      <td>4545</td>\n",
       "      <td>Fixed Charge invoiced on the first day of each...</td>\n",
       "      <td>0.0</td>\n",
       "    </tr>\n",
       "    <tr>\n",
       "      <td>4546</td>\n",
       "      <td>Participate in cross-delivery service provider...</td>\n",
       "      <td>0.0</td>\n",
       "    </tr>\n",
       "    <tr>\n",
       "      <td>4547</td>\n",
       "      <td>E.ON shall agree with the internal and externa...</td>\n",
       "      <td>0.0</td>\n",
       "    </tr>\n",
       "    <tr>\n",
       "      <td>4548</td>\n",
       "      <td>There is a concept for the creation and implem...</td>\n",
       "      <td>0.0</td>\n",
       "    </tr>\n",
       "  </tbody>\n",
       "</table>\n",
       "</div>"
      ],
      "text/plain": [
       "                                                   text  class\n",
       "4539  Furthermore, Supplier shall not be liable for ...    0.0\n",
       "4540  Intervention control (all unauthorized interve...    0.0\n",
       "4541  Supplier shall provide and maintain test and p...    0.0\n",
       "4542  Configuration Management ensures that relevant...    0.0\n",
       "4543  The procedural documentation contains transpar...    0.0\n",
       "4544  Job control (it must be ensured that the data ...    0.0\n",
       "4545  Fixed Charge invoiced on the first day of each...    0.0\n",
       "4546  Participate in cross-delivery service provider...    0.0\n",
       "4547  E.ON shall agree with the internal and externa...    0.0\n",
       "4548  There is a concept for the creation and implem...    0.0"
      ]
     },
     "execution_count": 10,
     "metadata": {},
     "output_type": "execute_result"
    }
   ],
   "source": [
    "# let's see how Other type classlooks like\n",
    "data[data[\"class\"]==0.0].head(10)"
   ]
  },
  {
   "cell_type": "code",
   "execution_count": 11,
   "metadata": {},
   "outputs": [
    {
     "data": {
      "text/plain": [
       "677"
      ]
     },
     "execution_count": 11,
     "metadata": {},
     "output_type": "execute_result"
    }
   ],
   "source": [
    "len(str(data['text']))"
   ]
  },
  {
   "cell_type": "markdown",
   "metadata": {},
   "source": [
    "### check missing values"
   ]
  },
  {
   "cell_type": "code",
   "execution_count": 12,
   "metadata": {},
   "outputs": [],
   "source": [
    "# Checking rows now\n",
    "def summary_missing(dataset):\n",
    "    n_miss = dataset.isnull().sum()\n",
    "    n_obs = dataset.shape[0]\n",
    "    n_miss_per = n_miss/n_obs*100\n",
    "    n_miss_tbl = pd.concat([n_miss, n_miss_per], axis = 1).sort_values(1, ascending = False).round(1)\n",
    "    n_miss_tbl = n_miss_tbl[n_miss_tbl[1] != 0]\n",
    "    print('No. of fields: ', dataset.shape[0])\n",
    "    print('No. of missing fields: ', n_miss_tbl.shape[0])\n",
    "    n_miss_tbl = n_miss_tbl.rename(columns = {0:'No. of mising Value', 1:'%age of missing Value'})\n",
    "    return n_miss_tbl"
   ]
  },
  {
   "cell_type": "code",
   "execution_count": 13,
   "metadata": {},
   "outputs": [
    {
     "name": "stdout",
     "output_type": "stream",
     "text": [
      "No. of fields:  8932\n",
      "No. of missing fields:  1\n"
     ]
    },
    {
     "data": {
      "text/html": [
       "<div>\n",
       "<style scoped>\n",
       "    .dataframe tbody tr th:only-of-type {\n",
       "        vertical-align: middle;\n",
       "    }\n",
       "\n",
       "    .dataframe tbody tr th {\n",
       "        vertical-align: top;\n",
       "    }\n",
       "\n",
       "    .dataframe thead th {\n",
       "        text-align: right;\n",
       "    }\n",
       "</style>\n",
       "<table border=\"1\" class=\"dataframe\">\n",
       "  <thead>\n",
       "    <tr style=\"text-align: right;\">\n",
       "      <th></th>\n",
       "      <th>No. of mising Value</th>\n",
       "      <th>%age of missing Value</th>\n",
       "    </tr>\n",
       "  </thead>\n",
       "  <tbody>\n",
       "    <tr>\n",
       "      <td>class</td>\n",
       "      <td>989</td>\n",
       "      <td>11.1</td>\n",
       "    </tr>\n",
       "  </tbody>\n",
       "</table>\n",
       "</div>"
      ],
      "text/plain": [
       "       No. of mising Value  %age of missing Value\n",
       "class                  989                   11.1"
      ]
     },
     "execution_count": 13,
     "metadata": {},
     "output_type": "execute_result"
    }
   ],
   "source": [
    "summary_missing(data)"
   ]
  },
  {
   "cell_type": "code",
   "execution_count": 14,
   "metadata": {},
   "outputs": [],
   "source": [
    "data_class=data['class']"
   ]
  },
  {
   "cell_type": "markdown",
   "metadata": {},
   "source": [
    "What to do with them? Delete them or ffill?"
   ]
  },
  {
   "cell_type": "code",
   "execution_count": 15,
   "metadata": {},
   "outputs": [
    {
     "data": {
      "text/plain": [
       "array([ 1., nan,  0.])"
      ]
     },
     "execution_count": 15,
     "metadata": {},
     "output_type": "execute_result"
    }
   ],
   "source": [
    "data_class.unique()"
   ]
  },
  {
   "cell_type": "code",
   "execution_count": 16,
   "metadata": {},
   "outputs": [
    {
     "data": {
      "text/plain": [
       "3550   NaN\n",
       "3551   NaN\n",
       "3552   NaN\n",
       "3553   NaN\n",
       "3554   NaN\n",
       "        ..\n",
       "4534   NaN\n",
       "4535   NaN\n",
       "4536   NaN\n",
       "4537   NaN\n",
       "4538   NaN\n",
       "Name: class, Length: 989, dtype: float64"
      ]
     },
     "execution_count": 16,
     "metadata": {},
     "output_type": "execute_result"
    }
   ],
   "source": [
    "# where does missing value exist!!!\n",
    "\n",
    "data_class.loc[data_class.isnull()]"
   ]
  },
  {
   "cell_type": "code",
   "execution_count": 17,
   "metadata": {},
   "outputs": [],
   "source": [
    "# filling values\n",
    "\n",
    "data = data.fillna(method=\"ffill\")"
   ]
  },
  {
   "cell_type": "code",
   "execution_count": 18,
   "metadata": {},
   "outputs": [
    {
     "name": "stdout",
     "output_type": "stream",
     "text": [
      "No. of fields:  8932\n",
      "No. of missing fields:  0\n"
     ]
    },
    {
     "data": {
      "text/html": [
       "<div>\n",
       "<style scoped>\n",
       "    .dataframe tbody tr th:only-of-type {\n",
       "        vertical-align: middle;\n",
       "    }\n",
       "\n",
       "    .dataframe tbody tr th {\n",
       "        vertical-align: top;\n",
       "    }\n",
       "\n",
       "    .dataframe thead th {\n",
       "        text-align: right;\n",
       "    }\n",
       "</style>\n",
       "<table border=\"1\" class=\"dataframe\">\n",
       "  <thead>\n",
       "    <tr style=\"text-align: right;\">\n",
       "      <th></th>\n",
       "      <th>No. of mising Value</th>\n",
       "      <th>%age of missing Value</th>\n",
       "    </tr>\n",
       "  </thead>\n",
       "  <tbody>\n",
       "  </tbody>\n",
       "</table>\n",
       "</div>"
      ],
      "text/plain": [
       "Empty DataFrame\n",
       "Columns: [No. of mising Value, %age of missing Value]\n",
       "Index: []"
      ]
     },
     "execution_count": 18,
     "metadata": {},
     "output_type": "execute_result"
    }
   ],
   "source": [
    "summary_missing(data)"
   ]
  },
  {
   "cell_type": "markdown",
   "metadata": {},
   "source": [
    "# 3)- Text Cleaning"
   ]
  },
  {
   "cell_type": "markdown",
   "metadata": {},
   "source": [
    "### 3.1)-remove unwanted text patterns"
   ]
  },
  {
   "cell_type": "code",
   "execution_count": 19,
   "metadata": {},
   "outputs": [],
   "source": [
    "def remove_pattern(input_txt, pattern):\n",
    "    r = re.findall(pattern, input_txt)\n",
    "    for i in r:\n",
    "        input_txt = re.sub(i, '', input_txt)\n",
    "    return input_txt"
   ]
  },
  {
   "cell_type": "markdown",
   "metadata": {},
   "source": [
    "What are some unwanted patterns. Let's say we have @ now"
   ]
  },
  {
   "cell_type": "code",
   "execution_count": 20,
   "metadata": {},
   "outputs": [
    {
     "data": {
      "text/html": [
       "<div>\n",
       "<style scoped>\n",
       "    .dataframe tbody tr th:only-of-type {\n",
       "        vertical-align: middle;\n",
       "    }\n",
       "\n",
       "    .dataframe tbody tr th {\n",
       "        vertical-align: top;\n",
       "    }\n",
       "\n",
       "    .dataframe thead th {\n",
       "        text-align: right;\n",
       "    }\n",
       "</style>\n",
       "<table border=\"1\" class=\"dataframe\">\n",
       "  <thead>\n",
       "    <tr style=\"text-align: right;\">\n",
       "      <th></th>\n",
       "      <th>text</th>\n",
       "      <th>class</th>\n",
       "      <th>clean</th>\n",
       "    </tr>\n",
       "  </thead>\n",
       "  <tbody>\n",
       "    <tr>\n",
       "      <td>0</td>\n",
       "      <td>Supplier shall update the Documentation on a r...</td>\n",
       "      <td>1.0</td>\n",
       "      <td>Supplier shall update the Documentation on a r...</td>\n",
       "    </tr>\n",
       "    <tr>\n",
       "      <td>1</td>\n",
       "      <td>major release upgrades of Software, change of ...</td>\n",
       "      <td>1.0</td>\n",
       "      <td>major release upgrades of Software, change of ...</td>\n",
       "    </tr>\n",
       "    <tr>\n",
       "      <td>2</td>\n",
       "      <td>Accept incident severity as set by E.ON Servic...</td>\n",
       "      <td>1.0</td>\n",
       "      <td>Accept incident severity as set by E.ON Servic...</td>\n",
       "    </tr>\n",
       "    <tr>\n",
       "      <td>3</td>\n",
       "      <td>Supplier shall provide all tools, documentatio...</td>\n",
       "      <td>1.0</td>\n",
       "      <td>Supplier shall provide all tools, documentatio...</td>\n",
       "    </tr>\n",
       "    <tr>\n",
       "      <td>4</td>\n",
       "      <td>For smaller Projects a deviation can be agreed...</td>\n",
       "      <td>1.0</td>\n",
       "      <td>For smaller Projects a deviation can be agreed...</td>\n",
       "    </tr>\n",
       "  </tbody>\n",
       "</table>\n",
       "</div>"
      ],
      "text/plain": [
       "                                                text  class  \\\n",
       "0  Supplier shall update the Documentation on a r...    1.0   \n",
       "1  major release upgrades of Software, change of ...    1.0   \n",
       "2  Accept incident severity as set by E.ON Servic...    1.0   \n",
       "3  Supplier shall provide all tools, documentatio...    1.0   \n",
       "4  For smaller Projects a deviation can be agreed...    1.0   \n",
       "\n",
       "                                               clean  \n",
       "0  Supplier shall update the Documentation on a r...  \n",
       "1  major release upgrades of Software, change of ...  \n",
       "2  Accept incident severity as set by E.ON Servic...  \n",
       "3  Supplier shall provide all tools, documentatio...  \n",
       "4  For smaller Projects a deviation can be agreed...  "
      ]
     },
     "execution_count": 20,
     "metadata": {},
     "output_type": "execute_result"
    }
   ],
   "source": [
    "data['clean'] = np.vectorize(remove_pattern)(data['text'], \"@[\\w]*\") \n",
    "data.head()"
   ]
  },
  {
   "cell_type": "code",
   "execution_count": 21,
   "metadata": {},
   "outputs": [
    {
     "data": {
      "text/plain": [
       "'Supplier shall update the Documentation on a regular basis but at least:Once every half calendar year after the respective Service Commencement Date; andFollowing every update of the Services (e.g,.'"
      ]
     },
     "execution_count": 21,
     "metadata": {},
     "output_type": "execute_result"
    }
   ],
   "source": [
    "data.text[0]"
   ]
  },
  {
   "cell_type": "code",
   "execution_count": 22,
   "metadata": {},
   "outputs": [
    {
     "data": {
      "text/plain": [
       "'Supplier shall update the Documentation on a regular basis but at least:Once every half calendar year after the respective Service Commencement Date; andFollowing every update of the Services (e.g,.'"
      ]
     },
     "execution_count": 22,
     "metadata": {},
     "output_type": "execute_result"
    }
   ],
   "source": [
    "data.clean[0]"
   ]
  },
  {
   "cell_type": "markdown",
   "metadata": {},
   "source": [
    "### 3.2)-Removing Punctuations, Numbers, and Special Characters"
   ]
  },
  {
   "cell_type": "code",
   "execution_count": 23,
   "metadata": {},
   "outputs": [
    {
     "data": {
      "text/html": [
       "<div>\n",
       "<style scoped>\n",
       "    .dataframe tbody tr th:only-of-type {\n",
       "        vertical-align: middle;\n",
       "    }\n",
       "\n",
       "    .dataframe tbody tr th {\n",
       "        vertical-align: top;\n",
       "    }\n",
       "\n",
       "    .dataframe thead th {\n",
       "        text-align: right;\n",
       "    }\n",
       "</style>\n",
       "<table border=\"1\" class=\"dataframe\">\n",
       "  <thead>\n",
       "    <tr style=\"text-align: right;\">\n",
       "      <th></th>\n",
       "      <th>text</th>\n",
       "      <th>class</th>\n",
       "      <th>clean</th>\n",
       "    </tr>\n",
       "  </thead>\n",
       "  <tbody>\n",
       "    <tr>\n",
       "      <td>0</td>\n",
       "      <td>Supplier shall update the Documentation on a r...</td>\n",
       "      <td>1.0</td>\n",
       "      <td>Supplier shall update the Documentation on a r...</td>\n",
       "    </tr>\n",
       "    <tr>\n",
       "      <td>1</td>\n",
       "      <td>major release upgrades of Software, change of ...</td>\n",
       "      <td>1.0</td>\n",
       "      <td>major release upgrades of Software  change of ...</td>\n",
       "    </tr>\n",
       "    <tr>\n",
       "      <td>2</td>\n",
       "      <td>Accept incident severity as set by E.ON Servic...</td>\n",
       "      <td>1.0</td>\n",
       "      <td>Accept incident severity as set by E ON Servic...</td>\n",
       "    </tr>\n",
       "    <tr>\n",
       "      <td>3</td>\n",
       "      <td>Supplier shall provide all tools, documentatio...</td>\n",
       "      <td>1.0</td>\n",
       "      <td>Supplier shall provide all tools  documentatio...</td>\n",
       "    </tr>\n",
       "    <tr>\n",
       "      <td>4</td>\n",
       "      <td>For smaller Projects a deviation can be agreed...</td>\n",
       "      <td>1.0</td>\n",
       "      <td>For smaller Projects a deviation can be agreed...</td>\n",
       "    </tr>\n",
       "  </tbody>\n",
       "</table>\n",
       "</div>"
      ],
      "text/plain": [
       "                                                text  class  \\\n",
       "0  Supplier shall update the Documentation on a r...    1.0   \n",
       "1  major release upgrades of Software, change of ...    1.0   \n",
       "2  Accept incident severity as set by E.ON Servic...    1.0   \n",
       "3  Supplier shall provide all tools, documentatio...    1.0   \n",
       "4  For smaller Projects a deviation can be agreed...    1.0   \n",
       "\n",
       "                                               clean  \n",
       "0  Supplier shall update the Documentation on a r...  \n",
       "1  major release upgrades of Software  change of ...  \n",
       "2  Accept incident severity as set by E ON Servic...  \n",
       "3  Supplier shall provide all tools  documentatio...  \n",
       "4  For smaller Projects a deviation can be agreed...  "
      ]
     },
     "execution_count": 23,
     "metadata": {},
     "output_type": "execute_result"
    }
   ],
   "source": [
    "data['clean'] = data['clean'].str.replace(\"[^a-zA-Z#]\", \" \") \n",
    "data.head()"
   ]
  },
  {
   "cell_type": "code",
   "execution_count": 24,
   "metadata": {},
   "outputs": [
    {
     "data": {
      "text/plain": [
       "'Supplier shall update the Documentation on a regular basis but at least:Once every half calendar year after the respective Service Commencement Date; andFollowing every update of the Services (e.g,.'"
      ]
     },
     "execution_count": 24,
     "metadata": {},
     "output_type": "execute_result"
    }
   ],
   "source": [
    "data.text[0]"
   ]
  },
  {
   "cell_type": "code",
   "execution_count": 25,
   "metadata": {},
   "outputs": [
    {
     "data": {
      "text/plain": [
       "'Supplier shall update the Documentation on a regular basis but at least Once every half calendar year after the respective Service Commencement Date  andFollowing every update of the Services  e g  '"
      ]
     },
     "execution_count": 25,
     "metadata": {},
     "output_type": "execute_result"
    }
   ],
   "source": [
    "data.clean[0]"
   ]
  },
  {
   "cell_type": "markdown",
   "metadata": {},
   "source": [
    "### 3.3)-Text Normalization"
   ]
  },
  {
   "cell_type": "code",
   "execution_count": 26,
   "metadata": {},
   "outputs": [
    {
     "data": {
      "text/plain": [
       "0    [Supplier, shall, update, the, Documentation, ...\n",
       "1    [major, release, upgrades, of, Software, chang...\n",
       "2    [Accept, incident, severity, as, set, by, E, O...\n",
       "3    [Supplier, shall, provide, all, tools, documen...\n",
       "4    [For, smaller, Projects, a, deviation, can, be...\n",
       "Name: clean, dtype: object"
      ]
     },
     "execution_count": 26,
     "metadata": {},
     "output_type": "execute_result"
    }
   ],
   "source": [
    "tokenized_text = data['clean'].apply(lambda x: x.split()) # tokenizing \n",
    "tokenized_text.head()"
   ]
  },
  {
   "cell_type": "code",
   "execution_count": 27,
   "metadata": {},
   "outputs": [
    {
     "name": "stdout",
     "output_type": "stream",
     "text": [
      "['Supplier', 'shall', 'update', 'the', 'Documentation', 'on', 'a', 'regular', 'basis', 'but', 'at', 'least', 'Once', 'every', 'half', 'calendar', 'year', 'after', 'the', 'respective', 'Service', 'Commencement', 'Date', 'andFollowing', 'every', 'update', 'of', 'the', 'Services', 'e', 'g']\n"
     ]
    }
   ],
   "source": [
    "print(tokenized_text[0])"
   ]
  },
  {
   "cell_type": "code",
   "execution_count": 28,
   "metadata": {},
   "outputs": [
    {
     "name": "stdout",
     "output_type": "stream",
     "text": [
      "['major', 'release', 'upgrades', 'of', 'Software', 'change', 'of', 'Equipment', 'implementation', 'of', 'Improvements']\n"
     ]
    }
   ],
   "source": [
    "print(tokenized_text[1])"
   ]
  },
  {
   "cell_type": "code",
   "execution_count": 29,
   "metadata": {},
   "outputs": [
    {
     "name": "stderr",
     "output_type": "stream",
     "text": [
      "[nltk_data] Downloading package wordnet to\n",
      "[nltk_data]     /Users/hassansherwani/nltk_data...\n",
      "[nltk_data]   Package wordnet is already up-to-date!\n"
     ]
    },
    {
     "data": {
      "text/plain": [
       "True"
      ]
     },
     "execution_count": 29,
     "metadata": {},
     "output_type": "execute_result"
    }
   ],
   "source": [
    "nltk.download('wordnet')"
   ]
  },
  {
   "cell_type": "code",
   "execution_count": 30,
   "metadata": {},
   "outputs": [],
   "source": [
    "from nltk.stem import WordNetLemmatizer\n",
    "lemm = WordNetLemmatizer()\n",
    "\n",
    "tokenized_text = tokenized_text.apply(lambda x: [lemm.lemmatize(i) for i in x])"
   ]
  },
  {
   "cell_type": "code",
   "execution_count": 31,
   "metadata": {},
   "outputs": [
    {
     "name": "stdout",
     "output_type": "stream",
     "text": [
      "['Supplier', 'shall', 'update', 'the', 'Documentation', 'on', 'a', 'regular', 'basis', 'but', 'at', 'least', 'Once', 'every', 'half', 'calendar', 'year', 'after', 'the', 'respective', 'Service', 'Commencement', 'Date', 'andFollowing', 'every', 'update', 'of', 'the', 'Services', 'e', 'g']\n"
     ]
    }
   ],
   "source": [
    "print(tokenized_text[0])"
   ]
  },
  {
   "cell_type": "code",
   "execution_count": 32,
   "metadata": {},
   "outputs": [
    {
     "name": "stdout",
     "output_type": "stream",
     "text": [
      "['Supplier', 'shall', 'provide', 'any', 'hardware', 'or', 'testing', 'environment', 'for', 'the', 'testing', 'of', 'the', 'work']\n"
     ]
    }
   ],
   "source": [
    "print(tokenized_text[5])"
   ]
  },
  {
   "cell_type": "code",
   "execution_count": 33,
   "metadata": {},
   "outputs": [],
   "source": [
    "# stitch these tokens back together.\n",
    "\n",
    "for i in range(len(tokenized_text)):\n",
    "    tokenized_text[i] = ' '.join(tokenized_text[i])    \n",
    "data['clean'] = tokenized_text"
   ]
  },
  {
   "cell_type": "code",
   "execution_count": 34,
   "metadata": {},
   "outputs": [
    {
     "data": {
      "text/plain": [
       "'Supplier shall provide all tools, documentation and other material reasonably necessary for E.ON to conduct the Acceptance Test at least ten () Business Days’ prior to the commencement of the Acceptance Test, together with to the extent reasonable a list of the Project Services and works to be accepted and the related documentation.'"
      ]
     },
     "execution_count": 34,
     "metadata": {},
     "output_type": "execute_result"
    }
   ],
   "source": [
    "data.text[3]"
   ]
  },
  {
   "cell_type": "code",
   "execution_count": 35,
   "metadata": {},
   "outputs": [
    {
     "data": {
      "text/plain": [
       "'Supplier shall provide all tool documentation and other material reasonably necessary for E ON to conduct the Acceptance Test at least ten Business Days prior to the commencement of the Acceptance Test together with to the extent reasonable a list of the Project Services and work to be accepted and the related documentation'"
      ]
     },
     "execution_count": 35,
     "metadata": {},
     "output_type": "execute_result"
    }
   ],
   "source": [
    "data.clean[3]"
   ]
  },
  {
   "cell_type": "code",
   "execution_count": 36,
   "metadata": {},
   "outputs": [
    {
     "data": {
      "text/html": [
       "<div>\n",
       "<style scoped>\n",
       "    .dataframe tbody tr th:only-of-type {\n",
       "        vertical-align: middle;\n",
       "    }\n",
       "\n",
       "    .dataframe tbody tr th {\n",
       "        vertical-align: top;\n",
       "    }\n",
       "\n",
       "    .dataframe thead th {\n",
       "        text-align: right;\n",
       "    }\n",
       "</style>\n",
       "<table border=\"1\" class=\"dataframe\">\n",
       "  <thead>\n",
       "    <tr style=\"text-align: right;\">\n",
       "      <th></th>\n",
       "      <th>text</th>\n",
       "      <th>class</th>\n",
       "      <th>clean</th>\n",
       "    </tr>\n",
       "  </thead>\n",
       "  <tbody>\n",
       "    <tr>\n",
       "      <td>0</td>\n",
       "      <td>Supplier shall update the Documentation on a r...</td>\n",
       "      <td>1.0</td>\n",
       "      <td>Supplier shall update the Documentation on a r...</td>\n",
       "    </tr>\n",
       "    <tr>\n",
       "      <td>1</td>\n",
       "      <td>major release upgrades of Software, change of ...</td>\n",
       "      <td>1.0</td>\n",
       "      <td>major release upgrade of Software change of Eq...</td>\n",
       "    </tr>\n",
       "    <tr>\n",
       "      <td>2</td>\n",
       "      <td>Accept incident severity as set by E.ON Servic...</td>\n",
       "      <td>1.0</td>\n",
       "      <td>Accept incident severity a set by E ON Service...</td>\n",
       "    </tr>\n",
       "    <tr>\n",
       "      <td>3</td>\n",
       "      <td>Supplier shall provide all tools, documentatio...</td>\n",
       "      <td>1.0</td>\n",
       "      <td>Supplier shall provide all tool documentation ...</td>\n",
       "    </tr>\n",
       "    <tr>\n",
       "      <td>4</td>\n",
       "      <td>For smaller Projects a deviation can be agreed...</td>\n",
       "      <td>1.0</td>\n",
       "      <td>For smaller Projects a deviation can be agreed...</td>\n",
       "    </tr>\n",
       "  </tbody>\n",
       "</table>\n",
       "</div>"
      ],
      "text/plain": [
       "                                                text  class  \\\n",
       "0  Supplier shall update the Documentation on a r...    1.0   \n",
       "1  major release upgrades of Software, change of ...    1.0   \n",
       "2  Accept incident severity as set by E.ON Servic...    1.0   \n",
       "3  Supplier shall provide all tools, documentatio...    1.0   \n",
       "4  For smaller Projects a deviation can be agreed...    1.0   \n",
       "\n",
       "                                               clean  \n",
       "0  Supplier shall update the Documentation on a r...  \n",
       "1  major release upgrade of Software change of Eq...  \n",
       "2  Accept incident severity a set by E ON Service...  \n",
       "3  Supplier shall provide all tool documentation ...  \n",
       "4  For smaller Projects a deviation can be agreed...  "
      ]
     },
     "execution_count": 36,
     "metadata": {},
     "output_type": "execute_result"
    }
   ],
   "source": [
    "data.head()"
   ]
  },
  {
   "cell_type": "markdown",
   "metadata": {},
   "source": [
    "### All in one quick command"
   ]
  },
  {
   "cell_type": "code",
   "execution_count": 37,
   "metadata": {},
   "outputs": [],
   "source": [
    "from nltk.corpus import stopwords\n",
    "clean_text = [] # defining corpus\n",
    "for i in range(0, len(data['text'])): # giving range of values from 0 to 1000\n",
    "    processed_text = re.sub('[^a-zA-Z]', ' ', data['text'][i]) # using i for all values instead of 1 column\n",
    "    processed_text = processed_text.lower()\n",
    "    processed_text = processed_text.split()\n",
    "    lemm = WordNetLemmatizer()\n",
    "    stopword_set = set(stopwords.words('english'))\n",
    "    processed_text = [lemm.lemmatize(word) for word in processed_text if not word in stopword_set]\n",
    "    processed_text = ' '.join(processed_text )\n",
    "    clean_text.append(processed_text) # finally attach all these cleaned values to corpus directory"
   ]
  },
  {
   "cell_type": "code",
   "execution_count": 38,
   "metadata": {},
   "outputs": [],
   "source": [
    "# Remove numbers\n",
    "clean_text = [word for word in clean_text if not word.isnumeric()]"
   ]
  },
  {
   "cell_type": "code",
   "execution_count": 39,
   "metadata": {},
   "outputs": [
    {
     "data": {
      "text/plain": [
       "list"
      ]
     },
     "execution_count": 39,
     "metadata": {},
     "output_type": "execute_result"
    }
   ],
   "source": [
    "type(clean_text)"
   ]
  },
  {
   "cell_type": "code",
   "execution_count": 40,
   "metadata": {},
   "outputs": [],
   "source": [
    "# convert to series to check words\n",
    "text_corpus = pd.Series(clean_text)"
   ]
  },
  {
   "cell_type": "code",
   "execution_count": 41,
   "metadata": {},
   "outputs": [
    {
     "data": {
      "text/html": [
       "<div>\n",
       "<style scoped>\n",
       "    .dataframe tbody tr th:only-of-type {\n",
       "        vertical-align: middle;\n",
       "    }\n",
       "\n",
       "    .dataframe tbody tr th {\n",
       "        vertical-align: top;\n",
       "    }\n",
       "\n",
       "    .dataframe thead th {\n",
       "        text-align: right;\n",
       "    }\n",
       "</style>\n",
       "<table border=\"1\" class=\"dataframe\">\n",
       "  <thead>\n",
       "    <tr style=\"text-align: right;\">\n",
       "      <th></th>\n",
       "      <th>text</th>\n",
       "      <th>class</th>\n",
       "      <th>clean</th>\n",
       "      <th>clean2</th>\n",
       "    </tr>\n",
       "  </thead>\n",
       "  <tbody>\n",
       "    <tr>\n",
       "      <td>0</td>\n",
       "      <td>Supplier shall update the Documentation on a r...</td>\n",
       "      <td>1.0</td>\n",
       "      <td>Supplier shall update the Documentation on a r...</td>\n",
       "      <td>supplier shall update documentation regular ba...</td>\n",
       "    </tr>\n",
       "    <tr>\n",
       "      <td>1</td>\n",
       "      <td>major release upgrades of Software, change of ...</td>\n",
       "      <td>1.0</td>\n",
       "      <td>major release upgrade of Software change of Eq...</td>\n",
       "      <td>major release upgrade software change equipmen...</td>\n",
       "    </tr>\n",
       "    <tr>\n",
       "      <td>2</td>\n",
       "      <td>Accept incident severity as set by E.ON Servic...</td>\n",
       "      <td>1.0</td>\n",
       "      <td>Accept incident severity a set by E ON Service...</td>\n",
       "      <td>accept incident severity set e service desk ce...</td>\n",
       "    </tr>\n",
       "    <tr>\n",
       "      <td>3</td>\n",
       "      <td>Supplier shall provide all tools, documentatio...</td>\n",
       "      <td>1.0</td>\n",
       "      <td>Supplier shall provide all tool documentation ...</td>\n",
       "      <td>supplier shall provide tool documentation mate...</td>\n",
       "    </tr>\n",
       "    <tr>\n",
       "      <td>4</td>\n",
       "      <td>For smaller Projects a deviation can be agreed...</td>\n",
       "      <td>1.0</td>\n",
       "      <td>For smaller Projects a deviation can be agreed...</td>\n",
       "      <td>smaller project deviation agreed within projec...</td>\n",
       "    </tr>\n",
       "  </tbody>\n",
       "</table>\n",
       "</div>"
      ],
      "text/plain": [
       "                                                text  class  \\\n",
       "0  Supplier shall update the Documentation on a r...    1.0   \n",
       "1  major release upgrades of Software, change of ...    1.0   \n",
       "2  Accept incident severity as set by E.ON Servic...    1.0   \n",
       "3  Supplier shall provide all tools, documentatio...    1.0   \n",
       "4  For smaller Projects a deviation can be agreed...    1.0   \n",
       "\n",
       "                                               clean  \\\n",
       "0  Supplier shall update the Documentation on a r...   \n",
       "1  major release upgrade of Software change of Eq...   \n",
       "2  Accept incident severity a set by E ON Service...   \n",
       "3  Supplier shall provide all tool documentation ...   \n",
       "4  For smaller Projects a deviation can be agreed...   \n",
       "\n",
       "                                              clean2  \n",
       "0  supplier shall update documentation regular ba...  \n",
       "1  major release upgrade software change equipmen...  \n",
       "2  accept incident severity set e service desk ce...  \n",
       "3  supplier shall provide tool documentation mate...  \n",
       "4  smaller project deviation agreed within projec...  "
      ]
     },
     "execution_count": 41,
     "metadata": {},
     "output_type": "execute_result"
    }
   ],
   "source": [
    "data['clean2'] = text_corpus\n",
    "data.head()"
   ]
  },
  {
   "cell_type": "code",
   "execution_count": 42,
   "metadata": {},
   "outputs": [
    {
     "data": {
      "text/plain": [
       "'accept incident severity set e service desk central service integrator'"
      ]
     },
     "execution_count": 42,
     "metadata": {},
     "output_type": "execute_result"
    }
   ],
   "source": [
    "data.clean2[2]"
   ]
  },
  {
   "cell_type": "code",
   "execution_count": 43,
   "metadata": {},
   "outputs": [
    {
     "data": {
      "text/plain": [
       "'supplier shall update documentation regular basis least every half calendar year respective service commencement date andfollowing every update service e g'"
      ]
     },
     "execution_count": 43,
     "metadata": {},
     "output_type": "execute_result"
    }
   ],
   "source": [
    "data.clean2[0]"
   ]
  },
  {
   "cell_type": "code",
   "execution_count": 44,
   "metadata": {},
   "outputs": [
    {
     "data": {
      "text/plain": [
       "'supplier shall provide tool documentation material reasonably necessary e conduct acceptance test least ten business day prior commencement acceptance test together extent reasonable list project service work accepted related documentation'"
      ]
     },
     "execution_count": 44,
     "metadata": {},
     "output_type": "execute_result"
    }
   ],
   "source": [
    "data.clean2[3]"
   ]
  },
  {
   "cell_type": "code",
   "execution_count": 45,
   "metadata": {},
   "outputs": [
    {
     "data": {
      "text/plain": [
       "'Supplier shall provide all tools, documentation and other material reasonably necessary for E.ON to conduct the Acceptance Test at least ten () Business Days’ prior to the commencement of the Acceptance Test, together with to the extent reasonable a list of the Project Services and works to be accepted and the related documentation.'"
      ]
     },
     "execution_count": 45,
     "metadata": {},
     "output_type": "execute_result"
    }
   ],
   "source": [
    "data.text[3]"
   ]
  },
  {
   "cell_type": "code",
   "execution_count": 46,
   "metadata": {},
   "outputs": [
    {
     "data": {
      "text/plain": [
       "'Supplier shall provide all tool documentation and other material reasonably necessary for E ON to conduct the Acceptance Test at least ten Business Days prior to the commencement of the Acceptance Test together with to the extent reasonable a list of the Project Services and work to be accepted and the related documentation'"
      ]
     },
     "execution_count": 46,
     "metadata": {},
     "output_type": "execute_result"
    }
   ],
   "source": [
    "data.clean[3]"
   ]
  },
  {
   "cell_type": "markdown",
   "metadata": {},
   "source": [
    "We can see that \"clean\" column provides better cleaning practices compared to other two. For example, E.ON is detected as \"e\" in clean2 and \"E ON\" in clean. Reason is that I did use lower case and hence, \"on\" has been taken as stopword and got removed."
   ]
  },
  {
   "cell_type": "code",
   "execution_count": 47,
   "metadata": {},
   "outputs": [],
   "source": [
    "# save data\n",
    "import pickle\n",
    "data.to_pickle('file_clean.pkl')"
   ]
  },
  {
   "cell_type": "code",
   "execution_count": 48,
   "metadata": {},
   "outputs": [
    {
     "data": {
      "text/html": [
       "<div>\n",
       "<style scoped>\n",
       "    .dataframe tbody tr th:only-of-type {\n",
       "        vertical-align: middle;\n",
       "    }\n",
       "\n",
       "    .dataframe tbody tr th {\n",
       "        vertical-align: top;\n",
       "    }\n",
       "\n",
       "    .dataframe thead th {\n",
       "        text-align: right;\n",
       "    }\n",
       "</style>\n",
       "<table border=\"1\" class=\"dataframe\">\n",
       "  <thead>\n",
       "    <tr style=\"text-align: right;\">\n",
       "      <th></th>\n",
       "      <th>text</th>\n",
       "      <th>class</th>\n",
       "      <th>clean</th>\n",
       "      <th>clean2</th>\n",
       "    </tr>\n",
       "  </thead>\n",
       "  <tbody>\n",
       "    <tr>\n",
       "      <td>0</td>\n",
       "      <td>Supplier shall update the Documentation on a r...</td>\n",
       "      <td>1.0</td>\n",
       "      <td>Supplier shall update the Documentation on a r...</td>\n",
       "      <td>supplier shall update documentation regular ba...</td>\n",
       "    </tr>\n",
       "    <tr>\n",
       "      <td>1</td>\n",
       "      <td>major release upgrades of Software, change of ...</td>\n",
       "      <td>1.0</td>\n",
       "      <td>major release upgrade of Software change of Eq...</td>\n",
       "      <td>major release upgrade software change equipmen...</td>\n",
       "    </tr>\n",
       "    <tr>\n",
       "      <td>2</td>\n",
       "      <td>Accept incident severity as set by E.ON Servic...</td>\n",
       "      <td>1.0</td>\n",
       "      <td>Accept incident severity a set by E ON Service...</td>\n",
       "      <td>accept incident severity set e service desk ce...</td>\n",
       "    </tr>\n",
       "    <tr>\n",
       "      <td>3</td>\n",
       "      <td>Supplier shall provide all tools, documentatio...</td>\n",
       "      <td>1.0</td>\n",
       "      <td>Supplier shall provide all tool documentation ...</td>\n",
       "      <td>supplier shall provide tool documentation mate...</td>\n",
       "    </tr>\n",
       "    <tr>\n",
       "      <td>4</td>\n",
       "      <td>For smaller Projects a deviation can be agreed...</td>\n",
       "      <td>1.0</td>\n",
       "      <td>For smaller Projects a deviation can be agreed...</td>\n",
       "      <td>smaller project deviation agreed within projec...</td>\n",
       "    </tr>\n",
       "  </tbody>\n",
       "</table>\n",
       "</div>"
      ],
      "text/plain": [
       "                                                text  class  \\\n",
       "0  Supplier shall update the Documentation on a r...    1.0   \n",
       "1  major release upgrades of Software, change of ...    1.0   \n",
       "2  Accept incident severity as set by E.ON Servic...    1.0   \n",
       "3  Supplier shall provide all tools, documentatio...    1.0   \n",
       "4  For smaller Projects a deviation can be agreed...    1.0   \n",
       "\n",
       "                                               clean  \\\n",
       "0  Supplier shall update the Documentation on a r...   \n",
       "1  major release upgrade of Software change of Eq...   \n",
       "2  Accept incident severity a set by E ON Service...   \n",
       "3  Supplier shall provide all tool documentation ...   \n",
       "4  For smaller Projects a deviation can be agreed...   \n",
       "\n",
       "                                              clean2  \n",
       "0  supplier shall update documentation regular ba...  \n",
       "1  major release upgrade software change equipmen...  \n",
       "2  accept incident severity set e service desk ce...  \n",
       "3  supplier shall provide tool documentation mate...  \n",
       "4  smaller project deviation agreed within projec...  "
      ]
     },
     "execution_count": 48,
     "metadata": {},
     "output_type": "execute_result"
    }
   ],
   "source": [
    "data_pickle=pd.read_pickle('file_clean.pkl')\n",
    "data_pickle.head()"
   ]
  }
 ],
 "metadata": {
  "kernelspec": {
   "display_name": "Python 3",
   "language": "python",
   "name": "python3"
  },
  "language_info": {
   "codemirror_mode": {
    "name": "ipython",
    "version": 3
   },
   "file_extension": ".py",
   "mimetype": "text/x-python",
   "name": "python",
   "nbconvert_exporter": "python",
   "pygments_lexer": "ipython3",
   "version": "3.7.4"
  }
 },
 "nbformat": 4,
 "nbformat_minor": 2
}
