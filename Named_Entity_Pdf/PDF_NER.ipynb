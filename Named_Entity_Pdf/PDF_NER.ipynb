{
 "cells": [
  {
   "cell_type": "markdown",
   "metadata": {},
   "source": [
    "# Named Entity for PDF Format\n",
    "\n",
    "- Using an academic journal for entity recognition\n",
    "- For Documentation : https://pypi.org/project/pdftotext/\n",
    "- For acedemic jounrnal : An Ecosystem-Level Process Model of Business Model\n",
    "Disruption: The Disruptor's Gambit\n",
    "\n",
    "Journal of Management Studies 55:7 November 2018\n",
    "doi:10.1111/joms.12343"
   ]
  },
  {
   "cell_type": "code",
   "execution_count": 1,
   "metadata": {},
   "outputs": [],
   "source": [
    "from __future__ import unicode_literals"
   ]
  },
  {
   "cell_type": "code",
   "execution_count": 2,
   "metadata": {},
   "outputs": [],
   "source": [
    "import pdftotext\n",
    "import spacy\n",
    "from spacy.lang.en import English\n",
    "from spacy.pipeline import EntityRuler\n",
    "import re\n",
    "import string\n",
    "import docx2txt # for converting docx to .txt format\n",
    "import pandas as pd\n",
    "import codecs # for encoding scheme of text files\n",
    "from spacy.matcher import Matcher\n",
    "from spacy.tokens import Span\n",
    "from spacy import displacy"
   ]
  },
  {
   "cell_type": "code",
   "execution_count": 3,
   "metadata": {},
   "outputs": [],
   "source": [
    "nlp = spacy.load('en_core_web_sm')"
   ]
  },
  {
   "cell_type": "code",
   "execution_count": 4,
   "metadata": {},
   "outputs": [],
   "source": [
    "file=\"ecosystem_joms.12343.pdf\""
   ]
  },
  {
   "cell_type": "code",
   "execution_count": 5,
   "metadata": {},
   "outputs": [],
   "source": [
    "# Load your PDF\n",
    "with open(file, \"rb\") as f:\n",
    "    pdf = pdftotext.PDF(f)"
   ]
  },
  {
   "cell_type": "code",
   "execution_count": 6,
   "metadata": {},
   "outputs": [
    {
     "data": {
      "text/plain": [
       "39"
      ]
     },
     "execution_count": 6,
     "metadata": {},
     "output_type": "execute_result"
    }
   ],
   "source": [
    "len(pdf)"
   ]
  },
  {
   "cell_type": "code",
   "execution_count": 7,
   "metadata": {},
   "outputs": [
    {
     "data": {
      "text/plain": [
       "pdftotext.PDF"
      ]
     },
     "execution_count": 7,
     "metadata": {},
     "output_type": "execute_result"
    }
   ],
   "source": [
    "type(pdf)"
   ]
  },
  {
   "cell_type": "code",
   "execution_count": 8,
   "metadata": {},
   "outputs": [],
   "source": [
    "# For All 38 pages\n",
    "\n",
    "#for page in pdf:\n",
    "#    print(page)"
   ]
  },
  {
   "cell_type": "code",
   "execution_count": 9,
   "metadata": {},
   "outputs": [
    {
     "name": "stdout",
     "output_type": "stream",
     "text": [
      "Journal of Management Studies 55:7 November 2018\n",
      "doi:10.1111/joms.12343\n",
      "An Ecosystem-Level Process Model of Business Model\n",
      "Disruption: The Disruptor's Gambit\n",
      "Yuliya Snihur, Llewellyn D. W. Thomas and\n",
      "Robert A. Burgelman\n",
      "Toulouse Business School; LaSalle Universitat Ramon Llull; Stanford University.\n",
      "ABSTRACT Based on a longitudinal case study, this paper presents an ecosystem-level process\n",
      "model of the interlocking key activities of the business model disruptor, other ecosystem\n",
      "participants (customers, partners, media, analysts), and the incumbent. Together these\n",
      "constitute a strategic process of ecosystem evolution from incumbent-centred to disruptor-\n",
      "centred. We identify the phenomenon of a ‘disruptor's gambit’, where the disruptor reveals its\n",
      "intentions early on through effective framing, followed by rapid adaptation of its business model\n",
      "to satisfy ecosystem needs. These processes generate a virtuous framing-adaptation cycle, where\n",
      "feed-forward and feedback enable rapid response to customers and partners, while engaging\n",
      "them as force multipliers during new ecosystem creation. Our findings suggest that framing\n",
      "constitutes a dynamic strategic process enabling disruptors to reduce uncertainty, dislodge\n",
      "powerful incumbents, and shape new ecosystems through business model innovation.\n",
      "K e y wor d s : adaptation, business model innovation, disruption, ecosystem creation, framing\n",
      "   ‘Walker, there is no road, the road is made by walking’. – Antonio Machado\n",
      "INTRODUCTION\n",
      "We live in an age with an increasing number of disruptions that impact how orga-\n",
      "nizations and ecosystems operate (Ansari et al., 2016; Burgelman and Grove, 2007;\n",
      "Christensen, 1997, 2006; Danneels, 2004; Markides, 2006). Although there are\n",
      "several broad conceptualizations of disruption (e.g., Christensen, 1997; Tushman\n",
      "and Anderson, 1986), in this paper we limit our analysis to disruption defined\n",
      "as a process whereby a start-up with few resources is able to effectively challenge\n",
      "established incumbent businesses (Christensen et al., 2015, p. 46). Sources of\n",
      "disruption include new technology (Adner, 2002; Burgelman, 2002), illustrated\n",
      "by Christensen's (1997) study of the changing technology underpinning disk\n",
      "Address for reprints: Yuliya Snihur, Strategy, Innovation, and Entrepreneurship Department,\n",
      "Toulouse Business School, 1, Place Jourdain, 31068 Toulouse, France (y.snihur@tbs-education.fr).\n",
      "© 2018 John Wiley & Sons Ltd and Society for the Advancement of Management Studies﻿. ﻿\n",
      "\n"
     ]
    }
   ],
   "source": [
    "# For specific pages\n",
    "\n",
    "#print(pdf[38])\n",
    "print(pdf[0])"
   ]
  },
  {
   "cell_type": "code",
   "execution_count": 10,
   "metadata": {},
   "outputs": [],
   "source": [
    "# convert into string, we are using whole document with 39 pages\n",
    "\n",
    "pdf_text=(\"\\n\\n\".join(pdf))"
   ]
  },
  {
   "cell_type": "code",
   "execution_count": 11,
   "metadata": {},
   "outputs": [
    {
     "data": {
      "text/plain": [
       "str"
      ]
     },
     "execution_count": 11,
     "metadata": {},
     "output_type": "execute_result"
    }
   ],
   "source": [
    "type(pdf_text)"
   ]
  },
  {
   "cell_type": "code",
   "execution_count": 12,
   "metadata": {},
   "outputs": [
    {
     "data": {
      "text/plain": [
       "155527"
      ]
     },
     "execution_count": 12,
     "metadata": {},
     "output_type": "execute_result"
    }
   ],
   "source": [
    "len(pdf_text)"
   ]
  },
  {
   "cell_type": "code",
   "execution_count": 13,
   "metadata": {},
   "outputs": [
    {
     "data": {
      "text/plain": [
       "spacy.tokens.doc.Doc"
      ]
     },
     "execution_count": 13,
     "metadata": {},
     "output_type": "execute_result"
    }
   ],
   "source": [
    "pdf_spacy = nlp(pdf_text)\n",
    "type(pdf_spacy)"
   ]
  },
  {
   "cell_type": "code",
   "execution_count": 14,
   "metadata": {},
   "outputs": [
    {
     "data": {
      "text/plain": [
       "24898"
      ]
     },
     "execution_count": 14,
     "metadata": {},
     "output_type": "execute_result"
    }
   ],
   "source": [
    "len(pdf_spacy)"
   ]
  },
  {
   "cell_type": "code",
   "execution_count": 15,
   "metadata": {},
   "outputs": [],
   "source": [
    "#for ent in pdf_spacy.ents:\n",
    "#    print(ent.text , '->', ent.label_,ent.start,ent.end)"
   ]
  },
  {
   "cell_type": "markdown",
   "metadata": {},
   "source": [
    "**For having a shorter text, we will use only 1 page**"
   ]
  },
  {
   "cell_type": "code",
   "execution_count": 16,
   "metadata": {},
   "outputs": [],
   "source": [
    "text=pdf[0]"
   ]
  },
  {
   "cell_type": "code",
   "execution_count": 17,
   "metadata": {},
   "outputs": [
    {
     "data": {
      "text/plain": [
       "spacy.tokens.doc.Doc"
      ]
     },
     "execution_count": 17,
     "metadata": {},
     "output_type": "execute_result"
    }
   ],
   "source": [
    "pdf_spacy = nlp(text)\n",
    "type(pdf_spacy)"
   ]
  },
  {
   "cell_type": "code",
   "execution_count": 18,
   "metadata": {},
   "outputs": [
    {
     "data": {
      "text/plain": [
       "472"
      ]
     },
     "execution_count": 18,
     "metadata": {},
     "output_type": "execute_result"
    }
   ],
   "source": [
    "len(pdf_spacy)"
   ]
  },
  {
   "cell_type": "code",
   "execution_count": 19,
   "metadata": {},
   "outputs": [
    {
     "name": "stdout",
     "output_type": "stream",
     "text": [
      "Journal of Management Studies ORG 0 4\n",
      "55:7 CARDINAL 4 5\n",
      "November 2018 DATE 5 7\n",
      "doi:10.1111/joms.12343\n",
      " ORG 8 12\n",
      "Gambit\n",
      "Yuliya Snihur ORG 27 31\n",
      "Llewellyn D. W. Thomas PERSON 32 36\n",
      "Robert A. Burgelman PERSON 38 41\n",
      "Toulouse Business School ORG 42 45\n",
      "LaSalle Universitat Ramon Llull ORG 46 50\n",
      "Stanford University ORG 51 53\n",
      "Walker PERSON 250 251\n",
      "Antonio Machado PERSON 266 268\n",
      "Ansari ORG 292 293\n",
      "al. GPE 294 296\n",
      "2016 DATE 297 298\n",
      "Burgelman PERSON 299 300\n",
      "Grove GPE 301 302\n",
      "2007 DATE 303 304\n",
      "1997 DATE 308 309\n",
      "2006 DATE 310 311\n",
      "Danneels GPE 312 313\n",
      "2004 DATE 314 315\n",
      "2006 DATE 318 319\n",
      "Christensen NORP 333 334\n",
      "1997 DATE 335 336\n",
      "Tushman\n",
      " ORG 337 339\n",
      "Anderson PERSON 340 341\n",
      "1986 DATE 342 343\n",
      "Christensen NORP 377 378\n",
      "al. GPE 379 381\n",
      "2015 DATE 382 383\n",
      "46 CARDINAL 385 386\n",
      "Adner, 2002 ORG 396 399\n",
      "Burgelman PERSON 400 401\n",
      "2002 DATE 402 403\n",
      "Christensen's ORG 408 410\n",
      "1997 DATE 411 412\n",
      "Yuliya Snihur PERSON 425 427\n",
      "Entrepreneurship Department ORG 433 435\n",
      "Toulouse Business School ORG 437 440\n",
      "1 CARDINAL 441 442\n",
      "Place Jourdain GPE 443 445\n",
      "31068 Toulouse PERSON 446 448\n",
      "France GPE 449 450\n",
      "2018 DATE 456 457\n",
      "John Wiley & Sons Ltd ORG 457 462\n",
      "Society for the Advancement of Management Studies﻿. ORG 463 470\n"
     ]
    }
   ],
   "source": [
    "for ent in pdf_spacy.ents:\n",
    "    print(ent.text , ent.label_,ent.start,ent.end)"
   ]
  }
 ],
 "metadata": {
  "kernelspec": {
   "display_name": "Python 3",
   "language": "python",
   "name": "python3"
  },
  "language_info": {
   "codemirror_mode": {
    "name": "ipython",
    "version": 3
   },
   "file_extension": ".py",
   "mimetype": "text/x-python",
   "name": "python",
   "nbconvert_exporter": "python",
   "pygments_lexer": "ipython3",
   "version": "3.7.5"
  }
 },
 "nbformat": 4,
 "nbformat_minor": 2
}
