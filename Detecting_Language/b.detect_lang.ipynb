{
  "nbformat": 4,
  "nbformat_minor": 0,
  "metadata": {
    "colab": {
      "name": "b.detect_lang.ipynb",
      "provenance": [],
      "collapsed_sections": []
    },
    "kernelspec": {
      "name": "python3",
      "display_name": "Python 3"
    },
    "language_info": {
      "codemirror_mode": {
        "name": "ipython",
        "version": 3
      },
      "file_extension": ".py",
      "mimetype": "text/x-python",
      "name": "python",
      "nbconvert_exporter": "python",
      "pygments_lexer": "ipython3",
      "version": "3.6.3"
    },
    "accelerator": "GPU"
  },
  "cells": [
    {
      "cell_type": "markdown",
      "metadata": {
        "colab_type": "text",
        "id": "L5WEerzzSeID"
      },
      "source": [
        "# Detect Program Language\n",
        "\n",
        "- using Spacy\n",
        "\n",
        "- having multi-token concept"
      ]
    },
    {
      "cell_type": "markdown",
      "metadata": {
        "colab_type": "text",
        "id": "vnDcCpN-Sw9d"
      },
      "source": [
        "# 1)- Importing key modules"
      ]
    },
    {
      "cell_type": "code",
      "metadata": {
        "colab_type": "code",
        "id": "ormhGRA1SkYP",
        "colab": {}
      },
      "source": [
        "#support both Python 2 and Python 3 with minimal overhead.\n",
        "from __future__ import absolute_import, division, print_function\n",
        "\n",
        "# I am an engineer. I care only about error not warning. So, let's be maverick and ignore warnings.\n",
        "import warnings\n",
        "warnings.filterwarnings('ignore')"
      ],
      "execution_count": 0,
      "outputs": []
    },
    {
      "cell_type": "code",
      "metadata": {
        "colab_type": "code",
        "id": "ffmlRA40S1bS",
        "colab": {}
      },
      "source": [
        "# For data processing and maths\n",
        "import numpy as np\n",
        "import pandas as pd\n",
        "import time\n",
        "import math\n",
        "import os\n",
        "#For Visuals\n",
        "import matplotlib.pyplot as plt\n",
        "import seaborn as sns\n",
        "sns.set()\n",
        "from matplotlib import rcParams\n",
        "rcParams['figure.figsize'] = 11, 8\n",
        "%config InlineBackend.figure_format = 'svg'\n",
        "%matplotlib inline"
      ],
      "execution_count": 0,
      "outputs": []
    },
    {
      "cell_type": "code",
      "metadata": {
        "id": "idwYxVfvlP86",
        "colab_type": "code",
        "colab": {}
      },
      "source": [
        "# For text we shall use Spacy\n",
        "\n",
        "import spacy \n",
        "from spacy import displacy\n",
        "nlp = spacy.load(\"en_core_web_sm\")"
      ],
      "execution_count": 0,
      "outputs": []
    },
    {
      "cell_type": "code",
      "metadata": {
        "id": "ctaM59Cf4kKm",
        "colab_type": "code",
        "outputId": "43e2d7ce-e7c4-4f6c-c91d-5a4c4d2d02bf",
        "colab": {
          "base_uri": "https://localhost:8080/",
          "height": 87
        }
      },
      "source": [
        "! python -m spacy download en_core_web_sm"
      ],
      "execution_count": 4,
      "outputs": [
        {
          "output_type": "stream",
          "text": [
            "Requirement already satisfied: en_core_web_sm==2.1.0 from https://github.com/explosion/spacy-models/releases/download/en_core_web_sm-2.1.0/en_core_web_sm-2.1.0.tar.gz#egg=en_core_web_sm==2.1.0 in /usr/local/lib/python3.6/dist-packages (2.1.0)\n",
            "\u001b[38;5;2m✔ Download and installation successful\u001b[0m\n",
            "You can now load the model via spacy.load('en_core_web_sm')\n"
          ],
          "name": "stdout"
        }
      ]
    },
    {
      "cell_type": "code",
      "metadata": {
        "colab_type": "code",
        "id": "rNbXWUUTTLOV",
        "outputId": "cc034092-618b-4b36-c5c4-98c546b3e4c3",
        "colab": {
          "base_uri": "https://localhost:8080/",
          "height": 168
        }
      },
      "source": [
        "! pip install version_information"
      ],
      "execution_count": 5,
      "outputs": [
        {
          "output_type": "stream",
          "text": [
            "Collecting version_information\n",
            "  Downloading https://files.pythonhosted.org/packages/ff/b0/6088e15b9ac43a08ccd300d68e0b900a20cf62077596c11ad11dd8cc9e4b/version_information-1.0.3.tar.gz\n",
            "Building wheels for collected packages: version-information\n",
            "  Building wheel for version-information (setup.py) ... \u001b[?25l\u001b[?25hdone\n",
            "  Created wheel for version-information: filename=version_information-1.0.3-cp36-none-any.whl size=3880 sha256=50dad7b56af96bf866ba67319b8cd1df41bdfd54a2756da802fb8ff8b87db456\n",
            "  Stored in directory: /root/.cache/pip/wheels/1f/4c/b3/1976ac11dbd802723b564de1acaa453a72c36c95827e576321\n",
            "Successfully built version-information\n",
            "Installing collected packages: version-information\n",
            "Successfully installed version-information-1.0.3\n"
          ],
          "name": "stdout"
        }
      ]
    },
    {
      "cell_type": "code",
      "metadata": {
        "colab_type": "code",
        "id": "WRJECjnJTOyF",
        "outputId": "9fd27de3-378d-4103-eb0b-9ff1f4bd9942",
        "colab": {
          "base_uri": "https://localhost:8080/",
          "height": 218
        }
      },
      "source": [
        "# first install: pip install version_information\n",
        "%reload_ext version_information\n",
        "%version_information pandas,spacy,numpy,seaborn, matplotlib"
      ],
      "execution_count": 6,
      "outputs": [
        {
          "output_type": "execute_result",
          "data": {
            "text/latex": "\\begin{tabular}{|l|l|}\\hline\n{\\bf Software} & {\\bf Version} \\\\ \\hline\\hline\nPython & 3.6.8 64bit [GCC 8.3.0] \\\\ \\hline\nIPython & 5.5.0 \\\\ \\hline\nOS & Linux 4.14.137+ x86\\_64 with Ubuntu 18.04 bionic \\\\ \\hline\npandas & 0.25.3 \\\\ \\hline\nspacy & 2.1.9 \\\\ \\hline\nnumpy & 1.17.4 \\\\ \\hline\nseaborn & 0.9.0 \\\\ \\hline\nmatplotlib & 3.1.1 \\\\ \\hline\n\\hline \\multicolumn{2}{|l|}{Sun Nov 24 17:02:16 2019 UTC} \\\\ \\hline\n\\end{tabular}\n",
            "application/json": {
              "Software versions": [
                {
                  "version": "3.6.8 64bit [GCC 8.3.0]",
                  "module": "Python"
                },
                {
                  "version": "5.5.0",
                  "module": "IPython"
                },
                {
                  "version": "Linux 4.14.137+ x86_64 with Ubuntu 18.04 bionic",
                  "module": "OS"
                },
                {
                  "version": "0.25.3",
                  "module": "pandas"
                },
                {
                  "version": "2.1.9",
                  "module": "spacy"
                },
                {
                  "version": "1.17.4",
                  "module": "numpy"
                },
                {
                  "version": "0.9.0",
                  "module": "seaborn"
                },
                {
                  "version": "3.1.1",
                  "module": "matplotlib"
                }
              ]
            },
            "text/html": [
              "<table><tr><th>Software</th><th>Version</th></tr><tr><td>Python</td><td>3.6.8 64bit [GCC 8.3.0]</td></tr><tr><td>IPython</td><td>5.5.0</td></tr><tr><td>OS</td><td>Linux 4.14.137+ x86_64 with Ubuntu 18.04 bionic</td></tr><tr><td>pandas</td><td>0.25.3</td></tr><tr><td>spacy</td><td>2.1.9</td></tr><tr><td>numpy</td><td>1.17.4</td></tr><tr><td>seaborn</td><td>0.9.0</td></tr><tr><td>matplotlib</td><td>3.1.1</td></tr><tr><td colspan='2'>Sun Nov 24 17:02:16 2019 UTC</td></tr></table>"
            ],
            "text/plain": [
              "Software versions\n",
              "Python 3.6.8 64bit [GCC 8.3.0]\n",
              "IPython 5.5.0\n",
              "OS Linux 4.14.137+ x86_64 with Ubuntu 18.04 bionic\n",
              "pandas 0.25.3\n",
              "spacy 2.1.9\n",
              "numpy 1.17.4\n",
              "seaborn 0.9.0\n",
              "matplotlib 3.1.1\n",
              "Sun Nov 24 17:02:16 2019 UTC"
            ]
          },
          "metadata": {
            "tags": []
          },
          "execution_count": 6
        }
      ]
    },
    {
      "cell_type": "markdown",
      "metadata": {
        "id": "_9111I0wrhAD",
        "colab_type": "text"
      },
      "source": [
        "# 2)- Detecting more than one Language"
      ]
    },
    {
      "cell_type": "markdown",
      "metadata": {
        "id": "dLVOcb4auVeV",
        "colab_type": "text"
      },
      "source": [
        "Our previous function to detect one language was:"
      ]
    },
    {
      "cell_type": "code",
      "metadata": {
        "id": "y5Z_xpierfXt",
        "colab_type": "code",
        "colab": {}
      },
      "source": [
        "def has_go_token(doc):\n",
        "    for t in doc:\n",
        "        if t.lower_ in ['go', 'golang']:\n",
        "            if t.pos_ != 'VERB':\n",
        "                return True\n",
        "    return False"
      ],
      "execution_count": 0,
      "outputs": []
    },
    {
      "cell_type": "code",
      "metadata": {
        "id": "tJVCVQsPufFe",
        "colab_type": "code",
        "colab": {}
      },
      "source": [
        "doc = nlp(\"What's the point of having pointers in Go?\")"
      ],
      "execution_count": 0,
      "outputs": []
    },
    {
      "cell_type": "code",
      "metadata": {
        "id": "PtQTPQSnutx9",
        "colab_type": "code",
        "outputId": "5c6e164a-5964-4077-fc15-b764109c4994",
        "colab": {
          "base_uri": "https://localhost:8080/",
          "height": 34
        }
      },
      "source": [
        "# check if it reads it well\n",
        "has_go_token(doc)"
      ],
      "execution_count": 9,
      "outputs": [
        {
          "output_type": "execute_result",
          "data": {
            "text/plain": [
              "True"
            ]
          },
          "metadata": {
            "tags": []
          },
          "execution_count": 9
        }
      ]
    },
    {
      "cell_type": "markdown",
      "metadata": {
        "id": "ZUi39BaKXTIF",
        "colab_type": "text"
      },
      "source": [
        "**More than one language function**"
      ]
    },
    {
      "cell_type": "code",
      "metadata": {
        "id": "eW4XQ_g1rfnA",
        "colab_type": "code",
        "colab": {}
      },
      "source": [
        "def has_go_token(doc):\n",
        "    for t in doc:\n",
        "        if t.lower_ in ['go', 'golang', 'python', 'ruby', 'objective-c']:\n",
        "            if t.pos_ != 'VERB':\n",
        "                return True\n",
        "    return False"
      ],
      "execution_count": 0,
      "outputs": []
    },
    {
      "cell_type": "code",
      "metadata": {
        "id": "mrTg8Al10r2H",
        "colab_type": "code",
        "colab": {}
      },
      "source": [
        "doc = nlp(\"i am an iOS dev and I like to code in objective-c\")"
      ],
      "execution_count": 0,
      "outputs": []
    },
    {
      "cell_type": "code",
      "metadata": {
        "id": "sXB-JXad0u4x",
        "colab_type": "code",
        "outputId": "7d389c63-e16a-4f38-a98f-32edcbf25b87",
        "colab": {
          "base_uri": "https://localhost:8080/",
          "height": 34
        }
      },
      "source": [
        "# check if it reads it well\n",
        "has_go_token(doc)"
      ],
      "execution_count": 12,
      "outputs": [
        {
          "output_type": "execute_result",
          "data": {
            "text/plain": [
              "False"
            ]
          },
          "metadata": {
            "tags": []
          },
          "execution_count": 12
        }
      ]
    },
    {
      "cell_type": "markdown",
      "metadata": {
        "id": "387fqvJo0wuc",
        "colab_type": "text"
      },
      "source": [
        "Here we get a false value meaning that \"objective-c\" is not true in given sentence. But why?"
      ]
    },
    {
      "cell_type": "code",
      "metadata": {
        "id": "atkFA7FR05U1",
        "colab_type": "code",
        "outputId": "c0a0c496-5aab-4e3f-f5e6-29cafdaad35b",
        "colab": {
          "base_uri": "https://localhost:8080/",
          "height": 34
        }
      },
      "source": [
        "[x for x in doc]"
      ],
      "execution_count": 13,
      "outputs": [
        {
          "output_type": "execute_result",
          "data": {
            "text/plain": [
              "[i, am, an, iOS, dev, and, I, like, to, code, in, objective, -, c]"
            ]
          },
          "metadata": {
            "tags": []
          },
          "execution_count": 13
        }
      ]
    },
    {
      "cell_type": "markdown",
      "metadata": {
        "id": "b2GZd1Pl1FBM",
        "colab_type": "text"
      },
      "source": [
        "All those words consist of tokens and \"Objective-c\" is one word but, it makes three tokens. So, our approach with multi-tokens need to be updated."
      ]
    },
    {
      "cell_type": "markdown",
      "metadata": {
        "id": "WmxTVqf12Kyi",
        "colab_type": "text"
      },
      "source": [
        "# 3)- Use of spacy.matcher\n",
        "\n",
        "https://explosion.ai/demos/matcher"
      ]
    },
    {
      "cell_type": "code",
      "metadata": {
        "id": "4nsH8YkUYZvq",
        "colab_type": "code",
        "colab": {}
      },
      "source": [
        "from spacy.matcher import Matcher"
      ],
      "execution_count": 0,
      "outputs": []
    },
    {
      "cell_type": "code",
      "metadata": {
        "id": "tG-pk1lOXe1F",
        "colab_type": "code",
        "colab": {}
      },
      "source": [
        "# we shall make pattern to counter multi-token challenge\n",
        "pattern = [{'LOWER': 'objective'}, # these are attributes taken from demos\n",
        "           {'IS_PUNCT': True},\n",
        "           {'LOWER': 'c'}]"
      ],
      "execution_count": 0,
      "outputs": []
    },
    {
      "cell_type": "code",
      "metadata": {
        "id": "Mug_SbLmXfKN",
        "colab_type": "code",
        "colab": {}
      },
      "source": [
        "# Instantiate a matcher object\n",
        "\n",
        "matcher= Matcher(nlp.vocab)"
      ],
      "execution_count": 0,
      "outputs": []
    },
    {
      "cell_type": "code",
      "metadata": {
        "id": "xx4oP5xxXfG-",
        "colab_type": "code",
        "colab": {}
      },
      "source": [
        "# Match object is still empty so we add our given pattern to it.\n",
        "\n",
        "matcher.add(\"OBJ-C\", None, pattern)\n",
        "# pattern is of three parts: \"name\", callback, pattern"
      ],
      "execution_count": 0,
      "outputs": []
    },
    {
      "cell_type": "code",
      "metadata": {
        "id": "emOxsyuyXfDv",
        "colab_type": "code",
        "colab": {
          "base_uri": "https://localhost:8080/",
          "height": 34
        },
        "outputId": "33bb5666-e013-4e88-84e1-5d98475a0b3b"
      },
      "source": [
        "# finding matches from match object\n",
        "\n",
        "matcher(doc)"
      ],
      "execution_count": 18,
      "outputs": [
        {
          "output_type": "execute_result",
          "data": {
            "text/plain": [
              "[(9809469755149532664, 11, 14)]"
            ]
          },
          "metadata": {
            "tags": []
          },
          "execution_count": 18
        }
      ]
    },
    {
      "cell_type": "markdown",
      "metadata": {
        "id": "9wZ7Lz4vZhlt",
        "colab_type": "text"
      },
      "source": [
        "matcher returns list of tuples \n",
        "**First element is match ID, second is start, third is end.** <br>\n",
        "\n",
        "We can verify our results"
      ]
    },
    {
      "cell_type": "code",
      "metadata": {
        "id": "92W0SSuvXfAX",
        "colab_type": "code",
        "colab": {
          "base_uri": "https://localhost:8080/",
          "height": 34
        },
        "outputId": "d209c8d5-7c25-4a50-ab2f-851cb12e8e74"
      },
      "source": [
        "doc[11:14]"
      ],
      "execution_count": 19,
      "outputs": [
        {
          "output_type": "execute_result",
          "data": {
            "text/plain": [
              "objective-c"
            ]
          },
          "metadata": {
            "tags": []
          },
          "execution_count": 19
        }
      ]
    },
    {
      "cell_type": "markdown",
      "metadata": {
        "id": "EatzALi0bY7j",
        "colab_type": "text"
      },
      "source": [
        "So now multiple token has been detected. "
      ]
    },
    {
      "cell_type": "markdown",
      "metadata": {
        "id": "QWkj2X_wbqDs",
        "colab_type": "text"
      },
      "source": [
        "# 4)- Detecting more than one language"
      ]
    },
    {
      "cell_type": "code",
      "metadata": {
        "id": "0f-GCyzkbRZp",
        "colab_type": "code",
        "colab": {}
      },
      "source": [
        "# we will create two different patterns for two different languages\n",
        "\n",
        "objc_pattern = [{'LOWER': 'objective'}, # these are attributes taken from demos\n",
        "                {'IS_PUNCT': True},\n",
        "                {'LOWER': 'c'}]\n",
        "\n",
        "go_pattern= [{'LOWER': {'IN' : ['go','golang'] }, 'POS': {'NOT_IN': ['VERB']}}]#IN shows a dictionary having these two key words"
      ],
      "execution_count": 0,
      "outputs": []
    },
    {
      "cell_type": "code",
      "metadata": {
        "id": "MXds0x7KbRV3",
        "colab_type": "code",
        "colab": {}
      },
      "source": [
        "# Instantiate a matcher object\n",
        "\n",
        "matcher= Matcher(nlp.vocab)"
      ],
      "execution_count": 0,
      "outputs": []
    },
    {
      "cell_type": "code",
      "metadata": {
        "id": "hpI5rHxNbRSX",
        "colab_type": "code",
        "colab": {}
      },
      "source": [
        "# add pattern for both languages\n",
        "matcher.add(\"OBJ-C\", None, objc_pattern)\n",
        "matcher.add(\"GOLANG\", None, go_pattern)"
      ],
      "execution_count": 0,
      "outputs": []
    },
    {
      "cell_type": "code",
      "metadata": {
        "id": "NHOQzrYnbRNK",
        "colab_type": "code",
        "colab": {}
      },
      "source": [
        "# make a new doc to contain both lang.s\n",
        "\n",
        "doc2= nlp(\"It is always good to know more than one language. For example, learn golang and objective-c.\")"
      ],
      "execution_count": 0,
      "outputs": []
    },
    {
      "cell_type": "code",
      "metadata": {
        "id": "oO4oEOj0bRJj",
        "colab_type": "code",
        "colab": {
          "base_uri": "https://localhost:8080/",
          "height": 34
        },
        "outputId": "5b0cd52e-6826-41a7-e16b-f025ee990f5a"
      },
      "source": [
        "print([x for x in doc2])"
      ],
      "execution_count": 30,
      "outputs": [
        {
          "output_type": "stream",
          "text": [
            "[It, is, always, good, to, know, more, than, one, language, ., For, example, ,, learn, golang, and, objective, -, c, .]\n"
          ],
          "name": "stdout"
        }
      ]
    },
    {
      "cell_type": "markdown",
      "metadata": {
        "id": "VDqXqKUfeNSh",
        "colab_type": "text"
      },
      "source": [
        "Here we have two languages and multi-token case as well. Let's see if we could detect them."
      ]
    },
    {
      "cell_type": "code",
      "metadata": {
        "id": "i6-prmZtbREC",
        "colab_type": "code",
        "colab": {
          "base_uri": "https://localhost:8080/",
          "height": 34
        },
        "outputId": "447851ef-05fd-4cb0-a872-2bc994cecfdf"
      },
      "source": [
        "matcher(doc2)"
      ],
      "execution_count": 31,
      "outputs": [
        {
          "output_type": "execute_result",
          "data": {
            "text/plain": [
              "[(4125859422530420866, 15, 16), (9809469755149532664, 17, 20)]"
            ]
          },
          "metadata": {
            "tags": []
          },
          "execution_count": 31
        }
      ]
    },
    {
      "cell_type": "code",
      "metadata": {
        "id": "q230-_w9e8H5",
        "colab_type": "code",
        "colab": {
          "base_uri": "https://localhost:8080/",
          "height": 50
        },
        "outputId": "887f4935-1602-4f2c-927a-dd28ccc6476b"
      },
      "source": [
        "print(doc2[15:16])\n",
        "print(doc2[17:20])"
      ],
      "execution_count": 35,
      "outputs": [
        {
          "output_type": "stream",
          "text": [
            "golang\n",
            "objective-c\n"
          ],
          "name": "stdout"
        }
      ]
    },
    {
      "cell_type": "code",
      "metadata": {
        "id": "MJNs-8osf7Uc",
        "colab_type": "code",
        "colab": {
          "base_uri": "https://localhost:8080/",
          "height": 50
        },
        "outputId": "da068117-1f86-4dfa-a054-c301413c2e61"
      },
      "source": [
        "for match_id , start , end in matcher(doc2):\n",
        "  print(doc2[start: end])"
      ],
      "execution_count": 38,
      "outputs": [
        {
          "output_type": "stream",
          "text": [
            "golang\n",
            "objective-c\n"
          ],
          "name": "stdout"
        }
      ]
    },
    {
      "cell_type": "markdown",
      "metadata": {
        "id": "db7jLckDZ99L",
        "colab_type": "text"
      },
      "source": [
        "So, we have got it right this time both multi-tokens and two lang.s"
      ]
    },
    {
      "cell_type": "markdown",
      "metadata": {
        "id": "2P1c3Ta0ghVb",
        "colab_type": "text"
      },
      "source": [
        "# 5)- Clean up code and add more patterns to languages"
      ]
    },
    {
      "cell_type": "code",
      "metadata": {
        "id": "jMFMpUmxiwaS",
        "colab_type": "code",
        "colab": {}
      },
      "source": [
        "objc_pattern = [{'LOWER': 'objective'}, \n",
        "                {'IS_PUNCT': True},\n",
        "                {'LOWER': 'c'}]\n",
        "\n",
        "\n",
        "golang_pattern1 = [{'LOWER': 'golang'}] \n",
        "golang_pattern2 = [{'LOWER': 'go', \n",
        "                    'POS': {'NOT_IN': ['VERB']}}]"
      ],
      "execution_count": 0,
      "outputs": []
    },
    {
      "cell_type": "code",
      "metadata": {
        "id": "9fgA_pLIi5uU",
        "colab_type": "code",
        "colab": {}
      },
      "source": [
        "matcher= Matcher(nlp.vocab)\n",
        "matcher.add(\"OBJ-C\", None, objc_pattern)\n",
        "matcher.add(\"GOLANG\", None, golang_pattern1,golang_pattern2)"
      ],
      "execution_count": 0,
      "outputs": []
    },
    {
      "cell_type": "code",
      "metadata": {
        "id": "Wca9l3oOkG9l",
        "colab_type": "code",
        "colab": {}
      },
      "source": [
        "doc2= nlp(\"It is always good to know more than one language. For example, learn go/golang and objective-c.\")"
      ],
      "execution_count": 0,
      "outputs": []
    },
    {
      "cell_type": "code",
      "metadata": {
        "id": "t7p71waPkLs1",
        "colab_type": "code",
        "colab": {
          "base_uri": "https://localhost:8080/",
          "height": 67
        },
        "outputId": "a19a8080-626f-423d-a4b0-e74020afbd81"
      },
      "source": [
        "for match_id , start , end in matcher(doc2):\n",
        "  print(doc2[start: end])"
      ],
      "execution_count": 42,
      "outputs": [
        {
          "output_type": "stream",
          "text": [
            "go\n",
            "golang\n",
            "objective-c\n"
          ],
          "name": "stdout"
        }
      ]
    },
    {
      "cell_type": "markdown",
      "metadata": {
        "id": "mfxQDuG-kRIc",
        "colab_type": "text"
      },
      "source": [
        "So we have improved one step more as we have detected all programming languages. Though go and golang meant same but, we picked it from matcher."
      ]
    },
    {
      "cell_type": "markdown",
      "metadata": {
        "id": "tPuHp78xmU-d",
        "colab_type": "text"
      },
      "source": [
        "### add more languages in given patterns"
      ]
    },
    {
      "cell_type": "code",
      "metadata": {
        "id": "EfKNs3nfkPyY",
        "colab_type": "code",
        "colab": {}
      },
      "source": [
        "obj_c_pattern1 = [{'LOWER': 'objective'},\n",
        "                  {'IS_PUNCT': True}, \n",
        "                  {'LOWER': 'c'}]\n",
        "\n",
        "obj_c_pattern2 = [{'LOWER': 'objectivec'}]\n",
        "\n",
        "golang_pattern1 = [{'LOWER': 'golang'}] \n",
        "golang_pattern2 = [{'LOWER': 'go', \n",
        "                    'POS': {'NOT_IN': ['VERB']}}]\n",
        "\n",
        "python_pattern = [{'LOWER': 'python'}]\n",
        "ruby_pattern   = [{'LOWER': 'ruby'}]\n",
        "js_pattern     = [{'LOWER': {'IN': ['js', 'javascript']}}]"
      ],
      "execution_count": 0,
      "outputs": []
    },
    {
      "cell_type": "code",
      "metadata": {
        "id": "1lmdZwQlm1OW",
        "colab_type": "code",
        "colab": {}
      },
      "source": [
        "matcher= Matcher(nlp.vocab)\n",
        "matcher.add(\"OBJ-C\", None, obj_c_pattern1,obj_c_pattern2 )\n",
        "matcher.add(\"GOLANG\", None, golang_pattern1,golang_pattern2)\n",
        "matcher.add(\"OBJ-C\", None, python_pattern)\n",
        "matcher.add(\"OBJ-C\", None, ruby_pattern)\n",
        "matcher.add(\"OBJ-C\", None, js_pattern)"
      ],
      "execution_count": 0,
      "outputs": []
    },
    {
      "cell_type": "code",
      "metadata": {
        "id": "2ipAVrgmnNgt",
        "colab_type": "code",
        "colab": {}
      },
      "source": [
        "doc1=nlp(\"It is always good to know more than one language. For example, learn ruby, go/golang and objective-c.\")\n",
        "doc2=nlp(\"Learning other languages that are recently in trend is also significant. For example, Python has developed, javascript is good to know and obviously learn go/golang .\")"
      ],
      "execution_count": 0,
      "outputs": []
    },
    {
      "cell_type": "code",
      "metadata": {
        "id": "CBrKJfHsnpV3",
        "colab_type": "code",
        "colab": {
          "base_uri": "https://localhost:8080/",
          "height": 67
        },
        "outputId": "28420305-0795-4121-ddda-8ac841a61714"
      },
      "source": [
        "for match_id , start , end in matcher(doc1):\n",
        "  print(doc1[start: end])\n"
      ],
      "execution_count": 46,
      "outputs": [
        {
          "output_type": "stream",
          "text": [
            "ruby\n",
            "golang\n",
            "objective-c\n"
          ],
          "name": "stdout"
        }
      ]
    },
    {
      "cell_type": "markdown",
      "metadata": {
        "id": "D4f22E8Jn2Lq",
        "colab_type": "text"
      },
      "source": [
        "We have detected golang but, we couldn't detect go. Let's check other doc example"
      ]
    },
    {
      "cell_type": "code",
      "metadata": {
        "id": "4IoGcZHvn04v",
        "colab_type": "code",
        "colab": {
          "base_uri": "https://localhost:8080/",
          "height": 84
        },
        "outputId": "33d19afe-117b-4cab-e5a9-0bcdc042bc4d"
      },
      "source": [
        "for match_id , start , end in matcher(doc2):\n",
        "  print(doc2[start: end])"
      ],
      "execution_count": 47,
      "outputs": [
        {
          "output_type": "stream",
          "text": [
            "Python\n",
            "javascript\n",
            "go\n",
            "golang\n"
          ],
          "name": "stdout"
        }
      ]
    },
    {
      "cell_type": "markdown",
      "metadata": {
        "id": "VOGqhFbWoEb5",
        "colab_type": "text"
      },
      "source": [
        "Here we detect all. So, what's up with this ?"
      ]
    },
    {
      "cell_type": "code",
      "metadata": {
        "id": "Z4sTScwloAla",
        "colab_type": "code",
        "colab": {
          "base_uri": "https://localhost:8080/",
          "height": 70
        },
        "outputId": "2f18a3be-f18c-47b5-8bd4-fa06d059c681"
      },
      "source": [
        "# lets see why \n",
        "\n",
        "print([x for x in doc1])\n",
        "print([x for x in doc2])"
      ],
      "execution_count": 48,
      "outputs": [
        {
          "output_type": "stream",
          "text": [
            "[It, is, always, good, to, know, more, than, one, language, ., For, example, ,, learn, ruby, ,, go, /, golang, and, objective, -, c, .]\n",
            "[Learning, other, languages, that, are, recently, in, trend, is, also, significant, ., For, example, ,, Python, has, developed, ,, javascript, is, good, to, know, and, obviously, learn, go, /, golang, .]\n"
          ],
          "name": "stdout"
        }
      ]
    },
    {
      "cell_type": "code",
      "metadata": {
        "id": "Xl94XFRQoQJl",
        "colab_type": "code",
        "colab": {
          "base_uri": "https://localhost:8080/",
          "height": 54
        },
        "outputId": "353b054b-ed0b-408f-c169-ac5fa0e86a95"
      },
      "source": [
        "print([(x,x.pos_) for x in doc1])"
      ],
      "execution_count": 49,
      "outputs": [
        {
          "output_type": "stream",
          "text": [
            "[(It, 'PRON'), (is, 'VERB'), (always, 'ADV'), (good, 'ADJ'), (to, 'PART'), (know, 'VERB'), (more, 'ADJ'), (than, 'ADP'), (one, 'NUM'), (language, 'NOUN'), (., 'PUNCT'), (For, 'ADP'), (example, 'NOUN'), (,, 'PUNCT'), (learn, 'VERB'), (ruby, 'PROPN'), (,, 'PUNCT'), (go, 'VERB'), (/, 'SYM'), (golang, 'NOUN'), (and, 'CCONJ'), (objective, 'NOUN'), (-, 'PUNCT'), (c, 'NOUN'), (., 'PUNCT')]\n"
          ],
          "name": "stdout"
        }
      ]
    },
    {
      "cell_type": "markdown",
      "metadata": {
        "id": "pNqHZ9u5om9g",
        "colab_type": "text"
      },
      "source": [
        "Notice go is considered as verb here. It is not verb though."
      ]
    },
    {
      "cell_type": "code",
      "metadata": {
        "id": "8c3q90EFoh5V",
        "colab_type": "code",
        "colab": {
          "base_uri": "https://localhost:8080/",
          "height": 54
        },
        "outputId": "0aea1dbf-9020-4422-923d-82699ac0beb5"
      },
      "source": [
        "print([(x,x.pos_) for x in doc2])"
      ],
      "execution_count": 50,
      "outputs": [
        {
          "output_type": "stream",
          "text": [
            "[(Learning, 'VERB'), (other, 'ADJ'), (languages, 'NOUN'), (that, 'DET'), (are, 'VERB'), (recently, 'ADV'), (in, 'ADP'), (trend, 'NOUN'), (is, 'VERB'), (also, 'ADV'), (significant, 'ADJ'), (., 'PUNCT'), (For, 'ADP'), (example, 'NOUN'), (,, 'PUNCT'), (Python, 'PROPN'), (has, 'VERB'), (developed, 'VERB'), (,, 'PUNCT'), (javascript, 'ADJ'), (is, 'VERB'), (good, 'ADJ'), (to, 'PART'), (know, 'VERB'), (and, 'CCONJ'), (obviously, 'ADV'), (learn, 'VERB'), (go, 'PROPN'), (/, 'SYM'), (golang, 'NOUN'), (., 'PUNCT')]\n"
          ],
          "name": "stdout"
        }
      ]
    },
    {
      "cell_type": "markdown",
      "metadata": {
        "id": "pg3osl6LoyLi",
        "colab_type": "text"
      },
      "source": [
        "In this case, go is PROPN. That's why we did detect it for doc2 and not for doc1"
      ]
    },
    {
      "cell_type": "markdown",
      "metadata": {
        "id": "ScUbZskIpUWR",
        "colab_type": "text"
      },
      "source": [
        "# 6)- Back to dataset"
      ]
    },
    {
      "cell_type": "code",
      "metadata": {
        "id": "T9qWEaTMpYFT",
        "colab_type": "code",
        "colab": {}
      },
      "source": [
        "df = (pd.read_csv(\"Questions.csv\", nrows=1_000_000, \n",
        "                  encoding=\"ISO-8859-1\", usecols=['Title', 'Id']))"
      ],
      "execution_count": 0,
      "outputs": []
    },
    {
      "cell_type": "code",
      "metadata": {
        "id": "U1AX6brjpbSX",
        "colab_type": "code",
        "colab": {
          "base_uri": "https://localhost:8080/",
          "height": 34
        },
        "outputId": "b97939a2-9316-47f9-d8d2-8055a48339ba"
      },
      "source": [
        "df.shape"
      ],
      "execution_count": 61,
      "outputs": [
        {
          "output_type": "execute_result",
          "data": {
            "text/plain": [
              "(1000000, 2)"
            ]
          },
          "metadata": {
            "tags": []
          },
          "execution_count": 61
        }
      ]
    },
    {
      "cell_type": "code",
      "metadata": {
        "id": "sX50L7sFpd-B",
        "colab_type": "code",
        "colab": {
          "base_uri": "https://localhost:8080/",
          "height": 195
        },
        "outputId": "d09c4161-24c7-4b68-c521-1ed0e82c46eb"
      },
      "source": [
        "df.head()"
      ],
      "execution_count": 62,
      "outputs": [
        {
          "output_type": "execute_result",
          "data": {
            "text/html": [
              "<div>\n",
              "<style scoped>\n",
              "    .dataframe tbody tr th:only-of-type {\n",
              "        vertical-align: middle;\n",
              "    }\n",
              "\n",
              "    .dataframe tbody tr th {\n",
              "        vertical-align: top;\n",
              "    }\n",
              "\n",
              "    .dataframe thead th {\n",
              "        text-align: right;\n",
              "    }\n",
              "</style>\n",
              "<table border=\"1\" class=\"dataframe\">\n",
              "  <thead>\n",
              "    <tr style=\"text-align: right;\">\n",
              "      <th></th>\n",
              "      <th>Id</th>\n",
              "      <th>Title</th>\n",
              "    </tr>\n",
              "  </thead>\n",
              "  <tbody>\n",
              "    <tr>\n",
              "      <th>0</th>\n",
              "      <td>80</td>\n",
              "      <td>SQLStatement.execute() - multiple queries in o...</td>\n",
              "    </tr>\n",
              "    <tr>\n",
              "      <th>1</th>\n",
              "      <td>90</td>\n",
              "      <td>Good branching and merging tutorials for Torto...</td>\n",
              "    </tr>\n",
              "    <tr>\n",
              "      <th>2</th>\n",
              "      <td>120</td>\n",
              "      <td>ASP.NET Site Maps</td>\n",
              "    </tr>\n",
              "    <tr>\n",
              "      <th>3</th>\n",
              "      <td>180</td>\n",
              "      <td>Function for creating color wheels</td>\n",
              "    </tr>\n",
              "    <tr>\n",
              "      <th>4</th>\n",
              "      <td>260</td>\n",
              "      <td>Adding scripting functionality to .NET applica...</td>\n",
              "    </tr>\n",
              "  </tbody>\n",
              "</table>\n",
              "</div>"
            ],
            "text/plain": [
              "    Id                                              Title\n",
              "0   80  SQLStatement.execute() - multiple queries in o...\n",
              "1   90  Good branching and merging tutorials for Torto...\n",
              "2  120                                  ASP.NET Site Maps\n",
              "3  180                 Function for creating color wheels\n",
              "4  260  Adding scripting functionality to .NET applica..."
            ]
          },
          "metadata": {
            "tags": []
          },
          "execution_count": 62
        }
      ]
    },
    {
      "cell_type": "code",
      "metadata": {
        "id": "DKgtW3HJpfJ1",
        "colab_type": "code",
        "colab": {}
      },
      "source": [
        "# For objective C\n",
        "titles = (_ for _ in df['Title'] if \"objective-c\" in _.lower())"
      ],
      "execution_count": 0,
      "outputs": []
    },
    {
      "cell_type": "code",
      "metadata": {
        "id": "N3cNL9mApk4m",
        "colab_type": "code",
        "colab": {
          "base_uri": "https://localhost:8080/",
          "height": 50
        },
        "outputId": "95798fd1-d0f8-4d97-880c-1151e6bc2ae8"
      },
      "source": [
        "for i in range(200):\n",
        "    doc = nlp(next(titles))\n",
        "    if len(matcher(doc)) == 0:\n",
        "        print(doc)"
      ],
      "execution_count": 69,
      "outputs": [
        {
          "output_type": "stream",
          "text": [
            "Objective-C. I have typedef float DuglaType[3]. How do I declare the property for this?\n",
            "Learning Objective-C. Using Xcode 3.2.1. What is error: Program received signal: âEXC_ARITHMETICâ\n"
          ],
          "name": "stdout"
        }
      ]
    },
    {
      "cell_type": "markdown",
      "metadata": {
        "id": "KsEWvpvKqt-b",
        "colab_type": "text"
      },
      "source": [
        "We can see some words like objective space c, or objective space c++ that are out of place. So we need some more modifications "
      ]
    },
    {
      "cell_type": "markdown",
      "metadata": {
        "id": "jx-gdEEnrP6m",
        "colab_type": "text"
      },
      "source": [
        "### 6a)-back to pattern\n",
        "\n",
        "- https://spacy.io/usage/rule-based-matching\n",
        "\n",
        "check \"Operators and quantifiers\""
      ]
    },
    {
      "cell_type": "code",
      "metadata": {
        "id": "xoklpoa_pmsD",
        "colab_type": "code",
        "colab": {}
      },
      "source": [
        "obj_c_pattern1 = [{'LOWER': 'objective'},\n",
        "                  {'IS_PUNCT': True , 'OP': '?'}, # \"?\" Make the pattern optional, by allowing it to match 0 or 1 times.\n",
        "                  {'LOWER': 'c'}]\n",
        "\n",
        "obj_c_pattern2 = [{'LOWER': 'objectivec'}]\n",
        "\n",
        "golang_pattern1 = [{'LOWER': 'golang'}] \n",
        "golang_pattern2 = [{'LOWER': 'go', \n",
        "                    'POS': {'NOT_IN': ['VERB']}}]\n",
        "\n",
        "python_pattern = [{'LOWER': 'python'}]\n",
        "ruby_pattern   = [{'LOWER': 'ruby'}]\n",
        "js_pattern     = [{'LOWER': {'IN': ['js', 'javascript']}}]"
      ],
      "execution_count": 0,
      "outputs": []
    },
    {
      "cell_type": "code",
      "metadata": {
        "id": "hmsMiiuzsRtv",
        "colab_type": "code",
        "colab": {}
      },
      "source": [
        "matcher = Matcher(nlp.vocab, validate=True)\n",
        "matcher.add(\"OBJ_C_LANG\", None, obj_c_pattern1, obj_c_pattern2)\n",
        "matcher.add(\"GO_LANG\", None, golang_pattern1, golang_pattern2)\n",
        "matcher.add(\"PYTHON_LANG\", None, python_pattern)\n",
        "matcher.add(\"JS_LANG\", None, js_pattern)\n",
        "matcher.add(\"RUBY_LANG\", None, ruby_pattern)"
      ],
      "execution_count": 0,
      "outputs": []
    },
    {
      "cell_type": "code",
      "metadata": {
        "id": "jQqGsbtQsRxE",
        "colab_type": "code",
        "colab": {}
      },
      "source": [
        "df = (pd.read_csv(\"Questions.csv\", nrows=1_000_000, \n",
        "                  encoding=\"ISO-8859-1\", usecols=['Title', 'Id']))"
      ],
      "execution_count": 0,
      "outputs": []
    },
    {
      "cell_type": "code",
      "metadata": {
        "id": "E3ncVePpsR2H",
        "colab_type": "code",
        "colab": {}
      },
      "source": [
        "# For objective C\n",
        "titles = (_ for _ in df['Title'] if \"objective-c\" in _.lower())"
      ],
      "execution_count": 0,
      "outputs": []
    },
    {
      "cell_type": "code",
      "metadata": {
        "id": "lxKgMo-YtbMe",
        "colab_type": "code",
        "colab": {
          "base_uri": "https://localhost:8080/",
          "height": 84
        },
        "outputId": "b7068763-aa31-450a-d54f-693341e925ed"
      },
      "source": [
        "for i in range(200):\n",
        "    doc = nlp(next(titles))\n",
        "    if len(matcher(doc)) == 0:\n",
        "        print(doc)"
      ],
      "execution_count": 75,
      "outputs": [
        {
          "output_type": "stream",
          "text": [
            "__OBJC__ equivalent for Objective-C++\n",
            "iPhone Device/Simulator memory oddities using Objective-C++\n",
            "Objective-C. I have typedef float DuglaType[3]. How do I declare the property for this?\n",
            "Learning Objective-C. Using Xcode 3.2.1. What is error: Program received signal: âEXC_ARITHMETICâ\n"
          ],
          "name": "stdout"
        }
      ]
    },
    {
      "cell_type": "markdown",
      "metadata": {
        "id": "jDNVDmP6t1XM",
        "colab_type": "text"
      },
      "source": [
        "Still there are few cases where objective-C and objective-C++ are not being detected. One option is to check if different operator make any difference"
      ]
    },
    {
      "cell_type": "markdown",
      "metadata": {
        "id": "2FUn9iSosSG9",
        "colab_type": "text"
      },
      "source": [
        "### 6b)-change operator and qualifiers "
      ]
    },
    {
      "cell_type": "code",
      "metadata": {
        "id": "-KrgKCFhsRz6",
        "colab_type": "code",
        "colab": {}
      },
      "source": [
        "obj_c_pattern1 = [{'LOWER': 'objective'},\n",
        "                  {'IS_PUNCT': True , 'OP': '+'}, # \"+\"Require the pattern to match 1 or more times\n",
        "                  {'LOWER': 'c'}]\n",
        "\n",
        "obj_c_pattern2 = [{'LOWER': 'objectivec'}]\n",
        "\n",
        "golang_pattern1 = [{'LOWER': 'golang'}] \n",
        "golang_pattern2 = [{'LOWER': 'go', \n",
        "                    'POS': {'NOT_IN': ['VERB']}}]\n",
        "\n",
        "python_pattern = [{'LOWER': 'python'}]\n",
        "ruby_pattern   = [{'LOWER': 'ruby'}]\n",
        "js_pattern     = [{'LOWER': {'IN': ['js', 'javascript']}}]"
      ],
      "execution_count": 0,
      "outputs": []
    },
    {
      "cell_type": "code",
      "metadata": {
        "id": "vFoV0ZLruIgU",
        "colab_type": "code",
        "colab": {}
      },
      "source": [
        "matcher = Matcher(nlp.vocab, validate=True)\n",
        "matcher.add(\"OBJ_C_LANG\", None, obj_c_pattern1, obj_c_pattern2)\n",
        "matcher.add(\"GO_LANG\", None, golang_pattern1, golang_pattern2)\n",
        "matcher.add(\"PYTHON_LANG\", None, python_pattern)\n",
        "matcher.add(\"JS_LANG\", None, js_pattern)\n",
        "matcher.add(\"RUBY_LANG\", None, ruby_pattern)"
      ],
      "execution_count": 0,
      "outputs": []
    },
    {
      "cell_type": "code",
      "metadata": {
        "id": "QHYOm8equKYv",
        "colab_type": "code",
        "colab": {}
      },
      "source": [
        "df = (pd.read_csv(\"Questions.csv\", nrows=1_000_000, \n",
        "                  encoding=\"ISO-8859-1\", usecols=['Title', 'Id']))"
      ],
      "execution_count": 0,
      "outputs": []
    },
    {
      "cell_type": "code",
      "metadata": {
        "id": "2lAOjWNjuMxA",
        "colab_type": "code",
        "colab": {}
      },
      "source": [
        "# For objective C\n",
        "titles = (_ for _ in df['Title'] if \"objective-c\" in _.lower())"
      ],
      "execution_count": 0,
      "outputs": []
    },
    {
      "cell_type": "code",
      "metadata": {
        "id": "C80nqsyAuO_t",
        "colab_type": "code",
        "colab": {
          "base_uri": "https://localhost:8080/",
          "height": 84
        },
        "outputId": "09915116-f5d6-4e42-88f4-887b49c866e0"
      },
      "source": [
        "for i in range(200):\n",
        "    doc = nlp(next(titles))\n",
        "    if len(matcher(doc)) == 0:\n",
        "        print(doc)"
      ],
      "execution_count": 80,
      "outputs": [
        {
          "output_type": "stream",
          "text": [
            "__OBJC__ equivalent for Objective-C++\n",
            "iPhone Device/Simulator memory oddities using Objective-C++\n",
            "Objective-C. I have typedef float DuglaType[3]. How do I declare the property for this?\n",
            "Learning Objective-C. Using Xcode 3.2.1. What is error: Program received signal: âEXC_ARITHMETICâ\n"
          ],
          "name": "stdout"
        }
      ]
    },
    {
      "cell_type": "markdown",
      "metadata": {
        "id": "8WJrhm85uWJJ",
        "colab_type": "text"
      },
      "source": [
        "The problem remains same. One other method comes in data cleaning where punctuation marks are removed. In that case, we ought to assume that Objective-C++ and Objective-C are of same meaning because they concern one language but, with different versions. Our main concern is to detect programming language."
      ]
    },
    {
      "cell_type": "markdown",
      "metadata": {
        "id": "QWcezwjpuudW",
        "colab_type": "text"
      },
      "source": [
        "### 6c)- Check other languages"
      ]
    },
    {
      "cell_type": "code",
      "metadata": {
        "id": "G_FrEQTauRcV",
        "colab_type": "code",
        "colab": {}
      },
      "source": [
        "df = (pd.read_csv(\"Questions.csv\", nrows=1_000_000, \n",
        "                  encoding=\"ISO-8859-1\", usecols=['Title', 'Id']))"
      ],
      "execution_count": 0,
      "outputs": []
    },
    {
      "cell_type": "code",
      "metadata": {
        "id": "nOG31mxAu0fD",
        "colab_type": "code",
        "colab": {}
      },
      "source": [
        "# for Python\n",
        "\n",
        "titles = (_ for _ in df['Title'] if \"python\" in _.lower())"
      ],
      "execution_count": 0,
      "outputs": []
    },
    {
      "cell_type": "code",
      "metadata": {
        "id": "MzFhh9WMvAcl",
        "colab_type": "code",
        "colab": {
          "base_uri": "https://localhost:8080/",
          "height": 235
        },
        "outputId": "c41e70e8-cd2b-4dde-f222-05b3bdf8ef46"
      },
      "source": [
        "for i in range(200):\n",
        "    doc = nlp(next(titles))\n",
        "    if len(matcher(doc)) == 0:\n",
        "        print(doc)"
      ],
      "execution_count": 83,
      "outputs": [
        {
          "output_type": "stream",
          "text": [
            "mod_python/MySQL error on INSERT with a lot of data: \"OperationalError: (2006, 'MySQL server has gone away')\"\n",
            "Running subversion under apache and mod_python\n",
            "What's the best way to embed IronPython inside my C# App?\n",
            "How to set the PYTHONPATH in Emacs?\n",
            "wxPython wxDC object from win32gui.GetDC\n",
            "Need skeleton code to call Excel VBA from PythonWin\n",
            "Questions for python->scheme conversion\n",
            "wxPython and sharing objects between windows\n",
            "Django on IronPython\n",
            "IronPython Webframework\n",
            "A SuggestBox for wxPython?\n",
            "Intercepting Method Access on the Host Program of IronPython\n",
            "Is there anything like IPython / IRB for Perl?\n"
          ],
          "name": "stdout"
        }
      ]
    },
    {
      "cell_type": "markdown",
      "metadata": {
        "id": "i5RdT11gvGHT",
        "colab_type": "text"
      },
      "source": [
        "Some issues are with PYTHONPATH, IPython, wxPython, IronPython. We can address these issues either by trying more operators or by trying a cleaned text data. It depends on problem statement. If some one wants to see how Python is integrated with other tools then Python/SQL or Python/ IRB are interesting. If not then we can have more precision in data cleaning."
      ]
    }
  ]
}