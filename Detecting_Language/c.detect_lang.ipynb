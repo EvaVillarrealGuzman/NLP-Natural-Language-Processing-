{
 "cells": [
  {
   "cell_type": "markdown",
   "metadata": {},
   "source": [
    "# Detecting Programming Language\n",
    "\n",
    "Evaluation"
   ]
  },
  {
   "cell_type": "markdown",
   "metadata": {},
   "source": [
    "# 1)- Importing key libraries"
   ]
  },
  {
   "cell_type": "code",
   "execution_count": 1,
   "metadata": {},
   "outputs": [],
   "source": [
    "\n",
    "#support both Python 2 and Python 3 with minimal overhead.\n",
    "from __future__ import absolute_import, division, print_function\n",
    "\n",
    "# I am an engineer. I care only about error not warning. So, let's be maverick and ignore warnings.\n",
    "import warnings\n",
    "warnings.filterwarnings('ignore')"
   ]
  },
  {
   "cell_type": "code",
   "execution_count": 2,
   "metadata": {},
   "outputs": [],
   "source": [
    "# For data processing and maths\n",
    "import numpy as np\n",
    "import pandas as pd\n",
    "import time\n",
    "import math\n",
    "import os\n",
    "#For Visuals\n",
    "import matplotlib.pyplot as plt\n",
    "import seaborn as sns\n",
    "sns.set()\n",
    "from matplotlib import rcParams\n",
    "rcParams['figure.figsize'] = 11, 8\n",
    "%config InlineBackend.figure_format = 'svg'\n",
    "%matplotlib inline"
   ]
  },
  {
   "cell_type": "code",
   "execution_count": 3,
   "metadata": {},
   "outputs": [],
   "source": [
    "# ! pip install https://github.com/explosion/spacy-models/releases/download/en_core_web_sm-2.2.0/en_core_web_sm-2.2.0.tar.gz"
   ]
  },
  {
   "cell_type": "code",
   "execution_count": 4,
   "metadata": {},
   "outputs": [],
   "source": [
    "# For text we shall use Spacy\n",
    "\n",
    "import spacy \n",
    "from spacy import displacy\n",
    "from spacy.matcher import Matcher\n",
    "nlp = spacy.load(\"en_core_web_sm\")"
   ]
  },
  {
   "cell_type": "code",
   "execution_count": 5,
   "metadata": {},
   "outputs": [],
   "source": [
    "#! pip install version_information"
   ]
  },
  {
   "cell_type": "code",
   "execution_count": 6,
   "metadata": {},
   "outputs": [
    {
     "data": {
      "application/json": {
       "Software versions": [
        {
         "module": "Python",
         "version": "3.7.5 64bit [Clang 4.0.1 (tags/RELEASE_401/final)]"
        },
        {
         "module": "IPython",
         "version": "7.10.2"
        },
        {
         "module": "OS",
         "version": "Darwin 19.2.0 x86_64 i386 64bit"
        },
        {
         "module": "pandas",
         "version": "0.25.3"
        },
        {
         "module": "spacy",
         "version": "2.2.3"
        },
        {
         "module": "numpy",
         "version": "1.17.4"
        },
        {
         "module": "seaborn",
         "version": "0.9.0"
        },
        {
         "module": "matplotlib",
         "version": "3.1.1"
        }
       ]
      },
      "text/html": [
       "<table><tr><th>Software</th><th>Version</th></tr><tr><td>Python</td><td>3.7.5 64bit [Clang 4.0.1 (tags/RELEASE_401/final)]</td></tr><tr><td>IPython</td><td>7.10.2</td></tr><tr><td>OS</td><td>Darwin 19.2.0 x86_64 i386 64bit</td></tr><tr><td>pandas</td><td>0.25.3</td></tr><tr><td>spacy</td><td>2.2.3</td></tr><tr><td>numpy</td><td>1.17.4</td></tr><tr><td>seaborn</td><td>0.9.0</td></tr><tr><td>matplotlib</td><td>3.1.1</td></tr><tr><td colspan='2'>Sun Jan 05 17:01:32 2020 CET</td></tr></table>"
      ],
      "text/latex": [
       "\\begin{tabular}{|l|l|}\\hline\n",
       "{\\bf Software} & {\\bf Version} \\\\ \\hline\\hline\n",
       "Python & 3.7.5 64bit [Clang 4.0.1 (tags/RELEASE\\_401/final)] \\\\ \\hline\n",
       "IPython & 7.10.2 \\\\ \\hline\n",
       "OS & Darwin 19.2.0 x86\\_64 i386 64bit \\\\ \\hline\n",
       "pandas & 0.25.3 \\\\ \\hline\n",
       "spacy & 2.2.3 \\\\ \\hline\n",
       "numpy & 1.17.4 \\\\ \\hline\n",
       "seaborn & 0.9.0 \\\\ \\hline\n",
       "matplotlib & 3.1.1 \\\\ \\hline\n",
       "\\hline \\multicolumn{2}{|l|}{Sun Jan 05 17:01:32 2020 CET} \\\\ \\hline\n",
       "\\end{tabular}\n"
      ],
      "text/plain": [
       "Software versions\n",
       "Python 3.7.5 64bit [Clang 4.0.1 (tags/RELEASE_401/final)]\n",
       "IPython 7.10.2\n",
       "OS Darwin 19.2.0 x86_64 i386 64bit\n",
       "pandas 0.25.3\n",
       "spacy 2.2.3\n",
       "numpy 1.17.4\n",
       "seaborn 0.9.0\n",
       "matplotlib 3.1.1\n",
       "Sun Jan 05 17:01:32 2020 CET"
      ]
     },
     "execution_count": 6,
     "metadata": {},
     "output_type": "execute_result"
    }
   ],
   "source": [
    "%reload_ext version_information\n",
    "%version_information pandas,spacy,numpy,seaborn, matplotlib"
   ]
  },
  {
   "cell_type": "markdown",
   "metadata": {},
   "source": [
    "# 2)- Loading Data"
   ]
  },
  {
   "cell_type": "code",
   "execution_count": 7,
   "metadata": {},
   "outputs": [],
   "source": [
    "data= pd.read_csv(\"Questions.csv\", nrows=1_000_00, encoding=\"ISO-8859-1\")"
   ]
  },
  {
   "cell_type": "code",
   "execution_count": 8,
   "metadata": {},
   "outputs": [
    {
     "data": {
      "text/html": [
       "<div>\n",
       "<style scoped>\n",
       "    .dataframe tbody tr th:only-of-type {\n",
       "        vertical-align: middle;\n",
       "    }\n",
       "\n",
       "    .dataframe tbody tr th {\n",
       "        vertical-align: top;\n",
       "    }\n",
       "\n",
       "    .dataframe thead th {\n",
       "        text-align: right;\n",
       "    }\n",
       "</style>\n",
       "<table border=\"1\" class=\"dataframe\">\n",
       "  <thead>\n",
       "    <tr style=\"text-align: right;\">\n",
       "      <th></th>\n",
       "      <th>Id</th>\n",
       "      <th>OwnerUserId</th>\n",
       "      <th>CreationDate</th>\n",
       "      <th>ClosedDate</th>\n",
       "      <th>Score</th>\n",
       "      <th>Title</th>\n",
       "      <th>Body</th>\n",
       "    </tr>\n",
       "  </thead>\n",
       "  <tbody>\n",
       "    <tr>\n",
       "      <th>0</th>\n",
       "      <td>80</td>\n",
       "      <td>26.0</td>\n",
       "      <td>2008-08-01T13:57:07Z</td>\n",
       "      <td>NaN</td>\n",
       "      <td>26</td>\n",
       "      <td>SQLStatement.execute() - multiple queries in o...</td>\n",
       "      <td>&lt;p&gt;I've written a database generation script i...</td>\n",
       "    </tr>\n",
       "    <tr>\n",
       "      <th>1</th>\n",
       "      <td>90</td>\n",
       "      <td>58.0</td>\n",
       "      <td>2008-08-01T14:41:24Z</td>\n",
       "      <td>2012-12-26T03:45:49Z</td>\n",
       "      <td>144</td>\n",
       "      <td>Good branching and merging tutorials for Torto...</td>\n",
       "      <td>&lt;p&gt;Are there any really good tutorials explain...</td>\n",
       "    </tr>\n",
       "    <tr>\n",
       "      <th>2</th>\n",
       "      <td>120</td>\n",
       "      <td>83.0</td>\n",
       "      <td>2008-08-01T15:50:08Z</td>\n",
       "      <td>NaN</td>\n",
       "      <td>21</td>\n",
       "      <td>ASP.NET Site Maps</td>\n",
       "      <td>&lt;p&gt;Has anyone got experience creating &lt;strong&gt;...</td>\n",
       "    </tr>\n",
       "    <tr>\n",
       "      <th>3</th>\n",
       "      <td>180</td>\n",
       "      <td>2089740.0</td>\n",
       "      <td>2008-08-01T18:42:19Z</td>\n",
       "      <td>NaN</td>\n",
       "      <td>53</td>\n",
       "      <td>Function for creating color wheels</td>\n",
       "      <td>&lt;p&gt;This is something I've pseudo-solved many t...</td>\n",
       "    </tr>\n",
       "    <tr>\n",
       "      <th>4</th>\n",
       "      <td>260</td>\n",
       "      <td>91.0</td>\n",
       "      <td>2008-08-01T23:22:08Z</td>\n",
       "      <td>NaN</td>\n",
       "      <td>49</td>\n",
       "      <td>Adding scripting functionality to .NET applica...</td>\n",
       "      <td>&lt;p&gt;I have a little game written in C#. It uses...</td>\n",
       "    </tr>\n",
       "  </tbody>\n",
       "</table>\n",
       "</div>"
      ],
      "text/plain": [
       "    Id  OwnerUserId          CreationDate            ClosedDate  Score  \\\n",
       "0   80         26.0  2008-08-01T13:57:07Z                   NaN     26   \n",
       "1   90         58.0  2008-08-01T14:41:24Z  2012-12-26T03:45:49Z    144   \n",
       "2  120         83.0  2008-08-01T15:50:08Z                   NaN     21   \n",
       "3  180    2089740.0  2008-08-01T18:42:19Z                   NaN     53   \n",
       "4  260         91.0  2008-08-01T23:22:08Z                   NaN     49   \n",
       "\n",
       "                                               Title  \\\n",
       "0  SQLStatement.execute() - multiple queries in o...   \n",
       "1  Good branching and merging tutorials for Torto...   \n",
       "2                                  ASP.NET Site Maps   \n",
       "3                 Function for creating color wheels   \n",
       "4  Adding scripting functionality to .NET applica...   \n",
       "\n",
       "                                                Body  \n",
       "0  <p>I've written a database generation script i...  \n",
       "1  <p>Are there any really good tutorials explain...  \n",
       "2  <p>Has anyone got experience creating <strong>...  \n",
       "3  <p>This is something I've pseudo-solved many t...  \n",
       "4  <p>I have a little game written in C#. It uses...  "
      ]
     },
     "execution_count": 8,
     "metadata": {},
     "output_type": "execute_result"
    }
   ],
   "source": [
    "data.head()"
   ]
  },
  {
   "cell_type": "code",
   "execution_count": 9,
   "metadata": {},
   "outputs": [
    {
     "data": {
      "text/plain": [
       "\"<p>I would like the version property of my application to be incremented for each build but I'm not sure on how to enable this functionality in Visual Studio (2005/2008). I have tried to specify the AssemblyVersion as 1.0.* but it doesn't get me exactly what I want. </p>\\r\\n\\r\\n<p>I'm also using a settings file and in earlier attempts when the assembly version changed my settings got reset to the default since the application looked for the settings file in another directory. </p>\\r\\n\\r\\n<p>I would like to be able to display a version number in the form of 1.1.38 so when a user finds a problem I can log the version they are using as well as tell them to upgrade if they have an old release.</p>\\r\\n\\r\\n<p>A short explanation of how the versioning works would also be appreciated. When does the build and revision number get incremented?</p>\""
      ]
     },
     "execution_count": 9,
     "metadata": {},
     "output_type": "execute_result"
    }
   ],
   "source": [
    "data.Body[8]"
   ]
  },
  {
   "cell_type": "code",
   "execution_count": 10,
   "metadata": {},
   "outputs": [
    {
     "data": {
      "text/plain": [
       "'Automatically update version number'"
      ]
     },
     "execution_count": 10,
     "metadata": {},
     "output_type": "execute_result"
    }
   ],
   "source": [
    "data.Title[8]"
   ]
  },
  {
   "cell_type": "code",
   "execution_count": 11,
   "metadata": {},
   "outputs": [
    {
     "data": {
      "text/html": [
       "<div>\n",
       "<style scoped>\n",
       "    .dataframe tbody tr th:only-of-type {\n",
       "        vertical-align: middle;\n",
       "    }\n",
       "\n",
       "    .dataframe tbody tr th {\n",
       "        vertical-align: top;\n",
       "    }\n",
       "\n",
       "    .dataframe thead th {\n",
       "        text-align: right;\n",
       "    }\n",
       "</style>\n",
       "<table border=\"1\" class=\"dataframe\">\n",
       "  <thead>\n",
       "    <tr style=\"text-align: right;\">\n",
       "      <th></th>\n",
       "      <th>Id</th>\n",
       "      <th>Title</th>\n",
       "    </tr>\n",
       "  </thead>\n",
       "  <tbody>\n",
       "    <tr>\n",
       "      <th>0</th>\n",
       "      <td>80</td>\n",
       "      <td>SQLStatement.execute() - multiple queries in o...</td>\n",
       "    </tr>\n",
       "    <tr>\n",
       "      <th>1</th>\n",
       "      <td>90</td>\n",
       "      <td>Good branching and merging tutorials for Torto...</td>\n",
       "    </tr>\n",
       "    <tr>\n",
       "      <th>2</th>\n",
       "      <td>120</td>\n",
       "      <td>ASP.NET Site Maps</td>\n",
       "    </tr>\n",
       "    <tr>\n",
       "      <th>3</th>\n",
       "      <td>180</td>\n",
       "      <td>Function for creating color wheels</td>\n",
       "    </tr>\n",
       "    <tr>\n",
       "      <th>4</th>\n",
       "      <td>260</td>\n",
       "      <td>Adding scripting functionality to .NET applica...</td>\n",
       "    </tr>\n",
       "  </tbody>\n",
       "</table>\n",
       "</div>"
      ],
      "text/plain": [
       "    Id                                              Title\n",
       "0   80  SQLStatement.execute() - multiple queries in o...\n",
       "1   90  Good branching and merging tutorials for Torto...\n",
       "2  120                                  ASP.NET Site Maps\n",
       "3  180                 Function for creating color wheels\n",
       "4  260  Adding scripting functionality to .NET applica..."
      ]
     },
     "execution_count": 11,
     "metadata": {},
     "output_type": "execute_result"
    }
   ],
   "source": [
    "#col.s of our concern\n",
    "\n",
    "df=data[['Id','Title']]\n",
    "df.head()"
   ]
  },
  {
   "cell_type": "code",
   "execution_count": 12,
   "metadata": {},
   "outputs": [
    {
     "data": {
      "text/plain": [
       "(100000, 2)"
      ]
     },
     "execution_count": 12,
     "metadata": {},
     "output_type": "execute_result"
    }
   ],
   "source": [
    "df.shape"
   ]
  },
  {
   "cell_type": "code",
   "execution_count": 13,
   "metadata": {},
   "outputs": [
    {
     "data": {
      "text/plain": [
       "'Adding scripting functionality to .NET applications'"
      ]
     },
     "execution_count": 13,
     "metadata": {},
     "output_type": "execute_result"
    }
   ],
   "source": [
    "df.Title[4]"
   ]
  },
  {
   "cell_type": "markdown",
   "metadata": {},
   "source": [
    "# 3)-Labeling data"
   ]
  },
  {
   "cell_type": "code",
   "execution_count": 14,
   "metadata": {},
   "outputs": [],
   "source": [
    "df_labelling = (pd.read_csv(\"Questions.csv\", nrows=500,\n",
    "                  encoding=\"ISO-8859-1\", usecols=['Title', 'Id']))"
   ]
  },
  {
   "cell_type": "code",
   "execution_count": 15,
   "metadata": {},
   "outputs": [
    {
     "data": {
      "text/plain": [
       "(500, 2)"
      ]
     },
     "execution_count": 15,
     "metadata": {},
     "output_type": "execute_result"
    }
   ],
   "source": [
    "df_labelling.shape"
   ]
  },
  {
   "cell_type": "code",
   "execution_count": 16,
   "metadata": {},
   "outputs": [],
   "source": [
    "df_labelling.to_csv('label.csv')"
   ]
  },
  {
   "cell_type": "code",
   "execution_count": 17,
   "metadata": {},
   "outputs": [],
   "source": [
    "label=pd.read_excel('label.xltx', index_col=0)"
   ]
  },
  {
   "cell_type": "code",
   "execution_count": 18,
   "metadata": {},
   "outputs": [
    {
     "data": {
      "text/html": [
       "<div>\n",
       "<style scoped>\n",
       "    .dataframe tbody tr th:only-of-type {\n",
       "        vertical-align: middle;\n",
       "    }\n",
       "\n",
       "    .dataframe tbody tr th {\n",
       "        vertical-align: top;\n",
       "    }\n",
       "\n",
       "    .dataframe thead th {\n",
       "        text-align: right;\n",
       "    }\n",
       "</style>\n",
       "<table border=\"1\" class=\"dataframe\">\n",
       "  <thead>\n",
       "    <tr style=\"text-align: right;\">\n",
       "      <th></th>\n",
       "      <th>Id</th>\n",
       "      <th>Title</th>\n",
       "      <th>Label</th>\n",
       "    </tr>\n",
       "  </thead>\n",
       "  <tbody>\n",
       "    <tr>\n",
       "      <th>0</th>\n",
       "      <td>80</td>\n",
       "      <td>SQLStatement.execute() - multiple queries in o...</td>\n",
       "      <td>1</td>\n",
       "    </tr>\n",
       "    <tr>\n",
       "      <th>1</th>\n",
       "      <td>90</td>\n",
       "      <td>Good branching and merging tutorials for Torto...</td>\n",
       "      <td>0</td>\n",
       "    </tr>\n",
       "    <tr>\n",
       "      <th>2</th>\n",
       "      <td>120</td>\n",
       "      <td>ASP.NET Site Maps</td>\n",
       "      <td>0</td>\n",
       "    </tr>\n",
       "    <tr>\n",
       "      <th>3</th>\n",
       "      <td>180</td>\n",
       "      <td>Function for creating color wheels</td>\n",
       "      <td>0</td>\n",
       "    </tr>\n",
       "    <tr>\n",
       "      <th>4</th>\n",
       "      <td>260</td>\n",
       "      <td>Adding scripting functionality to .NET applica...</td>\n",
       "      <td>1</td>\n",
       "    </tr>\n",
       "  </tbody>\n",
       "</table>\n",
       "</div>"
      ],
      "text/plain": [
       "    Id                                              Title  Label\n",
       "0   80  SQLStatement.execute() - multiple queries in o...      1\n",
       "1   90  Good branching and merging tutorials for Torto...      0\n",
       "2  120                                  ASP.NET Site Maps      0\n",
       "3  180                 Function for creating color wheels      0\n",
       "4  260  Adding scripting functionality to .NET applica...      1"
      ]
     },
     "execution_count": 18,
     "metadata": {},
     "output_type": "execute_result"
    }
   ],
   "source": [
    "label.head()"
   ]
  },
  {
   "cell_type": "markdown",
   "metadata": {},
   "source": [
    "now we have our labelled data for evaluation."
   ]
  },
  {
   "cell_type": "markdown",
   "metadata": {},
   "source": [
    "# 4)- Going back to Patterns"
   ]
  },
  {
   "cell_type": "code",
   "execution_count": 19,
   "metadata": {},
   "outputs": [],
   "source": [
    "obj_c_pattern1 = [{'LOWER': 'objective'},\n",
    "                  {'IS_PUNCT': True, 'OP': '?'},\n",
    "                  {'LOWER': 'c'}]\n",
    "obj_c_pattern2 = [{'LOWER': 'objectivec'}]\n",
    "python_pattern = [{'LOWER': 'python'}]\n",
    "go_pattern1    = [{'LOWER': 'go', 'POS': {'NOT_IN': ['VERB']}}]\n",
    "go_pattern2    = [{'LOWER': 'golang'}]\n",
    "ruby_pattern   = [{'LOWER': 'ruby'}]\n",
    "js_pattern     = [{'LOWER': {'IN': ['js', 'javascript']}}]\n",
    "\n",
    "matcher = Matcher(nlp.vocab, validate=True)\n",
    "matcher.add(\"OBJ_C_LANG\", None, obj_c_pattern1, obj_c_pattern2)\n",
    "matcher.add(\"PYTHON_LANG\", None, python_pattern)\n",
    "matcher.add(\"GO_LANG\", None, go_pattern1, go_pattern2)\n",
    "matcher.add(\"JS_LANG\", None, js_pattern)\n",
    "matcher.add(\"RUBY_LANG\", None, ruby_pattern)"
   ]
  },
  {
   "cell_type": "code",
   "execution_count": 20,
   "metadata": {},
   "outputs": [],
   "source": [
    "#  for Python\n",
    "\n",
    "titles = (_ for _ in df['Title'] if \"ruby\" in _.lower())"
   ]
  },
  {
   "cell_type": "code",
   "execution_count": 21,
   "metadata": {},
   "outputs": [
    {
     "name": "stdout",
     "output_type": "stream",
     "text": [
      "How do I get a zipped file's content using the rubyzip library?\n",
      "What is the best way to add user ID to RubyOnRails log entries?\n",
      "How to deploy an RubyGem-based Server\n",
      "Getting Started with IronRuby on Rails\n",
      "Persisting the state column on transition using rubyist-aasm (acts as state machine)\n",
      "Connecting to MS SQL Server with JRuby\n",
      "Is there an equivalent of isitruby19 for rubinius?\n",
      "How to consume remoting in IronRuby\n",
      "jruby on tomcat - RackInitializationException\n",
      "Documentation on RubyVM::InstructionSequence?\n"
     ]
    }
   ],
   "source": [
    "for i in range(200):\n",
    "    doc = nlp(next(titles))\n",
    "    if len(matcher(doc)) == 0:\n",
    "        print(doc)"
   ]
  },
  {
   "cell_type": "markdown",
   "metadata": {},
   "source": [
    "In 6th case, JRuby/MS SQL, we are not sure if we have found results actually for python. So, we better highlight given entity."
   ]
  },
  {
   "cell_type": "markdown",
   "metadata": {},
   "source": [
    "### creating html generator\n",
    "\n",
    "taken directly from tutorial "
   ]
  },
  {
   "cell_type": "code",
   "execution_count": 22,
   "metadata": {},
   "outputs": [],
   "source": [
    "from IPython.display import HTML as html_print\n",
    "\n",
    "def style(s, bold=False):\n",
    "    blob = f\"<text>{s}</text>\"\n",
    "    if bold:\n",
    "        blob = f\"<b style='background-color: #fff59d'>{blob}</b>\"\n",
    "    return blob\n",
    "\n",
    "def html_generator(g, n=10):\n",
    "    blob = \"\"\n",
    "    for i in range(n):\n",
    "        doc = next(g)\n",
    "\n",
    "        state = [[t, False] for t in doc]\n",
    "        for idx, start, end in matcher(doc):\n",
    "            for i in range(start, end):\n",
    "                state[i][1] = True\n",
    "        blob += style(' '.join([style(str(t[0]), bold=t[1]) for t in state]) + '<br>') \n",
    "    return blob"
   ]
  },
  {
   "cell_type": "code",
   "execution_count": 23,
   "metadata": {
    "scrolled": true
   },
   "outputs": [
    {
     "data": {
      "text/html": [
       "<text><text>How</text> <text>do</text> <text>I</text> <text>run</text> <text>Rake</text> <text>tasks</text> <text>within</text> <text>a</text> <b style='background-color: #fff59d'><text>Ruby</text></b> <text>script</text> <text>?</text><br></text><text><text>How</text> <text>can</text> <text>I</text> <text>create</text> <text>Prototype</text> <text>Methods</text> <text>(</text> <text>like</text> <b style='background-color: #fff59d'><text>JavaScript</text></b> <text>)</text> <text>in</text> <text>C#.Net</text> <text>?</text><br></text><text><text>Some</text> <text>kind</text> <text>of</text> <text>task</text> <text>manager</text> <text>for</text> <b style='background-color: #fff59d'><text>JavaScript</text></b> <text>in</text> <text>Firefox</text> <text>3</text> <text>?</text><br></text><text><text>Best</text> <text>practices</text> <text>for</text> <text>managing</text> <text>and</text> <text>deploying</text> <text>large</text> <b style='background-color: #fff59d'><text>JavaScript</text></b> <text>apps</text><br></text><text><text>Create</text> <text>an</text> <text>encrypted</text> <text>ZIP</text> <text>file</text> <text>in</text> <b style='background-color: #fff59d'><text>Python</text></b><br></text><text><text>Code</text> <text>to</text> <text>ask</text> <text>yes</text> <text>/</text> <text>no</text> <text>question</text> <text>in</text> <b style='background-color: #fff59d'><text>javascript</text></b><br></text><text><text>Executing</text> <b style='background-color: #fff59d'><text>JavaScript</text></b> <text>from</text> <text>Flex</text> <text>:</text> <text>Is</text> <text>this</text> <b style='background-color: #fff59d'><text>javascript</text></b> <text>function</text> <text>dangerous</text> <text>?</text><br></text><text><text>What</text> <b style='background-color: #fff59d'><text>Javascript</text></b> <text>rich</text> <text>text</text> <text>editor</text> <text>will</text> <text>not</text> <text>break</text> <text>the</text> <text>browser</text> <text>'s</text> <text>spellcheck</text> <text>?</text><br></text><text><text>How</text> <text>do</text> <text>I</text> <text>marshal</text> <text>a</text> <text>lambda</text> <text>(</text> <text>Proc</text> <text>)</text> <text>in</text> <b style='background-color: #fff59d'><text>Ruby</text></b> <text>?</text><br></text><text><b style='background-color: #fff59d'><text>Ruby</text></b> <text>Performance</text><br></text>"
      ],
      "text/plain": [
       "<IPython.core.display.HTML object>"
      ]
     },
     "execution_count": 23,
     "metadata": {},
     "output_type": "execute_result"
    }
   ],
   "source": [
    "titles = (_ for _ in df['Title'])\n",
    "g = (d for d in nlp.pipe(titles) if matcher(d))\n",
    "html_print(html_generator(g, n=10))"
   ]
  },
  {
   "cell_type": "markdown",
   "metadata": {},
   "source": [
    "# 5)-Results of Evaluation 1"
   ]
  },
  {
   "cell_type": "code",
   "execution_count": 24,
   "metadata": {},
   "outputs": [],
   "source": [
    "obj_c_pattern1 = [{'LOWER': 'objective'},\n",
    "                  {'IS_PUNCT': True, 'OP': '?'},\n",
    "                  {'LOWER': 'c'}]\n",
    "obj_c_pattern2 = [{'LOWER': 'objectivec'}]\n",
    "\n",
    "csharp_pattern1 = [{'LOWER': 'c'}, {'LOWER': '#'}]\n",
    "csharp_pattern2 = [{'LOWER': 'c'}, {'LOWER': 'sharp'}]\n",
    "csharp_pattern3 = [{'LOWER': 'c#'}]\n",
    "\n",
    "fsharp_pattern1 = [{'LOWER': 'f'}, {'LOWER': '#'}]\n",
    "fsharp_pattern2 = [{'LOWER': 'f'}, {'LOWER': 'sharp'}]\n",
    "fsharp_pattern3 = [{'LOWER': 'f#'}]\n",
    " \n",
    "dot_net_pattern = [{'LOWER': '.net'}]\n",
    "\n",
    "php_pattern = [{'LOWER': 'php'}]\n",
    "\n",
    "asp_net_pattern = [{'LOWER': {'IN': ['asp.net', 'asp']}}]\n",
    "\n",
    "python_pattern = [{'LOWER': 'python'}]\n",
    "\n",
    "lisp_pattern1  = [{'LOWER': 'lisp'}]\n",
    "lisp_pattern2  = [{'LOWER': 'common'}, {'LOWER': 'lisp'}]\n",
    "\n",
    "go_pattern1    = [{'LOWER': 'go', 'POS': {'NOT_IN': ['VERB']}}]\n",
    "go_pattern2    = [{'LOWER': 'golang'}]\n",
    "\n",
    "ruby_pattern   = [{'LOWER': 'ruby'}]\n",
    "\n",
    "sql_pattern    = [{'LOWER': 'sql'}]\n",
    "\n",
    "matlab_pattern = [{'LOWER': 'matlab'}]\n",
    "\n",
    "perl_pattern   = [{'LOWER': 'perl'}]\n",
    "\n",
    "html_pattern   = [{'LOWER': 'html'}]\n",
    "\n",
    "css_pattern   = [{'LOWER': 'css'}]\n",
    "\n",
    "js_pattern     = [{'LOWER': {'IN': ['js', 'javascript']}}]\n",
    "\n",
    "java_pattern   = [{'LOWER': 'java'}]\n",
    "\n",
    "c_pattern      = [{'LOWER': 'c'}]\n",
    "\n",
    "cpp_pattern    = [{'LOWER': 'c++'}]\n",
    "\n",
    "matcher = Matcher(nlp.vocab, validate=True)\n",
    "matcher.add(\"OBJ_C_LANG\", None, obj_c_pattern1, obj_c_pattern2)\n",
    "matcher.add(\"PYTHON_LANG\", None, python_pattern)\n",
    "matcher.add(\"GO_LANG\", None, go_pattern1, go_pattern2)\n",
    "matcher.add(\"CSHARP_LANG\", None, csharp_pattern1, csharp_pattern2, csharp_pattern3)\n",
    "matcher.add(\"FSHARP_LANG\", None, fsharp_pattern1, fsharp_pattern2, fsharp_pattern3)\n",
    "matcher.add(\"JS_LANG\", None, js_pattern)\n",
    "matcher.add(\"JAVA_LANG\", None, java_pattern)\n",
    "matcher.add(\"RUBY_LANG\", None, ruby_pattern)\n",
    "matcher.add(\"SQL_LANG\", None, sql_pattern)\n",
    "matcher.add(\"C_LANG\", None, c_pattern)\n",
    "matcher.add(\"CPP_LANG\", None, cpp_pattern)\n",
    "matcher.add(\"PHP_LANG\", None, php_pattern)\n",
    "matcher.add(\"MATLAB_LANG\", None, matlab_pattern)\n",
    "matcher.add(\"PERL_LANG\", None, perl_pattern)\n",
    "matcher.add(\"LISP_LANG\", None, lisp_pattern1, lisp_pattern2)\n",
    "matcher.add(\"HTML_LANG\", None, html_pattern)\n",
    "matcher.add(\"CSS_LANG\", None, css_pattern)"
   ]
  },
  {
   "cell_type": "markdown",
   "metadata": {},
   "source": [
    "### Actual Labelling"
   ]
  },
  {
   "cell_type": "code",
   "execution_count": 25,
   "metadata": {},
   "outputs": [
    {
     "data": {
      "text/plain": [
       "510"
      ]
     },
     "execution_count": 25,
     "metadata": {},
     "output_type": "execute_result"
    }
   ],
   "source": [
    "titles = (_ for _ in df['Title'][:2000])\n",
    "sum(1 for d in nlp.pipe(titles) if matcher(d))"
   ]
  },
  {
   "cell_type": "markdown",
   "metadata": {},
   "source": [
    "### Language Version"
   ]
  },
  {
   "cell_type": "code",
   "execution_count": 26,
   "metadata": {},
   "outputs": [
    {
     "data": {
      "text/plain": [
       "[[{'LOWER': 'python'}],\n",
       " [{'LOWER': {'REGEX': '(python\\\\d+\\\\.?\\\\d*.?\\\\d*)'}}],\n",
       " [{'LOWER': 'python'}, {'TEXT': {'REGEX': '(\\\\d+\\\\.?\\\\d*.?\\\\d*)'}}]]"
      ]
     },
     "execution_count": 26,
     "metadata": {},
     "output_type": "execute_result"
    }
   ],
   "source": [
    "def create_versioned(name):\n",
    "    return [\n",
    "        [{'LOWER': name}], \n",
    "        [{'LOWER': {'REGEX': f'({name}\\d+\\.?\\d*.?\\d*)'}}], \n",
    "        [{'LOWER': name}, {'TEXT': {'REGEX': '(\\d+\\.?\\d*.?\\d*)'}}],\n",
    "    ]\n",
    "\n",
    "create_versioned('python')"
   ]
  },
  {
   "cell_type": "code",
   "execution_count": 27,
   "metadata": {},
   "outputs": [
    {
     "data": {
      "text/html": [
       "<text><text>i</text> <text>use</text> <b style='background-color: #fff59d'><text>python</text></b> <text>,</text> <b style='background-color: #fff59d'><text>python3.7</text></b> <text>,</text> <b style='background-color: #fff59d'><text>python</text></b> <b style='background-color: #fff59d'><text>3.6.6</text></b><br></text><text><text>also</text> <b style='background-color: #fff59d'><text>python3</text></b> <text>,</text> <b style='background-color: #fff59d'><text>python</text></b> <b style='background-color: #fff59d'><text>2</text></b> <text>and</text> <b style='background-color: #fff59d'><text>python3.2.1</text></b><br></text><text><text>not</text> <text>bypython</text> <text>,</text> <text>pythonn</text> <text>and</text> <text>py36</text><br></text>"
      ],
      "text/plain": [
       "<IPython.core.display.HTML object>"
      ]
     },
     "execution_count": 27,
     "metadata": {},
     "output_type": "execute_result"
    }
   ],
   "source": [
    "matcher = Matcher(nlp.vocab, validate=True)\n",
    "matcher.add(\"PYTHON_LANG\", None, *create_versioned('python'))\n",
    "g = nlp.pipe([\"i use python, python3.7, python 3.6.6\", \n",
    "              \"also python3, python 2 and python3.2.1\", \n",
    "              \"not bypython, pythonn and py36\"])\n",
    "html_print(html_generator(g, n=3))"
   ]
  },
  {
   "cell_type": "markdown",
   "metadata": {},
   "source": [
    "### Putting this in a new matcher"
   ]
  },
  {
   "cell_type": "code",
   "execution_count": 28,
   "metadata": {},
   "outputs": [],
   "source": [
    "obj_c_pattern1 = [{'LOWER': 'objective'},\n",
    "                  {'IS_PUNCT': True, 'OP': '?'},\n",
    "                  {'LOWER': 'c'}]\n",
    "obj_c_pattern2 = [{'LOWER': 'objectivec'}]\n",
    "\n",
    "csharp_pattern1 = [{'LOWER': 'c'}, {'LOWER': '#'}]\n",
    "csharp_pattern2 = [{'LOWER': 'c'}, {'LOWER': 'sharp'}]\n",
    "csharp_pattern3 = [{'LOWER': 'c#'}]\n",
    "\n",
    "fsharp_pattern1 = [{'LOWER': 'f'}, {'LOWER': '#'}]\n",
    "fsharp_pattern2 = [{'LOWER': 'f'}, {'LOWER': 'sharp'}]\n",
    "fsharp_pattern3 = [{'LOWER': 'f#'}]\n",
    "\n",
    "lisp_pattern1  = [{'LOWER': 'lisp'}]\n",
    "lisp_pattern2  = [{'LOWER': 'common'}, {'LOWER': 'lisp'}]\n",
    "\n",
    "go_pattern1    = [{'LOWER': 'go', 'POS': {'NOT_IN': ['VERB']}}]\n",
    "go_pattern2    = [{'LOWER': 'golang'}]\n",
    "\n",
    "html_pattern   = [{'LOWER': 'html'}]\n",
    "css_pattern    = [{'LOWER': 'css'}]\n",
    "sql_pattern    = [{'LOWER': 'sql'}]\n",
    "js_pattern     = [{'LOWER': {'IN': ['js', 'javascript']}}]\n",
    "\n",
    "cpp_pattern    = [{'LOWER': 'c++'}]\n",
    "\n",
    "\n",
    "versioned_languages = ['ruby', 'php', 'python', 'perl', 'java', 'haskell', \n",
    "                       'scala', 'c', 'cpp', 'matlab', 'bash', 'delphi']\n",
    "flatten = lambda l: [item for sublist in l for item in sublist]\n",
    "versioned_patterns = flatten([create_versioned(lang) for lang in versioned_languages])\n",
    "\n",
    "matcher = Matcher(nlp.vocab, validate=True)\n",
    "matcher.add(\"PROG_LANG\", None, \n",
    "            obj_c_pattern1, obj_c_pattern2,\n",
    "            go_pattern1, go_pattern2,\n",
    "            lisp_pattern1, lisp_pattern2,\n",
    "            csharp_pattern1, csharp_pattern2, csharp_pattern3,\n",
    "            fsharp_pattern1, fsharp_pattern2, fsharp_pattern3,\n",
    "            html_pattern, css_pattern, sql_pattern, js_pattern,\n",
    "            cpp_pattern, *versioned_patterns)"
   ]
  },
  {
   "cell_type": "markdown",
   "metadata": {},
   "source": [
    "### On to evaluating"
   ]
  },
  {
   "cell_type": "code",
   "execution_count": 29,
   "metadata": {},
   "outputs": [],
   "source": [
    "import numpy as np\n",
    "from sklearn.metrics import confusion_matrix, classification_report\n",
    "\n",
    "label_df = (pd.read_excel('label.xltx')[['Title', 'Label']]\n",
    " .iloc[:90]\n",
    " .assign(Pred=lambda d: [len(matcher(d)) > 0 for d in nlp.pipe(d['Title'])])\n",
    " .assign(Label=lambda d: d['Label'].astype(np.int8))\n",
    " .assign(Pred=lambda d: d['Pred'].astype(np.int8)))"
   ]
  },
  {
   "cell_type": "markdown",
   "metadata": {},
   "source": [
    "### Confusion Matrix"
   ]
  },
  {
   "cell_type": "code",
   "execution_count": 30,
   "metadata": {},
   "outputs": [
    {
     "data": {
      "text/plain": [
       "array([[54,  5],\n",
       "       [13, 18]])"
      ]
     },
     "execution_count": 30,
     "metadata": {},
     "output_type": "execute_result"
    }
   ],
   "source": [
    "confusion_matrix(label_df['Label'], label_df['Pred'])"
   ]
  },
  {
   "cell_type": "code",
   "execution_count": 31,
   "metadata": {},
   "outputs": [
    {
     "name": "stdout",
     "output_type": "stream",
     "text": [
      "              precision    recall  f1-score   support\n",
      "\n",
      "           0       0.81      0.92      0.86        59\n",
      "           1       0.78      0.58      0.67        31\n",
      "\n",
      "    accuracy                           0.80        90\n",
      "   macro avg       0.79      0.75      0.76        90\n",
      "weighted avg       0.80      0.80      0.79        90\n",
      "\n"
     ]
    }
   ],
   "source": [
    "print(classification_report(label_df['Label'], label_df['Pred']))"
   ]
  },
  {
   "cell_type": "markdown",
   "metadata": {},
   "source": [
    "One reason of bad results for class 1 is that I have added SQL and ASP.NET as 1 and spacy might not read it as programming language."
   ]
  },
  {
   "cell_type": "markdown",
   "metadata": {},
   "source": [
    "# 6)-Machine learning approach"
   ]
  },
  {
   "cell_type": "code",
   "execution_count": 32,
   "metadata": {},
   "outputs": [],
   "source": [
    "label=pd.read_excel('label.xltx', index_col=0)"
   ]
  },
  {
   "cell_type": "code",
   "execution_count": 33,
   "metadata": {},
   "outputs": [
    {
     "data": {
      "text/html": [
       "<div>\n",
       "<style scoped>\n",
       "    .dataframe tbody tr th:only-of-type {\n",
       "        vertical-align: middle;\n",
       "    }\n",
       "\n",
       "    .dataframe tbody tr th {\n",
       "        vertical-align: top;\n",
       "    }\n",
       "\n",
       "    .dataframe thead th {\n",
       "        text-align: right;\n",
       "    }\n",
       "</style>\n",
       "<table border=\"1\" class=\"dataframe\">\n",
       "  <thead>\n",
       "    <tr style=\"text-align: right;\">\n",
       "      <th></th>\n",
       "      <th>Id</th>\n",
       "      <th>Title</th>\n",
       "      <th>Label</th>\n",
       "    </tr>\n",
       "  </thead>\n",
       "  <tbody>\n",
       "    <tr>\n",
       "      <th>0</th>\n",
       "      <td>80</td>\n",
       "      <td>SQLStatement.execute() - multiple queries in o...</td>\n",
       "      <td>1</td>\n",
       "    </tr>\n",
       "    <tr>\n",
       "      <th>1</th>\n",
       "      <td>90</td>\n",
       "      <td>Good branching and merging tutorials for Torto...</td>\n",
       "      <td>0</td>\n",
       "    </tr>\n",
       "    <tr>\n",
       "      <th>2</th>\n",
       "      <td>120</td>\n",
       "      <td>ASP.NET Site Maps</td>\n",
       "      <td>0</td>\n",
       "    </tr>\n",
       "    <tr>\n",
       "      <th>3</th>\n",
       "      <td>180</td>\n",
       "      <td>Function for creating color wheels</td>\n",
       "      <td>0</td>\n",
       "    </tr>\n",
       "    <tr>\n",
       "      <th>4</th>\n",
       "      <td>260</td>\n",
       "      <td>Adding scripting functionality to .NET applica...</td>\n",
       "      <td>1</td>\n",
       "    </tr>\n",
       "  </tbody>\n",
       "</table>\n",
       "</div>"
      ],
      "text/plain": [
       "    Id                                              Title  Label\n",
       "0   80  SQLStatement.execute() - multiple queries in o...      1\n",
       "1   90  Good branching and merging tutorials for Torto...      0\n",
       "2  120                                  ASP.NET Site Maps      0\n",
       "3  180                 Function for creating color wheels      0\n",
       "4  260  Adding scripting functionality to .NET applica...      1"
      ]
     },
     "execution_count": 33,
     "metadata": {},
     "output_type": "execute_result"
    }
   ],
   "source": [
    "label.head()"
   ]
  },
  {
   "cell_type": "code",
   "execution_count": 34,
   "metadata": {},
   "outputs": [],
   "source": [
    "X=label.Title\n",
    "y=label.Label"
   ]
  },
  {
   "cell_type": "code",
   "execution_count": 35,
   "metadata": {},
   "outputs": [
    {
     "name": "stdout",
     "output_type": "stream",
     "text": [
      "(500,)\n",
      "(500,)\n"
     ]
    }
   ],
   "source": [
    "print(X.shape)\n",
    "print(y.shape)"
   ]
  },
  {
   "cell_type": "code",
   "execution_count": 36,
   "metadata": {},
   "outputs": [],
   "source": [
    "from sklearn.linear_model import LogisticRegression \n",
    "from sklearn.model_selection import train_test_split \n",
    "from sklearn.metrics import f1_score, accuracy_score, roc_curve,roc_auc_score,confusion_matrix, classification_report"
   ]
  },
  {
   "cell_type": "code",
   "execution_count": 37,
   "metadata": {},
   "outputs": [],
   "source": [
    "# splitting data into training and test set\n",
    "x_train, x_test, y_train, y_test = train_test_split(X, y,random_state=42,test_size=0.1)"
   ]
  },
  {
   "cell_type": "code",
   "execution_count": 38,
   "metadata": {},
   "outputs": [
    {
     "name": "stdout",
     "output_type": "stream",
     "text": [
      "(450,)\n",
      "(50,)\n",
      "(450,)\n",
      "(50,)\n"
     ]
    }
   ],
   "source": [
    "print(x_train.shape)\n",
    "print(x_test.shape)\n",
    "print(y_train.shape)\n",
    "print(y_test.shape)"
   ]
  },
  {
   "cell_type": "markdown",
   "metadata": {},
   "source": [
    "### 6.1)- Vectorization"
   ]
  },
  {
   "cell_type": "code",
   "execution_count": 39,
   "metadata": {},
   "outputs": [],
   "source": [
    "from sklearn.feature_extraction.text import CountVectorizer"
   ]
  },
  {
   "cell_type": "code",
   "execution_count": 40,
   "metadata": {},
   "outputs": [],
   "source": [
    "bow_vectorizer = CountVectorizer(max_df=0.90, min_df=2, max_features=300, stop_words='english')\n",
    "# bag-of-words feature matrix\n",
    "bow_train = bow_vectorizer.fit_transform(x_train)"
   ]
  },
  {
   "cell_type": "code",
   "execution_count": 41,
   "metadata": {},
   "outputs": [
    {
     "data": {
      "text/plain": [
       "(450, 300)"
      ]
     },
     "execution_count": 41,
     "metadata": {},
     "output_type": "execute_result"
    }
   ],
   "source": [
    "bow_train.shape"
   ]
  },
  {
   "cell_type": "code",
   "execution_count": 42,
   "metadata": {},
   "outputs": [
    {
     "data": {
      "text/plain": [
       "<50x300 sparse matrix of type '<class 'numpy.int64'>'\n",
       "\twith 126 stored elements in Compressed Sparse Row format>"
      ]
     },
     "execution_count": 42,
     "metadata": {},
     "output_type": "execute_result"
    }
   ],
   "source": [
    "#We shall also apply vectorization by only using .transform\n",
    "\n",
    "bow_test = bow_vectorizer.transform(x_test)\n",
    "bow_test"
   ]
  },
  {
   "cell_type": "code",
   "execution_count": 43,
   "metadata": {},
   "outputs": [
    {
     "data": {
      "text/plain": [
       "<50x300 sparse matrix of type '<class 'numpy.int64'>'\n",
       "\twith 126 stored elements in Compressed Sparse Row format>"
      ]
     },
     "execution_count": 43,
     "metadata": {},
     "output_type": "execute_result"
    }
   ],
   "source": [
    "bow_test"
   ]
  },
  {
   "cell_type": "code",
   "execution_count": 44,
   "metadata": {},
   "outputs": [
    {
     "name": "stdout",
     "output_type": "stream",
     "text": [
      "<class 'scipy.sparse.csr.csr_matrix'>\n",
      "<class 'scipy.sparse.csr.csr_matrix'>\n"
     ]
    }
   ],
   "source": [
    "print(type(bow_train))\n",
    "print(type(bow_test))"
   ]
  },
  {
   "cell_type": "markdown",
   "metadata": {},
   "source": [
    "**Converting sparse to dense matrix**"
   ]
  },
  {
   "cell_type": "code",
   "execution_count": 45,
   "metadata": {},
   "outputs": [
    {
     "data": {
      "text/plain": [
       "<450x300 sparse matrix of type '<class 'numpy.int64'>'\n",
       "\twith 1252 stored elements in Compressed Sparse Row format>"
      ]
     },
     "execution_count": 45,
     "metadata": {},
     "output_type": "execute_result"
    }
   ],
   "source": [
    "bow_train"
   ]
  },
  {
   "cell_type": "code",
   "execution_count": 46,
   "metadata": {},
   "outputs": [],
   "source": [
    "bow_train=bow_train.toarray()"
   ]
  },
  {
   "cell_type": "code",
   "execution_count": 47,
   "metadata": {},
   "outputs": [
    {
     "data": {
      "text/plain": [
       "numpy.ndarray"
      ]
     },
     "execution_count": 47,
     "metadata": {},
     "output_type": "execute_result"
    }
   ],
   "source": [
    "type(bow_train)"
   ]
  },
  {
   "cell_type": "code",
   "execution_count": 48,
   "metadata": {},
   "outputs": [
    {
     "data": {
      "text/plain": [
       "array([[0, 0, 0, ..., 0, 0, 0],\n",
       "       [0, 0, 0, ..., 0, 0, 0],\n",
       "       [0, 0, 0, ..., 0, 0, 0],\n",
       "       ...,\n",
       "       [0, 0, 0, ..., 0, 0, 0],\n",
       "       [0, 0, 0, ..., 0, 0, 0],\n",
       "       [0, 0, 0, ..., 0, 0, 0]])"
      ]
     },
     "execution_count": 48,
     "metadata": {},
     "output_type": "execute_result"
    }
   ],
   "source": [
    "bow_train"
   ]
  },
  {
   "cell_type": "code",
   "execution_count": 49,
   "metadata": {},
   "outputs": [],
   "source": [
    "bow_test=bow_test.toarray()"
   ]
  },
  {
   "cell_type": "code",
   "execution_count": 50,
   "metadata": {},
   "outputs": [
    {
     "data": {
      "text/plain": [
       "array([[0, 0, 0, ..., 0, 0, 0],\n",
       "       [0, 0, 0, ..., 0, 0, 0],\n",
       "       [0, 0, 0, ..., 0, 0, 0],\n",
       "       ...,\n",
       "       [0, 0, 0, ..., 0, 0, 0],\n",
       "       [0, 0, 0, ..., 0, 0, 0],\n",
       "       [0, 0, 0, ..., 0, 0, 0]])"
      ]
     },
     "execution_count": 50,
     "metadata": {},
     "output_type": "execute_result"
    }
   ],
   "source": [
    "bow_test"
   ]
  },
  {
   "cell_type": "markdown",
   "metadata": {},
   "source": [
    "### 6.2)- Applying Logistic Model "
   ]
  },
  {
   "cell_type": "code",
   "execution_count": 51,
   "metadata": {},
   "outputs": [
    {
     "data": {
      "text/plain": [
       "LogisticRegression(C=1.0, class_weight=None, dual=False, fit_intercept=True,\n",
       "                   intercept_scaling=1, l1_ratio=None, max_iter=100,\n",
       "                   multi_class='warn', n_jobs=None, penalty='l2',\n",
       "                   random_state=None, solver='liblinear', tol=0.0001, verbose=0,\n",
       "                   warm_start=False)"
      ]
     },
     "execution_count": 51,
     "metadata": {},
     "output_type": "execute_result"
    }
   ],
   "source": [
    "lreg = LogisticRegression(solver='liblinear')\n",
    "\n",
    "# training the model\n",
    "lreg.fit(bow_train, y_train)"
   ]
  },
  {
   "cell_type": "code",
   "execution_count": 52,
   "metadata": {},
   "outputs": [
    {
     "data": {
      "text/plain": [
       "array([[0, 0, 0, ..., 0, 0, 0],\n",
       "       [0, 0, 0, ..., 0, 0, 0],\n",
       "       [0, 0, 0, ..., 0, 0, 0],\n",
       "       ...,\n",
       "       [0, 0, 0, ..., 0, 0, 0],\n",
       "       [0, 0, 0, ..., 0, 0, 0],\n",
       "       [0, 0, 0, ..., 0, 0, 0]])"
      ]
     },
     "execution_count": 52,
     "metadata": {},
     "output_type": "execute_result"
    }
   ],
   "source": [
    "bow_test"
   ]
  },
  {
   "cell_type": "code",
   "execution_count": 53,
   "metadata": {},
   "outputs": [
    {
     "data": {
      "text/plain": [
       "(50, 300)"
      ]
     },
     "execution_count": 53,
     "metadata": {},
     "output_type": "execute_result"
    }
   ],
   "source": [
    "bow_test.shape"
   ]
  },
  {
   "cell_type": "markdown",
   "metadata": {},
   "source": [
    "### 6.3)-Predicting results"
   ]
  },
  {
   "cell_type": "code",
   "execution_count": 54,
   "metadata": {},
   "outputs": [
    {
     "data": {
      "text/plain": [
       "array([0, 0, 1, 0, 0, 0, 1, 1, 0, 0, 0, 0, 0, 0, 0, 1, 0, 0, 1, 0, 0, 0,\n",
       "       0, 1, 0, 0, 0, 1, 0, 0, 0, 0, 0, 0, 1, 0, 0, 0, 0, 0, 0, 0, 0, 0,\n",
       "       1, 0, 0, 0, 0, 0])"
      ]
     },
     "execution_count": 54,
     "metadata": {},
     "output_type": "execute_result"
    }
   ],
   "source": [
    "# predicting on the validation set\n",
    "prediction = lreg.predict(bow_test)\n",
    "prediction"
   ]
  },
  {
   "cell_type": "markdown",
   "metadata": {},
   "source": [
    "### 6.4)- Classification Report"
   ]
  },
  {
   "cell_type": "code",
   "execution_count": 55,
   "metadata": {
    "scrolled": true
   },
   "outputs": [
    {
     "name": "stdout",
     "output_type": "stream",
     "text": [
      "              precision    recall  f1-score   support\n",
      "\n",
      "           0       0.85      0.90      0.88        39\n",
      "           1       0.56      0.45      0.50        11\n",
      "\n",
      "    accuracy                           0.80        50\n",
      "   macro avg       0.70      0.68      0.69        50\n",
      "weighted avg       0.79      0.80      0.79        50\n",
      "\n"
     ]
    }
   ],
   "source": [
    "print(classification_report(y_test, prediction))"
   ]
  },
  {
   "cell_type": "markdown",
   "metadata": {},
   "source": [
    "We can see how match method of spacy and machine learning model exhibit different results. \n",
    "\n",
    "- There should be more consistent modeling\n",
    "- More cleaning of data might provide good results\n",
    "- Some better and more precise model might provide better results"
   ]
  }
 ],
 "metadata": {
  "kernelspec": {
   "display_name": "Python 3.7 (tensorflow)",
   "language": "python",
   "name": "tensorflow"
  },
  "language_info": {
   "codemirror_mode": {
    "name": "ipython",
    "version": 3
   },
   "file_extension": ".py",
   "mimetype": "text/x-python",
   "name": "python",
   "nbconvert_exporter": "python",
   "pygments_lexer": "ipython3",
   "version": "3.7.5"
  }
 },
 "nbformat": 4,
 "nbformat_minor": 2
}
