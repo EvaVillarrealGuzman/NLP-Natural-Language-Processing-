{
 "cells": [
  {
   "cell_type": "code",
   "execution_count": 1,
   "metadata": {},
   "outputs": [],
   "source": [
    "import pandas as pd"
   ]
  },
  {
   "cell_type": "code",
   "execution_count": 3,
   "metadata": {
    "scrolled": true
   },
   "outputs": [
    {
     "data": {
      "text/html": [
       "<div>\n",
       "<style scoped>\n",
       "    .dataframe tbody tr th:only-of-type {\n",
       "        vertical-align: middle;\n",
       "    }\n",
       "\n",
       "    .dataframe tbody tr th {\n",
       "        vertical-align: top;\n",
       "    }\n",
       "\n",
       "    .dataframe thead th {\n",
       "        text-align: right;\n",
       "    }\n",
       "</style>\n",
       "<table border=\"1\" class=\"dataframe\">\n",
       "  <thead>\n",
       "    <tr style=\"text-align: right;\">\n",
       "      <th></th>\n",
       "      <th>text</th>\n",
       "      <th>predicted_class</th>\n",
       "      <th>probability</th>\n",
       "    </tr>\n",
       "  </thead>\n",
       "  <tbody>\n",
       "    <tr>\n",
       "      <th>0</th>\n",
       "      <td>tvletwgzkrqvuhtwamuluhpkskpmpmiwtvuhamqvmviwlr...</td>\n",
       "      <td>6</td>\n",
       "      <td>0.623771</td>\n",
       "    </tr>\n",
       "    <tr>\n",
       "      <th>1</th>\n",
       "      <td>qvmvuhskleenmvviengzxyuhqvmvamguuhrakrpmsauhul...</td>\n",
       "      <td>1</td>\n",
       "      <td>0.437562</td>\n",
       "    </tr>\n",
       "    <tr>\n",
       "      <th>2</th>\n",
       "      <td>twamuhulenamuluhskvienuhqgdftwmvmkletwulvimvuh...</td>\n",
       "      <td>10</td>\n",
       "      <td>0.538636</td>\n",
       "    </tr>\n",
       "    <tr>\n",
       "      <th>3</th>\n",
       "      <td>sooatwqvvitwqvvipmviuhoaampmpmmwuhuhraulvikrpm...</td>\n",
       "      <td>8</td>\n",
       "      <td>0.999352</td>\n",
       "    </tr>\n",
       "    <tr>\n",
       "      <th>4</th>\n",
       "      <td>lepmuhpmdfuluhtwletwdfuhtwletwamguuhuhraezpmpm...</td>\n",
       "      <td>4</td>\n",
       "      <td>0.611269</td>\n",
       "    </tr>\n",
       "  </tbody>\n",
       "</table>\n",
       "</div>"
      ],
      "text/plain": [
       "                                                text  predicted_class  \\\n",
       "0  tvletwgzkrqvuhtwamuluhpkskpmpmiwtvuhamqvmviwlr...                6   \n",
       "1  qvmvuhskleenmvviengzxyuhqvmvamguuhrakrpmsauhul...                1   \n",
       "2  twamuhulenamuluhskvienuhqgdftwmvmkletwulvimvuh...               10   \n",
       "3  sooatwqvvitwqvvipmviuhoaampmpmmwuhuhraulvikrpm...                8   \n",
       "4  lepmuhpmdfuluhtwletwdfuhtwletwamguuhuhraezpmpm...                4   \n",
       "\n",
       "   probability  \n",
       "0     0.623771  \n",
       "1     0.437562  \n",
       "2     0.538636  \n",
       "3     0.999352  \n",
       "4     0.611269  "
      ]
     },
     "execution_count": 3,
     "metadata": {},
     "output_type": "execute_result"
    }
   ],
   "source": [
    "data_xtest=pd.read_csv('result.csv')\n",
    "data_xtest.head()"
   ]
  },
  {
   "cell_type": "code",
   "execution_count": 4,
   "metadata": {},
   "outputs": [],
   "source": [
    "y_test=data_xtest.predicted_class"
   ]
  },
  {
   "cell_type": "code",
   "execution_count": 5,
   "metadata": {},
   "outputs": [
    {
     "data": {
      "text/plain": [
       "0     6\n",
       "1     1\n",
       "2    10\n",
       "3     8\n",
       "4     4\n",
       "Name: predicted_class, dtype: int64"
      ]
     },
     "execution_count": 5,
     "metadata": {},
     "output_type": "execute_result"
    }
   ],
   "source": [
    "y_test[:5]"
   ]
  },
  {
   "cell_type": "code",
   "execution_count": 6,
   "metadata": {},
   "outputs": [],
   "source": [
    "y_test.to_csv('ytest.txt', header=True, index=False, sep='\\t', mode='a')"
   ]
  }
 ],
 "metadata": {
  "kernelspec": {
   "display_name": "Python 3",
   "language": "python",
   "name": "python3"
  },
  "language_info": {
   "codemirror_mode": {
    "name": "ipython",
    "version": 3
   },
   "file_extension": ".py",
   "mimetype": "text/x-python",
   "name": "python",
   "nbconvert_exporter": "python",
   "pygments_lexer": "ipython3",
   "version": "3.6.5"
  }
 },
 "nbformat": 4,
 "nbformat_minor": 2
}
