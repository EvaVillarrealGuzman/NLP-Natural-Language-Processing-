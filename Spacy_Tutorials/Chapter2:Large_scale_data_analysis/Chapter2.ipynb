{
  "nbformat": 4,
  "nbformat_minor": 0,
  "metadata": {
    "colab": {
      "name": "Chapter2.ipynb",
      "provenance": [],
      "collapsed_sections": []
    },
    "kernelspec": {
      "name": "python3",
      "display_name": "Python 3"
    }
  },
  "cells": [
    {
      "cell_type": "markdown",
      "metadata": {
        "id": "YpFfwpFuoBPj",
        "colab_type": "text"
      },
      "source": [
        "# Chapter 2: Large scale data analysis with Spacy\n",
        "\n",
        "- https://course.spacy.io/chapter2"
      ]
    },
    {
      "cell_type": "markdown",
      "metadata": {
        "id": "F2JDWrBYpRXH",
        "colab_type": "text"
      },
      "source": [
        "# 1)- Data Structures"
      ]
    },
    {
      "cell_type": "code",
      "metadata": {
        "id": "2cODT6eurhVF",
        "colab_type": "code",
        "colab": {}
      },
      "source": [
        "# import key modules related to text data\n",
        "import spacy\n",
        "from spacy.lang.en import English"
      ],
      "execution_count": 0,
      "outputs": []
    },
    {
      "cell_type": "code",
      "metadata": {
        "id": "jB7-ddzor-GL",
        "colab_type": "code",
        "colab": {}
      },
      "source": [
        "\n",
        "# Create the nlp object\n",
        "nlp = English()"
      ],
      "execution_count": 0,
      "outputs": []
    },
    {
      "cell_type": "code",
      "metadata": {
        "id": "pX2SZQ4AooEL",
        "colab_type": "code",
        "colab": {
          "base_uri": "https://localhost:8080/",
          "height": 34
        },
        "outputId": "72be62a2-094f-42b5-fdfe-ada8e26e8f35"
      },
      "source": [
        "doc = nlp(\"I love coffee\")\n",
        "print('hash value:', nlp.vocab.strings['coffee'])"
      ],
      "execution_count": 3,
      "outputs": [
        {
          "output_type": "stream",
          "text": [
            "hash value: 3197928453018144401\n"
          ],
          "name": "stdout"
        }
      ]
    },
    {
      "cell_type": "code",
      "metadata": {
        "id": "_wJIYgTmooHl",
        "colab_type": "code",
        "colab": {
          "base_uri": "https://localhost:8080/",
          "height": 34
        },
        "outputId": "bf607a18-b28a-4fe5-9701-44516841668a"
      },
      "source": [
        "print('string value:', nlp.vocab.strings[3197928453018144401])"
      ],
      "execution_count": 4,
      "outputs": [
        {
          "output_type": "stream",
          "text": [
            "string value: coffee\n"
          ],
          "name": "stdout"
        }
      ]
    },
    {
      "cell_type": "code",
      "metadata": {
        "id": "W5WXEZHNtwUF",
        "colab_type": "code",
        "colab": {}
      },
      "source": [
        "doc = nlp(\"I love coffee\")\n",
        "lexeme = nlp.vocab['coffee']"
      ],
      "execution_count": 0,
      "outputs": []
    },
    {
      "cell_type": "code",
      "metadata": {
        "id": "7GckMWZkooKk",
        "colab_type": "code",
        "colab": {
          "base_uri": "https://localhost:8080/",
          "height": 34
        },
        "outputId": "c731e79a-31d7-4f10-c933-b7b90cd76354"
      },
      "source": [
        "# Print the lexical attributes\n",
        "print(lexeme.text, lexeme.orth, lexeme.is_alpha)"
      ],
      "execution_count": 6,
      "outputs": [
        {
          "output_type": "stream",
          "text": [
            "coffee 3197928453018144401 True\n"
          ],
          "name": "stdout"
        }
      ]
    },
    {
      "cell_type": "markdown",
      "metadata": {
        "id": "SG8BExeGuRdC",
        "colab_type": "text"
      },
      "source": [
        "- Word text: lexeme.text and lexeme.orth (the hash)\n",
        "- Lexical attributes like lexeme.is_alpha\n",
        "- Not context-dependent part-of-speech tags, dependencies or entity labels"
      ]
    },
    {
      "cell_type": "markdown",
      "metadata": {
        "id": "I7NibsC1wRg6",
        "colab_type": "text"
      },
      "source": [
        "### Part-1:Strings to hash"
      ]
    },
    {
      "cell_type": "code",
      "metadata": {
        "id": "yYlo0T2XooNx",
        "colab_type": "code",
        "colab": {
          "base_uri": "https://localhost:8080/",
          "height": 51
        },
        "outputId": "502691ce-3d72-4e0b-8867-19f7ab346555"
      },
      "source": [
        "import spacy\n",
        "\n",
        "nlp = spacy.load(\"en_core_web_sm\")\n",
        "doc = nlp(\"I have a cat\")\n",
        "\n",
        "# Look up the hash for the word \"cat\"\n",
        "cat_hash = nlp.vocab.strings['cat']\n",
        "print(cat_hash)\n",
        "\n",
        "# Look up the cat_hash to get the string\n",
        "cat_string =nlp.vocab.strings[cat_hash]\n",
        "print(cat_string)"
      ],
      "execution_count": 7,
      "outputs": [
        {
          "output_type": "stream",
          "text": [
            "5439657043933447811\n",
            "cat\n"
          ],
          "name": "stdout"
        }
      ]
    },
    {
      "cell_type": "markdown",
      "metadata": {
        "id": "BlONkLUzysaY",
        "colab_type": "text"
      },
      "source": [
        "### Part-2"
      ]
    },
    {
      "cell_type": "code",
      "metadata": {
        "id": "abqudDFUooZ6",
        "colab_type": "code",
        "colab": {
          "base_uri": "https://localhost:8080/",
          "height": 51
        },
        "outputId": "cc1c2485-7293-4e10-a7b9-9a25640ba470"
      },
      "source": [
        "import spacy\n",
        "\n",
        "nlp = spacy.load(\"en_core_web_sm\")\n",
        "doc = nlp(\"David Bowie is a PERSON\")\n",
        "\n",
        "# Look up the hash for the string label \"PERSON\"\n",
        "person_hash = nlp.vocab.strings['PERSON']\n",
        "print(person_hash)\n",
        "\n",
        "# Look up the person_hash to get the string\n",
        "person_string = nlp.vocab.strings[person_hash]\n",
        "print(person_string)"
      ],
      "execution_count": 8,
      "outputs": [
        {
          "output_type": "stream",
          "text": [
            "380\n",
            "PERSON\n"
          ],
          "name": "stdout"
        }
      ]
    },
    {
      "cell_type": "markdown",
      "metadata": {
        "id": "mQgUA6uM2tug",
        "colab_type": "text"
      },
      "source": [
        "# 2)- Data Structures (2) : Doc , span and Token"
      ]
    },
    {
      "cell_type": "code",
      "metadata": {
        "id": "JEDjl9jZx6QG",
        "colab_type": "code",
        "colab": {}
      },
      "source": [
        "# Create an nlp object\n",
        "from spacy.lang.en import English\n",
        "nlp = English()\n",
        "\n",
        "# Import the Doc class\n",
        "from spacy.tokens import Doc\n",
        "\n",
        "# The words and spaces to create the doc from\n",
        "words = ['Hello', 'world', '!']\n",
        "spaces = [False, True, False]\n",
        "\n",
        "# Create a doc manually\n",
        "doc = Doc(nlp.vocab, words=words, spaces=spaces)"
      ],
      "execution_count": 0,
      "outputs": []
    },
    {
      "cell_type": "code",
      "metadata": {
        "id": "olo8Fsipx6ZW",
        "colab_type": "code",
        "colab": {
          "base_uri": "https://localhost:8080/",
          "height": 34
        },
        "outputId": "55fd10a0-7f81-4a3f-8003-c3af8c20ec6b"
      },
      "source": [
        "print(doc)"
      ],
      "execution_count": 10,
      "outputs": [
        {
          "output_type": "stream",
          "text": [
            "Helloworld !\n"
          ],
          "name": "stdout"
        }
      ]
    },
    {
      "cell_type": "markdown",
      "metadata": {
        "id": "K3nNCiG04IjZ",
        "colab_type": "text"
      },
      "source": [
        "### Span Object"
      ]
    },
    {
      "cell_type": "code",
      "metadata": {
        "id": "QtZeueOQx6h4",
        "colab_type": "code",
        "colab": {
          "base_uri": "https://localhost:8080/",
          "height": 34
        },
        "outputId": "bd3be539-f2c4-4e6c-c45e-40ecd8e19508"
      },
      "source": [
        "# Import the Doc and Span classes\n",
        "from spacy.tokens import Doc, Span\n",
        "\n",
        "# The words and spaces to create the doc from\n",
        "words = ['Hello', 'world', '!']\n",
        "spaces = [True, False, False]\n",
        "\n",
        "# Create a doc manually\n",
        "doc = Doc(nlp.vocab, words=words, spaces=spaces)\n",
        "\n",
        "print(doc)"
      ],
      "execution_count": 11,
      "outputs": [
        {
          "output_type": "stream",
          "text": [
            "Hello world!\n"
          ],
          "name": "stdout"
        }
      ]
    },
    {
      "cell_type": "code",
      "metadata": {
        "id": "m-7K_zdvx6tW",
        "colab_type": "code",
        "colab": {
          "base_uri": "https://localhost:8080/",
          "height": 34
        },
        "outputId": "e6de3c7a-f3e2-42a1-8c5b-4ab48d63f6bc"
      },
      "source": [
        "# Create a span manually\n",
        "span = Span(doc, 0, 2)\n",
        "\n",
        "print(span)"
      ],
      "execution_count": 12,
      "outputs": [
        {
          "output_type": "stream",
          "text": [
            "Hello world\n"
          ],
          "name": "stdout"
        }
      ]
    },
    {
      "cell_type": "code",
      "metadata": {
        "id": "YmJQs0Nqx61A",
        "colab_type": "code",
        "colab": {
          "base_uri": "https://localhost:8080/",
          "height": 34
        },
        "outputId": "1cd12a34-1598-4a61-e616-2b7b48551450"
      },
      "source": [
        "# Create a span with a label\n",
        "span_with_label = Span(doc, 0, 2, label=\"GREETING\")\n",
        "\n",
        "print(span_with_label)"
      ],
      "execution_count": 13,
      "outputs": [
        {
          "output_type": "stream",
          "text": [
            "Hello world\n"
          ],
          "name": "stdout"
        }
      ]
    },
    {
      "cell_type": "code",
      "metadata": {
        "id": "WbPCAPjd5Kc0",
        "colab_type": "code",
        "colab": {
          "base_uri": "https://localhost:8080/",
          "height": 34
        },
        "outputId": "65a3df7a-f34d-4e4e-dbcf-dd182fcdf8a4"
      },
      "source": [
        "\n",
        "# Add span to the doc.ents\n",
        "doc.ents = [span_with_label]\n",
        "\n",
        "print(span_with_label)"
      ],
      "execution_count": 14,
      "outputs": [
        {
          "output_type": "stream",
          "text": [
            "Hello world\n"
          ],
          "name": "stdout"
        }
      ]
    },
    {
      "cell_type": "markdown",
      "metadata": {
        "id": "hRp6H7Xc7SMi",
        "colab_type": "text"
      },
      "source": [
        "### Part 1:"
      ]
    },
    {
      "cell_type": "code",
      "metadata": {
        "id": "VSORdq8y5Uyj",
        "colab_type": "code",
        "colab": {
          "base_uri": "https://localhost:8080/",
          "height": 34
        },
        "outputId": "20daa64a-57a8-4016-849d-e5ce611ddeb0"
      },
      "source": [
        "# Import the Doc class\n",
        "from spacy.tokens import Doc\n",
        "\n",
        "# Desired text: \"spaCy is cool!\"\n",
        "words = [\"spaCy\", \"is\", \"cool\", \"!\"]\n",
        "spaces = [True, True, False, False]\n",
        "\n",
        "# Create a Doc from the words and spaces\n",
        "doc = Doc(nlp.vocab, words=words, spaces=spaces)\n",
        "print(doc.text)"
      ],
      "execution_count": 15,
      "outputs": [
        {
          "output_type": "stream",
          "text": [
            "spaCy is cool!\n"
          ],
          "name": "stdout"
        }
      ]
    },
    {
      "cell_type": "markdown",
      "metadata": {
        "id": "LEVv38ZJ85N9",
        "colab_type": "text"
      },
      "source": [
        "### Part 2:\n",
        "\n",
        "- Import the Doc from spacy.tokens.\n",
        "- Create a Doc from the words and spaces. Don’t forget to pass in the vocab!"
      ]
    },
    {
      "cell_type": "code",
      "metadata": {
        "id": "VWGe3ug47VR8",
        "colab_type": "code",
        "colab": {
          "base_uri": "https://localhost:8080/",
          "height": 34
        },
        "outputId": "cf88d335-b32d-4596-a246-6cd357543e71"
      },
      "source": [
        "import spacy\n",
        "\n",
        "nlp = spacy.load(\"en_core_web_sm\")\n",
        "\n",
        "# Import the Doc class\n",
        "from spacy.tokens import Doc\n",
        "\n",
        "# Desired text: \"Go, get started!\"\n",
        "words = [\"Go\", \",\", \"get\", \"started\", \"!\"]\n",
        "spaces = [False, True, True, False, False]\n",
        "\n",
        "# Create a Doc from the words and spaces\n",
        "doc = Doc(nlp.vocab, words=words, spaces=spaces)\n",
        "print(doc.text)"
      ],
      "execution_count": 17,
      "outputs": [
        {
          "output_type": "stream",
          "text": [
            "Go, get started!\n"
          ],
          "name": "stdout"
        }
      ]
    },
    {
      "cell_type": "markdown",
      "metadata": {
        "id": "UMZ1PRMD9upA",
        "colab_type": "text"
      },
      "source": [
        "### Part 3\n",
        "\n",
        "- Import the Doc from spacy.tokens.\n",
        "- Complete the words and spaces to match the desired text and create a doc."
      ]
    },
    {
      "cell_type": "code",
      "metadata": {
        "id": "I_c7JF0A9Gj0",
        "colab_type": "code",
        "colab": {
          "base_uri": "https://localhost:8080/",
          "height": 34
        },
        "outputId": "f3bce92c-94c2-49ae-ef40-711b457eeac7"
      },
      "source": [
        "# Import the Doc class\n",
        "from spacy.tokens import Doc\n",
        "\n",
        "# Desired text: \"Oh, really?!\"\n",
        "words = [\"Oh\", \",\", \"really\", \"?\", \"!\"]\n",
        "spaces = [False, True, False, False, False]\n",
        "\n",
        "# Create a Doc from the words and spaces\n",
        "doc = Doc(nlp.vocab, words=words, spaces=spaces)\n",
        "print(doc.text)"
      ],
      "execution_count": 18,
      "outputs": [
        {
          "output_type": "stream",
          "text": [
            "Oh, really?!\n"
          ],
          "name": "stdout"
        }
      ]
    },
    {
      "cell_type": "markdown",
      "metadata": {
        "id": "FBHwjTZt_Q-d",
        "colab_type": "text"
      },
      "source": [
        "# 3)- Docs, spans and entities from scratch\n",
        "\n",
        "\n",
        "- Use the Doc class directly to create a doc from the words and spaces.\n",
        "- Create a Span for “David Bowie” from the doc and assign it the label \"PERSON\".\n",
        "- Overwrite the doc.ents with a list of one entity, the “David Bowie” span."
      ]
    },
    {
      "cell_type": "code",
      "metadata": {
        "id": "wa4xsyI4904y",
        "colab_type": "code",
        "colab": {
          "base_uri": "https://localhost:8080/",
          "height": 68
        },
        "outputId": "ecb8763b-19f5-4aac-d8d9-24f9f269dd56"
      },
      "source": [
        "from spacy.lang.en import English\n",
        "\n",
        "nlp = English()\n",
        "\n",
        "# Import the Doc and Span classes\n",
        "from spacy.tokens import Doc, Span\n",
        "\n",
        "words = [\"I\", \"like\", \"David\", \"Bowie\"]\n",
        "spaces = [True, True, True, False]\n",
        "\n",
        "# Create a doc from the words and spaces\n",
        "doc = Doc(nlp.vocab, words=words, spaces=spaces)\n",
        "print(doc.text)\n",
        "\n",
        "# Create a span for \"David Bowie\" from the doc and assign it the label \"PERSON\"\n",
        "span = Span(doc, 2, 4, label=\"PERSON\")\n",
        "print(span.text, span.label_)\n",
        "\n",
        "# Add the span to the doc's entities\n",
        "doc.ents = [span]\n",
        "\n",
        "# Print entities' text and labels\n",
        "print([(ent.text, ent.label_) for ent in doc.ents])"
      ],
      "execution_count": 19,
      "outputs": [
        {
          "output_type": "stream",
          "text": [
            "I like David Bowie\n",
            "David Bowie PERSON\n",
            "[('David Bowie', 'PERSON')]\n"
          ],
          "name": "stdout"
        }
      ]
    },
    {
      "cell_type": "markdown",
      "metadata": {
        "id": "Q26AywLSDdMS",
        "colab_type": "text"
      },
      "source": [
        "# 4)- Get specific POS from text\n",
        "\n",
        "- Write code so as to analyze a text and collect all proper nouns that are followed by a verb."
      ]
    },
    {
      "cell_type": "code",
      "metadata": {
        "id": "iUqcUsn8_rXO",
        "colab_type": "code",
        "colab": {
          "base_uri": "https://localhost:8080/",
          "height": 34
        },
        "outputId": "3194d875-5738-46fe-f041-c674b4862030"
      },
      "source": [
        "import spacy\n",
        "\n",
        "nlp = spacy.load(\"en_core_web_sm\")\n",
        "doc = nlp(\"Berlin is a nice city\")\n",
        "\n",
        "# Iterate over the tokens\n",
        "for token in doc:\n",
        "    # Check if the current token is a proper noun\n",
        "    if token.pos_ == \"PROPN\":\n",
        "        # Check if the next token is a verb\n",
        "        if doc[token.i + 1].pos_ == \"VERB\":\n",
        "            print(\"Found proper noun before a verb:\", token.text)"
      ],
      "execution_count": 21,
      "outputs": [
        {
          "output_type": "stream",
          "text": [
            "Found proper noun before a verb: Berlin\n"
          ],
          "name": "stdout"
        }
      ]
    },
    {
      "cell_type": "markdown",
      "metadata": {
        "id": "mQE97eDND9Bi",
        "colab_type": "text"
      },
      "source": [
        "# 5)- Word vectors and semantic similarity"
      ]
    },
    {
      "cell_type": "markdown",
      "metadata": {
        "id": "c85sMs8nJTyI",
        "colab_type": "text"
      },
      "source": [
        "### Inspecting word vector"
      ]
    },
    {
      "cell_type": "code",
      "metadata": {
        "id": "PSvtOtRf_rb-",
        "colab_type": "code",
        "colab": {
          "base_uri": "https://localhost:8080/",
          "height": 289
        },
        "outputId": "d92630f0-2ae3-413e-d524-1c096ada9d02"
      },
      "source": [
        "import spacy\n",
        "\n",
        "# Load the en_core_web_md model\n",
        "nlp = spacy.load(\"en_core_web_sm\")\n",
        "\n",
        "# Process a text\n",
        "doc = nlp(\"Two bananas in pyjamas\")\n",
        "\n",
        "# Get the vector for the token \"bananas\"\n",
        "bananas_vector = doc[1].vector\n",
        "print(bananas_vector)"
      ],
      "execution_count": 23,
      "outputs": [
        {
          "output_type": "stream",
          "text": [
            "[ 2.1561384   0.6859281  -1.8234854   0.4145496  -0.886605    5.0773377\n",
            "  0.28650832  3.6156225  -2.627604    5.01052     2.6055033   5.4986916\n",
            " -0.82726336 -2.4128723  -1.5714562   0.67344356 -1.1230624   3.017315\n",
            "  3.4531426   2.6312394  -2.3144596   2.0717711  -0.5736556  -0.5199362\n",
            " -0.4892068   1.4417053   1.1748309   3.291245    2.7368522   2.1909308\n",
            "  2.4100504  -1.5442916  -0.81270695 -1.7967525  -2.4401696   0.96489155\n",
            " -5.071314    2.4865592  -1.1760099   1.0010973  -1.8218107   6.159581\n",
            "  5.876448   -1.9877293   6.579393    1.0499439  -1.5798447  -4.1203165\n",
            " -0.17076118 -4.819325   -2.1152763  -4.640588    1.5844907  -3.2757292\n",
            "  2.1921952  -0.47692332 -1.8678508   1.0092752   0.7716696  -0.37776387\n",
            "  0.07058215 -0.18511617  5.209738   -3.002555   -1.8404679   4.089005\n",
            " -2.0230193   1.0394226  -1.7199193   1.0383378   0.23976706 -0.67239416\n",
            "  1.3192352  -0.33726573  0.21724188 -0.5032941   0.26279616 -0.58214176\n",
            " -3.0981517  -4.9684753  -3.2268834  -4.5933228  -3.0618596  -0.02340478\n",
            "  2.299171   -3.6006322  -1.8415104  -0.14858985  1.3507223  -1.3084451\n",
            " -5.810022   -0.10575765  0.84036636  3.035629   -0.48342353 -0.67074174]\n"
          ],
          "name": "stdout"
        }
      ]
    },
    {
      "cell_type": "markdown",
      "metadata": {
        "id": "CYLK7NP-PSFT",
        "colab_type": "text"
      },
      "source": [
        "# 6)- Comparing similarity "
      ]
    },
    {
      "cell_type": "markdown",
      "metadata": {
        "id": "sSO3UmjWQV4P",
        "colab_type": "text"
      },
      "source": [
        "### Part 1:\n",
        "\n",
        "- Use the doc.similarity method to compare doc1 to doc2 and print the result."
      ]
    },
    {
      "cell_type": "code",
      "metadata": {
        "id": "gi1WIKeFR3UX",
        "colab_type": "code",
        "colab": {
          "base_uri": "https://localhost:8080/",
          "height": 221
        },
        "outputId": "62d6356f-880f-4566-feb2-df850c35221c"
      },
      "source": [
        "! python -m spacy download en_core_web_md"
      ],
      "execution_count": 30,
      "outputs": [
        {
          "output_type": "stream",
          "text": [
            "Collecting en_core_web_md==2.1.0\n",
            "\u001b[?25l  Downloading https://github.com/explosion/spacy-models/releases/download/en_core_web_md-2.1.0/en_core_web_md-2.1.0.tar.gz (95.4MB)\n",
            "\u001b[K     |████████████████████████████████| 95.4MB 1.1MB/s \n",
            "\u001b[?25hBuilding wheels for collected packages: en-core-web-md\n",
            "  Building wheel for en-core-web-md (setup.py) ... \u001b[?25l\u001b[?25hdone\n",
            "  Created wheel for en-core-web-md: filename=en_core_web_md-2.1.0-cp36-none-any.whl size=97126237 sha256=aa047a2953f18d2963a2d66d6de0d72fa2c0da79ea6abd85c32a3326f3af534c\n",
            "  Stored in directory: /tmp/pip-ephem-wheel-cache-avv1m0x3/wheels/c1/2c/5f/fd7f3ec336bf97b0809c86264d2831c5dfb00fc2e239d1bb01\n",
            "Successfully built en-core-web-md\n",
            "Installing collected packages: en-core-web-md\n",
            "Successfully installed en-core-web-md-2.1.0\n",
            "\u001b[38;5;2m✔ Download and installation successful\u001b[0m\n",
            "You can now load the model via spacy.load('en_core_web_md')\n"
          ],
          "name": "stdout"
        }
      ]
    },
    {
      "cell_type": "code",
      "metadata": {
        "id": "eXuZYfn6_rhb",
        "colab_type": "code",
        "colab": {}
      },
      "source": [
        "import spacy\n",
        "\n",
        "nlp = spacy.load(\"en_core_web_md\")\n",
        "\n",
        "doc1 = nlp(\"It's a warm summer day\")\n",
        "doc2 = nlp(\"It's sunny outside\")\n",
        "\n",
        "# Get the similarity of doc1 and doc2\n",
        "similarity = doc1.similarity(doc2)\n",
        "print(similarity)"
      ],
      "execution_count": 0,
      "outputs": []
    },
    {
      "cell_type": "markdown",
      "metadata": {
        "id": "dZgk9BPrRLEv",
        "colab_type": "text"
      },
      "source": [
        "### Part 2\n",
        "\n",
        "- Use the token.similarity method to compare token1 to token2 and print the result."
      ]
    },
    {
      "cell_type": "code",
      "metadata": {
        "id": "WzI5xsqUPbZ2",
        "colab_type": "code",
        "colab": {}
      },
      "source": [
        "import spacy\n",
        "\n",
        "nlp = spacy.load(\"en_core_web_md\")\n",
        "\n",
        "doc = nlp(\"TV and books\")\n",
        "token1, token2 = doc[0], doc[2]\n",
        "\n",
        "# Get the similarity of the tokens \"TV\" and \"books\"\n",
        "similarity = token1.similarity(token2)\n",
        "print(similarity)"
      ],
      "execution_count": 0,
      "outputs": []
    },
    {
      "cell_type": "markdown",
      "metadata": {
        "id": "xAUODA8-S8tm",
        "colab_type": "text"
      },
      "source": [
        "### Part 3\n",
        "\n",
        "- Create spans for “great restaurant”/“really nice bar”.\n",
        "- Use span.similarity to compare them and print the result."
      ]
    },
    {
      "cell_type": "code",
      "metadata": {
        "id": "0VFrThLoPbfZ",
        "colab_type": "code",
        "colab": {}
      },
      "source": [
        "import spacy\n",
        "\n",
        "nlp = spacy.load(\"en_core_web_md\")\n",
        "\n",
        "doc = nlp(\"This was a great restaurant. Afterwards, we went to a really nice bar.\")\n",
        "\n",
        "# Create spans for \"great restaurant\" and \"really nice bar\"\n",
        "span1 = doc[3:5]\n",
        "span2 = doc[12:15]\n",
        "\n",
        "# Get the similarity of the spans\n",
        "similarity = span1.similarity(span2)\n",
        "print(similarity)"
      ],
      "execution_count": 0,
      "outputs": []
    },
    {
      "cell_type": "code",
      "metadata": {
        "id": "8tQm7cy8PblW",
        "colab_type": "code",
        "colab": {}
      },
      "source": [
        ""
      ],
      "execution_count": 0,
      "outputs": []
    },
    {
      "cell_type": "code",
      "metadata": {
        "id": "Po-sTj3pPbrF",
        "colab_type": "code",
        "colab": {}
      },
      "source": [
        ""
      ],
      "execution_count": 0,
      "outputs": []
    },
    {
      "cell_type": "code",
      "metadata": {
        "id": "B9cngWVdPbw4",
        "colab_type": "code",
        "colab": {}
      },
      "source": [
        ""
      ],
      "execution_count": 0,
      "outputs": []
    },
    {
      "cell_type": "code",
      "metadata": {
        "id": "qCe4yZV0Pb22",
        "colab_type": "code",
        "colab": {}
      },
      "source": [
        ""
      ],
      "execution_count": 0,
      "outputs": []
    },
    {
      "cell_type": "code",
      "metadata": {
        "id": "GoDMHtgoPb-p",
        "colab_type": "code",
        "colab": {}
      },
      "source": [
        ""
      ],
      "execution_count": 0,
      "outputs": []
    },
    {
      "cell_type": "code",
      "metadata": {
        "id": "vri0xa6nPb9L",
        "colab_type": "code",
        "colab": {}
      },
      "source": [
        ""
      ],
      "execution_count": 0,
      "outputs": []
    },
    {
      "cell_type": "code",
      "metadata": {
        "id": "FRakwi_tPbU9",
        "colab_type": "code",
        "colab": {}
      },
      "source": [
        ""
      ],
      "execution_count": 0,
      "outputs": []
    },
    {
      "cell_type": "code",
      "metadata": {
        "id": "CbK90dD9907i",
        "colab_type": "code",
        "colab": {}
      },
      "source": [
        ""
      ],
      "execution_count": 0,
      "outputs": []
    },
    {
      "cell_type": "code",
      "metadata": {
        "id": "FWQ5oTUJ90-y",
        "colab_type": "code",
        "colab": {}
      },
      "source": [
        ""
      ],
      "execution_count": 0,
      "outputs": []
    },
    {
      "cell_type": "code",
      "metadata": {
        "id": "TYvnqt7G91BU",
        "colab_type": "code",
        "colab": {}
      },
      "source": [
        ""
      ],
      "execution_count": 0,
      "outputs": []
    },
    {
      "cell_type": "code",
      "metadata": {
        "id": "_AeTi6Oi91ES",
        "colab_type": "code",
        "colab": {}
      },
      "source": [
        ""
      ],
      "execution_count": 0,
      "outputs": []
    },
    {
      "cell_type": "code",
      "metadata": {
        "id": "5BHBPUsn91HK",
        "colab_type": "code",
        "colab": {}
      },
      "source": [
        ""
      ],
      "execution_count": 0,
      "outputs": []
    }
  ]
}