{
 "cells": [
  {
   "cell_type": "markdown",
   "metadata": {},
   "source": [
    "# Named Entity Recognition\n",
    "\n",
    "- Using Flair\n",
    "- https://medium.com/@sapphireduffy/is-flair-a-suitable-alternative-to-spacy-6f55192bfb01\n"
   ]
  },
  {
   "cell_type": "markdown",
   "metadata": {},
   "source": [
    "# 1)- Importing key modules"
   ]
  },
  {
   "cell_type": "code",
   "execution_count": 1,
   "metadata": {},
   "outputs": [],
   "source": [
    "from __future__ import unicode_literals"
   ]
  },
  {
   "cell_type": "code",
   "execution_count": 2,
   "metadata": {},
   "outputs": [],
   "source": [
    "import pandas as pd"
   ]
  },
  {
   "cell_type": "code",
   "execution_count": 3,
   "metadata": {},
   "outputs": [
    {
     "name": "stdout",
     "output_type": "stream",
     "text": [
      "2020-03-15 11:36:32,505 loading file /Users/hassansherwani/.flair/models/en-ner-ontonotes-fast-v0.4.pt\n"
     ]
    }
   ],
   "source": [
    "from flair.models import SequenceTagger\n",
    "model = SequenceTagger.load('ner-ontonotes-fast') #.load('ner')\n",
    "from flair.data import Sentence"
   ]
  },
  {
   "cell_type": "markdown",
   "metadata": {},
   "source": [
    "# 2)- Loading Sample text "
   ]
  },
  {
   "cell_type": "code",
   "execution_count": 4,
   "metadata": {},
   "outputs": [],
   "source": [
    "text=\"The Gabba remained unbreached as Australia wrapped up a win within four days, kickstarting their summer on a bright note.Pakistan, who made Australia work hard for that win on Sunday (November 24), were bowled out eventually for 355, conceding a win by an innings and 5 runs in Brisbane.This was Pakistan's fifth consecutive loss away from home, while Australia maintained their unbeaten record at the Gabba, not having lost a Test here since 1988.\""
   ]
  },
  {
   "cell_type": "code",
   "execution_count": 5,
   "metadata": {},
   "outputs": [
    {
     "data": {
      "text/plain": [
       "\"The Gabba remained unbreached as Australia wrapped up a win within four days, kickstarting their summer on a bright note.Pakistan, who made Australia work hard for that win on Sunday (November 24), were bowled out eventually for 355, conceding a win by an innings and 5 runs in Brisbane.This was Pakistan's fifth consecutive loss away from home, while Australia maintained their unbeaten record at the Gabba, not having lost a Test here since 1988.\""
      ]
     },
     "execution_count": 5,
     "metadata": {},
     "output_type": "execute_result"
    }
   ],
   "source": [
    "text"
   ]
  },
  {
   "cell_type": "code",
   "execution_count": 6,
   "metadata": {},
   "outputs": [
    {
     "data": {
      "text/plain": [
       "str"
      ]
     },
     "execution_count": 6,
     "metadata": {},
     "output_type": "execute_result"
    }
   ],
   "source": [
    "type(text)"
   ]
  },
  {
   "cell_type": "markdown",
   "metadata": {},
   "source": [
    "# 3)- Convert to flair data type"
   ]
  },
  {
   "cell_type": "code",
   "execution_count": 7,
   "metadata": {},
   "outputs": [
    {
     "data": {
      "text/plain": [
       "flair.data.Sentence"
      ]
     },
     "execution_count": 7,
     "metadata": {},
     "output_type": "execute_result"
    }
   ],
   "source": [
    "s = Sentence(text)\n",
    "type(s)"
   ]
  },
  {
   "cell_type": "markdown",
   "metadata": {},
   "source": [
    "# 4)- Make Prediction"
   ]
  },
  {
   "cell_type": "code",
   "execution_count": 8,
   "metadata": {},
   "outputs": [
    {
     "data": {
      "text/plain": [
       "[Sentence: \"The Gabba remained unbreached as Australia wrapped up a win within four days, kickstarting their summer on a bright note.Pakistan, who made Australia work hard for that win on Sunday (November 24), were bowled out eventually for 355, conceding a win by an innings and 5 runs in Brisbane.This was Pakistan's fifth consecutive loss away from home, while Australia maintained their unbeaten record at the Gabba, not having lost a Test here since 1988.\" - 74 Tokens]"
      ]
     },
     "execution_count": 8,
     "metadata": {},
     "output_type": "execute_result"
    }
   ],
   "source": [
    "model.predict(s)"
   ]
  },
  {
   "cell_type": "markdown",
   "metadata": {},
   "source": [
    "# 5)- Entity Extraction"
   ]
  },
  {
   "cell_type": "code",
   "execution_count": 9,
   "metadata": {},
   "outputs": [
    {
     "data": {
      "text/plain": [
       "{'text': \"The Gabba remained unbreached as Australia wrapped up a win within four days, kickstarting their summer on a bright note.Pakistan, who made Australia work hard for that win on Sunday (November 24), were bowled out eventually for 355, conceding a win by an innings and 5 runs in Brisbane.This was Pakistan's fifth consecutive loss away from home, while Australia maintained their unbeaten record at the Gabba, not having lost a Test here since 1988.\",\n",
       " 'labels': [],\n",
       " 'entities': [{'text': 'Gabba',\n",
       "   'start_pos': 4,\n",
       "   'end_pos': 9,\n",
       "   'type': 'PERSON',\n",
       "   'confidence': 0.9650894999504089},\n",
       "  {'text': 'Australia',\n",
       "   'start_pos': 33,\n",
       "   'end_pos': 42,\n",
       "   'type': 'GPE',\n",
       "   'confidence': 0.9948590993881226},\n",
       "  {'text': 'four',\n",
       "   'start_pos': 67,\n",
       "   'end_pos': 71,\n",
       "   'type': 'CARDINAL',\n",
       "   'confidence': 0.7777217626571655},\n",
       "  {'text': 'summer',\n",
       "   'start_pos': 97,\n",
       "   'end_pos': 103,\n",
       "   'type': 'DATE',\n",
       "   'confidence': 0.9377575516700745},\n",
       "  {'text': 'Australia',\n",
       "   'start_pos': 140,\n",
       "   'end_pos': 149,\n",
       "   'type': 'GPE',\n",
       "   'confidence': 0.9992710947990417},\n",
       "  {'text': 'Sunday (November 24),',\n",
       "   'start_pos': 176,\n",
       "   'end_pos': 197,\n",
       "   'type': 'DATE',\n",
       "   'confidence': 0.7761636177698771},\n",
       "  {'text': '355,',\n",
       "   'start_pos': 229,\n",
       "   'end_pos': 233,\n",
       "   'type': 'CARDINAL',\n",
       "   'confidence': 0.45639532804489136},\n",
       "  {'text': '5',\n",
       "   'start_pos': 268,\n",
       "   'end_pos': 269,\n",
       "   'type': 'CARDINAL',\n",
       "   'confidence': 0.9856798648834229},\n",
       "  {'text': \"Pakistan's\",\n",
       "   'start_pos': 296,\n",
       "   'end_pos': 306,\n",
       "   'type': 'WORK_OF_ART',\n",
       "   'confidence': 0.5797803401947021},\n",
       "  {'text': 'fifth',\n",
       "   'start_pos': 307,\n",
       "   'end_pos': 312,\n",
       "   'type': 'ORDINAL',\n",
       "   'confidence': 0.9994852542877197},\n",
       "  {'text': 'Australia',\n",
       "   'start_pos': 352,\n",
       "   'end_pos': 361,\n",
       "   'type': 'GPE',\n",
       "   'confidence': 0.9944027066230774},\n",
       "  {'text': 'Gabba,',\n",
       "   'start_pos': 402,\n",
       "   'end_pos': 408,\n",
       "   'type': 'ORG',\n",
       "   'confidence': 0.272501140832901},\n",
       "  {'text': '1988.',\n",
       "   'start_pos': 443,\n",
       "   'end_pos': 448,\n",
       "   'type': 'DATE',\n",
       "   'confidence': 0.675993800163269}]}"
      ]
     },
     "execution_count": 9,
     "metadata": {},
     "output_type": "execute_result"
    }
   ],
   "source": [
    "s.to_dict(tag_type='ner')"
   ]
  },
  {
   "cell_type": "markdown",
   "metadata": {},
   "source": [
    "# 6)-Showing as a table"
   ]
  },
  {
   "cell_type": "code",
   "execution_count": 10,
   "metadata": {},
   "outputs": [],
   "source": [
    "data=s.to_dict(tag_type='ner')"
   ]
  },
  {
   "cell_type": "code",
   "execution_count": 11,
   "metadata": {},
   "outputs": [],
   "source": [
    "given_text=data[\"text\"]"
   ]
  },
  {
   "cell_type": "code",
   "execution_count": 12,
   "metadata": {},
   "outputs": [],
   "source": [
    "entity=data[\"entities\"]"
   ]
  },
  {
   "cell_type": "code",
   "execution_count": 13,
   "metadata": {},
   "outputs": [
    {
     "name": "stdout",
     "output_type": "stream",
     "text": [
      "{'text': 'Gabba', 'start_pos': 4, 'end_pos': 9, 'type': 'PERSON', 'confidence': 0.9650894999504089}\n",
      "{'text': 'Australia', 'start_pos': 33, 'end_pos': 42, 'type': 'GPE', 'confidence': 0.9948590993881226}\n",
      "{'text': 'four', 'start_pos': 67, 'end_pos': 71, 'type': 'CARDINAL', 'confidence': 0.7777217626571655}\n",
      "{'text': 'summer', 'start_pos': 97, 'end_pos': 103, 'type': 'DATE', 'confidence': 0.9377575516700745}\n",
      "{'text': 'Australia', 'start_pos': 140, 'end_pos': 149, 'type': 'GPE', 'confidence': 0.9992710947990417}\n",
      "{'text': 'Sunday (November 24),', 'start_pos': 176, 'end_pos': 197, 'type': 'DATE', 'confidence': 0.7761636177698771}\n",
      "{'text': '355,', 'start_pos': 229, 'end_pos': 233, 'type': 'CARDINAL', 'confidence': 0.45639532804489136}\n",
      "{'text': '5', 'start_pos': 268, 'end_pos': 269, 'type': 'CARDINAL', 'confidence': 0.9856798648834229}\n",
      "{'text': \"Pakistan's\", 'start_pos': 296, 'end_pos': 306, 'type': 'WORK_OF_ART', 'confidence': 0.5797803401947021}\n",
      "{'text': 'fifth', 'start_pos': 307, 'end_pos': 312, 'type': 'ORDINAL', 'confidence': 0.9994852542877197}\n",
      "{'text': 'Australia', 'start_pos': 352, 'end_pos': 361, 'type': 'GPE', 'confidence': 0.9944027066230774}\n",
      "{'text': 'Gabba,', 'start_pos': 402, 'end_pos': 408, 'type': 'ORG', 'confidence': 0.272501140832901}\n",
      "{'text': '1988.', 'start_pos': 443, 'end_pos': 448, 'type': 'DATE', 'confidence': 0.675993800163269}\n"
     ]
    }
   ],
   "source": [
    "for type in entity:\n",
    "    print(type)"
   ]
  },
  {
   "cell_type": "code",
   "execution_count": 14,
   "metadata": {},
   "outputs": [
    {
     "data": {
      "text/html": [
       "<div>\n",
       "<style scoped>\n",
       "    .dataframe tbody tr th:only-of-type {\n",
       "        vertical-align: middle;\n",
       "    }\n",
       "\n",
       "    .dataframe tbody tr th {\n",
       "        vertical-align: top;\n",
       "    }\n",
       "\n",
       "    .dataframe thead th {\n",
       "        text-align: right;\n",
       "    }\n",
       "</style>\n",
       "<table border=\"1\" class=\"dataframe\">\n",
       "  <thead>\n",
       "    <tr style=\"text-align: right;\">\n",
       "      <th></th>\n",
       "      <th>text</th>\n",
       "      <th>type</th>\n",
       "      <th>confidence</th>\n",
       "    </tr>\n",
       "  </thead>\n",
       "  <tbody>\n",
       "    <tr>\n",
       "      <th>0</th>\n",
       "      <td>Gabba</td>\n",
       "      <td>PERSON</td>\n",
       "      <td>0.965089</td>\n",
       "    </tr>\n",
       "    <tr>\n",
       "      <th>1</th>\n",
       "      <td>Australia</td>\n",
       "      <td>GPE</td>\n",
       "      <td>0.994859</td>\n",
       "    </tr>\n",
       "    <tr>\n",
       "      <th>2</th>\n",
       "      <td>four</td>\n",
       "      <td>CARDINAL</td>\n",
       "      <td>0.777722</td>\n",
       "    </tr>\n",
       "    <tr>\n",
       "      <th>3</th>\n",
       "      <td>summer</td>\n",
       "      <td>DATE</td>\n",
       "      <td>0.937758</td>\n",
       "    </tr>\n",
       "    <tr>\n",
       "      <th>4</th>\n",
       "      <td>Australia</td>\n",
       "      <td>GPE</td>\n",
       "      <td>0.999271</td>\n",
       "    </tr>\n",
       "    <tr>\n",
       "      <th>5</th>\n",
       "      <td>Sunday (November 24),</td>\n",
       "      <td>DATE</td>\n",
       "      <td>0.776164</td>\n",
       "    </tr>\n",
       "    <tr>\n",
       "      <th>6</th>\n",
       "      <td>355,</td>\n",
       "      <td>CARDINAL</td>\n",
       "      <td>0.456395</td>\n",
       "    </tr>\n",
       "    <tr>\n",
       "      <th>7</th>\n",
       "      <td>5</td>\n",
       "      <td>CARDINAL</td>\n",
       "      <td>0.985680</td>\n",
       "    </tr>\n",
       "    <tr>\n",
       "      <th>8</th>\n",
       "      <td>Pakistan's</td>\n",
       "      <td>WORK_OF_ART</td>\n",
       "      <td>0.579780</td>\n",
       "    </tr>\n",
       "    <tr>\n",
       "      <th>9</th>\n",
       "      <td>fifth</td>\n",
       "      <td>ORDINAL</td>\n",
       "      <td>0.999485</td>\n",
       "    </tr>\n",
       "    <tr>\n",
       "      <th>10</th>\n",
       "      <td>Australia</td>\n",
       "      <td>GPE</td>\n",
       "      <td>0.994403</td>\n",
       "    </tr>\n",
       "    <tr>\n",
       "      <th>11</th>\n",
       "      <td>Gabba,</td>\n",
       "      <td>ORG</td>\n",
       "      <td>0.272501</td>\n",
       "    </tr>\n",
       "    <tr>\n",
       "      <th>12</th>\n",
       "      <td>1988.</td>\n",
       "      <td>DATE</td>\n",
       "      <td>0.675994</td>\n",
       "    </tr>\n",
       "  </tbody>\n",
       "</table>\n",
       "</div>"
      ],
      "text/plain": [
       "                     text         type  confidence\n",
       "0                   Gabba       PERSON    0.965089\n",
       "1               Australia          GPE    0.994859\n",
       "2                    four     CARDINAL    0.777722\n",
       "3                  summer         DATE    0.937758\n",
       "4               Australia          GPE    0.999271\n",
       "5   Sunday (November 24),         DATE    0.776164\n",
       "6                    355,     CARDINAL    0.456395\n",
       "7                       5     CARDINAL    0.985680\n",
       "8              Pakistan's  WORK_OF_ART    0.579780\n",
       "9                   fifth      ORDINAL    0.999485\n",
       "10              Australia          GPE    0.994403\n",
       "11                 Gabba,          ORG    0.272501\n",
       "12                  1988.         DATE    0.675994"
      ]
     },
     "execution_count": 14,
     "metadata": {},
     "output_type": "execute_result"
    }
   ],
   "source": [
    "pd.DataFrame(entity, columns=[\"text\",\"type\",\"confidence\"])"
   ]
  },
  {
   "cell_type": "markdown",
   "metadata": {},
   "source": [
    "# 7)- Submitting results as json image"
   ]
  },
  {
   "cell_type": "code",
   "execution_count": 15,
   "metadata": {},
   "outputs": [],
   "source": [
    "df_ent=pd.DataFrame(entity, columns=[\"text\",\"type\",\"confidence\"])"
   ]
  },
  {
   "cell_type": "code",
   "execution_count": 16,
   "metadata": {},
   "outputs": [],
   "source": [
    "df_ent.to_json('entity_extraction.json')"
   ]
  }
 ],
 "metadata": {
  "kernelspec": {
   "display_name": "Python 3.7 (tensorflow)",
   "language": "python",
   "name": "tensorflow"
  },
  "language_info": {
   "codemirror_mode": {
    "name": "ipython",
    "version": 3
   },
   "file_extension": ".py",
   "mimetype": "text/x-python",
   "name": "python",
   "nbconvert_exporter": "python",
   "pygments_lexer": "ipython3",
   "version": "3.7.5"
  }
 },
 "nbformat": 4,
 "nbformat_minor": 2
}
